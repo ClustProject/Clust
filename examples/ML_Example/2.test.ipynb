{
 "cells": [
  {
   "cell_type": "markdown",
   "id": "2430c1f9",
   "metadata": {},
   "source": [
    "# < TEST >"
   ]
  },
  {
   "cell_type": "markdown",
   "id": "2d3ccac9",
   "metadata": {},
   "source": [
    "## 목차\n",
    "## 1. Data Preparation\n",
    "## 2. Set Parameter for test\n",
    "## 3. test"
   ]
  },
  {
   "cell_type": "markdown",
   "id": "9172f07a",
   "metadata": {},
   "source": [
    "### 1번 부분은 KETI에서 해당 코드가 잘 돌아가는지 확인하려고 만든 Data 가져오기 및 전처리 부분\n",
    "### 이미 데이터를 준비했다면 2번으로 넘겨도 무방함"
   ]
  },
  {
   "cell_type": "code",
   "execution_count": 2,
   "id": "f0bad6d0",
   "metadata": {},
   "outputs": [
    {
     "name": "stdout",
     "output_type": "stream",
     "text": [
      "cpu is available.\n",
      "cpu is available.\n"
     ]
    }
   ],
   "source": [
    "# setting\n",
    "import sys, os\n",
    "import pandas as pd\n",
    "import torch\n",
    "\n",
    "sys.path.append(\"../\")\n",
    "sys.path.append(\"../../\")\n",
    "sys.path.append(\"../../../\")\n",
    "sys.path.append(\"../../../../\")\n",
    "\n",
    "from Clust.clust.ML.tool import meta as ml_meta\n",
    "from Clust.clust.ML.tool import model as ml_model\n",
    "from Clust.clust.ML.common import ML_api\n",
    "from Clust.clust.ML.common import ML_pipeline, tool\n",
    "\n",
    "from Clust.setting import influx_setting_KETI as ins\n",
    "from Clust.clust.ingestion.influx import influx_client_v2 as influx_Client\n",
    "from Clust.clust.ingestion.mongo.mongo_client import MongoClient\n",
    "\n",
    "db_client = influx_Client.InfluxClient(ins.CLUSTDataServer2)\n",
    "mongo_client = MongoClient(ins.CLUSTMetaInfo2)\n",
    "\n",
    "device = \"cuda\" if torch.cuda.is_available() else \"cpu\"\n",
    "print(f\"{device}\" \" is available.\")"
   ]
  },
  {
   "cell_type": "markdown",
   "id": "bdc1a72d",
   "metadata": {},
   "source": [
    "## Data Preparation (optional) \n",
    "### - Data가 준비되었다면 해당 부분을 스킵해도 무방함"
   ]
  },
  {
   "cell_type": "markdown",
   "id": "8cffae1e",
   "metadata": {},
   "source": [
    "### 1-1. Data Parameter Setting"
   ]
  },
  {
   "cell_type": "code",
   "execution_count": 19,
   "id": "eb1187fe",
   "metadata": {},
   "outputs": [],
   "source": [
    "model_purpose = 'regression'\n",
    "data_name_X = 'regression_energy_cleanLevel4_testX'\n",
    "feature_X_list = ['Press_mm_hg', 'RH_1', 'RH_2', 'RH_3', 'RH_4', 'RH_5', 'RH_6', 'RH_7',\n",
    "   'RH_8', 'RH_9', 'RH_out', 'T1', 'T2', 'T3', 'T4', 'T5', 'T6', 'T7',\n",
    "   'T8', 'T9', 'T_out', 'Tdewpoint', 'Visibility', 'Windspeed']\n",
    "data_name_y = 'regression_energy_cleanLevel4_testy'\n",
    "feature_y_list = ['value']\n",
    "split_mode =\"window_split\"\n",
    "data_y_flag = True # 이미 만들어진 Y 데이터를 활용함\n",
    "scaler_param={\n",
    "    'scaler_flag':'scale', #scale_param,\n",
    "    'scale_method' :'minmax',\n",
    "    'scaler_path' :'./scaler/'\n",
    "}\n",
    "transform_param={'split_mode': 'window_split',\n",
    " 'data_clean_option': False,\n",
    " 'nan_process_info': {'type': 'num',\n",
    "  'ConsecutiveNanLimit': 10000,\n",
    "  'totalNaNLimit': 100000},\n",
    " 'max_nan_limit_ratio': 0.5,\n",
    " 'future_step': None,\n",
    " 'past_step': 144}\n",
    "    \n",
    "bucket_name = 'integration' \n",
    "data_clean_level = 4\n",
    "\n",
    "model_name = 'regression_model_test'"
   ]
  },
  {
   "cell_type": "markdown",
   "id": "aace073d",
   "metadata": {},
   "source": [
    "### 1-2. Data Ingestion\n",
    "#### 1-2-1. Select data name "
   ]
  },
  {
   "cell_type": "code",
   "execution_count": 7,
   "id": "107b226a",
   "metadata": {},
   "outputs": [],
   "source": [
    "# Data Ingestion\n",
    "ingestion_method = 'ms_all'\n",
    "ingestion_param_X = {\n",
    "    \"bucket_name\" : bucket_name,\n",
    "    'ms_name' : data_name_X,\n",
    "    'feature_list' : feature_X_list                              \n",
    "}\n",
    "ingestion_param_y = {\n",
    "    \"bucket_name\" : bucket_name,\n",
    "    'ms_name' : data_name_y,\n",
    "    'feature_list' : feature_y_list                              \n",
    "}"
   ]
  },
  {
   "cell_type": "code",
   "execution_count": 9,
   "id": "a65c0124",
   "metadata": {},
   "outputs": [
    {
     "name": "stdout",
     "output_type": "stream",
     "text": [
      "{'bucket_name': 'integration', 'ms_name': 'regression_energy_cleanLevel4_testX', 'feature_list': ['Press_mm_hg', 'RH_1', 'RH_2', 'RH_3', 'RH_4', 'RH_5', 'RH_6', 'RH_7', 'RH_8', 'RH_9', 'RH_out', 'T1', 'T2', 'T3', 'T4', 'T5', 'T6', 'T7', 'T8', 'T9', 'T_out', 'Tdewpoint', 'Visibility', 'Windspeed']}\n"
     ]
    }
   ],
   "source": [
    "data_X, data_y = ML_pipeline.Xy_data_preparation(ingestion_param_X, data_y_flag, ingestion_param_y, ingestion_method, db_client)"
   ]
  },
  {
   "cell_type": "code",
   "execution_count": 15,
   "id": "200b7d20",
   "metadata": {},
   "outputs": [],
   "source": [
    "X_scaler_file_path = './scaler/regression_energy_cleanLevel4_trainX/minmax/900878d7bba6f2a4017d1c3399909ea7/scaler.pkl'\n",
    "y_scaler_file_path = './scaler/regression_energy_cleanLevel4_trainy/minmax/f69156750a210491ffd4a67b605bc88b/scaler.pkl'"
   ]
  },
  {
   "cell_type": "code",
   "execution_count": 16,
   "id": "deea4380",
   "metadata": {},
   "outputs": [],
   "source": [
    "test_X, scaler_X , test_y, scaler_y  = ML_pipeline.Xy_data_scaling_test(data_X, data_y, X_scaler_file_path, y_scaler_file_path, 'scale')"
   ]
  },
  {
   "cell_type": "code",
   "execution_count": 20,
   "id": "a102ede2",
   "metadata": {},
   "outputs": [
    {
     "name": "stdout",
     "output_type": "stream",
     "text": [
      "window_size: 144 nan_limit_num: 72\n",
      "(6048, 24) (42, 144, 24)\n",
      "(42, 1) (42, 1)\n"
     ]
    }
   ],
   "source": [
    "test_X_array, test_y_array = ML_pipeline.transform_data_by_split_mode(transform_param, test_X, test_y)"
   ]
  },
  {
   "cell_type": "code",
   "execution_count": null,
   "id": "6b3c503d",
   "metadata": {},
   "outputs": [],
   "source": []
  },
  {
   "cell_type": "markdown",
   "id": "dd6713b9",
   "metadata": {},
   "source": [
    "## 2. Set Parameter for test"
   ]
  },
  {
   "cell_type": "code",
   "execution_count": 21,
   "id": "6117898e",
   "metadata": {},
   "outputs": [],
   "source": [
    "model_method = 'LSTM_rg'\n",
    "model_file_path = './Models/LSTM_rg/model/regression_model_test/model.pkl'"
   ]
  },
  {
   "cell_type": "code",
   "execution_count": 22,
   "id": "b64248b0",
   "metadata": {},
   "outputs": [],
   "source": [
    "model_parameter = {'rnn_type': 'lstm',\n",
    " 'input_size': 24,\n",
    " 'hidden_size': 64,\n",
    " 'num_layers': 2,\n",
    " 'output_dim': 1,\n",
    " 'dropout': 0.1,\n",
    " 'bidirectional': True}\n",
    "\n",
    "test_parameter = {\n",
    " 'batch_size': 16,\n",
    " 'device': 'cpu'}"
   ]
  },
  {
   "cell_type": "markdown",
   "id": "1ee367ca",
   "metadata": {},
   "source": [
    "## 3.Training"
   ]
  },
  {
   "cell_type": "code",
   "execution_count": 23,
   "id": "2e5639d4",
   "metadata": {},
   "outputs": [
    {
     "name": "stdout",
     "output_type": "stream",
     "text": [
      "features shape: torch.Size([42, 144, 24]) targets shape:  torch.Size([42, 1])\n",
      "\n",
      "Start testing data\n",
      "\n"
     ]
    }
   ],
   "source": [
    "from Clust.clust.ML.regression.test import RegressionTest as RT\n",
    "rt = RT()\n",
    "rt.set_param(test_parameter)\n",
    "rt.set_model(model_method, model_file_path, model_parameter)\n",
    "rt.set_data(test_X_array, test_y_array)\n",
    "preds, trues = rt.test()"
   ]
  },
  {
   "cell_type": "code",
   "execution_count": 24,
   "id": "fb974425",
   "metadata": {},
   "outputs": [
    {
     "data": {
      "text/plain": [
       "array([0.45214742, 0.42449582, 0.39591122, 0.4268586 , 0.421584  ,\n",
       "       0.39749128, 0.46048933, 0.46532404, 0.41883674, 0.44895104,\n",
       "       0.431727  , 0.45729762, 0.4393112 , 0.53000563, 0.47244903,\n",
       "       0.45280516, 0.38209456, 0.46500045, 0.44586635, 0.44806308,\n",
       "       0.39295202, 0.4301445 , 0.46060455, 0.4090194 , 0.3224043 ,\n",
       "       0.40175235, 0.4556175 , 0.49198264, 0.4605772 , 0.42560047,\n",
       "       0.4956373 , 0.39563572], dtype=float32)"
      ]
     },
     "execution_count": 24,
     "metadata": {},
     "output_type": "execute_result"
    }
   ],
   "source": [
    "preds"
   ]
  },
  {
   "cell_type": "code",
   "execution_count": 25,
   "id": "cae95d04",
   "metadata": {},
   "outputs": [
    {
     "data": {
      "text/plain": [
       "array([0.5744986 , 0.73113656, 0.2903534 , 0.25501433, 0.33906394,\n",
       "       0.27841452, 0.89684814, 0.2698185 , 0.40210125, 0.44030565,\n",
       "       0.4598854 , 0.38634193, 0.29751667, 0.1905444 , 0.4890162 ,\n",
       "       0.7445081 , 0.317574  , 0.47898754, 0.24498567, 0.43314227,\n",
       "       0.23018146, 0.46704867, 0.3333333 , 0.2445081 , 0.4641834 ,\n",
       "       0.20725884, 0.25549185, 0.59503335, 0.25549185, 0.5596943 ,\n",
       "       0.74212027, 0.265043  ], dtype=float32)"
      ]
     },
     "execution_count": 25,
     "metadata": {},
     "output_type": "execute_result"
    }
   ],
   "source": [
    "trues"
   ]
  },
  {
   "cell_type": "code",
   "execution_count": null,
   "id": "e42ad482",
   "metadata": {},
   "outputs": [],
   "source": []
  },
  {
   "cell_type": "markdown",
   "id": "7f8a0b38",
   "metadata": {},
   "source": [
    "## graph & metrix\n",
    "### optional - 결과 확인용"
   ]
  },
  {
   "cell_type": "code",
   "execution_count": 26,
   "id": "2a268ef0",
   "metadata": {},
   "outputs": [
    {
     "name": "stdout",
     "output_type": "stream",
     "text": [
      "(42, 144, 24) (42, 1)\n",
      "(32,) (32,)\n",
      "{'scaler_flag': 'scale', 'scale_method': 'minmax', 'scaler_path': './scaler/'}\n"
     ]
    }
   ],
   "source": [
    "print(test_X_array.shape, test_y_array.shape)\n",
    "print(preds.shape, trues.shape)\n",
    "target = feature_y_list[0]\n",
    "scaler, feature_list = ML_pipeline.get_scaler_information_by_y_flag(data_y_flag, scaler_X, scaler_y, feature_X_list, feature_y_list)\n",
    "df_result, result_metrics = ML_pipeline.get_final_metrics(preds, trues, scaler_param, scaler, feature_list, target)"
   ]
  },
  {
   "cell_type": "code",
   "execution_count": 29,
   "id": "e751e6dc",
   "metadata": {},
   "outputs": [
    {
     "name": "stdout",
     "output_type": "stream",
     "text": [
      "       value  prediction\n",
      "0   0.574499    0.452147\n",
      "1   0.731137    0.424496\n",
      "2   0.290353    0.395911\n",
      "3   0.255014    0.426859\n",
      "4   0.339064    0.421584\n",
      "5   0.278415    0.397491\n",
      "6   0.896848    0.460489\n",
      "7   0.269819    0.465324\n",
      "8   0.402101    0.418837\n",
      "9   0.440306    0.448951\n",
      "10  0.459885    0.431727\n",
      "11  0.386342    0.457298\n",
      "12  0.297517    0.439311\n",
      "13  0.190544    0.530006\n",
      "14  0.489016    0.472449\n",
      "15  0.744508    0.452805\n",
      "16  0.317574    0.382095\n",
      "17  0.478988    0.465000\n",
      "18  0.244986    0.445866\n",
      "19  0.433142    0.448063\n",
      "20  0.230181    0.392952\n",
      "21  0.467049    0.430144\n",
      "22  0.333333    0.460605\n",
      "23  0.244508    0.409019\n",
      "24  0.464183    0.322404\n",
      "25  0.207259    0.401752\n",
      "26  0.255492    0.455617\n",
      "27  0.595033    0.491983\n",
      "28  0.255492    0.460577\n",
      "29  0.559694    0.425600\n",
      "30  0.742120    0.495637\n",
      "31  0.265043    0.395636\n",
      "{'mae': 0.14360458, 'rmse': 0.1757732177594649, 'r2': 0.030879549636312897, 'mape': 42.303115129470825}\n"
     ]
    },
    {
     "data": {
      "text/plain": [
       "<Axes: >"
      ]
     },
     "execution_count": 29,
     "metadata": {},
     "output_type": "execute_result"
    },
    {
     "data": {
      "image/png": "[encoded data removed]",
      "text/plain": [
       "<Figure size 640x480 with 1 Axes>"
      ]
     },
     "metadata": {},
     "output_type": "display_data"
    }
   ],
   "source": [
    "print(df_result)\n",
    "print(result_metrics)\n",
    "df_result.plot()"
   ]
  },
  {
   "cell_type": "code",
   "execution_count": null,
   "id": "91d52299",
   "metadata": {},
   "outputs": [],
   "source": []
  },
  {
   "cell_type": "code",
   "execution_count": null,
   "id": "23670517",
   "metadata": {},
   "outputs": [],
   "source": []
  },
  {
   "cell_type": "code",
   "execution_count": null,
   "id": "e67aa48e",
   "metadata": {},
   "outputs": [],
   "source": []
  }
 ],
 "metadata": {
  "kernelspec": {
   "display_name": "Python 3 (ipykernel)",
   "language": "python",
   "name": "python3"
  },
  "language_info": {
   "codemirror_mode": {
    "name": "ipython",
    "version": 3
   },
   "file_extension": ".py",
   "mimetype": "text/x-python",
   "name": "python",
   "nbconvert_exporter": "python",
   "pygments_lexer": "ipython3",
   "version": "3.8.8"
  }
 },
 "nbformat": 4,
 "nbformat_minor": 5
}
