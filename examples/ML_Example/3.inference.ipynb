{
 "cells": [
  {
   "cell_type": "markdown",
   "id": "658e27b6",
   "metadata": {},
   "source": [
    "# < Inference >"
   ]
  },
  {
   "cell_type": "markdown",
   "id": "124e253d",
   "metadata": {},
   "source": [
    "## 목차\n",
    "## 1. Data Preparation\n",
    "## 2. Set Parameter for inference\n",
    "## 3. inference"
   ]
  },
  {
   "cell_type": "markdown",
   "id": "9d354c90",
   "metadata": {},
   "source": [
    "### 1번 부분은 KETI에서 해당 코드가 잘 돌아가는지 확인하려고 만든 Data 가져오기 및 전처리 부분\n",
    "### 이미 데이터를 준비했다면 2번으로 넘겨도 무방함"
   ]
  },
  {
   "cell_type": "code",
   "execution_count": 1,
   "id": "a31c6d7c",
   "metadata": {},
   "outputs": [
    {
     "name": "stdout",
     "output_type": "stream",
     "text": [
      "cpu is available.\n",
      "cpu is available.\n"
     ]
    }
   ],
   "source": [
    "# setting\n",
    "import sys, os\n",
    "import pandas as pd\n",
    "import torch\n",
    "\n",
    "sys.path.append(\"../\")\n",
    "sys.path.append(\"../../\")\n",
    "sys.path.append(\"../../../\")\n",
    "sys.path.append(\"../../../../\")\n",
    "\n",
    "from Clust.clust.ML.tool import meta as ml_meta\n",
    "from Clust.clust.ML.tool import model as ml_model\n",
    "from Clust.clust.ML.tool import scaler as ml_scaler\n",
    "from Clust.clust.ML.common import ML_api\n",
    "from Clust.clust.ML.common import ML_pipeline, tool\n",
    "\n",
    "from Clust.setting import influx_setting_KETI as ins\n",
    "from Clust.clust.ingestion.influx import influx_client_v2 as influx_Client\n",
    "from Clust.clust.ingestion.mongo.mongo_client import MongoClient\n",
    "\n",
    "db_client = influx_Client.InfluxClient(ins.CLUSTDataServer2)\n",
    "mongo_client = MongoClient(ins.CLUSTMetaInfo2)\n",
    "\n",
    "device = \"cuda\" if torch.cuda.is_available() else \"cpu\"\n",
    "print(f\"{device}\" \" is available.\")"
   ]
  },
  {
   "cell_type": "markdown",
   "id": "3cd3ecfd",
   "metadata": {},
   "source": [
    "## Data Preparation (optional) \n",
    "### - Data가 준비되었다면 해당 부분을 스킵해도 무방함"
   ]
  },
  {
   "cell_type": "markdown",
   "id": "fc77f97d",
   "metadata": {},
   "source": [
    "### 1-1. Data Parameter Setting"
   ]
  },
  {
   "cell_type": "code",
   "execution_count": 2,
   "id": "f307ea1c",
   "metadata": {},
   "outputs": [],
   "source": [
    "model_purpose = 'regression'\n",
    "data_name_X = 'regression_energy_cleanLevel4_testX'\n",
    "feature_X_list = ['Press_mm_hg', 'RH_1', 'RH_2', 'RH_3', 'RH_4', 'RH_5', 'RH_6', 'RH_7',\n",
    "   'RH_8', 'RH_9', 'RH_out', 'T1', 'T2', 'T3', 'T4', 'T5', 'T6', 'T7',\n",
    "   'T8', 'T9', 'T_out', 'Tdewpoint', 'Visibility', 'Windspeed']\n",
    "data_name_y = 'regression_energy_cleanLevel4_testy'\n",
    "feature_y_list = ['value']\n",
    "split_mode =\"window_split\"\n",
    "data_y_flag = True # 이미 만들어진 Y 데이터를 활용함\n",
    "scaler_param={\n",
    "    'scaler_flag':'scale', #scale_param,\n",
    "    'scale_method' :'minmax',\n",
    "    'scaler_path' :'./scaler/'\n",
    "}\n",
    "transform_param={'split_mode': 'window_split',\n",
    " 'data_clean_option': False,\n",
    " 'nan_process_info': {'type': 'num',\n",
    "  'ConsecutiveNanLimit': 10000,\n",
    "  'totalNaNLimit': 100000},\n",
    " 'max_nan_limit_ratio': 0.5,\n",
    " 'future_step': None,\n",
    " 'past_step': 144}\n",
    "    \n",
    "bucket_name = 'integration' \n",
    "data_clean_level = 4\n",
    "\n",
    "model_name = 'regression_model_test'"
   ]
  },
  {
   "cell_type": "code",
   "execution_count": 3,
   "id": "38956713",
   "metadata": {},
   "outputs": [
    {
     "data": {
      "text/plain": [
       "(144, 24)"
      ]
     },
     "execution_count": 3,
     "metadata": {},
     "output_type": "execute_result"
    }
   ],
   "source": [
    "import numpy as np\n",
    "np_data = np.load('infer_regression_array.npy') # infer_regression_array , infer_forecasting_array , infer_classification_array\n",
    "infer_np = np_data[0]\n",
    "infer_np.shape"
   ]
  },
  {
   "cell_type": "code",
   "execution_count": 4,
   "id": "69be778c",
   "metadata": {},
   "outputs": [],
   "source": [
    "X_scaler_file_path = './scaler/regression_energy_cleanLevel4_trainX/minmax/900878d7bba6f2a4017d1c3399909ea7/scaler.pkl'\n",
    "y_scaler_file_path = './scaler/regression_energy_cleanLevel4_trainy/minmax/f69156750a210491ffd4a67b605bc88b/scaler.pkl'"
   ]
  },
  {
   "cell_type": "code",
   "execution_count": 7,
   "id": "093df401",
   "metadata": {},
   "outputs": [
    {
     "name": "stderr",
     "output_type": "stream",
     "text": [
      "/home/leezy/anaconda3/lib/python3.8/site-packages/sklearn/base.py:439: UserWarning: X does not have valid feature names, but MinMaxScaler was fitted with feature names\n",
      "  warnings.warn(\n"
     ]
    }
   ],
   "source": [
    "infer_X, scaler_X = ML_api.get_scaled_infer_data(infer_np, X_scaler_file_path, scaler_param['scaler_flag'])\n",
    "scaler_y = ml_scaler.get_scaler_file(y_scaler_file_path)"
   ]
  },
  {
   "cell_type": "code",
   "execution_count": 8,
   "id": "a11b2b79",
   "metadata": {},
   "outputs": [],
   "source": [
    "# test X, y는 np.array 형태"
   ]
  },
  {
   "cell_type": "markdown",
   "id": "10a86717",
   "metadata": {},
   "source": [
    "## 2. Set Parameter for test"
   ]
  },
  {
   "cell_type": "code",
   "execution_count": 9,
   "id": "7cd91755",
   "metadata": {},
   "outputs": [],
   "source": [
    "model_method = 'LSTM_rg'\n",
    "model_file_path = './Models/LSTM_rg/model/regression_model_test/model.pkl'"
   ]
  },
  {
   "cell_type": "code",
   "execution_count": 10,
   "id": "0b7bde78",
   "metadata": {},
   "outputs": [],
   "source": [
    "model_parameter = {'rnn_type': 'lstm',\n",
    " 'input_size': 24,\n",
    " 'hidden_size': 64,\n",
    " 'num_layers': 2,\n",
    " 'output_dim': 1,\n",
    " 'dropout': 0.1,\n",
    " 'bidirectional': True}\n",
    "\n",
    "inference_parameter = {\n",
    " 'batch_size': 1,\n",
    " 'device': 'cpu'}"
   ]
  },
  {
   "cell_type": "code",
   "execution_count": 11,
   "id": "03d65796",
   "metadata": {},
   "outputs": [
    {
     "name": "stdout",
     "output_type": "stream",
     "text": [
      "inference data shape: torch.Size([144, 24])\n",
      "\n",
      "Start inference\n",
      "\n",
      "** Dimension of result for inference dataset = (144,)\n"
     ]
    }
   ],
   "source": [
    "from Clust.clust.ML.regression.inference import RegressionInference as RI\n",
    "\n",
    "ri = RI()\n",
    "ri.set_param(inference_parameter)\n",
    "ri.set_model(model_method, model_file_path, model_parameter)\n",
    "ri.set_data(infer_X)\n",
    "preds = ri.inference()"
   ]
  },
  {
   "cell_type": "code",
   "execution_count": 12,
   "id": "27ed433f",
   "metadata": {},
   "outputs": [
    {
     "data": {
      "text/plain": [
       "array([-0.04946525, -0.04946231, -0.04945976, -0.04945721, -0.04945368,\n",
       "       -0.04945047, -0.0494456 , -0.04944627, -0.04944931, -0.04944698,\n",
       "       -0.04943548, -0.04943188, -0.04943396, -0.04943581, -0.04944421,\n",
       "       -0.0494466 , -0.04944701, -0.04945032, -0.0494481 , -0.049438  ,\n",
       "       -0.04942708, -0.04941146, -0.0493961 , -0.04938269, -0.04938349,\n",
       "       -0.04938563, -0.04938616, -0.04936212, -0.04936142, -0.04936509,\n",
       "       -0.04936063, -0.04937427, -0.04938456, -0.04938459, -0.04938224,\n",
       "       -0.04938222, -0.04938002, -0.04937924, -0.04937796, -0.0493769 ,\n",
       "       -0.04937708, -0.04937531, -0.04937454, -0.04937967, -0.04938263,\n",
       "       -0.0493906 , -0.04939671, -0.04940047, -0.0494082 , -0.04940781,\n",
       "       -0.04940677, -0.04940832, -0.04940933, -0.04940929, -0.0494069 ,\n",
       "       -0.04941256, -0.0494165 , -0.04941917, -0.04942086, -0.04942305,\n",
       "       -0.0494267 , -0.04942988, -0.04942913, -0.04943046, -0.0494325 ,\n",
       "       -0.04943447, -0.04943401, -0.04943559, -0.04943706, -0.0494417 ,\n",
       "       -0.04944595, -0.04944742, -0.04944721, -0.04944892, -0.04945086,\n",
       "       -0.04945034, -0.04945276, -0.04945255, -0.04945491, -0.04945306,\n",
       "       -0.04944983, -0.04944792, -0.04944456, -0.04944169, -0.04944355,\n",
       "       -0.0494413 , -0.04944009, -0.0494396 , -0.04943824, -0.04943814,\n",
       "       -0.04943702, -0.04943013, -0.04941528, -0.04940787, -0.04940385,\n",
       "       -0.04939715, -0.04940073, -0.04940407, -0.04941089, -0.04941353,\n",
       "       -0.04941958, -0.04942214, -0.04942408, -0.04942173, -0.04941627,\n",
       "       -0.04941559, -0.04941332, -0.04941525, -0.04941591, -0.04941795,\n",
       "       -0.04941911, -0.04942038, -0.04942185, -0.04942699, -0.04942995,\n",
       "       -0.04943421, -0.04944023, -0.04944246, -0.04945011, -0.04945615,\n",
       "       -0.04946277, -0.04945926, -0.04945446, -0.04944971, -0.04945123,\n",
       "       -0.04944067, -0.04943342, -0.04943901, -0.04944192, -0.04944673,\n",
       "       -0.04945405, -0.04946145, -0.04946829, -0.04946855, -0.04946651,\n",
       "       -0.04946437, -0.04946052, -0.04945531, -0.04944716, -0.04944567,\n",
       "       -0.0494473 , -0.04944634, -0.04944806, -0.04944927], dtype=float32)"
      ]
     },
     "execution_count": 12,
     "metadata": {},
     "output_type": "execute_result"
    }
   ],
   "source": [
    "preds"
   ]
  },
  {
   "cell_type": "markdown",
   "id": "07146eee",
   "metadata": {},
   "source": [
    "### (Optional) Inverse Transform"
   ]
  },
  {
   "cell_type": "code",
   "execution_count": 13,
   "id": "90cf392d",
   "metadata": {},
   "outputs": [],
   "source": [
    "target = feature_y_list\n",
    "\n",
    "if scaler_param['scaler_flag'] =='scale':\n",
    "    base_df_for_inverse = pd.DataFrame(columns=target, index=range(len(preds)))\n",
    "    base_df_for_inverse[target[0]] = preds\n",
    "    prediction_result = pd.DataFrame(scaler_y.inverse_transform(base_df_for_inverse), columns=target, index=base_df_for_inverse.index)\n",
    "else:\n",
    "    prediction_result = pd.DataFrame(data={\"value\": preds}, index=range(len(preds)))"
   ]
  },
  {
   "cell_type": "code",
   "execution_count": 14,
   "id": "5c6b7c31",
   "metadata": {},
   "outputs": [
    {
     "data": {
      "text/html": [
       "<div>\n",
       "<style scoped>\n",
       "    .dataframe tbody tr th:only-of-type {\n",
       "        vertical-align: middle;\n",
       "    }\n",
       "\n",
       "    .dataframe tbody tr th {\n",
       "        vertical-align: top;\n",
       "    }\n",
       "\n",
       "    .dataframe thead th {\n",
       "        text-align: right;\n",
       "    }\n",
       "</style>\n",
       "<table border=\"1\" class=\"dataframe\">\n",
       "  <thead>\n",
       "    <tr style=\"text-align: right;\">\n",
       "      <th></th>\n",
       "      <th>value</th>\n",
       "    </tr>\n",
       "  </thead>\n",
       "  <tbody>\n",
       "    <tr>\n",
       "      <th>0</th>\n",
       "      <td>4.304198</td>\n",
       "    </tr>\n",
       "    <tr>\n",
       "      <th>1</th>\n",
       "      <td>4.304259</td>\n",
       "    </tr>\n",
       "    <tr>\n",
       "      <th>2</th>\n",
       "      <td>4.304313</td>\n",
       "    </tr>\n",
       "    <tr>\n",
       "      <th>3</th>\n",
       "      <td>4.304366</td>\n",
       "    </tr>\n",
       "    <tr>\n",
       "      <th>4</th>\n",
       "      <td>4.304440</td>\n",
       "    </tr>\n",
       "    <tr>\n",
       "      <th>...</th>\n",
       "      <td>...</td>\n",
       "    </tr>\n",
       "    <tr>\n",
       "      <th>139</th>\n",
       "      <td>4.304608</td>\n",
       "    </tr>\n",
       "    <tr>\n",
       "      <th>140</th>\n",
       "      <td>4.304574</td>\n",
       "    </tr>\n",
       "    <tr>\n",
       "      <th>141</th>\n",
       "      <td>4.304594</td>\n",
       "    </tr>\n",
       "    <tr>\n",
       "      <th>142</th>\n",
       "      <td>4.304558</td>\n",
       "    </tr>\n",
       "    <tr>\n",
       "      <th>143</th>\n",
       "      <td>4.304533</td>\n",
       "    </tr>\n",
       "  </tbody>\n",
       "</table>\n",
       "<p>144 rows × 1 columns</p>\n",
       "</div>"
      ],
      "text/plain": [
       "        value\n",
       "0    4.304198\n",
       "1    4.304259\n",
       "2    4.304313\n",
       "3    4.304366\n",
       "4    4.304440\n",
       "..        ...\n",
       "139  4.304608\n",
       "140  4.304574\n",
       "141  4.304594\n",
       "142  4.304558\n",
       "143  4.304533\n",
       "\n",
       "[144 rows x 1 columns]"
      ]
     },
     "execution_count": 14,
     "metadata": {},
     "output_type": "execute_result"
    }
   ],
   "source": [
    "prediction_result"
   ]
  },
  {
   "cell_type": "code",
   "execution_count": null,
   "id": "65990253",
   "metadata": {},
   "outputs": [],
   "source": []
  },
  {
   "cell_type": "code",
   "execution_count": null,
   "id": "51e9f4ee",
   "metadata": {},
   "outputs": [],
   "source": []
  }
 ],
 "metadata": {
  "kernelspec": {
   "display_name": "Python 3 (ipykernel)",
   "language": "python",
   "name": "python3"
  },
  "language_info": {
   "codemirror_mode": {
    "name": "ipython",
    "version": 3
   },
   "file_extension": ".py",
   "mimetype": "text/x-python",
   "name": "python",
   "nbconvert_exporter": "python",
   "pygments_lexer": "ipython3",
   "version": "3.8.8"
  }
 },
 "nbformat": 4,
 "nbformat_minor": 5
}
