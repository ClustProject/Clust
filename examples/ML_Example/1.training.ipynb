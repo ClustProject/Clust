{
 "cells": [
  {
   "cell_type": "markdown",
   "id": "2410d434",
   "metadata": {},
   "source": [
    "# < Training >"
   ]
  },
  {
   "cell_type": "markdown",
   "id": "f026aeb6",
   "metadata": {},
   "source": [
    "## 목차\n",
    "## 1. Data Preparation\n",
    "## 2. Set Parameter for training\n",
    "## 3. Training"
   ]
  },
  {
   "cell_type": "markdown",
   "id": "f447964b",
   "metadata": {},
   "source": [
    "### 1번 부분은 KETI에서 해당 코드가 잘 돌아가는지 확인하려고 만든 Data 가져오기 및 전처리 부분\n",
    "### 이미 데이터를 준비했다면 2번으로 넘겨도 무방함"
   ]
  },
  {
   "cell_type": "code",
   "execution_count": 14,
   "id": "82e9bc5f",
   "metadata": {},
   "outputs": [
    {
     "name": "stdout",
     "output_type": "stream",
     "text": [
      "cpu is available.\n"
     ]
    }
   ],
   "source": [
    "# setting\n",
    "import sys, os\n",
    "import pandas as pd\n",
    "import torch\n",
    "\n",
    "sys.path.append(\"../\")\n",
    "sys.path.append(\"../../\")\n",
    "sys.path.append(\"../../../\")\n",
    "sys.path.append(\"../../../../\")\n",
    "\n",
    "from Clust.clust.ML.tool import meta as ml_meta\n",
    "from Clust.clust.ML.tool import model as ml_model\n",
    "from Clust.clust.ML.common import ML_api\n",
    "from Clust.clust.ML.common import ML_pipeline, tool\n",
    "\n",
    "from Clust.setting import influx_setting_KETI as ins\n",
    "from Clust.clust.ingestion.influx import influx_client_v2 as influx_Client\n",
    "from Clust.clust.ingestion.mongo.mongo_client import MongoClient\n",
    "\n",
    "db_client = influx_Client.InfluxClient(ins.CLUSTDataServer2)\n",
    "mongo_client = MongoClient(ins.CLUSTMetaInfo2)\n",
    "\n",
    "device = \"cuda\" if torch.cuda.is_available() else \"cpu\"\n",
    "print(f\"{device}\" \" is available.\")"
   ]
  },
  {
   "cell_type": "markdown",
   "id": "be508330",
   "metadata": {},
   "source": [
    "## Data Preparation (optional) \n",
    "### - Data가 준비되었다면 해당 부분을 스킵해도 무방함"
   ]
  },
  {
   "cell_type": "markdown",
   "id": "f522bd4e",
   "metadata": {},
   "source": [
    "### 1-1. Data Parameter Setting"
   ]
  },
  {
   "cell_type": "code",
   "execution_count": 15,
   "id": "a9146d07",
   "metadata": {},
   "outputs": [],
   "source": [
    "model_purpose = 'regression'\n",
    "data_name_X = 'regression_energy_cleanLevel4_trainX'\n",
    "feature_X_list = ['Press_mm_hg', 'RH_1', 'RH_2', 'RH_3', 'RH_4', 'RH_5', 'RH_6', 'RH_7',\n",
    "   'RH_8', 'RH_9', 'RH_out', 'T1', 'T2', 'T3', 'T4', 'T5', 'T6', 'T7',\n",
    "   'T8', 'T9', 'T_out', 'Tdewpoint', 'Visibility', 'Windspeed']\n",
    "data_name_y = 'regression_energy_cleanLevel4_trainy'\n",
    "feature_y_list = ['value']\n",
    "split_mode =\"window_split\"\n",
    "data_y_flag = True # 이미 만들어진 Y 데이터를 활용함\n",
    "scaler_param={\n",
    "    'scaler_flag':'scale', #scale_param,\n",
    "    'scale_method' :'minmax',\n",
    "    'scaler_path' :'./scaler/'\n",
    "}\n",
    "transform_param={\n",
    "    'split_mode' : 'window_split', # 현재 data_y_flag=Ture --> 모두 window_split # data_y = False --> step_split\n",
    "    #step_split일 경우만 past_step과 future_step이 존재\n",
    "    'data_clean_option' : False,\n",
    "    'nan_process_info' :'',\n",
    "    'max_nan_limit_ratio': ''\n",
    "}\n",
    "    \n",
    "bucket_name = 'integration' \n",
    "data_clean_level = 4"
   ]
  },
  {
   "cell_type": "markdown",
   "id": "b83ddb43",
   "metadata": {},
   "source": [
    "### 1-2. Data Ingestion\n",
    "#### 1-2-1. Select data name "
   ]
  },
  {
   "cell_type": "code",
   "execution_count": 16,
   "id": "2281da9a",
   "metadata": {},
   "outputs": [],
   "source": [
    "# Data Ingestion\n",
    "ingestion_method = 'ms_all'\n",
    "ingestion_param_X = {\n",
    "    \"bucket_name\" : bucket_name,\n",
    "    'ms_name' : data_name_X,\n",
    "    'feature_list' : feature_X_list                              \n",
    "}\n",
    "ingestion_param_y = {\n",
    "    \"bucket_name\" : bucket_name,\n",
    "    'ms_name' : data_name_y,\n",
    "    'feature_list' : feature_y_list                              \n",
    "}"
   ]
  },
  {
   "cell_type": "code",
   "execution_count": 17,
   "id": "3604db9c",
   "metadata": {},
   "outputs": [
    {
     "name": "stdout",
     "output_type": "stream",
     "text": [
      "{'bucket_name': 'integration', 'ms_name': 'regression_energy_cleanLevel4_trainX', 'feature_list': ['Press_mm_hg', 'RH_1', 'RH_2', 'RH_3', 'RH_4', 'RH_5', 'RH_6', 'RH_7', 'RH_8', 'RH_9', 'RH_out', 'T1', 'T2', 'T3', 'T4', 'T5', 'T6', 'T7', 'T8', 'T9', 'T_out', 'Tdewpoint', 'Visibility', 'Windspeed']}\n"
     ]
    }
   ],
   "source": [
    "data_X, data_y = ML_pipeline.Xy_data_preparation(ingestion_param_X, data_y_flag, ingestion_param_y, ingestion_method, db_client)"
   ]
  },
  {
   "cell_type": "markdown",
   "id": "75a77852",
   "metadata": {},
   "source": [
    "#### 1-2-2. Data scaling"
   ]
  },
  {
   "cell_type": "code",
   "execution_count": 18,
   "id": "3b61565e",
   "metadata": {},
   "outputs": [
    {
     "name": "stdout",
     "output_type": "stream",
     "text": [
      "['Press_mm_hg', 'RH_1', 'RH_2', 'RH_3', 'RH_4', 'RH_5', 'RH_6', 'RH_7', 'RH_8', 'RH_9', 'RH_out', 'T1', 'T2', 'T3', 'T4', 'T5', 'T6', 'T7', 'T8', 'T9', 'T_out', 'Tdewpoint', 'Visibility', 'Windspeed']\n",
      "Make New scaler File\n",
      "./scaler/regression_energy_cleanLevel4_trainX/minmax/900878d7bba6f2a4017d1c3399909ea7/scaler.pkl\n",
      "['value']\n",
      "Make New scaler File\n"
     ]
    }
   ],
   "source": [
    "dataX_scaled, datay_scaled = ML_pipeline.Xy_data_scaling_train(data_name_X, data_X, data_name_y, data_y, scaler_param)"
   ]
  },
  {
   "cell_type": "markdown",
   "id": "7e0d9b72",
   "metadata": {},
   "source": [
    "## 1-3. Cleaning and split\n",
    "### 1-3-1. pipeline - clean low quality column"
   ]
  },
  {
   "cell_type": "code",
   "execution_count": 19,
   "id": "1e45efd7",
   "metadata": {},
   "outputs": [],
   "source": [
    "model_data_clean = False # Front End Parameter \n",
    "if model_data_clean:\n",
    "    nan_process_info = {'type':'num', 'ConsecutiveNanLimit':10, 'totalNaNLimit':100}\n",
    "    max_nan_limit_ratio = 0.9\n",
    "    \n",
    "else:\n",
    "    nan_process_info = {'type':'num', 'ConsecutiveNanLimit':10000, 'totalNaNLimit':100000}\n",
    "    max_nan_limit_ratio = 0.5\n",
    "\n",
    "nan_process_info = {'type':'num', 'ConsecutiveNanLimit':10000, 'totalNaNLimit':100000}\n",
    "transform_param['nan_process_info'] = nan_process_info\n",
    "transform_param['max_nan_limit_ratio'] = max_nan_limit_ratio"
   ]
  },
  {
   "cell_type": "code",
   "execution_count": 20,
   "id": "78bd74a4",
   "metadata": {},
   "outputs": [
    {
     "data": {
      "text/plain": [
       "{'split_mode': 'window_split',\n",
       " 'data_clean_option': False,\n",
       " 'nan_process_info': {'type': 'num',\n",
       "  'ConsecutiveNanLimit': 10000,\n",
       "  'totalNaNLimit': 100000},\n",
       " 'max_nan_limit_ratio': 0.5}"
      ]
     },
     "execution_count": 20,
     "metadata": {},
     "output_type": "execute_result"
    }
   ],
   "source": [
    "transform_param"
   ]
  },
  {
   "cell_type": "code",
   "execution_count": 21,
   "id": "b80ffad2",
   "metadata": {},
   "outputs": [],
   "source": [
    "dataX_scaled = ML_pipeline.clean_low_quality_column(dataX_scaled, transform_param)"
   ]
  },
  {
   "cell_type": "markdown",
   "id": "31e90890",
   "metadata": {},
   "source": [
    "### 1-3-2. Train/Val Split pipeline"
   ]
  },
  {
   "cell_type": "code",
   "execution_count": 22,
   "id": "48ed7a9f",
   "metadata": {},
   "outputs": [],
   "source": [
    "split_ratio = 0.8"
   ]
  },
  {
   "cell_type": "code",
   "execution_count": 23,
   "id": "0c9624ac",
   "metadata": {},
   "outputs": [
    {
     "name": "stdout",
     "output_type": "stream",
     "text": [
      "{'split_mode': 'window_split', 'data_clean_option': False, 'nan_process_info': {'type': 'num', 'ConsecutiveNanLimit': 10000, 'totalNaNLimit': 100000}, 'max_nan_limit_ratio': 0.5, 'future_step': None, 'past_step': 144}\n",
      "window_split\n",
      "None\n"
     ]
    }
   ],
   "source": [
    "train_X, val_X, train_y, val_y, transform_param = ML_pipeline.split_data_by_mode(dataX_scaled, datay_scaled, split_ratio, transform_param)"
   ]
  },
  {
   "cell_type": "code",
   "execution_count": 24,
   "id": "69f5cf70",
   "metadata": {},
   "outputs": [
    {
     "name": "stdout",
     "output_type": "stream",
     "text": [
      "window_size: 144 nan_limit_num: 72\n",
      "(10944, 24) (72, 144, 24)\n",
      "(76, 1) (72, 1)\n",
      "window_size: 144 nan_limit_num: 72\n",
      "(2736, 24) (19, 144, 24)\n",
      "(19, 1) (19, 1)\n"
     ]
    }
   ],
   "source": [
    "train_X_array, train_y_array = ML_pipeline.transform_data_by_split_mode(transform_param, train_X, train_y)\n",
    "val_X_array, val_y_array = ML_pipeline.transform_data_by_split_mode(transform_param, val_X, val_y)"
   ]
  },
  {
   "cell_type": "code",
   "execution_count": null,
   "id": "1fb69e56",
   "metadata": {},
   "outputs": [],
   "source": []
  },
  {
   "cell_type": "code",
   "execution_count": 25,
   "id": "ac37985b",
   "metadata": {},
   "outputs": [],
   "source": [
    "# train, validation의 형태는 np.array"
   ]
  },
  {
   "cell_type": "markdown",
   "id": "69019796",
   "metadata": {},
   "source": [
    "## 2. Set Parameter for training"
   ]
  },
  {
   "cell_type": "code",
   "execution_count": 26,
   "id": "1fe9e6ec",
   "metadata": {},
   "outputs": [],
   "source": [
    "# 모델 선택\n",
    "regression_model_list = ['LSTM_rg' , 'GRU_rg',  'CNN_1D_rg', 'LSTM_FCNs_rg',  'FC_rg']\n",
    "classification_model_list = [ 'LSTM_cf', 'GRU_cf', 'LSTM_cf', 'CNN_1D_cf', 'LSTM_FCNs_cf', 'FC_cf']\n",
    "\n",
    "model_method = 'LSTM_rg'  # Set model methods i.e., 'LSTM_rg', 'GRU_rg', 'CNN_1D_rg', 'LSTM_FCNs_rg', 'FC_rg' "
   ]
  },
  {
   "cell_type": "markdown",
   "id": "168b6531",
   "metadata": {},
   "source": [
    "### 2-1-1. set model_parameter"
   ]
  },
  {
   "cell_type": "code",
   "execution_count": 27,
   "id": "54ac40ed",
   "metadata": {},
   "outputs": [
    {
     "name": "stdout",
     "output_type": "stream",
     "text": [
      "{'hidden_size': 64, 'num_layers': 2, 'output_dim': 1, 'dropout': 0.1, 'bidirectional': True}\n"
     ]
    }
   ],
   "source": [
    "# 선택한 모델의 하이퍼 파라미터 정의\n",
    "setting_model_parameter ={\"LSTM_rg\":{\"hidden_size\":64,\"num_layers\":2,\"output_dim\":1,\"dropout\":0.1,\"bidirectional\":True},\n",
    "                     \"GRU_rg\":{\"hidden_size\":64,\"num_layers\":2,\"output_dim\":1,\"dropout\":0.1,\"bidirectional\":True},\n",
    "                     \"CNN_1D_rg\":{\"output_channels\":64,\"kernel_size\":3,\"stride\":1,\"dropout\":0.1,\"padding\":0},\n",
    "                     \"LSTM_FCNs_rg\":{\"num_layers\":2,\"lstm_dropout\":0.4,\"fc_dropout\":0.1},\n",
    "                     \"FC_rg\":{\"dropout\":2,\"bias\":0.4}}\n",
    "\n",
    "model_info = setting_model_parameter[model_method]\n",
    "\n",
    "# model_parameter 만들기\n",
    "# model method 선택에 따라 model_parameter 자동 생성\n",
    "from Clust.clust.ML.common import model_parameter_setting\n",
    "seq_len, input_size = train_X_array.shape[1], train_X_array.shape[2]\n",
    "model_parameter = model_parameter_setting.get_regression_model_parameter(model_method, model_info, seq_len, input_size)"
   ]
  },
  {
   "cell_type": "markdown",
   "id": "49d4e588",
   "metadata": {},
   "source": [
    "### 2-1-1. set train_parameter"
   ]
  },
  {
   "cell_type": "code",
   "execution_count": 28,
   "id": "63d60d4d",
   "metadata": {},
   "outputs": [],
   "source": [
    "train_parameter = {\"lr\":1e-4,\"weight_decay\":1e-6,\"n_epochs\":100,\"batch_size\":16, \"device\": device}"
   ]
  },
  {
   "cell_type": "markdown",
   "id": "851a1779",
   "metadata": {},
   "source": [
    "### 2.2 Set Model name and path pipeline"
   ]
  },
  {
   "cell_type": "code",
   "execution_count": 29,
   "id": "b93d8dae",
   "metadata": {},
   "outputs": [
    {
     "name": "stdout",
     "output_type": "stream",
     "text": [
      "./Models/LSTM_rg/model/regression_model_test/model.pkl\n"
     ]
    }
   ],
   "source": [
    "# 임의로 정한 name 및 path --> 사용자 마음대로 수정 가능\n",
    "model_name = 'regression_model_test'\n",
    "model_path_list = ['model',model_name]\n",
    "model_file_path = ml_model.get_model_file_path(model_path_list, model_method)"
   ]
  },
  {
   "cell_type": "code",
   "execution_count": null,
   "id": "0f8354a8",
   "metadata": {},
   "outputs": [],
   "source": []
  },
  {
   "cell_type": "markdown",
   "id": "e6e83101",
   "metadata": {},
   "source": [
    "## 3.Training"
   ]
  },
  {
   "cell_type": "code",
   "execution_count": 30,
   "id": "766b7e43",
   "metadata": {},
   "outputs": [
    {
     "name": "stdout",
     "output_type": "stream",
     "text": [
      "Start training model\n",
      "[1/100] Training loss: 0.2152\t Validation loss: 0.1540\n",
      "[2/100] Training loss: 0.1981\t Validation loss: 0.1418\n",
      "[3/100] Training loss: 0.1745\t Validation loss: 0.1300\n",
      "[4/100] Training loss: 0.1777\t Validation loss: 0.1185\n",
      "[5/100] Training loss: 0.1632\t Validation loss: 0.1072\n",
      "[6/100] Training loss: 0.1450\t Validation loss: 0.0962\n",
      "[7/100] Training loss: 0.1329\t Validation loss: 0.0855\n",
      "[8/100] Training loss: 0.1143\t Validation loss: 0.0751\n",
      "[9/100] Training loss: 0.0915\t Validation loss: 0.0653\n",
      "[10/100] Training loss: 0.0948\t Validation loss: 0.0561\n",
      "[50/100] Training loss: 0.0379\t Validation loss: 0.0331\n",
      "[100/100] Training loss: 0.0346\t Validation loss: 0.0332\n",
      "\n",
      "Training complete in 0m 10s\n"
     ]
    }
   ],
   "source": [
    "from Clust.clust.ML.regression.train import RegressionTrain as RML\n",
    "\n",
    "rml = RML()\n",
    "rml.set_param(train_parameter)\n",
    "rml.set_model(model_method, model_parameter)\n",
    "rml.set_data(train_X_array, train_y_array, val_X_array, val_y_array)\n",
    "rml.train()\n",
    "rml.save_best_model(model_file_path)"
   ]
  },
  {
   "cell_type": "code",
   "execution_count": 31,
   "id": "0bad93ea",
   "metadata": {},
   "outputs": [
    {
     "data": {
      "text/plain": [
       "{'lr': 0.0001,\n",
       " 'weight_decay': 1e-06,\n",
       " 'n_epochs': 100,\n",
       " 'batch_size': 16,\n",
       " 'device': 'cpu'}"
      ]
     },
     "execution_count": 31,
     "metadata": {},
     "output_type": "execute_result"
    }
   ],
   "source": [
    "train_parameter"
   ]
  },
  {
   "cell_type": "code",
   "execution_count": 32,
   "id": "5829d072",
   "metadata": {},
   "outputs": [
    {
     "data": {
      "text/plain": [
       "{'rnn_type': 'lstm',\n",
       " 'input_size': 24,\n",
       " 'hidden_size': 64,\n",
       " 'num_layers': 2,\n",
       " 'output_dim': 1,\n",
       " 'dropout': 0.1,\n",
       " 'bidirectional': True}"
      ]
     },
     "execution_count": 32,
     "metadata": {},
     "output_type": "execute_result"
    }
   ],
   "source": [
    "model_parameter"
   ]
  },
  {
   "cell_type": "code",
   "execution_count": 33,
   "id": "e9c46024",
   "metadata": {},
   "outputs": [
    {
     "data": {
      "text/plain": [
       "{'split_mode': 'window_split',\n",
       " 'data_clean_option': False,\n",
       " 'nan_process_info': {'type': 'num',\n",
       "  'ConsecutiveNanLimit': 10000,\n",
       "  'totalNaNLimit': 100000},\n",
       " 'max_nan_limit_ratio': 0.5,\n",
       " 'future_step': None,\n",
       " 'past_step': 144}"
      ]
     },
     "execution_count": 33,
     "metadata": {},
     "output_type": "execute_result"
    }
   ],
   "source": [
    "transform_param"
   ]
  },
  {
   "cell_type": "code",
   "execution_count": null,
   "id": "6d95be5d",
   "metadata": {},
   "outputs": [],
   "source": []
  }
 ],
 "metadata": {
  "kernelspec": {
   "display_name": "Python 3 (ipykernel)",
   "language": "python",
   "name": "python3"
  },
  "language_info": {
   "codemirror_mode": {
    "name": "ipython",
    "version": 3
   },
   "file_extension": ".py",
   "mimetype": "text/x-python",
   "name": "python",
   "nbconvert_exporter": "python",
   "pygments_lexer": "ipython3",
   "version": "3.8.8"
  }
 },
 "nbformat": 4,
 "nbformat_minor": 5
}
