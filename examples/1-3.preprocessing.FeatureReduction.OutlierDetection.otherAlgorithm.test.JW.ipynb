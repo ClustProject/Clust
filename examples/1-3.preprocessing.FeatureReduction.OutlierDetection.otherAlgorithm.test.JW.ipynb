{
 "cells": [
  {
   "cell_type": "code",
   "execution_count": 1,
   "id": "80ba84e5",
   "metadata": {
    "ExecuteTime": {
     "end_time": "2022-12-23T05:22:58.132120Z",
     "start_time": "2022-12-23T05:22:56.613760Z"
    }
   },
   "outputs": [
    {
     "ename": "ModuleNotFoundError",
     "evalue": "No module named 'plotly'",
     "output_type": "error",
     "traceback": [
      "\u001b[0;31m---------------------------------------------------------------------------\u001b[0m",
      "\u001b[0;31mModuleNotFoundError\u001b[0m                       Traceback (most recent call last)",
      "Input \u001b[0;32mIn [1]\u001b[0m, in \u001b[0;36m<cell line: 11>\u001b[0;34m()\u001b[0m\n\u001b[1;32m      8\u001b[0m data \u001b[38;5;241m=\u001b[39m load_iris()\n\u001b[1;32m      9\u001b[0m iris \u001b[38;5;241m=\u001b[39m load_iris()\n\u001b[0;32m---> 11\u001b[0m \u001b[38;5;28;01mfrom\u001b[39;00m \u001b[38;5;21;01mclust\u001b[39;00m\u001b[38;5;21;01m.\u001b[39;00m\u001b[38;5;21;01mtool\u001b[39;00m\u001b[38;5;21;01m.\u001b[39;00m\u001b[38;5;21;01mplot_graph\u001b[39;00m \u001b[38;5;28;01mimport\u001b[39;00m plot_features\n\u001b[1;32m     12\u001b[0m \u001b[38;5;28;01mfrom\u001b[39;00m \u001b[38;5;21;01mclust\u001b[39;00m\u001b[38;5;21;01m.\u001b[39;00m\u001b[38;5;21;01mtransformation\u001b[39;00m\u001b[38;5;21;01m.\u001b[39;00m\u001b[38;5;21;01mfeatureReduction\u001b[39;00m \u001b[38;5;28;01mimport\u001b[39;00m featureExtraction\n",
      "File \u001b[0;32m~/문서/Code/CLUST/Clust/examples/../clust/tool/plot_graph/plot_features.py:3\u001b[0m, in \u001b[0;36m<module>\u001b[0;34m\u001b[0m\n\u001b[1;32m      1\u001b[0m \u001b[38;5;28;01mimport\u001b[39;00m \u001b[38;5;21;01mmatplotlib\u001b[39;00m\u001b[38;5;21;01m.\u001b[39;00m\u001b[38;5;21;01mpyplot\u001b[39;00m \u001b[38;5;28;01mas\u001b[39;00m \u001b[38;5;21;01mplt\u001b[39;00m\n\u001b[0;32m----> 3\u001b[0m \u001b[38;5;28;01mimport\u001b[39;00m \u001b[38;5;21;01mplotly\u001b[39;00m\u001b[38;5;21;01m.\u001b[39;00m\u001b[38;5;21;01mgraph_objs\u001b[39;00m \u001b[38;5;28;01mas\u001b[39;00m \u001b[38;5;21;01mgo\u001b[39;00m\n\u001b[1;32m      4\u001b[0m \u001b[38;5;28;01mfrom\u001b[39;00m \u001b[38;5;21;01mplotly\u001b[39;00m\u001b[38;5;21;01m.\u001b[39;00m\u001b[38;5;21;01moffline\u001b[39;00m \u001b[38;5;28;01mimport\u001b[39;00m iplot\n\u001b[1;32m      5\u001b[0m \u001b[38;5;28;01mdef\u001b[39;00m \u001b[38;5;21mPlot_OneCloumnData\u001b[39m(df, y_columnName, title):\n",
      "\u001b[0;31mModuleNotFoundError\u001b[0m: No module named 'plotly'"
     ]
    }
   ],
   "source": [
    "import sys\n",
    "sys.path.append(\"../\")\n",
    "sys.path.append(\"../..\")\n",
    "sys.path.append(\"../../../\")\n",
    "import pandas as pd\n",
    "from sklearn.datasets import load_iris\n",
    "import matplotlib.pyplot as plt\n",
    "data = load_iris()\n",
    "iris = load_iris()\n",
    "\n",
    "from clust.tool.plot_graph import plot_features\n",
    "from clust.transformation.featureReduction import featureExtraction"
   ]
  },
  {
   "cell_type": "code",
   "execution_count": null,
   "id": "222b1585",
   "metadata": {
    "ExecuteTime": {
     "end_time": "2022-12-23T05:22:58.134356Z",
     "start_time": "2022-12-23T05:22:58.134340Z"
    }
   },
   "outputs": [],
   "source": [
    "def checkResult(result):\n",
    "    # 1. Plot 3D Graph with color - predic\n",
    "    plot_features.show3Dgraph(data, result['predict']) # data, color\n",
    "    # 2. prediction result plot\n",
    "    result['predict'].plot()\n",
    "    # crosstab table by labels and prediction result\n",
    "    ct = pd.crosstab(result['labels'], result['predict'])\n",
    "    return ct\n",
    "data = pd.DataFrame(iris.data, columns =['Sepal length','Sepal width','Petal length','Petal width']) # 4 columns\n",
    "result = pd.DataFrame(iris.target, columns=['labels'])"
   ]
  },
  {
   "cell_type": "code",
   "execution_count": null,
   "id": "062ef6a0",
   "metadata": {
    "ExecuteTime": {
     "end_time": "2022-12-23T05:22:58.135749Z",
     "start_time": "2022-12-23T05:22:58.135733Z"
    }
   },
   "outputs": [],
   "source": [
    "plot_features.show3Dgraph(data, colorData = result['labels'])"
   ]
  },
  {
   "cell_type": "markdown",
   "id": "5fbb28b9",
   "metadata": {},
   "source": [
    "# 평범한 클러스터링"
   ]
  },
  {
   "cell_type": "code",
   "execution_count": null,
   "id": "a08fead7",
   "metadata": {
    "ExecuteTime": {
     "end_time": "2022-12-23T05:22:58.136857Z",
     "start_time": "2022-12-23T05:22:58.136841Z"
    }
   },
   "outputs": [],
   "source": [
    "from clust.ML.clustering.interface import ClusteringByMinPoints\n",
    "clusteringMethod =\"DBSCAN\"\n",
    "minPts = 5\n",
    "\n",
    "inputData = data\n",
    "result['predict'] = ClusteringByMinPoints(inputData, minPts, \"DBSCAN\")\n",
    "checkResult(result)"
   ]
  },
  {
   "cell_type": "markdown",
   "id": "f4c735f1",
   "metadata": {},
   "source": [
    "### Feature Reduction (PCA, TSNE)"
   ]
  },
  {
   "cell_type": "code",
   "execution_count": null,
   "id": "44003b37",
   "metadata": {
    "ExecuteTime": {
     "end_time": "2022-12-23T05:22:58.138294Z",
     "start_time": "2022-12-23T05:22:58.138280Z"
    }
   },
   "outputs": [],
   "source": [
    "# TSNE\n",
    "inputData = data\n",
    "n_components = 3\n",
    "reductionMethod = \"TSNE\" #['PCA', 'TSNE']\n"
   ]
  },
  {
   "cell_type": "code",
   "execution_count": null,
   "id": "322508fa",
   "metadata": {
    "ExecuteTime": {
     "end_time": "2022-12-23T05:22:58.140188Z",
     "start_time": "2022-12-23T05:22:58.140153Z"
    }
   },
   "outputs": [],
   "source": [
    "from clust.transformation.general import basicTransform\n",
    "inputData = basicTransform.getRobustScaledDF(inputData)\n",
    "FE_data = featureExtraction.featureReduction(inputData, n_components, reductionMethod)\n",
    "\n",
    "inputData = FE_data\n",
    "result['predict'] = ClusteringByMinPoints(inputData, minPts, clusteringMethod)\n",
    "checkResult(result)"
   ]
  },
  {
   "cell_type": "markdown",
   "id": "e38fb335",
   "metadata": {},
   "source": [
    "## Isolation Forest\n",
    "https://partrita.github.io/posts/isolation-forest/"
   ]
  },
  {
   "cell_type": "code",
   "execution_count": null,
   "id": "f7509562",
   "metadata": {
    "ExecuteTime": {
     "end_time": "2022-12-23T05:22:58.141435Z",
     "start_time": "2022-12-23T05:22:58.141417Z"
    }
   },
   "outputs": [],
   "source": [
    "import numpy as np\n",
    "import pandas as pd\n",
    "import matplotlib.pyplot as plt\n",
    "%matplotlib inline\n",
    "import seaborn as sns\n",
    "sns.set_style(\"darkgrid\")\n",
    "from sklearn.ensemble import IsolationForest"
   ]
  },
  {
   "cell_type": "code",
   "execution_count": null,
   "id": "8ee84c8b",
   "metadata": {
    "ExecuteTime": {
     "end_time": "2022-12-23T05:22:58.142731Z",
     "start_time": "2022-12-23T05:22:58.142713Z"
    }
   },
   "outputs": [],
   "source": [
    "rng = np.random.RandomState(42)\n",
    "# Generating training data \n",
    "X_train = 0.2 * rng.randn(1000, 2)\n",
    "X_train = np.r_[X_train + 3, X_train]\n",
    "X_train = pd.DataFrame(X_train, columns = ['x1', 'x2'])\n",
    "# Generating new, 'normal' observation\n",
    "X_test = 0.2 * rng.randn(200, 2)\n",
    "X_test = np.r_[X_test + 3, X_test]\n",
    "X_test = pd.DataFrame(X_test, columns = ['x1', 'x2'])\n",
    "# Generating outliers\n",
    "X_outliers = rng.uniform(low=-1, high=5, size=(50, 2))\n",
    "X_outliers = pd.DataFrame(X_outliers, columns = ['x1', 'x2'])"
   ]
  },
  {
   "cell_type": "code",
   "execution_count": null,
   "id": "1786334d",
   "metadata": {
    "ExecuteTime": {
     "end_time": "2022-12-23T05:22:58.143880Z",
     "start_time": "2022-12-23T05:22:58.143863Z"
    }
   },
   "outputs": [],
   "source": [
    "plt.rcParams['figure.figsize'] = [10, 10]\n",
    "p1 = plt.scatter(X_train.x1, X_train.x2, c='white', s=20*4, edgecolor='k', label='training observations')\n",
    "p2 = plt.scatter(X_test.x1, X_test.x2, c='green', s=20*4, edgecolor='k', label='new regular obs.')\n",
    "p3 = plt.scatter(X_outliers.x1, X_outliers.x2, c='red', s=20*4, edgecolor='k', label='new abnormal obs.')\n",
    "\n",
    "plt.legend()"
   ]
  },
  {
   "cell_type": "code",
   "execution_count": null,
   "id": "fd41fab2",
   "metadata": {
    "ExecuteTime": {
     "end_time": "2022-12-23T05:22:58.145290Z",
     "start_time": "2022-12-23T05:22:58.145273Z"
    }
   },
   "outputs": [],
   "source": [
    "clf = IsolationForest(max_samples=100, contamination = 0.1, random_state=42)\n",
    "clf.fit(X_train)\n",
    "y_pred_train = clf.predict(X_train)\n",
    "y_pred_test = clf.predict(X_test)\n",
    "y_pred_outliers = clf.predict(X_outliers)"
   ]
  },
  {
   "cell_type": "code",
   "execution_count": null,
   "id": "ad34bbd5",
   "metadata": {
    "ExecuteTime": {
     "end_time": "2022-12-23T05:22:58.146518Z",
     "start_time": "2022-12-23T05:22:58.146500Z"
    }
   },
   "outputs": [],
   "source": [
    "X_outliers = X_outliers.assign(y = y_pred_outliers)\n",
    "p1 = plt.scatter(X_train.x1, X_train.x2, c='white',\n",
    "                 s=20*4, edgecolor='k', label=\"training observations\")\n",
    "p2 = plt.scatter(X_outliers.loc[X_outliers.y == -1, ['x1']], \n",
    "                 X_outliers.loc[X_outliers.y == -1, ['x2']], \n",
    "                 c='red', s=20*4, edgecolor='k', label=\"detected outliers\")\n",
    "p3 = plt.scatter(X_outliers.loc[X_outliers.y == 1, ['x1']], \n",
    "                 X_outliers.loc[X_outliers.y == 1, ['x2']], \n",
    "                 c='green', s=20*4, edgecolor='k', label=\"detected regular obs\")\n",
    "plt.legend()"
   ]
  },
  {
   "cell_type": "code",
   "execution_count": null,
   "id": "ca8b408d",
   "metadata": {
    "ExecuteTime": {
     "end_time": "2022-12-23T05:22:58.148132Z",
     "start_time": "2022-12-23T05:22:58.148113Z"
    }
   },
   "outputs": [],
   "source": [
    "print(\"테스트 데이터셋에서 정확도:\", list(y_pred_test).count(1)/y_pred_test.shape[0])\n",
    "print(\"이상치 데이터셋에서 정확도:\", list(y_pred_outliers).count(-1)/y_pred_outliers.shape[0])"
   ]
  },
  {
   "cell_type": "markdown",
   "id": "7a735e14",
   "metadata": {},
   "source": [
    "## K Means Clustering"
   ]
  },
  {
   "cell_type": "code",
   "execution_count": null,
   "id": "437b26bf",
   "metadata": {
    "ExecuteTime": {
     "end_time": "2022-12-23T05:22:58.149696Z",
     "start_time": "2022-12-23T05:22:58.149679Z"
    }
   },
   "outputs": [],
   "source": [
    "# -*- coding: utf-8 -*-\n",
    "\"\"\"\n",
    "k-means\n",
    "=======\n",
    "\n",
    "This example uses :math:`k`-means clustering for time series. Three variants of\n",
    "the algorithm are available: standard\n",
    "Euclidean :math:`k`-means, DBA-:math:`k`-means (for DTW Barycenter\n",
    "Averaging [1])\n",
    "and Soft-DTW :math:`k`-means [2].\n",
    "\n",
    "In the figure below, each row corresponds to the result of a different\n",
    "clustering. In a row, each sub-figure corresponds to a cluster.\n",
    "It represents the set\n",
    "of time series from the training set that were assigned to the considered\n",
    "cluster (in black) as well as the barycenter of the cluster (in red).\n",
    "\n",
    "A note on pre-processing\n",
    "~~~~~~~~~~~~~~~~~~~~~~~~\n",
    "\n",
    "In this example, time series are preprocessed using\n",
    "`TimeSeriesScalerMeanVariance`. This scaler is such that each output time\n",
    "series has zero mean and unit variance.\n",
    "The assumption here is that the range of a given time series is uninformative\n",
    "and one only wants to compare shapes in an amplitude-invariant manner (when\n",
    "time series are multivariate, this also rescales all modalities such that there\n",
    "will not be a single modality responsible for a large part of the variance).\n",
    "This means that one cannot scale barycenters back to data range because each\n",
    "time series is scaled independently and there is hence no such thing as an\n",
    "overall data range.\n",
    "\n",
    "[1] F. Petitjean, A. Ketterlin & P. Gancarski. A global averaging method \\\n",
    "for dynamic time warping, with applications to clustering. Pattern \\\n",
    "Recognition, Elsevier, 2011, Vol. 44, Num. 3, pp. 678-693\n",
    "[2] M. Cuturi, M. Blondel \"Soft-DTW: a Differentiable Loss Function for \\\n",
    "Time-Series,\" ICML 2017.\n",
    "\"\"\"\n",
    "\n",
    "# Author: Romain Tavenard\n",
    "# License: BSD 3 clause\n",
    "\n",
    "import numpy\n",
    "import matplotlib.pyplot as plt\n",
    "\n",
    "from tslearn.clustering import TimeSeriesKMeans\n",
    "from tslearn.datasets import CachedDatasets\n",
    "from tslearn.preprocessing import TimeSeriesScalerMeanVariance, \\\n",
    "    TimeSeriesResampler\n",
    "\n",
    "seed = 0\n",
    "numpy.random.seed(seed)\n",
    "X_train, y_train, X_test, y_test = CachedDatasets().load_dataset(\"Trace\")\n",
    "X_train = X_train[y_train < 4]  # Keep first 3 classes\n",
    "numpy.random.shuffle(X_train)\n",
    "# Keep only 50 time series\n",
    "X_train = TimeSeriesScalerMeanVariance().fit_transform(X_train[:50])\n",
    "# Make time series shorter\n",
    "X_train = TimeSeriesResampler(sz=40).fit_transform(X_train)\n",
    "sz = X_train.shape[1]"
   ]
  },
  {
   "cell_type": "code",
   "execution_count": null,
   "id": "cf4b6140",
   "metadata": {
    "ExecuteTime": {
     "end_time": "2022-12-23T05:22:58.151055Z",
     "start_time": "2022-12-23T05:22:58.151039Z"
    }
   },
   "outputs": [],
   "source": [
    "def showClusteringResult(km, y_pred, cluster_num):\n",
    "    plt.figure(figsize=(12,4))\n",
    "    for yi in range(cluster_num):\n",
    "        plt.subplot(1, cluster_num, yi + 1)\n",
    "        for xx in X_train[y_pred == yi]:\n",
    "            plt.plot(xx.ravel(), \"k-\", alpha=.2)\n",
    "        plt.plot(km.cluster_centers_[yi].ravel(), \"r-\")\n",
    "        plt.xlim(0, sz)\n",
    "        plt.ylim(-4, 4)\n",
    "        plt.text(0.55, 0.85,'Cluster %d' % (yi + 1), transform=plt.gca().transAxes)\n",
    "        if yi == 1:\n",
    "            pass\n",
    "    plt.tight_layout()\n",
    "    plt.show()"
   ]
  },
  {
   "cell_type": "code",
   "execution_count": null,
   "id": "79d46a4d",
   "metadata": {
    "ExecuteTime": {
     "end_time": "2022-12-23T05:22:58.152478Z",
     "start_time": "2022-12-23T05:22:58.152462Z"
    }
   },
   "outputs": [],
   "source": [
    "cluster_num = 3\n",
    "\n",
    "# 1. Euclidean k-means\n",
    "print(\"Euclidean KMeans\")\n",
    "km = TimeSeriesKMeans(n_clusters=cluster_num, verbose=True, random_state=seed)\n",
    "y_pred = km.fit_predict(X_train)\n",
    "showClusteringResult(km, y_pred, cluster_num)\n",
    "\n",
    "# 2. DBA-k-means\n",
    "print(\"DBA k-means\")\n",
    "dba_km = TimeSeriesKMeans(n_clusters=cluster_num, n_init=2, metric=\"dtw\", verbose=True, max_iter_barycenter=10, random_state=seed)\n",
    "y_pred = dba_km.fit_predict(X_train)\n",
    "showClusteringResult(dba_km, y_pred, cluster_num)\n",
    "\n",
    "# 3. Soft-DTW-k-means\n",
    "print(\"Soft-DTW k-means\")\n",
    "sdtw_km = TimeSeriesKMeans(n_clusters=3,\n",
    "                           metric=\"softdtw\",\n",
    "                           metric_params={\"gamma\": .01},\n",
    "                           verbose=True,\n",
    "                           random_state=seed)\n",
    "y_pred = sdtw_km.fit_predict(X_train)\n",
    "showClusteringResult(sdtw_km, y_pred, cluster_num)"
   ]
  }
 ],
 "metadata": {
  "kernelspec": {
   "display_name": "Python 3 (ipykernel)",
   "language": "python",
   "name": "python3"
  },
  "language_info": {
   "codemirror_mode": {
    "name": "ipython",
    "version": 3
   },
   "file_extension": ".py",
   "mimetype": "text/x-python",
   "name": "python",
   "nbconvert_exporter": "python",
   "pygments_lexer": "ipython3",
   "version": "3.9.12"
  },
  "toc": {
   "base_numbering": 1,
   "nav_menu": {},
   "number_sections": true,
   "sideBar": true,
   "skip_h1_title": false,
   "title_cell": "Table of Contents",
   "title_sidebar": "Contents",
   "toc_cell": false,
   "toc_position": {},
   "toc_section_display": true,
   "toc_window_display": false
  },
  "vscode": {
   "interpreter": {
    "hash": "f1ef7e1f828dbb4e75f421045d2c565197efaf8469a0be4a314c6ea8378b5cb2"
   }
  }
 },
 "nbformat": 4,
 "nbformat_minor": 5
}
