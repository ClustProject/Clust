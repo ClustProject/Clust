{
 "cells": [
  {
   "cell_type": "code",
   "execution_count": 1,
   "metadata": {
    "ExecuteTime": {
     "end_time": "2021-08-09T04:59:47.825691Z",
     "start_time": "2021-08-09T04:59:47.742732Z"
    }
   },
   "outputs": [],
   "source": [
    "import sys, os\n",
    "import pandas as pd\n",
    "import numpy as np\n",
    "import matplotlib.pyplot as plt\n",
    "import datetime\n",
    "sys.path.append(\"../\")\n",
    "sys.path.append(\"../..\")\n",
    "\n",
    "from Clust.setting import influx_setting_KETI as ins\n",
    "from Clust.setting import influx_setting_KETI as ins\n",
    "from Clust.clust.ingestion.influx import influx_Client_v2 as influx_Client, multipleDataSets\n",
    "db_client = influx_Client.influxClient(ins.CLUSTDataServer2)"
   ]
  },
  {
   "cell_type": "code",
   "execution_count": 2,
   "metadata": {},
   "outputs": [],
   "source": [
    "start_time = \"2021-01-01 00:00:00\"\n",
    "end_time = \"2022-01-01 00:00:00\"\n",
    "\n",
    "from clust.integration.utils import param\n",
    "dataInfo = [['air_indoor_modelSchool', 'ICW0W2000011'], ['air_outdoor_kweather', 'OC3CL200012'],\n",
    "            ['life_additional_Info', 'trigonometicInfoByHours'],['weather_outdoor_keti_clean','seoul']]\n",
    "\n",
    "refine_param = {\n",
    "    \"removeDuplication\":{\"flag\":True},\n",
    "    \"staticFrequency\":{\"flag\":True, \"frequency\":None}\n",
    "}\n",
    "\n",
    "CertainParam= {'flag': True}\n",
    "\n",
    "uncertainParam= {'flag': False, \"param\":{\n",
    "          \"outlierDetectorConfig\":[\n",
    "                {'algorithm': 'IQR', 'percentile':99 ,'alg_parameter': {'weight':100}}    \n",
    "]}}\n",
    "outlier_param ={\n",
    "    \"certainErrorToNaN\":CertainParam, \n",
    "    \"unCertainErrorToNaN\":uncertainParam\n",
    "}\n",
    "imputation_param = {\n",
    "    \"serialImputation\":{\n",
    "        \"flag\":True,\n",
    "        \"imputation_method\":[{\"min\":0,\"max\":3,\"method\":\"linear\", \"parameter\":{}}],\n",
    "        \"totalNonNanRatio\":80\n",
    "    }\n",
    "}\n",
    "process_param = {'refine_param':refine_param, 'outlier_param':outlier_param, 'imputation_param':imputation_param}\n",
    "\n",
    "integration_freq_sec = 60 * 60 # 1시간\n",
    "integration_param = {\n",
    "    \"granularity_sec\":integration_freq_sec,\n",
    "    \"param\":{},\n",
    "    \"method\":\"meta\"\n",
    "}"
   ]
  },
  {
   "cell_type": "code",
   "execution_count": 3,
   "metadata": {
    "scrolled": false
   },
   "outputs": [],
   "source": [
    "re_frequency_sec = 4*60\n",
    "intDataInfo = param.makeIntDataInfoSet(dataInfo, start_time, end_time)\n",
    "multiple_dataset  = multipleDataSets.get_onlyNumericDataSets(db_client, intDataInfo)"
   ]
  },
  {
   "cell_type": "markdown",
   "metadata": {},
   "source": [
    "# 1. Data Integration & Scaling"
   ]
  },
  {
   "cell_type": "code",
   "execution_count": 4,
   "metadata": {
    "ExecuteTime": {
     "end_time": "2021-08-09T05:06:13.784224Z",
     "start_time": "2021-08-09T05:06:13.777758Z"
    }
   },
   "outputs": [
    {
     "ename": "KeyError",
     "evalue": "'integration_duration'",
     "output_type": "error",
     "traceback": [
      "\u001b[0;31m---------------------------------------------------------------------------\u001b[0m",
      "\u001b[0;31mKeyError\u001b[0m                                  Traceback (most recent call last)",
      "Input \u001b[0;32mIn [4]\u001b[0m, in \u001b[0;36m<cell line: 2>\u001b[0;34m()\u001b[0m\n\u001b[1;32m      1\u001b[0m \u001b[38;5;28;01mfrom\u001b[39;00m \u001b[38;5;21;01mClust\u001b[39;00m\u001b[38;5;21;01m.\u001b[39;00m\u001b[38;5;21;01mclust\u001b[39;00m\u001b[38;5;21;01m.\u001b[39;00m\u001b[38;5;21;01mintegration\u001b[39;00m\u001b[38;5;21;01m.\u001b[39;00m\u001b[38;5;21;01mintegrationInterface\u001b[39;00m \u001b[38;5;28;01mimport\u001b[39;00m IntegrationInterface\n\u001b[0;32m----> 2\u001b[0m originD \u001b[38;5;241m=\u001b[39m \u001b[43mIntegrationInterface\u001b[49m\u001b[43m(\u001b[49m\u001b[43m)\u001b[49m\u001b[38;5;241;43m.\u001b[39;49m\u001b[43mclustIntegrationFromInfluxSource\u001b[49m\u001b[43m(\u001b[49m\u001b[43mdb_client\u001b[49m\u001b[43m,\u001b[49m\u001b[43m \u001b[49m\u001b[43mintDataInfo\u001b[49m\u001b[43m,\u001b[49m\u001b[43m \u001b[49m\u001b[43mprocess_param\u001b[49m\u001b[43m,\u001b[49m\u001b[43mintegration_param\u001b[49m\u001b[43m)\u001b[49m\n",
      "File \u001b[0;32m~/CLUST_KETI/Clust/Clust/examples/../../Clust/clust/integration/integrationInterface.py:99\u001b[0m, in \u001b[0;36mIntegrationInterface.clustIntegrationFromInfluxSource\u001b[0;34m(self, db_client, intDataInfo, process_param, integration_param)\u001b[0m\n\u001b[1;32m     96\u001b[0m multiple_dataset  \u001b[38;5;241m=\u001b[39m multipleDataSets\u001b[38;5;241m.\u001b[39mget_onlyNumericDataSets(db_client, intDataInfo)\n\u001b[1;32m     98\u001b[0m \u001b[38;5;66;03m## get integrated data\u001b[39;00m\n\u001b[0;32m---> 99\u001b[0m result \u001b[38;5;241m=\u001b[39m \u001b[38;5;28;43mself\u001b[39;49m\u001b[38;5;241;43m.\u001b[39;49m\u001b[43mclustIntegrationFromDataset\u001b[49m\u001b[43m(\u001b[49m\u001b[43mprocess_param\u001b[49m\u001b[43m,\u001b[49m\u001b[43m \u001b[49m\u001b[43mintegration_param\u001b[49m\u001b[43m,\u001b[49m\u001b[43m \u001b[49m\u001b[43mmultiple_dataset\u001b[49m\u001b[43m)\u001b[49m\n\u001b[1;32m    101\u001b[0m \u001b[38;5;28;01mreturn\u001b[39;00m result\n",
      "File \u001b[0;32m~/CLUST_KETI/Clust/Clust/examples/../../Clust/clust/integration/integrationInterface.py:164\u001b[0m, in \u001b[0;36mIntegrationInterface.clustIntegrationFromDataset\u001b[0;34m(self, process_param, integration_param, multiple_dataset)\u001b[0m\n\u001b[1;32m    103\u001b[0m \u001b[38;5;28;01mdef\u001b[39;00m \u001b[38;5;21mclustIntegrationFromDataset\u001b[39m(\u001b[38;5;28mself\u001b[39m, process_param, integration_param, multiple_dataset):\n\u001b[1;32m    104\u001b[0m     \u001b[38;5;124;03m\"\"\" \u001b[39;00m\n\u001b[1;32m    105\u001b[0m \u001b[38;5;124;03m    사용자가 입력한 dataSet과 Parameter에 따라 데이터를 병합하는 함수\u001b[39;00m\n\u001b[1;32m    106\u001b[0m \u001b[38;5;124;03m    1. 통합을 원하는 dataSet 입력\u001b[39;00m\n\u001b[0;32m   (...)\u001b[0m\n\u001b[1;32m    162\u001b[0m \u001b[38;5;124;03m    :rtype: DataFrame    \u001b[39;00m\n\u001b[1;32m    163\u001b[0m \u001b[38;5;124;03m    \"\"\"\u001b[39;00m\n\u001b[0;32m--> 164\u001b[0m     integration_duration \u001b[38;5;241m=\u001b[39m \u001b[43mintegration_param\u001b[49m\u001b[43m[\u001b[49m\u001b[38;5;124;43m\"\u001b[39;49m\u001b[38;5;124;43mintegration_duration\u001b[39;49m\u001b[38;5;124;43m\"\u001b[39;49m\u001b[43m]\u001b[49m\n\u001b[1;32m    165\u001b[0m     partial_data_info \u001b[38;5;241m=\u001b[39m partialDataInfo\u001b[38;5;241m.\u001b[39mPartialData(multiple_dataset, integration_duration)\n\u001b[1;32m    167\u001b[0m     overlap_duration \u001b[38;5;241m=\u001b[39m partial_data_info\u001b[38;5;241m.\u001b[39mcolumn_meta[\u001b[38;5;124m\"\u001b[39m\u001b[38;5;124moverlap_duration\u001b[39m\u001b[38;5;124m\"\u001b[39m]\n",
      "\u001b[0;31mKeyError\u001b[0m: 'integration_duration'"
     ]
    }
   ],
   "source": [
    "from Clust.clust.integration.integrationInterface import IntegrationInterface\n",
    "originD = IntegrationInterface().clustIntegrationFromInfluxSource(db_client, intDataInfo, process_param,integration_param)"
   ]
  },
  {
   "cell_type": "code",
   "execution_count": null,
   "metadata": {
    "scrolled": true
   },
   "outputs": [],
   "source": []
  },
  {
   "cell_type": "markdown",
   "metadata": {},
   "source": [
    "## 2. Feature Extension & Selection"
   ]
  },
  {
   "cell_type": "code",
   "execution_count": null,
   "metadata": {},
   "outputs": [],
   "source": [
    "from KETIAppTestCode.JWTest.LSTMTest import LSTMTest\n",
    "\n",
    "\"\"\"\n",
    "feature_col_list = ['CO2ppm', 'H2Sppm', 'Humidity', 'NH3ppm', 'Temperature', 'out_humid',\n",
    "       'out_pressure', 'out_rainfall', 'out_sunshine', 'out_temp',\n",
    "       'out_wind_direction', 'out_wind_speed', 'out_CO', 'out_NO2', 'out_O3',\n",
    "       'out_PM10', 'out_PM25', 'out_SO2', 'day', 'sin_hour', 'cos_hour',\n",
    "       'sin_day_of_week', 'cos_day_of_week', 'sin_month', 'cos_month',\n",
    "       'sin_week_of_year', 'cos_week_of_year']\n",
    "\"\"\"\n",
    "feature_col_list1 = ['CO2ppm', 'H2Sppm', 'Humidity', 'NH3ppm', 'Temperature', 'out_humid', 'out_temp', 'out_wind_speed',  'sin_hour']\n",
    "target_name = 'Humidity'"
   ]
  },
  {
   "cell_type": "code",
   "execution_count": null,
   "metadata": {},
   "outputs": [],
   "source": [
    "feature_col_list =  feature_col_list1\n",
    "df_Exfeatures = LSTMTest.featureExtension2(originD)"
   ]
  },
  {
   "cell_type": "code",
   "execution_count": null,
   "metadata": {},
   "outputs": [],
   "source": [
    "df_Exfeatures.columns"
   ]
  },
  {
   "cell_type": "markdown",
   "metadata": {},
   "source": [
    "## 3. Correlation Exploration"
   ]
  },
  {
   "cell_type": "code",
   "execution_count": null,
   "metadata": {
    "scrolled": false
   },
   "outputs": [],
   "source": [
    "from KETIToolDataExploration.stats_table.corr_table import Correlation\n",
    "dataSet = df_Exfeatures[feature_col_list]\n",
    "\n",
    "dataSet.columns\n",
    "\n",
    "from KETIToolDataExploration.plot_graph import plot_features, plot_correlation\n",
    "plt.rcParams['figure.figsize'] =(18, 20)\n",
    "plot_correlation.plot_correlation_chart(dataSet)\n",
    "plot_features.plot_all_feature_data(dataSet)\n",
    "\n",
    "from KETIToolDataExploration.stats_table.corr_table import Correlation\n",
    "corrT = Correlation(dataSet)\n",
    "topCorrelation = corrT.get_top_abs_correlations(50, target = target_name)\n",
    "print(topCorrelation)"
   ]
  },
  {
   "cell_type": "markdown",
   "metadata": {},
   "source": [
    "## 4. Scaling"
   ]
  },
  {
   "cell_type": "code",
   "execution_count": null,
   "metadata": {},
   "outputs": [],
   "source": [
    "#scalerRootpath = os.path.join('/Users','jw_macmini','CLUSTGit','KETIAppMachineLearning','scaler')\n",
    "scalerRootpath = os.path.join('/home','keti','CLUST_KETI','Clust','KETIAppMachineLearning','scaler','Clust')\n",
    "#scalerRootpath = os.path.join('/Users','bunny','Code_CLUST','KETIAppMachineLearning','scaler','CLUST')\n",
    "\n",
    "from Clust.clust.transformation.general.dataScaler import DataScaler\n",
    "\n",
    "DS = DataScaler('minmax', scalerRootpath )\n",
    "#from Clust.clust.transformation.general import dataScaler\n",
    "#feature_col_list = dataScaler.get_scalable_columns(train_o)\n",
    "DS.setScaleColumns(feature_col_list)\n",
    "DS.setNewScaler(dataSet)\n",
    "dataSet_scaled = DS.transform(dataSet)"
   ]
  },
  {
   "cell_type": "markdown",
   "metadata": {},
   "source": [
    "## 5. Cycle Data Preparation"
   ]
  },
  {
   "cell_type": "code",
   "execution_count": null,
   "metadata": {},
   "outputs": [],
   "source": [
    "dataSet = dataSet_scaled"
   ]
  },
  {
   "cell_type": "code",
   "execution_count": null,
   "metadata": {},
   "outputs": [],
   "source": [
    "from Clust.clust.transformation.dataByCycle import cycle_Module\n",
    "feature_cycle = 'Day'\n",
    "feature_cycle_times = 1\n",
    "dayCycle = cycle_Module.getCycleSelectDataSet(dataSet, feature_cycle, feature_cycle_times)"
   ]
  },
  {
   "cell_type": "markdown",
   "metadata": {},
   "source": [
    "## 6. Clean Data Preparation"
   ]
  },
  {
   "cell_type": "code",
   "execution_count": null,
   "metadata": {},
   "outputs": [],
   "source": [
    "dataSet = dayCycle\n",
    "feature_list = dataSet_scaled.columns\n",
    "feature_name = feature_list[0]"
   ]
  },
  {
   "cell_type": "code",
   "execution_count": null,
   "metadata": {},
   "outputs": [],
   "source": [
    "import matplotlib.pyplot as plt\n",
    "NanInfoForCleanData = {'type':'num', 'ConsecutiveNanLimit':2, 'totalNaNLimit':5}\n",
    "\n",
    "from Clust.clust.quality.NaN import clean_feature_data\n",
    "integrationFreq_min = 2\n",
    "CMS = clean_feature_data.CleanFeatureData(feature_list, integrationFreq_min)\n",
    "refinedData, filterImputedData = CMS.getMultipleCleanDataSetsByDF(dataSet, NanInfoForCleanData)\n",
    "print(len(refinedData), len(filterImputedData))\n",
    "CleanData = pd.concat(filterImputedData.values())"
   ]
  }
 ],
 "metadata": {
  "hide_input": false,
  "kernelspec": {
   "display_name": "Python 3 (ipykernel)",
   "language": "python",
   "name": "python3"
  },
  "language_info": {
   "codemirror_mode": {
    "name": "ipython",
    "version": 3
   },
   "file_extension": ".py",
   "mimetype": "text/x-python",
   "name": "python",
   "nbconvert_exporter": "python",
   "pygments_lexer": "ipython3",
   "version": "3.8.13"
  },
  "toc": {
   "base_numbering": 1,
   "nav_menu": {},
   "number_sections": true,
   "sideBar": true,
   "skip_h1_title": false,
   "title_cell": "Table of Contents",
   "title_sidebar": "Contents",
   "toc_cell": false,
   "toc_position": {},
   "toc_section_display": true,
   "toc_window_display": false
  },
  "varInspector": {
   "cols": {
    "lenName": 16,
    "lenType": 16,
    "lenVar": 40
   },
   "kernels_config": {
    "python": {
     "delete_cmd_postfix": "",
     "delete_cmd_prefix": "del ",
     "library": "var_list.py",
     "varRefreshCmd": "print(var_dic_list())"
    },
    "r": {
     "delete_cmd_postfix": ") ",
     "delete_cmd_prefix": "rm(",
     "library": "var_list.r",
     "varRefreshCmd": "cat(var_dic_list()) "
    }
   },
   "types_to_exclude": [
    "module",
    "function",
    "builtin_function_or_method",
    "instance",
    "_Feature"
   ],
   "window_display": false
  },
  "vscode": {
   "interpreter": {
    "hash": "f1ef7e1f828dbb4e75f421045d2c565197efaf8469a0be4a314c6ea8378b5cb2"
   }
  }
 },
 "nbformat": 4,
 "nbformat_minor": 4
}
