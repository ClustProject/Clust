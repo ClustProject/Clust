{
 "cells": [
  {
   "cell_type": "markdown",
   "id": "8d196b38",
   "metadata": {
    "toc": true
   },
   "source": [
    "<h1>Table of Contents<span class=\"tocSkip\"></span></h1>\n",
    "<div class=\"toc\"><ul class=\"toc-item\"><li><span><a href=\"#Import\" data-toc-modified-id=\"Import-1\"><span class=\"toc-item-num\">1&nbsp;&nbsp;</span>Import</a></span></li><li><span><a href=\"#1.-Measurement-분석-메타-생성-및-저장\" data-toc-modified-id=\"1.-Measurement-분석-메타-생성-및-저장-2\"><span class=\"toc-item-num\">2&nbsp;&nbsp;</span>1. Measurement 분석 메타 생성 및 저장</a></span><ul class=\"toc-item\"><li><span><a href=\"#Setting-Upload-Param\" data-toc-modified-id=\"Setting-Upload-Param-2.1\"><span class=\"toc-item-num\">2.1&nbsp;&nbsp;</span>Setting Upload Param</a></span></li><li><span><a href=\"#Get-Meta\" data-toc-modified-id=\"Get-Meta-2.2\"><span class=\"toc-item-num\">2.2&nbsp;&nbsp;</span>Get Meta</a></span></li><li><span><a href=\"#Upload-Meta\" data-toc-modified-id=\"Upload-Meta-2.3\"><span class=\"toc-item-num\">2.3&nbsp;&nbsp;</span>Upload Meta</a></span></li></ul></li><li><span><a href=\"#2.-DataBase-분석-메타-생성-및-저장\" data-toc-modified-id=\"2.-DataBase-분석-메타-생성-및-저장-3\"><span class=\"toc-item-num\">3&nbsp;&nbsp;</span>2. DataBase 분석 메타 생성 및 저장</a></span><ul class=\"toc-item\"><li><span><a href=\"#Setting-Upload-Param\" data-toc-modified-id=\"Setting-Upload-Param-3.1\"><span class=\"toc-item-num\">3.1&nbsp;&nbsp;</span>Setting Upload Param</a></span></li><li><span><a href=\"#Get-Meta\" data-toc-modified-id=\"Get-Meta-3.2\"><span class=\"toc-item-num\">3.2&nbsp;&nbsp;</span>Get Meta</a></span></li><li><span><a href=\"#Upload-Meta\" data-toc-modified-id=\"Upload-Meta-3.3\"><span class=\"toc-item-num\">3.3&nbsp;&nbsp;</span>Upload Meta</a></span></li></ul></li></ul></div>"
   ]
  },
  {
   "cell_type": "markdown",
   "id": "741a3cab",
   "metadata": {},
   "source": [
    "# Import"
   ]
  },
  {
   "cell_type": "code",
   "execution_count": 2,
   "id": "cfbb990c",
   "metadata": {
    "ExecuteTime": {
     "end_time": "2022-12-19T02:02:11.109848Z",
     "start_time": "2022-12-19T02:02:10.727533Z"
    }
   },
   "outputs": [],
   "source": [
    "import pandas as pd\n",
    "import numpy as np\n",
    "import json\n",
    "from pprint import pprint\n",
    "\n",
    "import sys\n",
    "import os\n",
    "\n",
    "sys.path.append(\"../\")\n",
    "sys.path.append(\"../..\")\n",
    "\n",
    "from Clust.setting import influx_setting_KETI as ins\n",
    "from Clust.clust.ingestion.influx import influx_Client_v2 as iC\n",
    "\n",
    "from Clust.clust.meta.metaDataManager import descriptor\n",
    "from Clust.clust.meta.metaGenerator.analysisMSMetaGenerator import analysisMSMetaGenerator\n",
    "from Clust.clust.meta.metaGenerator.analysisDBMetaGenerator import analysisDBMetaGenerator\n",
    "\n",
    "from pprint import pprint"
   ]
  },
  {
   "cell_type": "markdown",
   "id": "6d5f171a",
   "metadata": {},
   "source": [
    "# 1. Measurement 분석 메타 생성 및 저장"
   ]
  },
  {
   "cell_type": "markdown",
   "id": "3be4bd0a",
   "metadata": {},
   "source": [
    "## Setting Upload Param"
   ]
  },
  {
   "cell_type": "code",
   "execution_count": 3,
   "id": "b30553ca",
   "metadata": {
    "ExecuteTime": {
     "end_time": "2022-12-19T02:02:12.985763Z",
     "start_time": "2022-12-19T02:02:12.982214Z"
    }
   },
   "outputs": [
    {
     "name": "stdout",
     "output_type": "stream",
     "text": [
      "http://10.252.107.59:5000\n"
     ]
    }
   ],
   "source": [
    "#influx_instance = iC.influxClient(ins.CLUSTDataServer2)\n",
    "mongo_instance = ins.wiz_url\n",
    "print(mongo_instance)"
   ]
  },
  {
   "cell_type": "code",
   "execution_count": null,
   "id": "84cdebbc",
   "metadata": {
    "ExecuteTime": {
     "end_time": "2022-08-30T04:18:56.081881Z",
     "start_time": "2022-08-30T04:18:56.079308Z"
    }
   },
   "outputs": [],
   "source": [
    "## DataBase\n",
    "domain = \"farm\"\n",
    "sub_domain = \"swine_air\"\n",
    "\n",
    "## 분석하고 싶은 measurement 설정\n",
    "measurement_list = None\n",
    "\n",
    "## 분석 함수 설정\n",
    "function_list= None"
   ]
  },
  {
   "cell_type": "code",
   "execution_count": null,
   "id": "374ece21",
   "metadata": {
    "ExecuteTime": {
     "end_time": "2022-08-30T04:19:00.873516Z",
     "start_time": "2022-08-30T04:19:00.870994Z"
    }
   },
   "outputs": [],
   "source": [
    "## 분석 메타 생성관련 Parameter\n",
    "analysis_param = {\n",
    "    \"dbName\":domain,\n",
    "    \"collectionName\":sub_domain,\n",
    "    \"measurementList\" : measurement_list,\n",
    "    \"functionList\" : function_list\n",
    "}"
   ]
  },
  {
   "cell_type": "markdown",
   "id": "b14d8eb4",
   "metadata": {},
   "source": [
    "## Get Meta"
   ]
  },
  {
   "cell_type": "code",
   "execution_count": null,
   "id": "3c194188",
   "metadata": {
    "ExecuteTime": {
     "end_time": "2022-08-30T04:21:19.292989Z",
     "start_time": "2022-08-30T04:19:01.951099Z"
    },
    "scrolled": true
   },
   "outputs": [],
   "source": [
    "## 분석 메타 생성\n",
    "meta_set = analysisMSMetaGenerator(analysis_param, influx_instance, mongo_instance).get_metaset()"
   ]
  },
  {
   "cell_type": "code",
   "execution_count": null,
   "id": "c3b05645",
   "metadata": {
    "ExecuteTime": {
     "end_time": "2022-08-30T04:27:54.421833Z",
     "start_time": "2022-08-30T04:27:54.396527Z"
    },
    "scrolled": true
   },
   "outputs": [],
   "source": [
    "meta_set"
   ]
  },
  {
   "cell_type": "code",
   "execution_count": null,
   "id": "4f772cac",
   "metadata": {
    "ExecuteTime": {
     "end_time": "2022-08-30T04:21:19.397177Z",
     "start_time": "2022-08-30T04:21:19.354001Z"
    },
    "scrolled": true
   },
   "outputs": [],
   "source": [
    "for m in meta_set:\n",
    "    print(m[\"table_name\"])\n",
    "    print(m[\"analysisResult\"][\"StatisticsAnalyzer\"].keys())\n",
    "    print(m[\"analysisResult\"][\"MeanByHoliday\"].keys())\n",
    "    print(m[\"analysisResult\"][\"MeanByWorking\"].keys())\n",
    "    print(m[\"analysisResult\"][\"MeanByTimeStep\"].keys())\n",
    "    print(m[\"analysisResult\"][\"CountByFeatureLabel\"].keys())\n",
    "    print(\"------------------------------------------------------\")"
   ]
  },
  {
   "cell_type": "markdown",
   "id": "ed2949f5",
   "metadata": {},
   "source": [
    "## Upload Meta"
   ]
  },
  {
   "cell_type": "code",
   "execution_count": null,
   "id": "8e04c6c4",
   "metadata": {
    "ExecuteTime": {
     "end_time": "2022-08-30T04:32:02.900047Z",
     "start_time": "2022-08-30T04:32:02.885430Z"
    },
    "scrolled": false
   },
   "outputs": [],
   "source": [
    "## 생성된 메타 저장\n",
    "# upload\n",
    "uploadParam = {\n",
    "    \"dbName\":domain,\n",
    "    \"collectionName\":sub_domain,\n",
    "    \"mode\" : \"update\"# insert / update / save\n",
    "}\n",
    "\n",
    "descriptor.write_data(uploadParam, meta_set, mongo_instance)"
   ]
  },
  {
   "cell_type": "markdown",
   "id": "40ee91e1",
   "metadata": {},
   "source": [
    "# 2. DataBase 분석 메타 생성 및 저장"
   ]
  },
  {
   "cell_type": "markdown",
   "id": "331cb642",
   "metadata": {},
   "source": [
    "## Setting Upload Param"
   ]
  },
  {
   "cell_type": "code",
   "execution_count": null,
   "id": "b7f61ff4",
   "metadata": {
    "ExecuteTime": {
     "end_time": "2022-08-30T04:22:05.578369Z",
     "start_time": "2022-08-30T04:22:05.576065Z"
    }
   },
   "outputs": [],
   "source": [
    "influx_instance = iC.influxClient(ins.CLUSTDataServer2)\n",
    "mongo_instance = ins.wiz_url"
   ]
  },
  {
   "cell_type": "code",
   "execution_count": null,
   "id": "9a8be936",
   "metadata": {},
   "outputs": [],
   "source": [
    "# 저장하고 싶은 Bucket 정보 셋팅\n",
    "domain = \"farm\"\n",
    "sub_domain = \"swine_air\""
   ]
  },
  {
   "cell_type": "code",
   "execution_count": null,
   "id": "dbd3b1bc",
   "metadata": {
    "ExecuteTime": {
     "end_time": "2022-08-30T04:22:57.376103Z",
     "start_time": "2022-08-30T04:22:57.373379Z"
    }
   },
   "outputs": [],
   "source": [
    "## 분석 메타 생성관련 Parameter\n",
    "dbName = domain\n",
    "collectionName = sub_domain\n",
    "labels = {\n",
    "        \"StatisticsAnalyzer\" : [\"min\", \"max\", \"mean\"],\n",
    "        \"MeanByHoliday\" : [\"holiday\", \"notHoliday\"],\n",
    "        \"MeanByWorking\" : [\"working\", \"notWorking\"],\n",
    "        \"MeanByTimeStep\" : [\"dawn\", \"morning\", \"afternoon\", \"evening\", \"night\"]}"
   ]
  },
  {
   "cell_type": "markdown",
   "id": "693aac44",
   "metadata": {},
   "source": [
    "## Get Meta"
   ]
  },
  {
   "cell_type": "code",
   "execution_count": null,
   "id": "c890483b",
   "metadata": {
    "ExecuteTime": {
     "end_time": "2022-08-30T04:23:00.866050Z",
     "start_time": "2022-08-30T04:22:59.710770Z"
    },
    "scrolled": true
   },
   "outputs": [],
   "source": [
    "## 분석 메타 생성\n",
    "gbam = analysisDBMetaGenerator(dbName, collectionName, labels, mongo_instance)\n",
    "bucket_analysis_meta = gbam.get_bucketAnalysisMeta()"
   ]
  },
  {
   "cell_type": "code",
   "execution_count": null,
   "id": "535c2888",
   "metadata": {},
   "outputs": [],
   "source": [
    "bucket_analysis_meta"
   ]
  },
  {
   "cell_type": "code",
   "execution_count": null,
   "id": "1f0a13c6",
   "metadata": {},
   "outputs": [],
   "source": []
  },
  {
   "cell_type": "markdown",
   "id": "5861d733",
   "metadata": {},
   "source": [
    "## Upload Meta"
   ]
  },
  {
   "cell_type": "code",
   "execution_count": null,
   "id": "dca48d7e",
   "metadata": {
    "ExecuteTime": {
     "end_time": "2022-08-30T04:23:05.833379Z",
     "start_time": "2022-08-30T04:23:05.809405Z"
    }
   },
   "outputs": [],
   "source": [
    "## 생성된 메타 저장\n",
    "uploadParam = {\n",
    "    \"dbName\":\"bucket\",\n",
    "    \"collectionName\":\"meta_info\",\n",
    "    \"mode\" : \"update\"# insert / update / save\n",
    "}\n",
    "\n",
    "descriptor.write_data(uploadParam, bucket_analysis_meta, mongo_instance)\n",
    "print(\"--------------------\")"
   ]
  },
  {
   "cell_type": "code",
   "execution_count": null,
   "id": "04afa283",
   "metadata": {},
   "outputs": [],
   "source": []
  }
 ],
 "metadata": {
  "hide_input": false,
  "kernelspec": {
   "display_name": "Python 3 (ipykernel)",
   "language": "python",
   "name": "python3"
  },
  "language_info": {
   "codemirror_mode": {
    "name": "ipython",
    "version": 3
   },
   "file_extension": ".py",
   "mimetype": "text/x-python",
   "name": "python",
   "nbconvert_exporter": "python",
   "pygments_lexer": "ipython3",
   "version": "3.9.12"
  },
  "toc": {
   "base_numbering": 1,
   "nav_menu": {},
   "number_sections": true,
   "sideBar": true,
   "skip_h1_title": false,
   "title_cell": "Table of Contents",
   "title_sidebar": "Contents",
   "toc_cell": true,
   "toc_position": {
    "height": "calc(100% - 180px)",
    "left": "10px",
    "top": "150px",
    "width": "165px"
   },
   "toc_section_display": true,
   "toc_window_display": true
  },
  "vscode": {
   "interpreter": {
    "hash": "f1ef7e1f828dbb4e75f421045d2c565197efaf8469a0be4a314c6ea8378b5cb2"
   }
  }
 },
 "nbformat": 4,
 "nbformat_minor": 5
}
