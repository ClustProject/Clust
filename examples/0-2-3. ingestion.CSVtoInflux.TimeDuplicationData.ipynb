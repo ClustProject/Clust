{
 "cells": [
  {
   "cell_type": "markdown",
   "id": "f24c40c8",
   "metadata": {
    "toc": true
   },
   "source": [
    "<h1>Table of Contents<span class=\"tocSkip\"></span></h1>\n",
    "<div class=\"toc\"><ul class=\"toc-item\"><li><span><a href=\"#Import\" data-toc-modified-id=\"Import-1\"><span class=\"toc-item-num\">1&nbsp;&nbsp;</span>Import</a></span></li><li><span><a href=\"#1.-Setting-Parameter\" data-toc-modified-id=\"1.-Setting-Parameter-2\"><span class=\"toc-item-num\">2&nbsp;&nbsp;</span>1. Setting Parameter</a></span></li><li><span><a href=\"#Data-Collect\" data-toc-modified-id=\"Data-Collect-3\"><span class=\"toc-item-num\">3&nbsp;&nbsp;</span>Data Collect</a></span></li><li><span><a href=\"#3.-Example-Input-Data\" data-toc-modified-id=\"3.-Example-Input-Data-4\"><span class=\"toc-item-num\">4&nbsp;&nbsp;</span>3. Example Input Data</a></span></li><li><span><a href=\"#4.-Example-Save-Data\" data-toc-modified-id=\"4.-Example-Save-Data-5\"><span class=\"toc-item-num\">5&nbsp;&nbsp;</span>4. Example Save Data</a></span></li></ul></div>"
   ]
  },
  {
   "cell_type": "markdown",
   "id": "649bdd80",
   "metadata": {},
   "source": [
    "# Import"
   ]
  },
  {
   "cell_type": "code",
   "execution_count": 1,
   "id": "6de0fbef",
   "metadata": {
    "ExecuteTime": {
     "end_time": "2022-07-06T02:40:12.801187Z",
     "start_time": "2022-07-06T02:40:12.055608Z"
    }
   },
   "outputs": [],
   "source": [
    "import pandas as pd\n",
    "import os\n",
    "import sys\n",
    "\n",
    "sys.path.append(\"../\")\n",
    "sys.path.append(\"../..\")\n",
    "\n",
    "from Clust.setting.influx_setting_KETI import CLUSTDataServer2 as ins\n",
    "from Clust.clust.ingestion.influx import influx_Client_v2 as iC\n",
    "\n",
    "import Clust.clust.ingestion.CSVtoInflux.csvCollector as cC"
   ]
  },
  {
   "cell_type": "markdown",
   "id": "39f7eb71",
   "metadata": {},
   "source": [
    "# 1. Setting Parameter"
   ]
  },
  {
   "cell_type": "markdown",
   "id": "5612cfa8",
   "metadata": {},
   "source": [
    "- parameter 는 KETIPreDataCollection.collectorParameter 의 parameter 로 호출 가능\n",
    "```\n",
    "###예시###\n",
    "import KETIPreDataCollection.collectorParameter as cP\n",
    "cP.parameter\n",
    "```"
   ]
  },
  {
   "cell_type": "code",
   "execution_count": 2,
   "id": "105f6d66",
   "metadata": {
    "ExecuteTime": {
     "end_time": "2022-07-06T02:40:12.804971Z",
     "start_time": "2022-07-06T02:40:12.802678Z"
    }
   },
   "outputs": [],
   "source": [
    "####### db connection parameter\n",
    "db_client = iC.influxClient(ins)"
   ]
  },
  {
   "cell_type": "code",
   "execution_count": 3,
   "id": "f811da62",
   "metadata": {
    "ExecuteTime": {
     "end_time": "2022-07-06T02:40:12.808002Z",
     "start_time": "2022-07-06T02:40:12.806097Z"
    }
   },
   "outputs": [],
   "source": [
    "####### Folder / File 업로드 방식 고르시\n",
    "upload_type_list = [\"File\", \"Folder\"]\n",
    "upload_type = upload_type_list[0]"
   ]
  },
  {
   "cell_type": "code",
   "execution_count": 4,
   "id": "ec769037",
   "metadata": {
    "ExecuteTime": {
     "end_time": "2022-07-06T02:40:12.813702Z",
     "start_time": "2022-07-06T02:40:12.809503Z"
    }
   },
   "outputs": [],
   "source": [
    "####### read&clean type 고르기 parameter\n",
    "data_read_type_list = [\"basic\", \"selectedData\", \"highCapacity\"]\n",
    "data_read_type = data_read_type_list[1]"
   ]
  },
  {
   "cell_type": "code",
   "execution_count": 5,
   "id": "fa06aa58",
   "metadata": {
    "ExecuteTime": {
     "end_time": "2022-07-06T02:40:12.820203Z",
     "start_time": "2022-07-06T02:40:12.816717Z"
    }
   },
   "outputs": [],
   "source": [
    "####### 기본 Data 관련 저장에 필요한 정보 기입\n",
    "db_name = \"test_data_type3\"\n",
    "ms_name = \"test3\"\n",
    "path = \"./Data Collection_Test Data Folder/TimeDuplicatoinData_Type3.csv\"\n",
    "encoding = \"cp949\""
   ]
  },
  {
   "cell_type": "code",
   "execution_count": 6,
   "id": "b349feb5",
   "metadata": {
    "ExecuteTime": {
     "end_time": "2022-07-06T02:40:12.825250Z",
     "start_time": "2022-07-06T02:40:12.821515Z"
    }
   },
   "outputs": [],
   "source": [
    "####### 저장될 데이터의 시간 스템프로 지정될 column 을 기입하는 parameter\n",
    "time_column = \"사용일자\""
   ]
  },
  {
   "cell_type": "code",
   "execution_count": 7,
   "id": "7beba234",
   "metadata": {
    "ExecuteTime": {
     "end_time": "2022-07-06T02:40:12.832410Z",
     "start_time": "2022-07-06T02:40:12.829102Z"
    }
   },
   "outputs": [],
   "source": [
    "####### clean type 에 따라 data read type의 parameter 가 달라짐\n",
    "selected_datas =  [\n",
    "    {\"Selected_columns\":[\"노선번호\", \"역명\"]},\n",
    "    {\"Selected_values\":[\"100\", \"한성여객종점\"]},\n",
    "    {\"Selected_Function\":[\"Equal\", \"Equal\"]}\n",
    "]"
   ]
  },
  {
   "cell_type": "code",
   "execution_count": 8,
   "id": "5f53fbb1",
   "metadata": {
    "ExecuteTime": {
     "end_time": "2022-07-06T02:40:12.839594Z",
     "start_time": "2022-07-06T02:40:12.834599Z"
    }
   },
   "outputs": [],
   "source": [
    "####### 저장하는 column 선택하는 parameter\n",
    "selected_columns = [{\"Selected_columns\":['승차총승객수', '하차총승객수']},\n",
    "                    {\"Rename_columns\":['number of passengers getting in', 'number of passengers getting off']}]"
   ]
  },
  {
   "cell_type": "code",
   "execution_count": 9,
   "id": "90e2de61",
   "metadata": {
    "ExecuteTime": {
     "end_time": "2022-07-06T02:40:12.845418Z",
     "start_time": "2022-07-06T02:40:12.841516Z"
    }
   },
   "outputs": [],
   "source": [
    "####### duplicated time column processing method 정하는 parameter\n",
    "dtcpm = [\n",
    "    {\"Selected_columns\":['number of passengers getting in', 'number of passengers getting off']},\n",
    "    {\"Processing_method\":[\"Max\", \"Min\"]}\n",
    "]"
   ]
  },
  {
   "cell_type": "code",
   "execution_count": 10,
   "id": "72a52696",
   "metadata": {
    "ExecuteTime": {
     "end_time": "2022-07-06T02:40:12.856046Z",
     "start_time": "2022-07-06T02:40:12.849164Z"
    }
   },
   "outputs": [
    {
     "name": "stdout",
     "output_type": "stream",
     "text": [
      "parameter success\n"
     ]
    }
   ],
   "source": [
    "####### 최종 Parameter\n",
    "parameter = {\n",
    "    \"uploadType\" : upload_type,\n",
    "    \"dataReadType\" : data_read_type,\n",
    "    \"dbName\" : db_name,\n",
    "    \"msName\" : ms_name,\n",
    "    \"filePath\" : path,\n",
    "    \"selectedDatas\" : selected_datas, # data read type 이 selectedData 인 경우 필요한 param\n",
    "    \"timeColumnName\" : time_column,\n",
    "    \"selectedColumns\" : selected_columns,\n",
    "    \"duplicatedTimeColumnProcessingMethod\" : dtcpm,\n",
    "    \"encoding\" : encoding\n",
    "}\n",
    "print(\"parameter success\")"
   ]
  },
  {
   "cell_type": "code",
   "execution_count": null,
   "id": "b4f1205c",
   "metadata": {},
   "outputs": [],
   "source": []
  },
  {
   "cell_type": "markdown",
   "id": "1d367021",
   "metadata": {},
   "source": [
    "# Data Collect"
   ]
  },
  {
   "cell_type": "code",
   "execution_count": 11,
   "id": "c453016c",
   "metadata": {
    "ExecuteTime": {
     "end_time": "2022-07-06T02:40:14.789351Z",
     "start_time": "2022-07-06T02:40:12.857939Z"
    },
    "scrolled": false
   },
   "outputs": [
    {
     "name": "stdout",
     "output_type": "stream",
     "text": [
      "===========data clean success===========\n",
      "Writing Data ...\n",
      "=========== ms name : test3 ===========\n",
      "            number of passengers getting in  number of passengers getting off\n",
      "time                                                                         \n",
      "2021-04-29                               16                                 1\n",
      "2021-04-30                               12                                 1\n",
      "========== write success ==========\n"
     ]
    }
   ],
   "source": [
    "csv_collector = cC.Collector(parameter, db_client)\n",
    "csv_collector.collect()"
   ]
  },
  {
   "cell_type": "code",
   "execution_count": null,
   "id": "931f94c8",
   "metadata": {},
   "outputs": [],
   "source": []
  },
  {
   "cell_type": "code",
   "execution_count": null,
   "id": "4fef7a1d",
   "metadata": {},
   "outputs": [],
   "source": []
  },
  {
   "cell_type": "markdown",
   "id": "9c46e74d",
   "metadata": {},
   "source": [
    "# 3. Example Input Data"
   ]
  },
  {
   "cell_type": "code",
   "execution_count": 12,
   "id": "99b72d75",
   "metadata": {
    "ExecuteTime": {
     "end_time": "2022-07-06T02:40:16.689606Z",
     "start_time": "2022-07-06T02:40:14.790570Z"
    }
   },
   "outputs": [],
   "source": [
    "ex_data = pd.read_csv(path, encoding = 'cp949')"
   ]
  },
  {
   "cell_type": "code",
   "execution_count": 13,
   "id": "f449f41d",
   "metadata": {
    "ExecuteTime": {
     "end_time": "2022-07-06T02:40:16.707002Z",
     "start_time": "2022-07-06T02:40:16.690686Z"
    }
   },
   "outputs": [
    {
     "data": {
      "text/html": [
       "<div>\n",
       "<style scoped>\n",
       "    .dataframe tbody tr th:only-of-type {\n",
       "        vertical-align: middle;\n",
       "    }\n",
       "\n",
       "    .dataframe tbody tr th {\n",
       "        vertical-align: top;\n",
       "    }\n",
       "\n",
       "    .dataframe thead th {\n",
       "        text-align: right;\n",
       "    }\n",
       "</style>\n",
       "<table border=\"1\" class=\"dataframe\">\n",
       "  <thead>\n",
       "    <tr style=\"text-align: right;\">\n",
       "      <th></th>\n",
       "      <th>사용일자</th>\n",
       "      <th>노선번호</th>\n",
       "      <th>노선명</th>\n",
       "      <th>버스정류장ARS번호</th>\n",
       "      <th>역명</th>\n",
       "      <th>승차총승객수</th>\n",
       "      <th>하차총승객수</th>\n",
       "      <th>등록일자</th>\n",
       "    </tr>\n",
       "  </thead>\n",
       "  <tbody>\n",
       "    <tr>\n",
       "      <th>0</th>\n",
       "      <td>20210401</td>\n",
       "      <td>100</td>\n",
       "      <td>100번(하계동~용산구청)</td>\n",
       "      <td>11428</td>\n",
       "      <td>한성여객종점</td>\n",
       "      <td>19</td>\n",
       "      <td>2</td>\n",
       "      <td>20210404</td>\n",
       "    </tr>\n",
       "    <tr>\n",
       "      <th>1</th>\n",
       "      <td>20210401</td>\n",
       "      <td>100</td>\n",
       "      <td>100번(하계동~용산구청)</td>\n",
       "      <td>11374</td>\n",
       "      <td>서울시립북서울미술관</td>\n",
       "      <td>48</td>\n",
       "      <td>0</td>\n",
       "      <td>20210404</td>\n",
       "    </tr>\n",
       "    <tr>\n",
       "      <th>2</th>\n",
       "      <td>20210401</td>\n",
       "      <td>100</td>\n",
       "      <td>100번(하계동~용산구청)</td>\n",
       "      <td>11373</td>\n",
       "      <td>중계역</td>\n",
       "      <td>51</td>\n",
       "      <td>3</td>\n",
       "      <td>20210404</td>\n",
       "    </tr>\n",
       "    <tr>\n",
       "      <th>3</th>\n",
       "      <td>20210401</td>\n",
       "      <td>100</td>\n",
       "      <td>100번(하계동~용산구청)</td>\n",
       "      <td>11434</td>\n",
       "      <td>골마을근린공원</td>\n",
       "      <td>318</td>\n",
       "      <td>89</td>\n",
       "      <td>20210404</td>\n",
       "    </tr>\n",
       "    <tr>\n",
       "      <th>4</th>\n",
       "      <td>20210401</td>\n",
       "      <td>100</td>\n",
       "      <td>100번(하계동~용산구청)</td>\n",
       "      <td>08007</td>\n",
       "      <td>돈암사거리.성신여대입구</td>\n",
       "      <td>105</td>\n",
       "      <td>361</td>\n",
       "      <td>20210404</td>\n",
       "    </tr>\n",
       "  </tbody>\n",
       "</table>\n",
       "</div>"
      ],
      "text/plain": [
       "       사용일자 노선번호             노선명 버스정류장ARS번호            역명  승차총승객수  하차총승객수  \\\n",
       "0  20210401  100  100번(하계동~용산구청)      11428        한성여객종점      19       2   \n",
       "1  20210401  100  100번(하계동~용산구청)      11374    서울시립북서울미술관      48       0   \n",
       "2  20210401  100  100번(하계동~용산구청)      11373           중계역      51       3   \n",
       "3  20210401  100  100번(하계동~용산구청)      11434       골마을근린공원     318      89   \n",
       "4  20210401  100  100번(하계동~용산구청)      08007  돈암사거리.성신여대입구     105     361   \n",
       "\n",
       "       등록일자  \n",
       "0  20210404  \n",
       "1  20210404  \n",
       "2  20210404  \n",
       "3  20210404  \n",
       "4  20210404  "
      ]
     },
     "execution_count": 13,
     "metadata": {},
     "output_type": "execute_result"
    }
   ],
   "source": [
    "ex_data.head()"
   ]
  },
  {
   "cell_type": "markdown",
   "id": "12d7a5ff",
   "metadata": {},
   "source": [
    "# 4. Example Save Data "
   ]
  },
  {
   "cell_type": "code",
   "execution_count": 14,
   "id": "8b68470f",
   "metadata": {
    "ExecuteTime": {
     "end_time": "2022-07-06T02:40:16.793908Z",
     "start_time": "2022-07-06T02:40:16.708443Z"
    }
   },
   "outputs": [],
   "source": [
    "db_client = iC.influxClient(ins)\n",
    "save_data = db_client.get_data(db_name, ms_name)"
   ]
  },
  {
   "cell_type": "code",
   "execution_count": 15,
   "id": "ebad18ec",
   "metadata": {
    "ExecuteTime": {
     "end_time": "2022-07-06T02:40:16.810808Z",
     "start_time": "2022-07-06T02:40:16.797153Z"
    }
   },
   "outputs": [
    {
     "data": {
      "text/html": [
       "<div>\n",
       "<style scoped>\n",
       "    .dataframe tbody tr th:only-of-type {\n",
       "        vertical-align: middle;\n",
       "    }\n",
       "\n",
       "    .dataframe tbody tr th {\n",
       "        vertical-align: top;\n",
       "    }\n",
       "\n",
       "    .dataframe thead th {\n",
       "        text-align: right;\n",
       "    }\n",
       "</style>\n",
       "<table border=\"1\" class=\"dataframe\">\n",
       "  <thead>\n",
       "    <tr style=\"text-align: right;\">\n",
       "      <th></th>\n",
       "      <th>number of passengers getting in</th>\n",
       "      <th>number of passengers getting off</th>\n",
       "    </tr>\n",
       "    <tr>\n",
       "      <th>time</th>\n",
       "      <th></th>\n",
       "      <th></th>\n",
       "    </tr>\n",
       "  </thead>\n",
       "  <tbody>\n",
       "    <tr>\n",
       "      <th>2021-04-01 00:00:00+00:00</th>\n",
       "      <td>19</td>\n",
       "      <td>2</td>\n",
       "    </tr>\n",
       "    <tr>\n",
       "      <th>2021-04-02 00:00:00+00:00</th>\n",
       "      <td>14</td>\n",
       "      <td>5</td>\n",
       "    </tr>\n",
       "    <tr>\n",
       "      <th>2021-04-03 00:00:00+00:00</th>\n",
       "      <td>5</td>\n",
       "      <td>2</td>\n",
       "    </tr>\n",
       "    <tr>\n",
       "      <th>2021-04-04 00:00:00+00:00</th>\n",
       "      <td>4</td>\n",
       "      <td>0</td>\n",
       "    </tr>\n",
       "    <tr>\n",
       "      <th>2021-04-05 00:00:00+00:00</th>\n",
       "      <td>24</td>\n",
       "      <td>1</td>\n",
       "    </tr>\n",
       "  </tbody>\n",
       "</table>\n",
       "</div>"
      ],
      "text/plain": [
       "                           number of passengers getting in  \\\n",
       "time                                                         \n",
       "2021-04-01 00:00:00+00:00                               19   \n",
       "2021-04-02 00:00:00+00:00                               14   \n",
       "2021-04-03 00:00:00+00:00                                5   \n",
       "2021-04-04 00:00:00+00:00                                4   \n",
       "2021-04-05 00:00:00+00:00                               24   \n",
       "\n",
       "                           number of passengers getting off  \n",
       "time                                                         \n",
       "2021-04-01 00:00:00+00:00                                 2  \n",
       "2021-04-02 00:00:00+00:00                                 5  \n",
       "2021-04-03 00:00:00+00:00                                 2  \n",
       "2021-04-04 00:00:00+00:00                                 0  \n",
       "2021-04-05 00:00:00+00:00                                 1  "
      ]
     },
     "execution_count": 15,
     "metadata": {},
     "output_type": "execute_result"
    }
   ],
   "source": [
    "save_data.head()"
   ]
  },
  {
   "cell_type": "code",
   "execution_count": null,
   "id": "fcdb0d80",
   "metadata": {},
   "outputs": [],
   "source": []
  }
 ],
 "metadata": {
  "hide_input": false,
  "kernelspec": {
   "display_name": "Python 3 (ipykernel)",
   "language": "python",
   "name": "python3"
  },
  "language_info": {
   "codemirror_mode": {
    "name": "ipython",
    "version": 3
   },
   "file_extension": ".py",
   "mimetype": "text/x-python",
   "name": "python",
   "nbconvert_exporter": "python",
   "pygments_lexer": "ipython3",
   "version": "3.8.13"
  },
  "toc": {
   "base_numbering": 1,
   "nav_menu": {},
   "number_sections": true,
   "sideBar": true,
   "skip_h1_title": false,
   "title_cell": "Table of Contents",
   "title_sidebar": "Contents",
   "toc_cell": true,
   "toc_position": {
    "height": "calc(100% - 180px)",
    "left": "10px",
    "top": "150px",
    "width": "166.186px"
   },
   "toc_section_display": true,
   "toc_window_display": true
  }
 },
 "nbformat": 4,
 "nbformat_minor": 5
}
