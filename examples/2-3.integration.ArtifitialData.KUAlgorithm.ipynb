{
 "cells": [
  {
   "cell_type": "markdown",
   "metadata": {},
   "source": [
    "JW Test Code"
   ]
  },
  {
   "cell_type": "code",
   "execution_count": 1,
   "metadata": {
    "ExecuteTime": {
     "end_time": "2022-05-03T05:34:47.582292Z",
     "start_time": "2022-05-03T05:34:46.140438Z"
    }
   },
   "outputs": [],
   "source": [
    "import sys\n",
    "import pandas as pd\n",
    "import numpy as np\n",
    "import matplotlib.pyplot as plt\n",
    "sys.path.append(\"../\")\n",
    "sys.path.append(\"../..\")"
   ]
  },
  {
   "cell_type": "markdown",
   "metadata": {},
   "source": [
    "# Data Integration1 - Input : DataSet"
   ]
  },
  {
   "cell_type": "markdown",
   "metadata": {},
   "source": [
    "## 1. Data Preparation"
   ]
  },
  {
   "cell_type": "markdown",
   "metadata": {},
   "source": [
    "### Make 3 Numeric Test Data with different frequencies"
   ]
  },
  {
   "cell_type": "code",
   "execution_count": 2,
   "metadata": {
    "ExecuteTime": {
     "end_time": "2022-05-03T05:34:47.598515Z",
     "start_time": "2022-05-03T05:34:47.583523Z"
    }
   },
   "outputs": [],
   "source": [
    "r_0 = pd.date_range(start='1/3/2018', end= '1/05/2018', freq='10T')\n",
    "r_1 = pd.date_range(start='1/2/2018', end= '1/09/2018', freq='7T')\n",
    "r_2 = pd.date_range(start='1/1/2018', end= '1/07/2018', freq='3T')\n",
    "data_0 = {'datetime': r_0,\n",
    "          'data0':np.random.randint(0, 100, size=(len(r_0)))}\n",
    "data_1 = {'datetime': r_1,\n",
    "          'data1':np.random.randint(0, 100, size=(len(r_1)))}\n",
    "data_2 = {'datetime': r_2,\n",
    "          'data2':np.random.randint(0, 100, size=(len(r_2)))}\n",
    "\n",
    "df0 = pd.DataFrame (data = data_0).set_index('datetime')\n",
    "df1 = pd.DataFrame (data = data_1).set_index('datetime')\n",
    "df2 = pd.DataFrame (data = data_2).set_index('datetime')\n",
    "data_partial_numeric = {0:df0, 1:df1, 2:df2}"
   ]
  },
  {
   "cell_type": "code",
   "execution_count": 3,
   "metadata": {
    "ExecuteTime": {
     "end_time": "2022-05-03T05:34:47.633280Z",
     "start_time": "2022-05-03T05:34:47.602007Z"
    },
    "scrolled": true
   },
   "outputs": [
    {
     "data": {
      "text/plain": [
       "{0:                      data0\n",
       " datetime                  \n",
       " 2018-01-03 00:00:00     69\n",
       " 2018-01-03 00:10:00     60\n",
       " 2018-01-03 00:20:00     87\n",
       " 2018-01-03 00:30:00     97\n",
       " 2018-01-03 00:40:00     52\n",
       " ...                    ...\n",
       " 2018-01-04 23:20:00     48\n",
       " 2018-01-04 23:30:00     70\n",
       " 2018-01-04 23:40:00     72\n",
       " 2018-01-04 23:50:00     46\n",
       " 2018-01-05 00:00:00     93\n",
       " \n",
       " [289 rows x 1 columns],\n",
       " 1:                      data1\n",
       " datetime                  \n",
       " 2018-01-02 00:00:00     47\n",
       " 2018-01-02 00:07:00     43\n",
       " 2018-01-02 00:14:00     88\n",
       " 2018-01-02 00:21:00     19\n",
       " 2018-01-02 00:28:00     62\n",
       " ...                    ...\n",
       " 2018-01-08 23:32:00     45\n",
       " 2018-01-08 23:39:00     78\n",
       " 2018-01-08 23:46:00     89\n",
       " 2018-01-08 23:53:00     38\n",
       " 2018-01-09 00:00:00     55\n",
       " \n",
       " [1441 rows x 1 columns],\n",
       " 2:                      data2\n",
       " datetime                  \n",
       " 2018-01-01 00:00:00      6\n",
       " 2018-01-01 00:03:00     33\n",
       " 2018-01-01 00:06:00     35\n",
       " 2018-01-01 00:09:00     51\n",
       " 2018-01-01 00:12:00     53\n",
       " ...                    ...\n",
       " 2018-01-06 23:48:00     35\n",
       " 2018-01-06 23:51:00     28\n",
       " 2018-01-06 23:54:00     63\n",
       " 2018-01-06 23:57:00     97\n",
       " 2018-01-07 00:00:00      3\n",
       " \n",
       " [2881 rows x 1 columns]}"
      ]
     },
     "execution_count": 3,
     "metadata": {},
     "output_type": "execute_result"
    }
   ],
   "source": [
    "data_partial_numeric"
   ]
  },
  {
   "cell_type": "markdown",
   "metadata": {},
   "source": [
    "## 2. Integration Meta"
   ]
  },
  {
   "cell_type": "code",
   "execution_count": 4,
   "metadata": {
    "ExecuteTime": {
     "end_time": "2022-05-03T05:34:47.681912Z",
     "start_time": "2022-05-03T05:34:47.637073Z"
    }
   },
   "outputs": [
    {
     "name": "stdout",
     "output_type": "stream",
     "text": [
      "overlap: {'start_time': Timestamp('2018-01-03 00:00:00'), 'end_time': Timestamp('2018-01-05 00:00:00')}\n",
      "GCD: 60\n",
      "GCDs: 60S\n"
     ]
    },
    {
     "data": {
      "text/plain": [
       "{'frequency_list': [600, 420, 180],\n",
       " 'min_frequency': 180,\n",
       " 'max_frequency': 600,\n",
       " 'frequency_is_same': False,\n",
       " 'average_frequency': 400.0,\n",
       " 'median_frequency': 420.0,\n",
       " 'GCD': 60,\n",
       " 'GCDs': '60S'}"
      ]
     },
     "execution_count": 4,
     "metadata": {},
     "output_type": "execute_result"
    }
   ],
   "source": [
    "from clust.integration.meta import partialDataInfo\n",
    "integration_duration=\"common\"\n",
    "partial_data_info = partialDataInfo.PartialData(data_partial_numeric, integration_duration)\n",
    "overlap_duration = partial_data_info.column_meta['overlap_duration']\n",
    "GCD = partial_data_info.partial_frequency_info['GCD']\n",
    "GCDs = partial_data_info.partial_frequency_info['GCDs']\n",
    "\n",
    "print(\"overlap:\", overlap_duration)\n",
    "print(\"GCD:\", GCD)\n",
    "print(\"GCDs:\", GCDs)\n",
    "partial_data_info.partial_frequency_info"
   ]
  },
  {
   "cell_type": "code",
   "execution_count": 5,
   "metadata": {},
   "outputs": [
    {
     "data": {
      "text/plain": [
       "{'overlap_duration': {'start_time': Timestamp('2018-01-03 00:00:00'),\n",
       "  'end_time': Timestamp('2018-01-05 00:00:00')},\n",
       " 'column_characteristics': {'data0': {'column_name': 'data0',\n",
       "   'column_frequency': Timedelta('0 days 00:10:00'),\n",
       "   'column_type': dtype('int64'),\n",
       "   'occurence_time': 'Continuous',\n",
       "   'pointDependency': 'Yes',\n",
       "   'upsampling_method': 'mean',\n",
       "   'downsampling_method': 'mean'},\n",
       "  'data1': {'column_name': 'data1',\n",
       "   'column_frequency': Timedelta('0 days 00:07:00'),\n",
       "   'column_type': dtype('int64'),\n",
       "   'occurence_time': 'Continuous',\n",
       "   'pointDependency': 'Yes',\n",
       "   'upsampling_method': 'mean',\n",
       "   'downsampling_method': 'mean'},\n",
       "  'data2': {'column_name': 'data2',\n",
       "   'column_frequency': Timedelta('0 days 00:03:00'),\n",
       "   'column_type': dtype('int64'),\n",
       "   'occurence_time': 'Continuous',\n",
       "   'pointDependency': 'Yes',\n",
       "   'upsampling_method': 'mean',\n",
       "   'downsampling_method': 'mean'}}}"
      ]
     },
     "execution_count": 5,
     "metadata": {},
     "output_type": "execute_result"
    }
   ],
   "source": [
    "partial_data_info.column_meta"
   ]
  },
  {
   "cell_type": "code",
   "execution_count": 6,
   "metadata": {
    "ExecuteTime": {
     "end_time": "2022-05-03T05:34:47.692640Z",
     "start_time": "2022-05-03T05:34:47.685255Z"
    }
   },
   "outputs": [
    {
     "data": {
      "text/plain": [
       "{'frequency_list': [600, 420, 180],\n",
       " 'min_frequency': 180,\n",
       " 'max_frequency': 600,\n",
       " 'frequency_is_same': False,\n",
       " 'average_frequency': 400.0,\n",
       " 'median_frequency': 420.0,\n",
       " 'GCD': 60,\n",
       " 'GCDs': '60S'}"
      ]
     },
     "execution_count": 6,
     "metadata": {},
     "output_type": "execute_result"
    }
   ],
   "source": [
    "partial_data_info.partial_frequency_info"
   ]
  },
  {
   "cell_type": "markdown",
   "metadata": {},
   "source": [
    "## 3. GCD에 의해서 변환한 후 합친 버젼"
   ]
  },
  {
   "cell_type": "code",
   "execution_count": 7,
   "metadata": {
    "ExecuteTime": {
     "end_time": "2022-05-03T05:34:47.792588Z",
     "start_time": "2022-05-03T05:34:47.694750Z"
    }
   },
   "outputs": [
    {
     "data": {
      "text/html": [
       "<div>\n",
       "<style scoped>\n",
       "    .dataframe tbody tr th:only-of-type {\n",
       "        vertical-align: middle;\n",
       "    }\n",
       "\n",
       "    .dataframe tbody tr th {\n",
       "        vertical-align: top;\n",
       "    }\n",
       "\n",
       "    .dataframe thead th {\n",
       "        text-align: right;\n",
       "    }\n",
       "</style>\n",
       "<table border=\"1\" class=\"dataframe\">\n",
       "  <thead>\n",
       "    <tr style=\"text-align: right;\">\n",
       "      <th></th>\n",
       "      <th>data0</th>\n",
       "      <th>data1</th>\n",
       "      <th>data2</th>\n",
       "    </tr>\n",
       "    <tr>\n",
       "      <th>datetime</th>\n",
       "      <th></th>\n",
       "      <th></th>\n",
       "      <th></th>\n",
       "    </tr>\n",
       "  </thead>\n",
       "  <tbody>\n",
       "    <tr>\n",
       "      <th>2018-01-03 00:00:00</th>\n",
       "      <td>69.0</td>\n",
       "      <td>NaN</td>\n",
       "      <td>67.0</td>\n",
       "    </tr>\n",
       "    <tr>\n",
       "      <th>2018-01-03 00:01:00</th>\n",
       "      <td>NaN</td>\n",
       "      <td>NaN</td>\n",
       "      <td>NaN</td>\n",
       "    </tr>\n",
       "    <tr>\n",
       "      <th>2018-01-03 00:02:00</th>\n",
       "      <td>NaN</td>\n",
       "      <td>37.0</td>\n",
       "      <td>NaN</td>\n",
       "    </tr>\n",
       "    <tr>\n",
       "      <th>2018-01-03 00:03:00</th>\n",
       "      <td>NaN</td>\n",
       "      <td>NaN</td>\n",
       "      <td>95.0</td>\n",
       "    </tr>\n",
       "    <tr>\n",
       "      <th>2018-01-03 00:04:00</th>\n",
       "      <td>NaN</td>\n",
       "      <td>NaN</td>\n",
       "      <td>NaN</td>\n",
       "    </tr>\n",
       "    <tr>\n",
       "      <th>...</th>\n",
       "      <td>...</td>\n",
       "      <td>...</td>\n",
       "      <td>...</td>\n",
       "    </tr>\n",
       "    <tr>\n",
       "      <th>2018-01-04 23:56:00</th>\n",
       "      <td>NaN</td>\n",
       "      <td>NaN</td>\n",
       "      <td>NaN</td>\n",
       "    </tr>\n",
       "    <tr>\n",
       "      <th>2018-01-04 23:57:00</th>\n",
       "      <td>NaN</td>\n",
       "      <td>NaN</td>\n",
       "      <td>83.0</td>\n",
       "    </tr>\n",
       "    <tr>\n",
       "      <th>2018-01-04 23:58:00</th>\n",
       "      <td>NaN</td>\n",
       "      <td>NaN</td>\n",
       "      <td>NaN</td>\n",
       "    </tr>\n",
       "    <tr>\n",
       "      <th>2018-01-04 23:59:00</th>\n",
       "      <td>NaN</td>\n",
       "      <td>98.0</td>\n",
       "      <td>NaN</td>\n",
       "    </tr>\n",
       "    <tr>\n",
       "      <th>2018-01-05 00:00:00</th>\n",
       "      <td>93.0</td>\n",
       "      <td>NaN</td>\n",
       "      <td>35.0</td>\n",
       "    </tr>\n",
       "  </tbody>\n",
       "</table>\n",
       "<p>2881 rows × 3 columns</p>\n",
       "</div>"
      ],
      "text/plain": [
       "                     data0  data1  data2\n",
       "datetime                                \n",
       "2018-01-03 00:00:00   69.0    NaN   67.0\n",
       "2018-01-03 00:01:00    NaN    NaN    NaN\n",
       "2018-01-03 00:02:00    NaN   37.0    NaN\n",
       "2018-01-03 00:03:00    NaN    NaN   95.0\n",
       "2018-01-03 00:04:00    NaN    NaN    NaN\n",
       "...                    ...    ...    ...\n",
       "2018-01-04 23:56:00    NaN    NaN    NaN\n",
       "2018-01-04 23:57:00    NaN    NaN   83.0\n",
       "2018-01-04 23:58:00    NaN    NaN    NaN\n",
       "2018-01-04 23:59:00    NaN   98.0    NaN\n",
       "2018-01-05 00:00:00   93.0    NaN   35.0\n",
       "\n",
       "[2881 rows x 3 columns]"
      ]
     },
     "execution_count": 7,
     "metadata": {},
     "output_type": "execute_result"
    }
   ],
   "source": [
    "from clust.preprocessing.refinement.frequency import RefineFrequency\n",
    "sameFDataSet = RefineFrequency().get_RefinedDataSetwithStaticFreq(data_partial_numeric, GCDs)\n",
    "from clust.integration.meta import data_integration\n",
    "data_int = data_integration.DataIntegration(sameFDataSet)\n",
    "dintegrated_data = data_int.simple_integration(overlap_duration)\n",
    "dintegrated_data"
   ]
  },
  {
   "cell_type": "markdown",
   "metadata": {},
   "source": [
    "## 4. 이렇게 안해도 될 것 같지만 여튼 integer로 변환한 버젼"
   ]
  },
  {
   "cell_type": "code",
   "execution_count": 8,
   "metadata": {
    "ExecuteTime": {
     "end_time": "2022-05-03T05:34:47.839981Z",
     "start_time": "2022-05-03T05:34:47.798499Z"
    }
   },
   "outputs": [
    {
     "data": {
      "text/html": [
       "<div>\n",
       "<style scoped>\n",
       "    .dataframe tbody tr th:only-of-type {\n",
       "        vertical-align: middle;\n",
       "    }\n",
       "\n",
       "    .dataframe tbody tr th {\n",
       "        vertical-align: top;\n",
       "    }\n",
       "\n",
       "    .dataframe thead th {\n",
       "        text-align: right;\n",
       "    }\n",
       "</style>\n",
       "<table border=\"1\" class=\"dataframe\">\n",
       "  <thead>\n",
       "    <tr style=\"text-align: right;\">\n",
       "      <th></th>\n",
       "      <th>data0</th>\n",
       "      <th>data1</th>\n",
       "      <th>data2</th>\n",
       "    </tr>\n",
       "    <tr>\n",
       "      <th>datetime</th>\n",
       "      <th></th>\n",
       "      <th></th>\n",
       "      <th></th>\n",
       "    </tr>\n",
       "  </thead>\n",
       "  <tbody>\n",
       "    <tr>\n",
       "      <th>0</th>\n",
       "      <td>69.0</td>\n",
       "      <td>NaN</td>\n",
       "      <td>67.0</td>\n",
       "    </tr>\n",
       "    <tr>\n",
       "      <th>1</th>\n",
       "      <td>NaN</td>\n",
       "      <td>NaN</td>\n",
       "      <td>NaN</td>\n",
       "    </tr>\n",
       "    <tr>\n",
       "      <th>2</th>\n",
       "      <td>NaN</td>\n",
       "      <td>37.0</td>\n",
       "      <td>NaN</td>\n",
       "    </tr>\n",
       "    <tr>\n",
       "      <th>3</th>\n",
       "      <td>NaN</td>\n",
       "      <td>NaN</td>\n",
       "      <td>95.0</td>\n",
       "    </tr>\n",
       "    <tr>\n",
       "      <th>4</th>\n",
       "      <td>NaN</td>\n",
       "      <td>NaN</td>\n",
       "      <td>NaN</td>\n",
       "    </tr>\n",
       "    <tr>\n",
       "      <th>...</th>\n",
       "      <td>...</td>\n",
       "      <td>...</td>\n",
       "      <td>...</td>\n",
       "    </tr>\n",
       "    <tr>\n",
       "      <th>2876</th>\n",
       "      <td>NaN</td>\n",
       "      <td>NaN</td>\n",
       "      <td>NaN</td>\n",
       "    </tr>\n",
       "    <tr>\n",
       "      <th>2877</th>\n",
       "      <td>NaN</td>\n",
       "      <td>NaN</td>\n",
       "      <td>83.0</td>\n",
       "    </tr>\n",
       "    <tr>\n",
       "      <th>2878</th>\n",
       "      <td>NaN</td>\n",
       "      <td>NaN</td>\n",
       "      <td>NaN</td>\n",
       "    </tr>\n",
       "    <tr>\n",
       "      <th>2879</th>\n",
       "      <td>NaN</td>\n",
       "      <td>98.0</td>\n",
       "      <td>NaN</td>\n",
       "    </tr>\n",
       "    <tr>\n",
       "      <th>2880</th>\n",
       "      <td>93.0</td>\n",
       "      <td>NaN</td>\n",
       "      <td>35.0</td>\n",
       "    </tr>\n",
       "  </tbody>\n",
       "</table>\n",
       "<p>2881 rows × 3 columns</p>\n",
       "</div>"
      ],
      "text/plain": [
       "          data0  data1  data2\n",
       "datetime                     \n",
       "0          69.0    NaN   67.0\n",
       "1           NaN    NaN    NaN\n",
       "2           NaN   37.0    NaN\n",
       "3           NaN    NaN   95.0\n",
       "4           NaN    NaN    NaN\n",
       "...         ...    ...    ...\n",
       "2876        NaN    NaN    NaN\n",
       "2877        NaN    NaN   83.0\n",
       "2878        NaN    NaN    NaN\n",
       "2879        NaN   98.0    NaN\n",
       "2880       93.0    NaN   35.0\n",
       "\n",
       "[2881 rows x 3 columns]"
      ]
     },
     "execution_count": 8,
     "metadata": {},
     "output_type": "execute_result"
    }
   ],
   "source": [
    "new_dintegrated_data = dintegrated_data.copy()\n",
    "new_index = (pd.to_numeric(dintegrated_data.index)/1000000000/60).astype(int)\n",
    "new_index = new_index-new_index[0]\n",
    "new_dintegrated_data.index = new_index\n",
    "new_dintegrated_data"
   ]
  },
  {
   "cell_type": "markdown",
   "metadata": {},
   "source": [
    "## 5. 고려대 Alignment Test 1"
   ]
  },
  {
   "cell_type": "markdown",
   "metadata": {
    "ExecuteTime": {
     "end_time": "2022-04-29T01:48:56.469801Z",
     "start_time": "2022-04-29T01:48:56.466842Z"
    }
   },
   "source": [
    "### Parameter"
   ]
  },
  {
   "cell_type": "code",
   "execution_count": 9,
   "metadata": {
    "ExecuteTime": {
     "end_time": "2022-05-03T05:34:47.856489Z",
     "start_time": "2022-05-03T05:34:47.845827Z"
    }
   },
   "outputs": [],
   "source": [
    "integrationParam = {\n",
    "    \"model\": 'RNN_AE',\n",
    "    \"model_parameter\": {\n",
    "        \"window_size\": 10, # 모델의 input sequence 길이, int(default: 10, 범위: 0 이상 & 원래 데이터의 sequence 길이 이하)\n",
    "        \"emb_dim\": 2, # 변환할 데이터의 차원, int(범위: 16~256)\n",
    "        \"num_epochs\": 50, # 학습 epoch 횟수, int(범위: 1 이상, 수렴 여부 확인 후 적합하게 설정)\n",
    "        \"batch_size\": 128, # batch 크기, int(범위: 1 이상, 컴퓨터 사양에 적합하게 설정)\n",
    "        \"learning_rate\": 0.0001, # learning rate, float(default: 0.0001, 범위: 0.1 이하)\n",
    "        \"device\": 'cpu' # 학습 환경, [\"cuda\", \"cpu\"] 중 선택\n",
    "    }\n",
    "}"
   ]
  },
  {
   "cell_type": "markdown",
   "metadata": {},
   "source": [
    "### Test - getIntegratedDataSetByML 활용"
   ]
  },
  {
   "cell_type": "code",
   "execution_count": 10,
   "metadata": {
    "ExecuteTime": {
     "end_time": "2022-05-03T05:35:02.406504Z",
     "start_time": "2022-05-03T05:34:47.862728Z"
    }
   },
   "outputs": [
    {
     "ename": "KeyError",
     "evalue": "'sliding_size'",
     "output_type": "error",
     "traceback": [
      "\u001b[0;31m---------------------------------------------------------------------------\u001b[0m",
      "\u001b[0;31mKeyError\u001b[0m                                  Traceback (most recent call last)",
      "Input \u001b[0;32mIn [10]\u001b[0m, in \u001b[0;36m<cell line: 4>\u001b[0;34m()\u001b[0m\n\u001b[1;32m      1\u001b[0m \u001b[38;5;66;03m## 현재 \u001b[39;00m\n\u001b[1;32m      2\u001b[0m \u001b[38;5;28;01mfrom\u001b[39;00m \u001b[38;5;21;01mclust\u001b[39;00m\u001b[38;5;21;01m.\u001b[39;00m\u001b[38;5;21;01mintegration\u001b[39;00m\u001b[38;5;21;01m.\u001b[39;00m\u001b[38;5;21;01mclustDataIntegration\u001b[39;00m \u001b[38;5;28;01mimport\u001b[39;00m ClustIntegration\n\u001b[0;32m----> 4\u001b[0m alignment_result \u001b[38;5;241m=\u001b[39m \u001b[43mClustIntegration\u001b[49m\u001b[43m(\u001b[49m\u001b[43m)\u001b[49m\u001b[38;5;241;43m.\u001b[39;49m\u001b[43mgetIntegratedDataSetByML\u001b[49m\u001b[43m(\u001b[49m\u001b[43msameFDataSet\u001b[49m\u001b[43m,\u001b[49m\u001b[43m \u001b[49m\u001b[43mintegrationParam\u001b[49m\u001b[43m,\u001b[49m\u001b[43m \u001b[49m\u001b[43moverlap_duration\u001b[49m\u001b[43m)\u001b[49m\n",
      "File \u001b[0;32m~/CLUST_KETI/Clust/Clust/examples/../clust/integration/clustDataIntegration.py:227\u001b[0m, in \u001b[0;36mClustIntegration.getIntegratedDataSetByML\u001b[0;34m(self, data_set, transform_param, overlap_duration)\u001b[0m\n\u001b[1;32m    225\u001b[0m transfomrParam \u001b[38;5;241m=\u001b[39m transform_param[\u001b[38;5;124m'\u001b[39m\u001b[38;5;124mmodel_parameter\u001b[39m\u001b[38;5;124m'\u001b[39m]\n\u001b[1;32m    226\u001b[0m \u001b[38;5;28;01mif\u001b[39;00m model \u001b[38;5;241m==\u001b[39m \u001b[38;5;124m\"\u001b[39m\u001b[38;5;124mRNN_AE\u001b[39m\u001b[38;5;124m\"\u001b[39m:\n\u001b[0;32m--> 227\u001b[0m     alignment_result \u001b[38;5;241m=\u001b[39m \u001b[43mRNNAEAlignment\u001b[49m\u001b[38;5;241;43m.\u001b[39;49m\u001b[43mRNN_AE\u001b[49m\u001b[43m(\u001b[49m\u001b[43mdintegrated_data\u001b[49m\u001b[43m,\u001b[49m\u001b[43m \u001b[49m\u001b[43mtransfomrParam\u001b[49m\u001b[43m)\u001b[49m\n\u001b[1;32m    228\u001b[0m \u001b[38;5;28;01melse\u001b[39;00m :\n\u001b[1;32m    229\u001b[0m     \u001b[38;5;28mprint\u001b[39m(\u001b[38;5;124m'\u001b[39m\u001b[38;5;124mNot Available\u001b[39m\u001b[38;5;124m'\u001b[39m)\n",
      "File \u001b[0;32m~/CLUST_KETI/Clust/Clust/examples/../../clust/integration/ML/RNNAEAlignment.py:26\u001b[0m, in \u001b[0;36mRNN_AE\u001b[0;34m(dataset, parameter)\u001b[0m\n\u001b[1;32m     12\u001b[0m \u001b[38;5;124;03m\"\"\"\u001b[39;00m\n\u001b[1;32m     13\u001b[0m \u001b[38;5;124;03mRAE 모델을 기반으로 새롭게 도출된 변수로 align 된 데이터를 dataFrame 형태로 반환하는 함수\u001b[39;00m\n\u001b[1;32m     14\u001b[0m \n\u001b[0;32m   (...)\u001b[0m\n\u001b[1;32m     23\u001b[0m \u001b[38;5;124;03m:shape: [x1과 x2의 공통 수집 기간 중 주기가 짧은 데이터의 시간 index 개수 - window_size, emb_dim]\u001b[39;00m\n\u001b[1;32m     24\u001b[0m \u001b[38;5;124;03m\"\"\"\u001b[39;00m\n\u001b[1;32m     25\u001b[0m n_features \u001b[38;5;241m=\u001b[39m \u001b[38;5;28mlen\u001b[39m(dataset\u001b[38;5;241m.\u001b[39mcolumns)\n\u001b[0;32m---> 26\u001b[0m sliding_size \u001b[38;5;241m=\u001b[39m \u001b[43mparameter\u001b[49m\u001b[43m[\u001b[49m\u001b[38;5;124;43m\"\u001b[39;49m\u001b[38;5;124;43msliding_size\u001b[39;49m\u001b[38;5;124;43m\"\u001b[39;49m\u001b[43m]\u001b[49m\n\u001b[1;32m     27\u001b[0m window_size \u001b[38;5;241m=\u001b[39m parameter[\u001b[38;5;124m'\u001b[39m\u001b[38;5;124mwindow_size\u001b[39m\u001b[38;5;124m'\u001b[39m]\n\u001b[1;32m     29\u001b[0m \u001b[38;5;66;03m# NaN 값을 0으로 대치한 데이터를 사용하여 dataloader 구축\u001b[39;00m\n",
      "\u001b[0;31mKeyError\u001b[0m: 'sliding_size'"
     ]
    }
   ],
   "source": [
    "## 현재 \n",
    "from clust.integration.integrationInterface import IntegrationInterface\n",
    "\n",
    "alignment_result = IntegrationInterface().getIntegratedDataSetByML(sameFDataSet, integrationParam, overlap_duration)"
   ]
  },
  {
   "cell_type": "code",
   "execution_count": null,
   "metadata": {
    "ExecuteTime": {
     "end_time": "2022-05-03T05:35:02.447088Z",
     "start_time": "2022-05-03T05:35:02.410686Z"
    }
   },
   "outputs": [],
   "source": [
    "alignment_result"
   ]
  },
  {
   "cell_type": "code",
   "execution_count": null,
   "metadata": {
    "ExecuteTime": {
     "end_time": "2022-05-03T05:35:03.663778Z",
     "start_time": "2022-05-03T05:35:02.450783Z"
    },
    "scrolled": true
   },
   "outputs": [],
   "source": [
    "alignment_result.concat_emb2.plot()"
   ]
  },
  {
   "cell_type": "markdown",
   "metadata": {},
   "source": [
    "# Data Integration2 - Input : DataInfo"
   ]
  },
  {
   "cell_type": "markdown",
   "metadata": {
    "ExecuteTime": {
     "end_time": "2022-04-25T05:49:20.328463Z",
     "start_time": "2022-04-25T05:49:20.325396Z"
    }
   },
   "source": [
    "## 고려대 Alignment Test 2"
   ]
  },
  {
   "cell_type": "markdown",
   "metadata": {},
   "source": [
    "### parameter"
   ]
  },
  {
   "cell_type": "code",
   "execution_count": null,
   "metadata": {
    "ExecuteTime": {
     "end_time": "2022-05-03T05:35:03.678739Z",
     "start_time": "2022-05-03T05:35:03.669234Z"
    }
   },
   "outputs": [],
   "source": [
    "start_time = \"2021-03-10 00:00:00\"\n",
    "end_time = \"2021-04-01 00:00:00\"\n",
    "\n",
    "intDataInfo = { \"db_info\":[ { \"db_name\":\"air_indoor_어린이집\", \"measurement\":\"ICW0W2100043\", \"start\":start_time, \"end\":end_time },\n",
    "{ \"db_name\":\"air_indoor_체육시설\", \"measurement\":\"ICL1L2000064\", \"start\":start_time, \"end\":end_time}, \n",
    "{ \"db_name\":\"air_indoor_도서관\", \"measurement\":\"ICW0W2000087\", \"start\":start_time, \"end\":end_time }\n",
    "] }\n"
   ]
  },
  {
   "cell_type": "code",
   "execution_count": null,
   "metadata": {
    "ExecuteTime": {
     "end_time": "2022-05-03T05:35:03.696178Z",
     "start_time": "2022-05-03T05:35:03.682060Z"
    }
   },
   "outputs": [],
   "source": [
    "refine_param = {\n",
    "    \"removeDuplication\":{\"flag\":False},\n",
    "    \"staticFrequency\":{\"flag\":True, \"frequency\":\"\"}\n",
    "}\n",
    "outlier_param  = {\n",
    "    \"certainErrorToNaN\":{\"flag\":False},\n",
    "    \"unCertainErrorToNaN\":{\n",
    "        \"flag\":False\n",
    "    }\n",
    "}\n",
    "imputation_param = {\n",
    "    \"serialImputation\":{\n",
    "        \"flag\":False\n",
    "    }\n",
    "}\n",
    "\n",
    "process_param = {'refine_param':refine_param, 'outlier_param':outlier_param, 'imputation_param':imputation_param}\n",
    "\n",
    "transformParam = {\n",
    "    \"model\": 'RNN_AE',\n",
    "    \"model_parameter\": {\n",
    "        \"window_size\": 10, # 모델의 input sequence 길이, int(default: 10, 범위: 0 이상 & 원래 데이터의 sequence 길이 이하)\n",
    "        \"emb_dim\": 5, # 변환할 데이터의 차원, int(범위: 16~256)\n",
    "        \"num_epochs\": 50, # 학습 epoch 횟수, int(범위: 1 이상, 수렴 여부 확인 후 적합하게 설정)\n",
    "        \"batch_size\": 128, # batch 크기, int(범위: 1 이상, 컴퓨터 사양에 적합하게 설정)\n",
    "        \"learning_rate\": 0.0001, # learning rate, float(default: 0.0001, 범위: 0.1 이하)\n",
    "        \"device\": 'cpu' # 학습 환경, [\"cuda\", \"cpu\"] 중 선택\n",
    "    }\n",
    "}\n",
    "\n",
    "integration_param = {\n",
    "    \"granularity_sec\":\"\",\n",
    "    \"transformParam\":transformParam,\n",
    "    \"method\":\"ML\"\n",
    "}"
   ]
  },
  {
   "cell_type": "code",
   "execution_count": null,
   "metadata": {
    "ExecuteTime": {
     "end_time": "2022-05-03T05:35:03.713960Z",
     "start_time": "2022-05-03T05:35:03.701223Z"
    }
   },
   "outputs": [],
   "source": [
    "integration_param"
   ]
  },
  {
   "cell_type": "markdown",
   "metadata": {},
   "source": [
    "### Test - clustIntegrationFromInfluxSource 활용"
   ]
  },
  {
   "cell_type": "code",
   "execution_count": null,
   "metadata": {
    "ExecuteTime": {
     "end_time": "2022-05-03T05:35:42.198917Z",
     "start_time": "2022-05-03T05:35:03.719107Z"
    },
    "scrolled": true
   },
   "outputs": [],
   "source": [
    "from clust.integration.integrationInterface import IntegrationInterface\n",
    "\n",
    "dataSet = IntegrationInterface().clustIntegrationFromInfluxSource(db_client, intDataInfo, process_param, integration_param )"
   ]
  },
  {
   "cell_type": "code",
   "execution_count": null,
   "metadata": {
    "ExecuteTime": {
     "end_time": "2022-05-03T05:35:42.212059Z",
     "start_time": "2022-05-03T05:35:42.200280Z"
    }
   },
   "outputs": [],
   "source": [
    "dataSet"
   ]
  }
 ],
 "metadata": {
  "hide_input": false,
  "kernelspec": {
   "display_name": "Python 3 (ipykernel)",
   "language": "python",
   "name": "python3"
  },
  "language_info": {
   "codemirror_mode": {
    "name": "ipython",
    "version": 3
   },
   "file_extension": ".py",
   "mimetype": "text/x-python",
   "name": "python",
   "nbconvert_exporter": "python",
   "pygments_lexer": "ipython3",
   "version": "3.8.13"
  },
  "toc": {
   "base_numbering": 1,
   "nav_menu": {},
   "number_sections": true,
   "sideBar": true,
   "skip_h1_title": false,
   "title_cell": "Table of Contents",
   "title_sidebar": "Contents",
   "toc_cell": false,
   "toc_position": {
    "height": "calc(100% - 180px)",
    "left": "10px",
    "top": "150px",
    "width": "295.825px"
   },
   "toc_section_display": true,
   "toc_window_display": true
  },
  "varInspector": {
   "cols": {
    "lenName": 16,
    "lenType": 16,
    "lenVar": 40
   },
   "kernels_config": {
    "python": {
     "delete_cmd_postfix": "",
     "delete_cmd_prefix": "del ",
     "library": "var_list.py",
     "varRefreshCmd": "print(var_dic_list())"
    },
    "r": {
     "delete_cmd_postfix": ") ",
     "delete_cmd_prefix": "rm(",
     "library": "var_list.r",
     "varRefreshCmd": "cat(var_dic_list()) "
    }
   },
   "position": {
    "height": "296.484px",
    "left": "1145px",
    "right": "20px",
    "top": "120px",
    "width": "302.5px"
   },
   "types_to_exclude": [
    "module",
    "function",
    "builtin_function_or_method",
    "instance",
    "_Feature"
   ],
   "window_display": false
  },
  "vscode": {
   "interpreter": {
    "hash": "f1ef7e1f828dbb4e75f421045d2c565197efaf8469a0be4a314c6ea8378b5cb2"
   }
  }
 },
 "nbformat": 4,
 "nbformat_minor": 4
}
