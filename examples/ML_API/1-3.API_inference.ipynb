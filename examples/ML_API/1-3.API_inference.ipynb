{
 "cells": [
  {
   "cell_type": "markdown",
   "id": "0d942369",
   "metadata": {},
   "source": [
    "# Setting"
   ]
  },
  {
   "cell_type": "code",
   "execution_count": 1,
   "id": "e95d26a8",
   "metadata": {},
   "outputs": [
    {
     "name": "stdout",
     "output_type": "stream",
     "text": [
      "cpu is available.\n"
     ]
    }
   ],
   "source": [
    "import sys, os\n",
    "import pandas as pd\n",
    "\n",
    "sys.path.append(\"../\")\n",
    "sys.path.append(\"../../\")\n",
    "sys.path.append(\"../../../\")\n",
    "sys.path.append(\"../../../../\")\n",
    "sys.path.append(\"../../../../../\")\n",
    "\n",
    "from Clust.setting import influx_setting_KETI as ins\n",
    "from Clust.clust.ingestion.influx import influx_client_v2 as iC\n",
    "from Clust.clust.ingestion.mongo import mongo_client\n",
    "from Clust.clust.ML.common import ML_api, ML_pipeline\n",
    "\n",
    "db_client = iC.InfluxClient(ins.CLUSTDataServer2)\n",
    "mongodb_client = mongo_client.MongoClient(ins.CLUSTMetaInfo2)"
   ]
  },
  {
   "cell_type": "code",
   "execution_count": 2,
   "id": "1e348634",
   "metadata": {},
   "outputs": [],
   "source": [
    "# feature list와 data_y_flag는 model_info에서 받아와야 합니다.\n",
    "# regression\n",
    "param1 = {\n",
    "    'model_name':'regression_energy_cleanLevel4_trainX_regression_LSTM_rg_'\n",
    "}\n",
    "\n",
    "# forecasting\n",
    "param2 = {\n",
    "    'model_name':'forecasting_Hs2SwineFarmWithWeatherTime_cleanLevel4_trainX_regression_LSTM_rg_'\n",
    "}\n",
    "\n",
    "# classification\n",
    "param3 = {\n",
    "    'model_name':'classification_actionPattern_cleanLevel0_trainX_classification_LSTM_cf_'\n",
    "}"
   ]
  },
  {
   "cell_type": "markdown",
   "id": "adff21e0",
   "metadata": {},
   "source": [
    "### get model parameter for inference"
   ]
  },
  {
   "cell_type": "code",
   "execution_count": 3,
   "id": "aff18c7f",
   "metadata": {},
   "outputs": [
    {
     "data": {
      "text/plain": [
       "(19, 144, 24)"
      ]
     },
     "execution_count": 3,
     "metadata": {},
     "output_type": "execute_result"
    }
   ],
   "source": [
    "import numpy as np\n",
    "np_data = np.load('infer_array.npy')\n",
    "np_data.shape"
   ]
  },
  {
   "cell_type": "code",
   "execution_count": 4,
   "id": "bd76c031",
   "metadata": {},
   "outputs": [
    {
     "data": {
      "text/plain": [
       "(144, 24)"
      ]
     },
     "execution_count": 4,
     "metadata": {},
     "output_type": "execute_result"
    }
   ],
   "source": [
    "infer_np = np_data[0]\n",
    "infer_np.shape"
   ]
  },
  {
   "cell_type": "code",
   "execution_count": 5,
   "id": "928aa910",
   "metadata": {},
   "outputs": [],
   "source": [
    "params = param1\n",
    "\n",
    "# chage tpye string to bool -> ex) 'true' -> True\n",
    "params = ML_api.chagne_type_str_to_bool(params)"
   ]
  },
  {
   "cell_type": "code",
   "execution_count": 12,
   "id": "c9577c9c",
   "metadata": {},
   "outputs": [],
   "source": [
    "# get model meta\n",
    "model_name = params['model_name']\n",
    "meta_file_name = \"./meta.json\"\n",
    "model_meta_db_style ='document'\n",
    "from Clust.clust.ML.tool import meta\n",
    "#model_meta = meta.read_model_meta_from_mongodb(mongodb_client, 'model', 'meta', model_name)\n",
    "model_meta = meta.read_model_meta_from_local(meta_file_name, model_name)\n",
    "# model_meta = meta.read_model_meta_by_db_style(model_meta_db_style, meta_file_name, model_name)"
   ]
  },
  {
   "cell_type": "code",
   "execution_count": 13,
   "id": "ac7c4050",
   "metadata": {},
   "outputs": [
    {
     "data": {
      "text/plain": [
       "{'ingestion_param_X': {'bucket_name': 'integration',\n",
       "  'ms_name': 'regression_energy_cleanLevel4_trainX',\n",
       "  'feature_list': ['Press_mm_hg',\n",
       "   'RH_1',\n",
       "   'RH_2',\n",
       "   'RH_3',\n",
       "   'RH_4',\n",
       "   'RH_5',\n",
       "   'RH_6',\n",
       "   'RH_7',\n",
       "   'RH_8',\n",
       "   'RH_9',\n",
       "   'RH_out',\n",
       "   'T1',\n",
       "   'T2',\n",
       "   'T3',\n",
       "   'T4',\n",
       "   'T5',\n",
       "   'T6',\n",
       "   'T7',\n",
       "   'T8',\n",
       "   'T9',\n",
       "   'T_out',\n",
       "   'Tdewpoint',\n",
       "   'Visibility',\n",
       "   'Windspeed']},\n",
       " 'ingestion_param_y': {'bucket_name': 'integration',\n",
       "  'ms_name': 'regression_energy_cleanLevel4_trainy',\n",
       "  'feature_list': ['value']},\n",
       " 'data_y_flag': True,\n",
       " 'scaler_param': {'scaler_flag': 'scale',\n",
       "  'scale_method': 'minmax',\n",
       "  'scaler_path': './scaler/',\n",
       "  'scaler_file_path': {'XScalerFile': {'fileName': 'scaler.pkl',\n",
       "    'filePath': './scaler/regression_energy_cleanLevel4_trainX/minmax/900878d7bba6f2a4017d1c3399909ea7/scaler.pkl'},\n",
       "   'yScalerFile': {'fileName': 'scaler.pkl',\n",
       "    'filePath': './scaler/regression_energy_cleanLevel4_trainy/minmax/f69156750a210491ffd4a67b605bc88b/scaler.pkl'}}},\n",
       " 'transform_param': {'split_mode': 'window_split',\n",
       "  'data_clean_option': False,\n",
       "  'nan_process_info': {'type': 'num',\n",
       "   'ConsecutiveNanLimit': 10000,\n",
       "   'totalNaNLimit': 100000},\n",
       "  'max_nan_limit_ratio': 0.5,\n",
       "  'future_step': None,\n",
       "  'past_step': 144},\n",
       " 'model_info': {'model_purpose': 'regression',\n",
       "  'model_method': 'LSTM_rg',\n",
       "  'model_name': 'regression_energy_cleanLevel4_trainX_regression_LSTM_rg_',\n",
       "  'model_tags': 'tagstest',\n",
       "  'train_parameter': {'lr': 0.0001,\n",
       "   'weight_decay': 1e-06,\n",
       "   'n_epochs': 5,\n",
       "   'batch_size': 16,\n",
       "   'device': 'cpu'},\n",
       "  'model_parameter': {'rnn_type': 'lstm',\n",
       "   'input_size': 24,\n",
       "   'hidden_size': 64,\n",
       "   'num_layers': 2,\n",
       "   'output_dim': 1,\n",
       "   'dropout': 0.1,\n",
       "   'bidirectional': True},\n",
       "  'seq_len': 144,\n",
       "  'input_size': 24,\n",
       "  'model_file_path': {'modelFile': {'fileName': 'model.pth',\n",
       "    'filePath': './Models/LSTM_rg/regression_energy_cleanLevel4_trainX_regression_LSTM_rg_/regression_energy_cleanLevel4_trainX/model.pkl'}}},\n",
       " 'train_data_info': {'bucket_name': 'integration',\n",
       "  'collection_name': 'regression_energy',\n",
       "  'ms_name': 'regression_energy_cleanLevel4_trainX',\n",
       "  'ingestion_type': 'multiple_ms_by_time',\n",
       "  'ingestion_param': {'ms_list_info': [['life_indoor_environment',\n",
       "     'humidityTrain_10min'],\n",
       "    ['life_indoor_environment', 'temperatureTrain_10min'],\n",
       "    ['weather_outdoor_environment', 'belgiumChieverseAirportTrain_10min']],\n",
       "   'start_time': '2016-01-11',\n",
       "   'end_time': '2016-04-15'},\n",
       "  'processing_type': 'step_3',\n",
       "  'process_param': {'refine_param': {'remove_duplication': {'flag': True},\n",
       "    'static_frequency': {'flag': True, 'frequency': None}},\n",
       "   'outlier_param': {'certain_error_to_NaN': {'flag': True},\n",
       "    'uncertain_error_to_NaN': {'flag': True,\n",
       "     'param': {'outlierDetectorConfig': [{'algorithm': 'IQR',\n",
       "        'percentile': 99,\n",
       "        'alg_parameter': {'weight': 100}}]}}},\n",
       "   'imputation_param': {'flag': True,\n",
       "    'imputation_method': [{'min': 0,\n",
       "      'max': 2,\n",
       "      'method': 'linear',\n",
       "      'parameter': {}}],\n",
       "    'total_non_NaN_ratio': 90}},\n",
       "  'integration_param': {'integration_frequency': 600.0,\n",
       "   'param': {},\n",
       "   'method': 'meta',\n",
       "   'integration_duration': 'common'},\n",
       "  'clean_level': 4}}"
      ]
     },
     "execution_count": 13,
     "metadata": {},
     "output_type": "execute_result"
    }
   ],
   "source": [
    "model_meta"
   ]
  },
  {
   "cell_type": "code",
   "execution_count": 14,
   "id": "82f50906",
   "metadata": {},
   "outputs": [
    {
     "name": "stderr",
     "output_type": "stream",
     "text": [
      "/home/leezy/anaconda3/envs/clust/lib/python3.8/site-packages/sklearn/base.py:299: UserWarning: Trying to unpickle estimator MinMaxScaler from version 1.2.2 when using version 1.2.1. This might lead to breaking code or invalid results. Use at your own risk. For more info please refer to:\n",
      "https://scikit-learn.org/stable/model_persistence.html#security-maintainability-limitations\n",
      "  warnings.warn(\n",
      "/home/leezy/anaconda3/envs/clust/lib/python3.8/site-packages/sklearn/base.py:420: UserWarning: X does not have valid feature names, but MinMaxScaler was fitted with feature names\n",
      "  warnings.warn(\n",
      "/home/leezy/anaconda3/envs/clust/lib/python3.8/site-packages/sklearn/base.py:299: UserWarning: Trying to unpickle estimator MinMaxScaler from version 1.2.2 when using version 1.2.1. This might lead to breaking code or invalid results. Use at your own risk. For more info please refer to:\n",
      "https://scikit-learn.org/stable/model_persistence.html#security-maintainability-limitations\n",
      "  warnings.warn(\n"
     ]
    }
   ],
   "source": [
    "infer_X, scaler_X, scaler_y = ML_api.infer_data_preparation(model_meta, infer_np)"
   ]
  },
  {
   "cell_type": "code",
   "execution_count": 15,
   "id": "e1372546",
   "metadata": {},
   "outputs": [
    {
     "data": {
      "text/plain": [
       "(144, 24)"
      ]
     },
     "execution_count": 15,
     "metadata": {},
     "output_type": "execute_result"
    }
   ],
   "source": [
    "infer_X.shape"
   ]
  },
  {
   "cell_type": "code",
   "execution_count": 16,
   "id": "69ec4cc8",
   "metadata": {},
   "outputs": [
    {
     "name": "stdout",
     "output_type": "stream",
     "text": [
      "inference data shape: torch.Size([144, 24])\n",
      "\n",
      "Start inference\n",
      "\n",
      "** Dimension of result for inference dataset = (144,)\n"
     ]
    }
   ],
   "source": [
    "prediction_result = ML_api.ML_inference(model_meta, infer_X, scaler_X, scaler_y)"
   ]
  },
  {
   "cell_type": "code",
   "execution_count": 17,
   "id": "8c7c1148",
   "metadata": {},
   "outputs": [
    {
     "data": {
      "text/html": [
       "<div>\n",
       "<style scoped>\n",
       "    .dataframe tbody tr th:only-of-type {\n",
       "        vertical-align: middle;\n",
       "    }\n",
       "\n",
       "    .dataframe tbody tr th {\n",
       "        vertical-align: top;\n",
       "    }\n",
       "\n",
       "    .dataframe thead th {\n",
       "        text-align: right;\n",
       "    }\n",
       "</style>\n",
       "<table border=\"1\" class=\"dataframe\">\n",
       "  <thead>\n",
       "    <tr style=\"text-align: right;\">\n",
       "      <th></th>\n",
       "      <th>value</th>\n",
       "    </tr>\n",
       "  </thead>\n",
       "  <tbody>\n",
       "    <tr>\n",
       "      <th>0</th>\n",
       "      <td>5.855800</td>\n",
       "    </tr>\n",
       "    <tr>\n",
       "      <th>1</th>\n",
       "      <td>5.856447</td>\n",
       "    </tr>\n",
       "    <tr>\n",
       "      <th>2</th>\n",
       "      <td>5.858049</td>\n",
       "    </tr>\n",
       "    <tr>\n",
       "      <th>3</th>\n",
       "      <td>5.858357</td>\n",
       "    </tr>\n",
       "    <tr>\n",
       "      <th>4</th>\n",
       "      <td>5.858550</td>\n",
       "    </tr>\n",
       "    <tr>\n",
       "      <th>...</th>\n",
       "      <td>...</td>\n",
       "    </tr>\n",
       "    <tr>\n",
       "      <th>139</th>\n",
       "      <td>5.837088</td>\n",
       "    </tr>\n",
       "    <tr>\n",
       "      <th>140</th>\n",
       "      <td>5.835116</td>\n",
       "    </tr>\n",
       "    <tr>\n",
       "      <th>141</th>\n",
       "      <td>5.833820</td>\n",
       "    </tr>\n",
       "    <tr>\n",
       "      <th>142</th>\n",
       "      <td>5.831954</td>\n",
       "    </tr>\n",
       "    <tr>\n",
       "      <th>143</th>\n",
       "      <td>5.830510</td>\n",
       "    </tr>\n",
       "  </tbody>\n",
       "</table>\n",
       "<p>144 rows × 1 columns</p>\n",
       "</div>"
      ],
      "text/plain": [
       "        value\n",
       "0    5.855800\n",
       "1    5.856447\n",
       "2    5.858049\n",
       "3    5.858357\n",
       "4    5.858550\n",
       "..        ...\n",
       "139  5.837088\n",
       "140  5.835116\n",
       "141  5.833820\n",
       "142  5.831954\n",
       "143  5.830510\n",
       "\n",
       "[144 rows x 1 columns]"
      ]
     },
     "execution_count": 17,
     "metadata": {},
     "output_type": "execute_result"
    }
   ],
   "source": [
    "prediction_result"
   ]
  },
  {
   "cell_type": "code",
   "execution_count": null,
   "id": "5c6a7ee2",
   "metadata": {},
   "outputs": [],
   "source": []
  },
  {
   "cell_type": "code",
   "execution_count": null,
   "id": "d736d304",
   "metadata": {},
   "outputs": [],
   "source": []
  },
  {
   "cell_type": "code",
   "execution_count": null,
   "id": "58ed3818",
   "metadata": {},
   "outputs": [],
   "source": []
  },
  {
   "cell_type": "code",
   "execution_count": null,
   "id": "a1466009",
   "metadata": {},
   "outputs": [],
   "source": []
  },
  {
   "cell_type": "code",
   "execution_count": null,
   "id": "f8e0c5cb",
   "metadata": {},
   "outputs": [],
   "source": []
  },
  {
   "cell_type": "code",
   "execution_count": null,
   "id": "47b0a846",
   "metadata": {},
   "outputs": [],
   "source": []
  },
  {
   "cell_type": "code",
   "execution_count": null,
   "id": "65746143",
   "metadata": {},
   "outputs": [],
   "source": []
  }
 ],
 "metadata": {
  "kernelspec": {
   "display_name": "clust",
   "language": "python",
   "name": "clust"
  },
  "language_info": {
   "codemirror_mode": {
    "name": "ipython",
    "version": 3
   },
   "file_extension": ".py",
   "mimetype": "text/x-python",
   "name": "python",
   "nbconvert_exporter": "python",
   "pygments_lexer": "ipython3",
   "version": "3.8.16"
  }
 },
 "nbformat": 4,
 "nbformat_minor": 5
}
