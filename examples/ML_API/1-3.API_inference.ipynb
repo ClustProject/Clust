{
 "cells": [
  {
   "attachments": {},
   "cell_type": "markdown",
   "id": "0d942369",
   "metadata": {},
   "source": [
    "# Setting"
   ]
  },
  {
   "cell_type": "code",
   "execution_count": 1,
   "id": "e95d26a8",
   "metadata": {},
   "outputs": [
    {
     "name": "stderr",
     "output_type": "stream",
     "text": [
      "/Users/kim-youngkee/Documents/CLUSTER/.clust/lib/python3.9/site-packages/tqdm/auto.py:22: TqdmWarning: IProgress not found. Please update jupyter and ipywidgets. See https://ipywidgets.readthedocs.io/en/stable/user_install.html\n",
      "  from .autonotebook import tqdm as notebook_tqdm\n"
     ]
    },
    {
     "name": "stdout",
     "output_type": "stream",
     "text": [
      "cpu is available.\n"
     ]
    }
   ],
   "source": [
    "import sys, os\n",
    "import pandas as pd\n",
    "\n",
    "sys.path.append(\"../\")\n",
    "sys.path.append(\"../../\")\n",
    "sys.path.append(\"../../../\")\n",
    "sys.path.append(\"../../../../\")\n",
    "sys.path.append(\"../../../../../\")\n",
    "\n",
    "from Clust.setting import influx_setting_KETI as ins\n",
    "from Clust.clust.ingestion.influx import influx_client_v2 as iC\n",
    "from Clust.clust.ingestion.mongo import mongo_client\n",
    "from Clust.clust.ML.common import ML_api\n",
    "from Clust.clust.ML.tool import meta\n",
    "\n",
    "db_client = iC.InfluxClient(ins.CLUSTDataServer2)\n",
    "mongodb_client = mongo_client.MongoClient(ins.CLUSTMetaInfo2)"
   ]
  },
  {
   "attachments": {},
   "cell_type": "markdown",
   "id": "65f273c2",
   "metadata": {},
   "source": [
    "# 1. set param from Front End"
   ]
  },
  {
   "cell_type": "code",
   "execution_count": 2,
   "id": "8298e76d",
   "metadata": {},
   "outputs": [],
   "source": [
    "# feature list와 data_y_flag는 model_info에서 받아와야 합니다.\n",
    "# regression\n",
    "param1 = {\n",
    "    'model_name':'regression_energy_cleanLevel4_trainX_regression_GRU_rg_',\n",
    "    'ingestion_param_y':{\n",
    "        \"feature_list\": \"None\"\n",
    "    },\n",
    "    'dataX_src': 'local'\n",
    "}\n",
    "\n",
    "# forecasting\n",
    "param2 = {\n",
    "    'model_name':'forecasting_Hs2SwineFarmWithWeatherTime_cleanLevel4_trainX_regression_GRU_rg_',\n",
    "    'ingestion_param_y':{\n",
    "        \"feature_list\": \"None\"\n",
    "    },\n",
    "    'dataX_src': 'local'\n",
    "}\n",
    "\n",
    "# classification\n",
    "param3 = {\n",
    "    'model_name':'classification_actionPattern_cleanLevel0_trainX_classification_GRU_cf_',\n",
    "    'ingestion_param_y':{\n",
    "        \"feature_list\": \"None\"\n",
    "    },\n",
    "    'dataX_src': 'local'\n",
    "}"
   ]
  },
  {
   "attachments": {},
   "cell_type": "markdown",
   "id": "2c204ba0",
   "metadata": {},
   "source": [
    "### (Optional) Get np.array data for inference"
   ]
  },
  {
   "cell_type": "code",
   "execution_count": 3,
   "id": "ca5a9372",
   "metadata": {},
   "outputs": [
    {
     "data": {
      "text/plain": [
       "(128, 9)"
      ]
     },
     "execution_count": 3,
     "metadata": {},
     "output_type": "execute_result"
    }
   ],
   "source": [
    "import numpy as np\n",
    "np_data = np.load('infer_classification_array.npy') # infer_regression_array , infer_forecasting_array , infer_classification_array\n",
    "infer_np = np_data[8]\n",
    "infer_np.shape"
   ]
  },
  {
   "attachments": {},
   "cell_type": "markdown",
   "id": "9dedb19a",
   "metadata": {},
   "source": [
    "# 2. Backend"
   ]
  },
  {
   "cell_type": "code",
   "execution_count": 5,
   "id": "831dd1b3",
   "metadata": {},
   "outputs": [],
   "source": [
    "# 1. Backend Parameter Setting\n",
    "params = param3\n",
    "\n",
    "# chage tpye string to bool -> ex) 'true' -> True\n",
    "params = ML_api.chagne_type_str_to_bool(params)"
   ]
  },
  {
   "cell_type": "code",
   "execution_count": 6,
   "id": "8d2be0b4",
   "metadata": {},
   "outputs": [],
   "source": [
    "# 2. get model meta\n",
    "model_name = params['model_name']\n",
    "meta_file_name = \"./meta.json\"\n",
    "#model_meta_db_style ='document'\n",
    "\n",
    "# for testing mongodb model\n",
    "#model_meta = meta.read_model_meta_from_mongodb(mongodb_client, 'model', 'meta', model_name)\n",
    "# for testing local model\n",
    "model_meta = meta.read_model_meta_from_local(meta_file_name, model_name)\n",
    "# model_meta = meta.read_model_meta_by_db_style(model_meta_db_style, meta_file_name, model_name)\n",
    "\n",
    "# scaler info for inference data preparation\n",
    "params['scaler_param'] = model_meta['scaler_param']\n",
    "\n",
    "# model & target data info for ML inference\n",
    "params['model_info'] = model_meta['model_info']\n",
    "params['ingestion_param_y']['feature_list'] = model_meta['ingestion_param_y']['feature_list']"
   ]
  },
  {
   "cell_type": "code",
   "execution_count": 7,
   "id": "f8e0c80a",
   "metadata": {},
   "outputs": [],
   "source": [
    "params['model_info']['train_parameter']['batch_size'] = 1"
   ]
  },
  {
   "cell_type": "code",
   "execution_count": 8,
   "id": "4d400b61",
   "metadata": {},
   "outputs": [],
   "source": [
    "# 3. Data Preparation\n",
    "# make inference data X, scaler y\n",
    "infer_X, scaler_y = ML_api.infer_data_preparation(params, infer_np)"
   ]
  },
  {
   "cell_type": "code",
   "execution_count": 10,
   "id": "85447fc7",
   "metadata": {},
   "outputs": [
    {
     "data": {
      "text/plain": [
       "(128, 9)"
      ]
     },
     "execution_count": 10,
     "metadata": {},
     "output_type": "execute_result"
    }
   ],
   "source": [
    "infer_X.shape"
   ]
  },
  {
   "cell_type": "code",
   "execution_count": 11,
   "id": "e482123d",
   "metadata": {},
   "outputs": [
    {
     "name": "stdout",
     "output_type": "stream",
     "text": [
      "inference data shape: torch.Size([1, 128, 9])\n",
      "\n",
      "Start inference\n",
      "\n",
      "tensor([[10.6109, -7.9217, -5.2556, -5.2408, -5.2841, -5.2798]])\n",
      "** Dimension of result for inference dataset = (1,)\n"
     ]
    }
   ],
   "source": [
    "# model inference\n",
    "prediction_result = ML_api.ML_inference(params, infer_X, scaler_y)"
   ]
  },
  {
   "cell_type": "code",
   "execution_count": 12,
   "id": "be481e59",
   "metadata": {},
   "outputs": [
    {
     "data": {
      "text/html": [
       "<div>\n",
       "<style scoped>\n",
       "    .dataframe tbody tr th:only-of-type {\n",
       "        vertical-align: middle;\n",
       "    }\n",
       "\n",
       "    .dataframe tbody tr th {\n",
       "        vertical-align: top;\n",
       "    }\n",
       "\n",
       "    .dataframe thead th {\n",
       "        text-align: right;\n",
       "    }\n",
       "</style>\n",
       "<table border=\"1\" class=\"dataframe\">\n",
       "  <thead>\n",
       "    <tr style=\"text-align: right;\">\n",
       "      <th></th>\n",
       "      <th>value</th>\n",
       "    </tr>\n",
       "  </thead>\n",
       "  <tbody>\n",
       "    <tr>\n",
       "      <th>0</th>\n",
       "      <td>0.0</td>\n",
       "    </tr>\n",
       "  </tbody>\n",
       "</table>\n",
       "</div>"
      ],
      "text/plain": [
       "   value\n",
       "0    0.0"
      ]
     },
     "execution_count": 12,
     "metadata": {},
     "output_type": "execute_result"
    }
   ],
   "source": [
    "prediction_result"
   ]
  },
  {
   "cell_type": "code",
   "execution_count": null,
   "id": "4d4dd3b7",
   "metadata": {},
   "outputs": [],
   "source": []
  },
  {
   "cell_type": "code",
   "execution_count": null,
   "id": "d736d304",
   "metadata": {},
   "outputs": [],
   "source": []
  },
  {
   "cell_type": "code",
   "execution_count": null,
   "id": "58ed3818",
   "metadata": {},
   "outputs": [],
   "source": []
  },
  {
   "cell_type": "code",
   "execution_count": null,
   "id": "a1466009",
   "metadata": {},
   "outputs": [],
   "source": []
  },
  {
   "cell_type": "code",
   "execution_count": null,
   "id": "f8e0c5cb",
   "metadata": {},
   "outputs": [],
   "source": []
  },
  {
   "cell_type": "code",
   "execution_count": null,
   "id": "47b0a846",
   "metadata": {},
   "outputs": [],
   "source": []
  },
  {
   "cell_type": "code",
   "execution_count": null,
   "id": "65746143",
   "metadata": {},
   "outputs": [],
   "source": []
  }
 ],
 "metadata": {
  "kernelspec": {
   "display_name": ".clust",
   "language": "python",
   "name": "python3"
  },
  "language_info": {
   "codemirror_mode": {
    "name": "ipython",
    "version": 3
   },
   "file_extension": ".py",
   "mimetype": "text/x-python",
   "name": "python",
   "nbconvert_exporter": "python",
   "pygments_lexer": "ipython3",
   "version": "3.9.6"
  }
 },
 "nbformat": 4,
 "nbformat_minor": 5
}
