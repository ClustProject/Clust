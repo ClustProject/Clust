{
 "cells": [
  {
   "cell_type": "markdown",
   "id": "0d942369",
   "metadata": {},
   "source": [
    "# Setting"
   ]
  },
  {
   "cell_type": "code",
   "execution_count": 1,
   "id": "e95d26a8",
   "metadata": {},
   "outputs": [],
   "source": [
    "import sys, os\n",
    "import pandas as pd\n",
    "\n",
    "sys.path.append(\"../\")\n",
    "sys.path.append(\"../../\")\n",
    "sys.path.append(\"../../../\")\n",
    "sys.path.append(\"../../../../\")\n",
    "\n",
    "from Clust.setting import influx_setting_KETI as ins\n",
    "from Clust.clust.ingestion.influx import influx_client_v2 as iC\n",
    "from Clust.clust.ingestion.mongo import mongo_client\n",
    "\n",
    "influxdb_client = iC.InfluxClient(ins.CLUSTDataServer2)\n",
    "mongodb_client = mongo_client.MongoClient(ins.CLUSTMetaInfo2)"
   ]
  },
  {
   "cell_type": "code",
   "execution_count": 2,
   "id": "bed688d3",
   "metadata": {},
   "outputs": [],
   "source": [
    " # regression_1 --> regression\n",
    "# regression_2 --> forecasting\n",
    "# classification\n",
    "model_mode = \"regression_1\""
   ]
  },
  {
   "cell_type": "code",
   "execution_count": 3,
   "id": "450f7265",
   "metadata": {},
   "outputs": [],
   "source": [
    "if model_mode == \"regression_1\":\n",
    "    params={\n",
    "        'bk_name_X' : 'integration',\n",
    "        'ms_name_X' : 'regression_energy_cleanLevel0_testX',\n",
    "        'model_name' : 'api_test_regression_version'\n",
    "    }\n",
    "    \n",
    "elif model_mode == \"regression_2\":\n",
    "    params={\n",
    "        'bk_name_X' : 'integration',\n",
    "        'ms_name_X' : 'forecasting_Hs2SwineFarmWithWeatherTime_cleanLevel4_testX',\n",
    "        'model_name' : 'Forecasting_API_TEST'\n",
    "    }\n",
    "    \n",
    "elif model_mode == \"classification\":\n",
    "    params={\n",
    "        'bk_name_X' : 'integration',\n",
    "        'ms_name_X' : 'classification_actionPattern_cleanLevel0_testX',\n",
    "        'model_name' : 'Classification_API_TEST'\n",
    "    }"
   ]
  },
  {
   "cell_type": "code",
   "execution_count": 4,
   "id": "f8af157d",
   "metadata": {},
   "outputs": [
    {
     "name": "stdout",
     "output_type": "stream",
     "text": [
      "cpu is available.\n",
      "cpu is available.\n"
     ]
    }
   ],
   "source": [
    "from KETIAppDataServer2.model import dbModel\n",
    "dbModel.DB_init()\n",
    "from KETIAppDataServer2.API.machine_learning.model_inference import set_inference_model_data, inference"
   ]
  },
  {
   "cell_type": "code",
   "execution_count": 5,
   "id": "cb8c038f",
   "metadata": {},
   "outputs": [
    {
     "name": "stderr",
     "output_type": "stream",
     "text": [
      "/home/leezy/CLUST_KETI/Clust/examples/ML_API/../../../Clust/clust/transformation/type/DFToNPArray.py:307: FutureWarning: Indexing a timezone-aware DatetimeIndex with a timezone-naive datetime is deprecated and will raise KeyError in a future version. Use a timezone-aware object instead.\n",
      "  dfX_partial = dfX[startDate:endDate]\n"
     ]
    },
    {
     "name": "stdout",
     "output_type": "stream",
     "text": [
      "inference data shape: torch.Size([42, 24, 144])\n",
      "\n",
      "Start inference\n",
      "\n",
      "** Dimension of result for inference dataset = (48,)\n"
     ]
    },
    {
     "ename": "ValueError",
     "evalue": "operands could not be broadcast together with shapes (48,25) (24,) (48,25) ",
     "output_type": "error",
     "traceback": [
      "\u001b[0;31m---------------------------------------------------------------------------\u001b[0m",
      "\u001b[0;31mValueError\u001b[0m                                Traceback (most recent call last)",
      "Cell \u001b[0;32mIn[5], line 5\u001b[0m\n\u001b[1;32m      2\u001b[0m model_meta \u001b[38;5;241m=\u001b[39m mongodb_client\u001b[38;5;241m.\u001b[39mget_document_by_json(\u001b[38;5;124m'\u001b[39m\u001b[38;5;124mmodel\u001b[39m\u001b[38;5;124m'\u001b[39m, \u001b[38;5;124m'\u001b[39m\u001b[38;5;124mmeta\u001b[39m\u001b[38;5;124m'\u001b[39m, {\u001b[38;5;124m'\u001b[39m\u001b[38;5;124mmodel_name\u001b[39m\u001b[38;5;124m'\u001b[39m:model_name})[\u001b[38;5;241m0\u001b[39m]\n\u001b[1;32m      4\u001b[0m infer_X, scaler_X, scaler_y \u001b[38;5;241m=\u001b[39m set_inference_model_data(params, model_meta)\n\u001b[0;32m----> 5\u001b[0m prediction_result \u001b[38;5;241m=\u001b[39m \u001b[43minference\u001b[49m\u001b[43m(\u001b[49m\u001b[43mmodel_meta\u001b[49m\u001b[43m,\u001b[49m\u001b[43m \u001b[49m\u001b[43minfer_X\u001b[49m\u001b[43m,\u001b[49m\u001b[43m \u001b[49m\u001b[43mscaler_X\u001b[49m\u001b[43m,\u001b[49m\u001b[43m \u001b[49m\u001b[43mscaler_y\u001b[49m\u001b[43m)\u001b[49m\n",
      "File \u001b[0;32m~/CLUST_KETI/Clust/examples/ML_API/../../../KETIAppDataServer2/API/machine_learning/model_inference.py:117\u001b[0m, in \u001b[0;36minference\u001b[0;34m(model_meta, infer_X, scaler_X, scaler_y)\u001b[0m\n\u001b[1;32m    115\u001b[0m base_df_for_inverse \u001b[38;5;241m=\u001b[39m pd\u001b[38;5;241m.\u001b[39mDataFrame(columns\u001b[38;5;241m=\u001b[39mfeature_X_list, index\u001b[38;5;241m=\u001b[39m\u001b[38;5;28mrange\u001b[39m(\u001b[38;5;28mlen\u001b[39m(preds)))\n\u001b[1;32m    116\u001b[0m base_df_for_inverse[target] \u001b[38;5;241m=\u001b[39m preds\n\u001b[0;32m--> 117\u001b[0m inverse_result \u001b[38;5;241m=\u001b[39m pd\u001b[38;5;241m.\u001b[39mDataFrame(\u001b[43mscaler_X\u001b[49m\u001b[38;5;241;43m.\u001b[39;49m\u001b[43minverse_transform\u001b[49m\u001b[43m(\u001b[49m\u001b[43mbase_df_for_inverse\u001b[49m\u001b[43m)\u001b[49m, columns\u001b[38;5;241m=\u001b[39mfeature_X_list, index\u001b[38;5;241m=\u001b[39mbase_df_for_inverse\u001b[38;5;241m.\u001b[39mindex)\n\u001b[1;32m    118\u001b[0m target_data \u001b[38;5;241m=\u001b[39m inverse_result[target]\n\u001b[1;32m    119\u001b[0m prediction_result \u001b[38;5;241m=\u001b[39m pd\u001b[38;5;241m.\u001b[39mDataFrame(data\u001b[38;5;241m=\u001b[39m{target: target_data}, index\u001b[38;5;241m=\u001b[39m\u001b[38;5;28mrange\u001b[39m(\u001b[38;5;28mlen\u001b[39m(preds)))\n",
      "File \u001b[0;32m~/anaconda3/envs/clust/lib/python3.8/site-packages/sklearn/preprocessing/_data.py:541\u001b[0m, in \u001b[0;36mMinMaxScaler.inverse_transform\u001b[0;34m(self, X)\u001b[0m\n\u001b[1;32m    535\u001b[0m check_is_fitted(\u001b[38;5;28mself\u001b[39m)\n\u001b[1;32m    537\u001b[0m X \u001b[38;5;241m=\u001b[39m check_array(\n\u001b[1;32m    538\u001b[0m     X, copy\u001b[38;5;241m=\u001b[39m\u001b[38;5;28mself\u001b[39m\u001b[38;5;241m.\u001b[39mcopy, dtype\u001b[38;5;241m=\u001b[39mFLOAT_DTYPES, force_all_finite\u001b[38;5;241m=\u001b[39m\u001b[38;5;124m\"\u001b[39m\u001b[38;5;124mallow-nan\u001b[39m\u001b[38;5;124m\"\u001b[39m\n\u001b[1;32m    539\u001b[0m )\n\u001b[0;32m--> 541\u001b[0m X \u001b[38;5;241m-\u001b[39m\u001b[38;5;241m=\u001b[39m \u001b[38;5;28mself\u001b[39m\u001b[38;5;241m.\u001b[39mmin_\n\u001b[1;32m    542\u001b[0m X \u001b[38;5;241m/\u001b[39m\u001b[38;5;241m=\u001b[39m \u001b[38;5;28mself\u001b[39m\u001b[38;5;241m.\u001b[39mscale_\n\u001b[1;32m    543\u001b[0m \u001b[38;5;28;01mreturn\u001b[39;00m X\n",
      "\u001b[0;31mValueError\u001b[0m: operands could not be broadcast together with shapes (48,25) (24,) (48,25) "
     ]
    }
   ],
   "source": [
    "model_name = params['model_name']\n",
    "model_meta = mongodb_client.get_document_by_json('model', 'meta', {'model_name':model_name})[0]\n",
    "\n",
    "infer_X, scaler_X, scaler_y = set_inference_model_data(params, model_meta)\n",
    "prediction_result = inference(model_meta, infer_X, scaler_X, scaler_y)"
   ]
  },
  {
   "cell_type": "code",
   "execution_count": null,
   "id": "72a9608b",
   "metadata": {},
   "outputs": [],
   "source": [
    "result"
   ]
  },
  {
   "cell_type": "code",
   "execution_count": null,
   "id": "d969b40b",
   "metadata": {},
   "outputs": [],
   "source": []
  },
  {
   "cell_type": "code",
   "execution_count": null,
   "id": "90e5687c",
   "metadata": {},
   "outputs": [],
   "source": []
  },
  {
   "cell_type": "code",
   "execution_count": null,
   "id": "a6d7b8e9",
   "metadata": {},
   "outputs": [],
   "source": []
  }
 ],
 "metadata": {
  "kernelspec": {
   "display_name": "clust",
   "language": "python",
   "name": "clust"
  },
  "language_info": {
   "codemirror_mode": {
    "name": "ipython",
    "version": 3
   },
   "file_extension": ".py",
   "mimetype": "text/x-python",
   "name": "python",
   "nbconvert_exporter": "python",
   "pygments_lexer": "ipython3",
   "version": "3.8.16"
  }
 },
 "nbformat": 4,
 "nbformat_minor": 5
}
