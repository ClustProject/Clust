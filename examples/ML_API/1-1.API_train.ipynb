{
 "cells": [
  {
   "attachments": {},
   "cell_type": "markdown",
   "id": "3d0e3d70",
   "metadata": {},
   "source": [
    "# Setting"
   ]
  },
  {
   "cell_type": "code",
   "execution_count": 1,
   "id": "a5d01d6c",
   "metadata": {},
   "outputs": [
    {
     "name": "stderr",
     "output_type": "stream",
     "text": [
      "/Users/kim-youngkee/Documents/CLUSTER/.clust/lib/python3.9/site-packages/tqdm/auto.py:22: TqdmWarning: IProgress not found. Please update jupyter and ipywidgets. See https://ipywidgets.readthedocs.io/en/stable/user_install.html\n",
      "  from .autonotebook import tqdm as notebook_tqdm\n"
     ]
    },
    {
     "name": "stdout",
     "output_type": "stream",
     "text": [
      "cpu is available.\n",
      "cpu is available.\n"
     ]
    }
   ],
   "source": [
    "import sys, os\n",
    "import pandas as pd\n",
    "\n",
    "sys.path.append(\"../\")\n",
    "sys.path.append(\"../../\")\n",
    "sys.path.append(\"../../../\")\n",
    "sys.path.append(\"../../../../\")\n",
    "\n",
    "from Clust.setting import influx_setting_KETI as ins\n",
    "from Clust.clust.ingestion.influx import influx_client_v2 as iC\n",
    "from Clust.clust.ingestion.mongo import mongo_client\n",
    "from Clust.clust.ML.tool import meta as ml_meta\n",
    "from Clust.clust.ML.common import ML_api\n",
    "\n",
    "influxdb_client = iC.InfluxClient(ins.CLUSTDataServer2)\n",
    "mongodb_client = mongo_client.MongoClient(ins.CLUSTMetaInfo2)\n",
    "\n",
    "import torch\n",
    "device = \"cuda\" if torch.cuda.is_available() else \"cpu\"\n",
    "print(f\"{device}\" \" is available.\")"
   ]
  },
  {
   "attachments": {},
   "cell_type": "markdown",
   "id": "7472041e",
   "metadata": {},
   "source": [
    "# 1. set param from Front End"
   ]
  },
  {
   "cell_type": "code",
   "execution_count": 2,
   "id": "f3a7b7ed",
   "metadata": {},
   "outputs": [],
   "source": [
    "# regression/forecasting model parameter samples\n",
    "GRU_rg_model_info = {'hidden_size': 64, 'num_layers': 2, 'output_dim': 1, 'dropout': 0.1, 'bidirectional': 'True'}\n",
    "LSTM_rg_model_info = {'hidden_size': 64, 'num_layers': 2, 'output_dim': 1, 'dropout': 0.1, 'bidirectional': 'True'}\n",
    "LSTM_FCNs_rg_info = {'num_layers': 2, 'lstm_dropout': 0.4, 'fc_dropout': 0.1}\n",
    "\n",
    "# regression\n",
    "params1 = {\n",
    "    \"ingestion_param_X\" :{\n",
    "        \"bucket_name\": 'integration',\n",
    "        \"ms_name\" : 'regression_energy_cleanLevel4_trainX',\n",
    "        \"feature_list\":['Press_mm_hg', 'RH_1', 'RH_2', 'RH_3', 'RH_4', 'RH_5', 'RH_6', 'RH_7',\n",
    "       'RH_8', 'RH_9', 'RH_out', 'T1', 'T2', 'T3', 'T4', 'T5', 'T6', 'T7',\n",
    "       'T8', 'T9', 'T_out', 'Tdewpoint', 'Visibility', 'Windspeed']\n",
    "    },\n",
    "    \"ingestion_param_y\":{\n",
    "        \"bucket_name\": 'integration',\n",
    "        \"ms_name\" : 'regression_energy_cleanLevel4_trainy',\n",
    "        \"feature_list\":[\"value\"]\n",
    "    },\n",
    "    'data_y_flag' : 'true',\n",
    "    'scaler_param':{\n",
    "        'scaler_flag':'scale', #scale_param,\n",
    "        'scale_method' :'minmax',\n",
    "        'scaler_path' :'./scaler/'\n",
    "    },\n",
    "    \"transform_param\":{\n",
    "        'split_mode' : 'window_split', # 현재 data_y_flag=Ture --> 모두 window_split # data_y = False --> step_split\n",
    "        #step_split일 경우만 past_step과 future_step이 존재\n",
    "        'data_clean_option' : \"false\"\n",
    "    },\n",
    "    \n",
    "    \"model_info\" :{\n",
    "        'model_purpose' : 'regression',\n",
    "        'model_method' : 'LSTM_FCNs_rg',\n",
    "        'model_name' : 'None',\n",
    "        'model_tags' : 'tagstest',\n",
    "        'train_parameter' : {\"lr\":0.0001,\"weight_decay\":0.000001,\"n_epochs\":5,\"batch_size\":16},\n",
    "        'model_parameter' : LSTM_FCNs_rg_info\n",
    "    }\n",
    "}\n",
    "\n",
    "# forecasting\n",
    "params2 = {\n",
    "    \"ingestion_param_X\" :{\n",
    "        \"bucket_name\": 'integration',\n",
    "        \"ms_name\" : 'forecasting_Hs2SwineFarmWithWeatherTime_cleanLevel4_trainX',\n",
    "        \"feature_list\":['Temperature', 'out_temp','sin_hour']\n",
    "    },\n",
    "    \"ingestion_param_y\":{\n",
    "        \"bucket_name\": 'integration',\n",
    "        \"ms_name\" : 'forecasting_Hs2SwineFarmWithWeatherTime_cleanLevel4_trainy',\n",
    "        \"feature_list\":['Temperature']\n",
    "    },\n",
    "    'data_y_flag' : 'false',\n",
    "    'scaler_param':{\n",
    "        'scaler_flag':'scale', #scale_param,\n",
    "        'scale_method' :'minmax',\n",
    "        'scaler_path' :'./scaler/'\n",
    "    },\n",
    "    \"transform_param\":{\n",
    "        'data_clean_option' : \"false\",\n",
    "        'split_mode' : 'step_split', # 현재 data_y_flag=Ture --> 모두 window_split # data_y = False --> step_split\n",
    "        'past_step':24, #step_split일 경우만 past_step과 future_step이 존재\n",
    "        'future_step':2\n",
    "    },\n",
    "    \n",
    "    \"model_info\" :{\n",
    "        'model_purpose' : 'regression',\n",
    "        'model_method' : 'LSTM_FCNs_rg',\n",
    "        'model_name' : 'None',\n",
    "        'model_tags' : 'tagstest',\n",
    "        'train_parameter' : {\"lr\":0.0001,\"weight_decay\":0.000001,\"n_epochs\":5,\"batch_size\":16},\n",
    "        'model_parameter' : LSTM_FCNs_rg_info\n",
    "    }\n",
    "}\n",
    "\n",
    "# classification model parameter samples\n",
    "GRU_cf_model_info = {'hidden_size': 64, 'num_layers':2, 'output_dim': 1, 'dropout': 0.1, 'bidirectional': 'True', 'num_classes': 6, 'rnn_type': 'gru'}\n",
    "LSTM_cf_model_info = {'hidden_size': 64, 'num_layers':2, 'output_dim': 1, 'dropout': 0.1, 'bidirectional': 'True', 'num_classes': 6, 'rnn_type': 'lstm'}\n",
    "LSTM_FCNs_cf_model_info = {'num_layers': 2, 'lstm_drop_out': 0.4, 'fc_drop_out': 0.1, 'num_classes': 6}\n",
    "\n",
    "# classification\n",
    "params3 = {\n",
    "    \"ingestion_param_X\" :{\n",
    "        \"bucket_name\": 'integration',\n",
    "        \"ms_name\" : 'classification_actionPattern_cleanLevel0_trainX',\n",
    "        \"feature_list\":['col_0', 'col_1','col_2','col_3','col_4','col_5','col_6','col_7','col_8']\n",
    "    },\n",
    "    \"ingestion_param_y\":{\n",
    "        \"bucket_name\": 'integration',\n",
    "        \"ms_name\" : 'classification_actionPattern_cleanLevel0_trainy',\n",
    "        \"feature_list\":['value']\n",
    "    },\n",
    "    'data_y_flag' : 'true',\n",
    "    'scaler_param':{\n",
    "        'scaler_flag':'scale', #scale_param,\n",
    "        'scale_method' :'minmax',\n",
    "        'scaler_path' :'./scaler/'\n",
    "    },\n",
    "    \"transform_param\":{\n",
    "        'data_clean_option' : \"false\",\n",
    "        'split_mode' : 'window_split' # 현재 data_y_flag=Ture --> 모두 window_split # data_y = False --> step_split\n",
    "    },\n",
    "    \"model_info\" :{\n",
    "        'model_purpose' : 'classification',\n",
    "        'model_method' : 'LSTM_FCNs_cf',\n",
    "        'model_name' : 'None',\n",
    "        'model_tags' : 'tagstest',\n",
    "        'train_parameter' : {\"lr\":0.0001,\"weight_decay\":0.000001,\"n_epochs\":5,\"batch_size\":16},\n",
    "        'model_parameter' : LSTM_FCNs_cf_model_info\n",
    "    }\n",
    "}"
   ]
  },
  {
   "attachments": {},
   "cell_type": "markdown",
   "id": "79772cfb",
   "metadata": {},
   "source": [
    "# 2. Backend"
   ]
  },
  {
   "cell_type": "code",
   "execution_count": 3,
   "id": "3436645f",
   "metadata": {},
   "outputs": [],
   "source": [
    "# 1. Backend Prameter Setting\n",
    "params = params3\n",
    "\n",
    "# parameter tunning\n",
    "params = ML_api.convert_param_for_backend(params)"
   ]
  },
  {
   "cell_type": "code",
   "execution_count": 4,
   "id": "c7fbfcc2",
   "metadata": {},
   "outputs": [],
   "source": [
    "# 2. train data meta check\n",
    "train_data_info = ML_api.get_train_data_meta (params['ingestion_param_X'], mongodb_client)\n",
    "params['train_data_info'] = train_data_info"
   ]
  },
  {
   "cell_type": "code",
   "execution_count": 5,
   "id": "2cc8d329",
   "metadata": {},
   "outputs": [
    {
     "name": "stdout",
     "output_type": "stream",
     "text": [
      "{'bucket_name': 'integration', 'ms_name': 'classification_actionPattern_cleanLevel0_trainX', 'feature_list': ['col_0', 'col_1', 'col_2', 'col_3', 'col_4', 'col_5', 'col_6', 'col_7', 'col_8']}\n"
     ]
    },
    {
     "name": "stdout",
     "output_type": "stream",
     "text": [
      "['col_0', 'col_1', 'col_2', 'col_3', 'col_4', 'col_5', 'col_6', 'col_7', 'col_8']\n",
      "Make New scaler File\n",
      "./scaler/classification_actionPattern_cleanLevel0_trainX/minmax/2b219d77d5b069971addb3d7c728ec0d/scaler.pkl\n",
      "['value']\n",
      "Make New scaler File\n",
      "{'data_clean_option': False, 'split_mode': 'window_split', 'nan_process_info': {'type': 'num', 'ConsecutiveNanLimit': 10000, 'totalNaNLimit': 100000}, 'max_nan_limit_ratio': 0.5, 'future_step': None, 'past_step': 128}\n",
      "window_split\n",
      "None\n",
      "window_size: 128 nan_limit_num: 64\n",
      "(752768, 9) (5881, 128, 9)\n",
      "(5881, 1) (5881, 1)\n",
      "window_size: 128 nan_limit_num: 64\n",
      "(188288, 9) (1471, 128, 9)\n",
      "(1471, 1) (1471, 1)\n"
     ]
    }
   ],
   "source": [
    "# 3. Data Preparation\n",
    "train_X_array, train_y_array, val_X_array, val_y_array = ML_api.train_data_preparation(params, influxdb_client)"
   ]
  },
  {
   "cell_type": "code",
   "execution_count": 6,
   "id": "f7a403e8",
   "metadata": {},
   "outputs": [
    {
     "name": "stdout",
     "output_type": "stream",
     "text": [
      "(5881, 128, 9)\n",
      "(5881, 1)\n"
     ]
    }
   ],
   "source": [
    "print(train_X_array.shape)\n",
    "print(train_y_array.shape)"
   ]
  },
  {
   "cell_type": "code",
   "execution_count": 7,
   "id": "6624e9f7",
   "metadata": {},
   "outputs": [
    {
     "name": "stdout",
     "output_type": "stream",
     "text": [
      "./Models/LSTM_FCNs_cf/classification_actionPattern_cleanLevel0_trainX_classification_LSTM_FCNs_cf_/classification_actionPattern_cleanLevel0_trainX/model.pkl\n",
      "Start training model\n",
      "\n",
      "Epoch 1/5\n",
      "train Loss: 0.6519 Acc: 0.7912\n",
      "val Loss: 0.1897 Acc: 0.9753\n",
      "\n",
      "Training complete in 4m 33s\n",
      "Best val Acc: 1.000000\n"
     ]
    }
   ],
   "source": [
    "# 4.Training\n",
    "params = ML_api.ML_train(params, train_X_array,  train_y_array, val_X_array, val_y_array)"
   ]
  },
  {
   "cell_type": "code",
   "execution_count": 8,
   "id": "6e8f71cb",
   "metadata": {},
   "outputs": [
    {
     "data": {
      "text/plain": [
       "{'ingestion_param_X': {'bucket_name': 'integration',\n",
       "  'ms_name': 'classification_actionPattern_cleanLevel0_trainX',\n",
       "  'feature_list': ['col_0',\n",
       "   'col_1',\n",
       "   'col_2',\n",
       "   'col_3',\n",
       "   'col_4',\n",
       "   'col_5',\n",
       "   'col_6',\n",
       "   'col_7',\n",
       "   'col_8']},\n",
       " 'ingestion_param_y': {'bucket_name': 'integration',\n",
       "  'ms_name': 'classification_actionPattern_cleanLevel0_trainy',\n",
       "  'feature_list': ['value']},\n",
       " 'data_y_flag': True,\n",
       " 'scaler_param': {'scaler_flag': 'scale',\n",
       "  'scale_method': 'minmax',\n",
       "  'scaler_path': './scaler/',\n",
       "  'scaler_file_path': {'XScalerFile': {'fileName': 'scaler.pkl',\n",
       "    'filePath': './scaler/classification_actionPattern_cleanLevel0_trainX/minmax/2b219d77d5b069971addb3d7c728ec0d/scaler.pkl'},\n",
       "   'yScalerFile': {'fileName': 'scaler.pkl',\n",
       "    'filePath': './scaler/classification_actionPattern_cleanLevel0_trainy/minmax/f69156750a210491ffd4a67b605bc88b/scaler.pkl'}}},\n",
       " 'transform_param': {'data_clean_option': False,\n",
       "  'split_mode': 'window_split',\n",
       "  'nan_process_info': {'type': 'num',\n",
       "   'ConsecutiveNanLimit': 10000,\n",
       "   'totalNaNLimit': 100000},\n",
       "  'max_nan_limit_ratio': 0.5,\n",
       "  'future_step': None,\n",
       "  'past_step': 128},\n",
       " 'model_info': {'model_purpose': 'classification',\n",
       "  'model_method': 'LSTM_FCNs_cf',\n",
       "  'model_name': 'classification_actionPattern_cleanLevel0_trainX_classification_LSTM_FCNs_cf_',\n",
       "  'model_tags': 'tagstest',\n",
       "  'train_parameter': {'lr': 0.0001,\n",
       "   'weight_decay': 1e-06,\n",
       "   'n_epochs': 5,\n",
       "   'batch_size': 16,\n",
       "   'device': 'cpu'},\n",
       "  'model_parameter': {'input_size': 9,\n",
       "   'seq_len': 128,\n",
       "   'num_classes': 6,\n",
       "   'num_layers': 2,\n",
       "   'lstm_drop_out': 0.4,\n",
       "   'fc_drop_out': 0.1},\n",
       "  'seq_len': 128,\n",
       "  'input_size': 9,\n",
       "  'model_file_path': {'modelFile': {'fileName': 'model.pth',\n",
       "    'filePath': './Models/LSTM_FCNs_cf/classification_actionPattern_cleanLevel0_trainX_classification_LSTM_FCNs_cf_/classification_actionPattern_cleanLevel0_trainX/model.pkl'}}},\n",
       " 'train_data_info': {'bucket_name': 'integration',\n",
       "  'collection_name': 'classification_actionPattern',\n",
       "  'ms_name': 'classification_actionPattern_cleanLevel0_trainX',\n",
       "  'ingestion_type': 'multiple_ms_by_time',\n",
       "  'ingestion_param': {'ms_list_info': [['bio_action_sensors',\n",
       "     'accelerationTrain']],\n",
       "   'start_time': '1992-01-11',\n",
       "   'end_time': '2012-02-27'},\n",
       "  'processing_type': 'step_3',\n",
       "  'process_param': {'refine_param': {'remove_duplication': {'flag': False},\n",
       "    'static_frequency': {'flag': False, 'frequency': None}},\n",
       "   'outlier_param': {'certain_error_to_NaN': {'flag': False},\n",
       "    'uncertain_error_to_NaN': {'flag': False}},\n",
       "   'imputation_param': {'flag': False}},\n",
       "  'integration_param': {'integration_frequency': 675.0,\n",
       "   'param': {},\n",
       "   'method': 'meta',\n",
       "   'integration_duration': 'common'},\n",
       "  'clean_level': 0}}"
      ]
     },
     "execution_count": 8,
     "metadata": {},
     "output_type": "execute_result"
    }
   ],
   "source": [
    "params"
   ]
  },
  {
   "cell_type": "code",
   "execution_count": 9,
   "id": "6ec3dafa",
   "metadata": {},
   "outputs": [
    {
     "name": "stdout",
     "output_type": "stream",
     "text": [
      "======== OK ========\n"
     ]
    },
    {
     "data": {
      "text/plain": [
       "200"
      ]
     },
     "execution_count": 9,
     "metadata": {},
     "output_type": "execute_result"
    }
   ],
   "source": [
    "# save meta\n",
    "from Clust.clust.ML.tool import meta\n",
    "meta_file_name = \"./meta.json\"\n",
    "#ml_meta.save_model_meta_into_mongodb(mongodb_client, param, 'model','meta')\n",
    "meta.save_model_meta_into_local(meta_file_name, params)"
   ]
  },
  {
   "cell_type": "code",
   "execution_count": null,
   "id": "06d2f744",
   "metadata": {},
   "outputs": [],
   "source": []
  },
  {
   "cell_type": "code",
   "execution_count": null,
   "id": "807162c8",
   "metadata": {},
   "outputs": [],
   "source": []
  }
 ],
 "metadata": {
  "kernelspec": {
   "display_name": "Python 3 (ipykernel)",
   "language": "python",
   "name": "python3"
  },
  "language_info": {
   "codemirror_mode": {
    "name": "ipython",
    "version": 3
   },
   "file_extension": ".py",
   "mimetype": "text/x-python",
   "name": "python",
   "nbconvert_exporter": "python",
   "pygments_lexer": "ipython3",
   "version": "3.9.6"
  }
 },
 "nbformat": 4,
 "nbformat_minor": 5
}
