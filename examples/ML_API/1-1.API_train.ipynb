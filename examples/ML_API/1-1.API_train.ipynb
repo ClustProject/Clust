{
 "cells": [
  {
   "cell_type": "markdown",
   "id": "3d0e3d70",
   "metadata": {},
   "source": [
    "# Setting"
   ]
  },
  {
   "cell_type": "code",
   "execution_count": 1,
   "id": "a5d01d6c",
   "metadata": {},
   "outputs": [],
   "source": [
    "import sys, os\n",
    "import pandas as pd\n",
    "\n",
    "sys.path.append(\"../\")\n",
    "sys.path.append(\"../../\")\n",
    "sys.path.append(\"../../../\")\n",
    "sys.path.append(\"../../../../\")\n",
    "\n",
    "from Clust.setting import influx_setting_KETI as ins\n",
    "from Clust.clust.ingestion.influx import influx_client_v2 as iC\n",
    "from Clust.clust.ingestion.mongo import mongo_client\n",
    "from Clust.clust.ML.tool import meta as ml_meta\n",
    "\n",
    "influxdb_client = iC.InfluxClient(ins.CLUSTDataServer2)\n",
    "mongodb_client = mongo_client.MongoClient(ins.CLUSTMetaInfo2)"
   ]
  },
  {
   "cell_type": "markdown",
   "id": "6591affb",
   "metadata": {},
   "source": [
    "# Set Information"
   ]
  },
  {
   "cell_type": "code",
   "execution_count": 2,
   "id": "3db834d0",
   "metadata": {},
   "outputs": [],
   "source": [
    " # regression_1 --> regression\n",
    "# regression_2 --> forecasting\n",
    "# classification\n",
    "model_mode = \"regression_1\""
   ]
  },
  {
   "cell_type": "code",
   "execution_count": 3,
   "id": "14630031",
   "metadata": {},
   "outputs": [],
   "source": [
    "if model_mode == \"regression_1\":\n",
    "    ms_name_X = 'regression_energy_cleanLevel0_trainX'\n",
    "    ms_name_y = 'regression_energy_cleanLevel0_trainy'\n",
    "    feature_X_list = ['Press_mm_hg', 'RH_1', 'RH_2', 'RH_3', 'RH_4', 'RH_5', 'RH_6', 'RH_7',\n",
    "       'RH_8', 'RH_9', 'RH_out', 'T1', 'T2', 'T3', 'T4', 'T5', 'T6', 'T7',\n",
    "       'T8', 'T9', 'T_out', 'Tdewpoint', 'Visibility', 'Windspeed']\n",
    "    feature_y_list = ['value']\n",
    "    split_mode =\"windows_split\"\n",
    "    data_y_flag = 'true' # 이미 만들어진 Y 데이터를 활용함\n",
    "    \n",
    "    model_name = 'Regression_API_TEST'\n",
    "    model_method = 'LSTM_rg'\n",
    "    model_purpose = 'Regression'\n",
    "    \n",
    "    \n",
    "elif model_mode == \"regression_2\":\n",
    "    ms_name_X = 'forecasting_Hs2SwineFarmWithWeatherTime_cleanLevel4_trainX'\n",
    "    ms_name_y = 'forecasting_Hs2SwineFarmWithWeatherTime_cleanLevel4_trainy'\n",
    "    feature_X_list = ['Temperature', 'out_temp','sin_hour']\n",
    "    feature_y_list = ['Temperature']\n",
    "    split_mode = 'step_split'\n",
    "    data_y_flag = False # Y데이터는 없음, X 에서 Y 데이터를 도출함\n",
    "    \n",
    "    model_name = 'Forecasting_API_TEST'\n",
    "    model_method = 'LSTM_rg'\n",
    "    model_purpose = 'Regression'\n",
    "    \n",
    "    \n",
    "elif model_mode == \"classification\":\n",
    "    ms_name_X = 'classification_actionPattern_cleanLevel0_trainX'\n",
    "    ms_name_y = 'classification_actionPattern_cleanLevel0_trainy'\n",
    "    feature_X_list = ['col_0', 'col_1', 'col_2', 'col_3', 'col_4', 'col_5', 'col_6', 'col_7', 'col_8']\n",
    "    feature_y_list = ['value']\n",
    "    split_mode = 'windows_split'\n",
    "    data_y_flag = 'true'\n",
    "    \n",
    "    model_name = 'Classification_API_TEST'\n",
    "    model_method = 'LSTM_cf'\n",
    "    model_purpose = 'Classification'\n",
    "    "
   ]
  },
  {
   "cell_type": "code",
   "execution_count": 4,
   "id": "e6fb75b2",
   "metadata": {},
   "outputs": [
    {
     "data": {
      "text/plain": [
       "'regression_1'"
      ]
     },
     "execution_count": 4,
     "metadata": {},
     "output_type": "execute_result"
    }
   ],
   "source": [
    "model_mode"
   ]
  },
  {
   "cell_type": "code",
   "execution_count": 5,
   "id": "21b669c8",
   "metadata": {},
   "outputs": [
    {
     "name": "stdout",
     "output_type": "stream",
     "text": [
      "1\n"
     ]
    }
   ],
   "source": [
    "if model_mode == \"regression_1\" or model_mode == \"regression_2\":\n",
    "    print(\"1\")\n",
    "    regression_model_info ={\"LSTM_rg\":{\"hidden_size\":64,\"num_layers\":2,\"output_dim\":1,\"dropout\":0.1,\"bidirectional\":True},\n",
    "                         \"GRU_rg\":{\"hidden_size\":64,\"num_layers\":2,\"output_dim\":1,\"dropout\":0.1,\"bidirectional\":True},\n",
    "                         \"CNN_1D_rg\":{\"output_channels\":64,\"kernel_size\":3,\"stride\":1,\"dropout\":0.1,\"padding\":0},\n",
    "                         \"LSTM_FCNs_rg\":{\"num_layers\":2,\"lstm_dropout\":0.4,\"fc_dropout\":0.1},\n",
    "                         \"FC_rg\":{\"dropout\":2,\"bias\":0.4}}\n",
    "    model_parameter = regression_model_info[model_method]\n",
    "    train_parameter = {\"lr\":1e-4,\"weight_decay\":1e-6,\"n_epochs\":10,\"batch_size\":16}\n",
    "\n",
    "elif model_mode == \"classification\":\n",
    "    print(\"2\")\n",
    "    classification_model_info ={\"LSTM_cf\":{\"hidden_size\":64,\"num_layers\":2,\"num_classes\":2,\"dropout\":0.1,\"bidirectional\":True},\n",
    "                         \"GRU_cf\":{\"hidden_size\":64,\"num_layers\":2,\"num_classes\":2,\"dropout\":0.1,\"bidirectional\":True},\n",
    "                         \"CNN_1D_cf\":{\"output_channels\":64,\"kernel_size\":3,\"stride\":1,\"dropout\":0.1,\"padding\":0,\"num_classes\":6},\n",
    "                         \"LSTM_FCNs_cf\":{\"num_layers\":2,\"lstm_dropout\":0.4,\"fc_dropout\":0.1,\"num_classes\":6},\n",
    "                         \"FC_cf\":{\"dropout\":0.1,\"bias\":True}}\n",
    "    model_parameter = classification_model_info[model_method]\n",
    "    train_parameter = {\"lr\":1e-4,\"weight_decay\":1e-6,\"n_epochs\":10,\"batch_size\":16}"
   ]
  },
  {
   "cell_type": "markdown",
   "id": "9dd29b8f",
   "metadata": {},
   "source": [
    "# Set Parameter"
   ]
  },
  {
   "cell_type": "code",
   "execution_count": 6,
   "id": "5c2c3ddd",
   "metadata": {},
   "outputs": [],
   "source": [
    "model_name = 'api_test_regression_version'"
   ]
  },
  {
   "cell_type": "code",
   "execution_count": 7,
   "id": "a06344e6",
   "metadata": {},
   "outputs": [],
   "source": [
    "params = {\n",
    "    'bk_name_X' : 'integration',\n",
    "    'ms_name_X' : ms_name_X,\n",
    "    'feature_X_list' : feature_X_list,\n",
    "    'bk_name_y' : 'integration',\n",
    "    'ms_name_y' : ms_name_y,\n",
    "    'feature_y_list' : feature_y_list,\n",
    "    'data_y_flag' : data_y_flag,\n",
    "    'data_clean_option' : False,\n",
    "    'model_purpose' : model_purpose,\n",
    "    'model_method' : model_method,\n",
    "    'model_name' : model_name,\n",
    "    'model_tags' : 'tagstest',\n",
    "    'train_parameter' : train_parameter,\n",
    "    'model_parameter' : model_parameter,\n",
    "    'scaler_param':'scale'\n",
    "}\n",
    "\n",
    "if model_mode == \"regression_2\":\n",
    "    params['future_step'] = 2\n",
    "    params['past_step'] = 24"
   ]
  },
  {
   "cell_type": "code",
   "execution_count": 8,
   "id": "c870ae55",
   "metadata": {},
   "outputs": [
    {
     "data": {
      "text/plain": [
       "'true'"
      ]
     },
     "execution_count": 8,
     "metadata": {},
     "output_type": "execute_result"
    }
   ],
   "source": [
    "params['data_y_flag']"
   ]
  },
  {
   "cell_type": "markdown",
   "id": "dc09848c",
   "metadata": {},
   "source": [
    "# Training"
   ]
  },
  {
   "cell_type": "markdown",
   "id": "19152351",
   "metadata": {},
   "source": [
    "## Use Function in API"
   ]
  },
  {
   "cell_type": "code",
   "execution_count": 9,
   "id": "3217d4c0",
   "metadata": {},
   "outputs": [
    {
     "name": "stdout",
     "output_type": "stream",
     "text": [
      "cpu is available.\n"
     ]
    }
   ],
   "source": [
    "from KETIAppDataServer2.model import dbModel\n",
    "dbModel.DB_init()\n",
    "from KETIAppDataServer2.API.machine_learning.model_train import set_train_data, training, update_meta_data, check_model_name"
   ]
  },
  {
   "cell_type": "code",
   "execution_count": 10,
   "id": "2cc8d329",
   "metadata": {},
   "outputs": [
    {
     "name": "stdout",
     "output_type": "stream",
     "text": [
      "['Press_mm_hg', 'RH_1', 'RH_2', 'RH_3', 'RH_4', 'RH_5', 'RH_6', 'RH_7', 'RH_8', 'RH_9', 'RH_out', 'T1', 'T2', 'T3', 'T4', 'T5', 'T6', 'T7', 'T8', 'T9', 'T_out', 'Tdewpoint', 'Visibility', 'Windspeed']\n",
      "Make New scaler File\n",
      "['value']\n",
      "Make New scaler File\n",
      "window_size: 144 nan_limit_num: 72\n",
      "(10944, 24) (76, 144, 24)\n",
      "(76, 1) (76, 1)\n",
      "window_size: 144 nan_limit_num: 72\n",
      "(2736, 24) (19, 144, 24)\n",
      "(19, 1) (19, 1)\n",
      "{'hidden_size': 64, 'num_layers': 2, 'output_dim': 1, 'dropout': 0.1, 'bidirectional': True}\n",
      "./Models/LSTM_rg/api_test_regression_version/regression_energy_cleanLevel0_trainX/d531eec11664669cff1f6a3ad9639012/model.pkl\n",
      "Start training model\n",
      "[1/10] Training loss: 0.1412\t Validation loss: 0.0904\n",
      "[2/10] Training loss: 0.1274\t Validation loss: 0.0842\n",
      "[3/10] Training loss: 0.1296\t Validation loss: 0.0780\n",
      "[4/10] Training loss: 0.1162\t Validation loss: 0.0721\n",
      "[5/10] Training loss: 0.1044\t Validation loss: 0.0665\n",
      "[6/10] Training loss: 0.0935\t Validation loss: 0.0612\n",
      "[7/10] Training loss: 0.0980\t Validation loss: 0.0559\n",
      "[8/10] Training loss: 0.0841\t Validation loss: 0.0508\n",
      "[9/10] Training loss: 0.0706\t Validation loss: 0.0460\n",
      "[10/10] Training loss: 0.0771\t Validation loss: 0.0414\n",
      "\n",
      "Training complete in 0m 1s\n",
      "========== Data Save Success ==========\n",
      "======== OK ========\n",
      "<pymongo.results.InsertOneResult object at 0x7efe2ee6cb20>\n"
     ]
    },
    {
     "data": {
      "text/plain": [
       "200"
      ]
     },
     "execution_count": 10,
     "metadata": {},
     "output_type": "execute_result"
    }
   ],
   "source": [
    "# 1. Model Name Check\n",
    "model_name = check_model_name(params['model_name'], [params['model_purpose'], params['model_method'],params['bk_name_X'],params['ms_name_X']])\n",
    "params['model_name'] = model_name\n",
    "data_info_meta = {}\n",
    "\n",
    "# 2. data meta check\n",
    "data_meta = mongodb_client.get_document_by_json(params['bk_name_X'], params['ms_name_X'], {'ms_name': params['ms_name_X']})\n",
    "try:\n",
    "    data_info_meta['train_data_info'] = data_meta[0]\n",
    "except:\n",
    "    data_info_meta['train_data_info'] = {}\n",
    "\n",
    "# 3. Make Train Data\n",
    "train_X_array, train_y_array, val_X_array, val_y_array, transform_parameter, scale_path = set_train_data(params)\n",
    "\n",
    "# 4. Make data meta\n",
    "data_info_meta = dict(data_info_meta, **params)\n",
    "data_info_meta = update_meta_data(data_info_meta, 'transform_parameter', transform_parameter)\n",
    "data_info_meta = update_meta_data(data_info_meta, 'scale_files', scale_path)\n",
    "\n",
    "# 5. model trqining\n",
    "train_parameter, model_parameter, model_path = training(train_X_array, train_y_array, val_X_array, val_y_array, params)\n",
    "\n",
    "# 6. model meta\n",
    "model_info_meta = {}\n",
    "model_info_meta = update_meta_data(model_info_meta, 'train_parameter', train_parameter)\n",
    "model_info_meta = update_meta_data(model_info_meta, 'model_parameter', model_parameter)\n",
    "model_info_meta = update_meta_data(model_info_meta, 'model_files', model_path)\n",
    "\n",
    "# 7. save meta\n",
    "result = dict(data_info_meta, **model_info_meta)\n",
    "ml_meta.save_model_meta_data(mongodb_client, result)"
   ]
  },
  {
   "cell_type": "code",
   "execution_count": 11,
   "id": "731634b5",
   "metadata": {},
   "outputs": [
    {
     "data": {
      "text/plain": [
       "{'train_data_info': {'bucket_name': 'integration',\n",
       "  'collection_name': 'regression_energy',\n",
       "  'ms_name': 'regression_energy_cleanLevel0_trainX',\n",
       "  'ingestion_type': 'multiple_ms_by_time',\n",
       "  'ingestion_param': {'ms_list_info': [['life_indoor_environment',\n",
       "     'humidityTrain_10min'],\n",
       "    ['life_indoor_environment', 'temperatureTrain_10min'],\n",
       "    ['weather_outdoor_environment', 'belgiumChieverseAirportTrain_10min']],\n",
       "   'start_time': '2016-01-11',\n",
       "   'end_time': '2016-04-15'},\n",
       "  'processing_type': 'step_3',\n",
       "  'process_param': {'refine_param': {'remove_duplication': {'flag': False},\n",
       "    'static_frequency': {'flag': False, 'frequency': None}},\n",
       "   'outlier_param': {'certain_error_to_NaN': {'flag': False},\n",
       "    'uncertain_error_to_NaN': {'flag': False}},\n",
       "   'imputation_param': {'flag': False}},\n",
       "  'integration_param': {'integration_frequency': 600,\n",
       "   'param': {},\n",
       "   'method': 'meta',\n",
       "   'integration_duration': 'common'},\n",
       "  'clean_level': 0},\n",
       " 'bk_name_X': 'integration',\n",
       " 'ms_name_X': 'regression_energy_cleanLevel0_trainX',\n",
       " 'feature_X_list': ['Press_mm_hg',\n",
       "  'RH_1',\n",
       "  'RH_2',\n",
       "  'RH_3',\n",
       "  'RH_4',\n",
       "  'RH_5',\n",
       "  'RH_6',\n",
       "  'RH_7',\n",
       "  'RH_8',\n",
       "  'RH_9',\n",
       "  'RH_out',\n",
       "  'T1',\n",
       "  'T2',\n",
       "  'T3',\n",
       "  'T4',\n",
       "  'T5',\n",
       "  'T6',\n",
       "  'T7',\n",
       "  'T8',\n",
       "  'T9',\n",
       "  'T_out',\n",
       "  'Tdewpoint',\n",
       "  'Visibility',\n",
       "  'Windspeed'],\n",
       " 'bk_name_y': 'integration',\n",
       " 'ms_name_y': 'regression_energy_cleanLevel0_trainy',\n",
       " 'feature_y_list': ['value'],\n",
       " 'data_y_flag': 'true',\n",
       " 'data_clean_option': False,\n",
       " 'model_purpose': 'Regression',\n",
       " 'model_method': 'LSTM_rg',\n",
       " 'model_name': 'api_test_regression_version',\n",
       " 'model_tags': 'tagstest',\n",
       " 'train_parameter': {'lr': 0.0001,\n",
       "  'weight_decay': 1e-06,\n",
       "  'device': 'cpu',\n",
       "  'n_epochs': 10,\n",
       "  'batch_size': 16},\n",
       " 'model_parameter': {'rnn_type': 'lstm',\n",
       "  'input_size': 24,\n",
       "  'hidden_size': 64,\n",
       "  'num_layers': 2,\n",
       "  'output_dim': 1,\n",
       "  'dropout': 0.1,\n",
       "  'bidirectional': False},\n",
       " 'scaler_param': 'scale',\n",
       " 'transform_parameter': {'split_mode': 'windows_split',\n",
       "  'past_step': 144,\n",
       "  'max_nan_limit_ratio': 0.5},\n",
       " 'scale_files': {'XScalerFile': {'fileName': 'scaler.pkl',\n",
       "   'filePath': './scaler/regression_energy_cleanLevel0_trainX/minmax/900878d7bba6f2a4017d1c3399909ea7/scaler.pkl'},\n",
       "  'yScalerFile': {'fileName': 'scaler.pkl',\n",
       "   'filePath': './scaler/regression_energy_cleanLevel0_trainy/minmax/f69156750a210491ffd4a67b605bc88b/scaler.pkl'}},\n",
       " 'model_files': {'modelFile': {'fileName': 'model.pth',\n",
       "   'filePath': './Models/LSTM_rg/api_test_regression_version/regression_energy_cleanLevel0_trainX/d531eec11664669cff1f6a3ad9639012/model.pkl'}},\n",
       " '_id': ObjectId('64812b1339674a64f968369c')}"
      ]
     },
     "execution_count": 11,
     "metadata": {},
     "output_type": "execute_result"
    }
   ],
   "source": [
    "result"
   ]
  },
  {
   "cell_type": "code",
   "execution_count": null,
   "id": "f5f34d8a",
   "metadata": {},
   "outputs": [],
   "source": []
  },
  {
   "cell_type": "code",
   "execution_count": 12,
   "id": "1de3f361",
   "metadata": {},
   "outputs": [
    {
     "name": "stdout",
     "output_type": "stream",
     "text": [
      "{'train_data_info': {'bucket_name': 'integration', 'collection_name': 'regression_energy', 'ms_name': 'regression_energy_cleanLevel0_trainX', 'ingestion_type': 'multiple_ms_by_time', 'ingestion_param': {'ms_list_info': [['life_indoor_environment', 'humidityTrain_10min'], ['life_indoor_environment', 'temperatureTrain_10min'], ['weather_outdoor_environment', 'belgiumChieverseAirportTrain_10min']], 'start_time': '2016-01-11', 'end_time': '2016-04-15'}, 'processing_type': 'step_3', 'process_param': {'refine_param': {'remove_duplication': {'flag': False}, 'static_frequency': {'flag': False, 'frequency': None}}, 'outlier_param': {'certain_error_to_NaN': {'flag': False}, 'uncertain_error_to_NaN': {'flag': False}}, 'imputation_param': {'flag': False}}, 'integration_param': {'integration_frequency': 600, 'param': {}, 'method': 'meta', 'integration_duration': 'common'}, 'clean_level': 0}, 'bk_name_X': 'integration', 'ms_name_X': 'regression_energy_cleanLevel0_trainX', 'feature_X_list': ['Press_mm_hg', 'RH_1', 'RH_2', 'RH_3', 'RH_4', 'RH_5', 'RH_6', 'RH_7', 'RH_8', 'RH_9', 'RH_out', 'T1', 'T2', 'T3', 'T4', 'T5', 'T6', 'T7', 'T8', 'T9', 'T_out', 'Tdewpoint', 'Visibility', 'Windspeed'], 'bk_name_y': 'integration', 'ms_name_y': 'regression_energy_cleanLevel0_trainy', 'feature_y_list': ['value'], 'data_y_flag': 'true', 'data_clean_option': False, 'model_purpose': 'Regression', 'model_method': 'LSTM_rg', 'model_name': 'api_test_regression_version', 'model_tags': 'tagstest', 'train_parameter': {'lr': 0.0001, 'weight_decay': 1e-06, 'n_epochs': 10, 'batch_size': 16}, 'model_parameter': {'hidden_size': 64, 'num_layers': 2, 'output_dim': 1, 'dropout': 0.1, 'bidirectional': True}, 'scaler_param': 'scale', 'transform_parameter': {'split_mode': 'windows_split', 'past_step': 144, 'max_nan_limit_ratio': 0.5}, 'scale_files': {'XScalerFile': {'fileName': 'scaler.pkl', 'filePath': './scaler/regression_energy_cleanLevel0_trainX/minmax/900878d7bba6f2a4017d1c3399909ea7/scaler.pkl'}, 'yScalerFile': {'fileName': 'scaler.pkl', 'filePath': './scaler/regression_energy_cleanLevel0_trainy/minmax/f69156750a210491ffd4a67b605bc88b/scaler.pkl'}}}\n",
      "----------------------------------------------------------------------------------------\n"
     ]
    }
   ],
   "source": [
    "print(data_info_meta)\n",
    "print(\"----------------------------------------------------------------------------------------\")"
   ]
  },
  {
   "cell_type": "code",
   "execution_count": 13,
   "id": "c6e92123",
   "metadata": {},
   "outputs": [
    {
     "name": "stdout",
     "output_type": "stream",
     "text": [
      "{'train_parameter': {'lr': 0.0001, 'weight_decay': 1e-06, 'device': 'cpu', 'n_epochs': 10, 'batch_size': 16}, 'model_parameter': {'rnn_type': 'lstm', 'input_size': 24, 'hidden_size': 64, 'num_layers': 2, 'output_dim': 1, 'dropout': 0.1, 'bidirectional': False}, 'model_files': {'modelFile': {'fileName': 'model.pth', 'filePath': './Models/LSTM_rg/api_test_regression_version/regression_energy_cleanLevel0_trainX/d531eec11664669cff1f6a3ad9639012/model.pkl'}}}\n",
      "$####################################################################################\n"
     ]
    }
   ],
   "source": [
    "print(model_info_meta)\n",
    "print(\"$####################################################################################\")"
   ]
  },
  {
   "cell_type": "code",
   "execution_count": 14,
   "id": "e8850357",
   "metadata": {},
   "outputs": [
    {
     "name": "stdout",
     "output_type": "stream",
     "text": [
      "{'train_data_info': {'bucket_name': 'integration', 'collection_name': 'regression_energy', 'ms_name': 'regression_energy_cleanLevel0_trainX', 'ingestion_type': 'multiple_ms_by_time', 'ingestion_param': {'ms_list_info': [['life_indoor_environment', 'humidityTrain_10min'], ['life_indoor_environment', 'temperatureTrain_10min'], ['weather_outdoor_environment', 'belgiumChieverseAirportTrain_10min']], 'start_time': '2016-01-11', 'end_time': '2016-04-15'}, 'processing_type': 'step_3', 'process_param': {'refine_param': {'remove_duplication': {'flag': False}, 'static_frequency': {'flag': False, 'frequency': None}}, 'outlier_param': {'certain_error_to_NaN': {'flag': False}, 'uncertain_error_to_NaN': {'flag': False}}, 'imputation_param': {'flag': False}}, 'integration_param': {'integration_frequency': 600, 'param': {}, 'method': 'meta', 'integration_duration': 'common'}, 'clean_level': 0}, 'bk_name_X': 'integration', 'ms_name_X': 'regression_energy_cleanLevel0_trainX', 'feature_X_list': ['Press_mm_hg', 'RH_1', 'RH_2', 'RH_3', 'RH_4', 'RH_5', 'RH_6', 'RH_7', 'RH_8', 'RH_9', 'RH_out', 'T1', 'T2', 'T3', 'T4', 'T5', 'T6', 'T7', 'T8', 'T9', 'T_out', 'Tdewpoint', 'Visibility', 'Windspeed'], 'bk_name_y': 'integration', 'ms_name_y': 'regression_energy_cleanLevel0_trainy', 'feature_y_list': ['value'], 'data_y_flag': 'true', 'data_clean_option': False, 'model_purpose': 'Regression', 'model_method': 'LSTM_rg', 'model_name': 'api_test_regression_version', 'model_tags': 'tagstest', 'train_parameter': {'lr': 0.0001, 'weight_decay': 1e-06, 'device': 'cpu', 'n_epochs': 10, 'batch_size': 16}, 'model_parameter': {'rnn_type': 'lstm', 'input_size': 24, 'hidden_size': 64, 'num_layers': 2, 'output_dim': 1, 'dropout': 0.1, 'bidirectional': False}, 'scaler_param': 'scale', 'transform_parameter': {'split_mode': 'windows_split', 'past_step': 144, 'max_nan_limit_ratio': 0.5}, 'scale_files': {'XScalerFile': {'fileName': 'scaler.pkl', 'filePath': './scaler/regression_energy_cleanLevel0_trainX/minmax/900878d7bba6f2a4017d1c3399909ea7/scaler.pkl'}, 'yScalerFile': {'fileName': 'scaler.pkl', 'filePath': './scaler/regression_energy_cleanLevel0_trainy/minmax/f69156750a210491ffd4a67b605bc88b/scaler.pkl'}}, 'model_files': {'modelFile': {'fileName': 'model.pth', 'filePath': './Models/LSTM_rg/api_test_regression_version/regression_energy_cleanLevel0_trainX/d531eec11664669cff1f6a3ad9639012/model.pkl'}}, '_id': ObjectId('64812b1339674a64f968369c')}\n",
      "@@@@@@@@@@@@@@@@@@@@@@@@@@@@@@@@@@@@@@@@@@@@@@@@@@@@@@@@@@@@@@@@@@@@@@@@@@@@@@@@@@@@@@@@@\n"
     ]
    }
   ],
   "source": [
    "print(result)\n",
    "print(\"@@@@@@@@@@@@@@@@@@@@@@@@@@@@@@@@@@@@@@@@@@@@@@@@@@@@@@@@@@@@@@@@@@@@@@@@@@@@@@@@@@@@@@@@@\")"
   ]
  }
 ],
 "metadata": {
  "kernelspec": {
   "display_name": "clust",
   "language": "python",
   "name": "clust"
  },
  "language_info": {
   "codemirror_mode": {
    "name": "ipython",
    "version": 3
   },
   "file_extension": ".py",
   "mimetype": "text/x-python",
   "name": "python",
   "nbconvert_exporter": "python",
   "pygments_lexer": "ipython3",
   "version": "3.8.16"
  }
 },
 "nbformat": 4,
 "nbformat_minor": 5
}
