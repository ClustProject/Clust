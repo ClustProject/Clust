{
 "cells": [
  {
   "cell_type": "markdown",
   "id": "3d0e3d70",
   "metadata": {},
   "source": [
    "# Setting"
   ]
  },
  {
   "cell_type": "code",
   "execution_count": 1,
   "id": "a5d01d6c",
   "metadata": {},
   "outputs": [
    {
     "name": "stdout",
     "output_type": "stream",
     "text": [
      "cpu is available.\n"
     ]
    }
   ],
   "source": [
    "import sys, os\n",
    "import pandas as pd\n",
    "\n",
    "sys.path.append(\"../\")\n",
    "sys.path.append(\"../../\")\n",
    "sys.path.append(\"../../../\")\n",
    "sys.path.append(\"../../../../\")\n",
    "\n",
    "from Clust.setting import influx_setting_KETI as ins\n",
    "from Clust.clust.ingestion.influx import influx_client_v2 as iC\n",
    "from Clust.clust.ingestion.mongo import mongo_client\n",
    "from Clust.clust.ML.tool import meta as ml_meta\n",
    "from Clust.clust.ML.common import ML_api\n",
    "influxdb_client = iC.InfluxClient(ins.CLUSTDataServer2)\n",
    "mongodb_client = mongo_client.MongoClient(ins.CLUSTMetaInfo2)\n",
    "\n",
    "import torch\n",
    "device = \"cuda\" if torch.cuda.is_available() else \"cpu\"\n",
    "print(f\"{device}\" \" is available.\")"
   ]
  },
  {
   "cell_type": "markdown",
   "id": "7472041e",
   "metadata": {},
   "source": [
    "# 1. set param from Front End"
   ]
  },
  {
   "cell_type": "code",
   "execution_count": 2,
   "id": "f3a7b7ed",
   "metadata": {},
   "outputs": [],
   "source": [
    "param1 = {\n",
    "    \"ingestion_param_X\" :{\n",
    "        \"bucket_name\": 'integration',\n",
    "        \"ms_name\" : 'regression_energy_cleanLevel4_trainX',\n",
    "        \"feature_list\":['Press_mm_hg', 'RH_1', 'RH_2', 'RH_3', 'RH_4', 'RH_5', 'RH_6', 'RH_7',\n",
    "       'RH_8', 'RH_9', 'RH_out', 'T1', 'T2', 'T3', 'T4', 'T5', 'T6', 'T7',\n",
    "       'T8', 'T9', 'T_out', 'Tdewpoint', 'Visibility', 'Windspeed']\n",
    "    },\n",
    "    \"ingestion_param_y\":{\n",
    "        \"bucket_name\": 'integration',\n",
    "        \"ms_name\" : 'regression_energy_cleanLevel4_trainy',\n",
    "        \"feature_list\":[\"value\"]\n",
    "    },\n",
    "    'data_y_flag' : 'true',\n",
    "    'scaler_param':{\n",
    "        'scaler_flag':'scale', #scale_param,\n",
    "        'scale_method' :'minmax',\n",
    "        'scaler_path' :'./scaler/'\n",
    "    },\n",
    "    \"transform_param\":{\n",
    "        'split_mode' : 'window_split', # 현재 data_y_flag=Ture --> 모두 window_split # data_y = False --> step_split\n",
    "        #step_split일 경우만 past_step과 future_step이 존재\n",
    "        'data_clean_option' : \"false\"\n",
    "    },\n",
    "    \n",
    "    \"model_info\" :{\n",
    "        'model_purpose' : 'regression',\n",
    "        'data_clean_option' : \"true\",\n",
    "        'model_method' : 'LSTM_rg',\n",
    "        'model_name' : \"None\",\n",
    "        'model_tags' : 'tagstest',\n",
    "        'train_parameter' : {\"lr\":0.0001,\"weight_decay\":0.000001,\"n_epochs\":5,\"batch_size\":16},\n",
    "        'model_parameter' : {\"hidden_size\":64,\"num_layers\":2,\"output_dim\":1,\"dropout\":0.1,\"bidirectional\":\"True\"}\n",
    "    },\n",
    "}\n",
    "\n",
    "param2 = {\n",
    "    \"ingestion_param_X\" :{\n",
    "        \"bucket_name\": 'integration',\n",
    "        \"ms_name\" : 'regression_energy_cleanLevel4_trainX',\n",
    "        \"feature_list\":['Temperature', 'out_temp','sin_hour']\n",
    "    },\n",
    "    \"ingestion_param_y\":{\n",
    "        \"bucket_name\": 'integration',\n",
    "        \"ms_name\" : 'classification_actionPattern_cleanLevel0_testX',\n",
    "        \"feature_list\":['Temperature']\n",
    "    },\n",
    "    'data_y_flag' : 'false',\n",
    "    'scaler_param':{\n",
    "        'scaler_flag':'scale', #scale_param,\n",
    "        'scale_method' :'minmax',\n",
    "        'scaler_path' :'./scaler/'\n",
    "    },\n",
    "    \"transform_param\":{\n",
    "        'data_clean_option' : \"true\",\n",
    "        'split_mode' : 'window_split', # 현재 data_y_flag=Ture --> 모두 window_split # data_y = False --> step_split\n",
    "        'past_step':4, #step_split일 경우만 past_step과 future_step이 존재\n",
    "        'future_step':2\n",
    "    },\n",
    "    \n",
    "    \"model_info\" :{\n",
    "        'model_purpose' : 'regression',\n",
    "        'model_method' : 'LSTM_rg',\n",
    "        'model_name' : \"None\",\n",
    "        'model_tags' : 'tagstest',\n",
    "        'train_parameter' : {\"lr\":0.0001,\"weight_decay\":0.000001,\"n_epochs\":5,\"batch_size\":16},\n",
    "        'model_parameter' : {\"hidden_size\":64,\"num_layers\":2,\"output_dim\":1,\"dropout\":0.1,\"bidirectional\":\"True\",\"num_classes\":6}\n",
    "    },\n",
    "}"
   ]
  },
  {
   "cell_type": "markdown",
   "id": "79772cfb",
   "metadata": {},
   "source": [
    "# 2. Backend"
   ]
  },
  {
   "cell_type": "code",
   "execution_count": 3,
   "id": "3436645f",
   "metadata": {},
   "outputs": [],
   "source": [
    "# 1. Backend Prameter Setting\n",
    "from Clust.clust.ML.common import ML_api\n",
    "from Clust.clust.ML.common import ML_pipeline, tool\n",
    "\n",
    "# parameter tunning\n",
    "param = param1\n",
    "\n",
    "# 관련한 아래 코드 모든 스트링 중 True, None, False 등의 문자열이 있을경우 대소문자 상관 없이 Boolean으로 바르게 변환하도록 수정\n",
    "# 아래처럼 짤 필요가 없음\n",
    "# if 'bidirectional' in list(param['model_info']['model_parameter'].keys()):\n",
    "#     param['model_info']['model_parameter'][\"bidirectional\"] = True if param['model_info']['model_parameter'][\"bidirectional\"] == \"true\" else False \n",
    "\n",
    "# param['data_y_flag'] = True if param['data_y_flag'] == 'true' else False\n",
    "# param['transform_param']['data_clean_option'] = True if param['transform_param']['data_clean_option'] == \"true\" else False\n",
    "#################################\n",
    "\n",
    "param = ML_api.chagne_type_str_to_bool(param)\n",
    "\n",
    "param['model_info']['train_parameter']['device'] = device                                                                              \n",
    "                                                                                         \n",
    "if param['transform_param']['data_clean_option']:\n",
    "    param['transform_param']['nan_process_info']= {'type':'num', 'ConsecutiveNanLimit':10, 'totalNaNLimit':100}\n",
    "    param['transform_param']['max_nan_limit_ratio'] = 0.9\n",
    "else:\n",
    "    param['transform_param']['nan_process_info'] = {'type':'num', 'ConsecutiveNanLimit':10000, 'totalNaNLimit':100000}\n",
    "    param['transform_param']['max_nan_limit_ratio'] = 0.5\n",
    "    \n",
    "# model name check  \n",
    "param['model_info']['model_name'] = ML_api.check_model_name(param['model_info']['model_name'],\n",
    "                                     [param['ingestion_param_X']['ms_name'], param['model_info']['model_purpose'], param['model_info']['model_method']])"
   ]
  },
  {
   "cell_type": "code",
   "execution_count": null,
   "id": "788e6157",
   "metadata": {},
   "outputs": [],
   "source": []
  },
  {
   "cell_type": "code",
   "execution_count": 4,
   "id": "c7fbfcc2",
   "metadata": {},
   "outputs": [],
   "source": [
    "# 2. train data meta check\n",
    "train_data_info = ML_api.get_train_data_meta (mongodb_client, param['ingestion_param_X'])\n",
    "param['train_data_info'] = train_data_info"
   ]
  },
  {
   "cell_type": "code",
   "execution_count": 5,
   "id": "2cc8d329",
   "metadata": {},
   "outputs": [
    {
     "name": "stdout",
     "output_type": "stream",
     "text": [
      "{'bucket_name': 'integration', 'ms_name': 'regression_energy_cleanLevel4_trainX', 'feature_list': ['Press_mm_hg', 'RH_1', 'RH_2', 'RH_3', 'RH_4', 'RH_5', 'RH_6', 'RH_7', 'RH_8', 'RH_9', 'RH_out', 'T1', 'T2', 'T3', 'T4', 'T5', 'T6', 'T7', 'T8', 'T9', 'T_out', 'Tdewpoint', 'Visibility', 'Windspeed']}\n",
      "['Press_mm_hg', 'RH_1', 'RH_2', 'RH_3', 'RH_4', 'RH_5', 'RH_6', 'RH_7', 'RH_8', 'RH_9', 'RH_out', 'T1', 'T2', 'T3', 'T4', 'T5', 'T6', 'T7', 'T8', 'T9', 'T_out', 'Tdewpoint', 'Visibility', 'Windspeed']\n",
      "Make New scaler File\n",
      "./scaler/regression_energy_cleanLevel4_trainX/minmax/900878d7bba6f2a4017d1c3399909ea7/scaler.pkl\n",
      "['value']\n",
      "Make New scaler File\n",
      "window_size: 144 nan_limit_num: 72\n",
      "(10944, 24) (72, 144, 24)\n",
      "(76, 1) (72, 1)\n",
      "window_size: 144 nan_limit_num: 72\n",
      "(2736, 24) (19, 144, 24)\n",
      "(19, 1) (19, 1)\n"
     ]
    }
   ],
   "source": [
    "# 3. Data Preparation\n",
    "train_X_array, train_y_array, val_X_array, val_y_array = ML_api.ML_data_preparation(param, influxdb_client)"
   ]
  },
  {
   "cell_type": "code",
   "execution_count": 6,
   "id": "6624e9f7",
   "metadata": {},
   "outputs": [
    {
     "name": "stdout",
     "output_type": "stream",
     "text": [
      "{'hidden_size': 64, 'num_layers': 2, 'output_dim': 1, 'dropout': 0.1, 'bidirectional': True}\n",
      "./Models/LSTM_rg/regression_energy_cleanLevel4_trainX_regression_LSTM_rg_/regression_energy_cleanLevel4_trainX/model.pkl\n",
      "Start training model\n",
      "[1/5] Training loss: 0.2152\t Validation loss: 0.1540\n",
      "[2/5] Training loss: 0.1981\t Validation loss: 0.1418\n",
      "[3/5] Training loss: 0.1745\t Validation loss: 0.1300\n",
      "[4/5] Training loss: 0.1777\t Validation loss: 0.1185\n",
      "[5/5] Training loss: 0.1632\t Validation loss: 0.1072\n",
      "\n",
      "Training complete in 0m 1s\n"
     ]
    }
   ],
   "source": [
    "# 4.Training\n",
    "param = ML_api.ML_training(train_X_array,  train_y_array, val_X_array, val_y_array, param)"
   ]
  },
  {
   "cell_type": "code",
   "execution_count": 7,
   "id": "6e8f71cb",
   "metadata": {},
   "outputs": [
    {
     "data": {
      "text/plain": [
       "{'ingestion_param_X': {'bucket_name': 'integration',\n",
       "  'ms_name': 'regression_energy_cleanLevel4_trainX',\n",
       "  'feature_list': ['Press_mm_hg',\n",
       "   'RH_1',\n",
       "   'RH_2',\n",
       "   'RH_3',\n",
       "   'RH_4',\n",
       "   'RH_5',\n",
       "   'RH_6',\n",
       "   'RH_7',\n",
       "   'RH_8',\n",
       "   'RH_9',\n",
       "   'RH_out',\n",
       "   'T1',\n",
       "   'T2',\n",
       "   'T3',\n",
       "   'T4',\n",
       "   'T5',\n",
       "   'T6',\n",
       "   'T7',\n",
       "   'T8',\n",
       "   'T9',\n",
       "   'T_out',\n",
       "   'Tdewpoint',\n",
       "   'Visibility',\n",
       "   'Windspeed']},\n",
       " 'ingestion_param_y': {'bucket_name': 'integration',\n",
       "  'ms_name': 'regression_energy_cleanLevel4_trainy',\n",
       "  'feature_list': ['value']},\n",
       " 'data_y_flag': True,\n",
       " 'scaler_param': {'scaler_flag': 'scale',\n",
       "  'scale_method': 'minmax',\n",
       "  'scaler_path': './scaler/'},\n",
       " 'transform_param': {'split_mode': 'window_split',\n",
       "  'data_clean_option': False,\n",
       "  'nan_process_info': {'type': 'num',\n",
       "   'ConsecutiveNanLimit': 10000,\n",
       "   'totalNaNLimit': 100000},\n",
       "  'max_nan_limit_ratio': 0.5,\n",
       "  'future_step': None,\n",
       "  'past_step': 144},\n",
       " 'model_info': {'model_purpose': 'regression',\n",
       "  'data_clean_option': True,\n",
       "  'model_method': 'LSTM_rg',\n",
       "  'model_name': 'regression_energy_cleanLevel4_trainX_regression_LSTM_rg_',\n",
       "  'model_tags': 'tagstest',\n",
       "  'train_parameter': {'lr': 0.0001,\n",
       "   'weight_decay': 1e-06,\n",
       "   'n_epochs': 5,\n",
       "   'batch_size': 16,\n",
       "   'device': 'cpu'},\n",
       "  'model_parameter': {'rnn_type': 'lstm',\n",
       "   'input_size': 24,\n",
       "   'hidden_size': 64,\n",
       "   'num_layers': 2,\n",
       "   'output_dim': 1,\n",
       "   'dropout': 0.1,\n",
       "   'bidirectional': True},\n",
       "  'seq_len': 144,\n",
       "  'input_size': 24,\n",
       "  'model_file_path': {'modelFile': {'fileName': 'model.pth',\n",
       "    'filePath': './Models/LSTM_rg/regression_energy_cleanLevel4_trainX_regression_LSTM_rg_/regression_energy_cleanLevel4_trainX/model.pkl'}}},\n",
       " 'train_data_info': {'bucket_name': 'integration',\n",
       "  'collection_name': 'regression_energy',\n",
       "  'ms_name': 'regression_energy_cleanLevel4_trainX',\n",
       "  'ingestion_type': 'multiple_ms_by_time',\n",
       "  'ingestion_param': {'ms_list_info': [['life_indoor_environment',\n",
       "     'humidityTrain_10min'],\n",
       "    ['life_indoor_environment', 'temperatureTrain_10min'],\n",
       "    ['weather_outdoor_environment', 'belgiumChieverseAirportTrain_10min']],\n",
       "   'start_time': '2016-01-11',\n",
       "   'end_time': '2016-04-15'},\n",
       "  'processing_type': 'step_3',\n",
       "  'process_param': {'refine_param': {'remove_duplication': {'flag': True},\n",
       "    'static_frequency': {'flag': True, 'frequency': None}},\n",
       "   'outlier_param': {'certain_error_to_NaN': {'flag': True},\n",
       "    'uncertain_error_to_NaN': {'flag': True,\n",
       "     'param': {'outlierDetectorConfig': [{'algorithm': 'IQR',\n",
       "        'percentile': 99,\n",
       "        'alg_parameter': {'weight': 100}}]}}},\n",
       "   'imputation_param': {'flag': True,\n",
       "    'imputation_method': [{'min': 0,\n",
       "      'max': 2,\n",
       "      'method': 'linear',\n",
       "      'parameter': {}}],\n",
       "    'total_non_NaN_ratio': 90}},\n",
       "  'integration_param': {'integration_frequency': 600.0,\n",
       "   'param': {},\n",
       "   'method': 'meta',\n",
       "   'integration_duration': 'common'},\n",
       "  'clean_level': 4}}"
      ]
     },
     "execution_count": 7,
     "metadata": {},
     "output_type": "execute_result"
    }
   ],
   "source": [
    "param"
   ]
  },
  {
   "cell_type": "code",
   "execution_count": 8,
   "id": "4fdb1ac6",
   "metadata": {},
   "outputs": [
    {
     "data": {
      "text/plain": [
       "<Clust.clust.ingestion.mongo.mongo_client.MongoClient at 0x7f55fad5c8b0>"
      ]
     },
     "execution_count": 8,
     "metadata": {},
     "output_type": "execute_result"
    }
   ],
   "source": [
    "mongodb_client"
   ]
  },
  {
   "cell_type": "code",
   "execution_count": 9,
   "id": "6ec3dafa",
   "metadata": {},
   "outputs": [
    {
     "name": "stdout",
     "output_type": "stream",
     "text": [
      "========== Data Save Success ==========\n",
      "======== OK ========\n",
      "<pymongo.results.InsertOneResult object at 0x7f55a5e26e80>\n"
     ]
    },
    {
     "data": {
      "text/plain": [
       "200"
      ]
     },
     "execution_count": 9,
     "metadata": {},
     "output_type": "execute_result"
    }
   ],
   "source": [
    "# save meta\n",
    "ml_meta.save_model_meta_data(mongodb_client, param)"
   ]
  },
  {
   "cell_type": "code",
   "execution_count": 10,
   "id": "0dd18151",
   "metadata": {},
   "outputs": [
    {
     "data": {
      "text/plain": [
       "{'ingestion_param_X': {'bucket_name': 'integration',\n",
       "  'ms_name': 'regression_energy_cleanLevel4_trainX',\n",
       "  'feature_list': ['Press_mm_hg',\n",
       "   'RH_1',\n",
       "   'RH_2',\n",
       "   'RH_3',\n",
       "   'RH_4',\n",
       "   'RH_5',\n",
       "   'RH_6',\n",
       "   'RH_7',\n",
       "   'RH_8',\n",
       "   'RH_9',\n",
       "   'RH_out',\n",
       "   'T1',\n",
       "   'T2',\n",
       "   'T3',\n",
       "   'T4',\n",
       "   'T5',\n",
       "   'T6',\n",
       "   'T7',\n",
       "   'T8',\n",
       "   'T9',\n",
       "   'T_out',\n",
       "   'Tdewpoint',\n",
       "   'Visibility',\n",
       "   'Windspeed']},\n",
       " 'ingestion_param_y': {'bucket_name': 'integration',\n",
       "  'ms_name': 'regression_energy_cleanLevel4_trainy',\n",
       "  'feature_list': ['value']},\n",
       " 'data_y_flag': True,\n",
       " 'scaler_param': {'scaler_flag': 'scale',\n",
       "  'scale_method': 'minmax',\n",
       "  'scaler_path': './scaler/'},\n",
       " 'transform_param': {'split_mode': 'window_split',\n",
       "  'data_clean_option': False,\n",
       "  'nan_process_info': {'type': 'num',\n",
       "   'ConsecutiveNanLimit': 10000,\n",
       "   'totalNaNLimit': 100000},\n",
       "  'max_nan_limit_ratio': 0.5,\n",
       "  'future_step': None,\n",
       "  'past_step': 144},\n",
       " 'model_info': {'model_purpose': 'regression',\n",
       "  'data_clean_option': True,\n",
       "  'model_method': 'LSTM_rg',\n",
       "  'model_name': 'regression_energy_cleanLevel4_trainX_regression_LSTM_rg_',\n",
       "  'model_tags': 'tagstest',\n",
       "  'train_parameter': {'lr': 0.0001,\n",
       "   'weight_decay': 1e-06,\n",
       "   'n_epochs': 5,\n",
       "   'batch_size': 16,\n",
       "   'device': 'cpu'},\n",
       "  'model_parameter': {'rnn_type': 'lstm',\n",
       "   'input_size': 24,\n",
       "   'hidden_size': 64,\n",
       "   'num_layers': 2,\n",
       "   'output_dim': 1,\n",
       "   'dropout': 0.1,\n",
       "   'bidirectional': True},\n",
       "  'seq_len': 144,\n",
       "  'input_size': 24,\n",
       "  'model_file_path': {'modelFile': {'fileName': 'model.pth',\n",
       "    'filePath': './Models/LSTM_rg/regression_energy_cleanLevel4_trainX_regression_LSTM_rg_/regression_energy_cleanLevel4_trainX/model.pkl'}}},\n",
       " 'train_data_info': {'bucket_name': 'integration',\n",
       "  'collection_name': 'regression_energy',\n",
       "  'ms_name': 'regression_energy_cleanLevel4_trainX',\n",
       "  'ingestion_type': 'multiple_ms_by_time',\n",
       "  'ingestion_param': {'ms_list_info': [['life_indoor_environment',\n",
       "     'humidityTrain_10min'],\n",
       "    ['life_indoor_environment', 'temperatureTrain_10min'],\n",
       "    ['weather_outdoor_environment', 'belgiumChieverseAirportTrain_10min']],\n",
       "   'start_time': '2016-01-11',\n",
       "   'end_time': '2016-04-15'},\n",
       "  'processing_type': 'step_3',\n",
       "  'process_param': {'refine_param': {'remove_duplication': {'flag': True},\n",
       "    'static_frequency': {'flag': True, 'frequency': None}},\n",
       "   'outlier_param': {'certain_error_to_NaN': {'flag': True},\n",
       "    'uncertain_error_to_NaN': {'flag': True,\n",
       "     'param': {'outlierDetectorConfig': [{'algorithm': 'IQR',\n",
       "        'percentile': 99,\n",
       "        'alg_parameter': {'weight': 100}}]}}},\n",
       "   'imputation_param': {'flag': True,\n",
       "    'imputation_method': [{'min': 0,\n",
       "      'max': 2,\n",
       "      'method': 'linear',\n",
       "      'parameter': {}}],\n",
       "    'total_non_NaN_ratio': 90}},\n",
       "  'integration_param': {'integration_frequency': 600.0,\n",
       "   'param': {},\n",
       "   'method': 'meta',\n",
       "   'integration_duration': 'common'},\n",
       "  'clean_level': 4},\n",
       " '_id': ObjectId('6482e99c358c3a367ebf80f8')}"
      ]
     },
     "execution_count": 10,
     "metadata": {},
     "output_type": "execute_result"
    }
   ],
   "source": [
    "param"
   ]
  },
  {
   "cell_type": "code",
   "execution_count": null,
   "id": "e2d63758",
   "metadata": {},
   "outputs": [],
   "source": []
  },
  {
   "cell_type": "code",
   "execution_count": null,
   "id": "46796c4d",
   "metadata": {},
   "outputs": [],
   "source": []
  }
 ],
 "metadata": {
  "kernelspec": {
   "display_name": "Python 3 (ipykernel)",
   "language": "python",
   "name": "python3"
  },
  "language_info": {
   "codemirror_mode": {
    "name": "ipython",
    "version": 3
   },
   "file_extension": ".py",
   "mimetype": "text/x-python",
   "name": "python",
   "nbconvert_exporter": "python",
   "pygments_lexer": "ipython3",
   "version": "3.8.8"
  }
 },
 "nbformat": 4,
 "nbformat_minor": 5
}
