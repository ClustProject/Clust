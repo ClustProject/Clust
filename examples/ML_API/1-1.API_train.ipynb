{
 "cells": [
  {
   "cell_type": "markdown",
   "id": "3d0e3d70",
   "metadata": {},
   "source": [
    "# Setting"
   ]
  },
  {
   "cell_type": "code",
   "execution_count": 1,
   "id": "a5d01d6c",
   "metadata": {},
   "outputs": [],
   "source": [
    "import sys, os\n",
    "import pandas as pd\n",
    "\n",
    "sys.path.append(\"../\")\n",
    "sys.path.append(\"../../\")\n",
    "sys.path.append(\"../../../\")\n",
    "sys.path.append(\"../../../../\")"
   ]
  },
  {
   "cell_type": "markdown",
   "id": "6591affb",
   "metadata": {},
   "source": [
    "# Set Information"
   ]
  },
  {
   "cell_type": "code",
   "execution_count": 13,
   "id": "3db834d0",
   "metadata": {},
   "outputs": [],
   "source": [
    " # regression_1 --> regression\n",
    "# regression_2 --> forecasting\n",
    "# classification\n",
    "model_mode = \"classification\""
   ]
  },
  {
   "cell_type": "code",
   "execution_count": 14,
   "id": "14630031",
   "metadata": {},
   "outputs": [],
   "source": [
    "if model_mode == \"regression_1\":\n",
    "    ms_name_X = 'regression_energy_cleanLevel0_trainX'\n",
    "    ms_name_y = 'regression_energy_cleanLevel0_trainy'\n",
    "    feature_X_list = ['Press_mm_hg', 'RH_1', 'RH_2', 'RH_3', 'RH_4', 'RH_5', 'RH_6', 'RH_7',\n",
    "       'RH_8', 'RH_9', 'RH_out', 'T1', 'T2', 'T3', 'T4', 'T5', 'T6', 'T7',\n",
    "       'T8', 'T9', 'T_out', 'Tdewpoint', 'Visibility', 'Windspeed']\n",
    "    feature_y_list = ['value']\n",
    "    split_mode =\"windows_split\"\n",
    "    data_y_flag = 'true' # 이미 만들어진 Y 데이터를 활용함\n",
    "    \n",
    "    model_name = 'Regression_API_TEST'\n",
    "    model_method = 'LSTM_rg'\n",
    "    model_purpose = 'Regression'\n",
    "    \n",
    "    \n",
    "elif model_mode == \"regression_2\":\n",
    "    ms_name_X = 'forecasting_Hs2SwineFarmWithWeatherTime_cleanLevel4_trainX'\n",
    "    ms_name_y = 'forecasting_Hs2SwineFarmWithWeatherTime_cleanLevel4_trainy'\n",
    "    feature_X_list = ['Temperature', 'out_temp','sin_hour']\n",
    "    feature_y_list = ['Temperature']\n",
    "    split_mode = 'step_split'\n",
    "    data_y_flag = False # Y데이터는 없음, X 에서 Y 데이터를 도출함\n",
    "    \n",
    "    model_name = 'Forecasting_API_TEST'\n",
    "    model_method = 'LSTM_rg'\n",
    "    model_purpose = 'Regression'\n",
    "    \n",
    "    \n",
    "elif model_mode == \"classification\":\n",
    "    ms_name_X = 'classification_actionPattern_cleanLevel0_trainX'\n",
    "    ms_name_y = 'classification_actionPattern_cleanLevel0_trainy'\n",
    "    feature_X_list = ['col_0', 'col_1', 'col_2', 'col_3', 'col_4', 'col_5', 'col_6', 'col_7', 'col_8']\n",
    "    feature_y_list = ['value']\n",
    "    split_mode = 'windows_split'\n",
    "    data_y_flag = 'true'\n",
    "    \n",
    "    model_name = 'Classification_API_TEST'\n",
    "    model_method = 'LSTM_cf'\n",
    "    model_purpose = 'Classification'\n",
    "    "
   ]
  },
  {
   "cell_type": "code",
   "execution_count": 15,
   "id": "e6fb75b2",
   "metadata": {},
   "outputs": [
    {
     "data": {
      "text/plain": [
       "'classification'"
      ]
     },
     "execution_count": 15,
     "metadata": {},
     "output_type": "execute_result"
    }
   ],
   "source": [
    "model_mode"
   ]
  },
  {
   "cell_type": "code",
   "execution_count": 17,
   "id": "21b669c8",
   "metadata": {},
   "outputs": [
    {
     "name": "stdout",
     "output_type": "stream",
     "text": [
      "2\n"
     ]
    }
   ],
   "source": [
    "if model_mode == \"regression_1\" or model_mode == \"regression_2\":\n",
    "    print(\"1\")\n",
    "    regression_model_info ={\"LSTM_rg\":{\"hidden_size\":64,\"num_layers\":2,\"output_dim\":1,\"dropout\":0.1,\"bidirectional\":True},\n",
    "                         \"GRU_rg\":{\"hidden_size\":64,\"num_layers\":2,\"output_dim\":1,\"dropout\":0.1,\"bidirectional\":True},\n",
    "                         \"CNN_1D_rg\":{\"output_channels\":64,\"kernel_size\":3,\"stride\":1,\"dropout\":0.1,\"padding\":0},\n",
    "                         \"LSTM_FCNs_rg\":{\"num_layers\":2,\"lstm_dropout\":0.4,\"fc_dropout\":0.1},\n",
    "                         \"FC_rg\":{\"dropout\":2,\"bias\":0.4}}\n",
    "    model_parameter = regression_model_info[model_method]\n",
    "    train_parameter = {\"lr\":1e-4,\"weight_decay\":1e-6,\"n_epochs\":10,\"batch_size\":16}\n",
    "\n",
    "elif model_mode == \"classification\":\n",
    "    print(\"2\")\n",
    "    classification_model_info ={\"LSTM_cf\":{\"hidden_size\":64,\"num_layers\":2,\"num_classes\":2,\"dropout\":0.1,\"bidirectional\":True},\n",
    "                         \"GRU_cf\":{\"hidden_size\":64,\"num_layers\":2,\"num_classes\":2,\"dropout\":0.1,\"bidirectional\":True},\n",
    "                         \"CNN_1D_cf\":{\"output_channels\":64,\"kernel_size\":3,\"stride\":1,\"dropout\":0.1,\"padding\":0,\"num_classes\":6},\n",
    "                         \"LSTM_FCNs_cf\":{\"num_layers\":2,\"lstm_dropout\":0.4,\"fc_dropout\":0.1,\"num_classes\":6},\n",
    "                         \"FC_cf\":{\"dropout\":0.1,\"bias\":True}}\n",
    "    model_parameter = classification_model_info[model_method]\n",
    "    train_parameter = {\"lr\":1e-4,\"weight_decay\":1e-6,\"n_epochs\":10,\"batch_size\":16}"
   ]
  },
  {
   "cell_type": "markdown",
   "id": "9dd29b8f",
   "metadata": {},
   "source": [
    "# Set Parameter"
   ]
  },
  {
   "cell_type": "code",
   "execution_count": 18,
   "id": "a06344e6",
   "metadata": {},
   "outputs": [],
   "source": [
    "params = {\n",
    "    'bk_name_X' : 'integration',\n",
    "    'ms_name_X' : ms_name_X,\n",
    "    'feature_X_list' : feature_X_list,\n",
    "    'bk_name_y' : 'integration',\n",
    "    'ms_name_y' : ms_name_y,\n",
    "    'feature_y_list' : feature_y_list,\n",
    "    'data_y_flag' : data_y_flag,\n",
    "    'data_clean_option' : False,\n",
    "    'model_purpose' : model_purpose,\n",
    "    'model_method' : model_method,\n",
    "    'model_name' : model_name,\n",
    "    'model_tags' : 'tagstest',\n",
    "    'train_parameter' : train_parameter,\n",
    "    'model_parameter' : model_parameter\n",
    "}\n",
    "\n",
    "if model_mode == \"regression_2\":\n",
    "    params['future_step'] = 2\n",
    "    params['past_step'] = 24"
   ]
  },
  {
   "cell_type": "code",
   "execution_count": 19,
   "id": "c870ae55",
   "metadata": {},
   "outputs": [
    {
     "data": {
      "text/plain": [
       "'true'"
      ]
     },
     "execution_count": 19,
     "metadata": {},
     "output_type": "execute_result"
    }
   ],
   "source": [
    "params['data_y_flag']"
   ]
  },
  {
   "cell_type": "markdown",
   "id": "dc09848c",
   "metadata": {},
   "source": [
    "# Training"
   ]
  },
  {
   "cell_type": "markdown",
   "id": "19152351",
   "metadata": {},
   "source": [
    "## Use Function in API"
   ]
  },
  {
   "cell_type": "code",
   "execution_count": 20,
   "id": "3217d4c0",
   "metadata": {},
   "outputs": [],
   "source": [
    "from KETIAppDataServer2.model import dbModel\n",
    "dbModel.DB_init()\n",
    "from KETIAppDataServer2.API.machine_learning.model_train import set_train_data, training"
   ]
  },
  {
   "cell_type": "code",
   "execution_count": 21,
   "id": "2cc8d329",
   "metadata": {},
   "outputs": [
    {
     "name": "stdout",
     "output_type": "stream",
     "text": [
      "True\n",
      "['col_0', 'col_1', 'col_2', 'col_3', 'col_4', 'col_5', 'col_6', 'col_7', 'col_8']\n",
      "Make New scaler File\n",
      "['value']\n",
      "Make New scaler File\n",
      "window_size: 128 nan_limit_num: 64\n",
      "(752768, 9) (5881, 128, 9)\n",
      "(5881, 1) (5881, 1)\n",
      "window_size: 128 nan_limit_num: 64\n",
      "(188288, 9) (1471, 128, 9)\n",
      "(1471, 1) (1471, 1)\n",
      "./Models/LSTM_cf/Classification_API_TEST/classification_actionPattern_cleanLevel0_trainX/d531eec11664669cff1f6a3ad9639012/model.pkl\n",
      "Start training model\n",
      "\n",
      "Epoch 1/10\n",
      "train Loss: 0.3952 Acc: 0.8440\n",
      "val Loss: 0.1050 Acc: 0.9979\n",
      "\n",
      "Epoch 10/10\n",
      "train Loss: 0.0136 Acc: 0.9974\n",
      "val Loss: 0.0341 Acc: 0.9904\n",
      "\n",
      "Training complete in 0m 59s\n",
      "Best val Acc: 1.000000\n",
      "========== Data Save Success ==========\n",
      "======== OK ========\n",
      "<pymongo.results.InsertOneResult object at 0x7fc188751580>\n"
     ]
    }
   ],
   "source": [
    "train_X_array, train_y_array, val_X_array, val_y_array, model_info_meta = set_train_data(params)\n",
    "result = training(train_X_array, train_y_array, val_X_array, val_y_array, params, model_info_meta)"
   ]
  },
  {
   "cell_type": "code",
   "execution_count": 22,
   "id": "731634b5",
   "metadata": {},
   "outputs": [
    {
     "data": {
      "text/plain": [
       "{'trainDataInfo': {'bucket_name': 'integration',\n",
       "  'collection_name': 'classification_actionPattern',\n",
       "  'ms_name': 'classification_actionPattern_cleanLevel0_trainX',\n",
       "  'ingestion_type': 'multiple_ms_by_time',\n",
       "  'ingestion_param': {'ms_list_info': [['bio_action_sensors',\n",
       "     'accelerationTrain']],\n",
       "   'start_time': '1992-01-11',\n",
       "   'end_time': '2012-02-27'},\n",
       "  'processing_type': 'step_3',\n",
       "  'process_param': {'refine_param': {'remove_duplication': {'flag': False},\n",
       "    'static_frequency': {'flag': False, 'frequency': None}},\n",
       "   'outlier_param': {'certain_error_to_NaN': {'flag': False},\n",
       "    'uncertain_error_to_NaN': {'flag': False}},\n",
       "   'imputation_param': {'flag': False}},\n",
       "  'integration_param': {'integration_frequency': 675.0,\n",
       "   'param': {},\n",
       "   'method': 'meta',\n",
       "   'integration_duration': 'common'},\n",
       "  'clean_level': 0},\n",
       " 'dataSplitMode': 'windows_split',\n",
       " 'featureList': ['col_0',\n",
       "  'col_1',\n",
       "  'col_2',\n",
       "  'col_3',\n",
       "  'col_4',\n",
       "  'col_5',\n",
       "  'col_6',\n",
       "  'col_7',\n",
       "  'col_8'],\n",
       " 'target': ['value'],\n",
       " 'data_y_flag': True,\n",
       " 'data_clean_option': False,\n",
       " 'transformParameter': {'past_step': 128, 'max_nan_limit_ratio': 0.5},\n",
       " 'scalerParam': 'scale',\n",
       " 'trainDataName': ['classification_actionPattern_cleanLevel0_trainX',\n",
       "  'classification_actionPattern_cleanLevel0_trainy'],\n",
       " 'files': {'modelFile': {'fileName': 'model.pth',\n",
       "   'filePath': './Models/LSTM_cf/Classification_API_TEST/classification_actionPattern_cleanLevel0_trainX/d531eec11664669cff1f6a3ad9639012/model.pkl'},\n",
       "  'XScalerFile': {'fileName': 'scaler.pkl',\n",
       "   'filePath': './scaler/classification_actionPattern_cleanLevel0_trainX/minmax/2b219d77d5b069971addb3d7c728ec0d/scaler.pkl'},\n",
       "  'yScalerFile': {'fileName': 'scaler.pkl',\n",
       "   'filePath': './scaler/classification_actionPattern_cleanLevel0_trainy/minmax/f69156750a210491ffd4a67b605bc88b/scaler.pkl'}},\n",
       " 'modelName': 'Classification_API_TEST',\n",
       " 'modelPurpose': 'Classification',\n",
       " 'modelMethod': 'LSTM_cf',\n",
       " 'modelTags': 'tagstest',\n",
       " 'trainParameter': {'lr': 0.0001,\n",
       "  'weight_decay': 1e-06,\n",
       "  'device': 'cpu',\n",
       "  'n_epochs': 10,\n",
       "  'batch_size': 16},\n",
       " 'modelParameter': {'input_size': 9,\n",
       "  'seq_len': 128,\n",
       "  'num_classes': 2,\n",
       "  'num_layers': 2,\n",
       "  'hidden_size': 64,\n",
       "  'dropout': 0.1,\n",
       "  'bidirectional': True,\n",
       "  'rnn_type': 'lstm'},\n",
       " '_id': ObjectId('6478505ebd31d031c197a3f4')}"
      ]
     },
     "execution_count": 22,
     "metadata": {},
     "output_type": "execute_result"
    }
   ],
   "source": [
    "result"
   ]
  },
  {
   "cell_type": "code",
   "execution_count": null,
   "id": "c6e92123",
   "metadata": {},
   "outputs": [],
   "source": []
  },
  {
   "cell_type": "code",
   "execution_count": null,
   "id": "e8850357",
   "metadata": {},
   "outputs": [],
   "source": []
  },
  {
   "cell_type": "code",
   "execution_count": null,
   "id": "6a3323df",
   "metadata": {},
   "outputs": [],
   "source": []
  }
 ],
 "metadata": {
  "kernelspec": {
   "display_name": "clust",
   "language": "python",
   "name": "clust"
  },
  "language_info": {
   "codemirror_mode": {
    "name": "ipython",
    "version": 3
   },
   "file_extension": ".py",
   "mimetype": "text/x-python",
   "name": "python",
   "nbconvert_exporter": "python",
   "pygments_lexer": "ipython3",
   "version": "3.8.16"
  }
 },
 "nbformat": 4,
 "nbformat_minor": 5
}
