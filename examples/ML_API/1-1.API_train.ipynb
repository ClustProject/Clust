{
 "cells": [
  {
   "cell_type": "markdown",
   "id": "3d0e3d70",
   "metadata": {},
   "source": [
    "# Setting"
   ]
  },
  {
   "cell_type": "code",
   "execution_count": 1,
   "id": "a5d01d6c",
   "metadata": {},
   "outputs": [
    {
     "name": "stdout",
     "output_type": "stream",
     "text": [
      "cpu is available.\n",
      "cpu is available.\n"
     ]
    }
   ],
   "source": [
    "import sys, os\n",
    "import pandas as pd\n",
    "\n",
    "sys.path.append(\"../\")\n",
    "sys.path.append(\"../../\")\n",
    "sys.path.append(\"../../../\")\n",
    "sys.path.append(\"../../../../\")\n",
    "\n",
    "from Clust.setting import influx_setting_KETI as ins\n",
    "from Clust.clust.ingestion.influx import influx_client_v2 as iC\n",
    "from Clust.clust.ingestion.mongo import mongo_client\n",
    "from Clust.clust.ML.tool import meta as ml_meta\n",
    "from Clust.clust.ML.common import ML_api\n",
    "influxdb_client = iC.InfluxClient(ins.CLUSTDataServer2)\n",
    "mongodb_client = mongo_client.MongoClient(ins.CLUSTMetaInfo2)\n",
    "\n",
    "import torch\n",
    "device = \"cuda\" if torch.cuda.is_available() else \"cpu\"\n",
    "print(f\"{device}\" \" is available.\")"
   ]
  },
  {
   "cell_type": "markdown",
   "id": "7472041e",
   "metadata": {},
   "source": [
    "# 1. set param from Front End"
   ]
  },
  {
   "cell_type": "code",
   "execution_count": 2,
   "id": "f3a7b7ed",
   "metadata": {},
   "outputs": [],
   "source": [
    "# regression\n",
    "param1 = {\n",
    "    \"ingestion_param_X\" :{\n",
    "        \"bucket_name\": 'integration',\n",
    "        \"ms_name\" : 'regression_energy_cleanLevel4_trainX',\n",
    "        \"feature_list\":['Press_mm_hg', 'RH_1', 'RH_2', 'RH_3', 'RH_4', 'RH_5', 'RH_6', 'RH_7',\n",
    "       'RH_8', 'RH_9', 'RH_out', 'T1', 'T2', 'T3', 'T4', 'T5', 'T6', 'T7',\n",
    "       'T8', 'T9', 'T_out', 'Tdewpoint', 'Visibility', 'Windspeed']\n",
    "    },\n",
    "    \"ingestion_param_y\":{\n",
    "        \"bucket_name\": 'integration',\n",
    "        \"ms_name\" : 'regression_energy_cleanLevel4_trainy',\n",
    "        \"feature_list\":[\"value\"]\n",
    "    },\n",
    "    'data_y_flag' : 'true',\n",
    "    'scaler_param':{\n",
    "        'scaler_flag':'scale', #scale_param,\n",
    "        'scale_method' :'minmax',\n",
    "        'scaler_path' :'./scaler/'\n",
    "    },\n",
    "    \"transform_param\":{\n",
    "        'split_mode' : 'window_split', # 현재 data_y_flag=Ture --> 모두 window_split # data_y = False --> step_split\n",
    "        #step_split일 경우만 past_step과 future_step이 존재\n",
    "        'data_clean_option' : \"false\"\n",
    "    },\n",
    "    \n",
    "    \"model_info\" :{\n",
    "        'model_purpose' : 'regression',\n",
    "        'model_method' : 'LSTM_rg',\n",
    "        'model_name' : \"None\",\n",
    "        'model_tags' : 'tagstest',\n",
    "        'train_parameter' : {\"lr\":0.0001,\"weight_decay\":0.000001,\"n_epochs\":5,\"batch_size\":16},\n",
    "        'model_parameter' : {\"hidden_size\":64,\"num_layers\":2,\"output_dim\":1,\"dropout\":0.1,\"bidirectional\":\"True\"}\n",
    "    }\n",
    "}\n",
    "\n",
    "# forecasting\n",
    "param2 = {\n",
    "    \"ingestion_param_X\" :{\n",
    "        \"bucket_name\": 'integration',\n",
    "        \"ms_name\" : 'forecasting_Hs2SwineFarmWithWeatherTime_cleanLevel4_trainX',\n",
    "        \"feature_list\":['Temperature', 'out_temp','sin_hour']\n",
    "    },\n",
    "    \"ingestion_param_y\":{\n",
    "        \"bucket_name\": 'integration',\n",
    "        \"ms_name\" : 'forecasting_Hs2SwineFarmWithWeatherTime_cleanLevel4_trainy',\n",
    "        \"feature_list\":['Temperature']\n",
    "    },\n",
    "    'data_y_flag' : 'false',\n",
    "    'scaler_param':{\n",
    "        'scaler_flag':'scale', #scale_param,\n",
    "        'scale_method' :'minmax',\n",
    "        'scaler_path' :'./scaler/'\n",
    "    },\n",
    "    \"transform_param\":{\n",
    "        'data_clean_option' : \"false\",\n",
    "        'split_mode' : 'step_split', # 현재 data_y_flag=Ture --> 모두 window_split # data_y = False --> step_split\n",
    "        'past_step':24, #step_split일 경우만 past_step과 future_step이 존재\n",
    "        'future_step':2\n",
    "    },\n",
    "    \n",
    "    \"model_info\" :{\n",
    "        'model_purpose' : 'regression',\n",
    "        'model_method' : 'LSTM_rg',\n",
    "        'model_name' : \"None\",\n",
    "        'model_tags' : 'tagstest',\n",
    "        'train_parameter' : {\"lr\":0.0001,\"weight_decay\":0.000001,\"n_epochs\":5,\"batch_size\":16},\n",
    "        'model_parameter' : {\"hidden_size\":64,\"num_layers\":2,\"output_dim\":1,\"dropout\":0.1,\"bidirectional\":\"True\"}\n",
    "    }\n",
    "}\n",
    "\n",
    "# classification\n",
    "param3 = {\n",
    "    \"ingestion_param_X\" :{\n",
    "        \"bucket_name\": 'integration',\n",
    "        \"ms_name\" : 'classification_actionPattern_cleanLevel0_trainX',\n",
    "        \"feature_list\":['col_0', 'col_1','col_2','col_3','col_4','col_5','col_6','col_7','col_8']\n",
    "    },\n",
    "    \"ingestion_param_y\":{\n",
    "        \"bucket_name\": 'integration',\n",
    "        \"ms_name\" : 'classification_actionPattern_cleanLevel0_trainy',\n",
    "        \"feature_list\":['value']\n",
    "    },\n",
    "    'data_y_flag' : 'true',\n",
    "    'scaler_param':{\n",
    "        'scaler_flag':'scale', #scale_param,\n",
    "        'scale_method' :'minmax',\n",
    "        'scaler_path' :'./scaler/'\n",
    "    },\n",
    "    \"transform_param\":{\n",
    "        'data_clean_option' : \"false\",\n",
    "        'split_mode' : 'window_split' # 현재 data_y_flag=Ture --> 모두 window_split # data_y = False --> step_split\n",
    "    },\n",
    "    \"model_info\" :{\n",
    "        'model_purpose' : 'classification',\n",
    "        'model_method' : 'LSTM_cf',\n",
    "        'model_name' : \"None\",\n",
    "        'model_tags' : 'tagstest',\n",
    "        'train_parameter' : {\"lr\":0.0001,\"weight_decay\":0.000001,\"n_epochs\":5,\"batch_size\":16},\n",
    "        'model_parameter' : {\"hidden_size\":64,\"num_layers\":2,\"output_dim\":1,\"dropout\":0.1,\"bidirectional\":\"True\",\"num_classes\":6, 'rnn_type':'lstm'}\n",
    "    }\n",
    "}"
   ]
  },
  {
   "cell_type": "markdown",
   "id": "79772cfb",
   "metadata": {},
   "source": [
    "# 2. Backend"
   ]
  },
  {
   "cell_type": "code",
   "execution_count": 3,
   "id": "3436645f",
   "metadata": {},
   "outputs": [],
   "source": [
    "# 1. Backend Prameter Setting\n",
    "from Clust.clust.ML.common import ML_api\n",
    "\n",
    "# parameter tunning\n",
    "param = param2\n",
    "param = ML_api.convert_param_for_backend(param)"
   ]
  },
  {
   "cell_type": "code",
   "execution_count": 4,
   "id": "c7fbfcc2",
   "metadata": {},
   "outputs": [],
   "source": [
    "# 2. train data meta check\n",
    "train_data_info = ML_api.get_train_data_meta (mongodb_client, param['ingestion_param_X'])\n",
    "param['train_data_info'] = train_data_info"
   ]
  },
  {
   "cell_type": "code",
   "execution_count": 5,
   "id": "2cc8d329",
   "metadata": {},
   "outputs": [
    {
     "name": "stdout",
     "output_type": "stream",
     "text": [
      "{'bucket_name': 'integration', 'ms_name': 'forecasting_Hs2SwineFarmWithWeatherTime_cleanLevel4_trainX', 'feature_list': ['Temperature', 'out_temp', 'sin_hour']}\n",
      "['Temperature', 'out_temp', 'sin_hour']\n",
      "Make New scaler File\n",
      "./scaler/forecasting_Hs2SwineFarmWithWeatherTime_cleanLevel4_trainX/minmax/c1b524a5c854f6e561c4764b1dfb4e6f/scaler.pkl\n",
      "['Temperature']\n",
      "Make New scaler File\n"
     ]
    },
    {
     "data": {
      "text/plain": [
       "{'data_clean_option': False,\n",
       " 'split_mode': 'step_split',\n",
       " 'past_step': 24,\n",
       " 'future_step': 2,\n",
       " 'nan_process_info': {'type': 'num',\n",
       "  'ConsecutiveNanLimit': 10000,\n",
       "  'totalNaNLimit': 100000},\n",
       " 'max_nan_limit_ratio': 0.5}"
      ]
     },
     "execution_count": 5,
     "metadata": {},
     "output_type": "execute_result"
    }
   ],
   "source": [
    "# 3. Data Preparation\n",
    "#train_X_array, train_y_array, val_X_array, val_y_array = ML_api.ML_data_preparation(param, influxdb_client)\n",
    "\n",
    "from Clust.clust.ML.common import ML_pipeline\n",
    "# 1. Oirignla data ingestion\n",
    "data_X, data_y = ML_pipeline.Xy_data_preparation(param['ingestion_param_X'], \n",
    "                                             param['data_y_flag'], \n",
    "                                             param['ingestion_param_y'],\n",
    "                                             'ms_all', \n",
    "                                             influxdb_client)\n",
    "# 2. Scaling\n",
    "dataX_scaled, datay_scaled = ML_pipeline.Xy_data_scaling_train(param['ingestion_param_X']['ms_name'], \n",
    "                                                                                 data_X, \n",
    "                                                                                 param['ingestion_param_y']['ms_name'], \n",
    "                                                                                 data_y, \n",
    "                                                                                 param['scaler_param'])\n",
    "\n",
    "\n",
    "\n",
    "# 3.clean column\n",
    "dataX_scaled = ML_pipeline.clean_low_quality_column(dataX_scaled, param['transform_param'])\n",
    "\n",
    "param['transform_param']"
   ]
  },
  {
   "cell_type": "code",
   "execution_count": 6,
   "id": "9a8d616d",
   "metadata": {},
   "outputs": [
    {
     "name": "stdout",
     "output_type": "stream",
     "text": [
      "None\n",
      "None\n"
     ]
    }
   ],
   "source": [
    "# 4. split train/Val\n",
    "split_ratio = 0.8\n",
    "train_X, val_X, train_y, val_y, param['transform_param']= ML_pipeline.split_data_by_mode(dataX_scaled, \n",
    "                                                                                         datay_scaled, \n",
    "                                                                                         split_ratio, \n",
    "                                                                                         param['transform_param'])"
   ]
  },
  {
   "cell_type": "code",
   "execution_count": 7,
   "id": "2067660c",
   "metadata": {},
   "outputs": [
    {
     "data": {
      "text/html": [
       "<div>\n",
       "<style scoped>\n",
       "    .dataframe tbody tr th:only-of-type {\n",
       "        vertical-align: middle;\n",
       "    }\n",
       "\n",
       "    .dataframe tbody tr th {\n",
       "        vertical-align: top;\n",
       "    }\n",
       "\n",
       "    .dataframe thead th {\n",
       "        text-align: right;\n",
       "    }\n",
       "</style>\n",
       "<table border=\"1\" class=\"dataframe\">\n",
       "  <thead>\n",
       "    <tr style=\"text-align: right;\">\n",
       "      <th></th>\n",
       "      <th>Temperature</th>\n",
       "      <th>out_temp</th>\n",
       "      <th>sin_hour</th>\n",
       "    </tr>\n",
       "    <tr>\n",
       "      <th>time</th>\n",
       "      <th></th>\n",
       "      <th></th>\n",
       "      <th></th>\n",
       "    </tr>\n",
       "  </thead>\n",
       "  <tbody>\n",
       "    <tr>\n",
       "      <th>2021-02-01 00:00:00+00:00</th>\n",
       "      <td>0.513455</td>\n",
       "      <td>0.205128</td>\n",
       "      <td>0.500000</td>\n",
       "    </tr>\n",
       "    <tr>\n",
       "      <th>2021-02-01 00:10:00+00:00</th>\n",
       "      <td>0.513455</td>\n",
       "      <td>0.206197</td>\n",
       "      <td>0.521568</td>\n",
       "    </tr>\n",
       "    <tr>\n",
       "      <th>2021-02-01 00:20:00+00:00</th>\n",
       "      <td>0.513455</td>\n",
       "      <td>0.207265</td>\n",
       "      <td>0.543137</td>\n",
       "    </tr>\n",
       "    <tr>\n",
       "      <th>2021-02-01 00:30:00+00:00</th>\n",
       "      <td>0.514182</td>\n",
       "      <td>0.208333</td>\n",
       "      <td>0.564705</td>\n",
       "    </tr>\n",
       "    <tr>\n",
       "      <th>2021-02-01 00:40:00+00:00</th>\n",
       "      <td>0.528000</td>\n",
       "      <td>0.209402</td>\n",
       "      <td>0.586273</td>\n",
       "    </tr>\n",
       "    <tr>\n",
       "      <th>...</th>\n",
       "      <td>...</td>\n",
       "      <td>...</td>\n",
       "      <td>...</td>\n",
       "    </tr>\n",
       "    <tr>\n",
       "      <th>2021-03-02 12:50:00+00:00</th>\n",
       "      <td>0.736000</td>\n",
       "      <td>0.592415</td>\n",
       "      <td>0.392159</td>\n",
       "    </tr>\n",
       "    <tr>\n",
       "      <th>2021-03-02 13:00:00+00:00</th>\n",
       "      <td>0.731636</td>\n",
       "      <td>0.576923</td>\n",
       "      <td>0.370590</td>\n",
       "    </tr>\n",
       "    <tr>\n",
       "      <th>2021-03-02 13:10:00+00:00</th>\n",
       "      <td>0.728000</td>\n",
       "      <td>0.559295</td>\n",
       "      <td>0.350492</td>\n",
       "    </tr>\n",
       "    <tr>\n",
       "      <th>2021-03-02 13:20:00+00:00</th>\n",
       "      <td>0.724364</td>\n",
       "      <td>0.541667</td>\n",
       "      <td>0.330394</td>\n",
       "    </tr>\n",
       "    <tr>\n",
       "      <th>2021-03-02 13:30:00+00:00</th>\n",
       "      <td>0.728000</td>\n",
       "      <td>0.524038</td>\n",
       "      <td>0.310295</td>\n",
       "    </tr>\n",
       "  </tbody>\n",
       "</table>\n",
       "<p>4258 rows × 3 columns</p>\n",
       "</div>"
      ],
      "text/plain": [
       "                           Temperature  out_temp  sin_hour\n",
       "time                                                      \n",
       "2021-02-01 00:00:00+00:00     0.513455  0.205128  0.500000\n",
       "2021-02-01 00:10:00+00:00     0.513455  0.206197  0.521568\n",
       "2021-02-01 00:20:00+00:00     0.513455  0.207265  0.543137\n",
       "2021-02-01 00:30:00+00:00     0.514182  0.208333  0.564705\n",
       "2021-02-01 00:40:00+00:00     0.528000  0.209402  0.586273\n",
       "...                                ...       ...       ...\n",
       "2021-03-02 12:50:00+00:00     0.736000  0.592415  0.392159\n",
       "2021-03-02 13:00:00+00:00     0.731636  0.576923  0.370590\n",
       "2021-03-02 13:10:00+00:00     0.728000  0.559295  0.350492\n",
       "2021-03-02 13:20:00+00:00     0.724364  0.541667  0.330394\n",
       "2021-03-02 13:30:00+00:00     0.728000  0.524038  0.310295\n",
       "\n",
       "[4258 rows x 3 columns]"
      ]
     },
     "execution_count": 7,
     "metadata": {},
     "output_type": "execute_result"
    }
   ],
   "source": [
    "train_X"
   ]
  },
  {
   "cell_type": "code",
   "execution_count": 8,
   "id": "32999ddc",
   "metadata": {},
   "outputs": [
    {
     "name": "stdout",
     "output_type": "stream",
     "text": [
      "8.3203125\n",
      "1065\n"
     ]
    }
   ],
   "source": [
    "print(len(val_X)/128)\n",
    "print(len(val_y))"
   ]
  },
  {
   "cell_type": "code",
   "execution_count": 9,
   "id": "1a7ce2fb",
   "metadata": {},
   "outputs": [
    {
     "name": "stdout",
     "output_type": "stream",
     "text": [
      "nan_limit_num:  12\n",
      "Original num: 4258 Final num: 4164 NaN num: 94\n",
      "nan_limit_num:  12\n",
      "Original num: 1065 Final num: 1039 NaN num: 26\n"
     ]
    }
   ],
   "source": [
    "# 5. Transform array style\n",
    "train_X_array, train_y_array = ML_pipeline.transform_data_by_split_mode(param['transform_param'], \n",
    "                                                                        train_X, \n",
    "                                                                        train_y)\n",
    "val_X_array, val_y_array = ML_pipeline.transform_data_by_split_mode(param['transform_param'], \n",
    "                                                                    val_X, \n",
    "                                                                    val_y)"
   ]
  },
  {
   "cell_type": "code",
   "execution_count": 10,
   "id": "6624e9f7",
   "metadata": {},
   "outputs": [
    {
     "name": "stdout",
     "output_type": "stream",
     "text": [
      "{'hidden_size': 64, 'num_layers': 2, 'output_dim': 1, 'dropout': 0.1, 'bidirectional': True}\n",
      "./Models/LSTM_rg/forecasting_Hs2SwineFarmWithWeatherTime_cleanLevel4_trainX_regression_LSTM_rg_/forecasting_Hs2SwineFarmWithWeatherTime_cleanLevel4_trainX/model.pkl\n",
      "Start training model\n",
      "[1/5] Training loss: 0.1046\t Validation loss: 0.0127\n",
      "[2/5] Training loss: 0.0060\t Validation loss: 0.0015\n",
      "[3/5] Training loss: 0.0021\t Validation loss: 0.0005\n",
      "[4/5] Training loss: 0.0015\t Validation loss: 0.0005\n",
      "[5/5] Training loss: 0.0013\t Validation loss: 0.0004\n",
      "\n",
      "Training complete in 0m 8s\n"
     ]
    }
   ],
   "source": [
    "# 4.Training\n",
    "param = ML_api.ML_training(train_X_array,  train_y_array, val_X_array, val_y_array, param)"
   ]
  },
  {
   "cell_type": "code",
   "execution_count": 11,
   "id": "6e8f71cb",
   "metadata": {},
   "outputs": [
    {
     "data": {
      "text/plain": [
       "{'ingestion_param_X': {'bucket_name': 'integration',\n",
       "  'ms_name': 'forecasting_Hs2SwineFarmWithWeatherTime_cleanLevel4_trainX',\n",
       "  'feature_list': ['Temperature', 'out_temp', 'sin_hour']},\n",
       " 'ingestion_param_y': {'bucket_name': 'integration',\n",
       "  'ms_name': 'forecasting_Hs2SwineFarmWithWeatherTime_cleanLevel4_trainy',\n",
       "  'feature_list': ['Temperature']},\n",
       " 'data_y_flag': False,\n",
       " 'scaler_param': {'scaler_flag': 'scale',\n",
       "  'scale_method': 'minmax',\n",
       "  'scaler_path': './scaler/',\n",
       "  'scaler_file_path': {'XScalerFile': {'fileName': 'scaler.pkl',\n",
       "    'filePath': './scaler/forecasting_Hs2SwineFarmWithWeatherTime_cleanLevel4_trainX/minmax/c1b524a5c854f6e561c4764b1dfb4e6f/scaler.pkl'},\n",
       "   'yScalerFile': {'fileName': 'scaler.pkl',\n",
       "    'filePath': './scaler/forecasting_Hs2SwineFarmWithWeatherTime_cleanLevel4_trainy/minmax/2ef658edf359871df2a5d6f044a18200/scaler.pkl'}}},\n",
       " 'transform_param': {'data_clean_option': False,\n",
       "  'split_mode': 'step_split',\n",
       "  'past_step': 24,\n",
       "  'future_step': 2,\n",
       "  'nan_process_info': {'type': 'num',\n",
       "   'ConsecutiveNanLimit': 10000,\n",
       "   'totalNaNLimit': 100000},\n",
       "  'max_nan_limit_ratio': 0.5},\n",
       " 'model_info': {'model_purpose': 'regression',\n",
       "  'model_method': 'LSTM_rg',\n",
       "  'model_name': 'forecasting_Hs2SwineFarmWithWeatherTime_cleanLevel4_trainX_regression_LSTM_rg_',\n",
       "  'model_tags': 'tagstest',\n",
       "  'train_parameter': {'lr': 0.0001,\n",
       "   'weight_decay': 1e-06,\n",
       "   'n_epochs': 5,\n",
       "   'batch_size': 16,\n",
       "   'device': 'cpu'},\n",
       "  'model_parameter': {'rnn_type': 'lstm',\n",
       "   'input_size': 3,\n",
       "   'hidden_size': 64,\n",
       "   'num_layers': 2,\n",
       "   'output_dim': 1,\n",
       "   'dropout': 0.1,\n",
       "   'bidirectional': True},\n",
       "  'seq_len': 24,\n",
       "  'input_size': 3,\n",
       "  'model_file_path': {'modelFile': {'fileName': 'model.pth',\n",
       "    'filePath': './Models/LSTM_rg/forecasting_Hs2SwineFarmWithWeatherTime_cleanLevel4_trainX_regression_LSTM_rg_/forecasting_Hs2SwineFarmWithWeatherTime_cleanLevel4_trainX/model.pkl'}}},\n",
       " 'train_data_info': {'bucket_name': 'integration',\n",
       "  'collection_name': 'forecasting_Hs2SwineFarmWithWeatherTime',\n",
       "  'ms_name': 'forecasting_Hs2SwineFarmWithWeatherTime_cleanLevel4_trainX',\n",
       "  'ingestion_type': 'multiple_ms_by_time',\n",
       "  'ingestion_param': {'start_time': '2021-02-01 00:00:00',\n",
       "   'end_time': '2021-03-10 00:00:00',\n",
       "   'ms_list_info': [['farm_swine_air', 'HS2'],\n",
       "    ['weather_outdoor_keti_clean', 'sangju'],\n",
       "    ['life_additional_Info', 'trigonometicInfoByHours']]},\n",
       "  'processing_type': 'step_3',\n",
       "  'process_param': {'refine_param': {'remove_duplication': {'flag': True},\n",
       "    'static_frequency': {'flag': True, 'frequency': None}},\n",
       "   'outlier_param': {'certain_error_to_NaN': {'flag': True},\n",
       "    'uncertain_error_to_NaN': {'flag': True,\n",
       "     'param': {'outlierDetectorConfig': [{'algorithm': 'IQR',\n",
       "        'percentile': 99,\n",
       "        'alg_parameter': {'weight': 100}}]}}},\n",
       "   'imputation_param': {'flag': True,\n",
       "    'imputation_method': [{'min': 0,\n",
       "      'max': 2,\n",
       "      'method': 'linear',\n",
       "      'parameter': {}}],\n",
       "    'total_non_NaN_ratio': 90}},\n",
       "  'integration_param': {'integration_frequency': 600.0,\n",
       "   'param': {},\n",
       "   'method': 'meta',\n",
       "   'integration_duration': 'common'},\n",
       "  'clean_level': 4}}"
      ]
     },
     "execution_count": 11,
     "metadata": {},
     "output_type": "execute_result"
    }
   ],
   "source": [
    "param"
   ]
  },
  {
   "cell_type": "code",
   "execution_count": 13,
   "id": "6ec3dafa",
   "metadata": {},
   "outputs": [
    {
     "name": "stdout",
     "output_type": "stream",
     "text": [
      "========== Data Save Success ==========\n",
      "======== OK ========\n",
      "<pymongo.results.InsertOneResult object at 0x7f45c1a197c0>\n"
     ]
    },
    {
     "data": {
      "text/plain": [
       "200"
      ]
     },
     "execution_count": 13,
     "metadata": {},
     "output_type": "execute_result"
    }
   ],
   "source": [
    "# save meta\n",
    "from Clust.clust.ML.tool import meta\n",
    "#ml_meta.save_model_meta_into_mongodb(mongodb_client, param)\n",
    "meta.save_model_meta_into_local(json_file_path, model_meta)"
   ]
  },
  {
   "cell_type": "code",
   "execution_count": 14,
   "id": "0dd18151",
   "metadata": {},
   "outputs": [
    {
     "data": {
      "text/plain": [
       "{'ingestion_param_X': {'bucket_name': 'integration',\n",
       "  'ms_name': 'forecasting_Hs2SwineFarmWithWeatherTime_cleanLevel4_trainX',\n",
       "  'feature_list': ['Temperature', 'out_temp', 'sin_hour']},\n",
       " 'ingestion_param_y': {'bucket_name': 'integration',\n",
       "  'ms_name': 'forecasting_Hs2SwineFarmWithWeatherTime_cleanLevel4_trainy',\n",
       "  'feature_list': ['Temperature']},\n",
       " 'data_y_flag': False,\n",
       " 'scaler_param': {'scaler_flag': 'scale',\n",
       "  'scale_method': 'minmax',\n",
       "  'scaler_path': './scaler/',\n",
       "  'scaler_file_path': {'XScalerFile': {'fileName': 'scaler.pkl',\n",
       "    'filePath': './scaler/forecasting_Hs2SwineFarmWithWeatherTime_cleanLevel4_trainX/minmax/c1b524a5c854f6e561c4764b1dfb4e6f/scaler.pkl'},\n",
       "   'yScalerFile': {'fileName': 'scaler.pkl',\n",
       "    'filePath': './scaler/forecasting_Hs2SwineFarmWithWeatherTime_cleanLevel4_trainy/minmax/2ef658edf359871df2a5d6f044a18200/scaler.pkl'}}},\n",
       " 'transform_param': {'data_clean_option': False,\n",
       "  'split_mode': 'step_split',\n",
       "  'past_step': 24,\n",
       "  'future_step': 2,\n",
       "  'nan_process_info': {'type': 'num',\n",
       "   'ConsecutiveNanLimit': 10000,\n",
       "   'totalNaNLimit': 100000},\n",
       "  'max_nan_limit_ratio': 0.5},\n",
       " 'model_info': {'model_purpose': 'regression',\n",
       "  'model_method': 'LSTM_rg',\n",
       "  'model_name': 'forecasting_Hs2SwineFarmWithWeatherTime_cleanLevel4_trainX_regression_LSTM_rg_',\n",
       "  'model_tags': 'tagstest',\n",
       "  'train_parameter': {'lr': 0.0001,\n",
       "   'weight_decay': 1e-06,\n",
       "   'n_epochs': 5,\n",
       "   'batch_size': 16,\n",
       "   'device': 'cpu'},\n",
       "  'model_parameter': {'rnn_type': 'lstm',\n",
       "   'input_size': 3,\n",
       "   'hidden_size': 64,\n",
       "   'num_layers': 2,\n",
       "   'output_dim': 1,\n",
       "   'dropout': 0.1,\n",
       "   'bidirectional': True},\n",
       "  'seq_len': 24,\n",
       "  'input_size': 3,\n",
       "  'model_file_path': {'modelFile': {'fileName': 'model.pth',\n",
       "    'filePath': './Models/LSTM_rg/forecasting_Hs2SwineFarmWithWeatherTime_cleanLevel4_trainX_regression_LSTM_rg_/forecasting_Hs2SwineFarmWithWeatherTime_cleanLevel4_trainX/model.pkl'}}},\n",
       " 'train_data_info': {'bucket_name': 'integration',\n",
       "  'collection_name': 'forecasting_Hs2SwineFarmWithWeatherTime',\n",
       "  'ms_name': 'forecasting_Hs2SwineFarmWithWeatherTime_cleanLevel4_trainX',\n",
       "  'ingestion_type': 'multiple_ms_by_time',\n",
       "  'ingestion_param': {'start_time': '2021-02-01 00:00:00',\n",
       "   'end_time': '2021-03-10 00:00:00',\n",
       "   'ms_list_info': [['farm_swine_air', 'HS2'],\n",
       "    ['weather_outdoor_keti_clean', 'sangju'],\n",
       "    ['life_additional_Info', 'trigonometicInfoByHours']]},\n",
       "  'processing_type': 'step_3',\n",
       "  'process_param': {'refine_param': {'remove_duplication': {'flag': True},\n",
       "    'static_frequency': {'flag': True, 'frequency': None}},\n",
       "   'outlier_param': {'certain_error_to_NaN': {'flag': True},\n",
       "    'uncertain_error_to_NaN': {'flag': True,\n",
       "     'param': {'outlierDetectorConfig': [{'algorithm': 'IQR',\n",
       "        'percentile': 99,\n",
       "        'alg_parameter': {'weight': 100}}]}}},\n",
       "   'imputation_param': {'flag': True,\n",
       "    'imputation_method': [{'min': 0,\n",
       "      'max': 2,\n",
       "      'method': 'linear',\n",
       "      'parameter': {}}],\n",
       "    'total_non_NaN_ratio': 90}},\n",
       "  'integration_param': {'integration_frequency': 600.0,\n",
       "   'param': {},\n",
       "   'method': 'meta',\n",
       "   'integration_duration': 'common'},\n",
       "  'clean_level': 4},\n",
       " '_id': ObjectId('6492809716db3dbcd68bd83e')}"
      ]
     },
     "execution_count": 14,
     "metadata": {},
     "output_type": "execute_result"
    }
   ],
   "source": [
    "param"
   ]
  },
  {
   "cell_type": "code",
   "execution_count": 15,
   "id": "e2d63758",
   "metadata": {},
   "outputs": [
    {
     "data": {
      "text/plain": [
       "{'model_purpose': 'regression',\n",
       " 'model_method': 'LSTM_rg',\n",
       " 'model_name': 'forecasting_Hs2SwineFarmWithWeatherTime_cleanLevel4_trainX_regression_LSTM_rg_',\n",
       " 'model_tags': 'tagstest',\n",
       " 'train_parameter': {'lr': 0.0001,\n",
       "  'weight_decay': 1e-06,\n",
       "  'n_epochs': 5,\n",
       "  'batch_size': 16,\n",
       "  'device': 'cpu'},\n",
       " 'model_parameter': {'rnn_type': 'lstm',\n",
       "  'input_size': 3,\n",
       "  'hidden_size': 64,\n",
       "  'num_layers': 2,\n",
       "  'output_dim': 1,\n",
       "  'dropout': 0.1,\n",
       "  'bidirectional': True},\n",
       " 'seq_len': 24,\n",
       " 'input_size': 3,\n",
       " 'model_file_path': {'modelFile': {'fileName': 'model.pth',\n",
       "   'filePath': './Models/LSTM_rg/forecasting_Hs2SwineFarmWithWeatherTime_cleanLevel4_trainX_regression_LSTM_rg_/forecasting_Hs2SwineFarmWithWeatherTime_cleanLevel4_trainX/model.pkl'}}}"
      ]
     },
     "execution_count": 15,
     "metadata": {},
     "output_type": "execute_result"
    }
   ],
   "source": [
    "param['model_info']"
   ]
  },
  {
   "cell_type": "code",
   "execution_count": null,
   "id": "5639eba9",
   "metadata": {},
   "outputs": [],
   "source": []
  }
 ],
 "metadata": {
  "kernelspec": {
   "display_name": "Python 3 (ipykernel)",
   "language": "python",
   "name": "python3"
  },
  "language_info": {
   "codemirror_mode": {
    "name": "ipython",
    "version": 3
   },
   "file_extension": ".py",
   "mimetype": "text/x-python",
   "name": "python",
   "nbconvert_exporter": "python",
   "pygments_lexer": "ipython3",
   "version": "3.8.8"
  }
 },
 "nbformat": 4,
 "nbformat_minor": 5
}
