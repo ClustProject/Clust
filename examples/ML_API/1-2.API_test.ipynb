{
 "cells": [
  {
   "attachments": {},
   "cell_type": "markdown",
   "id": "ae620b97",
   "metadata": {},
   "source": [
    "# Setting"
   ]
  },
  {
   "cell_type": "code",
   "execution_count": 1,
   "id": "15c67efd",
   "metadata": {},
   "outputs": [
    {
     "name": "stdout",
     "output_type": "stream",
     "text": [
      "cpu is available.\n"
     ]
    }
   ],
   "source": [
    "import sys, os\n",
    "import pandas as pd\n",
    "\n",
    "sys.path.append(\"../\")\n",
    "sys.path.append(\"../../\")\n",
    "sys.path.append(\"../../../\")\n",
    "sys.path.append(\"../../../../\")\n",
    "\n",
    "from Clust.setting import influx_setting_KETI as ins\n",
    "from Clust.clust.ingestion.influx import influx_client_v2 as iC\n",
    "from Clust.clust.ingestion.mongo import mongo_client\n",
    "from Clust.clust.ML.common import ML_api\n",
    "from Clust.clust.ML.tool import meta\n",
    "\n",
    "influxdb_client = iC.InfluxClient(ins.CLUSTDataServer2)\n",
    "mongodb_client = mongo_client.MongoClient(ins.CLUSTMetaInfo2)"
   ]
  },
  {
   "attachments": {},
   "cell_type": "markdown",
   "id": "5eda2ef1",
   "metadata": {},
   "source": [
    "# 1. set param from Front End"
   ]
  },
  {
   "cell_type": "code",
   "execution_count": 2,
   "id": "6e2c9f28",
   "metadata": {},
   "outputs": [],
   "source": [
    "# feature list와 data_y_flag는 model_info에서 받아와야 합니다.\n",
    "# regression\n",
    "params1 = {\n",
    "    \"ingestion_param_X\" :{\n",
    "        \"bucket_name\": 'integration',\n",
    "        \"ms_name\" : 'regression_energy_cleanLevel4_testX',\n",
    "        \"feature_list\": \"None\"\n",
    "    },\n",
    "    \"ingestion_param_y\":{\n",
    "        \"bucket_name\": 'integration',\n",
    "        \"ms_name\" : 'regression_energy_cleanLevel4_testy',\n",
    "        \"feature_list\": \"None\"\n",
    "    },\n",
    "    'data_y_flag' : \"None\",\n",
    "    'model_name':'regression_energy_cleanLevel4_trainX_regression_GRU_rg_'\n",
    "}\n",
    "\n",
    "# forecasting\n",
    "params2 = {\n",
    "    \"ingestion_param_X\" :{\n",
    "        \"bucket_name\": 'integration',\n",
    "        \"ms_name\" : 'forecasting_Hs2SwineFarmWithWeatherTime_cleanLevel4_testX',\n",
    "        \"feature_list\": \"None\"\n",
    "    },\n",
    "    \"ingestion_param_y\":{\n",
    "        \"bucket_name\": 'integration',\n",
    "        \"ms_name\" : 'forecasting_Hs2SwineFarmWithWeatherTime_cleanLevel4_testX',\n",
    "        \"feature_list\": \"None\"\n",
    "    },\n",
    "    'data_y_flag' : \"None\",\n",
    "    'model_name':'forecasting_Hs2SwineFarmWithWeatherTime_cleanLevel4_trainX_regression_GRU_rg_'\n",
    "}\n",
    "\n",
    "# classification\n",
    "params3 = {\n",
    "    \"ingestion_param_X\" :{\n",
    "        \"bucket_name\": 'integration',\n",
    "        \"ms_name\" : 'classification_actionPattern_cleanLevel0_testX',\n",
    "        \"feature_list\": \"None\"\n",
    "    },\n",
    "    \"ingestion_param_y\":{\n",
    "        \"bucket_name\": 'integration',\n",
    "        \"ms_name\" : 'classification_actionPattern_cleanLevel0_testy',\n",
    "        \"feature_list\": \"None\"\n",
    "    },\n",
    "    'data_y_flag' : \"None\",\n",
    "    'model_name':'classification_actionPattern_cleanLevel0_trainX_classification_GRU_cf_'\n",
    "}"
   ]
  },
  {
   "attachments": {},
   "cell_type": "markdown",
   "id": "0ca05d98",
   "metadata": {},
   "source": [
    "# 2. Backend"
   ]
  },
  {
   "cell_type": "code",
   "execution_count": 3,
   "id": "b33bd1c1",
   "metadata": {},
   "outputs": [],
   "source": [
    "# 1. Backend Parameter Setting\n",
    "params = params1\n",
    "\n",
    "# chage tpye string to bool -> ex) 'true' -> True\n",
    "params = ML_api.chagne_type_str_to_bool(params)"
   ]
  },
  {
   "cell_type": "code",
   "execution_count": 4,
   "id": "a4ba81b2",
   "metadata": {},
   "outputs": [],
   "source": [
    "# 2. get model meta\n",
    "model_name = params['model_name']\n",
    "meta_file_name = \"./meta.json\"\n",
    "# for testing mongodb model\n",
    "# model_meta = meta.read_model_meta_from_mongodb(mongodb_client, 'model', 'meta', model_name)\n",
    "# for testing local model\n",
    "model_meta = meta.read_model_meta_from_local(meta_file_name, model_name)\n",
    "\n",
    "# data parameters from model meta\n",
    "params['ingestion_param_X']['feature_list'] = model_meta['ingestion_param_X']['feature_list']\n",
    "params['ingestion_param_y']['feature_list'] = model_meta['ingestion_param_y']['feature_list']\n",
    "params['data_y_flag'] = model_meta['data_y_flag']\n",
    "\n",
    "# scaler/transform info for test data preparation\n",
    "params['scaler_param'] = model_meta['scaler_param']\n",
    "params['transform_param'] = model_meta['transform_param']\n",
    "\n",
    "# model info for ML test\n",
    "params['model_info'] = model_meta['model_info']"
   ]
  },
  {
   "cell_type": "code",
   "execution_count": 5,
   "id": "96c73a49",
   "metadata": {},
   "outputs": [
    {
     "name": "stdout",
     "output_type": "stream",
     "text": [
      "{'bucket_name': 'integration', 'ms_name': 'regression_energy_cleanLevel4_testX', 'feature_list': ['Press_mm_hg', 'RH_1', 'RH_2', 'RH_3', 'RH_4', 'RH_5', 'RH_6', 'RH_7', 'RH_8', 'RH_9', 'RH_out', 'T1', 'T2', 'T3', 'T4', 'T5', 'T6', 'T7', 'T8', 'T9', 'T_out', 'Tdewpoint', 'Visibility', 'Windspeed']}\n"
     ]
    },
    {
     "name": "stdout",
     "output_type": "stream",
     "text": [
      "window_size: 144 nan_limit_num: 72\n",
      "(6048, 24) (42, 144, 24)\n",
      "(42, 1) (42, 1)\n"
     ]
    }
   ],
   "source": [
    "# 3. Data Preparation\n",
    "# make test data, scaler\n",
    "test_X_array, test_y_array, scaler_X, scaler_y = ML_api.test_data_preparation(params, influxdb_client)"
   ]
  },
  {
   "cell_type": "code",
   "execution_count": 6,
   "id": "0a9794e8",
   "metadata": {},
   "outputs": [],
   "source": [
    "# set scaler by data y flag\n",
    "if params['data_y_flag']:\n",
    "    scaler = scaler_y\n",
    "else:\n",
    "    scaler = scaler_X"
   ]
  },
  {
   "cell_type": "code",
   "execution_count": 7,
   "id": "0135da77",
   "metadata": {},
   "outputs": [
    {
     "name": "stdout",
     "output_type": "stream",
     "text": [
      "features shape: torch.Size([42, 144, 24]) targets shape:  torch.Size([42, 1])\n",
      "\n",
      "Start testing data\n",
      "\n",
      "scale\n",
      "=========================data\n",
      "        value  prediction\n",
      "0   17.370001    7.650870\n",
      "1   20.650000    7.562680\n",
      "2   11.420000    7.149018\n",
      "3   10.680000    7.541431\n",
      "4   12.439999    7.565461\n",
      "5   11.170000    7.380070\n",
      "6   24.120001    7.650904\n",
      "7   10.990000    7.690277\n",
      "8   13.760000    7.368565\n",
      "9   14.560000    7.388246\n",
      "10  14.970000    7.460073\n",
      "11  13.429999    7.464605\n",
      "12  11.570000    7.626628\n",
      "13   9.330000    7.931899\n",
      "14  15.580000    7.759978\n",
      "15  20.929998    7.646781\n",
      "16  11.990000    7.403240\n",
      "17  15.370000    7.682791\n",
      "18  10.470000    7.525137\n",
      "19  14.410000    7.600495\n",
      "20  10.160000    7.498172\n",
      "21  15.120000    7.460516\n",
      "22  12.320000    7.555345\n",
      "23  10.460000    7.281071\n",
      "24  15.060000    6.951315\n",
      "25   9.680000    7.198527\n",
      "26  10.690000    7.611364\n",
      "27  17.799997    7.626010\n",
      "28  10.690000    7.720323\n",
      "29  17.059998    7.561688\n",
      "30  20.879999    7.566436\n",
      "31  10.890000    7.503093\n"
     ]
    }
   ],
   "source": [
    "# model test\n",
    "result = ML_api.ML_test(params, test_X_array, test_y_array, scaler)"
   ]
  },
  {
   "cell_type": "code",
   "execution_count": 8,
   "id": "838c82a4",
   "metadata": {},
   "outputs": [
    {
     "data": {
      "text/plain": [
       "{'mae': 6.4199057,\n",
       " 'rmse': 7.4158515339365225,\n",
       " 'r2': -2.9340607269929446,\n",
       " 'mape': 42.62121021747589}"
      ]
     },
     "execution_count": 8,
     "metadata": {},
     "output_type": "execute_result"
    }
   ],
   "source": [
    "result['result_metrics']"
   ]
  },
  {
   "cell_type": "code",
   "execution_count": 9,
   "id": "9aa09038",
   "metadata": {},
   "outputs": [
    {
     "data": {
      "text/plain": [
       "{'model_purpose': 'regression',\n",
       " 'model_method': 'GRU_rg',\n",
       " 'model_name': 'regression_energy_cleanLevel4_trainX_regression_GRU_rg_',\n",
       " 'model_tags': 'tagstest',\n",
       " 'train_parameter': {'lr': 0.0001,\n",
       "  'weight_decay': 1e-06,\n",
       "  'n_epochs': 5,\n",
       "  'batch_size': 16,\n",
       "  'device': 'cpu'},\n",
       " 'model_parameter': {'rnn_type': 'lstm',\n",
       "  'input_size': 24,\n",
       "  'hidden_size': 64,\n",
       "  'num_layers': 2,\n",
       "  'output_dim': 1,\n",
       "  'seq_len': 144,\n",
       "  'dropout': 0.1,\n",
       "  'bidirectional': True},\n",
       " 'seq_len': 144,\n",
       " 'input_size': 24,\n",
       " 'model_file_path': {'modelFile': {'fileName': 'model.pth',\n",
       "   'filePath': './Models/GRU_rg/regression_energy_cleanLevel4_trainX_regression_GRU_rg_/regression_energy_cleanLevel4_trainX/model.pkl'}}}"
      ]
     },
     "execution_count": 9,
     "metadata": {},
     "output_type": "execute_result"
    }
   ],
   "source": [
    "model_meta['model_info']"
   ]
  },
  {
   "cell_type": "code",
   "execution_count": null,
   "id": "0ca2e085",
   "metadata": {},
   "outputs": [],
   "source": []
  },
  {
   "cell_type": "code",
   "execution_count": null,
   "id": "531b8e0d",
   "metadata": {},
   "outputs": [],
   "source": []
  },
  {
   "cell_type": "code",
   "execution_count": null,
   "id": "1509e356",
   "metadata": {},
   "outputs": [],
   "source": []
  }
 ],
 "metadata": {
  "kernelspec": {
   "display_name": "Python 3 (ipykernel)",
   "language": "python",
   "name": "python3"
  },
  "language_info": {
   "codemirror_mode": {
    "name": "ipython",
    "version": 3
   },
   "file_extension": ".py",
   "mimetype": "text/x-python",
   "name": "python",
   "nbconvert_exporter": "python",
   "pygments_lexer": "ipython3",
   "version": "3.9.6"
  }
 },
 "nbformat": 4,
 "nbformat_minor": 5
}
