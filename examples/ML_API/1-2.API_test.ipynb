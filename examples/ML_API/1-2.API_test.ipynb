{
 "cells": [
  {
   "attachments": {},
   "cell_type": "markdown",
   "id": "ae620b97",
   "metadata": {},
   "source": [
    "# Setting"
   ]
  },
  {
   "cell_type": "code",
   "execution_count": 1,
   "id": "15c67efd",
   "metadata": {},
   "outputs": [
    {
     "name": "stderr",
     "output_type": "stream",
     "text": [
      "/Users/kim-youngkee/Documents/CLUSTER/.clust/lib/python3.9/site-packages/tqdm/auto.py:22: TqdmWarning: IProgress not found. Please update jupyter and ipywidgets. See https://ipywidgets.readthedocs.io/en/stable/user_install.html\n",
      "  from .autonotebook import tqdm as notebook_tqdm\n"
     ]
    },
    {
     "name": "stdout",
     "output_type": "stream",
     "text": [
      "cpu is available.\n"
     ]
    }
   ],
   "source": [
    "import sys, os\n",
    "import pandas as pd\n",
    "\n",
    "sys.path.append(\"../\")\n",
    "sys.path.append(\"../../\")\n",
    "sys.path.append(\"../../../\")\n",
    "sys.path.append(\"../../../../\")\n",
    "\n",
    "from Clust.setting import influx_setting_KETI as ins\n",
    "from Clust.clust.ingestion.influx import influx_client_v2 as iC\n",
    "from Clust.clust.ingestion.mongo import mongo_client\n",
    "from Clust.clust.ML.common import ML_api\n",
    "from Clust.clust.ML.tool import meta\n",
    "\n",
    "influxdb_client = iC.InfluxClient(ins.CLUSTDataServer2)\n",
    "mongodb_client = mongo_client.MongoClient(ins.CLUSTMetaInfo2)"
   ]
  },
  {
   "attachments": {},
   "cell_type": "markdown",
   "id": "5eda2ef1",
   "metadata": {},
   "source": [
    "# 1. set param from Front End"
   ]
  },
  {
   "cell_type": "code",
   "execution_count": 2,
   "id": "6e2c9f28",
   "metadata": {},
   "outputs": [],
   "source": [
    "# feature list와 data_y_flag는 model_info에서 받아와야 합니다.\n",
    "# regression\n",
    "params1 = {\n",
    "    \"ingestion_param_X\" :{\n",
    "        \"bucket_name\": 'integration',\n",
    "        \"ms_name\" : 'regression_energy_cleanLevel4_testX',\n",
    "        \"feature_list\": \"None\"\n",
    "    },\n",
    "    \"ingestion_param_y\":{\n",
    "        \"bucket_name\": 'integration',\n",
    "        \"ms_name\" : 'regression_energy_cleanLevel4_testy',\n",
    "        \"feature_list\": \"None\"\n",
    "    },\n",
    "    'data_y_flag' : \"None\",\n",
    "    'model_name':'regression_energy_cleanLevel4_trainX_regression_LSTM_rg_'\n",
    "}\n",
    "\n",
    "# forecasting\n",
    "params2 = {\n",
    "    \"ingestion_param_X\" :{\n",
    "        \"bucket_name\": 'integration',\n",
    "        \"ms_name\" : 'forecasting_Hs2SwineFarmWithWeatherTime_cleanLevel4_testX',\n",
    "        \"feature_list\": \"None\"\n",
    "    },\n",
    "    \"ingestion_param_y\":{\n",
    "        \"bucket_name\": 'integration',\n",
    "        \"ms_name\" : 'forecasting_Hs2SwineFarmWithWeatherTime_cleanLevel4_testX',\n",
    "        \"feature_list\": \"None\"\n",
    "    },\n",
    "    'data_y_flag' : \"None\",\n",
    "    'model_name':'forecasting_Hs2SwineFarmWithWeatherTime_cleanLevel4_trainX_regression_LSTM_rg_'\n",
    "}\n",
    "\n",
    "# classification\n",
    "params3 = {\n",
    "    \"ingestion_param_X\" :{\n",
    "        \"bucket_name\": 'integration',\n",
    "        \"ms_name\" : 'classification_actionPattern_cleanLevel0_testX',\n",
    "        \"feature_list\": \"None\"\n",
    "    },\n",
    "    \"ingestion_param_y\":{\n",
    "        \"bucket_name\": 'integration',\n",
    "        \"ms_name\" : 'classification_actionPattern_cleanLevel0_testy',\n",
    "        \"feature_list\": \"None\"\n",
    "    },\n",
    "    'data_y_flag' : \"None\",\n",
    "    'model_name':'classification_actionPattern_cleanLevel0_trainX_classification_LSTM_cf_'\n",
    "}"
   ]
  },
  {
   "attachments": {},
   "cell_type": "markdown",
   "id": "0ca05d98",
   "metadata": {},
   "source": [
    "# 2. Backend"
   ]
  },
  {
   "cell_type": "code",
   "execution_count": 3,
   "id": "b33bd1c1",
   "metadata": {},
   "outputs": [],
   "source": [
    "# 1. Backend Parameter Setting\n",
    "params = params1\n",
    "\n",
    "# chage tpye string to bool -> ex) 'true' -> True\n",
    "params = ML_api.chagne_type_str_to_bool(params)"
   ]
  },
  {
   "cell_type": "code",
   "execution_count": 4,
   "id": "a4ba81b2",
   "metadata": {},
   "outputs": [],
   "source": [
    "# 2. get model meta\n",
    "model_name = params['model_name']\n",
    "meta_file_name = \"./meta.json\"\n",
    "# for testing mongodb model\n",
    "# model_meta = meta.read_model_meta_from_mongodb(mongodb_client, 'model', 'meta', model_name)\n",
    "# for testing local model\n",
    "model_meta = meta.read_model_meta_from_local(meta_file_name, model_name)\n",
    "\n",
    "# data parameters from model meta\n",
    "params['ingestion_param_X']['feature_list'] = model_meta['ingestion_param_X']['feature_list']\n",
    "params['ingestion_param_y']['feature_list'] = model_meta['ingestion_param_y']['feature_list']\n",
    "params['data_y_flag'] = model_meta['data_y_flag']\n",
    "\n",
    "# scaler/transform info for test data preparation\n",
    "params['scaler_info'] = model_meta['scaler_param']\n",
    "params['transform_info'] = model_meta['transform_param']\n",
    "\n",
    "# model info for ML test\n",
    "params['model_info'] = model_meta['model_info']"
   ]
  },
  {
   "cell_type": "code",
   "execution_count": 5,
   "id": "96c73a49",
   "metadata": {},
   "outputs": [
    {
     "name": "stdout",
     "output_type": "stream",
     "text": [
      "{'bucket_name': 'integration', 'ms_name': 'regression_energy_cleanLevel4_testX', 'feature_list': ['Press_mm_hg', 'RH_1', 'RH_2', 'RH_3', 'RH_4', 'RH_5', 'RH_6', 'RH_7', 'RH_8', 'RH_9', 'RH_out', 'T1', 'T2', 'T3', 'T4', 'T5', 'T6', 'T7', 'T8', 'T9', 'T_out', 'Tdewpoint', 'Visibility', 'Windspeed']}\n",
      "window_size: 144 nan_limit_num: 72\n",
      "(6048, 24) (42, 144, 24)\n",
      "(42, 1) (42, 1)\n"
     ]
    }
   ],
   "source": [
    "# 3. Data Preparation\n",
    "# make test data, scaler\n",
    "test_X_array, test_y_array, scaler_X, scaler_y = ML_api.test_data_preparation(params, influxdb_client)"
   ]
  },
  {
   "cell_type": "code",
   "execution_count": 6,
   "id": "0a9794e8",
   "metadata": {},
   "outputs": [],
   "source": [
    "# set scaler by data y flag\n",
    "if params['data_y_flag']:\n",
    "    scaler = scaler_y\n",
    "else:\n",
    "    scaler = scaler_X"
   ]
  },
  {
   "cell_type": "code",
   "execution_count": 7,
   "id": "0135da77",
   "metadata": {},
   "outputs": [
    {
     "name": "stdout",
     "output_type": "stream",
     "text": [
      "features shape: torch.Size([42, 144, 24]) targets shape:  torch.Size([42, 1])\n",
      "\n",
      "Start testing data\n",
      "\n",
      "scale\n",
      "=========================data\n",
      "        value  prediction\n",
      "0   17.370001   12.691754\n",
      "1   20.650000   12.621255\n",
      "2   11.420000   21.575741\n",
      "3   10.680000    9.304165\n",
      "4   12.439999   10.378374\n",
      "5   11.170000    9.690221\n",
      "6   24.120001   16.030220\n",
      "7   10.990000   13.233480\n",
      "8   13.760000   11.656842\n",
      "9   14.560000   12.547544\n",
      "10  14.970000   15.658759\n",
      "11  13.429999   12.303468\n",
      "12  11.570000   11.908084\n",
      "13   9.330000   10.090723\n",
      "14  15.580000   14.225930\n",
      "15  20.929998   16.864517\n",
      "16  11.990000   10.612164\n",
      "17  15.370000   11.329812\n",
      "18  10.470000   11.480734\n",
      "19  14.410000   12.548252\n",
      "20  10.160000   10.276198\n",
      "21  15.120000   19.070885\n",
      "22  12.320000   10.652502\n",
      "23  10.460000   12.146081\n",
      "24  15.060000    7.756890\n",
      "25   9.680000   14.774932\n",
      "26  10.690000   11.165871\n",
      "27  17.799997   22.977623\n",
      "28  10.690000    9.301559\n",
      "29  17.059998   10.612042\n",
      "30  20.879999   20.170544\n",
      "31  10.890000    9.863614\n"
     ]
    }
   ],
   "source": [
    "# model test\n",
    "result = ML_api.ML_test(params, test_X_array, test_y_array, scaler)"
   ]
  },
  {
   "cell_type": "code",
   "execution_count": 8,
   "id": "838c82a4",
   "metadata": {},
   "outputs": [
    {
     "data": {
      "text/plain": [
       "{'result': {'index': [0,\n",
       "   1,\n",
       "   2,\n",
       "   3,\n",
       "   4,\n",
       "   5,\n",
       "   6,\n",
       "   7,\n",
       "   8,\n",
       "   9,\n",
       "   10,\n",
       "   11,\n",
       "   12,\n",
       "   13,\n",
       "   14,\n",
       "   15,\n",
       "   16,\n",
       "   17,\n",
       "   18,\n",
       "   19,\n",
       "   20,\n",
       "   21,\n",
       "   22,\n",
       "   23,\n",
       "   24,\n",
       "   25,\n",
       "   26,\n",
       "   27,\n",
       "   28,\n",
       "   29,\n",
       "   30,\n",
       "   31],\n",
       "  'value': {'value': [17.3700008392334,\n",
       "    20.649999618530273,\n",
       "    11.420000076293945,\n",
       "    10.680000305175781,\n",
       "    12.439998626708984,\n",
       "    11.170000076293945,\n",
       "    24.1200008392334,\n",
       "    10.989999771118164,\n",
       "    13.760000228881836,\n",
       "    14.5600004196167,\n",
       "    14.970000267028809,\n",
       "    13.429999351501465,\n",
       "    11.569999694824219,\n",
       "    9.329999923706055,\n",
       "    15.579999923706055,\n",
       "    20.92999839782715,\n",
       "    11.989999771118164,\n",
       "    15.369999885559082,\n",
       "    10.470000267028809,\n",
       "    14.40999984741211,\n",
       "    10.15999984741211,\n",
       "    15.119999885559082,\n",
       "    12.319999694824219,\n",
       "    10.460000038146973,\n",
       "    15.0600004196167,\n",
       "    9.680000305175781,\n",
       "    10.6899995803833,\n",
       "    17.799997329711914,\n",
       "    10.6899995803833,\n",
       "    17.05999755859375,\n",
       "    20.8799991607666,\n",
       "    10.890000343322754],\n",
       "   'prediction': [12.691754341125488,\n",
       "    12.621254920959473,\n",
       "    21.575740814208984,\n",
       "    9.30416488647461,\n",
       "    10.378374099731445,\n",
       "    9.690220832824707,\n",
       "    16.03022003173828,\n",
       "    13.233480453491211,\n",
       "    11.656842231750488,\n",
       "    12.5475435256958,\n",
       "    15.658759117126465,\n",
       "    12.303467750549316,\n",
       "    11.90808391571045,\n",
       "    10.090723037719727,\n",
       "    14.225930213928223,\n",
       "    16.864517211914062,\n",
       "    10.612163543701172,\n",
       "    11.329812049865723,\n",
       "    11.480733871459961,\n",
       "    12.54825210571289,\n",
       "    10.276198387145996,\n",
       "    19.070884704589844,\n",
       "    10.652502059936523,\n",
       "    12.14608097076416,\n",
       "    7.756889820098877,\n",
       "    14.774931907653809,\n",
       "    11.165870666503906,\n",
       "    22.977622985839844,\n",
       "    9.301559448242188,\n",
       "    10.612042427062988,\n",
       "    20.170543670654297,\n",
       "    9.863614082336426]}},\n",
       " 'result_metrics': {'mae': 2.934295,\n",
       "  'rmse': 3.924730211449701,\n",
       "  'r2': -0.10189096298184142,\n",
       "  'mape': 20.25742083787918}}"
      ]
     },
     "execution_count": 8,
     "metadata": {},
     "output_type": "execute_result"
    }
   ],
   "source": [
    "result"
   ]
  },
  {
   "cell_type": "code",
   "execution_count": 9,
   "id": "9aa09038",
   "metadata": {},
   "outputs": [
    {
     "data": {
      "text/plain": [
       "{'model_purpose': 'regression',\n",
       " 'model_method': 'LSTM_rg',\n",
       " 'model_name': 'regression_energy_cleanLevel4_trainX_regression_LSTM_rg_',\n",
       " 'model_tags': 'tagstest',\n",
       " 'train_parameter': {'lr': 0.0001,\n",
       "  'weight_decay': 1e-06,\n",
       "  'n_epochs': 1000,\n",
       "  'batch_size': 16,\n",
       "  'device': 'cpu'},\n",
       " 'model_parameter': {'rnn_type': 'lstm',\n",
       "  'input_size': 24,\n",
       "  'hidden_size': 64,\n",
       "  'num_layers': 2,\n",
       "  'output_dim': 1,\n",
       "  'dropout': 0.1,\n",
       "  'bidirectional': True},\n",
       " 'seq_len': 144,\n",
       " 'input_size': 24,\n",
       " 'model_file_path': {'modelFile': {'fileName': 'model.pth',\n",
       "   'filePath': './Models/LSTM_rg/regression_energy_cleanLevel4_trainX_regression_LSTM_rg_/regression_energy_cleanLevel4_trainX/model.pkl'}}}"
      ]
     },
     "execution_count": 9,
     "metadata": {},
     "output_type": "execute_result"
    }
   ],
   "source": [
    "model_meta['model_info']"
   ]
  },
  {
   "cell_type": "code",
   "execution_count": null,
   "id": "0ca2e085",
   "metadata": {},
   "outputs": [],
   "source": []
  },
  {
   "cell_type": "code",
   "execution_count": null,
   "id": "531b8e0d",
   "metadata": {},
   "outputs": [],
   "source": []
  },
  {
   "cell_type": "code",
   "execution_count": null,
   "id": "1509e356",
   "metadata": {},
   "outputs": [],
   "source": []
  }
 ],
 "metadata": {
  "kernelspec": {
   "display_name": "Python 3 (ipykernel)",
   "language": "python",
   "name": "python3"
  },
  "language_info": {
   "codemirror_mode": {
    "name": "ipython",
    "version": 3
   },
   "file_extension": ".py",
   "mimetype": "text/x-python",
   "name": "python",
   "nbconvert_exporter": "python",
   "pygments_lexer": "ipython3",
   "version": "3.9.6"
  }
 },
 "nbformat": 4,
 "nbformat_minor": 5
}
