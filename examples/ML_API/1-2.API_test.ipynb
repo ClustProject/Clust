{
 "cells": [
  {
   "cell_type": "markdown",
   "id": "ae620b97",
   "metadata": {},
   "source": [
    "# Setting"
   ]
  },
  {
   "cell_type": "code",
   "execution_count": 8,
   "id": "15c67efd",
   "metadata": {},
   "outputs": [],
   "source": [
    "import sys, os\n",
    "import pandas as pd\n",
    "\n",
    "sys.path.append(\"../\")\n",
    "sys.path.append(\"../../\")\n",
    "sys.path.append(\"../../../\")\n",
    "sys.path.append(\"../../../../\")\n",
    "\n",
    "from Clust.setting import influx_setting_KETI as ins\n",
    "from Clust.clust.ingestion.influx import influx_client_v2 as iC\n",
    "from Clust.clust.ingestion.mongo import mongo_client\n",
    "from Clust.clust.ML.common import ML_api\n",
    "\n",
    "db_client = iC.InfluxClient(ins.CLUSTDataServer2)\n",
    "mongodb_client = mongo_client.MongoClient(ins.CLUSTMetaInfo2)"
   ]
  },
  {
   "cell_type": "code",
   "execution_count": 9,
   "id": "6e2c9f28",
   "metadata": {},
   "outputs": [],
   "source": [
    "# feature list와 data_y_flag는 model_info에서 받아와야 합니다.\n",
    "# regression\n",
    "param1 = {\n",
    "    \"ingestion_param_X\" :{\n",
    "        \"bucket_name\": 'integration',\n",
    "        \"ms_name\" : 'regression_energy_cleanLevel4_testX',\n",
    "        \"feature_list\":['Press_mm_hg', 'RH_1', 'RH_2', 'RH_3', 'RH_4', 'RH_5', 'RH_6', 'RH_7',\n",
    "       'RH_8', 'RH_9', 'RH_out', 'T1', 'T2', 'T3', 'T4', 'T5', 'T6', 'T7',\n",
    "       'T8', 'T9', 'T_out', 'Tdewpoint', 'Visibility', 'Windspeed']\n",
    "    },\n",
    "    \"ingestion_param_y\":{\n",
    "        \"bucket_name\": 'integration',\n",
    "        \"ms_name\" : 'regression_energy_cleanLevel4_testy',\n",
    "        \"feature_list\":[\"value\"]\n",
    "    },\n",
    "    'data_y_flag' : 'true',\n",
    "    'model_name':'regression_energy_cleanLevel4_trainX_regression_LSTM_rg_'\n",
    "}\n",
    "\n",
    "# forecasting\n",
    "param2 = {\n",
    "    \"ingestion_param_X\" :{\n",
    "        \"bucket_name\": 'integration',\n",
    "        \"ms_name\" : 'forecasting_Hs2SwineFarmWithWeatherTime_cleanLevel4_testX',\n",
    "        \"feature_list\":['Temperature', 'out_temp','sin_hour']\n",
    "    },\n",
    "    \"ingestion_param_y\":{\n",
    "        \"bucket_name\": 'integration',\n",
    "        \"ms_name\" : 'forecasting_Hs2SwineFarmWithWeatherTime_cleanLevel4_testX',\n",
    "        \"feature_list\":['Temperature']\n",
    "    },\n",
    "    'data_y_flag' : 'false',\n",
    "    'model_name':'forecasting_Hs2SwineFarmWithWeatherTime_cleanLevel4_trainX_regression_LSTM_rg_'\n",
    "}\n",
    "\n",
    "# classification\n",
    "param3 = {\n",
    "    \"ingestion_param_X\" :{\n",
    "        \"bucket_name\": 'integration',\n",
    "        \"ms_name\" : 'classification_actionPattern_cleanLevel0_testX',\n",
    "        \"feature_list\":['col_0', 'col_1','col_2','col_3','col_4','col_5','col_6','col_7','col_8']\n",
    "    },\n",
    "    \"ingestion_param_y\":{\n",
    "        \"bucket_name\": 'integration',\n",
    "        \"ms_name\" : 'classification_actionPattern_cleanLevel0_testy',\n",
    "        \"feature_list\":['value']\n",
    "    },\n",
    "    'data_y_flag' : 'true',\n",
    "    'model_name':'classification_actionPattern_cleanLevel0_trainX_classification_LSTM_cf_'\n",
    "}"
   ]
  },
  {
   "cell_type": "code",
   "execution_count": 10,
   "id": "b33bd1c1",
   "metadata": {},
   "outputs": [],
   "source": [
    "params = param1\n",
    "\n",
    "# chage tpye string to bool -> ex) 'true' -> True\n",
    "params = ML_api.chagne_type_str_to_bool(params)"
   ]
  },
  {
   "cell_type": "code",
   "execution_count": 11,
   "id": "a4ba81b2",
   "metadata": {},
   "outputs": [],
   "source": [
    "# get model meta\n",
    "model_name = params['model_name']\n",
    "meta_file_name = \"meta.json\"\n",
    "from Clust.clust.ML.tool import meta\n",
    "#model_meta = meta.read_model_meta_from_mongodb(mongodb_client, 'model', 'meta', model_name)\n",
    "model_meta = meta.read_model_meta_from_local(meta_file_name, model_name)"
   ]
  },
  {
   "cell_type": "code",
   "execution_count": 12,
   "id": "7fdfe973",
   "metadata": {},
   "outputs": [
    {
     "data": {
      "text/plain": [
       "{'ingestion_param_X': {'bucket_name': 'integration',\n",
       "  'ms_name': 'regression_energy_cleanLevel4_trainX',\n",
       "  'feature_list': ['Press_mm_hg',\n",
       "   'RH_1',\n",
       "   'RH_2',\n",
       "   'RH_3',\n",
       "   'RH_4',\n",
       "   'RH_5',\n",
       "   'RH_6',\n",
       "   'RH_7',\n",
       "   'RH_8',\n",
       "   'RH_9',\n",
       "   'RH_out',\n",
       "   'T1',\n",
       "   'T2',\n",
       "   'T3',\n",
       "   'T4',\n",
       "   'T5',\n",
       "   'T6',\n",
       "   'T7',\n",
       "   'T8',\n",
       "   'T9',\n",
       "   'T_out',\n",
       "   'Tdewpoint',\n",
       "   'Visibility',\n",
       "   'Windspeed']},\n",
       " 'ingestion_param_y': {'bucket_name': 'integration',\n",
       "  'ms_name': 'regression_energy_cleanLevel4_trainy',\n",
       "  'feature_list': ['value']},\n",
       " 'data_y_flag': True,\n",
       " 'scaler_param': {'scaler_flag': 'scale',\n",
       "  'scale_method': 'minmax',\n",
       "  'scaler_path': './scaler/',\n",
       "  'scaler_file_path': {'XScalerFile': {'fileName': 'scaler.pkl',\n",
       "    'filePath': './scaler/regression_energy_cleanLevel4_trainX/minmax/900878d7bba6f2a4017d1c3399909ea7/scaler.pkl'},\n",
       "   'yScalerFile': {'fileName': 'scaler.pkl',\n",
       "    'filePath': './scaler/regression_energy_cleanLevel4_trainy/minmax/f69156750a210491ffd4a67b605bc88b/scaler.pkl'}}},\n",
       " 'transform_param': {'split_mode': 'window_split',\n",
       "  'data_clean_option': False,\n",
       "  'nan_process_info': {'type': 'num',\n",
       "   'ConsecutiveNanLimit': 10000,\n",
       "   'totalNaNLimit': 100000},\n",
       "  'max_nan_limit_ratio': 0.5,\n",
       "  'future_step': None,\n",
       "  'past_step': 144},\n",
       " 'model_info': {'model_purpose': 'regression',\n",
       "  'model_method': 'LSTM_rg',\n",
       "  'model_name': 'regression_energy_cleanLevel4_trainX_regression_LSTM_rg_',\n",
       "  'model_tags': 'tagstest',\n",
       "  'train_parameter': {'lr': 0.0001,\n",
       "   'weight_decay': 1e-06,\n",
       "   'n_epochs': 5,\n",
       "   'batch_size': 16,\n",
       "   'device': 'cuda'},\n",
       "  'model_parameter': {'rnn_type': 'lstm',\n",
       "   'input_size': 24,\n",
       "   'hidden_size': 64,\n",
       "   'num_layers': 2,\n",
       "   'output_dim': 1,\n",
       "   'dropout': 0.1,\n",
       "   'bidirectional': True},\n",
       "  'seq_len': 144,\n",
       "  'input_size': 24,\n",
       "  'model_file_path': {'modelFile': {'fileName': 'model.pth',\n",
       "    'filePath': './Models/LSTM_rg/regression_energy_cleanLevel4_trainX_regression_LSTM_rg_/regression_energy_cleanLevel4_trainX/model.pkl'}}},\n",
       " 'train_data_info': {'bucket_name': 'integration',\n",
       "  'collection_name': 'regression_energy',\n",
       "  'ms_name': 'regression_energy_cleanLevel4_trainX',\n",
       "  'ingestion_type': 'multiple_ms_by_time',\n",
       "  'ingestion_param': {'ms_list_info': [['life_indoor_environment',\n",
       "     'humidityTrain_10min'],\n",
       "    ['life_indoor_environment', 'temperatureTrain_10min'],\n",
       "    ['weather_outdoor_environment', 'belgiumChieverseAirportTrain_10min']],\n",
       "   'start_time': '2016-01-11',\n",
       "   'end_time': '2016-04-15'},\n",
       "  'processing_type': 'step_3',\n",
       "  'process_param': {'refine_param': {'remove_duplication': {'flag': True},\n",
       "    'static_frequency': {'flag': True, 'frequency': None}},\n",
       "   'outlier_param': {'certain_error_to_NaN': {'flag': True},\n",
       "    'uncertain_error_to_NaN': {'flag': True,\n",
       "     'param': {'outlierDetectorConfig': [{'algorithm': 'IQR',\n",
       "        'percentile': 99,\n",
       "        'alg_parameter': {'weight': 100}}]}}},\n",
       "   'imputation_param': {'flag': True,\n",
       "    'imputation_method': [{'min': 0,\n",
       "      'max': 2,\n",
       "      'method': 'linear',\n",
       "      'parameter': {}}],\n",
       "    'total_non_NaN_ratio': 90}},\n",
       "  'integration_param': {'integration_frequency': 600.0,\n",
       "   'param': {},\n",
       "   'method': 'meta',\n",
       "   'integration_duration': 'common'},\n",
       "  'clean_level': 4}}"
      ]
     },
     "execution_count": 12,
     "metadata": {},
     "output_type": "execute_result"
    }
   ],
   "source": [
    "model_meta"
   ]
  },
  {
   "cell_type": "code",
   "execution_count": 6,
   "id": "96c73a49",
   "metadata": {},
   "outputs": [
    {
     "name": "stdout",
     "output_type": "stream",
     "text": [
      "{'bucket_name': 'integration', 'ms_name': 'forecasting_Hs2SwineFarmWithWeatherTime_cleanLevel4_testX', 'feature_list': ['Temperature', 'out_temp', 'sin_hour']}\n",
      "nan_limit_num:  12\n",
      "Original num: 1003 Final num: 977 NaN num: 26\n"
     ]
    }
   ],
   "source": [
    "# make test data, scaler\n",
    "test_X_array, test_y_array, scaler_X, scaler_y = ML_api.test_data_preparation(params, model_meta, db_client)"
   ]
  },
  {
   "cell_type": "code",
   "execution_count": 7,
   "id": "0a9794e8",
   "metadata": {},
   "outputs": [],
   "source": [
    "# set scaler, feature list by data y flag\n",
    "scaler_feature_dict = {}\n",
    "if model_meta['data_y_flag']:\n",
    "    scaler_feature_dict['scaler'] = scaler_y\n",
    "    scaler_feature_dict['feature_list'] = model_meta['ingestion_param_y']['feature_list']\n",
    "    scaler_feature_dict['target'] = model_meta['ingestion_param_y']['feature_list'][0]\n",
    "\n",
    "else:\n",
    "    scaler_feature_dict['scaler'] = scaler_X\n",
    "    scaler_feature_dict['feature_list'] = model_meta['ingestion_param_X']['feature_list']\n",
    "    scaler_feature_dict['target'] = model_meta['ingestion_param_X']['feature_list'][0]"
   ]
  },
  {
   "cell_type": "code",
   "execution_count": 8,
   "id": "0135da77",
   "metadata": {},
   "outputs": [
    {
     "name": "stdout",
     "output_type": "stream",
     "text": [
      "features shape: torch.Size([977, 24, 3]) targets shape:  torch.Size([977, 1])\n",
      "\n",
      "Start testing data\n",
      "\n",
      "scale\n"
     ]
    }
   ],
   "source": [
    "# model test\n",
    "result = ML_api.ML_test(model_meta, test_X_array, test_y_array, scaler_feature_dict)"
   ]
  },
  {
   "cell_type": "code",
   "execution_count": 9,
   "id": "838c82a4",
   "metadata": {},
   "outputs": [
    {
     "data": {
      "text/plain": [
       "{'df_result':          value  prediction\n",
       " 0    27.580000   26.567505\n",
       " 1    27.820001   26.691312\n",
       " 2    27.980001   26.827189\n",
       " 3    28.100000   26.984124\n",
       " 4    28.220000   27.146790\n",
       " ..         ...         ...\n",
       " 971  20.960000   20.405946\n",
       " 972  21.499999   20.470601\n",
       " 973  21.859999   20.561689\n",
       " 974  22.100000   20.742891\n",
       " 975  22.340000   20.997500\n",
       " \n",
       " [976 rows x 2 columns],\n",
       " 'result_metrics': {'mae': 0.5075732639944943,\n",
       "  'rmse': 0.6328042145868005,\n",
       "  'r2': 0.9032548237499973,\n",
       "  'mape': 2.0442301939238505}}"
      ]
     },
     "execution_count": 9,
     "metadata": {},
     "output_type": "execute_result"
    }
   ],
   "source": [
    "result"
   ]
  },
  {
   "cell_type": "code",
   "execution_count": 10,
   "id": "9aa09038",
   "metadata": {},
   "outputs": [
    {
     "data": {
      "text/plain": [
       "{'model_purpose': 'regression',\n",
       " 'model_method': 'LSTM_rg',\n",
       " 'model_name': 'forecasting_Hs2SwineFarmWithWeatherTime_cleanLevel4_trainX_regression_LSTM_rg_',\n",
       " 'model_tags': 'tagstest',\n",
       " 'train_parameter': {'lr': 0.0001,\n",
       "  'weight_decay': 1e-06,\n",
       "  'n_epochs': 5,\n",
       "  'batch_size': 16,\n",
       "  'device': 'cpu'},\n",
       " 'model_parameter': {'rnn_type': 'lstm',\n",
       "  'input_size': 3,\n",
       "  'hidden_size': 64,\n",
       "  'num_layers': 2,\n",
       "  'output_dim': 1,\n",
       "  'dropout': 0.1,\n",
       "  'bidirectional': True},\n",
       " 'seq_len': 24,\n",
       " 'input_size': 3,\n",
       " 'model_file_path': {'modelFile': {'fileName': 'model.pth',\n",
       "   'filePath': './Models/LSTM_rg/forecasting_Hs2SwineFarmWithWeatherTime_cleanLevel4_trainX_regression_LSTM_rg_/forecasting_Hs2SwineFarmWithWeatherTime_cleanLevel4_trainX/model.pkl'}}}"
      ]
     },
     "execution_count": 10,
     "metadata": {},
     "output_type": "execute_result"
    }
   ],
   "source": [
    "model_meta['model_info']"
   ]
  },
  {
   "cell_type": "code",
   "execution_count": null,
   "id": "0ca2e085",
   "metadata": {},
   "outputs": [],
   "source": []
  }
 ],
 "metadata": {
  "kernelspec": {
   "display_name": "Python 3 (ipykernel)",
   "language": "python",
   "name": "python3"
  },
  "language_info": {
   "codemirror_mode": {
    "name": "ipython",
    "version": 3
   },
   "file_extension": ".py",
   "mimetype": "text/x-python",
   "name": "python",
   "nbconvert_exporter": "python",
   "pygments_lexer": "ipython3",
   "version": "3.8.8"
  }
 },
 "nbformat": 4,
 "nbformat_minor": 5
}
