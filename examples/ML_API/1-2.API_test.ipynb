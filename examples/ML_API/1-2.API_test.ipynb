{
 "cells": [
  {
   "cell_type": "markdown",
   "id": "ae620b97",
   "metadata": {},
   "source": [
    "# Setting"
   ]
  },
  {
   "cell_type": "code",
   "execution_count": 20,
   "id": "15c67efd",
   "metadata": {},
   "outputs": [],
   "source": [
    "import sys, os\n",
    "import pandas as pd\n",
    "\n",
    "sys.path.append(\"../\")\n",
    "sys.path.append(\"../../\")\n",
    "sys.path.append(\"../../../\")\n",
    "sys.path.append(\"../../../../\")\n",
    "\n",
    "from Clust.setting import influx_setting_KETI as ins\n",
    "from Clust.clust.ingestion.influx import influx_client_v2 as influx_Client\n",
    "from Clust.clust.ingestion.mongo.mongo_client import MongoClient\n",
    "db_client = influx_Client.InfluxClient(ins.CLUSTDataServer2)\n",
    "mongodb_client = MongoClient(ins.CLUSTMetaInfo2)"
   ]
  },
  {
   "cell_type": "code",
   "execution_count": 21,
   "id": "0a73af71",
   "metadata": {},
   "outputs": [],
   "source": [
    " # regression_1 --> regression\n",
    "# regression_2 --> forecasting\n",
    "# classification\n",
    "model_mode = \"regression_1\""
   ]
  },
  {
   "cell_type": "code",
   "execution_count": null,
   "id": "6e2c9f28",
   "metadata": {},
   "outputs": [],
   "source": []
  },
  {
   "cell_type": "code",
   "execution_count": 22,
   "id": "f84c8f59",
   "metadata": {},
   "outputs": [],
   "source": [
    "if model_mode == \"regression_1\":\n",
    "    params={\n",
    "        'bk_name_X' : 'integration',\n",
    "        'ms_name_X' : 'regression_energy_cleanLevel0_testX',\n",
    "        'bk_name_y' : 'integration',\n",
    "        'ms_name_y' : 'regression_energy_cleanLevel0_testy',\n",
    "        'model_name' : 'Regression_API_TEST'\n",
    "    }\n",
    "    \n",
    "elif model_mode == \"regression_2\":\n",
    "    params={\n",
    "        'bk_name_X' : 'integration',\n",
    "        'ms_name_X' : 'forecasting_Hs2SwineFarmWithWeatherTime_cleanLevel4_testX',\n",
    "        'bk_name_y' : 'integration',\n",
    "        'ms_name_y' : 'forecasting_Hs2SwineFarmWithWeatherTime_cleanLevel4_testy',\n",
    "        'model_name' : 'Forecasting_API_TEST'\n",
    "    }\n",
    "    \n",
    "elif model_mode == \"classification\":\n",
    "    params={\n",
    "        'bk_name_X' : 'integration',\n",
    "        'ms_name_X' : 'classification_actionPattern_cleanLevel0_testX',\n",
    "        'bk_name_y' : 'integration',\n",
    "        'ms_name_y' : 'classification_actionPattern_cleanLevel0_testy',\n",
    "        'model_name' : 'Classification_API_TEST'\n",
    "    }"
   ]
  },
  {
   "cell_type": "code",
   "execution_count": 23,
   "id": "85d5f290",
   "metadata": {},
   "outputs": [],
   "source": [
    "model_name = params['model_name']\n",
    "model_meta = mongodb_client.get_document_by_json('model', 'meta', {'modelName':model_name})[0]"
   ]
  },
  {
   "cell_type": "code",
   "execution_count": 30,
   "id": "26cf4052",
   "metadata": {},
   "outputs": [
    {
     "data": {
      "text/plain": [
       "{'trainDataInfo': {'bucket_name': 'integration',\n",
       "  'collection_name': 'regression_energy',\n",
       "  'ms_name': 'regression_energy_cleanLevel0_trainX',\n",
       "  'ingestion_type': 'multiple_ms_by_time',\n",
       "  'ingestion_param': {'ms_list_info': [['life_indoor_environment',\n",
       "     'humidityTrain_10min'],\n",
       "    ['life_indoor_environment', 'temperatureTrain_10min'],\n",
       "    ['weather_outdoor_environment', 'belgiumChieverseAirportTrain_10min']],\n",
       "   'start_time': '2016-01-11',\n",
       "   'end_time': '2016-04-15'},\n",
       "  'processing_type': 'step_3',\n",
       "  'process_param': {'refine_param': {'remove_duplication': {'flag': False},\n",
       "    'static_frequency': {'flag': False, 'frequency': None}},\n",
       "   'outlier_param': {'certain_error_to_NaN': {'flag': False},\n",
       "    'uncertain_error_to_NaN': {'flag': False}},\n",
       "   'imputation_param': {'flag': False}},\n",
       "  'integration_param': {'integration_frequency': 600,\n",
       "   'param': {},\n",
       "   'method': 'meta',\n",
       "   'integration_duration': 'common'},\n",
       "  'clean_level': 0},\n",
       " 'dataSplitMode': 'windows_split',\n",
       " 'featureList': ['Press_mm_hg',\n",
       "  'RH_1',\n",
       "  'RH_2',\n",
       "  'RH_3',\n",
       "  'RH_4',\n",
       "  'RH_5',\n",
       "  'RH_6',\n",
       "  'RH_7',\n",
       "  'RH_8',\n",
       "  'RH_9',\n",
       "  'RH_out',\n",
       "  'T1',\n",
       "  'T2',\n",
       "  'T3',\n",
       "  'T4',\n",
       "  'T5',\n",
       "  'T6',\n",
       "  'T7',\n",
       "  'T8',\n",
       "  'T9',\n",
       "  'T_out',\n",
       "  'Tdewpoint',\n",
       "  'Visibility',\n",
       "  'Windspeed'],\n",
       " 'target': ['value'],\n",
       " 'data_y_flag': True,\n",
       " 'data_clean_option': False,\n",
       " 'transformParameter': {'past_step': 144, 'max_nan_limit_ratio': 0.5},\n",
       " 'scalerParam': 'scale',\n",
       " 'trainDataName': ['regression_energy_cleanLevel0_trainX',\n",
       "  'regression_energy_cleanLevel0_trainy'],\n",
       " 'files': {'modelFile': {'fileName': 'model.pth',\n",
       "   'filePath': './Models/LSTM_rg/Regression_API_TEST/regression_energy_cleanLevel0_trainX/d531eec11664669cff1f6a3ad9639012/model.pkl'},\n",
       "  'XScalerFile': {'fileName': 'scaler.pkl',\n",
       "   'filePath': './scaler/regression_energy_cleanLevel0_trainX/minmax/900878d7bba6f2a4017d1c3399909ea7/scaler.pkl'},\n",
       "  'yScalerFile': {'fileName': 'scaler.pkl',\n",
       "   'filePath': './scaler/regression_energy_cleanLevel0_trainy/minmax/f69156750a210491ffd4a67b605bc88b/scaler.pkl'}},\n",
       " 'modelName': 'Regression_API_TEST',\n",
       " 'modelPurpose': 'Regression',\n",
       " 'modelMethod': 'LSTM_rg',\n",
       " 'modelTags': 'tagstest',\n",
       " 'trainParameter': {'lr': 0.0001,\n",
       "  'weight_decay': 1e-06,\n",
       "  'device': 'cpu',\n",
       "  'n_epochs': 10,\n",
       "  'batch_size': 16},\n",
       " 'modelParameter': {'rnn_type': 'lstm',\n",
       "  'input_size': 24,\n",
       "  'hidden_size': 64,\n",
       "  'num_layers': 2,\n",
       "  'output_dim': 1,\n",
       "  'dropout': 0.1,\n",
       "  'bidirectional': False}}"
      ]
     },
     "execution_count": 30,
     "metadata": {},
     "output_type": "execute_result"
    }
   ],
   "source": [
    "model_meta"
   ]
  },
  {
   "cell_type": "code",
   "execution_count": 27,
   "id": "cbe05687",
   "metadata": {},
   "outputs": [
    {
     "name": "stdout",
     "output_type": "stream",
     "text": [
      "cpu is available.\n"
     ]
    }
   ],
   "source": [
    "from KETIAppDataServer2.model import dbModel\n",
    "dbModel.DB_init()\n",
    "from KETIAppDataServer2.API.machine_learning.model_test import set_test_model_data, test"
   ]
  },
  {
   "cell_type": "code",
   "execution_count": 28,
   "id": "ed4dbe2b",
   "metadata": {},
   "outputs": [
    {
     "ename": "KeyError",
     "evalue": "'featureXList'",
     "output_type": "error",
     "traceback": [
      "\u001b[0;31m---------------------------------------------------------------------------\u001b[0m",
      "\u001b[0;31mKeyError\u001b[0m                                  Traceback (most recent call last)",
      "Cell \u001b[0;32mIn[28], line 1\u001b[0m\n\u001b[0;32m----> 1\u001b[0m test_X_array, test_y_array, data_y_flag_dict \u001b[38;5;241m=\u001b[39m \u001b[43mset_test_model_data\u001b[49m\u001b[43m(\u001b[49m\u001b[43mparams\u001b[49m\u001b[43m,\u001b[49m\u001b[43m \u001b[49m\u001b[43mmodel_meta\u001b[49m\u001b[43m)\u001b[49m\n\u001b[1;32m      2\u001b[0m result \u001b[38;5;241m=\u001b[39m test(model_meta, test_X_array, test_y_array, data_y_flag_dict)\n",
      "File \u001b[0;32m~/CLUST_KETI/KETIAppTestCode/JHTest/API_TEST/../../../KETIAppDataServer2/API/machine_learning/model_test.py:59\u001b[0m, in \u001b[0;36mset_test_model_data\u001b[0;34m(params, model_meta)\u001b[0m\n\u001b[1;32m     57\u001b[0m scaler_param\u001b[38;5;241m=\u001b[39m model_meta[\u001b[38;5;124m'\u001b[39m\u001b[38;5;124mscalerParam\u001b[39m\u001b[38;5;124m'\u001b[39m]\n\u001b[1;32m     58\u001b[0m data_y_flag \u001b[38;5;241m=\u001b[39m model_meta[\u001b[38;5;124m'\u001b[39m\u001b[38;5;124mdata_y_flag\u001b[39m\u001b[38;5;124m'\u001b[39m]\n\u001b[0;32m---> 59\u001b[0m feature_X_list \u001b[38;5;241m=\u001b[39m \u001b[43mmodel_meta\u001b[49m\u001b[43m[\u001b[49m\u001b[38;5;124;43m'\u001b[39;49m\u001b[38;5;124;43mfeatureXList\u001b[39;49m\u001b[38;5;124;43m'\u001b[39;49m\u001b[43m]\u001b[49m\n\u001b[1;32m     60\u001b[0m feature_y_list \u001b[38;5;241m=\u001b[39m model_meta[\u001b[38;5;124m\"\u001b[39m\u001b[38;5;124mfeatureyList\u001b[39m\u001b[38;5;124m\"\u001b[39m]\n\u001b[1;32m     63\u001b[0m \u001b[38;5;66;03m# Data Ingestion\u001b[39;00m\n",
      "\u001b[0;31mKeyError\u001b[0m: 'featureXList'"
     ]
    }
   ],
   "source": [
    "test_X_array, test_y_array, data_y_flag_dict = set_test_model_data(params, model_meta)\n",
    "result = test(model_meta, test_X_array, test_y_array, data_y_flag_dict)"
   ]
  },
  {
   "cell_type": "code",
   "execution_count": 29,
   "id": "838c82a4",
   "metadata": {},
   "outputs": [
    {
     "ename": "NameError",
     "evalue": "name 'result' is not defined",
     "output_type": "error",
     "traceback": [
      "\u001b[0;31m---------------------------------------------------------------------------\u001b[0m",
      "\u001b[0;31mNameError\u001b[0m                                 Traceback (most recent call last)",
      "Cell \u001b[0;32mIn[29], line 1\u001b[0m\n\u001b[0;32m----> 1\u001b[0m \u001b[43mresult\u001b[49m\n",
      "\u001b[0;31mNameError\u001b[0m: name 'result' is not defined"
     ]
    }
   ],
   "source": [
    "result"
   ]
  },
  {
   "cell_type": "code",
   "execution_count": null,
   "id": "9aa09038",
   "metadata": {},
   "outputs": [],
   "source": []
  },
  {
   "cell_type": "code",
   "execution_count": null,
   "id": "e0da21f1",
   "metadata": {},
   "outputs": [],
   "source": []
  },
  {
   "cell_type": "code",
   "execution_count": null,
   "id": "4b1b0386",
   "metadata": {},
   "outputs": [],
   "source": []
  },
  {
   "cell_type": "code",
   "execution_count": null,
   "id": "2ee8c903",
   "metadata": {},
   "outputs": [],
   "source": []
  },
  {
   "cell_type": "code",
   "execution_count": null,
   "id": "94d88f0f",
   "metadata": {},
   "outputs": [],
   "source": []
  },
  {
   "cell_type": "code",
   "execution_count": null,
   "id": "104484c5",
   "metadata": {},
   "outputs": [],
   "source": []
  },
  {
   "cell_type": "code",
   "execution_count": null,
   "id": "cc9a81ca",
   "metadata": {},
   "outputs": [],
   "source": []
  }
 ],
 "metadata": {
  "kernelspec": {
   "display_name": "clust",
   "language": "python",
   "name": "clust"
  },
  "language_info": {
   "codemirror_mode": {
    "name": "ipython",
    "version": 3
   },
   "file_extension": ".py",
   "mimetype": "text/x-python",
   "name": "python",
   "nbconvert_exporter": "python",
   "pygments_lexer": "ipython3",
   "version": "3.8.16"
  }
 },
 "nbformat": 4,
 "nbformat_minor": 5
}
