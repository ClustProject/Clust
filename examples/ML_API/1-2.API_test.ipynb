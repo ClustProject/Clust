{
 "cells": [
  {
   "attachments": {},
   "cell_type": "markdown",
   "id": "ae620b97",
   "metadata": {},
   "source": [
    "# Setting"
   ]
  },
  {
   "cell_type": "code",
   "execution_count": 1,
   "id": "15c67efd",
   "metadata": {},
   "outputs": [
    {
     "name": "stderr",
     "output_type": "stream",
     "text": [
      "/Users/kim-youngkee/Documents/CLUSTER/.clust/lib/python3.9/site-packages/tqdm/auto.py:22: TqdmWarning: IProgress not found. Please update jupyter and ipywidgets. See https://ipywidgets.readthedocs.io/en/stable/user_install.html\n",
      "  from .autonotebook import tqdm as notebook_tqdm\n"
     ]
    },
    {
     "name": "stdout",
     "output_type": "stream",
     "text": [
      "cpu is available.\n"
     ]
    }
   ],
   "source": [
    "import sys, os\n",
    "import pandas as pd\n",
    "\n",
    "sys.path.append(\"../\")\n",
    "sys.path.append(\"../../\")\n",
    "sys.path.append(\"../../../\")\n",
    "sys.path.append(\"../../../../\")\n",
    "\n",
    "from Clust.setting import influx_setting_KETI as ins\n",
    "from Clust.clust.ingestion.influx import influx_client_v2 as iC\n",
    "from Clust.clust.ingestion.mongo import mongo_client\n",
    "from Clust.clust.ML.common import ML_api\n",
    "from Clust.clust.ML.tool import meta\n",
    "\n",
    "influxdb_client = iC.InfluxClient(ins.CLUSTDataServer2)\n",
    "mongodb_client = mongo_client.MongoClient(ins.CLUSTMetaInfo2)"
   ]
  },
  {
   "attachments": {},
   "cell_type": "markdown",
   "id": "5eda2ef1",
   "metadata": {},
   "source": [
    "# 1. set param from Front End"
   ]
  },
  {
   "cell_type": "code",
   "execution_count": 2,
   "id": "6e2c9f28",
   "metadata": {},
   "outputs": [],
   "source": [
    "# feature list와 data_y_flag는 model_info에서 받아와야 합니다.\n",
    "# regression\n",
    "params1 = {\n",
    "    \"ingestion_param_X\" :{\n",
    "        \"bucket_name\": 'integration',\n",
    "        \"ms_name\" : 'regression_energy_cleanLevel4_testX',\n",
    "        \"feature_list\": \"None\"\n",
    "    },\n",
    "    \"ingestion_param_y\":{\n",
    "        \"bucket_name\": 'integration',\n",
    "        \"ms_name\" : 'regression_energy_cleanLevel4_testy',\n",
    "        \"feature_list\": \"None\"\n",
    "    },\n",
    "    'data_y_flag' : \"None\",\n",
    "    'model_name':'regression_energy_cleanLevel4_trainX_regression_CNN_1D_rg_'\n",
    "}\n",
    "\n",
    "# forecasting\n",
    "params2 = {\n",
    "    \"ingestion_param_X\" :{\n",
    "        \"bucket_name\": 'integration',\n",
    "        \"ms_name\" : 'forecasting_Hs2SwineFarmWithWeatherTime_cleanLevel4_testX',\n",
    "        \"feature_list\": \"None\"\n",
    "    },\n",
    "    \"ingestion_param_y\":{\n",
    "        \"bucket_name\": 'integration',\n",
    "        \"ms_name\" : 'forecasting_Hs2SwineFarmWithWeatherTime_cleanLevel4_testX',\n",
    "        \"feature_list\": \"None\"\n",
    "    },\n",
    "    'data_y_flag' : \"None\",\n",
    "    'model_name':'forecasting_Hs2SwineFarmWithWeatherTime_cleanLevel4_trainX_regression_LSTM_FCNs_rg_'\n",
    "}\n",
    "\n",
    "# classification\n",
    "params3 = {\n",
    "    \"ingestion_param_X\" :{\n",
    "        \"bucket_name\": 'integration',\n",
    "        \"ms_name\" : 'classification_actionPattern_cleanLevel0_testX',\n",
    "        \"feature_list\": \"None\"\n",
    "    },\n",
    "    \"ingestion_param_y\":{\n",
    "        \"bucket_name\": 'integration',\n",
    "        \"ms_name\" : 'classification_actionPattern_cleanLevel0_testy',\n",
    "        \"feature_list\": \"None\"\n",
    "    },\n",
    "    'data_y_flag' : \"None\",\n",
    "    'model_name':'classification_actionPattern_cleanLevel0_trainX_classification_GRU_cf_'\n",
    "}"
   ]
  },
  {
   "attachments": {},
   "cell_type": "markdown",
   "id": "0ca05d98",
   "metadata": {},
   "source": [
    "# 2. Backend"
   ]
  },
  {
   "cell_type": "code",
   "execution_count": 3,
   "id": "b33bd1c1",
   "metadata": {},
   "outputs": [],
   "source": [
    "# 1. Backend Parameter Setting\n",
    "params = params3\n",
    "\n",
    "# chage tpye string to bool -> ex) 'true' -> True\n",
    "params = ML_api.chagne_type_str_to_bool(params)"
   ]
  },
  {
   "cell_type": "code",
   "execution_count": 4,
   "id": "a4ba81b2",
   "metadata": {},
   "outputs": [],
   "source": [
    "# 2. get model meta\n",
    "model_name = params['model_name']\n",
    "meta_file_name = \"./meta.json\"\n",
    "# for testing mongodb model\n",
    "# model_meta = meta.read_model_meta_from_mongodb(mongodb_client, 'model', 'meta', model_name)\n",
    "# for testing local model\n",
    "model_meta = meta.read_model_meta_from_local(meta_file_name, model_name)\n",
    "\n",
    "# data parameters from model meta\n",
    "params['ingestion_param_X']['feature_list'] = model_meta['ingestion_param_X']['feature_list']\n",
    "params['ingestion_param_y']['feature_list'] = model_meta['ingestion_param_y']['feature_list']\n",
    "params['data_y_flag'] = model_meta['data_y_flag']\n",
    "\n",
    "# scaler/transform info for test data preparation\n",
    "params['scaler_param'] = model_meta['scaler_param']\n",
    "params['transform_param'] = model_meta['transform_param']\n",
    "\n",
    "# model info for ML test\n",
    "params['model_info'] = model_meta['model_info']"
   ]
  },
  {
   "cell_type": "code",
   "execution_count": 5,
   "id": "96c73a49",
   "metadata": {},
   "outputs": [
    {
     "name": "stdout",
     "output_type": "stream",
     "text": [
      "{'bucket_name': 'integration', 'ms_name': 'classification_actionPattern_cleanLevel0_testX', 'feature_list': ['col_0', 'col_1', 'col_2', 'col_3', 'col_4', 'col_5', 'col_6', 'col_7', 'col_8']}\n"
     ]
    },
    {
     "name": "stdout",
     "output_type": "stream",
     "text": [
      "window_size: 128 nan_limit_num: 64\n",
      "(177280, 9) (1385, 128, 9)\n",
      "(1385, 1) (1385, 1)\n"
     ]
    }
   ],
   "source": [
    "# 3. Data Preparation\n",
    "# make test data, scaler\n",
    "test_X_array, test_y_array, scaler_X, scaler_y = ML_api.test_data_preparation(params, influxdb_client)"
   ]
  },
  {
   "cell_type": "code",
   "execution_count": 6,
   "id": "0a9794e8",
   "metadata": {},
   "outputs": [],
   "source": [
    "# set scaler by data y flag\n",
    "if params['data_y_flag']:\n",
    "    scaler = scaler_y\n",
    "else:\n",
    "    scaler = scaler_X"
   ]
  },
  {
   "cell_type": "code",
   "execution_count": 7,
   "id": "0135da77",
   "metadata": {},
   "outputs": [
    {
     "name": "stdout",
     "output_type": "stream",
     "text": [
      "\n",
      "Start testing data\n",
      "\n",
      "** Performance of test dataset ==> PROB = [[9.5881861e-01 3.7298299e-02 1.3582031e-03 7.3410250e-04 1.1519705e-03\n",
      "  6.3885981e-04]\n",
      " [7.8188270e-02 9.1924471e-01 7.1088778e-04 6.1114767e-04 7.3118613e-04\n",
      "  5.1399641e-04]\n",
      " [9.5760530e-01 3.8397454e-02 1.4091459e-03 7.2831695e-04 1.1949097e-03\n",
      "  6.6496589e-04]\n",
      " ...\n",
      " [9.5836687e-01 3.7675600e-02 1.3996233e-03 7.4431504e-04 1.1599541e-03\n",
      "  6.5373356e-04]\n",
      " [9.5684290e-01 3.9098322e-02 1.4407958e-03 7.4634532e-04 1.2110701e-03\n",
      "  6.6071784e-04]\n",
      " [9.6168762e-01 3.4093320e-02 1.6109215e-03 7.3177973e-04 1.2705321e-03\n",
      "  6.0581567e-04]], ACC = 11.681686046511627\n",
      "** Dimension of result for test dataset = (1376,)\n",
      "scale\n",
      "=========================data\n",
      "      value  prediction\n",
      "0       0.0         0.0\n",
      "1       5.0         5.0\n",
      "2       0.0         0.0\n",
      "3       0.0         0.0\n",
      "4       0.0         0.0\n",
      "...     ...         ...\n",
      "1371    0.0         0.0\n",
      "1372    0.0         0.0\n",
      "1373    0.0         0.0\n",
      "1374    0.0         0.0\n",
      "1375    0.0         0.0\n",
      "\n",
      "[1376 rows x 2 columns]\n"
     ]
    }
   ],
   "source": [
    "# model test\n",
    "result = ML_api.ML_test(params, test_X_array, test_y_array, scaler)"
   ]
  },
  {
   "cell_type": "code",
   "execution_count": 8,
   "id": "838c82a4",
   "metadata": {},
   "outputs": [
    {
     "data": {
      "text/plain": [
       "{'0': {'precision': 1.0, 'recall': 1.0, 'f1-score': 1.0, 'support': 1139},\n",
       " '1': {'precision': 1.0, 'recall': 1.0, 'f1-score': 1.0, 'support': 237},\n",
       " 'accuracy': 1.0,\n",
       " 'macro avg': {'precision': 1.0,\n",
       "  'recall': 1.0,\n",
       "  'f1-score': 1.0,\n",
       "  'support': 1376},\n",
       " 'weighted avg': {'precision': 1.0,\n",
       "  'recall': 1.0,\n",
       "  'f1-score': 1.0,\n",
       "  'support': 1376}}"
      ]
     },
     "execution_count": 8,
     "metadata": {},
     "output_type": "execute_result"
    }
   ],
   "source": [
    "result['result_metrics']"
   ]
  },
  {
   "cell_type": "code",
   "execution_count": 9,
   "id": "9aa09038",
   "metadata": {},
   "outputs": [
    {
     "data": {
      "text/plain": [
       "{'model_purpose': 'classification',\n",
       " 'model_method': 'LSTM_FCNs_cf',\n",
       " 'model_name': 'classification_actionPattern_cleanLevel0_trainX_classification_LSTM_FCNs_cf_',\n",
       " 'model_tags': 'tagstest',\n",
       " 'train_parameter': {'lr': 0.0001,\n",
       "  'weight_decay': 1e-06,\n",
       "  'n_epochs': 5,\n",
       "  'batch_size': 16,\n",
       "  'device': 'cpu'},\n",
       " 'model_parameter': {'input_size': 9,\n",
       "  'seq_len': 128,\n",
       "  'num_classes': 6,\n",
       "  'num_layers': 2,\n",
       "  'lstm_dropout': 0.4,\n",
       "  'fc_dropout': 0.1},\n",
       " 'seq_len': 128,\n",
       " 'input_size': 9,\n",
       " 'model_file_path': {'modelFile': {'fileName': 'model.pth',\n",
       "   'filePath': './Models/LSTM_FCNs_cf/classification_actionPattern_cleanLevel0_trainX_classification_LSTM_FCNs_cf_/classification_actionPattern_cleanLevel0_trainX/model.pkl'}}}"
      ]
     },
     "execution_count": 9,
     "metadata": {},
     "output_type": "execute_result"
    }
   ],
   "source": [
    "model_meta['model_info']"
   ]
  },
  {
   "cell_type": "code",
   "execution_count": null,
   "id": "0ca2e085",
   "metadata": {},
   "outputs": [],
   "source": []
  },
  {
   "cell_type": "code",
   "execution_count": null,
   "id": "531b8e0d",
   "metadata": {},
   "outputs": [],
   "source": []
  },
  {
   "cell_type": "code",
   "execution_count": null,
   "id": "1509e356",
   "metadata": {},
   "outputs": [],
   "source": []
  }
 ],
 "metadata": {
  "kernelspec": {
   "display_name": "Python 3 (ipykernel)",
   "language": "python",
   "name": "python3"
  },
  "language_info": {
   "codemirror_mode": {
    "name": "ipython",
    "version": 3
   },
   "file_extension": ".py",
   "mimetype": "text/x-python",
   "name": "python",
   "nbconvert_exporter": "python",
   "pygments_lexer": "ipython3",
   "version": "3.9.6"
  }
 },
 "nbformat": 4,
 "nbformat_minor": 5
}
