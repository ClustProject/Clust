{
 "cells": [
  {
   "cell_type": "markdown",
   "id": "ae620b97",
   "metadata": {},
   "source": [
    "# Setting"
   ]
  },
  {
   "cell_type": "code",
   "execution_count": 10,
   "id": "15c67efd",
   "metadata": {},
   "outputs": [],
   "source": [
    "import sys, os\n",
    "import pandas as pd\n",
    "\n",
    "sys.path.append(\"../\")\n",
    "sys.path.append(\"../../\")\n",
    "sys.path.append(\"../../../\")\n",
    "sys.path.append(\"../../../../\")\n",
    "\n",
    "from Clust.setting import influx_setting_KETI as ins\n",
    "from Clust.clust.ingestion.influx import influx_client_v2 as iC\n",
    "from Clust.clust.ingestion.mongo import mongo_client\n",
    "\n",
    "influxdb_client = iC.InfluxClient(ins.CLUSTDataServer2)\n",
    "mongodb_client = mongo_client.MongoClient(ins.CLUSTMetaInfo2)"
   ]
  },
  {
   "cell_type": "code",
   "execution_count": 2,
   "id": "0a73af71",
   "metadata": {},
   "outputs": [],
   "source": [
    " # regression_1 --> regression\n",
    "# regression_2 --> forecasting\n",
    "# classification\n",
    "model_mode = \"regression_1\""
   ]
  },
  {
   "cell_type": "code",
   "execution_count": null,
   "id": "6e2c9f28",
   "metadata": {},
   "outputs": [],
   "source": []
  },
  {
   "cell_type": "code",
   "execution_count": 3,
   "id": "f84c8f59",
   "metadata": {},
   "outputs": [],
   "source": [
    "if model_mode == \"regression_1\":\n",
    "    params={\n",
    "        'bk_name_X' : 'integration',\n",
    "        'ms_name_X' : 'regression_energy_cleanLevel0_testX',\n",
    "        'bk_name_y' : 'integration',\n",
    "        'ms_name_y' : 'regression_energy_cleanLevel0_testy',\n",
    "        'model_name' : 'api_test_regression_version'\n",
    "    }\n",
    "    \n",
    "elif model_mode == \"regression_2\":\n",
    "    params={\n",
    "        'bk_name_X' : 'integration',\n",
    "        'ms_name_X' : 'forecasting_Hs2SwineFarmWithWeatherTime_cleanLevel4_testX',\n",
    "        'bk_name_y' : 'integration',\n",
    "        'ms_name_y' : 'forecasting_Hs2SwineFarmWithWeatherTime_cleanLevel4_testy',\n",
    "        'model_name' : 'Forecasting_API_TEST'\n",
    "    }\n",
    "    \n",
    "elif model_mode == \"classification\":\n",
    "    params={\n",
    "        'bk_name_X' : 'integration',\n",
    "        'ms_name_X' : 'classification_actionPattern_cleanLevel0_testX',\n",
    "        'bk_name_y' : 'integration',\n",
    "        'ms_name_y' : 'classification_actionPattern_cleanLevel0_testy',\n",
    "        'model_name' : 'Classification_API_TEST'\n",
    "    }"
   ]
  },
  {
   "cell_type": "code",
   "execution_count": 4,
   "id": "cbe05687",
   "metadata": {},
   "outputs": [
    {
     "name": "stdout",
     "output_type": "stream",
     "text": [
      "cpu is available.\n",
      "cpu is available.\n"
     ]
    }
   ],
   "source": [
    "from KETIAppDataServer2.model import dbModel\n",
    "dbModel.DB_init()\n",
    "from KETIAppDataServer2.API.machine_learning.model_test import set_test_model_data, test"
   ]
  },
  {
   "cell_type": "code",
   "execution_count": 7,
   "id": "ed4dbe2b",
   "metadata": {},
   "outputs": [
    {
     "name": "stdout",
     "output_type": "stream",
     "text": [
      "window_size: 144 nan_limit_num: 72\n",
      "(6048, 24) (42, 144, 24)\n",
      "(42, 1) (42, 1)\n",
      "features shape: torch.Size([42, 144, 24]) targets shape:  torch.Size([42, 1])\n",
      "\n",
      "Start testing data\n",
      "\n",
      "scale\n"
     ]
    }
   ],
   "source": [
    "model_name = params['model_name']\n",
    "model_meta = mongodb_client.get_document_by_json('model', 'meta', {'model_name':model_name})[0]\n",
    "\n",
    "test_X_array, test_y_array, data_y_flag_dict = set_test_model_data(params, model_meta)\n",
    "result = test(model_meta, test_X_array, test_y_array, data_y_flag_dict)"
   ]
  },
  {
   "cell_type": "code",
   "execution_count": 8,
   "id": "838c82a4",
   "metadata": {},
   "outputs": [
    {
     "data": {
      "text/plain": [
       "{'df_result':         value  prediction\n",
       " 0   17.370001   11.216657\n",
       " 1   20.650000   10.939581\n",
       " 2   11.420000   10.610282\n",
       " 3   10.680000   11.173996\n",
       " 4   12.439999   11.191633\n",
       " 5   11.170000   10.789253\n",
       " 6   24.120001   11.282571\n",
       " 7   10.990000   11.263301\n",
       " 8   13.760000   10.808142\n",
       " 9   14.560000   10.884521\n",
       " 10  14.970000   10.995320\n",
       " 11  13.429999   11.031756\n",
       " 12  11.570000   11.099377\n",
       " 13   9.330000   11.694963\n",
       " 14  15.580000   11.161883\n",
       " 15  20.929998   10.955645\n",
       " 16  11.990000   10.927114\n",
       " 17  15.370000   11.220899\n",
       " 18  10.470000   11.037809\n",
       " 19  14.410000   11.135871\n",
       " 20  10.160000   10.969357\n",
       " 21  15.120000   10.898239\n",
       " 22  12.320000   11.091141\n",
       " 23  10.460000   10.624331\n",
       " 24  15.060000   10.454977\n",
       " 25   9.680000   10.682210\n",
       " 26  10.690000   11.198977\n",
       " 27  17.799997   11.188442\n",
       " 28  10.690000   11.266307\n",
       " 29  17.059998   11.041487\n",
       " 30  20.879999   11.135978\n",
       " 31  10.890000   11.033864,\n",
       " 'result_metrics': {'mae': 3.3382607,\n",
       "  'rmse': 4.72802066221418,\n",
       "  'r2': -0.599107603790735,\n",
       "  'mape': 20.0869619846344}}"
      ]
     },
     "execution_count": 8,
     "metadata": {},
     "output_type": "execute_result"
    }
   ],
   "source": [
    "result"
   ]
  },
  {
   "cell_type": "code",
   "execution_count": null,
   "id": "9aa09038",
   "metadata": {},
   "outputs": [],
   "source": []
  },
  {
   "cell_type": "code",
   "execution_count": null,
   "id": "e0da21f1",
   "metadata": {},
   "outputs": [],
   "source": []
  },
  {
   "cell_type": "code",
   "execution_count": null,
   "id": "4b1b0386",
   "metadata": {},
   "outputs": [],
   "source": []
  },
  {
   "cell_type": "code",
   "execution_count": null,
   "id": "2ee8c903",
   "metadata": {},
   "outputs": [],
   "source": []
  },
  {
   "cell_type": "code",
   "execution_count": null,
   "id": "94d88f0f",
   "metadata": {},
   "outputs": [],
   "source": []
  },
  {
   "cell_type": "code",
   "execution_count": null,
   "id": "104484c5",
   "metadata": {},
   "outputs": [],
   "source": []
  },
  {
   "cell_type": "code",
   "execution_count": null,
   "id": "cc9a81ca",
   "metadata": {},
   "outputs": [],
   "source": []
  }
 ],
 "metadata": {
  "kernelspec": {
   "display_name": "clust",
   "language": "python",
   "name": "clust"
  },
  "language_info": {
   "codemirror_mode": {
    "name": "ipython",
    "version": 3
   },
   "file_extension": ".py",
   "mimetype": "text/x-python",
   "name": "python",
   "nbconvert_exporter": "python",
   "pygments_lexer": "ipython3",
   "version": "3.8.16"
  }
 },
 "nbformat": 4,
 "nbformat_minor": 5
}
