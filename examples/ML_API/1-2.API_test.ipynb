{
 "cells": [
  {
   "attachments": {},
   "cell_type": "markdown",
   "id": "ae620b97",
   "metadata": {},
   "source": [
    "# Setting"
   ]
  },
  {
   "cell_type": "code",
   "execution_count": 1,
   "id": "15c67efd",
   "metadata": {},
   "outputs": [
    {
     "name": "stderr",
     "output_type": "stream",
     "text": [
      "/Users/kim-youngkee/Documents/CLUSTER/.clust/lib/python3.9/site-packages/tqdm/auto.py:22: TqdmWarning: IProgress not found. Please update jupyter and ipywidgets. See https://ipywidgets.readthedocs.io/en/stable/user_install.html\n",
      "  from .autonotebook import tqdm as notebook_tqdm\n"
     ]
    },
    {
     "name": "stdout",
     "output_type": "stream",
     "text": [
      "cpu is available.\n"
     ]
    }
   ],
   "source": [
    "import sys, os\n",
    "import pandas as pd\n",
    "\n",
    "sys.path.append(\"../\")\n",
    "sys.path.append(\"../../\")\n",
    "sys.path.append(\"../../../\")\n",
    "sys.path.append(\"../../../../\")\n",
    "\n",
    "from Clust.setting import influx_setting_KETI as ins\n",
    "from Clust.clust.ingestion.influx import influx_client_v2 as iC\n",
    "from Clust.clust.ingestion.mongo import mongo_client\n",
    "from Clust.clust.ML.common import ML_api\n",
    "from Clust.clust.ML.tool import meta\n",
    "\n",
    "influxdb_client = iC.InfluxClient(ins.CLUSTDataServer2)\n",
    "mongodb_client = mongo_client.MongoClient(ins.CLUSTMetaInfo2)"
   ]
  },
  {
   "attachments": {},
   "cell_type": "markdown",
   "id": "5eda2ef1",
   "metadata": {},
   "source": [
    "# 1. set param from Front End"
   ]
  },
  {
   "cell_type": "code",
   "execution_count": 2,
   "id": "6e2c9f28",
   "metadata": {},
   "outputs": [],
   "source": [
    "# feature list와 data_y_flag는 model_info에서 받아와야 합니다.\n",
    "# regression\n",
    "params1 = {\n",
    "    \"ingestion_param_X\" :{\n",
    "        \"bucket_name\": 'integration',\n",
    "        \"ms_name\" : 'regression_energy_cleanLevel4_testX',\n",
    "        \"feature_list\": \"None\"\n",
    "    },\n",
    "    \"ingestion_param_y\":{\n",
    "        \"bucket_name\": 'integration',\n",
    "        \"ms_name\" : 'regression_energy_cleanLevel4_testy',\n",
    "        \"feature_list\": \"None\"\n",
    "    },\n",
    "    'data_y_flag' : \"None\",\n",
    "    'model_name':'regression_energy_cleanLevel4_trainX_regression_GRU_rg_'\n",
    "}\n",
    "\n",
    "# forecasting\n",
    "params2 = {\n",
    "    \"ingestion_param_X\" :{\n",
    "        \"bucket_name\": 'integration',\n",
    "        \"ms_name\" : 'forecasting_Hs2SwineFarmWithWeatherTime_cleanLevel4_testX',\n",
    "        \"feature_list\": \"None\"\n",
    "    },\n",
    "    \"ingestion_param_y\":{\n",
    "        \"bucket_name\": 'integration',\n",
    "        \"ms_name\" : 'forecasting_Hs2SwineFarmWithWeatherTime_cleanLevel4_testX',\n",
    "        \"feature_list\": \"None\"\n",
    "    },\n",
    "    'data_y_flag' : \"None\",\n",
    "    'model_name':'forecasting_Hs2SwineFarmWithWeatherTime_cleanLevel4_trainX_regression_GRU_rg_'\n",
    "}\n",
    "\n",
    "# classification\n",
    "params3 = {\n",
    "    \"ingestion_param_X\" :{\n",
    "        \"bucket_name\": 'integration',\n",
    "        \"ms_name\" : 'classification_actionPattern_cleanLevel0_testX',\n",
    "        \"feature_list\": \"None\"\n",
    "    },\n",
    "    \"ingestion_param_y\":{\n",
    "        \"bucket_name\": 'integration',\n",
    "        \"ms_name\" : 'classification_actionPattern_cleanLevel0_testy',\n",
    "        \"feature_list\": \"None\"\n",
    "    },\n",
    "    'data_y_flag' : \"None\",\n",
    "    'model_name':'classification_actionPattern_cleanLevel0_trainX_classification_GRU_cf_'\n",
    "}"
   ]
  },
  {
   "attachments": {},
   "cell_type": "markdown",
   "id": "0ca05d98",
   "metadata": {},
   "source": [
    "# 2. Backend"
   ]
  },
  {
   "cell_type": "code",
   "execution_count": 3,
   "id": "b33bd1c1",
   "metadata": {},
   "outputs": [],
   "source": [
    "# 1. Backend Parameter Setting\n",
    "params = params3\n",
    "\n",
    "# chage tpye string to bool -> ex) 'true' -> True\n",
    "params = ML_api.chagne_type_str_to_bool(params)"
   ]
  },
  {
   "cell_type": "code",
   "execution_count": 4,
   "id": "a4ba81b2",
   "metadata": {},
   "outputs": [],
   "source": [
    "# 2. get model meta\n",
    "model_name = params['model_name']\n",
    "meta_file_name = \"./meta.json\"\n",
    "# for testing mongodb model\n",
    "# model_meta = meta.read_model_meta_from_mongodb(mongodb_client, 'model', 'meta', model_name)\n",
    "# for testing local model\n",
    "model_meta = meta.read_model_meta_from_local(meta_file_name, model_name)\n",
    "\n",
    "# data parameters from model meta\n",
    "params['ingestion_param_X']['feature_list'] = model_meta['ingestion_param_X']['feature_list']\n",
    "params['ingestion_param_y']['feature_list'] = model_meta['ingestion_param_y']['feature_list']\n",
    "params['data_y_flag'] = model_meta['data_y_flag']\n",
    "\n",
    "# scaler/transform info for test data preparation\n",
    "params['scaler_param'] = model_meta['scaler_param']\n",
    "params['transform_param'] = model_meta['transform_param']\n",
    "\n",
    "# model info for ML test\n",
    "params['model_info'] = model_meta['model_info']"
   ]
  },
  {
   "cell_type": "code",
   "execution_count": 5,
   "id": "96c73a49",
   "metadata": {},
   "outputs": [
    {
     "name": "stdout",
     "output_type": "stream",
     "text": [
      "{'bucket_name': 'integration', 'ms_name': 'classification_actionPattern_cleanLevel0_testX', 'feature_list': ['col_0', 'col_1', 'col_2', 'col_3', 'col_4', 'col_5', 'col_6', 'col_7', 'col_8']}\n"
     ]
    },
    {
     "name": "stdout",
     "output_type": "stream",
     "text": [
      "window_size: 128 nan_limit_num: 64\n",
      "(177280, 9) (1385, 128, 9)\n",
      "(1385, 1) (1385, 1)\n"
     ]
    }
   ],
   "source": [
    "# 3. Data Preparation\n",
    "# make test data, scaler\n",
    "test_X_array, test_y_array, scaler_X, scaler_y = ML_api.test_data_preparation(params, influxdb_client)"
   ]
  },
  {
   "cell_type": "code",
   "execution_count": 7,
   "id": "0a9794e8",
   "metadata": {},
   "outputs": [],
   "source": [
    "# set scaler by data y flag\n",
    "if params['data_y_flag']:\n",
    "    scaler = scaler_y\n",
    "else:\n",
    "    scaler = scaler_X"
   ]
  },
  {
   "cell_type": "code",
   "execution_count": 8,
   "id": "0135da77",
   "metadata": {},
   "outputs": [
    {
     "name": "stdout",
     "output_type": "stream",
     "text": [
      "\n",
      "Start testing data\n",
      "\n",
      "** Performance of test dataset ==> PROB = [[9.99998927e-01 5.15355687e-08 2.95214221e-07 3.03272031e-07\n",
      "  2.97835385e-07 2.96314568e-07]\n",
      " [9.99999523e-01 1.19106724e-08 1.45155113e-07 1.47288631e-07\n",
      "  1.40893377e-07 1.41825055e-07]\n",
      " [7.93707477e-06 9.99982238e-01 2.45680576e-06 2.36880351e-06\n",
      "  2.32258799e-06 2.58611658e-06]\n",
      " ...\n",
      " [9.99998450e-01 6.90028372e-08 3.23694451e-07 3.27218771e-07\n",
      "  3.13480911e-07 3.18369246e-07]\n",
      " [9.99999523e-01 1.11920722e-08 1.49558019e-07 1.53559895e-07\n",
      "  1.45239582e-07 1.45953834e-07]\n",
      " [3.23663861e-03 9.96522903e-01 6.04581874e-05 5.94143639e-05\n",
      "  5.80887536e-05 6.25389948e-05]], ACC = 0.9861918604651163\n",
      "** Dimension of result for test dataset = (1376,)\n",
      "scale\n",
      "=========================data\n",
      "      value  prediction\n",
      "0       0.0         0.0\n",
      "1       0.0         0.0\n",
      "2       5.0         5.0\n",
      "3       0.0         0.0\n",
      "4       0.0         0.0\n",
      "...     ...         ...\n",
      "1371    0.0         0.0\n",
      "1372    0.0         0.0\n",
      "1373    0.0         0.0\n",
      "1374    0.0         0.0\n",
      "1375    5.0         5.0\n",
      "\n",
      "[1376 rows x 2 columns]\n"
     ]
    }
   ],
   "source": [
    "# model test\n",
    "result = ML_api.ML_test(params, test_X_array, test_y_array, scaler)"
   ]
  },
  {
   "cell_type": "code",
   "execution_count": 9,
   "id": "838c82a4",
   "metadata": {},
   "outputs": [
    {
     "data": {
      "text/plain": [
       "{'0': {'precision': 0.9836206896551725,\n",
       "  'recall': 1.0,\n",
       "  'f1-score': 0.9917427205562799,\n",
       "  'support': 1141},\n",
       " '1': {'precision': 1.0,\n",
       "  'recall': 0.9191489361702128,\n",
       "  'f1-score': 0.9578713968957872,\n",
       "  'support': 235},\n",
       " 'accuracy': 0.9861918604651163,\n",
       " 'macro avg': {'precision': 0.9918103448275862,\n",
       "  'recall': 0.9595744680851064,\n",
       "  'f1-score': 0.9748070587260336,\n",
       "  'support': 1376},\n",
       " 'weighted avg': {'precision': 0.9864180282678429,\n",
       "  'recall': 0.9861918604651163,\n",
       "  'f1-score': 0.9859580104834486,\n",
       "  'support': 1376}}"
      ]
     },
     "execution_count": 9,
     "metadata": {},
     "output_type": "execute_result"
    }
   ],
   "source": [
    "result['result_metrics']"
   ]
  },
  {
   "cell_type": "code",
   "execution_count": 10,
   "id": "9aa09038",
   "metadata": {},
   "outputs": [
    {
     "data": {
      "text/plain": [
       "{'model_purpose': 'classification',\n",
       " 'model_method': 'GRU_cf',\n",
       " 'model_name': 'classification_actionPattern_cleanLevel0_trainX_classification_GRU_cf_',\n",
       " 'model_tags': 'tagstest',\n",
       " 'train_parameter': {'lr': 0.0001,\n",
       "  'weight_decay': 1e-06,\n",
       "  'n_epochs': 5,\n",
       "  'batch_size': 16,\n",
       "  'device': 'cpu'},\n",
       " 'model_parameter': {'input_size': 9,\n",
       "  'seq_len': 128,\n",
       "  'output_dim': 1,\n",
       "  'num_classes': 6,\n",
       "  'num_layers': 2,\n",
       "  'hidden_size': 64,\n",
       "  'dropout': 0.1,\n",
       "  'bidirectional': True,\n",
       "  'rnn_type': 'gru'},\n",
       " 'seq_len': 128,\n",
       " 'input_size': 9,\n",
       " 'model_file_path': {'modelFile': {'fileName': 'model.pth',\n",
       "   'filePath': './Models/GRU_cf/classification_actionPattern_cleanLevel0_trainX_classification_GRU_cf_/classification_actionPattern_cleanLevel0_trainX/model.pkl'}}}"
      ]
     },
     "execution_count": 10,
     "metadata": {},
     "output_type": "execute_result"
    }
   ],
   "source": [
    "model_meta['model_info']"
   ]
  },
  {
   "cell_type": "code",
   "execution_count": null,
   "id": "0ca2e085",
   "metadata": {},
   "outputs": [],
   "source": []
  },
  {
   "cell_type": "code",
   "execution_count": null,
   "id": "531b8e0d",
   "metadata": {},
   "outputs": [],
   "source": []
  },
  {
   "cell_type": "code",
   "execution_count": null,
   "id": "1509e356",
   "metadata": {},
   "outputs": [],
   "source": []
  }
 ],
 "metadata": {
  "kernelspec": {
   "display_name": "Python 3 (ipykernel)",
   "language": "python",
   "name": "python3"
  },
  "language_info": {
   "codemirror_mode": {
    "name": "ipython",
    "version": 3
   },
   "file_extension": ".py",
   "mimetype": "text/x-python",
   "name": "python",
   "nbconvert_exporter": "python",
   "pygments_lexer": "ipython3",
   "version": "3.9.6"
  }
 },
 "nbformat": 4,
 "nbformat_minor": 5
}
