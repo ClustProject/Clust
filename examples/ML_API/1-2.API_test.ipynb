{
 "cells": [
  {
   "cell_type": "markdown",
   "id": "ae620b97",
   "metadata": {},
   "source": [
    "# Setting"
   ]
  },
  {
   "cell_type": "code",
   "execution_count": 1,
   "id": "15c67efd",
   "metadata": {},
   "outputs": [],
   "source": [
    "import sys, os\n",
    "import pandas as pd\n",
    "\n",
    "sys.path.append(\"../\")\n",
    "sys.path.append(\"../../\")\n",
    "sys.path.append(\"../../../\")\n",
    "sys.path.append(\"../../../../\")\n",
    "\n",
    "from Clust.setting import influx_setting_KETI as ins\n",
    "from Clust.clust.ingestion.influx import influx_client_v2 as iC\n",
    "from Clust.clust.ingestion.mongo import mongo_client\n",
    "from Clust.clust.ML.common import ML_api\n",
    "\n",
    "db_client = iC.InfluxClient(ins.CLUSTDataServer2)\n",
    "mongodb_client = mongo_client.MongoClient(ins.CLUSTMetaInfo2)"
   ]
  },
  {
   "cell_type": "code",
   "execution_count": 2,
   "id": "6e2c9f28",
   "metadata": {},
   "outputs": [],
   "source": [
    "# regression\n",
    "param1 = {\n",
    "    \"ingestion_param_X\" :{\n",
    "        \"bucket_name\": 'integration',\n",
    "        \"ms_name\" : 'regression_energy_cleanLevel4_testX',\n",
    "        \"feature_list\":['Press_mm_hg', 'RH_1', 'RH_2', 'RH_3', 'RH_4', 'RH_5', 'RH_6', 'RH_7',\n",
    "       'RH_8', 'RH_9', 'RH_out', 'T1', 'T2', 'T3', 'T4', 'T5', 'T6', 'T7',\n",
    "       'T8', 'T9', 'T_out', 'Tdewpoint', 'Visibility', 'Windspeed']\n",
    "    },\n",
    "    \"ingestion_param_y\":{\n",
    "        \"bucket_name\": 'integration',\n",
    "        \"ms_name\" : 'regression_energy_cleanLevel4_testy',\n",
    "        \"feature_list\":[\"value\"]\n",
    "    },\n",
    "    'data_y_flag' : 'true',\n",
    "    'model_name':'regression_energy_cleanLevel4_trainX_regression_LSTM_rg_'\n",
    "}\n",
    "\n",
    "# forecasting\n",
    "param2 = {\n",
    "    \"ingestion_param_X\" :{\n",
    "        \"bucket_name\": 'integration',\n",
    "        \"ms_name\" : 'forecasting_Hs2SwineFarmWithWeatherTime_cleanLevel4_testX',\n",
    "        \"feature_list\":['Temperature', 'out_temp','sin_hour']\n",
    "    },\n",
    "    \"ingestion_param_y\":{\n",
    "        \"bucket_name\": 'integration',\n",
    "        \"ms_name\" : 'forecasting_Hs2SwineFarmWithWeatherTime_cleanLevel4_testy',\n",
    "        \"feature_list\":['Temperature']\n",
    "    },\n",
    "    'data_y_flag' : 'false',\n",
    "    'model_name':'regression_energy_cleanLevel4_trainX_regression_LSTM_rg_'\n",
    "}\n",
    "\n",
    "# classification\n",
    "param3 = {\n",
    "    \"ingestion_param_X\" :{\n",
    "        \"bucket_name\": 'integration',\n",
    "        \"ms_name\" : 'classification_actionPattern_cleanLevel0_testX',\n",
    "        \"feature_list\":['Temperature', 'out_temp','sin_hour']\n",
    "    },\n",
    "    \"ingestion_param_y\":{\n",
    "        \"bucket_name\": 'integration',\n",
    "        \"ms_name\" : 'classification_actionPattern_cleanLevel0_testy',\n",
    "        \"feature_list\":['Temperature']\n",
    "    },\n",
    "    'data_y_flag' : 'true',\n",
    "    'model_name':'regression_energy_cleanLevel4_trainX_regression_LSTM_rg_'\n",
    "}"
   ]
  },
  {
   "cell_type": "code",
   "execution_count": 3,
   "id": "b33bd1c1",
   "metadata": {},
   "outputs": [],
   "source": [
    "params = param1\n",
    "\n",
    "# chage tpye string to bool -> ex) 'true' -> True\n",
    "params = ML_api.chagne_type_str_to_bool(params)"
   ]
  },
  {
   "cell_type": "code",
   "execution_count": 4,
   "id": "a4ba81b2",
   "metadata": {},
   "outputs": [],
   "source": [
    "# get model meta\n",
    "model_name = params['model_name']\n",
    "model_meta = mongodb_client.get_document_by_json('model', 'meta',{'model_info.model_name':model_name} )\n",
    "model_meta = model_meta[0]"
   ]
  },
  {
   "cell_type": "code",
   "execution_count": 5,
   "id": "96c73a49",
   "metadata": {},
   "outputs": [
    {
     "name": "stdout",
     "output_type": "stream",
     "text": [
      "{'bucket_name': 'integration', 'ms_name': 'regression_energy_cleanLevel4_testX', 'feature_list': ['Press_mm_hg', 'RH_1', 'RH_2', 'RH_3', 'RH_4', 'RH_5', 'RH_6', 'RH_7', 'RH_8', 'RH_9', 'RH_out', 'T1', 'T2', 'T3', 'T4', 'T5', 'T6', 'T7', 'T8', 'T9', 'T_out', 'Tdewpoint', 'Visibility', 'Windspeed']}\n",
      "window_size: 144 nan_limit_num: 72\n",
      "(6048, 24) (42, 144, 24)\n",
      "(42, 1) (42, 1)\n"
     ]
    },
    {
     "name": "stderr",
     "output_type": "stream",
     "text": [
      "/home/leezy/anaconda3/envs/clust/lib/python3.8/site-packages/sklearn/base.py:299: UserWarning: Trying to unpickle estimator MinMaxScaler from version 1.2.2 when using version 1.2.1. This might lead to breaking code or invalid results. Use at your own risk. For more info please refer to:\n",
      "https://scikit-learn.org/stable/model_persistence.html#security-maintainability-limitations\n",
      "  warnings.warn(\n",
      "/home/leezy/anaconda3/envs/clust/lib/python3.8/site-packages/sklearn/base.py:299: UserWarning: Trying to unpickle estimator MinMaxScaler from version 1.2.2 when using version 1.2.1. This might lead to breaking code or invalid results. Use at your own risk. For more info please refer to:\n",
      "https://scikit-learn.org/stable/model_persistence.html#security-maintainability-limitations\n",
      "  warnings.warn(\n"
     ]
    }
   ],
   "source": [
    "# make test data, scaler\n",
    "test_X_array, test_y_array, scaler_X, scaler_y = ML_api.test_data_preparation(params, model_meta, db_client)"
   ]
  },
  {
   "cell_type": "code",
   "execution_count": 6,
   "id": "0a9794e8",
   "metadata": {},
   "outputs": [],
   "source": [
    "# set scaler, feature list by data y flag\n",
    "scaler_feature_dict = {}\n",
    "if model_meta['data_y_flag']:\n",
    "    scaler_feature_dict['scaler'] = scaler_y\n",
    "    scaler_feature_dict['feature_list'] = params['ingestion_param_y']['feature_list']\n",
    "    scaler_feature_dict['target'] = params['ingestion_param_y']['feature_list'][0]\n",
    "\n",
    "else:\n",
    "    scaler_feature_dict['scaler'] = scaler_X\n",
    "    scaler_feature_dict['feature_list'] = params['ingestion_param_X']['feature_list']\n",
    "    scaler_feature_dict['target'] = params['ingestion_param_y']['feature_list'][0]"
   ]
  },
  {
   "cell_type": "code",
   "execution_count": 7,
   "id": "0135da77",
   "metadata": {},
   "outputs": [
    {
     "name": "stdout",
     "output_type": "stream",
     "text": [
      "features shape: torch.Size([42, 144, 24]) targets shape:  torch.Size([42, 1])\n",
      "\n",
      "Start testing data\n",
      "\n"
     ]
    },
    {
     "ename": "KeyError",
     "evalue": "'scaler_param'",
     "output_type": "error",
     "traceback": [
      "\u001b[0;31m---------------------------------------------------------------------------\u001b[0m",
      "\u001b[0;31mKeyError\u001b[0m                                  Traceback (most recent call last)",
      "Cell \u001b[0;32mIn[7], line 2\u001b[0m\n\u001b[1;32m      1\u001b[0m \u001b[38;5;66;03m# model test\u001b[39;00m\n\u001b[0;32m----> 2\u001b[0m result \u001b[38;5;241m=\u001b[39m \u001b[43mML_api\u001b[49m\u001b[38;5;241;43m.\u001b[39;49m\u001b[43mML_test\u001b[49m\u001b[43m(\u001b[49m\u001b[43mmodel_meta\u001b[49m\u001b[43m[\u001b[49m\u001b[38;5;124;43m'\u001b[39;49m\u001b[38;5;124;43mmodel_info\u001b[39;49m\u001b[38;5;124;43m'\u001b[39;49m\u001b[43m]\u001b[49m\u001b[43m,\u001b[49m\u001b[43m \u001b[49m\u001b[43mtest_X_array\u001b[49m\u001b[43m,\u001b[49m\u001b[43m \u001b[49m\u001b[43mtest_y_array\u001b[49m\u001b[43m,\u001b[49m\u001b[43m \u001b[49m\u001b[43mscaler_feature_dict\u001b[49m\u001b[43m)\u001b[49m\n",
      "File \u001b[0;32m~/CLUST_KETI/Clust/examples/ML_API/../../../Clust/clust/ML/common/ML_api.py:166\u001b[0m, in \u001b[0;36mML_test\u001b[0;34m(model_meta, test_X_array, test_y_array, scaler_feature_dict)\u001b[0m\n\u001b[1;32m    164\u001b[0m \u001b[38;5;28;01mif\u001b[39;00m model_meta[\u001b[38;5;124m'\u001b[39m\u001b[38;5;124mmodel_purpose\u001b[39m\u001b[38;5;124m'\u001b[39m] \u001b[38;5;241m==\u001b[39m \u001b[38;5;124m'\u001b[39m\u001b[38;5;124mregression\u001b[39m\u001b[38;5;124m'\u001b[39m:\n\u001b[1;32m    165\u001b[0m     preds, trues \u001b[38;5;241m=\u001b[39m ML_pipeline\u001b[38;5;241m.\u001b[39mCLUST_regresstion_test(test_X_array, test_y_array, model_meta[\u001b[38;5;124m\"\u001b[39m\u001b[38;5;124mtrain_parameter\u001b[39m\u001b[38;5;124m\"\u001b[39m], model_meta[\u001b[38;5;124m'\u001b[39m\u001b[38;5;124mmodel_method\u001b[39m\u001b[38;5;124m'\u001b[39m], model_meta[\u001b[38;5;124m'\u001b[39m\u001b[38;5;124mmodel_file_path\u001b[39m\u001b[38;5;124m'\u001b[39m][\u001b[38;5;124m'\u001b[39m\u001b[38;5;124mmodelFile\u001b[39m\u001b[38;5;124m'\u001b[39m][\u001b[38;5;124m\"\u001b[39m\u001b[38;5;124mfilePath\u001b[39m\u001b[38;5;124m\"\u001b[39m], model_meta[\u001b[38;5;124m'\u001b[39m\u001b[38;5;124mmodel_parameter\u001b[39m\u001b[38;5;124m'\u001b[39m])\n\u001b[0;32m--> 166\u001b[0m     df_result \u001b[38;5;241m=\u001b[39m ml_data\u001b[38;5;241m.\u001b[39mget_prediction_df_result(preds, trues, \u001b[43mmodel_meta\u001b[49m\u001b[43m[\u001b[49m\u001b[38;5;124;43m'\u001b[39;49m\u001b[38;5;124;43mscaler_param\u001b[39;49m\u001b[38;5;124;43m'\u001b[39;49m\u001b[43m]\u001b[49m[\u001b[38;5;124m'\u001b[39m\u001b[38;5;124mscaler_flag\u001b[39m\u001b[38;5;124m'\u001b[39m], scaler_feature_dict[\u001b[38;5;124m'\u001b[39m\u001b[38;5;124mscaler\u001b[39m\u001b[38;5;124m'\u001b[39m], scaler_feature_dict[\u001b[38;5;124m'\u001b[39m\u001b[38;5;124mfeature_list\u001b[39m\u001b[38;5;124m'\u001b[39m], scaler_feature_dict[\u001b[38;5;124m'\u001b[39m\u001b[38;5;124mtarget\u001b[39m\u001b[38;5;124m'\u001b[39m])\n\u001b[1;32m    167\u001b[0m     result_metrics \u001b[38;5;241m=\u001b[39m  metrics\u001b[38;5;241m.\u001b[39mcalculate_metrics_df(df_result)\n\u001b[1;32m    169\u001b[0m \u001b[38;5;28;01melif\u001b[39;00m model_meta[\u001b[38;5;124m'\u001b[39m\u001b[38;5;124mmodel_purpose\u001b[39m\u001b[38;5;124m'\u001b[39m] \u001b[38;5;241m==\u001b[39m \u001b[38;5;124m'\u001b[39m\u001b[38;5;124mclassification\u001b[39m\u001b[38;5;124m'\u001b[39m:\n",
      "\u001b[0;31mKeyError\u001b[0m: 'scaler_param'"
     ]
    }
   ],
   "source": [
    "# model test\n",
    "result = ML_api.ML_test(model_meta, test_X_array, test_y_array, scaler_feature_dict)"
   ]
  },
  {
   "cell_type": "code",
   "execution_count": null,
   "id": "838c82a4",
   "metadata": {},
   "outputs": [],
   "source": [
    "result"
   ]
  },
  {
   "cell_type": "code",
   "execution_count": 8,
   "id": "9aa09038",
   "metadata": {},
   "outputs": [
    {
     "data": {
      "text/plain": [
       "{'model_purpose': 'regression',\n",
       " 'data_clean_option': True,\n",
       " 'model_method': 'LSTM_rg',\n",
       " 'model_name': 'regression_energy_cleanLevel4_trainX_regression_LSTM_rg_',\n",
       " 'model_tags': 'tagstest',\n",
       " 'train_parameter': {'lr': 0.0001,\n",
       "  'weight_decay': 1e-06,\n",
       "  'n_epochs': 5,\n",
       "  'batch_size': 16,\n",
       "  'device': 'cpu'},\n",
       " 'model_parameter': {'rnn_type': 'lstm',\n",
       "  'input_size': 24,\n",
       "  'hidden_size': 64,\n",
       "  'num_layers': 2,\n",
       "  'output_dim': 1,\n",
       "  'dropout': 0.1,\n",
       "  'bidirectional': True},\n",
       " 'seq_len': 144,\n",
       " 'input_size': 24,\n",
       " 'model_file_path': {'modelFile': {'fileName': 'model.pth',\n",
       "   'filePath': './Models/LSTM_rg/regression_energy_cleanLevel4_trainX_regression_LSTM_rg_/regression_energy_cleanLevel4_trainX/model.pkl'}}}"
      ]
     },
     "execution_count": 8,
     "metadata": {},
     "output_type": "execute_result"
    }
   ],
   "source": [
    "model_meta['model_info']"
   ]
  },
  {
   "cell_type": "code",
   "execution_count": null,
   "id": "e0da21f1",
   "metadata": {},
   "outputs": [],
   "source": []
  },
  {
   "cell_type": "code",
   "execution_count": null,
   "id": "4b1b0386",
   "metadata": {},
   "outputs": [],
   "source": []
  },
  {
   "cell_type": "code",
   "execution_count": null,
   "id": "2ee8c903",
   "metadata": {},
   "outputs": [],
   "source": []
  },
  {
   "cell_type": "code",
   "execution_count": null,
   "id": "94d88f0f",
   "metadata": {},
   "outputs": [],
   "source": []
  },
  {
   "cell_type": "code",
   "execution_count": null,
   "id": "104484c5",
   "metadata": {},
   "outputs": [],
   "source": []
  },
  {
   "cell_type": "code",
   "execution_count": null,
   "id": "cc9a81ca",
   "metadata": {},
   "outputs": [],
   "source": []
  }
 ],
 "metadata": {
  "kernelspec": {
   "display_name": "clust",
   "language": "python",
   "name": "clust"
  },
  "language_info": {
   "codemirror_mode": {
    "name": "ipython",
    "version": 3
   },
   "file_extension": ".py",
   "mimetype": "text/x-python",
   "name": "python",
   "nbconvert_exporter": "python",
   "pygments_lexer": "ipython3",
   "version": "3.8.16"
  }
 },
 "nbformat": 4,
 "nbformat_minor": 5
}
