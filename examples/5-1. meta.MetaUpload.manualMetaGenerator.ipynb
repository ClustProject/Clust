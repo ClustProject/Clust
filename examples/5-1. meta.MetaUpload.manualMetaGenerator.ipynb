{
 "cells": [
  {
   "cell_type": "markdown",
   "id": "0cb1c9e8",
   "metadata": {
    "toc": true
   },
   "source": [
    "<h1>Table of Contents<span class=\"tocSkip\"></span></h1>\n",
    "<div class=\"toc\"><ul class=\"toc-item\"><li><span><a href=\"#Import\" data-toc-modified-id=\"Import-1\"><span class=\"toc-item-num\">1&nbsp;&nbsp;</span>Import</a></span><ul class=\"toc-item\"><li><ul class=\"toc-item\"><li><span><a href=\"#1.-수동-메타-입력\" data-toc-modified-id=\"1.-수동-메타-입력-1.0.1\"><span class=\"toc-item-num\">1.0.1&nbsp;&nbsp;</span>1. 수동 메타 입력</a></span></li><li><span><a href=\"#2.-Json-File에-각-table별로-다수-Meta-dictionary-포함시-이를-저장하는-예시-(현재-Location-업데이트에-활용)\" data-toc-modified-id=\"2.-Json-File에-각-table별로-다수-Meta-dictionary-포함시-이를-저장하는-예시-(현재-Location-업데이트에-활용)-1.0.2\"><span class=\"toc-item-num\">1.0.2&nbsp;&nbsp;</span>2. Json File에 각 table별로 다수 Meta dictionary 포함시 이를 저장하는 예시 (현재 Location 업데이트에 활용)</a></span></li><li><span><a href=\"#3.-jsonFile의-정보를-기준으로-여러개를-업데이트-하는데-각각에-additional-Info를-붙일-경우\" data-toc-modified-id=\"3.-jsonFile의-정보를-기준으로-여러개를-업데이트-하는데-각각에-additional-Info를-붙일-경우-1.0.3\"><span class=\"toc-item-num\">1.0.3&nbsp;&nbsp;</span>3. jsonFile의 정보를 기준으로 여러개를 업데이트 하는데 각각에 additional Info를 붙일 경우</a></span></li><li><span><a href=\"#4.-Label-Meta\" data-toc-modified-id=\"4.-Label-Meta-1.0.4\"><span class=\"toc-item-num\">1.0.4&nbsp;&nbsp;</span>4. Label Meta</a></span></li></ul></li></ul></li></ul></div>"
   ]
  },
  {
   "cell_type": "markdown",
   "id": "741a3cab",
   "metadata": {},
   "source": [
    "# Import"
   ]
  },
  {
   "cell_type": "code",
   "execution_count": 1,
   "id": "cfbb990c",
   "metadata": {
    "ExecuteTime": {
     "end_time": "2022-08-30T04:13:05.192852Z",
     "start_time": "2022-08-30T04:13:05.121943Z"
    }
   },
   "outputs": [
    {
     "name": "stderr",
     "output_type": "stream",
     "text": [
      "/home/keti/.conda/envs/torch/lib/python3.8/site-packages/requests/__init__.py:109: RequestsDependencyWarning: urllib3 (1.26.9) or chardet (5.0.0)/charset_normalizer (None) doesn't match a supported version!\n",
      "  warnings.warn(\n"
     ]
    }
   ],
   "source": [
    "import json\n",
    "\n",
    "import sys\n",
    "import os\n",
    "\n",
    "sys.path.append(\"../\")\n",
    "sys.path.append(\"../..\")\n",
    "\n",
    "from Clust.clust.meta.metaGenerator import fileMetaGenerator as fMG\n",
    "from Clust.clust.meta.metaDataManager import descriptor\n",
    "from Clust.setting import influx_setting_KETI as ins"
   ]
  },
  {
   "cell_type": "markdown",
   "id": "1b809cb9",
   "metadata": {},
   "source": [
    "### 1. 수동 메타 입력\n",
    "- Meta 수기로 정의, Meta에는 table_name 반드시 포함해야 함"
   ]
  },
  {
   "cell_type": "code",
   "execution_count": 2,
   "id": "c25c105f",
   "metadata": {},
   "outputs": [],
   "source": [
    "meta = {\n",
    "    \"table_name\" : \"HS1\",\n",
    "    \"keyword\": [\n",
    "        \"swine\", \"farm\", \"air\", \"sangju\", \"co2ppm\", \"h2sppm\", \"nh3ppm\", \"환경\", \"날씨\", \"공기질\", \"실내\", \"경북\", \"상주\"\n",
    "    ],\n",
    "    \"description\" : \"This is Pig Farm Air Quality Data.\",\n",
    "    \"sourceType\" :\"csv\"\n",
    "}"
   ]
  },
  {
   "cell_type": "code",
   "execution_count": 3,
   "id": "7c25dd26",
   "metadata": {
    "ExecuteTime": {
     "end_time": "2022-08-30T04:16:47.886933Z",
     "start_time": "2022-08-30T04:16:47.881685Z"
    }
   },
   "outputs": [
    {
     "name": "stdout",
     "output_type": "stream",
     "text": [
      "single document upload\n",
      "{'table_name': 'HS1', 'keyword': ['swine', 'farm', 'air', 'sangju', 'co2ppm', 'h2sppm', 'nh3ppm', '환경', '날씨', '공기질', '실내', '경북', '상주'], 'description': 'This is Pig Farm Air Quality Data.', 'sourceType': 'csv'}\n",
      "Success: HS1 200\n"
     ]
    }
   ],
   "source": [
    "# set mongoDB Instance\n",
    "mongo_instance = ins.wiz_url\n",
    "\n",
    "# upload\n",
    "uploadParam = {\n",
    "    \"dbName\":\"farm\",\n",
    "    \"collectionName\":\"swine_air\",\n",
    "    \"mode\" : \"update\"# insert / update / save\n",
    "}\n",
    "descriptor.write_data(uploadParam, meta, mongo_instance)"
   ]
  },
  {
   "cell_type": "markdown",
   "id": "b4d114b4",
   "metadata": {},
   "source": [
    "### 2. Json File에 각 table별로 다수 Meta dictionary 포함시 이를 저장하는 예시 (현재 Location 업데이트에 활용)"
   ]
  },
  {
   "cell_type": "code",
   "execution_count": 4,
   "id": "d787f07d",
   "metadata": {
    "ExecuteTime": {
     "end_time": "2022-07-19T07:08:09.858610Z",
     "start_time": "2022-07-19T07:08:09.855060Z"
    }
   },
   "outputs": [
    {
     "name": "stdout",
     "output_type": "stream",
     "text": [
      "[{'table_name': 'HS1', 'location': {'syntax': '경상북도 상주시 낙동면 화산리 653-1'}}, {'table_name': 'HS2', 'location': {'syntax': '경상북도 상주시 낙동면 화산리 653-1'}}, {'table_name': 'KDS1', 'location': {'syntax': '경북 상주시 중동면 상주다인로 596-87'}}, {'table_name': 'KDS2', 'location': {'syntax': '경북 상주시 중동면 상주다인로 596-87'}}, {'table_name': 'Sadle', 'location': {'syntax': '경상북도 군위군 효령면 금매리 1447-48번지'}}]\n"
     ]
    }
   ],
   "source": [
    "## 1. file에서 Meta 생성함\n",
    "fileMetaInfo = {\n",
    "    \"filePath\" : \"../Clust/metaSchema\",\n",
    "    \"fileName\" : \"MSLocationMeta_Farm_Swine_Air.json\"\n",
    "}\n",
    "meta_generator = fMG.FileMetaGenerator(fileMetaInfo)\n",
    "meta = meta_generator.get_file_meta()\n",
    "print(meta)"
   ]
  },
  {
   "cell_type": "code",
   "execution_count": 5,
   "id": "8fbac14f",
   "metadata": {
    "ExecuteTime": {
     "end_time": "2022-07-19T07:08:13.401985Z",
     "start_time": "2022-07-19T07:08:12.387148Z"
    }
   },
   "outputs": [
    {
     "name": "stdout",
     "output_type": "stream",
     "text": [
      "multiple documents upload\n",
      "Success: HS1 200\n",
      "Success: HS2 200\n",
      "Success: KDS1 200\n",
      "Success: KDS2 200\n",
      "Success: Sadle 200\n"
     ]
    }
   ],
   "source": [
    "# 2. upload (관련한 domain/sub_domain에 각각 저장할 경우)\n",
    "domain =\"farm\"\n",
    "sub_domain = \"swine_air\"\n",
    "uploadParam = {\n",
    "    \"dbName\":domain,\n",
    "    \"collectionName\":sub_domain,\n",
    "    \"mode\" : \"update\"\n",
    "}\n",
    "\n",
    "# 3. set mongoDB Instance\n",
    "mongo_instance = ins.wiz_url\n",
    "\n",
    "descriptor.write_data(uploadParam, meta, mongo_instance)"
   ]
  },
  {
   "cell_type": "markdown",
   "id": "6d5f171a",
   "metadata": {},
   "source": [
    "### 3. jsonFile의 정보를 기준으로 여러개를 업데이트 하는데 각각에 additional Info를 붙일 경우\n",
    "    - Locatoin Meta Data & Keyword Meta Data 생성 및 Upload할때 활용하였음\n",
    "    - 기존 존재하는 Location Meta에 Keyword등 추가로 Meta를 기입하여 새로운 Basic Meta Set 생성 및 업로드"
   ]
  },
  {
   "cell_type": "markdown",
   "id": "3446846c",
   "metadata": {},
   "source": [
    "도서관 어린이집 유치원 고등학교 예제"
   ]
  },
  {
   "cell_type": "code",
   "execution_count": 6,
   "id": "5ef38f3f",
   "metadata": {
    "ExecuteTime": {
     "end_time": "2022-08-24T02:21:33.655688Z",
     "start_time": "2022-08-24T02:21:33.651630Z"
    }
   },
   "outputs": [
    {
     "name": "stdout",
     "output_type": "stream",
     "text": [
      "start add_custom_meta\n"
     ]
    }
   ],
   "source": [
    "## 기본 파일 정보 정의\n",
    "file_meta_info = {\n",
    "    \"filePath\" : \"../Clust/metaSchema\",\n",
    "    \"fileName\" : \"MSLocationMeta_Air_Indoor_체육시설.json\"\n",
    "}\n",
    "## Meta 생성\n",
    "additional_meta = {\n",
    "    \"keyword\": [\n",
    "        \"kweather\", \"고등학교\", \"indoor\",\"air\", \"co2\", \"pm10\", \"pm25\", \"voc\", \"temp\", \"humi\", \"pm01\", \"noise\",\n",
    "        \"실내\", \"공기질\", \"환경\", \"미세먼지\", \"날씨\", \"온도\", \"습도\", \"이산화탄소\", \"소음\"\n",
    "        , \"temperature\", \"humidity\", \"air quality\", \"high school\", \"fine dust\"\n",
    "    ],\n",
    "    \"description\" : \"This is weather data\",\n",
    "    \"sourceAgency\" : \"air korea\",\n",
    "    \"sourceType\" :\"csv\"\n",
    "}\n",
    "meta_generator = fMG.FileMetaGenerator(file_meta_info)\n",
    "meta = meta_generator.get_file_and_additionalMeta(additional_meta)"
   ]
  },
  {
   "cell_type": "code",
   "execution_count": 7,
   "id": "6bcb495e",
   "metadata": {},
   "outputs": [
    {
     "name": "stdout",
     "output_type": "stream",
     "text": [
      "multiple documents upload\n",
      "Success: ICL1L2000064 200\n",
      "Success: ICL1L2000065 200\n",
      "Success: ICW0W2001036 200\n",
      "Success: ICW0W2001037 200\n",
      "Success: ICW0W2001041 200\n",
      "Success: ICW0W2001042 200\n",
      "Success: ICW0W2001043 200\n",
      "Success: ICW0W2001044 200\n",
      "Success: ICW0W2001045 200\n",
      "Success: ICW0W2001046 200\n"
     ]
    }
   ],
   "source": [
    "## upload Parameter\n",
    "domain = \"air\"\n",
    "sub_domain = \"indoor_체육시설\"\n",
    "uploadParam = {\n",
    "    \"dbName\":domain,\n",
    "    \"collectionName\":sub_domain,\n",
    "    \"mode\" : \"update\", # insert / update / save\n",
    "}\n",
    "\n",
    "# set mongoDB Instance\n",
    "mongo_instance = ins.wiz_url\n",
    "\n",
    "descriptor.write_data(uploadParam, meta, mongo_instance)"
   ]
  },
  {
   "cell_type": "markdown",
   "id": "d0d4fa9c",
   "metadata": {},
   "source": [
    "### 4. Label Meta\n",
    "- 2번 경우와 비슷하나 FileMeta에 단 하나의 dictionary 정보만 존재 \n",
    "- 데이터에 Label 정보가 존재하며 이를 통해 CountByFeatureLabel 분석을 하고 싶은 경우 이에 기반이 되는 Label Meta를 저장하는 방법\n",
    "\n",
    "2번과 다른 특이 조건\n",
    "- domain = \"db\" sub_domain = \"meta_info\" 로 지정\n",
    "- fileMeta에 table_name = influxDB의 database name을 지정해 놓아야 함\n",
    "- 즉 db_meta_info 는 influxdb에 존재 하지 않지만, mongo db에서 정보를 별도로 관리하는 곳이므로 sync를 수동으로 관리해야 함"
   ]
  },
  {
   "cell_type": "code",
   "execution_count": 8,
   "id": "983b9fda",
   "metadata": {},
   "outputs": [],
   "source": [
    "\n",
    "## 기본 파일 정보 정의\n",
    "fileMetaInfo = {\n",
    "    \"filePath\" : \"../Clust/metaSchema\",\n",
    "    \"fileName\" : \"DBLabelMeta_Farm_Swine_Air.json\"\n",
    "}\n",
    "# meta 생성\n",
    "meta_generator = fMG.FileMetaGenerator(fileMetaInfo)\n",
    "meta = meta_generator.get_file_meta()"
   ]
  },
  {
   "cell_type": "code",
   "execution_count": 9,
   "id": "1b4471cc",
   "metadata": {},
   "outputs": [
    {
     "name": "stdout",
     "output_type": "stream",
     "text": [
      "single document upload\n",
      "{'table_name': 'farm_swine_air', 'description': 'This is Pig Farm Air Quality Data.', 'columnInformation': [{'columnName': 'H2Sppm', 'description': 'Hydrogen Sulfide', 'tag': ['air', '악취', '황하수소', '환경', 'Hydrogen Sulfide'], 'columnLevelCriteria': {'step': [0, 0.07, 0.5, 1.99, 100], 'label': ['Good', 'Normal', 'Bad', 'Danger']}, 'unit': 'ppm', 'min': 0, 'max': 100}, {'columnName': 'NH3ppm', 'description': 'Ammonia', 'tag': ['air', '악취', '암모니아', '환경', 'Ammonia'], 'columnLevelCriteria': {'step': [0, 4.4, 20.0, 49.9, 100], 'label': ['Good', 'Normal', 'Bad', 'Danger']}, 'unit': 'ppm', 'min': 0, 'max': 100}, {'columnName': 'COppm', 'description': 'Carbon Monoxide', 'tag': ['air', '유독가스', '일산화탄소', '환경', 'Carbon Monoxide'], 'columnLevelCriteria': {'step': [0, 1.74, 7.85, 13.09, 100], 'label': ['Good', 'Normal', 'Bad', 'Danger']}, 'unit': 'ppm', 'min': 0, 'max': 100}, {'columnName': 'NO2ppm', 'description': 'Nitrogen Dioxide', 'tag': ['air', '유독가스', '이산화질소', '환경', 'Nitrogen Dioxide'], 'columnLevelCriteria': {'step': [0, 0.011, 0.027, 0.08, 1.0], 'label': ['Good', 'Normal', 'Bad', 'Danger']}, 'unit': 'ppm', 'min': 0, 'max': 1}, {'columnName': 'O2', 'description': 'Oxygen', 'tag': ['air', '호흡기', '산소', '환경', 'Oxygen'], 'columnLevelCriteria': {'step': [12, 15, 18, 20, 22], 'label': ['Danger', 'Bad', 'Normal', 'Good']}, 'unit': '%', 'min': 12, 'max': 22}, {'columnName': 'Temperature', 'description': 'Temperature', 'tag': ['환경', 'Temperature', '온도'], 'columnLevelCriteria': {'step': [-40, 14, 16, 18, 24, 27, 30, 80], 'label': ['매우추움', '추움', '서늘', '쾌적', '따뜻', '더움', '매우더움']}, 'unit': '°C', 'min': -40, 'max': 80}, {'columnName': 'Humidity', 'description': 'Humidity', 'tag': ['환경', 'Humidity', '습도'], 'columnLevelCriteria': {'step': [0, 20, 35, 40, 60, 75, 90, 100], 'label': ['매우건조', '건조', '약간건조', '쾌적', '약간습합', '습함', '매우습함']}, 'unit': '%', 'min': 0, 'max': 100}, {'columnName': 'CO2ppm', 'description': 'Carbon Dioxide', 'tag': ['indoor', '이산화탄소', '환경 오염 물질'], 'columnLevelCriteria': {'step': [0, 700, 1000, 2000, 10000], 'label': ['Good', 'Normal', 'Bad', 'Danger']}, 'unit': 'ppm', 'min': 0, 'max': 10000}]}\n",
      "Success: farm_swine_air 200\n"
     ]
    }
   ],
   "source": [
    "#db meta info의 경우 아래와 같이 domain, sub_domain 지정해야 함\n",
    "domain = \"db\"\n",
    "sub_domain = \"meta_info\"\n",
    "\n",
    "uploadParam = {\n",
    "    \"dbName\":domain,\n",
    "    \"collectionName\":sub_domain,\n",
    "    \"mode\" : \"insert\", # insert / update / save\n",
    "}\n",
    "\n",
    "# set mongoDB Instance\n",
    "mongo_instance = ins.wiz_url\n",
    "\n",
    "descriptor.write_data(uploadParam, meta, mongo_instance)"
   ]
  },
  {
   "cell_type": "code",
   "execution_count": null,
   "id": "6bfb8e64",
   "metadata": {},
   "outputs": [],
   "source": []
  },
  {
   "cell_type": "code",
   "execution_count": null,
   "id": "95744403",
   "metadata": {},
   "outputs": [],
   "source": []
  },
  {
   "cell_type": "code",
   "execution_count": null,
   "id": "0c22ffce",
   "metadata": {},
   "outputs": [],
   "source": []
  }
 ],
 "metadata": {
  "hide_input": false,
  "kernelspec": {
   "display_name": "Python 3 (ipykernel)",
   "language": "python",
   "name": "python3"
  },
  "language_info": {
   "codemirror_mode": {
    "name": "ipython",
    "version": 3
   },
   "file_extension": ".py",
   "mimetype": "text/x-python",
   "name": "python",
   "nbconvert_exporter": "python",
   "pygments_lexer": "ipython3",
   "version": "3.8.13"
  },
  "toc": {
   "base_numbering": 1,
   "nav_menu": {},
   "number_sections": true,
   "sideBar": true,
   "skip_h1_title": false,
   "title_cell": "Table of Contents",
   "title_sidebar": "Contents",
   "toc_cell": true,
   "toc_position": {
    "height": "calc(100% - 180px)",
    "left": "10px",
    "top": "150px",
    "width": "315.075px"
   },
   "toc_section_display": true,
   "toc_window_display": true
  },
  "vscode": {
   "interpreter": {
    "hash": "f1ef7e1f828dbb4e75f421045d2c565197efaf8469a0be4a314c6ea8378b5cb2"
   }
  }
 },
 "nbformat": 4,
 "nbformat_minor": 5
}
