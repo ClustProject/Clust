{
 "cells": [
  {
   "cell_type": "markdown",
   "id": "3d53a1c3",
   "metadata": {},
   "source": [
    "# Database Connection"
   ]
  },
  {
   "cell_type": "code",
   "execution_count": 1,
   "id": "4943ddf9",
   "metadata": {},
   "outputs": [],
   "source": [
    "import pandas as pd\n",
    "import sys\n",
    "import os\n",
    "\n",
    "sys.path.append(\"../\")\n",
    "sys.path.append(\"../..\")"
   ]
  },
  {
   "cell_type": "markdown",
   "id": "4dacbb21",
   "metadata": {},
   "source": [
    "## InfluxDB client"
   ]
  },
  {
   "cell_type": "code",
   "execution_count": 2,
   "id": "964d04c0",
   "metadata": {},
   "outputs": [],
   "source": [
    "# connect to influxdb\n",
    "from clust.ingestion.influx import influx_Client_v2 as influx_Client\n",
    "from setting import influx_setting_KETI as ins\n",
    "\"\"\"\n",
    "example setting Info: \n",
    "CLUSTDataServer2={\n",
    "        \"url\":'http://server:8086/',\n",
    "        \"token\":\"tokenInfo\",\n",
    "        \"org\":\"orgInfo\"\n",
    "}\n",
    "\"\"\"\n",
    "\n",
    "db_client = influx_Client.influxClient(ins.CLUSTDataServer2)"
   ]
  },
  {
   "cell_type": "markdown",
   "id": "875e0575",
   "metadata": {},
   "source": [
    "### Get Database List"
   ]
  },
  {
   "cell_type": "code",
   "execution_count": 3,
   "id": "1cfd021d",
   "metadata": {},
   "outputs": [
    {
     "data": {
      "text/plain": [
       "['farm_strawberry_DWQuantum',\n",
       " 'air_indoor_요양원',\n",
       " 'traffic_seoul_subway',\n",
       " 'life_indoor_environment',\n",
       " 'intData_Hs1SwineFarmWithWeatherTime',\n",
       " 'air_indoor_아파트',\n",
       " 'air_indoor_체육시설',\n",
       " 'air_indoor_도서관',\n",
       " 'energy_wind_power',\n",
       " 'bio_covid_vaccinations',\n",
       " 'energy_electricity_transaction',\n",
       " 'weather_outdoor_keti_clean',\n",
       " 'energy_water_discharge',\n",
       " 'farm_strawberry_awon',\n",
       " 'city_exhibition_entrance_status',\n",
       " 'weather_outdoor_keti',\n",
       " 'finance_korean_stock',\n",
       " 'air_indoor_고등학교',\n",
       " 'farm_strawberry_open_bk',\n",
       " 'air_outdoor_keti_clean',\n",
       " 'air_amuguna2',\n",
       " 'bio_covid_infected_world',\n",
       " 'farm_strawberry_DWTemp',\n",
       " 'air_indoor_경로당',\n",
       " 'air_indoor_유치원',\n",
       " 'data_integrated_result',\n",
       " 'farm_strawberry_DWIlluminance',\n",
       " 'farm_strawberry_gunwi',\n",
       " 'farm_strawberry_DWSoil',\n",
       " 'farm_swine_air',\n",
       " 'energy_solar',\n",
       " 'traffic_seoul_bike',\n",
       " 'traffic_public_parking',\n",
       " 'energy_electronic_power',\n",
       " 'bio_covid_infected_korea',\n",
       " 'weather_outdoor_environment',\n",
       " 'traffic_seoul_bus',\n",
       " 'farm_strawberry_open',\n",
       " 'air_indoor_어린이집',\n",
       " 'farm_strawberry_knu',\n",
       " 'air_indoor_중학교',\n",
       " 'economy_stockUS_NYSE',\n",
       " 'air_outdoor_kweather',\n",
       " 'energy_fire_power',\n",
       " 'life_additional_Info',\n",
       " 'air_test123',\n",
       " 'bio_action_sensors',\n",
       " 'air_indoor_초등학교',\n",
       " 'air_outdoor_keti',\n",
       " 'farm_strawberry_DWSunshine',\n",
       " 'bio_signal_kwu',\n",
       " 'life_action_pattern',\n",
       " 'air_amuguna3',\n",
       " 'air_amuguna',\n",
       " 'farm_strawberry_DWTempco2',\n",
       " 'air_indoor_test']"
      ]
     },
     "execution_count": 3,
     "metadata": {},
     "output_type": "execute_result"
    }
   ],
   "source": [
    "# Get all Database List\n",
    "db_list = db_client.get_DBList()\n",
    "db_list"
   ]
  },
  {
   "cell_type": "markdown",
   "id": "2e2d6f88",
   "metadata": {},
   "source": [
    "### Get Measurement List"
   ]
  },
  {
   "cell_type": "code",
   "execution_count": 4,
   "id": "8b0128c4",
   "metadata": {},
   "outputs": [],
   "source": [
    "# select database\n",
    "db_name = 'farm_swine_air'"
   ]
  },
  {
   "cell_type": "code",
   "execution_count": 5,
   "id": "4a6edc51",
   "metadata": {},
   "outputs": [
    {
     "data": {
      "text/plain": [
       "['HS1', 'HS2', 'KDS1', 'KDS2', 'Sadle']"
      ]
     },
     "execution_count": 5,
     "metadata": {},
     "output_type": "execute_result"
    }
   ],
   "source": [
    "# Get all Measurement list\n",
    "ms_list = db_client.measurement_list(db_name)\n",
    "ms_list"
   ]
  },
  {
   "cell_type": "markdown",
   "id": "43711fc6",
   "metadata": {},
   "source": [
    "### Get Field List"
   ]
  },
  {
   "cell_type": "code",
   "execution_count": 6,
   "id": "86945474",
   "metadata": {},
   "outputs": [],
   "source": [
    "# select measurement\n",
    "ms_name = 'HS1'"
   ]
  },
  {
   "cell_type": "code",
   "execution_count": 7,
   "id": "f04406fc",
   "metadata": {},
   "outputs": [
    {
     "data": {
      "text/plain": [
       "['Temperature', 'H2Sppm', 'CO2ppm', 'Humidity', 'NH3ppm']"
      ]
     },
     "execution_count": 7,
     "metadata": {},
     "output_type": "execute_result"
    }
   ],
   "source": [
    "# get all field list of specific measurements\n",
    "field_list = db_client.get_fieldList(db_name, ms_name)\n",
    "field_list"
   ]
  },
  {
   "cell_type": "markdown",
   "id": "5c3fd34b",
   "metadata": {},
   "source": [
    "## DB MS Frequency"
   ]
  },
  {
   "cell_type": "code",
   "execution_count": 8,
   "id": "15330ddb",
   "metadata": {},
   "outputs": [],
   "source": [
    "# get frequency\n",
    "freq = db_client.get_freq(db_name, ms_name)"
   ]
  },
  {
   "cell_type": "markdown",
   "id": "df2afe47",
   "metadata": {},
   "source": [
    "## Get Data Function"
   ]
  },
  {
   "cell_type": "markdown",
   "id": "c411de13",
   "metadata": {},
   "source": [
    "### Get All Data"
   ]
  },
  {
   "cell_type": "code",
   "execution_count": 9,
   "id": "dd89a5f7",
   "metadata": {},
   "outputs": [
    {
     "data": {
      "text/html": [
       "<div>\n",
       "<style scoped>\n",
       "    .dataframe tbody tr th:only-of-type {\n",
       "        vertical-align: middle;\n",
       "    }\n",
       "\n",
       "    .dataframe tbody tr th {\n",
       "        vertical-align: top;\n",
       "    }\n",
       "\n",
       "    .dataframe thead th {\n",
       "        text-align: right;\n",
       "    }\n",
       "</style>\n",
       "<table border=\"1\" class=\"dataframe\">\n",
       "  <thead>\n",
       "    <tr style=\"text-align: right;\">\n",
       "      <th></th>\n",
       "      <th>CO2ppm</th>\n",
       "      <th>H2Sppm</th>\n",
       "      <th>Humidity</th>\n",
       "      <th>NH3ppm</th>\n",
       "      <th>Temperature</th>\n",
       "    </tr>\n",
       "    <tr>\n",
       "      <th>time</th>\n",
       "      <th></th>\n",
       "      <th></th>\n",
       "      <th></th>\n",
       "      <th></th>\n",
       "      <th></th>\n",
       "    </tr>\n",
       "  </thead>\n",
       "  <tbody>\n",
       "    <tr>\n",
       "      <th>2020-09-10 00:36:00+00:00</th>\n",
       "      <td>637.0</td>\n",
       "      <td>5.0</td>\n",
       "      <td>74.0</td>\n",
       "      <td>45.0</td>\n",
       "      <td>24.0</td>\n",
       "    </tr>\n",
       "    <tr>\n",
       "      <th>2020-09-10 00:38:00+00:00</th>\n",
       "      <td>360.0</td>\n",
       "      <td>2.0</td>\n",
       "      <td>74.0</td>\n",
       "      <td>37.0</td>\n",
       "      <td>24.0</td>\n",
       "    </tr>\n",
       "    <tr>\n",
       "      <th>2020-09-10 00:40:00+00:00</th>\n",
       "      <td>465.0</td>\n",
       "      <td>3.0</td>\n",
       "      <td>73.0</td>\n",
       "      <td>31.0</td>\n",
       "      <td>24.0</td>\n",
       "    </tr>\n",
       "    <tr>\n",
       "      <th>2020-09-10 00:42:00+00:00</th>\n",
       "      <td>518.0</td>\n",
       "      <td>2.0</td>\n",
       "      <td>73.0</td>\n",
       "      <td>27.0</td>\n",
       "      <td>24.0</td>\n",
       "    </tr>\n",
       "    <tr>\n",
       "      <th>2020-09-10 00:44:00+00:00</th>\n",
       "      <td>670.0</td>\n",
       "      <td>2.0</td>\n",
       "      <td>73.0</td>\n",
       "      <td>24.0</td>\n",
       "      <td>24.0</td>\n",
       "    </tr>\n",
       "    <tr>\n",
       "      <th>...</th>\n",
       "      <td>...</td>\n",
       "      <td>...</td>\n",
       "      <td>...</td>\n",
       "      <td>...</td>\n",
       "      <td>...</td>\n",
       "    </tr>\n",
       "    <tr>\n",
       "      <th>2021-04-03 19:54:00+00:00</th>\n",
       "      <td>945.0</td>\n",
       "      <td>3.0</td>\n",
       "      <td>NaN</td>\n",
       "      <td>0.0</td>\n",
       "      <td>NaN</td>\n",
       "    </tr>\n",
       "    <tr>\n",
       "      <th>2021-04-03 19:55:00+00:00</th>\n",
       "      <td>NaN</td>\n",
       "      <td>NaN</td>\n",
       "      <td>11.0</td>\n",
       "      <td>NaN</td>\n",
       "      <td>95.0</td>\n",
       "    </tr>\n",
       "    <tr>\n",
       "      <th>2021-04-03 19:56:00+00:00</th>\n",
       "      <td>1111.0</td>\n",
       "      <td>2.0</td>\n",
       "      <td>NaN</td>\n",
       "      <td>0.0</td>\n",
       "      <td>NaN</td>\n",
       "    </tr>\n",
       "    <tr>\n",
       "      <th>2021-04-03 19:57:00+00:00</th>\n",
       "      <td>NaN</td>\n",
       "      <td>NaN</td>\n",
       "      <td>11.0</td>\n",
       "      <td>NaN</td>\n",
       "      <td>95.0</td>\n",
       "    </tr>\n",
       "    <tr>\n",
       "      <th>2021-04-03 19:58:00+00:00</th>\n",
       "      <td>994.0</td>\n",
       "      <td>2.0</td>\n",
       "      <td>NaN</td>\n",
       "      <td>0.0</td>\n",
       "      <td>NaN</td>\n",
       "    </tr>\n",
       "  </tbody>\n",
       "</table>\n",
       "<p>154255 rows × 5 columns</p>\n",
       "</div>"
      ],
      "text/plain": [
       "                           CO2ppm  H2Sppm  Humidity  NH3ppm  Temperature\n",
       "time                                                                    \n",
       "2020-09-10 00:36:00+00:00   637.0     5.0      74.0    45.0         24.0\n",
       "2020-09-10 00:38:00+00:00   360.0     2.0      74.0    37.0         24.0\n",
       "2020-09-10 00:40:00+00:00   465.0     3.0      73.0    31.0         24.0\n",
       "2020-09-10 00:42:00+00:00   518.0     2.0      73.0    27.0         24.0\n",
       "2020-09-10 00:44:00+00:00   670.0     2.0      73.0    24.0         24.0\n",
       "...                           ...     ...       ...     ...          ...\n",
       "2021-04-03 19:54:00+00:00   945.0     3.0       NaN     0.0          NaN\n",
       "2021-04-03 19:55:00+00:00     NaN     NaN      11.0     NaN         95.0\n",
       "2021-04-03 19:56:00+00:00  1111.0     2.0       NaN     0.0          NaN\n",
       "2021-04-03 19:57:00+00:00     NaN     NaN      11.0     NaN         95.0\n",
       "2021-04-03 19:58:00+00:00   994.0     2.0       NaN     0.0          NaN\n",
       "\n",
       "[154255 rows x 5 columns]"
      ]
     },
     "execution_count": 9,
     "metadata": {},
     "output_type": "execute_result"
    }
   ],
   "source": [
    "#  Get all data of the specific mearuement, dataframe\n",
    "all_data = db_client.get_data(db_name, ms_name)\n",
    "all_data"
   ]
  },
  {
   "cell_type": "markdown",
   "id": "e1be8386",
   "metadata": {},
   "source": [
    "### Get First Time"
   ]
  },
  {
   "cell_type": "code",
   "execution_count": 10,
   "id": "afbc0d33",
   "metadata": {},
   "outputs": [
    {
     "data": {
      "text/plain": [
       "Timestamp('2020-09-10 00:36:00+0000', tz='tzutc()')"
      ]
     },
     "execution_count": 10,
     "metadata": {},
     "output_type": "execute_result"
    }
   ],
   "source": [
    "# Get the first data of the specific mearuement\n",
    "first_time = db_client.get_first_time(db_name, ms_name)\n",
    "first_time"
   ]
  },
  {
   "cell_type": "markdown",
   "id": "d6ac2cce",
   "metadata": {},
   "source": [
    "### Get Last Time"
   ]
  },
  {
   "cell_type": "code",
   "execution_count": 11,
   "id": "e026ba90",
   "metadata": {},
   "outputs": [
    {
     "data": {
      "text/plain": [
       "Timestamp('2021-04-03 19:58:00+0000', tz='tzutc()')"
      ]
     },
     "execution_count": 11,
     "metadata": {},
     "output_type": "execute_result"
    }
   ],
   "source": [
    "# Get the last data of the specific mearuement\n",
    "last_time = db_client.get_last_time(db_name, ms_name)\n",
    "last_time"
   ]
  },
  {
   "cell_type": "markdown",
   "id": "4f8184b8",
   "metadata": {},
   "source": [
    "### Get duration Data"
   ]
  },
  {
   "cell_type": "code",
   "execution_count": 12,
   "id": "87fde25b",
   "metadata": {},
   "outputs": [],
   "source": [
    "# setting time\n",
    "start_time = \"2021-01-01 00:00:00\"\n",
    "end_time = \"2021-02-28 23:59:59\""
   ]
  },
  {
   "cell_type": "code",
   "execution_count": 13,
   "id": "3f1d8f2d",
   "metadata": {},
   "outputs": [
    {
     "data": {
      "text/html": [
       "<div>\n",
       "<style scoped>\n",
       "    .dataframe tbody tr th:only-of-type {\n",
       "        vertical-align: middle;\n",
       "    }\n",
       "\n",
       "    .dataframe tbody tr th {\n",
       "        vertical-align: top;\n",
       "    }\n",
       "\n",
       "    .dataframe thead th {\n",
       "        text-align: right;\n",
       "    }\n",
       "</style>\n",
       "<table border=\"1\" class=\"dataframe\">\n",
       "  <thead>\n",
       "    <tr style=\"text-align: right;\">\n",
       "      <th></th>\n",
       "      <th>CO2ppm</th>\n",
       "      <th>H2Sppm</th>\n",
       "      <th>Humidity</th>\n",
       "      <th>NH3ppm</th>\n",
       "      <th>Temperature</th>\n",
       "    </tr>\n",
       "    <tr>\n",
       "      <th>time</th>\n",
       "      <th></th>\n",
       "      <th></th>\n",
       "      <th></th>\n",
       "      <th></th>\n",
       "      <th></th>\n",
       "    </tr>\n",
       "  </thead>\n",
       "  <tbody>\n",
       "    <tr>\n",
       "      <th>2021-01-01 00:00:00+00:00</th>\n",
       "      <td>916.0</td>\n",
       "      <td>9.0</td>\n",
       "      <td>-5.0</td>\n",
       "      <td>0.0</td>\n",
       "      <td>68.0</td>\n",
       "    </tr>\n",
       "    <tr>\n",
       "      <th>2021-01-01 00:02:00+00:00</th>\n",
       "      <td>907.0</td>\n",
       "      <td>5.0</td>\n",
       "      <td>-5.0</td>\n",
       "      <td>0.0</td>\n",
       "      <td>68.0</td>\n",
       "    </tr>\n",
       "    <tr>\n",
       "      <th>2021-01-01 00:04:00+00:00</th>\n",
       "      <td>924.0</td>\n",
       "      <td>4.0</td>\n",
       "      <td>-5.0</td>\n",
       "      <td>0.0</td>\n",
       "      <td>68.0</td>\n",
       "    </tr>\n",
       "    <tr>\n",
       "      <th>2021-01-01 00:06:00+00:00</th>\n",
       "      <td>919.0</td>\n",
       "      <td>6.0</td>\n",
       "      <td>-5.0</td>\n",
       "      <td>0.0</td>\n",
       "      <td>68.0</td>\n",
       "    </tr>\n",
       "    <tr>\n",
       "      <th>2021-01-01 00:08:00+00:00</th>\n",
       "      <td>923.0</td>\n",
       "      <td>5.0</td>\n",
       "      <td>-5.0</td>\n",
       "      <td>0.0</td>\n",
       "      <td>67.0</td>\n",
       "    </tr>\n",
       "    <tr>\n",
       "      <th>...</th>\n",
       "      <td>...</td>\n",
       "      <td>...</td>\n",
       "      <td>...</td>\n",
       "      <td>...</td>\n",
       "      <td>...</td>\n",
       "    </tr>\n",
       "    <tr>\n",
       "      <th>2021-02-28 23:50:00+00:00</th>\n",
       "      <td>1104.0</td>\n",
       "      <td>2.0</td>\n",
       "      <td>6.0</td>\n",
       "      <td>0.0</td>\n",
       "      <td>93.0</td>\n",
       "    </tr>\n",
       "    <tr>\n",
       "      <th>2021-02-28 23:52:00+00:00</th>\n",
       "      <td>1069.0</td>\n",
       "      <td>6.0</td>\n",
       "      <td>6.0</td>\n",
       "      <td>0.0</td>\n",
       "      <td>93.0</td>\n",
       "    </tr>\n",
       "    <tr>\n",
       "      <th>2021-02-28 23:54:00+00:00</th>\n",
       "      <td>898.0</td>\n",
       "      <td>7.0</td>\n",
       "      <td>6.0</td>\n",
       "      <td>0.0</td>\n",
       "      <td>93.0</td>\n",
       "    </tr>\n",
       "    <tr>\n",
       "      <th>2021-02-28 23:56:00+00:00</th>\n",
       "      <td>937.0</td>\n",
       "      <td>3.0</td>\n",
       "      <td>6.0</td>\n",
       "      <td>0.0</td>\n",
       "      <td>92.0</td>\n",
       "    </tr>\n",
       "    <tr>\n",
       "      <th>2021-02-28 23:58:00+00:00</th>\n",
       "      <td>1088.0</td>\n",
       "      <td>2.0</td>\n",
       "      <td>6.0</td>\n",
       "      <td>0.0</td>\n",
       "      <td>92.0</td>\n",
       "    </tr>\n",
       "  </tbody>\n",
       "</table>\n",
       "<p>42480 rows × 5 columns</p>\n",
       "</div>"
      ],
      "text/plain": [
       "                           CO2ppm  H2Sppm  Humidity  NH3ppm  Temperature\n",
       "time                                                                    \n",
       "2021-01-01 00:00:00+00:00   916.0     9.0      -5.0     0.0         68.0\n",
       "2021-01-01 00:02:00+00:00   907.0     5.0      -5.0     0.0         68.0\n",
       "2021-01-01 00:04:00+00:00   924.0     4.0      -5.0     0.0         68.0\n",
       "2021-01-01 00:06:00+00:00   919.0     6.0      -5.0     0.0         68.0\n",
       "2021-01-01 00:08:00+00:00   923.0     5.0      -5.0     0.0         67.0\n",
       "...                           ...     ...       ...     ...          ...\n",
       "2021-02-28 23:50:00+00:00  1104.0     2.0       6.0     0.0         93.0\n",
       "2021-02-28 23:52:00+00:00  1069.0     6.0       6.0     0.0         93.0\n",
       "2021-02-28 23:54:00+00:00   898.0     7.0       6.0     0.0         93.0\n",
       "2021-02-28 23:56:00+00:00   937.0     3.0       6.0     0.0         92.0\n",
       "2021-02-28 23:58:00+00:00  1088.0     2.0       6.0     0.0         92.0\n",
       "\n",
       "[42480 rows x 5 columns]"
      ]
     },
     "execution_count": 13,
     "metadata": {},
     "output_type": "execute_result"
    }
   ],
   "source": [
    "# Get data of the specific measurement based on start-end duration\n",
    "data_by_time = db_client.get_data_by_time(start_time, end_time, db_name, ms_name)\n",
    "data_by_time"
   ]
  },
  {
   "cell_type": "code",
   "execution_count": 14,
   "id": "291eaeda",
   "metadata": {},
   "outputs": [],
   "source": [
    "end_time = \"2021-03-10 00:00:00\"\n",
    "days=7"
   ]
  },
  {
   "cell_type": "code",
   "execution_count": 15,
   "id": "1cc7222d",
   "metadata": {},
   "outputs": [
    {
     "data": {
      "text/html": [
       "<div>\n",
       "<style scoped>\n",
       "    .dataframe tbody tr th:only-of-type {\n",
       "        vertical-align: middle;\n",
       "    }\n",
       "\n",
       "    .dataframe tbody tr th {\n",
       "        vertical-align: top;\n",
       "    }\n",
       "\n",
       "    .dataframe thead th {\n",
       "        text-align: right;\n",
       "    }\n",
       "</style>\n",
       "<table border=\"1\" class=\"dataframe\">\n",
       "  <thead>\n",
       "    <tr style=\"text-align: right;\">\n",
       "      <th></th>\n",
       "      <th>CO2ppm</th>\n",
       "      <th>H2Sppm</th>\n",
       "      <th>Humidity</th>\n",
       "      <th>NH3ppm</th>\n",
       "      <th>Temperature</th>\n",
       "    </tr>\n",
       "    <tr>\n",
       "      <th>time</th>\n",
       "      <th></th>\n",
       "      <th></th>\n",
       "      <th></th>\n",
       "      <th></th>\n",
       "      <th></th>\n",
       "    </tr>\n",
       "  </thead>\n",
       "  <tbody>\n",
       "    <tr>\n",
       "      <th>2021-03-03 00:00:00+00:00</th>\n",
       "      <td>969.0</td>\n",
       "      <td>8.0</td>\n",
       "      <td>0.0</td>\n",
       "      <td>1.0</td>\n",
       "      <td>91.0</td>\n",
       "    </tr>\n",
       "    <tr>\n",
       "      <th>2021-03-03 00:02:00+00:00</th>\n",
       "      <td>954.0</td>\n",
       "      <td>3.0</td>\n",
       "      <td>0.0</td>\n",
       "      <td>1.0</td>\n",
       "      <td>90.0</td>\n",
       "    </tr>\n",
       "    <tr>\n",
       "      <th>2021-03-03 00:04:00+00:00</th>\n",
       "      <td>1011.0</td>\n",
       "      <td>3.0</td>\n",
       "      <td>0.0</td>\n",
       "      <td>NaN</td>\n",
       "      <td>90.0</td>\n",
       "    </tr>\n",
       "    <tr>\n",
       "      <th>2021-03-03 00:06:00+00:00</th>\n",
       "      <td>1071.0</td>\n",
       "      <td>4.0</td>\n",
       "      <td>0.0</td>\n",
       "      <td>1.0</td>\n",
       "      <td>90.0</td>\n",
       "    </tr>\n",
       "    <tr>\n",
       "      <th>2021-03-03 00:08:00+00:00</th>\n",
       "      <td>1070.0</td>\n",
       "      <td>3.0</td>\n",
       "      <td>0.0</td>\n",
       "      <td>NaN</td>\n",
       "      <td>90.0</td>\n",
       "    </tr>\n",
       "    <tr>\n",
       "      <th>...</th>\n",
       "      <td>...</td>\n",
       "      <td>...</td>\n",
       "      <td>...</td>\n",
       "      <td>...</td>\n",
       "      <td>...</td>\n",
       "    </tr>\n",
       "    <tr>\n",
       "      <th>2021-04-03 19:54:00+00:00</th>\n",
       "      <td>945.0</td>\n",
       "      <td>3.0</td>\n",
       "      <td>NaN</td>\n",
       "      <td>0.0</td>\n",
       "      <td>NaN</td>\n",
       "    </tr>\n",
       "    <tr>\n",
       "      <th>2021-04-03 19:55:00+00:00</th>\n",
       "      <td>NaN</td>\n",
       "      <td>NaN</td>\n",
       "      <td>11.0</td>\n",
       "      <td>NaN</td>\n",
       "      <td>95.0</td>\n",
       "    </tr>\n",
       "    <tr>\n",
       "      <th>2021-04-03 19:56:00+00:00</th>\n",
       "      <td>1111.0</td>\n",
       "      <td>2.0</td>\n",
       "      <td>NaN</td>\n",
       "      <td>0.0</td>\n",
       "      <td>NaN</td>\n",
       "    </tr>\n",
       "    <tr>\n",
       "      <th>2021-04-03 19:57:00+00:00</th>\n",
       "      <td>NaN</td>\n",
       "      <td>NaN</td>\n",
       "      <td>11.0</td>\n",
       "      <td>NaN</td>\n",
       "      <td>95.0</td>\n",
       "    </tr>\n",
       "    <tr>\n",
       "      <th>2021-04-03 19:58:00+00:00</th>\n",
       "      <td>994.0</td>\n",
       "      <td>2.0</td>\n",
       "      <td>NaN</td>\n",
       "      <td>0.0</td>\n",
       "      <td>NaN</td>\n",
       "    </tr>\n",
       "  </tbody>\n",
       "</table>\n",
       "<p>28993 rows × 5 columns</p>\n",
       "</div>"
      ],
      "text/plain": [
       "                           CO2ppm  H2Sppm  Humidity  NH3ppm  Temperature\n",
       "time                                                                    \n",
       "2021-03-03 00:00:00+00:00   969.0     8.0       0.0     1.0         91.0\n",
       "2021-03-03 00:02:00+00:00   954.0     3.0       0.0     1.0         90.0\n",
       "2021-03-03 00:04:00+00:00  1011.0     3.0       0.0     NaN         90.0\n",
       "2021-03-03 00:06:00+00:00  1071.0     4.0       0.0     1.0         90.0\n",
       "2021-03-03 00:08:00+00:00  1070.0     3.0       0.0     NaN         90.0\n",
       "...                           ...     ...       ...     ...          ...\n",
       "2021-04-03 19:54:00+00:00   945.0     3.0       NaN     0.0          NaN\n",
       "2021-04-03 19:55:00+00:00     NaN     NaN      11.0     NaN         95.0\n",
       "2021-04-03 19:56:00+00:00  1111.0     2.0       NaN     0.0          NaN\n",
       "2021-04-03 19:57:00+00:00     NaN     NaN      11.0     NaN         95.0\n",
       "2021-04-03 19:58:00+00:00   994.0     2.0       NaN     0.0          NaN\n",
       "\n",
       "[28993 rows x 5 columns]"
      ]
     },
     "execution_count": 15,
     "metadata": {},
     "output_type": "execute_result"
    }
   ],
   "source": [
    "# Get data of the specific mearuement based on time duration (days)\n",
    "# duration : (end_time - days) ~ last_time\n",
    "data_by_days = db_client.get_data_by_days(end_time, days, db_name, ms_name)\n",
    "data_by_days"
   ]
  },
  {
   "cell_type": "code",
   "execution_count": 16,
   "id": "f7b29eeb",
   "metadata": {},
   "outputs": [],
   "source": [
    "number = 3"
   ]
  },
  {
   "cell_type": "code",
   "execution_count": 17,
   "id": "b8b9e777",
   "metadata": {},
   "outputs": [
    {
     "data": {
      "text/html": [
       "<div>\n",
       "<style scoped>\n",
       "    .dataframe tbody tr th:only-of-type {\n",
       "        vertical-align: middle;\n",
       "    }\n",
       "\n",
       "    .dataframe tbody tr th {\n",
       "        vertical-align: top;\n",
       "    }\n",
       "\n",
       "    .dataframe thead th {\n",
       "        text-align: right;\n",
       "    }\n",
       "</style>\n",
       "<table border=\"1\" class=\"dataframe\">\n",
       "  <thead>\n",
       "    <tr style=\"text-align: right;\">\n",
       "      <th></th>\n",
       "      <th>CO2ppm</th>\n",
       "      <th>H2Sppm</th>\n",
       "      <th>Humidity</th>\n",
       "      <th>NH3ppm</th>\n",
       "      <th>Temperature</th>\n",
       "    </tr>\n",
       "    <tr>\n",
       "      <th>time</th>\n",
       "      <th></th>\n",
       "      <th></th>\n",
       "      <th></th>\n",
       "      <th></th>\n",
       "      <th></th>\n",
       "    </tr>\n",
       "  </thead>\n",
       "  <tbody>\n",
       "    <tr>\n",
       "      <th>2020-09-10 00:36:00+00:00</th>\n",
       "      <td>637.0</td>\n",
       "      <td>5.0</td>\n",
       "      <td>74.0</td>\n",
       "      <td>45.0</td>\n",
       "      <td>24.0</td>\n",
       "    </tr>\n",
       "    <tr>\n",
       "      <th>2020-09-10 00:38:00+00:00</th>\n",
       "      <td>360.0</td>\n",
       "      <td>2.0</td>\n",
       "      <td>74.0</td>\n",
       "      <td>37.0</td>\n",
       "      <td>24.0</td>\n",
       "    </tr>\n",
       "    <tr>\n",
       "      <th>2020-09-10 00:40:00+00:00</th>\n",
       "      <td>465.0</td>\n",
       "      <td>3.0</td>\n",
       "      <td>73.0</td>\n",
       "      <td>31.0</td>\n",
       "      <td>24.0</td>\n",
       "    </tr>\n",
       "  </tbody>\n",
       "</table>\n",
       "</div>"
      ],
      "text/plain": [
       "                           CO2ppm  H2Sppm  Humidity  NH3ppm  Temperature\n",
       "time                                                                    \n",
       "2020-09-10 00:36:00+00:00   637.0     5.0      74.0    45.0         24.0\n",
       "2020-09-10 00:38:00+00:00   360.0     2.0      74.0    37.0         24.0\n",
       "2020-09-10 00:40:00+00:00   465.0     3.0      73.0    31.0         24.0"
      ]
     },
     "execution_count": 17,
     "metadata": {},
     "output_type": "execute_result"
    }
   ],
   "source": [
    "# Get the first N number data from the specific measurement\n",
    "# number 개수만큼 데이터 가져오기\n",
    "front_by_num = db_client.get_datafront_by_num(number, db_name, ms_name)\n",
    "front_by_num"
   ]
  },
  {
   "cell_type": "code",
   "execution_count": 18,
   "id": "6f888a3b",
   "metadata": {},
   "outputs": [
    {
     "data": {
      "text/html": [
       "<div>\n",
       "<style scoped>\n",
       "    .dataframe tbody tr th:only-of-type {\n",
       "        vertical-align: middle;\n",
       "    }\n",
       "\n",
       "    .dataframe tbody tr th {\n",
       "        vertical-align: top;\n",
       "    }\n",
       "\n",
       "    .dataframe thead th {\n",
       "        text-align: right;\n",
       "    }\n",
       "</style>\n",
       "<table border=\"1\" class=\"dataframe\">\n",
       "  <thead>\n",
       "    <tr style=\"text-align: right;\">\n",
       "      <th></th>\n",
       "      <th>CO2ppm</th>\n",
       "      <th>H2Sppm</th>\n",
       "      <th>Humidity</th>\n",
       "      <th>NH3ppm</th>\n",
       "      <th>Temperature</th>\n",
       "    </tr>\n",
       "    <tr>\n",
       "      <th>time</th>\n",
       "      <th></th>\n",
       "      <th></th>\n",
       "      <th></th>\n",
       "      <th></th>\n",
       "      <th></th>\n",
       "    </tr>\n",
       "  </thead>\n",
       "  <tbody>\n",
       "    <tr>\n",
       "      <th>2021-04-03 19:53:00+00:00</th>\n",
       "      <td>NaN</td>\n",
       "      <td>NaN</td>\n",
       "      <td>11.0</td>\n",
       "      <td>NaN</td>\n",
       "      <td>95.0</td>\n",
       "    </tr>\n",
       "    <tr>\n",
       "      <th>2021-04-03 19:54:00+00:00</th>\n",
       "      <td>945.0</td>\n",
       "      <td>3.0</td>\n",
       "      <td>NaN</td>\n",
       "      <td>0.0</td>\n",
       "      <td>NaN</td>\n",
       "    </tr>\n",
       "    <tr>\n",
       "      <th>2021-04-03 19:55:00+00:00</th>\n",
       "      <td>NaN</td>\n",
       "      <td>NaN</td>\n",
       "      <td>11.0</td>\n",
       "      <td>NaN</td>\n",
       "      <td>95.0</td>\n",
       "    </tr>\n",
       "    <tr>\n",
       "      <th>2021-04-03 19:56:00+00:00</th>\n",
       "      <td>1111.0</td>\n",
       "      <td>2.0</td>\n",
       "      <td>NaN</td>\n",
       "      <td>0.0</td>\n",
       "      <td>NaN</td>\n",
       "    </tr>\n",
       "    <tr>\n",
       "      <th>2021-04-03 19:57:00+00:00</th>\n",
       "      <td>NaN</td>\n",
       "      <td>NaN</td>\n",
       "      <td>11.0</td>\n",
       "      <td>NaN</td>\n",
       "      <td>95.0</td>\n",
       "    </tr>\n",
       "    <tr>\n",
       "      <th>2021-04-03 19:58:00+00:00</th>\n",
       "      <td>994.0</td>\n",
       "      <td>2.0</td>\n",
       "      <td>NaN</td>\n",
       "      <td>0.0</td>\n",
       "      <td>NaN</td>\n",
       "    </tr>\n",
       "  </tbody>\n",
       "</table>\n",
       "</div>"
      ],
      "text/plain": [
       "                           CO2ppm  H2Sppm  Humidity  NH3ppm  Temperature\n",
       "time                                                                    \n",
       "2021-04-03 19:53:00+00:00     NaN     NaN      11.0     NaN         95.0\n",
       "2021-04-03 19:54:00+00:00   945.0     3.0       NaN     0.0          NaN\n",
       "2021-04-03 19:55:00+00:00     NaN     NaN      11.0     NaN         95.0\n",
       "2021-04-03 19:56:00+00:00  1111.0     2.0       NaN     0.0          NaN\n",
       "2021-04-03 19:57:00+00:00     NaN     NaN      11.0     NaN         95.0\n",
       "2021-04-03 19:58:00+00:00   994.0     2.0       NaN     0.0          NaN"
      ]
     },
     "execution_count": 18,
     "metadata": {},
     "output_type": "execute_result"
    }
   ],
   "source": [
    "# Get the last N number data from the specific measurement\n",
    "# number 개수만큼 마지막 데이터 가져오기\n",
    "end_by_num = db_client.get_dataend_by_num(number, db_name, ms_name)\n",
    "end_by_num"
   ]
  },
  {
   "cell_type": "code",
   "execution_count": 19,
   "id": "0168f750",
   "metadata": {},
   "outputs": [],
   "source": [
    "# setting time, number\n",
    "start_time = \"2021-01-01 00:00:00\"\n",
    "end_time = \"2021-02-01 00:00:00\"\n",
    "number = 10"
   ]
  },
  {
   "cell_type": "code",
   "execution_count": 20,
   "id": "89291424",
   "metadata": {},
   "outputs": [
    {
     "data": {
      "text/html": [
       "<div>\n",
       "<style scoped>\n",
       "    .dataframe tbody tr th:only-of-type {\n",
       "        vertical-align: middle;\n",
       "    }\n",
       "\n",
       "    .dataframe tbody tr th {\n",
       "        vertical-align: top;\n",
       "    }\n",
       "\n",
       "    .dataframe thead th {\n",
       "        text-align: right;\n",
       "    }\n",
       "</style>\n",
       "<table border=\"1\" class=\"dataframe\">\n",
       "  <thead>\n",
       "    <tr style=\"text-align: right;\">\n",
       "      <th></th>\n",
       "      <th>CO2ppm</th>\n",
       "      <th>H2Sppm</th>\n",
       "      <th>Humidity</th>\n",
       "      <th>NH3ppm</th>\n",
       "      <th>Temperature</th>\n",
       "    </tr>\n",
       "    <tr>\n",
       "      <th>time</th>\n",
       "      <th></th>\n",
       "      <th></th>\n",
       "      <th></th>\n",
       "      <th></th>\n",
       "      <th></th>\n",
       "    </tr>\n",
       "  </thead>\n",
       "  <tbody>\n",
       "    <tr>\n",
       "      <th>2021-01-01 00:00:00+00:00</th>\n",
       "      <td>916.0</td>\n",
       "      <td>9.0</td>\n",
       "      <td>-5.0</td>\n",
       "      <td>0.0</td>\n",
       "      <td>68.0</td>\n",
       "    </tr>\n",
       "    <tr>\n",
       "      <th>2021-01-01 00:02:00+00:00</th>\n",
       "      <td>907.0</td>\n",
       "      <td>5.0</td>\n",
       "      <td>-5.0</td>\n",
       "      <td>0.0</td>\n",
       "      <td>68.0</td>\n",
       "    </tr>\n",
       "    <tr>\n",
       "      <th>2021-01-01 00:04:00+00:00</th>\n",
       "      <td>924.0</td>\n",
       "      <td>4.0</td>\n",
       "      <td>-5.0</td>\n",
       "      <td>0.0</td>\n",
       "      <td>68.0</td>\n",
       "    </tr>\n",
       "    <tr>\n",
       "      <th>2021-01-01 00:06:00+00:00</th>\n",
       "      <td>919.0</td>\n",
       "      <td>6.0</td>\n",
       "      <td>-5.0</td>\n",
       "      <td>0.0</td>\n",
       "      <td>68.0</td>\n",
       "    </tr>\n",
       "    <tr>\n",
       "      <th>2021-01-01 00:08:00+00:00</th>\n",
       "      <td>923.0</td>\n",
       "      <td>5.0</td>\n",
       "      <td>-5.0</td>\n",
       "      <td>0.0</td>\n",
       "      <td>67.0</td>\n",
       "    </tr>\n",
       "    <tr>\n",
       "      <th>2021-01-01 00:10:00+00:00</th>\n",
       "      <td>931.0</td>\n",
       "      <td>9.0</td>\n",
       "      <td>-5.0</td>\n",
       "      <td>0.0</td>\n",
       "      <td>67.0</td>\n",
       "    </tr>\n",
       "    <tr>\n",
       "      <th>2021-01-01 00:12:00+00:00</th>\n",
       "      <td>926.0</td>\n",
       "      <td>5.0</td>\n",
       "      <td>-5.0</td>\n",
       "      <td>0.0</td>\n",
       "      <td>68.0</td>\n",
       "    </tr>\n",
       "    <tr>\n",
       "      <th>2021-01-01 00:14:00+00:00</th>\n",
       "      <td>907.0</td>\n",
       "      <td>4.0</td>\n",
       "      <td>-5.0</td>\n",
       "      <td>0.0</td>\n",
       "      <td>68.0</td>\n",
       "    </tr>\n",
       "    <tr>\n",
       "      <th>2021-01-01 00:16:00+00:00</th>\n",
       "      <td>926.0</td>\n",
       "      <td>5.0</td>\n",
       "      <td>-5.0</td>\n",
       "      <td>0.0</td>\n",
       "      <td>68.0</td>\n",
       "    </tr>\n",
       "    <tr>\n",
       "      <th>2021-01-01 00:18:00+00:00</th>\n",
       "      <td>926.0</td>\n",
       "      <td>6.0</td>\n",
       "      <td>-5.0</td>\n",
       "      <td>0.0</td>\n",
       "      <td>68.0</td>\n",
       "    </tr>\n",
       "  </tbody>\n",
       "</table>\n",
       "</div>"
      ],
      "text/plain": [
       "                           CO2ppm  H2Sppm  Humidity  NH3ppm  Temperature\n",
       "time                                                                    \n",
       "2021-01-01 00:00:00+00:00   916.0     9.0      -5.0     0.0         68.0\n",
       "2021-01-01 00:02:00+00:00   907.0     5.0      -5.0     0.0         68.0\n",
       "2021-01-01 00:04:00+00:00   924.0     4.0      -5.0     0.0         68.0\n",
       "2021-01-01 00:06:00+00:00   919.0     6.0      -5.0     0.0         68.0\n",
       "2021-01-01 00:08:00+00:00   923.0     5.0      -5.0     0.0         67.0\n",
       "2021-01-01 00:10:00+00:00   931.0     9.0      -5.0     0.0         67.0\n",
       "2021-01-01 00:12:00+00:00   926.0     5.0      -5.0     0.0         68.0\n",
       "2021-01-01 00:14:00+00:00   907.0     4.0      -5.0     0.0         68.0\n",
       "2021-01-01 00:16:00+00:00   926.0     5.0      -5.0     0.0         68.0\n",
       "2021-01-01 00:18:00+00:00   926.0     6.0      -5.0     0.0         68.0"
      ]
     },
     "execution_count": 20,
     "metadata": {},
     "output_type": "execute_result"
    }
   ],
   "source": [
    "# Get the limit data of the specific mearuement based on time duration (days)\n",
    "# 설정한 기간 중, number 개수만큼 데이터 가져오기\n",
    "data_limit_by_time = db_client.get_data_limit_by_time(start_time, end_time, number, db_name, ms_name)\n",
    "data_limit_by_time"
   ]
  },
  {
   "cell_type": "code",
   "execution_count": 21,
   "id": "d0f5351a",
   "metadata": {},
   "outputs": [
    {
     "data": {
      "text/plain": [
       "148098"
      ]
     },
     "execution_count": 21,
     "metadata": {},
     "output_type": "execute_result"
    }
   ],
   "source": [
    "# Get the data count from the specific measurement\n",
    "# Data 개수\n",
    "data_count = db_client.get_data_count(db_name, ms_name)\n",
    "data_count"
   ]
  },
  {
   "cell_type": "code",
   "execution_count": 22,
   "id": "0eeb235c",
   "metadata": {},
   "outputs": [
    {
     "ename": "NameError",
     "evalue": "name 'get_data_by_time_count' is not defined",
     "output_type": "error",
     "traceback": [
      "\u001b[0;31m---------------------------------------------------------------------------\u001b[0m",
      "\u001b[0;31mNameError\u001b[0m                                 Traceback (most recent call last)",
      "Input \u001b[0;32mIn [22]\u001b[0m, in \u001b[0;36m<cell line: 3>\u001b[0;34m()\u001b[0m\n\u001b[1;32m      1\u001b[0m \u001b[38;5;66;03m# Get data of the specific measurement based on start-end duration\u001b[39;00m\n\u001b[1;32m      2\u001b[0m \u001b[38;5;66;03m# 특정 기간내의 Data 개수\u001b[39;00m\n\u001b[0;32m----> 3\u001b[0m data_time_count \u001b[38;5;241m=\u001b[39m \u001b[43mget_data_by_time_count\u001b[49m(start_time, end_time, bk_name, ms_name)\n\u001b[1;32m      4\u001b[0m data_time_count\n",
      "\u001b[0;31mNameError\u001b[0m: name 'get_data_by_time_count' is not defined"
     ]
    }
   ],
   "source": [
    "# Get data of the specific measurement based on start-end duration\n",
    "# 특정 기간내의 Data 개수\n",
    "data_time_count = get_data_by_time_count(start_time, end_time, bk_name, ms_name)\n",
    "data_time_count"
   ]
  },
  {
   "cell_type": "markdown",
   "id": "24b8ef94",
   "metadata": {},
   "source": [
    "# Tag Method"
   ]
  },
  {
   "cell_type": "code",
   "execution_count": null,
   "id": "f6bbb0c4",
   "metadata": {},
   "outputs": [],
   "source": [
    "db_name  = 'finance_korean_stock'"
   ]
  },
  {
   "cell_type": "code",
   "execution_count": null,
   "id": "b3097fcb",
   "metadata": {},
   "outputs": [],
   "source": [
    "ms_list = db_client.measurement_list(db_name)\n",
    "print(ms_list)"
   ]
  },
  {
   "cell_type": "code",
   "execution_count": null,
   "id": "1bbfcde5",
   "metadata": {},
   "outputs": [],
   "source": [
    "ms_name = 'stock'"
   ]
  },
  {
   "cell_type": "code",
   "execution_count": null,
   "id": "68a3af5d",
   "metadata": {},
   "outputs": [],
   "source": [
    "# Get Tag List(database must have a tag keys)\n",
    "tag_list = db_client.get_tagList(db_name, ms_name)\n",
    "print(tag_list)"
   ]
  },
  {
   "cell_type": "code",
   "execution_count": null,
   "id": "8b7bf476",
   "metadata": {},
   "outputs": [],
   "source": [
    "# Get unique value of selected tag key\n",
    "tag_key = 'company'\n",
    "tag_distinct_value = db_client.get_TagValue(db_name, ms_name, tag_key)\n",
    "tag_distinct_value"
   ]
  },
  {
   "cell_type": "code",
   "execution_count": null,
   "id": "845a65a8",
   "metadata": {},
   "outputs": [],
   "source": [
    "# get all data\n",
    "tag_value='GS리테일'\n",
    "tag_value_data = db_client.get_data(db_name, ms_name, tag_key, tag_value)\n",
    "tag_value_data[:3]"
   ]
  },
  {
   "cell_type": "code",
   "execution_count": null,
   "id": "a4c3ef17",
   "metadata": {},
   "outputs": [],
   "source": [
    "tag_value_data = db_client.get_data_by_time('2020-01-01','2022-12-31',db_name, ms_name, tag_key, tag_value)\n",
    "tag_value_data"
   ]
  },
  {
   "cell_type": "markdown",
   "id": "1b4ff858",
   "metadata": {},
   "source": [
    "# Data Write"
   ]
  },
  {
   "cell_type": "code",
   "execution_count": null,
   "id": "0fda0f36",
   "metadata": {},
   "outputs": [],
   "source": [
    "# get csv file\n",
    "import pandas as pd\n",
    "\n",
    "file_path = './exampleData/swine.csv'\n",
    "data = pd.read_csv(file_path, index_col='time')"
   ]
  },
  {
   "cell_type": "code",
   "execution_count": null,
   "id": "eb127e1a",
   "metadata": {},
   "outputs": [],
   "source": [
    "data"
   ]
  },
  {
   "cell_type": "code",
   "execution_count": null,
   "id": "c269dabe",
   "metadata": {},
   "outputs": [],
   "source": [
    "# setting database, measurement name\n",
    "db_name = 'air_test123'\n",
    "ms_name = 'test123'"
   ]
  },
  {
   "cell_type": "code",
   "execution_count": null,
   "id": "7021fdb1",
   "metadata": {},
   "outputs": [],
   "source": [
    "# Write data to the influxdb\n",
    "db_client.write_db(db_name, ms_name, data)"
   ]
  },
  {
   "cell_type": "code",
   "execution_count": null,
   "id": "ba6ad576",
   "metadata": {},
   "outputs": [],
   "source": []
  }
 ],
 "metadata": {
  "kernelspec": {
   "display_name": "Python 3 (ipykernel)",
   "language": "python",
   "name": "python3"
  },
  "language_info": {
   "codemirror_mode": {
    "name": "ipython",
    "version": 3
   },
   "file_extension": ".py",
   "mimetype": "text/x-python",
   "name": "python",
   "nbconvert_exporter": "python",
   "pygments_lexer": "ipython3",
   "version": "3.8.13"
  },
  "vscode": {
   "interpreter": {
    "hash": "f1ef7e1f828dbb4e75f421045d2c565197efaf8469a0be4a314c6ea8378b5cb2"
   }
  }
 },
 "nbformat": 4,
 "nbformat_minor": 5
}
