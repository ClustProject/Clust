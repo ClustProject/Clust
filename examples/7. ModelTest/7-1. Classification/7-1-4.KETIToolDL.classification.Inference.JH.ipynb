{
 "cells": [
  {
   "cell_type": "markdown",
   "id": "8ff64dfe",
   "metadata": {
    "toc": true
   },
   "source": [
    "<h1>Table of Contents<span class=\"tocSkip\"></span></h1>\n",
    "<div class=\"toc\"><ul class=\"toc-item\"><li><span><a href=\"#4.-Inference\" data-toc-modified-id=\"4.-Inference-1\"><span class=\"toc-item-num\">1&nbsp;&nbsp;</span>4. Inference</a></span><ul class=\"toc-item\"><li><span><a href=\"#4-1.-(just-for-test)-Data-Preparation\" data-toc-modified-id=\"4-1.-(just-for-test)-Data-Preparation-1.1\"><span class=\"toc-item-num\">1.1&nbsp;&nbsp;</span>4-1. (just for test) Data Preparation</a></span></li></ul></li></ul></div>"
   ]
  },
  {
   "cell_type": "markdown",
   "id": "fd79d0c3",
   "metadata": {},
   "source": [
    "# 4. Inference"
   ]
  },
  {
   "cell_type": "code",
   "execution_count": 1,
   "id": "1611f6b2",
   "metadata": {
    "ExecuteTime": {
     "end_time": "2022-08-09T03:10:39.855210Z",
     "start_time": "2022-08-09T03:10:38.830148Z"
    }
   },
   "outputs": [
    {
     "name": "stdout",
     "output_type": "stream",
     "text": [
      "cpu is available.\n"
     ]
    }
   ],
   "source": [
    "import sys, os\n",
    "sys.path.append(\"../../\")\n",
    "sys.path.append(\"../../../\")\n",
    "sys.path.append(\"../../../../\")\n",
    "import setting\n",
    "import pandas as pd\n",
    "\n",
    "from Clust.clust.ML.common.common import p1_integratedDataSaving as p1\n",
    "from Clust.clust.ML.tool import clean as ml_clean\n",
    "from Clust.clust.ML.tool import data as ml_data\n",
    "from Clust.clust.ML.tool import meta as ml_meta\n",
    "from Clust.clust.ML.tool import model as ml_model\n",
    "from Clust.clust.ML.tool import scaler as ml_scaler\n",
    "import pathSetting\n",
    "\n",
    "import torch\n",
    "#import main_regression as mr\n",
    "device = \"cuda\" if torch.cuda.is_available() else \"cpu\"\n",
    "print(f\"{device}\" \" is available.\")"
   ]
  },
  {
   "cell_type": "markdown",
   "id": "4b4915be",
   "metadata": {},
   "source": [
    "## 4-1. (just for test) Data Preparation "
   ]
  },
  {
   "cell_type": "code",
   "execution_count": 2,
   "id": "2579d539",
   "metadata": {
    "ExecuteTime": {
     "end_time": "2022-08-09T03:10:40.766572Z",
     "start_time": "2022-08-09T03:10:39.856631Z"
    }
   },
   "outputs": [],
   "source": [
    "# 0. pick only one data\n",
    "data_meta = p1.read_json_data(pathSetting.DataMetaPath)\n",
    "dataList =  list(data_meta.keys())\n",
    "# dataX\n",
    "\n",
    "data_name_X = dataList[2]\n",
    "data_save_mode_X = data_meta[data_name_X][\"integrationInfo\"][\"DataSaveMode\"]\n",
    "\n",
    "# datay\n",
    "data_name_y = dataList[3]\n",
    "data_save_mode_y = data_meta[data_name_y][\"integrationInfo\"][\"DataSaveMode\"]\n",
    "data_folder_name = \"data_integrated_result\"\n",
    "current = os.getcwd()\n",
    "data_folder_path = os.path.join(current, data_folder_name)\n",
    "\n",
    "window_num =128\n",
    "data_X = ml_data.get_saved_integrated_data(data_save_mode_X, data_name_X, data_folder_path)[:window_num]\n",
    "# datay = p2.get_saved_integrated_data(dataSaveMode_y, dataName_y, dataFolderPath)[:1]\n",
    "# from Clust.clust.transformation.type.DFToNPArray import transDFtoNP\n",
    "# inputX, inputy = transDFtoNP(dataX, datay, windowNum)\n",
    "# print(inputX, inputy) # Real Input"
   ]
  },
  {
   "cell_type": "markdown",
   "id": "ab975e94",
   "metadata": {},
   "source": [
    "### Get model meta by mongodb"
   ]
  },
  {
   "cell_type": "code",
   "execution_count": 3,
   "id": "84e5bab4",
   "metadata": {},
   "outputs": [],
   "source": [
    "from Clust.clust.ingestion.mongo import mongo_client\n",
    "from Clust.setting import influx_setting_KETI as ins\n",
    "\n",
    "mongo_client = mongo_client.MongoClient(ins.CLUSTMetaInfo2)\n",
    "\n",
    "db_name = 'model'\n",
    "collection_name = 'meta'\n",
    "\n",
    "all_model_meta = mongo_client.get_all_document(db_name, collection_name)"
   ]
  },
  {
   "cell_type": "code",
   "execution_count": 4,
   "id": "48c88568",
   "metadata": {},
   "outputs": [],
   "source": [
    "search = {'modelName': 'New_ClassificationNocleanLSTM_cf'}\n",
    "model_meta= mongo_client.get_document_by_json(db_name, collection_name, search)\n",
    "model_meta = model_meta[0]"
   ]
  },
  {
   "cell_type": "code",
   "execution_count": 5,
   "id": "a16ed7ab",
   "metadata": {},
   "outputs": [
    {
     "data": {
      "text/plain": [
       "{'author': 'KETI',\n",
       " 'modelName': 'New_ClassificationNocleanLSTM_cf',\n",
       " 'modelVersion': 0.1,\n",
       " 'trainDataInfo': {'startTime': '1992-1-11',\n",
       "  'endTime': '2012-02-27',\n",
       "  'dataInfo': [['bio_action_sensors', 'accelerationTrain']],\n",
       "  'processParam': {'refine_param': {'removeDuplication': {'flag': False},\n",
       "    'staticFrequency': {'flag': False, 'frequency': None}},\n",
       "   'outlier_param': {'certainErrorToNaN': {'flag': False},\n",
       "    'unCertainErrorToNaN': {'flag': False, 'param': {}}},\n",
       "   'imputation_param': {'flag': False,\n",
       "    'imputation_method': [],\n",
       "    'totalNonNanRatio': 80}},\n",
       "  'integration_freq_sec': 675,\n",
       "  'cleanParam': 'NoClean',\n",
       "  'DataSaveMode': 'CSV'},\n",
       " 'featureList': ['col_0',\n",
       "  'col_1',\n",
       "  'col_2',\n",
       "  'col_3',\n",
       "  'col_4',\n",
       "  'col_5',\n",
       "  'col_6',\n",
       "  'col_7',\n",
       "  'col_8'],\n",
       " 'target': ['value'],\n",
       " 'trainDataType': 'timeseries',\n",
       " 'modelPurpose': 'classification',\n",
       " 'model_method': 'LSTM_cf',\n",
       " 'modelTags': ['action', 'sensor', 'classification', 'pattern'],\n",
       " 'cleanTrainDataParam': 'NoClean',\n",
       " 'NaNProcessingParam': {'feature_cycle': 'Day',\n",
       "  'feature_cycle_times': 1,\n",
       "  'NanInfoForCleanData': {'type': 'num',\n",
       "   'ConsecutiveNanLimit': 3,\n",
       "   'totalNaNLimit': 30000}},\n",
       " 'trainDataName': ['trainX_ActionPatternData', 'trainy_ActionPatternData'],\n",
       " 'trainParameter': {'num_layers': 2,\n",
       "  'hidden_size': 64,\n",
       "  'dropout': 0.1,\n",
       "  'bidirectional': True,\n",
       "  'lr': 0.0001,\n",
       "  'device': 'cpu',\n",
       "  'n_epochs': 2,\n",
       "  'num_classes': 6,\n",
       "  'batch_size': 16,\n",
       "  'input_size': 9,\n",
       "  'seq_len': 128,\n",
       "  'rnn_type': 'lstm'},\n",
       " 'scalerParam': 'scale',\n",
       " 'files': {'modelFile': {'fileName': 'model.pth',\n",
       "   'filePath': './Models/LSTM_cf/New_ClassificationNocleanLSTM_cf/trainX_ActionPatternData/2c4ed4d8c401715309eb2ae4bcf85d8a/model.pkl'},\n",
       "  'XScalerFile': {'fileName': 'scaler.pkl',\n",
       "   'filePath': './scaler/trainX_ActionPatternData/NoClean/minmax/2b219d77d5b069971addb3d7c728ec0d/scaler.pkl'},\n",
       "  'yScalerFile': {'fileName': 'scaler.pkl', 'filePath': None}},\n",
       " 'n_epochs': 2}"
      ]
     },
     "execution_count": 5,
     "metadata": {},
     "output_type": "execute_result"
    }
   ],
   "source": [
    "model_meta"
   ]
  },
  {
   "cell_type": "code",
   "execution_count": null,
   "id": "b7a286fe",
   "metadata": {},
   "outputs": [],
   "source": []
  },
  {
   "cell_type": "markdown",
   "id": "9285ee77",
   "metadata": {},
   "source": [
    "## Inference"
   ]
  },
  {
   "cell_type": "code",
   "execution_count": 6,
   "id": "07c69340",
   "metadata": {},
   "outputs": [],
   "source": [
    "X_scaler_file_path = model_meta['files']['XScalerFile'][\"filePath\"]\n",
    "y_scaler_file_path = model_meta['files']['yScalerFile'][\"filePath\"]\n",
    "model_file_path = model_meta['files']['modelFile'][\"filePath\"]\n",
    "\n",
    "feature_list = model_meta[\"featureList\"]\n",
    "target = model_meta[\"target\"]\n",
    "scaler_param = model_meta[\"scalerParam\"]\n",
    "model_method = model_meta[\"model_method\"]\n",
    "train_parameter = model_meta[\"trainParameter\"]\n",
    "\n",
    "dim = None\n",
    "if model_method == \"FC_cf\":\n",
    "    dim = 2\n",
    "\n",
    "input_X, scaler_X = ml_scaler.get_scaled_test_data(data_X[feature_list], X_scaler_file_path, scaler_param)\n",
    "# sacler_y = ml_scaler.get_scaler_file(y_scaler_file_path)\n",
    "\n",
    "train_parameter['batch_size'] = 1\n",
    "scaler_param=\"noScale\" # for classification"
   ]
  },
  {
   "cell_type": "code",
   "execution_count": 7,
   "id": "4342a427",
   "metadata": {},
   "outputs": [
    {
     "name": "stdout",
     "output_type": "stream",
     "text": [
      "\n",
      "Start inference\n",
      "\n",
      "** Dimension of result for inference dataset = (1,)\n"
     ]
    }
   ],
   "source": [
    "from Clust.clust.ML.classification.inference import ClassificationInference\n",
    "\n",
    "CInference = ClassificationInference()\n",
    "CInference.set_param(train_parameter)\n",
    "CInference.set_model(model_method, model_file_path)\n",
    "CInference.set_data(input_X, window_num, dim)\n",
    "preds =  CInference.inference()"
   ]
  },
  {
   "cell_type": "code",
   "execution_count": 8,
   "id": "f0300c34",
   "metadata": {},
   "outputs": [],
   "source": [
    "if scaler_param =='scale':\n",
    "    base_df_for_inverse = pd.DataFrame(columns=target, index=range(len(preds)))\n",
    "    base_df_for_inverse[target] = preds\n",
    "    prediction_result = pd.DataFrame(scaler_X.inverse_transform(base_df_for_inverse), columns=target, index=base_df_for_inverse.index)\n",
    "else:\n",
    "    prediction_result = pd.DataFrame(data={'value':preds}, index=range(len(preds)))"
   ]
  },
  {
   "cell_type": "code",
   "execution_count": null,
   "id": "edd2250d",
   "metadata": {},
   "outputs": [],
   "source": []
  },
  {
   "cell_type": "code",
   "execution_count": null,
   "id": "7fc07818",
   "metadata": {},
   "outputs": [],
   "source": []
  },
  {
   "cell_type": "code",
   "execution_count": 9,
   "id": "bb72fb20",
   "metadata": {
    "ExecuteTime": {
     "end_time": "2022-08-09T03:10:46.391924Z",
     "start_time": "2022-08-09T03:10:41.183031Z"
    },
    "scrolled": false
   },
   "outputs": [],
   "source": [
    "# df_result = app.get_inference_result(data_X, model_meta, window_num)"
   ]
  },
  {
   "cell_type": "code",
   "execution_count": 10,
   "id": "290a6573",
   "metadata": {
    "ExecuteTime": {
     "end_time": "2022-08-09T03:10:46.400072Z",
     "start_time": "2022-08-09T03:10:46.393030Z"
    }
   },
   "outputs": [
    {
     "data": {
      "text/html": [
       "<div>\n",
       "<style scoped>\n",
       "    .dataframe tbody tr th:only-of-type {\n",
       "        vertical-align: middle;\n",
       "    }\n",
       "\n",
       "    .dataframe tbody tr th {\n",
       "        vertical-align: top;\n",
       "    }\n",
       "\n",
       "    .dataframe thead th {\n",
       "        text-align: right;\n",
       "    }\n",
       "</style>\n",
       "<table border=\"1\" class=\"dataframe\">\n",
       "  <thead>\n",
       "    <tr style=\"text-align: right;\">\n",
       "      <th></th>\n",
       "      <th>value</th>\n",
       "    </tr>\n",
       "  </thead>\n",
       "  <tbody>\n",
       "    <tr>\n",
       "      <th>0</th>\n",
       "      <td>4</td>\n",
       "    </tr>\n",
       "  </tbody>\n",
       "</table>\n",
       "</div>"
      ],
      "text/plain": [
       "   value\n",
       "0      4"
      ]
     },
     "execution_count": 10,
     "metadata": {},
     "output_type": "execute_result"
    }
   ],
   "source": [
    "prediction_result"
   ]
  },
  {
   "cell_type": "code",
   "execution_count": null,
   "id": "6c7e4125",
   "metadata": {},
   "outputs": [],
   "source": []
  }
 ],
 "metadata": {
  "hide_input": false,
  "kernelspec": {
   "display_name": "clust",
   "language": "python",
   "name": "clust"
  },
  "language_info": {
   "codemirror_mode": {
    "name": "ipython",
    "version": 3
   },
   "file_extension": ".py",
   "mimetype": "text/x-python",
   "name": "python",
   "nbconvert_exporter": "python",
   "pygments_lexer": "ipython3",
   "version": "3.8.16"
  },
  "toc": {
   "base_numbering": 1,
   "nav_menu": {},
   "number_sections": true,
   "sideBar": true,
   "skip_h1_title": false,
   "title_cell": "Table of Contents",
   "title_sidebar": "Contents",
   "toc_cell": true,
   "toc_position": {},
   "toc_section_display": true,
   "toc_window_display": true
  },
  "vscode": {
   "interpreter": {
    "hash": "f1ef7e1f828dbb4e75f421045d2c565197efaf8469a0be4a314c6ea8378b5cb2"
   }
  }
 },
 "nbformat": 4,
 "nbformat_minor": 5
}
