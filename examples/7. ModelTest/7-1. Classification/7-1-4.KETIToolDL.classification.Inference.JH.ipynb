{
 "cells": [
  {
   "cell_type": "markdown",
   "id": "8ff64dfe",
   "metadata": {
    "toc": true
   },
   "source": [
    "<h1>Table of Contents<span class=\"tocSkip\"></span></h1>\n",
    "<div class=\"toc\"><ul class=\"toc-item\"><li><span><a href=\"#4.-Inference\" data-toc-modified-id=\"4.-Inference-1\"><span class=\"toc-item-num\">1&nbsp;&nbsp;</span>4. Inference</a></span><ul class=\"toc-item\"><li><span><a href=\"#4-1.-(just-for-test)-Data-Preparation\" data-toc-modified-id=\"4-1.-(just-for-test)-Data-Preparation-1.1\"><span class=\"toc-item-num\">1.1&nbsp;&nbsp;</span>4-1. (just for test) Data Preparation</a></span></li></ul></li></ul></div>"
   ]
  },
  {
   "cell_type": "markdown",
   "id": "fd79d0c3",
   "metadata": {},
   "source": [
    "# 4. Inference"
   ]
  },
  {
   "cell_type": "code",
   "execution_count": 1,
   "id": "1611f6b2",
   "metadata": {
    "ExecuteTime": {
     "end_time": "2022-08-09T03:10:39.855210Z",
     "start_time": "2022-08-09T03:10:38.830148Z"
    }
   },
   "outputs": [
    {
     "name": "stdout",
     "output_type": "stream",
     "text": [
      "cuda is available.\n"
     ]
    }
   ],
   "source": [
    "import sys, os\n",
    "sys.path.append(\"../../..\")\n",
    "\n",
    "import pathSetting\n",
    "import pandas as pd\n",
    "from KETIToolDL.CLUSTTool.common import p1_integratedDataSaving as p1\n",
    "from KETIToolDL.CLUSTTool.common import p2_dataSelection as p2\n",
    "from KETIToolDL.CLUSTTool.common import p4_testing as p4\n",
    "from KETIToolDL.CLUSTTool.Classification import p4_testing as p4C\n",
    "\n",
    "import torch\n",
    "#import main_regression as mr\n",
    "device = \"cuda\" if torch.cuda.is_available() else \"cpu\"\n",
    "print(f\"{device}\" \" is available.\")"
   ]
  },
  {
   "cell_type": "markdown",
   "id": "4b4915be",
   "metadata": {},
   "source": [
    "## 4-1. (just for test) Data Preparation "
   ]
  },
  {
   "cell_type": "code",
   "execution_count": 2,
   "id": "2579d539",
   "metadata": {
    "ExecuteTime": {
     "end_time": "2022-08-09T03:10:40.766572Z",
     "start_time": "2022-08-09T03:10:39.856631Z"
    }
   },
   "outputs": [
    {
     "name": "stdout",
     "output_type": "stream",
     "text": [
      "[[[ 0.01165315  0.01310909  0.01126885 ...  0.00129151  0.00147\n",
      "    0.00257384]\n",
      "  [-0.02939904 -0.03972867 -0.05240586 ...  0.01173502  0.00951741\n",
      "    0.00730507]\n",
      "  [ 0.1068262   0.1524549   0.2168462  ...  0.00366559  0.00404194\n",
      "    0.00488844]\n",
      "  ...\n",
      "  [ 1.041216    1.041803    1.039086   ...  0.9930164   0.9932414\n",
      "    0.9943906 ]\n",
      "  [-0.2697959  -0.280025   -0.2926631  ... -0.2599865  -0.2620643\n",
      "   -0.2641348 ]\n",
      "  [ 0.02377977  0.07629271  0.1474754  ...  0.1443951   0.1447033\n",
      "    0.1454939 ]]] [4.]\n"
     ]
    }
   ],
   "source": [
    "# 0. pick only one data\n",
    "DataMeta = p1.readJsonData(pathSetting.DataMetaPath)\n",
    "dataList =  list(DataMeta.keys())\n",
    "# dataX\n",
    "\n",
    "dataName_X = dataList[2]\n",
    "dataSaveMode_X = DataMeta[dataName_X][\"integrationInfo\"][\"DataSaveMode\"]\n",
    "\n",
    "# datay\n",
    "dataName_y = dataList[3]\n",
    "dataSaveMode_y = DataMeta[dataName_y][\"integrationInfo\"][\"DataSaveMode\"]\n",
    "dataFolderName = \"data_integrated_result\"\n",
    "current = os.getcwd()\n",
    "dataFolderPath = os.path.join(current, dataFolderName)\n",
    "\n",
    "windowNum =128\n",
    "dataX = p2.getSavedIntegratedData(dataSaveMode_X, dataName_X, dataFolderPath)[:windowNum]\n",
    "datay = p2.getSavedIntegratedData(dataSaveMode_y, dataName_y, dataFolderPath)[:1]\n",
    "from Clust.clust.transformation.type.DFToNPArray import transDFtoNP\n",
    "inputX, inputy = transDFtoNP(dataX, datay, windowNum)\n",
    "print(inputX, inputy) # Real Input"
   ]
  },
  {
   "cell_type": "code",
   "execution_count": 3,
   "id": "bbdb6e67",
   "metadata": {
    "ExecuteTime": {
     "end_time": "2022-08-09T03:10:40.771072Z",
     "start_time": "2022-08-09T03:10:40.767599Z"
    }
   },
   "outputs": [],
   "source": [
    "# 1 Read Parameter and model information\n",
    "ModelMeta =p1.readJsonData(pathSetting.trainModelMetaFilePath)\n",
    "modelList = list(ModelMeta.keys())\n",
    "modelName = modelList[0]\n",
    "\n",
    "X_scalerFilePath = ModelMeta[modelName]['files']['XScalerFile'][\"filePath\"]\n",
    "y_scalerFilePath = ModelMeta[modelName]['files']['yScalerFile'][\"filePath\"]\n",
    "modelFilePath = ModelMeta[modelName]['files']['modelFile'][\"filePath\"]\n",
    "    \n",
    "featureList = ModelMeta[modelName][\"featureList\"]\n",
    "target = ModelMeta[modelName][\"target\"]\n",
    "scalerParam = ModelMeta[modelName][\"scalerParam\"]\n",
    "model_method = ModelMeta[modelName][\"model_method\"]\n",
    "trainParameter = ModelMeta[modelName][\"trainParameter\"]"
   ]
  },
  {
   "cell_type": "code",
   "execution_count": 4,
   "id": "59ef6a6f",
   "metadata": {
    "ExecuteTime": {
     "end_time": "2022-08-09T03:10:40.786310Z",
     "start_time": "2022-08-09T03:10:40.772426Z"
    }
   },
   "outputs": [],
   "source": [
    "#2 ## ???\n",
    "#from Clust.clust.transformation.type.NPArrayToDF import trans3NPtoDF\n",
    "#inputXDF, y = trans3NPtoDF(inputX, inputy,'2000-1-1')"
   ]
  },
  {
   "cell_type": "code",
   "execution_count": 5,
   "id": "00efe359",
   "metadata": {
    "ExecuteTime": {
     "end_time": "2022-08-09T03:10:41.178825Z",
     "start_time": "2022-08-09T03:10:40.787805Z"
    }
   },
   "outputs": [],
   "source": [
    "# 3. Scaling\n",
    "test_x, scaler_X = p4.getScaledTestData(dataX[featureList], X_scalerFilePath, scalerParam)\n",
    "test_y, scaler_y = p4.getScaledTestData(datay[target], y_scalerFilePath, scalerParam)\n",
    "# y  값은 더미 값이 들어가는 것임"
   ]
  },
  {
   "cell_type": "code",
   "execution_count": 6,
   "id": "bb72fb20",
   "metadata": {
    "ExecuteTime": {
     "end_time": "2022-08-09T03:10:46.391924Z",
     "start_time": "2022-08-09T03:10:41.183031Z"
    },
    "scrolled": false
   },
   "outputs": [
    {
     "name": "stderr",
     "output_type": "stream",
     "text": [
      "/home/hwangjisoo/바탕화면/Clust/KETIAppTestCode/MLModelTest/ClassificationModelTest/../../../KETIPreDataTransformation/dataType/DFToNPArray.py:37: FutureWarning: Indexing a timezone-aware DatetimeIndex with a timezone-naive datetime is deprecated and will raise KeyError in a future version.  Use a timezone-aware object instead.\n",
      "  dfX_partial = dfX[startDate:endDate]\n",
      "/home/hwangjisoo/바탕화면/Clust/KETIAppTestCode/MLModelTest/ClassificationModelTest/../../../KETIPreDataTransformation/dataType/DFToNPArray.py:38: FutureWarning: Indexing a timezone-aware DatetimeIndex with a timezone-naive datetime is deprecated and will raise KeyError in a future version.  Use a timezone-aware object instead.\n",
      "  dfy_partial = dfy[startDate:endDate]\n"
     ]
    },
    {
     "name": "stdout",
     "output_type": "stream",
     "text": [
      "\n",
      "Start testing data\n",
      "\n",
      "** Performance of test dataset ==> PROB = [[9.5148051e-01 4.6992615e-02 3.5871699e-04 3.3532301e-04 5.3666160e-04\n",
      "  2.9622717e-04]], ACC = 1.0\n",
      "** Dimension of result for test dataset = (1,)\n",
      "scale\n",
      "** Performance of test dataset (After Inverse Scaling)==> MSE = 0.0, MAE = 0.0\n"
     ]
    }
   ],
   "source": [
    "# 4. Testing\n",
    "batch_size=1\n",
    "\n",
    "df_result, result_metrics_df, acc = p4C.getResultMetrics(test_x, test_y, model_method, target, modelFilePath, scalerParam, scaler_y, trainParameter, batch_size, device)"
   ]
  },
  {
   "cell_type": "code",
   "execution_count": 7,
   "id": "290a6573",
   "metadata": {
    "ExecuteTime": {
     "end_time": "2022-08-09T03:10:46.400072Z",
     "start_time": "2022-08-09T03:10:46.393030Z"
    }
   },
   "outputs": [
    {
     "data": {
      "text/html": [
       "<div>\n",
       "<style scoped>\n",
       "    .dataframe tbody tr th:only-of-type {\n",
       "        vertical-align: middle;\n",
       "    }\n",
       "\n",
       "    .dataframe tbody tr th {\n",
       "        vertical-align: top;\n",
       "    }\n",
       "\n",
       "    .dataframe thead th {\n",
       "        text-align: right;\n",
       "    }\n",
       "</style>\n",
       "<table border=\"1\" class=\"dataframe\">\n",
       "  <thead>\n",
       "    <tr style=\"text-align: right;\">\n",
       "      <th></th>\n",
       "      <th>value</th>\n",
       "      <th>prediction</th>\n",
       "    </tr>\n",
       "  </thead>\n",
       "  <tbody>\n",
       "    <tr>\n",
       "      <th>0</th>\n",
       "      <td>0.0</td>\n",
       "      <td>0.0</td>\n",
       "    </tr>\n",
       "  </tbody>\n",
       "</table>\n",
       "</div>"
      ],
      "text/plain": [
       "   value  prediction\n",
       "0    0.0         0.0"
      ]
     },
     "execution_count": 7,
     "metadata": {},
     "output_type": "execute_result"
    }
   ],
   "source": [
    "df_result"
   ]
  },
  {
   "cell_type": "code",
   "execution_count": 8,
   "id": "664a6d6a",
   "metadata": {
    "ExecuteTime": {
     "end_time": "2022-08-09T03:10:46.452339Z",
     "start_time": "2022-08-09T03:10:46.401025Z"
    }
   },
   "outputs": [
    {
     "data": {
      "text/html": [
       "<div>\n",
       "<style scoped>\n",
       "    .dataframe tbody tr th:only-of-type {\n",
       "        vertical-align: middle;\n",
       "    }\n",
       "\n",
       "    .dataframe tbody tr th {\n",
       "        vertical-align: top;\n",
       "    }\n",
       "\n",
       "    .dataframe thead th {\n",
       "        text-align: right;\n",
       "    }\n",
       "</style>\n",
       "<table border=\"1\" class=\"dataframe\">\n",
       "  <thead>\n",
       "    <tr style=\"text-align: right;\">\n",
       "      <th></th>\n",
       "      <th>precision</th>\n",
       "      <th>recall</th>\n",
       "      <th>f1-score</th>\n",
       "      <th>support</th>\n",
       "    </tr>\n",
       "  </thead>\n",
       "  <tbody>\n",
       "    <tr>\n",
       "      <th>0</th>\n",
       "      <td>1.0</td>\n",
       "      <td>1.0</td>\n",
       "      <td>1.0</td>\n",
       "      <td>1.0</td>\n",
       "    </tr>\n",
       "    <tr>\n",
       "      <th>accuracy</th>\n",
       "      <td>1.0</td>\n",
       "      <td>1.0</td>\n",
       "      <td>1.0</td>\n",
       "      <td>1.0</td>\n",
       "    </tr>\n",
       "    <tr>\n",
       "      <th>macro avg</th>\n",
       "      <td>1.0</td>\n",
       "      <td>1.0</td>\n",
       "      <td>1.0</td>\n",
       "      <td>1.0</td>\n",
       "    </tr>\n",
       "    <tr>\n",
       "      <th>weighted avg</th>\n",
       "      <td>1.0</td>\n",
       "      <td>1.0</td>\n",
       "      <td>1.0</td>\n",
       "      <td>1.0</td>\n",
       "    </tr>\n",
       "  </tbody>\n",
       "</table>\n",
       "</div>"
      ],
      "text/plain": [
       "              precision  recall  f1-score  support\n",
       "0                   1.0     1.0       1.0      1.0\n",
       "accuracy            1.0     1.0       1.0      1.0\n",
       "macro avg           1.0     1.0       1.0      1.0\n",
       "weighted avg        1.0     1.0       1.0      1.0"
      ]
     },
     "execution_count": 8,
     "metadata": {},
     "output_type": "execute_result"
    }
   ],
   "source": [
    "result_metrics_df"
   ]
  },
  {
   "cell_type": "code",
   "execution_count": 9,
   "id": "427afb1a",
   "metadata": {
    "ExecuteTime": {
     "end_time": "2022-08-09T03:10:46.463499Z",
     "start_time": "2022-08-09T03:10:46.454276Z"
    }
   },
   "outputs": [
    {
     "data": {
      "text/plain": [
       "['./Models/LSTM_cf/CLUST/ActionPattern/afc5bf792ed6f59e371a84e15aca5813_5859aaa1977f607dd6decedede00df0d/f2a36ead1ca2fef043aa1df6ee3786c1/model.pt']"
      ]
     },
     "execution_count": 9,
     "metadata": {},
     "output_type": "execute_result"
    }
   ],
   "source": [
    "ModelMeta[modelName]['files']['modelFile'][\"filePath\"]"
   ]
  },
  {
   "cell_type": "code",
   "execution_count": null,
   "id": "6c7e4125",
   "metadata": {},
   "outputs": [],
   "source": []
  }
 ],
 "metadata": {
  "hide_input": false,
  "kernelspec": {
   "display_name": "Python 3 (ipykernel)",
   "language": "python",
   "name": "python3"
  },
  "language_info": {
   "codemirror_mode": {
    "name": "ipython",
    "version": 3
   },
   "file_extension": ".py",
   "mimetype": "text/x-python",
   "name": "python",
   "nbconvert_exporter": "python",
   "pygments_lexer": "ipython3",
   "version": "3.8.8"
  },
  "toc": {
   "base_numbering": 1,
   "nav_menu": {},
   "number_sections": true,
   "sideBar": true,
   "skip_h1_title": false,
   "title_cell": "Table of Contents",
   "title_sidebar": "Contents",
   "toc_cell": true,
   "toc_position": {},
   "toc_section_display": true,
   "toc_window_display": true
  },
  "vscode": {
   "interpreter": {
    "hash": "f1ef7e1f828dbb4e75f421045d2c565197efaf8469a0be4a314c6ea8378b5cb2"
   }
  }
 },
 "nbformat": 4,
 "nbformat_minor": 5
}
