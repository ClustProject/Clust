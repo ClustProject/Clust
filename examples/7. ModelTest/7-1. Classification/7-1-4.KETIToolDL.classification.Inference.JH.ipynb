{
 "cells": [
  {
   "cell_type": "markdown",
   "id": "8ff64dfe",
   "metadata": {
    "toc": true
   },
   "source": [
    "<h1>Table of Contents<span class=\"tocSkip\"></span></h1>\n",
    "<div class=\"toc\"><ul class=\"toc-item\"><li><span><a href=\"#4.-Inference\" data-toc-modified-id=\"4.-Inference-1\"><span class=\"toc-item-num\">1&nbsp;&nbsp;</span>4. Inference</a></span><ul class=\"toc-item\"><li><span><a href=\"#4-1.-(just-for-test)-Data-Preparation\" data-toc-modified-id=\"4-1.-(just-for-test)-Data-Preparation-1.1\"><span class=\"toc-item-num\">1.1&nbsp;&nbsp;</span>4-1. (just for test) Data Preparation</a></span></li></ul></li></ul></div>"
   ]
  },
  {
   "cell_type": "markdown",
   "id": "fd79d0c3",
   "metadata": {},
   "source": [
    "# 4. Inference"
   ]
  },
  {
   "cell_type": "code",
   "execution_count": 1,
   "id": "1611f6b2",
   "metadata": {
    "ExecuteTime": {
     "end_time": "2022-08-09T03:10:39.855210Z",
     "start_time": "2022-08-09T03:10:38.830148Z"
    }
   },
   "outputs": [
    {
     "name": "stdout",
     "output_type": "stream",
     "text": [
      "cpu is available.\n"
     ]
    }
   ],
   "source": [
    "import sys, os\n",
    "sys.path.append(\"../../\")\n",
    "sys.path.append(\"../../../\")\n",
    "sys.path.append(\"../../../../\")\n",
    "import setting\n",
    "\n",
    "from Clust.clust.ML.common.common import p1_integratedDataSaving as p1\n",
    "from Clust.clust.ML.common.common import p2_dataSelection as p2\n",
    "from Clust.clust.ML.common.common import p4_testing as p4\n",
    "from Clust.clust.ML.classification import app\n",
    "import pathSetting\n",
    "\n",
    "\n",
    "import torch\n",
    "#import main_regression as mr\n",
    "device = \"cuda\" if torch.cuda.is_available() else \"cpu\"\n",
    "print(f\"{device}\" \" is available.\")"
   ]
  },
  {
   "cell_type": "markdown",
   "id": "4b4915be",
   "metadata": {},
   "source": [
    "## 4-1. (just for test) Data Preparation "
   ]
  },
  {
   "cell_type": "code",
   "execution_count": 2,
   "id": "2579d539",
   "metadata": {
    "ExecuteTime": {
     "end_time": "2022-08-09T03:10:40.766572Z",
     "start_time": "2022-08-09T03:10:39.856631Z"
    }
   },
   "outputs": [],
   "source": [
    "# 0. pick only one data\n",
    "DataMeta = p1.readJsonData(pathSetting.DataMetaPath)\n",
    "dataList =  list(DataMeta.keys())\n",
    "# dataX\n",
    "\n",
    "dataName_X = dataList[2]\n",
    "dataSaveMode_X = DataMeta[dataName_X][\"integrationInfo\"][\"DataSaveMode\"]\n",
    "\n",
    "# datay\n",
    "dataName_y = dataList[3]\n",
    "dataSaveMode_y = DataMeta[dataName_y][\"integrationInfo\"][\"DataSaveMode\"]\n",
    "dataFolderName = \"data_integrated_result\"\n",
    "current = os.getcwd()\n",
    "dataFolderPath = os.path.join(current, dataFolderName)\n",
    "\n",
    "window_num =128\n",
    "data_X = p2.getSavedIntegratedData(dataSaveMode_X, dataName_X, dataFolderPath)[:window_num]\n",
    "# datay = p2.getSavedIntegratedData(dataSaveMode_y, dataName_y, dataFolderPath)[:1]\n",
    "# from Clust.clust.transformation.type.DFToNPArray import transDFtoNP\n",
    "# inputX, inputy = transDFtoNP(dataX, datay, windowNum)\n",
    "# print(inputX, inputy) # Real Input"
   ]
  },
  {
   "cell_type": "markdown",
   "id": "ab975e94",
   "metadata": {},
   "source": [
    "### Get model meta by mongodb"
   ]
  },
  {
   "cell_type": "code",
   "execution_count": 3,
   "id": "84e5bab4",
   "metadata": {},
   "outputs": [],
   "source": [
    "from Clust.clust.ingestion.mongo import mongoClient as mongo_client\n",
    "from Clust.setting import influx_setting_KETI as ins\n",
    "\n",
    "mongo_client = mongo_client.mongoClient(ins.CLUSTMetaInfo2)\n",
    "\n",
    "db_name = 'model'\n",
    "collection_name = 'meta'\n",
    "\n",
    "all_model_meta = mongo_client.get_all_document(db_name, collection_name)"
   ]
  },
  {
   "cell_type": "code",
   "execution_count": 4,
   "id": "48c88568",
   "metadata": {},
   "outputs": [],
   "source": [
    "search = {'modelName': 'ClassificationNocleanLSTM_cf'}\n",
    "model_meta= mongo_client.get_document_by_json(db_name, collection_name, search)\n",
    "model_meta = model_meta[0]"
   ]
  },
  {
   "cell_type": "code",
   "execution_count": 5,
   "id": "a16ed7ab",
   "metadata": {},
   "outputs": [
    {
     "data": {
      "text/plain": [
       "{'author': 'KETI',\n",
       " 'modelName': 'ClassificationNocleanLSTM_cf',\n",
       " 'modelVersion': 0.1,\n",
       " 'trainDataInfo': {'startTime': '1992-1-11',\n",
       "  'endTime': '2012-02-27',\n",
       "  'dataInfo': [['bio_action_sensors', 'accelerationTrain']],\n",
       "  'processParam': {'refine_param': {'removeDuplication': {'flag': False},\n",
       "    'staticFrequency': {'flag': False, 'frequency': None}},\n",
       "   'outlier_param': {'certainErrorToNaN': {'flag': False},\n",
       "    'unCertainErrorToNaN': {'flag': False, 'param': {}}},\n",
       "   'imputation_param': {'flag': False,\n",
       "    'imputation_method': [],\n",
       "    'totalNonNanRatio': 80}},\n",
       "  'integration_freq_sec': 675,\n",
       "  'cleanParam': 'NoClean',\n",
       "  'DataSaveMode': 'CSV'},\n",
       " 'featureList': ['col_0',\n",
       "  'col_1',\n",
       "  'col_2',\n",
       "  'col_3',\n",
       "  'col_4',\n",
       "  'col_5',\n",
       "  'col_6',\n",
       "  'col_7',\n",
       "  'col_8'],\n",
       " 'target': ['value'],\n",
       " 'trainDataType': 'timeseries',\n",
       " 'modelPurpose': 'classification',\n",
       " 'model_method': 'LSTM_cf',\n",
       " 'modelTags': ['action', 'sensor', 'classification', 'pattern'],\n",
       " 'cleanTrainDataParam': 'NoClean',\n",
       " 'NaNProcessingParam': {'feature_cycle': 'Day',\n",
       "  'feature_cycle_times': 1,\n",
       "  'NanInfoForCleanData': {'type': 'num',\n",
       "   'ConsecutiveNanLimit': 3,\n",
       "   'totalNaNLimit': 30000}},\n",
       " 'trainDataName': ['trainX_ActionPatternData', 'trainy_ActionPatternData'],\n",
       " 'trainParameter': {'num_layers': 2,\n",
       "  'hidden_size': 64,\n",
       "  'dropout': 0.1,\n",
       "  'bidirectional': True,\n",
       "  'lr': 0.0001,\n",
       "  'device': 'cpu',\n",
       "  'n_epochs': 2,\n",
       "  'num_classes': 6,\n",
       "  'batch_size': 16,\n",
       "  'input_size': 9,\n",
       "  'seq_len': 128,\n",
       "  'rnn_type': 'lstm'},\n",
       " 'scalerParam': 'scale',\n",
       " 'files': {'modelFile': {'fileName': 'model.pth',\n",
       "   'filePath': './Models/LSTM_cf/ClassificationNocleanLSTM_cf/trainX_ActionPatternData/2e9c4621b7536f7cda6354a674c5d77a/model.pkl'},\n",
       "  'XScalerFile': {'fileName': 'scaler.pkl',\n",
       "   'filePath': './scaler/trainX_ActionPatternData/NoClean/minmax/2b219d77d5b069971addb3d7c728ec0d/scaler.pkl'},\n",
       "  'yScalerFile': {'fileName': 'scaler.pkl', 'filePath': None}},\n",
       " 'n_epochs': 2}"
      ]
     },
     "execution_count": 5,
     "metadata": {},
     "output_type": "execute_result"
    }
   ],
   "source": [
    "model_meta"
   ]
  },
  {
   "cell_type": "code",
   "execution_count": 6,
   "id": "bb72fb20",
   "metadata": {
    "ExecuteTime": {
     "end_time": "2022-08-09T03:10:46.391924Z",
     "start_time": "2022-08-09T03:10:41.183031Z"
    },
    "scrolled": false
   },
   "outputs": [
    {
     "name": "stdout",
     "output_type": "stream",
     "text": [
      "noScale\n",
      "\n",
      "Start testing data\n",
      "\n",
      "~~~~~~~~~~~~~~~~~~~~~~~~~~~~~~~~~~~~~~~~~~~~~\n",
      "[4]\n",
      "@!@@@@@@@@@@@@@@@@@@@@@@@@@@@@@@@@@@@@@@@@@@@@@@@2\n",
      "[4]\n",
      "** Dimension of result for inference dataset = (1,)\n",
      "=================================================================\n",
      "['value']\n",
      "[4]\n",
      "<class 'numpy.ndarray'>\n"
     ]
    }
   ],
   "source": [
    "df_result = app.get_inference_result(data_X, model_meta, window_num)"
   ]
  },
  {
   "cell_type": "code",
   "execution_count": 7,
   "id": "290a6573",
   "metadata": {
    "ExecuteTime": {
     "end_time": "2022-08-09T03:10:46.400072Z",
     "start_time": "2022-08-09T03:10:46.393030Z"
    }
   },
   "outputs": [
    {
     "data": {
      "text/html": [
       "<div>\n",
       "<style scoped>\n",
       "    .dataframe tbody tr th:only-of-type {\n",
       "        vertical-align: middle;\n",
       "    }\n",
       "\n",
       "    .dataframe tbody tr th {\n",
       "        vertical-align: top;\n",
       "    }\n",
       "\n",
       "    .dataframe thead th {\n",
       "        text-align: right;\n",
       "    }\n",
       "</style>\n",
       "<table border=\"1\" class=\"dataframe\">\n",
       "  <thead>\n",
       "    <tr style=\"text-align: right;\">\n",
       "      <th></th>\n",
       "      <th>value</th>\n",
       "    </tr>\n",
       "  </thead>\n",
       "  <tbody>\n",
       "    <tr>\n",
       "      <th>0</th>\n",
       "      <td>4</td>\n",
       "    </tr>\n",
       "  </tbody>\n",
       "</table>\n",
       "</div>"
      ],
      "text/plain": [
       "   value\n",
       "0      4"
      ]
     },
     "execution_count": 7,
     "metadata": {},
     "output_type": "execute_result"
    }
   ],
   "source": [
    "df_result"
   ]
  },
  {
   "cell_type": "code",
   "execution_count": null,
   "id": "6c7e4125",
   "metadata": {},
   "outputs": [],
   "source": []
  }
 ],
 "metadata": {
  "hide_input": false,
  "kernelspec": {
   "display_name": "Python 3 (ipykernel)",
   "language": "python",
   "name": "python3"
  },
  "language_info": {
   "codemirror_mode": {
    "name": "ipython",
    "version": 3
   },
   "file_extension": ".py",
   "mimetype": "text/x-python",
   "name": "python",
   "nbconvert_exporter": "python",
   "pygments_lexer": "ipython3",
   "version": "3.8.8"
  },
  "toc": {
   "base_numbering": 1,
   "nav_menu": {},
   "number_sections": true,
   "sideBar": true,
   "skip_h1_title": false,
   "title_cell": "Table of Contents",
   "title_sidebar": "Contents",
   "toc_cell": true,
   "toc_position": {},
   "toc_section_display": true,
   "toc_window_display": true
  },
  "vscode": {
   "interpreter": {
    "hash": "f1ef7e1f828dbb4e75f421045d2c565197efaf8469a0be4a314c6ea8378b5cb2"
   }
  }
 },
 "nbformat": 4,
 "nbformat_minor": 5
}
