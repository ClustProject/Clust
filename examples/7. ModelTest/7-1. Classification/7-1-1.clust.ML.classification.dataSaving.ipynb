{
 "cells": [
  {
   "cell_type": "markdown",
   "id": "4926fa03",
   "metadata": {
    "ExecuteTime": {
     "end_time": "2022-08-04T05:53:07.364250Z",
     "start_time": "2022-08-04T05:53:07.035922Z"
    }
   },
   "source": [
    "# Data Setting & Save"
   ]
  },
  {
   "cell_type": "code",
   "execution_count": 1,
   "id": "3ddaac44",
   "metadata": {},
   "outputs": [],
   "source": [
    "import sys, os\n",
    "import pandas as pd\n",
    "import pathSetting as setting\n",
    "sys.path.append(\"../\")\n",
    "sys.path.append(\"../../\")\n",
    "sys.path.append(\"../../../\")\n",
    "sys.path.append(\"../../../../\")\n",
    "\n",
    "from Clust.app import data_manipulation, data_preprocessing\n",
    "from Clust.setting import influx_setting_KETI as ins\n",
    "from Clust.clust.ingestion.influx import influx_client_v2 as influx_Client\n",
    "from Clust.clust.ingestion.mongo.mongo_client import MongoClient\n",
    "\n",
    "db_client = influx_Client.InfluxClient(ins.CLUSTDataServer2)\n",
    "mongo_client = MongoClient(ins.CLUSTMetaInfo2)\n"
   ]
  },
  {
   "cell_type": "markdown",
   "id": "16027317",
   "metadata": {},
   "source": [
    "## Setting"
   ]
  },
  {
   "cell_type": "code",
   "execution_count": 2,
   "id": "b21349a1",
   "metadata": {},
   "outputs": [
    {
     "name": "stdout",
     "output_type": "stream",
     "text": [
      "===integrationStart===\n",
      "===integrationEnd===\n",
      "========== write success ==========\n",
      "========== Data Save Success ==========\n",
      "{'data_name': 'classification_actionPattern_trainX_cleanLevel0', 'ingestion_param': {'start_time': '1992-1-11', 'end_time': '2012-02-27', 'ms_list_info': [['bio_action_sensors', 'accelerationTrain']]}, 'integration_param': {'param': {}, 'method': 'meta', 'integration_duration': 'common', 'integration_frequency': 675}, 'clean_level': 0, 'process_param': {'refine_param': {'removeDuplication': {'flag': False}, 'staticFrequency': {'flag': False, 'frequency': None}}, 'outlier_param': {'certainErrorToNaN': {'flag': False}, 'unCertainErrorToNaN': {'flag': False}}, 'imputation_param': {'flag': False}}, '_id': ObjectId('643f5f032a442133e8cca965')}\n",
      "===integrationStart===\n",
      "===integrationEnd===\n",
      "========== write success ==========\n",
      "========== Data Save Success ==========\n",
      "{'data_name': 'classification_actionPattern_trainy_cleanLevel0', 'ingestion_param': {'start_time': '1992-1-11', 'end_time': '2012-02-27', 'ms_list_info': [['life_action_pattern', 'patternNameTrain']]}, 'integration_param': {'param': {}, 'method': 'meta', 'integration_duration': 'common', 'integration_frequency': 86400}, 'clean_level': 0, 'process_param': {'refine_param': {'removeDuplication': {'flag': False}, 'staticFrequency': {'flag': False, 'frequency': None}}, 'outlier_param': {'certainErrorToNaN': {'flag': False}, 'unCertainErrorToNaN': {'flag': False}}, 'imputation_param': {'flag': False}}, '_id': ObjectId('643f5f062a442133e8cca966')}\n",
      "===integrationStart===\n",
      "===integrationEnd===\n",
      "========== write success ==========\n",
      "========== Data Save Success ==========\n",
      "{'data_name': 'classification_actionPattern_testX_cleanLevel0', 'ingestion_param': {'start_time': '2013-1-1', 'end_time': '2016-10-16', 'ms_list_info': [['bio_action_sensors', 'accelerationTest']]}, 'integration_param': {'param': {}, 'method': 'meta', 'integration_duration': 'common', 'integration_frequency': 675}, 'clean_level': 0, 'process_param': {'refine_param': {'removeDuplication': {'flag': False}, 'staticFrequency': {'flag': False, 'frequency': None}}, 'outlier_param': {'certainErrorToNaN': {'flag': False}, 'unCertainErrorToNaN': {'flag': False}}, 'imputation_param': {'flag': False}}, '_id': ObjectId('643f5f192a442133e8cca967')}\n",
      "===integrationStart===\n",
      "===integrationEnd===\n",
      "========== write success ==========\n",
      "========== Data Save Success ==========\n",
      "{'data_name': 'classification_actionPattern_testy_cleanLevel0', 'ingestion_param': {'start_time': '2013-1-1', 'end_time': '2016-10-16', 'ms_list_info': [['life_action_pattern', 'patternNameTest']]}, 'integration_param': {'param': {}, 'method': 'meta', 'integration_duration': 'common', 'integration_frequency': 86400}, 'clean_level': 0, 'process_param': {'refine_param': {'removeDuplication': {'flag': False}, 'staticFrequency': {'flag': False, 'frequency': None}}, 'outlier_param': {'certainErrorToNaN': {'flag': False}, 'unCertainErrorToNaN': {'flag': False}}, 'imputation_param': {'flag': False}}, '_id': ObjectId('643f5f1b2a442133e8cca968')}\n"
     ]
    }
   ],
   "source": [
    "bucket_name = 'integration'\n",
    "\n",
    "data_mode_list =['trainX', 'trainy', 'testX', 'testy']\n",
    "clean_level_list =[0, 4]\n",
    "clean_level = clean_level_list[0] # 현재 classification은 clean level 0만 사용\n",
    "\n",
    "trainStartTime = \"1992-1-11\"\n",
    "trainEndTime = \"2012-02-27\"\n",
    "testStartTime = \"2013-1-1\"\n",
    "testEndTim = \"2016-10-16\"\n",
    "\n",
    "process_param = data_manipulation.get_process_param_by_level(clean_level)\n",
    "\n",
    "for data_mode in data_mode_list:\n",
    "    ingestion_param ={}\n",
    "    integration_param = {\n",
    "        #\"integration_frequency\":integration_freq_sec,\n",
    "        \"param\":{},\n",
    "        \"method\":\"meta\",\n",
    "        \"integration_duration\":\"common\"\n",
    "    }\n",
    "    if data_mode == 'trainX':\n",
    "        ingestion_param['start_time'] = trainStartTime\n",
    "        ingestion_param['end_time'] = trainEndTime\n",
    "        ingestion_param['ms_list_info'] = [['bio_action_sensors', 'accelerationTrain']]\n",
    "        integration_param[\"integration_frequency\"] = 60 * 11 + 15 # 11분 15초\n",
    "    elif data_mode =='testX':\n",
    "        ingestion_param['start_time'] = testStartTime\n",
    "        ingestion_param['end_time'] = testEndTim\n",
    "        ingestion_param['ms_list_info'] = [['bio_action_sensors', 'accelerationTest']]\n",
    "        integration_param[\"integration_frequency\"] = 60 * 11 + 15 # 11분 15초\n",
    "    elif data_mode == 'trainy':\n",
    "        ingestion_param['start_time'] = trainStartTime\n",
    "        ingestion_param['end_time'] = trainEndTime\n",
    "        ingestion_param['ms_list_info'] = [['life_action_pattern', 'patternNameTrain']]\n",
    "        integration_param[\"integration_frequency\"] = 60 * 60 * 24 # 1일\n",
    "    elif data_mode =='testy':\n",
    "        ingestion_param['start_time'] = testStartTime\n",
    "        ingestion_param['end_time'] = testEndTim\n",
    "        ingestion_param['ms_list_info'] = [['life_action_pattern', 'patternNameTest']]\n",
    "        integration_param[\"integration_frequency\"] = 60 * 60 * 24 # 1일\n",
    "\n",
    "\n",
    "    data = data_manipulation.ingestion_processing_integration(db_client, ingestion_param, process_param, integration_param)\n",
    "    ms_name = \"classification_actionPattern_\"+ data_mode + '_cleanLevel' + str(clean_level)\n",
    "    db_client.write_db(bucket_name, ms_name, data)\n",
    "\n",
    "    # save to mongodb\n",
    "    meta_info={\"data_name\": ms_name,\"ingestion_param\": ingestion_param, \n",
    "               \"integration_param\":integration_param, \"clean_level\":clean_level, \"process_param\":process_param}\n",
    "    collection_name = \"classification_actionPattern\"\n",
    "    mongo_client.insert_document(bucket_name, collection_name, meta_info)\n",
    "    print(meta_info)"
   ]
  },
  {
   "cell_type": "code",
   "execution_count": null,
   "id": "0e63792c",
   "metadata": {},
   "outputs": [],
   "source": []
  }
 ],
 "metadata": {
  "hide_input": false,
  "kernelspec": {
   "display_name": "Python 3",
   "language": "python",
   "name": "python3"
  },
  "language_info": {
   "codemirror_mode": {
    "name": "ipython",
    "version": 3
   },
   "file_extension": ".py",
   "mimetype": "text/x-python",
   "name": "python",
   "nbconvert_exporter": "python",
   "pygments_lexer": "ipython3",
   "version": "3.8.8"
  },
  "toc": {
   "base_numbering": 1,
   "nav_menu": {},
   "number_sections": true,
   "sideBar": true,
   "skip_h1_title": false,
   "title_cell": "Table of Contents",
   "title_sidebar": "Contents",
   "toc_cell": false,
   "toc_position": {},
   "toc_section_display": true,
   "toc_window_display": false
  },
  "vscode": {
   "interpreter": {
    "hash": "f1ef7e1f828dbb4e75f421045d2c565197efaf8469a0be4a314c6ea8378b5cb2"
   }
  }
 },
 "nbformat": 4,
 "nbformat_minor": 5
}
