{
 "cells": [
  {
   "cell_type": "markdown",
   "id": "43276846",
   "metadata": {
    "toc": true
   },
   "source": [
    "# Training"
   ]
  },
  {
   "cell_type": "code",
   "execution_count": 1,
   "id": "95790ab5",
   "metadata": {
    "ExecuteTime": {
     "end_time": "2022-08-23T03:21:52.373651Z",
     "start_time": "2022-08-23T03:21:48.164603Z"
    }
   },
   "outputs": [
    {
     "name": "stderr",
     "output_type": "stream",
     "text": [
      "/programdrive/anaconda3/envs/clust/lib/python3.8/site-packages/tqdm/auto.py:22: TqdmWarning: IProgress not found. Please update jupyter and ipywidgets. See https://ipywidgets.readthedocs.io/en/stable/user_install.html\n",
      "  from .autonotebook import tqdm as notebook_tqdm\n"
     ]
    },
    {
     "name": "stdout",
     "output_type": "stream",
     "text": [
      "cuda is available.\n"
     ]
    }
   ],
   "source": [
    "import sys, os\n",
    "import pandas as pd\n",
    "import numpy as np\n",
    "import setting\n",
    "import pathSetting\n",
    "import torch\n",
    "sys.path.append(\"../../..\")\n",
    "\n",
    "from Clust.clust.transformation.type.DFToNPArray import transDFtoNP, trans_df_to_np, trans_df_to_np_inf\n",
    "from Clust.clust.ML.tool import data as ml_data\n",
    "from Clust.clust.ML.tool import model as ml_model\n",
    "from Clust.clust.ML.tool import clean as ml_clean\n",
    "from Clust.clust.ML.tool import meta as ml_meta\n",
    "\n",
    "from Clust.setting import influx_setting_KETI as ins\n",
    "from Clust.clust.ingestion.influx import influx_client_v2 as influx_Client\n",
    "from Clust.clust.ingestion.mongo.mongo_client import MongoClient\n",
    "\n",
    "import torch\n",
    "\n",
    "db_client = influx_Client.InfluxClient(ins.CLUSTDataServer2)\n",
    "mongo_client = MongoClient(ins.CLUSTMetaInfo2)\n",
    "\n",
    "device = \"cuda\" if torch.cuda.is_available() else \"cpu\"\n",
    "print(f\"{device}\" \" is available.\")"
   ]
  },
  {
   "cell_type": "code",
   "execution_count": 2,
   "id": "9a8729e2",
   "metadata": {},
   "outputs": [],
   "source": [
    "# Set model methods i.e., 'LSTM_cf', 'GRU_cf', 'CNN_1D_cf', 'LSTM_FCNs_cf', 'FC_cf' \n",
    "model_method = 'LSTM_cf'\n",
    "\n",
    "# get integrated data name\n",
    "bucket_name = 'integration'\n",
    "\n",
    "# scaler path\n",
    "scalerPath = './scaler/'"
   ]
  },
  {
   "cell_type": "code",
   "execution_count": 3,
   "id": "d4967f04",
   "metadata": {},
   "outputs": [
    {
     "data": {
      "text/plain": [
       "['classification_actionPattern_testX_cleanLevel0',\n",
       " 'classification_actionPattern_testy_cleanLevel0',\n",
       " 'classification_actionPattern_trainX_cleanLevel0',\n",
       " 'classification_actionPattern_trainy_cleanLevel0',\n",
       " 'forecasting_Hs2SwineFarmWithWeatherTime_test_cleanLevel0',\n",
       " 'forecasting_Hs2SwineFarmWithWeatherTime_test_cleanLevel4',\n",
       " 'forecasting_Hs2SwineFarmWithWeatherTime_train_cleanLevel0',\n",
       " 'forecasting_Hs2SwineFarmWithWeatherTime_train_cleanLevel4',\n",
       " 'forecasting_gunwiStrawberryWeather_test_cleanLevel0',\n",
       " 'forecasting_gunwiStrawberryWeather_test_cleanLevel4',\n",
       " 'forecasting_gunwiStrawberryWeather_train_cleanLevel0',\n",
       " 'forecasting_gunwiStrawberryWeather_train_cleanLevel4',\n",
       " 'forecasting_strawberryOpen_test_cleanLevel0',\n",
       " 'forecasting_strawberryOpen_test_cleanLevel4',\n",
       " 'forecasting_strawberryOpen_train_cleanLevel0',\n",
       " 'forecasting_strawberryOpen_train_cleanLevel4',\n",
       " 'regression_energy_testX_cleanLevel0',\n",
       " 'regression_energy_testX_cleanLevel4',\n",
       " 'regression_energy_testy_cleanLevel0',\n",
       " 'regression_energy_testy_cleanLevel4',\n",
       " 'regression_energy_trainX_cleanLevel0',\n",
       " 'regression_energy_trainX_cleanLevel4',\n",
       " 'regression_energy_trainy_cleanLevel0',\n",
       " 'regression_energy_trainy_cleanLevel4']"
      ]
     },
     "execution_count": 3,
     "metadata": {},
     "output_type": "execute_result"
    }
   ],
   "source": [
    "get_ms_list = db_client.measurement_list(bucket_name)\n",
    "get_ms_list"
   ]
  },
  {
   "cell_type": "code",
   "execution_count": 4,
   "id": "fc33c68c",
   "metadata": {},
   "outputs": [
    {
     "data": {
      "text/plain": [
       "['forecasting_strawberryOpen',\n",
       " 'regression_energy',\n",
       " 'forecasting_Hs2SwineFarmWithWeatherTime',\n",
       " 'forecasting_gunwiStrawberryWeather',\n",
       " 'classification_actionPattern']"
      ]
     },
     "execution_count": 4,
     "metadata": {},
     "output_type": "execute_result"
    }
   ],
   "source": [
    "collection_list = mongo_client.get_collection_list(bucket_name)\n",
    "collection_list"
   ]
  },
  {
   "cell_type": "code",
   "execution_count": 5,
   "id": "2531f52c",
   "metadata": {},
   "outputs": [],
   "source": [
    "data_name_X = 'classification_actionPattern_trainX_cleanLevel0'\n",
    "dataX = db_client.get_data(bucket_name, data_name_X)\n",
    "\n",
    "# datay\n",
    "data_name_y = 'classification_actionPattern_trainy_cleanLevel0'\n",
    "datay = db_client.get_data(bucket_name, data_name_y)\n",
    "\n",
    "dataset_name = collection_list[4]\n",
    "data_meta = mongo_client.get_document_by_json('integration', dataset_name, {'data_name':data_name_X})[0]\n",
    "clean_level = data_meta[\"clean_level\"]\n",
    "integration_freq_sec = data_meta[\"integration_param\"][\"integration_frequency\"]"
   ]
  },
  {
   "cell_type": "code",
   "execution_count": 6,
   "id": "ac0bca12",
   "metadata": {},
   "outputs": [],
   "source": [
    "# 2 Training Data Preparation\n",
    "# 2-1\n",
    "featureListX= list(dataX.columns)\n",
    "featureListy= list(datay.columns)\n",
    "\n",
    "# 2-2\n",
    "# cleanTrainDataParam = 'NoClean'#  Classification, Regression과 같이 X, y가 분리된 경우에는 현재 고정해서 사용해야함\n",
    "# cleanTrainDataParam = clean_level --> clean_level로 변경\n",
    "\n",
    "# 2-2-1 cleanTrainDataParam == Clean 일 경우\n",
    "NaNProcessingParam ={\n",
    "    \"feature_cycle\":'Day',\n",
    "    \"feature_cycle_times\":1,\n",
    "    \"NanInfoForCleanData\":{'type':'num', 'ConsecutiveNanLimit':3, 'totalNaNLimit':30000}\n",
    "}\n",
    "# 2-3\n",
    "scalerParam='noscale'\n",
    "scaleMethod='minmax'\n",
    "\n",
    "# 2-4\n",
    "splitRatio = 0.8\n",
    "mode = 'Classification'\n",
    "\n",
    "# 2-5\n",
    "scalerRootPath_X = os.path.join(scalerPath, data_name_X, str(clean_level))\n",
    "scalerRootPath_y = os.path.join(scalerPath, data_name_y, str(clean_level))\n",
    "train_X, val_X, X_scalerFilePath = ml_data.get_train_val_data(dataX, featureListX, scalerRootPath_X, splitRatio, scalerParam, scaleMethod, mode)\n",
    "train_y, val_y, y_scalerFilePath = ml_data.get_train_val_data(datay, featureListy, scalerRootPath_y, splitRatio, \"NoScale\", scaleMethod, mode)"
   ]
  },
  {
   "cell_type": "code",
   "execution_count": 7,
   "id": "9b971b47",
   "metadata": {},
   "outputs": [
    {
     "name": "stderr",
     "output_type": "stream",
     "text": [
      "/home/jhlee/CLUST_KETI/Clust/examples/7. ModelTest/7-1. Classification/../../../../Clust/clust/transformation/type/DFToNPArray.py:38: FutureWarning: Indexing a timezone-aware DatetimeIndex with a timezone-naive datetime is deprecated and will raise KeyError in a future version. Use a timezone-aware object instead.\n",
      "  dfX_partial = dfX[startDate:endDate]\n",
      "/home/jhlee/CLUST_KETI/Clust/examples/7. ModelTest/7-1. Classification/../../../../Clust/clust/transformation/type/DFToNPArray.py:39: FutureWarning: Indexing a timezone-aware DatetimeIndex with a timezone-naive datetime is deprecated and will raise KeyError in a future version. Use a timezone-aware object instead.\n",
      "  dfy_partial = dfy[startDate:endDate]\n",
      "/home/jhlee/CLUST_KETI/Clust/examples/7. ModelTest/7-1. Classification/../../../../Clust/clust/transformation/type/DFToNPArray.py:38: FutureWarning: Indexing a timezone-aware DatetimeIndex with a timezone-naive datetime is deprecated and will raise KeyError in a future version. Use a timezone-aware object instead.\n",
      "  dfX_partial = dfX[startDate:endDate]\n",
      "/home/jhlee/CLUST_KETI/Clust/examples/7. ModelTest/7-1. Classification/../../../../Clust/clust/transformation/type/DFToNPArray.py:39: FutureWarning: Indexing a timezone-aware DatetimeIndex with a timezone-naive datetime is deprecated and will raise KeyError in a future version. Use a timezone-aware object instead.\n",
      "  dfy_partial = dfy[startDate:endDate]\n"
     ]
    }
   ],
   "source": [
    "transformParameter = {\n",
    "    'window_num':128\n",
    "}\n",
    "\n",
    "window_num = 0\n",
    "dim = 3\n",
    "\n",
    "if model_method == \"FC_cf\":\n",
    "    dim = 2\n",
    "\n",
    "if type(train_X) !=  np.ndarray:\n",
    "    train_X, train_y = transDFtoNP(train_X, train_y, window_num, dim)\n",
    "    val_X, val_y = transDFtoNP(val_X, val_y, window_num, dim)\n",
    "\n",
    "input_size = train_X.shape[1]\n",
    "if dim != 2:\n",
    "    seq_len = train_X.shape[2] # seq_length"
   ]
  },
  {
   "cell_type": "code",
   "execution_count": 8,
   "id": "d58949b0",
   "metadata": {},
   "outputs": [
    {
     "name": "stdout",
     "output_type": "stream",
     "text": [
      "<class 'numpy.ndarray'> (5881, 9, 128)\n",
      "[[[ 1.808515e-04  1.013856e-02  9.275574e-03 ... -1.147484e-03\n",
      "   -2.222655e-04  1.575500e-03]\n",
      "  [ 1.076681e-02  6.579480e-03  8.928878e-03 ...  1.714439e-04\n",
      "    1.574181e-03  3.070189e-03]\n",
      "  [ 5.556068e-02  5.512483e-02  4.840473e-02 ...  2.647864e-03\n",
      "    2.381057e-03 -2.269757e-03]\n",
      "  ...\n",
      "  [ 1.012817e+00  1.022833e+00  1.022028e+00 ...  1.018445e+00\n",
      "    1.019372e+00  1.021171e+00]\n",
      "  [-1.232167e-01 -1.268756e-01 -1.240037e-01 ... -1.240696e-01\n",
      "   -1.227451e-01 -1.213260e-01]\n",
      "  [ 1.029341e-01  1.056872e-01  1.021025e-01 ...  1.003852e-01\n",
      "    9.987355e-02  9.498741e-02]]\n",
      "\n",
      " [[ 1.093752e-03  4.550077e-03  2.879173e-03 ... -4.646144e-03\n",
      "   -2.941333e-03 -1.598751e-03]\n",
      "  [-4.687588e-03 -7.487894e-03 -8.429991e-03 ... -5.479850e-03\n",
      "   -2.987481e-03 -7.192009e-03]\n",
      "  [-2.685954e-02 -2.509841e-02 -2.597534e-02 ... -2.996671e-04\n",
      "   -4.886324e-03 -3.397195e-03]\n",
      "  ...\n",
      "  [ 1.018851e+00  1.022380e+00  1.020781e+00 ...  1.014788e+00\n",
      "    1.016499e+00  1.017849e+00]\n",
      "  [-1.239760e-01 -1.268078e-01 -1.277862e-01 ... -1.290268e-01\n",
      "   -1.264244e-01 -1.305193e-01]\n",
      "  [ 9.792958e-02  9.935086e-02  9.811381e-02 ...  9.353520e-02\n",
      "    8.903516e-02  9.061235e-02]]\n",
      "\n",
      " [[ 3.531266e-03  2.285063e-03 -4.197538e-04 ...  1.245999e-03\n",
      "    3.116783e-03  2.177658e-03]\n",
      "  [ 4.455942e-03  3.045876e-03  1.776179e-03 ... -6.397631e-03\n",
      "   -6.601456e-03 -5.442240e-03]\n",
      "  [-5.914581e-03 -4.138911e-03 -5.428851e-04 ... -1.144203e-02\n",
      "   -1.203020e-02 -1.278381e-02]\n",
      "  ...\n",
      "  [ 1.023127e+00  1.021882e+00  1.019178e+00 ...  1.021041e+00\n",
      "    1.022935e+00  1.022019e+00]\n",
      "  [-1.200157e-01 -1.214994e-01 -1.228407e-01 ... -1.308757e-01\n",
      "   -1.312099e-01 -1.301826e-01]\n",
      "  [ 9.111667e-02  9.267560e-02  9.606378e-02 ...  8.301135e-02\n",
      "    8.233391e-02  8.148748e-02]]\n",
      "\n",
      " ...\n",
      "\n",
      " [[-1.086025e-03 -2.824258e-03 -2.788519e-03 ...  7.007344e-03\n",
      "    6.362948e-03  5.873849e-03]\n",
      "  [ 6.656054e-03  6.293418e-03  4.381679e-03 ...  3.864617e-03\n",
      "    3.276677e-03 -1.348880e-03]\n",
      "  [ 3.105790e-04  4.786675e-04  4.842838e-03 ... -2.599454e-02\n",
      "   -3.066889e-02 -2.728958e-02]\n",
      "  ...\n",
      "  [ 1.017563e+00  1.015828e+00  1.015867e+00 ...  1.026495e+00\n",
      "    1.025858e+00  1.025377e+00]\n",
      "  [-1.712494e-01 -1.715741e-01 -1.734439e-01 ... -1.623859e-01\n",
      "   -1.630116e-01 -1.676733e-01]\n",
      "  [ 1.130661e-02  1.148893e-02  1.586899e-02 ... -9.901315e-03\n",
      "   -1.465043e-02 -1.135344e-02]]\n",
      "\n",
      " [[ 1.621068e-03  1.704804e-03  3.261900e-03 ... -6.759328e-03\n",
      "   -3.902332e-03  3.374777e-04]\n",
      "  [ 2.180522e-03  2.021723e-03  2.537979e-03 ...  7.042672e-03\n",
      "    1.146632e-02  4.487328e-03]\n",
      "  [ 3.991001e-03 -6.333343e-04 -2.641439e-03 ...  1.879984e-02\n",
      "    1.483139e-02  1.136114e-02]\n",
      "  ...\n",
      "  [ 1.020466e+00  1.020559e+00  1.022127e+00 ...  1.012477e+00\n",
      "    1.015313e+00  1.019531e+00]\n",
      "  [-1.675701e-01 -1.675522e-01 -1.668610e-01 ... -1.642098e-01\n",
      "   -1.598897e-01 -1.669703e-01]\n",
      "  [ 1.867967e-02  1.412654e-02  1.218746e-02 ...  3.129756e-02\n",
      "    2.748573e-02  2.417869e-02]]\n",
      "\n",
      " [[ 3.566128e-03  1.624513e-03  3.481713e-03 ...  2.090515e-03\n",
      "    1.412769e-03  2.614881e-03]\n",
      "  [-8.249722e-03 -1.274541e-02 -9.100247e-03 ...  3.729100e-03\n",
      "    6.580657e-03  7.006725e-03]\n",
      "  [-1.906719e-02 -1.182130e-02 -5.477950e-03 ...  5.626070e-03\n",
      "    4.863168e-03 -1.515934e-03]\n",
      "  ...\n",
      "  [ 1.023078e+00  1.021145e+00  1.023013e+00 ...  1.020384e+00\n",
      "    1.019718e+00  1.020933e+00]\n",
      "  [-1.746085e-01 -1.791372e-01 -1.755242e-01 ... -1.713826e-01\n",
      "   -1.685378e-01 -1.681168e-01]\n",
      "  [-3.221583e-03  3.925256e-03  1.016110e-02 ...  2.596528e-02\n",
      "    2.511219e-02  1.863874e-02]]]\n"
     ]
    }
   ],
   "source": [
    "print(type(train_X), train_X.shape)\n",
    "print(train_X)"
   ]
  },
  {
   "cell_type": "code",
   "execution_count": 9,
   "id": "15c95224",
   "metadata": {},
   "outputs": [],
   "source": [
    "# RNN models (RNN, LSTM, GRU) parameters\n",
    "if model_method == 'LSTM_cf' or model_method == 'GRU_cf':\n",
    "    modelParameter = {\n",
    "        'input_size': input_size,\n",
    "        'seq_len': seq_len,\n",
    "        'num_classes': 6,\n",
    "        'num_layers': 2,  # recurrent layers의 수, int(default: 2, 범위: 1 이상)\n",
    "        'hidden_size': 64,  # hidden state의 차원, int(default: 64, 범위: 1 이상)\n",
    "        'dropout': 0.1,  # dropout 확률, float(default: 0.1, 범위: 0 이상 1 이하)\n",
    "        'bidirectional': True  # 모델의 양방향성 여부, bool(default: True)   \n",
    "    }\n",
    "    if model_method == 'LSTM_cf':\n",
    "        modelParameter['rnn_type'] = 'lstm'\n",
    "    else:\n",
    "        modelParameter['rnn_type'] = 'gru'\n",
    "        \n",
    "# CNN_1D model parameters\n",
    "elif model_method == 'CNN_1D_cf':\n",
    "    modelParameter = {\n",
    "    'input_size': input_size,\n",
    "    'seq_len': seq_len,\n",
    "    'num_classes': 6,\n",
    "    'output_channels': 64, # convolution layer의 output channel, int(default: 64, 범위: 1 이상, 2의 지수로 설정 권장)\n",
    "    'kernel_size': 3, # convolutional layer의 filter 크기, int(default: 3, 범위: 3 이상, 홀수로 설정 권장)\n",
    "    'stride': 1, # convolution layer의 stride 크기, int(default: 1, 범위: 1 이상)\n",
    "    'padding': 0, # padding 크기, int(default: 0, 범위: 0 이상)\n",
    "    'drop_out': 0.1 # dropout 확률, float(default: 0.1, 범위: 0 이상 1 이하)\n",
    "    }\n",
    "    \n",
    "# LSTM_FCNs model parameters\n",
    "elif model_method == 'LSTM_FCNs_cf':\n",
    "    modelParameter = {\n",
    "    'input_size': input_size,\n",
    "    'seq_len': seq_len,\n",
    "    'num_classes': 6,\n",
    "    'num_layers': 1,  # recurrent layers의 수, int(default: 1, 범위: 1 이상)\n",
    "    'lstm_drop_out': 0.4, # LSTM dropout 확률, float(default: 0.4, 범위: 0 이상 1 이하)\n",
    "    'fc_drop_out': 0.1 # FC dropout 확률, float(default: 0.1, 범위: 0 이상 1 이하)\n",
    "    }\n",
    "    \n",
    "# FC model parameters\n",
    "elif model_method == 'FC_cf':\n",
    "    modelParameter = {\n",
    "    'input_size': input_size,\n",
    "    'num_classes': 6,\n",
    "    'drop_out': 0.1, # dropout 확률, float(default: 0.1, 범위: 0 이상 1 이하)\n",
    "    'bias': True# bias 사용 여부, bool(default: True)\n",
    "    }\n",
    "\n",
    "trainParameter = {\n",
    "    'lr': 1e-4,\n",
    "    'weight_decay': 1e-6, \n",
    "    'device': device, \n",
    "    'n_epochs': 5, \n",
    "    'batch_size': 16\n",
    "}"
   ]
  },
  {
   "cell_type": "code",
   "execution_count": 10,
   "id": "c76967ce",
   "metadata": {},
   "outputs": [
    {
     "name": "stdout",
     "output_type": "stream",
     "text": [
      "classification_actionPattern_LSTM_cf_cleanLevel0\n",
      "./Models/LSTM_cf/classification_actionPattern_LSTM_cf_cleanLevel0/classification_actionPattern_trainX_cleanLevel0/5047520731b0a365ac0d5de8a395a813/model.pkl\n"
     ]
    }
   ],
   "source": [
    "modelTags =[\"action\", \"sensor\", \"classification\", \"pattern\"]\n",
    "trainDataType = \"timeseries\"\n",
    "modelPurpose = \"classification\"\n",
    "\n",
    "# # 2\n",
    "trainDataInfo = data_meta\n",
    "\n",
    "# 3. 모델을 저장할 파일 패스를 생성한다.\n",
    "model_name = None\n",
    "if model_name is None:\n",
    "    model_name = dataset_name + '_' + model_method + '_cleanLevel' + str(clean_level)\n",
    "else:\n",
    "    pass\n",
    "\n",
    "print(model_name)\n",
    "\n",
    "from Clust.clust.transformation.general.dataScaler import encode_hash_style\n",
    "trainParameter_encode =  encode_hash_style(str(trainParameter))\n",
    "trainDataPathList = [model_name, data_name_X, trainParameter_encode]\n",
    "modelFilePath = ml_model.get_model_file_path(trainDataPathList, model_method)"
   ]
  },
  {
   "cell_type": "code",
   "execution_count": 11,
   "id": "61d2e028",
   "metadata": {
    "scrolled": true
   },
   "outputs": [
    {
     "name": "stdout",
     "output_type": "stream",
     "text": [
      "Start training model\n"
     ]
    },
    {
     "name": "stderr",
     "output_type": "stream",
     "text": [
      "/programdrive/anaconda3/envs/clust/lib/python3.8/site-packages/torch/cuda/__init__.py:497: UserWarning: Can't initialize NVML\n",
      "  warnings.warn(\"Can't initialize NVML\")\n"
     ]
    },
    {
     "name": "stdout",
     "output_type": "stream",
     "text": [
      "\n",
      "Epoch 1/5\n",
      "train Loss: 1.5537 Acc: 0.3351\n",
      "val Loss: 1.3733 Acc: 0.3950\n",
      "\n",
      "Training complete in 0m 24s\n",
      "Best val Acc: 0.617267\n"
     ]
    }
   ],
   "source": [
    "from Clust.clust.ML.classification.train import ClassificationTrain as CML\n",
    "\n",
    "cml = CML()\n",
    "cml.set_param(trainParameter)\n",
    "cml.set_model(model_method, modelParameter)\n",
    "cml.set_data(train_X, train_y, val_X, val_y)\n",
    "cml.train()\n",
    "cml.save_best_model(modelFilePath)"
   ]
  },
  {
   "cell_type": "code",
   "execution_count": 12,
   "id": "4c59f7ec",
   "metadata": {},
   "outputs": [
    {
     "name": "stdout",
     "output_type": "stream",
     "text": [
      "========== Data Save Success ==========\n",
      "{'modelName': 'classification_actionPattern_LSTM_cf_cleanLevel0', 'trainDataInfo': {'data_name': 'classification_actionPattern_trainX_cleanLevel0', 'ingestion_param': {'start_time': '1992-1-11', 'end_time': '2012-02-27', 'ms_list_info': [['bio_action_sensors', 'accelerationTrain']]}, 'integration_param': {'param': {}, 'method': 'meta', 'integration_duration': 'common', 'integration_frequency': 675}, 'clean_level': 0, 'process_param': {'refine_param': {'removeDuplication': {'flag': False}, 'staticFrequency': {'flag': False, 'frequency': None}}, 'outlier_param': {'certainErrorToNaN': {'flag': False}, 'unCertainErrorToNaN': {'flag': False}}, 'imputation_param': {'flag': False}}}, 'featureList': ['col_0', 'col_1', 'col_2', 'col_3', 'col_4', 'col_5', 'col_6', 'col_7', 'col_8'], 'target': ['value'], 'trainDataType': 'timeseries', 'modelPurpose': 'classification', 'model_method': 'LSTM_cf', 'modelTags': ['action', 'sensor', 'classification', 'pattern'], 'trainDataName': ['classification_actionPattern_trainX_cleanLevel0', 'classification_actionPattern_trainy_cleanLevel0'], 'cleanLevel': 0, 'NaNProcessingParam': {'feature_cycle': 'Day', 'feature_cycle_times': 1, 'NanInfoForCleanData': {'type': 'num', 'ConsecutiveNanLimit': 3, 'totalNaNLimit': 30000}}, 'scalerParam': 'noscale', 'trainParameter': {'lr': 0.0001, 'weight_decay': 1e-06, 'device': 'cuda', 'n_epochs': 5, 'batch_size': 16}, 'modelParameter': {'input_size': 9, 'seq_len': 128, 'num_classes': 6, 'num_layers': 2, 'hidden_size': 64, 'dropout': 0.1, 'bidirectional': True, 'rnn_type': 'lstm'}, 'files': {'modelFile': {'fileName': 'model.pth', 'filePath': './Models/LSTM_cf/classification_actionPattern_LSTM_cf_cleanLevel0/classification_actionPattern_trainX_cleanLevel0/5047520731b0a365ac0d5de8a395a813/model.pkl'}, 'XScalerFile': {'fileName': 'scaler.pkl', 'filePath': None}, 'yScalerFile': {'fileName': 'scaler.pkl', 'filePath': None}}, '_id': ObjectId('64409c5550d97984a71447c6')}\n"
     ]
    }
   ],
   "source": [
    "model_meta = {\n",
    "    \"modelName\": model_name,\n",
    "    \"trainDataInfo\": trainDataInfo,\n",
    "    \"featureList\": featureListX,\n",
    "    \"target\": featureListy,\n",
    "    \"trainDataType\": trainDataType,\n",
    "    \"modelPurpose\": modelPurpose,\n",
    "    \"model_method\": model_method,\n",
    "    \"modelTags\": modelTags,\n",
    "    \"trainDataName\": [data_name_X,data_name_y],\n",
    "    \"cleanLevel\":clean_level,\n",
    "    \"NaNProcessingParam\":NaNProcessingParam,\n",
    "    \"scalerParam\": scalerParam,\n",
    "    \"trainParameter\": trainParameter,\n",
    "    \"modelParameter\": modelParameter,\n",
    "    \n",
    "    \"files\":{\n",
    "            \"modelFile\":{\n",
    "                    \"fileName\":\"model.pth\",\n",
    "                    \"filePath\":modelFilePath\n",
    "                },\n",
    "            \"XScalerFile\":{\n",
    "                    \"fileName\":\"scaler.pkl\",\n",
    "                    \"filePath\":X_scalerFilePath       \n",
    "                },\n",
    "            \"yScalerFile\":{\n",
    "                    \"fileName\":\"scaler.pkl\",\n",
    "                    \"filePath\":y_scalerFilePath       \n",
    "                }\n",
    "        }\n",
    "}\n",
    "\n",
    "modelInfoMeta = ml_meta.save_model_meta_data(mongo_client, model_meta)"
   ]
  },
  {
   "cell_type": "code",
   "execution_count": null,
   "id": "6a987601",
   "metadata": {},
   "outputs": [],
   "source": []
  },
  {
   "cell_type": "code",
   "execution_count": null,
   "id": "91bae6e4",
   "metadata": {},
   "outputs": [],
   "source": []
  }
 ],
 "metadata": {
  "hide_input": false,
  "kernelspec": {
   "display_name": "clust",
   "language": "python",
   "name": "clust"
  },
  "language_info": {
   "codemirror_mode": {
    "name": "ipython",
    "version": 3
   },
   "file_extension": ".py",
   "mimetype": "text/x-python",
   "name": "python",
   "nbconvert_exporter": "python",
   "pygments_lexer": "ipython3",
   "version": "3.8.16"
  },
  "toc": {
   "base_numbering": 1,
   "nav_menu": {},
   "number_sections": true,
   "sideBar": true,
   "skip_h1_title": false,
   "title_cell": "Table of Contents",
   "title_sidebar": "Contents",
   "toc_cell": true,
   "toc_position": {
    "height": "calc(100% - 180px)",
    "left": "10px",
    "top": "150px",
    "width": "307.2px"
   },
   "toc_section_display": true,
   "toc_window_display": true
  },
  "vscode": {
   "interpreter": {
    "hash": "f1ef7e1f828dbb4e75f421045d2c565197efaf8469a0be4a314c6ea8378b5cb2"
   }
  }
 },
 "nbformat": 4,
 "nbformat_minor": 5
}
