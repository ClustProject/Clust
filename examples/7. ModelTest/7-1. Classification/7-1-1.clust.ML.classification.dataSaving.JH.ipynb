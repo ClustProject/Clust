{
 "cells": [
  {
   "cell_type": "markdown",
   "id": "4926fa03",
   "metadata": {
    "ExecuteTime": {
     "end_time": "2022-08-04T05:53:07.364250Z",
     "start_time": "2022-08-04T05:53:07.035922Z"
    }
   },
   "source": [
    "# Data Setting & Save"
   ]
  },
  {
   "cell_type": "code",
   "execution_count": 1,
   "id": "3ddaac44",
   "metadata": {},
   "outputs": [],
   "source": [
    "import sys, os\n",
    "import pandas as pd\n",
    "import pathSetting as setting\n",
    "sys.path.append(\"../\")\n",
    "sys.path.append(\"../../\")\n",
    "sys.path.append(\"../../../\")\n",
    "sys.path.append(\"../../../../\")\n",
    "\n",
    "from Clust.clust.ML.common.common import p1_integratedDataSaving as p1\n",
    "import pathSetting"
   ]
  },
  {
   "cell_type": "markdown",
   "id": "16027317",
   "metadata": {},
   "source": [
    "## Setting"
   ]
  },
  {
   "cell_type": "code",
   "execution_count": 2,
   "id": "fdcf572e",
   "metadata": {
    "ExecuteTime": {
     "end_time": "2022-08-04T05:57:36.731687Z",
     "start_time": "2022-08-04T05:57:36.721103Z"
    }
   },
   "outputs": [],
   "source": [
    "modeList =['trainX', 'trainy', 'testX', 'testy']\n",
    "mode = modeList[3]\n",
    "# 1-1\n",
    "\n",
    "trainXDataInfo = [['bio_action_sensors', 'accelerationTrain']]\n",
    "\n",
    "testXDataInfo = [['bio_action_sensors', 'accelerationTest']]\n",
    "\n",
    "# 1-3 \n",
    "DataSaveMode='CSV' #or influx\n",
    "\n",
    "# 2 \n",
    "# 2-1 (Train)\n",
    "trainStartTime = \"1992-1-11\"\n",
    "trainEndTime = \"2012-02-27\"\n",
    "\n",
    "testStartTime = \"2013-1-1\"\n",
    "testEndTim = \"2016-10-16\"\n",
    "\n",
    "if mode == 'trainX':\n",
    "    startTime = trainStartTime\n",
    "    endTime = trainEndTime\n",
    "    dataInfo = trainXDataInfo\n",
    "    integration_freq_sec = 60 * 11 + 15 # 11분 15초\n",
    "elif mode =='testX':\n",
    "    startTime = testStartTime\n",
    "    endTime = testEndTim\n",
    "    dataInfo = testXDataInfo\n",
    "    integration_freq_sec = 60 * 11 + 15 # 11분 15초\n",
    "elif mode == 'trainy':\n",
    "    startTime = trainStartTime\n",
    "    endTime = trainEndTime\n",
    "    dataInfo = [['life_action_pattern', 'patternNameTrain']]\n",
    "    integration_freq_sec = 60 * 60 * 24 # 1일\n",
    "elif mode =='testy':\n",
    "    startTime = testStartTime\n",
    "    endTime = testEndTim\n",
    "    dataInfo = [['life_action_pattern', 'patternNameTest']]\n",
    "    integration_freq_sec = 60 * 60 * 24 # 1일\n",
    "    \n",
    "# 2-2\n",
    "#cleanParam =\"Clean\"\n",
    "cleanParam = \"NoClean\"\n",
    "\n",
    "# 2-3\n",
    "processParam = p1.getProcessParam(cleanParam) "
   ]
  },
  {
   "cell_type": "markdown",
   "id": "64585830",
   "metadata": {},
   "source": [
    "## Data Save"
   ]
  },
  {
   "cell_type": "code",
   "execution_count": 3,
   "id": "ff25ed53",
   "metadata": {
    "ExecuteTime": {
     "end_time": "2022-08-04T05:57:37.377489Z",
     "start_time": "2022-08-04T05:57:37.159469Z"
    },
    "scrolled": false
   },
   "outputs": [
    {
     "name": "stdout",
     "output_type": "stream",
     "text": [
      "processingStart\n",
      "processingEnd\n",
      "integrationStart\n",
      "integrationEnd\n",
      "processingStart\n",
      "processingEnd\n",
      "integrationStart\n",
      "integrationEnd\n"
     ]
    }
   ],
   "source": [
    "# 2-4\n",
    "data = p1.getData(pathSetting.db_client, dataInfo, integration_freq_sec, processParam, startTime, endTime)\n",
    "\n",
    "# 2-5\n",
    "current = os.getcwd()\n",
    "dataFolderName = \"data_integrated_result\"\n",
    "dataFolderPath = os.path.join(current, dataFolderName)\n",
    "\n",
    "dbName=\"IntDataForClassification\"\n",
    "datasetName =\"ActionPatternData\"\n",
    "dataName =mode+'_'+ datasetName\n",
    "# dataName = p1.getNewDataName()\n",
    "\n",
    "data = p1.getData(pathSetting.db_client, dataInfo, integration_freq_sec, processParam, startTime, endTime)\n",
    "if DataSaveMode == 'influx':\n",
    "    p1.saveInfluxData(dbName, dataName, data, pathSetting.db_client)\n",
    "elif DataSaveMode == 'CSV':\n",
    "    fileName = p1.saveCSVData(pathSetting.dataFolderPath, dataName, data)\n",
    "p1.saveJsonMeta(pathSetting.DataMetaPath, dataName, processParam, dataInfo,integration_freq_sec, startTime, endTime, cleanParam, DataSaveMode)"
   ]
  },
  {
   "cell_type": "code",
   "execution_count": null,
   "id": "0e63792c",
   "metadata": {},
   "outputs": [],
   "source": []
  }
 ],
 "metadata": {
  "hide_input": false,
  "kernelspec": {
   "display_name": "Python 3 (ipykernel)",
   "language": "python",
   "name": "python3"
  },
  "language_info": {
   "codemirror_mode": {
    "name": "ipython",
    "version": 3
   },
   "file_extension": ".py",
   "mimetype": "text/x-python",
   "name": "python",
   "nbconvert_exporter": "python",
   "pygments_lexer": "ipython3",
   "version": "3.8.8"
  },
  "toc": {
   "base_numbering": 1,
   "nav_menu": {},
   "number_sections": true,
   "sideBar": true,
   "skip_h1_title": false,
   "title_cell": "Table of Contents",
   "title_sidebar": "Contents",
   "toc_cell": false,
   "toc_position": {},
   "toc_section_display": true,
   "toc_window_display": false
  },
  "vscode": {
   "interpreter": {
    "hash": "f1ef7e1f828dbb4e75f421045d2c565197efaf8469a0be4a314c6ea8378b5cb2"
   }
  }
 },
 "nbformat": 4,
 "nbformat_minor": 5
}
