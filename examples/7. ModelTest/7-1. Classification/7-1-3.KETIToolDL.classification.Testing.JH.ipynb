{
 "cells": [
  {
   "cell_type": "markdown",
   "id": "fd79d0c3",
   "metadata": {},
   "source": [
    "# Testing"
   ]
  },
  {
   "cell_type": "code",
   "execution_count": 1,
   "id": "1611f6b2",
   "metadata": {
    "ExecuteTime": {
     "end_time": "2022-08-09T08:03:36.664973Z",
     "start_time": "2022-08-09T08:03:35.535936Z"
    }
   },
   "outputs": [
    {
     "name": "stdout",
     "output_type": "stream",
     "text": [
      "cpu is available.\n"
     ]
    }
   ],
   "source": [
    "import sys, os\n",
    "sys.path.append(\"../../../\")\n",
    "import setting\n",
    "\n",
    "from Clust.clust.ML.common.common import p1_integratedDataSaving as p1\n",
    "from Clust.clust.ML.common.common import p2_dataSelection as p2\n",
    "from Clust.clust.ML.common.common import p4_testing as p4\n",
    "from Clust.clust.ML.classification import app\n",
    "import pathSetting\n",
    "\n",
    "import torch\n",
    "#import main_regression as mr\n",
    "device = \"cuda\" if torch.cuda.is_available() else \"cpu\"\n",
    "print(f\"{device}\" \" is available.\")"
   ]
  },
  {
   "cell_type": "markdown",
   "id": "b5878a1b",
   "metadata": {},
   "source": [
    "## Test Data Preparation"
   ]
  },
  {
   "cell_type": "code",
   "execution_count": 2,
   "id": "e46acda7",
   "metadata": {
    "ExecuteTime": {
     "end_time": "2022-08-09T08:03:36.703982Z",
     "start_time": "2022-08-09T08:03:36.670462Z"
    }
   },
   "outputs": [],
   "source": [
    "# 1 (p2부분 1. Data Selection)\n",
    "DataMeta = p1.readJsonData(pathSetting.DataMetaPath)\n",
    "dataList =  list(DataMeta.keys())"
   ]
  },
  {
   "cell_type": "code",
   "execution_count": 3,
   "id": "02ace207",
   "metadata": {
    "ExecuteTime": {
     "end_time": "2022-08-09T08:03:52.560486Z",
     "start_time": "2022-08-09T08:03:36.707431Z"
    },
    "scrolled": true
   },
   "outputs": [
    {
     "name": "stdout",
     "output_type": "stream",
     "text": [
      "\n",
      "Start testing data\n",
      "\n",
      "** Performance of test dataset ==> PROB = [[9.9994290e-01 4.8664770e-05 8.9477989e-09 9.8892281e-07 7.4774603e-06\n",
      "  1.2441016e-09]\n",
      " [2.6572085e-09 1.5521547e-09 4.0106493e-06 4.2574316e-05 4.9790079e-09\n",
      "  9.9995339e-01]\n",
      " [8.4133477e-05 8.1956960e-06 1.8095463e-09 6.5306993e-03 9.9337703e-01\n",
      "  1.3551176e-08]\n",
      " ...\n",
      " [1.1953015e-05 9.9989796e-01 9.0153881e-05 6.7046230e-10 7.7676292e-09\n",
      "  7.8297382e-11]\n",
      " [4.3194609e-06 3.2070395e-05 2.7894851e-07 9.9888939e-01 9.8052097e-04\n",
      "  9.3529714e-05]\n",
      " [1.0550969e-04 9.9912685e-01 7.6740870e-04 7.6410771e-08 1.3696960e-07\n",
      "  5.9345034e-10]], ACC = 0.8036101083032491\n",
      "** Dimension of result for test dataset = (1385,)\n",
      "noScale\n"
     ]
    }
   ],
   "source": [
    "# 1. Select Test Data\n",
    "# dataX\n",
    "dataName_X = dataList[2]\n",
    "# datay\n",
    "dataName_y = dataList[3]\n",
    "dataFolderName = \"data_integrated_result\"\n",
    "\n",
    "# 2. select Model \n",
    "ModelMeta =p1.readJsonData(pathSetting.trainModelMetaFilePath)\n",
    "modelList = list(ModelMeta.keys())\n",
    "modelName = modelList[2]\n",
    "\n",
    "windowNum=128"
   ]
  },
  {
   "cell_type": "markdown",
   "id": "4c535328",
   "metadata": {},
   "source": [
    "### Get model meta by mongodb"
   ]
  },
  {
   "cell_type": "code",
   "execution_count": null,
   "id": "13d99049",
   "metadata": {},
   "outputs": [],
   "source": [
    "from Clust.clust.ingestion.mongo import mongoClient as mongo_client\n",
    "from Clust.setting import influx_setting_KETI as ins\n",
    "\n",
    "mongo_client = mongo_client.mongoClient(ins.CLUSTMetaInfo2)\n",
    "\n",
    "db_name = 'model'\n",
    "collection_name = 'meta'\n",
    "\n",
    "all_model_meta = mongo_client.get_all_document(db_name, collection_name)"
   ]
  },
  {
   "cell_type": "code",
   "execution_count": null,
   "id": "9e63c5f2",
   "metadata": {},
   "outputs": [],
   "source": [
    "db_name = 'model'\n",
    "collection_name = 'meta'\n",
    "search = {'modelName': 'EnergyLSTMRegression'}\n",
    "model_meta= mongo_client.get_document_by_json(db_name, collection_name, search)\n",
    "model_meta = model_meta[1]"
   ]
  },
  {
   "cell_type": "code",
   "execution_count": null,
   "id": "cf815055",
   "metadata": {},
   "outputs": [],
   "source": []
  },
  {
   "cell_type": "code",
   "execution_count": null,
   "id": "1f28d6f6",
   "metadata": {},
   "outputs": [],
   "source": []
  },
  {
   "cell_type": "markdown",
   "id": "87047629",
   "metadata": {},
   "source": [
    "## Testing"
   ]
  },
  {
   "cell_type": "code",
   "execution_count": null,
   "id": "ec90eb37",
   "metadata": {},
   "outputs": [],
   "source": [
    "df_result, result_metrics_df, acc= app.get_test_result(dataName_X, dataName_y, modelName, DataMeta, ModelMeta, dataFolderName, device, windowNum, pathSetting.db_client)"
   ]
  },
  {
   "cell_type": "code",
   "execution_count": 4,
   "id": "222d1111",
   "metadata": {
    "ExecuteTime": {
     "end_time": "2022-08-09T08:03:52.573009Z",
     "start_time": "2022-08-09T08:03:52.561938Z"
    }
   },
   "outputs": [
    {
     "data": {
      "text/plain": [
       "{0, 1, 2, 3, 4, 5}"
      ]
     },
     "execution_count": 4,
     "metadata": {},
     "output_type": "execute_result"
    },
    {
     "data": {
      "image/png": "[encoded data removed]",
      "text/plain": [
       "<Figure size 432x288 with 1 Axes>"
      ]
     },
     "metadata": {
      "needs_background": "light"
     },
     "output_type": "display_data"
    }
   ],
   "source": [
    "df_result[['value']].plot()\n",
    "\n",
    "set(df_result['prediction'].values)"
   ]
  },
  {
   "cell_type": "code",
   "execution_count": 5,
   "id": "cd5678a7",
   "metadata": {
    "ExecuteTime": {
     "end_time": "2022-08-09T08:03:52.584388Z",
     "start_time": "2022-08-09T08:03:52.574287Z"
    }
   },
   "outputs": [
    {
     "data": {
      "text/plain": [
       "{'0': {'precision': 0.9203539823008849,\n",
       "  'recall': 0.8286852589641435,\n",
       "  'f1-score': 0.8721174004192872,\n",
       "  'support': 251},\n",
       " '1': {'precision': 0.8596491228070176,\n",
       "  'recall': 0.8789237668161435,\n",
       "  'f1-score': 0.869179600886918,\n",
       "  'support': 223},\n",
       " '2': {'precision': 0.7185185185185186,\n",
       "  'recall': 0.9847715736040609,\n",
       "  'f1-score': 0.8308351177730194,\n",
       "  'support': 197},\n",
       " '3': {'precision': 0.6371308016877637,\n",
       "  'recall': 0.6622807017543859,\n",
       "  'f1-score': 0.6494623655913978,\n",
       "  'support': 228},\n",
       " '4': {'precision': 0.719626168224299,\n",
       "  'recall': 0.6184738955823293,\n",
       "  'f1-score': 0.6652267818574514,\n",
       "  'support': 249},\n",
       " '5': {'precision': 1.0,\n",
       "  'recall': 0.8860759493670886,\n",
       "  'f1-score': 0.9395973154362416,\n",
       "  'support': 237},\n",
       " 'accuracy': 0.8036101083032491,\n",
       " 'macro avg': {'precision': 0.8092130989230806,\n",
       "  'recall': 0.8098685243480253,\n",
       "  'f1-score': 0.8044030969940525,\n",
       "  'support': 1385},\n",
       " 'weighted avg': {'precision': 0.8127880799742209,\n",
       "  'recall': 0.8036101083032491,\n",
       "  'f1-score': 0.8034703888086947,\n",
       "  'support': 1385}}"
      ]
     },
     "execution_count": 5,
     "metadata": {},
     "output_type": "execute_result"
    }
   ],
   "source": [
    "result_metrics_df"
   ]
  },
  {
   "cell_type": "code",
   "execution_count": 6,
   "id": "95129ba1",
   "metadata": {
    "ExecuteTime": {
     "end_time": "2022-08-09T08:03:52.588764Z",
     "start_time": "2022-08-09T08:03:52.585757Z"
    }
   },
   "outputs": [
    {
     "data": {
      "text/plain": [
       "0.8036101083032491"
      ]
     },
     "execution_count": 6,
     "metadata": {},
     "output_type": "execute_result"
    }
   ],
   "source": [
    "acc"
   ]
  },
  {
   "cell_type": "code",
   "execution_count": null,
   "id": "109144d5",
   "metadata": {},
   "outputs": [],
   "source": []
  }
 ],
 "metadata": {
  "hide_input": false,
  "kernelspec": {
   "display_name": "Python 3 (ipykernel)",
   "language": "python",
   "name": "python3"
  },
  "language_info": {
   "codemirror_mode": {
    "name": "ipython",
    "version": 3
   },
   "file_extension": ".py",
   "mimetype": "text/x-python",
   "name": "python",
   "nbconvert_exporter": "python",
   "pygments_lexer": "ipython3",
   "version": "3.8.8"
  },
  "toc": {
   "base_numbering": 1,
   "nav_menu": {},
   "number_sections": true,
   "sideBar": true,
   "skip_h1_title": false,
   "title_cell": "Table of Contents",
   "title_sidebar": "Contents",
   "toc_cell": true,
   "toc_position": {},
   "toc_section_display": true,
   "toc_window_display": true
  },
  "vscode": {
   "interpreter": {
    "hash": "f1ef7e1f828dbb4e75f421045d2c565197efaf8469a0be4a314c6ea8378b5cb2"
   }
  }
 },
 "nbformat": 4,
 "nbformat_minor": 5
}
