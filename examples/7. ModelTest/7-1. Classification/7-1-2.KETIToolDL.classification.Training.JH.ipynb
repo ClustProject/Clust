{
 "cells": [
  {
   "cell_type": "markdown",
   "id": "43276846",
   "metadata": {
    "toc": true
   },
   "source": [
    "# Training"
   ]
  },
  {
   "cell_type": "code",
   "execution_count": 1,
   "id": "95790ab5",
   "metadata": {
    "ExecuteTime": {
     "end_time": "2022-08-23T03:21:52.373651Z",
     "start_time": "2022-08-23T03:21:48.164603Z"
    }
   },
   "outputs": [
    {
     "name": "stdout",
     "output_type": "stream",
     "text": [
      "cpu is available.\n"
     ]
    }
   ],
   "source": [
    "import sys, os\n",
    "import pandas as pd\n",
    "import setting\n",
    "\n",
    "import sys, os\n",
    "import pandas as pd\n",
    "import setting\n",
    "import pathSetting\n",
    "sys.path.append(\"../../..\")\n",
    "\n",
    "from Clust.clust.ML.common.common import p1_integratedDataSaving as p1\n",
    "from Clust.clust.ML.common.common import p2_dataSelection as p2\n",
    "from Clust.clust.ML.common.common import p3_training as p3\n",
    "from Clust.clust.ML.common import model_manager\n",
    "import torch\n",
    "\n",
    "device = \"cuda\" if torch.cuda.is_available() else \"cpu\"\n",
    "print(f\"{device}\" \" is available.\")"
   ]
  },
  {
   "cell_type": "markdown",
   "id": "0fcf28a6",
   "metadata": {},
   "source": [
    "## Data selection"
   ]
  },
  {
   "cell_type": "code",
   "execution_count": 2,
   "id": "7a0b7a99",
   "metadata": {
    "ExecuteTime": {
     "end_time": "2022-08-23T03:23:34.966769Z",
     "start_time": "2022-08-23T03:23:34.953779Z"
    }
   },
   "outputs": [],
   "source": [
    "#dataRoot = 'ml_data_integration'\n",
    "# 1 (p2부분 1. Data Selection)\n",
    "DataMeta = p1.read_json_data(pathSetting.DataMetaPath)\n",
    "dataList =  list(DataMeta.keys())"
   ]
  },
  {
   "cell_type": "code",
   "execution_count": 3,
   "id": "878da9d0",
   "metadata": {},
   "outputs": [
    {
     "data": {
      "text/plain": [
       "['trainX_ActionPatternData',\n",
       " 'trainy_ActionPatternData',\n",
       " 'testX_ActionPatternData',\n",
       " 'testy_ActionPatternData']"
      ]
     },
     "execution_count": 3,
     "metadata": {},
     "output_type": "execute_result"
    }
   ],
   "source": [
    "dataList"
   ]
  },
  {
   "cell_type": "code",
   "execution_count": 4,
   "id": "bcec8e5c",
   "metadata": {
    "ExecuteTime": {
     "end_time": "2022-08-23T03:23:43.975431Z",
     "start_time": "2022-08-23T03:23:35.602321Z"
    },
    "scrolled": true
   },
   "outputs": [],
   "source": [
    "#2\n",
    "# dataX\n",
    "dataName_X = dataList[0]\n",
    "dataSaveMode_X = DataMeta[dataName_X][\"integrationInfo\"][\"DataSaveMode\"]\n",
    "\n",
    "# datay\n",
    "dataName_y = dataList[1]\n",
    "dataSaveMode_y = DataMeta[dataName_y][\"integrationInfo\"][\"DataSaveMode\"]\n",
    "\n",
    "#3\n",
    "### CSV 로 Local 에 데이터 저장되어 있을 경우\n",
    "dataFolderName = \"data_integrated_result\"\n",
    "current = os.getcwd()\n",
    "dataFolderPath = os.path.join(current, dataFolderName)\n",
    "\n",
    "dataX = p2.get_saved_integrated_data(dataSaveMode_X, dataName_X, dataFolderPath)\n",
    "datay = p2.get_saved_integrated_data(dataSaveMode_y, dataName_y, dataFolderPath)\n",
    "integration_freq_sec = DataMeta[dataName_X][\"integrationInfo\"][\"integration_freq_sec\"]"
   ]
  },
  {
   "cell_type": "markdown",
   "id": "d6e052db",
   "metadata": {},
   "source": [
    "## Training Data Preparation"
   ]
  },
  {
   "cell_type": "code",
   "execution_count": 5,
   "id": "11b755d3",
   "metadata": {
    "ExecuteTime": {
     "end_time": "2022-08-23T03:23:46.579598Z",
     "start_time": "2022-08-23T03:23:43.977430Z"
    },
    "scrolled": false
   },
   "outputs": [
    {
     "name": "stdout",
     "output_type": "stream",
     "text": [
      "['col_0', 'col_1', 'col_2', 'col_3', 'col_4', 'col_5', 'col_6', 'col_7', 'col_8']\n",
      "Make New scaler File\n"
     ]
    }
   ],
   "source": [
    "# 2 Training Data Preparation\n",
    "# 2-1\n",
    "featureListX= list(dataX.columns)\n",
    "featureListy= list(datay.columns)\n",
    "target_col = 'value'\n",
    "\n",
    "# 2-2\n",
    "cleanTrainDataParam = 'NoClean'#  Classification, Regression과 같이 X, y가 분리된 경우에는 현재 고정해서 사용해야함\n",
    "\n",
    "# 2-2-1 cleanTrainDataParam == Clean 일 경우\n",
    "NaNProcessingParam ={\n",
    "    \"feature_cycle\":'Day',\n",
    "    \"feature_cycle_times\":1,\n",
    "    \"NanInfoForCleanData\":{'type':'num', 'ConsecutiveNanLimit':3, 'totalNaNLimit':30000}\n",
    "}\n",
    "# 2-3\n",
    "scalerParam=\"scale\"\n",
    "scaleMethod ='minmax'\n",
    "# 2-4\n",
    "splitRatio = 0.8\n",
    "mode = 'Classification'\n",
    "\n",
    "# 2-5\n",
    "scalerRootPath_X = os.path.join(pathSetting.scalerRootDir, dataName_X, cleanTrainDataParam)\n",
    "scalerRootPath_y = os.path.join(pathSetting.scalerRootDir, dataName_X, cleanTrainDataParam)\n",
    "train_x, val_x, X_scalerFilePath = p3.get_train_val_data(dataX, featureListX, scalerRootPath_X, splitRatio, scalerParam, scaleMethod, mode)\n",
    "train_y, val_y, y_scalerFilePath = p3.get_train_val_data(datay, featureListy, scalerRootPath_y, splitRatio, \"NoScale\", scaleMethod, mode)"
   ]
  },
  {
   "cell_type": "markdown",
   "id": "ff6b9d01",
   "metadata": {},
   "source": [
    "## Training "
   ]
  },
  {
   "cell_type": "code",
   "execution_count": 6,
   "id": "1f8d6236",
   "metadata": {
    "ExecuteTime": {
     "end_time": "2022-08-23T04:01:15.866029Z",
     "start_time": "2022-08-23T03:56:24.865168Z"
    },
    "scrolled": false
   },
   "outputs": [
    {
     "name": "stdout",
     "output_type": "stream",
     "text": [
      "./Models/LSTM_cf/ClassificationNocleanLSTM_cf/trainX_ActionPatternData/2e9c4621b7536f7cda6354a674c5d77a/model.pkl\n"
     ]
    },
    {
     "name": "stderr",
     "output_type": "stream",
     "text": [
      "../../../../Clust/clust/transformation/type/DFToNPArray.py:38: FutureWarning: Indexing a timezone-aware DatetimeIndex with a timezone-naive datetime is deprecated and will raise KeyError in a future version. Use a timezone-aware object instead.\n",
      "  dfX_partial = dfX[startDate:endDate]\n",
      "../../../../Clust/clust/transformation/type/DFToNPArray.py:39: FutureWarning: Indexing a timezone-aware DatetimeIndex with a timezone-naive datetime is deprecated and will raise KeyError in a future version. Use a timezone-aware object instead.\n",
      "  dfy_partial = dfy[startDate:endDate]\n",
      "../../../../Clust/clust/transformation/type/DFToNPArray.py:38: FutureWarning: Indexing a timezone-aware DatetimeIndex with a timezone-naive datetime is deprecated and will raise KeyError in a future version. Use a timezone-aware object instead.\n",
      "  dfX_partial = dfX[startDate:endDate]\n",
      "../../../../Clust/clust/transformation/type/DFToNPArray.py:39: FutureWarning: Indexing a timezone-aware DatetimeIndex with a timezone-naive datetime is deprecated and will raise KeyError in a future version. Use a timezone-aware object instead.\n",
      "  dfy_partial = dfy[startDate:endDate]\n"
     ]
    },
    {
     "name": "stdout",
     "output_type": "stream",
     "text": [
      "Start training model\n",
      "\n",
      "Epoch 1/2\n",
      "train Loss: 1.6177 Acc: 0.3174\n",
      "val Loss: 1.2748 Acc: 0.4286\n",
      "\n",
      "Training complete in 1m 13s\n",
      "Best val Acc: 0.428571\n"
     ]
    }
   ],
   "source": [
    "# 3-1.\n",
    "model_list = [\"LSTM_cf\",\"GRU_cf\", \"CNN_1D_cf\",\"LSTM_FCNs_cf\"]\n",
    "model_method = model_list[0]\n",
    "\n",
    "n_epochs = 2 # 학습 epoch 횟수, int(default: 1000, 범위: 1 이상)\n",
    "batch_size = 16  # batch 크기, int(default: 16, 범위: 1 이상, 컴퓨터 사양에 적합하게 설정)\n",
    "num_classes = 6 # class 개수\n",
    "#targetNames = ['class 0', 'class 1', 'class 2', 'class 3', 'class 4', 'class 5'] ## result_metrics_df 에서 target 이름 설정.... Inference 에서 힘들음\n",
    "\n",
    "trainParameter = setting.modelConfig[model_method]\n",
    "trainParameter['device']  = device\n",
    "trainParameter['n_epochs'] = n_epochs\n",
    "trainParameter['num_classes'] = num_classes\n",
    "trainParameter['batch_size'] = batch_size\n",
    "\n",
    "modelTags =[\"action\", \"sensor\", \"classification\", \"pattern\"]\n",
    "trainDataType = \"timeseries\"\n",
    "modelPurpose = \"classification\"\n",
    "\n",
    "# 2\n",
    "trainDataInfo = DataMeta[dataName_X]['integrationInfo']\n",
    "\n",
    "model_name = 'ClassificationNocleanLSTM_cf'\n",
    "# 3. 모델을 저장할 파일 패스를 생성한다.\n",
    "from Clust.clust.transformation.general.dataScaler import encode_hash_style\n",
    "trainParameter_encode =  encode_hash_style(str(trainParameter))\n",
    "# trainDataPathList = [\"ActionClassificationLSTMCF\", dataName_X, trainParameter_encode]\n",
    "trainDataPathList = [model_name, dataName_X, trainParameter_encode]\n",
    "modelFilePath = model_manager.get_model_file_path(trainDataPathList, model_method)\n",
    "\n",
    "# 4. Training\n",
    "from Clust.clust.ML.classification.train import ClassificationTrain as CTrain\n",
    "ctrain = CTrain()\n",
    "ctrain.set_param(trainParameter)\n",
    "ctrain.set_data(train_x, train_y, val_x, val_y)\n",
    "ctrain.set_model(model_method)\n",
    "model = ctrain.train()\n"
   ]
  },
  {
   "cell_type": "markdown",
   "id": "1c65c711",
   "metadata": {},
   "source": [
    "## Model Save - .pkl"
   ]
  },
  {
   "cell_type": "code",
   "execution_count": 7,
   "id": "81003af4",
   "metadata": {},
   "outputs": [],
   "source": [
    "from Clust.clust.ML.common import model_manager\n",
    "model_manager.save_pickle_model(model)"
   ]
  },
  {
   "cell_type": "markdown",
   "id": "76c50144",
   "metadata": {},
   "source": [
    "## Model Meta Save - mongoDB"
   ]
  },
  {
   "cell_type": "code",
   "execution_count": 8,
   "id": "f2ca227e",
   "metadata": {},
   "outputs": [],
   "source": [
    "from Clust.clust.ingestion.mongo import mongoClient as mongo_client\n",
    "from Clust.setting import influx_setting_KETI as ins\n",
    "\n",
    "mongo_client = mongo_client.mongoClient(ins.CLUSTMetaInfo2)"
   ]
  },
  {
   "cell_type": "code",
   "execution_count": 9,
   "id": "8bca73fb",
   "metadata": {
    "ExecuteTime": {
     "end_time": "2022-08-12T03:54:24.443500Z",
     "start_time": "2022-08-12T03:53:23.354Z"
    }
   },
   "outputs": [
    {
     "name": "stdout",
     "output_type": "stream",
     "text": [
      "Success\n",
      "{'author': 'KETI', 'modelName': 'ClassificationNocleanLSTM_cf', 'modelVersion': 0.1, 'trainDataInfo': {'startTime': '1992-1-11', 'endTime': '2012-02-27', 'dataInfo': [['bio_action_sensors', 'accelerationTrain']], 'processParam': {'refine_param': {'removeDuplication': {'flag': False}, 'staticFrequency': {'flag': False, 'frequency': None}}, 'outlier_param': {'certainErrorToNaN': {'flag': False}, 'unCertainErrorToNaN': {'flag': False, 'param': {}}}, 'imputation_param': {'flag': False, 'imputation_method': [], 'totalNonNanRatio': 80}}, 'integration_freq_sec': 675, 'cleanParam': 'NoClean', 'DataSaveMode': 'CSV'}, 'featureList': ['col_0', 'col_1', 'col_2', 'col_3', 'col_4', 'col_5', 'col_6', 'col_7', 'col_8'], 'target': ['value'], 'trainDataType': 'timeseries', 'modelPurpose': 'classification', 'model_method': 'LSTM_cf', 'modelTags': ['action', 'sensor', 'classification', 'pattern'], 'cleanTrainDataParam': 'NoClean', 'NaNProcessingParam': {'feature_cycle': 'Day', 'feature_cycle_times': 1, 'NanInfoForCleanData': {'type': 'num', 'ConsecutiveNanLimit': 3, 'totalNaNLimit': 30000}}, 'trainDataName': ['trainX_ActionPatternData', 'trainy_ActionPatternData'], 'trainParameter': {'num_layers': 2, 'hidden_size': 64, 'dropout': 0.1, 'bidirectional': True, 'lr': 0.0001, 'device': 'cpu', 'n_epochs': 2, 'num_classes': 6, 'batch_size': 16, 'input_size': 9, 'seq_len': 128, 'rnn_type': 'lstm'}, 'scalerParam': 'scale', 'files': {'modelFile': {'fileName': 'model.pth', 'filePath': './Models/LSTM_cf/ClassificationNocleanLSTM_cf/trainX_ActionPatternData/2e9c4621b7536f7cda6354a674c5d77a/model.pkl'}, 'XScalerFile': {'fileName': 'scaler.pkl', 'filePath': './scaler/trainX_ActionPatternData/NoClean/minmax/2b219d77d5b069971addb3d7c728ec0d/scaler.pkl'}, 'yScalerFile': {'fileName': 'scaler.pkl', 'filePath': None}}, 'n_epochs': 2, '_id': ObjectId('63d9c392574a062a6e0f6ab8')}\n"
     ]
    }
   ],
   "source": [
    "# 5. update MetaFile\n",
    "ModelName = encode_hash_style(p1.get_list_merge ([model_method, cleanTrainDataParam, trainParameter_encode, dataName_X, dataName_y] ))\n",
    "modelInfoMeta ={\n",
    "    \"author\":\"KETI\",\n",
    "    \"modelName\": model_name,\n",
    "    \"modelVersion\":0.1,\n",
    "    \"trainDataInfo\":trainDataInfo,\n",
    "    \"featureList\":featureListX,\n",
    "    \"target\":featureListy,\n",
    "    \"trainDataType\":trainDataType,\n",
    "    \"modelPurpose\":modelPurpose,\n",
    "    \"model_method\":model_method,\n",
    "    \"modelTags\":modelTags,\n",
    "    \"cleanTrainDataParam\":cleanTrainDataParam,\n",
    "    \"NaNProcessingParam\":NaNProcessingParam,\n",
    "    \"trainDataName\":[dataName_X,dataName_y],\n",
    "    \"trainParameter\":ctrain.parameter,\n",
    "    \"scalerParam\":scalerParam,\n",
    "    \"files\":{\n",
    "        \"modelFile\":{\n",
    "            \"fileName\":\"model.pth\",\n",
    "            \"filePath\":modelFilePath\n",
    "        },\n",
    "        \"XScalerFile\":{\n",
    "            \"fileName\":\"scaler.pkl\",\n",
    "            \"filePath\":X_scalerFilePath       \n",
    "        },\n",
    "        \"yScalerFile\":{\n",
    "            \"fileName\":\"scaler.pkl\",\n",
    "            \"filePath\":y_scalerFilePath       \n",
    "        }\n",
    "    },\n",
    "    \"n_epochs\":n_epochs\n",
    "}\n",
    "# modelInfoMeta = p3.updateModelMetaData(ModelName, modelInfoMeta, pathSetting.trainModelMetaFilePath)\n",
    "modelInfoMeta = model_manager.update_model_meta_data(mongo_client, modelInfoMeta)"
   ]
  },
  {
   "cell_type": "code",
   "execution_count": 10,
   "id": "2042d805",
   "metadata": {},
   "outputs": [],
   "source": [
    "modelInfoMeta"
   ]
  },
  {
   "cell_type": "code",
   "execution_count": 11,
   "id": "e1244192",
   "metadata": {
    "ExecuteTime": {
     "end_time": "2022-08-12T03:54:24.444500Z",
     "start_time": "2022-08-12T03:53:23.357Z"
    },
    "scrolled": true
   },
   "outputs": [
    {
     "data": {
      "text/plain": [
       "[{'author': 'KETI',\n",
       "  'modelName': 'EnergyLSTMRegression',\n",
       "  'modelVersion': 0.1,\n",
       "  'trainDataInfo': {'startTime': '2016-01-11',\n",
       "   'endTime': '2016-04-15',\n",
       "   'dataInfo': [['life_indoor_environment', 'humidityTrain_10min'],\n",
       "    ['life_indoor_environment', 'temperatureTrain_10min'],\n",
       "    ['weather_outdoor_environment', 'belgiumChieverseAirportTrain_10min']],\n",
       "   'processParam': {'refine_param': {'removeDuplication': {'flag': False},\n",
       "     'staticFrequency': {'flag': False, 'frequency': None}},\n",
       "    'outlier_param': {'certainErrorToNaN': {'flag': False},\n",
       "     'unCertainErrorToNaN': {'flag': False, 'param': {}}},\n",
       "    'imputation_param': {'flag': False,\n",
       "     'imputation_method': [],\n",
       "     'totalNonNanRatio': 80}},\n",
       "   'integration_freq_sec': 600,\n",
       "   'cleanParam': 'NoClean',\n",
       "   'DataSaveMode': 'CSV'},\n",
       "  'featureList': ['RH_1',\n",
       "   'RH_2',\n",
       "   'RH_3',\n",
       "   'RH_4',\n",
       "   'RH_5',\n",
       "   'RH_6',\n",
       "   'RH_7',\n",
       "   'RH_8',\n",
       "   'RH_9',\n",
       "   'T1',\n",
       "   'T2',\n",
       "   'T3',\n",
       "   'T4',\n",
       "   'T5',\n",
       "   'T6',\n",
       "   'T7',\n",
       "   'T8',\n",
       "   'T9',\n",
       "   'Press_mm_hg',\n",
       "   'RH_out',\n",
       "   'T_out',\n",
       "   'Tdewpoint',\n",
       "   'Visibility',\n",
       "   'Windspeed'],\n",
       "  'target': ['value'],\n",
       "  'trainDataType': 'timeseries',\n",
       "  'modelPurpose': 'regression',\n",
       "  'model_method': 'LSTM_rg',\n",
       "  'modelTags': ['aaaaa'],\n",
       "  'cleanTrainDataParam': 'NoClean',\n",
       "  'NaNProcessingParam': {'feature_cycle': 'Day',\n",
       "   'feature_cycle_times': 1,\n",
       "   'NanInfoForCleanData': {'type': 'num',\n",
       "    'ConsecutiveNanLimit': 3,\n",
       "    'totalNaNLimit': 30000}},\n",
       "  'trainDataName': ['IntegraionTrainX', 'IntegraionTrainy'],\n",
       "  'trainParameter': {'num_layers': 2,\n",
       "   'hidden_size': 64,\n",
       "   'dropout': 0.1,\n",
       "   'bidirectional': True,\n",
       "   'lr': 0.0001,\n",
       "   'device': 'cpu',\n",
       "   'n_epochs': 3,\n",
       "   'batch_size': 16,\n",
       "   'input_size': 24,\n",
       "   'seq_len': 144},\n",
       "  'scalerParam': 'scale',\n",
       "  'files': {'modelFile': {'fileName': 'model.pth',\n",
       "    'filePath': './Models/LSTM_rg/EnergyLSTMRegression/IntegraionTrainX/0b43e233c1af48608573201c5d7c6859/model.pkl'},\n",
       "   'XScalerFile': {'fileName': 'scaler.pkl',\n",
       "    'filePath': './scaler/IntegraionTrainX/NoClean/minmax/44e77c5a60a148deb89c5ef9a221a365/scaler.pkl'},\n",
       "   'yScalerFile': {'fileName': 'scaler.pkl',\n",
       "    'filePath': './scaler/IntegraionTrainX/NoClean/minmax/f69156750a210491ffd4a67b605bc88b/scaler.pkl'}},\n",
       "  'n_epochs': 3},\n",
       " {'author': 'KETI',\n",
       "  'modelName': 'EnergyLSTMRegression',\n",
       "  'modelVersion': 0.1,\n",
       "  'trainDataInfo': {'startTime': '2016-01-11',\n",
       "   'endTime': '2016-04-15',\n",
       "   'dataInfo': [['life_indoor_environment', 'humidityTrain_10min'],\n",
       "    ['life_indoor_environment', 'temperatureTrain_10min'],\n",
       "    ['weather_outdoor_environment', 'belgiumChieverseAirportTrain_10min']],\n",
       "   'processParam': {'refine_param': {'removeDuplication': {'flag': False},\n",
       "     'staticFrequency': {'flag': False, 'frequency': None}},\n",
       "    'outlier_param': {'certainErrorToNaN': {'flag': False},\n",
       "     'unCertainErrorToNaN': {'flag': False, 'param': {}}},\n",
       "    'imputation_param': {'flag': False,\n",
       "     'imputation_method': [],\n",
       "     'totalNonNanRatio': 80}},\n",
       "   'integration_freq_sec': 600,\n",
       "   'cleanParam': 'NoClean',\n",
       "   'DataSaveMode': 'CSV'},\n",
       "  'featureList': ['RH_1',\n",
       "   'RH_2',\n",
       "   'RH_3',\n",
       "   'RH_4',\n",
       "   'RH_5',\n",
       "   'RH_6',\n",
       "   'RH_7',\n",
       "   'RH_8',\n",
       "   'RH_9',\n",
       "   'T1',\n",
       "   'T2',\n",
       "   'T3',\n",
       "   'T4',\n",
       "   'T5',\n",
       "   'T6',\n",
       "   'T7',\n",
       "   'T8',\n",
       "   'T9',\n",
       "   'Press_mm_hg',\n",
       "   'RH_out',\n",
       "   'T_out',\n",
       "   'Tdewpoint',\n",
       "   'Visibility',\n",
       "   'Windspeed'],\n",
       "  'target': ['value'],\n",
       "  'trainDataType': 'timeseries',\n",
       "  'modelPurpose': 'regression',\n",
       "  'model_method': 'LSTM_rg',\n",
       "  'modelTags': ['aaaaa'],\n",
       "  'cleanTrainDataParam': 'NoClean',\n",
       "  'NaNProcessingParam': {'feature_cycle': 'Day',\n",
       "   'feature_cycle_times': 1,\n",
       "   'NanInfoForCleanData': {'type': 'num',\n",
       "    'ConsecutiveNanLimit': 3,\n",
       "    'totalNaNLimit': 30000}},\n",
       "  'trainDataName': ['IntegraionTrainX', 'IntegraionTrainy'],\n",
       "  'trainParameter': {'num_layers': 2,\n",
       "   'hidden_size': 64,\n",
       "   'dropout': 0.1,\n",
       "   'bidirectional': True,\n",
       "   'lr': 0.0001,\n",
       "   'device': 'cpu',\n",
       "   'n_epochs': 10,\n",
       "   'batch_size': 16,\n",
       "   'input_size': 24,\n",
       "   'seq_len': 144},\n",
       "  'scalerParam': 'scale',\n",
       "  'files': {'modelFile': {'fileName': 'model.pth',\n",
       "    'filePath': './Models/LSTM_rg/EnergyLSTMRegression/IntegraionTrainX/618f2ca7c380b25efe12bee2a2ab1869/model.pkl'},\n",
       "   'XScalerFile': {'fileName': 'scaler.pkl',\n",
       "    'filePath': './scaler/IntegraionTrainX/NoClean/minmax/44e77c5a60a148deb89c5ef9a221a365/scaler.pkl'},\n",
       "   'yScalerFile': {'fileName': 'scaler.pkl',\n",
       "    'filePath': './scaler/IntegraionTrainX/NoClean/minmax/f69156750a210491ffd4a67b605bc88b/scaler.pkl'}},\n",
       "  'n_epochs': 10},\n",
       " {'author': 'KETI',\n",
       "  'modelName': 'ClassificationNocleanLSTM_cf',\n",
       "  'modelVersion': 0.1,\n",
       "  'trainDataInfo': {'startTime': '1992-1-11',\n",
       "   'endTime': '2012-02-27',\n",
       "   'dataInfo': [['bio_action_sensors', 'accelerationTrain']],\n",
       "   'processParam': {'refine_param': {'removeDuplication': {'flag': False},\n",
       "     'staticFrequency': {'flag': False, 'frequency': None}},\n",
       "    'outlier_param': {'certainErrorToNaN': {'flag': False},\n",
       "     'unCertainErrorToNaN': {'flag': False, 'param': {}}},\n",
       "    'imputation_param': {'flag': False,\n",
       "     'imputation_method': [],\n",
       "     'totalNonNanRatio': 80}},\n",
       "   'integration_freq_sec': 675,\n",
       "   'cleanParam': 'NoClean',\n",
       "   'DataSaveMode': 'CSV'},\n",
       "  'featureList': ['col_0',\n",
       "   'col_1',\n",
       "   'col_2',\n",
       "   'col_3',\n",
       "   'col_4',\n",
       "   'col_5',\n",
       "   'col_6',\n",
       "   'col_7',\n",
       "   'col_8'],\n",
       "  'target': ['value'],\n",
       "  'trainDataType': 'timeseries',\n",
       "  'modelPurpose': 'classification',\n",
       "  'model_method': 'LSTM_cf',\n",
       "  'modelTags': ['action', 'sensor', 'classification', 'pattern'],\n",
       "  'cleanTrainDataParam': 'NoClean',\n",
       "  'NaNProcessingParam': {'feature_cycle': 'Day',\n",
       "   'feature_cycle_times': 1,\n",
       "   'NanInfoForCleanData': {'type': 'num',\n",
       "    'ConsecutiveNanLimit': 3,\n",
       "    'totalNaNLimit': 30000}},\n",
       "  'trainDataName': ['trainX_ActionPatternData', 'trainy_ActionPatternData'],\n",
       "  'trainParameter': {'num_layers': 2,\n",
       "   'hidden_size': 64,\n",
       "   'dropout': 0.1,\n",
       "   'bidirectional': True,\n",
       "   'lr': 0.0001,\n",
       "   'device': 'cpu',\n",
       "   'n_epochs': 2,\n",
       "   'num_classes': 6,\n",
       "   'batch_size': 16,\n",
       "   'input_size': 9,\n",
       "   'seq_len': 128,\n",
       "   'rnn_type': 'lstm'},\n",
       "  'scalerParam': 'scale',\n",
       "  'files': {'modelFile': {'fileName': 'model.pth',\n",
       "    'filePath': './Models/LSTM_cf/ClassificationNocleanLSTM_cf/trainX_ActionPatternData/2e9c4621b7536f7cda6354a674c5d77a/model.pkl'},\n",
       "   'XScalerFile': {'fileName': 'scaler.pkl',\n",
       "    'filePath': './scaler/trainX_ActionPatternData/NoClean/minmax/2b219d77d5b069971addb3d7c728ec0d/scaler.pkl'},\n",
       "   'yScalerFile': {'fileName': 'scaler.pkl', 'filePath': None}},\n",
       "  'n_epochs': 2}]"
      ]
     },
     "execution_count": 11,
     "metadata": {},
     "output_type": "execute_result"
    }
   ],
   "source": [
    "aa = mongo_client.get_all_document('model','meta')\n",
    "aa"
   ]
  },
  {
   "cell_type": "code",
   "execution_count": null,
   "id": "9c598ab1",
   "metadata": {},
   "outputs": [],
   "source": []
  }
 ],
 "metadata": {
  "hide_input": false,
  "kernelspec": {
   "display_name": "Python 3 (ipykernel)",
   "language": "python",
   "name": "python3"
  },
  "language_info": {
   "codemirror_mode": {
    "name": "ipython",
    "version": 3
   },
   "file_extension": ".py",
   "mimetype": "text/x-python",
   "name": "python",
   "nbconvert_exporter": "python",
   "pygments_lexer": "ipython3",
   "version": "3.8.8"
  },
  "toc": {
   "base_numbering": 1,
   "nav_menu": {},
   "number_sections": true,
   "sideBar": true,
   "skip_h1_title": false,
   "title_cell": "Table of Contents",
   "title_sidebar": "Contents",
   "toc_cell": true,
   "toc_position": {
    "height": "calc(100% - 180px)",
    "left": "10px",
    "top": "150px",
    "width": "307.2px"
   },
   "toc_section_display": true,
   "toc_window_display": true
  },
  "vscode": {
   "interpreter": {
    "hash": "f1ef7e1f828dbb4e75f421045d2c565197efaf8469a0be4a314c6ea8378b5cb2"
   }
  }
 },
 "nbformat": 4,
 "nbformat_minor": 5
}
