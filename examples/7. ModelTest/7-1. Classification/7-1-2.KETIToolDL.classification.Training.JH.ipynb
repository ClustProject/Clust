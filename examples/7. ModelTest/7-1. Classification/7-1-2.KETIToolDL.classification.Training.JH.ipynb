{
 "cells": [
  {
   "cell_type": "markdown",
   "id": "43276846",
   "metadata": {
    "toc": true
   },
   "source": [
    "# Training"
   ]
  },
  {
   "cell_type": "code",
   "execution_count": 1,
   "id": "95790ab5",
   "metadata": {
    "ExecuteTime": {
     "end_time": "2022-08-23T03:21:52.373651Z",
     "start_time": "2022-08-23T03:21:48.164603Z"
    }
   },
   "outputs": [
    {
     "name": "stdout",
     "output_type": "stream",
     "text": [
      "cpu is available.\n"
     ]
    }
   ],
   "source": [
    "import sys, os\n",
    "import pandas as pd\n",
    "import setting\n",
    "\n",
    "import sys, os\n",
    "import pandas as pd\n",
    "import setting\n",
    "import pathSetting\n",
    "sys.path.append(\"../../..\")\n",
    "\n",
    "from Clust.clust.ML.common.common import p1_integratedDataSaving as p1\n",
    "from Clust.clust.ML.common.common import p2_dataSelection as p2\n",
    "from Clust.clust.ML.common.common import p3_training as p3\n",
    "from Clust.clust.ML.common import model_manager\n",
    "import torch\n",
    "\n",
    "device = \"cuda\" if torch.cuda.is_available() else \"cpu\"\n",
    "print(f\"{device}\" \" is available.\")"
   ]
  },
  {
   "cell_type": "markdown",
   "id": "0fcf28a6",
   "metadata": {},
   "source": [
    "## Data selection"
   ]
  },
  {
   "cell_type": "code",
   "execution_count": 2,
   "id": "7a0b7a99",
   "metadata": {
    "ExecuteTime": {
     "end_time": "2022-08-23T03:23:34.966769Z",
     "start_time": "2022-08-23T03:23:34.953779Z"
    }
   },
   "outputs": [],
   "source": [
    "#dataRoot = 'ml_data_integration'\n",
    "# 1 (p2부분 1. Data Selection)\n",
    "DataMeta = p1.readJsonData(pathSetting.DataMetaPath)\n",
    "dataList =  list(DataMeta.keys())"
   ]
  },
  {
   "cell_type": "code",
   "execution_count": 3,
   "id": "878da9d0",
   "metadata": {},
   "outputs": [
    {
     "data": {
      "text/plain": [
       "['trainX_ActionPatternData', 'trainy_ActionPatternData']"
      ]
     },
     "execution_count": 3,
     "metadata": {},
     "output_type": "execute_result"
    }
   ],
   "source": [
    "dataList"
   ]
  },
  {
   "cell_type": "code",
   "execution_count": 4,
   "id": "bcec8e5c",
   "metadata": {
    "ExecuteTime": {
     "end_time": "2022-08-23T03:23:43.975431Z",
     "start_time": "2022-08-23T03:23:35.602321Z"
    },
    "scrolled": true
   },
   "outputs": [],
   "source": [
    "#2\n",
    "# dataX\n",
    "dataName_X = dataList[0]\n",
    "dataSaveMode_X = DataMeta[dataName_X][\"integrationInfo\"][\"DataSaveMode\"]\n",
    "\n",
    "# datay\n",
    "dataName_y = dataList[1]\n",
    "dataSaveMode_y = DataMeta[dataName_y][\"integrationInfo\"][\"DataSaveMode\"]\n",
    "\n",
    "#3\n",
    "### CSV 로 Local 에 데이터 저장되어 있을 경우\n",
    "dataFolderName = \"data_integrated_result\"\n",
    "current = os.getcwd()\n",
    "dataFolderPath = os.path.join(current, dataFolderName)\n",
    "\n",
    "dataX = p2.getSavedIntegratedData(dataSaveMode_X, dataName_X, dataFolderPath)\n",
    "datay = p2.getSavedIntegratedData(dataSaveMode_y, dataName_y, dataFolderPath)\n",
    "integration_freq_sec = DataMeta[dataName_X][\"integrationInfo\"][\"integration_freq_sec\"]"
   ]
  },
  {
   "cell_type": "markdown",
   "id": "d6e052db",
   "metadata": {},
   "source": [
    "## Training Data Preparation"
   ]
  },
  {
   "cell_type": "code",
   "execution_count": 5,
   "id": "11b755d3",
   "metadata": {
    "ExecuteTime": {
     "end_time": "2022-08-23T03:23:46.579598Z",
     "start_time": "2022-08-23T03:23:43.977430Z"
    },
    "scrolled": false
   },
   "outputs": [
    {
     "name": "stdout",
     "output_type": "stream",
     "text": [
      "['col_0', 'col_1', 'col_2', 'col_3', 'col_4', 'col_5', 'col_6', 'col_7', 'col_8']\n",
      "Make New scaler File\n"
     ]
    }
   ],
   "source": [
    "# 2 Training Data Preparation\n",
    "# 2-1\n",
    "featureListX= list(dataX.columns)\n",
    "featureListy= list(datay.columns)\n",
    "target_col = 'value'\n",
    "\n",
    "# 2-2\n",
    "cleanTrainDataParam = 'NoClean'#  Classification, Regression과 같이 X, y가 분리된 경우에는 현재 고정해서 사용해야함\n",
    "\n",
    "# 2-2-1 cleanTrainDataParam == Clean 일 경우\n",
    "NaNProcessingParam ={\n",
    "    \"feature_cycle\":'Day',\n",
    "    \"feature_cycle_times\":1,\n",
    "    \"NanInfoForCleanData\":{'type':'num', 'ConsecutiveNanLimit':3, 'totalNaNLimit':30000}\n",
    "}\n",
    "# 2-3\n",
    "scalerParam=\"scale\"\n",
    "scaleMethod ='minmax'\n",
    "# 2-4\n",
    "splitRatio = 0.8\n",
    "mode = 'Classification'\n",
    "\n",
    "# 2-5\n",
    "scalerRootPath_X = os.path.join(pathSetting.scalerRootDir, dataName_X, cleanTrainDataParam)\n",
    "scalerRootPath_y = os.path.join(pathSetting.scalerRootDir, dataName_X, cleanTrainDataParam)\n",
    "train_x, val_x, X_scalerFilePath = p3.getTrainValData(dataX, featureListX, scalerRootPath_X, splitRatio, scalerParam, scaleMethod, mode)\n",
    "train_y, val_y, y_scalerFilePath = p3.getTrainValData(datay, featureListy, scalerRootPath_y, splitRatio, \"NoScale\", scaleMethod, mode)"
   ]
  },
  {
   "cell_type": "markdown",
   "id": "ff6b9d01",
   "metadata": {},
   "source": [
    "## Training "
   ]
  },
  {
   "cell_type": "code",
   "execution_count": 6,
   "id": "1f8d6236",
   "metadata": {
    "ExecuteTime": {
     "end_time": "2022-08-23T04:01:15.866029Z",
     "start_time": "2022-08-23T03:56:24.865168Z"
    },
    "scrolled": false
   },
   "outputs": [
    {
     "name": "stdout",
     "output_type": "stream",
     "text": [
      "./Models/LSTM_cf/ActionClassificationLSTMCF/trainX_ActionPatternData/2e9c4621b7536f7cda6354a674c5d77a/model.pkl\n"
     ]
    },
    {
     "name": "stderr",
     "output_type": "stream",
     "text": [
      "../../../../Clust/clust/transformation/type/DFToNPArray.py:38: FutureWarning: Indexing a timezone-aware DatetimeIndex with a timezone-naive datetime is deprecated and will raise KeyError in a future version. Use a timezone-aware object instead.\n",
      "  dfX_partial = dfX[startDate:endDate]\n",
      "../../../../Clust/clust/transformation/type/DFToNPArray.py:39: FutureWarning: Indexing a timezone-aware DatetimeIndex with a timezone-naive datetime is deprecated and will raise KeyError in a future version. Use a timezone-aware object instead.\n",
      "  dfy_partial = dfy[startDate:endDate]\n",
      "../../../../Clust/clust/transformation/type/DFToNPArray.py:38: FutureWarning: Indexing a timezone-aware DatetimeIndex with a timezone-naive datetime is deprecated and will raise KeyError in a future version. Use a timezone-aware object instead.\n",
      "  dfX_partial = dfX[startDate:endDate]\n",
      "../../../../Clust/clust/transformation/type/DFToNPArray.py:39: FutureWarning: Indexing a timezone-aware DatetimeIndex with a timezone-naive datetime is deprecated and will raise KeyError in a future version. Use a timezone-aware object instead.\n",
      "  dfy_partial = dfy[startDate:endDate]\n"
     ]
    },
    {
     "ename": "AttributeError",
     "evalue": "'ClassificationTrain' object has no attribute 'datasets'",
     "output_type": "error",
     "traceback": [
      "\u001b[0;31m---------------------------------------------------------------------------\u001b[0m",
      "\u001b[0;31mAttributeError\u001b[0m                            Traceback (most recent call last)",
      "Cell \u001b[0;32mIn [6], line 35\u001b[0m\n\u001b[1;32m     33\u001b[0m ctrain\u001b[38;5;241m.\u001b[39mset_data(train_x, train_y, val_x, val_y)\n\u001b[1;32m     34\u001b[0m ctrain\u001b[38;5;241m.\u001b[39mset_model(model_method)\n\u001b[0;32m---> 35\u001b[0m model \u001b[38;5;241m=\u001b[39m \u001b[43mctrain\u001b[49m\u001b[38;5;241;43m.\u001b[39;49m\u001b[43mtrain\u001b[49m\u001b[43m(\u001b[49m\u001b[43m)\u001b[49m\n",
      "File \u001b[0;32m~/CLUST_KETI/Clust/clust/ML/classification/train.py:114\u001b[0m, in \u001b[0;36mClassificationTrain.train\u001b[0;34m(self)\u001b[0m\n\u001b[1;32m    106\u001b[0m \u001b[38;5;28;01mdef\u001b[39;00m \u001b[38;5;21mtrain\u001b[39m(\u001b[38;5;28mself\u001b[39m):\n\u001b[1;32m    107\u001b[0m     \u001b[38;5;124;03m\"\"\"\u001b[39;00m\n\u001b[1;32m    108\u001b[0m \u001b[38;5;124;03m    Train and return model\u001b[39;00m\n\u001b[1;32m    109\u001b[0m \n\u001b[1;32m    110\u001b[0m \u001b[38;5;124;03m    Returns:\u001b[39;00m\n\u001b[1;32m    111\u001b[0m \u001b[38;5;124;03m        model: train model\u001b[39;00m\n\u001b[1;32m    112\u001b[0m \u001b[38;5;124;03m    \"\"\"\u001b[39;00m\n\u001b[0;32m--> 114\u001b[0m     train_set, valid_set \u001b[38;5;241m=\u001b[39m \u001b[38;5;28;43mself\u001b[39;49m\u001b[38;5;241;43m.\u001b[39;49m\u001b[43mdatasets\u001b[49m[\u001b[38;5;241m0\u001b[39m], \u001b[38;5;28mself\u001b[39m\u001b[38;5;241m.\u001b[39mdatasets[\u001b[38;5;241m1\u001b[39m]\n\u001b[1;32m    115\u001b[0m     \u001b[38;5;28mself\u001b[39m\u001b[38;5;241m.\u001b[39mtrain_loader \u001b[38;5;241m=\u001b[39m DataLoader(train_set, batch_size\u001b[38;5;241m=\u001b[39m\u001b[38;5;28mself\u001b[39m\u001b[38;5;241m.\u001b[39mbatch_size, shuffle\u001b[38;5;241m=\u001b[39m\u001b[38;5;28;01mTrue\u001b[39;00m)\n\u001b[1;32m    116\u001b[0m     \u001b[38;5;28mself\u001b[39m\u001b[38;5;241m.\u001b[39mvalid_loader \u001b[38;5;241m=\u001b[39m DataLoader(valid_set, batch_size\u001b[38;5;241m=\u001b[39m\u001b[38;5;28mself\u001b[39m\u001b[38;5;241m.\u001b[39mbatch_size, shuffle\u001b[38;5;241m=\u001b[39m\u001b[38;5;28;01mTrue\u001b[39;00m)\n",
      "\u001b[0;31mAttributeError\u001b[0m: 'ClassificationTrain' object has no attribute 'datasets'"
     ]
    }
   ],
   "source": [
    "# 3-1.\n",
    "model_list = [\"LSTM_cf\",\"GRU_cf\", \"CNN_1D_cf\",\"LSTM_FCNs_cf\"]\n",
    "model_method = model_list[0]\n",
    "\n",
    "n_epochs = 2 # 학습 epoch 횟수, int(default: 1000, 범위: 1 이상)\n",
    "batch_size = 16  # batch 크기, int(default: 16, 범위: 1 이상, 컴퓨터 사양에 적합하게 설정)\n",
    "num_classes = 6 # class 개수\n",
    "#targetNames = ['class 0', 'class 1', 'class 2', 'class 3', 'class 4', 'class 5'] ## result_metrics_df 에서 target 이름 설정.... Inference 에서 힘들음\n",
    "\n",
    "trainParameter = setting.modelConfig[model_method]\n",
    "trainParameter['device']  = device\n",
    "trainParameter['n_epochs'] = n_epochs\n",
    "trainParameter['num_classes'] = num_classes\n",
    "trainParameter['batch_size'] = batch_size\n",
    "\n",
    "modelTags =[\"action\", \"sensor\", \"classification\", \"pattern\"]\n",
    "trainDataType = \"timeseries\"\n",
    "modelPurpose = \"classification\"\n",
    "\n",
    "# 2\n",
    "trainDataInfo = DataMeta[dataName_X]['integrationInfo']\n",
    "\n",
    "# 3. 모델을 저장할 파일 패스를 생성한다.\n",
    "from Clust.clust.transformation.general.dataScaler import encodeHashStyle\n",
    "trainParameter_encode =  encodeHashStyle(str(trainParameter))\n",
    "trainDataPathList = [\"ActionClassificationLSTMCF\", dataName_X, trainParameter_encode]\n",
    "modelFilePath = model_manager.get_model_file_path(trainDataPathList, model_method)\n",
    "\n",
    "# 4. Training\n",
    "from Clust.clust.ML.classification.train import ClassificationTrain as CTrain\n",
    "ctrain = CTrain()\n",
    "ctrain.set_param(trainParameter)\n",
    "ctrain.set_data(train_x, train_y, val_x, val_y)\n",
    "ctrain.set_model(model_method)\n",
    "model = ctrain.train()\n"
   ]
  },
  {
   "cell_type": "markdown",
   "id": "1c65c711",
   "metadata": {},
   "source": [
    "## Model Save - .pkl"
   ]
  },
  {
   "cell_type": "code",
   "execution_count": null,
   "id": "81003af4",
   "metadata": {},
   "outputs": [],
   "source": [
    "from Clust.clust.ML.common import model_manager\n",
    "model_manager.save_pickle_model(model)"
   ]
  },
  {
   "cell_type": "markdown",
   "id": "76c50144",
   "metadata": {},
   "source": [
    "## Model Meta Save - mongoDB"
   ]
  },
  {
   "cell_type": "code",
   "execution_count": null,
   "id": "f2ca227e",
   "metadata": {},
   "outputs": [],
   "source": [
    "from Clust.clust.ingestion.mongo import mongoClient as mongo_client\n",
    "from Clust.setting import influx_setting_KETI as ins\n",
    "\n",
    "mongo_client = mongo_client.mongoClient(ins.CLUSTMetaInfo2)"
   ]
  },
  {
   "cell_type": "code",
   "execution_count": null,
   "id": "8bca73fb",
   "metadata": {
    "ExecuteTime": {
     "end_time": "2022-08-12T03:54:24.443500Z",
     "start_time": "2022-08-12T03:53:23.354Z"
    }
   },
   "outputs": [],
   "source": [
    "# 5. update MetaFile\n",
    "ModelName = encodeHashStyle(p1.getListMerge ([model_method, cleanTrainDataParam, trainParameter_encode, dataName_X, dataName_y] ))\n",
    "modelInfoMeta ={\n",
    "    \"author\":\"KETI\",\n",
    "    \"modelName\": ModelName,\n",
    "    \"modelVersion\":0.1,\n",
    "    \"trainDataInfo\":trainDataInfo,\n",
    "    \"featureList\":featureListX,\n",
    "    \"target\":featureListy,\n",
    "    \"trainDataType\":trainDataType,\n",
    "    \"modelPurpose\":modelPurpose,\n",
    "    \"model_method\":model_method,\n",
    "    \"modelTags\":modelTags,\n",
    "    \"cleanTrainDataParam\":cleanTrainDataParam,\n",
    "    \"NaNProcessingParam\":NaNProcessingParam,\n",
    "    \"trainDataName\":[dataName_X,dataName_y],\n",
    "    \"trainParameter\":cml.parameter,\n",
    "    \"scalerParam\":scalerParam,\n",
    "    \"files\":{\n",
    "        \"modelFile\":{\n",
    "            \"fileName\":\"model.pth\",\n",
    "            \"filePath\":modelFilePath\n",
    "        },\n",
    "        \"XScalerFile\":{\n",
    "            \"fileName\":\"scaler.pkl\",\n",
    "            \"filePath\":X_scalerFilePath       \n",
    "        },\n",
    "        \"yScalerFile\":{\n",
    "            \"fileName\":\"scaler.pkl\",\n",
    "            \"filePath\":y_scalerFilePath       \n",
    "        }\n",
    "    },\n",
    "    \"trainParameter\":trainParameter,\n",
    "    \"n_epochs\":n_epochs\n",
    "}\n",
    "# modelInfoMeta = p3.updateModelMetaData(ModelName, modelInfoMeta, pathSetting.trainModelMetaFilePath)\n",
    "modelInfoMeta = model_manager.update_model_meta_data(mongo_client, modelInfoMeta)"
   ]
  },
  {
   "cell_type": "code",
   "execution_count": null,
   "id": "2042d805",
   "metadata": {},
   "outputs": [],
   "source": [
    "modelInfoMeta"
   ]
  },
  {
   "cell_type": "code",
   "execution_count": null,
   "id": "e1244192",
   "metadata": {
    "ExecuteTime": {
     "end_time": "2022-08-12T03:54:24.444500Z",
     "start_time": "2022-08-12T03:53:23.357Z"
    },
    "scrolled": true
   },
   "outputs": [],
   "source": [
    "aa = mongo_client.get_all_document('model','meta')\n",
    "aa"
   ]
  },
  {
   "cell_type": "code",
   "execution_count": null,
   "id": "9c598ab1",
   "metadata": {},
   "outputs": [],
   "source": []
  }
 ],
 "metadata": {
  "hide_input": false,
  "kernelspec": {
   "display_name": "Python 3 (ipykernel)",
   "language": "python",
   "name": "python3"
  },
  "language_info": {
   "codemirror_mode": {
    "name": "ipython",
    "version": 3
   },
   "file_extension": ".py",
   "mimetype": "text/x-python",
   "name": "python",
   "nbconvert_exporter": "python",
   "pygments_lexer": "ipython3",
   "version": "3.8.8"
  },
  "toc": {
   "base_numbering": 1,
   "nav_menu": {},
   "number_sections": true,
   "sideBar": true,
   "skip_h1_title": false,
   "title_cell": "Table of Contents",
   "title_sidebar": "Contents",
   "toc_cell": true,
   "toc_position": {
    "height": "calc(100% - 180px)",
    "left": "10px",
    "top": "150px",
    "width": "307.2px"
   },
   "toc_section_display": true,
   "toc_window_display": true
  },
  "vscode": {
   "interpreter": {
    "hash": "f1ef7e1f828dbb4e75f421045d2c565197efaf8469a0be4a314c6ea8378b5cb2"
   }
  }
 },
 "nbformat": 4,
 "nbformat_minor": 5
}
