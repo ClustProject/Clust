{
 "cells": [
  {
   "cell_type": "markdown",
   "id": "43276846",
   "metadata": {
    "toc": true
   },
   "source": [
    "# Training"
   ]
  },
  {
   "cell_type": "code",
   "execution_count": 1,
   "id": "95790ab5",
   "metadata": {
    "ExecuteTime": {
     "end_time": "2022-08-23T03:21:52.373651Z",
     "start_time": "2022-08-23T03:21:48.164603Z"
    }
   },
   "outputs": [
    {
     "name": "stdout",
     "output_type": "stream",
     "text": [
      "cpu is available.\n"
     ]
    }
   ],
   "source": [
    "import sys, os\n",
    "import pandas as pd\n",
    "import numpy as np\n",
    "import setting\n",
    "import pathSetting\n",
    "import torch\n",
    "sys.path.append(\"../../..\")\n",
    "\n",
    "from Clust.clust.transformation.type.DFToNPArray import transDFtoNP, trans_df_to_np, trans_df_to_np_inf\n",
    "from Clust.clust.ML.common.common import p1_integratedDataSaving as p1\n",
    "from Clust.clust.ML.tool import data as ml_data\n",
    "from Clust.clust.ML.tool import meta as ml_meta\n",
    "from Clust.clust.ML.tool import model as ml_model\n",
    "\n",
    "device = \"cuda\" if torch.cuda.is_available() else \"cpu\"\n",
    "print(f\"{device}\" \" is available.\")"
   ]
  },
  {
   "cell_type": "code",
   "execution_count": 2,
   "id": "0f4e9ece",
   "metadata": {},
   "outputs": [],
   "source": [
    "modelConfig={\n",
    "    \"LSTM_cf\":{# Case 1. LSTM model (w/o data representation)\n",
    "        'num_layers': 2,  # recurrent layers의 수, int(default: 2, 범위: 1 이상)\n",
    "        'hidden_size': 64,  # hidden state의 차원, int(default: 64, 범위: 1 이상)\n",
    "        'dropout': 0.1,  # dropout 확률, float(default: 0.1, 범위: 0 이상 1 이하)\n",
    "        'bidirectional': True,  # 모델의 양방향성 여부, bool(default: True)   \n",
    "        \"lr\":0.0001\n",
    "    },\n",
    "    \"GRU_cf\":{# Case 2. GRU model (w/o data representation)\n",
    "        'num_layers': 2,  # recurrent layers의 수, int(default: 2, 범위: 1 이상)\n",
    "        'hidden_size': 64,  # hidden state의 차원, int(default: 64, 범위: 1 이상)\n",
    "        'dropout': 0.1,  # dropout 확률, float(default: 0.1, 범위: 0 이상 1 이하)\n",
    "        'bidirectional': True,  # 모델의 양방향성 여부, bool(default: True)\n",
    "        \"lr\":0.0001\n",
    "        \n",
    "    },\n",
    "    \"CNN_1D_cf\":{# Case 3. CNN_1D model (w/o data representation)\n",
    "        'output_channels': 64, # convolution layer의 output channel, int(default: 64, 범위: 1 이상, 2의 지수로 설정 권장)\n",
    "        'kernel_size': 3, # convolutional layer의 filter 크기, int(default: 3, 범위: 3 이상, 홀수로 설정 권장)\n",
    "        'stride': 1, # convolution layer의 stride 크기, int(default: 1, 범위: 1 이상)\n",
    "        'padding': 0, # padding 크기, int(default: 0, 범위: 0 이상)\n",
    "        'drop_out': 0.1, # dropout 확률, float(default: 0.1, 범위: 0 이상 1 이하)\n",
    "        \"lr\":0.0001\n",
    "    },\n",
    "    \"LSTM_FCNs_cf\":{#Case 4. LSTM_FCNs model (w/o data representation)\n",
    "        'num_layers': 1,  # recurrent layers의 수, int(default: 1, 범위: 1 이상)\n",
    "        'lstm_drop_out': 0.4, # LSTM dropout 확률, float(default: 0.4, 범위: 0 이상 1 이하)\n",
    "        'fc_drop_out': 0.1, # FC dropout 확률, float(default: 0.1, 범위: 0 이상 1 이하)\n",
    "        \"lr\":0.0001\n",
    "    },\n",
    "    \"FC_cf\":{# Case 5. fully-connected layers (w/ data representation)\n",
    "        'drop_out': 0.1, # dropout 확률, float(default: 0.1, 범위: 0 이상 1 이하)\n",
    "        'bias': True,# bias 사용 여부, bool(default: True)\n",
    "        \"lr\":0.0001}  \n",
    "}"
   ]
  },
  {
   "cell_type": "markdown",
   "id": "0fcf28a6",
   "metadata": {},
   "source": [
    "## Data selection"
   ]
  },
  {
   "cell_type": "code",
   "execution_count": 3,
   "id": "7a0b7a99",
   "metadata": {
    "ExecuteTime": {
     "end_time": "2022-08-23T03:23:34.966769Z",
     "start_time": "2022-08-23T03:23:34.953779Z"
    }
   },
   "outputs": [],
   "source": [
    "#dataRoot = 'ml_data_integration'\n",
    "# 1 (p2부분 1. Data Selection)\n",
    "DataMeta = p1.read_json_data(pathSetting.DataMetaPath)\n",
    "dataList =  list(DataMeta.keys())"
   ]
  },
  {
   "cell_type": "code",
   "execution_count": 4,
   "id": "878da9d0",
   "metadata": {},
   "outputs": [
    {
     "data": {
      "text/plain": [
       "['trainX_ActionPatternData',\n",
       " 'trainy_ActionPatternData',\n",
       " 'testX_ActionPatternData',\n",
       " 'testy_ActionPatternData']"
      ]
     },
     "execution_count": 4,
     "metadata": {},
     "output_type": "execute_result"
    }
   ],
   "source": [
    "dataList"
   ]
  },
  {
   "cell_type": "code",
   "execution_count": 5,
   "id": "bcec8e5c",
   "metadata": {
    "ExecuteTime": {
     "end_time": "2022-08-23T03:23:43.975431Z",
     "start_time": "2022-08-23T03:23:35.602321Z"
    },
    "scrolled": true
   },
   "outputs": [],
   "source": [
    "#2\n",
    "# dataX\n",
    "dataName_X = dataList[0]\n",
    "dataSaveMode_X = DataMeta[dataName_X][\"integrationInfo\"][\"DataSaveMode\"]\n",
    "\n",
    "# datay\n",
    "dataName_y = dataList[1]\n",
    "dataSaveMode_y = DataMeta[dataName_y][\"integrationInfo\"][\"DataSaveMode\"]\n",
    "\n",
    "#3\n",
    "### CSV 로 Local 에 데이터 저장되어 있을 경우\n",
    "dataFolderName = \"data_integrated_result\"\n",
    "current = os.getcwd()\n",
    "dataFolderPath = os.path.join(current, dataFolderName)\n",
    "\n",
    "dataX = ml_data.get_saved_integrated_data(dataSaveMode_X, dataName_X, dataFolderPath)\n",
    "datay = ml_data.get_saved_integrated_data(dataSaveMode_y, dataName_y, dataFolderPath)\n",
    "integration_freq_sec = DataMeta[dataName_X][\"integrationInfo\"][\"integration_freq_sec\"]"
   ]
  },
  {
   "cell_type": "markdown",
   "id": "d6e052db",
   "metadata": {},
   "source": [
    "## Training Data Preparation"
   ]
  },
  {
   "cell_type": "code",
   "execution_count": 6,
   "id": "11b755d3",
   "metadata": {
    "ExecuteTime": {
     "end_time": "2022-08-23T03:23:46.579598Z",
     "start_time": "2022-08-23T03:23:43.977430Z"
    },
    "scrolled": false
   },
   "outputs": [
    {
     "name": "stdout",
     "output_type": "stream",
     "text": [
      "['col_0', 'col_1', 'col_2', 'col_3', 'col_4', 'col_5', 'col_6', 'col_7', 'col_8']\n",
      "Make New scaler File\n"
     ]
    }
   ],
   "source": [
    "# 2 Training Data Preparation\n",
    "# 2-1\n",
    "featureListX= list(dataX.columns)\n",
    "featureListy= list(datay.columns)\n",
    "target_col = 'value'\n",
    "\n",
    "# 2-2\n",
    "cleanTrainDataParam = 'NoClean'#  Classification, Regression과 같이 X, y가 분리된 경우에는 현재 고정해서 사용해야함\n",
    "\n",
    "# 2-2-1 cleanTrainDataParam == Clean 일 경우\n",
    "NaNProcessingParam ={\n",
    "    \"feature_cycle\":'Day',\n",
    "    \"feature_cycle_times\":1,\n",
    "    \"NanInfoForCleanData\":{'type':'num', 'ConsecutiveNanLimit':3, 'totalNaNLimit':30000}\n",
    "}\n",
    "# 2-3\n",
    "scalerParam=\"scale\"\n",
    "scaleMethod ='minmax'\n",
    "# 2-4\n",
    "splitRatio = 0.8\n",
    "mode = 'Classification'\n",
    "\n",
    "# 2-5\n",
    "scalerRootPath_X = os.path.join(pathSetting.scalerRootDir, dataName_X, cleanTrainDataParam)\n",
    "scalerRootPath_y = os.path.join(pathSetting.scalerRootDir, dataName_X, cleanTrainDataParam)\n",
    "train_x, val_x, X_scalerFilePath = ml_data.get_train_val_data(dataX, featureListX, scalerRootPath_X, splitRatio, scalerParam, scaleMethod, mode)\n",
    "train_y, val_y, y_scalerFilePath = ml_data.get_train_val_data(datay, featureListy, scalerRootPath_y, splitRatio, \"NoScale\", scaleMethod, mode)"
   ]
  },
  {
   "cell_type": "markdown",
   "id": "ff6b9d01",
   "metadata": {},
   "source": [
    "## Training "
   ]
  },
  {
   "cell_type": "code",
   "execution_count": 7,
   "id": "d44a3ee5",
   "metadata": {},
   "outputs": [],
   "source": [
    "model_list = [\"LSTM_cf\",\"GRU_cf\", \"CNN_1D_cf\",\"LSTM_FCNs_cf\"]\n",
    "model_method = model_list[0]\n",
    "\n",
    "n_epochs = 2 # 학습 epoch 횟수, int(default: 1000, 범위: 1 이상)\n",
    "batch_size = 16  # batch 크기, int(default: 16, 범위: 1 이상, 컴퓨터 사양에 적합하게 설정)\n",
    "num_classes = 6 # class 개수\n",
    "#targetNames = ['class 0', 'class 1', 'class 2', 'class 3', 'class 4', 'class 5'] ## result_metrics_df 에서 target 이름 설정.... Inference 에서 힘들음"
   ]
  },
  {
   "cell_type": "code",
   "execution_count": 8,
   "id": "95763e83",
   "metadata": {},
   "outputs": [],
   "source": [
    "trainParameter = modelConfig[model_method]\n",
    "trainParameter['device']  = device\n",
    "trainParameter['n_epochs'] = n_epochs\n",
    "trainParameter['num_classes'] = num_classes\n",
    "trainParameter['batch_size'] = batch_size"
   ]
  },
  {
   "cell_type": "code",
   "execution_count": 9,
   "id": "692d06f2",
   "metadata": {},
   "outputs": [
    {
     "name": "stderr",
     "output_type": "stream",
     "text": [
      "/home/leezy/anaconda3/lib/python3.8/site-packages/pandas/core/indexes/base.py:5277: FutureWarning: Indexing a timezone-aware DatetimeIndex with a timezone-naive datetime is deprecated and will raise KeyError in a future version.  Use a timezone-aware object instead.\n",
      "  start_slice, end_slice = self.slice_locs(start, end, step=step, kind=kind)\n"
     ]
    }
   ],
   "source": [
    "window_num=0\n",
    "\n",
    "dim = 3\n",
    "if model_method == \"FC_cf\":\n",
    "    dim = 2\n",
    "if type(train_x) !=  np.ndarray:\n",
    "    train_x, train_y = transDFtoNP(train_x, train_y, window_num, dim)\n",
    "    val_x, val_y = transDFtoNP(val_x, val_y, window_num, dim)\n",
    "\n",
    "trainParameter['input_size'] = train_x.shape[1]\n",
    "if dim != 2:\n",
    "    trainParameter['seq_len']  = train_x.shape[2] "
   ]
  },
  {
   "cell_type": "code",
   "execution_count": 10,
   "id": "1f8d6236",
   "metadata": {
    "ExecuteTime": {
     "end_time": "2022-08-23T04:01:15.866029Z",
     "start_time": "2022-08-23T03:56:24.865168Z"
    },
    "scrolled": true
   },
   "outputs": [
    {
     "name": "stdout",
     "output_type": "stream",
     "text": [
      "./Models/LSTM_cf/test_meta_classification/trainX_ActionPatternData/2c4ed4d8c401715309eb2ae4bcf85d8a/model.pkl\n"
     ]
    }
   ],
   "source": [
    "modelTags =[\"action\", \"sensor\", \"classification\", \"pattern\"]\n",
    "trainDataType = \"timeseries\"\n",
    "modelPurpose = \"classification\"\n",
    "\n",
    "# 2\n",
    "trainDataInfo = DataMeta[dataName_X]['integrationInfo']\n",
    "\n",
    "# model_name = 'New_ClassificationNocleanLSTM_cf'\n",
    "model_name = 'test_meta_classification'\n",
    "\n",
    "# 3. 모델을 저장할 파일 패스를 생성한다.\n",
    "from Clust.clust.transformation.general.dataScaler import encode_hash_style\n",
    "trainParameter_encode =  encode_hash_style(str(trainParameter))\n",
    "# trainDataPathList = [\"ActionClassificationLSTMCF\", dataName_X, trainParameter_encode]\n",
    "trainDataPathList = [model_name, dataName_X, trainParameter_encode]\n",
    "# trainDataPathList = [model_name]\n",
    "modelFilePath = ml_model.get_model_file_path(trainDataPathList, model_method)"
   ]
  },
  {
   "cell_type": "code",
   "execution_count": 11,
   "id": "ff63e807",
   "metadata": {},
   "outputs": [
    {
     "name": "stdout",
     "output_type": "stream",
     "text": [
      "Start training model\n",
      "\n",
      "Epoch 1/2\n",
      "train Loss: 1.6251 Acc: 0.2821\n",
      "val Loss: 1.3995 Acc: 0.3630\n",
      "\n",
      "Training complete in 1m 17s\n",
      "Best val Acc: 0.460911\n"
     ]
    }
   ],
   "source": [
    "# 4. Training\n",
    "from Clust.clust.ML.classification.train import ClassificationTrain as CTrain\n",
    "ctrain = CTrain()\n",
    "ctrain.set_param(trainParameter)\n",
    "ctrain.set_model(model_method)\n",
    "ctrain.set_data(train_x, train_y, val_x, val_y)\n",
    "ctrain.train()\n",
    "ctrain.save_best_model(modelFilePath)"
   ]
  },
  {
   "cell_type": "markdown",
   "id": "76c50144",
   "metadata": {},
   "source": [
    "## Model Meta Save - mongoDB"
   ]
  },
  {
   "cell_type": "code",
   "execution_count": 12,
   "id": "f2ca227e",
   "metadata": {},
   "outputs": [],
   "source": [
    "from Clust.clust.ingestion.mongo import mongo_client\n",
    "from Clust.setting import influx_setting_KETI as ins\n",
    "\n",
    "mongo_client = mongo_client.MongoClient(ins.CLUSTMetaInfo2)"
   ]
  },
  {
   "cell_type": "code",
   "execution_count": 13,
   "id": "cd28bec9",
   "metadata": {},
   "outputs": [],
   "source": [
    "train_meta = modelConfig[model_method]\n",
    "train_meta['device']  = device\n",
    "train_meta['n_epochs'] = n_epochs\n",
    "train_meta['num_classes'] = num_classes\n",
    "train_meta['batch_size'] = batch_size"
   ]
  },
  {
   "cell_type": "code",
   "execution_count": 14,
   "id": "4c59f7ec",
   "metadata": {},
   "outputs": [],
   "source": [
    "model_meta = {\n",
    "    \"trainDataInfo\": trainDataInfo,\n",
    "    \"featureList\": featureListX,\n",
    "    \"target\": featureListy,\n",
    "    \"trainDataType\": trainDataType,\n",
    "    \"modelPurpose\": modelPurpose,\n",
    "    \"model_method\": model_method,\n",
    "    \"modelTags\": modelTags,\n",
    "    \"trainDataName\": [dataName_X,dataName_y],\n",
    "    \"cleanTrainDataParam\":cleanTrainDataParam,\n",
    "    \"NaNProcessingParam\":NaNProcessingParam,\n",
    "    \"scalerParam\": scalerParam,\n",
    "    \"files\":{\n",
    "            \"modelFile\":{\n",
    "                    \"fileName\":\"model.pth\",\n",
    "                    \"filePath\":modelFilePath\n",
    "                },\n",
    "            \"XScalerFile\":{\n",
    "                    \"fileName\":\"scaler.pkl\",\n",
    "                    \"filePath\":X_scalerFilePath       \n",
    "                },\n",
    "            \"yScalerFile\":{\n",
    "                    \"fileName\":\"scaler.pkl\",\n",
    "                    \"filePath\":y_scalerFilePath       \n",
    "                }\n",
    "        }\n",
    "}"
   ]
  },
  {
   "cell_type": "code",
   "execution_count": null,
   "id": "ce953a45",
   "metadata": {},
   "outputs": [],
   "source": []
  },
  {
   "cell_type": "code",
   "execution_count": 15,
   "id": "7a434778",
   "metadata": {},
   "outputs": [],
   "source": [
    "ml_info_meta = {\n",
    "    \"model_name\": model_name,\n",
    "    \"model_meta\": model_meta,\n",
    "    \"train_meta\": trainParameter\n",
    "}"
   ]
  },
  {
   "cell_type": "code",
   "execution_count": 16,
   "id": "45afa3b4",
   "metadata": {},
   "outputs": [
    {
     "name": "stdout",
     "output_type": "stream",
     "text": [
      "========== Data Svae Success ==========\n",
      "{'model_name': 'test_meta_classification', 'model_meta': {'trainDataInfo': {'startTime': '1992-1-11', 'endTime': '2012-02-27', 'dataInfo': [['bio_action_sensors', 'accelerationTrain']], 'processParam': {'refine_param': {'removeDuplication': {'flag': False}, 'staticFrequency': {'flag': False, 'frequency': None}}, 'outlier_param': {'certainErrorToNaN': {'flag': False}, 'unCertainErrorToNaN': {'flag': False, 'param': {}}}, 'imputation_param': {'flag': False, 'imputation_method': [], 'totalNonNanRatio': 80}}, 'integration_freq_sec': 675, 'cleanParam': 'NoClean', 'DataSaveMode': 'CSV'}, 'featureList': ['col_0', 'col_1', 'col_2', 'col_3', 'col_4', 'col_5', 'col_6', 'col_7', 'col_8'], 'target': ['value'], 'trainDataType': 'timeseries', 'modelPurpose': 'classification', 'model_method': 'LSTM_cf', 'modelTags': ['action', 'sensor', 'classification', 'pattern'], 'trainDataName': ['trainX_ActionPatternData', 'trainy_ActionPatternData'], 'cleanTrainDataParam': 'NoClean', 'NaNProcessingParam': {'feature_cycle': 'Day', 'feature_cycle_times': 1, 'NanInfoForCleanData': {'type': 'num', 'ConsecutiveNanLimit': 3, 'totalNaNLimit': 30000}}, 'scalerParam': 'scale', 'files': {'modelFile': {'fileName': 'model.pth', 'filePath': './Models/LSTM_cf/test_meta_classification/trainX_ActionPatternData/2c4ed4d8c401715309eb2ae4bcf85d8a/model.pkl'}, 'XScalerFile': {'fileName': 'scaler.pkl', 'filePath': './scaler/trainX_ActionPatternData/NoClean/minmax/2b219d77d5b069971addb3d7c728ec0d/scaler.pkl'}, 'yScalerFile': {'fileName': 'scaler.pkl', 'filePath': None}}}, 'train_meta': {'num_layers': 2, 'hidden_size': 64, 'dropout': 0.1, 'bidirectional': True, 'lr': 0.0001, 'device': 'cpu', 'n_epochs': 2, 'num_classes': 6, 'batch_size': 16, 'input_size': 9, 'seq_len': 128, 'rnn_type': 'lstm'}, '_id': ObjectId('642e7f7b1650cd5d427fe0a1')}\n"
     ]
    }
   ],
   "source": [
    "ml_meta.save_model_meta_data(mongo_client, ml_info_meta)"
   ]
  },
  {
   "cell_type": "code",
   "execution_count": 18,
   "id": "9c598ab1",
   "metadata": {},
   "outputs": [
    {
     "data": {
      "text/plain": [
       "{'trainDataInfo': {'startTime': '1992-1-11',\n",
       "  'endTime': '2012-02-27',\n",
       "  'dataInfo': [['bio_action_sensors', 'accelerationTrain']],\n",
       "  'processParam': {'refine_param': {'removeDuplication': {'flag': False},\n",
       "    'staticFrequency': {'flag': False, 'frequency': None}},\n",
       "   'outlier_param': {'certainErrorToNaN': {'flag': False},\n",
       "    'unCertainErrorToNaN': {'flag': False, 'param': {}}},\n",
       "   'imputation_param': {'flag': False,\n",
       "    'imputation_method': [],\n",
       "    'totalNonNanRatio': 80}},\n",
       "  'integration_freq_sec': 675,\n",
       "  'cleanParam': 'NoClean',\n",
       "  'DataSaveMode': 'CSV'},\n",
       " 'featureList': ['col_0',\n",
       "  'col_1',\n",
       "  'col_2',\n",
       "  'col_3',\n",
       "  'col_4',\n",
       "  'col_5',\n",
       "  'col_6',\n",
       "  'col_7',\n",
       "  'col_8'],\n",
       " 'target': ['value'],\n",
       " 'trainDataType': 'timeseries',\n",
       " 'modelPurpose': 'classification',\n",
       " 'model_method': 'LSTM_cf',\n",
       " 'modelTags': ['action', 'sensor', 'classification', 'pattern'],\n",
       " 'trainDataName': ['trainX_ActionPatternData', 'trainy_ActionPatternData'],\n",
       " 'cleanTrainDataParam': 'NoClean',\n",
       " 'NaNProcessingParam': {'feature_cycle': 'Day',\n",
       "  'feature_cycle_times': 1,\n",
       "  'NanInfoForCleanData': {'type': 'num',\n",
       "   'ConsecutiveNanLimit': 3,\n",
       "   'totalNaNLimit': 30000}},\n",
       " 'scalerParam': 'scale',\n",
       " 'files': {'modelFile': {'fileName': 'model.pth',\n",
       "   'filePath': './Models/LSTM_cf/test_meta_classification/trainX_ActionPatternData/2c4ed4d8c401715309eb2ae4bcf85d8a/model.pkl'},\n",
       "  'XScalerFile': {'fileName': 'scaler.pkl',\n",
       "   'filePath': './scaler/trainX_ActionPatternData/NoClean/minmax/2b219d77d5b069971addb3d7c728ec0d/scaler.pkl'},\n",
       "  'yScalerFile': {'fileName': 'scaler.pkl', 'filePath': None}}}"
      ]
     },
     "execution_count": 18,
     "metadata": {},
     "output_type": "execute_result"
    }
   ],
   "source": [
    "ml_info_meta[\"model_meta\"]"
   ]
  },
  {
   "cell_type": "code",
   "execution_count": 19,
   "id": "2e2c2fbb",
   "metadata": {},
   "outputs": [
    {
     "data": {
      "text/plain": [
       "{'num_layers': 2,\n",
       " 'hidden_size': 64,\n",
       " 'dropout': 0.1,\n",
       " 'bidirectional': True,\n",
       " 'lr': 0.0001,\n",
       " 'device': 'cpu',\n",
       " 'n_epochs': 2,\n",
       " 'num_classes': 6,\n",
       " 'batch_size': 16,\n",
       " 'input_size': 9,\n",
       " 'seq_len': 128,\n",
       " 'rnn_type': 'lstm'}"
      ]
     },
     "execution_count": 19,
     "metadata": {},
     "output_type": "execute_result"
    }
   ],
   "source": [
    "ml_info_meta[\"train_meta\"]"
   ]
  },
  {
   "cell_type": "code",
   "execution_count": null,
   "id": "2dd04cd8",
   "metadata": {},
   "outputs": [],
   "source": []
  }
 ],
 "metadata": {
  "hide_input": false,
  "kernelspec": {
   "display_name": "Python 3",
   "language": "python",
   "name": "python3"
  },
  "language_info": {
   "codemirror_mode": {
    "name": "ipython",
    "version": 3
   },
   "file_extension": ".py",
   "mimetype": "text/x-python",
   "name": "python",
   "nbconvert_exporter": "python",
   "pygments_lexer": "ipython3",
   "version": "3.8.8"
  },
  "toc": {
   "base_numbering": 1,
   "nav_menu": {},
   "number_sections": true,
   "sideBar": true,
   "skip_h1_title": false,
   "title_cell": "Table of Contents",
   "title_sidebar": "Contents",
   "toc_cell": true,
   "toc_position": {
    "height": "calc(100% - 180px)",
    "left": "10px",
    "top": "150px",
    "width": "307.2px"
   },
   "toc_section_display": true,
   "toc_window_display": true
  },
  "vscode": {
   "interpreter": {
    "hash": "f1ef7e1f828dbb4e75f421045d2c565197efaf8469a0be4a314c6ea8378b5cb2"
   }
  }
 },
 "nbformat": 4,
 "nbformat_minor": 5
}
