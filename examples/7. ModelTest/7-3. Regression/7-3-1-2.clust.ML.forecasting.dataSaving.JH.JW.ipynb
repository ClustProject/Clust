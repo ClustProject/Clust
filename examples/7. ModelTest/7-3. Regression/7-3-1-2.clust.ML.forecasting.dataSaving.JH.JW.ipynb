{
 "cells": [
  {
   "cell_type": "code",
   "execution_count": 8,
   "id": "a2c8e883",
   "metadata": {},
   "outputs": [],
   "source": [
    "import sys, os\n",
    "import pandas as pd\n",
    "sys.path.append(\"../../\")\n",
    "sys.path.append(\"../../../\")\n",
    "sys.path.append(\"../../../../\")\n",
    "\n",
    "from Clust.setting import influx_setting_KETI as ins\n",
    "from Clust.clust.ingestion.influx import influx_client_v2 as influx_Client\n",
    "from Clust.clust.ML.common.common import p1_integratedDataSaving as p1\n",
    "db_client = influx_Client.InfluxClient(ins.CLUSTDataServer2)\n",
    "from Clust.clust.ingestion.mongo import mongo_client\n",
    "mongo_client = mongo_client.MongoClient(ins.CLUSTMetaInfo2)"
   ]
  },
  {
   "cell_type": "markdown",
   "id": "9662a6ff",
   "metadata": {},
   "source": [
    "# 1. Set datasetName and related parameters"
   ]
  },
  {
   "cell_type": "code",
   "execution_count": 2,
   "id": "7066bcaa",
   "metadata": {},
   "outputs": [],
   "source": [
    "### 1-0. Set DataSetNameList\n",
    "datasetNameList=['Hs1SwineFarmWithWeatherTime', 'gunwiStrawberryWithWeatherTime', 'strawberryOpenTime']\n",
    "\n",
    "### 1-1. Change Variables#########################################################\n",
    "datasetName = datasetNameList[0]\n",
    "integration_freq_sec = 60 * 5 # 5분\n",
    "#################################################################################"
   ]
  },
  {
   "cell_type": "code",
   "execution_count": 3,
   "id": "98529933",
   "metadata": {},
   "outputs": [],
   "source": [
    "## 1-2. PreDefine Condition\n",
    "# if datasetName=='Hs1SwineFarmWithWeatherTime':\n",
    "#     dataInfo = [['farm_swine_air', 'Sadle'], ['weather_outdoor_keti_clean', 'sangju'], ['life_additional_Info', 'trigonometicInfoByHours']]\n",
    "#     trainStartTime = \"2020-11-25 00:00:00\"\n",
    "#     trainEndTime =\"2020-12-25 00:00:00\"\n",
    "#     testStartTime =\"2020-12-26 00:00:00\"\n",
    "#     testEndTime =\"2021-01-03 00:00:00\"\n",
    "    \n",
    "    \n",
    "if datasetName=='Hs1SwineFarmWithWeatherTime':\n",
    "    trainStartTime = \"2021-02-01 00:00:00\"\n",
    "    trainEndTime =\"2021-03-10 00:00:00\"\n",
    "    testStartTime =\"2021-03-10 00:00:00\"\n",
    "    testEndTime =\"2021-03-17 00:00:00\"\n",
    "    dataInfo = [['farm_swine_air', 'HS2'], ['weather_outdoor_keti_clean', 'sangju'], ['life_additional_Info', 'trigonometicInfoByHours']]\n",
    "    \n",
    "elif datasetName=='gunwiStrawberryWithWeatherTime':\n",
    "    dataInfo = [['farm_strawberry_gunwi', 'control_environment'], ['farm_strawberry_gunwi', 'environment'], ['life_additional_Info', 'trigonometicInfoByHours']]\n",
    "    trainStartTime = \"2022-01-22 00:00:00\"\n",
    "    trainEndTime =\"2022-02-25 00:00:00\"\n",
    "    testStartTime =\"2022-02-25 00:00:00\"\n",
    "    testEndTime =\"2022-02-28 00:00:00\"\n",
    "    \n",
    "elif datasetName =='strawberryOpenTime':\n",
    "    dataInfo = [['farm_strawberry_gunwi', 'control_environment'], ['farm_strawberry_gunwi', 'environment'], ['life_additional_Info', 'trigonometicInfoByHours']]\n",
    "    trainStartTime = \"2022-01-22 00:00:00\"\n",
    "    trainEndTime =\"2022-02-25 00:00:00\"\n",
    "    testStartTime =\"2022-02-25 00:00:00\"\n",
    "    testEndTime =\"2022-02-28 00:00:00\"\n",
    "    \n",
    "##################################################\n",
    "#### 1-3. Static Varialbe List\n",
    "LearningModeList=[\"train\", \"test\"]\n",
    "cleanParamList =[\"Clean\", \"NoClean\"]\n",
    "##################################################"
   ]
  },
  {
   "cell_type": "markdown",
   "id": "e4e0b0b9",
   "metadata": {},
   "source": [
    "# 2. Make Save Dataset And Metadata"
   ]
  },
  {
   "cell_type": "markdown",
   "id": "a1553471",
   "metadata": {},
   "source": [
    "### save to influxdb, mongodb"
   ]
  },
  {
   "cell_type": "code",
   "execution_count": 4,
   "id": "eff8259b",
   "metadata": {},
   "outputs": [],
   "source": [
    "bucket_name =\"IntDataForRegression\" #datasetName =\"ActionPatternData\"\n",
    "collection_name = datasetName"
   ]
  },
  {
   "cell_type": "code",
   "execution_count": null,
   "id": "b9627c68",
   "metadata": {},
   "outputs": [],
   "source": [
    "for learningMode in LearningModeList:\n",
    "    for clean_param in cleanParamList:\n",
    "        processParam = p1.get_process_param(clean_param) \n",
    "        if learningMode == 'train':\n",
    "            start_time = trainStartTime\n",
    "            end_time = trainEndTime\n",
    "\n",
    "        elif learningMode =='test':\n",
    "            start_time = testStartTime\n",
    "            end_time = testEndTime\n",
    " \n",
    "        # 1. Ingestion multiple dataset\n",
    "        ingestion_param ={}\n",
    "        ingestion_param['ms_list_info'] = dataInfo\n",
    "        ingestion_param['start_time'] = start_time\n",
    "        ingestion_param['end_time'] = end_time\n",
    "\n",
    "        from Clust.clust.data import data_interface\n",
    "        multiple_dataset = data_interface.get_data_result(\"multiple_ms_by_time\", db_client, ingestion_param)\n",
    "\n",
    "        # 2. Data Preprocessing\n",
    "        from Clust.clust.preprocessing import processing_interface\n",
    "        process_param = p1.get_process_param(clean_param) \n",
    "        multiple_dataset = processing_interface.get_data_result('step_3', multiple_dataset, process_param)\n",
    "\n",
    "        # 3. Data Integration\n",
    "        from Clust.clust.integration.integrationInterface import IntegrationInterface\n",
    "        integration_param = {\n",
    "            \"integration_frequency\":integration_freq_sec,\n",
    "            \"param\":{},\n",
    "            \"method\":\"meta\",\n",
    "            \"integration_duration\":\"common\"\n",
    "        }\n",
    "        data = IntegrationInterface().multipleDatasetsIntegration(integration_param, multiple_dataset)\n",
    "    \n",
    "        # 4. information save\n",
    "        # mongo db에 process_param, dataInfo, integration_freq_sec, start_time, end_time 정보 적혀야 합니다.\n",
    "        # data_name이 중복적으로 발생한다는 단점이 있는데, 이는 추후 덮어쓰지 않기 위해서는, 기존에 이런 데이터가 있냐 덮어쓰겠냐?\n",
    "        # UI적으로 요런 루트만 만들어주면 되지 않을까 싶어요.\n",
    "        # 위 p1.get_process_param 이부분 나중에 좀 생각해보고 없애겠습니다.\n",
    "\n",
    "        ms_name = datasetName+ '_' + \"forecasting\" + '_' + clean_param\n",
    "        db_client.write_db(bucket_name, ms_name, data)\n",
    "        # save to mongodb\n",
    "        data_info = p1.integrated_data_meta(dataInfo, start_time, end_time, integration_freq_sec, clean_param, process_param)\n",
    "        mongo_client.insert_document(bucket_name, collection_name, data_info)"
   ]
  },
  {
   "cell_type": "markdown",
   "id": "976ccab4",
   "metadata": {},
   "source": [
    "### save to scv"
   ]
  },
  {
   "cell_type": "code",
   "execution_count": null,
   "id": "87be4795",
   "metadata": {},
   "outputs": [],
   "source": [
    "# for learningMode in LearningModeList:\n",
    "#     for cleanParam in cleanParamList:\n",
    "#         processParam = p1.get_process_param(cleanParam) \n",
    "#         if learningMode == 'train':\n",
    "#             startTime = trainStartTime\n",
    "#             endTime = trainEndTime\n",
    "\n",
    "#         elif learningMode =='test':\n",
    "#             startTime = testStartTime\n",
    "#             endTime = testEndTime\n",
    "        \n",
    "#         dbName ='intData_'+datasetName\n",
    "#         dataName =learningMode+cleanParam+'_'+datasetName\n",
    "#         # dataName = getNewDataName()\n",
    "#         data = p1.getData(pathSetting.db_client, dataInfo, integration_freq_sec, processParam, startTime, endTime)\n",
    "#         if DataSaveMode == 'influx':\n",
    "#             p1.save_influx_data(dbName, dataName, data, pathSetting.db_client)\n",
    "#         elif DataSaveMode == 'CSV':\n",
    "#             fileName = p1.save_csv_data(pathSetting.dataFolderPath, dataName, data)\n",
    "#         data[['NH3ppm']].plot()\n",
    "#         plt.show()\n",
    "            \n",
    "#         p1.saveJsonMeta(pathSetting.DataMetaPath, dataName, processParam, dataInfo,integration_freq_sec, startTime, endTime, cleanParam, DataSaveMode)"
   ]
  }
 ],
 "metadata": {
  "kernelspec": {
   "display_name": "Python 3",
   "language": "python",
   "name": "python3"
  },
  "language_info": {
   "codemirror_mode": {
    "name": "ipython",
    "version": 3
   },
   "file_extension": ".py",
   "mimetype": "text/x-python",
   "name": "python",
   "nbconvert_exporter": "python",
   "pygments_lexer": "ipython3",
   "version": "3.8.8"
  }
 },
 "nbformat": 4,
 "nbformat_minor": 5
}
