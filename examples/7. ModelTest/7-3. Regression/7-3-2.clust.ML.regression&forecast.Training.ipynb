{
 "cells": [
  {
   "cell_type": "code",
   "execution_count": 19,
   "id": "95790ab5",
   "metadata": {},
   "outputs": [
    {
     "name": "stdout",
     "output_type": "stream",
     "text": [
      "cuda is available.\n"
     ]
    }
   ],
   "source": [
    "import sys, os\n",
    "import pandas as pd\n",
    "sys.path.append(\"../../..\")\n",
    "\n",
    "from Clust.clust.ML.tool import data as ml_data\n",
    "from Clust.clust.ML.tool import model as ml_model\n",
    "from Clust.clust.ML.tool import clean as ml_clean\n",
    "from Clust.clust.ML.tool import meta as ml_meta\n",
    "\n",
    "from Clust.setting import influx_setting_KETI as ins\n",
    "from Clust.clust.ingestion.influx import influx_client_v2 as influx_Client\n",
    "from Clust.clust.ingestion.mongo.mongo_client import MongoClient\n",
    "\n",
    "import torch\n",
    "\n",
    "db_client = influx_Client.InfluxClient(ins.CLUSTDataServer2)\n",
    "mongo_client = MongoClient(ins.CLUSTMetaInfo2)\n",
    "\n",
    "#import main_regression as mr\n",
    "device = \"cuda\" if torch.cuda.is_available() else \"cpu\"\n",
    "print(f\"{device}\" \" is available.\")"
   ]
  },
  {
   "cell_type": "code",
   "execution_count": 20,
   "id": "64028082",
   "metadata": {},
   "outputs": [],
   "source": [
    "# Set regression mode i.e., 'regression','forecast' \n",
    "mode_selection = \"regression\"\n",
    "\n",
    "# Set model methods i.e., 'LSTM_rg', 'GRU_rg', 'CNN_1D_rg', 'LSTM_FCNs_rg', 'FC_rg' \n",
    "model_method = 'LSTM_rg'\n",
    "\n",
    "# get integrated data name\n",
    "bucket_name = 'integration'\n",
    "\n",
    "# scaler path\n",
    "scalerPath = './scaler/'"
   ]
  },
  {
   "cell_type": "markdown",
   "id": "0fcf28a6",
   "metadata": {},
   "source": [
    "# 2. Training \n",
    "\n",
    "## 2-1. Data selection"
   ]
  },
  {
   "cell_type": "code",
   "execution_count": 3,
   "id": "02503915",
   "metadata": {},
   "outputs": [
    {
     "data": {
      "text/plain": [
       "['forecasting_Hs2SwineFarmWithWeatherTime_test_cleanLevel0',\n",
       " 'forecasting_Hs2SwineFarmWithWeatherTime_test_cleanLevel4',\n",
       " 'forecasting_Hs2SwineFarmWithWeatherTime_train_cleanLevel0',\n",
       " 'forecasting_Hs2SwineFarmWithWeatherTime_train_cleanLevel4',\n",
       " 'forecasting_gunwiStrawberryWeather_test_cleanLevel0',\n",
       " 'forecasting_gunwiStrawberryWeather_test_cleanLevel4',\n",
       " 'forecasting_gunwiStrawberryWeather_train_cleanLevel0',\n",
       " 'forecasting_gunwiStrawberryWeather_train_cleanLevel4',\n",
       " 'forecasting_strawberryOpen_test_cleanLevel0',\n",
       " 'forecasting_strawberryOpen_test_cleanLevel4',\n",
       " 'forecasting_strawberryOpen_train_cleanLevel0',\n",
       " 'forecasting_strawberryOpen_train_cleanLevel4',\n",
       " 'regression_energy_testX_cleanLevel0',\n",
       " 'regression_energy_testX_cleanLevel4',\n",
       " 'regression_energy_testy_cleanLevel0',\n",
       " 'regression_energy_testy_cleanLevel4',\n",
       " 'regression_energy_trainX_cleanLevel0',\n",
       " 'regression_energy_trainX_cleanLevel4',\n",
       " 'regression_energy_trainy_cleanLevel0',\n",
       " 'regression_energy_trainy_cleanLevel4']"
      ]
     },
     "execution_count": 3,
     "metadata": {},
     "output_type": "execute_result"
    }
   ],
   "source": [
    "get_ms_list = db_client.measurement_list(bucket_name)\n",
    "get_ms_list"
   ]
  },
  {
   "cell_type": "code",
   "execution_count": 4,
   "id": "0f3faa93",
   "metadata": {},
   "outputs": [
    {
     "data": {
      "text/plain": [
       "['forecasting_strawberryOpen',\n",
       " 'regression_energy',\n",
       " 'forecasting_Hs2SwineFarmWithWeatherTime',\n",
       " 'forecasting_gunwiStrawberryWeather']"
      ]
     },
     "execution_count": 4,
     "metadata": {},
     "output_type": "execute_result"
    }
   ],
   "source": [
    "collection_list = mongo_client.get_collection_list(bucket_name)\n",
    "collection_list"
   ]
  },
  {
   "cell_type": "code",
   "execution_count": 5,
   "id": "bcec8e5c",
   "metadata": {
    "scrolled": true
   },
   "outputs": [],
   "source": [
    "# for regression data\n",
    "# clean_level0 = noclean / clean_level4 = clean\n",
    "if mode_selection == 'regression':\n",
    "    # dataX\n",
    "    data_name_X = 'regression_energy_trainX_cleanLevel0'\n",
    "    dataX = db_client.get_data(bucket_name, data_name_X)\n",
    "\n",
    "    # datay\n",
    "    data_name_y = 'regression_energy_trainy_cleanLevel0'\n",
    "    datay = db_client.get_data(bucket_name, data_name_y)\n",
    "\n",
    "    dataset_name = collection_list[1]\n",
    "    data_meta = mongo_client.get_document_by_json('integration', dataset_name, {'data_name':data_name_X})[0]\n",
    "    clean_level = data_meta[\"clean_level\"]\n",
    "    integration_freq_sec = data_meta[\"integration_param\"][\"integration_frequency\"]\n",
    "\n",
    "# for forecast data test\n",
    "elif mode_selection == 'forecast':\n",
    "\n",
    "    data_name_X = 'forecasting_Hs2SwineFarmWithWeatherTime_train_cleanLevel0'\n",
    "    dataX = db_client.get_data(bucket_name, data_name_X)\n",
    "    \n",
    "    dataset_name = collection_list[0]\n",
    "    data_meta = mongo_client.get_document_by_json('integration', dataset_name, {'data_name':data_name_X})[0]\n",
    "    clean_level = data_meta[\"clean_level\"]\n",
    "    integration_freq_sec = data_meta[\"integration_param\"][\"integration_frequency\"]"
   ]
  },
  {
   "cell_type": "code",
   "execution_count": 6,
   "id": "c2383ae0",
   "metadata": {},
   "outputs": [
    {
     "name": "stdout",
     "output_type": "stream",
     "text": [
      "<class 'pandas.core.frame.DataFrame'> (13680, 24)\n",
      "                           Press_mm_hg       RH_1       RH_2       RH_3  \\\n",
      "time                                                                      \n",
      "2016-01-11 00:00:00+00:00   758.000000  31.666667  31.566667  34.230000   \n",
      "2016-01-11 00:10:00+00:00   758.083333  31.926667  31.700000  34.290000   \n",
      "2016-01-11 00:20:00+00:00   758.166667  32.060000  31.956667  34.400000   \n",
      "2016-01-11 00:30:00+00:00   758.250000  32.260000  32.223333  34.400000   \n",
      "2016-01-11 00:40:00+00:00   758.333333  32.333333  32.450000  34.400000   \n",
      "...                                ...        ...        ...        ...   \n",
      "2016-04-14 23:10:00+00:00   757.833333  32.593333  32.290000  35.000000   \n",
      "2016-04-14 23:20:00+00:00   757.866667  32.066667  31.926667  34.400000   \n",
      "2016-04-14 23:30:00+00:00   757.900000  31.760000  31.600000  34.126667   \n",
      "2016-04-14 23:40:00+00:00   757.933333  31.426667  31.463333  34.090000   \n",
      "2016-04-14 23:50:00+00:00   757.966667  31.533333  31.390000  34.163333   \n",
      "\n",
      "                                RH_4       RH_5       RH_6       RH_7  \\\n",
      "time                                                                    \n",
      "2016-01-11 00:00:00+00:00  31.000000  45.163333  25.456667  29.000000   \n",
      "2016-01-11 00:10:00+00:00  31.066667  45.030000  25.963333  28.926667   \n",
      "2016-01-11 00:20:00+00:00  31.230000  45.060000  25.696667  28.963333   \n",
      "2016-01-11 00:30:00+00:00  31.356667  45.000000  25.500000  28.963333   \n",
      "2016-01-11 00:40:00+00:00  31.500000  44.900000  25.693333  28.926667   \n",
      "...                              ...        ...        ...        ...   \n",
      "2016-04-14 23:10:00+00:00  30.796667  46.145000  23.563333  29.260000   \n",
      "2016-04-14 23:20:00+00:00  30.930000  45.863333  23.430000  29.200000   \n",
      "2016-04-14 23:30:00+00:00  30.723333  45.730000  23.866667  29.133333   \n",
      "2016-04-14 23:40:00+00:00  30.890000  45.500000  23.793333  29.100000   \n",
      "2016-04-14 23:50:00+00:00  30.890000  45.300000  24.663333  29.033333   \n",
      "\n",
      "                                RH_8       RH_9  ...         T4         T5  \\\n",
      "time                                             ...                         \n",
      "2016-01-11 00:00:00+00:00  34.590000  39.863333  ...  19.730000  17.390000   \n",
      "2016-01-11 00:10:00+00:00  34.590000  39.900000  ...  19.730000  17.390000   \n",
      "2016-01-11 00:20:00+00:00  34.663333  39.900000  ...  19.700000  17.463333   \n",
      "2016-01-11 00:30:00+00:00  34.790000  39.863333  ...  19.700000  17.390000   \n",
      "2016-01-11 00:40:00+00:00  34.730000  39.863333  ...  19.666667  17.390000   \n",
      "...                              ...        ...  ...        ...        ...   \n",
      "2016-04-14 23:10:00+00:00  35.060000  39.700000  ...  19.960000  17.390000   \n",
      "2016-04-14 23:20:00+00:00  34.933333  39.760000  ...  19.856667  17.390000   \n",
      "2016-04-14 23:30:00+00:00  34.863333  39.790000  ...  19.790000  17.463333   \n",
      "2016-04-14 23:40:00+00:00  34.790000  39.790000  ...  19.790000  17.426667   \n",
      "2016-04-14 23:50:00+00:00  34.590000  39.790000  ...  19.790000  17.426667   \n",
      "\n",
      "                                 T6         T7         T8         T9  T_out  \\\n",
      "time                                                                          \n",
      "2016-01-11 00:00:00+00:00  6.090000  22.000000  22.533333  18.500000   5.50   \n",
      "2016-01-11 00:10:00+00:00  5.966667  21.926667  22.463333  18.500000   5.40   \n",
      "2016-01-11 00:20:00+00:00  5.833333  21.856667  22.390000  18.500000   5.30   \n",
      "2016-01-11 00:30:00+00:00  5.763333  21.790000  22.290000  18.463333   5.20   \n",
      "2016-01-11 00:40:00+00:00  5.690000  21.700000  22.230000  18.463333   5.10   \n",
      "...                             ...        ...        ...        ...    ...   \n",
      "2016-04-14 23:10:00+00:00  6.190000  22.390000  22.890000  18.500000   5.75   \n",
      "2016-04-14 23:20:00+00:00  6.123333  22.356667  22.823333  18.500000   5.70   \n",
      "2016-04-14 23:30:00+00:00  6.090000  22.230000  22.760000  18.500000   5.65   \n",
      "2016-04-14 23:40:00+00:00  6.090000  22.166667  22.700000  18.500000   5.60   \n",
      "2016-04-14 23:50:00+00:00  6.090000  22.100000  22.600000  18.500000   5.55   \n",
      "\n",
      "                           Tdewpoint  Visibility  Windspeed  \n",
      "time                                                         \n",
      "2016-01-11 00:00:00+00:00  -4.200000        40.0   7.000000  \n",
      "2016-01-11 00:10:00+00:00  -4.166667        40.0   6.833333  \n",
      "2016-01-11 00:20:00+00:00  -4.133333        40.0   6.666667  \n",
      "2016-01-11 00:30:00+00:00  -4.100000        40.0   6.500000  \n",
      "2016-01-11 00:40:00+00:00  -4.066667        40.0   6.333333  \n",
      "...                              ...         ...        ...  \n",
      "2016-04-14 23:10:00+00:00  -4.700000        40.0   7.833333  \n",
      "2016-04-14 23:20:00+00:00  -4.600000        40.0   7.666667  \n",
      "2016-04-14 23:30:00+00:00  -4.500000        40.0   7.500000  \n",
      "2016-04-14 23:40:00+00:00  -4.400000        40.0   7.333333  \n",
      "2016-04-14 23:50:00+00:00  -4.300000        40.0   7.166667  \n",
      "\n",
      "[13680 rows x 24 columns]\n"
     ]
    }
   ],
   "source": [
    "print(type(dataX), dataX.shape)\n",
    "print(dataX)"
   ]
  },
  {
   "cell_type": "code",
   "execution_count": 7,
   "id": "5f1cc871",
   "metadata": {},
   "outputs": [],
   "source": [
    "# print(type(datay), datay.shape)\n",
    "# print(datay)"
   ]
  },
  {
   "cell_type": "markdown",
   "id": "d6e052db",
   "metadata": {},
   "source": [
    "## 2-2. Training Data Preparation"
   ]
  },
  {
   "cell_type": "code",
   "execution_count": 8,
   "id": "2a02da5c",
   "metadata": {},
   "outputs": [
    {
     "data": {
      "text/plain": [
       "['Press_mm_hg',\n",
       " 'RH_1',\n",
       " 'RH_2',\n",
       " 'RH_3',\n",
       " 'RH_4',\n",
       " 'RH_5',\n",
       " 'RH_6',\n",
       " 'RH_7',\n",
       " 'RH_8',\n",
       " 'RH_9',\n",
       " 'RH_out',\n",
       " 'T1',\n",
       " 'T2',\n",
       " 'T3',\n",
       " 'T4',\n",
       " 'T5',\n",
       " 'T6',\n",
       " 'T7',\n",
       " 'T8',\n",
       " 'T9',\n",
       " 'T_out',\n",
       " 'Tdewpoint',\n",
       " 'Visibility',\n",
       " 'Windspeed']"
      ]
     },
     "execution_count": 8,
     "metadata": {},
     "output_type": "execute_result"
    }
   ],
   "source": [
    "featureListX= list(dataX.columns)\n",
    "featureListX"
   ]
  },
  {
   "cell_type": "code",
   "execution_count": 9,
   "id": "11b755d3",
   "metadata": {
    "scrolled": false
   },
   "outputs": [
    {
     "name": "stdout",
     "output_type": "stream",
     "text": [
      "['Press_mm_hg', 'RH_1', 'RH_2', 'RH_3', 'RH_4', 'RH_5', 'RH_6', 'RH_7', 'RH_8', 'RH_9', 'RH_out', 'T1', 'T2', 'T3', 'T4', 'T5', 'T6', 'T7', 'T8', 'T9', 'T_out', 'Tdewpoint', 'Visibility', 'Windspeed']\n",
      "Make New scaler File\n",
      "['value']\n",
      "Make New scaler File\n"
     ]
    }
   ],
   "source": [
    "# for regression\n",
    "if mode_selection == 'regression':\n",
    "    # 2 Training Data Preparation\n",
    "    # 2-1\n",
    "    featureListX= list(dataX.columns)\n",
    "    featureListy= list(datay.columns)\n",
    "\n",
    "    # 2-2\n",
    "#     cleanTrainDataParam = 'NoClean'#  Classification, Regression과 같이 X, y가 분리된 경우에는 현재 고정해서 사용해야함\n",
    "    # cleanTrainDataParam = clean_level --> clean_level로 변경\n",
    "    \n",
    "    # 2-2-1 cleanTrainDataParam == Clean 일 경우\n",
    "    NaNProcessingParam ={\n",
    "        \"feature_cycle\":'Day',\n",
    "        \"feature_cycle_times\":1,\n",
    "        \"NanInfoForCleanData\":{'type':'num', 'ConsecutiveNanLimit':3, 'totalNaNLimit':30000}\n",
    "    }\n",
    "    # 2-3\n",
    "    scalerParam='scale'\n",
    "    scaleMethod='minmax'\n",
    "\n",
    "    # 2-4\n",
    "    splitRatio = 0.8\n",
    "\n",
    "    # 2-5\n",
    "    scalerRootPath_X = os.path.join(scalerPath, data_name_X, str(clean_level))\n",
    "    scalerRootPath_y = os.path.join(scalerPath, data_name_y, str(clean_level))\n",
    "    train_x, val_x, X_scalerFilePath = ml_data.get_train_val_data(dataX, featureListX, scalerRootPath_X, splitRatio, scalerParam, scaleMethod)\n",
    "    train_y, val_y, y_scalerFilePath = ml_data.get_train_val_data(datay, featureListy, scalerRootPath_y, splitRatio, scalerParam, scaleMethod)\n",
    "\n",
    "# for forecast\n",
    "elif mode_selection == 'forecast':\n",
    "    # 2-1\n",
    "    featureListX = ['Temperature', 'out_temp','sin_hour']\n",
    "    featureListy = 'Temperature'\n",
    "\n",
    "    # 2-2\n",
    "#     cleanTrainDataParam = cleanMode --> clean_level 로 변경\n",
    "\n",
    "    # 2-2-1 cleanMode == Clean 일 때만 활성화\n",
    "    NaNProcessingParam ={\n",
    "        \"feature_cycle\":'Day',\n",
    "        \"feature_cycle_times\":1,\n",
    "        \"NanInfoForCleanData\":{'type':'num', 'ConsecutiveNanLimit':3, 'totalNaNLimit':30000}\n",
    "    }\n",
    "\n",
    "    # 2-3\n",
    "    scalerParam='scale'\n",
    "    scaleMethod ='robust'\n",
    "\n",
    "    # 2-4\n",
    "    splitRatio = 0.8\n",
    "\n",
    "    # 2-5\n",
    "    scalerRootPath_X = os.path.join(scalerPath, data_name_X, str(clean_level))\n",
    "    train_x, val_x, X_scalerFilePath = ml_data.get_train_val_data(dataX, featureListX, scalerRootPath_X, splitRatio, scalerParam, scaleMethod)\n",
    "    train_x, val_x = ml_clean.delete_low_quality_train_val_data(train_x, val_x, clean_level, NaNProcessingParam)"
   ]
  },
  {
   "cell_type": "code",
   "execution_count": 12,
   "id": "f6142689",
   "metadata": {},
   "outputs": [],
   "source": [
    "def transDFtoNP_yk(dfX, dfy, windowNum = 0, dim = None):\n",
    "    \"\"\"\n",
    "    Make NumpyArray by input DataFrame.\n",
    "    if windowNum = 0 ----> slice X by day\n",
    "    if windowNum = N ----> slice X by windowNum\n",
    "    \n",
    "    Example:\n",
    "        >>> Retunrn \n",
    "        ... X.shape (sampleNum, featureNum, sequenceNum )\n",
    "        ... y.shape (sampleNum, )\n",
    "\n",
    "    Args:\n",
    "        dfX (DataFrame): dfX\n",
    "        dfy (DataFrame): dfy\n",
    "        windowNum (Interger): windowNum\n",
    "\n",
    "    Returns:\n",
    "        numpy array:  X, y\n",
    "    \n",
    "    \"\"\"\n",
    "    import datetime as dt\n",
    "    import numpy as np\n",
    "\n",
    "    if dim == 2:\n",
    "        X = dfX.to_numpy()\n",
    "        y = np.array(dfy.squeeze().tolist())\n",
    "    else:\n",
    "        X =[]\n",
    "        y= []\n",
    "\n",
    "        if windowNum ==0:\n",
    "            dateList = dfX.index.map(lambda t: t.date()).unique()\n",
    "            for startDate in dateList:\n",
    "                endDate  = dt.datetime.combine(startDate, dt.time(23, 59, 59, 59))\n",
    "                dfX_partial = dfX[startDate:endDate]\n",
    "                dfy_partial = dfy[startDate:endDate]\n",
    "                X_partial = dfX_partial.values\n",
    "                y_partial = dfy_partial.values[0][0]\n",
    "                X.append (X_partial)\n",
    "                y.append (y_partial)\n",
    "        else:\n",
    "            import math\n",
    "            roundNum = math.ceil(len(dfX)/windowNum)\n",
    "            for i in range(roundNum): #This ensures all rows are captured\n",
    "                dfX_partial = dfX[i*windowNum:(i+1)*windowNum]\n",
    "                dfy_partial = dfy[i:(i+1)]\n",
    "                X_partial = dfX_partial.values\n",
    "                y_partial = dfy_partial.values[0][0]\n",
    "                X.append (X_partial)\n",
    "                y.append (y_partial)\n",
    "\n",
    "        X = np.array(X)\n",
    "        y = np.array(y)\n",
    "    \n",
    "    return X, y"
   ]
  },
  {
   "cell_type": "markdown",
   "id": "92d0495b",
   "metadata": {},
   "source": [
    "## 2-3. Training Data Transformation"
   ]
  },
  {
   "cell_type": "code",
   "execution_count": 13,
   "id": "77429916",
   "metadata": {},
   "outputs": [],
   "source": [
    "# for regression\n",
    "if mode_selection == 'regression':\n",
    "    transformParameter = {\n",
    "        'window_num':144\n",
    "    }\n",
    "\n",
    "    # from Clust.clust.transformation.type.DFToNPArray import transDFtoNP, trans_df_to_np, trans_df_to_np_inf\n",
    "\n",
    "    trainX, trainy = transDFtoNP_yk(train_x, train_y, transformParameter['window_num'])\n",
    "    valX, valy = transDFtoNP_yk(val_x, val_y, transformParameter['window_num'])\n",
    "\n",
    "# for forecast\n",
    "elif mode_selection == 'forecast':\n",
    "    transformParameter = {\n",
    "    'future_step': 2,\n",
    "    'past_step': 24,\n",
    "    'feature_col': featureListX,\n",
    "    'target_col': featureListy,\n",
    "    'clean_level': clean_level\n",
    "    }\n",
    "    \n",
    "    from Clust.clust.transformation.purpose.machineLearning import LSTMData\n",
    "    LSTMD = LSTMData()\n",
    "    trainX, trainy = LSTMD.transform_Xy_arr(train_x, transformParameter, transformParameter['clean_level'])\n",
    "    valX, valy = LSTMD.transform_Xy_arr(val_x, transformParameter, transformParameter['clean_level'])"
   ]
  },
  {
   "cell_type": "markdown",
   "id": "ff6b9d01",
   "metadata": {},
   "source": [
    "## 2-4 Set Model Parameters & Train Parameters"
   ]
  },
  {
   "cell_type": "code",
   "execution_count": 15,
   "id": "3adac6a4",
   "metadata": {},
   "outputs": [
    {
     "name": "stdout",
     "output_type": "stream",
     "text": [
      "24 144\n"
     ]
    }
   ],
   "source": [
    "seq_len, input_size = trainX.shape[1], trainX.shape[2]\n",
    "print(input_size, seq_len)\n",
    "# RNN models (RNN, LSTM, GRU) parameters\n",
    "if model_method == 'LSTM_rg' or model_method == 'GRU_rg':\n",
    "    modelParameter = {\n",
    "        'rnn_type': 'lstm',\n",
    "        'input_size': input_size, \n",
    "        'hidden_size': 64,\n",
    "        'num_layers': 2,\n",
    "        'output_dim': 1, \n",
    "        'dropout': 0.1, \n",
    "        'bidirectional': True\n",
    "    }\n",
    "# CNN_1D model parameters\n",
    "elif model_method == 'CNN_1D_rg':\n",
    "    modelParameter = {\n",
    "    'input_size': input_size,\n",
    "    'seq_len': seq_len,\n",
    "    'output_channels': 64,\n",
    "    'kernel_size': 3,\n",
    "    'stride': 1,\n",
    "    'padding': 0, \n",
    "    'dropout': 0.1\n",
    "    }\n",
    "# LSTM_FCNs model parameters\n",
    "elif model_method == 'LSTM_FCNs_rg':\n",
    "    modelParameter = {\n",
    "    'input_size': input_size,\n",
    "    'num_layers': 2,\n",
    "    'lstm_dropout': 0.4,\n",
    "    'fc_dropout': 0.1\n",
    "    }\n",
    "# FC model parameters\n",
    "elif model_method == 'FC_rg':\n",
    "    modelParameter = {\n",
    "    'input_size': input_size,\n",
    "    'dropout': 0.1,\n",
    "    'bias': True\n",
    "    }\n",
    "\n",
    "trainParameter = {\n",
    "    'lr': 1e-4,\n",
    "    'weight_decay': 1e-6, \n",
    "    'device': 'cpu', \n",
    "    'n_epochs': 10, \n",
    "    'batch_size': 16\n",
    "}\n"
   ]
  },
  {
   "cell_type": "code",
   "execution_count": 16,
   "id": "19dee514",
   "metadata": {},
   "outputs": [
    {
     "name": "stdout",
     "output_type": "stream",
     "text": [
      "regression_energy_LSTM_rg_cleanLevel0\n",
      "./Models/LSTM_rg/regression_energy_LSTM_rg_cleanLevel0/regression_energy_trainX_cleanLevel0/d531eec11664669cff1f6a3ad9639012/model.pkl\n"
     ]
    }
   ],
   "source": [
    "modelTags =[\"model_tag_example\"]\n",
    "trainDataType = \"timeseries\"\n",
    "modelPurpose = \"regression\"\n",
    "\n",
    "# # 2\n",
    "trainDataInfo = data_meta\n",
    "\n",
    "# 3. 모델을 저장할 파일 패스를 생성한다.\n",
    "model_name = None\n",
    "if model_name is None:\n",
    "    model_name = dataset_name + '_' + model_method + '_cleanLevel' + str(clean_level)\n",
    "else:\n",
    "    pass\n",
    "\n",
    "print(model_name)\n",
    "\n",
    "from Clust.clust.transformation.general.dataScaler import encode_hash_style\n",
    "trainParameter_encode =  encode_hash_style(str(trainParameter))\n",
    "trainDataPathList = [model_name, data_name_X, trainParameter_encode]\n",
    "modelFilePath = ml_model.get_model_file_path(trainDataPathList, model_method)"
   ]
  },
  {
   "cell_type": "markdown",
   "id": "6a44195f",
   "metadata": {},
   "source": [
    "## 2-5 Training "
   ]
  },
  {
   "cell_type": "code",
   "execution_count": 17,
   "id": "f51aab4a",
   "metadata": {},
   "outputs": [
    {
     "name": "stdout",
     "output_type": "stream",
     "text": [
      "Start training model\n",
      "[1/10] Training loss: 0.2020\t Validation loss: 0.1540\n",
      "[2/10] Training loss: 0.2025\t Validation loss: 0.1418\n",
      "[3/10] Training loss: 0.1849\t Validation loss: 0.1300\n",
      "[4/10] Training loss: 0.1679\t Validation loss: 0.1185\n",
      "[5/10] Training loss: 0.1576\t Validation loss: 0.1072\n",
      "[6/10] Training loss: 0.1468\t Validation loss: 0.0963\n",
      "[7/10] Training loss: 0.1246\t Validation loss: 0.0856\n",
      "[8/10] Training loss: 0.1282\t Validation loss: 0.0751\n",
      "[9/10] Training loss: 0.1089\t Validation loss: 0.0653\n",
      "[10/10] Training loss: 0.0974\t Validation loss: 0.0558\n",
      "\n",
      "Training complete in 0m 4s\n"
     ]
    }
   ],
   "source": [
    "from Clust.clust.ML.regression_YK.train import RegressionTrain as RML\n",
    "\n",
    "rml = RML()\n",
    "rml.set_param(trainParameter)\n",
    "rml.set_model(model_method, modelParameter)\n",
    "rml.set_data(trainX, trainy, valX, valy)\n",
    "rml.train()\n",
    "rml.save_best_model(modelFilePath)"
   ]
  },
  {
   "cell_type": "markdown",
   "id": "2d36ad30",
   "metadata": {},
   "source": [
    "## 2-6 Save MetaData "
   ]
  },
  {
   "cell_type": "code",
   "execution_count": 18,
   "id": "d204cca2",
   "metadata": {},
   "outputs": [
    {
     "name": "stdout",
     "output_type": "stream",
     "text": [
      "========== Data Save Success ==========\n",
      "{'trainDataInfo': {'data_name': 'regression_energy_trainX_cleanLevel0', 'ingestion_param': {'start_time': '2016-01-11', 'end_time': '2016-04-15', 'ms_list_info': [['life_indoor_environment', 'humidityTrain_10min'], ['life_indoor_environment', 'temperatureTrain_10min'], ['weather_outdoor_environment', 'belgiumChieverseAirportTrain_10min']]}, 'integration_param': {'param': {}, 'method': 'meta', 'integration_duration': 'common', 'integration_frequency': 600}, 'clean_level': 0, 'process_param': {'refine_param': {'removeDuplication': {'flag': False}, 'staticFrequency': {'flag': False, 'frequency': None}}, 'outlier_param': {'certainErrorToNaN': {'flag': False}, 'unCertainErrorToNaN': {'flag': False}}, 'imputation_param': {'flag': False}}}, 'modelName': 'regression_energy_LSTM_rg_cleanLevel0', 'featureList': ['Press_mm_hg', 'RH_1', 'RH_2', 'RH_3', 'RH_4', 'RH_5', 'RH_6', 'RH_7', 'RH_8', 'RH_9', 'RH_out', 'T1', 'T2', 'T3', 'T4', 'T5', 'T6', 'T7', 'T8', 'T9', 'T_out', 'Tdewpoint', 'Visibility', 'Windspeed'], 'target': ['value'], 'trainDataType': 'timeseries', 'modelPurpose': 'regression', 'model_method': 'LSTM_rg', 'modelTags': ['model_tag_example'], 'cleanLevel': 0, 'NaNProcessingParam': {'feature_cycle': 'Day', 'feature_cycle_times': 1, 'NanInfoForCleanData': {'type': 'num', 'ConsecutiveNanLimit': 3, 'totalNaNLimit': 30000}}, 'trainDataName': ['regression_energy_trainX_cleanLevel0', 'regression_energy_trainy_cleanLevel0'], 'trainParameter': {'lr': 0.0001, 'weight_decay': 1e-06, 'device': 'cpu', 'n_epochs': 10, 'batch_size': 16}, 'modelParameter': {'rnn_type': 'lstm', 'input_size': 24, 'hidden_size': 64, 'num_layers': 2, 'output_dim': 1, 'dropout': 0.1, 'bidirectional': True}, 'transformParameter': {}, 'scalerParam': 'scale', 'files': {'modelFile': {'fileName': 'model.pth', 'filePath': './Models/LSTM_rg/regression_energy_LSTM_rg_cleanLevel0/regression_energy_trainX_cleanLevel0/d531eec11664669cff1f6a3ad9639012/model.pkl'}, 'XScalerFile': {'fileName': 'scaler.pkl', 'filePath': './scaler/regression_energy_trainX_cleanLevel0/0/minmax/900878d7bba6f2a4017d1c3399909ea7/scaler.pkl'}, 'yScalerFile': {'fileName': 'scaler.pkl', 'filePath': './scaler/regression_energy_trainy_cleanLevel0/0/minmax/f69156750a210491ffd4a67b605bc88b/scaler.pkl'}}, '_id': ObjectId('643f4e7c4ce0dc6ca1876d1d')}\n"
     ]
    }
   ],
   "source": [
    "# from Clust.clust.transformation.general.dataScaler import encode_hash_style\n",
    "# trainParameter_encode =  encode_hash_style(str(trainParameter))\n",
    "if mode_selection == 'regression':\n",
    "    modelInfoMeta ={\n",
    "        \"trainDataInfo\":trainDataInfo,\n",
    "        \"modelName\":model_name,\n",
    "        \"featureList\":featureListX,\n",
    "        \"target\": featureListy,\n",
    "        \"trainDataType\":trainDataType,\n",
    "        \"modelPurpose\":modelPurpose,\n",
    "        \"model_method\":model_method,\n",
    "        \"modelTags\":modelTags,\n",
    "        \"cleanLevel\":clean_level,\n",
    "        \"NaNProcessingParam\":NaNProcessingParam,\n",
    "        \"trainDataName\":[data_name_X, data_name_y],\n",
    "        \"trainParameter\": trainParameter,\n",
    "        \"modelParameter\": modelParameter,\n",
    "        \"transformParameter\":transformParameter,\n",
    "        \"NaNProcessingParam\":NaNProcessingParam,\n",
    "        \"scalerParam\":scalerParam,\n",
    "        \"files\":{\n",
    "            \"modelFile\":{\n",
    "                \"fileName\":\"model.pth\",\n",
    "                \"filePath\":modelFilePath\n",
    "            },\n",
    "            \"XScalerFile\":{\n",
    "                \"fileName\":\"scaler.pkl\",\n",
    "                \"filePath\":X_scalerFilePath       \n",
    "            },\n",
    "            \"yScalerFile\":{\n",
    "                \"fileName\":\"scaler.pkl\",\n",
    "                \"filePath\":y_scalerFilePath       \n",
    "            }\n",
    "        }\n",
    "    }\n",
    "\n",
    "elif mode_selection == 'forecast':\n",
    "    modelInfoMeta ={\n",
    "        \"trainDataInfo\":trainDataInfo,\n",
    "        \"modelName\":model_name,\n",
    "        \"featureList\":featureListX,\n",
    "        \"target\": featureListy,\n",
    "        \"trainDataType\":trainDataType,\n",
    "        \"modelPurpose\":modelPurpose,\n",
    "        \"model_method\":model_method,\n",
    "        \"modelTags\":modelTags,\n",
    "        \"cleanLevel\":clean_level,\n",
    "        \"NaNProcessingParam\":NaNProcessingParam,\n",
    "        \"trainDataName\":[data_name_X],\n",
    "        \"trainParameter\": trainParameter,\n",
    "        \"modelParameter\": modelParameter,\n",
    "        \"transformParameter\":transformParameter,\n",
    "        \"NaNProcessingParam\":NaNProcessingParam,\n",
    "        \"scalerParam\":scalerParam,\n",
    "        \"files\":{\n",
    "            \"modelFile\":{\n",
    "                \"fileName\":\"model.pth\",\n",
    "                \"filePath\":modelFilePath\n",
    "            },\n",
    "            \"XScalerFile\":{\n",
    "                \"fileName\":\"scaler.pkl\",\n",
    "                \"filePath\":X_scalerFilePath       \n",
    "            }\n",
    "        }\n",
    "    }\n",
    "\n",
    "modelInfoMeta = ml_meta.save_model_meta_data(mongo_client, modelInfoMeta)\n"
   ]
  },
  {
   "cell_type": "code",
   "execution_count": null,
   "id": "8331c9a0",
   "metadata": {},
   "outputs": [],
   "source": []
  }
 ],
 "metadata": {
  "kernelspec": {
   "display_name": "Python 3",
   "language": "python",
   "name": "python3"
  },
  "language_info": {
   "codemirror_mode": {
    "name": "ipython",
    "version": 3
   },
   "file_extension": ".py",
   "mimetype": "text/x-python",
   "name": "python",
   "nbconvert_exporter": "python",
   "pygments_lexer": "ipython3",
   "version": "3.8.8"
  },
  "vscode": {
   "interpreter": {
    "hash": "e92cea83a25a22cd774ff9f8132db57ccb94d86fd97b7fe80ee00c35daecdd05"
   }
  }
 },
 "nbformat": 4,
 "nbformat_minor": 5
}
