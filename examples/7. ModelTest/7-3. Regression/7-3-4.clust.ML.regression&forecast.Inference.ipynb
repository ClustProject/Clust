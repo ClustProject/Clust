{
 "cells": [
  {
   "cell_type": "markdown",
   "id": "fd79d0c3",
   "metadata": {},
   "source": [
    "# 4. Inference"
   ]
  },
  {
   "cell_type": "code",
   "execution_count": 1,
   "id": "1611f6b2",
   "metadata": {},
   "outputs": [
    {
     "name": "stderr",
     "output_type": "stream",
     "text": [
      "/programdrive/anaconda3/envs/clust/lib/python3.8/site-packages/tqdm/auto.py:22: TqdmWarning: IProgress not found. Please update jupyter and ipywidgets. See https://ipywidgets.readthedocs.io/en/stable/user_install.html\n",
      "  from .autonotebook import tqdm as notebook_tqdm\n"
     ]
    },
    {
     "name": "stdout",
     "output_type": "stream",
     "text": [
      "cuda is available.\n"
     ]
    }
   ],
   "source": [
    "import sys, os\n",
    "import torch\n",
    "import pandas as pd\n",
    "sys.path.append(\"../../\")\n",
    "sys.path.append(\"../../../\")\n",
    "sys.path.append(\"../../../../\")\n",
    "\n",
    "from Clust.clust.ML.tool import data as ml_data\n",
    "from Clust.clust.ML.tool import scaler as ml_scaler\n",
    "from Clust.clust.ML.tool import clean as ml_clean\n",
    "\n",
    "from Clust.setting import influx_setting_KETI as ins\n",
    "from Clust.clust.ingestion.influx import influx_client_v2 as influx_Client\n",
    "from Clust.clust.ingestion.mongo.mongo_client import MongoClient\n",
    "\n",
    "db_client = influx_Client.InfluxClient(ins.CLUSTDataServer2)\n",
    "mongo_client = MongoClient(ins.CLUSTMetaInfo2)\n",
    "\n",
    "device = \"cuda\" if torch.cuda.is_available() else \"cpu\"\n",
    "print(f\"{device}\" \" is available.\")"
   ]
  },
  {
   "cell_type": "code",
   "execution_count": 2,
   "id": "1788c0cb",
   "metadata": {},
   "outputs": [],
   "source": [
    "# Set regression mode i.e., 'regression','forecast'\n",
    "mode_selection = \"regression\"\n",
    "\n",
    "# get integrated data name\n",
    "bucket_name = 'integration'\n",
    "\n",
    "# scaler path\n",
    "scalerPath = './scaler/'"
   ]
  },
  {
   "cell_type": "markdown",
   "id": "b8d30ae7",
   "metadata": {},
   "source": [
    "### 4-1. Get model meta by mongodb"
   ]
  },
  {
   "cell_type": "code",
   "execution_count": 3,
   "id": "a47d9e9d",
   "metadata": {},
   "outputs": [
    {
     "data": {
      "text/plain": [
       "{'trainDataInfo': {'data_name': 'regression_energy_trainX_cleanLevel0',\n",
       "  'ingestion_param': {'start_time': '2016-01-11',\n",
       "   'end_time': '2016-04-15',\n",
       "   'ms_list_info': [['life_indoor_environment', 'humidityTrain_10min'],\n",
       "    ['life_indoor_environment', 'temperatureTrain_10min'],\n",
       "    ['weather_outdoor_environment', 'belgiumChieverseAirportTrain_10min']]},\n",
       "  'integration_param': {'param': {},\n",
       "   'method': 'meta',\n",
       "   'integration_duration': 'common',\n",
       "   'integration_frequency': 600},\n",
       "  'clean_level': 0,\n",
       "  'process_param': {'refine_param': {'removeDuplication': {'flag': False},\n",
       "    'staticFrequency': {'flag': False, 'frequency': None}},\n",
       "   'outlier_param': {'certainErrorToNaN': {'flag': False},\n",
       "    'unCertainErrorToNaN': {'flag': False}},\n",
       "   'imputation_param': {'flag': False}}},\n",
       " 'modelName': 'regression_energy_LSTM_rg_cleanLevel0',\n",
       " 'featureList': ['Press_mm_hg',\n",
       "  'RH_1',\n",
       "  'RH_2',\n",
       "  'RH_3',\n",
       "  'RH_4',\n",
       "  'RH_5',\n",
       "  'RH_6',\n",
       "  'RH_7',\n",
       "  'RH_8',\n",
       "  'RH_9',\n",
       "  'RH_out',\n",
       "  'T1',\n",
       "  'T2',\n",
       "  'T3',\n",
       "  'T4',\n",
       "  'T5',\n",
       "  'T6',\n",
       "  'T7',\n",
       "  'T8',\n",
       "  'T9',\n",
       "  'T_out',\n",
       "  'Tdewpoint',\n",
       "  'Visibility',\n",
       "  'Windspeed'],\n",
       " 'target': ['value'],\n",
       " 'trainDataType': 'timeseries',\n",
       " 'modelPurpose': 'regression',\n",
       " 'model_method': 'LSTM_rg',\n",
       " 'modelTags': ['model_tag_example'],\n",
       " 'cleanLevel': 0,\n",
       " 'NaNProcessingParam': {'feature_cycle': 'Day',\n",
       "  'feature_cycle_times': 1,\n",
       "  'NanInfoForCleanData': {'type': 'num',\n",
       "   'ConsecutiveNanLimit': 3,\n",
       "   'totalNaNLimit': 30000}},\n",
       " 'trainDataName': ['regression_energy_trainX_cleanLevel0',\n",
       "  'regression_energy_trainy_cleanLevel0'],\n",
       " 'trainParameter': {'lr': 0.0001,\n",
       "  'weight_decay': 1e-06,\n",
       "  'device': 'cpu',\n",
       "  'n_epochs': 10,\n",
       "  'batch_size': 16},\n",
       " 'modelParameter': {'rnn_type': 'lstm',\n",
       "  'input_size': 24,\n",
       "  'hidden_size': 64,\n",
       "  'num_layers': 2,\n",
       "  'output_dim': 1,\n",
       "  'dropout': 0.1,\n",
       "  'bidirectional': True},\n",
       " 'transformParameter': {},\n",
       " 'scalerParam': 'scale',\n",
       " 'files': {'modelFile': {'fileName': 'model.pth',\n",
       "   'filePath': './Models/LSTM_rg/regression_energy_LSTM_rg_cleanLevel0/regression_energy_trainX_cleanLevel0/d531eec11664669cff1f6a3ad9639012/model.pkl'},\n",
       "  'XScalerFile': {'fileName': 'scaler.pkl',\n",
       "   'filePath': './scaler/regression_energy_trainX_cleanLevel0/0/minmax/900878d7bba6f2a4017d1c3399909ea7/scaler.pkl'},\n",
       "  'yScalerFile': {'fileName': 'scaler.pkl',\n",
       "   'filePath': './scaler/regression_energy_trainy_cleanLevel0/0/minmax/f69156750a210491ffd4a67b605bc88b/scaler.pkl'}}}"
      ]
     },
     "execution_count": 3,
     "metadata": {},
     "output_type": "execute_result"
    }
   ],
   "source": [
    "db_name = 'model'\n",
    "collection_name = 'meta'\n",
    "\n",
    "if mode_selection == 'regression':\n",
    "    search = {'modelName': 'regression_energy_LSTM_rg_cleanLevel0'}\n",
    "elif mode_selection == 'forecast':\n",
    "    search = {'modelName': 'forecasting_Hs2SwineFarmWithWeatherTime_LSTM_rg_cleanLevel0'}\n",
    "\n",
    "\n",
    "model_meta= mongo_client.get_document_by_json(db_name, collection_name, search)[0]\n",
    "model_meta"
   ]
  },
  {
   "cell_type": "markdown",
   "id": "3b9185d9",
   "metadata": {},
   "source": [
    "### 4-2. Inference data selection"
   ]
  },
  {
   "cell_type": "code",
   "execution_count": 4,
   "id": "2579d539",
   "metadata": {
    "scrolled": true
   },
   "outputs": [
    {
     "data": {
      "text/plain": [
       "['forecasting_strawberryOpen',\n",
       " 'regression_energy',\n",
       " 'forecasting_Hs2SwineFarmWithWeatherTime',\n",
       " 'forecasting_gunwiStrawberryWeather',\n",
       " 'classification_actionPattern']"
      ]
     },
     "execution_count": 4,
     "metadata": {},
     "output_type": "execute_result"
    }
   ],
   "source": [
    "# 0. pick only one data\n",
    "collection_list = mongo_client.get_collection_list(bucket_name)\n",
    "collection_list"
   ]
  },
  {
   "cell_type": "code",
   "execution_count": 5,
   "id": "5e11196d",
   "metadata": {},
   "outputs": [],
   "source": [
    "if mode_selection == 'regression':\n",
    "\n",
    "    data_name_X = 'regression_energy_testX_cleanLevel0'\n",
    "    dataX = db_client.get_data(bucket_name, data_name_X)\n",
    "    \n",
    "    clean_level = model_meta[\"trainDataInfo\"][\"clean_level\"]\n",
    "    integration_freq_sec = model_meta[\"trainDataInfo\"][\"integration_param\"][\"integration_frequency\"]\n",
    "    \n",
    "elif mode_selection == 'forecast':\n",
    "\n",
    "    data_name_X = 'forecasting_Hs2SwineFarmWithWeatherTime_test_cleanLevel0'\n",
    "    dataX = db_client.get_data(bucket_name, data_name_X)\n",
    "    \n",
    "    clean_level = model_meta[\"trainDataInfo\"][\"clean_level\"]\n",
    "    integration_freq_sec = model_meta[\"trainDataInfo\"][\"integration_param\"][\"integration_frequency\"]"
   ]
  },
  {
   "cell_type": "code",
   "execution_count": 6,
   "id": "7ef67904",
   "metadata": {},
   "outputs": [
    {
     "name": "stdout",
     "output_type": "stream",
     "text": [
      "<bound method NDFrame.head of                            Press_mm_hg       RH_1       RH_2       RH_3  \\\n",
      "time                                                                      \n",
      "2021-01-01 00:00:00+00:00   757.000000  40.260000  43.200000  38.530000   \n",
      "2021-01-01 00:10:00+00:00   757.116667  40.260000  43.163333  38.500000   \n",
      "2021-01-01 00:20:00+00:00   757.233333  40.290000  42.963333  38.633333   \n",
      "2021-01-01 00:30:00+00:00   757.350000  40.290000  42.490000  38.790000   \n",
      "2021-01-01 00:40:00+00:00   757.466667  40.626667  42.156667  38.596667   \n",
      "...                                ...        ...        ...        ...   \n",
      "2021-02-11 23:10:00+00:00   756.200000  38.163333  34.760000  37.884286   \n",
      "2021-02-11 23:20:00+00:00   756.200000  38.172500  34.700000  37.790000   \n",
      "2021-02-11 23:30:00+00:00   756.200000  38.126667  34.590000  37.790000   \n",
      "2021-02-11 23:40:00+00:00   756.200000  37.990000  34.590000  37.790000   \n",
      "2021-02-11 23:50:00+00:00   756.200000  37.790000  34.626667  37.790000   \n",
      "\n",
      "                                RH_4       RH_5       RH_6       RH_7  \\\n",
      "time                                                                    \n",
      "2021-01-01 00:00:00+00:00  37.363333  48.126667  35.026667  32.863333   \n",
      "2021-01-01 00:10:00+00:00  37.230000  48.126667  38.763333  32.790000   \n",
      "2021-01-01 00:20:00+00:00  37.200000  48.060000  40.096667  32.663333   \n",
      "2021-01-01 00:30:00+00:00  37.200000  48.060000  41.633333  32.567500   \n",
      "2021-01-01 00:40:00+00:00  37.090000  48.060000  42.160000  32.433333   \n",
      "...                              ...        ...        ...        ...   \n",
      "2021-02-11 23:10:00+00:00  39.656667  54.200000   1.000000  34.200000   \n",
      "2021-02-11 23:20:00+00:00  39.863333  53.620000   1.000000  34.163333   \n",
      "2021-02-11 23:30:00+00:00  39.633333  53.124286   1.000000  34.090000   \n",
      "2021-02-11 23:40:00+00:00  39.433333  52.732000   1.000000  34.090000   \n",
      "2021-02-11 23:50:00+00:00  38.900000  52.440000   1.000000  34.200000   \n",
      "\n",
      "                                RH_8       RH_9  ...         T4         T5  \\\n",
      "time                                             ...                         \n",
      "2021-01-01 00:00:00+00:00  40.290000  41.966667  ...  20.100000  19.426667   \n",
      "2021-01-01 00:10:00+00:00  40.163333  41.766667  ...  20.100000  19.426667   \n",
      "2021-01-01 00:20:00+00:00  39.963333  41.700000  ...  20.100000  19.390000   \n",
      "2021-01-01 00:30:00+00:00  39.900000  41.700000  ...  20.100000  19.463333   \n",
      "2021-01-01 00:40:00+00:00  39.900000  41.560000  ...  20.100000  19.500000   \n",
      "...                              ...        ...  ...        ...        ...   \n",
      "2021-02-11 23:10:00+00:00  39.900000  36.700000  ...  24.323333  20.500000   \n",
      "2021-02-11 23:20:00+00:00  39.826667  36.700000  ...  24.390000  20.600000   \n",
      "2021-02-11 23:30:00+00:00  39.700000  36.700000  ...  24.463333  20.600000   \n",
      "2021-02-11 23:40:00+00:00  39.545000  36.760000  ...  24.390000  20.600000   \n",
      "2021-02-11 23:50:00+00:00  39.200000  36.730000  ...  24.390000  20.671429   \n",
      "\n",
      "                                  T6         T7         T8         T9  \\\n",
      "time                                                                    \n",
      "2021-01-01 00:00:00+00:00  10.630000  21.390000  22.856667  19.790000   \n",
      "2021-01-01 00:10:00+00:00  10.233333  21.323333  22.890000  19.790000   \n",
      "2021-01-01 00:20:00+00:00   9.960000  21.290000  22.963333  19.790000   \n",
      "2021-01-01 00:30:00+00:00   9.763333  21.290000  23.050000  19.790000   \n",
      "2021-01-01 00:40:00+00:00   9.630000  21.230000  23.133333  19.760000   \n",
      "...                              ...        ...        ...        ...   \n",
      "2021-02-11 23:10:00+00:00  18.706364  23.200000  24.500000  21.790000   \n",
      "2021-02-11 23:20:00+00:00  18.760000  23.200000  24.500000  21.790000   \n",
      "2021-02-11 23:30:00+00:00  18.566667  23.200000  24.600000  21.790000   \n",
      "2021-02-11 23:40:00+00:00  18.566667  23.200000  24.600000  21.856667   \n",
      "2021-02-11 23:50:00+00:00  18.763333  23.254000  24.560000  21.823333   \n",
      "\n",
      "                               T_out  Tdewpoint  Visibility  Windspeed  \n",
      "time                                                                    \n",
      "2021-01-01 00:00:00+00:00  10.400000   4.200000   40.000000   4.000000  \n",
      "2021-01-01 00:10:00+00:00  10.316667   4.000000   40.000000   3.833333  \n",
      "2021-01-01 00:20:00+00:00  10.233333   3.800000   40.000000   3.666667  \n",
      "2021-01-01 00:30:00+00:00  10.150000   3.600000   40.000000   3.500000  \n",
      "2021-01-01 00:40:00+00:00  10.066667   3.400000   40.000000   3.333333  \n",
      "...                              ...        ...         ...        ...  \n",
      "2021-02-11 23:10:00+00:00  15.916667   6.883333   37.833333   1.833333  \n",
      "2021-02-11 23:20:00+00:00  15.933333   6.666667   35.666667   1.666667  \n",
      "2021-02-11 23:30:00+00:00  15.950000   6.450000   33.500000   1.500000  \n",
      "2021-02-11 23:40:00+00:00  15.966667   6.233333   31.333333   1.333333  \n",
      "2021-02-11 23:50:00+00:00  15.983333   6.016667   29.166667   1.166667  \n",
      "\n",
      "[6048 rows x 24 columns]>\n"
     ]
    }
   ],
   "source": [
    "print(dataX.head)"
   ]
  },
  {
   "cell_type": "markdown",
   "id": "90644dc4",
   "metadata": {},
   "source": [
    "### 4-3. Inference data preparation"
   ]
  },
  {
   "cell_type": "code",
   "execution_count": 7,
   "id": "ba005fb0",
   "metadata": {},
   "outputs": [
    {
     "name": "stderr",
     "output_type": "stream",
     "text": [
      "/programdrive/anaconda3/envs/clust/lib/python3.8/site-packages/sklearn/base.py:299: UserWarning: Trying to unpickle estimator MinMaxScaler from version 1.1.1 when using version 1.2.1. This might lead to breaking code or invalid results. Use at your own risk. For more info please refer to:\n",
      "https://scikit-learn.org/stable/model_persistence.html#security-maintainability-limitations\n",
      "  warnings.warn(\n",
      "/programdrive/anaconda3/envs/clust/lib/python3.8/site-packages/sklearn/base.py:299: UserWarning: Trying to unpickle estimator MinMaxScaler from version 1.1.1 when using version 1.2.1. This might lead to breaking code or invalid results. Use at your own risk. For more info please refer to:\n",
      "https://scikit-learn.org/stable/model_persistence.html#security-maintainability-limitations\n",
      "  warnings.warn(\n"
     ]
    }
   ],
   "source": [
    "feature_list = model_meta['featureList']\n",
    "target = model_meta['target']\n",
    "scaler_param = model_meta['scalerParam']\n",
    "model_file_path = model_meta['files']['modelFile']['filePath']\n",
    "model_method = model_meta['model_method']\n",
    "\n",
    "if mode_selection == 'regression':\n",
    "    # Scaling Inference Input\n",
    "    X_scaler_file_path = model_meta['files']['XScalerFile'][\"filePath\"]\n",
    "    y_scaler_file_path = model_meta['files']['yScalerFile'][\"filePath\"]\n",
    "\n",
    "    infer_X, scaler_X = ml_scaler.get_scaled_test_data(dataX[feature_list], X_scaler_file_path, scaler_param)\n",
    "    scaler_y = ml_scaler.get_scaler_file(y_scaler_file_path)\n",
    "\n",
    "elif mode_selection == 'forecast':\n",
    "    clean_param = model_meta['cleanLevel']\n",
    "    nan_processing_param = model_meta['NaNProcessingParam']\n",
    "\n",
    "    # Scaling Inference Input\n",
    "    X_scaler_file_path = model_meta['files']['XScalerFile']['filePath']\n",
    "    infer_X, scaler_X = ml_scaler.get_scaled_test_data(dataX[feature_list], X_scaler_file_path, scaler_param)\n",
    "    clean_infer_X = ml_clean.get_cleand_data(infer_X, clean_param, integration_freq_sec, nan_processing_param)"
   ]
  },
  {
   "cell_type": "code",
   "execution_count": 8,
   "id": "8cfa7250",
   "metadata": {},
   "outputs": [
    {
     "name": "stdout",
     "output_type": "stream",
     "text": [
      "                           Press_mm_hg      RH_1      RH_2      RH_3  \\\n",
      "time                                                                   \n",
      "2021-01-01 00:00:00+00:00     0.669082  0.364279  0.664944  0.456302   \n",
      "2021-01-01 00:10:00+00:00     0.671900  0.364279  0.663872  0.454900   \n",
      "2021-01-01 00:20:00+00:00     0.674718  0.365104  0.658023  0.461131   \n",
      "2021-01-01 00:30:00+00:00     0.677536  0.365104  0.644180  0.468453   \n",
      "2021-01-01 00:40:00+00:00     0.680354  0.374369  0.634432  0.459417   \n",
      "...                                ...       ...       ...       ...   \n",
      "2021-02-11 23:10:00+00:00     0.649758  0.306577  0.418113  0.426123   \n",
      "2021-02-11 23:20:00+00:00     0.649758  0.306830  0.416358  0.421717   \n",
      "2021-02-11 23:30:00+00:00     0.649758  0.305568  0.413141  0.421717   \n",
      "2021-02-11 23:40:00+00:00     0.649758  0.301807  0.413141  0.421717   \n",
      "2021-02-11 23:50:00+00:00     0.649758  0.296303  0.414213  0.421717   \n",
      "\n",
      "                               RH_4      RH_5      RH_6      RH_7      RH_8  \\\n",
      "time                                                                          \n",
      "2021-01-01 00:00:00+00:00  0.386490  0.275336  0.344051  0.342671  0.366347   \n",
      "2021-01-01 00:10:00+00:00  0.380531  0.275336  0.381834  0.340071  0.362006   \n",
      "2021-01-01 00:20:00+00:00  0.379190  0.274333  0.395315  0.335579  0.355152   \n",
      "2021-01-01 00:30:00+00:00  0.379190  0.274333  0.410853  0.332181  0.352981   \n",
      "2021-01-01 00:40:00+00:00  0.374274  0.274333  0.416178  0.327423  0.352981   \n",
      "...                             ...       ...       ...       ...       ...   \n",
      "2021-02-11 23:10:00+00:00  0.488990  0.366655  0.000000  0.390071  0.352981   \n",
      "2021-02-11 23:20:00+00:00  0.498227  0.357934  0.000000  0.388771  0.350468   \n",
      "2021-02-11 23:30:00+00:00  0.487947  0.350480  0.000000  0.386170  0.346127   \n",
      "2021-02-11 23:40:00+00:00  0.479008  0.344582  0.000000  0.386170  0.340816   \n",
      "2021-02-11 23:50:00+00:00  0.455171  0.340191  0.000000  0.390071  0.328992   \n",
      "\n",
      "                               RH_9  ...        T4        T5        T6  \\\n",
      "time                                 ...                                 \n",
      "2021-01-01 00:00:00+00:00  0.516115  ...  0.450450  0.391464  0.485955   \n",
      "2021-01-01 00:10:00+00:00  0.507596  ...  0.450450  0.391464  0.474409   \n",
      "2021-01-01 00:20:00+00:00  0.504756  ...  0.450450  0.387960  0.466453   \n",
      "2021-01-01 00:30:00+00:00  0.504756  ...  0.450450  0.394967  0.460729   \n",
      "2021-01-01 00:40:00+00:00  0.498793  ...  0.450450  0.398471  0.456848   \n",
      "...                             ...  ...       ...       ...       ...   \n",
      "2021-02-11 23:10:00+00:00  0.291779  ...  0.830931  0.494028  0.721041   \n",
      "2021-02-11 23:20:00+00:00  0.291779  ...  0.836937  0.503583  0.722602   \n",
      "2021-02-11 23:30:00+00:00  0.291779  ...  0.843544  0.503583  0.716975   \n",
      "2021-02-11 23:40:00+00:00  0.294335  ...  0.836937  0.503583  0.716975   \n",
      "2021-02-11 23:50:00+00:00  0.293057  ...  0.836937  0.510409  0.722699   \n",
      "\n",
      "                                 T7        T8        T9     T_out  Tdewpoint  \\\n",
      "time                                                                           \n",
      "2021-01-01 00:00:00+00:00  0.565504  0.599634  0.509886  0.493548   0.488688   \n",
      "2021-01-01 00:10:00+00:00  0.559221  0.602685  0.509886  0.490860   0.479638   \n",
      "2021-01-01 00:20:00+00:00  0.556079  0.609399  0.509886  0.488172   0.470588   \n",
      "2021-01-01 00:30:00+00:00  0.556079  0.617333  0.509886  0.485484   0.461538   \n",
      "2021-01-01 00:40:00+00:00  0.550424  0.624962  0.506764  0.482796   0.452489   \n",
      "...                             ...       ...       ...       ...        ...   \n",
      "2021-02-11 23:10:00+00:00  0.736098  0.750076  0.718002  0.671505   0.610106   \n",
      "2021-02-11 23:20:00+00:00  0.736098  0.750076  0.718002  0.672043   0.600302   \n",
      "2021-02-11 23:30:00+00:00  0.736098  0.759231  0.718002  0.672581   0.590498   \n",
      "2021-02-11 23:40:00+00:00  0.736098  0.759231  0.724939  0.673118   0.580694   \n",
      "2021-02-11 23:50:00+00:00  0.741188  0.755569  0.721471  0.673656   0.570890   \n",
      "\n",
      "                           Visibility  Windspeed  \n",
      "time                                              \n",
      "2021-01-01 00:00:00+00:00    0.609375   0.307692  \n",
      "2021-01-01 00:10:00+00:00    0.609375   0.294872  \n",
      "2021-01-01 00:20:00+00:00    0.609375   0.282051  \n",
      "2021-01-01 00:30:00+00:00    0.609375   0.269231  \n",
      "2021-01-01 00:40:00+00:00    0.609375   0.256410  \n",
      "...                               ...        ...  \n",
      "2021-02-11 23:10:00+00:00    0.575521   0.141026  \n",
      "2021-02-11 23:20:00+00:00    0.541667   0.128205  \n",
      "2021-02-11 23:30:00+00:00    0.507812   0.115385  \n",
      "2021-02-11 23:40:00+00:00    0.473958   0.102564  \n",
      "2021-02-11 23:50:00+00:00    0.440104   0.089744  \n",
      "\n",
      "[6048 rows x 24 columns]\n"
     ]
    }
   ],
   "source": [
    "print(infer_X)"
   ]
  },
  {
   "cell_type": "code",
   "execution_count": 10,
   "id": "beb5966a",
   "metadata": {},
   "outputs": [
    {
     "ename": "KeyError",
     "evalue": "'window_num'",
     "output_type": "error",
     "traceback": [
      "\u001b[0;31m---------------------------------------------------------------------------\u001b[0m",
      "\u001b[0;31mKeyError\u001b[0m                                  Traceback (most recent call last)",
      "Cell \u001b[0;32mIn[10], line 4\u001b[0m\n\u001b[1;32m      2\u001b[0m \u001b[38;5;66;03m# # transform\u001b[39;00m\n\u001b[1;32m      3\u001b[0m \u001b[38;5;28;01mif\u001b[39;00m mode_selection \u001b[38;5;241m==\u001b[39m \u001b[38;5;124m'\u001b[39m\u001b[38;5;124mregression\u001b[39m\u001b[38;5;124m'\u001b[39m:\n\u001b[0;32m----> 4\u001b[0m     window_num \u001b[38;5;241m=\u001b[39m \u001b[43mtransformParameter\u001b[49m\u001b[43m[\u001b[49m\u001b[38;5;124;43m'\u001b[39;49m\u001b[38;5;124;43mwindow_num\u001b[39;49m\u001b[38;5;124;43m'\u001b[39;49m\u001b[43m]\u001b[49m\n\u001b[1;32m      5\u001b[0m     inferX \u001b[38;5;241m=\u001b[39m []\n\u001b[1;32m      6\u001b[0m     inferX\u001b[38;5;241m.\u001b[39mappend(infer_X[\u001b[38;5;241m-\u001b[39mwindow_num:]\u001b[38;5;241m.\u001b[39mvalues)\n",
      "\u001b[0;31mKeyError\u001b[0m: 'window_num'"
     ]
    }
   ],
   "source": [
    "transformParameter = model_meta['transformParameter']\n",
    "# # transform\n",
    "if mode_selection == 'regression':\n",
    "    window_num = transformParameter['window_num']\n",
    "    inferX = []\n",
    "    inferX.append(infer_X[-window_num:].values)\n",
    "    inferX = np.array(inferX)\n",
    "\n",
    "# forecast\n",
    "elif mode_selection == 'forecast':\n",
    "    past_step = transformParameter['past_step']\n",
    "    inferX = []\n",
    "    inferX.append(clean_infer_X[-past_step:].values)\n",
    "    inferX = np.array(inferX)"
   ]
  },
  {
   "cell_type": "code",
   "execution_count": null,
   "id": "eb22200e",
   "metadata": {},
   "outputs": [],
   "source": [
    "modelParameter = model_meta[\"modelParameter\"]\n",
    "\n",
    "inferParameter = {\n",
    "    'device': 'cpu',\n",
    "    'batch_size': 1\n",
    "}"
   ]
  },
  {
   "cell_type": "code",
   "execution_count": null,
   "id": "bb72fb20",
   "metadata": {
    "scrolled": false
   },
   "outputs": [],
   "source": [
    "# 4. Inference\n",
    "from Clust.clust.ML.regression_YK.inference import RegressionInference as RI\n",
    "\n",
    "ri = RI()\n",
    "ri.set_param(inferParameter)\n",
    "ri.set_model(model_method, model_file_path, modelParameter)\n",
    "ri.set_data(inferX)\n",
    "preds = ri.inference()\n",
    "print(preds)"
   ]
  },
  {
   "cell_type": "code",
   "execution_count": null,
   "id": "290a6573",
   "metadata": {},
   "outputs": [],
   "source": [
    "# for regression\n",
    "if mode_selection == 'regression':\n",
    "    if scaler_param =='scale':\n",
    "        base_df_for_inverse = pd.DataFrame(columns=target, index=range(len(preds)))\n",
    "        base_df_for_inverse[target] = preds\n",
    "        prediction_result = pd.DataFrame(scaler_y.inverse_transform(base_df_for_inverse), columns=target, index=base_df_for_inverse.index)\n",
    "    else:\n",
    "        prediction_result = pd.DataFrame(data={\"value\": preds}, index=range(len(preds)))\n",
    "\n",
    "# for forecast\n",
    "elif mode_selection == 'forecast':\n",
    "    if scaler_param =='scale':\n",
    "        base_df_for_inverse = pd.DataFrame(columns=feature_list, index=range(len(preds)))\n",
    "        base_df_for_inverse[target] = preds\n",
    "        inverse_result = pd.DataFrame(scaler_X.inverse_transform(base_df_for_inverse), columns=feature_list, index=base_df_for_inverse.index)\n",
    "        target_data = inverse_result[target]\n",
    "        prediction_result = pd.DataFrame(data={target: target_data}, index=range(len(preds)))\n",
    "    else:\n",
    "        prediction_result = pd.DataFrame(data={target: preds}, index=range(len(preds)))"
   ]
  },
  {
   "cell_type": "code",
   "execution_count": null,
   "id": "6c7e4125",
   "metadata": {},
   "outputs": [],
   "source": [
    "prediction_result"
   ]
  },
  {
   "cell_type": "code",
   "execution_count": null,
   "id": "e9cc660c",
   "metadata": {},
   "outputs": [],
   "source": []
  }
 ],
 "metadata": {
  "kernelspec": {
   "display_name": "clust",
   "language": "python",
   "name": "clust"
  },
  "language_info": {
   "codemirror_mode": {
    "name": "ipython",
    "version": 3
   },
   "file_extension": ".py",
   "mimetype": "text/x-python",
   "name": "python",
   "nbconvert_exporter": "python",
   "pygments_lexer": "ipython3",
   "version": "3.8.16"
  },
  "vscode": {
   "interpreter": {
    "hash": "e92cea83a25a22cd774ff9f8132db57ccb94d86fd97b7fe80ee00c35daecdd05"
   }
  }
 },
 "nbformat": 4,
 "nbformat_minor": 5
}
