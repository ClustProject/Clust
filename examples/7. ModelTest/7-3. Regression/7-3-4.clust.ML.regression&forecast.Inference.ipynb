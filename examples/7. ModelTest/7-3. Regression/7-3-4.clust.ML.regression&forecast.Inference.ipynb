{
 "cells": [
  {
   "cell_type": "markdown",
   "id": "fd79d0c3",
   "metadata": {},
   "source": [
    "# 4. Inference"
   ]
  },
  {
   "cell_type": "code",
   "execution_count": 1,
   "id": "1611f6b2",
   "metadata": {},
   "outputs": [
    {
     "name": "stdout",
     "output_type": "stream",
     "text": [
      "cpu is available.\n"
     ]
    }
   ],
   "source": [
    "import sys, os\n",
    "import torch\n",
    "import pandas as pd\n",
    "sys.path.append(\"../../\")\n",
    "sys.path.append(\"../../../\")\n",
    "sys.path.append(\"../../../../\")\n",
    "import setting\n",
    "\n",
    "from Clust.clust.ML.common.common import p1_integratedDataSaving as p1\n",
    "from Clust.clust.ML.tool import data as ml_data\n",
    "from Clust.clust.ML.tool import scaler as ml_scaler\n",
    "from Clust.clust.ML.tool import clean as ml_clean\n",
    "import pathSetting\n",
    "\n",
    "from Clust.setting import influx_setting_KETI as ins\n",
    "from Clust.clust.ingestion.influx import influx_client_v2 as influx_Client\n",
    "from Clust.clust.ingestion.mongo.mongo_client import MongoClient\n",
    "\n",
    "db_client = influx_Client.InfluxClient(ins.CLUSTDataServer2)\n",
    "mongo_client = MongoClient(ins.CLUSTMetaInfo2)\n",
    "\n",
    "device = \"cuda\" if torch.cuda.is_available() else \"cpu\"\n",
    "print(f\"{device}\" \" is available.\")"
   ]
  },
  {
   "cell_type": "code",
   "execution_count": 2,
   "id": "1788c0cb",
   "metadata": {},
   "outputs": [],
   "source": [
    "# Set regression mode i.e., 'regression','forecast'\n",
    "mode_selection = \"forecast\"\n",
    "\n",
    "# get integrated data name\n",
    "bucket_name = 'integration'\n",
    "\n",
    "# scaler path\n",
    "scalerPath = './scaler/'"
   ]
  },
  {
   "cell_type": "markdown",
   "id": "b8d30ae7",
   "metadata": {},
   "source": [
    "### 4-1. Get model meta by mongodb"
   ]
  },
  {
   "cell_type": "code",
   "execution_count": 3,
   "id": "a47d9e9d",
   "metadata": {},
   "outputs": [
    {
     "data": {
      "text/plain": [
       "{'trainDataInfo': {'data_name': 'forecasting_Hs2SwineFarmWithWeatherTime_train_NoClean',\n",
       "  'ingestion_param': {'start_time': '2021-02-01 00:00:00',\n",
       "   'end_time': '2021-03-10 00:00:00',\n",
       "   'ms_list_info': [['farm_swine_air', 'HS2'],\n",
       "    ['weather_outdoor_keti_clean', 'sangju'],\n",
       "    ['life_additional_Info', 'trigonometicInfoByHours']]},\n",
       "  'integration_param': {'param': {},\n",
       "   'method': 'meta',\n",
       "   'integration_duration': 'common',\n",
       "   'integration_frequency': 300},\n",
       "  'clean_param': 'NoClean',\n",
       "  'process_param': {'refine_param': {'removeDuplication': {'flag': False},\n",
       "    'staticFrequency': {'flag': False, 'frequency': None}},\n",
       "   'outlier_param': {'certainErrorToNaN': {'flag': False},\n",
       "    'unCertainErrorToNaN': {'flag': False, 'param': {}}},\n",
       "   'imputation_param': {'flag': False,\n",
       "    'imputation_method': [],\n",
       "    'totalNonNanRatio': 80}}},\n",
       " 'modelName': 'forecasting_Hs2SwineFarmWithWeatherTime_LSTM_rg_NoClean',\n",
       " 'featureList': ['Temperature', 'out_temp', 'sin_hour'],\n",
       " 'target': 'Temperature',\n",
       " 'trainDataType': 'timeseries',\n",
       " 'modelPurpose': 'regression',\n",
       " 'model_method': 'LSTM_rg',\n",
       " 'modelTags': ['model_tag_example'],\n",
       " 'cleanTrainDataParam': 'NoClean',\n",
       " 'NaNProcessingParam': {'feature_cycle': 'Day',\n",
       "  'feature_cycle_times': 1,\n",
       "  'NanInfoForCleanData': {'type': 'num',\n",
       "   'ConsecutiveNanLimit': 3,\n",
       "   'totalNaNLimit': 30000}},\n",
       " 'trainDataName': ['forecasting_Hs2SwineFarmWithWeatherTime_train_NoClean'],\n",
       " 'trainParameter': {'lr': 0.0001,\n",
       "  'weight_decay': 1e-06,\n",
       "  'device': 'cpu',\n",
       "  'n_epochs': 10,\n",
       "  'batch_size': 16},\n",
       " 'modelParameter': {'rnn_type': 'lstm',\n",
       "  'input_size': 3,\n",
       "  'hidden_size': 64,\n",
       "  'num_layers': 2,\n",
       "  'output_dim': 1,\n",
       "  'dropout': 0.1,\n",
       "  'bidirectional': True},\n",
       " 'transformParameter': {'future_step': 2,\n",
       "  'past_step': 24,\n",
       "  'feature_col': ['Temperature', 'out_temp', 'sin_hour'],\n",
       "  'target_col': 'Temperature',\n",
       "  'clean_param': 'NoClean'},\n",
       " 'scalerParam': 'scale',\n",
       " 'files': {'modelFile': {'fileName': 'model.pth',\n",
       "   'filePath': './Models/LSTM_rg/forecasting_Hs2SwineFarmWithWeatherTime_LSTM_rg_NoClean/forecasting_Hs2SwineFarmWithWeatherTime_train_NoClean/d531eec11664669cff1f6a3ad9639012/model.pkl'},\n",
       "  'XScalerFile': {'fileName': 'scaler.pkl',\n",
       "   'filePath': './scaler/forecasting_Hs2SwineFarmWithWeatherTime_train_NoClean/NoClean/robust/c1b524a5c854f6e561c4764b1dfb4e6f/scaler.pkl'}}}"
      ]
     },
     "execution_count": 3,
     "metadata": {},
     "output_type": "execute_result"
    }
   ],
   "source": [
    "db_name = 'model'\n",
    "collection_name = 'meta'\n",
    "search = {'modelName': 'forecasting_Hs2SwineFarmWithWeatherTime_LSTM_rg_NoClean'}\n",
    "\n",
    "model_meta= mongo_client.get_document_by_json(db_name, collection_name, search)[0]\n",
    "model_meta"
   ]
  },
  {
   "cell_type": "markdown",
   "id": "3b9185d9",
   "metadata": {},
   "source": [
    "### 4-2. Inference data selection"
   ]
  },
  {
   "cell_type": "code",
   "execution_count": 4,
   "id": "2579d539",
   "metadata": {
    "scrolled": true
   },
   "outputs": [
    {
     "data": {
      "text/plain": [
       "['forecasting_Hs2SwineFarmWithWeatherTime',\n",
       " 'regression_energy',\n",
       " 'forecasting_strawberryOpen',\n",
       " 'forecasting_gunwiStrawberryWeather']"
      ]
     },
     "execution_count": 4,
     "metadata": {},
     "output_type": "execute_result"
    }
   ],
   "source": [
    "# 0. pick only one data\n",
    "collection_list = mongo_client.get_collection_list(bucket_name)\n",
    "collection_list"
   ]
  },
  {
   "cell_type": "code",
   "execution_count": 5,
   "id": "5e11196d",
   "metadata": {},
   "outputs": [],
   "source": [
    "if mode_selection == 'regression':\n",
    "\n",
    "    data_name_X = 'regression_energy_testX_NoClean'\n",
    "    dataX = db_client.get_data(bucket_name, data_name_X)\n",
    "    \n",
    "    cleanMode = model_meta[\"trainDataInfo\"][\"clean_param\"]\n",
    "    integration_freq_sec = model_meta[\"trainDataInfo\"][\"integration_param\"][\"integration_frequency\"]\n",
    "\n",
    "    \n",
    "elif mode_selection == 'forecast':\n",
    "    \n",
    "    data_name_X = 'forecasting_Hs2SwineFarmWithWeatherTime_test_NoClean'\n",
    "    dataX = db_client.get_data(bucket_name, data_name_X)\n",
    "    \n",
    "    cleanMode = model_meta[\"trainDataInfo\"][\"clean_param\"]\n",
    "    integration_freq_sec = model_meta[\"trainDataInfo\"][\"integration_param\"][\"integration_frequency\"]"
   ]
  },
  {
   "cell_type": "code",
   "execution_count": 6,
   "id": "7ef67904",
   "metadata": {},
   "outputs": [
    {
     "name": "stdout",
     "output_type": "stream",
     "text": [
      "<bound method NDFrame.head of                                 CO2ppm    H2Sppm   Humidity      NH3ppm  \\\n",
      "time                                                                      \n",
      "2021-03-10 00:00:00+00:00  3991.666667  3.000000  64.866667  142.000000   \n",
      "2021-03-10 00:05:00+00:00  4039.500000  3.000000  65.000000  142.000000   \n",
      "2021-03-10 00:10:00+00:00  4066.000000  3.666667  64.966667  143.666667   \n",
      "2021-03-10 00:15:00+00:00  4046.500000  3.500000  64.750000  144.000000   \n",
      "2021-03-10 00:20:00+00:00  4036.000000  3.333333  64.433333  144.666667   \n",
      "...                                ...       ...        ...         ...   \n",
      "2021-03-16 22:40:00+00:00  3278.333333  3.333333  62.733333  128.666667   \n",
      "2021-03-16 22:45:00+00:00  3290.500000  3.000000  62.800000  128.500000   \n",
      "2021-03-16 22:50:00+00:00  3290.333333  3.333333  62.633333  127.666667   \n",
      "2021-03-16 22:55:00+00:00  3285.000000  3.500000  62.300000  126.500000   \n",
      "2021-03-16 23:00:00+00:00  3263.000000  3.000000  62.000000  127.000000   \n",
      "\n",
      "                           Temperature  cos_day_of_week  cos_hour  cos_month  \\\n",
      "time                                                                           \n",
      "2021-03-10 00:00:00+00:00    23.266667        -0.222521  1.000000        0.5   \n",
      "2021-03-10 00:05:00+00:00    23.300000        -0.222521  0.997160        0.5   \n",
      "2021-03-10 00:10:00+00:00    23.400000        -0.222521  0.994321        0.5   \n",
      "2021-03-10 00:15:00+00:00    23.450000        -0.222521  0.991481        0.5   \n",
      "2021-03-10 00:20:00+00:00    23.500000        -0.222521  0.988642        0.5   \n",
      "...                                ...              ...       ...        ...   \n",
      "2021-03-16 22:40:00+00:00    22.033333         0.623490  0.932626        0.5   \n",
      "2021-03-16 22:45:00+00:00    22.200000         0.623490  0.940951        0.5   \n",
      "2021-03-16 22:50:00+00:00    22.300000         0.623490  0.949276        0.5   \n",
      "2021-03-16 22:55:00+00:00    22.400000         0.623490  0.957601        0.5   \n",
      "2021-03-16 23:00:00+00:00    22.400000         0.623490  0.965926        0.5   \n",
      "\n",
      "                           cos_week_of_year  out_humid  out_pressure  \\\n",
      "time                                                                   \n",
      "2021-03-10 00:00:00+00:00          0.354605  43.000000   1014.500000   \n",
      "2021-03-10 00:05:00+00:00          0.354605  43.083333   1014.516667   \n",
      "2021-03-10 00:10:00+00:00          0.354605  43.166667   1014.533333   \n",
      "2021-03-10 00:15:00+00:00          0.354605  43.250000   1014.550000   \n",
      "2021-03-10 00:20:00+00:00          0.354605  43.333333   1014.566667   \n",
      "...                                     ...        ...           ...   \n",
      "2021-03-16 22:40:00+00:00          0.239316  41.666667   1005.600000   \n",
      "2021-03-16 22:45:00+00:00          0.239316  41.750000   1005.650000   \n",
      "2021-03-16 22:50:00+00:00          0.239316  41.833333   1005.700000   \n",
      "2021-03-16 22:55:00+00:00          0.239316  41.916667   1005.750000   \n",
      "2021-03-16 23:00:00+00:00          0.239316  42.000000   1005.800000   \n",
      "\n",
      "                           out_rainfall  out_sunshine  out_temp  \\\n",
      "time                                                              \n",
      "2021-03-10 00:00:00+00:00           0.0           0.0  2.500000   \n",
      "2021-03-10 00:05:00+00:00           0.0           0.0  2.458333   \n",
      "2021-03-10 00:10:00+00:00           0.0           0.0  2.416667   \n",
      "2021-03-10 00:15:00+00:00           0.0           0.0  2.375000   \n",
      "2021-03-10 00:20:00+00:00           0.0           0.0  2.333333   \n",
      "...                                 ...           ...       ...   \n",
      "2021-03-16 22:40:00+00:00           0.0           0.0  4.266667   \n",
      "2021-03-16 22:45:00+00:00           0.0           0.0  4.200000   \n",
      "2021-03-16 22:50:00+00:00           0.0           0.0  4.133333   \n",
      "2021-03-16 22:55:00+00:00           0.0           0.0  4.066667   \n",
      "2021-03-16 23:00:00+00:00           0.0           0.0  4.000000   \n",
      "\n",
      "                           out_wind_direction  out_wind_speed  \\\n",
      "time                                                            \n",
      "2021-03-10 00:00:00+00:00               250.0        3.200000   \n",
      "2021-03-10 00:05:00+00:00               250.0        3.158333   \n",
      "2021-03-10 00:10:00+00:00               250.0        3.116667   \n",
      "2021-03-10 00:15:00+00:00               250.0        3.075000   \n",
      "2021-03-10 00:20:00+00:00               250.0        3.033333   \n",
      "...                                       ...             ...   \n",
      "2021-03-16 22:40:00+00:00               270.0        4.533333   \n",
      "2021-03-16 22:45:00+00:00               270.0        4.500000   \n",
      "2021-03-16 22:50:00+00:00               270.0        4.466667   \n",
      "2021-03-16 22:55:00+00:00               270.0        4.433333   \n",
      "2021-03-16 23:00:00+00:00               270.0        4.400000   \n",
      "\n",
      "                           sin_day_of_week  sin_hour  sin_month  \\\n",
      "time                                                              \n",
      "2021-03-10 00:00:00+00:00         0.974928  0.000000   0.866025   \n",
      "2021-03-10 00:05:00+00:00         0.974928  0.021568   0.866025   \n",
      "2021-03-10 00:10:00+00:00         0.974928  0.043137   0.866025   \n",
      "2021-03-10 00:15:00+00:00         0.974928  0.064705   0.866025   \n",
      "2021-03-10 00:20:00+00:00         0.974928  0.086273   0.866025   \n",
      "...                                    ...       ...        ...   \n",
      "2021-03-16 22:40:00+00:00         0.781832 -0.339213   0.866025   \n",
      "2021-03-16 22:45:00+00:00         0.781832 -0.319114   0.866025   \n",
      "2021-03-16 22:50:00+00:00         0.781832 -0.299016   0.866025   \n",
      "2021-03-16 22:55:00+00:00         0.781832 -0.278917   0.866025   \n",
      "2021-03-16 23:00:00+00:00         0.781832 -0.258819   0.866025   \n",
      "\n",
      "                           sin_week_of_year  \n",
      "time                                         \n",
      "2021-03-10 00:00:00+00:00          0.935016  \n",
      "2021-03-10 00:05:00+00:00          0.935016  \n",
      "2021-03-10 00:10:00+00:00          0.935016  \n",
      "2021-03-10 00:15:00+00:00          0.935016  \n",
      "2021-03-10 00:20:00+00:00          0.935016  \n",
      "...                                     ...  \n",
      "2021-03-16 22:40:00+00:00          0.970942  \n",
      "2021-03-16 22:45:00+00:00          0.970942  \n",
      "2021-03-16 22:50:00+00:00          0.970942  \n",
      "2021-03-16 22:55:00+00:00          0.970942  \n",
      "2021-03-16 23:00:00+00:00          0.970942  \n",
      "\n",
      "[2005 rows x 20 columns]>\n"
     ]
    }
   ],
   "source": [
    "print(dataX.head)"
   ]
  },
  {
   "cell_type": "markdown",
   "id": "90644dc4",
   "metadata": {},
   "source": [
    "### 4-3. Inference data preparation"
   ]
  },
  {
   "cell_type": "code",
   "execution_count": 7,
   "id": "ba005fb0",
   "metadata": {},
   "outputs": [],
   "source": [
    "feature_list = model_meta['featureList']\n",
    "target = model_meta['target']\n",
    "scaler_param = model_meta['scalerParam']\n",
    "transform_param = model_meta[\"transformParameter\"]\n",
    "model_file_path = model_meta['files']['modelFile']['filePath']\n",
    "model_method = model_meta['model_method']\n",
    "# train_parameter = model_meta[\"trainParameter\"]\n",
    "\n",
    "if mode_selection == 'regression':\n",
    "    # Scaling Inference Input\n",
    "    X_scaler_file_path = model_meta['files']['XScalerFile'][\"filePath\"]\n",
    "    y_scaler_file_path = model_meta['files']['yScalerFile'][\"filePath\"]\n",
    "\n",
    "    infer_X, scaler_X = ml_scaler.get_scaled_test_data(dataX[feature_list], X_scaler_file_path, scaler_param)\n",
    "    scaler_y = ml_scaler.get_scaler_file(y_scaler_file_path)\n",
    "\n",
    "elif mode_selection == 'forecast':\n",
    "    clean_param = model_meta['cleanTrainDataParam']\n",
    "    nan_processing_param = model_meta['NaNProcessingParam']\n",
    "\n",
    "    # Scaling Inference Input\n",
    "    X_scaler_file_path = model_meta['files']['XScalerFile']['filePath']\n",
    "\n",
    "    # only for forecast data?\n",
    "    past_step = transform_param['past_step']\n",
    "    feature_data = dataX[feature_list]\n",
    "    step_data = feature_data[-past_step:][feature_list].values\n",
    "    df_data = pd.DataFrame(step_data, columns=feature_list)\n",
    "\n",
    "    infer_X, scaler_X = ml_scaler.get_scaled_test_data(df_data[feature_list], X_scaler_file_path, scaler_param)\n",
    "    clean_infer_X = ml_clean.get_cleand_data(infer_X, clean_param, integration_freq_sec, nan_processing_param)"
   ]
  },
  {
   "cell_type": "code",
   "execution_count": 14,
   "id": "8cfa7250",
   "metadata": {},
   "outputs": [
    {
     "name": "stdout",
     "output_type": "stream",
     "text": [
      "    Temperature  out_temp  sin_hour\n",
      "0     -0.072961  0.429947 -0.487796\n",
      "1     -0.072961  0.419251 -0.475592\n",
      "2     -0.072961  0.408556 -0.463388\n",
      "3     -0.068670  0.397861 -0.451184\n",
      "4     -0.060086  0.387166 -0.438981\n",
      "5     -0.064378  0.376471 -0.426777\n",
      "6     -0.072961  0.365775 -0.414573\n",
      "7     -0.064378  0.355080 -0.402369\n",
      "8     -0.060086  0.344385 -0.390165\n",
      "9     -0.030043  0.333690 -0.377961\n",
      "10    -0.002146  0.322995 -0.365757\n",
      "11    -0.008584  0.312299 -0.353553\n",
      "12     0.023605  0.303743 -0.339342\n",
      "13     0.060086  0.295187 -0.325130\n",
      "14     0.100858  0.286631 -0.310918\n",
      "15     0.133047  0.278075 -0.296706\n",
      "16     0.165236  0.269519 -0.282495\n",
      "17     0.188841  0.260963 -0.268283\n",
      "18     0.197425  0.252406 -0.254071\n",
      "19     0.214592  0.243850 -0.239860\n",
      "20     0.236052  0.235294 -0.225648\n",
      "21     0.248927  0.226738 -0.211436\n",
      "22     0.261803  0.218182 -0.197224\n",
      "23     0.261803  0.209626 -0.183013\n"
     ]
    }
   ],
   "source": [
    "print(infer_X)"
   ]
  },
  {
   "cell_type": "code",
   "execution_count": 9,
   "id": "beb5966a",
   "metadata": {},
   "outputs": [],
   "source": [
    "inferX = infer_X\n",
    "# # transform\n",
    "# if mode_selection == 'regression':\n",
    "\n",
    "#     from Clust.clust.transformation.type.DFToNPArray import transDFtoNP, trans_df_to_np, trans_df_to_np_inf\n",
    "#     inferX = trans_df_to_np_inf(infer_X)\n",
    "\n",
    "# # forecast\n",
    "# elif mode_selection == 'forecast':\n",
    "    \n",
    "#     from Clust.clust.transformation.purpose.machineLearning import LSTMData\n",
    "#     LSTMD = LSTMData()\n",
    "#     testX, testy = LSTMD.transform_Xy_arr(clean_infer_X, transformParameter, transformParameter['clean_param'])"
   ]
  },
  {
   "cell_type": "code",
   "execution_count": 10,
   "id": "91c71050",
   "metadata": {},
   "outputs": [
    {
     "name": "stdout",
     "output_type": "stream",
     "text": [
      "<class 'pandas.core.frame.DataFrame'> (24, 3)\n",
      "    Temperature  out_temp  sin_hour\n",
      "0     -0.072961  0.429947 -0.487796\n",
      "1     -0.072961  0.419251 -0.475592\n",
      "2     -0.072961  0.408556 -0.463388\n",
      "3     -0.068670  0.397861 -0.451184\n",
      "4     -0.060086  0.387166 -0.438981\n",
      "5     -0.064378  0.376471 -0.426777\n",
      "6     -0.072961  0.365775 -0.414573\n",
      "7     -0.064378  0.355080 -0.402369\n",
      "8     -0.060086  0.344385 -0.390165\n",
      "9     -0.030043  0.333690 -0.377961\n",
      "10    -0.002146  0.322995 -0.365757\n",
      "11    -0.008584  0.312299 -0.353553\n",
      "12     0.023605  0.303743 -0.339342\n",
      "13     0.060086  0.295187 -0.325130\n",
      "14     0.100858  0.286631 -0.310918\n",
      "15     0.133047  0.278075 -0.296706\n",
      "16     0.165236  0.269519 -0.282495\n",
      "17     0.188841  0.260963 -0.268283\n",
      "18     0.197425  0.252406 -0.254071\n",
      "19     0.214592  0.243850 -0.239860\n",
      "20     0.236052  0.235294 -0.225648\n",
      "21     0.248927  0.226738 -0.211436\n",
      "22     0.261803  0.218182 -0.197224\n",
      "23     0.261803  0.209626 -0.183013\n"
     ]
    }
   ],
   "source": [
    "print(type(inferX), inferX.shape)\n",
    "print(inferX)"
   ]
  },
  {
   "cell_type": "code",
   "execution_count": 11,
   "id": "eb22200e",
   "metadata": {},
   "outputs": [],
   "source": [
    "modelParameter = model_meta[\"modelParameter\"]\n",
    "\n",
    "inferParameter = {\n",
    "    'device': 'cpu',\n",
    "    'batch_size': 16\n",
    "}"
   ]
  },
  {
   "cell_type": "code",
   "execution_count": 12,
   "id": "bb72fb20",
   "metadata": {
    "scrolled": false
   },
   "outputs": [
    {
     "ename": "ValueError",
     "evalue": "could not determine the shape of object type 'DataFrame'",
     "output_type": "error",
     "traceback": [
      "\u001b[0;31m---------------------------------------------------------------------------\u001b[0m",
      "\u001b[0;31mValueError\u001b[0m                                Traceback (most recent call last)",
      "\u001b[0;32m<ipython-input-12-4e7e6da6b3ef>\u001b[0m in \u001b[0;36m<module>\u001b[0;34m\u001b[0m\n\u001b[1;32m      5\u001b[0m \u001b[0mri\u001b[0m\u001b[0;34m.\u001b[0m\u001b[0mset_param\u001b[0m\u001b[0;34m(\u001b[0m\u001b[0minferParameter\u001b[0m\u001b[0;34m)\u001b[0m\u001b[0;34m\u001b[0m\u001b[0;34m\u001b[0m\u001b[0m\n\u001b[1;32m      6\u001b[0m \u001b[0mri\u001b[0m\u001b[0;34m.\u001b[0m\u001b[0mset_model\u001b[0m\u001b[0;34m(\u001b[0m\u001b[0mmodel_method\u001b[0m\u001b[0;34m,\u001b[0m \u001b[0mmodel_file_path\u001b[0m\u001b[0;34m,\u001b[0m \u001b[0mmodelParameter\u001b[0m\u001b[0;34m)\u001b[0m\u001b[0;34m\u001b[0m\u001b[0;34m\u001b[0m\u001b[0m\n\u001b[0;32m----> 7\u001b[0;31m \u001b[0mri\u001b[0m\u001b[0;34m.\u001b[0m\u001b[0mset_data\u001b[0m\u001b[0;34m(\u001b[0m\u001b[0minferX\u001b[0m\u001b[0;34m)\u001b[0m\u001b[0;34m\u001b[0m\u001b[0;34m\u001b[0m\u001b[0m\n\u001b[0m\u001b[1;32m      8\u001b[0m \u001b[0mpreds\u001b[0m \u001b[0;34m=\u001b[0m \u001b[0mri\u001b[0m\u001b[0;34m.\u001b[0m\u001b[0minference\u001b[0m\u001b[0;34m(\u001b[0m\u001b[0;34m)\u001b[0m\u001b[0;34m\u001b[0m\u001b[0;34m\u001b[0m\u001b[0m\n\u001b[1;32m      9\u001b[0m \u001b[0mprint\u001b[0m\u001b[0;34m(\u001b[0m\u001b[0mpreds\u001b[0m\u001b[0;34m)\u001b[0m\u001b[0;34m\u001b[0m\u001b[0;34m\u001b[0m\u001b[0m\n",
      "\u001b[0;32m~/CLUST_KETI/Clust/clust/ML/regression_YK/inference.py\u001b[0m in \u001b[0;36mset_data\u001b[0;34m(self, infer_X)\u001b[0m\n\u001b[1;32m     73\u001b[0m \u001b[0;34m\u001b[0m\u001b[0m\n\u001b[1;32m     74\u001b[0m         \"\"\"  \n\u001b[0;32m---> 75\u001b[0;31m         \u001b[0mself\u001b[0m\u001b[0;34m.\u001b[0m\u001b[0minference_loader\u001b[0m \u001b[0;34m=\u001b[0m \u001b[0mself\u001b[0m\u001b[0;34m.\u001b[0m\u001b[0mmodel\u001b[0m\u001b[0;34m.\u001b[0m\u001b[0mcreate_inferenceloader\u001b[0m\u001b[0;34m(\u001b[0m\u001b[0mself\u001b[0m\u001b[0;34m.\u001b[0m\u001b[0minfer_params\u001b[0m\u001b[0;34m[\u001b[0m\u001b[0;34m'batch_size'\u001b[0m\u001b[0;34m]\u001b[0m\u001b[0;34m,\u001b[0m \u001b[0minfer_X\u001b[0m\u001b[0;34m)\u001b[0m\u001b[0;34m\u001b[0m\u001b[0;34m\u001b[0m\u001b[0m\n\u001b[0m\u001b[1;32m     76\u001b[0m \u001b[0;34m\u001b[0m\u001b[0m\n\u001b[1;32m     77\u001b[0m     \u001b[0;32mdef\u001b[0m \u001b[0minference\u001b[0m\u001b[0;34m(\u001b[0m\u001b[0mself\u001b[0m\u001b[0;34m)\u001b[0m\u001b[0;34m:\u001b[0m\u001b[0;34m\u001b[0m\u001b[0;34m\u001b[0m\u001b[0m\n",
      "\u001b[0;32m~/CLUST_KETI/Clust/clust/ML/regression_YK/clust_models/rnn_clust.py\u001b[0m in \u001b[0;36mcreate_inferenceloader\u001b[0;34m(self, batch_size, infer_x)\u001b[0m\n\u001b[1;32m    272\u001b[0m         \u001b[0;31m# infer_x = infer_x.reshape((-1, infer_x.shape[0], infer_x.shape[1]))\u001b[0m\u001b[0;34m\u001b[0m\u001b[0;34m\u001b[0m\u001b[0;34m\u001b[0m\u001b[0m\n\u001b[1;32m    273\u001b[0m \u001b[0;34m\u001b[0m\u001b[0m\n\u001b[0;32m--> 274\u001b[0;31m         \u001b[0minfer_x\u001b[0m \u001b[0;34m=\u001b[0m \u001b[0mtorch\u001b[0m\u001b[0;34m.\u001b[0m\u001b[0mTensor\u001b[0m\u001b[0;34m(\u001b[0m\u001b[0minfer_x\u001b[0m\u001b[0;34m)\u001b[0m\u001b[0;34m\u001b[0m\u001b[0;34m\u001b[0m\u001b[0m\n\u001b[0m\u001b[1;32m    275\u001b[0m         \u001b[0minference_loader\u001b[0m \u001b[0;34m=\u001b[0m \u001b[0mDataLoader\u001b[0m\u001b[0;34m(\u001b[0m\u001b[0minfer_x\u001b[0m\u001b[0;34m,\u001b[0m \u001b[0mbatch_size\u001b[0m\u001b[0;34m=\u001b[0m\u001b[0mbatch_size\u001b[0m\u001b[0;34m,\u001b[0m \u001b[0mshuffle\u001b[0m\u001b[0;34m=\u001b[0m\u001b[0;32mFalse\u001b[0m\u001b[0;34m)\u001b[0m\u001b[0;34m\u001b[0m\u001b[0;34m\u001b[0m\u001b[0m\n\u001b[1;32m    276\u001b[0m         \u001b[0mprint\u001b[0m\u001b[0;34m(\u001b[0m\u001b[0;34m\"inference data shape:\"\u001b[0m\u001b[0;34m,\u001b[0m \u001b[0minfer_x\u001b[0m\u001b[0;34m.\u001b[0m\u001b[0mshape\u001b[0m\u001b[0;34m)\u001b[0m\u001b[0;34m\u001b[0m\u001b[0;34m\u001b[0m\u001b[0m\n",
      "\u001b[0;31mValueError\u001b[0m: could not determine the shape of object type 'DataFrame'"
     ]
    }
   ],
   "source": [
    "# 4. Inference\n",
    "from Clust.clust.ML.regression_YK.inference import RegressionInference as RI\n",
    "\n",
    "ri = RI()\n",
    "ri.set_param(inferParameter)\n",
    "ri.set_model(model_method, model_file_path, modelParameter)\n",
    "ri.set_data(inferX)\n",
    "preds = ri.inference()\n",
    "print(preds)"
   ]
  },
  {
   "cell_type": "code",
   "execution_count": null,
   "id": "290a6573",
   "metadata": {},
   "outputs": [],
   "source": [
    "# for regression\n",
    "if mode_selection == 'regression':\n",
    "    if scaler_param =='scale':\n",
    "        base_df_for_inverse = pd.DataFrame(columns=target, index=range(len(preds)))\n",
    "        base_df_for_inverse[target] = preds\n",
    "        prediction_result = pd.DataFrame(scaler_y.inverse_transform(base_df_for_inverse), columns=target, index=base_df_for_inverse.index)\n",
    "    else:\n",
    "        prediction_result = pd.DataFrame(data={\"value\": preds}, index=range(len(preds)))\n",
    "\n",
    "# for forecast\n",
    "elif mode_selection == 'forecast':\n",
    "    if scaler_param =='scale':\n",
    "        base_df_for_inverse = pd.DataFrame(columns=feature_list, index=range(len(preds)))\n",
    "        base_df_for_inverse[target] = preds\n",
    "        inverse_result = pd.DataFrame(scaler_X.inverse_transform(base_df_for_inverse), columns=feature_list, index=base_df_for_inverse.index)\n",
    "        target_data = inverse_result[target]\n",
    "        prediction_result = pd.DataFrame(data={target: target_data}, index=range(len(preds)))\n",
    "    else:\n",
    "        prediction_result = pd.DataFrame(data={target: preds}, index=range(len(preds)))"
   ]
  },
  {
   "cell_type": "code",
   "execution_count": null,
   "id": "6c7e4125",
   "metadata": {},
   "outputs": [],
   "source": [
    "prediction_result"
   ]
  },
  {
   "cell_type": "code",
   "execution_count": null,
   "id": "e9cc660c",
   "metadata": {},
   "outputs": [],
   "source": []
  }
 ],
 "metadata": {
  "kernelspec": {
   "display_name": "Python 3",
   "language": "python",
   "name": "python3"
  },
  "language_info": {
   "codemirror_mode": {
    "name": "ipython",
    "version": 3
   },
   "file_extension": ".py",
   "mimetype": "text/x-python",
   "name": "python",
   "nbconvert_exporter": "python",
   "pygments_lexer": "ipython3",
   "version": "3.8.8"
  },
  "vscode": {
   "interpreter": {
    "hash": "e92cea83a25a22cd774ff9f8132db57ccb94d86fd97b7fe80ee00c35daecdd05"
   }
  }
 },
 "nbformat": 4,
 "nbformat_minor": 5
}
