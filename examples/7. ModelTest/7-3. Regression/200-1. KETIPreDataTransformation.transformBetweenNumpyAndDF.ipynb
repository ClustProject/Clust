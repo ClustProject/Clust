{
 "cells": [
  {
   "cell_type": "code",
   "execution_count": 10,
   "id": "c39edce2",
   "metadata": {},
   "outputs": [],
   "source": [
    "import sys\n",
    "\n",
    "sys.path.append(\"../../..\")\n",
    "sys.path.append(\"../../../../\")\n",
    "problem = \"regression\""
   ]
  },
  {
   "cell_type": "markdown",
   "id": "dcb554da",
   "metadata": {},
   "source": [
    "1. Numpy Array to dataframe"
   ]
  },
  {
   "cell_type": "markdown",
   "id": "89854881",
   "metadata": {},
   "source": [
    "1-1. Original Data Load"
   ]
  },
  {
   "cell_type": "code",
   "execution_count": 11,
   "id": "5bd0294b",
   "metadata": {},
   "outputs": [],
   "source": [
    "# 움직임에 대한 정보임, 해당 정보를 CLUST 데이터로 바로 저장이 어려움\n",
    "#\n",
    "from Clust.clust.transformation.type.NPArrayToDF import trans3NPtoDF\n",
    "import pickle\n",
    "datafolderAddress = './ku_data/regressionTest/'\n",
    "train_x = pickle.load(open(datafolderAddress+'x_train.pkl', 'rb'))\n",
    "train_y = pickle.load(open(datafolderAddress+'y_train.pkl', 'rb'))\n",
    "test_x = pickle.load(open(datafolderAddress+'x_test.pkl', 'rb'))\n",
    "test_y = pickle.load(open(datafolderAddress+'y_test.pkl', 'rb'))"
   ]
  },
  {
   "cell_type": "code",
   "execution_count": 14,
   "id": "7437e07d",
   "metadata": {},
   "outputs": [
    {
     "name": "stdout",
     "output_type": "stream",
     "text": [
      "(95, 24, 144)\n",
      "(95,)\n",
      "(42, 24, 144)\n",
      "(42,)\n"
     ]
    }
   ],
   "source": [
    "print(train_x.shape) #\"95개의 상황, 144만큼의 시계열 길이, 24만큼의 정보컬럼\")\n",
    "print(train_y.shape) #\"95개의 상황에 따른 에너지\"\n",
    "print(test_x.shape)\n",
    "print(test_y.shape)"
   ]
  },
  {
   "cell_type": "markdown",
   "id": "7ccdca51",
   "metadata": {},
   "source": [
    "1-2. Array to DF"
   ]
  },
  {
   "cell_type": "code",
   "execution_count": 15,
   "id": "c49cdb9d",
   "metadata": {},
   "outputs": [],
   "source": [
    "# 1일을 기준으로 맞추어 저장 특정 일에 대한 X 정보가 해당일에 대한 y정보와 매핑\n",
    "\n",
    "trainDF_X, trainDF_y = trans3NPtoDF(train_x, train_y, '2016/1/1')\n",
    "testDF_X, testDF_y = trans3NPtoDF(test_x, test_y, '2020/1/1')"
   ]
  },
  {
   "cell_type": "markdown",
   "id": "5fa3e248",
   "metadata": {},
   "source": [
    "2. dataFrame to Numpy Array"
   ]
  },
  {
   "cell_type": "markdown",
   "id": "bb533354",
   "metadata": {},
   "source": [
    "2-1. Influx Data Preparation"
   ]
  },
  {
   "cell_type": "code",
   "execution_count": 16,
   "id": "39c94764",
   "metadata": {},
   "outputs": [
    {
     "data": {
      "text/plain": [
       "datetime.datetime(1, 1, 1, 18, 24, 58, 59000)"
      ]
     },
     "execution_count": 16,
     "metadata": {},
     "output_type": "execute_result"
    }
   ],
   "source": [
    "# TO DO\n",
    "from datetime import timedelta\n",
    "import datetime\n",
    "startDate = datetime.datetime(1, 1, 1, 12, 24, 59)\n",
    "startDate + timedelta(hours=5, minutes=59, seconds=59, milliseconds = 59)"
   ]
  },
  {
   "cell_type": "markdown",
   "id": "b9067a9a",
   "metadata": {},
   "source": [
    "2-2. DF to Numpy Array"
   ]
  },
  {
   "cell_type": "code",
   "execution_count": 17,
   "id": "4bfdbe88",
   "metadata": {},
   "outputs": [],
   "source": [
    "from Clust.clust.transformation.type.DFToNPArray import transDFtoNP\n",
    "dfX = trainDF_X \n",
    "dfy = trainDF_y\n",
    "X, y = transDFtoNP(dfX, dfy) #, windowNum=144) #add windowNum 144"
   ]
  },
  {
   "cell_type": "code",
   "execution_count": 18,
   "id": "a618e64e",
   "metadata": {},
   "outputs": [
    {
     "data": {
      "text/plain": [
       "(95, 24, 144)"
      ]
     },
     "execution_count": 18,
     "metadata": {},
     "output_type": "execute_result"
    }
   ],
   "source": [
    "X.shape"
   ]
  },
  {
   "cell_type": "code",
   "execution_count": 19,
   "id": "46be3854",
   "metadata": {},
   "outputs": [
    {
     "data": {
      "text/plain": [
       "(95,)"
      ]
     },
     "execution_count": 19,
     "metadata": {},
     "output_type": "execute_result"
    }
   ],
   "source": [
    "y.shape"
   ]
  }
 ],
 "metadata": {
  "kernelspec": {
   "display_name": "Python 3",
   "language": "python",
   "name": "python3"
  },
  "language_info": {
   "codemirror_mode": {
    "name": "ipython",
    "version": 3
   },
   "file_extension": ".py",
   "mimetype": "text/x-python",
   "name": "python",
   "nbconvert_exporter": "python",
   "pygments_lexer": "ipython3",
   "version": "3.8.8"
  },
  "vscode": {
   "interpreter": {
    "hash": "f1ef7e1f828dbb4e75f421045d2c565197efaf8469a0be4a314c6ea8378b5cb2"
   }
  }
 },
 "nbformat": 4,
 "nbformat_minor": 5
}
