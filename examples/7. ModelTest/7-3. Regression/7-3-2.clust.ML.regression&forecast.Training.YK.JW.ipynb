{
 "cells": [
  {
   "cell_type": "code",
   "execution_count": 1,
   "id": "95790ab5",
   "metadata": {},
   "outputs": [
    {
     "name": "stdout",
     "output_type": "stream",
     "text": [
      "cuda is available.\n"
     ]
    }
   ],
   "source": [
    "import sys, os\n",
    "import pandas as pd\n",
    "import pathSetting\n",
    "sys.path.append(\"../../..\")\n",
    "\n",
    "from Clust.clust.ML.common.common import p1_integratedDataSaving as p1\n",
    "from Clust.clust.ML.tool import data as ml_data\n",
    "from Clust.clust.ML.tool import model as ml_model\n",
    "from Clust.clust.ML.tool import clean as ml_clean\n",
    "from Clust.clust.ML.tool import meta as ml_meta\n",
    "\n",
    "import torch\n",
    "\n",
    "#import main_regression as mr\n",
    "device = \"cuda\" if torch.cuda.is_available() else \"cpu\"\n",
    "print(f\"{device}\" \" is available.\")"
   ]
  },
  {
   "cell_type": "code",
   "execution_count": 2,
   "id": "64028082",
   "metadata": {},
   "outputs": [],
   "source": [
    "# Set regression mode i.e., 'regression','forecast' \n",
    "mode_selection = \"regression\"\n",
    "\n",
    "# Set model methods i.e., 'LSTM_rg', 'GRU_rg', 'RNN_rg', 'CNN_1D_rg', 'LSTM_FCNs_rg', 'FC_rg' \n",
    "model_method = 'GRU_rg'"
   ]
  },
  {
   "cell_type": "markdown",
   "id": "0fcf28a6",
   "metadata": {},
   "source": [
    "# 2. Training \n",
    "\n",
    "## 2-1. Data selection"
   ]
  },
  {
   "cell_type": "code",
   "execution_count": 3,
   "id": "7a0b7a99",
   "metadata": {},
   "outputs": [],
   "source": [
    "DataMeta = p1.read_json_data(pathSetting.DataMetaPath)\n",
    "dataList =  list(DataMeta.keys())"
   ]
  },
  {
   "cell_type": "code",
   "execution_count": 4,
   "id": "bcec8e5c",
   "metadata": {
    "scrolled": true
   },
   "outputs": [],
   "source": [
    "# for regression data\n",
    "if mode_selection == 'regression':\n",
    "    #2\n",
    "    # dataX\n",
    "    dataName_X = dataList[0]\n",
    "    dataSaveMode_X = DataMeta[dataName_X][\"integrationInfo\"][\"DataSaveMode\"]\n",
    "\n",
    "    # datay\n",
    "    dataName_y = dataList[1]\n",
    "    dataSaveMode_y = DataMeta[dataName_y][\"integrationInfo\"][\"DataSaveMode\"]\n",
    "\n",
    "    #3\n",
    "    dataFolderName = \"data_integrated_result\"\n",
    "    current = os.getcwd()\n",
    "    dataFolderPath = os.path.join(current, dataFolderName)\n",
    "    dataX = ml_data.get_saved_integrated_data(dataSaveMode_X, dataName_X, dataFolderPath)\n",
    "    datay = ml_data.get_saved_integrated_data(dataSaveMode_y, dataName_y, dataFolderPath)\n",
    "    integration_freq_sec = DataMeta[dataName_X][\"integrationInfo\"][\"integration_freq_sec\"]\n",
    "\n",
    "# for forecast data test\n",
    "elif mode_selection == 'forecast':\n",
    "    cleanParamList = ['Clean', 'NoClean']\n",
    "    cleanMode = cleanParamList[1]\n",
    "\n",
    "    datasetNameList = ['Hs1SwineFarmWithWeatherTime', 'gunwiStrawberryWithWeatherTime', 'strawberryOpenTime']\n",
    "    datasetName = datasetNameList[0]\n",
    "\n",
    "    dataName_X = 'train' + cleanMode + '_' + datasetName\n",
    "    dataSaveMode_X = DataMeta[dataName_X]['integrationInfo']['DataSaveMode']\n",
    "\n",
    "    dataX = ml_data.get_saved_integrated_data(dataSaveMode_X, dataName_X, pathSetting.dataFolderPath)\n",
    "    integration_freq_sec = DataMeta[dataName_X]['integrationInfo']['integration_freq_sec']"
   ]
  },
  {
   "cell_type": "markdown",
   "id": "d6e052db",
   "metadata": {},
   "source": [
    "## 2-2. Training Data Preparation"
   ]
  },
  {
   "cell_type": "code",
   "execution_count": null,
   "id": "11b755d3",
   "metadata": {
    "scrolled": false
   },
   "outputs": [],
   "source": [
    "# for regression\n",
    "if mode_selection == 'regression':\n",
    "    # 2 Training Data Preparation\n",
    "    # 2-1\n",
    "    featureListX= list(dataX.columns)\n",
    "    featureListy= list(datay.columns)\n",
    "\n",
    "    # 2-2\n",
    "    cleanTrainDataParam = 'NoClean'#  Classification, Regression과 같이 X, y가 분리된 경우에는 현재 고정해서 사용해야함\n",
    "\n",
    "    # 2-2-1 cleanTrainDataParam == Clean 일 경우\n",
    "    NaNProcessingParam ={\n",
    "        \"feature_cycle\":'Day',\n",
    "        \"feature_cycle_times\":1,\n",
    "        \"NanInfoForCleanData\":{'type':'num', 'ConsecutiveNanLimit':3, 'totalNaNLimit':30000}\n",
    "    }\n",
    "    # 2-3\n",
    "    scalerParam='scale'\n",
    "    scaleMethod='minmax'\n",
    "\n",
    "    # 2-4\n",
    "    splitRatio = 0.8\n",
    "\n",
    "    # 2-5\n",
    "    scalerRootPath_X = os.path.join(pathSetting.scalerRootDir, dataName_X, cleanTrainDataParam)\n",
    "    scalerRootPath_y = os.path.join(pathSetting.scalerRootDir, dataName_X, cleanTrainDataParam)\n",
    "    train_x, val_x, X_scalerFilePath = ml_data.get_train_val_data(dataX, featureListX, scalerRootPath_X, splitRatio, scalerParam, scaleMethod)\n",
    "    train_y, val_y, y_scalerFilePath = ml_data.get_train_val_data(datay, featureListy, scalerRootPath_y, splitRatio, scalerParam, scaleMethod)\n",
    "\n",
    "# for forecast\n",
    "elif mode_selection == 'forecast':\n",
    "    # 2-1\n",
    "    featureListX = ['Temperature', 'out_temp','sin_hour']\n",
    "    target_col = 'Temperature'\n",
    "\n",
    "    # 2-2\n",
    "    cleanTrainDataParam = cleanMode\n",
    "\n",
    "    # 2-2-1 cleanMode == Clean 일 때만 활성화\n",
    "    NaNProcessingParam ={\n",
    "        \"feature_cycle\":'Day',\n",
    "        \"feature_cycle_times\":1,\n",
    "        \"NanInfoForCleanData\":{'type':'num', 'ConsecutiveNanLimit':3, 'totalNaNLimit':30000}\n",
    "    }\n",
    "\n",
    "    # 2-3\n",
    "    scalerParam='scale'\n",
    "    scaleMethod ='robust'\n",
    "\n",
    "    # 2-4\n",
    "    splitRatio = 0.8\n",
    "\n",
    "    # 2-5\n",
    "    scalerRootPath_X = os.path.join(pathSetting.scalerRootDir, dataName_X, cleanMode)\n",
    "    train_x, val_x, X_scalerFilePath = ml_data.get_train_val_data(dataX, featureListX, scalerRootPath_X, splitRatio, scalerParam, scaleMethod)\n",
    "    train_x, val_x = ml_clean.delete_low_quality_train_val_data(train_x, val_x, cleanMode, NaNProcessingParam)"
   ]
  },
  {
   "cell_type": "markdown",
   "id": "92d0495b",
   "metadata": {},
   "source": [
    "## 2-3. Training Data Transformation"
   ]
  },
  {
   "cell_type": "code",
   "execution_count": null,
   "id": "77429916",
   "metadata": {},
   "outputs": [],
   "source": [
    "# for regression\n",
    "if mode_selection == 'regression':\n",
    "    transformParameter = {}\n",
    "\n",
    "    from Clust.clust.transformation.type.DFToNPArray import transDFtoNP, trans_df_to_np, trans_df_to_np_inf\n",
    "\n",
    "    trainX, trainy = transDFtoNP(train_x, train_y)\n",
    "    valX, valy = transDFtoNP(val_x, val_y)\n",
    "\n",
    "# for forecast\n",
    "elif mode_selection == 'forecast':\n",
    "    transformParameter = {\n",
    "    'future_step': 2,\n",
    "    'past_step': 24,\n",
    "    'feature_col': featureListX,\n",
    "    'target_col': target_col,\n",
    "    'clean_param': cleanTrainDataParam\n",
    "    }\n",
    "    from Clust.clust.transformation.purpose.machineLearning import LSTMData\n",
    "\n",
    "    LSTMD = LSTMData()\n",
    "    trainX, trainy = LSTMD.transform_Xy_arr(train_x, transformParameter, transformParameter['clean_param'])\n",
    "    valX, valy = LSTMD.transform_Xy_arr(val_x, transformParameter, transformParameter['clean_param'])"
   ]
  },
  {
   "cell_type": "markdown",
   "id": "ff6b9d01",
   "metadata": {},
   "source": [
    "## 2-4 Set Model Parameters & Train Parameters"
   ]
  },
  {
   "cell_type": "code",
   "execution_count": null,
   "id": "3adac6a4",
   "metadata": {},
   "outputs": [],
   "source": [
    "input_size, seq_len = trainX.shape[1], trainX.shape[2]\n",
    "print(input_size, seq_len)\n",
    "\n",
    "# RNN models (RNN, LSTM, GRU) parameters\n",
    "if model_method == 'LSTM_rg' or model_method == 'GRU_rg' or model_method == 'RNN_rg':\n",
    "    modelParameter = {\n",
    "        'rnn_type': 'lstm',\n",
    "        'input_size': input_size, \n",
    "        'hidden_size': 64,\n",
    "        'num_layers': 2,\n",
    "        'output_dim': 1, \n",
    "        'dropout': 0.1, \n",
    "        'bidirectional': True\n",
    "    }\n",
    "# CNN_1D model parameters\n",
    "elif model_method == 'CNN_1D_rg':\n",
    "    modelParameter = {\n",
    "    'input_size': input_size,\n",
    "    'seq_len': seq_len,\n",
    "    'output_channels': 64,\n",
    "    'kernel_size': 3,\n",
    "    'stride': 1,\n",
    "    'padding': 0, \n",
    "    'dropout': 0.1\n",
    "    }\n",
    "# LSTM_FCNs model parameters\n",
    "elif model_method == 'LSTM_FCNs_rg':\n",
    "    modelParameter = {\n",
    "    'input_size': input_size,\n",
    "    'num_layers': 2,\n",
    "    'lstm_dropout': 0.4,\n",
    "    'fc_dropout': 0.1\n",
    "    }\n",
    "# FC model parameters\n",
    "elif model_method == 'FC_rg':\n",
    "    modelParameter = {\n",
    "    'input_size': input_size,\n",
    "    'dropout': 0.1,\n",
    "    'bias': True\n",
    "    }\n",
    "\n",
    "trainParameter = {\n",
    "    'lr': 1e-4,\n",
    "    'weight_decay': 1e-6, \n",
    "    'device': 'cpu', \n",
    "    'n_epochs': 10, \n",
    "    'batch_size': 16\n",
    "}"
   ]
  },
  {
   "cell_type": "code",
   "execution_count": null,
   "id": "19dee514",
   "metadata": {},
   "outputs": [],
   "source": [
    "modelTags =[\"aaaaa\"]\n",
    "trainDataType = \"timeseries\"\n",
    "modelPurpose = \"regression\"\n",
    "\n",
    "# # 2\n",
    "trainDataInfo = DataMeta[dataName_X]['integrationInfo']\n",
    "\n",
    "# 3. 모델을 저장할 파일 패스를 생성한다.\n",
    "\n",
    "model_name = 'Test' + model_method\n",
    "from Clust.clust.transformation.general.dataScaler import encode_hash_style\n",
    "trainParameter_encode =  encode_hash_style(str(trainParameter))\n",
    "trainDataPathList = [model_name, dataName_X, trainParameter_encode]\n",
    "modelFilePath = ml_model.get_model_file_path(trainDataPathList, model_method)"
   ]
  },
  {
   "cell_type": "markdown",
   "id": "6a44195f",
   "metadata": {},
   "source": [
    "## 2-5 Training "
   ]
  },
  {
   "cell_type": "code",
   "execution_count": null,
   "id": "f51aab4a",
   "metadata": {},
   "outputs": [],
   "source": [
    "from Clust.clust.ML.regression_YK.train import RegressionTrain as RML\n",
    "\n",
    "rml = RML()\n",
    "rml.set_param(trainParameter)\n",
    "rml.set_model(model_method, modelParameter)\n",
    "rml.set_data(trainX, trainy, valX, valy)\n",
    "rml.train()\n",
    "rml.save_best_model(modelFilePath)"
   ]
  },
  {
   "cell_type": "markdown",
   "id": "2d36ad30",
   "metadata": {},
   "source": [
    "## 2-6 Save MetaData "
   ]
  },
  {
   "cell_type": "code",
   "execution_count": null,
   "id": "d204cca2",
   "metadata": {},
   "outputs": [],
   "source": [
    "from Clust.clust.ingestion.mongo.mongo_client import MongoClient\n",
    "from Clust.setting import influx_setting_KETI as ins\n",
    "mongo_client = MongoClient(ins.CLUSTMetaInfo2)\n",
    "\n",
    "# from Clust.clust.transformation.general.dataScaler import encode_hash_style\n",
    "# trainParameter_encode =  encode_hash_style(str(trainParameter))\n",
    "modelInfoMeta ={\n",
    "    \"trainDataInfo\":trainDataInfo,\n",
    "    \"modelName\":model_name,\n",
    "    \"featureList\":featureListX,\n",
    "    \"target\": featureListy,\n",
    "    \"trainDataType\":trainDataType,\n",
    "    \"modelPurpose\":modelPurpose,\n",
    "    \"model_method\":model_method,\n",
    "    \"modelTags\":modelTags,\n",
    "    \"cleanTrainDataParam\":cleanTrainDataParam,\n",
    "    \"NaNProcessingParam\":NaNProcessingParam,\n",
    "    \"trainDataName\":[dataName_X, dataName_y],\n",
    "    \"trainParameter\": trainParameter,\n",
    "    \"modelParameter\": modelParameter,\n",
    "    \"transformParameter\":transformParameter,\n",
    "    \"NaNProcessingParam\":NaNProcessingParam,\n",
    "    \"scalerParam\":scalerParam,\n",
    "    \"files\":{\n",
    "        \"modelFile\":{\n",
    "            \"fileName\":\"model.pth\",\n",
    "            \"filePath\":modelFilePath\n",
    "        },\n",
    "        \"XScalerFile\":{\n",
    "            \"fileName\":\"scaler.pkl\",\n",
    "            \"filePath\":X_scalerFilePath       \n",
    "        },\n",
    "        \"yScalerFile\":{\n",
    "            \"fileName\":\"scaler.pkl\",\n",
    "            \"filePath\":y_scalerFilePath       \n",
    "        }\n",
    "    }\n",
    "}\n",
    "\n",
    "modelInfoMeta = ml_meta.save_model_meta_data(mongo_client, modelInfoMeta)\n"
   ]
  }
 ],
 "metadata": {
  "kernelspec": {
   "display_name": "Python 3",
   "language": "python",
   "name": "python3"
  },
  "language_info": {
   "codemirror_mode": {
    "name": "ipython",
    "version": 3
   },
   "file_extension": ".py",
   "mimetype": "text/x-python",
   "name": "python",
   "nbconvert_exporter": "python",
   "pygments_lexer": "ipython3",
   "version": "3.8.8"
  },
  "vscode": {
   "interpreter": {
    "hash": "e92cea83a25a22cd774ff9f8132db57ccb94d86fd97b7fe80ee00c35daecdd05"
   }
  }
 },
 "nbformat": 4,
 "nbformat_minor": 5
}
