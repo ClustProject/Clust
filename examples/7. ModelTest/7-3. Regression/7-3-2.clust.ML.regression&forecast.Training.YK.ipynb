{
 "cells": [
  {
   "cell_type": "code",
   "execution_count": 1,
   "id": "95790ab5",
   "metadata": {},
   "outputs": [
    {
     "name": "stderr",
     "output_type": "stream",
     "text": [
      "/Users/kim-youngkee/Documents/CLUSTER/.clust/lib/python3.9/site-packages/tqdm/auto.py:22: TqdmWarning: IProgress not found. Please update jupyter and ipywidgets. See https://ipywidgets.readthedocs.io/en/stable/user_install.html\n",
      "  from .autonotebook import tqdm as notebook_tqdm\n"
     ]
    },
    {
     "name": "stdout",
     "output_type": "stream",
     "text": [
      "cpu is available.\n"
     ]
    }
   ],
   "source": [
    "import sys, os\n",
    "import pandas as pd\n",
    "import pathSetting\n",
    "sys.path.append(\"../../..\")\n",
    "\n",
    "from Clust.clust.ML.common.common import p1_integratedDataSaving as p1\n",
    "from Clust.clust.ML.tool import data as ml_data\n",
    "from Clust.clust.ML.tool import model as ml_model\n",
    "from Clust.clust.ML.tool import clean as ml_clean\n",
    "from Clust.clust.ML.tool import meta as ml_meta\n",
    "\n",
    "import torch\n",
    "\n",
    "#import main_regression as mr\n",
    "device = \"cuda\" if torch.cuda.is_available() else \"cpu\"\n",
    "print(f\"{device}\" \" is available.\")"
   ]
  },
  {
   "cell_type": "code",
   "execution_count": 2,
   "id": "64028082",
   "metadata": {},
   "outputs": [],
   "source": [
    "# Set regression mode i.e., 'regression','forecast' \n",
    "mode_selection = \"forecast\"\n",
    "\n",
    "# Set model methods i.e., 'LSTM_rg', 'GRU_rg', 'CNN_1D_rg', 'LSTM_FCNs_rg', 'FC_rg' \n",
    "model_method = 'LSTM_rg'"
   ]
  },
  {
   "cell_type": "markdown",
   "id": "0fcf28a6",
   "metadata": {},
   "source": [
    "# 2. Training \n",
    "\n",
    "## 2-1. Data selection"
   ]
  },
  {
   "cell_type": "code",
   "execution_count": 3,
   "id": "7a0b7a99",
   "metadata": {},
   "outputs": [],
   "source": [
    "DataMeta = p1.read_json_data(pathSetting.DataMetaPath)\n",
    "dataList =  list(DataMeta.keys())"
   ]
  },
  {
   "cell_type": "code",
   "execution_count": 4,
   "id": "efe3f94e",
   "metadata": {},
   "outputs": [
    {
     "data": {
      "text/plain": [
       "['IntegraionTrainX',\n",
       " 'IntegraionTrainy',\n",
       " 'IntegraionTestX',\n",
       " 'IntegraionTesty',\n",
       " 'trainClean_Hs1SwineFarmWithWeatherTime',\n",
       " 'trainNoClean_Hs1SwineFarmWithWeatherTime',\n",
       " 'testClean_Hs1SwineFarmWithWeatherTime',\n",
       " 'testNoClean_Hs1SwineFarmWithWeatherTime']"
      ]
     },
     "execution_count": 4,
     "metadata": {},
     "output_type": "execute_result"
    }
   ],
   "source": [
    "dataList"
   ]
  },
  {
   "cell_type": "code",
   "execution_count": 5,
   "id": "bcec8e5c",
   "metadata": {
    "scrolled": true
   },
   "outputs": [],
   "source": [
    "# for regression data\n",
    "if mode_selection == 'regression':\n",
    "    #2\n",
    "    # dataX\n",
    "    dataName_X = dataList[0]\n",
    "    # dataSaveMode_X = DataMeta[dataName_X][\"integrationInfo\"][\"DataSaveMode\"]\n",
    "\n",
    "    # datay\n",
    "    dataName_y = dataList[1]\n",
    "    # dataSaveMode_y = DataMeta[dataName_y][\"integrationInfo\"][\"DataSaveMode\"]\n",
    "\n",
    "    #3\n",
    "    dataFolderName = \"data_integrated_result\"\n",
    "    current = os.getcwd()\n",
    "    dataFolderPath = os.path.join(current, dataFolderName)\n",
    "    dataX = ml_data.get_saved_integrated_data('CSV', dataName_X, dataFolderPath)\n",
    "    datay = ml_data.get_saved_integrated_data('CSV', dataName_y, dataFolderPath)\n",
    "    integration_freq_sec = DataMeta[dataName_X][\"integrationInfo\"][\"integration_freq_sec\"]\n",
    "\n",
    "# for forecast data test\n",
    "elif mode_selection == 'forecast':\n",
    "    cleanParamList = ['Clean', 'NoClean']\n",
    "    cleanMode = cleanParamList[1]\n",
    "\n",
    "    datasetNameList = ['Hs1SwineFarmWithWeatherTime', 'gunwiStrawberryWithWeatherTime', 'strawberryOpenTime']\n",
    "    datasetName = datasetNameList[0]\n",
    "\n",
    "    dataName_X = 'train' + cleanMode + '_' + datasetName\n",
    "    dataSaveMode_X = DataMeta[dataName_X]['integrationInfo']['DataSaveMode']\n",
    "\n",
    "    dataX = ml_data.get_saved_integrated_data(dataSaveMode_X, dataName_X, pathSetting.dataFolderPath)\n",
    "    integration_freq_sec = DataMeta[dataName_X]['integrationInfo']['integration_freq_sec']"
   ]
  },
  {
   "cell_type": "code",
   "execution_count": 6,
   "id": "c2383ae0",
   "metadata": {},
   "outputs": [
    {
     "name": "stdout",
     "output_type": "stream",
     "text": [
      "<class 'pandas.core.frame.DataFrame'> (10645, 20)\n",
      "                                CO2ppm    H2Sppm   Humidity      NH3ppm  \\\n",
      "datetime                                                                  \n",
      "2021-02-01 00:00:00+00:00  2395.666667  0.666667  65.200000   14.000000   \n",
      "2021-02-01 00:05:00+00:00  2378.500000  1.000000  65.200000   14.000000   \n",
      "2021-02-01 00:10:00+00:00  2385.000000  1.000000  65.100000   14.000000   \n",
      "2021-02-01 00:15:00+00:00  2385.500000  1.000000  65.100000   14.000000   \n",
      "2021-02-01 00:20:00+00:00  2358.333333  1.000000  65.000000   14.000000   \n",
      "...                                ...       ...        ...         ...   \n",
      "2021-03-09 22:40:00+00:00  3355.333333  3.000000  61.333333  129.666667   \n",
      "2021-03-09 22:45:00+00:00  3384.000000  3.000000  61.400000  130.500000   \n",
      "2021-03-09 22:50:00+00:00  3453.000000  2.666667  61.533333  133.333333   \n",
      "2021-03-09 22:55:00+00:00  3522.500000  3.000000  61.900000  134.000000   \n",
      "2021-03-09 23:00:00+00:00  3541.000000  4.000000  62.100000  135.000000   \n",
      "\n",
      "                           Temperature  out_humid  out_pressure  out_rainfall  \\\n",
      "datetime                                                                        \n",
      "2021-02-01 00:00:00+00:00    15.400000  66.000000   1011.900000           0.0   \n",
      "2021-02-01 00:05:00+00:00    15.400000  66.583333   1011.858333           0.0   \n",
      "2021-02-01 00:10:00+00:00    15.400000  67.166667   1011.816667           0.0   \n",
      "2021-02-01 00:15:00+00:00    15.400000  67.750000   1011.775000           0.0   \n",
      "2021-02-01 00:20:00+00:00    15.400000  68.333333   1011.733333           0.0   \n",
      "...                                ...        ...           ...           ...   \n",
      "2021-03-09 22:40:00+00:00    20.866667  40.000000   1014.500000           0.0   \n",
      "2021-03-09 22:45:00+00:00    21.050000  40.000000   1014.500000           0.0   \n",
      "2021-03-09 22:50:00+00:00    21.200000  40.000000   1014.500000           0.0   \n",
      "2021-03-09 22:55:00+00:00    21.450000  40.000000   1014.500000           0.0   \n",
      "2021-03-09 23:00:00+00:00    21.600000  40.000000   1014.500000           0.0   \n",
      "\n",
      "                           out_sunshine  out_temp  out_wind_direction  \\\n",
      "datetime                                                                \n",
      "2021-02-01 00:00:00+00:00           0.0 -0.500000          320.000000   \n",
      "2021-02-01 00:05:00+00:00           0.0 -0.483333          310.000000   \n",
      "2021-02-01 00:10:00+00:00           0.0 -0.466667          300.000000   \n",
      "2021-02-01 00:15:00+00:00           0.0 -0.450000          290.000000   \n",
      "2021-02-01 00:20:00+00:00           0.0 -0.433333          280.000000   \n",
      "...                                 ...       ...                 ...   \n",
      "2021-03-09 22:40:00+00:00           0.0  3.500000          243.333333   \n",
      "2021-03-09 22:45:00+00:00           0.0  3.425000          240.000000   \n",
      "2021-03-09 22:50:00+00:00           0.0  3.350000          236.666667   \n",
      "2021-03-09 22:55:00+00:00           0.0  3.275000          233.333333   \n",
      "2021-03-09 23:00:00+00:00           0.0  3.200000          230.000000   \n",
      "\n",
      "                           out_wind_speed  cos_day_of_week  cos_hour  \\\n",
      "datetime                                                               \n",
      "2021-02-01 00:00:00+00:00        0.900000          1.00000  1.000000   \n",
      "2021-02-01 00:05:00+00:00        0.875000          1.00000  0.997160   \n",
      "2021-02-01 00:10:00+00:00        0.850000          1.00000  0.994321   \n",
      "2021-02-01 00:15:00+00:00        0.825000          1.00000  0.991481   \n",
      "2021-02-01 00:20:00+00:00        0.800000          1.00000  0.988642   \n",
      "...                                   ...              ...       ...   \n",
      "2021-03-09 22:40:00+00:00        2.166667          0.62349  0.932626   \n",
      "2021-03-09 22:45:00+00:00        2.100000          0.62349  0.940951   \n",
      "2021-03-09 22:50:00+00:00        2.033333          0.62349  0.949276   \n",
      "2021-03-09 22:55:00+00:00        1.966667          0.62349  0.957601   \n",
      "2021-03-09 23:00:00+00:00        1.900000          0.62349  0.965926   \n",
      "\n",
      "                           cos_month  cos_week_of_year  sin_day_of_week  \\\n",
      "datetime                                                                  \n",
      "2021-02-01 00:00:00+00:00   0.866025          0.822984         0.000000   \n",
      "2021-02-01 00:05:00+00:00   0.866025          0.822984         0.000000   \n",
      "2021-02-01 00:10:00+00:00   0.866025          0.822984         0.000000   \n",
      "2021-02-01 00:15:00+00:00   0.866025          0.822984         0.000000   \n",
      "2021-02-01 00:20:00+00:00   0.866025          0.822984         0.000000   \n",
      "...                              ...               ...              ...   \n",
      "2021-03-09 22:40:00+00:00   0.500000          0.354605         0.781832   \n",
      "2021-03-09 22:45:00+00:00   0.500000          0.354605         0.781832   \n",
      "2021-03-09 22:50:00+00:00   0.500000          0.354605         0.781832   \n",
      "2021-03-09 22:55:00+00:00   0.500000          0.354605         0.781832   \n",
      "2021-03-09 23:00:00+00:00   0.500000          0.354605         0.781832   \n",
      "\n",
      "                           sin_hour  sin_month  sin_week_of_year  \n",
      "datetime                                                          \n",
      "2021-02-01 00:00:00+00:00  0.000000   0.500000          0.568065  \n",
      "2021-02-01 00:05:00+00:00  0.021568   0.500000          0.568065  \n",
      "2021-02-01 00:10:00+00:00  0.043137   0.500000          0.568065  \n",
      "2021-02-01 00:15:00+00:00  0.064705   0.500000          0.568065  \n",
      "2021-02-01 00:20:00+00:00  0.086273   0.500000          0.568065  \n",
      "...                             ...        ...               ...  \n",
      "2021-03-09 22:40:00+00:00 -0.339213   0.866025          0.935016  \n",
      "2021-03-09 22:45:00+00:00 -0.319114   0.866025          0.935016  \n",
      "2021-03-09 22:50:00+00:00 -0.299016   0.866025          0.935016  \n",
      "2021-03-09 22:55:00+00:00 -0.278917   0.866025          0.935016  \n",
      "2021-03-09 23:00:00+00:00 -0.258819   0.866025          0.935016  \n",
      "\n",
      "[10645 rows x 20 columns]\n"
     ]
    }
   ],
   "source": [
    "print(type(dataX), dataX.shape)\n",
    "print(dataX)"
   ]
  },
  {
   "cell_type": "code",
   "execution_count": 7,
   "id": "5f1cc871",
   "metadata": {},
   "outputs": [
    {
     "ename": "NameError",
     "evalue": "name 'datay' is not defined",
     "output_type": "error",
     "traceback": [
      "\u001b[0;31m---------------------------------------------------------------------------\u001b[0m",
      "\u001b[0;31mNameError\u001b[0m                                 Traceback (most recent call last)",
      "Cell \u001b[0;32mIn[7], line 1\u001b[0m\n\u001b[0;32m----> 1\u001b[0m \u001b[39mprint\u001b[39m(\u001b[39mtype\u001b[39m(datay), datay\u001b[39m.\u001b[39mshape)\n\u001b[1;32m      2\u001b[0m \u001b[39mprint\u001b[39m(datay)\n",
      "\u001b[0;31mNameError\u001b[0m: name 'datay' is not defined"
     ]
    }
   ],
   "source": [
    "# print(type(datay), datay.shape)\n",
    "# print(datay)"
   ]
  },
  {
   "cell_type": "markdown",
   "id": "d6e052db",
   "metadata": {},
   "source": [
    "## 2-2. Training Data Preparation"
   ]
  },
  {
   "cell_type": "code",
   "execution_count": 8,
   "id": "11b755d3",
   "metadata": {
    "scrolled": false
   },
   "outputs": [
    {
     "name": "stdout",
     "output_type": "stream",
     "text": [
      "['Temperature', 'out_temp', 'sin_hour']\n",
      "Make New scaler File\n",
      "------ {'feature_cycle': 'Day', 'feature_cycle_times': 1, 'NanInfoForCleanData': {'type': 'num', 'ConsecutiveNanLimit': 3, 'totalNaNLimit': 30000}}\n"
     ]
    }
   ],
   "source": [
    "# for regression\n",
    "if mode_selection == 'regression':\n",
    "    # 2 Training Data Preparation\n",
    "    # 2-1\n",
    "    featureListX= list(dataX.columns)\n",
    "    featureListy= list(datay.columns)\n",
    "\n",
    "    # 2-2\n",
    "    cleanTrainDataParam = 'NoClean'#  Classification, Regression과 같이 X, y가 분리된 경우에는 현재 고정해서 사용해야함\n",
    "\n",
    "    # 2-2-1 cleanTrainDataParam == Clean 일 경우\n",
    "    NaNProcessingParam ={\n",
    "        \"feature_cycle\":'Day',\n",
    "        \"feature_cycle_times\":1,\n",
    "        \"NanInfoForCleanData\":{'type':'num', 'ConsecutiveNanLimit':3, 'totalNaNLimit':30000}\n",
    "    }\n",
    "    # 2-3\n",
    "    scalerParam='scale'\n",
    "    scaleMethod='minmax'\n",
    "\n",
    "    # 2-4\n",
    "    splitRatio = 0.8\n",
    "\n",
    "    # 2-5\n",
    "    scalerRootPath_X = os.path.join(pathSetting.scalerRootDir, dataName_X, cleanTrainDataParam)\n",
    "    scalerRootPath_y = os.path.join(pathSetting.scalerRootDir, dataName_X, cleanTrainDataParam)\n",
    "    train_x, val_x, X_scalerFilePath = ml_data.get_train_val_data(dataX, featureListX, scalerRootPath_X, splitRatio, scalerParam, scaleMethod)\n",
    "    train_y, val_y, y_scalerFilePath = ml_data.get_train_val_data(datay, featureListy, scalerRootPath_y, splitRatio, scalerParam, scaleMethod)\n",
    "\n",
    "# for forecast\n",
    "elif mode_selection == 'forecast':\n",
    "    # 2-1\n",
    "    featureListX = ['Temperature', 'out_temp','sin_hour']\n",
    "    featureListy = 'Temperature'\n",
    "\n",
    "    # 2-2\n",
    "    cleanTrainDataParam = cleanMode\n",
    "\n",
    "    # 2-2-1 cleanMode == Clean 일 때만 활성화\n",
    "    NaNProcessingParam ={\n",
    "        \"feature_cycle\":'Day',\n",
    "        \"feature_cycle_times\":1,\n",
    "        \"NanInfoForCleanData\":{'type':'num', 'ConsecutiveNanLimit':3, 'totalNaNLimit':30000}\n",
    "    }\n",
    "\n",
    "    # 2-3\n",
    "    scalerParam='scale'\n",
    "    scaleMethod ='robust'\n",
    "\n",
    "    # 2-4\n",
    "    splitRatio = 0.8\n",
    "\n",
    "    # 2-5\n",
    "    scalerRootPath_X = os.path.join(pathSetting.scalerRootDir, dataName_X, cleanMode)\n",
    "    train_x, val_x, X_scalerFilePath = ml_data.get_train_val_data(dataX, featureListX, scalerRootPath_X, splitRatio, scalerParam, scaleMethod)\n",
    "    train_x, val_x = ml_clean.delete_low_quality_train_val_data(train_x, val_x, cleanMode, NaNProcessingParam)"
   ]
  },
  {
   "cell_type": "code",
   "execution_count": 9,
   "id": "cb2b8ac0",
   "metadata": {},
   "outputs": [
    {
     "name": "stdout",
     "output_type": "stream",
     "text": [
      "<class 'pandas.core.frame.DataFrame'> (8516, 3)\n",
      "                           Temperature  out_temp      sin_hour\n",
      "datetime                                                      \n",
      "2021-02-01 00:00:00+00:00    -0.639485 -0.367914 -8.659561e-17\n",
      "2021-02-01 00:05:00+00:00    -0.639485 -0.365775  1.525106e-02\n",
      "2021-02-01 00:10:00+00:00    -0.639485 -0.363636  3.050212e-02\n",
      "2021-02-01 00:15:00+00:00    -0.639485 -0.361497  4.575318e-02\n",
      "2021-02-01 00:20:00+00:00    -0.639485 -0.359358  6.100423e-02\n",
      "...                                ...       ...           ...\n",
      "2021-03-02 13:15:00+00:00     0.120172  1.014973 -2.256479e-01\n",
      "2021-03-02 13:20:00+00:00     0.107296  0.979679 -2.398596e-01\n",
      "2021-03-02 13:25:00+00:00     0.107296  0.944385 -2.540713e-01\n",
      "2021-03-02 13:30:00+00:00     0.120172  0.909091 -2.682831e-01\n",
      "2021-03-02 13:35:00+00:00     0.120172  0.873797 -2.824948e-01\n",
      "\n",
      "[8516 rows x 3 columns]\n"
     ]
    }
   ],
   "source": [
    "print(type(train_x), train_x.shape)\n",
    "print(train_x)"
   ]
  },
  {
   "cell_type": "code",
   "execution_count": 11,
   "id": "411c172c",
   "metadata": {},
   "outputs": [
    {
     "name": "stdout",
     "output_type": "stream",
     "text": [
      "<class 'pandas.core.frame.DataFrame'> (2129, 3)\n",
      "                           Temperature  out_temp  sin_hour\n",
      "datetime                                                  \n",
      "2021-03-02 13:40:00+00:00     0.128755  0.838503 -0.296706\n",
      "2021-03-02 13:45:00+00:00     0.120172  0.803209 -0.310918\n",
      "2021-03-02 13:50:00+00:00     0.120172  0.767914 -0.325130\n",
      "2021-03-02 13:55:00+00:00     0.120172  0.732620 -0.339342\n",
      "2021-03-02 14:00:00+00:00     0.128755  0.697326 -0.353553\n",
      "...                                ...       ...       ...\n",
      "2021-03-09 22:40:00+00:00     0.064378  0.145455 -0.239860\n",
      "2021-03-09 22:45:00+00:00     0.087983  0.135829 -0.225648\n",
      "2021-03-09 22:50:00+00:00     0.107296  0.126203 -0.211436\n",
      "2021-03-09 22:55:00+00:00     0.139485  0.116578 -0.197224\n",
      "2021-03-09 23:00:00+00:00     0.158798  0.106952 -0.183013\n",
      "\n",
      "[2129 rows x 3 columns]\n"
     ]
    }
   ],
   "source": [
    "print(type(val_x), val_x.shape)\n",
    "print(val_x)\n",
    "# print(type(train_y), train_y.shape)\n",
    "# print(train_y)"
   ]
  },
  {
   "cell_type": "code",
   "execution_count": 11,
   "metadata": {},
   "outputs": [],
   "source": [
    "def transDFtoNP_yk(dfX, dfy, windowNum = 0, dim = None):\n",
    "    \"\"\"\n",
    "    Make NumpyArray by input DataFrame.\n",
    "    if windowNum = 0 ----> slice X by day\n",
    "    if windowNum = N ----> slice X by windowNum\n",
    "    \n",
    "    Example:\n",
    "        >>> Retunrn \n",
    "        ... X.shape (sampleNum, featureNum, sequenceNum )\n",
    "        ... y.shape (sampleNum, )\n",
    "\n",
    "    Args:\n",
    "        dfX (DataFrame): dfX\n",
    "        dfy (DataFrame): dfy\n",
    "        windowNum (Interger): windowNum\n",
    "\n",
    "    Returns:\n",
    "        numpy array:  X, y\n",
    "    \n",
    "    \"\"\"\n",
    "    import datetime as dt\n",
    "    import numpy as np\n",
    "\n",
    "    if dim == 2:\n",
    "        X = dfX.to_numpy()\n",
    "        y = np.array(dfy.squeeze().tolist())\n",
    "    else:\n",
    "        X =[]\n",
    "        y= []\n",
    "\n",
    "        if windowNum ==0:\n",
    "            dateList = dfX.index.map(lambda t: t.date()).unique()\n",
    "            for startDate in dateList:\n",
    "                endDate  = dt.datetime.combine(startDate, dt.time(23, 59, 59, 59))\n",
    "                dfX_partial = dfX[startDate:endDate]\n",
    "                dfy_partial = dfy[startDate:endDate]\n",
    "                X_partial = dfX_partial.values\n",
    "                y_partial = dfy_partial.values[0][0]\n",
    "                X.append (X_partial)\n",
    "                y.append (y_partial)\n",
    "        else:\n",
    "            import math\n",
    "            roundNum = math.ceil(len(dfX)/windowNum)\n",
    "            for i in range(roundNum): #This ensures all rows are captured\n",
    "                dfX_partial = dfX[i*windowNum:(i+1)*windowNum]\n",
    "                dfy_partial = dfy[i:(i+1)]\n",
    "                X_partial = dfX_partial.values\n",
    "                y_partial = dfy_partial.values[0][0]\n",
    "                X.append (X_partial)\n",
    "                y.append (y_partial)\n",
    "\n",
    "        X = np.array(X)\n",
    "        y = np.array(y)\n",
    "    \n",
    "    return X, y"
   ]
  },
  {
   "cell_type": "markdown",
   "id": "92d0495b",
   "metadata": {},
   "source": [
    "## 2-3. Training Data Transformation"
   ]
  },
  {
   "cell_type": "code",
   "execution_count": 12,
   "id": "77429916",
   "metadata": {},
   "outputs": [
    {
     "name": "stdout",
     "output_type": "stream",
     "text": [
      "1. Original Data Lenagh: 8514\n",
      "2. Removed Data Length: 0\n",
      "3. Clean Data Leangth: 8491\n",
      "1. Original Data Lenagh: 2127\n",
      "2. Removed Data Length: 0\n",
      "3. Clean Data Leangth: 2104\n"
     ]
    }
   ],
   "source": [
    "# for regression\n",
    "if mode_selection == 'regression':\n",
    "    transformParameter = {}\n",
    "\n",
    "    # from Clust.clust.transformation.type.DFToNPArray import transDFtoNP, trans_df_to_np, trans_df_to_np_inf\n",
    "\n",
    "    trainX, trainy = transDFtoNP_yk(train_x, train_y, windowNum=144)\n",
    "    valX, valy = transDFtoNP_yk(val_x, val_y, windowNum=144)\n",
    "\n",
    "# for forecast\n",
    "elif mode_selection == 'forecast':\n",
    "    transformParameter = {\n",
    "    'future_step': 2,\n",
    "    'past_step': 24,\n",
    "    'feature_col': featureListX,\n",
    "    'target_col': featureListy,\n",
    "    'clean_param': cleanTrainDataParam\n",
    "    }\n",
    "    from Clust.clust.transformation.purpose.machineLearning import LSTMData\n",
    "\n",
    "    LSTMD = LSTMData()\n",
    "    trainX, trainy = LSTMD.transform_Xy_arr(train_x, transformParameter, transformParameter['clean_param'])\n",
    "    valX, valy = LSTMD.transform_Xy_arr(val_x, transformParameter, transformParameter['clean_param'])"
   ]
  },
  {
   "cell_type": "code",
   "execution_count": 13,
   "id": "243fc9d4",
   "metadata": {},
   "outputs": [
    {
     "name": "stdout",
     "output_type": "stream",
     "text": [
      "<class 'numpy.ndarray'> (8491, 24, 3)\n",
      "[[[-6.39484979e-01 -3.67914439e-01 -8.65956109e-17]\n",
      "  [-6.39484979e-01 -3.65775401e-01  1.52510587e-02]\n",
      "  [-6.39484979e-01 -3.63636364e-01  3.05021173e-02]\n",
      "  ...\n",
      "  [-3.49785408e-01 -3.42245989e-01  3.10918223e-01]\n",
      "  [-3.56223176e-01 -3.42245989e-01  3.25129948e-01]\n",
      "  [-3.56223176e-01 -3.42245989e-01  3.39341672e-01]]\n",
      "\n",
      " [[-6.39484979e-01 -3.65775401e-01  1.52510587e-02]\n",
      "  [-6.39484979e-01 -3.63636364e-01  3.05021173e-02]\n",
      "  [-6.39484979e-01 -3.61497326e-01  4.57531760e-02]\n",
      "  ...\n",
      "  [-3.56223176e-01 -3.42245989e-01  3.25129948e-01]\n",
      "  [-3.56223176e-01 -3.42245989e-01  3.39341672e-01]\n",
      "  [-3.56223176e-01 -3.42245989e-01  3.53553397e-01]]\n",
      "\n",
      " [[-6.39484979e-01 -3.63636364e-01  3.05021173e-02]\n",
      "  [-6.39484979e-01 -3.61497326e-01  4.57531760e-02]\n",
      "  [-6.39484979e-01 -3.59358289e-01  6.10042347e-02]\n",
      "  ...\n",
      "  [-3.56223176e-01 -3.42245989e-01  3.39341672e-01]\n",
      "  [-3.56223176e-01 -3.42245989e-01  3.53553397e-01]\n",
      "  [-3.56223176e-01 -3.42245989e-01  3.65757280e-01]]\n",
      "\n",
      " ...\n",
      "\n",
      " [[ 1.41630901e-01  8.94117647e-01  1.22008469e-01]\n",
      "  [ 1.45922747e-01  9.68983957e-01  1.06757411e-01]\n",
      "  [ 1.58798283e-01  1.04385027e+00  9.15063520e-02]\n",
      "  ...\n",
      "  [ 1.33047210e-01  1.08556150e+00 -1.97224428e-01]\n",
      "  [ 1.20171674e-01  1.05026738e+00 -2.11436153e-01]\n",
      "  [ 1.20171674e-01  1.01497326e+00 -2.25647877e-01]]\n",
      "\n",
      " [[ 1.45922747e-01  9.68983957e-01  1.06757411e-01]\n",
      "  [ 1.58798283e-01  1.04385027e+00  9.15063520e-02]\n",
      "  [ 1.71673820e-01  1.11871658e+00  7.62552933e-02]\n",
      "  ...\n",
      "  [ 1.20171674e-01  1.05026738e+00 -2.11436153e-01]\n",
      "  [ 1.20171674e-01  1.01497326e+00 -2.25647877e-01]\n",
      "  [ 1.07296137e-01  9.79679144e-01 -2.39859602e-01]]\n",
      "\n",
      " [[ 1.58798283e-01  1.04385027e+00  9.15063520e-02]\n",
      "  [ 1.71673820e-01  1.11871658e+00  7.62552933e-02]\n",
      "  [ 1.80257511e-01  1.19358289e+00  6.10042347e-02]\n",
      "  ...\n",
      "  [ 1.20171674e-01  1.01497326e+00 -2.25647877e-01]\n",
      "  [ 1.07296137e-01  9.79679144e-01 -2.39859602e-01]\n",
      "  [ 1.07296137e-01  9.44385027e-01 -2.54071326e-01]]]\n"
     ]
    }
   ],
   "source": [
    "print(type(trainX), trainX.shape)\n",
    "print(trainX)"
   ]
  },
  {
   "cell_type": "markdown",
   "id": "ff6b9d01",
   "metadata": {},
   "source": [
    "## 2-4 Set Model Parameters & Train Parameters"
   ]
  },
  {
   "cell_type": "code",
   "execution_count": 14,
   "id": "3adac6a4",
   "metadata": {},
   "outputs": [
    {
     "name": "stdout",
     "output_type": "stream",
     "text": [
      "24 144\n"
     ]
    }
   ],
   "source": [
    "seq_len, input_size = trainX.shape[1], trainX.shape[2]\n",
    "print(input_size, seq_len)\n",
    "\n",
    "# RNN models (RNN, LSTM, GRU) parameters\n",
    "if model_method == 'LSTM_rg' or model_method == 'GRU_rg':\n",
    "    modelParameter = {\n",
    "        'rnn_type': 'lstm',\n",
    "        'input_size': input_size, \n",
    "        'hidden_size': 64,\n",
    "        'num_layers': 2,\n",
    "        'output_dim': 1, \n",
    "        'dropout': 0.1, \n",
    "        'bidirectional': True\n",
    "    }\n",
    "# CNN_1D model parameters\n",
    "elif model_method == 'CNN_1D_rg':\n",
    "    modelParameter = {\n",
    "    'input_size': input_size,\n",
    "    'seq_len': seq_len,\n",
    "    'output_channels': 64,\n",
    "    'kernel_size': 3,\n",
    "    'stride': 1,\n",
    "    'padding': 0, \n",
    "    'dropout': 0.1\n",
    "    }\n",
    "# LSTM_FCNs model parameters\n",
    "elif model_method == 'LSTM_FCNs_rg':\n",
    "    modelParameter = {\n",
    "    'input_size': input_size,\n",
    "    'num_layers': 2,\n",
    "    'lstm_dropout': 0.4,\n",
    "    'fc_dropout': 0.1\n",
    "    }\n",
    "# FC model parameters\n",
    "elif model_method == 'FC_rg':\n",
    "    modelParameter = {\n",
    "    'input_size': input_size,\n",
    "    'dropout': 0.1,\n",
    "    'bias': True\n",
    "    }\n",
    "\n",
    "trainParameter = {\n",
    "    'lr': 1e-4,\n",
    "    'weight_decay': 1e-6, \n",
    "    'device': 'cpu', \n",
    "    'n_epochs': 10, \n",
    "    'batch_size': 16\n",
    "}"
   ]
  },
  {
   "cell_type": "code",
   "execution_count": 15,
   "id": "19dee514",
   "metadata": {},
   "outputs": [
    {
     "name": "stdout",
     "output_type": "stream",
     "text": [
      "./Models/FC_rg/TestFC_rg/IntegraionTrainX/d531eec11664669cff1f6a3ad9639012/model.pkl\n"
     ]
    }
   ],
   "source": [
    "modelTags =[\"aaaaa\"]\n",
    "trainDataType = \"timeseries\"\n",
    "modelPurpose = \"regression\"\n",
    "\n",
    "# # 2\n",
    "trainDataInfo = DataMeta[dataName_X]['integrationInfo']\n",
    "\n",
    "# 3. 모델을 저장할 파일 패스를 생성한다.\n",
    "\n",
    "model_name = 'Test' + model_method\n",
    "from Clust.clust.transformation.general.dataScaler import encode_hash_style\n",
    "trainParameter_encode =  encode_hash_style(str(trainParameter))\n",
    "trainDataPathList = [model_name, dataName_X, trainParameter_encode]\n",
    "modelFilePath = ml_model.get_model_file_path(trainDataPathList, model_method)"
   ]
  },
  {
   "cell_type": "markdown",
   "id": "6a44195f",
   "metadata": {},
   "source": [
    "## 2-5 Training "
   ]
  },
  {
   "cell_type": "code",
   "execution_count": 16,
   "id": "f51aab4a",
   "metadata": {},
   "outputs": [
    {
     "name": "stdout",
     "output_type": "stream",
     "text": [
      "Start training model\n",
      "[1/10] Training loss: 0.3459\t Validation loss: 0.2635\n",
      "[2/10] Training loss: 0.3229\t Validation loss: 0.2576\n",
      "[3/10] Training loss: 0.3151\t Validation loss: 0.2518\n",
      "[4/10] Training loss: 0.3131\t Validation loss: 0.2461\n",
      "[5/10] Training loss: 0.2997\t Validation loss: 0.2404\n",
      "[6/10] Training loss: 0.2817\t Validation loss: 0.2348\n",
      "[7/10] Training loss: 0.3048\t Validation loss: 0.2292\n",
      "[8/10] Training loss: 0.2836\t Validation loss: 0.2237\n",
      "[9/10] Training loss: 0.2615\t Validation loss: 0.2182\n",
      "[10/10] Training loss: 0.2815\t Validation loss: 0.2128\n",
      "\n",
      "Training complete in 0m 0s\n"
     ]
    },
    {
     "name": "stderr",
     "output_type": "stream",
     "text": [
      "/Users/kim-youngkee/Documents/CLUSTER/.clust/lib/python3.9/site-packages/torch/nn/modules/loss.py:536: UserWarning: Using a target size (torch.Size([16, 144, 1])) that is different to the input size (torch.Size([16])). This will likely lead to incorrect results due to broadcasting. Please ensure they have the same size.\n",
      "  return F.mse_loss(input, target, reduction=self.reduction)\n"
     ]
    }
   ],
   "source": [
    "from Clust.clust.ML.regression_YK.train import RegressionTrain as RML\n",
    "\n",
    "rml = RML()\n",
    "rml.set_param(trainParameter)\n",
    "rml.set_model(model_method, modelParameter)\n",
    "rml.set_data(trainX, trainy, valX, valy)\n",
    "rml.train()\n",
    "rml.save_best_model(modelFilePath)"
   ]
  },
  {
   "cell_type": "markdown",
   "id": "2d36ad30",
   "metadata": {},
   "source": [
    "## 2-6 Save MetaData "
   ]
  },
  {
   "cell_type": "code",
   "execution_count": 17,
   "id": "d204cca2",
   "metadata": {},
   "outputs": [
    {
     "name": "stdout",
     "output_type": "stream",
     "text": [
      "========== Data Save Success ==========\n",
      "{'trainDataInfo': {'startTime': '2016-01-11', 'endTime': '2016-04-15', 'dataInfo': [['life_indoor_environment', 'humidityTrain_10min'], ['life_indoor_environment', 'temperatureTrain_10min'], ['weather_outdoor_environment', 'belgiumChieverseAirportTrain_10min']], 'processParam': {'refine_param': {'removeDuplication': {'flag': False}, 'staticFrequency': {'flag': False, 'frequency': None}}, 'outlier_param': {'certainErrorToNaN': {'flag': False}, 'unCertainErrorToNaN': {'flag': False, 'param': {}}}, 'imputation_param': {'flag': False, 'imputation_method': [], 'totalNonNanRatio': 80}}, 'integration_freq_sec': 600, 'cleanParam': 'NoClean', 'DataSaveMode': 'influx'}, 'modelName': 'TestFC_rg', 'featureList': ['RH_1', 'RH_2', 'RH_3', 'RH_4', 'RH_5', 'RH_6', 'RH_7', 'RH_8', 'RH_9', 'T1', 'T2', 'T3', 'T4', 'T5', 'T6', 'T7', 'T8', 'T9', 'Press_mm_hg', 'RH_out', 'T_out', 'Tdewpoint', 'Visibility', 'Windspeed'], 'target': ['value'], 'trainDataType': 'timeseries', 'modelPurpose': 'regression', 'model_method': 'FC_rg', 'modelTags': ['aaaaa'], 'cleanTrainDataParam': 'NoClean', 'NaNProcessingParam': {'feature_cycle': 'Day', 'feature_cycle_times': 1, 'NanInfoForCleanData': {'type': 'num', 'ConsecutiveNanLimit': 3, 'totalNaNLimit': 30000}}, 'trainDataName': ['IntegraionTrainX', 'IntegraionTrainy'], 'trainParameter': {'lr': 0.0001, 'weight_decay': 1e-06, 'device': 'cpu', 'n_epochs': 10, 'batch_size': 16}, 'modelParameter': {'input_size': 24, 'dropout': 0.1, 'bias': True}, 'transformParameter': {}, 'scalerParam': 'scale', 'files': {'modelFile': {'fileName': 'model.pth', 'filePath': './Models/FC_rg/TestFC_rg/IntegraionTrainX/d531eec11664669cff1f6a3ad9639012/model.pkl'}, 'XScalerFile': {'fileName': 'scaler.pkl', 'filePath': './scaler/IntegraionTrainX/NoClean/minmax/44e77c5a60a148deb89c5ef9a221a365/scaler.pkl'}, 'yScalerFile': {'fileName': 'scaler.pkl', 'filePath': './scaler/IntegraionTrainX/NoClean/minmax/f69156750a210491ffd4a67b605bc88b/scaler.pkl'}}, '_id': ObjectId('6439122438b748153111949d')}\n"
     ]
    }
   ],
   "source": [
    "from Clust.clust.ingestion.mongo.mongo_client import MongoClient\n",
    "from Clust.setting import influx_setting_KETI as ins\n",
    "mongo_client = MongoClient(ins.CLUSTMetaInfo2)\n",
    "\n",
    "# from Clust.clust.transformation.general.dataScaler import encode_hash_style\n",
    "# trainParameter_encode =  encode_hash_style(str(trainParameter))\n",
    "if mode_selection == 'regression':\n",
    "    modelInfoMeta ={\n",
    "        \"trainDataInfo\":trainDataInfo,\n",
    "        \"modelName\":model_name,\n",
    "        \"featureList\":featureListX,\n",
    "        \"target\": featureListy,\n",
    "        \"trainDataType\":trainDataType,\n",
    "        \"modelPurpose\":modelPurpose,\n",
    "        \"model_method\":model_method,\n",
    "        \"modelTags\":modelTags,\n",
    "        \"cleanTrainDataParam\":cleanTrainDataParam,\n",
    "        \"NaNProcessingParam\":NaNProcessingParam,\n",
    "        \"trainDataName\":[dataName_X, dataName_y],\n",
    "        \"trainParameter\": trainParameter,\n",
    "        \"modelParameter\": modelParameter,\n",
    "        \"transformParameter\":transformParameter,\n",
    "        \"NaNProcessingParam\":NaNProcessingParam,\n",
    "        \"scalerParam\":scalerParam,\n",
    "        \"files\":{\n",
    "            \"modelFile\":{\n",
    "                \"fileName\":\"model.pth\",\n",
    "                \"filePath\":modelFilePath\n",
    "            },\n",
    "            \"XScalerFile\":{\n",
    "                \"fileName\":\"scaler.pkl\",\n",
    "                \"filePath\":X_scalerFilePath       \n",
    "            },\n",
    "            \"yScalerFile\":{\n",
    "                \"fileName\":\"scaler.pkl\",\n",
    "                \"filePath\":y_scalerFilePath       \n",
    "            }\n",
    "        }\n",
    "    }\n",
    "\n",
    "elif mode_selection == 'forecast':\n",
    "    modelInfoMeta ={\n",
    "        \"trainDataInfo\":trainDataInfo,\n",
    "        \"modelName\":model_name,\n",
    "        \"featureList\":featureListX,\n",
    "        \"target\": featureListy,\n",
    "        \"trainDataType\":trainDataType,\n",
    "        \"modelPurpose\":modelPurpose,\n",
    "        \"model_method\":model_method,\n",
    "        \"modelTags\":modelTags,\n",
    "        \"cleanTrainDataParam\":cleanTrainDataParam,\n",
    "        \"NaNProcessingParam\":NaNProcessingParam,\n",
    "        \"trainDataName\":[dataName_X],\n",
    "        \"trainParameter\": trainParameter,\n",
    "        \"modelParameter\": modelParameter,\n",
    "        \"transformParameter\":transformParameter,\n",
    "        \"NaNProcessingParam\":NaNProcessingParam,\n",
    "        \"scalerParam\":scalerParam,\n",
    "        \"files\":{\n",
    "            \"modelFile\":{\n",
    "                \"fileName\":\"model.pth\",\n",
    "                \"filePath\":modelFilePath\n",
    "            },\n",
    "            \"XScalerFile\":{\n",
    "                \"fileName\":\"scaler.pkl\",\n",
    "                \"filePath\":X_scalerFilePath       \n",
    "            }\n",
    "        }\n",
    "    }\n",
    "\n",
    "modelInfoMeta = ml_meta.save_model_meta_data(mongo_client, modelInfoMeta)\n"
   ]
  },
  {
   "cell_type": "code",
   "execution_count": null,
   "id": "8331c9a0",
   "metadata": {},
   "outputs": [],
   "source": []
  }
 ],
 "metadata": {
  "kernelspec": {
   "display_name": "Python 3",
   "language": "python",
   "name": "python3"
  },
  "language_info": {
   "codemirror_mode": {
    "name": "ipython",
    "version": 3
   },
   "file_extension": ".py",
   "mimetype": "text/x-python",
   "name": "python",
   "nbconvert_exporter": "python",
   "pygments_lexer": "ipython3",
   "version": "3.8.8"
  },
  "vscode": {
   "interpreter": {
    "hash": "e92cea83a25a22cd774ff9f8132db57ccb94d86fd97b7fe80ee00c35daecdd05"
   }
  }
 },
 "nbformat": 4,
 "nbformat_minor": 5
}
