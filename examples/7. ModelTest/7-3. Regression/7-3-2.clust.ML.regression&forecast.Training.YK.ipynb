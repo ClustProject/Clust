{
 "cells": [
  {
   "cell_type": "code",
   "execution_count": 1,
   "id": "95790ab5",
   "metadata": {},
   "outputs": [
    {
     "name": "stderr",
     "output_type": "stream",
     "text": [
      "/Users/kim-youngkee/Documents/CLUSTER/.clust/lib/python3.9/site-packages/tqdm/auto.py:22: TqdmWarning: IProgress not found. Please update jupyter and ipywidgets. See https://ipywidgets.readthedocs.io/en/stable/user_install.html\n",
      "  from .autonotebook import tqdm as notebook_tqdm\n"
     ]
    },
    {
     "name": "stdout",
     "output_type": "stream",
     "text": [
      "cpu is available.\n"
     ]
    }
   ],
   "source": [
    "import sys, os\n",
    "import pandas as pd\n",
    "import setting\n",
    "\n",
    "import sys, os\n",
    "import pandas as pd\n",
    "import setting\n",
    "import pathSetting\n",
    "sys.path.append(\"../../..\")\n",
    "\n",
    "from Clust.clust.ML.common.common import p1_integratedDataSaving as p1\n",
    "from Clust.clust.ML.tool import data as ml_data\n",
    "from Clust.clust.ML.tool import model as ml_model\n",
    "from Clust.clust.ML.tool import clean as ml_clean\n",
    "\n",
    "import torch\n",
    "\n",
    "#import main_regression as mr\n",
    "device = \"cuda\" if torch.cuda.is_available() else \"cpu\"\n",
    "print(f\"{device}\" \" is available.\")"
   ]
  },
  {
   "cell_type": "markdown",
   "id": "0fcf28a6",
   "metadata": {},
   "source": [
    "# 2. Training \n",
    "\n",
    "## 2-1. Data selection"
   ]
  },
  {
   "cell_type": "code",
   "execution_count": 2,
   "id": "7a0b7a99",
   "metadata": {},
   "outputs": [],
   "source": [
    "# dataRoot = 'ml_data_integration'\n",
    "\n",
    "# 1 (p2부분 1. Data Selection)\n",
    "DataMeta = p1.read_json_data(pathSetting.DataMetaPath)\n",
    "dataList =  list(DataMeta.keys())"
   ]
  },
  {
   "cell_type": "code",
   "execution_count": 3,
   "id": "e243011f",
   "metadata": {
    "scrolled": true
   },
   "outputs": [
    {
     "data": {
      "text/plain": [
       "['IntegraionTrainX', 'IntegraionTrainy', 'IntegraionTestX', 'IntegraionTesty']"
      ]
     },
     "execution_count": 3,
     "metadata": {},
     "output_type": "execute_result"
    }
   ],
   "source": [
    "dataList"
   ]
  },
  {
   "cell_type": "code",
   "execution_count": 4,
   "id": "bcec8e5c",
   "metadata": {
    "scrolled": true
   },
   "outputs": [],
   "source": [
    "# for regression data\n",
    "#2\n",
    "# dataX\n",
    "dataName_X = dataList[0]\n",
    "dataSaveMode_X = DataMeta[dataName_X][\"integrationInfo\"][\"DataSaveMode\"]\n",
    "\n",
    "# datay\n",
    "dataName_y = dataList[1]\n",
    "dataSaveMode_y = DataMeta[dataName_y][\"integrationInfo\"][\"DataSaveMode\"]\n",
    "\n",
    "#3\n",
    "dataFolderName = \"data_integrated_result\"\n",
    "current = os.getcwd()\n",
    "dataFolderPath = os.path.join(current, dataFolderName)\n",
    "dataX = ml_data.get_saved_integrated_data(dataSaveMode_X, dataName_X, dataFolderPath)\n",
    "datay = ml_data.get_saved_integrated_data(dataSaveMode_y, dataName_y, dataFolderPath)\n",
    "integration_freq_sec = DataMeta[dataName_X][\"integrationInfo\"][\"integration_freq_sec\"]"
   ]
  },
  {
   "cell_type": "code",
   "execution_count": 5,
   "id": "593c5801",
   "metadata": {},
   "outputs": [],
   "source": [
    "# # for forecast data test\n",
    "# cleanParamList = ['Clean', 'NoClean']\n",
    "# cleanMode = cleanParamList[1]\n",
    "\n",
    "# datasetNameList = ['Hs1SwineFarmWithWeatherTime', 'gunwiStrawberryWithWeatherTime', 'strawberryOpenTime']\n",
    "# datasetName = datasetNameList[0]\n",
    "\n",
    "# dataName_X = 'train' + cleanMode + '_' + datasetName\n",
    "# print(dataName_X)\n",
    "# dataSaveMode_X = DataMeta[dataName_X]['integrationInfo']['DataSaveMode']\n",
    "\n",
    "# dataX = ml_data.get_saved_integrated_data(dataSaveMode_X, dataName_X, pathSetting.dataFolderPath)\n",
    "# integration_freq_sec = DataMeta[dataName_X]['integrationInfo']['integration_freq_sec']"
   ]
  },
  {
   "cell_type": "markdown",
   "id": "d6e052db",
   "metadata": {},
   "source": [
    "## 2-2. Training Data Preparation"
   ]
  },
  {
   "cell_type": "code",
   "execution_count": 6,
   "id": "11b755d3",
   "metadata": {
    "scrolled": false
   },
   "outputs": [
    {
     "name": "stdout",
     "output_type": "stream",
     "text": [
      "['RH_1', 'RH_2', 'RH_3', 'RH_4', 'RH_5', 'RH_6', 'RH_7', 'RH_8', 'RH_9', 'T1', 'T2', 'T3', 'T4', 'T5', 'T6', 'T7', 'T8', 'T9', 'Press_mm_hg', 'RH_out', 'T_out', 'Tdewpoint', 'Visibility', 'Windspeed']\n",
      "Make New scaler File\n",
      "['value']\n",
      "Make New scaler File\n"
     ]
    }
   ],
   "source": [
    "# for regression\n",
    "# 2 Training Data Preparation\n",
    "# 2-1\n",
    "featureListX= list(dataX.columns)\n",
    "featureListy= list(datay.columns)\n",
    "\n",
    "# 2-2\n",
    "cleanTrainDataParam = 'NoClean'#  Classification, Regression과 같이 X, y가 분리된 경우에는 현재 고정해서 사용해야함\n",
    "\n",
    "# 2-2-1 cleanTrainDataParam == Clean 일 경우\n",
    "NaNProcessingParam ={\n",
    "    \"feature_cycle\":'Day',\n",
    "    \"feature_cycle_times\":1,\n",
    "    \"NanInfoForCleanData\":{'type':'num', 'ConsecutiveNanLimit':3, 'totalNaNLimit':30000}\n",
    "}\n",
    "# 2-3\n",
    "scalerParam='scale'\n",
    "scaleMethod='minmax'\n",
    "\n",
    "# 2-4\n",
    "splitRatio = 0.8\n",
    "\n",
    "# 2-5\n",
    "scalerRootPath_X = os.path.join(pathSetting.scalerRootDir, dataName_X, cleanTrainDataParam)\n",
    "scalerRootPath_y = os.path.join(pathSetting.scalerRootDir, dataName_X, cleanTrainDataParam)\n",
    "train_x, val_x, X_scalerFilePath = ml_data.get_train_val_data(dataX, featureListX, scalerRootPath_X, splitRatio, scalerParam, scaleMethod)\n",
    "train_y, val_y, y_scalerFilePath = ml_data.get_train_val_data(datay, featureListy, scalerRootPath_y, splitRatio, scalerParam, scaleMethod)"
   ]
  },
  {
   "cell_type": "code",
   "execution_count": 7,
   "id": "457e2bf5",
   "metadata": {},
   "outputs": [],
   "source": [
    "# # for forecast\n",
    "# # 2-1\n",
    "# featureListX = ['Temperature', 'out_temp','sin_hour']\n",
    "# target_col = 'Temperature'\n",
    "\n",
    "# # 2-2\n",
    "# cleanTrainDataParam = cleanMode\n",
    "\n",
    "# # 2-2-1 cleanMode == Clean 일 때만 활성화\n",
    "# NaNProcessingParam ={\n",
    "#     \"feature_cycle\":'Day',\n",
    "#     \"feature_cycle_times\":1,\n",
    "#     \"NanInfoForCleanData\":{'type':'num', 'ConsecutiveNanLimit':3, 'totalNaNLimit':30000}\n",
    "# }\n",
    "\n",
    "# # 2-3\n",
    "# scalerParam='scale'\n",
    "# scaleMethod ='robust'\n",
    "\n",
    "# # 2-4\n",
    "# splitRatio = 0.8\n",
    "\n",
    "# # 2-5\n",
    "# scalerRootPath_X = os.path.join(pathSetting.scalerRootDir, dataName_X, cleanMode)\n",
    "# train_x, val_x, X_scalerFilePath = ml_data.get_train_val_data(dataX, featureListX, scalerRootPath_X, splitRatio, scalerParam, scaleMethod)\n",
    "# train_x, val_x = ml_clean.delete_low_quality_train_val_data(train_x, val_x, cleanMode, NaNProcessingParam)"
   ]
  },
  {
   "cell_type": "code",
   "execution_count": 8,
   "id": "77429916",
   "metadata": {},
   "outputs": [
    {
     "name": "stderr",
     "output_type": "stream",
     "text": [
      "/Users/kim-youngkee/Documents/CLUSTER/Clust/examples/7. ModelTest/7-3. Regression/../../../../Clust/clust/transformation/type/DFToNPArray.py:38: FutureWarning: Indexing a timezone-aware DatetimeIndex with a timezone-naive datetime is deprecated and will raise KeyError in a future version. Use a timezone-aware object instead.\n",
      "  dfX_partial = dfX[startDate:endDate]\n",
      "/Users/kim-youngkee/Documents/CLUSTER/Clust/examples/7. ModelTest/7-3. Regression/../../../../Clust/clust/transformation/type/DFToNPArray.py:39: FutureWarning: Indexing a timezone-aware DatetimeIndex with a timezone-naive datetime is deprecated and will raise KeyError in a future version. Use a timezone-aware object instead.\n",
      "  dfy_partial = dfy[startDate:endDate]\n",
      "/Users/kim-youngkee/Documents/CLUSTER/Clust/examples/7. ModelTest/7-3. Regression/../../../../Clust/clust/transformation/type/DFToNPArray.py:38: FutureWarning: Indexing a timezone-aware DatetimeIndex with a timezone-naive datetime is deprecated and will raise KeyError in a future version. Use a timezone-aware object instead.\n",
      "  dfX_partial = dfX[startDate:endDate]\n",
      "/Users/kim-youngkee/Documents/CLUSTER/Clust/examples/7. ModelTest/7-3. Regression/../../../../Clust/clust/transformation/type/DFToNPArray.py:39: FutureWarning: Indexing a timezone-aware DatetimeIndex with a timezone-naive datetime is deprecated and will raise KeyError in a future version. Use a timezone-aware object instead.\n",
      "  dfy_partial = dfy[startDate:endDate]\n"
     ]
    }
   ],
   "source": [
    "# Transform\n",
    "\n",
    "# optional? forecasting?\n",
    "# transformParameter = {\n",
    "#     'future_step': 2,\n",
    "#     'past_step': 24,\n",
    "#     'feature_col': featureListX,\n",
    "#     'target_col': target_col,\n",
    "#     'clean_param': cleanTrainDataParam\n",
    "# }\n",
    "\n",
    "# regression\n",
    "from Clust.clust.transformation.type.DFToNPArray import transDFtoNP, trans_df_to_np, trans_df_to_np_inf\n",
    "\n",
    "trainX, trainy = transDFtoNP(train_x, train_y)\n",
    "valX, valy = transDFtoNP(val_x, val_y)\n",
    "\n",
    "# forecast\n",
    "# from Clust.clust.transformation.purpose.machineLearning import LSTMData\n",
    "\n",
    "# LSTMD = LSTMData()\n",
    "# trainX_arr, trainy_arr = LSTMD.transform_Xy_arr(train_x, transformParameter, transformParameter['clean_param'])\n",
    "# valX_arr, valy_arr = LSTMD.transform_Xy_arr(val_x, transformParameter, transformParameter['clean_param'])"
   ]
  },
  {
   "cell_type": "markdown",
   "id": "ff6b9d01",
   "metadata": {},
   "source": [
    "## 2-3 Training "
   ]
  },
  {
   "cell_type": "code",
   "execution_count": 9,
   "id": "1f8d6236",
   "metadata": {
    "scrolled": true
   },
   "outputs": [],
   "source": [
    "# # 3-1.\n",
    "# model_list = [\"LSTM_rg\",\"CNN_1D_rg\",\"GRU_rg\", \"LSTM_FCNs_rg\"]\n",
    "# model_method = model_list[2]\n",
    "\n",
    "# #import main_regression as mr\n",
    "\n",
    "# n_epochs = 10 # 학습 epoch 횟수, int(default: 1000, 범위: 1 이상)\n",
    "# batch_size = 16  # batch 크기, int(default: 16, 범위: 1 이상, 컴퓨터 사양에 적합하게 설정)\n",
    "\n",
    "# trainParameter = setting.modelTestconfig[model_method]\n",
    "# trainParameter['device']  = device\n",
    "# trainParameter['n_epochs'] = n_epochs\n",
    "# trainParameter['batch_size'] = batch_size\n",
    "\n",
    "# trainParameter['input_size'] = input_size\n",
    "# trainParameter['seq_len'] = seq_len\n",
    "\n",
    "# modelTags =[\"aaaaa\"]\n",
    "# trainDataType = \"timeseries\"\n",
    "# modelPurpose = \"regression\"\n",
    "\n",
    "# # 2\n",
    "# trainDataInfo = DataMeta[dataName_X]['integrationInfo']\n",
    "\n",
    "# # 3. 모델을 저장할 파일 패스를 생성한다.\n",
    "\n",
    "# model_name = 'EnergyLSTMRegression'\n",
    "# from Clust.clust.transformation.general.dataScaler import encode_hash_style\n",
    "# trainParameter_encode =  encode_hash_style(str(trainParameter))\n",
    "# # trainDataPathList = [\"CLUST\",\"Electronics\", dataName_X, trainParameter_encode]\n",
    "# trainDataPathList = [model_name, dataName_X, trainParameter_encode]\n",
    "# modelFilePath = ml_model.get_model_file_path(trainDataPathList, model_method)"
   ]
  },
  {
   "cell_type": "code",
   "execution_count": 10,
   "id": "3adac6a4",
   "metadata": {},
   "outputs": [
    {
     "name": "stdout",
     "output_type": "stream",
     "text": [
      "24 144\n"
     ]
    }
   ],
   "source": [
    "input_size, seq_len = trainX.shape[1], trainX.shape[2]\n",
    "print(input_size, seq_len)\n",
    "\n",
    "# RNN model parameters\n",
    "modelParameter = {\n",
    "    'rnn_type': 'gru',\n",
    "    'input_size': input_size, \n",
    "    'hidden_size': 64,\n",
    "    'num_layers': 2,\n",
    "    'output_dim': 1, \n",
    "    'dropout': 0.1, \n",
    "    'bidirectional': True\n",
    "}\n",
    "\n",
    "# CNN_1D model parameters\n",
    "# modelParameter = {\n",
    "#     'input_size': input_size,\n",
    "#     'seq_len': seq_len,\n",
    "#     'output_channels': 64,\n",
    "#     'kernel_size': 3,\n",
    "#     'stride': 1,\n",
    "#     'padding': 0, \n",
    "#     'dropout': 0.1\n",
    "# }\n",
    "\n",
    "# LSTM_FCNs model parameters\n",
    "# modelParameter = {\n",
    "#     'input_size': input_size,\n",
    "#     'num_layers': 2,\n",
    "#     'lstm_dropout': 0.4,\n",
    "#     'fc_dropout': 0.1\n",
    "# }\n",
    "\n",
    "# FC model parameters\n",
    "# modelParameter = {\n",
    "#     'input_size': input_size,\n",
    "#     'dropout': 0.1,\n",
    "#     'bias': True\n",
    "# }\n",
    "\n",
    "trainParameter = {\n",
    "    'lr': 1e-4,\n",
    "    'weight_decay': 1e-6, \n",
    "    'device': 'cpu', \n",
    "    'n_epochs': 10, \n",
    "    'batch_size': 16\n",
    "}\n",
    "\n",
    "#cleanParameter = 'NoClean'\n",
    "model_method = 'GRU'"
   ]
  },
  {
   "cell_type": "code",
   "execution_count": 11,
   "id": "f51aab4a",
   "metadata": {},
   "outputs": [
    {
     "name": "stdout",
     "output_type": "stream",
     "text": [
      "Start training model\n"
     ]
    },
    {
     "name": "stderr",
     "output_type": "stream",
     "text": [
      "/Users/kim-youngkee/Documents/CLUSTER/.clust/lib/python3.9/site-packages/torch/nn/modules/loss.py:536: UserWarning: Using a target size (torch.Size([16, 1])) that is different to the input size (torch.Size([16])). This will likely lead to incorrect results due to broadcasting. Please ensure they have the same size.\n",
      "  return F.mse_loss(input, target, reduction=self.reduction)\n"
     ]
    },
    {
     "name": "stdout",
     "output_type": "stream",
     "text": [
      "[1/10] Training loss: 0.2381\t Validation loss: 0.1784\n",
      "[2/10] Training loss: 0.2212\t Validation loss: 0.1488\n",
      "[3/10] Training loss: 0.1743\t Validation loss: 0.1234\n",
      "[4/10] Training loss: 0.1221\t Validation loss: 0.1022\n",
      "[5/10] Training loss: 0.1289\t Validation loss: 0.0846\n",
      "[6/10] Training loss: 0.1035\t Validation loss: 0.0706\n",
      "[7/10] Training loss: 0.0837\t Validation loss: 0.0598\n",
      "[8/10] Training loss: 0.0776\t Validation loss: 0.0523\n",
      "[9/10] Training loss: 0.0597\t Validation loss: 0.0475\n",
      "[10/10] Training loss: 0.0567\t Validation loss: 0.0450\n",
      "\n",
      "Training complete in 0m 11s\n"
     ]
    }
   ],
   "source": [
    "# 4. Training\n",
    "from Clust.clust.ML.regression_YK.train import RegressionTrain as RML\n",
    "rml = RML()\n",
    "rml.set_param(trainParameter)\n",
    "rml.set_model(model_method, modelParameter)\n",
    "rml.set_data(trainX, trainy, valX, valy)\n",
    "rml.train()\n",
    "rml.save_best_model(\"./yk_GRU_test.pkl\")"
   ]
  },
  {
   "cell_type": "code",
   "execution_count": null,
   "id": "d204cca2",
   "metadata": {},
   "outputs": [],
   "source": [
    "# TODO: update meta file\n",
    "from Clust.clust.ingestion.mongo.mongo_client import MongoClient\n",
    "from Clust.setting import influx_setting_KETI as ins\n",
    "mongo_client = MongoClient(ins.CLUSTMetaInfo2)\n",
    "\n",
    "# 5. update MetaFile\n",
    "from Clust.clust.transformation.general.dataScaler import encode_hash_style\n",
    "trainParameter_encode =  encode_hash_style(str(trainParameter))\n",
    "modelInfoMeta ={\n",
    "    \"trainDataInfo\":trainDataInfo,\n",
    "    \"modelName\":ModelName,\n",
    "    \"featureList\":transformParameter[\"feature_col\"],\n",
    "    \"trainDataType\":trainDataType,\n",
    "    \"modelPurpose\":modelPurpose,\n",
    "    \"model_method\":model_method,\n",
    "    \"modelTags\":modelTags,\n",
    "    \"cleanTrainDataParam\":cleanMode,\n",
    "    \"NaNProcessingParam\":NaNProcessingParam,\n",
    "    \"trainDataName\":datasetName,\n",
    "    \"transformParameter\":transformParameter,\n",
    "    \"NaNProcessingParam\":NaNProcessingParam,\n",
    "    \"scalerParam\":scalerParam,\n",
    "    \"files\":{\n",
    "        \"modelFile\":{\n",
    "            \"fileName\":\"model.pth\",\n",
    "            \"filePath\":modelFilePath\n",
    "        },\n",
    "        \"scalerFile\":{\n",
    "            \"fileName\":\"scaler.pkl\",\n",
    "            \"filePath\":scalerFilePath       \n",
    "        }\n",
    "    },\n",
    "    \"trainParameter\":trainParameter\n",
    "\n",
    "}\n",
    "# modelInfoMeta1 = p3.updateModelMetaData(ModelName, modelInfoMeta, pathSetting.trainModelMetaFilePath)\n",
    "\n",
    "modelInfoMeta2 = meta.save_model_meta_data(mongo_client, modelInfoMeta)\n"
   ]
  }
 ],
 "metadata": {
  "kernelspec": {
   "display_name": "Python 3",
   "language": "python",
   "name": "python3"
  },
  "language_info": {
   "codemirror_mode": {
    "name": "ipython",
    "version": 3
   },
   "file_extension": ".py",
   "mimetype": "text/x-python",
   "name": "python",
   "nbconvert_exporter": "python",
   "pygments_lexer": "ipython3",
   "version": "3.9.6"
  },
  "vscode": {
   "interpreter": {
    "hash": "e92cea83a25a22cd774ff9f8132db57ccb94d86fd97b7fe80ee00c35daecdd05"
   }
  }
 },
 "nbformat": 4,
 "nbformat_minor": 5
}
