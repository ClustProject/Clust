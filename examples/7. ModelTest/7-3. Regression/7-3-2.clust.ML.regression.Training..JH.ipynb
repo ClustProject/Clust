{
 "cells": [
  {
   "cell_type": "code",
   "execution_count": 1,
   "id": "95790ab5",
   "metadata": {},
   "outputs": [
    {
     "name": "stdout",
     "output_type": "stream",
     "text": [
      "cpu is available.\n"
     ]
    }
   ],
   "source": [
    "import sys, os\n",
    "import pandas as pd\n",
    "import setting\n",
    "\n",
    "import sys, os\n",
    "import pandas as pd\n",
    "import setting\n",
    "import pathSetting\n",
    "sys.path.append(\"../../..\")\n",
    "\n",
    "from Clust.clust.ML.common.common import p1_integratedDataSaving as p1\n",
    "from Clust.clust.ML.common.common import p2_dataSelection as p2\n",
    "from Clust.clust.ML.common.common import p3_training as p3\n",
    "from Clust.clust.ML.common import model_manager\n",
    "\n",
    "import torch\n",
    "\n",
    "#import main_regression as mr\n",
    "device = \"cuda\" if torch.cuda.is_available() else \"cpu\"\n",
    "print(f\"{device}\" \" is available.\")"
   ]
  },
  {
   "cell_type": "markdown",
   "id": "0fcf28a6",
   "metadata": {},
   "source": [
    "# 2. Training \n",
    "\n",
    "## 2-1. Data selection"
   ]
  },
  {
   "cell_type": "code",
   "execution_count": 2,
   "id": "7a0b7a99",
   "metadata": {},
   "outputs": [],
   "source": [
    "dataRoot = 'ml_data_integration'\n",
    "# 1 (p2부분 1. Data Selection)\n",
    "DataMeta = p1.read_json_data(pathSetting.DataMetaPath)\n",
    "dataList =  list(DataMeta.keys())"
   ]
  },
  {
   "cell_type": "code",
   "execution_count": 3,
   "id": "e243011f",
   "metadata": {
    "scrolled": true
   },
   "outputs": [
    {
     "data": {
      "text/plain": [
       "['IntegraionTrainX', 'IntegraionTrainy', 'IntegraionTestX', 'IntegraionTesty']"
      ]
     },
     "execution_count": 3,
     "metadata": {},
     "output_type": "execute_result"
    }
   ],
   "source": [
    "dataList"
   ]
  },
  {
   "cell_type": "code",
   "execution_count": 4,
   "id": "bcec8e5c",
   "metadata": {
    "scrolled": true
   },
   "outputs": [],
   "source": [
    "#2\n",
    "# dataX\n",
    "dataName_X = dataList[0]\n",
    "dataSaveMode_X = DataMeta[dataName_X][\"integrationInfo\"][\"DataSaveMode\"]\n",
    "\n",
    "# datay\n",
    "dataName_y = dataList[1]\n",
    "dataSaveMode_y = DataMeta[dataName_y][\"integrationInfo\"][\"DataSaveMode\"]\n",
    "\n",
    "#3\n",
    "dataFolderName = \"data_integrated_result\"\n",
    "current = os.getcwd()\n",
    "dataFolderPath = os.path.join(current, dataFolderName)\n",
    "dataX = p2.get_saved_integrated_data(dataSaveMode_X, dataName_X, dataFolderPath)\n",
    "datay = p2.get_saved_integrated_data(dataSaveMode_y, dataName_y, dataFolderPath)\n",
    "integration_freq_sec = DataMeta[dataName_X][\"integrationInfo\"][\"integration_freq_sec\"]"
   ]
  },
  {
   "cell_type": "markdown",
   "id": "d6e052db",
   "metadata": {},
   "source": [
    "## 2-2. Training Data Preparation"
   ]
  },
  {
   "cell_type": "code",
   "execution_count": 5,
   "id": "11b755d3",
   "metadata": {
    "scrolled": false
   },
   "outputs": [
    {
     "name": "stdout",
     "output_type": "stream",
     "text": [
      "['RH_1', 'RH_2', 'RH_3', 'RH_4', 'RH_5', 'RH_6', 'RH_7', 'RH_8', 'RH_9', 'T1', 'T2', 'T3', 'T4', 'T5', 'T6', 'T7', 'T8', 'T9', 'Press_mm_hg', 'RH_out', 'T_out', 'Tdewpoint', 'Visibility', 'Windspeed']\n",
      "Make New scaler File\n",
      "['value']\n",
      "Make New scaler File\n"
     ]
    }
   ],
   "source": [
    "# 2 Training Data Preparation\n",
    "# 2-1\n",
    "featureListX= list(dataX.columns)\n",
    "featureListy= list(datay.columns)\n",
    "\n",
    "# 2-2\n",
    "cleanTrainDataParam = 'NoClean'#  Classification, Regression과 같이 X, y가 분리된 경우에는 현재 고정해서 사용해야함\n",
    "\n",
    "# 2-2-1 cleanTrainDataParam == Clean 일 경우\n",
    "NaNProcessingParam ={\n",
    "    \"feature_cycle\":'Day',\n",
    "    \"feature_cycle_times\":1,\n",
    "    \"NanInfoForCleanData\":{'type':'num', 'ConsecutiveNanLimit':3, 'totalNaNLimit':30000}\n",
    "}\n",
    "# 2-3\n",
    "scalerParam='scale'\n",
    "scaleMethod='minmax'\n",
    "\n",
    "# 2-4\n",
    "splitRatio = 0.8\n",
    "\n",
    "# 2-5\n",
    "scalerRootPath_X = os.path.join(pathSetting.scalerRootDir, dataName_X, cleanTrainDataParam)\n",
    "scalerRootPath_y = os.path.join(pathSetting.scalerRootDir, dataName_X, cleanTrainDataParam)\n",
    "train_x, val_x, X_scalerFilePath = p3.get_train_val_data(dataX, featureListX, scalerRootPath_X, splitRatio, scalerParam, scaleMethod)\n",
    "train_y, val_y, y_scalerFilePath = p3.get_train_val_data(datay, featureListy, scalerRootPath_y, splitRatio, scalerParam, scaleMethod)"
   ]
  },
  {
   "cell_type": "markdown",
   "id": "ff6b9d01",
   "metadata": {},
   "source": [
    "## 2-3 Training "
   ]
  },
  {
   "cell_type": "code",
   "execution_count": 6,
   "id": "1f8d6236",
   "metadata": {
    "scrolled": true
   },
   "outputs": [
    {
     "name": "stdout",
     "output_type": "stream",
     "text": [
      "./Models/LSTM_rg/EnergyLSTMRegression/IntegraionTrainX/618f2ca7c380b25efe12bee2a2ab1869/model.pkl\n",
      "{'num_layers': 2, 'hidden_size': 64, 'dropout': 0.1, 'bidirectional': True, 'lr': 0.0001, 'device': 'cpu', 'n_epochs': 10, 'batch_size': 16}\n",
      "Start training model\n",
      "\n",
      "Epoch 1/10\n"
     ]
    },
    {
     "name": "stderr",
     "output_type": "stream",
     "text": [
      "../../../Clust/clust/transformation/type/DFToNPArray.py:38: FutureWarning: Indexing a timezone-aware DatetimeIndex with a timezone-naive datetime is deprecated and will raise KeyError in a future version. Use a timezone-aware object instead.\n",
      "  dfX_partial = dfX[startDate:endDate]\n",
      "../../../Clust/clust/transformation/type/DFToNPArray.py:39: FutureWarning: Indexing a timezone-aware DatetimeIndex with a timezone-naive datetime is deprecated and will raise KeyError in a future version. Use a timezone-aware object instead.\n",
      "  dfy_partial = dfy[startDate:endDate]\n",
      "../../../Clust/clust/transformation/type/DFToNPArray.py:38: FutureWarning: Indexing a timezone-aware DatetimeIndex with a timezone-naive datetime is deprecated and will raise KeyError in a future version. Use a timezone-aware object instead.\n",
      "  dfX_partial = dfX[startDate:endDate]\n",
      "../../../Clust/clust/transformation/type/DFToNPArray.py:39: FutureWarning: Indexing a timezone-aware DatetimeIndex with a timezone-naive datetime is deprecated and will raise KeyError in a future version. Use a timezone-aware object instead.\n",
      "  dfy_partial = dfy[startDate:endDate]\n"
     ]
    },
    {
     "name": "stdout",
     "output_type": "stream",
     "text": [
      "train Loss: 0.2104\n",
      "val Loss: 0.1532\n",
      "\n",
      "Epoch 10/10\n",
      "train Loss: 0.0747\n",
      "val Loss: 0.0405\n",
      "\n",
      "Training complete in 0m 6s\n",
      "Best val MSE: 0.040545\n"
     ]
    }
   ],
   "source": [
    "# 3-1.\n",
    "model_list = [\"LSTM_rg\",\"CNN_1D_rg\",\"GRU_rg\", \"LSTM_FCNs_rg\"]\n",
    "model_method = model_list[0]\n",
    "\n",
    "#import main_regression as mr\n",
    "\n",
    "n_epochs = 10 # 학습 epoch 횟수, int(default: 1000, 범위: 1 이상)\n",
    "batch_size = 16  # batch 크기, int(default: 16, 범위: 1 이상, 컴퓨터 사양에 적합하게 설정)\n",
    "\n",
    "trainParameter = setting.modelTestconfig[model_method]\n",
    "trainParameter['device']  = device\n",
    "trainParameter['n_epochs'] = n_epochs\n",
    "trainParameter['batch_size'] = batch_size\n",
    "\n",
    "modelTags =[\"aaaaa\"]\n",
    "trainDataType = \"timeseries\"\n",
    "modelPurpose = \"regression\"\n",
    "\n",
    "# 2\n",
    "trainDataInfo = DataMeta[dataName_X]['integrationInfo']\n",
    "\n",
    "# param = {\n",
    "#     \"clean_param\":cleanMode,\n",
    "#     \"transform_parameter\":transformParameter,\n",
    "#     \"batch_size\":batch_size,\n",
    "#     \"model_parameter\":trainParameter,\n",
    "#     \"n_epochs\":n_epochs,\n",
    "#     \"n_epochs\":n_epochs\n",
    "# }\n",
    "\n",
    "# 3. 모델을 저장할 파일 패스를 생성한다.\n",
    "\n",
    "model_name = 'EnergyLSTMRegression'\n",
    "from Clust.clust.transformation.general.dataScaler import encode_hash_style\n",
    "trainParameter_encode =  encode_hash_style(str(trainParameter))\n",
    "# trainDataPathList = [\"CLUST\",\"Electronics\", dataName_X, trainParameter_encode]\n",
    "trainDataPathList = [model_name, dataName_X, trainParameter_encode]\n",
    "modelFilePath = model_manager.get_model_file_path(trainDataPathList, model_method)\n",
    "\n",
    "# 4. Training\n",
    "from Clust.clust.ML.regression.train import RegressionML as RML\n",
    "rml = RML()\n",
    "rml.set_param(trainParameter)\n",
    "rml.set_data(train_x, train_y, val_x, val_y)\n",
    "rml.set_model(model_method)\n",
    "model = rml.train()"
   ]
  },
  {
   "cell_type": "code",
   "execution_count": null,
   "id": "d442f39b",
   "metadata": {},
   "outputs": [],
   "source": [
    "from Clust.clust.ML.tool import model as model_manager\n",
    "model_manager.save_pickle_model(model)"
   ]
  },
  {
   "cell_type": "code",
   "execution_count": 7,
   "id": "922dcca2",
   "metadata": {},
   "outputs": [],
   "source": [
    "from Clust.clust.ingestion.mongo import mongoClient as mongo_client\n",
    "from Clust.setting import influx_setting_KETI as ins\n",
    "\n",
    "mongo_client = mongo_client.mongoClient(ins.CLUSTMetaInfo2)"
   ]
  },
  {
   "cell_type": "code",
   "execution_count": 8,
   "id": "8bca73fb",
   "metadata": {},
   "outputs": [
    {
     "name": "stdout",
     "output_type": "stream",
     "text": [
      "Success\n",
      "{'author': 'KETI', 'modelName': 'EnergyLSTMRegression', 'modelVersion': 0.1, 'trainDataInfo': {'startTime': '2016-01-11', 'endTime': '2016-04-15', 'dataInfo': [['life_indoor_environment', 'humidityTrain_10min'], ['life_indoor_environment', 'temperatureTrain_10min'], ['weather_outdoor_environment', 'belgiumChieverseAirportTrain_10min']], 'processParam': {'refine_param': {'removeDuplication': {'flag': False}, 'staticFrequency': {'flag': False, 'frequency': None}}, 'outlier_param': {'certainErrorToNaN': {'flag': False}, 'unCertainErrorToNaN': {'flag': False, 'param': {}}}, 'imputation_param': {'flag': False, 'imputation_method': [], 'totalNonNanRatio': 80}}, 'integration_freq_sec': 600, 'cleanParam': 'NoClean', 'DataSaveMode': 'CSV'}, 'featureList': ['RH_1', 'RH_2', 'RH_3', 'RH_4', 'RH_5', 'RH_6', 'RH_7', 'RH_8', 'RH_9', 'T1', 'T2', 'T3', 'T4', 'T5', 'T6', 'T7', 'T8', 'T9', 'Press_mm_hg', 'RH_out', 'T_out', 'Tdewpoint', 'Visibility', 'Windspeed'], 'target': ['value'], 'trainDataType': 'timeseries', 'modelPurpose': 'regression', 'model_method': 'LSTM_rg', 'modelTags': ['aaaaa'], 'cleanTrainDataParam': 'NoClean', 'NaNProcessingParam': {'feature_cycle': 'Day', 'feature_cycle_times': 1, 'NanInfoForCleanData': {'type': 'num', 'ConsecutiveNanLimit': 3, 'totalNaNLimit': 30000}}, 'trainDataName': ['IntegraionTrainX', 'IntegraionTrainy'], 'trainParameter': {'num_layers': 2, 'hidden_size': 64, 'dropout': 0.1, 'bidirectional': True, 'lr': 0.0001, 'device': 'cpu', 'n_epochs': 10, 'batch_size': 16, 'input_size': 24, 'seq_len': 144}, 'scalerParam': 'scale', 'files': {'modelFile': {'fileName': 'model.pth', 'filePath': './Models/LSTM_rg/EnergyLSTMRegression/IntegraionTrainX/618f2ca7c380b25efe12bee2a2ab1869/model.pkl'}, 'XScalerFile': {'fileName': 'scaler.pkl', 'filePath': './scaler/IntegraionTrainX/NoClean/minmax/44e77c5a60a148deb89c5ef9a221a365/scaler.pkl'}, 'yScalerFile': {'fileName': 'scaler.pkl', 'filePath': './scaler/IntegraionTrainX/NoClean/minmax/f69156750a210491ffd4a67b605bc88b/scaler.pkl'}}, 'n_epochs': 10, '_id': ObjectId('63c78b6dcbd1e4bbf7c5080e')}\n"
     ]
    }
   ],
   "source": [
    "# 5. update MetaFile\n",
    "# ModelName = encode_hash_style(p1.get_list_merge ([model_method, cleanTrainDataParam, trainParameter_encode, dataName_X, dataName_y] ))\n",
    "# model_name = ''\n",
    "modelInfoMeta ={\n",
    "    \"author\":\"KETI\",\n",
    "    \"modelName\": model_name,\n",
    "    \"modelVersion\":0.1,\n",
    "    \"trainDataInfo\":trainDataInfo,\n",
    "    \"featureList\":featureListX,\n",
    "    \"target\":featureListy,\n",
    "    \"trainDataType\":trainDataType,\n",
    "    \"modelPurpose\":modelPurpose,\n",
    "    \"model_method\":model_method,\n",
    "    \"modelTags\":modelTags,\n",
    "    \"cleanTrainDataParam\":cleanTrainDataParam,\n",
    "    \"NaNProcessingParam\":NaNProcessingParam,\n",
    "    \"trainDataName\":[dataName_X,dataName_y],\n",
    "    \"trainParameter\":rml.parameter,\n",
    "    \"scalerParam\":scalerParam,\n",
    "    \"files\":{\n",
    "        \"modelFile\":{\n",
    "            \"fileName\":\"model.pth\",\n",
    "            \"filePath\":modelFilePath\n",
    "        },\n",
    "        \"XScalerFile\":{\n",
    "            \"fileName\":\"scaler.pkl\",\n",
    "            \"filePath\":X_scalerFilePath       \n",
    "        },\n",
    "        \"yScalerFile\":{\n",
    "            \"fileName\":\"scaler.pkl\",\n",
    "            \"filePath\":y_scalerFilePath       \n",
    "        }\n",
    "    },\n",
    "    \"trainParameter\":trainParameter,\n",
    "    \"n_epochs\":n_epochs\n",
    "}\n",
    "# modelInfoMeta = p3.updateModelMetaData(ModelName, modelInfoMeta, pathSetting.trainModelMetaFilePath)\n",
    "modelInfoMeta = model_manager.update_model_meta_data(mongo_client, modelInfoMeta)"
   ]
  },
  {
   "cell_type": "code",
   "execution_count": 9,
   "id": "d804791f",
   "metadata": {},
   "outputs": [
    {
     "data": {
      "text/plain": [
       "[{'author': 'KETI',\n",
       "  'modelName': 'EnergyLSTMRegression',\n",
       "  'modelVersion': 0.1,\n",
       "  'trainDataInfo': {'startTime': '2016-01-11',\n",
       "   'endTime': '2016-04-15',\n",
       "   'dataInfo': [['life_indoor_environment', 'humidityTrain_10min'],\n",
       "    ['life_indoor_environment', 'temperatureTrain_10min'],\n",
       "    ['weather_outdoor_environment', 'belgiumChieverseAirportTrain_10min']],\n",
       "   'processParam': {'refine_param': {'removeDuplication': {'flag': False},\n",
       "     'staticFrequency': {'flag': False, 'frequency': None}},\n",
       "    'outlier_param': {'certainErrorToNaN': {'flag': False},\n",
       "     'unCertainErrorToNaN': {'flag': False, 'param': {}}},\n",
       "    'imputation_param': {'flag': False,\n",
       "     'imputation_method': [],\n",
       "     'totalNonNanRatio': 80}},\n",
       "   'integration_freq_sec': 600,\n",
       "   'cleanParam': 'NoClean',\n",
       "   'DataSaveMode': 'CSV'},\n",
       "  'featureList': ['RH_1',\n",
       "   'RH_2',\n",
       "   'RH_3',\n",
       "   'RH_4',\n",
       "   'RH_5',\n",
       "   'RH_6',\n",
       "   'RH_7',\n",
       "   'RH_8',\n",
       "   'RH_9',\n",
       "   'T1',\n",
       "   'T2',\n",
       "   'T3',\n",
       "   'T4',\n",
       "   'T5',\n",
       "   'T6',\n",
       "   'T7',\n",
       "   'T8',\n",
       "   'T9',\n",
       "   'Press_mm_hg',\n",
       "   'RH_out',\n",
       "   'T_out',\n",
       "   'Tdewpoint',\n",
       "   'Visibility',\n",
       "   'Windspeed'],\n",
       "  'target': ['value'],\n",
       "  'trainDataType': 'timeseries',\n",
       "  'modelPurpose': 'regression',\n",
       "  'model_method': 'LSTM_rg',\n",
       "  'modelTags': ['aaaaa'],\n",
       "  'cleanTrainDataParam': 'NoClean',\n",
       "  'NaNProcessingParam': {'feature_cycle': 'Day',\n",
       "   'feature_cycle_times': 1,\n",
       "   'NanInfoForCleanData': {'type': 'num',\n",
       "    'ConsecutiveNanLimit': 3,\n",
       "    'totalNaNLimit': 30000}},\n",
       "  'trainDataName': ['IntegraionTrainX', 'IntegraionTrainy'],\n",
       "  'trainParameter': {'num_layers': 2,\n",
       "   'hidden_size': 64,\n",
       "   'dropout': 0.1,\n",
       "   'bidirectional': True,\n",
       "   'lr': 0.0001,\n",
       "   'device': 'cpu',\n",
       "   'n_epochs': 3,\n",
       "   'batch_size': 16,\n",
       "   'input_size': 24,\n",
       "   'seq_len': 144},\n",
       "  'scalerParam': 'scale',\n",
       "  'files': {'modelFile': {'fileName': 'model.pth',\n",
       "    'filePath': './Models/LSTM_rg/EnergyLSTMRegression/IntegraionTrainX/0b43e233c1af48608573201c5d7c6859/model.pkl'},\n",
       "   'XScalerFile': {'fileName': 'scaler.pkl',\n",
       "    'filePath': './scaler/IntegraionTrainX/NoClean/minmax/44e77c5a60a148deb89c5ef9a221a365/scaler.pkl'},\n",
       "   'yScalerFile': {'fileName': 'scaler.pkl',\n",
       "    'filePath': './scaler/IntegraionTrainX/NoClean/minmax/f69156750a210491ffd4a67b605bc88b/scaler.pkl'}},\n",
       "  'n_epochs': 3},\n",
       " {'author': 'KETI',\n",
       "  'modelName': 'EnergyLSTMRegression',\n",
       "  'modelVersion': 0.1,\n",
       "  'trainDataInfo': {'startTime': '2016-01-11',\n",
       "   'endTime': '2016-04-15',\n",
       "   'dataInfo': [['life_indoor_environment', 'humidityTrain_10min'],\n",
       "    ['life_indoor_environment', 'temperatureTrain_10min'],\n",
       "    ['weather_outdoor_environment', 'belgiumChieverseAirportTrain_10min']],\n",
       "   'processParam': {'refine_param': {'removeDuplication': {'flag': False},\n",
       "     'staticFrequency': {'flag': False, 'frequency': None}},\n",
       "    'outlier_param': {'certainErrorToNaN': {'flag': False},\n",
       "     'unCertainErrorToNaN': {'flag': False, 'param': {}}},\n",
       "    'imputation_param': {'flag': False,\n",
       "     'imputation_method': [],\n",
       "     'totalNonNanRatio': 80}},\n",
       "   'integration_freq_sec': 600,\n",
       "   'cleanParam': 'NoClean',\n",
       "   'DataSaveMode': 'CSV'},\n",
       "  'featureList': ['RH_1',\n",
       "   'RH_2',\n",
       "   'RH_3',\n",
       "   'RH_4',\n",
       "   'RH_5',\n",
       "   'RH_6',\n",
       "   'RH_7',\n",
       "   'RH_8',\n",
       "   'RH_9',\n",
       "   'T1',\n",
       "   'T2',\n",
       "   'T3',\n",
       "   'T4',\n",
       "   'T5',\n",
       "   'T6',\n",
       "   'T7',\n",
       "   'T8',\n",
       "   'T9',\n",
       "   'Press_mm_hg',\n",
       "   'RH_out',\n",
       "   'T_out',\n",
       "   'Tdewpoint',\n",
       "   'Visibility',\n",
       "   'Windspeed'],\n",
       "  'target': ['value'],\n",
       "  'trainDataType': 'timeseries',\n",
       "  'modelPurpose': 'regression',\n",
       "  'model_method': 'LSTM_rg',\n",
       "  'modelTags': ['aaaaa'],\n",
       "  'cleanTrainDataParam': 'NoClean',\n",
       "  'NaNProcessingParam': {'feature_cycle': 'Day',\n",
       "   'feature_cycle_times': 1,\n",
       "   'NanInfoForCleanData': {'type': 'num',\n",
       "    'ConsecutiveNanLimit': 3,\n",
       "    'totalNaNLimit': 30000}},\n",
       "  'trainDataName': ['IntegraionTrainX', 'IntegraionTrainy'],\n",
       "  'trainParameter': {'num_layers': 2,\n",
       "   'hidden_size': 64,\n",
       "   'dropout': 0.1,\n",
       "   'bidirectional': True,\n",
       "   'lr': 0.0001,\n",
       "   'device': 'cpu',\n",
       "   'n_epochs': 10,\n",
       "   'batch_size': 16,\n",
       "   'input_size': 24,\n",
       "   'seq_len': 144},\n",
       "  'scalerParam': 'scale',\n",
       "  'files': {'modelFile': {'fileName': 'model.pth',\n",
       "    'filePath': './Models/LSTM_rg/EnergyLSTMRegression/IntegraionTrainX/618f2ca7c380b25efe12bee2a2ab1869/model.pkl'},\n",
       "   'XScalerFile': {'fileName': 'scaler.pkl',\n",
       "    'filePath': './scaler/IntegraionTrainX/NoClean/minmax/44e77c5a60a148deb89c5ef9a221a365/scaler.pkl'},\n",
       "   'yScalerFile': {'fileName': 'scaler.pkl',\n",
       "    'filePath': './scaler/IntegraionTrainX/NoClean/minmax/f69156750a210491ffd4a67b605bc88b/scaler.pkl'}},\n",
       "  'n_epochs': 10}]"
      ]
     },
     "execution_count": 9,
     "metadata": {},
     "output_type": "execute_result"
    }
   ],
   "source": [
    "from Clust.clust.ingestion.mongo import mongoClient as mongo_client\n",
    "from Clust.setting import influx_setting_KETI as ins\n",
    "\n",
    "mongo_client = mongo_client.mongoClient(ins.CLUSTMetaInfo2)\n",
    "\n",
    "db_name = 'model'\n",
    "collection_name = 'meta'\n",
    "\n",
    "all_model_meta = mongo_client.get_all_document(db_name, collection_name)\n",
    "all_model_meta"
   ]
  },
  {
   "cell_type": "code",
   "execution_count": null,
   "id": "05ec677f",
   "metadata": {},
   "outputs": [],
   "source": []
  }
 ],
 "metadata": {
  "kernelspec": {
   "display_name": "Python 3 (ipykernel)",
   "language": "python",
   "name": "python3"
  },
  "language_info": {
   "codemirror_mode": {
    "name": "ipython",
    "version": 3
   },
   "file_extension": ".py",
   "mimetype": "text/x-python",
   "name": "python",
   "nbconvert_exporter": "python",
   "pygments_lexer": "ipython3",
   "version": "3.8.8"
  },
  "vscode": {
   "interpreter": {
    "hash": "f1ef7e1f828dbb4e75f421045d2c565197efaf8469a0be4a314c6ea8378b5cb2"
   }
  }
 },
 "nbformat": 4,
 "nbformat_minor": 5
}
