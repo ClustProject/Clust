{
 "cells": [
  {
   "cell_type": "markdown",
   "id": "fd79d0c3",
   "metadata": {},
   "source": [
    "# 3. Test"
   ]
  },
  {
   "cell_type": "code",
   "execution_count": 49,
   "id": "1611f6b2",
   "metadata": {},
   "outputs": [
    {
     "name": "stdout",
     "output_type": "stream",
     "text": [
      "cuda is available.\n"
     ]
    }
   ],
   "source": [
    "import sys, os\n",
    "import pandas as pd\n",
    "sys.path.append(\"../../../../\")\n",
    "\n",
    "from Clust.setting import influx_setting_KETI as ins\n",
    "from Clust.clust.ingestion.influx import influx_client_v2 as influx_Client\n",
    "from Clust.clust.ingestion.mongo.mongo_client import MongoClient\n",
    "db_client = influx_Client.InfluxClient(ins.CLUSTDataServer2)\n",
    "mongo_client = MongoClient(ins.CLUSTMetaInfo2)\n",
    "\n",
    "import torch\n",
    "device = \"cuda\" if torch.cuda.is_available() else \"cpu\"\n",
    "print(f\"{device}\" \" is available.\")"
   ]
  },
  {
   "cell_type": "code",
   "execution_count": 50,
   "id": "1d986cdb",
   "metadata": {},
   "outputs": [],
   "source": [
    "from Clust.clust.ML.common import ML_pipeline"
   ]
  },
  {
   "cell_type": "markdown",
   "id": "19f833ac",
   "metadata": {},
   "source": [
    "## 1. Data Preparation"
   ]
  },
  {
   "cell_type": "code",
   "execution_count": 54,
   "id": "ef141cff",
   "metadata": {},
   "outputs": [],
   "source": [
    "app_name= \"Hs2SwineFarmWithWeatherTime\" # \"Hs2SwineFarmWithWeatherTime\", \"energy\"\n",
    "model_method = 'GRU_rg'\n",
    "model_clean = True\n",
    "step = 'test'\n",
    "bucket_name = 'integration'\n",
    "data_clean_level=0"
   ]
  },
  {
   "cell_type": "code",
   "execution_count": 55,
   "id": "5d025680",
   "metadata": {},
   "outputs": [],
   "source": [
    "model_name = None\n",
    "model_name = ML_pipeline.get_default_model_name(model_name, app_name, model_method, model_clean)\n",
    "collection_name = 'meta'\n",
    "db_name = 'model'\n",
    "model_meta_list= mongo_client.get_document_by_json(db_name, collection_name, {'modelName': model_name})\n",
    "model_meta = model_meta_list[0] ## ??"
   ]
  },
  {
   "cell_type": "markdown",
   "id": "f1c95e64",
   "metadata": {},
   "source": [
    "### 1-2. Data Ingestion\n",
    "#### 1-2-1. X-y Data Ingestion pipeline"
   ]
  },
  {
   "cell_type": "code",
   "execution_count": 57,
   "id": "bcd7db6c",
   "metadata": {},
   "outputs": [],
   "source": [
    "model_purpose = model_meta['modelPurpose']\n",
    "dataset_name = model_purpose + '_' + app_name  \n",
    "scaler_param= model_meta['scalerParam']\n",
    "data_name_X = dataset_name + '_cleanLevel' + str(data_clean_level)+'_'+step+'X'\n",
    "data_name_y = dataset_name+'_cleanLevel' + str(data_clean_level)+'_'+ step+'y'\n",
    "data_y_flag = model_meta['data_y_flag']"
   ]
  },
  {
   "cell_type": "code",
   "execution_count": 58,
   "id": "89b9fee1",
   "metadata": {},
   "outputs": [],
   "source": [
    "feature_X_list = model_meta['featureXList']\n",
    "feature_y_list = model_meta[\"featureyList\"]\n",
    "model_file_path = model_meta['files']['modelFile'][\"filePath\"]"
   ]
  },
  {
   "cell_type": "code",
   "execution_count": 59,
   "id": "13054520",
   "metadata": {},
   "outputs": [],
   "source": [
    "# Data Ingestion\n",
    "ingestion_method = 'ms_all'\n",
    "ingestion_param_X = {\n",
    "    \"bucket_name\" : bucket_name,\n",
    "    'ms_name' : data_name_X,\n",
    "    'feature_list' : feature_X_list                              \n",
    "}\n",
    "ingestion_param_y = {\n",
    "    \"bucket_name\" : bucket_name,\n",
    "    'ms_name' : data_name_y,\n",
    "    'feature_list' : feature_y_list                              \n",
    "}"
   ]
  },
  {
   "cell_type": "code",
   "execution_count": 60,
   "id": "70afad55",
   "metadata": {},
   "outputs": [],
   "source": [
    "data_X, data_y = ML_pipeline.get_Xy_data_in_Clust(ingestion_param_X, data_y_flag, ingestion_param_y, ingestion_method, db_client)"
   ]
  },
  {
   "cell_type": "markdown",
   "id": "10f39c7d",
   "metadata": {},
   "source": [
    "#### 1-2-2. Random Nan Insert (Test)\n",
    "#### 1-2-3. Data scaling"
   ]
  },
  {
   "cell_type": "code",
   "execution_count": 61,
   "id": "831099f3",
   "metadata": {},
   "outputs": [
    {
     "data": {
      "text/plain": [
       "'./scaler/forecasting_Hs2SwineFarmWithWeatherTime_cleanLevel0_trainy/minmax/2ef658edf359871df2a5d6f044a18200/scaler.pkl'"
      ]
     },
     "execution_count": 61,
     "metadata": {},
     "output_type": "execute_result"
    }
   ],
   "source": [
    "X_scaler_file_path = model_meta['files']['XScalerFile'][\"filePath\"]\n",
    "y_scaler_file_path = model_meta['files']['yScalerFile'][\"filePath\"]\n",
    "y_scaler_file_path"
   ]
  },
  {
   "cell_type": "code",
   "execution_count": 62,
   "id": "d50988dd",
   "metadata": {},
   "outputs": [],
   "source": [
    "scaler_param = model_meta[\"scalerParam\"]\n",
    "from Clust.clust.ML.tool import scaler as ml_scaler\n",
    "test_X, scaler_X = ml_scaler.get_scaled_test_data(data_X, X_scaler_file_path, scaler_param)\n",
    "test_y, scaler_y = ml_scaler.get_scaled_test_data(data_y, y_scaler_file_path, scaler_param)"
   ]
  },
  {
   "cell_type": "markdown",
   "id": "a81ea4d2",
   "metadata": {},
   "source": [
    "#### 1-2-2. Random Nan Insert (Test)\n",
    "#### 1-2-3. Data scaling"
   ]
  },
  {
   "cell_type": "code",
   "execution_count": 63,
   "id": "b199de92",
   "metadata": {},
   "outputs": [
    {
     "name": "stdout",
     "output_type": "stream",
     "text": [
      "nan_limit_num:  12\n",
      "Original num: 2005 Final num: 1979 NaN num: 26\n"
     ]
    }
   ],
   "source": [
    "split_mode = model_meta['dataSplitMode']\n",
    "transformParameter = model_meta[\"transformParameter\"]\n",
    "test_X_array, test_y_array = ML_pipeline.get_transfomed_data(split_mode, transformParameter, test_X, test_y)"
   ]
  },
  {
   "cell_type": "code",
   "execution_count": 64,
   "id": "9340987e",
   "metadata": {},
   "outputs": [],
   "source": [
    "modelParameter = model_meta[\"modelParameter\"]\n",
    "\n",
    "testParameter = {\n",
    "    'device': 'cpu',\n",
    "    'batch_size': model_meta[\"trainParameter\"]['batch_size']\n",
    "}"
   ]
  },
  {
   "cell_type": "code",
   "execution_count": 65,
   "id": "5cc69443",
   "metadata": {},
   "outputs": [
    {
     "name": "stdout",
     "output_type": "stream",
     "text": [
      "features shape: torch.Size([1979, 24, 3]) targets shape:  torch.Size([1979, 1])\n",
      "\n",
      "Start testing data\n",
      "\n"
     ]
    }
   ],
   "source": [
    "#3. Test model\n",
    "from Clust.clust.ML.regression_YK.test import RegressionTest as RT\n",
    "\n",
    "rt = RT()\n",
    "rt.set_param(testParameter)\n",
    "rt.set_model(model_method, model_file_path, modelParameter)\n",
    "rt.set_data(test_X_array, test_y_array)\n",
    "preds, trues = rt.test()"
   ]
  },
  {
   "cell_type": "code",
   "execution_count": 66,
   "id": "d73c974f",
   "metadata": {},
   "outputs": [
    {
     "name": "stdout",
     "output_type": "stream",
     "text": [
      "(1979, 24, 3) (1979, 1)\n",
      "(1968,) (1968,)\n"
     ]
    }
   ],
   "source": [
    "print(test_X_array.shape, test_y_array.shape)\n",
    "print(preds.shape, trues.shape)"
   ]
  },
  {
   "cell_type": "code",
   "execution_count": 67,
   "id": "6b645561",
   "metadata": {},
   "outputs": [
    {
     "data": {
      "text/plain": [
       "False"
      ]
     },
     "execution_count": 67,
     "metadata": {},
     "output_type": "execute_result"
    }
   ],
   "source": [
    "data_y_flag"
   ]
  },
  {
   "cell_type": "code",
   "execution_count": 68,
   "id": "689c2452",
   "metadata": {},
   "outputs": [
    {
     "name": "stdout",
     "output_type": "stream",
     "text": [
      "scale\n",
      "          value  prediction\n",
      "0     25.099999   25.167728\n",
      "1     25.250000   25.232505\n",
      "2     25.366666   25.282783\n",
      "3     25.400001   25.338711\n",
      "4     25.533334   25.408292\n",
      "...         ...         ...\n",
      "1963  19.900000   20.220840\n",
      "1964  20.133333   20.209098\n",
      "1965  20.350000   20.213702\n",
      "1966  20.300000   20.225049\n",
      "1967  20.549999   20.280253\n",
      "\n",
      "[1968 rows x 2 columns]\n",
      "{'mae': 0.3657840028041746, 'rmse': 0.4690967171288232, 'r2': 0.9460762901798039, 'mape': 1.5007787768725835}\n"
     ]
    },
    {
     "data": {
      "text/plain": [
       "<Axes: >"
      ]
     },
     "execution_count": 68,
     "metadata": {},
     "output_type": "execute_result"
    },
    {
     "data": {
      "image/png": "[encoded data removed]",
      "text/plain": [
       "<Figure size 640x480 with 1 Axes>"
      ]
     },
     "metadata": {},
     "output_type": "display_data"
    }
   ],
   "source": [
    "from Clust.clust.tool.stats_table import metrics\n",
    "if data_y_flag:\n",
    "    scaler = scaler_y\n",
    "    feature_list = feature_y_list\n",
    "    target = feature_y_list[0]\n",
    "else:\n",
    "    scaler = scaler_X\n",
    "    feature_list = feature_X_list\n",
    "    target = feature_y_list[0]\n",
    "    \n",
    "from Clust.clust.ML.tool import data as ml_data \n",
    "df_result = ml_data.get_prediction_df_result(preds, trues, scaler_param, scaler, feature_list, target)\n",
    "result_metrics =  metrics.calculate_metrics_df(df_result)\n",
    "print(df_result)\n",
    "print(result_metrics)\n",
    "df_result.plot()"
   ]
  },
  {
   "cell_type": "code",
   "execution_count": 69,
   "id": "0957060a",
   "metadata": {},
   "outputs": [
    {
     "ename": "ModuleNotFoundError",
     "evalue": "No module named 'chart_studio'",
     "output_type": "error",
     "traceback": [
      "\u001b[0;31m---------------------------------------------------------------------------\u001b[0m",
      "\u001b[0;31mModuleNotFoundError\u001b[0m                       Traceback (most recent call last)",
      "Cell \u001b[0;32mIn[69], line 2\u001b[0m\n\u001b[1;32m      1\u001b[0m \u001b[38;5;66;03m# 5. Only For IPython Notebook\u001b[39;00m\n\u001b[0;32m----> 2\u001b[0m \u001b[38;5;28;01mfrom\u001b[39;00m \u001b[38;5;21;01mClust\u001b[39;00m\u001b[38;5;21;01m.\u001b[39;00m\u001b[38;5;21;01mclust\u001b[39;00m\u001b[38;5;21;01m.\u001b[39;00m\u001b[38;5;21;01mtool\u001b[39;00m\u001b[38;5;21;01m.\u001b[39;00m\u001b[38;5;21;01mplot\u001b[39;00m\u001b[38;5;21;01m.\u001b[39;00m\u001b[38;5;21;01mplot_two_data\u001b[39;00m \u001b[38;5;28;01mimport\u001b[39;00m plot_predictions\n\u001b[1;32m      3\u001b[0m \u001b[38;5;28;01mimport\u001b[39;00m \u001b[38;5;21;01mplotly\u001b[39;00m\u001b[38;5;21;01m.\u001b[39;00m\u001b[38;5;21;01moffline\u001b[39;00m \u001b[38;5;28;01mas\u001b[39;00m \u001b[38;5;21;01mpyo\u001b[39;00m\n\u001b[1;32m      4\u001b[0m \u001b[38;5;66;03m# Set notebook mode to work in offline\u001b[39;00m\n",
      "File \u001b[0;32m~/code/Clust/clust/tool/plot/plot_two_data.py:3\u001b[0m\n\u001b[1;32m      2\u001b[0m \u001b[38;5;28;01mimport\u001b[39;00m \u001b[38;5;21;01mplotly\u001b[39;00m\u001b[38;5;21;01m.\u001b[39;00m\u001b[38;5;21;01mgraph_objects\u001b[39;00m \u001b[38;5;28;01mas\u001b[39;00m \u001b[38;5;21;01mgo\u001b[39;00m\n\u001b[0;32m----> 3\u001b[0m \u001b[38;5;28;01mimport\u001b[39;00m \u001b[38;5;21;01mchart_studio\u001b[39;00m\u001b[38;5;21;01m.\u001b[39;00m\u001b[38;5;21;01mplotly\u001b[39;00m \u001b[38;5;28;01mas\u001b[39;00m \u001b[38;5;21;01mpy\u001b[39;00m\n\u001b[1;32m      4\u001b[0m \u001b[38;5;28;01mfrom\u001b[39;00m \u001b[38;5;21;01mplotly\u001b[39;00m\u001b[38;5;21;01m.\u001b[39;00m\u001b[38;5;21;01moffline\u001b[39;00m \u001b[38;5;28;01mimport\u001b[39;00m \u001b[38;5;241m*\u001b[39m\n\u001b[1;32m      6\u001b[0m \u001b[38;5;28;01mdef\u001b[39;00m \u001b[38;5;21mplot_predictions\u001b[39m(df_result):\n",
      "\u001b[0;31mModuleNotFoundError\u001b[0m: No module named 'chart_studio'"
     ]
    }
   ],
   "source": [
    "# 5. Only For IPython Notebook\n",
    "from Clust.clust.tool.plot.plot_two_data import plot_predictions\n",
    "import plotly.offline as pyo\n",
    "# Set notebook mode to work in offline\n",
    "pyo.init_notebook_mode()\n",
    "plot_predictions(df_result)"
   ]
  },
  {
   "cell_type": "code",
   "execution_count": null,
   "id": "dc3e5cc7",
   "metadata": {},
   "outputs": [],
   "source": []
  }
 ],
 "metadata": {
  "kernelspec": {
   "display_name": "Python 3 (ipykernel)",
   "language": "python",
   "name": "python3"
  },
  "language_info": {
   "codemirror_mode": {
    "name": "ipython",
    "version": 3
   },
   "file_extension": ".py",
   "mimetype": "text/x-python",
   "name": "python",
   "nbconvert_exporter": "python",
   "pygments_lexer": "ipython3",
   "version": "3.8.8"
  },
  "toc": {
   "base_numbering": 1,
   "nav_menu": {},
   "number_sections": true,
   "sideBar": true,
   "skip_h1_title": false,
   "title_cell": "Table of Contents",
   "title_sidebar": "Contents",
   "toc_cell": false,
   "toc_position": {},
   "toc_section_display": true,
   "toc_window_display": false
  },
  "vscode": {
   "interpreter": {
    "hash": "e92cea83a25a22cd774ff9f8132db57ccb94d86fd97b7fe80ee00c35daecdd05"
   }
  }
 },
 "nbformat": 4,
 "nbformat_minor": 5
}
