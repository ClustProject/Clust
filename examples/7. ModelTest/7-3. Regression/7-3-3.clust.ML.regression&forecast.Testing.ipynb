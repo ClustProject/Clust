{
 "cells": [
  {
   "cell_type": "markdown",
   "id": "fd79d0c3",
   "metadata": {},
   "source": [
    "# 3. Test"
   ]
  },
  {
   "cell_type": "code",
   "execution_count": 1,
   "id": "1611f6b2",
   "metadata": {},
   "outputs": [
    {
     "name": "stdout",
     "output_type": "stream",
     "text": [
      "cuda is available.\n"
     ]
    }
   ],
   "source": [
    "import sys, os\n",
    "import pandas as pd\n",
    "sys.path.append(\"../../../../\")\n",
    "\n",
    "from Clust.setting import influx_setting_KETI as ins\n",
    "from Clust.clust.ingestion.influx import influx_client_v2 as influx_Client\n",
    "from Clust.clust.ingestion.mongo.mongo_client import MongoClient\n",
    "db_client = influx_Client.InfluxClient(ins.CLUSTDataServer2)\n",
    "mongo_client = MongoClient(ins.CLUSTMetaInfo2)\n",
    "\n",
    "import torch\n",
    "device = \"cuda\" if torch.cuda.is_available() else \"cpu\"\n",
    "print(f\"{device}\" \" is available.\")"
   ]
  },
  {
   "cell_type": "code",
   "execution_count": 2,
   "id": "1d986cdb",
   "metadata": {},
   "outputs": [],
   "source": [
    "from Clust.clust.ML.common import train_pipeline"
   ]
  },
  {
   "cell_type": "markdown",
   "id": "19f833ac",
   "metadata": {},
   "source": [
    "## 1. Data Preparation"
   ]
  },
  {
   "cell_type": "code",
   "execution_count": 3,
   "id": "ef141cff",
   "metadata": {},
   "outputs": [],
   "source": [
    "app_name= \"Hs2SwineFarmWithWeatherTime\" # \"Hs2SwineFarmWithWeatherTime\", \"energy\"\n",
    "model_method = 'GRU_rg'\n",
    "model_clean = True\n",
    "step = 'test'\n",
    "bucket_name = 'integration'\n",
    "data_clean_level=0"
   ]
  },
  {
   "cell_type": "code",
   "execution_count": 4,
   "id": "5d025680",
   "metadata": {},
   "outputs": [],
   "source": [
    "model_name = None\n",
    "model_name = train_pipeline.get_default_model_name(model_name, app_name, model_method, model_clean)\n",
    "collection_name = 'meta'\n",
    "db_name = 'model'\n",
    "model_meta= mongo_client.get_document_by_json(db_name, collection_name, {'modelName': model_name})[4] ## ??"
   ]
  },
  {
   "cell_type": "code",
   "execution_count": 5,
   "id": "5a279613",
   "metadata": {},
   "outputs": [
    {
     "data": {
      "text/plain": [
       "{'trainDataInfo': {'data_name': 'regression_energy_cleanLevel0_trainX',\n",
       "  'ingestion_param': {'start_time': '2016-01-11',\n",
       "   'end_time': '2016-04-15',\n",
       "   'ms_list_info': [['life_indoor_environment', 'humidityTrain_10min'],\n",
       "    ['life_indoor_environment', 'temperatureTrain_10min'],\n",
       "    ['weather_outdoor_environment', 'belgiumChieverseAirportTrain_10min']]},\n",
       "  'integration_param': {'param': {},\n",
       "   'method': 'meta',\n",
       "   'integration_duration': 'common',\n",
       "   'integration_frequency': 600},\n",
       "  'clean_level': 0,\n",
       "  'process_param': {'refine_param': {'removeDuplication': {'flag': False},\n",
       "    'staticFrequency': {'flag': False, 'frequency': None}},\n",
       "   'outlier_param': {'certainErrorToNaN': {'flag': False},\n",
       "    'unCertainErrorToNaN': {'flag': False}},\n",
       "   'imputation_param': {'flag': False}}},\n",
       " 'modelName': 'energy_GRU_rg_True',\n",
       " 'dataSplitMode': 'window_split',\n",
       " 'featureXList': ['Press_mm_hg',\n",
       "  'RH_1',\n",
       "  'RH_2',\n",
       "  'RH_3',\n",
       "  'RH_4',\n",
       "  'RH_5',\n",
       "  'RH_6',\n",
       "  'RH_7',\n",
       "  'RH_8',\n",
       "  'RH_9',\n",
       "  'RH_out',\n",
       "  'T1',\n",
       "  'T2',\n",
       "  'T3',\n",
       "  'T4',\n",
       "  'T5',\n",
       "  'T6',\n",
       "  'T7',\n",
       "  'T8',\n",
       "  'T9',\n",
       "  'T_out',\n",
       "  'Tdewpoint',\n",
       "  'Visibility',\n",
       "  'Windspeed'],\n",
       " 'featureyList': ['value'],\n",
       " 'data_y_flag': True,\n",
       " 'trainDataType': 'timeseries',\n",
       " 'modelPurpose': 'regression',\n",
       " 'modelMethod': 'GRU_rg',\n",
       " 'modelTags': ['model_tag_example'],\n",
       " 'modelCleanLevel': True,\n",
       " 'trainParameter': {'lr': 0.0001,\n",
       "  'weight_decay': 1e-06,\n",
       "  'device': 'cpu',\n",
       "  'n_epochs': 10,\n",
       "  'batch_size': 16},\n",
       " 'modelParameter': {'rnn_type': 'lstm',\n",
       "  'input_size': 24,\n",
       "  'hidden_size': 64,\n",
       "  'num_layers': 2,\n",
       "  'output_dim': 1,\n",
       "  'dropout': 0.1,\n",
       "  'bidirectional': True},\n",
       " 'transformParameter': {'past_step': 144, 'max_nan_limit_ratio': 0.5},\n",
       " 'scalerParam': 'scale',\n",
       " 'trainDataName': ['regression_energy_cleanLevel0_trainX',\n",
       "  'regression_energy_cleanLevel0_trainy'],\n",
       " 'files': {'modelFile': {'fileName': 'model.pth',\n",
       "   'filePath': './Models/GRU_rg/energy_GRU_rg_True/regression_energy_cleanLevel0_trainX/d531eec11664669cff1f6a3ad9639012/model.pkl'},\n",
       "  'XScalerFile': {'fileName': 'scaler.pkl',\n",
       "   'filePath': './scaler/regression_energy_cleanLevel0_trainX/minmax/900878d7bba6f2a4017d1c3399909ea7/scaler.pkl'},\n",
       "  'yScalerFile': {'fileName': 'scaler.pkl',\n",
       "   'filePath': './scaler/regression_energy_cleanLevel0_trainy/minmax/f69156750a210491ffd4a67b605bc88b/scaler.pkl'}}}"
      ]
     },
     "execution_count": 5,
     "metadata": {},
     "output_type": "execute_result"
    }
   ],
   "source": [
    "model_meta"
   ]
  },
  {
   "cell_type": "markdown",
   "id": "f1c95e64",
   "metadata": {},
   "source": [
    "### 1-2. Data Ingestion\n",
    "#### 1-2-1. X-y Data Ingestion pipeline"
   ]
  },
  {
   "cell_type": "code",
   "execution_count": 6,
   "id": "bcd7db6c",
   "metadata": {},
   "outputs": [],
   "source": [
    "model_purpose = model_meta['modelPurpose']\n",
    "dataset_name = model_purpose + '_' + app_name  \n",
    "scaler_param= model_meta['scalerParam']\n",
    "data_name_X = dataset_name + '_cleanLevel' + str(data_clean_level)+'_'+step+'X'\n",
    "data_name_y = dataset_name+'_cleanLevel' + str(data_clean_level)+'_'+ step+'y'\n",
    "data_y_flag = model_meta['data_y_flag']"
   ]
  },
  {
   "cell_type": "code",
   "execution_count": 7,
   "id": "89b9fee1",
   "metadata": {},
   "outputs": [],
   "source": [
    "feature_X_list = model_meta['featureXList']\n",
    "feature_y_list = model_meta[\"featureyList\"]\n",
    "model_file_path = model_meta['files']['modelFile'][\"filePath\"]"
   ]
  },
  {
   "cell_type": "code",
   "execution_count": 8,
   "id": "13054520",
   "metadata": {},
   "outputs": [],
   "source": [
    "# Data Ingestion\n",
    "ingestion_method = 'ms_all'\n",
    "ingestion_param_X = {\n",
    "    \"bucket_name\" : bucket_name,\n",
    "    'ms_name' : data_name_X,\n",
    "    'feature_list' : feature_X_list                              \n",
    "}\n",
    "ingestion_param_y = {\n",
    "    \"bucket_name\" : bucket_name,\n",
    "    'ms_name' : data_name_y,\n",
    "    'feature_list' : feature_y_list                              \n",
    "}"
   ]
  },
  {
   "cell_type": "code",
   "execution_count": 9,
   "id": "70afad55",
   "metadata": {},
   "outputs": [],
   "source": [
    "data_X, data_y = train_pipeline.get_Xy_data_in_Clust(ingestion_param_X, data_y_flag, ingestion_param_y, ingestion_method, db_client)"
   ]
  },
  {
   "cell_type": "markdown",
   "id": "10f39c7d",
   "metadata": {},
   "source": [
    "#### 1-2-2. Random Nan Insert (Test)\n",
    "#### 1-2-3. Data scaling"
   ]
  },
  {
   "cell_type": "code",
   "execution_count": 10,
   "id": "831099f3",
   "metadata": {},
   "outputs": [
    {
     "data": {
      "text/plain": [
       "'./scaler/regression_energy_cleanLevel0_trainy/minmax/f69156750a210491ffd4a67b605bc88b/scaler.pkl'"
      ]
     },
     "execution_count": 10,
     "metadata": {},
     "output_type": "execute_result"
    }
   ],
   "source": [
    "X_scaler_file_path = model_meta['files']['XScalerFile'][\"filePath\"]\n",
    "y_scaler_file_path = model_meta['files']['yScalerFile'][\"filePath\"]\n",
    "y_scaler_file_path"
   ]
  },
  {
   "cell_type": "code",
   "execution_count": 11,
   "id": "d50988dd",
   "metadata": {},
   "outputs": [
    {
     "name": "stderr",
     "output_type": "stream",
     "text": [
      "<frozen importlib._bootstrap>:219: RuntimeWarning: scipy._lib.messagestream.MessageStream size changed, may indicate binary incompatibility. Expected 56 from C header, got 64 from PyObject\n"
     ]
    }
   ],
   "source": [
    "scaler_param = model_meta[\"scalerParam\"]\n",
    "from Clust.clust.ML.tool import scaler as ml_scaler\n",
    "test_X, scaler_X = ml_scaler.get_scaled_test_data(data_X, X_scaler_file_path, scaler_param)\n",
    "test_y, scaler_y = ml_scaler.get_scaled_test_data(data_y, y_scaler_file_path, scaler_param)"
   ]
  },
  {
   "cell_type": "markdown",
   "id": "a81ea4d2",
   "metadata": {},
   "source": [
    "#### 1-2-2. Random Nan Insert (Test)\n",
    "#### 1-2-3. Data scaling"
   ]
  },
  {
   "cell_type": "code",
   "execution_count": 12,
   "id": "b199de92",
   "metadata": {},
   "outputs": [
    {
     "name": "stdout",
     "output_type": "stream",
     "text": [
      "window_size: 144 nan_limit_num: 72\n",
      "(6048, 24) (42, 144, 24)\n",
      "(42, 1) (42, 1)\n"
     ]
    }
   ],
   "source": [
    "split_mode = model_meta['dataSplitMode']\n",
    "transformParameter = model_meta[\"transformParameter\"]\n",
    "test_X_array, test_y_array = train_pipeline.get_transfomed_data(split_mode, transformParameter, test_X, test_y)"
   ]
  },
  {
   "cell_type": "code",
   "execution_count": 13,
   "id": "9340987e",
   "metadata": {},
   "outputs": [],
   "source": [
    "modelParameter = model_meta[\"modelParameter\"]\n",
    "\n",
    "testParameter = {\n",
    "    'device': 'cpu',\n",
    "    'batch_size': model_meta[\"trainParameter\"]['batch_size']\n",
    "}"
   ]
  },
  {
   "cell_type": "code",
   "execution_count": 14,
   "id": "5cc69443",
   "metadata": {},
   "outputs": [
    {
     "name": "stdout",
     "output_type": "stream",
     "text": [
      "features shape: torch.Size([42, 144, 24]) targets shape:  torch.Size([42, 1])\n",
      "\n",
      "Start testing data\n",
      "\n"
     ]
    }
   ],
   "source": [
    "#3. Test model\n",
    "from Clust.clust.ML.regression_YK.test import RegressionTest as RT\n",
    "\n",
    "rt = RT()\n",
    "rt.set_param(testParameter)\n",
    "rt.set_model(model_method, model_file_path, modelParameter)\n",
    "rt.set_data(test_X_array, test_y_array)\n",
    "preds, trues = rt.test()"
   ]
  },
  {
   "cell_type": "code",
   "execution_count": 15,
   "id": "d73c974f",
   "metadata": {},
   "outputs": [
    {
     "name": "stdout",
     "output_type": "stream",
     "text": [
      "(42, 144, 24) (42, 1)\n",
      "(32,) (32,)\n"
     ]
    }
   ],
   "source": [
    "print(test_X_array.shape, test_y_array.shape)\n",
    "print(preds.shape, trues.shape)"
   ]
  },
  {
   "cell_type": "code",
   "execution_count": 16,
   "id": "ae4e22d5",
   "metadata": {},
   "outputs": [
    {
     "data": {
      "text/plain": [
       "True"
      ]
     },
     "execution_count": 16,
     "metadata": {},
     "output_type": "execute_result"
    }
   ],
   "source": [
    "data_y_flag"
   ]
  },
  {
   "cell_type": "code",
   "execution_count": 19,
   "id": "689c2452",
   "metadata": {},
   "outputs": [
    {
     "name": "stdout",
     "output_type": "stream",
     "text": [
      "scale\n",
      "        value  prediction\n",
      "0   17.370001   10.157236\n",
      "1   20.650000    9.745333\n",
      "2   11.420000    9.230944\n",
      "3   10.680000    9.874599\n",
      "4   12.439999    9.917680\n",
      "5   11.170000    9.465993\n",
      "6   24.120001   10.033264\n",
      "7   10.990000   10.410044\n",
      "8   13.760000    9.533790\n",
      "9   14.560000    9.742868\n",
      "10  14.970000    9.693753\n",
      "11  13.429999    9.860579\n",
      "12  11.570000    9.965724\n",
      "13   9.330000   10.754500\n",
      "14  15.580000   10.179406\n",
      "15  20.929998    9.889416\n",
      "16  11.990000    9.520499\n",
      "17  15.370000   10.190338\n",
      "18  10.470000    9.860127\n",
      "19  14.410000    9.974400\n",
      "20  10.160000    9.668745\n",
      "21  15.120000    9.614093\n",
      "22  12.320000    9.933445\n",
      "23  10.460000    9.315143\n",
      "24  15.060000    8.859575\n",
      "25   9.680000    9.296025\n",
      "26  10.690000   10.309089\n",
      "27  17.799997   10.209410\n",
      "28  10.690000   10.175481\n",
      "29  17.059998    9.832749\n",
      "30  20.879999   10.052874\n",
      "31  10.890000    9.732653\n",
      "{'mae': 4.183413, 'rmse': 5.5330790281265765, 'r2': -1.1900435076702656, 'mape': 25.809186697006226}\n"
     ]
    },
    {
     "data": {
      "text/plain": [
       "<Axes: >"
      ]
     },
     "execution_count": 19,
     "metadata": {},
     "output_type": "execute_result"
    },
    {
     "data": {
      "image/png": "[encoded data removed]",
      "text/plain": [
       "<Figure size 640x480 with 1 Axes>"
      ]
     },
     "metadata": {},
     "output_type": "display_data"
    }
   ],
   "source": [
    "from Clust.clust.tool.stats_table import metrics\n",
    "if data_y_flag:\n",
    "    scaler = scaler_y\n",
    "    feature_list = feature_y_list\n",
    "    target = feature_y_list[0]\n",
    "else:\n",
    "    scaler = scaler_X\n",
    "    feature_list = feature_X_list\n",
    "    target = feature_y_list[0]\n",
    "    \n",
    "from Clust.clust.ML.tool import data as ml_data \n",
    "df_result = ml_data.get_prediction_df_result(preds, trues, scaler_param, scaler, feature_list, target)\n",
    "result_metrics =  metrics.calculate_metrics_df(df_result)\n",
    "print(df_result)\n",
    "print(result_metrics)\n",
    "df_result.plot()"
   ]
  },
  {
   "cell_type": "code",
   "execution_count": 18,
   "id": "0957060a",
   "metadata": {},
   "outputs": [
    {
     "ename": "ModuleNotFoundError",
     "evalue": "No module named 'chart_studio'",
     "output_type": "error",
     "traceback": [
      "\u001b[0;31m---------------------------------------------------------------------------\u001b[0m",
      "\u001b[0;31mModuleNotFoundError\u001b[0m                       Traceback (most recent call last)",
      "Cell \u001b[0;32mIn[18], line 2\u001b[0m\n\u001b[1;32m      1\u001b[0m \u001b[38;5;66;03m# 5. Only For IPython Notebook\u001b[39;00m\n\u001b[0;32m----> 2\u001b[0m \u001b[38;5;28;01mfrom\u001b[39;00m \u001b[38;5;21;01mClust\u001b[39;00m\u001b[38;5;21;01m.\u001b[39;00m\u001b[38;5;21;01mclust\u001b[39;00m\u001b[38;5;21;01m.\u001b[39;00m\u001b[38;5;21;01mtool\u001b[39;00m\u001b[38;5;21;01m.\u001b[39;00m\u001b[38;5;21;01mplot\u001b[39;00m\u001b[38;5;21;01m.\u001b[39;00m\u001b[38;5;21;01mplot_two_data\u001b[39;00m \u001b[38;5;28;01mimport\u001b[39;00m plot_predictions\n\u001b[1;32m      3\u001b[0m \u001b[38;5;28;01mimport\u001b[39;00m \u001b[38;5;21;01mplotly\u001b[39;00m\u001b[38;5;21;01m.\u001b[39;00m\u001b[38;5;21;01moffline\u001b[39;00m \u001b[38;5;28;01mas\u001b[39;00m \u001b[38;5;21;01mpyo\u001b[39;00m\n\u001b[1;32m      4\u001b[0m \u001b[38;5;66;03m# Set notebook mode to work in offline\u001b[39;00m\n",
      "File \u001b[0;32m~/code/Clust/clust/tool/plot/plot_two_data.py:3\u001b[0m\n\u001b[1;32m      2\u001b[0m \u001b[38;5;28;01mimport\u001b[39;00m \u001b[38;5;21;01mplotly\u001b[39;00m\u001b[38;5;21;01m.\u001b[39;00m\u001b[38;5;21;01mgraph_objects\u001b[39;00m \u001b[38;5;28;01mas\u001b[39;00m \u001b[38;5;21;01mgo\u001b[39;00m\n\u001b[0;32m----> 3\u001b[0m \u001b[38;5;28;01mimport\u001b[39;00m \u001b[38;5;21;01mchart_studio\u001b[39;00m\u001b[38;5;21;01m.\u001b[39;00m\u001b[38;5;21;01mplotly\u001b[39;00m \u001b[38;5;28;01mas\u001b[39;00m \u001b[38;5;21;01mpy\u001b[39;00m\n\u001b[1;32m      4\u001b[0m \u001b[38;5;28;01mfrom\u001b[39;00m \u001b[38;5;21;01mplotly\u001b[39;00m\u001b[38;5;21;01m.\u001b[39;00m\u001b[38;5;21;01moffline\u001b[39;00m \u001b[38;5;28;01mimport\u001b[39;00m \u001b[38;5;241m*\u001b[39m\n\u001b[1;32m      6\u001b[0m \u001b[38;5;28;01mdef\u001b[39;00m \u001b[38;5;21mplot_predictions\u001b[39m(df_result):\n",
      "\u001b[0;31mModuleNotFoundError\u001b[0m: No module named 'chart_studio'"
     ]
    }
   ],
   "source": [
    "# 5. Only For IPython Notebook\n",
    "from Clust.clust.tool.plot.plot_two_data import plot_predictions\n",
    "import plotly.offline as pyo\n",
    "# Set notebook mode to work in offline\n",
    "pyo.init_notebook_mode()\n",
    "plot_predictions(df_result)"
   ]
  },
  {
   "cell_type": "code",
   "execution_count": null,
   "id": "dc3e5cc7",
   "metadata": {},
   "outputs": [],
   "source": []
  }
 ],
 "metadata": {
  "kernelspec": {
   "display_name": "Python 3 (ipykernel)",
   "language": "python",
   "name": "python3"
  },
  "language_info": {
   "codemirror_mode": {
    "name": "ipython",
    "version": 3
   },
   "file_extension": ".py",
   "mimetype": "text/x-python",
   "name": "python",
   "nbconvert_exporter": "python",
   "pygments_lexer": "ipython3",
   "version": "3.8.8"
  },
  "toc": {
   "base_numbering": 1,
   "nav_menu": {},
   "number_sections": true,
   "sideBar": true,
   "skip_h1_title": false,
   "title_cell": "Table of Contents",
   "title_sidebar": "Contents",
   "toc_cell": false,
   "toc_position": {},
   "toc_section_display": true,
   "toc_window_display": false
  },
  "vscode": {
   "interpreter": {
    "hash": "e92cea83a25a22cd774ff9f8132db57ccb94d86fd97b7fe80ee00c35daecdd05"
   }
  }
 },
 "nbformat": 4,
 "nbformat_minor": 5
}
