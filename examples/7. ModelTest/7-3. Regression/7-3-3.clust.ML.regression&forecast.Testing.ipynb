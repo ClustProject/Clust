{
 "cells": [
  {
   "cell_type": "markdown",
   "id": "fd79d0c3",
   "metadata": {},
   "source": [
    "# 3. Test"
   ]
  },
  {
   "cell_type": "code",
   "execution_count": 1,
   "id": "1611f6b2",
   "metadata": {},
   "outputs": [
    {
     "name": "stdout",
     "output_type": "stream",
     "text": [
      "cuda is available.\n"
     ]
    }
   ],
   "source": [
    "import sys, os\n",
    "import pandas as pd\n",
    "sys.path.append(\"../../../../\")\n",
    "\n",
    "from Clust.setting import influx_setting_KETI as ins\n",
    "from Clust.clust.ingestion.influx import influx_client_v2 as influx_Client\n",
    "from Clust.clust.ingestion.mongo.mongo_client import MongoClient\n",
    "db_client = influx_Client.InfluxClient(ins.CLUSTDataServer2)\n",
    "mongo_client = MongoClient(ins.CLUSTMetaInfo2)\n",
    "\n",
    "import torch\n",
    "device = \"cuda\" if torch.cuda.is_available() else \"cpu\"\n",
    "print(f\"{device}\" \" is available.\")"
   ]
  },
  {
   "cell_type": "code",
   "execution_count": 2,
   "id": "1d986cdb",
   "metadata": {},
   "outputs": [],
   "source": [
    "from Clust.clust.ML.common import ML_pipeline, tool"
   ]
  },
  {
   "cell_type": "markdown",
   "id": "19f833ac",
   "metadata": {},
   "source": [
    "## 1. Data Preparation"
   ]
  },
  {
   "cell_type": "code",
   "execution_count": 3,
   "id": "ef141cff",
   "metadata": {},
   "outputs": [],
   "source": [
    "app_name= \"Hs2SwineFarmWithWeatherTime\" # \"Hs2SwineFarmWithWeatherTime\", \"energy\"\n",
    "model_method = 'GRU_rg'\n",
    "model_clean = True\n",
    "step = 'test'\n",
    "bucket_name = 'integration'\n",
    "data_clean_level=0"
   ]
  },
  {
   "cell_type": "code",
   "execution_count": 4,
   "id": "5d025680",
   "metadata": {},
   "outputs": [],
   "source": [
    "model_name = None\n",
    "model_name = tool.get_default_model_name(model_name, app_name, model_method, model_clean)\n",
    "collection_name = 'meta'\n",
    "db_name = 'model'\n",
    "model_meta_list= mongo_client.get_document_by_json(db_name, collection_name, {'modelName': model_name})\n",
    "model_meta = model_meta_list[3] ## ??"
   ]
  },
  {
   "cell_type": "code",
   "execution_count": 5,
   "id": "4cb14391",
   "metadata": {},
   "outputs": [
    {
     "data": {
      "text/plain": [
       "{'trainDataInfo': {'data_name': 'forecasting_Hs2SwineFarmWithWeatherTime_cleanLevel0_trainX',\n",
       "  'ingestion_param': {'start_time': '2021-02-01 00:00:00',\n",
       "   'end_time': '2021-03-10 00:00:00',\n",
       "   'ms_list_info': [['farm_swine_air', 'HS2'],\n",
       "    ['weather_outdoor_keti_clean', 'sangju'],\n",
       "    ['life_additional_Info', 'trigonometicInfoByHours']]},\n",
       "  'integration_param': {'param': {},\n",
       "   'method': 'meta',\n",
       "   'integration_duration': 'common',\n",
       "   'integration_frequency': 300},\n",
       "  'clean_level': 0,\n",
       "  'process_param': {'refine_param': {'removeDuplication': {'flag': False},\n",
       "    'staticFrequency': {'flag': False, 'frequency': None}},\n",
       "   'outlier_param': {'certainErrorToNaN': {'flag': False},\n",
       "    'unCertainErrorToNaN': {'flag': False}},\n",
       "   'imputation_param': {'flag': False}}},\n",
       " 'modelName': 'Hs2SwineFarmWithWeatherTime_GRU_rg_True',\n",
       " 'dataSplitMode': 'step_split',\n",
       " 'featureXList': ['Temperature', 'out_temp', 'sin_hour'],\n",
       " 'featureyList': ['Temperature'],\n",
       " 'data_y_flag': False,\n",
       " 'trainDataType': 'timeseries',\n",
       " 'modelPurpose': 'forecasting',\n",
       " 'modelMethod': 'GRU_rg',\n",
       " 'modelTags': ['model_tag_example'],\n",
       " 'modelCleanLevel': True,\n",
       " 'trainParameter': {'lr': 0.0001,\n",
       "  'weight_decay': 1e-06,\n",
       "  'device': 'cpu',\n",
       "  'n_epochs': 10,\n",
       "  'batch_size': 16},\n",
       " 'modelParameter': {'rnn_type': 'lstm',\n",
       "  'input_size': 3,\n",
       "  'hidden_size': 64,\n",
       "  'num_layers': 2,\n",
       "  'output_dim': 1,\n",
       "  'dropout': 0.1,\n",
       "  'bidirectional': True},\n",
       " 'transformParameter': {'future_step': 2,\n",
       "  'past_step': 24,\n",
       "  'max_nan_limit_ratio': 0.5},\n",
       " 'scalerParam': 'scale',\n",
       " 'trainDataName': ['forecasting_Hs2SwineFarmWithWeatherTime_cleanLevel0_trainX',\n",
       "  'forecasting_Hs2SwineFarmWithWeatherTime_cleanLevel0_trainy'],\n",
       " 'files': {'modelFile': {'fileName': 'model.pth',\n",
       "   'filePath': './Models/GRU_rg/Hs2SwineFarmWithWeatherTime_GRU_rg_True/forecasting_Hs2SwineFarmWithWeatherTime_cleanLevel0_trainX/d531eec11664669cff1f6a3ad9639012/model.pkl'},\n",
       "  'XScalerFile': {'fileName': 'scaler.pkl',\n",
       "   'filePath': './scaler/forecasting_Hs2SwineFarmWithWeatherTime_cleanLevel0_trainX/minmax/c1b524a5c854f6e561c4764b1dfb4e6f/scaler.pkl'},\n",
       "  'yScalerFile': {'fileName': 'scaler.pkl',\n",
       "   'filePath': './scaler/forecasting_Hs2SwineFarmWithWeatherTime_cleanLevel0_trainy/minmax/2ef658edf359871df2a5d6f044a18200/scaler.pkl'}}}"
      ]
     },
     "execution_count": 5,
     "metadata": {},
     "output_type": "execute_result"
    }
   ],
   "source": [
    "model_meta"
   ]
  },
  {
   "cell_type": "markdown",
   "id": "f1c95e64",
   "metadata": {},
   "source": [
    "### 1-2. Data Ingestion\n",
    "#### 1-2-1. X-y Data Ingestion pipeline"
   ]
  },
  {
   "cell_type": "code",
   "execution_count": 6,
   "id": "bcd7db6c",
   "metadata": {},
   "outputs": [],
   "source": [
    "model_purpose = model_meta['modelPurpose']\n",
    "dataset_name = model_purpose + '_' + app_name  \n",
    "scaler_param= model_meta['scalerParam']\n",
    "data_name_X = dataset_name + '_cleanLevel' + str(data_clean_level)+'_'+step+'X'\n",
    "data_name_y = dataset_name+'_cleanLevel' + str(data_clean_level)+'_'+ step+'y'\n",
    "data_y_flag = model_meta['data_y_flag']"
   ]
  },
  {
   "cell_type": "code",
   "execution_count": 7,
   "id": "89b9fee1",
   "metadata": {},
   "outputs": [],
   "source": [
    "feature_X_list = model_meta['featureXList']\n",
    "feature_y_list = model_meta[\"featureyList\"]\n",
    "model_file_path = model_meta['files']['modelFile'][\"filePath\"]"
   ]
  },
  {
   "cell_type": "code",
   "execution_count": 8,
   "id": "13054520",
   "metadata": {},
   "outputs": [],
   "source": [
    "# Data Ingestion\n",
    "ingestion_method = 'ms_all'\n",
    "ingestion_param_X = {\n",
    "    \"bucket_name\" : bucket_name,\n",
    "    'ms_name' : data_name_X,\n",
    "    'feature_list' : feature_X_list                              \n",
    "}\n",
    "ingestion_param_y = {\n",
    "    \"bucket_name\" : bucket_name,\n",
    "    'ms_name' : data_name_y,\n",
    "    'feature_list' : feature_y_list                              \n",
    "}"
   ]
  },
  {
   "cell_type": "code",
   "execution_count": 9,
   "id": "70afad55",
   "metadata": {},
   "outputs": [],
   "source": [
    "data_X, data_y = ML_pipeline.Xy_data_preparation(ingestion_param_X, data_y_flag, ingestion_param_y, ingestion_method, db_client)"
   ]
  },
  {
   "cell_type": "markdown",
   "id": "10f39c7d",
   "metadata": {},
   "source": [
    "#### 1-2-2. Random Nan Insert (Test)\n",
    "#### 1-2-3. Data scaling"
   ]
  },
  {
   "cell_type": "code",
   "execution_count": 10,
   "id": "831099f3",
   "metadata": {},
   "outputs": [
    {
     "data": {
      "text/plain": [
       "'./scaler/forecasting_Hs2SwineFarmWithWeatherTime_cleanLevel0_trainy/minmax/2ef658edf359871df2a5d6f044a18200/scaler.pkl'"
      ]
     },
     "execution_count": 10,
     "metadata": {},
     "output_type": "execute_result"
    }
   ],
   "source": [
    "X_scaler_file_path = model_meta['files']['XScalerFile'][\"filePath\"]\n",
    "y_scaler_file_path = model_meta['files']['yScalerFile'][\"filePath\"]\n",
    "y_scaler_file_path"
   ]
  },
  {
   "cell_type": "code",
   "execution_count": 11,
   "id": "d50988dd",
   "metadata": {},
   "outputs": [
    {
     "name": "stderr",
     "output_type": "stream",
     "text": [
      "<frozen importlib._bootstrap>:219: RuntimeWarning: scipy._lib.messagestream.MessageStream size changed, may indicate binary incompatibility. Expected 56 from C header, got 64 from PyObject\n"
     ]
    }
   ],
   "source": [
    "scaler_param = model_meta[\"scalerParam\"]\n",
    "from Clust.clust.ML.tool import scaler as ml_scaler\n",
    "def Xy_data_scaling_test(data_X, data_y, scaler_file_path, scaler_param):\n",
    "    test_X, scaler_X = ml_scaler.get_scaled_test_data(data_X, X_scaler_file_path, scaler_param)\n",
    "    test_y, scaler_y = ml_scaler.get_scaled_test_data(data_y, y_scaler_file_path, scaler_param)\n",
    "    return test_X, scaler_X , test_y, scaler_y "
   ]
  },
  {
   "cell_type": "markdown",
   "id": "a81ea4d2",
   "metadata": {},
   "source": [
    "#### 1-2-2. Random Nan Insert (Test X)\n",
    "#### 1-2-3. Data scaling"
   ]
  },
  {
   "cell_type": "code",
   "execution_count": 12,
   "id": "b199de92",
   "metadata": {},
   "outputs": [
    {
     "name": "stdout",
     "output_type": "stream",
     "text": [
      "nan_limit_num:  12\n",
      "Original num: 2005 Final num: 1979 NaN num: 26\n"
     ]
    }
   ],
   "source": [
    "split_mode = model_meta['dataSplitMode']\n",
    "transformParameter = model_meta[\"transformParameter\"]\n",
    "test_X_array, test_y_array = ML_pipeline.transform_data_by_split_mode(split_mode, transformParameter, test_X, test_y)"
   ]
  },
  {
   "cell_type": "code",
   "execution_count": 13,
   "id": "9340987e",
   "metadata": {},
   "outputs": [],
   "source": [
    "modelParameter = model_meta[\"modelParameter\"]\n",
    "\n",
    "testParameter = {\n",
    "    'device': 'cpu',\n",
    "    'batch_size': model_meta[\"trainParameter\"]['batch_size']\n",
    "}"
   ]
  },
  {
   "cell_type": "code",
   "execution_count": 14,
   "id": "5cc69443",
   "metadata": {},
   "outputs": [
    {
     "ename": "ModuleNotFoundError",
     "evalue": "No module named 'Clust.clust.ML.regression_YK.models.rnn_model'",
     "output_type": "error",
     "traceback": [
      "\u001b[0;31m---------------------------------------------------------------------------\u001b[0m",
      "\u001b[0;31mModuleNotFoundError\u001b[0m                       Traceback (most recent call last)",
      "Cell \u001b[0;32mIn[14], line 2\u001b[0m\n\u001b[1;32m      1\u001b[0m \u001b[38;5;66;03m#3. Test model\u001b[39;00m\n\u001b[0;32m----> 2\u001b[0m preds, trues \u001b[38;5;241m=\u001b[39m \u001b[43mML_pipeline\u001b[49m\u001b[38;5;241;43m.\u001b[39;49m\u001b[43mCLUST_regresstion_test\u001b[49m\u001b[43m(\u001b[49m\u001b[43mtest_X_array\u001b[49m\u001b[43m,\u001b[49m\u001b[43m \u001b[49m\u001b[43mtest_y_array\u001b[49m\u001b[43m,\u001b[49m\u001b[43m \u001b[49m\u001b[43mtestParameter\u001b[49m\u001b[43m,\u001b[49m\u001b[43m \u001b[49m\u001b[43mmodel_method\u001b[49m\u001b[43m,\u001b[49m\u001b[43m \u001b[49m\u001b[43mmodel_file_path\u001b[49m\u001b[43m,\u001b[49m\u001b[43m \u001b[49m\u001b[43mmodelParameter\u001b[49m\u001b[43m)\u001b[49m\n",
      "File \u001b[0;32m~/code/Clust/clust/ML/common/ML_pipeline.py:184\u001b[0m, in \u001b[0;36mCLUST_regresstion_test\u001b[0;34m(test_X_array, test_y_array, testParameter, model_method, model_file_path, modelParameter)\u001b[0m\n\u001b[1;32m    182\u001b[0m rt \u001b[38;5;241m=\u001b[39m RT()\n\u001b[1;32m    183\u001b[0m rt\u001b[38;5;241m.\u001b[39mset_param(testParameter)\n\u001b[0;32m--> 184\u001b[0m \u001b[43mrt\u001b[49m\u001b[38;5;241;43m.\u001b[39;49m\u001b[43mset_model\u001b[49m\u001b[43m(\u001b[49m\u001b[43mmodel_method\u001b[49m\u001b[43m,\u001b[49m\u001b[43m \u001b[49m\u001b[43mmodel_file_path\u001b[49m\u001b[43m,\u001b[49m\u001b[43m \u001b[49m\u001b[43mmodelParameter\u001b[49m\u001b[43m)\u001b[49m\n\u001b[1;32m    185\u001b[0m rt\u001b[38;5;241m.\u001b[39mset_data(test_X_array, test_y_array)\n\u001b[1;32m    186\u001b[0m preds, trues \u001b[38;5;241m=\u001b[39m rt\u001b[38;5;241m.\u001b[39mtest()\n",
      "File \u001b[0;32m~/code/Clust/clust/ML/regression_YK/test.py:53\u001b[0m, in \u001b[0;36mRegressionTest.set_model\u001b[0;34m(self, model_method, model_file_path, model_params)\u001b[0m\n\u001b[1;32m     50\u001b[0m \u001b[38;5;28;01melse\u001b[39;00m:\n\u001b[1;32m     51\u001b[0m     \u001b[38;5;28mprint\u001b[39m(\u001b[38;5;124m'\u001b[39m\u001b[38;5;124mChoose the model correctly\u001b[39m\u001b[38;5;124m'\u001b[39m)\n\u001b[0;32m---> 53\u001b[0m \u001b[38;5;28;43mself\u001b[39;49m\u001b[38;5;241;43m.\u001b[39;49m\u001b[43mmodel\u001b[49m\u001b[38;5;241;43m.\u001b[39;49m\u001b[43mload_model\u001b[49m\u001b[43m(\u001b[49m\u001b[43mmodel_file_path\u001b[49m\u001b[43m)\u001b[49m\n",
      "File \u001b[0;32m~/code/Clust/clust/ML/regression_YK/clust_models/rnn_clust.py:200\u001b[0m, in \u001b[0;36mRNNClust.load_model\u001b[0;34m(self, model_file_path)\u001b[0m\n\u001b[1;32m    193\u001b[0m \u001b[38;5;28;01mdef\u001b[39;00m \u001b[38;5;21mload_model\u001b[39m(\u001b[38;5;28mself\u001b[39m, model_file_path):\n\u001b[1;32m    194\u001b[0m     \u001b[38;5;124;03m\"\"\"\u001b[39;00m\n\u001b[1;32m    195\u001b[0m \u001b[38;5;124;03m    load model from model_file_path\u001b[39;00m\n\u001b[1;32m    196\u001b[0m \n\u001b[1;32m    197\u001b[0m \u001b[38;5;124;03m    Args:\u001b[39;00m\n\u001b[1;32m    198\u001b[0m \u001b[38;5;124;03m        model_file_path (string): path to load saved model\u001b[39;00m\n\u001b[1;32m    199\u001b[0m \u001b[38;5;124;03m    \"\"\"\u001b[39;00m\n\u001b[0;32m--> 200\u001b[0m     \u001b[38;5;28mself\u001b[39m\u001b[38;5;241m.\u001b[39mmodel \u001b[38;5;241m=\u001b[39m \u001b[43mml_model\u001b[49m\u001b[38;5;241;43m.\u001b[39;49m\u001b[43mload_pickle_model\u001b[49m\u001b[43m(\u001b[49m\u001b[43mmodel_file_path\u001b[49m\u001b[43m)\u001b[49m\n",
      "File \u001b[0;32m~/code/Clust/clust/ML/tool/model.py:70\u001b[0m, in \u001b[0;36mload_pickle_model\u001b[0;34m(model_file_path)\u001b[0m\n\u001b[1;32m     64\u001b[0m \u001b[38;5;124;03m\"\"\" load model: : dafult file type is pickle\u001b[39;00m\n\u001b[1;32m     65\u001b[0m \u001b[38;5;124;03mArgs:\u001b[39;00m\n\u001b[1;32m     66\u001b[0m \u001b[38;5;124;03m    model_file_path(str) : model_file_path\u001b[39;00m\n\u001b[1;32m     67\u001b[0m \u001b[38;5;124;03m\u001b[39;00m\n\u001b[1;32m     68\u001b[0m \u001b[38;5;124;03m\"\"\"\u001b[39;00m\n\u001b[1;32m     69\u001b[0m \u001b[38;5;28;01mwith\u001b[39;00m \u001b[38;5;28mopen\u001b[39m(model_file_path, \u001b[38;5;124m'\u001b[39m\u001b[38;5;124mrb\u001b[39m\u001b[38;5;124m'\u001b[39m) \u001b[38;5;28;01mas\u001b[39;00m infile:\n\u001b[0;32m---> 70\u001b[0m     model \u001b[38;5;241m=\u001b[39m \u001b[43mpickle\u001b[49m\u001b[38;5;241;43m.\u001b[39;49m\u001b[43mload\u001b[49m\u001b[43m(\u001b[49m\u001b[43minfile\u001b[49m\u001b[43m)\u001b[49m\n\u001b[1;32m     72\u001b[0m \u001b[38;5;28;01mreturn\u001b[39;00m model\n",
      "\u001b[0;31mModuleNotFoundError\u001b[0m: No module named 'Clust.clust.ML.regression_YK.models.rnn_model'"
     ]
    }
   ],
   "source": [
    "#3. Test model\n",
    "preds, trues = ML_pipeline.CLUST_regresstion_test(test_X_array, test_y_array, testParameter, model_method, model_file_path, modelParameter)"
   ]
  },
  {
   "cell_type": "code",
   "execution_count": null,
   "id": "d73c974f",
   "metadata": {},
   "outputs": [],
   "source": [
    "print(test_X_array.shape, test_y_array.shape)\n",
    "print(preds.shape, trues.shape)\n",
    "target = feature_y_list[0]\n",
    "scaler, feature_list = get_scaler_information_by_y_flag(data_y_flag, scaler_X, scaler_y, feature_X_list, feature_y_list)\n",
    "df_result, result_metrics = get_final_metrics(preds, trues, scaler_param, scaler, feature_list, target)"
   ]
  },
  {
   "cell_type": "code",
   "execution_count": null,
   "id": "689c2452",
   "metadata": {},
   "outputs": [],
   "source": [
    "print(df_result)\n",
    "print(result_metrics)\n",
    "df_result.plot()"
   ]
  },
  {
   "cell_type": "code",
   "execution_count": null,
   "id": "0957060a",
   "metadata": {},
   "outputs": [],
   "source": [
    "# 5. Only For IPython Notebook\n",
    "#from Clust.clust.tool.plot.plot_two_data import plot_predictions\n",
    "#import plotly.offline as pyo\n",
    "# Set notebook mode to work in offline\n",
    "#pyo.init_notebook_mode()\n",
    "#plot_predictions(df_result)"
   ]
  },
  {
   "cell_type": "code",
   "execution_count": null,
   "id": "dc3e5cc7",
   "metadata": {},
   "outputs": [],
   "source": []
  }
 ],
 "metadata": {
  "kernelspec": {
   "display_name": "Python 3 (ipykernel)",
   "language": "python",
   "name": "python3"
  },
  "language_info": {
   "codemirror_mode": {
    "name": "ipython",
    "version": 3
   },
   "file_extension": ".py",
   "mimetype": "text/x-python",
   "name": "python",
   "nbconvert_exporter": "python",
   "pygments_lexer": "ipython3",
   "version": "3.8.8"
  },
  "toc": {
   "base_numbering": 1,
   "nav_menu": {},
   "number_sections": true,
   "sideBar": true,
   "skip_h1_title": false,
   "title_cell": "Table of Contents",
   "title_sidebar": "Contents",
   "toc_cell": false,
   "toc_position": {},
   "toc_section_display": true,
   "toc_window_display": false
  },
  "vscode": {
   "interpreter": {
    "hash": "e92cea83a25a22cd774ff9f8132db57ccb94d86fd97b7fe80ee00c35daecdd05"
   }
  }
 },
 "nbformat": 4,
 "nbformat_minor": 5
}
