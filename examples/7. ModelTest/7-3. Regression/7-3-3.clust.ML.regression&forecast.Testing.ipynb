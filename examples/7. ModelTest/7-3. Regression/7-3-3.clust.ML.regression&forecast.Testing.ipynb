{
 "cells": [
  {
   "cell_type": "markdown",
   "id": "fd79d0c3",
   "metadata": {},
   "source": [
    "# 3. Test"
   ]
  },
  {
   "cell_type": "code",
   "execution_count": 1,
   "id": "1611f6b2",
   "metadata": {},
   "outputs": [
    {
     "name": "stdout",
     "output_type": "stream",
     "text": [
      "cpu is available.\n"
     ]
    }
   ],
   "source": [
    "import sys, os\n",
    "import pandas as pd\n",
    "sys.path.append(\"../../../../\")\n",
    "\n",
    "from Clust.setting import influx_setting_KETI as ins\n",
    "from Clust.clust.ingestion.influx import influx_client_v2 as influx_Client\n",
    "from Clust.clust.ingestion.mongo.mongo_client import MongoClient\n",
    "db_client = influx_Client.InfluxClient(ins.CLUSTDataServer2)\n",
    "mongo_client = MongoClient(ins.CLUSTMetaInfo2)\n",
    "\n",
    "import torch\n",
    "device = \"cuda\" if torch.cuda.is_available() else \"cpu\"\n",
    "print(f\"{device}\" \" is available.\")"
   ]
  },
  {
   "cell_type": "code",
   "execution_count": 2,
   "id": "1d986cdb",
   "metadata": {},
   "outputs": [],
   "source": [
    "from Clust.clust.ML.common import ML_pipeline, tool"
   ]
  },
  {
   "cell_type": "markdown",
   "id": "19f833ac",
   "metadata": {},
   "source": [
    "## 1. Data Preparation"
   ]
  },
  {
   "cell_type": "code",
   "execution_count": 3,
   "id": "ef141cff",
   "metadata": {},
   "outputs": [],
   "source": [
    "app_name= \"Hs2SwineFarmWithWeatherTime\" # \"Hs2SwineFarmWithWeatherTime\", \"energy\"\n",
    "model_method = 'GRU_rg'\n",
    "model_clean = True\n",
    "step = 'test'\n",
    "bucket_name = 'integration'\n",
    "# data_clean_level=0"
   ]
  },
  {
   "cell_type": "code",
   "execution_count": 4,
   "id": "5d025680",
   "metadata": {},
   "outputs": [],
   "source": [
    "model_name = None\n",
    "model_name = tool.get_default_model_name(model_name, app_name, model_method, model_clean)\n",
    "collection_name = 'meta'\n",
    "db_name = 'model'\n",
    "model_meta_list= mongo_client.get_document_by_json(db_name, collection_name, {'modelName': model_name})\n",
    "model_meta = model_meta_list[0] ## ??"
   ]
  },
  {
   "cell_type": "code",
   "execution_count": 50,
   "id": "4cb14391",
   "metadata": {},
   "outputs": [
    {
     "data": {
      "text/plain": [
       "{'trainDataInfo': {'bucket_name': 'integration',\n",
       "  'ms_name': 'forecasting_Hs2SwineFarmWithWeatherTime_cleanLevel4_trainX',\n",
       "  'ingestion_type': 'multiple_ms_by_time',\n",
       "  'ingestion_param': {'start_time': '2021-02-01 00:00:00',\n",
       "   'end_time': '2021-03-10 00:00:00',\n",
       "   'ms_list_info': [['farm_swine_air', 'HS2'],\n",
       "    ['weather_outdoor_keti_clean', 'sangju'],\n",
       "    ['life_additional_Info', 'trigonometicInfoByHours']]},\n",
       "  'processing_type': 'step_3',\n",
       "  'process_param': {'refine_param': {'removeDuplication': {'flag': True},\n",
       "    'staticFrequency': {'flag': True, 'frequency': None}},\n",
       "   'outlier_param': {'certainErrorToNaN': {'flag': True},\n",
       "    'unCertainErrorToNaN': {'flag': True,\n",
       "     'param': {'outlierDetectorConfig': [{'algorithm': 'IQR',\n",
       "        'percentile': 99,\n",
       "        'alg_parameter': {'weight': 100}}]}}},\n",
       "   'imputation_param': {'flag': True,\n",
       "    'imputation_method': [{'min': 0,\n",
       "      'max': 2,\n",
       "      'method': 'linear',\n",
       "      'parameter': {}}],\n",
       "    'totalNonNanRatio': 90}},\n",
       "  'integration_param': {'integration_frequency': 600,\n",
       "   'param': {},\n",
       "   'method': 'meta',\n",
       "   'integration_duration': 'common'},\n",
       "  'clean_level': 4},\n",
       " 'modelName': 'Hs2SwineFarmWithWeatherTime_GRU_rg_True',\n",
       " 'dataSplitMode': 'step_split',\n",
       " 'featureXList': ['Temperature', 'out_temp', 'sin_hour'],\n",
       " 'featureyList': ['Temperature'],\n",
       " 'data_y_flag': False,\n",
       " 'trainDataType': 'timeseries',\n",
       " 'modelPurpose': 'forecasting',\n",
       " 'modelMethod': 'GRU_rg',\n",
       " 'modelTags': ['model_tag_example'],\n",
       " 'modelCleanLevel': True,\n",
       " 'trainParameter': {'lr': 0.0001,\n",
       "  'weight_decay': 1e-06,\n",
       "  'device': 'cpu',\n",
       "  'n_epochs': 20,\n",
       "  'batch_size': 16},\n",
       " 'modelParameter': {'rnn_type': 'lstm',\n",
       "  'input_size': 3,\n",
       "  'hidden_size': 64,\n",
       "  'num_layers': 2,\n",
       "  'output_dim': 1,\n",
       "  'dropout': 0.1,\n",
       "  'bidirectional': True},\n",
       " 'transformParameter': {'future_step': 2,\n",
       "  'past_step': 12,\n",
       "  'max_nan_limit_ratio': 0.5},\n",
       " 'scalerParam': 'scale',\n",
       " 'trainDataName': ['forecasting_Hs2SwineFarmWithWeatherTime_cleanLevel4_trainX',\n",
       "  'forecasting_Hs2SwineFarmWithWeatherTime_cleanLevel4_trainy'],\n",
       " 'files': {'modelFile': {'fileName': 'model.pth',\n",
       "   'filePath': './Models/GRU_rg/Hs2SwineFarmWithWeatherTime_GRU_rg_True/forecasting_Hs2SwineFarmWithWeatherTime_cleanLevel4_trainX/e0c69926ea63923d2dbafa434a27060e/model.pkl'},\n",
       "  'XScalerFile': {'fileName': 'scaler.pkl',\n",
       "   'filePath': './scaler/forecasting_Hs2SwineFarmWithWeatherTime_cleanLevel4_trainX/minmax/c1b524a5c854f6e561c4764b1dfb4e6f/scaler.pkl'},\n",
       "  'yScalerFile': {'fileName': 'scaler.pkl',\n",
       "   'filePath': './scaler/forecasting_Hs2SwineFarmWithWeatherTime_cleanLevel4_trainy/minmax/2ef658edf359871df2a5d6f044a18200/scaler.pkl'}}}"
      ]
     },
     "execution_count": 50,
     "metadata": {},
     "output_type": "execute_result"
    }
   ],
   "source": [
    "model_meta"
   ]
  },
  {
   "cell_type": "markdown",
   "id": "f1c95e64",
   "metadata": {},
   "source": [
    "### 1-2. Data Ingestion\n",
    "#### 1-2-1. X-y Data Ingestion pipeline"
   ]
  },
  {
   "cell_type": "code",
   "execution_count": 5,
   "id": "bcd7db6c",
   "metadata": {},
   "outputs": [],
   "source": [
    "model_purpose = model_meta['modelPurpose']\n",
    "dataset_name = model_purpose + '_' + app_name  \n",
    "scaler_param= model_meta['scalerParam']\n",
    "data_name_X = dataset_name + '_cleanLevel' + str(data_clean_level)+'_'+step+'X'\n",
    "data_name_y = dataset_name+'_cleanLevel' + str(data_clean_level)+'_'+ step+'y'\n",
    "data_y_flag = model_meta['data_y_flag']"
   ]
  },
  {
   "cell_type": "code",
   "execution_count": 6,
   "id": "89b9fee1",
   "metadata": {},
   "outputs": [],
   "source": [
    "feature_X_list = model_meta['featureXList']\n",
    "feature_y_list = model_meta[\"featureyList\"]\n",
    "model_file_path = model_meta['files']['modelFile'][\"filePath\"]"
   ]
  },
  {
   "cell_type": "code",
   "execution_count": 7,
   "id": "13054520",
   "metadata": {},
   "outputs": [],
   "source": [
    "# Data Ingestion\n",
    "ingestion_method = 'ms_all'\n",
    "ingestion_param_X = {\n",
    "    \"bucket_name\" : bucket_name,\n",
    "    'ms_name' : data_name_X,\n",
    "    'feature_list' : feature_X_list                              \n",
    "}\n",
    "ingestion_param_y = {\n",
    "    \"bucket_name\" : bucket_name,\n",
    "    'ms_name' : data_name_y,\n",
    "    'feature_list' : feature_y_list                              \n",
    "}"
   ]
  },
  {
   "cell_type": "code",
   "execution_count": 8,
   "id": "70afad55",
   "metadata": {},
   "outputs": [],
   "source": [
    "data_X, data_y = ML_pipeline.Xy_data_preparation(ingestion_param_X, data_y_flag, ingestion_param_y, ingestion_method, db_client)"
   ]
  },
  {
   "cell_type": "markdown",
   "id": "10f39c7d",
   "metadata": {},
   "source": [
    "#### 1-2-2. Random Nan Insert (Test)\n",
    "#### 1-2-3. Data scaling"
   ]
  },
  {
   "cell_type": "code",
   "execution_count": 9,
   "id": "831099f3",
   "metadata": {},
   "outputs": [
    {
     "data": {
      "text/plain": [
       "'./scaler/forecasting_Hs2SwineFarmWithWeatherTime_cleanLevel4_trainy/minmax/2ef658edf359871df2a5d6f044a18200/scaler.pkl'"
      ]
     },
     "execution_count": 9,
     "metadata": {},
     "output_type": "execute_result"
    }
   ],
   "source": [
    "X_scaler_file_path = model_meta['files']['XScalerFile'][\"filePath\"]\n",
    "y_scaler_file_path = model_meta['files']['yScalerFile'][\"filePath\"]\n",
    "y_scaler_file_path"
   ]
  },
  {
   "cell_type": "code",
   "execution_count": 10,
   "id": "d50988dd",
   "metadata": {},
   "outputs": [],
   "source": [
    "scaler_param = model_meta[\"scalerParam\"]\n",
    "test_X, scaler_X , test_y, scaler_y  = ML_pipeline.Xy_data_scaling_test(data_X, data_y, X_scaler_file_path, y_scaler_file_path, scaler_param)"
   ]
  },
  {
   "cell_type": "markdown",
   "id": "a81ea4d2",
   "metadata": {},
   "source": [
    "#### 1-2-2. Random Nan Insert (Test X)\n",
    "#### 1-2-3. Data scaling"
   ]
  },
  {
   "cell_type": "code",
   "execution_count": 11,
   "id": "b199de92",
   "metadata": {},
   "outputs": [
    {
     "name": "stdout",
     "output_type": "stream",
     "text": [
      "nan_limit_num:  6\n",
      "Original num: 1003 Final num: 989 NaN num: 14\n"
     ]
    }
   ],
   "source": [
    "split_mode = model_meta['dataSplitMode']\n",
    "transformParameter = model_meta[\"transformParameter\"]\n",
    "test_X_array, test_y_array = ML_pipeline.transform_data_by_split_mode(split_mode, transformParameter, test_X, test_y)"
   ]
  },
  {
   "cell_type": "code",
   "execution_count": 12,
   "id": "9340987e",
   "metadata": {},
   "outputs": [],
   "source": [
    "modelParameter = model_meta[\"modelParameter\"]\n",
    "\n",
    "testParameter = {\n",
    "    'device': 'cpu',\n",
    "    'batch_size': model_meta[\"trainParameter\"]['batch_size']\n",
    "}"
   ]
  },
  {
   "cell_type": "code",
   "execution_count": 13,
   "id": "5cc69443",
   "metadata": {},
   "outputs": [
    {
     "name": "stdout",
     "output_type": "stream",
     "text": [
      "features shape: torch.Size([989, 12, 3]) targets shape:  torch.Size([989, 1])\n",
      "\n",
      "Start testing data\n",
      "\n"
     ]
    }
   ],
   "source": [
    "#3. Test model\n",
    "preds, trues = ML_pipeline.CLUST_regresstion_test(test_X_array, test_y_array, testParameter, model_method, model_file_path, modelParameter)"
   ]
  },
  {
   "cell_type": "code",
   "execution_count": 17,
   "id": "d73c974f",
   "metadata": {},
   "outputs": [
    {
     "name": "stdout",
     "output_type": "stream",
     "text": [
      "(989, 12, 3) (989, 1)\n",
      "(976,) (976,)\n",
      "scale\n"
     ]
    }
   ],
   "source": [
    "print(test_X_array.shape, test_y_array.shape)\n",
    "print(preds.shape, trues.shape)\n",
    "target = feature_y_list[0]\n",
    "scaler, feature_list = ML_pipeline.get_scaler_information_by_y_flag(data_y_flag, scaler_X, scaler_y, feature_X_list, feature_y_list)\n",
    "df_result, result_metrics = ML_pipeline.get_final_metrics(preds, trues, scaler_param, scaler, feature_list, target)"
   ]
  },
  {
   "cell_type": "code",
   "execution_count": 18,
   "id": "689c2452",
   "metadata": {},
   "outputs": [
    {
     "name": "stdout",
     "output_type": "stream",
     "text": [
      "         value  prediction\n",
      "0    25.380000   25.338971\n",
      "1    25.580000   25.457777\n",
      "2    25.740000   25.576841\n",
      "3    25.860000   25.713833\n",
      "4    26.040000   25.858994\n",
      "..         ...         ...\n",
      "971  20.140000   20.583612\n",
      "972  20.200001   20.565372\n",
      "973  20.220000   20.412091\n",
      "974  20.220000   20.375525\n",
      "975  19.940001   20.375148\n",
      "\n",
      "[976 rows x 2 columns]\n",
      "{'mae': 0.4131571050794397, 'rmse': 0.5444710179979978, 'r2': 0.9245402849656444, 'mape': 1.6730402197174126}\n"
     ]
    },
    {
     "data": {
      "text/plain": [
       "<AxesSubplot:>"
      ]
     },
     "execution_count": 18,
     "metadata": {},
     "output_type": "execute_result"
    },
    {
     "data": {
      "image/png": "[encoded data removed]",
      "text/plain": [
       "<Figure size 432x288 with 1 Axes>"
      ]
     },
     "metadata": {
      "needs_background": "light"
     },
     "output_type": "display_data"
    }
   ],
   "source": [
    "print(df_result)\n",
    "print(result_metrics)\n",
    "df_result.plot()"
   ]
  },
  {
   "cell_type": "code",
   "execution_count": null,
   "id": "0957060a",
   "metadata": {},
   "outputs": [],
   "source": [
    "# 5. Only For IPython Notebook\n",
    "#from Clust.clust.tool.plot.plot_two_data import plot_predictions\n",
    "#import plotly.offline as pyo\n",
    "# Set notebook mode to work in offline\n",
    "#pyo.init_notebook_mode()\n",
    "#plot_predictions(df_result)"
   ]
  },
  {
   "cell_type": "code",
   "execution_count": null,
   "id": "dc3e5cc7",
   "metadata": {},
   "outputs": [],
   "source": []
  }
 ],
 "metadata": {
  "kernelspec": {
   "display_name": "Python 3",
   "language": "python",
   "name": "python3"
  },
  "language_info": {
   "codemirror_mode": {
    "name": "ipython",
    "version": 3
   },
   "file_extension": ".py",
   "mimetype": "text/x-python",
   "name": "python",
   "nbconvert_exporter": "python",
   "pygments_lexer": "ipython3",
   "version": "3.8.8"
  },
  "toc": {
   "base_numbering": 1,
   "nav_menu": {},
   "number_sections": true,
   "sideBar": true,
   "skip_h1_title": false,
   "title_cell": "Table of Contents",
   "title_sidebar": "Contents",
   "toc_cell": false,
   "toc_position": {},
   "toc_section_display": true,
   "toc_window_display": false
  },
  "vscode": {
   "interpreter": {
    "hash": "e92cea83a25a22cd774ff9f8132db57ccb94d86fd97b7fe80ee00c35daecdd05"
   }
  }
 },
 "nbformat": 4,
 "nbformat_minor": 5
}
