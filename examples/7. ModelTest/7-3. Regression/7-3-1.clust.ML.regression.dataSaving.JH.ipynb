{
 "cells": [
  {
   "cell_type": "code",
   "execution_count": 1,
   "id": "b923eadd",
   "metadata": {
    "ExecuteTime": {
     "end_time": "2022-07-28T02:10:44.338578Z",
     "start_time": "2022-07-28T02:10:43.901232Z"
    }
   },
   "outputs": [
    {
     "data": {
      "text/plain": [
       "'\\n#pathSetting\\nfrom Clust.setting import influx_setting_KETI as ins\\nfrom Clust.clust.ingestion.influx import influx_client_v2 as influx_Client\\ndb_client = influx_Client.InfluxClient(ins.CLUSTDataServer2)\\n\\n\\nDataMetaPath = \"./integratedData.json\"\\ncsvDataFileRootDir =\\'./data/\\'\\nscalerRootDir =\\'./scaler/\\'\\ntrainModelMetaFilePath =\"./model.json\"\\n'"
      ]
     },
     "execution_count": 1,
     "metadata": {},
     "output_type": "execute_result"
    }
   ],
   "source": [
    "import sys, os\n",
    "import pandas as pd\n",
    "\n",
    "sys.path.append(\"../\")\n",
    "sys.path.append(\"../../\")\n",
    "sys.path.append(\"../../../\")\n",
    "import pathSetting as setting\n",
    "import pathSetting\n",
    "\n",
    "from Clust.clust.ML.common.common import p1_integratedDataSaving as p1\n",
    "\n",
    "from Clust.setting import influx_setting_KETI as ins\n",
    "from Clust.clust.ingestion.influx import influx_client_v2 as influx_Client\n",
    "from Clust.clust.ingestion.mongo.mongo_client import MongoClient\n",
    "\n",
    "db_client = influx_Client.InfluxClient(ins.CLUSTDataServer2)\n",
    "mongo_client = MongoClient(ins.CLUSTMetaInfo2)\n",
    "\"\"\"\n",
    "#pathSetting\n",
    "from Clust.setting import influx_setting_KETI as ins\n",
    "from Clust.clust.ingestion.influx import influx_client_v2 as influx_Client\n",
    "db_client = influx_Client.InfluxClient(ins.CLUSTDataServer2)\n",
    "\n",
    "\n",
    "DataMetaPath = \"./integratedData.json\"\n",
    "csvDataFileRootDir ='./data/'\n",
    "scalerRootDir ='./scaler/'\n",
    "trainModelMetaFilePath =\"./model.json\"\n",
    "\"\"\""
   ]
  },
  {
   "cell_type": "code",
   "execution_count": 2,
   "id": "bcf3ade5",
   "metadata": {},
   "outputs": [],
   "source": [
    "def integrated_data_meta(data_name, dataInfo, start_time, end_time, clean_param):\n",
    "    data_info = {}\n",
    "    data_info[\"data_name\"] = data_name\n",
    "    data_info[\"dataInfo\"] = dataInfo\n",
    "    data_info[\"startTime\"] = start_time\n",
    "    data_info[\"endTime\"] = end_time\n",
    "    data_info[\"cleanParam\"] = clean_param\n",
    "    \n",
    "    return data_info"
   ]
  },
  {
   "cell_type": "code",
   "execution_count": 3,
   "id": "ff3f97b4",
   "metadata": {},
   "outputs": [],
   "source": [
    "db_name = 'integrated_data'"
   ]
  },
  {
   "cell_type": "code",
   "execution_count": 4,
   "id": "d23c5587",
   "metadata": {},
   "outputs": [
    {
     "name": "stdout",
     "output_type": "stream",
     "text": [
      "===integrationStart===\n",
      "===integrationEnd===\n",
      "========== write success ==========\n",
      "========== Data Svae Success ==========\n",
      "===integrationStart===\n",
      "===integrationEnd===\n",
      "========== write success ==========\n",
      "========== Data Svae Success ==========\n",
      "===integrationStart===\n",
      "===integrationEnd===\n",
      "========== write success ==========\n",
      "========== Data Svae Success ==========\n",
      "===integrationStart===\n",
      "===integrationEnd===\n",
      "========== write success ==========\n",
      "========== Data Svae Success ==========\n"
     ]
    }
   ],
   "source": [
    "# 테스트를 위한 변수 셋팅 및 설정 - 4개의 데이터를 만들어보기 위한 가상 설정\n",
    "modeList =['trainX', 'trainy', 'testX', 'testy']\n",
    "for mode in modeList:\n",
    "    \n",
    "    trainStartTime = \"2016-01-11\"\n",
    "    trainEndTime = \"2016-04-15\"\n",
    "\n",
    "    testStartTime = \"2021-01-01\"\n",
    "    testEndTim = \"2021-02-12\"\n",
    "    trainXDataInfo = [['life_indoor_environment', 'humidityTrain_10min'], ['life_indoor_environment', 'temperatureTrain_10min'], \n",
    "                ['weather_outdoor_environment', 'belgiumChieverseAirportTrain_10min']]\n",
    "\n",
    "    testXDataInfo = [['life_indoor_environment', 'humidityTest_10min'], ['life_indoor_environment', 'temperatureTest_10min'], \n",
    "                ['weather_outdoor_environment', 'belgiumChieverseAirportTest_10min']]\n",
    "    \n",
    "    # 1. Set Parameter \n",
    "    # 1-1 StartTime, EndTime, DataInfo, Integration_freq_sec, cleanParam, processParam\n",
    "\n",
    "    if mode == 'trainX':\n",
    "        dataName = 'IntegraionTrainX'\n",
    "        startTime = trainStartTime\n",
    "        endTime = trainEndTime\n",
    "        dataInfo = trainXDataInfo\n",
    "        integration_freq_sec = 60 * 10 # 10분\n",
    "\n",
    "    elif mode =='testX':\n",
    "        dataName = 'IntegraionTestX'\n",
    "        startTime = testStartTime\n",
    "        endTime = testEndTim\n",
    "        dataInfo = testXDataInfo\n",
    "        integration_freq_sec = 60 * 10 # 10분\n",
    "\n",
    "    elif mode == 'trainy':\n",
    "        dataName = 'IntegraionTrainy'\n",
    "        startTime = trainStartTime\n",
    "        endTime = trainEndTime\n",
    "        dataInfo = [['life_indoor_environment', 'applianceEnergyDatasetTrainy_1day']]\n",
    "        integration_freq_sec = 60 * 60*24 # 10분\n",
    "    elif mode =='testy':\n",
    "        dataName = 'IntegraionTesty'\n",
    "        startTime = testStartTime\n",
    "        endTime = testEndTim\n",
    "        dataInfo = [['life_indoor_environment', 'applianceEnergyDatasetTesty_1day']]\n",
    "        integration_freq_sec = 60 * 60*24\n",
    "\n",
    "\n",
    "    #cleanParam =\"Clean\"\n",
    "    cleanParam = \"NoClean\"\n",
    "    processParam = p1.get_process_param(cleanParam)\n",
    "    \n",
    "    # 2. \n",
    "    datasetName =\"ActionPatternData\"\n",
    "    \n",
    "    # save to influxdb\n",
    "    ms_name = datasetName + '_' + mode + '_' + cleanParam\n",
    "    data = p1.getData(pathSetting.db_client, dataInfo, integration_freq_sec, processParam, startTime, endTime)\n",
    "    db_client.write_db(db_name, ms_name, data)\n",
    "\n",
    "    # save to mongodb\n",
    "    collection_name = datasetName\n",
    "    data_info = integrated_data_meta(ms_name, dataInfo, startTime, endTime, cleanParam)\n",
    "    mongo_client.insert_document(db_name, collection_name, data_info)"
   ]
  },
  {
   "cell_type": "code",
   "execution_count": 5,
   "id": "1d92191e",
   "metadata": {},
   "outputs": [
    {
     "data": {
      "text/plain": [
       "{'data_name': 'ActionPatternData_testy_NoClean',\n",
       " 'dataInfo': [['life_indoor_environment', 'applianceEnergyDatasetTesty_1day']],\n",
       " 'startTime': '2021-01-01',\n",
       " 'endTime': '2021-02-12',\n",
       " 'cleanParam': 'NoClean',\n",
       " '_id': ObjectId('64350f2c606b386886425724')}"
      ]
     },
     "execution_count": 5,
     "metadata": {},
     "output_type": "execute_result"
    }
   ],
   "source": [
    "data_info"
   ]
  },
  {
   "cell_type": "code",
   "execution_count": null,
   "id": "13bb5b54",
   "metadata": {},
   "outputs": [],
   "source": []
  }
 ],
 "metadata": {
  "hide_input": false,
  "kernelspec": {
   "display_name": "Python 3",
   "language": "python",
   "name": "python3"
  },
  "language_info": {
   "codemirror_mode": {
    "name": "ipython",
    "version": 3
   },
   "file_extension": ".py",
   "mimetype": "text/x-python",
   "name": "python",
   "nbconvert_exporter": "python",
   "pygments_lexer": "ipython3",
   "version": "3.8.8"
  },
  "toc": {
   "base_numbering": 1,
   "nav_menu": {},
   "number_sections": true,
   "sideBar": true,
   "skip_h1_title": false,
   "title_cell": "Table of Contents",
   "title_sidebar": "Contents",
   "toc_cell": false,
   "toc_position": {},
   "toc_section_display": true,
   "toc_window_display": false
  },
  "vscode": {
   "interpreter": {
    "hash": "f1ef7e1f828dbb4e75f421045d2c565197efaf8469a0be4a314c6ea8378b5cb2"
   }
  }
 },
 "nbformat": 4,
 "nbformat_minor": 5
}
