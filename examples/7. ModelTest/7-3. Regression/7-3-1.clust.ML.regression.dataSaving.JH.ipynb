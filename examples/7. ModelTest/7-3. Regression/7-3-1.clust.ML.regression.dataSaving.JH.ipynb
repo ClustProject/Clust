{
 "cells": [
  {
   "cell_type": "code",
   "execution_count": 1,
   "id": "b923eadd",
   "metadata": {
    "ExecuteTime": {
     "end_time": "2022-07-28T02:10:44.338578Z",
     "start_time": "2022-07-28T02:10:43.901232Z"
    }
   },
   "outputs": [
    {
     "data": {
      "text/plain": [
       "'\\n#pathSetting\\nfrom Clust.setting import influx_setting_KETI as ins\\nfrom Clust.clust.ingestion.influx import influx_Client_v2 as influx_Client\\ndb_client = influx_Client.influxClient(ins.CLUSTDataServer2)\\n\\n\\nDataMetaPath = \"./integratedData.json\"\\ncsvDataFileRootDir =\\'./data/\\'\\nscalerRootDir =\\'./scaler/\\'\\ntrainModelMetaFilePath =\"./model.json\"\\n'"
      ]
     },
     "execution_count": 1,
     "metadata": {},
     "output_type": "execute_result"
    }
   ],
   "source": [
    "import sys, os\n",
    "import pandas as pd\n",
    "import pathSetting as setting\n",
    "sys.path.append(\"../../..\")\n",
    "\n",
    "from Clust.clust.ML.common.common import p1_integratedDataSaving as p1\n",
    "import pathSetting\n",
    "\"\"\"\n",
    "#pathSetting\n",
    "from Clust.setting import influx_setting_KETI as ins\n",
    "from Clust.clust.ingestion.influx import influx_Client_v2 as influx_Client\n",
    "db_client = influx_Client.influxClient(ins.CLUSTDataServer2)\n",
    "\n",
    "\n",
    "DataMetaPath = \"./integratedData.json\"\n",
    "csvDataFileRootDir ='./data/'\n",
    "scalerRootDir ='./scaler/'\n",
    "trainModelMetaFilePath =\"./model.json\"\n",
    "\"\"\""
   ]
  },
  {
   "cell_type": "code",
   "execution_count": 2,
   "id": "d23c5587",
   "metadata": {},
   "outputs": [],
   "source": [
    "# 테스트를 위한 변수 셋팅 및 설정 - 4개의 데이터를 만들어보기 위한 가상 설정\n",
    "\n",
    "modeList =['trainX', 'trainy', 'testX', 'testy']\n",
    "mode = modeList[3]\n",
    "\n",
    "trainStartTime = \"2016-01-11\"\n",
    "trainEndTime = \"2016-04-15\"\n",
    "\n",
    "testStartTime = \"2021-01-01\"\n",
    "testEndTim = \"2021-02-12\"\n",
    "trainXDataInfo = [['life_indoor_environment', 'humidityTrain_10min'], ['life_indoor_environment', 'temperatureTrain_10min'], \n",
    "            ['weather_outdoor_environment', 'belgiumChieverseAirportTrain_10min']]\n",
    "\n",
    "testXDataInfo = [['life_indoor_environment', 'humidityTest_10min'], ['life_indoor_environment', 'temperatureTest_10min'], \n",
    "            ['weather_outdoor_environment', 'belgiumChieverseAirportTest_10min']]"
   ]
  },
  {
   "cell_type": "markdown",
   "id": "16027317",
   "metadata": {},
   "source": [
    "## Setting"
   ]
  },
  {
   "cell_type": "code",
   "execution_count": null,
   "id": "c6561220",
   "metadata": {
    "ExecuteTime": {
     "end_time": "2022-07-28T02:10:46.258347Z",
     "start_time": "2022-07-28T02:10:46.250946Z"
    }
   },
   "outputs": [],
   "source": [
    "# 1. Set Parameter \n",
    "# 1-1 StartTime, EndTime, DataInfo, Integration_freq_sec, cleanParam, processParam\n",
    "\n",
    "if mode == 'trainX':\n",
    "    dataName = 'IntegraionTrainX'\n",
    "    startTime = trainStartTime\n",
    "    endTime = trainEndTime\n",
    "    dataInfo = trainXDataInfo\n",
    "    integration_freq_sec = 60 * 10 # 10분\n",
    "    \n",
    "elif mode =='testX':\n",
    "    dataName = 'IntegraionTestX'\n",
    "    startTime = testStartTime\n",
    "    endTime = testEndTim\n",
    "    dataInfo = testXDataInfo\n",
    "    integration_freq_sec = 60 * 10 # 10분\n",
    "    \n",
    "elif mode == 'trainy':\n",
    "    dataName = 'IntegraionTrainy'\n",
    "    startTime = trainStartTime\n",
    "    endTime = trainEndTime\n",
    "    dataInfo = [['life_indoor_environment', 'applianceEnergyDatasetTrainy_1day']]\n",
    "    integration_freq_sec = 60 * 60*24 # 10분\n",
    "elif mode =='testy':\n",
    "    dataName = 'IntegraionTesty'\n",
    "    startTime = testStartTime\n",
    "    endTime = testEndTim\n",
    "    dataInfo = [['life_indoor_environment', 'applianceEnergyDatasetTesty_1day']]\n",
    "    integration_freq_sec = 60 * 60*24\n",
    "\n",
    "# 1-2. Set SaveMode\n",
    "DataSaveMode='CSV' #or influx\n",
    "\n",
    "# 1-3\n",
    "#cleanParam =\"Clean\"\n",
    "cleanParam = \"NoClean\"\n",
    "processParam = p1.getProcessParam(cleanParam) "
   ]
  },
  {
   "cell_type": "markdown",
   "id": "8a8b128b",
   "metadata": {},
   "source": [
    "## Data & Meta Save"
   ]
  },
  {
   "cell_type": "code",
   "execution_count": 4,
   "id": "ff25ed53",
   "metadata": {
    "ExecuteTime": {
     "end_time": "2022-07-28T02:15:05.875368Z",
     "start_time": "2022-07-28T02:15:05.722481Z"
    },
    "scrolled": false
   },
   "outputs": [
    {
     "name": "stdout",
     "output_type": "stream",
     "text": [
      "processingStart\n",
      "processingEnd\n",
      "integrationStart\n",
      "integrationEnd\n",
      "processingStart\n",
      "processingEnd\n",
      "integrationStart\n",
      "integrationEnd\n"
     ]
    }
   ],
   "source": [
    "# 2. \n",
    "data = p1.getData(pathSetting.db_client, dataInfo, integration_freq_sec, processParam, startTime, endTime)\n",
    "\n",
    "dbName =\"IntDataForRegression\"\n",
    "datasetName =\"ActionPatternData\"\n",
    "# dataName =mode+'_'+ datasetName\n",
    "# dataName = getNewDataName()\n",
    "data = p1.getData(pathSetting.db_client, dataInfo, integration_freq_sec, processParam, startTime, endTime)\n",
    "if DataSaveMode == 'influx':\n",
    "    p1.saveInfluxData(dbName, dataName, data, pathSetting.db_client)\n",
    "elif DataSaveMode == 'CSV':\n",
    "    fileName = p1.saveCSVData(pathSetting.dataFolderPath, dataName, data)\n",
    "p1.saveJsonMeta(pathSetting.DataMetaPath, dataName, processParam, dataInfo,integration_freq_sec, startTime, endTime, cleanParam, DataSaveMode)"
   ]
  },
  {
   "cell_type": "code",
   "execution_count": null,
   "id": "31111695",
   "metadata": {},
   "outputs": [],
   "source": []
  },
  {
   "cell_type": "code",
   "execution_count": null,
   "id": "99e068be",
   "metadata": {},
   "outputs": [],
   "source": []
  }
 ],
 "metadata": {
  "hide_input": false,
  "kernelspec": {
   "display_name": "Python 3 (ipykernel)",
   "language": "python",
   "name": "python3"
  },
  "language_info": {
   "codemirror_mode": {
    "name": "ipython",
    "version": 3
   },
   "file_extension": ".py",
   "mimetype": "text/x-python",
   "name": "python",
   "nbconvert_exporter": "python",
   "pygments_lexer": "ipython3",
   "version": "3.8.8"
  },
  "toc": {
   "base_numbering": 1,
   "nav_menu": {},
   "number_sections": true,
   "sideBar": true,
   "skip_h1_title": false,
   "title_cell": "Table of Contents",
   "title_sidebar": "Contents",
   "toc_cell": false,
   "toc_position": {},
   "toc_section_display": true,
   "toc_window_display": false
  },
  "vscode": {
   "interpreter": {
    "hash": "f1ef7e1f828dbb4e75f421045d2c565197efaf8469a0be4a314c6ea8378b5cb2"
   }
  }
 },
 "nbformat": 4,
 "nbformat_minor": 5
}
