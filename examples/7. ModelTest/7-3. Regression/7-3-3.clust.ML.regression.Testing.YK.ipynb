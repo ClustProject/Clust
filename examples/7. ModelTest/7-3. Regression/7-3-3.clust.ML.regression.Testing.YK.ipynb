{
 "cells": [
  {
   "cell_type": "markdown",
   "id": "fd79d0c3",
   "metadata": {},
   "source": [
    "# Test"
   ]
  },
  {
   "cell_type": "markdown",
   "id": "c2e4aa0d",
   "metadata": {},
   "source": [
    "## Test"
   ]
  },
  {
   "cell_type": "code",
   "execution_count": 1,
   "id": "1611f6b2",
   "metadata": {},
   "outputs": [
    {
     "name": "stderr",
     "output_type": "stream",
     "text": [
      "/Users/kim-youngkee/Documents/CLUSTER/.clust/lib/python3.9/site-packages/tqdm/auto.py:22: TqdmWarning: IProgress not found. Please update jupyter and ipywidgets. See https://ipywidgets.readthedocs.io/en/stable/user_install.html\n",
      "  from .autonotebook import tqdm as notebook_tqdm\n"
     ]
    },
    {
     "name": "stdout",
     "output_type": "stream",
     "text": [
      "cpu is available.\n"
     ]
    }
   ],
   "source": [
    "import sys, os\n",
    "import torch\n",
    "sys.path.append(\"../../\")\n",
    "sys.path.append(\"../../../\")\n",
    "sys.path.append(\"../../../../\")\n",
    "import setting\n",
    "\n",
    "from Clust.clust.ML.common.common import p1_integratedDataSaving as p1\n",
    "from Clust.clust.ML.common.common import p2_dataSelection as p2\n",
    "from Clust.clust.ML.common.common import p3_training as p3\n",
    "from Clust.clust.ML.regression import app\n",
    "import pathSetting\n",
    "\n",
    "#import main_regression as mr\n",
    "device = \"cuda\" if torch.cuda.is_available() else \"cpu\"\n",
    "print(f\"{device}\" \" is available.\")"
   ]
  },
  {
   "cell_type": "markdown",
   "id": "b5878a1b",
   "metadata": {},
   "source": [
    "### Test Data Preparation"
   ]
  },
  {
   "cell_type": "code",
   "execution_count": 2,
   "id": "e46acda7",
   "metadata": {},
   "outputs": [],
   "source": [
    "# 1 (p2부분 1. Data Selection)\n",
    "DataMeta = p1.read_json_data(pathSetting.DataMetaPath)\n",
    "dataList =  list(DataMeta.keys())"
   ]
  },
  {
   "cell_type": "code",
   "execution_count": 3,
   "id": "02ace207",
   "metadata": {
    "scrolled": true
   },
   "outputs": [],
   "source": [
    "# 1. Select Test Data\n",
    "# dataX\n",
    "dataName_X = dataList[2]\n",
    "# datay\n",
    "dataName_y = dataList[3]\n",
    "dataFolderName = \"data_integrated_result\"\n",
    "\n",
    "# 2. select Model \n",
    "ModelMeta =p1.read_json_data(pathSetting.trainModelMetaFilePath)\n",
    "modelList = list(ModelMeta.keys())\n",
    "modelName = modelList[0]\n",
    "\n",
    "windowNum=144"
   ]
  },
  {
   "cell_type": "code",
   "execution_count": 4,
   "id": "58a59e6e",
   "metadata": {},
   "outputs": [
    {
     "data": {
      "text/plain": [
       "('IntegraionTestX', 'IntegraionTesty')"
      ]
     },
     "execution_count": 4,
     "metadata": {},
     "output_type": "execute_result"
    }
   ],
   "source": [
    "dataName_X, dataName_y"
   ]
  },
  {
   "cell_type": "markdown",
   "id": "cdc608fe",
   "metadata": {},
   "source": [
    "### Get model meta by mongodb"
   ]
  },
  {
   "cell_type": "code",
   "execution_count": 5,
   "id": "7d9e6631",
   "metadata": {
    "scrolled": true
   },
   "outputs": [],
   "source": [
    "from Clust.clust.ingestion.mongo import mongo_client as mongo_client\n",
    "from Clust.setting import influx_setting_KETI as ins\n",
    "\n",
    "mongo_client = mongo_client.MongoClient(ins.CLUSTMetaInfo2)\n",
    "\n",
    "db_name = 'model'\n",
    "collection_name = 'meta'\n",
    "\n",
    "all_model_meta = mongo_client.get_all_document(db_name, collection_name)"
   ]
  },
  {
   "cell_type": "code",
   "execution_count": 6,
   "id": "f62376f8",
   "metadata": {},
   "outputs": [
    {
     "name": "stdout",
     "output_type": "stream",
     "text": [
      "[{'author': 'KETI', 'modelName': 'EnergyLSTMRegression', 'modelVersion': 0.1, 'trainDataInfo': {'startTime': '2016-01-11', 'endTime': '2016-04-15', 'dataInfo': [['life_indoor_environment', 'humidityTrain_10min'], ['life_indoor_environment', 'temperatureTrain_10min'], ['weather_outdoor_environment', 'belgiumChieverseAirportTrain_10min']], 'processParam': {'refine_param': {'removeDuplication': {'flag': False}, 'staticFrequency': {'flag': False, 'frequency': None}}, 'outlier_param': {'certainErrorToNaN': {'flag': False}, 'unCertainErrorToNaN': {'flag': False, 'param': {}}}, 'imputation_param': {'flag': False, 'imputation_method': [], 'totalNonNanRatio': 80}}, 'integration_freq_sec': 600, 'cleanParam': 'NoClean', 'DataSaveMode': 'CSV'}, 'featureList': ['RH_1', 'RH_2', 'RH_3', 'RH_4', 'RH_5', 'RH_6', 'RH_7', 'RH_8', 'RH_9', 'T1', 'T2', 'T3', 'T4', 'T5', 'T6', 'T7', 'T8', 'T9', 'Press_mm_hg', 'RH_out', 'T_out', 'Tdewpoint', 'Visibility', 'Windspeed'], 'target': ['value'], 'trainDataType': 'timeseries', 'modelPurpose': 'regression', 'model_method': 'LSTM_rg', 'modelTags': ['aaaaa'], 'cleanTrainDataParam': 'NoClean', 'NaNProcessingParam': {'feature_cycle': 'Day', 'feature_cycle_times': 1, 'NanInfoForCleanData': {'type': 'num', 'ConsecutiveNanLimit': 3, 'totalNaNLimit': 30000}}, 'trainDataName': ['IntegraionTrainX', 'IntegraionTrainy'], 'trainParameter': {'num_layers': 2, 'hidden_size': 64, 'dropout': 0.1, 'bidirectional': True, 'lr': 0.0001, 'device': 'cpu', 'n_epochs': 10, 'batch_size': 16, 'input_size': 24, 'seq_len': 144}, 'scalerParam': 'scale', 'files': {'modelFile': {'fileName': 'model.pth', 'filePath': './Models/LSTM_rg/EnergyLSTMRegression/IntegraionTrainX/81c73017fdfb9f6b26385f548312e191/model.pkl'}, 'XScalerFile': {'fileName': 'scaler.pkl', 'filePath': './scaler/IntegraionTrainX/NoClean/minmax/44e77c5a60a148deb89c5ef9a221a365/scaler.pkl'}, 'yScalerFile': {'fileName': 'scaler.pkl', 'filePath': './scaler/IntegraionTrainX/NoClean/minmax/f69156750a210491ffd4a67b605bc88b/scaler.pkl'}}, 'n_epochs': 10}, {'author': 'KETI', 'modelName': 'EnergyLSTMRegression', 'modelVersion': 0.1, 'trainDataInfo': {'startTime': '2016-01-11', 'endTime': '2016-04-15', 'dataInfo': [['life_indoor_environment', 'humidityTrain_10min'], ['life_indoor_environment', 'temperatureTrain_10min'], ['weather_outdoor_environment', 'belgiumChieverseAirportTrain_10min']], 'processParam': {'refine_param': {'removeDuplication': {'flag': False}, 'staticFrequency': {'flag': False, 'frequency': None}}, 'outlier_param': {'certainErrorToNaN': {'flag': False}, 'unCertainErrorToNaN': {'flag': False, 'param': {}}}, 'imputation_param': {'flag': False, 'imputation_method': [], 'totalNonNanRatio': 80}}, 'integration_freq_sec': 600, 'cleanParam': 'NoClean', 'DataSaveMode': 'CSV'}, 'featureList': ['RH_1', 'RH_2', 'RH_3', 'RH_4', 'RH_5', 'RH_6', 'RH_7', 'RH_8', 'RH_9', 'T1', 'T2', 'T3', 'T4', 'T5', 'T6', 'T7', 'T8', 'T9', 'Press_mm_hg', 'RH_out', 'T_out', 'Tdewpoint', 'Visibility', 'Windspeed'], 'target': ['value'], 'trainDataType': 'timeseries', 'modelPurpose': 'regression', 'model_method': 'LSTM_rg', 'modelTags': ['aaaaa'], 'cleanTrainDataParam': 'NoClean', 'NaNProcessingParam': {'feature_cycle': 'Day', 'feature_cycle_times': 1, 'NanInfoForCleanData': {'type': 'num', 'ConsecutiveNanLimit': 3, 'totalNaNLimit': 30000}}, 'trainDataName': ['IntegraionTrainX', 'IntegraionTrainy'], 'trainParameter': {'num_layers': 2, 'hidden_size': 64, 'dropout': 0.1, 'bidirectional': True, 'lr': 0.0001, 'device': 'cpu', 'n_epochs': 10, 'batch_size': 16, 'input_size': 24, 'seq_len': 144}, 'scalerParam': 'scale', 'files': {'modelFile': {'fileName': 'model.pth', 'filePath': './Models/LSTM_rg/EnergyLSTMRegression/IntegraionTrainX/618f2ca7c380b25efe12bee2a2ab1869/model.pkl'}, 'XScalerFile': {'fileName': 'scaler.pkl', 'filePath': './scaler/IntegraionTrainX/NoClean/minmax/44e77c5a60a148deb89c5ef9a221a365/scaler.pkl'}, 'yScalerFile': {'fileName': 'scaler.pkl', 'filePath': './scaler/IntegraionTrainX/NoClean/minmax/f69156750a210491ffd4a67b605bc88b/scaler.pkl'}}, 'n_epochs': 10}, {'author': 'KETI', 'modelName': 'EnergyLSTMRegression', 'modelVersion': 0.1, 'trainDataInfo': {'startTime': '2016-01-11', 'endTime': '2016-04-15', 'dataInfo': [['life_indoor_environment', 'humidityTrain_10min'], ['life_indoor_environment', 'temperatureTrain_10min'], ['weather_outdoor_environment', 'belgiumChieverseAirportTrain_10min']], 'processParam': {'refine_param': {'removeDuplication': {'flag': False}, 'staticFrequency': {'flag': False, 'frequency': None}}, 'outlier_param': {'certainErrorToNaN': {'flag': False}, 'unCertainErrorToNaN': {'flag': False, 'param': {}}}, 'imputation_param': {'flag': False, 'imputation_method': [], 'totalNonNanRatio': 80}}, 'integration_freq_sec': 600, 'cleanParam': 'NoClean', 'DataSaveMode': 'CSV'}, 'featureList': ['RH_1', 'RH_2', 'RH_3', 'RH_4', 'RH_5', 'RH_6', 'RH_7', 'RH_8', 'RH_9', 'T1', 'T2', 'T3', 'T4', 'T5', 'T6', 'T7', 'T8', 'T9', 'Press_mm_hg', 'RH_out', 'T_out', 'Tdewpoint', 'Visibility', 'Windspeed'], 'target': ['value'], 'trainDataType': 'timeseries', 'modelPurpose': 'regression', 'model_method': 'LSTM_rg', 'modelTags': ['aaaaa'], 'cleanTrainDataParam': 'NoClean', 'NaNProcessingParam': {'feature_cycle': 'Day', 'feature_cycle_times': 1, 'NanInfoForCleanData': {'type': 'num', 'ConsecutiveNanLimit': 3, 'totalNaNLimit': 30000}}, 'trainDataName': ['IntegraionTrainX', 'IntegraionTrainy'], 'trainParameter': {'num_layers': 2, 'hidden_size': 64, 'dropout': 0.1, 'bidirectional': True, 'lr': 0.0001, 'device': 'cpu', 'n_epochs': 10, 'batch_size': 16, 'input_size': 24, 'seq_len': 144}, 'scalerParam': 'scale', 'files': {'modelFile': {'fileName': 'model.pth', 'filePath': './Models/LSTM_rg/EnergyLSTMRegression/IntegraionTrainX/618f2ca7c380b25efe12bee2a2ab1869/model.pkl'}, 'XScalerFile': {'fileName': 'scaler.pkl', 'filePath': './scaler/IntegraionTrainX/NoClean/minmax/44e77c5a60a148deb89c5ef9a221a365/scaler.pkl'}, 'yScalerFile': {'fileName': 'scaler.pkl', 'filePath': './scaler/IntegraionTrainX/NoClean/minmax/f69156750a210491ffd4a67b605bc88b/scaler.pkl'}}, 'n_epochs': 10}]\n"
     ]
    }
   ],
   "source": [
    "db_name = 'model'\n",
    "collection_name = 'meta'\n",
    "search = {'modelName': 'EnergyLSTMRegression'}\n",
    "model_meta= mongo_client.get_document_by_json(db_name, collection_name, search)\n",
    "print(model_meta)\n",
    "model_meta = model_meta[1]"
   ]
  },
  {
   "cell_type": "markdown",
   "id": "f1c95e64",
   "metadata": {},
   "source": [
    "### Testing"
   ]
  },
  {
   "cell_type": "code",
   "execution_count": 7,
   "id": "d50988dd",
   "metadata": {},
   "outputs": [],
   "source": [
    "from Clust.clust.ML.common.common import p4_testing as p4\n",
    "\n",
    "data_save_mode_X = DataMeta[dataName_X][\"integrationInfo\"][\"DataSaveMode\"]\n",
    "data_save_mode_y = DataMeta[dataName_y][\"integrationInfo\"][\"DataSaveMode\"]\n",
    "data_X = p2.get_saved_integrated_data(data_save_mode_X, dataName_X, dataFolderName)\n",
    "data_y = p2.get_saved_integrated_data(data_save_mode_y, dataName_y, dataFolderName)\n",
    "    \n",
    "X_scaler_file_path = model_meta['files']['XScalerFile'][\"filePath\"]\n",
    "y_scaler_file_path = model_meta['files']['yScalerFile'][\"filePath\"]\n",
    "model_file_path = model_meta['files']['modelFile'][\"filePath\"]\n",
    "\n",
    "feature_list = model_meta[\"featureList\"]\n",
    "target = model_meta[\"target\"]\n",
    "scaler_param = model_meta[\"scalerParam\"]\n",
    "model_method = model_meta[\"model_method\"]\n",
    "train_parameter = model_meta[\"trainParameter\"]\n",
    "\n",
    "# Scaling Test Input\n",
    "test_X, scaler_X = p4.get_scaled_test_data(data_X[feature_list], X_scaler_file_path, scaler_param)\n",
    "test_y, scaler_y = p4.get_scaled_test_data(data_y[target], y_scaler_file_path, scaler_param)"
   ]
  },
  {
   "cell_type": "code",
   "execution_count": 8,
   "id": "5cc69443",
   "metadata": {},
   "outputs": [
    {
     "name": "stdout",
     "output_type": "stream",
     "text": [
      "{'num_layers': 2, 'hidden_size': 64, 'dropout': 0.1, 'bidirectional': True, 'lr': 0.0001, 'device': 'cpu', 'n_epochs': 10, 'batch_size': 16, 'input_size': 24, 'seq_len': 144}\n",
      "\n",
      "Start testing data\n",
      "\n",
      "** Performance of test dataset ==> MSE = 0.0456344299018383, MAE = 0.15701907873153687\n",
      "** Dimension of result for test dataset = (42,)\n"
     ]
    }
   ],
   "source": [
    "#3. Test model\n",
    "from Clust.clust.ML.regression_YK.test import RegressionTest as RT\n",
    "\n",
    "rt = RT()\n",
    "rt.set_param(train_parameter)\n",
    "print(train_parameter)\n",
    "rt.set_model(model_method, model_file_path)\n",
    "rt.set_data(test_X, test_y, windowNum)\n",
    "preds, trues, mse, mae = rt.test()"
   ]
  },
  {
   "cell_type": "code",
   "execution_count": 9,
   "id": "689c2452",
   "metadata": {},
   "outputs": [
    {
     "name": "stdout",
     "output_type": "stream",
     "text": [
      "scale\n",
      "        value  prediction\n",
      "0   15.370000   11.671662\n",
      "1   17.059998   11.180050\n",
      "2   10.120000   10.448577\n",
      "3   14.410000   11.155736\n",
      "4   11.570000   11.093349\n",
      "5   17.799997   11.452437\n",
      "6   13.620000   10.421119\n",
      "7   12.439999   11.105028\n",
      "8   10.680000   11.092004\n",
      "9   15.580000   11.264921\n",
      "10  15.120000   10.180723\n",
      "11  13.469999   11.088959\n",
      "12  10.990000   12.072914\n",
      "13  15.590000   12.853612\n",
      "14  24.120001   11.195452\n",
      "15  20.650000   10.413429\n",
      "16  10.890000   10.793626\n",
      "17  17.370001   11.656283\n",
      "18  13.480000   10.703239\n",
      "19  11.990000   10.393258\n",
      "20   9.680000   10.677022\n",
      "21  13.760000   10.600958\n",
      "22  14.889999   10.078066\n",
      "23  14.970000   10.753571\n",
      "24  20.929998   10.626743\n",
      "25  20.879999   11.675137\n",
      "26  12.140000   11.350747\n",
      "27  12.320000   11.251084\n",
      "28  14.560000   11.384274\n",
      "29  10.470000   11.306628\n",
      "30   9.330000   12.405560\n",
      "31  10.690000   11.682135\n",
      "32  12.950000   10.103333\n",
      "33  15.060000    9.952890\n",
      "34  13.429999   11.157265\n",
      "35  10.599999   11.564406\n",
      "36  11.420000   10.363724\n",
      "37  11.170000   10.566565\n",
      "38  10.690000   11.941288\n",
      "39  10.460000   10.191168\n",
      "40  10.160000   10.649511\n",
      "41  17.889999   11.016490\n",
      "{'mae': 3.2879796, 'rmse': 4.473248118589975, 'r2': -0.6925636429271274, 'mape': 20.639748871326447}\n"
     ]
    }
   ],
   "source": [
    "from Clust.clust.tool.stats_table import metrics\n",
    "\n",
    "df_result = p4.get_prediction_df_result(preds, trues, scaler_param, scaler_y, feature_list= target, target_col = target[0])\n",
    "result_metrics =  metrics.calculate_metrics_df(df_result)\n",
    "print(df_result)\n",
    "print(result_metrics)"
   ]
  },
  {
   "cell_type": "code",
   "execution_count": 13,
   "id": "a6b6d231",
   "metadata": {},
   "outputs": [
    {
     "name": "stdout",
     "output_type": "stream",
     "text": [
      "{'mae': 3.2879796, 'rmse': 4.473248331785011, 'r2': -0.6925636410364806, 'mape': 20.639748871326447}\n"
     ]
    }
   ],
   "source": [
    "from Clust.clust.tool.stats_table import metrics\n",
    "result_metrics =  metrics.calculate_metrics_df(df_result)\n",
    "print(result_metrics)"
   ]
  },
  {
   "cell_type": "code",
   "execution_count": 14,
   "id": "0957060a",
   "metadata": {},
   "outputs": [
    {
     "ename": "ModuleNotFoundError",
     "evalue": "No module named 'chart_studio'",
     "output_type": "error",
     "traceback": [
      "\u001b[0;31m---------------------------------------------------------------------------\u001b[0m",
      "\u001b[0;31mModuleNotFoundError\u001b[0m                       Traceback (most recent call last)",
      "Cell \u001b[0;32mIn[14], line 2\u001b[0m\n\u001b[1;32m      1\u001b[0m \u001b[39m# 5. Only For IPython Notebook\u001b[39;00m\n\u001b[0;32m----> 2\u001b[0m \u001b[39mfrom\u001b[39;00m \u001b[39mClust\u001b[39;00m\u001b[39m.\u001b[39;00m\u001b[39mclust\u001b[39;00m\u001b[39m.\u001b[39;00m\u001b[39mtool\u001b[39;00m\u001b[39m.\u001b[39;00m\u001b[39mplot\u001b[39;00m\u001b[39m.\u001b[39;00m\u001b[39mplot_two_data\u001b[39;00m \u001b[39mimport\u001b[39;00m plot_predictions\n\u001b[1;32m      3\u001b[0m \u001b[39mimport\u001b[39;00m \u001b[39mplotly\u001b[39;00m\u001b[39m.\u001b[39;00m\u001b[39moffline\u001b[39;00m \u001b[39mas\u001b[39;00m \u001b[39mpyo\u001b[39;00m\n\u001b[1;32m      4\u001b[0m \u001b[39m# Set notebook mode to work in offline\u001b[39;00m\n",
      "File \u001b[0;32m~/Documents/CLUSTER/Clust/examples/7. ModelTest/7-3. Regression/../../../../Clust/clust/tool/plot/plot_two_data.py:3\u001b[0m\n\u001b[1;32m      2\u001b[0m \u001b[39mimport\u001b[39;00m \u001b[39mplotly\u001b[39;00m\u001b[39m.\u001b[39;00m\u001b[39mgraph_objects\u001b[39;00m \u001b[39mas\u001b[39;00m \u001b[39mgo\u001b[39;00m\n\u001b[0;32m----> 3\u001b[0m \u001b[39mimport\u001b[39;00m \u001b[39mchart_studio\u001b[39;00m\u001b[39m.\u001b[39;00m\u001b[39mplotly\u001b[39;00m \u001b[39mas\u001b[39;00m \u001b[39mpy\u001b[39;00m\n\u001b[1;32m      4\u001b[0m \u001b[39mfrom\u001b[39;00m \u001b[39mplotly\u001b[39;00m\u001b[39m.\u001b[39;00m\u001b[39moffline\u001b[39;00m \u001b[39mimport\u001b[39;00m \u001b[39m*\u001b[39m\n\u001b[1;32m      6\u001b[0m \u001b[39mdef\u001b[39;00m \u001b[39mplot_predictions\u001b[39m(df_result):\n",
      "\u001b[0;31mModuleNotFoundError\u001b[0m: No module named 'chart_studio'"
     ]
    }
   ],
   "source": [
    "# 5. Only For IPython Notebook\n",
    "from Clust.clust.tool.plot.plot_two_data import plot_predictions\n",
    "import plotly.offline as pyo\n",
    "# Set notebook mode to work in offline\n",
    "pyo.init_notebook_mode()\n",
    "plot_predictions(df_result)"
   ]
  },
  {
   "cell_type": "code",
   "execution_count": null,
   "id": "2702c159",
   "metadata": {},
   "outputs": [],
   "source": []
  }
 ],
 "metadata": {
  "kernelspec": {
   "display_name": "Python 3",
   "language": "python",
   "name": "python3"
  },
  "language_info": {
   "codemirror_mode": {
    "name": "ipython",
    "version": 3
   },
   "file_extension": ".py",
   "mimetype": "text/x-python",
   "name": "python",
   "nbconvert_exporter": "python",
   "pygments_lexer": "ipython3",
   "version": "3.8.8"
  },
  "toc": {
   "base_numbering": 1,
   "nav_menu": {},
   "number_sections": true,
   "sideBar": true,
   "skip_h1_title": false,
   "title_cell": "Table of Contents",
   "title_sidebar": "Contents",
   "toc_cell": false,
   "toc_position": {},
   "toc_section_display": true,
   "toc_window_display": false
  },
  "vscode": {
   "interpreter": {
    "hash": "e92cea83a25a22cd774ff9f8132db57ccb94d86fd97b7fe80ee00c35daecdd05"
   }
  }
 },
 "nbformat": 4,
 "nbformat_minor": 5
}
