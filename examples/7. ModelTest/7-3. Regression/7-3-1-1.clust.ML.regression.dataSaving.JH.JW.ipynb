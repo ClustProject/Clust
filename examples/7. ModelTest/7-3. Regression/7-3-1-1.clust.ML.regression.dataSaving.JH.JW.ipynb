{
 "cells": [
  {
   "cell_type": "code",
   "execution_count": 1,
   "id": "b923eadd",
   "metadata": {
    "ExecuteTime": {
     "end_time": "2022-07-28T02:10:44.338578Z",
     "start_time": "2022-07-28T02:10:43.901232Z"
    }
   },
   "outputs": [],
   "source": [
    "import sys, os\n",
    "import pandas as pd\n",
    "sys.path.append(\"../../\")\n",
    "sys.path.append(\"../../../\")\n",
    "sys.path.append(\"../../../../\")\n",
    "\n",
    "from Clust.setting import influx_setting_KETI as ins\n",
    "from Clust.clust.ingestion.influx import influx_client_v2 as influx_Client\n",
    "from Clust.clust.ML.common.common import p1_integratedDataSaving as p1\n",
    "db_client = influx_Client.InfluxClient(ins.CLUSTDataServer2)\n",
    "from Clust.clust.ingestion.mongo import mongo_client\n",
    "mongo_client = mongo_client.MongoClient(ins.CLUSTMetaInfo2)"
   ]
  },
  {
   "cell_type": "code",
   "execution_count": 2,
   "id": "15023faa",
   "metadata": {},
   "outputs": [],
   "source": [
    "# 테스트를 위한 변수 셋팅 및 설정 - 4개의 데이터를 만들어보기 위한 가상 설정\n",
    "DataMetaPath = \"./integratedData.json\"\n",
    "modeList =['trainX', 'trainy', 'testX', 'testy']\n",
    "\n",
    "clean_param = \"NoClean\"\n",
    "bucket_name =\"IntDataForRegression\"\n",
    "\n",
    "###\n",
    "trainStartTime = \"2016-01-11\"\n",
    "trainEndTime = \"2016-04-15\"\n",
    "\n",
    "testStartTime = \"2021-01-01\"\n",
    "testEndTime = \"2021-02-12\"\n",
    "\n",
    "trainXDataInfo = [['life_indoor_environment', 'humidityTrain_10min'], \n",
    "                  ['life_indoor_environment', 'temperatureTrain_10min'], \n",
    "                  ['weather_outdoor_environment', 'belgiumChieverseAirportTrain_10min']]\n",
    "\n",
    "testXDataInfo = [['life_indoor_environment', 'humidityTest_10min'], \n",
    "                 ['life_indoor_environment', 'temperatureTest_10min'], \n",
    "                 ['weather_outdoor_environment', 'belgiumChieverseAirportTest_10min']]"
   ]
  },
  {
   "cell_type": "code",
   "execution_count": 15,
   "id": "d23c5587",
   "metadata": {},
   "outputs": [
    {
     "name": "stdout",
     "output_type": "stream",
     "text": [
      "===integrationStart===\n",
      "===integrationEnd===\n",
      "========== write success ==========\n"
     ]
    },
    {
     "ename": "NameError",
     "evalue": "name 'collection_name' is not defined",
     "output_type": "error",
     "traceback": [
      "\u001b[0;31m---------------------------------------------------------------------------\u001b[0m",
      "\u001b[0;31mNameError\u001b[0m                                 Traceback (most recent call last)",
      "Cell \u001b[0;32mIn[15], line 69\u001b[0m\n\u001b[1;32m     67\u001b[0m \u001b[38;5;66;03m# save to mongodb\u001b[39;00m\n\u001b[1;32m     68\u001b[0m data_info \u001b[38;5;241m=\u001b[39m p1\u001b[38;5;241m.\u001b[39mintegrated_data_meta(dataInfo, start_time, end_time, integration_freq_sec, clean_param, process_param)\n\u001b[0;32m---> 69\u001b[0m mongo_client\u001b[38;5;241m.\u001b[39minsert_document(bucket_name, \u001b[43mcollection_name\u001b[49m, data_info)\n",
      "\u001b[0;31mNameError\u001b[0m: name 'collection_name' is not defined"
     ]
    }
   ],
   "source": [
    "for mode in modeList:\n",
    "    # 0. Set Basic Parameter \n",
    "    # 1-1 StartTime, EndTime, DataInfo, Integration_freq_sec, cleanParam, processParam\n",
    "\n",
    "    if mode == 'trainX':\n",
    "        dataName = 'IntegraionTrainX'\n",
    "        start_time = trainStartTime\n",
    "        end_time = trainEndTime\n",
    "        dataInfo = trainXDataInfo\n",
    "        integration_freq_sec = 60 * 10 # 10분\n",
    "\n",
    "    elif mode =='testX':\n",
    "        dataName = 'IntegraionTestX'\n",
    "        start_time = testStartTime\n",
    "        end_time = testEndTime\n",
    "        dataInfo = testXDataInfo\n",
    "        integration_freq_sec = 60 * 10 # 10분\n",
    "\n",
    "    elif mode == 'trainy':\n",
    "        dataName = 'IntegraionTrainy'\n",
    "        start_time = trainStartTime\n",
    "        end_time = trainEndTime\n",
    "        dataInfo = [['life_indoor_environment', 'applianceEnergyDatasetTrainy_1day']]\n",
    "        integration_freq_sec = 60 * 60 * 24 # 24시간\n",
    "        \n",
    "    elif mode =='testy':\n",
    "        dataName = 'IntegraionTesty'\n",
    "        start_time = testStartTime\n",
    "        end_time = testEndTime\n",
    "        dataInfo = [['life_indoor_environment', 'applianceEnergyDatasetTesty_1day']]\n",
    "        integration_freq_sec = 60 * 60 * 24 # 24시간\n",
    "    \n",
    "    # dataset ingestion---> data preprocessing ---> data integration ---> information save\n",
    "    \n",
    "    # 1. Ingestion multiple dataset\n",
    "    #############\n",
    "    ingestion_param ={}\n",
    "    ingestion_param['ms_list_info'] = dataInfo\n",
    "    ingestion_param['start_time'] = start_time\n",
    "    ingestion_param['end_time'] = end_time\n",
    "    #############\n",
    "    \n",
    "    from Clust.clust.data import data_interface\n",
    "    multiple_dataset = data_interface.get_data_result(\"multiple_ms_by_time\", db_client, ingestion_param)\n",
    "    \n",
    "    # 2. Data Preprocessing\n",
    "    from Clust.clust.preprocessing import processing_interface\n",
    "    process_param = p1.get_process_param(clean_param) \n",
    "    multiple_dataset = processing_interface.get_data_result('step_3', multiple_dataset, process_param)\n",
    "    \n",
    "    # 3. Data Integration\n",
    "    from Clust.clust.integration.integrationInterface import IntegrationInterface\n",
    "    integration_param = {\n",
    "        \"integration_frequency\":integration_freq_sec,\n",
    "        \"param\":{},\n",
    "        \"method\":\"meta\",\n",
    "        \"integration_duration\":\"common\"\n",
    "    }\n",
    "    data = IntegrationInterface().multipleDatasetsIntegration(integration_param, multiple_dataset)\n",
    "    \n",
    "    # 4. information save\n",
    "    # mongo db에 process_param, dataInfo, integration_freq_sec, startTime, endTime 정보 적혀야 합니다.\n",
    "    # data_name이 중복적으로 발생한다는 단점이 있는데, 이는 추후 덮어쓰지 않기 위해서는, 기존에 이런 데이터가 있냐 덮어쓰겠냐?\n",
    "    # UI적으로 요런 루트만 만들어주면 되지 않을까 싶어요.\n",
    "    # 위 p1.get_process_param 이부분 나중에 좀 생각해보고 없애겠습니다.\n",
    "    \n",
    "    ms_name = \"energy\" + mode + '_' + \"regression\" + '_' + clean_param\n",
    "    db_client.write_db(bucket_name, ms_name, data)\n",
    "    # save to mongodb\n",
    "    data_info = p1.integrated_data_meta(dataInfo, start_time, end_time, integration_freq_sec, clean_param, process_param)\n",
    "    mongo_client.insert_document(bucket_name, collection_name, data_info)"
   ]
  },
  {
   "cell_type": "code",
   "execution_count": null,
   "id": "009a9ddb",
   "metadata": {},
   "outputs": [],
   "source": []
  }
 ],
 "metadata": {
  "hide_input": false,
  "kernelspec": {
   "display_name": "Python 3",
   "language": "python",
   "name": "python3"
  },
  "language_info": {
   "codemirror_mode": {
    "name": "ipython",
    "version": 3
   },
   "file_extension": ".py",
   "mimetype": "text/x-python",
   "name": "python",
   "nbconvert_exporter": "python",
   "pygments_lexer": "ipython3",
   "version": "3.8.8"
  },
  "toc": {
   "base_numbering": 1,
   "nav_menu": {},
   "number_sections": true,
   "sideBar": true,
   "skip_h1_title": false,
   "title_cell": "Table of Contents",
   "title_sidebar": "Contents",
   "toc_cell": false,
   "toc_position": {},
   "toc_section_display": true,
   "toc_window_display": false
  },
  "vscode": {
   "interpreter": {
    "hash": "f1ef7e1f828dbb4e75f421045d2c565197efaf8469a0be4a314c6ea8378b5cb2"
   }
  }
 },
 "nbformat": 4,
 "nbformat_minor": 5
}
