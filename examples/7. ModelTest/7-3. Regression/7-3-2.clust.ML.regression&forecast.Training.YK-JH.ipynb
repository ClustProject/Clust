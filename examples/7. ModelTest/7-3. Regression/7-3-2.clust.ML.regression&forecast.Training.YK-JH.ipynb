{
 "cells": [
  {
   "cell_type": "code",
   "execution_count": 1,
   "id": "95790ab5",
   "metadata": {},
   "outputs": [
    {
     "name": "stdout",
     "output_type": "stream",
     "text": [
      "cuda is available.\n"
     ]
    }
   ],
   "source": [
    "import sys, os\n",
    "import pandas as pd\n",
    "import pathSetting\n",
    "sys.path.append(\"../../..\")\n",
    "\n",
    "from Clust.clust.ML.common.common import p1_integratedDataSaving as p1\n",
    "from Clust.clust.ML.tool import data as ml_data\n",
    "from Clust.clust.ML.tool import model as ml_model\n",
    "from Clust.clust.ML.tool import clean as ml_clean\n",
    "from Clust.clust.ML.tool import meta as ml_meta\n",
    "\n",
    "import torch\n",
    "\n",
    "from Clust.setting import influx_setting_KETI as ins\n",
    "from Clust.clust.ingestion.influx import influx_client_v2 as influx_Client\n",
    "from Clust.clust.ingestion.mongo.mongo_client import MongoClient\n",
    "\n",
    "db_client = influx_Client.InfluxClient(ins.CLUSTDataServer2)\n",
    "mongo_client = MongoClient(ins.CLUSTMetaInfo2)\n",
    "\n",
    "\n",
    "#import main_regression as mr\n",
    "device = \"cuda\" if torch.cuda.is_available() else \"cpu\"\n",
    "print(f\"{device}\" \" is available.\")"
   ]
  },
  {
   "cell_type": "code",
   "execution_count": 2,
   "id": "64028082",
   "metadata": {},
   "outputs": [],
   "source": [
    "# Set regression mode i.e., 'regression','forecast' \n",
    "mode_selection = \"regression\"\n",
    "\n",
    "# Set model methods i.e., 'LSTM_rg', 'GRU_rg', 'RNN_rg', 'CNN_1D_rg', 'LSTM_FCNs_rg', 'FC_rg' \n",
    "model_method = 'GRU_rg'\n",
    "\n",
    "# get integrated data name\n",
    "bucket_name = 'integration'\n",
    "\n",
    "# scaler path\n",
    "scalerRootDir = './scaler/'"
   ]
  },
  {
   "cell_type": "markdown",
   "id": "0fcf28a6",
   "metadata": {},
   "source": [
    "# 2. Training \n",
    "\n",
    "## 2-1. Data selection"
   ]
  },
  {
   "cell_type": "code",
   "execution_count": 3,
   "id": "4d7c68dc",
   "metadata": {},
   "outputs": [
    {
     "name": "stderr",
     "output_type": "stream",
     "text": [
      "/home/jwmoon/.local/lib/python3.8/site-packages/influxdb_client/client/warnings.py:31: MissingPivotFunction: The query doesn't contains the pivot() function.\n",
      "\n",
      "The result will not be shaped to optimal processing by pandas.DataFrame. Use the pivot() function by:\n",
      "\n",
      "    import \"influxdata/influxdb/schema\" schema.measurements(bucket: \"integration\") |> pivot(rowKey:[\"_time\"], columnKey: [\"_field\"], valueColumn: \"_value\")\n",
      "\n",
      "You can disable this warning by:\n",
      "    import warnings\n",
      "    from influxdb_client.client.warnings import MissingPivotFunction\n",
      "\n",
      "    warnings.simplefilter(\"ignore\", MissingPivotFunction)\n",
      "\n",
      "For more info see:\n",
      "    - https://docs.influxdata.com/resources/videos/pivots-in-flux/\n",
      "    - https://docs.influxdata.com/flux/latest/stdlib/universe/pivot/\n",
      "    - https://docs.influxdata.com/flux/latest/stdlib/influxdata/influxdb/schema/fieldsascols/\n",
      "\n",
      "  warnings.warn(message, MissingPivotFunction)\n"
     ]
    }
   ],
   "source": [
    "get_ms_list = db_client.measurement_list(bucket_name)"
   ]
  },
  {
   "cell_type": "code",
   "execution_count": 4,
   "id": "efe3f94e",
   "metadata": {},
   "outputs": [
    {
     "data": {
      "text/plain": [
       "['Hs1SwineFarmWithWeatherTime_test_Clean',\n",
       " 'Hs1SwineFarmWithWeatherTime_test_NoClean',\n",
       " 'Hs1SwineFarmWithWeatherTime_train_Clean',\n",
       " 'Hs1SwineFarmWithWeatherTime_train_NoClean',\n",
       " 'energy_regression__testX_Clean',\n",
       " 'energy_regression__testX_NoClean',\n",
       " 'energy_regression__testy_Clean',\n",
       " 'energy_regression__testy_NoClean',\n",
       " 'energy_regression__trainX_Clean',\n",
       " 'energy_regression__trainX_NoClean',\n",
       " 'energy_regression__trainy_Clean',\n",
       " 'energy_regression__trainy_NoClean',\n",
       " 'energy_regression_testXClean',\n",
       " 'energy_regression_testXNoClean',\n",
       " 'energy_regression_testyClean',\n",
       " 'energy_regression_testyNoClean',\n",
       " 'energy_regression_trainXClean',\n",
       " 'energy_regression_trainXNoClean',\n",
       " 'energy_regression_trainyClean',\n",
       " 'energy_regression_trainyNoClean',\n",
       " 'energytestX_regression_NoClean',\n",
       " 'energytesty_regression_NoClean',\n",
       " 'energytrainX_regression_NoClean',\n",
       " 'energytrainy_regression_NoClean',\n",
       " 'forecasting_gunwiStrawberryWeather_test_Clean',\n",
       " 'forecasting_gunwiStrawberryWeather_test_NoClean',\n",
       " 'forecasting_gunwiStrawberryWeather_train_Clean',\n",
       " 'forecasting_gunwiStrawberryWeather_train_NoClean',\n",
       " 'forecasting_strawberryOpen_test_Clean',\n",
       " 'forecasting_strawberryOpen_test_NoClean',\n",
       " 'forecasting_strawberryOpen_train_Clean',\n",
       " 'forecasting_strawberryOpen_train_NoClean',\n",
       " 'gunwiStrawberryWithWeatherTime_test_Clean',\n",
       " 'gunwiStrawberryWithWeatherTime_test_NoClean',\n",
       " 'gunwiStrawberryWithWeatherTime_train_Clean',\n",
       " 'gunwiStrawberryWithWeatherTime_train_NoClean',\n",
       " 'regression_energy_testX_Clean',\n",
       " 'regression_energy_testX_NoClean',\n",
       " 'regression_energy_testy_Clean',\n",
       " 'regression_energy_testy_NoClean',\n",
       " 'regression_energy_trainX_Clean',\n",
       " 'regression_energy_trainX_NoClean',\n",
       " 'regression_energy_trainy_Clean',\n",
       " 'regression_energy_trainy_NoClean',\n",
       " 'strawberryOpenTime_test_Clean',\n",
       " 'strawberryOpenTime_test_NoClean',\n",
       " 'strawberryOpenTime_train_Clean',\n",
       " 'strawberryOpenTime_train_NoClean']"
      ]
     },
     "execution_count": 4,
     "metadata": {},
     "output_type": "execute_result"
    }
   ],
   "source": [
    "# 현재 소스 기준으로 불필요한 데이터 influx와 mongo 지워주세요\n",
    "get_ms_list"
   ]
  },
  {
   "cell_type": "code",
   "execution_count": 5,
   "id": "6345932c",
   "metadata": {},
   "outputs": [],
   "source": [
    "ms_list = ['ActionPatternData_testX_NoClean',\n",
    " 'ActionPatternData_testy_NoClean',\n",
    " 'ActionPatternData_trainX_NoClean',\n",
    " 'ActionPatternData_trainy_NoClean']"
   ]
  },
  {
   "cell_type": "code",
   "execution_count": null,
   "id": "50f7b3db",
   "metadata": {},
   "outputs": [],
   "source": []
  },
  {
   "cell_type": "code",
   "execution_count": 6,
   "id": "bcec8e5c",
   "metadata": {
    "scrolled": true
   },
   "outputs": [],
   "source": [
    "# for regression data\n",
    "if mode_selection == 'regression':\n",
    "\n",
    "    datasetName = 'ActionPatternData'\n",
    "    \n",
    "    ms_name_X = 'ActionPatternData_trainX_NoClean'\n",
    "    ms_name_y = 'ActionPatternData_trainy_NoClean'\n",
    "    \n",
    "    dataX = db_client.get_data(bucket_name, ms_name_X)\n",
    "    datay = db_client.get_data(bucket_name, ms_name_y)\n",
    "    \n",
    "\n",
    "# for forecast data test\n",
    "elif mode_selection == 'forecast':\n",
    "    \n",
    "    cleanMode = 'NoClean'\n",
    "    datasetName = 'Hs1SwineFarmWithWeatherTime'\n",
    "    \n",
    "    ms_name_X = 'Hs1SwineFarmWithWeatherTime_train_NoClean'\n",
    "    dataX = db_client.get_data(bucket_name, ms_name_X)"
   ]
  },
  {
   "cell_type": "markdown",
   "id": "d6e052db",
   "metadata": {},
   "source": [
    "## 2-2. Training Data Preparation"
   ]
  },
  {
   "cell_type": "code",
   "execution_count": 7,
   "id": "11b755d3",
   "metadata": {
    "scrolled": false
   },
   "outputs": [
    {
     "name": "stdout",
     "output_type": "stream",
     "text": [
      "[]\n"
     ]
    },
    {
     "ename": "ValueError",
     "evalue": "at least one array or dtype is required",
     "output_type": "error",
     "traceback": [
      "\u001b[0;31m---------------------------------------------------------------------------\u001b[0m",
      "\u001b[0;31mValueError\u001b[0m                                Traceback (most recent call last)",
      "Cell \u001b[0;32mIn[7], line 27\u001b[0m\n\u001b[1;32m     25\u001b[0m     scalerRootPath_X \u001b[38;5;241m=\u001b[39m os\u001b[38;5;241m.\u001b[39mpath\u001b[38;5;241m.\u001b[39mjoin(scalerRootDir, datasetName, cleanTrainDataParam)\n\u001b[1;32m     26\u001b[0m     scalerRootPath_y \u001b[38;5;241m=\u001b[39m os\u001b[38;5;241m.\u001b[39mpath\u001b[38;5;241m.\u001b[39mjoin(scalerRootDir, datasetName, cleanTrainDataParam)\n\u001b[0;32m---> 27\u001b[0m     train_x, val_x, X_scalerFilePath \u001b[38;5;241m=\u001b[39m \u001b[43mml_data\u001b[49m\u001b[38;5;241;43m.\u001b[39;49m\u001b[43mget_train_val_data\u001b[49m\u001b[43m(\u001b[49m\u001b[43mdataX\u001b[49m\u001b[43m,\u001b[49m\u001b[43m \u001b[49m\u001b[43mfeatureListX\u001b[49m\u001b[43m,\u001b[49m\u001b[43m \u001b[49m\u001b[43mscalerRootPath_X\u001b[49m\u001b[43m,\u001b[49m\u001b[43m \u001b[49m\u001b[43msplitRatio\u001b[49m\u001b[43m,\u001b[49m\u001b[43m \u001b[49m\u001b[43mscalerParam\u001b[49m\u001b[43m,\u001b[49m\u001b[43m \u001b[49m\u001b[43mscaleMethod\u001b[49m\u001b[43m)\u001b[49m\n\u001b[1;32m     28\u001b[0m     train_y, val_y, y_scalerFilePath \u001b[38;5;241m=\u001b[39m ml_data\u001b[38;5;241m.\u001b[39mget_train_val_data(datay, featureListy, scalerRootPath_y, splitRatio, scalerParam, scaleMethod)\n\u001b[1;32m     30\u001b[0m \u001b[38;5;66;03m# for forecast\u001b[39;00m\n",
      "File \u001b[0;32m~/code/Clust/clust/ML/tool/data.py:108\u001b[0m, in \u001b[0;36mget_train_val_data\u001b[0;34m(data, feature_list, scaler_root_path, split_ratio, scaler_param, scaler_method, mode, windows)\u001b[0m\n\u001b[1;32m     88\u001b[0m \u001b[38;5;28;01mdef\u001b[39;00m \u001b[38;5;21mget_train_val_data\u001b[39m(data, feature_list, scaler_root_path, split_ratio, scaler_param, scaler_method \u001b[38;5;241m=\u001b[39m\u001b[38;5;124m'\u001b[39m\u001b[38;5;124mminmax\u001b[39m\u001b[38;5;124m'\u001b[39m, mode \u001b[38;5;241m=\u001b[39m \u001b[38;5;28;01mNone\u001b[39;00m, windows\u001b[38;5;241m=\u001b[39m\u001b[38;5;28;01mNone\u001b[39;00m):\n\u001b[1;32m     89\u001b[0m     \u001b[38;5;124;03m\"\"\"\u001b[39;00m\n\u001b[1;32m     90\u001b[0m \u001b[38;5;124;03m    scaled data, split data by ratio\u001b[39;00m\n\u001b[1;32m     91\u001b[0m \n\u001b[0;32m   (...)\u001b[0m\n\u001b[1;32m    106\u001b[0m \u001b[38;5;124;03m    \u001b[39;00m\n\u001b[1;32m    107\u001b[0m \u001b[38;5;124;03m    \"\"\"\u001b[39;00m\n\u001b[0;32m--> 108\u001b[0m     train_val, scaler_file_path \u001b[38;5;241m=\u001b[39m \u001b[43mget_data_scaler\u001b[49m\u001b[43m(\u001b[49m\u001b[43mscaler_param\u001b[49m\u001b[43m,\u001b[49m\u001b[43m \u001b[49m\u001b[43mscaler_root_path\u001b[49m\u001b[43m,\u001b[49m\u001b[43m \u001b[49m\u001b[43mdata\u001b[49m\u001b[43m[\u001b[49m\u001b[43mfeature_list\u001b[49m\u001b[43m]\u001b[49m\u001b[43m,\u001b[49m\u001b[43m \u001b[49m\u001b[43mscaler_method\u001b[49m\u001b[43m)\u001b[49m\n\u001b[1;32m    109\u001b[0m     train, val \u001b[38;5;241m=\u001b[39m ML\u001b[38;5;241m.\u001b[39msplit_data_by_ratio(train_val, split_ratio, mode, windows)\n\u001b[1;32m    111\u001b[0m     \u001b[38;5;28;01mreturn\u001b[39;00m train, val, scaler_file_path\n",
      "File \u001b[0;32m~/code/Clust/clust/ML/tool/scaler.py:77\u001b[0m, in \u001b[0;36mget_data_scaler\u001b[0;34m(scaler_param, scaler_root_path, data, scaler_method)\u001b[0m\n\u001b[1;32m     74\u001b[0m \u001b[38;5;66;03m#from Clust.clust.transformation.general import dataScaler\u001b[39;00m\n\u001b[1;32m     75\u001b[0m \u001b[38;5;66;03m#feature_col_list = dataScaler.get_scalable_columns(train_o)\u001b[39;00m\n\u001b[1;32m     76\u001b[0m DS\u001b[38;5;241m.\u001b[39msetScaleColumns(\u001b[38;5;28mlist\u001b[39m(data\u001b[38;5;241m.\u001b[39mcolumns))\n\u001b[0;32m---> 77\u001b[0m \u001b[43mDS\u001b[49m\u001b[38;5;241;43m.\u001b[39;49m\u001b[43msetNewScaler\u001b[49m\u001b[43m(\u001b[49m\u001b[43mdata\u001b[49m\u001b[43m)\u001b[49m\n\u001b[1;32m     78\u001b[0m result_data \u001b[38;5;241m=\u001b[39m DS\u001b[38;5;241m.\u001b[39mtransform(data)\n\u001b[1;32m     79\u001b[0m scaler_file_path \u001b[38;5;241m=\u001b[39m DS\u001b[38;5;241m.\u001b[39mscalerFilePath\n",
      "File \u001b[0;32m~/code/Clust/clust/transformation/general/dataScaler.py:172\u001b[0m, in \u001b[0;36mDataScaler.setNewScaler\u001b[0;34m(self, dataForScaler)\u001b[0m\n\u001b[1;32m    169\u001b[0m dataForScaler \u001b[38;5;241m=\u001b[39m dataForScaler[\u001b[38;5;28mself\u001b[39m\u001b[38;5;241m.\u001b[39mscale_columns]\n\u001b[1;32m    171\u001b[0m scaler \u001b[38;5;241m=\u001b[39m \u001b[38;5;28mself\u001b[39m\u001b[38;5;241m.\u001b[39m_get_BasicScaler(\u001b[38;5;28mself\u001b[39m\u001b[38;5;241m.\u001b[39mscaling_method) \n\u001b[0;32m--> 172\u001b[0m \u001b[38;5;28mself\u001b[39m\u001b[38;5;241m.\u001b[39mscaler \u001b[38;5;241m=\u001b[39m \u001b[43mscaler\u001b[49m\u001b[38;5;241;43m.\u001b[39;49m\u001b[43mfit\u001b[49m\u001b[43m(\u001b[49m\u001b[43mdataForScaler\u001b[49m\u001b[43m)\u001b[49m\n\u001b[1;32m    173\u001b[0m \u001b[38;5;28mself\u001b[39m\u001b[38;5;241m.\u001b[39msave_scaler(\u001b[38;5;28mself\u001b[39m\u001b[38;5;241m.\u001b[39mscalerFilePath, scaler)\n\u001b[1;32m    174\u001b[0m \u001b[38;5;28mprint\u001b[39m(\u001b[38;5;124m\"\u001b[39m\u001b[38;5;124mMake New scaler File\u001b[39m\u001b[38;5;124m\"\u001b[39m)\n",
      "File \u001b[0;32m~/.conda/envs/sejong/lib/python3.8/site-packages/sklearn/preprocessing/_data.py:420\u001b[0m, in \u001b[0;36mMinMaxScaler.fit\u001b[0;34m(self, X, y)\u001b[0m\n\u001b[1;32m    418\u001b[0m \u001b[38;5;66;03m# Reset internal state before fitting\u001b[39;00m\n\u001b[1;32m    419\u001b[0m \u001b[38;5;28mself\u001b[39m\u001b[38;5;241m.\u001b[39m_reset()\n\u001b[0;32m--> 420\u001b[0m \u001b[38;5;28;01mreturn\u001b[39;00m \u001b[38;5;28;43mself\u001b[39;49m\u001b[38;5;241;43m.\u001b[39;49m\u001b[43mpartial_fit\u001b[49m\u001b[43m(\u001b[49m\u001b[43mX\u001b[49m\u001b[43m,\u001b[49m\u001b[43m \u001b[49m\u001b[43my\u001b[49m\u001b[43m)\u001b[49m\n",
      "File \u001b[0;32m~/.conda/envs/sejong/lib/python3.8/site-packages/sklearn/preprocessing/_data.py:457\u001b[0m, in \u001b[0;36mMinMaxScaler.partial_fit\u001b[0;34m(self, X, y)\u001b[0m\n\u001b[1;32m    451\u001b[0m     \u001b[38;5;28;01mraise\u001b[39;00m \u001b[38;5;167;01mTypeError\u001b[39;00m(\n\u001b[1;32m    452\u001b[0m         \u001b[38;5;124m\"\u001b[39m\u001b[38;5;124mMinMaxScaler does not support sparse input. \u001b[39m\u001b[38;5;124m\"\u001b[39m\n\u001b[1;32m    453\u001b[0m         \u001b[38;5;124m\"\u001b[39m\u001b[38;5;124mConsider using MaxAbsScaler instead.\u001b[39m\u001b[38;5;124m\"\u001b[39m\n\u001b[1;32m    454\u001b[0m     )\n\u001b[1;32m    456\u001b[0m first_pass \u001b[38;5;241m=\u001b[39m \u001b[38;5;129;01mnot\u001b[39;00m \u001b[38;5;28mhasattr\u001b[39m(\u001b[38;5;28mself\u001b[39m, \u001b[38;5;124m\"\u001b[39m\u001b[38;5;124mn_samples_seen_\u001b[39m\u001b[38;5;124m\"\u001b[39m)\n\u001b[0;32m--> 457\u001b[0m X \u001b[38;5;241m=\u001b[39m \u001b[38;5;28;43mself\u001b[39;49m\u001b[38;5;241;43m.\u001b[39;49m\u001b[43m_validate_data\u001b[49m\u001b[43m(\u001b[49m\n\u001b[1;32m    458\u001b[0m \u001b[43m    \u001b[49m\u001b[43mX\u001b[49m\u001b[43m,\u001b[49m\n\u001b[1;32m    459\u001b[0m \u001b[43m    \u001b[49m\u001b[43mreset\u001b[49m\u001b[38;5;241;43m=\u001b[39;49m\u001b[43mfirst_pass\u001b[49m\u001b[43m,\u001b[49m\n\u001b[1;32m    460\u001b[0m \u001b[43m    \u001b[49m\u001b[43mdtype\u001b[49m\u001b[38;5;241;43m=\u001b[39;49m\u001b[43mFLOAT_DTYPES\u001b[49m\u001b[43m,\u001b[49m\n\u001b[1;32m    461\u001b[0m \u001b[43m    \u001b[49m\u001b[43mforce_all_finite\u001b[49m\u001b[38;5;241;43m=\u001b[39;49m\u001b[38;5;124;43m\"\u001b[39;49m\u001b[38;5;124;43mallow-nan\u001b[39;49m\u001b[38;5;124;43m\"\u001b[39;49m\u001b[43m,\u001b[49m\n\u001b[1;32m    462\u001b[0m \u001b[43m\u001b[49m\u001b[43m)\u001b[49m\n\u001b[1;32m    464\u001b[0m data_min \u001b[38;5;241m=\u001b[39m np\u001b[38;5;241m.\u001b[39mnanmin(X, axis\u001b[38;5;241m=\u001b[39m\u001b[38;5;241m0\u001b[39m)\n\u001b[1;32m    465\u001b[0m data_max \u001b[38;5;241m=\u001b[39m np\u001b[38;5;241m.\u001b[39mnanmax(X, axis\u001b[38;5;241m=\u001b[39m\u001b[38;5;241m0\u001b[39m)\n",
      "File \u001b[0;32m~/.conda/envs/sejong/lib/python3.8/site-packages/sklearn/base.py:577\u001b[0m, in \u001b[0;36mBaseEstimator._validate_data\u001b[0;34m(self, X, y, reset, validate_separately, **check_params)\u001b[0m\n\u001b[1;32m    575\u001b[0m     \u001b[38;5;28;01mraise\u001b[39;00m \u001b[38;5;167;01mValueError\u001b[39;00m(\u001b[38;5;124m\"\u001b[39m\u001b[38;5;124mValidation should be done on X, y or both.\u001b[39m\u001b[38;5;124m\"\u001b[39m)\n\u001b[1;32m    576\u001b[0m \u001b[38;5;28;01melif\u001b[39;00m \u001b[38;5;129;01mnot\u001b[39;00m no_val_X \u001b[38;5;129;01mand\u001b[39;00m no_val_y:\n\u001b[0;32m--> 577\u001b[0m     X \u001b[38;5;241m=\u001b[39m \u001b[43mcheck_array\u001b[49m\u001b[43m(\u001b[49m\u001b[43mX\u001b[49m\u001b[43m,\u001b[49m\u001b[43m \u001b[49m\u001b[43minput_name\u001b[49m\u001b[38;5;241;43m=\u001b[39;49m\u001b[38;5;124;43m\"\u001b[39;49m\u001b[38;5;124;43mX\u001b[39;49m\u001b[38;5;124;43m\"\u001b[39;49m\u001b[43m,\u001b[49m\u001b[43m \u001b[49m\u001b[38;5;241;43m*\u001b[39;49m\u001b[38;5;241;43m*\u001b[39;49m\u001b[43mcheck_params\u001b[49m\u001b[43m)\u001b[49m\n\u001b[1;32m    578\u001b[0m     out \u001b[38;5;241m=\u001b[39m X\n\u001b[1;32m    579\u001b[0m \u001b[38;5;28;01melif\u001b[39;00m no_val_X \u001b[38;5;129;01mand\u001b[39;00m \u001b[38;5;129;01mnot\u001b[39;00m no_val_y:\n",
      "File \u001b[0;32m~/.conda/envs/sejong/lib/python3.8/site-packages/sklearn/utils/validation.py:768\u001b[0m, in \u001b[0;36mcheck_array\u001b[0;34m(array, accept_sparse, accept_large_sparse, dtype, order, copy, force_all_finite, ensure_2d, allow_nd, ensure_min_samples, ensure_min_features, estimator, input_name)\u001b[0m\n\u001b[1;32m    764\u001b[0m     pandas_requires_conversion \u001b[38;5;241m=\u001b[39m \u001b[38;5;28many\u001b[39m(\n\u001b[1;32m    765\u001b[0m         _pandas_dtype_needs_early_conversion(i) \u001b[38;5;28;01mfor\u001b[39;00m i \u001b[38;5;129;01min\u001b[39;00m dtypes_orig\n\u001b[1;32m    766\u001b[0m     )\n\u001b[1;32m    767\u001b[0m     \u001b[38;5;28;01mif\u001b[39;00m \u001b[38;5;28mall\u001b[39m(\u001b[38;5;28misinstance\u001b[39m(dtype_iter, np\u001b[38;5;241m.\u001b[39mdtype) \u001b[38;5;28;01mfor\u001b[39;00m dtype_iter \u001b[38;5;129;01min\u001b[39;00m dtypes_orig):\n\u001b[0;32m--> 768\u001b[0m         dtype_orig \u001b[38;5;241m=\u001b[39m \u001b[43mnp\u001b[49m\u001b[38;5;241;43m.\u001b[39;49m\u001b[43mresult_type\u001b[49m\u001b[43m(\u001b[49m\u001b[38;5;241;43m*\u001b[39;49m\u001b[43mdtypes_orig\u001b[49m\u001b[43m)\u001b[49m\n\u001b[1;32m    770\u001b[0m \u001b[38;5;28;01mif\u001b[39;00m dtype_numeric:\n\u001b[1;32m    771\u001b[0m     \u001b[38;5;28;01mif\u001b[39;00m dtype_orig \u001b[38;5;129;01mis\u001b[39;00m \u001b[38;5;129;01mnot\u001b[39;00m \u001b[38;5;28;01mNone\u001b[39;00m \u001b[38;5;129;01mand\u001b[39;00m dtype_orig\u001b[38;5;241m.\u001b[39mkind \u001b[38;5;241m==\u001b[39m \u001b[38;5;124m\"\u001b[39m\u001b[38;5;124mO\u001b[39m\u001b[38;5;124m\"\u001b[39m:\n\u001b[1;32m    772\u001b[0m         \u001b[38;5;66;03m# if input is object, convert to float.\u001b[39;00m\n",
      "File \u001b[0;32m<__array_function__ internals>:180\u001b[0m, in \u001b[0;36mresult_type\u001b[0;34m(*args, **kwargs)\u001b[0m\n",
      "\u001b[0;31mValueError\u001b[0m: at least one array or dtype is required"
     ]
    }
   ],
   "source": [
    "# for regression\n",
    "if mode_selection == 'regression':\n",
    "    # 2 Training Data Preparation\n",
    "    # 2-1\n",
    "    featureListX= list(dataX.columns)\n",
    "    featureListy= list(datay.columns)\n",
    "\n",
    "    # 2-2\n",
    "    cleanTrainDataParam = 'NoClean'#  Classification, Regression과 같이 X, y가 분리된 경우에는 현재 고정해서 사용해야함\n",
    "\n",
    "    # 2-2-1 cleanTrainDataParam == Clean 일 경우\n",
    "    NaNProcessingParam ={\n",
    "        \"feature_cycle\":'Day',\n",
    "        \"feature_cycle_times\":1,\n",
    "        \"NanInfoForCleanData\":{'type':'num', 'ConsecutiveNanLimit':3, 'totalNaNLimit':30000}\n",
    "    }\n",
    "    # 2-3\n",
    "    scalerParam='scale'\n",
    "    scaleMethod='minmax'\n",
    "\n",
    "    # 2-4\n",
    "    splitRatio = 0.8\n",
    "\n",
    "    # 2-5\n",
    "    scalerRootPath_X = os.path.join(scalerRootDir, datasetName, cleanTrainDataParam)\n",
    "    scalerRootPath_y = os.path.join(scalerRootDir, datasetName, cleanTrainDataParam)\n",
    "    train_x, val_x, X_scalerFilePath = ml_data.get_train_val_data(dataX, featureListX, scalerRootPath_X, splitRatio, scalerParam, scaleMethod)\n",
    "    train_y, val_y, y_scalerFilePath = ml_data.get_train_val_data(datay, featureListy, scalerRootPath_y, splitRatio, scalerParam, scaleMethod)\n",
    "\n",
    "# for forecast\n",
    "elif mode_selection == 'forecast':\n",
    "    # 2-1\n",
    "    featureListX = ['Temperature', 'out_temp','sin_hour']\n",
    "    target_col = 'Temperature'\n",
    "\n",
    "    # 2-2\n",
    "    cleanTrainDataParam = cleanMode\n",
    "\n",
    "    # 2-2-1 cleanMode == Clean 일 때만 활성화\n",
    "    NaNProcessingParam ={\n",
    "        \"feature_cycle\":'Day',\n",
    "        \"feature_cycle_times\":1,\n",
    "        \"NanInfoForCleanData\":{'type':'num', 'ConsecutiveNanLimit':3, 'totalNaNLimit':30000}\n",
    "    }\n",
    "\n",
    "    # 2-3\n",
    "    scalerParam='scale'\n",
    "    scaleMethod ='robust'\n",
    "\n",
    "    # 2-4\n",
    "    splitRatio = 0.8\n",
    "\n",
    "    # 2-5\n",
    "    scalerRootPath_X = os.path.join(scalerRootDir, dataName_X, cleanMode)\n",
    "    train_x, val_x, X_scalerFilePath = ml_data.get_train_val_data(dataX, featureListX, scalerRootPath_X, splitRatio, scalerParam, scaleMethod)\n",
    "    train_x, val_x = ml_clean.delete_low_quality_train_val_data(train_x, val_x, cleanMode, NaNProcessingParam)"
   ]
  },
  {
   "cell_type": "markdown",
   "id": "92d0495b",
   "metadata": {},
   "source": [
    "## 2-3. Training Data Transformation"
   ]
  },
  {
   "cell_type": "code",
   "execution_count": null,
   "id": "77429916",
   "metadata": {},
   "outputs": [],
   "source": [
    "# for regression\n",
    "if mode_selection == 'regression':\n",
    "    transformParameter = {}\n",
    "\n",
    "    from Clust.clust.transformation.type.DFToNPArray import transDFtoNP, trans_df_to_np, trans_df_to_np_inf\n",
    "\n",
    "    trainX, trainy = transDFtoNP(train_x, train_y)\n",
    "    valX, valy = transDFtoNP(val_x, val_y)\n",
    "\n",
    "# for forecast\n",
    "elif mode_selection == 'forecast':\n",
    "    transformParameter = {\n",
    "    'future_step': 2,\n",
    "    'past_step': 24,\n",
    "    'feature_col': featureListX,\n",
    "    'target_col': target_col,\n",
    "    'clean_param': cleanTrainDataParam\n",
    "    }\n",
    "    from Clust.clust.transformation.purpose.machineLearning import LSTMData\n",
    "\n",
    "    LSTMD = LSTMData()\n",
    "    trainX, trainy = LSTMD.transform_Xy_arr(train_x, transformParameter, transformParameter['clean_param'])\n",
    "    valX, valy = LSTMD.transform_Xy_arr(val_x, transformParameter, transformParameter['clean_param'])"
   ]
  },
  {
   "cell_type": "markdown",
   "id": "ff6b9d01",
   "metadata": {},
   "source": [
    "## 2-4 Set Model Parameters & Train Parameters"
   ]
  },
  {
   "cell_type": "code",
   "execution_count": null,
   "id": "3adac6a4",
   "metadata": {},
   "outputs": [],
   "source": [
    "input_size, seq_len = trainX.shape[1], trainX.shape[2]\n",
    "print(input_size, seq_len)\n",
    "\n",
    "# RNN models (RNN, LSTM, GRU) parameters\n",
    "if model_method == 'LSTM_rg' or model_method == 'GRU_rg' or model_method == 'RNN_rg':\n",
    "    modelParameter = {\n",
    "        'rnn_type': 'lstm',\n",
    "        'input_size': input_size, \n",
    "        'hidden_size': 64,\n",
    "        'num_layers': 2,\n",
    "        'output_dim': 1, \n",
    "        'dropout': 0.1, \n",
    "        'bidirectional': True\n",
    "    }\n",
    "# CNN_1D model parameters\n",
    "elif model_method == 'CNN_1D_rg':\n",
    "    modelParameter = {\n",
    "    'input_size': input_size,\n",
    "    'seq_len': seq_len,\n",
    "    'output_channels': 64,\n",
    "    'kernel_size': 3,\n",
    "    'stride': 1,\n",
    "    'padding': 0, \n",
    "    'dropout': 0.1\n",
    "    }\n",
    "# LSTM_FCNs model parameters\n",
    "elif model_method == 'LSTM_FCNs_rg':\n",
    "    modelParameter = {\n",
    "    'input_size': input_size,\n",
    "    'num_layers': 2,\n",
    "    'lstm_dropout': 0.4,\n",
    "    'fc_dropout': 0.1\n",
    "    }\n",
    "# FC model parameters\n",
    "elif model_method == 'FC_rg':\n",
    "    modelParameter = {\n",
    "    'input_size': input_size,\n",
    "    'dropout': 0.1,\n",
    "    'bias': True\n",
    "    }\n",
    "\n",
    "trainParameter = {\n",
    "    'lr': 1e-4,\n",
    "    'weight_decay': 1e-6, \n",
    "    'device': 'cpu', \n",
    "    'n_epochs': 10, \n",
    "    'batch_size': 16\n",
    "}"
   ]
  },
  {
   "cell_type": "code",
   "execution_count": null,
   "id": "913b7d5e",
   "metadata": {},
   "outputs": [],
   "source": [
    "collection_name = datasetName\n",
    "document = { 'data_name': ms_name_X}\n",
    "trainDataInfo = mongo_client.get_document_by_json(bucket_name, collection_name, document)"
   ]
  },
  {
   "cell_type": "code",
   "execution_count": null,
   "id": "19dee514",
   "metadata": {},
   "outputs": [],
   "source": [
    "modelTags =[\"aaaaa\"]\n",
    "trainDataType = \"timeseries\"\n",
    "modelPurpose = \"regression\"\n",
    "\n",
    "# # 2\n",
    "# trainDataInfo = DataMeta[dataName_X]['integrationInfo']\n",
    "\n",
    "# 3. 모델을 저장할 파일 패스를 생성한다.\n",
    "\n",
    "model_name = 'Test' + model_method\n",
    "from Clust.clust.transformation.general.dataScaler import encode_hash_style\n",
    "trainParameter_encode =  encode_hash_style(str(trainParameter))\n",
    "trainDataPathList = [model_name, ms_name_X, trainParameter_encode]\n",
    "modelFilePath = ml_model.get_model_file_path(trainDataPathList, model_method)"
   ]
  },
  {
   "cell_type": "markdown",
   "id": "6a44195f",
   "metadata": {},
   "source": [
    "## 2-5 Training "
   ]
  },
  {
   "cell_type": "code",
   "execution_count": null,
   "id": "f51aab4a",
   "metadata": {},
   "outputs": [],
   "source": [
    "from Clust.clust.ML.regression_YK.train import RegressionTrain as RML\n",
    "\n",
    "rml = RML()\n",
    "rml.set_param(trainParameter)\n",
    "rml.set_model(model_method, modelParameter)\n",
    "rml.set_data(trainX, trainy, valX, valy)\n",
    "rml.train()\n",
    "rml.save_best_model(modelFilePath)"
   ]
  },
  {
   "cell_type": "markdown",
   "id": "2d36ad30",
   "metadata": {},
   "source": [
    "## 2-6 Save MetaData "
   ]
  },
  {
   "cell_type": "code",
   "execution_count": null,
   "id": "d204cca2",
   "metadata": {},
   "outputs": [],
   "source": [
    "# from Clust.clust.transformation.general.dataScaler import encode_hash_style\n",
    "# trainParameter_encode =  encode_hash_style(str(trainParameter))\n",
    "modelInfoMeta ={\n",
    "    \"trainDataInfo\":trainDataInfo,\n",
    "    \"modelName\":model_name,\n",
    "    \"featureList\":featureListX,\n",
    "    \"target\": featureListy,\n",
    "    \"trainDataType\":trainDataType,\n",
    "    \"modelPurpose\":modelPurpose,\n",
    "    \"model_method\":model_method,\n",
    "    \"modelTags\":modelTags,\n",
    "    \"cleanTrainDataParam\":cleanTrainDataParam,\n",
    "    \"NaNProcessingParam\":NaNProcessingParam,\n",
    "    \"trainDataName\":[ms_name_X, ms_name_y],\n",
    "    \"trainParameter\": trainParameter,\n",
    "    \"modelParameter\": modelParameter,\n",
    "    \"transformParameter\":transformParameter,\n",
    "    \"NaNProcessingParam\":NaNProcessingParam,\n",
    "    \"scalerParam\":scalerParam,\n",
    "    \"files\":{\n",
    "        \"modelFile\":{\n",
    "            \"fileName\":\"model.pth\",\n",
    "            \"filePath\":modelFilePath\n",
    "        },\n",
    "        \"XScalerFile\":{\n",
    "            \"fileName\":\"scaler.pkl\",\n",
    "            \"filePath\":X_scalerFilePath       \n",
    "        },\n",
    "        \"yScalerFile\":{\n",
    "            \"fileName\":\"scaler.pkl\",\n",
    "            \"filePath\":y_scalerFilePath       \n",
    "        }\n",
    "    }\n",
    "}\n",
    "\n",
    "modelInfoMeta = ml_meta.save_model_meta_data(mongo_client, modelInfoMeta)\n",
    "========== Data Svae Success ==========\n",
    "{'trainDataInfo': [{'data_name': 'ActionPatternData_trainX_NoClean', 'dataInfo': [['life_indoor_environment', 'humidityTrain_10min'], ['life_indoor_environment', 'temperatureTrain_10min'], ['weather_outdoor_environment', 'belgiumChieverseAirportTrain_10min']], 'startTime': '2016-01-11', 'endTime': '2016-04-15', 'cleanParam': 'NoClean'}], 'modelName': 'TestGRU_rg', 'featureList': ['Press_mm_hg', 'RH_1', 'RH_2', 'RH_3', 'RH_4', 'RH_5', 'RH_6', 'RH_7', 'RH_8', 'RH_9', 'RH_out', 'T1', 'T2', 'T3', 'T4', 'T5', 'T6', 'T7', 'T8', 'T9', 'T_out', 'Tdewpoint', 'Visibility', 'Windspeed'], 'target': ['value'], 'trainDataType': 'timeseries', 'modelPurpose': 'regression', 'model_method': 'GRU_rg', 'modelTags': ['aaaaa'], 'cleanTrainDataParam': 'NoClean', 'NaNProcessingParam': {'feature_cycle': 'Day', 'feature_cycle_times': 1, 'NanInfoForCleanData': {'type': 'num', 'ConsecutiveNanLimit': 3, 'totalNaNLimit': 30000}}, 'trainDataName': ['ActionPatternData_trainX_NoClean', 'ActionPatternData_trainy_NoClean'], 'trainParameter': {'lr': 0.0001, 'weight_decay': 1e-06, 'device': 'cpu', 'n_epochs': 10, 'batch_size': 16}, 'modelParameter': {'rnn_type': 'lstm', 'input_size': 24, 'hidden_size': 64, 'num_layers': 2, 'output_dim': 1, 'dropout': 0.1, 'bidirectional': True}, 'transformParameter': {}, 'scalerParam': 'scale', 'files': {'modelFile': {'fileName': 'model.pth', 'filePath': './Models/GRU_rg/TestGRU_rg/ActionPatternData_trainX_NoClean/d531eec11664669cff1f6a3ad9639012/model.pkl'}, 'XScalerFile': {'fileName': 'scaler.pkl', 'filePath': './scaler/ActionPatternData/NoClean/minmax/900878d7bba6f2a4017d1c3399909ea7/scaler.pkl'}, 'yScalerFile': {'fileName': 'scaler.pkl', 'filePath': './scaler/ActionPatternData/NoClean/minmax/f69156750a210491ffd4a67b605bc88b/scaler.pkl'}}, '_id': ObjectId('6435107d3d262e8168f7c3d0')}"
   ]
  }
 ],
 "metadata": {
  "kernelspec": {
   "display_name": "Python 3",
   "language": "python",
   "name": "python3"
  },
  "language_info": {
   "codemirror_mode": {
    "name": "ipython",
    "version": 3
   },
   "file_extension": ".py",
   "mimetype": "text/x-python",
   "name": "python",
   "nbconvert_exporter": "python",
   "pygments_lexer": "ipython3",
   "version": "3.8.8"
  },
  "vscode": {
   "interpreter": {
    "hash": "e92cea83a25a22cd774ff9f8132db57ccb94d86fd97b7fe80ee00c35daecdd05"
   }
  }
 },
 "nbformat": 4,
 "nbformat_minor": 5
}
