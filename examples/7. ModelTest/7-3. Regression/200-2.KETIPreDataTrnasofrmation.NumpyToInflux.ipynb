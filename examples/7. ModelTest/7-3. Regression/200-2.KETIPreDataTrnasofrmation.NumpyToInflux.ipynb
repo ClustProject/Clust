{
 "cells": [
  {
   "cell_type": "markdown",
   "id": "7073199c",
   "metadata": {},
   "source": [
    "Table of Contents"
   ]
  },
  {
   "cell_type": "markdown",
   "id": "e6a703a8",
   "metadata": {},
   "source": [
    "1  1. Numpy Array to dataframe\n",
    "1.1  1-1. Original Data Load\n",
    "1.2  1-2. Array to DF\n",
    "1.3  1-3 DF to Influx\n",
    "1.3.1  Column Modify\n",
    "1.3.2  Data Local Save : Classification\n",
    "1.3.3  Original Data Upload\n",
    "1.3.3.1  이 위에까지 돌려보시면 됩니다~\n",
    "1.3.4  Data Split\n",
    "2  2. dataFrame to Numpy Array\n",
    "2.1  2-1. Influx Data Preparation\n",
    "2.2  2-2. DF to Numpy Array"
   ]
  },
  {
   "cell_type": "code",
   "execution_count": 1,
   "id": "3201bfd4",
   "metadata": {},
   "outputs": [],
   "source": [
    "import sys\n",
    "\n",
    "sys.path.append(\"../../..\")\n",
    "sys.path.append(\"../../../../\")"
   ]
  },
  {
   "cell_type": "markdown",
   "id": "fc3f6a48",
   "metadata": {},
   "source": [
    "1. Numpy Array to dataframe"
   ]
  },
  {
   "cell_type": "markdown",
   "id": "18f3c4db",
   "metadata": {},
   "source": [
    "1-1. Original Data Load"
   ]
  },
  {
   "cell_type": "code",
   "execution_count": 2,
   "id": "674ea461",
   "metadata": {},
   "outputs": [],
   "source": [
    "from Clust.clust.transformation.type.NPArrayToDF import trans3NPtoDF\n",
    "import pickle\n",
    "datafolderAddress = './ku_data/{}Test/'.format(problem)\n",
    "train_x = pickle.load(open(datafolderAddress+'x_train.pkl', 'rb'))\n",
    "train_y = pickle.load(open(datafolderAddress+'y_train.pkl', 'rb'))\n",
    "test_x = pickle.load(open(datafolderAddress+'x_test.pkl', 'rb'))\n",
    "test_y = pickle.load(open(datafolderAddress+'y_test.pkl', 'rb'))"
   ]
  },
  {
   "cell_type": "code",
   "execution_count": 27,
   "id": "1bb97a45",
   "metadata": {},
   "outputs": [
    {
     "data": {
      "text/plain": [
       "(7352, 9, 128)"
      ]
     },
     "execution_count": 27,
     "metadata": {},
     "output_type": "execute_result"
    }
   ],
   "source": [
    "print(train_x.shape) # 7352개의 액션, 9개의 Column 128길이의 시계열\n",
    "print(train_y.shape)\n",
    "print(test_x.shape)\n",
    "print(test_y.shape)"
   ]
  },
  {
   "cell_type": "code",
   "execution_count": null,
   "id": "888565a1",
   "metadata": {},
   "outputs": [],
   "source": [
    "problem = \"classification\" # or regression"
   ]
  },
  {
   "cell_type": "markdown",
   "id": "f79d110b",
   "metadata": {},
   "source": [
    "1-2. Array to DF"
   ]
  },
  {
   "cell_type": "code",
   "execution_count": 29,
   "id": "4d3b3f63",
   "metadata": {},
   "outputs": [],
   "source": [
    "if problem == \"regression\":\n",
    "    trainDF_X, trainDF_y = trans3NPtoDF(train_x, train_y, '2016-1-11')\n",
    "    testDF_X, testDF_y = trans3NPtoDF(test_x, test_y, '2021-1-1')\n",
    "elif problem == \"classification\":\n",
    "    trainDF_X, trainDF_y = trans3NPtoDF(train_x, train_y, '1992-1-11')\n",
    "    testDF_X, testDF_y = trans3NPtoDF(test_x, test_y, '2013-1-1')"
   ]
  },
  {
   "cell_type": "code",
   "execution_count": 38,
   "id": "81108dfe",
   "metadata": {},
   "outputs": [
    {
     "data": {
      "text/html": [
       "<div>\n",
       "<style scoped>\n",
       "    .dataframe tbody tr th:only-of-type {\n",
       "        vertical-align: middle;\n",
       "    }\n",
       "\n",
       "    .dataframe tbody tr th {\n",
       "        vertical-align: top;\n",
       "    }\n",
       "\n",
       "    .dataframe thead th {\n",
       "        text-align: right;\n",
       "    }\n",
       "</style>\n",
       "<table border=\"1\" class=\"dataframe\">\n",
       "  <thead>\n",
       "    <tr style=\"text-align: right;\">\n",
       "      <th></th>\n",
       "      <th>col_0</th>\n",
       "      <th>col_1</th>\n",
       "      <th>col_2</th>\n",
       "      <th>col_3</th>\n",
       "      <th>col_4</th>\n",
       "      <th>col_5</th>\n",
       "      <th>col_6</th>\n",
       "      <th>col_7</th>\n",
       "      <th>col_8</th>\n",
       "    </tr>\n",
       "  </thead>\n",
       "  <tbody>\n",
       "    <tr>\n",
       "      <th>1992-01-11 00:00:00</th>\n",
       "      <td>0.000181</td>\n",
       "      <td>0.010767</td>\n",
       "      <td>0.055561</td>\n",
       "      <td>0.030191</td>\n",
       "      <td>0.066014</td>\n",
       "      <td>0.022859</td>\n",
       "      <td>1.012817</td>\n",
       "      <td>-0.123217</td>\n",
       "      <td>0.102934</td>\n",
       "    </tr>\n",
       "    <tr>\n",
       "      <th>1992-01-11 00:11:15</th>\n",
       "      <td>0.010139</td>\n",
       "      <td>0.006579</td>\n",
       "      <td>0.055125</td>\n",
       "      <td>0.043711</td>\n",
       "      <td>0.042699</td>\n",
       "      <td>0.010316</td>\n",
       "      <td>1.022833</td>\n",
       "      <td>-0.126876</td>\n",
       "      <td>0.105687</td>\n",
       "    </tr>\n",
       "    <tr>\n",
       "      <th>1992-01-11 00:22:30</th>\n",
       "      <td>0.009276</td>\n",
       "      <td>0.008929</td>\n",
       "      <td>0.048405</td>\n",
       "      <td>0.035688</td>\n",
       "      <td>0.074850</td>\n",
       "      <td>0.013250</td>\n",
       "      <td>1.022028</td>\n",
       "      <td>-0.124004</td>\n",
       "      <td>0.102102</td>\n",
       "    </tr>\n",
       "    <tr>\n",
       "      <th>1992-01-11 00:33:45</th>\n",
       "      <td>0.005066</td>\n",
       "      <td>0.007489</td>\n",
       "      <td>0.049775</td>\n",
       "      <td>0.040402</td>\n",
       "      <td>0.057320</td>\n",
       "      <td>0.017751</td>\n",
       "      <td>1.017877</td>\n",
       "      <td>-0.124928</td>\n",
       "      <td>0.106553</td>\n",
       "    </tr>\n",
       "    <tr>\n",
       "      <th>1992-01-11 00:45:00</th>\n",
       "      <td>0.010810</td>\n",
       "      <td>0.006141</td>\n",
       "      <td>0.043013</td>\n",
       "      <td>0.047097</td>\n",
       "      <td>0.052343</td>\n",
       "      <td>0.002553</td>\n",
       "      <td>1.023680</td>\n",
       "      <td>-0.125767</td>\n",
       "      <td>0.102814</td>\n",
       "    </tr>\n",
       "    <tr>\n",
       "      <th>...</th>\n",
       "      <td>...</td>\n",
       "      <td>...</td>\n",
       "      <td>...</td>\n",
       "      <td>...</td>\n",
       "      <td>...</td>\n",
       "      <td>...</td>\n",
       "      <td>...</td>\n",
       "      <td>...</td>\n",
       "      <td>...</td>\n",
       "    </tr>\n",
       "    <tr>\n",
       "      <th>2012-02-26 23:03:45</th>\n",
       "      <td>0.022358</td>\n",
       "      <td>-0.280075</td>\n",
       "      <td>-0.180578</td>\n",
       "      <td>0.973228</td>\n",
       "      <td>1.083094</td>\n",
       "      <td>-0.226884</td>\n",
       "      <td>0.991497</td>\n",
       "      <td>-0.486260</td>\n",
       "      <td>-0.205803</td>\n",
       "    </tr>\n",
       "    <tr>\n",
       "      <th>2012-02-26 23:15:00</th>\n",
       "      <td>-0.024451</td>\n",
       "      <td>-0.248612</td>\n",
       "      <td>-0.153920</td>\n",
       "      <td>1.004266</td>\n",
       "      <td>1.187832</td>\n",
       "      <td>-0.313591</td>\n",
       "      <td>0.945067</td>\n",
       "      <td>-0.453405</td>\n",
       "      <td>-0.180733</td>\n",
       "    </tr>\n",
       "    <tr>\n",
       "      <th>2012-02-26 23:26:15</th>\n",
       "      <td>-0.071907</td>\n",
       "      <td>-0.194322</td>\n",
       "      <td>-0.127555</td>\n",
       "      <td>1.004855</td>\n",
       "      <td>1.156645</td>\n",
       "      <td>-0.362512</td>\n",
       "      <td>0.898095</td>\n",
       "      <td>-0.397775</td>\n",
       "      <td>-0.156105</td>\n",
       "    </tr>\n",
       "    <tr>\n",
       "      <th>2012-02-26 23:37:30</th>\n",
       "      <td>-0.142209</td>\n",
       "      <td>-0.147070</td>\n",
       "      <td>-0.092367</td>\n",
       "      <td>1.015589</td>\n",
       "      <td>1.100750</td>\n",
       "      <td>-0.383989</td>\n",
       "      <td>0.828372</td>\n",
       "      <td>-0.349247</td>\n",
       "      <td>-0.122798</td>\n",
       "    </tr>\n",
       "    <tr>\n",
       "      <th>2012-02-26 23:48:45</th>\n",
       "      <td>-0.170999</td>\n",
       "      <td>-0.131399</td>\n",
       "      <td>-0.051127</td>\n",
       "      <td>1.047599</td>\n",
       "      <td>1.011324</td>\n",
       "      <td>-0.335884</td>\n",
       "      <td>0.800243</td>\n",
       "      <td>-0.332372</td>\n",
       "      <td>-0.083572</td>\n",
       "    </tr>\n",
       "  </tbody>\n",
       "</table>\n",
       "<p>941056 rows × 9 columns</p>\n",
       "</div>"
      ],
      "text/plain": [
       "                        col_0     col_1     col_2     col_3     col_4  \\\n",
       "1992-01-11 00:00:00  0.000181  0.010767  0.055561  0.030191  0.066014   \n",
       "1992-01-11 00:11:15  0.010139  0.006579  0.055125  0.043711  0.042699   \n",
       "1992-01-11 00:22:30  0.009276  0.008929  0.048405  0.035688  0.074850   \n",
       "1992-01-11 00:33:45  0.005066  0.007489  0.049775  0.040402  0.057320   \n",
       "1992-01-11 00:45:00  0.010810  0.006141  0.043013  0.047097  0.052343   \n",
       "...                       ...       ...       ...       ...       ...   \n",
       "2012-02-26 23:03:45  0.022358 -0.280075 -0.180578  0.973228  1.083094   \n",
       "2012-02-26 23:15:00 -0.024451 -0.248612 -0.153920  1.004266  1.187832   \n",
       "2012-02-26 23:26:15 -0.071907 -0.194322 -0.127555  1.004855  1.156645   \n",
       "2012-02-26 23:37:30 -0.142209 -0.147070 -0.092367  1.015589  1.100750   \n",
       "2012-02-26 23:48:45 -0.170999 -0.131399 -0.051127  1.047599  1.011324   \n",
       "\n",
       "                        col_5     col_6     col_7     col_8  \n",
       "1992-01-11 00:00:00  0.022859  1.012817 -0.123217  0.102934  \n",
       "1992-01-11 00:11:15  0.010316  1.022833 -0.126876  0.105687  \n",
       "1992-01-11 00:22:30  0.013250  1.022028 -0.124004  0.102102  \n",
       "1992-01-11 00:33:45  0.017751  1.017877 -0.124928  0.106553  \n",
       "1992-01-11 00:45:00  0.002553  1.023680 -0.125767  0.102814  \n",
       "...                       ...       ...       ...       ...  \n",
       "2012-02-26 23:03:45 -0.226884  0.991497 -0.486260 -0.205803  \n",
       "2012-02-26 23:15:00 -0.313591  0.945067 -0.453405 -0.180733  \n",
       "2012-02-26 23:26:15 -0.362512  0.898095 -0.397775 -0.156105  \n",
       "2012-02-26 23:37:30 -0.383989  0.828372 -0.349247 -0.122798  \n",
       "2012-02-26 23:48:45 -0.335884  0.800243 -0.332372 -0.083572  \n",
       "\n",
       "[941056 rows x 9 columns]"
      ]
     },
     "execution_count": 38,
     "metadata": {},
     "output_type": "execute_result"
    }
   ],
   "source": [
    "trainDF_X"
   ]
  },
  {
   "cell_type": "markdown",
   "id": "3fd9b6c0",
   "metadata": {},
   "source": [
    "1-3 DF to Influx"
   ]
  },
  {
   "cell_type": "markdown",
   "id": "637c258e",
   "metadata": {},
   "source": [
    "Column Modify"
   ]
  },
  {
   "cell_type": "code",
   "execution_count": 31,
   "id": "1ca987e8",
   "metadata": {},
   "outputs": [],
   "source": [
    "if problem == \"regression\":\n",
    "    # columnName 수정\n",
    "    rename_columns = {\"col_0\":\"T1\", \"col_1\":\"RH_1\", \"col_2\":\"T2\", \"col_3\":\"RH_2\", \"col_4\":\"T3\", \"col_5\":\"RH_3\", \"col_6\":\"T4\", \"col_7\":\"RH_4\",\n",
    "    \"col_8\":\"T5\", \"col_9\":\"RH_5\", \"col_10\":\"T6\", \"col_11\":\"RH_6\", \"col_12\":\"T7\", \"col_13\":\"RH_7\", \"col_14\":\"T8\", \"col_15\":\"RH_8\",\n",
    "    \"col_16\":\"T9\", \"col_17\":\"RH_9\", \"col_18\":\"T_out\", \"col_19\":\"Press_mm_hg\", \"col_20\":\"RH_out\", \"col_21\":\"Windspeed\", \"col_22\":\"Visibility\",\n",
    "    \"col_23\":\"Tdewpoint\"}\n",
    "\n",
    "    trainDF_X.rename(columns = rename_columns, inplace = True)\n",
    "    testDF_X.rename(columns = rename_columns, inplace = True)"
   ]
  },
  {
   "cell_type": "code",
   "execution_count": 32,
   "id": "9344d8ae",
   "metadata": {},
   "outputs": [],
   "source": [
    "import pandas as pd\n",
    "trainDF_y['value'] = pd.to_numeric(trainDF_y['value'],errors = 'coerce')\n",
    "testDF_y['value'] = pd.to_numeric(testDF_y['value'],errors = 'coerce')"
   ]
  },
  {
   "cell_type": "markdown",
   "id": "198b2173",
   "metadata": {},
   "source": [
    "Data Local Save : Classification"
   ]
  },
  {
   "cell_type": "code",
   "execution_count": 14,
   "id": "fc0f0872",
   "metadata": {},
   "outputs": [],
   "source": [
    "if problem ==\"classification\":\n",
    "    trainDF_X.to_csv(\"classification_trainDF_X.csv\")\n",
    "    testDF_X.to_csv(\"classification_testDF_X.csv\")\n",
    "    trainDS_X = pd.read_csv(\"classification_trainDF_X.csv\", chunksize=25000, index_col = \"Unnamed: 0\")\n",
    "    testDS_X = pd.read_csv(\"classification_testDF_X.csv\", chunksize=25000, index_col = \"Unnamed: 0\")"
   ]
  },
  {
   "cell_type": "code",
   "execution_count": 15,
   "id": "11e36552",
   "metadata": {},
   "outputs": [
    {
     "data": {
      "text/plain": [
       "<pandas.io.parsers.TextFileReader at 0x7f6828479fa0>"
      ]
     },
     "execution_count": 15,
     "metadata": {},
     "output_type": "execute_result"
    }
   ],
   "source": [
    "trainDS_X"
   ]
  },
  {
   "cell_type": "code",
   "execution_count": 16,
   "id": "23eb8cf4",
   "metadata": {},
   "outputs": [
    {
     "data": {
      "text/plain": [
       "<pandas.io.parsers.TextFileReader at 0x7f6828479bb0>"
      ]
     },
     "execution_count": 16,
     "metadata": {},
     "output_type": "execute_result"
    }
   ],
   "source": [
    "testDS_X"
   ]
  },
  {
   "cell_type": "markdown",
   "id": "8e2399e8",
   "metadata": {},
   "source": [
    "Original Data Upload"
   ]
  },
  {
   "cell_type": "code",
   "execution_count": 17,
   "id": "33d06055",
   "metadata": {},
   "outputs": [],
   "source": [
    "from Clust.setting.influx_setting_KETI import CLUSTDataServer2 as ins\n",
    "from Clust.clust.ingestion.influx import influx_client_v2 as iC\n",
    "\n",
    "db_client = iC.InfluxClient(ins)"
   ]
  },
  {
   "cell_type": "code",
   "execution_count": 18,
   "id": "2850ccf3",
   "metadata": {},
   "outputs": [
    {
     "name": "stdout",
     "output_type": "stream",
     "text": [
      "Start Classification Data Save\n",
      "Start Data 1\n",
      "========== write success ==========\n",
      "Start Data 2\n",
      "========== write success ==========\n"
     ]
    }
   ],
   "source": [
    "# 1. Original Upload\n",
    "if problem ==\"regression\":\n",
    "     # Train X\n",
    "    DBName = \"life_indoor_environment\"\n",
    "    MSName = \"applianceEnergyDatasetTrainX_10min\"\n",
    "    db_client.write_db(DBName, MSName, trainDF_X)\n",
    "    \n",
    "    # Train y\n",
    "    DBName = \"life_indoor_environment\"\n",
    "    MSName = \"applianceEnergyDatasetTrainy_1day\"\n",
    "    db_client.write_db(DBName, MSName, trainDF_y)\n",
    "    \n",
    "    # Test X\n",
    "    DBName = \"life_indoor_environment\"\n",
    "    MSName = \"applianceEnergyDatasetTestX_10min\"\n",
    "    db_client.write_db(DBName, MSName, testDF_X)\n",
    "    \n",
    "    # Test y\n",
    "    DBName = \"life_indoor_environment\"\n",
    "    MSName = \"applianceEnergyDatasetTesty_1day\"\n",
    "    db_client.write_db(DBName, MSName, testDF_y)\n",
    "\n",
    "elif problem ==\"classification\":\n",
    "    print(\"Start Classification Data Save\")\n",
    "    \n",
    "    print(\"Start Data 1\")\n",
    "    # Test y \n",
    "    DBName = \"life_action_pattern\"\n",
    "    MSName = \"patternNameTest\"\n",
    "    db_client.write_db(DBName, MSName, testDF_y)\n",
    "    \n",
    "    print(\"Start Data 2\")\n",
    "    # Train y \n",
    "    DBName = \"life_action_pattern\"\n",
    "    MSName = \"patternNameTrain\"\n",
    "    db_client.write_db(DBName, MSName, trainDF_y)\n",
    "    \n",
    "    import time\n",
    "    time.sleep(180)"
   ]
  },
  {
   "cell_type": "code",
   "execution_count": 19,
   "id": "25fbce80",
   "metadata": {},
   "outputs": [
    {
     "name": "stdout",
     "output_type": "stream",
     "text": [
      "Start Data 3\n",
      "========== write success ==========\n",
      "========== write success ==========\n",
      "========== write success ==========\n",
      "========== write success ==========\n",
      "========== write success ==========\n",
      "========== write success ==========\n",
      "========== write success ==========\n",
      "========== write success ==========\n",
      "========== write success ==========\n",
      "========== write success ==========\n",
      "========== write success ==========\n",
      "========== write success ==========\n",
      "========== write success ==========\n",
      "========== write success ==========\n",
      "========== write success ==========\n",
      "========== write success ==========\n",
      "========== write success ==========\n",
      "========== write success ==========\n",
      "========== write success ==========\n",
      "========== write success ==========\n",
      "========== write success ==========\n",
      "========== write success ==========\n",
      "========== write success ==========\n",
      "========== write success ==========\n",
      "========== write success ==========\n",
      "========== write success ==========\n",
      "========== write success ==========\n",
      "========== write success ==========\n",
      "========== write success ==========\n",
      "========== write success ==========\n",
      "========== write success ==========\n",
      "========== write success ==========\n",
      "========== write success ==========\n",
      "========== write success ==========\n",
      "========== write success ==========\n",
      "========== write success ==========\n",
      "========== write success ==========\n",
      "========== write success ==========\n",
      "Start Data 4\n",
      "========== write success ==========\n",
      "========== write success ==========\n",
      "========== write success ==========\n",
      "========== write success ==========\n",
      "========== write success ==========\n",
      "========== write success ==========\n",
      "========== write success ==========\n",
      "========== write success ==========\n",
      "========== write success ==========\n",
      "========== write success ==========\n",
      "========== write success ==========\n",
      "========== write success ==========\n",
      "========== write success ==========\n",
      "========== write success ==========\n",
      "========== write success ==========\n",
      "========== write success ==========\n"
     ]
    }
   ],
   "source": [
    "if problem ==\"classification\":\n",
    "    print(\"Start Data 3\")\n",
    "    # Train X\n",
    "    for train_X in trainDS_X:\n",
    "        DBName = \"bio_action_sensors\"\n",
    "        MSName = \"accelerationTrain\"\n",
    "        db_client.write_db(DBName, MSName, train_X)\n",
    "    \n",
    "    print(\"Start Data 4\")\n",
    "    # Test X\n",
    "    for test_X in testDS_X:\n",
    "        DBName = \"bio_action_sensors\"\n",
    "        MSName = \"accelerationTest\"\n",
    "        db_client.write_db(DBName, MSName, test_X)"
   ]
  },
  {
   "cell_type": "markdown",
   "id": "3f3ca89f",
   "metadata": {},
   "source": [
    "Data Split"
   ]
  },
  {
   "cell_type": "code",
   "execution_count": 20,
   "id": "de797a9e",
   "metadata": {},
   "outputs": [],
   "source": [
    "if problem ==\"regression\":\n",
    "    trainDF_X_Temp = trainDF_X[[\"T1\", \"T2\", \"T3\", \"T4\", \"T5\", \"T6\", \"T7\", \"T8\", \"T9\"]]\n",
    "    trainDF_X_Humi = trainDF_X[[\"RH_1\", \"RH_2\", \"RH_3\", \"RH_4\", \"RH_5\", \"RH_6\", \"RH_7\", \"RH_8\", \"RH_9\"]]\n",
    "    trainDF_X_Out = trainDF_X[[\"T_out\", \"Press_mm_hg\" ,\"RH_out\" ,\"Windspeed\" ,\"Visibility\" ,\"Tdewpoint\"]]\n",
    "\n",
    "    testDF_X_Temp = testDF_X[[\"T1\", \"T2\", \"T3\", \"T4\", \"T5\", \"T6\", \"T7\", \"T8\", \"T9\"]]\n",
    "    testDF_X_Humi = testDF_X[[\"RH_1\", \"RH_2\", \"RH_3\", \"RH_4\", \"RH_5\", \"RH_6\", \"RH_7\", \"RH_8\", \"RH_9\"]]\n",
    "    testDF_X_Out = testDF_X[[\"T_out\", \"Press_mm_hg\" ,\"RH_out\" ,\"Windspeed\" ,\"Visibility\" ,\"Tdewpoint\"]]\n",
    "    \n",
    "    # 2. Split Data Upload\n",
    "    # Train X\n",
    "    DBName = \"life_indoor_environment\"\n",
    "    MSName = \"humidityTrain_10min\"\n",
    "    db_client.write_db(DBName, MSName, trainDF_X_Humi)\n",
    "    \n",
    "    DBName = \"life_indoor_environment\"\n",
    "    MSName = \"temperatureTrain_10min\"\n",
    "    db_client.write_db(DBName, MSName, trainDF_X_Temp)\n",
    "    \n",
    "    DBName = \"weather_outdoor_environment\"\n",
    "    MSName = \"belgiumChieverseAirportTrain_10min\"\n",
    "    db_client.write_db(DBName, MSName, trainDF_X_Out)\n",
    "    \n",
    "    # Test X\n",
    "    DBName = \"life_indoor_environment\"\n",
    "    MSName = \"humidityTest_10min\"\n",
    "    db_client.write_db(DBName, MSName, testDF_X_Humi)\n",
    "    \n",
    "    DBName = \"life_indoor_environment\"\n",
    "    MSName = \"temperatureTest_10min\"\n",
    "    db_client.write_db(DBName, MSName, testDF_X_Temp)\n",
    "    \n",
    "    DBName = \"weather_outdoor_environment\"\n",
    "    MSName = \"belgiumChieverseAirportTest_10min\"\n",
    "    db_client.write_db(DBName, MSName, testDF_X_Out)"
   ]
  },
  {
   "cell_type": "markdown",
   "id": "8a44e9fa",
   "metadata": {},
   "source": [
    "2. dataFrame to Numpy Array"
   ]
  },
  {
   "cell_type": "markdown",
   "id": "961bbdeb",
   "metadata": {},
   "source": [
    "2-1. Influx Data Preparation"
   ]
  },
  {
   "cell_type": "code",
   "execution_count": 22,
   "id": "37977d20",
   "metadata": {},
   "outputs": [],
   "source": [
    "# regression Original Data\n",
    "# Train X\n",
    "DBName = \"life_indoor_environment\"\n",
    "MSName = \"applianceEnergyDatasetTrainX_10min\"\n",
    "trainDF_X = db_client.get_data(DBName, MSName)\n",
    "\n",
    "# Train y\n",
    "DBName = \"life_indoor_environment\"\n",
    "MSName = \"applianceEnergyDatasetTrainy_1day\"\n",
    "trainDF_y = db_client.get_data(DBName, MSName)"
   ]
  },
  {
   "cell_type": "code",
   "execution_count": 23,
   "id": "85181b72",
   "metadata": {},
   "outputs": [
    {
     "data": {
      "text/plain": [
       "(13680, 24)"
      ]
     },
     "execution_count": 23,
     "metadata": {},
     "output_type": "execute_result"
    }
   ],
   "source": [
    "trainDF_X.shape"
   ]
  },
  {
   "cell_type": "markdown",
   "id": "d2fd3841",
   "metadata": {},
   "source": [
    "2-2. DF to Numpy Array"
   ]
  },
  {
   "cell_type": "code",
   "execution_count": 24,
   "id": "e5c411a2",
   "metadata": {},
   "outputs": [
    {
     "name": "stderr",
     "output_type": "stream",
     "text": [
      "/home/jwmoon/.conda/envs/sejong/lib/python3.8/site-packages/pandas/core/indexes/base.py:5278: FutureWarning: Indexing a timezone-aware DatetimeIndex with a timezone-naive datetime is deprecated and will raise KeyError in a future version.  Use a timezone-aware object instead.\n",
      "  start_slice, end_slice = self.slice_locs(start, end, step=step, kind=kind)\n"
     ]
    }
   ],
   "source": [
    "from Clust.clust.transformation.type.DFToNPArray import transDFtoNP\n",
    "dfX = trainDF_X \n",
    "dfy = trainDF_y\n",
    "X, y = transDFtoNP(dfX, dfy)"
   ]
  },
  {
   "cell_type": "code",
   "execution_count": 25,
   "id": "0bdd1600",
   "metadata": {},
   "outputs": [
    {
     "data": {
      "text/plain": [
       "(95, 24, 144)"
      ]
     },
     "execution_count": 25,
     "metadata": {},
     "output_type": "execute_result"
    }
   ],
   "source": [
    "X.shape"
   ]
  },
  {
   "cell_type": "code",
   "execution_count": 26,
   "id": "2c1c2d7c",
   "metadata": {},
   "outputs": [
    {
     "data": {
      "text/plain": [
       "(95,)"
      ]
     },
     "execution_count": 26,
     "metadata": {},
     "output_type": "execute_result"
    }
   ],
   "source": [
    "y.shape"
   ]
  }
 ],
 "metadata": {
  "kernelspec": {
   "display_name": "Python 3",
   "language": "python",
   "name": "python3"
  },
  "language_info": {
   "codemirror_mode": {
    "name": "ipython",
    "version": 3
   },
   "file_extension": ".py",
   "mimetype": "text/x-python",
   "name": "python",
   "nbconvert_exporter": "python",
   "pygments_lexer": "ipython3",
   "version": "3.8.8"
  }
 },
 "nbformat": 4,
 "nbformat_minor": 5
}
