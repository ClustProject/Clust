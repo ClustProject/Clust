{
 "cells": [
  {
   "cell_type": "markdown",
   "id": "7073199c",
   "metadata": {},
   "source": [
    "Table of Contents"
   ]
  },
  {
   "cell_type": "markdown",
   "id": "e6a703a8",
   "metadata": {},
   "source": [
    "1  1. Numpy Array to dataframe\n",
    "1.1  1-1. Original Data Load\n",
    "1.2  1-2. Array to DF\n",
    "1.3  1-3 DF to Influx\n",
    "1.3.1  Column Modify\n",
    "1.3.2  Data Local Save : Classification\n",
    "1.3.3  Original Data Upload\n",
    "1.3.3.1  이 위에까지 돌려보시면 됩니다~\n",
    "1.3.4  Data Split\n",
    "2  2. dataFrame to Numpy Array\n",
    "2.1  2-1. Influx Data Preparation\n",
    "2.2  2-2. DF to Numpy Array"
   ]
  },
  {
   "cell_type": "code",
   "execution_count": null,
   "id": "3201bfd4",
   "metadata": {},
   "outputs": [],
   "source": [
    "import sys\n",
    "\n",
    "sys.path.append(\"../../..\")\n",
    "sys.path.append(\"../../../../\")"
   ]
  },
  {
   "cell_type": "markdown",
   "id": "fc3f6a48",
   "metadata": {},
   "source": [
    "1. Numpy Array to dataframe"
   ]
  },
  {
   "cell_type": "markdown",
   "id": "18f3c4db",
   "metadata": {},
   "source": [
    "1-1. Original Data Load"
   ]
  },
  {
   "cell_type": "code",
   "execution_count": null,
   "id": "674ea461",
   "metadata": {},
   "outputs": [],
   "source": [
    "problem = \"classification\" # classification  #regression\n",
    "\n",
    "from Clust.clust.transformation.type.NPArrayToDF import trans3NPtoDF\n",
    "import pickle\n",
    "datafolderAddress = './ku_data/{}Test/'.format(problem)\n",
    "train_x = pickle.load(open(datafolderAddress+'x_train.pkl', 'rb'))\n",
    "train_y = pickle.load(open(datafolderAddress+'y_train.pkl', 'rb'))\n",
    "test_x = pickle.load(open(datafolderAddress+'x_test.pkl', 'rb'))\n",
    "test_y = pickle.load(open(datafolderAddress+'y_test.pkl', 'rb'))"
   ]
  },
  {
   "cell_type": "code",
   "execution_count": null,
   "id": "1bb97a45",
   "metadata": {},
   "outputs": [],
   "source": [
    "train_x.shape"
   ]
  },
  {
   "cell_type": "code",
   "execution_count": null,
   "id": "90b55ede",
   "metadata": {},
   "outputs": [],
   "source": [
    "train_y.shape"
   ]
  },
  {
   "cell_type": "markdown",
   "id": "f79d110b",
   "metadata": {},
   "source": [
    "1-2. Array to DF"
   ]
  },
  {
   "cell_type": "code",
   "execution_count": null,
   "id": "4d3b3f63",
   "metadata": {},
   "outputs": [],
   "source": [
    "if problem == \"regression\":\n",
    "    trainDF_X, trainDF_y = trans3NPtoDF(train_x, train_y, '2016-1-11')\n",
    "    testDF_X, testDF_y = trans3NPtoDF(test_x, test_y, '2021-1-1')\n",
    "elif problem == \"classification\":\n",
    "    trainDF_X, trainDF_y = trans3NPtoDF(train_x, train_y, '1992-1-11')\n",
    "    testDF_X, testDF_y = trans3NPtoDF(test_x, test_y, '2013-1-1')"
   ]
  },
  {
   "cell_type": "code",
   "execution_count": null,
   "id": "8cca546d",
   "metadata": {},
   "outputs": [],
   "source": [
    "trainDF_X.shape"
   ]
  },
  {
   "cell_type": "markdown",
   "id": "3fd9b6c0",
   "metadata": {},
   "source": [
    "1-3 DF to Influx"
   ]
  },
  {
   "cell_type": "markdown",
   "id": "637c258e",
   "metadata": {},
   "source": [
    "Column Modify"
   ]
  },
  {
   "cell_type": "code",
   "execution_count": null,
   "id": "1ca987e8",
   "metadata": {},
   "outputs": [],
   "source": [
    "if problem == \"regression\":\n",
    "    # columnName 수정\n",
    "    rename_columns = {\"col_0\":\"T1\", \"col_1\":\"RH_1\", \"col_2\":\"T2\", \"col_3\":\"RH_2\", \"col_4\":\"T3\", \"col_5\":\"RH_3\", \"col_6\":\"T4\", \"col_7\":\"RH_4\",\n",
    "    \"col_8\":\"T5\", \"col_9\":\"RH_5\", \"col_10\":\"T6\", \"col_11\":\"RH_6\", \"col_12\":\"T7\", \"col_13\":\"RH_7\", \"col_14\":\"T8\", \"col_15\":\"RH_8\",\n",
    "    \"col_16\":\"T9\", \"col_17\":\"RH_9\", \"col_18\":\"T_out\", \"col_19\":\"Press_mm_hg\", \"col_20\":\"RH_out\", \"col_21\":\"Windspeed\", \"col_22\":\"Visibility\",\n",
    "    \"col_23\":\"Tdewpoint\"}\n",
    "\n",
    "    trainDF_X.rename(columns = rename_columns, inplace = True)\n",
    "    testDF_X.rename(columns = rename_columns, inplace = True)"
   ]
  },
  {
   "cell_type": "code",
   "execution_count": null,
   "id": "9344d8ae",
   "metadata": {},
   "outputs": [],
   "source": [
    "import pandas as pd\n",
    "trainDF_y['value'] = pd.to_numeric(trainDF_y['value'],errors = 'coerce')\n",
    "testDF_y['value'] = pd.to_numeric(testDF_y['value'],errors = 'coerce')"
   ]
  },
  {
   "cell_type": "code",
   "execution_count": null,
   "id": "3a2c41fc",
   "metadata": {},
   "outputs": [],
   "source": [
    "trainDF_X.head(2)"
   ]
  },
  {
   "cell_type": "code",
   "execution_count": null,
   "id": "3736cf5d",
   "metadata": {},
   "outputs": [],
   "source": [
    "trainDF_X.info()"
   ]
  },
  {
   "cell_type": "code",
   "execution_count": null,
   "id": "5bc855ce",
   "metadata": {},
   "outputs": [],
   "source": [
    "trainDF_y.info()"
   ]
  },
  {
   "cell_type": "code",
   "execution_count": null,
   "id": "bfc09efc",
   "metadata": {},
   "outputs": [],
   "source": [
    "testDF_X.info()"
   ]
  },
  {
   "cell_type": "code",
   "execution_count": null,
   "id": "c5ef2dbc",
   "metadata": {},
   "outputs": [],
   "source": [
    "testDF_y.info()"
   ]
  },
  {
   "cell_type": "markdown",
   "id": "198b2173",
   "metadata": {},
   "source": [
    "Data Local Save : Classification"
   ]
  },
  {
   "cell_type": "code",
   "execution_count": null,
   "id": "fc0f0872",
   "metadata": {},
   "outputs": [],
   "source": [
    "if problem ==\"classification\":\n",
    "    trainDF_X.to_csv(\"classification_trainDF_X.csv\")\n",
    "    testDF_X.to_csv(\"classification_testDF_X.csv\")\n",
    "    trainDS_X = pd.read_csv(\"classification_trainDF_X.csv\", chunksize=25000, index_col = \"Unnamed: 0\")\n",
    "    testDS_X = pd.read_csv(\"classification_testDF_X.csv\", chunksize=25000, index_col = \"Unnamed: 0\")"
   ]
  },
  {
   "cell_type": "code",
   "execution_count": null,
   "id": "11e36552",
   "metadata": {},
   "outputs": [],
   "source": [
    "trainDS_X"
   ]
  },
  {
   "cell_type": "code",
   "execution_count": null,
   "id": "23eb8cf4",
   "metadata": {},
   "outputs": [],
   "source": [
    "testDS_X"
   ]
  },
  {
   "cell_type": "markdown",
   "id": "8e2399e8",
   "metadata": {},
   "source": [
    "Original Data Upload"
   ]
  },
  {
   "cell_type": "code",
   "execution_count": null,
   "id": "33d06055",
   "metadata": {},
   "outputs": [],
   "source": [
    "from Clust.setting.influx_setting_KETI import CLUSTDataServer2 as ins\n",
    "from Clust.clust.ingestion.influx import influx_client_v2 as iC\n",
    "\n",
    "db_client = iC.InfluxClient(ins)"
   ]
  },
  {
   "cell_type": "code",
   "execution_count": null,
   "id": "2850ccf3",
   "metadata": {},
   "outputs": [],
   "source": [
    "# 1. Original Upload\n",
    "if problem ==\"regression\":\n",
    "     # Train X\n",
    "    DBName = \"life_indoor_environment\"\n",
    "    MSName = \"applianceEnergyDatasetTrainX_10min\"\n",
    "    db_client.write_db(DBName, MSName, trainDF_X)\n",
    "    \n",
    "    # Train y\n",
    "    DBName = \"life_indoor_environment\"\n",
    "    MSName = \"applianceEnergyDatasetTrainy_1day\"\n",
    "    db_client.write_db(DBName, MSName, trainDF_y)\n",
    "    \n",
    "    # Test X\n",
    "    DBName = \"life_indoor_environment\"\n",
    "    MSName = \"applianceEnergyDatasetTestX_10min\"\n",
    "    db_client.write_db(DBName, MSName, testDF_X)\n",
    "    \n",
    "    # Test y\n",
    "    DBName = \"life_indoor_environment\"\n",
    "    MSName = \"applianceEnergyDatasetTesty_1day\"\n",
    "    db_client.write_db(DBName, MSName, testDF_y)\n",
    "\n",
    "elif problem ==\"classification\":\n",
    "    print(\"Start Classification Data Save\")\n",
    "    \n",
    "    print(\"Start Data 1\")\n",
    "    # Test y \n",
    "    DBName = \"life_action_pattern\"\n",
    "    MSName = \"patternNameTest\"\n",
    "    db_client.write_db(DBName, MSName, testDF_y)\n",
    "    \n",
    "    print(\"Start Data 2\")\n",
    "    # Train y \n",
    "    DBName = \"life_action_pattern\"\n",
    "    MSName = \"patternNameTrain\"\n",
    "    db_client.write_db(DBName, MSName, trainDF_y)\n",
    "    \n",
    "    import time\n",
    "    time.sleep(180)"
   ]
  },
  {
   "cell_type": "code",
   "execution_count": null,
   "id": "25fbce80",
   "metadata": {},
   "outputs": [],
   "source": [
    "if problem ==\"classification\":\n",
    "    print(\"Start Data 3\")\n",
    "    # Train X\n",
    "    for train_X in trainDS_X:\n",
    "        DBName = \"bio_action_sensors\"\n",
    "        MSName = \"accelerationTrain\"\n",
    "        db_client.write_db(DBName, MSName, train_X)\n",
    "    \n",
    "    print(\"Start Data 4\")\n",
    "    # Test X\n",
    "    for test_X in testDS_X:\n",
    "        DBName = \"bio_action_sensors\"\n",
    "        MSName = \"accelerationTest\"\n",
    "        db_client.write_db(DBName, MSName, test_X)"
   ]
  },
  {
   "cell_type": "markdown",
   "id": "3f3ca89f",
   "metadata": {},
   "source": [
    "Data Split"
   ]
  },
  {
   "cell_type": "code",
   "execution_count": null,
   "id": "de797a9e",
   "metadata": {},
   "outputs": [],
   "source": [
    "if problem ==\"regression\":\n",
    "    trainDF_X_Temp = trainDF_X[[\"T1\", \"T2\", \"T3\", \"T4\", \"T5\", \"T6\", \"T7\", \"T8\", \"T9\"]]\n",
    "    trainDF_X_Humi = trainDF_X[[\"RH_1\", \"RH_2\", \"RH_3\", \"RH_4\", \"RH_5\", \"RH_6\", \"RH_7\", \"RH_8\", \"RH_9\"]]\n",
    "    trainDF_X_Out = trainDF_X[[\"T_out\", \"Press_mm_hg\" ,\"RH_out\" ,\"Windspeed\" ,\"Visibility\" ,\"Tdewpoint\"]]\n",
    "\n",
    "    testDF_X_Temp = testDF_X[[\"T1\", \"T2\", \"T3\", \"T4\", \"T5\", \"T6\", \"T7\", \"T8\", \"T9\"]]\n",
    "    testDF_X_Humi = testDF_X[[\"RH_1\", \"RH_2\", \"RH_3\", \"RH_4\", \"RH_5\", \"RH_6\", \"RH_7\", \"RH_8\", \"RH_9\"]]\n",
    "    testDF_X_Out = testDF_X[[\"T_out\", \"Press_mm_hg\" ,\"RH_out\" ,\"Windspeed\" ,\"Visibility\" ,\"Tdewpoint\"]]"
   ]
  },
  {
   "cell_type": "code",
   "execution_count": null,
   "id": "6d9d0bca",
   "metadata": {},
   "outputs": [],
   "source": [
    "# 2. Split Data Upload\n",
    "\n",
    "if problem ==\"regression\":\n",
    "    # Train X\n",
    "    DBName = \"life_indoor_environment\"\n",
    "    MSName = \"humidityTrain_10min\"\n",
    "    db_client.write_db(DBName, MSName, trainDF_X_Humi)\n",
    "    \n",
    "    DBName = \"life_indoor_environment\"\n",
    "    MSName = \"temperatureTrain_10min\"\n",
    "    db_client.write_db(DBName, MSName, trainDF_X_Temp)\n",
    "    \n",
    "    DBName = \"weather_outdoor_environment\"\n",
    "    MSName = \"belgiumChieverseAirportTrain_10min\"\n",
    "    db_client.write_db(DBName, MSName, trainDF_X_Out)\n",
    "    \n",
    "    # Test X\n",
    "    DBName = \"life_indoor_environment\"\n",
    "    MSName = \"humidityTest_10min\"\n",
    "    db_client.write_db(DBName, MSName, testDF_X_Humi)\n",
    "    \n",
    "    DBName = \"life_indoor_environment\"\n",
    "    MSName = \"temperatureTest_10min\"\n",
    "    db_client.write_db(DBName, MSName, testDF_X_Temp)\n",
    "    \n",
    "    DBName = \"weather_outdoor_environment\"\n",
    "    MSName = \"belgiumChieverseAirportTest_10min\"\n",
    "    db_client.write_db(DBName, MSName, testDF_X_Out)"
   ]
  },
  {
   "cell_type": "markdown",
   "id": "8a44e9fa",
   "metadata": {},
   "source": [
    "2. dataFrame to Numpy Array"
   ]
  },
  {
   "cell_type": "markdown",
   "id": "961bbdeb",
   "metadata": {},
   "source": [
    "2-1. Influx Data Preparation"
   ]
  },
  {
   "cell_type": "code",
   "execution_count": null,
   "id": "37977d20",
   "metadata": {},
   "outputs": [],
   "source": [
    "# regression Original Data\n",
    "# Train X\n",
    "DBName = \"life_indoor_environment\"\n",
    "MSName = \"applianceEnergyDatasetTrainX_10min\"\n",
    "trainDF_X = db_client.get_data(DBName, MSName)\n",
    "\n",
    "# Train y\n",
    "DBName = \"life_indoor_environment\"\n",
    "MSName = \"applianceEnergyDatasetTrainy_1day\"\n",
    "trainDF_y = db_client.get_data(DBName, MSName)"
   ]
  },
  {
   "cell_type": "code",
   "execution_count": null,
   "id": "85181b72",
   "metadata": {},
   "outputs": [],
   "source": [
    "trainDF_X.shape"
   ]
  },
  {
   "cell_type": "markdown",
   "id": "d2fd3841",
   "metadata": {},
   "source": [
    "2-2. DF to Numpy Array"
   ]
  },
  {
   "cell_type": "code",
   "execution_count": null,
   "id": "e5c411a2",
   "metadata": {},
   "outputs": [],
   "source": [
    "from Clust.clust.transformation.type.DFToNPArray import transDFtoNP\n",
    "dfX = trainDF_X \n",
    "dfy = trainDF_y\n",
    "X, y = transDFtoNP(dfX, dfy)"
   ]
  },
  {
   "cell_type": "code",
   "execution_count": null,
   "id": "0bdd1600",
   "metadata": {},
   "outputs": [],
   "source": [
    "X.shape"
   ]
  },
  {
   "cell_type": "code",
   "execution_count": null,
   "id": "2c1c2d7c",
   "metadata": {},
   "outputs": [],
   "source": [
    "y.shape"
   ]
  },
  {
   "cell_type": "code",
   "execution_count": null,
   "id": "390622d5",
   "metadata": {},
   "outputs": [],
   "source": []
  },
  {
   "cell_type": "code",
   "execution_count": null,
   "id": "06411b00",
   "metadata": {},
   "outputs": [],
   "source": []
  }
 ],
 "metadata": {
  "kernelspec": {
   "display_name": "Python 3",
   "language": "python",
   "name": "python3"
  },
  "language_info": {
   "codemirror_mode": {
    "name": "ipython",
    "version": 3
   },
   "file_extension": ".py",
   "mimetype": "text/x-python",
   "name": "python",
   "nbconvert_exporter": "python",
   "pygments_lexer": "ipython3",
   "version": "3.8.8"
  }
 },
 "nbformat": 4,
 "nbformat_minor": 5
}
