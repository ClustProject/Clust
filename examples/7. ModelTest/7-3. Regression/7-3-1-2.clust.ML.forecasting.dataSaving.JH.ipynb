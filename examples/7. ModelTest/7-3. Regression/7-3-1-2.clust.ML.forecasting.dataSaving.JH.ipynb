{
 "cells": [
  {
   "cell_type": "code",
   "execution_count": 5,
   "id": "a2c8e883",
   "metadata": {},
   "outputs": [],
   "source": [
    "import sys, os\n",
    "import pandas as pd\n",
    "\n",
    "sys.path.append(\"../\")\n",
    "sys.path.append(\"../../\")\n",
    "sys.path.append(\"../../../\")\n",
    "\n",
    "from Clust.clust.ML.common.common import p1_integratedDataSaving as p1\n",
    "import pathSetting\n",
    "import matplotlib.pyplot as plt "
   ]
  },
  {
   "cell_type": "markdown",
   "id": "9662a6ff",
   "metadata": {},
   "source": [
    "# 1. Set datasetName and related parameters"
   ]
  },
  {
   "cell_type": "code",
   "execution_count": null,
   "id": "7066bcaa",
   "metadata": {},
   "outputs": [],
   "source": [
    "### 1-0. Set DataSetNameList\n",
    "datasetNameList=['Hs1SwineFarmWithWeatherTime', 'gunwiStrawberryWithWeatherTime', 'strawberryOpenTime']\n",
    "\n",
    "### 1-1. Change Variables#########################################################\n",
    "datasetName = datasetNameList[0]\n",
    "DataSaveMode='CSV' #CSV or influx\n",
    "integration_freq_sec = 60 * 5 # 5분\n",
    "#################################################################################"
   ]
  },
  {
   "cell_type": "code",
   "execution_count": null,
   "id": "98529933",
   "metadata": {},
   "outputs": [],
   "source": [
    "## 1-2. PreDefine Condition\n",
    "# if datasetName=='Hs1SwineFarmWithWeatherTime':\n",
    "#     dataInfo = [['farm_swine_air', 'Sadle'], ['weather_outdoor_keti_clean', 'sangju'], ['life_additional_Info', 'trigonometicInfoByHours']]\n",
    "#     trainStartTime = \"2020-11-25 00:00:00\"\n",
    "#     trainEndTime =\"2020-12-25 00:00:00\"\n",
    "#     testStartTime =\"2020-12-26 00:00:00\"\n",
    "#     testEndTime =\"2021-01-03 00:00:00\"\n",
    "    \n",
    "    \n",
    "if datasetName=='Hs1SwineFarmWithWeatherTime':\n",
    "    trainStartTime = \"2021-02-01 00:00:00\"\n",
    "    trainEndTime =\"2021-03-10 00:00:00\"\n",
    "    testStartTime =\"2021-03-10 00:00:00\"\n",
    "    testEndTime =\"2021-03-17 00:00:00\"\n",
    "    dataInfo = [['farm_swine_air', 'HS2'], ['weather_outdoor_keti_clean', 'sangju'], ['life_additional_Info', 'trigonometicInfoByHours']]\n",
    "    \n",
    "elif datasetName=='gunwiStrawberryWithWeatherTime':\n",
    "    dataInfo = [['farm_strawberry_gunwi', 'control_environment'], ['farm_strawberry_gunwi', 'environment'], ['life_additional_Info', 'trigonometicInfoByHours']]\n",
    "    trainStartTime = \"2022-01-22 00:00:00\"\n",
    "    trainEndTime =\"2022-02-25 00:00:00\"\n",
    "    testStartTime =\"2022-02-25 00:00:00\"\n",
    "    testEndTime =\"2022-02-28 00:00:00\"\n",
    "    \n",
    "elif datasetName =='strawberryOpenTime':\n",
    "    dataInfo = [['farm_strawberry_gunwi', 'control_environment'], ['farm_strawberry_gunwi', 'environment'], ['life_additional_Info', 'trigonometicInfoByHours']]\n",
    "    trainStartTime = \"2022-01-22 00:00:00\"\n",
    "    trainEndTime =\"2022-02-25 00:00:00\"\n",
    "    testStartTime =\"2022-02-25 00:00:00\"\n",
    "    testEndTime =\"2022-02-28 00:00:00\"\n",
    "    \n",
    "##################################################\n",
    "#### 1-3. Static Varialbe List\n",
    "LearningModeList=[\"train\", \"test\"]\n",
    "cleanParamList =[\"Clean\", \"NoClean\"]\n",
    "##################################################"
   ]
  },
  {
   "cell_type": "markdown",
   "id": "e4e0b0b9",
   "metadata": {},
   "source": [
    "# 2. Make Save Dataset And Metadata"
   ]
  },
  {
   "cell_type": "code",
   "execution_count": null,
   "id": "87be4795",
   "metadata": {},
   "outputs": [],
   "source": [
    "for learningMode in LearningModeList:\n",
    "    for cleanParam in cleanParamList:\n",
    "        processParam = p1.get_process_param(cleanParam) \n",
    "        if learningMode == 'train':\n",
    "            startTime = trainStartTime\n",
    "            endTime = trainEndTime\n",
    "\n",
    "        elif learningMode =='test':\n",
    "            startTime = testStartTime\n",
    "            endTime = testEndTime\n",
    "        \n",
    "        dbName ='intData_'+datasetName\n",
    "        dataName =learningMode+cleanParam+'_'+datasetName\n",
    "        # dataName = getNewDataName()\n",
    "        data = p1.getData(pathSetting.db_client, dataInfo, integration_freq_sec, processParam, startTime, endTime)\n",
    "        if DataSaveMode == 'influx':\n",
    "            p1.save_influx_data(dbName, dataName, data, pathSetting.db_client)\n",
    "        elif DataSaveMode == 'CSV':\n",
    "            fileName = p1.save_csv_data(pathSetting.dataFolderPath, dataName, data)\n",
    "        data[['NH3ppm']].plot()\n",
    "        plt.show()\n",
    "            \n",
    "        p1.saveJsonMeta(pathSetting.DataMetaPath, dataName, processParam, dataInfo,integration_freq_sec, startTime, endTime, cleanParam, DataSaveMode)"
   ]
  },
  {
   "cell_type": "code",
   "execution_count": null,
   "id": "e786df4f",
   "metadata": {},
   "outputs": [],
   "source": []
  },
  {
   "cell_type": "code",
   "execution_count": null,
   "id": "8393fa2f",
   "metadata": {},
   "outputs": [],
   "source": []
  },
  {
   "cell_type": "code",
   "execution_count": null,
   "id": "ea01a763",
   "metadata": {},
   "outputs": [],
   "source": []
  },
  {
   "cell_type": "code",
   "execution_count": null,
   "id": "c1ba3c18",
   "metadata": {},
   "outputs": [],
   "source": []
  },
  {
   "cell_type": "code",
   "execution_count": null,
   "id": "cca752ba",
   "metadata": {},
   "outputs": [],
   "source": []
  },
  {
   "cell_type": "code",
   "execution_count": null,
   "id": "f5ccbfb6",
   "metadata": {},
   "outputs": [],
   "source": []
  }
 ],
 "metadata": {
  "kernelspec": {
   "display_name": "Python 3",
   "language": "python",
   "name": "python3"
  },
  "language_info": {
   "codemirror_mode": {
    "name": "ipython",
    "version": 3
   },
   "file_extension": ".py",
   "mimetype": "text/x-python",
   "name": "python",
   "nbconvert_exporter": "python",
   "pygments_lexer": "ipython3",
   "version": "3.8.8"
  }
 },
 "nbformat": 4,
 "nbformat_minor": 5
}
