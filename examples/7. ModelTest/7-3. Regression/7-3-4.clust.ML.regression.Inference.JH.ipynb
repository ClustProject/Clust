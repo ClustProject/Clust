{
 "cells": [
  {
   "cell_type": "markdown",
   "id": "fd79d0c3",
   "metadata": {},
   "source": [
    "# 4. Inference"
   ]
  },
  {
   "cell_type": "code",
   "execution_count": 1,
   "id": "1611f6b2",
   "metadata": {},
   "outputs": [
    {
     "name": "stdout",
     "output_type": "stream",
     "text": [
      "cpu is available.\n"
     ]
    }
   ],
   "source": [
    "import sys, os\n",
    "sys.path.append(\"../../..\")\n",
    "\n",
    "import pathSetting\n",
    "import pandas as pd\n",
    "\n",
    "from Clust.clust.ML.common.common import p1_integratedDataSaving as p1\n",
    "from Clust.clust.ML.common.common import p2_dataSelection as p2\n",
    "from Clust.clust.ML.common.common import p4_testing as p4\n",
    "from Clust.clust.ML.regression import test as p4R\n",
    "from Clust.clust.ML.forecasting import p5_inference as p5\n",
    "from Clust.clust.ML.regression import app\n",
    "\n",
    "import torch\n",
    "#import main_regression as mr\n",
    "device = \"cuda\" if torch.cuda.is_available() else \"cpu\"\n",
    "print(f\"{device}\" \" is available.\")"
   ]
  },
  {
   "cell_type": "markdown",
   "id": "4b4915be",
   "metadata": {},
   "source": [
    "## 4-1. (just for test) Data Preparation "
   ]
  },
  {
   "cell_type": "code",
   "execution_count": 2,
   "id": "2579d539",
   "metadata": {
    "scrolled": true
   },
   "outputs": [],
   "source": [
    "# 0. pick only one data\n",
    "DataMeta = p1.readJsonData(pathSetting.DataMetaPath)\n",
    "dataList =  list(DataMeta.keys())\n",
    "# dataX\n",
    "\n",
    "dataName_X = dataList[2]\n",
    "dataSaveMode_X = DataMeta[dataName_X][\"integrationInfo\"][\"DataSaveMode\"]\n",
    "\n",
    "# datay\n",
    "dataName_y = dataList[3]\n",
    "dataSaveMode_y = DataMeta[dataName_y][\"integrationInfo\"][\"DataSaveMode\"]\n",
    "dataFolderName = \"data_integrated_result\"\n",
    "current = os.getcwd()\n",
    "dataFolderPath = os.path.join(current, dataFolderName)\n",
    "\n",
    "window_num =144\n",
    "data_X = p2.getSavedIntegratedData(dataSaveMode_X, dataName_X, dataFolderPath)[:window_num]"
   ]
  },
  {
   "cell_type": "code",
   "execution_count": 3,
   "id": "a47d9e9d",
   "metadata": {},
   "outputs": [],
   "source": [
    "from Clust.clust.ingestion.mongo import mongoClient as mongo_client\n",
    "from Clust.setting import influx_setting_KETI as ins\n",
    "\n",
    "mongo_client = mongo_client.mongoClient(ins.CLUSTMetaInfo2)\n",
    "\n",
    "db_name = 'model'\n",
    "collection_name = 'meta'\n",
    "\n",
    "all_model_meta = mongo_client.get_all_document(db_name, collection_name)"
   ]
  },
  {
   "cell_type": "code",
   "execution_count": 4,
   "id": "9ae5b364",
   "metadata": {},
   "outputs": [],
   "source": [
    "db_name = 'model'\n",
    "collection_name = 'meta'\n",
    "search = {'modelName': 'EnergyLSTMRegression'}\n",
    "model_meta= mongo_client.get_document_by_json(db_name, collection_name, search)\n",
    "model_meta = model_meta[1]"
   ]
  },
  {
   "cell_type": "code",
   "execution_count": 5,
   "id": "59ef6a6f",
   "metadata": {},
   "outputs": [],
   "source": [
    "#2\n",
    "# from Clust.clust.transformation.type.NPArrayToDF import trans3NPtoDF\n",
    "# inputXDF, y = trans3NPtoDF(inputX, inputy,'2000-1-1')"
   ]
  },
  {
   "cell_type": "code",
   "execution_count": 6,
   "id": "bb72fb20",
   "metadata": {
    "scrolled": false
   },
   "outputs": [
    {
     "name": "stdout",
     "output_type": "stream",
     "text": [
      "['RH_1', 'RH_2', 'RH_3', 'RH_4', 'RH_5', 'RH_6', 'RH_7', 'RH_8', 'RH_9', 'T1', 'T2', 'T3', 'T4', 'T5', 'T6', 'T7', 'T8', 'T9', 'Press_mm_hg', 'RH_out', 'T_out', 'Tdewpoint', 'Visibility', 'Windspeed']\n",
      "['value']\n",
      "{'num_layers': 2, 'hidden_size': 64, 'dropout': 0.1, 'bidirectional': True, 'lr': 0.0001, 'device': 'cpu', 'n_epochs': 10, 'batch_size': 16, 'input_size': 24, 'seq_len': 144}\n",
      "================= self x =============================\n",
      "[[[0.36427851 0.36427851 0.36510412 ... 0.41464086 0.41298963 0.40941198]\n",
      "  [0.66494443 0.6638721  0.65802301 ... 0.64047573 0.64252291 0.64447261]\n",
      "  [0.4563016  0.45489952 0.46113102 ... 0.4450849  0.44851223 0.4450849 ]\n",
      "  ...\n",
      "  [0.48868778 0.47963801 0.47058824 ... 0.67420814 0.67571644 0.67722474]\n",
      "  [0.609375   0.609375   0.609375   ... 0.609375   0.609375   0.609375  ]\n",
      "  [0.30769231 0.29487179 0.28205128 ... 0.53846154 0.51282051 0.48717949]]]\n",
      "================= self x =============================\n",
      "\n",
      "Start testing data\n",
      "\n",
      "~~~~~~~~~~~~~~~~~~~~~~~~\n",
      "tensor([[[0.3643, 0.3643, 0.3651,  ..., 0.4146, 0.4130, 0.4094],\n",
      "         [0.6649, 0.6639, 0.6580,  ..., 0.6405, 0.6425, 0.6445],\n",
      "         [0.4563, 0.4549, 0.4611,  ..., 0.4451, 0.4485, 0.4451],\n",
      "         ...,\n",
      "         [0.4887, 0.4796, 0.4706,  ..., 0.6742, 0.6757, 0.6772],\n",
      "         [0.6094, 0.6094, 0.6094,  ..., 0.6094, 0.6094, 0.6094],\n",
      "         [0.3077, 0.2949, 0.2821,  ..., 0.5385, 0.5128, 0.4872]]])\n",
      "[0.30163723]\n",
      "** Dimension of result for test dataset = (1,)\n",
      "scale\n"
     ]
    }
   ],
   "source": [
    "# 4. Testing\n",
    "df_result = app.get_inference_result(data_X, model_meta, window_num)"
   ]
  },
  {
   "cell_type": "code",
   "execution_count": 7,
   "id": "290a6573",
   "metadata": {},
   "outputs": [
    {
     "data": {
      "text/html": [
       "<div>\n",
       "<style scoped>\n",
       "    .dataframe tbody tr th:only-of-type {\n",
       "        vertical-align: middle;\n",
       "    }\n",
       "\n",
       "    .dataframe tbody tr th {\n",
       "        vertical-align: top;\n",
       "    }\n",
       "\n",
       "    .dataframe thead th {\n",
       "        text-align: right;\n",
       "    }\n",
       "</style>\n",
       "<table border=\"1\" class=\"dataframe\">\n",
       "  <thead>\n",
       "    <tr style=\"text-align: right;\">\n",
       "      <th></th>\n",
       "      <th>value</th>\n",
       "    </tr>\n",
       "  </thead>\n",
       "  <tbody>\n",
       "    <tr>\n",
       "      <th>0</th>\n",
       "      <td>11.656283</td>\n",
       "    </tr>\n",
       "  </tbody>\n",
       "</table>\n",
       "</div>"
      ],
      "text/plain": [
       "       value\n",
       "0  11.656283"
      ]
     },
     "execution_count": 7,
     "metadata": {},
     "output_type": "execute_result"
    }
   ],
   "source": [
    "df_result"
   ]
  },
  {
   "cell_type": "code",
   "execution_count": null,
   "id": "6c7e4125",
   "metadata": {},
   "outputs": [],
   "source": []
  }
 ],
 "metadata": {
  "kernelspec": {
   "display_name": "Python 3 (ipykernel)",
   "language": "python",
   "name": "python3"
  },
  "language_info": {
   "codemirror_mode": {
    "name": "ipython",
    "version": 3
   },
   "file_extension": ".py",
   "mimetype": "text/x-python",
   "name": "python",
   "nbconvert_exporter": "python",
   "pygments_lexer": "ipython3",
   "version": "3.8.8"
  },
  "vscode": {
   "interpreter": {
    "hash": "f1ef7e1f828dbb4e75f421045d2c565197efaf8469a0be4a314c6ea8378b5cb2"
   }
  }
 },
 "nbformat": 4,
 "nbformat_minor": 5
}
