{
 "cells": [
  {
   "cell_type": "markdown",
   "id": "fd79d0c3",
   "metadata": {},
   "source": [
    "# 4. Inference"
   ]
  },
  {
   "cell_type": "code",
   "execution_count": 1,
   "id": "1611f6b2",
   "metadata": {},
   "outputs": [
    {
     "name": "stdout",
     "output_type": "stream",
     "text": [
      "cpu is available.\n"
     ]
    }
   ],
   "source": [
    "import sys, os\n",
    "sys.path.append(\"../../..\")\n",
    "\n",
    "import pathSetting\n",
    "import pandas as pd\n",
    "\n",
    "from Clust.clust.ML.common.common import p1_integratedDataSaving as p1\n",
    "from Clust.clust.ML.common.common import p2_dataSelection as p2\n",
    "from Clust.clust.ML.common.common import p4_testing as p4\n",
    "from Clust.clust.ML.regression import test as p4R\n",
    "from Clust.clust.ML.forecasting import p5_inference as p5\n",
    "\n",
    "import torch\n",
    "#import main_regression as mr\n",
    "device = \"cuda\" if torch.cuda.is_available() else \"cpu\"\n",
    "print(f\"{device}\" \" is available.\")"
   ]
  },
  {
   "cell_type": "markdown",
   "id": "4b4915be",
   "metadata": {},
   "source": [
    "## 4-1. (just for test) Data Preparation "
   ]
  },
  {
   "cell_type": "code",
   "execution_count": 2,
   "id": "2579d539",
   "metadata": {},
   "outputs": [
    {
     "name": "stdout",
     "output_type": "stream",
     "text": [
      "[[[40.26       40.26       40.29       ... 42.09       42.03\n",
      "   41.9       ]\n",
      "  [43.2        43.16333333 42.96333333 ... 42.36333333 42.43333333\n",
      "   42.5       ]\n",
      "  [38.53       38.5        38.63333333 ... 38.29       38.36333333\n",
      "   38.29      ]\n",
      "  ...\n",
      "  [ 4.2         4.          3.8        ...  8.3         8.33333333\n",
      "    8.36666667]\n",
      "  [40.         40.         40.         ... 40.         40.\n",
      "   40.        ]\n",
      "  [ 4.          3.83333333  3.66666667 ...  7.          6.66666667\n",
      "    6.33333333]]] [17.37000084]\n"
     ]
    }
   ],
   "source": [
    "# 0. pick only one data\n",
    "DataMeta = p1.readJsonData(pathSetting.DataMetaPath)\n",
    "dataList =  list(DataMeta.keys())\n",
    "# dataX\n",
    "\n",
    "dataName_X = dataList[2]\n",
    "dataSaveMode_X = DataMeta[dataName_X][\"integrationInfo\"][\"DataSaveMode\"]\n",
    "\n",
    "# datay\n",
    "dataName_y = dataList[3]\n",
    "dataSaveMode_y = DataMeta[dataName_y][\"integrationInfo\"][\"DataSaveMode\"]\n",
    "dataFolderName = \"data_integrated_result\"\n",
    "current = os.getcwd()\n",
    "dataFolderPath = os.path.join(current, dataFolderName)\n",
    "\n",
    "windowNum =144\n",
    "dataX = p2.getSavedIntegratedData(dataSaveMode_X, dataName_X, dataFolderPath)[:windowNum]\n",
    "datay = p2.getSavedIntegratedData(dataSaveMode_y, dataName_y, dataFolderPath)[:1]\n",
    "from Clust.clust.transformation.type.DFToNPArray import transDFtoNP\n",
    "inputX, inputy = transDFtoNP(dataX, datay, windowNum)\n",
    "print(inputX, inputy) # Real Input"
   ]
  },
  {
   "cell_type": "code",
   "execution_count": 3,
   "id": "eec526eb",
   "metadata": {
    "scrolled": true
   },
   "outputs": [
    {
     "data": {
      "text/plain": [
       "(                                RH_1       RH_2       RH_3       RH_4  \\\n",
       " datetime                                                                \n",
       " 2021-01-01 00:00:00+00:00  40.260000  43.200000  38.530000  37.363333   \n",
       " 2021-01-01 00:10:00+00:00  40.260000  43.163333  38.500000  37.230000   \n",
       " 2021-01-01 00:20:00+00:00  40.290000  42.963333  38.633333  37.200000   \n",
       " 2021-01-01 00:30:00+00:00  40.290000  42.490000  38.790000  37.200000   \n",
       " 2021-01-01 00:40:00+00:00  40.626667  42.156667  38.596667  37.090000   \n",
       " ...                              ...        ...        ...        ...   \n",
       " 2021-01-01 23:10:00+00:00  41.500000  42.090000  38.290000  40.730000   \n",
       " 2021-01-01 23:20:00+00:00  41.833333  42.290000  38.290000  40.790000   \n",
       " 2021-01-01 23:30:00+00:00  42.090000  42.363333  38.290000  41.166667   \n",
       " 2021-01-01 23:40:00+00:00  42.030000  42.433333  38.363333  42.093333   \n",
       " 2021-01-01 23:50:00+00:00  41.900000  42.500000  38.290000  42.400000   \n",
       " \n",
       "                                 RH_5       RH_6       RH_7       RH_8  \\\n",
       " datetime                                                                \n",
       " 2021-01-01 00:00:00+00:00  48.126667  35.026667  32.863333  40.290000   \n",
       " 2021-01-01 00:10:00+00:00  48.126667  38.763333  32.790000  40.163333   \n",
       " 2021-01-01 00:20:00+00:00  48.060000  40.096667  32.663333  39.963333   \n",
       " 2021-01-01 00:30:00+00:00  48.060000  41.633333  32.567500  39.900000   \n",
       " 2021-01-01 00:40:00+00:00  48.060000  42.160000  32.433333  39.900000   \n",
       " ...                              ...        ...        ...        ...   \n",
       " 2021-01-01 23:10:00+00:00  52.126667  36.666667  37.060000  40.700000   \n",
       " 2021-01-01 23:20:00+00:00  51.863333  36.333333  37.126667  40.896667   \n",
       " 2021-01-01 23:30:00+00:00  51.656667  34.633333  37.126667  41.623333   \n",
       " 2021-01-01 23:40:00+00:00  51.560000  36.575000  37.200000  42.245000   \n",
       " 2021-01-01 23:50:00+00:00  51.433333  37.526667  37.260000  42.590000   \n",
       " \n",
       "                                 RH_9     T1  ...         T6         T7  \\\n",
       " datetime                                     ...                         \n",
       " 2021-01-01 00:00:00+00:00  41.966667  22.60  ...  10.630000  21.390000   \n",
       " 2021-01-01 00:10:00+00:00  41.766667  22.60  ...  10.233333  21.323333   \n",
       " 2021-01-01 00:20:00+00:00  41.700000  22.60  ...   9.960000  21.290000   \n",
       " 2021-01-01 00:30:00+00:00  41.700000  22.60  ...   9.763333  21.290000   \n",
       " 2021-01-01 00:40:00+00:00  41.560000  22.70  ...   9.630000  21.230000   \n",
       " ...                              ...    ...  ...        ...        ...   \n",
       " 2021-01-01 23:10:00+00:00  42.200000  22.00  ...  14.756667  21.100000   \n",
       " 2021-01-01 23:20:00+00:00  42.126667  22.00  ...  14.963333  21.100000   \n",
       " 2021-01-01 23:30:00+00:00  42.200000  22.00  ...  14.763333  21.033333   \n",
       " 2021-01-01 23:40:00+00:00  42.200000  22.00  ...  14.740000  21.066667   \n",
       " 2021-01-01 23:50:00+00:00  42.230000  21.89  ...  15.030000  21.066667   \n",
       " \n",
       "                                   T8     T9  Press_mm_hg     RH_out  \\\n",
       " datetime                                                              \n",
       " 2021-01-01 00:00:00+00:00  22.856667  19.79   757.000000  66.000000   \n",
       " 2021-01-01 00:10:00+00:00  22.890000  19.79   757.116667  65.333333   \n",
       " 2021-01-01 00:20:00+00:00  22.963333  19.79   757.233333  64.666667   \n",
       " 2021-01-01 00:30:00+00:00  23.050000  19.79   757.350000  64.000000   \n",
       " 2021-01-01 00:40:00+00:00  23.133333  19.76   757.466667  63.333333   \n",
       " ...                              ...    ...          ...        ...   \n",
       " 2021-01-01 23:10:00+00:00  22.700000  20.00   752.650000  73.500000   \n",
       " 2021-01-01 23:20:00+00:00  22.700000  20.00   752.500000  73.000000   \n",
       " 2021-01-01 23:30:00+00:00  22.760000  20.00   752.350000  72.500000   \n",
       " 2021-01-01 23:40:00+00:00  22.840000  20.00   752.200000  72.000000   \n",
       " 2021-01-01 23:50:00+00:00  23.000000  20.00   752.050000  71.500000   \n",
       " \n",
       "                                T_out  Tdewpoint  Visibility  Windspeed  \n",
       " datetime                                                                \n",
       " 2021-01-01 00:00:00+00:00  10.400000   4.200000        40.0   4.000000  \n",
       " 2021-01-01 00:10:00+00:00  10.316667   4.000000        40.0   3.833333  \n",
       " 2021-01-01 00:20:00+00:00  10.233333   3.800000        40.0   3.666667  \n",
       " 2021-01-01 00:30:00+00:00  10.150000   3.600000        40.0   3.500000  \n",
       " 2021-01-01 00:40:00+00:00  10.066667   3.400000        40.0   3.333333  \n",
       " ...                              ...        ...         ...        ...  \n",
       " 2021-01-01 23:10:00+00:00  12.950000   8.233333        40.0   7.666667  \n",
       " 2021-01-01 23:20:00+00:00  13.100000   8.266667        40.0   7.333333  \n",
       " 2021-01-01 23:30:00+00:00  13.250000   8.300000        40.0   7.000000  \n",
       " 2021-01-01 23:40:00+00:00  13.400000   8.333333        40.0   6.666667  \n",
       " 2021-01-01 23:50:00+00:00  13.550000   8.366667        40.0   6.333333  \n",
       " \n",
       " [144 rows x 24 columns],\n",
       "                                value\n",
       " datetime                            \n",
       " 2021-01-01 00:00:00+00:00  17.370001)"
      ]
     },
     "execution_count": 3,
     "metadata": {},
     "output_type": "execute_result"
    }
   ],
   "source": [
    "dataX, datay"
   ]
  },
  {
   "cell_type": "code",
   "execution_count": 4,
   "id": "13416504",
   "metadata": {},
   "outputs": [
    {
     "data": {
      "text/plain": [
       "(array([[[40.26      , 40.26      , 40.29      , ..., 42.09      ,\n",
       "          42.03      , 41.9       ],\n",
       "         [43.2       , 43.16333333, 42.96333333, ..., 42.36333333,\n",
       "          42.43333333, 42.5       ],\n",
       "         [38.53      , 38.5       , 38.63333333, ..., 38.29      ,\n",
       "          38.36333333, 38.29      ],\n",
       "         ...,\n",
       "         [ 4.2       ,  4.        ,  3.8       , ...,  8.3       ,\n",
       "           8.33333333,  8.36666667],\n",
       "         [40.        , 40.        , 40.        , ..., 40.        ,\n",
       "          40.        , 40.        ],\n",
       "         [ 4.        ,  3.83333333,  3.66666667, ...,  7.        ,\n",
       "           6.66666667,  6.33333333]]]),\n",
       " array([17.37000084]))"
      ]
     },
     "execution_count": 4,
     "metadata": {},
     "output_type": "execute_result"
    }
   ],
   "source": [
    "inputX, inputy"
   ]
  },
  {
   "cell_type": "code",
   "execution_count": 5,
   "id": "a47d9e9d",
   "metadata": {},
   "outputs": [],
   "source": [
    "from Clust.clust.ingestion.mongo import mongoClient as mongo_client\n",
    "from Clust.setting import influx_setting_KETI as ins\n",
    "\n",
    "mongo_client = mongo_client.mongoClient(ins.CLUSTMetaInfo2)\n",
    "\n",
    "db_name = 'model'\n",
    "collection_name = 'meta'\n",
    "\n",
    "all_model_meta = mongo_client.get_all_document(db_name, collection_name)"
   ]
  },
  {
   "cell_type": "code",
   "execution_count": 6,
   "id": "9ae5b364",
   "metadata": {},
   "outputs": [],
   "source": [
    "db_name = 'model'\n",
    "collection_name = 'meta'\n",
    "search = {'modelName': 'EnergyLSTMRegression'}\n",
    "model_meta= mongo_client.get_document_by_json(db_name, collection_name, search)\n",
    "ModelMeta = model_meta[1]"
   ]
  },
  {
   "cell_type": "code",
   "execution_count": 7,
   "id": "e6dd26b7",
   "metadata": {},
   "outputs": [
    {
     "data": {
      "text/plain": [
       "{'author': 'KETI',\n",
       " 'modelName': 'EnergyLSTMRegression',\n",
       " 'modelVersion': 0.1,\n",
       " 'trainDataInfo': {'startTime': '2016-01-11',\n",
       "  'endTime': '2016-04-15',\n",
       "  'dataInfo': [['life_indoor_environment', 'humidityTrain_10min'],\n",
       "   ['life_indoor_environment', 'temperatureTrain_10min'],\n",
       "   ['weather_outdoor_environment', 'belgiumChieverseAirportTrain_10min']],\n",
       "  'processParam': {'refine_param': {'removeDuplication': {'flag': False},\n",
       "    'staticFrequency': {'flag': False, 'frequency': None}},\n",
       "   'outlier_param': {'certainErrorToNaN': {'flag': False},\n",
       "    'unCertainErrorToNaN': {'flag': False, 'param': {}}},\n",
       "   'imputation_param': {'flag': False,\n",
       "    'imputation_method': [],\n",
       "    'totalNonNanRatio': 80}},\n",
       "  'integration_freq_sec': 600,\n",
       "  'cleanParam': 'NoClean',\n",
       "  'DataSaveMode': 'CSV'},\n",
       " 'featureList': ['RH_1',\n",
       "  'RH_2',\n",
       "  'RH_3',\n",
       "  'RH_4',\n",
       "  'RH_5',\n",
       "  'RH_6',\n",
       "  'RH_7',\n",
       "  'RH_8',\n",
       "  'RH_9',\n",
       "  'T1',\n",
       "  'T2',\n",
       "  'T3',\n",
       "  'T4',\n",
       "  'T5',\n",
       "  'T6',\n",
       "  'T7',\n",
       "  'T8',\n",
       "  'T9',\n",
       "  'Press_mm_hg',\n",
       "  'RH_out',\n",
       "  'T_out',\n",
       "  'Tdewpoint',\n",
       "  'Visibility',\n",
       "  'Windspeed'],\n",
       " 'target': ['value'],\n",
       " 'trainDataType': 'timeseries',\n",
       " 'modelPurpose': 'regression',\n",
       " 'model_method': 'LSTM_rg',\n",
       " 'modelTags': ['aaaaa'],\n",
       " 'cleanTrainDataParam': 'NoClean',\n",
       " 'NaNProcessingParam': {'feature_cycle': 'Day',\n",
       "  'feature_cycle_times': 1,\n",
       "  'NanInfoForCleanData': {'type': 'num',\n",
       "   'ConsecutiveNanLimit': 3,\n",
       "   'totalNaNLimit': 30000}},\n",
       " 'trainDataName': ['IntegraionTrainX', 'IntegraionTrainy'],\n",
       " 'trainParameter': {'num_layers': 2,\n",
       "  'hidden_size': 64,\n",
       "  'dropout': 0.1,\n",
       "  'bidirectional': True,\n",
       "  'lr': 0.0001,\n",
       "  'device': 'cpu',\n",
       "  'n_epochs': 10,\n",
       "  'batch_size': 16,\n",
       "  'input_size': 24,\n",
       "  'seq_len': 144},\n",
       " 'scalerParam': 'scale',\n",
       " 'files': {'modelFile': {'fileName': 'model.pth',\n",
       "   'filePath': './Models/LSTM_rg/EnergyLSTMRegression/IntegraionTrainX/618f2ca7c380b25efe12bee2a2ab1869/model.pkl'},\n",
       "  'XScalerFile': {'fileName': 'scaler.pkl',\n",
       "   'filePath': './scaler/IntegraionTrainX/NoClean/minmax/44e77c5a60a148deb89c5ef9a221a365/scaler.pkl'},\n",
       "  'yScalerFile': {'fileName': 'scaler.pkl',\n",
       "   'filePath': './scaler/IntegraionTrainX/NoClean/minmax/f69156750a210491ffd4a67b605bc88b/scaler.pkl'}},\n",
       " 'n_epochs': 10}"
      ]
     },
     "execution_count": 7,
     "metadata": {},
     "output_type": "execute_result"
    }
   ],
   "source": [
    "ModelMeta"
   ]
  },
  {
   "cell_type": "code",
   "execution_count": 8,
   "id": "bbdb6e67",
   "metadata": {},
   "outputs": [],
   "source": [
    "X_scalerFilePath = ModelMeta['files']['XScalerFile'][\"filePath\"]\n",
    "y_scalerFilePath = ModelMeta['files']['yScalerFile'][\"filePath\"]\n",
    "modelFilePath = ModelMeta['files']['modelFile'][\"filePath\"]\n",
    "\n",
    "featureList = ModelMeta[\"featureList\"]\n",
    "target = ModelMeta[\"target\"]\n",
    "scalerParam = ModelMeta[\"scalerParam\"]\n",
    "model_method = ModelMeta[\"model_method\"]\n",
    "trainParameter = ModelMeta[\"trainParameter\"]\n"
   ]
  },
  {
   "cell_type": "code",
   "execution_count": 9,
   "id": "59ef6a6f",
   "metadata": {},
   "outputs": [],
   "source": [
    "#2\n",
    "# from Clust.clust.transformation.type.NPArrayToDF import trans3NPtoDF\n",
    "# inputXDF, y = trans3NPtoDF(inputX, inputy,'2000-1-1')"
   ]
  },
  {
   "cell_type": "code",
   "execution_count": null,
   "id": "f1aa3dc0",
   "metadata": {},
   "outputs": [],
   "source": []
  },
  {
   "cell_type": "code",
   "execution_count": 10,
   "id": "00efe359",
   "metadata": {},
   "outputs": [],
   "source": [
    "# 3. Scaling\n",
    "test_x, scaler_X = p4.getScaledTestData(dataX[featureList], X_scalerFilePath, scalerParam)\n",
    "test_y, scaler_y = p4.getScaledTestData(datay[target], y_scalerFilePath, scalerParam)\n",
    "# y  값은 더미 값이 들어가는 것임"
   ]
  },
  {
   "cell_type": "code",
   "execution_count": 11,
   "id": "40e4c093",
   "metadata": {
    "scrolled": true
   },
   "outputs": [
    {
     "data": {
      "text/plain": [
       "(                               RH_1      RH_2      RH_3      RH_4      RH_5  \\\n",
       " datetime                                                                      \n",
       " 2021-01-01 00:00:00+00:00  0.364279  0.664944  0.456302  0.386490  0.275336   \n",
       " 2021-01-01 00:10:00+00:00  0.364279  0.663872  0.454900  0.380531  0.275336   \n",
       " 2021-01-01 00:20:00+00:00  0.365104  0.658023  0.461131  0.379190  0.274333   \n",
       " 2021-01-01 00:30:00+00:00  0.365104  0.644180  0.468453  0.379190  0.274333   \n",
       " 2021-01-01 00:40:00+00:00  0.374369  0.634432  0.459417  0.374274  0.274333   \n",
       " ...                             ...       ...       ...       ...       ...   \n",
       " 2021-01-01 23:10:00+00:00  0.398404  0.632482  0.445085  0.536963  0.335480   \n",
       " 2021-01-01 23:20:00+00:00  0.407577  0.638331  0.445085  0.539644  0.331521   \n",
       " 2021-01-01 23:30:00+00:00  0.414641  0.640476  0.445085  0.556479  0.328413   \n",
       " 2021-01-01 23:40:00+00:00  0.412990  0.642523  0.448512  0.597896  0.326960   \n",
       " 2021-01-01 23:50:00+00:00  0.409412  0.644473  0.445085  0.611603  0.325055   \n",
       " \n",
       "                                RH_6      RH_7      RH_8      RH_9        T1  \\\n",
       " datetime                                                                      \n",
       " 2021-01-01 00:00:00+00:00  0.344051  0.342671  0.366347  0.516115  0.613516   \n",
       " 2021-01-01 00:10:00+00:00  0.381834  0.340071  0.362006  0.507596  0.613516   \n",
       " 2021-01-01 00:20:00+00:00  0.395315  0.335579  0.355152  0.504756  0.613516   \n",
       " 2021-01-01 00:30:00+00:00  0.410853  0.332181  0.352981  0.504756  0.613516   \n",
       " 2021-01-01 00:40:00+00:00  0.416178  0.327423  0.352981  0.498793  0.624076   \n",
       " ...                             ...       ...       ...       ...       ...   \n",
       " 2021-01-01 23:10:00+00:00  0.360634  0.491489  0.380398  0.526054  0.550158   \n",
       " 2021-01-01 23:20:00+00:00  0.357263  0.493853  0.387137  0.522931  0.550158   \n",
       " 2021-01-01 23:30:00+00:00  0.340074  0.493853  0.412040  0.526054  0.550158   \n",
       " 2021-01-01 23:40:00+00:00  0.359707  0.496454  0.433345  0.526054  0.550158   \n",
       " 2021-01-01 23:50:00+00:00  0.369329  0.498582  0.445168  0.527332  0.538543   \n",
       " \n",
       "                            ...        T6        T7        T8        T9  \\\n",
       " datetime                   ...                                           \n",
       " 2021-01-01 00:00:00+00:00  ...  0.485955  0.565504  0.599634  0.509886   \n",
       " 2021-01-01 00:10:00+00:00  ...  0.474409  0.559221  0.602685  0.509886   \n",
       " 2021-01-01 00:20:00+00:00  ...  0.466453  0.556079  0.609399  0.509886   \n",
       " 2021-01-01 00:30:00+00:00  ...  0.460729  0.556079  0.617333  0.509886   \n",
       " 2021-01-01 00:40:00+00:00  ...  0.456848  0.550424  0.624962  0.506764   \n",
       " ...                        ...       ...       ...       ...       ...   \n",
       " 2021-01-01 23:10:00+00:00  ...  0.606074  0.538172  0.585291  0.531738   \n",
       " 2021-01-01 23:20:00+00:00  ...  0.612089  0.538172  0.585291  0.531738   \n",
       " 2021-01-01 23:30:00+00:00  ...  0.606268  0.531888  0.590784  0.531738   \n",
       " 2021-01-01 23:40:00+00:00  ...  0.605589  0.535030  0.598108  0.531738   \n",
       " 2021-01-01 23:50:00+00:00  ...  0.614030  0.535030  0.612756  0.531738   \n",
       " \n",
       "                            Press_mm_hg    RH_out     T_out  Tdewpoint  \\\n",
       " datetime                                                                \n",
       " 2021-01-01 00:00:00+00:00     0.669082  0.552632  0.493548   0.488688   \n",
       " 2021-01-01 00:10:00+00:00     0.671900  0.543860  0.490860   0.479638   \n",
       " 2021-01-01 00:20:00+00:00     0.674718  0.535088  0.488172   0.470588   \n",
       " 2021-01-01 00:30:00+00:00     0.677536  0.526316  0.485484   0.461538   \n",
       " 2021-01-01 00:40:00+00:00     0.680354  0.517544  0.482796   0.452489   \n",
       " ...                                ...       ...       ...        ...   \n",
       " 2021-01-01 23:10:00+00:00     0.564010  0.651316  0.575806   0.671192   \n",
       " 2021-01-01 23:20:00+00:00     0.560386  0.644737  0.580645   0.672700   \n",
       " 2021-01-01 23:30:00+00:00     0.556763  0.638158  0.585484   0.674208   \n",
       " 2021-01-01 23:40:00+00:00     0.553140  0.631579  0.590323   0.675716   \n",
       " 2021-01-01 23:50:00+00:00     0.549517  0.625000  0.595161   0.677225   \n",
       " \n",
       "                            Visibility  Windspeed  \n",
       " datetime                                          \n",
       " 2021-01-01 00:00:00+00:00    0.609375   0.307692  \n",
       " 2021-01-01 00:10:00+00:00    0.609375   0.294872  \n",
       " 2021-01-01 00:20:00+00:00    0.609375   0.282051  \n",
       " 2021-01-01 00:30:00+00:00    0.609375   0.269231  \n",
       " 2021-01-01 00:40:00+00:00    0.609375   0.256410  \n",
       " ...                               ...        ...  \n",
       " 2021-01-01 23:10:00+00:00    0.609375   0.589744  \n",
       " 2021-01-01 23:20:00+00:00    0.609375   0.564103  \n",
       " 2021-01-01 23:30:00+00:00    0.609375   0.538462  \n",
       " 2021-01-01 23:40:00+00:00    0.609375   0.512821  \n",
       " 2021-01-01 23:50:00+00:00    0.609375   0.487179  \n",
       " \n",
       " [144 rows x 24 columns],\n",
       " MinMaxScaler())"
      ]
     },
     "execution_count": 11,
     "metadata": {},
     "output_type": "execute_result"
    }
   ],
   "source": [
    "test_x, scaler_X"
   ]
  },
  {
   "cell_type": "code",
   "execution_count": 12,
   "id": "6228ba1f",
   "metadata": {},
   "outputs": [
    {
     "data": {
      "text/plain": [
       "(                              value\n",
       " datetime                           \n",
       " 2021-01-01 00:00:00+00:00  0.574499,\n",
       " MinMaxScaler())"
      ]
     },
     "execution_count": 12,
     "metadata": {},
     "output_type": "execute_result"
    }
   ],
   "source": [
    "test_y, scaler_y"
   ]
  },
  {
   "cell_type": "code",
   "execution_count": 13,
   "id": "bb72fb20",
   "metadata": {
    "scrolled": false
   },
   "outputs": [
    {
     "name": "stdout",
     "output_type": "stream",
     "text": [
      "\n",
      "Start testing data\n",
      "\n",
      "** Performance of test dataset ==> MSE = 0.07445332407951355, MAE = 0.2728613615036011\n",
      "** Dimension of result for test dataset = (1,)\n",
      "scale\n"
     ]
    },
    {
     "name": "stderr",
     "output_type": "stream",
     "text": [
      "../../../../Clust/clust/transformation/type/DFToNPArray.py:38: FutureWarning: Indexing a timezone-aware DatetimeIndex with a timezone-naive datetime is deprecated and will raise KeyError in a future version. Use a timezone-aware object instead.\n",
      "  dfX_partial = dfX[startDate:endDate]\n",
      "../../../../Clust/clust/transformation/type/DFToNPArray.py:39: FutureWarning: Indexing a timezone-aware DatetimeIndex with a timezone-naive datetime is deprecated and will raise KeyError in a future version. Use a timezone-aware object instead.\n",
      "  dfy_partial = dfy[startDate:endDate]\n",
      "/apptest/anaconda3/lib/python3.8/site-packages/sklearn/metrics/_regression.py:594: UndefinedMetricWarning: R^2 score is not well-defined with less than two samples.\n",
      "  warnings.warn(msg, UndefinedMetricWarning)\n"
     ]
    }
   ],
   "source": [
    "# 4. Testing\n",
    "df_result, result_metrics = p4R.get_result_metrics(trainParameter, test_x, test_y, model_method, target, modelFilePath, scalerParam, scaler_y, windowNum=0)"
   ]
  },
  {
   "cell_type": "code",
   "execution_count": 14,
   "id": "290a6573",
   "metadata": {},
   "outputs": [
    {
     "data": {
      "text/html": [
       "<div>\n",
       "<style scoped>\n",
       "    .dataframe tbody tr th:only-of-type {\n",
       "        vertical-align: middle;\n",
       "    }\n",
       "\n",
       "    .dataframe tbody tr th {\n",
       "        vertical-align: top;\n",
       "    }\n",
       "\n",
       "    .dataframe thead th {\n",
       "        text-align: right;\n",
       "    }\n",
       "</style>\n",
       "<table border=\"1\" class=\"dataframe\">\n",
       "  <thead>\n",
       "    <tr style=\"text-align: right;\">\n",
       "      <th></th>\n",
       "      <th>value</th>\n",
       "      <th>prediction</th>\n",
       "    </tr>\n",
       "    <tr>\n",
       "      <th>datetime</th>\n",
       "      <th></th>\n",
       "      <th></th>\n",
       "    </tr>\n",
       "  </thead>\n",
       "  <tbody>\n",
       "    <tr>\n",
       "      <th>2021-01-01 00:00:00+00:00</th>\n",
       "      <td>17.370001</td>\n",
       "      <td>11.656283</td>\n",
       "    </tr>\n",
       "  </tbody>\n",
       "</table>\n",
       "</div>"
      ],
      "text/plain": [
       "                               value  prediction\n",
       "datetime                                        \n",
       "2021-01-01 00:00:00+00:00  17.370001   11.656283"
      ]
     },
     "execution_count": 14,
     "metadata": {},
     "output_type": "execute_result"
    }
   ],
   "source": [
    "df_result"
   ]
  },
  {
   "cell_type": "code",
   "execution_count": 22,
   "id": "d6e2c54b",
   "metadata": {},
   "outputs": [
    {
     "data": {
      "text/plain": [
       "{'mae': 5.7137175,\n",
       " 'rmse': 5.713717555002159,\n",
       " 'r2': nan,\n",
       " 'mape': 32.89417028427124}"
      ]
     },
     "execution_count": 22,
     "metadata": {},
     "output_type": "execute_result"
    }
   ],
   "source": [
    "result_metrics"
   ]
  },
  {
   "cell_type": "code",
   "execution_count": 15,
   "id": "427afb1a",
   "metadata": {},
   "outputs": [
    {
     "data": {
      "text/plain": [
       "'./Models/LSTM_rg/EnergyLSTMRegression/IntegraionTrainX/618f2ca7c380b25efe12bee2a2ab1869/model.pkl'"
      ]
     },
     "execution_count": 15,
     "metadata": {},
     "output_type": "execute_result"
    }
   ],
   "source": [
    "ModelMeta['files']['modelFile'][\"filePath\"]"
   ]
  },
  {
   "cell_type": "code",
   "execution_count": null,
   "id": "6c7e4125",
   "metadata": {},
   "outputs": [],
   "source": []
  }
 ],
 "metadata": {
  "kernelspec": {
   "display_name": "Python 3 (ipykernel)",
   "language": "python",
   "name": "python3"
  },
  "language_info": {
   "codemirror_mode": {
    "name": "ipython",
    "version": 3
   },
   "file_extension": ".py",
   "mimetype": "text/x-python",
   "name": "python",
   "nbconvert_exporter": "python",
   "pygments_lexer": "ipython3",
   "version": "3.8.8"
  },
  "vscode": {
   "interpreter": {
    "hash": "f1ef7e1f828dbb4e75f421045d2c565197efaf8469a0be4a314c6ea8378b5cb2"
   }
  }
 },
 "nbformat": 4,
 "nbformat_minor": 5
}
