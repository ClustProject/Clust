{
 "cells": [
  {
   "cell_type": "code",
   "execution_count": 1,
   "id": "ece5149a",
   "metadata": {},
   "outputs": [],
   "source": [
    "import os\n",
    "import sys\n",
    "sys.path.append(\"../\")\n",
    "sys.path.append(\"../../\")\n",
    "sys.path.append(\"../../../\")\n",
    "sys.path.append(\"../../../../\")\n",
    "\n",
    "import pandas as pd\n",
    "import numpy as np\n",
    "import datetime\n",
    "import torch\n",
    "import math\n",
    "\n",
    "from Clust.clust.ML.regression_JS.ada_rnn import ada_rnn\n",
    "from Clust.clust.preprocessing.imputation.basicMethod import BasicImputation\n",
    "from Clust.clust.transformation.purpose.machineLearning import LSTMData"
   ]
  },
  {
   "cell_type": "markdown",
   "id": "35ce251c",
   "metadata": {},
   "source": [
    "# Set Param"
   ]
  },
  {
   "cell_type": "code",
   "execution_count": 2,
   "id": "541f6a1f",
   "metadata": {},
   "outputs": [],
   "source": [
    "param = {\n",
    "    \"x_features\" : 6, \n",
    "    \"class_num\" : 1, \n",
    "    \"dropout\" : 0.0, \n",
    "    \"len_seq\" : 24, \n",
    "    \"loss_type\" : \"adv\",\n",
    "    \"hidden_size\" : 64,\n",
    "    \"num_layers\" : 2\n",
    "}\n",
    "\n",
    "args = {\n",
    "    \"output_folder_name\" : \"./ada_rnn_model\",\n",
    "    \"save_model_name\" : \"test_adarnn_model_by_origin_data\",\n",
    "    \"lr\" : 5e-4,\n",
    "    \"n_epochs\" : 200,\n",
    "    \"num_layers\" : 2, \n",
    "    \"len_seq\" : 24,\n",
    "    \"pre_epoch\" : 40,\n",
    "    \"len_win\" : 0,\n",
    "    \"dw\" : 0.5,\n",
    "    \"early_stop\" :40\n",
    "}\n",
    "k = 2"
   ]
  },
  {
   "cell_type": "code",
   "execution_count": null,
   "id": "928c0109",
   "metadata": {},
   "outputs": [],
   "source": []
  },
  {
   "cell_type": "markdown",
   "id": "ab8e4ff8",
   "metadata": {},
   "source": [
    "# get Data"
   ]
  },
  {
   "cell_type": "code",
   "execution_count": 3,
   "id": "e2cc2646",
   "metadata": {},
   "outputs": [],
   "source": [
    "# read original data\n",
    "data_pickle = pd.read_pickle(\"original_data.pkl\")\n",
    "original_data = data_pickle[\"Dongsi\"]"
   ]
  },
  {
   "cell_type": "code",
   "execution_count": 4,
   "id": "a46420b7",
   "metadata": {},
   "outputs": [
    {
     "data": {
      "text/plain": [
       "(3, (1460, 24, 6), (1460,))"
      ]
     },
     "execution_count": 4,
     "metadata": {},
     "output_type": "execute_result"
    }
   ],
   "source": [
    "len(original_data), original_data[0].shape, original_data[2].shape"
   ]
  },
  {
   "cell_type": "code",
   "execution_count": 5,
   "id": "011d3f0e",
   "metadata": {},
   "outputs": [],
   "source": [
    "# original data 에서 data_x, data_y 나누기\n",
    "data_x = original_data[0]\n",
    "data_y = original_data[2]"
   ]
  },
  {
   "cell_type": "code",
   "execution_count": 6,
   "id": "e9969a10",
   "metadata": {},
   "outputs": [],
   "source": [
    "# set time\n",
    "original_data_start_time = datetime.datetime(2013, 3, 1, 0, 0)\n",
    "\n",
    "## train data time\n",
    "train_start_time = '2013-03-01 00:00:00'\n",
    "train_end_time = '2016-06-30 23:00:00'\n",
    "\n",
    "## valid data time\n",
    "valid_start_time='2016-7-2 00:00:00'\n",
    "valid_end_time='2016-10-30 23:00:00'"
   ]
  },
  {
   "cell_type": "code",
   "execution_count": 7,
   "id": "d265755e",
   "metadata": {},
   "outputs": [],
   "source": [
    "# split train & validation data -> get train_x, train_y, valid_x, valid_y\n",
    "index_start=(pd.to_datetime(train_start_time) - original_data_start_time).days\n",
    "index_end=(pd.to_datetime(train_end_time) - original_data_start_time).days\n",
    "\n",
    "train_x=data_x[index_start: index_end + 1]\n",
    "train_y=data_y[index_start: index_end + 1]\n",
    "\n",
    "index_start=(pd.to_datetime(valid_start_time) - original_data_start_time).days\n",
    "index_end=(pd.to_datetime(valid_end_time) - original_data_start_time).days\n",
    "\n",
    "valid_x=data_x[index_start: index_end + 1]\n",
    "valid_y=data_y[index_start: index_end + 1]"
   ]
  },
  {
   "cell_type": "code",
   "execution_count": 8,
   "id": "79055c8e",
   "metadata": {},
   "outputs": [
    {
     "data": {
      "text/plain": [
       "((1218, 24, 6), (1218,), (121, 24, 6), (121,))"
      ]
     },
     "execution_count": 8,
     "metadata": {},
     "output_type": "execute_result"
    }
   ],
   "source": [
    "train_x.shape, train_y.shape, valid_x.shape, valid_y.shape"
   ]
  },
  {
   "cell_type": "code",
   "execution_count": 9,
   "id": "53b780dd",
   "metadata": {},
   "outputs": [
    {
     "data": {
      "text/plain": [
       "array([0.0013624 , 0.15258856, 0.08855586, ..., 0.14986376, 0.14032698,\n",
       "       0.        ])"
      ]
     },
     "execution_count": 9,
     "metadata": {},
     "output_type": "execute_result"
    }
   ],
   "source": [
    "train_y"
   ]
  },
  {
   "cell_type": "markdown",
   "id": "af8ea6d3",
   "metadata": {},
   "source": [
    "# Data Loader"
   ]
  },
  {
   "cell_type": "code",
   "execution_count": 10,
   "id": "b17e183c",
   "metadata": {},
   "outputs": [
    {
     "name": "stdout",
     "output_type": "stream",
     "text": [
      "{'x_features': 6, 'class_num': 1, 'dropout': 0.0, 'len_seq': 24, 'loss_type': 'adv', 'hidden_size': 64, 'num_layers': 2}\n"
     ]
    }
   ],
   "source": [
    "adarnn = ada_rnn.ClustAdaRnn(param)"
   ]
  },
  {
   "cell_type": "code",
   "execution_count": 11,
   "id": "8208ccce",
   "metadata": {},
   "outputs": [],
   "source": [
    "train_loader_list, valid_loader = adarnn.create_trainloader(train_x, train_y, valid_x, valid_y, k, train_start_time, train_end_time)"
   ]
  },
  {
   "cell_type": "markdown",
   "id": "61198958",
   "metadata": {},
   "source": [
    "# Training"
   ]
  },
  {
   "cell_type": "code",
   "execution_count": 12,
   "id": "c2db14dd",
   "metadata": {
    "scrolled": true
   },
   "outputs": [
    {
     "name": "stdout",
     "output_type": "stream",
     "text": [
      "[2023-03-21 15:24:27] - create model...\n",
      "[2023-03-21 15:24:27] - Epoch: 0\n",
      "[2023-03-21 15:24:27] - training...\n"
     ]
    },
    {
     "name": "stderr",
     "output_type": "stream",
     "text": [
      "100%|██████████████████████████████████████████| 6/6 [00:00<00:00,  6.98it/s]"
     ]
    },
    {
     "name": "stdout",
     "output_type": "stream",
     "text": [
      "[2023-03-21 15:24:27] - evaluating...\n"
     ]
    },
    {
     "name": "stderr",
     "output_type": "stream",
     "text": [
      "\n",
      "Valid: 100%|██████████████████████████████████| 2/2 [00:00<00:00, 343.63it/s]"
     ]
    },
    {
     "name": "stdout",
     "output_type": "stream",
     "text": [
      "[2023-03-21 15:24:27] - train 0.132158, valid MSE Loss 0.032972, valid L1 Loss 0.161920\n",
      "[2023-03-21 15:24:27] - Epoch: 1\n",
      "[2023-03-21 15:24:27] - training...\n"
     ]
    },
    {
     "name": "stderr",
     "output_type": "stream",
     "text": [
      "\n",
      "100%|██████████████████████████████████████████| 6/6 [00:00<00:00, 13.10it/s]"
     ]
    },
    {
     "name": "stdout",
     "output_type": "stream",
     "text": [
      "[2023-03-21 15:24:28] - evaluating...\n"
     ]
    },
    {
     "name": "stderr",
     "output_type": "stream",
     "text": [
      "\n",
      "Valid: 100%|██████████████████████████████████| 2/2 [00:00<00:00, 318.20it/s]"
     ]
    },
    {
     "name": "stdout",
     "output_type": "stream",
     "text": [
      "[2023-03-21 15:24:28] - train 0.092421, valid MSE Loss 0.023163, valid L1 Loss 0.127940\n",
      "[2023-03-21 15:24:28] - Epoch: 2\n",
      "[2023-03-21 15:24:28] - training...\n"
     ]
    },
    {
     "name": "stderr",
     "output_type": "stream",
     "text": [
      "\n",
      "100%|██████████████████████████████████████████| 6/6 [00:00<00:00, 13.05it/s]"
     ]
    },
    {
     "name": "stdout",
     "output_type": "stream",
     "text": [
      "[2023-03-21 15:24:28] - evaluating...\n"
     ]
    },
    {
     "name": "stderr",
     "output_type": "stream",
     "text": [
      "\n",
      "Valid: 100%|██████████████████████████████████| 2/2 [00:00<00:00, 359.75it/s]"
     ]
    },
    {
     "name": "stdout",
     "output_type": "stream",
     "text": [
      "[2023-03-21 15:24:28] - train 0.086786, valid MSE Loss 0.017420, valid L1 Loss 0.103475\n",
      "[2023-03-21 15:24:28] - Epoch: 3\n",
      "[2023-03-21 15:24:28] - training...\n"
     ]
    },
    {
     "name": "stderr",
     "output_type": "stream",
     "text": [
      "\n",
      "100%|██████████████████████████████████████████| 6/6 [00:00<00:00, 13.30it/s]"
     ]
    },
    {
     "name": "stdout",
     "output_type": "stream",
     "text": [
      "[2023-03-21 15:24:29] - evaluating...\n"
     ]
    },
    {
     "name": "stderr",
     "output_type": "stream",
     "text": [
      "\n",
      "Valid: 100%|██████████████████████████████████| 2/2 [00:00<00:00, 387.88it/s]"
     ]
    },
    {
     "name": "stdout",
     "output_type": "stream",
     "text": [
      "[2023-03-21 15:24:29] - train 0.074164, valid MSE Loss 0.013447, valid L1 Loss 0.084503\n",
      "[2023-03-21 15:24:29] - Epoch: 4\n",
      "[2023-03-21 15:24:29] - training...\n"
     ]
    },
    {
     "name": "stderr",
     "output_type": "stream",
     "text": [
      "\n",
      "100%|██████████████████████████████████████████| 6/6 [00:00<00:00, 13.50it/s]"
     ]
    },
    {
     "name": "stdout",
     "output_type": "stream",
     "text": [
      "[2023-03-21 15:24:29] - evaluating...\n"
     ]
    },
    {
     "name": "stderr",
     "output_type": "stream",
     "text": [
      "\n",
      "Valid: 100%|██████████████████████████████████| 2/2 [00:00<00:00, 363.84it/s]"
     ]
    },
    {
     "name": "stdout",
     "output_type": "stream",
     "text": [
      "[2023-03-21 15:24:29] - train 0.068034, valid MSE Loss 0.010141, valid L1 Loss 0.069086\n",
      "[2023-03-21 15:24:29] - Epoch: 5\n",
      "[2023-03-21 15:24:29] - training...\n"
     ]
    },
    {
     "name": "stderr",
     "output_type": "stream",
     "text": [
      "\n",
      "100%|██████████████████████████████████████████| 6/6 [00:00<00:00, 13.37it/s]"
     ]
    },
    {
     "name": "stdout",
     "output_type": "stream",
     "text": [
      "[2023-03-21 15:24:30] - evaluating...\n"
     ]
    },
    {
     "name": "stderr",
     "output_type": "stream",
     "text": [
      "\n",
      "Valid: 100%|██████████████████████████████████| 2/2 [00:00<00:00, 624.94it/s]"
     ]
    },
    {
     "name": "stdout",
     "output_type": "stream",
     "text": [
      "[2023-03-21 15:24:30] - train 0.063520, valid MSE Loss 0.007735, valid L1 Loss 0.061824\n",
      "[2023-03-21 15:24:30] - Epoch: 6\n",
      "[2023-03-21 15:24:30] - training...\n"
     ]
    },
    {
     "name": "stderr",
     "output_type": "stream",
     "text": [
      "\n",
      "100%|██████████████████████████████████████████| 6/6 [00:00<00:00, 12.15it/s]"
     ]
    },
    {
     "name": "stdout",
     "output_type": "stream",
     "text": [
      "[2023-03-21 15:24:30] - evaluating...\n"
     ]
    },
    {
     "name": "stderr",
     "output_type": "stream",
     "text": [
      "\n",
      "Valid: 100%|██████████████████████████████████| 2/2 [00:00<00:00, 336.11it/s]"
     ]
    },
    {
     "name": "stdout",
     "output_type": "stream",
     "text": [
      "[2023-03-21 15:24:30] - train 0.065696, valid MSE Loss 0.006855, valid L1 Loss 0.061147\n",
      "[2023-03-21 15:24:30] - Epoch: 7\n",
      "[2023-03-21 15:24:30] - training...\n"
     ]
    },
    {
     "name": "stderr",
     "output_type": "stream",
     "text": [
      "\n",
      "100%|██████████████████████████████████████████| 6/6 [00:00<00:00, 11.98it/s]"
     ]
    },
    {
     "name": "stdout",
     "output_type": "stream",
     "text": [
      "[2023-03-21 15:24:31] - evaluating...\n"
     ]
    },
    {
     "name": "stderr",
     "output_type": "stream",
     "text": [
      "\n",
      "Valid: 100%|██████████████████████████████████| 2/2 [00:00<00:00, 357.14it/s]"
     ]
    },
    {
     "name": "stdout",
     "output_type": "stream",
     "text": [
      "[2023-03-21 15:24:31] - train 0.057954, valid MSE Loss 0.006850, valid L1 Loss 0.061123\n",
      "[2023-03-21 15:24:31] - Epoch: 8\n",
      "[2023-03-21 15:24:31] - training...\n"
     ]
    },
    {
     "name": "stderr",
     "output_type": "stream",
     "text": [
      "\n",
      "100%|██████████████████████████████████████████| 6/6 [00:00<00:00, 13.15it/s]"
     ]
    },
    {
     "name": "stdout",
     "output_type": "stream",
     "text": [
      "[2023-03-21 15:24:31] - evaluating...\n"
     ]
    },
    {
     "name": "stderr",
     "output_type": "stream",
     "text": [
      "\n",
      "Valid: 100%|██████████████████████████████████| 2/2 [00:00<00:00, 419.75it/s]"
     ]
    },
    {
     "name": "stdout",
     "output_type": "stream",
     "text": [
      "[2023-03-21 15:24:31] - train 0.054414, valid MSE Loss 0.006367, valid L1 Loss 0.061190\n",
      "[2023-03-21 15:24:31] - Epoch: 9\n",
      "[2023-03-21 15:24:31] - training...\n"
     ]
    },
    {
     "name": "stderr",
     "output_type": "stream",
     "text": [
      "\n",
      "100%|██████████████████████████████████████████| 6/6 [00:00<00:00, 12.70it/s]"
     ]
    },
    {
     "name": "stdout",
     "output_type": "stream",
     "text": [
      "[2023-03-21 15:24:32] - evaluating...\n"
     ]
    },
    {
     "name": "stderr",
     "output_type": "stream",
     "text": [
      "\n",
      "Valid: 100%|██████████████████████████████████| 2/2 [00:00<00:00, 378.36it/s]"
     ]
    },
    {
     "name": "stdout",
     "output_type": "stream",
     "text": [
      "[2023-03-21 15:24:32] - train 0.050063, valid MSE Loss 0.006200, valid L1 Loss 0.062398\n",
      "[2023-03-21 15:24:32] - Epoch: 10\n",
      "[2023-03-21 15:24:32] - training...\n"
     ]
    },
    {
     "name": "stderr",
     "output_type": "stream",
     "text": [
      "\n",
      "100%|██████████████████████████████████████████| 6/6 [00:00<00:00, 11.92it/s]"
     ]
    },
    {
     "name": "stdout",
     "output_type": "stream",
     "text": [
      "[2023-03-21 15:24:32] - evaluating...\n"
     ]
    },
    {
     "name": "stderr",
     "output_type": "stream",
     "text": [
      "\n",
      "Valid: 100%|██████████████████████████████████| 2/2 [00:00<00:00, 336.46it/s]"
     ]
    },
    {
     "name": "stdout",
     "output_type": "stream",
     "text": [
      "[2023-03-21 15:24:32] - train 0.053406, valid MSE Loss 0.006271, valid L1 Loss 0.064170\n",
      "[2023-03-21 15:24:32] - Epoch: 11\n",
      "[2023-03-21 15:24:32] - training...\n"
     ]
    },
    {
     "name": "stderr",
     "output_type": "stream",
     "text": [
      "\n",
      "100%|██████████████████████████████████████████| 6/6 [00:00<00:00, 12.83it/s]"
     ]
    },
    {
     "name": "stdout",
     "output_type": "stream",
     "text": [
      "[2023-03-21 15:24:33] - evaluating...\n"
     ]
    },
    {
     "name": "stderr",
     "output_type": "stream",
     "text": [
      "\n",
      "Valid: 100%|██████████████████████████████████| 2/2 [00:00<00:00, 336.64it/s]"
     ]
    },
    {
     "name": "stdout",
     "output_type": "stream",
     "text": [
      "[2023-03-21 15:24:33] - train 0.052664, valid MSE Loss 0.006067, valid L1 Loss 0.064806\n",
      "[2023-03-21 15:24:33] - Epoch: 12\n",
      "[2023-03-21 15:24:33] - training...\n"
     ]
    },
    {
     "name": "stderr",
     "output_type": "stream",
     "text": [
      "\n",
      "100%|██████████████████████████████████████████| 6/6 [00:00<00:00, 12.19it/s]"
     ]
    },
    {
     "name": "stdout",
     "output_type": "stream",
     "text": [
      "[2023-03-21 15:24:33] - evaluating...\n"
     ]
    },
    {
     "name": "stderr",
     "output_type": "stream",
     "text": [
      "\n",
      "Valid: 100%|██████████████████████████████████| 2/2 [00:00<00:00, 341.10it/s]"
     ]
    },
    {
     "name": "stdout",
     "output_type": "stream",
     "text": [
      "[2023-03-21 15:24:33] - train 0.050786, valid MSE Loss 0.005731, valid L1 Loss 0.061306\n",
      "[2023-03-21 15:24:33] - Epoch: 13\n",
      "[2023-03-21 15:24:33] - training...\n"
     ]
    },
    {
     "name": "stderr",
     "output_type": "stream",
     "text": [
      "\n",
      "100%|██████████████████████████████████████████| 6/6 [00:00<00:00, 11.45it/s]"
     ]
    },
    {
     "name": "stdout",
     "output_type": "stream",
     "text": [
      "[2023-03-21 15:24:34] - evaluating...\n"
     ]
    },
    {
     "name": "stderr",
     "output_type": "stream",
     "text": [
      "\n",
      "Valid: 100%|██████████████████████████████████| 2/2 [00:00<00:00, 372.69it/s]"
     ]
    },
    {
     "name": "stdout",
     "output_type": "stream",
     "text": [
      "[2023-03-21 15:24:34] - train 0.046456, valid MSE Loss 0.006045, valid L1 Loss 0.058954\n",
      "[2023-03-21 15:24:34] - Epoch: 14\n",
      "[2023-03-21 15:24:34] - training...\n"
     ]
    },
    {
     "name": "stderr",
     "output_type": "stream",
     "text": [
      "\n",
      "100%|██████████████████████████████████████████| 6/6 [00:00<00:00,  9.56it/s]"
     ]
    },
    {
     "name": "stdout",
     "output_type": "stream",
     "text": [
      "[2023-03-21 15:24:35] - evaluating...\n"
     ]
    },
    {
     "name": "stderr",
     "output_type": "stream",
     "text": [
      "\n",
      "Valid: 100%|██████████████████████████████████| 2/2 [00:00<00:00, 434.62it/s]"
     ]
    },
    {
     "name": "stdout",
     "output_type": "stream",
     "text": [
      "[2023-03-21 15:24:35] - train 0.051732, valid MSE Loss 0.007145, valid L1 Loss 0.072770\n",
      "[2023-03-21 15:24:35] - Epoch: 15\n",
      "[2023-03-21 15:24:35] - training...\n"
     ]
    },
    {
     "name": "stderr",
     "output_type": "stream",
     "text": [
      "\n",
      "100%|██████████████████████████████████████████| 6/6 [00:00<00:00, 13.92it/s]"
     ]
    },
    {
     "name": "stdout",
     "output_type": "stream",
     "text": [
      "[2023-03-21 15:24:35] - evaluating...\n"
     ]
    },
    {
     "name": "stderr",
     "output_type": "stream",
     "text": [
      "\n",
      "Valid: 100%|██████████████████████████████████| 2/2 [00:00<00:00, 474.33it/s]"
     ]
    },
    {
     "name": "stdout",
     "output_type": "stream",
     "text": [
      "[2023-03-21 15:24:35] - train 0.042032, valid MSE Loss 0.014096, valid L1 Loss 0.107130\n",
      "[2023-03-21 15:24:35] - Epoch: 16\n",
      "[2023-03-21 15:24:35] - training...\n"
     ]
    },
    {
     "name": "stderr",
     "output_type": "stream",
     "text": [
      "\n",
      "100%|██████████████████████████████████████████| 6/6 [00:00<00:00, 13.34it/s]"
     ]
    },
    {
     "name": "stdout",
     "output_type": "stream",
     "text": [
      "[2023-03-21 15:24:36] - evaluating...\n"
     ]
    },
    {
     "name": "stderr",
     "output_type": "stream",
     "text": [
      "\n",
      "Valid: 100%|██████████████████████████████████| 2/2 [00:00<00:00, 452.02it/s]"
     ]
    },
    {
     "name": "stdout",
     "output_type": "stream",
     "text": [
      "[2023-03-21 15:24:36] - train 0.043489, valid MSE Loss 0.013908, valid L1 Loss 0.106847\n",
      "[2023-03-21 15:24:36] - Epoch: 17\n",
      "[2023-03-21 15:24:36] - training...\n"
     ]
    },
    {
     "name": "stderr",
     "output_type": "stream",
     "text": [
      "\n",
      "100%|██████████████████████████████████████████| 6/6 [00:00<00:00, 13.56it/s]"
     ]
    },
    {
     "name": "stdout",
     "output_type": "stream",
     "text": [
      "[2023-03-21 15:24:36] - evaluating...\n"
     ]
    },
    {
     "name": "stderr",
     "output_type": "stream",
     "text": [
      "\n",
      "Valid: 100%|██████████████████████████████████| 2/2 [00:00<00:00, 349.03it/s]"
     ]
    },
    {
     "name": "stdout",
     "output_type": "stream",
     "text": [
      "[2023-03-21 15:24:36] - train 0.037164, valid MSE Loss 0.005551, valid L1 Loss 0.064546\n",
      "[2023-03-21 15:24:36] - Epoch: 18\n",
      "[2023-03-21 15:24:36] - training...\n"
     ]
    },
    {
     "name": "stderr",
     "output_type": "stream",
     "text": [
      "\n",
      "100%|██████████████████████████████████████████| 6/6 [00:00<00:00, 13.33it/s]"
     ]
    },
    {
     "name": "stdout",
     "output_type": "stream",
     "text": [
      "[2023-03-21 15:24:37] - evaluating...\n"
     ]
    },
    {
     "name": "stderr",
     "output_type": "stream",
     "text": [
      "\n",
      "Valid: 100%|██████████████████████████████████| 2/2 [00:00<00:00, 417.14it/s]"
     ]
    },
    {
     "name": "stdout",
     "output_type": "stream",
     "text": [
      "[2023-03-21 15:24:37] - train 0.034157, valid MSE Loss 0.003867, valid L1 Loss 0.052206\n",
      "[2023-03-21 15:24:37] - Epoch: 19\n",
      "[2023-03-21 15:24:37] - training...\n"
     ]
    },
    {
     "name": "stderr",
     "output_type": "stream",
     "text": [
      "\n",
      "100%|██████████████████████████████████████████| 6/6 [00:00<00:00, 13.43it/s]"
     ]
    },
    {
     "name": "stdout",
     "output_type": "stream",
     "text": [
      "[2023-03-21 15:24:37] - evaluating...\n"
     ]
    },
    {
     "name": "stderr",
     "output_type": "stream",
     "text": [
      "\n",
      "Valid: 100%|██████████████████████████████████| 2/2 [00:00<00:00, 342.31it/s]"
     ]
    },
    {
     "name": "stdout",
     "output_type": "stream",
     "text": [
      "[2023-03-21 15:24:37] - train 0.036932, valid MSE Loss 0.003275, valid L1 Loss 0.048246\n",
      "[2023-03-21 15:24:37] - Epoch: 20\n",
      "[2023-03-21 15:24:37] - training...\n"
     ]
    },
    {
     "name": "stderr",
     "output_type": "stream",
     "text": [
      "\n",
      "100%|██████████████████████████████████████████| 6/6 [00:00<00:00, 11.73it/s]"
     ]
    },
    {
     "name": "stdout",
     "output_type": "stream",
     "text": [
      "[2023-03-21 15:24:38] - evaluating...\n"
     ]
    },
    {
     "name": "stderr",
     "output_type": "stream",
     "text": [
      "\n",
      "Valid: 100%|██████████████████████████████████| 2/2 [00:00<00:00, 306.05it/s]"
     ]
    },
    {
     "name": "stdout",
     "output_type": "stream",
     "text": [
      "[2023-03-21 15:24:38] - train 0.036260, valid MSE Loss 0.002824, valid L1 Loss 0.045440\n",
      "[2023-03-21 15:24:38] - Epoch: 21\n",
      "[2023-03-21 15:24:38] - training...\n"
     ]
    },
    {
     "name": "stderr",
     "output_type": "stream",
     "text": [
      "\n",
      "100%|██████████████████████████████████████████| 6/6 [00:00<00:00, 12.85it/s]"
     ]
    },
    {
     "name": "stdout",
     "output_type": "stream",
     "text": [
      "[2023-03-21 15:24:38] - evaluating...\n"
     ]
    },
    {
     "name": "stderr",
     "output_type": "stream",
     "text": [
      "\n",
      "Valid: 100%|██████████████████████████████████| 2/2 [00:00<00:00, 354.44it/s]"
     ]
    },
    {
     "name": "stdout",
     "output_type": "stream",
     "text": [
      "[2023-03-21 15:24:38] - train 0.036048, valid MSE Loss 0.003101, valid L1 Loss 0.049021\n",
      "[2023-03-21 15:24:38] - Epoch: 22\n",
      "[2023-03-21 15:24:38] - training...\n"
     ]
    },
    {
     "name": "stderr",
     "output_type": "stream",
     "text": [
      "\n",
      "100%|██████████████████████████████████████████| 6/6 [00:00<00:00, 12.64it/s]"
     ]
    },
    {
     "name": "stdout",
     "output_type": "stream",
     "text": [
      "[2023-03-21 15:24:39] - evaluating...\n"
     ]
    },
    {
     "name": "stderr",
     "output_type": "stream",
     "text": [
      "\n",
      "Valid: 100%|██████████████████████████████████| 2/2 [00:00<00:00, 310.92it/s]"
     ]
    },
    {
     "name": "stdout",
     "output_type": "stream",
     "text": [
      "[2023-03-21 15:24:39] - train 0.035873, valid MSE Loss 0.002835, valid L1 Loss 0.037308\n",
      "[2023-03-21 15:24:39] - Epoch: 23\n",
      "[2023-03-21 15:24:39] - training...\n"
     ]
    },
    {
     "name": "stderr",
     "output_type": "stream",
     "text": [
      "\n",
      "100%|██████████████████████████████████████████| 6/6 [00:00<00:00, 12.43it/s]"
     ]
    },
    {
     "name": "stdout",
     "output_type": "stream",
     "text": [
      "[2023-03-21 15:24:39] - evaluating...\n"
     ]
    },
    {
     "name": "stderr",
     "output_type": "stream",
     "text": [
      "\n",
      "Valid: 100%|██████████████████████████████████| 2/2 [00:00<00:00, 328.99it/s]"
     ]
    },
    {
     "name": "stdout",
     "output_type": "stream",
     "text": [
      "[2023-03-21 15:24:39] - train 0.033349, valid MSE Loss 0.002149, valid L1 Loss 0.036721\n",
      "[2023-03-21 15:24:39] - Epoch: 24\n",
      "[2023-03-21 15:24:39] - training...\n"
     ]
    },
    {
     "name": "stderr",
     "output_type": "stream",
     "text": [
      "\n",
      "100%|██████████████████████████████████████████| 6/6 [00:00<00:00, 12.76it/s]"
     ]
    },
    {
     "name": "stdout",
     "output_type": "stream",
     "text": [
      "[2023-03-21 15:24:40] - evaluating...\n"
     ]
    },
    {
     "name": "stderr",
     "output_type": "stream",
     "text": [
      "\n",
      "Valid: 100%|██████████████████████████████████| 2/2 [00:00<00:00, 355.48it/s]"
     ]
    },
    {
     "name": "stdout",
     "output_type": "stream",
     "text": [
      "[2023-03-21 15:24:40] - train 0.035618, valid MSE Loss 0.006969, valid L1 Loss 0.072547\n",
      "[2023-03-21 15:24:40] - Epoch: 25\n",
      "[2023-03-21 15:24:40] - training...\n"
     ]
    },
    {
     "name": "stderr",
     "output_type": "stream",
     "text": [
      "\n",
      "100%|██████████████████████████████████████████| 6/6 [00:00<00:00, 13.05it/s]"
     ]
    },
    {
     "name": "stdout",
     "output_type": "stream",
     "text": [
      "[2023-03-21 15:24:40] - evaluating...\n"
     ]
    },
    {
     "name": "stderr",
     "output_type": "stream",
     "text": [
      "\n",
      "Valid: 100%|██████████████████████████████████| 2/2 [00:00<00:00, 423.65it/s]"
     ]
    },
    {
     "name": "stdout",
     "output_type": "stream",
     "text": [
      "[2023-03-21 15:24:40] - train 0.033148, valid MSE Loss 0.005410, valid L1 Loss 0.058235\n",
      "[2023-03-21 15:24:40] - Epoch: 26\n",
      "[2023-03-21 15:24:40] - training...\n"
     ]
    },
    {
     "name": "stderr",
     "output_type": "stream",
     "text": [
      "\n",
      "100%|██████████████████████████████████████████| 6/6 [00:00<00:00, 13.19it/s]"
     ]
    },
    {
     "name": "stdout",
     "output_type": "stream",
     "text": [
      "[2023-03-21 15:24:41] - evaluating...\n"
     ]
    },
    {
     "name": "stderr",
     "output_type": "stream",
     "text": [
      "\n",
      "Valid: 100%|██████████████████████████████████| 2/2 [00:00<00:00, 337.79it/s]"
     ]
    },
    {
     "name": "stdout",
     "output_type": "stream",
     "text": [
      "[2023-03-21 15:24:41] - train 0.034284, valid MSE Loss 0.001513, valid L1 Loss 0.032643\n",
      "[2023-03-21 15:24:41] - Epoch: 27\n",
      "[2023-03-21 15:24:41] - training...\n"
     ]
    },
    {
     "name": "stderr",
     "output_type": "stream",
     "text": [
      "\n",
      "100%|██████████████████████████████████████████| 6/6 [00:00<00:00, 12.98it/s]"
     ]
    },
    {
     "name": "stdout",
     "output_type": "stream",
     "text": [
      "[2023-03-21 15:24:41] - evaluating...\n"
     ]
    },
    {
     "name": "stderr",
     "output_type": "stream",
     "text": [
      "\n",
      "Valid: 100%|██████████████████████████████████| 2/2 [00:00<00:00, 332.21it/s]"
     ]
    },
    {
     "name": "stdout",
     "output_type": "stream",
     "text": [
      "[2023-03-21 15:24:41] - train 0.034073, valid MSE Loss 0.001599, valid L1 Loss 0.030413\n",
      "[2023-03-21 15:24:41] - Epoch: 28\n",
      "[2023-03-21 15:24:41] - training...\n"
     ]
    },
    {
     "name": "stderr",
     "output_type": "stream",
     "text": [
      "\n",
      "100%|██████████████████████████████████████████| 6/6 [00:00<00:00, 12.65it/s]"
     ]
    },
    {
     "name": "stdout",
     "output_type": "stream",
     "text": [
      "[2023-03-21 15:24:42] - evaluating...\n"
     ]
    },
    {
     "name": "stderr",
     "output_type": "stream",
     "text": [
      "\n",
      "Valid: 100%|██████████████████████████████████| 2/2 [00:00<00:00, 331.76it/s]"
     ]
    },
    {
     "name": "stdout",
     "output_type": "stream",
     "text": [
      "[2023-03-21 15:24:42] - train 0.032161, valid MSE Loss 0.004267, valid L1 Loss 0.057597\n",
      "[2023-03-21 15:24:42] - Epoch: 29\n",
      "[2023-03-21 15:24:42] - training...\n"
     ]
    },
    {
     "name": "stderr",
     "output_type": "stream",
     "text": [
      "\n",
      "100%|██████████████████████████████████████████| 6/6 [00:00<00:00, 12.65it/s]"
     ]
    },
    {
     "name": "stdout",
     "output_type": "stream",
     "text": [
      "[2023-03-21 15:24:42] - evaluating...\n"
     ]
    },
    {
     "name": "stderr",
     "output_type": "stream",
     "text": [
      "\n",
      "Valid: 100%|██████████████████████████████████| 2/2 [00:00<00:00, 312.29it/s]"
     ]
    },
    {
     "name": "stdout",
     "output_type": "stream",
     "text": [
      "[2023-03-21 15:24:42] - train 0.033822, valid MSE Loss 0.028046, valid L1 Loss 0.164410\n",
      "[2023-03-21 15:24:42] - Epoch: 30\n",
      "[2023-03-21 15:24:42] - training...\n"
     ]
    },
    {
     "name": "stderr",
     "output_type": "stream",
     "text": [
      "\n",
      "100%|██████████████████████████████████████████| 6/6 [00:00<00:00, 12.02it/s]"
     ]
    },
    {
     "name": "stdout",
     "output_type": "stream",
     "text": [
      "[2023-03-21 15:24:43] - evaluating...\n"
     ]
    },
    {
     "name": "stderr",
     "output_type": "stream",
     "text": [
      "\n",
      "Valid: 100%|██████████████████████████████████| 2/2 [00:00<00:00, 266.92it/s]"
     ]
    },
    {
     "name": "stdout",
     "output_type": "stream",
     "text": [
      "[2023-03-21 15:24:43] - train 0.034423, valid MSE Loss 0.008487, valid L1 Loss 0.086486\n",
      "[2023-03-21 15:24:43] - Epoch: 31\n",
      "[2023-03-21 15:24:43] - training...\n"
     ]
    },
    {
     "name": "stderr",
     "output_type": "stream",
     "text": [
      "\n",
      "100%|██████████████████████████████████████████| 6/6 [00:00<00:00, 12.51it/s]\n"
     ]
    },
    {
     "name": "stdout",
     "output_type": "stream",
     "text": [
      "[2023-03-21 15:24:43] - evaluating...\n"
     ]
    },
    {
     "name": "stderr",
     "output_type": "stream",
     "text": [
      "Valid: 100%|██████████████████████████████████| 2/2 [00:00<00:00, 328.49it/s]"
     ]
    },
    {
     "name": "stdout",
     "output_type": "stream",
     "text": [
      "[2023-03-21 15:24:43] - train 0.033913, valid MSE Loss 0.044927, valid L1 Loss 0.209884\n",
      "[2023-03-21 15:24:43] - Epoch: 32\n",
      "[2023-03-21 15:24:43] - training...\n"
     ]
    },
    {
     "name": "stderr",
     "output_type": "stream",
     "text": [
      "\n",
      "100%|██████████████████████████████████████████| 6/6 [00:00<00:00, 12.89it/s]"
     ]
    },
    {
     "name": "stdout",
     "output_type": "stream",
     "text": [
      "[2023-03-21 15:24:44] - evaluating...\n"
     ]
    },
    {
     "name": "stderr",
     "output_type": "stream",
     "text": [
      "\n",
      "Valid: 100%|██████████████████████████████████| 2/2 [00:00<00:00, 604.67it/s]"
     ]
    },
    {
     "name": "stdout",
     "output_type": "stream",
     "text": [
      "[2023-03-21 15:24:44] - train 0.034493, valid MSE Loss 0.088203, valid L1 Loss 0.295752\n",
      "[2023-03-21 15:24:44] - Epoch: 33\n",
      "[2023-03-21 15:24:44] - training...\n"
     ]
    },
    {
     "name": "stderr",
     "output_type": "stream",
     "text": [
      "\n",
      "100%|██████████████████████████████████████████| 6/6 [00:00<00:00, 12.80it/s]"
     ]
    },
    {
     "name": "stdout",
     "output_type": "stream",
     "text": [
      "[2023-03-21 15:24:44] - evaluating...\n"
     ]
    },
    {
     "name": "stderr",
     "output_type": "stream",
     "text": [
      "\n",
      "Valid: 100%|██████████████████████████████████| 2/2 [00:00<00:00, 349.70it/s]"
     ]
    },
    {
     "name": "stdout",
     "output_type": "stream",
     "text": [
      "[2023-03-21 15:24:44] - train 0.033479, valid MSE Loss 0.039524, valid L1 Loss 0.194720\n",
      "[2023-03-21 15:24:44] - Epoch: 34\n",
      "[2023-03-21 15:24:44] - training...\n"
     ]
    },
    {
     "name": "stderr",
     "output_type": "stream",
     "text": [
      "\n",
      "100%|██████████████████████████████████████████| 6/6 [00:00<00:00, 12.90it/s]"
     ]
    },
    {
     "name": "stdout",
     "output_type": "stream",
     "text": [
      "[2023-03-21 15:24:45] - evaluating...\n"
     ]
    },
    {
     "name": "stderr",
     "output_type": "stream",
     "text": [
      "\n",
      "Valid: 100%|██████████████████████████████████| 2/2 [00:00<00:00, 426.55it/s]"
     ]
    },
    {
     "name": "stdout",
     "output_type": "stream",
     "text": [
      "[2023-03-21 15:24:45] - train 0.031996, valid MSE Loss 0.034215, valid L1 Loss 0.182484\n",
      "[2023-03-21 15:24:45] - Epoch: 35\n",
      "[2023-03-21 15:24:45] - training...\n"
     ]
    },
    {
     "name": "stderr",
     "output_type": "stream",
     "text": [
      "\n",
      "100%|██████████████████████████████████████████| 6/6 [00:00<00:00, 12.66it/s]"
     ]
    },
    {
     "name": "stdout",
     "output_type": "stream",
     "text": [
      "[2023-03-21 15:24:45] - evaluating...\n"
     ]
    },
    {
     "name": "stderr",
     "output_type": "stream",
     "text": [
      "\n",
      "Valid: 100%|██████████████████████████████████| 2/2 [00:00<00:00, 399.51it/s]"
     ]
    },
    {
     "name": "stdout",
     "output_type": "stream",
     "text": [
      "[2023-03-21 15:24:45] - train 0.031805, valid MSE Loss 0.013470, valid L1 Loss 0.111537\n",
      "[2023-03-21 15:24:45] - Epoch: 36\n",
      "[2023-03-21 15:24:45] - training...\n"
     ]
    },
    {
     "name": "stderr",
     "output_type": "stream",
     "text": [
      "\n",
      "100%|██████████████████████████████████████████| 6/6 [00:00<00:00, 13.09it/s]"
     ]
    },
    {
     "name": "stdout",
     "output_type": "stream",
     "text": [
      "[2023-03-21 15:24:46] - evaluating...\n"
     ]
    },
    {
     "name": "stderr",
     "output_type": "stream",
     "text": [
      "\n",
      "Valid: 100%|██████████████████████████████████| 2/2 [00:00<00:00, 425.36it/s]"
     ]
    },
    {
     "name": "stdout",
     "output_type": "stream",
     "text": [
      "[2023-03-21 15:24:46] - train 0.029041, valid MSE Loss 0.003533, valid L1 Loss 0.055333\n",
      "[2023-03-21 15:24:46] - Epoch: 37\n",
      "[2023-03-21 15:24:46] - training...\n"
     ]
    },
    {
     "name": "stderr",
     "output_type": "stream",
     "text": [
      "\n",
      "100%|██████████████████████████████████████████| 6/6 [00:00<00:00, 13.02it/s]"
     ]
    },
    {
     "name": "stdout",
     "output_type": "stream",
     "text": [
      "[2023-03-21 15:24:46] - evaluating...\n"
     ]
    },
    {
     "name": "stderr",
     "output_type": "stream",
     "text": [
      "\n",
      "Valid: 100%|██████████████████████████████████| 2/2 [00:00<00:00, 395.30it/s]"
     ]
    },
    {
     "name": "stdout",
     "output_type": "stream",
     "text": [
      "[2023-03-21 15:24:46] - train 0.034183, valid MSE Loss 0.044372, valid L1 Loss 0.209703\n",
      "[2023-03-21 15:24:46] - Epoch: 38\n",
      "[2023-03-21 15:24:46] - training...\n"
     ]
    },
    {
     "name": "stderr",
     "output_type": "stream",
     "text": [
      "\n",
      "100%|██████████████████████████████████████████| 6/6 [00:00<00:00, 13.00it/s]"
     ]
    },
    {
     "name": "stdout",
     "output_type": "stream",
     "text": [
      "[2023-03-21 15:24:47] - evaluating...\n"
     ]
    },
    {
     "name": "stderr",
     "output_type": "stream",
     "text": [
      "\n",
      "Valid: 100%|██████████████████████████████████| 2/2 [00:00<00:00, 332.66it/s]"
     ]
    },
    {
     "name": "stdout",
     "output_type": "stream",
     "text": [
      "[2023-03-21 15:24:47] - train 0.032675, valid MSE Loss 0.014609, valid L1 Loss 0.116714\n",
      "[2023-03-21 15:24:47] - Epoch: 39\n",
      "[2023-03-21 15:24:47] - training...\n"
     ]
    },
    {
     "name": "stderr",
     "output_type": "stream",
     "text": [
      "\n",
      "100%|██████████████████████████████████████████| 6/6 [00:00<00:00, 12.96it/s]"
     ]
    },
    {
     "name": "stdout",
     "output_type": "stream",
     "text": [
      "[2023-03-21 15:24:47] - evaluating...\n"
     ]
    },
    {
     "name": "stderr",
     "output_type": "stream",
     "text": [
      "\n",
      "Valid: 100%|██████████████████████████████████| 2/2 [00:00<00:00, 356.55it/s]"
     ]
    },
    {
     "name": "stdout",
     "output_type": "stream",
     "text": [
      "[2023-03-21 15:24:47] - train 0.033639, valid MSE Loss 0.023946, valid L1 Loss 0.151638\n",
      "[2023-03-21 15:24:47] - Epoch: 40\n",
      "[2023-03-21 15:24:47] - training...\n"
     ]
    },
    {
     "name": "stderr",
     "output_type": "stream",
     "text": [
      "\n",
      "100%|██████████████████████████████████████████| 6/6 [00:00<00:00, 12.71it/s]"
     ]
    },
    {
     "name": "stdout",
     "output_type": "stream",
     "text": [
      "[2023-03-21 15:24:47] - evaluating...\n"
     ]
    },
    {
     "name": "stderr",
     "output_type": "stream",
     "text": [
      "\n",
      "Valid: 100%|██████████████████████████████████| 2/2 [00:00<00:00, 371.29it/s]"
     ]
    },
    {
     "name": "stdout",
     "output_type": "stream",
     "text": [
      "[2023-03-21 15:24:48] - train 0.033109, valid MSE Loss 0.007005, valid L1 Loss 0.074673\n",
      "[2023-03-21 15:24:48] - Epoch: 41\n",
      "[2023-03-21 15:24:48] - training...\n"
     ]
    },
    {
     "name": "stderr",
     "output_type": "stream",
     "text": [
      "\n",
      "100%|██████████████████████████████████████████| 6/6 [00:00<00:00, 12.39it/s]"
     ]
    },
    {
     "name": "stdout",
     "output_type": "stream",
     "text": [
      "[2023-03-21 15:24:48] - evaluating...\n"
     ]
    },
    {
     "name": "stderr",
     "output_type": "stream",
     "text": [
      "\n",
      "Valid: 100%|██████████████████████████████████| 2/2 [00:00<00:00, 450.56it/s]"
     ]
    },
    {
     "name": "stdout",
     "output_type": "stream",
     "text": [
      "[2023-03-21 15:24:48] - train 0.028965, valid MSE Loss 0.000685, valid L1 Loss 0.019542\n",
      "[2023-03-21 15:24:48] - Epoch: 42\n",
      "[2023-03-21 15:24:48] - training...\n"
     ]
    },
    {
     "name": "stderr",
     "output_type": "stream",
     "text": [
      "\n",
      "100%|██████████████████████████████████████████| 6/6 [00:00<00:00, 13.52it/s]"
     ]
    },
    {
     "name": "stdout",
     "output_type": "stream",
     "text": [
      "[2023-03-21 15:24:48] - evaluating...\n"
     ]
    },
    {
     "name": "stderr",
     "output_type": "stream",
     "text": [
      "\n",
      "Valid: 100%|██████████████████████████████████| 2/2 [00:00<00:00, 497.81it/s]"
     ]
    },
    {
     "name": "stdout",
     "output_type": "stream",
     "text": [
      "[2023-03-21 15:24:48] - train 0.029960, valid MSE Loss 0.004487, valid L1 Loss 0.060575\n",
      "[2023-03-21 15:24:48] - Epoch: 43\n",
      "[2023-03-21 15:24:48] - training...\n"
     ]
    },
    {
     "name": "stderr",
     "output_type": "stream",
     "text": [
      "\n",
      "100%|██████████████████████████████████████████| 6/6 [00:00<00:00, 13.52it/s]"
     ]
    },
    {
     "name": "stdout",
     "output_type": "stream",
     "text": [
      "[2023-03-21 15:24:49] - evaluating...\n"
     ]
    },
    {
     "name": "stderr",
     "output_type": "stream",
     "text": [
      "\n",
      "Valid: 100%|██████████████████████████████████| 2/2 [00:00<00:00, 513.88it/s]"
     ]
    },
    {
     "name": "stdout",
     "output_type": "stream",
     "text": [
      "[2023-03-21 15:24:49] - train 0.031177, valid MSE Loss 0.020027, valid L1 Loss 0.136848\n",
      "[2023-03-21 15:24:49] - Epoch: 44\n",
      "[2023-03-21 15:24:49] - training...\n"
     ]
    },
    {
     "name": "stderr",
     "output_type": "stream",
     "text": [
      "\n",
      "100%|██████████████████████████████████████████| 6/6 [00:00<00:00, 12.76it/s]"
     ]
    },
    {
     "name": "stdout",
     "output_type": "stream",
     "text": [
      "[2023-03-21 15:24:49] - evaluating...\n"
     ]
    },
    {
     "name": "stderr",
     "output_type": "stream",
     "text": [
      "\n",
      "Valid: 100%|██████████████████████████████████| 2/2 [00:00<00:00, 433.30it/s]"
     ]
    },
    {
     "name": "stdout",
     "output_type": "stream",
     "text": [
      "[2023-03-21 15:24:49] - train 0.029435, valid MSE Loss 0.008263, valid L1 Loss 0.085301\n",
      "[2023-03-21 15:24:49] - Epoch: 45\n",
      "[2023-03-21 15:24:49] - training...\n"
     ]
    },
    {
     "name": "stderr",
     "output_type": "stream",
     "text": [
      "\n",
      "100%|██████████████████████████████████████████| 6/6 [00:00<00:00, 13.22it/s]"
     ]
    },
    {
     "name": "stdout",
     "output_type": "stream",
     "text": [
      "[2023-03-21 15:24:50] - evaluating...\n"
     ]
    },
    {
     "name": "stderr",
     "output_type": "stream",
     "text": [
      "\n",
      "Valid: 100%|██████████████████████████████████| 2/2 [00:00<00:00, 463.00it/s]"
     ]
    },
    {
     "name": "stdout",
     "output_type": "stream",
     "text": [
      "[2023-03-21 15:24:50] - train 0.032674, valid MSE Loss 0.030306, valid L1 Loss 0.172561\n",
      "[2023-03-21 15:24:50] - Epoch: 46\n",
      "[2023-03-21 15:24:50] - training...\n"
     ]
    },
    {
     "name": "stderr",
     "output_type": "stream",
     "text": [
      "\n",
      "100%|██████████████████████████████████████████| 6/6 [00:00<00:00, 13.88it/s]"
     ]
    },
    {
     "name": "stdout",
     "output_type": "stream",
     "text": [
      "[2023-03-21 15:24:50] - evaluating...\n"
     ]
    },
    {
     "name": "stderr",
     "output_type": "stream",
     "text": [
      "\n",
      "Valid: 100%|██████████████████████████████████| 2/2 [00:00<00:00, 431.38it/s]"
     ]
    },
    {
     "name": "stdout",
     "output_type": "stream",
     "text": [
      "[2023-03-21 15:24:50] - train 0.032402, valid MSE Loss 0.004297, valid L1 Loss 0.058069\n",
      "[2023-03-21 15:24:50] - Epoch: 47\n",
      "[2023-03-21 15:24:50] - training...\n"
     ]
    },
    {
     "name": "stderr",
     "output_type": "stream",
     "text": [
      "\n",
      "100%|██████████████████████████████████████████| 6/6 [00:00<00:00, 14.03it/s]"
     ]
    },
    {
     "name": "stdout",
     "output_type": "stream",
     "text": [
      "[2023-03-21 15:24:51] - evaluating...\n"
     ]
    },
    {
     "name": "stderr",
     "output_type": "stream",
     "text": [
      "\n",
      "Valid: 100%|██████████████████████████████████| 2/2 [00:00<00:00, 453.63it/s]"
     ]
    },
    {
     "name": "stdout",
     "output_type": "stream",
     "text": [
      "[2023-03-21 15:24:51] - train 0.029989, valid MSE Loss 0.019723, valid L1 Loss 0.138233\n",
      "[2023-03-21 15:24:51] - Epoch: 48\n",
      "[2023-03-21 15:24:51] - training...\n"
     ]
    },
    {
     "name": "stderr",
     "output_type": "stream",
     "text": [
      "\n",
      "100%|██████████████████████████████████████████| 6/6 [00:00<00:00, 14.17it/s]"
     ]
    },
    {
     "name": "stdout",
     "output_type": "stream",
     "text": [
      "[2023-03-21 15:24:51] - evaluating...\n"
     ]
    },
    {
     "name": "stderr",
     "output_type": "stream",
     "text": [
      "\n",
      "Valid: 100%|██████████████████████████████████| 2/2 [00:00<00:00, 452.19it/s]"
     ]
    },
    {
     "name": "stdout",
     "output_type": "stream",
     "text": [
      "[2023-03-21 15:24:51] - train 0.029702, valid MSE Loss 0.139685, valid L1 Loss 0.373351\n",
      "[2023-03-21 15:24:51] - Epoch: 49\n",
      "[2023-03-21 15:24:51] - training...\n"
     ]
    },
    {
     "name": "stderr",
     "output_type": "stream",
     "text": [
      "\n",
      "100%|██████████████████████████████████████████| 6/6 [00:00<00:00, 11.45it/s]"
     ]
    },
    {
     "name": "stdout",
     "output_type": "stream",
     "text": [
      "[2023-03-21 15:24:52] - evaluating...\n"
     ]
    },
    {
     "name": "stderr",
     "output_type": "stream",
     "text": [
      "\n",
      "Valid: 100%|██████████████████████████████████| 2/2 [00:00<00:00, 491.28it/s]"
     ]
    },
    {
     "name": "stdout",
     "output_type": "stream",
     "text": [
      "[2023-03-21 15:24:52] - train 0.031771, valid MSE Loss 0.080552, valid L1 Loss 0.283023\n",
      "[2023-03-21 15:24:52] - Epoch: 50\n",
      "[2023-03-21 15:24:52] - training...\n"
     ]
    },
    {
     "name": "stderr",
     "output_type": "stream",
     "text": [
      "\n",
      "100%|██████████████████████████████████████████| 6/6 [00:00<00:00, 14.24it/s]"
     ]
    },
    {
     "name": "stdout",
     "output_type": "stream",
     "text": [
      "[2023-03-21 15:24:52] - evaluating...\n"
     ]
    },
    {
     "name": "stderr",
     "output_type": "stream",
     "text": [
      "\n",
      "Valid: 100%|██████████████████████████████████| 2/2 [00:00<00:00, 406.01it/s]"
     ]
    },
    {
     "name": "stdout",
     "output_type": "stream",
     "text": [
      "[2023-03-21 15:24:52] - train 0.029900, valid MSE Loss 0.046190, valid L1 Loss 0.214101\n",
      "[2023-03-21 15:24:52] - Epoch: 51\n",
      "[2023-03-21 15:24:52] - training...\n"
     ]
    },
    {
     "name": "stderr",
     "output_type": "stream",
     "text": [
      "\n",
      "100%|██████████████████████████████████████████| 6/6 [00:00<00:00, 13.84it/s]"
     ]
    },
    {
     "name": "stdout",
     "output_type": "stream",
     "text": [
      "[2023-03-21 15:24:53] - evaluating...\n"
     ]
    },
    {
     "name": "stderr",
     "output_type": "stream",
     "text": [
      "\n",
      "Valid: 100%|██████████████████████████████████| 2/2 [00:00<00:00, 537.08it/s]"
     ]
    },
    {
     "name": "stdout",
     "output_type": "stream",
     "text": [
      "[2023-03-21 15:24:53] - train 0.032917, valid MSE Loss 0.004467, valid L1 Loss 0.061532\n",
      "[2023-03-21 15:24:53] - Epoch: 52\n",
      "[2023-03-21 15:24:53] - training...\n"
     ]
    },
    {
     "name": "stderr",
     "output_type": "stream",
     "text": [
      "\n",
      "100%|██████████████████████████████████████████| 6/6 [00:00<00:00, 12.97it/s]"
     ]
    },
    {
     "name": "stdout",
     "output_type": "stream",
     "text": [
      "[2023-03-21 15:24:53] - evaluating...\n"
     ]
    },
    {
     "name": "stderr",
     "output_type": "stream",
     "text": [
      "\n",
      "Valid: 100%|██████████████████████████████████| 2/2 [00:00<00:00, 449.29it/s]"
     ]
    },
    {
     "name": "stdout",
     "output_type": "stream",
     "text": [
      "[2023-03-21 15:24:53] - train 0.029616, valid MSE Loss 0.063067, valid L1 Loss 0.250300\n",
      "[2023-03-21 15:24:53] - Epoch: 53\n",
      "[2023-03-21 15:24:53] - training...\n"
     ]
    },
    {
     "name": "stderr",
     "output_type": "stream",
     "text": [
      "\n",
      "100%|██████████████████████████████████████████| 6/6 [00:00<00:00, 13.57it/s]"
     ]
    },
    {
     "name": "stdout",
     "output_type": "stream",
     "text": [
      "[2023-03-21 15:24:54] - evaluating...\n"
     ]
    },
    {
     "name": "stderr",
     "output_type": "stream",
     "text": [
      "\n",
      "Valid: 100%|██████████████████████████████████| 2/2 [00:00<00:00, 480.14it/s]"
     ]
    },
    {
     "name": "stdout",
     "output_type": "stream",
     "text": [
      "[2023-03-21 15:24:54] - train 0.029293, valid MSE Loss 0.013352, valid L1 Loss 0.112600\n",
      "[2023-03-21 15:24:54] - Epoch: 54\n",
      "[2023-03-21 15:24:54] - training...\n"
     ]
    },
    {
     "name": "stderr",
     "output_type": "stream",
     "text": [
      "\n",
      "100%|██████████████████████████████████████████| 6/6 [00:00<00:00, 13.70it/s]"
     ]
    },
    {
     "name": "stdout",
     "output_type": "stream",
     "text": [
      "[2023-03-21 15:24:54] - evaluating...\n"
     ]
    },
    {
     "name": "stderr",
     "output_type": "stream",
     "text": [
      "\n",
      "Valid: 100%|██████████████████████████████████| 2/2 [00:00<00:00, 443.09it/s]"
     ]
    },
    {
     "name": "stdout",
     "output_type": "stream",
     "text": [
      "[2023-03-21 15:24:54] - train 0.027506, valid MSE Loss 0.084706, valid L1 Loss 0.290249\n",
      "[2023-03-21 15:24:54] - Epoch: 55\n",
      "[2023-03-21 15:24:54] - training...\n"
     ]
    },
    {
     "name": "stderr",
     "output_type": "stream",
     "text": [
      "\n",
      "100%|██████████████████████████████████████████| 6/6 [00:00<00:00, 13.83it/s]"
     ]
    },
    {
     "name": "stdout",
     "output_type": "stream",
     "text": [
      "[2023-03-21 15:24:55] - evaluating...\n"
     ]
    },
    {
     "name": "stderr",
     "output_type": "stream",
     "text": [
      "\n",
      "Valid: 100%|██████████████████████████████████| 2/2 [00:00<00:00, 445.59it/s]"
     ]
    },
    {
     "name": "stdout",
     "output_type": "stream",
     "text": [
      "[2023-03-21 15:24:55] - train 0.030589, valid MSE Loss 0.104184, valid L1 Loss 0.322123\n",
      "[2023-03-21 15:24:55] - Epoch: 56\n",
      "[2023-03-21 15:24:55] - training...\n"
     ]
    },
    {
     "name": "stderr",
     "output_type": "stream",
     "text": [
      "\n",
      "100%|██████████████████████████████████████████| 6/6 [00:00<00:00, 13.63it/s]"
     ]
    },
    {
     "name": "stdout",
     "output_type": "stream",
     "text": [
      "[2023-03-21 15:24:55] - evaluating...\n"
     ]
    },
    {
     "name": "stderr",
     "output_type": "stream",
     "text": [
      "\n",
      "Valid: 100%|██████████████████████████████████| 2/2 [00:00<00:00, 484.33it/s]"
     ]
    },
    {
     "name": "stdout",
     "output_type": "stream",
     "text": [
      "[2023-03-21 15:24:55] - train 0.028462, valid MSE Loss 0.242056, valid L1 Loss 0.491616\n",
      "[2023-03-21 15:24:55] - Epoch: 57\n",
      "[2023-03-21 15:24:55] - training...\n"
     ]
    },
    {
     "name": "stderr",
     "output_type": "stream",
     "text": [
      "\n",
      "100%|██████████████████████████████████████████| 6/6 [00:00<00:00, 13.38it/s]"
     ]
    },
    {
     "name": "stdout",
     "output_type": "stream",
     "text": [
      "[2023-03-21 15:24:56] - evaluating...\n"
     ]
    },
    {
     "name": "stderr",
     "output_type": "stream",
     "text": [
      "\n",
      "Valid: 100%|██████████████████████████████████| 2/2 [00:00<00:00, 407.65it/s]"
     ]
    },
    {
     "name": "stdout",
     "output_type": "stream",
     "text": [
      "[2023-03-21 15:24:56] - train 0.028953, valid MSE Loss 0.735096, valid L1 Loss 0.857246\n",
      "[2023-03-21 15:24:56] - Epoch: 58\n",
      "[2023-03-21 15:24:56] - training...\n"
     ]
    },
    {
     "name": "stderr",
     "output_type": "stream",
     "text": [
      "\n",
      "100%|██████████████████████████████████████████| 6/6 [00:00<00:00, 13.56it/s]"
     ]
    },
    {
     "name": "stdout",
     "output_type": "stream",
     "text": [
      "[2023-03-21 15:24:56] - evaluating...\n"
     ]
    },
    {
     "name": "stderr",
     "output_type": "stream",
     "text": [
      "\n",
      "Valid: 100%|██████████████████████████████████| 2/2 [00:00<00:00, 375.48it/s]"
     ]
    },
    {
     "name": "stdout",
     "output_type": "stream",
     "text": [
      "[2023-03-21 15:24:56] - train 0.031209, valid MSE Loss 0.396905, valid L1 Loss 0.629822\n",
      "[2023-03-21 15:24:56] - Epoch: 59\n",
      "[2023-03-21 15:24:56] - training...\n"
     ]
    },
    {
     "name": "stderr",
     "output_type": "stream",
     "text": [
      "\n",
      "100%|██████████████████████████████████████████| 6/6 [00:00<00:00, 13.01it/s]"
     ]
    },
    {
     "name": "stdout",
     "output_type": "stream",
     "text": [
      "[2023-03-21 15:24:57] - evaluating...\n"
     ]
    },
    {
     "name": "stderr",
     "output_type": "stream",
     "text": [
      "\n",
      "Valid: 100%|██████████████████████████████████| 2/2 [00:00<00:00, 386.30it/s]"
     ]
    },
    {
     "name": "stdout",
     "output_type": "stream",
     "text": [
      "[2023-03-21 15:24:57] - train 0.026317, valid MSE Loss 0.056777, valid L1 Loss 0.237407\n",
      "[2023-03-21 15:24:57] - Epoch: 60\n",
      "[2023-03-21 15:24:57] - training...\n"
     ]
    },
    {
     "name": "stderr",
     "output_type": "stream",
     "text": [
      "\n",
      "100%|██████████████████████████████████████████| 6/6 [00:00<00:00, 13.42it/s]"
     ]
    },
    {
     "name": "stdout",
     "output_type": "stream",
     "text": [
      "[2023-03-21 15:24:57] - evaluating...\n"
     ]
    },
    {
     "name": "stderr",
     "output_type": "stream",
     "text": [
      "\n",
      "Valid: 100%|██████████████████████████████████| 2/2 [00:00<00:00, 467.70it/s]"
     ]
    },
    {
     "name": "stdout",
     "output_type": "stream",
     "text": [
      "[2023-03-21 15:24:57] - train 0.026228, valid MSE Loss 0.038607, valid L1 Loss 0.195500\n",
      "[2023-03-21 15:24:57] - Epoch: 61\n",
      "[2023-03-21 15:24:57] - training...\n"
     ]
    },
    {
     "name": "stderr",
     "output_type": "stream",
     "text": [
      "\n",
      "100%|██████████████████████████████████████████| 6/6 [00:00<00:00, 13.76it/s]"
     ]
    },
    {
     "name": "stdout",
     "output_type": "stream",
     "text": [
      "[2023-03-21 15:24:58] - evaluating...\n"
     ]
    },
    {
     "name": "stderr",
     "output_type": "stream",
     "text": [
      "\n",
      "Valid: 100%|██████████████████████████████████| 2/2 [00:00<00:00, 416.35it/s]"
     ]
    },
    {
     "name": "stdout",
     "output_type": "stream",
     "text": [
      "[2023-03-21 15:24:58] - train 0.026518, valid MSE Loss 0.063026, valid L1 Loss 0.249967\n",
      "[2023-03-21 15:24:58] - Epoch: 62\n",
      "[2023-03-21 15:24:58] - training...\n"
     ]
    },
    {
     "name": "stderr",
     "output_type": "stream",
     "text": [
      "\n",
      "100%|██████████████████████████████████████████| 6/6 [00:00<00:00, 12.22it/s]\n"
     ]
    },
    {
     "name": "stdout",
     "output_type": "stream",
     "text": [
      "[2023-03-21 15:24:58] - evaluating...\n"
     ]
    },
    {
     "name": "stderr",
     "output_type": "stream",
     "text": [
      "Valid: 100%|██████████████████████████████████| 2/2 [00:00<00:00, 379.39it/s]"
     ]
    },
    {
     "name": "stdout",
     "output_type": "stream",
     "text": [
      "[2023-03-21 15:24:58] - train 0.028368, valid MSE Loss 0.041668, valid L1 Loss 0.202217\n",
      "[2023-03-21 15:24:58] - Epoch: 63\n",
      "[2023-03-21 15:24:58] - training...\n"
     ]
    },
    {
     "name": "stderr",
     "output_type": "stream",
     "text": [
      "\n",
      "100%|██████████████████████████████████████████| 6/6 [00:00<00:00, 13.62it/s]"
     ]
    },
    {
     "name": "stdout",
     "output_type": "stream",
     "text": [
      "[2023-03-21 15:24:59] - evaluating...\n"
     ]
    },
    {
     "name": "stderr",
     "output_type": "stream",
     "text": [
      "\n",
      "Valid: 100%|██████████████████████████████████| 2/2 [00:00<00:00, 440.97it/s]"
     ]
    },
    {
     "name": "stdout",
     "output_type": "stream",
     "text": [
      "[2023-03-21 15:24:59] - train 0.028106, valid MSE Loss 0.139557, valid L1 Loss 0.373000\n",
      "[2023-03-21 15:24:59] - Epoch: 64\n",
      "[2023-03-21 15:24:59] - training...\n"
     ]
    },
    {
     "name": "stderr",
     "output_type": "stream",
     "text": [
      "\n",
      "100%|██████████████████████████████████████████| 6/6 [00:00<00:00, 13.00it/s]"
     ]
    },
    {
     "name": "stdout",
     "output_type": "stream",
     "text": [
      "[2023-03-21 15:24:59] - evaluating...\n"
     ]
    },
    {
     "name": "stderr",
     "output_type": "stream",
     "text": [
      "\n",
      "Valid: 100%|██████████████████████████████████| 2/2 [00:00<00:00, 440.14it/s]"
     ]
    },
    {
     "name": "stdout",
     "output_type": "stream",
     "text": [
      "[2023-03-21 15:24:59] - train 0.027886, valid MSE Loss 0.496179, valid L1 Loss 0.704213\n",
      "[2023-03-21 15:24:59] - Epoch: 65\n",
      "[2023-03-21 15:24:59] - training...\n"
     ]
    },
    {
     "name": "stderr",
     "output_type": "stream",
     "text": [
      "\n",
      "100%|██████████████████████████████████████████| 6/6 [00:00<00:00, 13.75it/s]"
     ]
    },
    {
     "name": "stdout",
     "output_type": "stream",
     "text": [
      "[2023-03-21 15:24:59] - evaluating...\n"
     ]
    },
    {
     "name": "stderr",
     "output_type": "stream",
     "text": [
      "\n",
      "Valid: 100%|██████████████████████████████████| 2/2 [00:00<00:00, 339.88it/s]"
     ]
    },
    {
     "name": "stdout",
     "output_type": "stream",
     "text": [
      "[2023-03-21 15:24:59] - train 0.025698, valid MSE Loss 0.312582, valid L1 Loss 0.558701\n",
      "[2023-03-21 15:25:00] - Epoch: 66\n",
      "[2023-03-21 15:25:00] - training...\n"
     ]
    },
    {
     "name": "stderr",
     "output_type": "stream",
     "text": [
      "\n",
      "100%|██████████████████████████████████████████| 6/6 [00:00<00:00, 13.31it/s]"
     ]
    },
    {
     "name": "stdout",
     "output_type": "stream",
     "text": [
      "[2023-03-21 15:25:00] - evaluating...\n"
     ]
    },
    {
     "name": "stderr",
     "output_type": "stream",
     "text": [
      "\n",
      "Valid: 100%|██████████████████████████████████| 2/2 [00:00<00:00, 366.03it/s]"
     ]
    },
    {
     "name": "stdout",
     "output_type": "stream",
     "text": [
      "[2023-03-21 15:25:00] - train 0.026680, valid MSE Loss 0.453724, valid L1 Loss 0.673383\n",
      "[2023-03-21 15:25:00] - Epoch: 67\n",
      "[2023-03-21 15:25:00] - training...\n"
     ]
    },
    {
     "name": "stderr",
     "output_type": "stream",
     "text": [
      "\n",
      "100%|██████████████████████████████████████████| 6/6 [00:00<00:00, 13.86it/s]"
     ]
    },
    {
     "name": "stdout",
     "output_type": "stream",
     "text": [
      "[2023-03-21 15:25:00] - evaluating...\n"
     ]
    },
    {
     "name": "stderr",
     "output_type": "stream",
     "text": [
      "\n",
      "Valid: 100%|██████████████████████████████████| 2/2 [00:00<00:00, 438.23it/s]"
     ]
    },
    {
     "name": "stdout",
     "output_type": "stream",
     "text": [
      "[2023-03-21 15:25:00] - train 0.024759, valid MSE Loss 0.269006, valid L1 Loss 0.518110\n",
      "[2023-03-21 15:25:00] - Epoch: 68\n",
      "[2023-03-21 15:25:00] - training...\n"
     ]
    },
    {
     "name": "stderr",
     "output_type": "stream",
     "text": [
      "\n",
      "100%|██████████████████████████████████████████| 6/6 [00:00<00:00, 14.04it/s]"
     ]
    },
    {
     "name": "stdout",
     "output_type": "stream",
     "text": [
      "[2023-03-21 15:25:01] - evaluating...\n"
     ]
    },
    {
     "name": "stderr",
     "output_type": "stream",
     "text": [
      "\n",
      "Valid: 100%|██████████████████████████████████| 2/2 [00:00<00:00, 449.86it/s]"
     ]
    },
    {
     "name": "stdout",
     "output_type": "stream",
     "text": [
      "[2023-03-21 15:25:01] - train 0.025736, valid MSE Loss 0.525309, valid L1 Loss 0.724523\n",
      "[2023-03-21 15:25:01] - Epoch: 69\n",
      "[2023-03-21 15:25:01] - training...\n"
     ]
    },
    {
     "name": "stderr",
     "output_type": "stream",
     "text": [
      "\n",
      "100%|██████████████████████████████████████████| 6/6 [00:00<00:00, 13.63it/s]"
     ]
    },
    {
     "name": "stdout",
     "output_type": "stream",
     "text": [
      "[2023-03-21 15:25:01] - evaluating...\n"
     ]
    },
    {
     "name": "stderr",
     "output_type": "stream",
     "text": [
      "\n",
      "Valid: 100%|██████████████████████████████████| 2/2 [00:00<00:00, 437.43it/s]"
     ]
    },
    {
     "name": "stdout",
     "output_type": "stream",
     "text": [
      "[2023-03-21 15:25:01] - train 0.025051, valid MSE Loss 0.665588, valid L1 Loss 0.815486\n",
      "[2023-03-21 15:25:01] - Epoch: 70\n",
      "[2023-03-21 15:25:01] - training...\n"
     ]
    },
    {
     "name": "stderr",
     "output_type": "stream",
     "text": [
      "\n",
      "100%|██████████████████████████████████████████| 6/6 [00:00<00:00, 13.50it/s]"
     ]
    },
    {
     "name": "stdout",
     "output_type": "stream",
     "text": [
      "[2023-03-21 15:25:02] - evaluating...\n"
     ]
    },
    {
     "name": "stderr",
     "output_type": "stream",
     "text": [
      "\n",
      "Valid: 100%|██████████████████████████████████| 2/2 [00:00<00:00, 473.32it/s]"
     ]
    },
    {
     "name": "stdout",
     "output_type": "stream",
     "text": [
      "[2023-03-21 15:25:02] - train 0.026984, valid MSE Loss 0.701341, valid L1 Loss 0.837222\n",
      "[2023-03-21 15:25:02] - Epoch: 71\n",
      "[2023-03-21 15:25:02] - training...\n"
     ]
    },
    {
     "name": "stderr",
     "output_type": "stream",
     "text": [
      "\n",
      "100%|██████████████████████████████████████████| 6/6 [00:00<00:00, 13.90it/s]"
     ]
    },
    {
     "name": "stdout",
     "output_type": "stream",
     "text": [
      "[2023-03-21 15:25:02] - evaluating...\n"
     ]
    },
    {
     "name": "stderr",
     "output_type": "stream",
     "text": [
      "\n",
      "Valid: 100%|██████████████████████████████████| 2/2 [00:00<00:00, 403.69it/s]"
     ]
    },
    {
     "name": "stdout",
     "output_type": "stream",
     "text": [
      "[2023-03-21 15:25:02] - train 0.024852, valid MSE Loss 1.123625, valid L1 Loss 1.059882\n",
      "[2023-03-21 15:25:02] - Epoch: 72\n",
      "[2023-03-21 15:25:02] - training...\n"
     ]
    },
    {
     "name": "stderr",
     "output_type": "stream",
     "text": [
      "\n",
      "100%|██████████████████████████████████████████| 6/6 [00:00<00:00, 13.45it/s]"
     ]
    },
    {
     "name": "stdout",
     "output_type": "stream",
     "text": [
      "[2023-03-21 15:25:03] - evaluating...\n"
     ]
    },
    {
     "name": "stderr",
     "output_type": "stream",
     "text": [
      "\n",
      "Valid: 100%|██████████████████████████████████| 2/2 [00:00<00:00, 457.79it/s]"
     ]
    },
    {
     "name": "stdout",
     "output_type": "stream",
     "text": [
      "[2023-03-21 15:25:03] - train 0.026852, valid MSE Loss 0.974314, valid L1 Loss 0.986941\n",
      "[2023-03-21 15:25:03] - Epoch: 73\n",
      "[2023-03-21 15:25:03] - training...\n"
     ]
    },
    {
     "name": "stderr",
     "output_type": "stream",
     "text": [
      "\n",
      "100%|██████████████████████████████████████████| 6/6 [00:00<00:00, 12.65it/s]"
     ]
    },
    {
     "name": "stdout",
     "output_type": "stream",
     "text": [
      "[2023-03-21 15:25:03] - evaluating...\n"
     ]
    },
    {
     "name": "stderr",
     "output_type": "stream",
     "text": [
      "\n",
      "Valid: 100%|██████████████████████████████████| 2/2 [00:00<00:00, 507.57it/s]"
     ]
    },
    {
     "name": "stdout",
     "output_type": "stream",
     "text": [
      "[2023-03-21 15:25:03] - train 0.027828, valid MSE Loss 0.870937, valid L1 Loss 0.933089\n",
      "[2023-03-21 15:25:03] - Epoch: 74\n",
      "[2023-03-21 15:25:03] - training...\n"
     ]
    },
    {
     "name": "stderr",
     "output_type": "stream",
     "text": [
      "\n",
      "100%|██████████████████████████████████████████| 6/6 [00:00<00:00, 13.20it/s]"
     ]
    },
    {
     "name": "stdout",
     "output_type": "stream",
     "text": [
      "[2023-03-21 15:25:04] - evaluating...\n"
     ]
    },
    {
     "name": "stderr",
     "output_type": "stream",
     "text": [
      "\n",
      "Valid: 100%|██████████████████████████████████| 2/2 [00:00<00:00, 462.77it/s]"
     ]
    },
    {
     "name": "stdout",
     "output_type": "stream",
     "text": [
      "[2023-03-21 15:25:04] - train 0.024639, valid MSE Loss 0.317588, valid L1 Loss 0.562911\n",
      "[2023-03-21 15:25:04] - Epoch: 75\n",
      "[2023-03-21 15:25:04] - training...\n"
     ]
    },
    {
     "name": "stderr",
     "output_type": "stream",
     "text": [
      "\n",
      "100%|██████████████████████████████████████████| 6/6 [00:00<00:00, 13.74it/s]"
     ]
    },
    {
     "name": "stdout",
     "output_type": "stream",
     "text": [
      "[2023-03-21 15:25:04] - evaluating...\n"
     ]
    },
    {
     "name": "stderr",
     "output_type": "stream",
     "text": [
      "\n",
      "Valid: 100%|██████████████████████████████████| 2/2 [00:00<00:00, 450.42it/s]"
     ]
    },
    {
     "name": "stdout",
     "output_type": "stream",
     "text": [
      "[2023-03-21 15:25:04] - train 0.029672, valid MSE Loss 0.702964, valid L1 Loss 0.838218\n",
      "[2023-03-21 15:25:04] - Epoch: 76\n",
      "[2023-03-21 15:25:04] - training...\n"
     ]
    },
    {
     "name": "stderr",
     "output_type": "stream",
     "text": [
      "\n",
      "100%|██████████████████████████████████████████| 6/6 [00:00<00:00, 13.23it/s]"
     ]
    },
    {
     "name": "stdout",
     "output_type": "stream",
     "text": [
      "[2023-03-21 15:25:05] - evaluating...\n"
     ]
    },
    {
     "name": "stderr",
     "output_type": "stream",
     "text": [
      "\n",
      "Valid: 100%|██████████████████████████████████| 2/2 [00:00<00:00, 432.27it/s]"
     ]
    },
    {
     "name": "stdout",
     "output_type": "stream",
     "text": [
      "[2023-03-21 15:25:05] - train 0.029237, valid MSE Loss 0.803002, valid L1 Loss 0.895733\n",
      "[2023-03-21 15:25:05] - Epoch: 77\n",
      "[2023-03-21 15:25:05] - training...\n"
     ]
    },
    {
     "name": "stderr",
     "output_type": "stream",
     "text": [
      "\n",
      "100%|██████████████████████████████████████████| 6/6 [00:00<00:00, 13.91it/s]"
     ]
    },
    {
     "name": "stdout",
     "output_type": "stream",
     "text": [
      "[2023-03-21 15:25:05] - evaluating...\n"
     ]
    },
    {
     "name": "stderr",
     "output_type": "stream",
     "text": [
      "\n",
      "Valid: 100%|██████████████████████████████████| 2/2 [00:00<00:00, 687.59it/s]"
     ]
    },
    {
     "name": "stdout",
     "output_type": "stream",
     "text": [
      "[2023-03-21 15:25:05] - train 0.030918, valid MSE Loss 1.154621, valid L1 Loss 1.074328\n",
      "[2023-03-21 15:25:05] - Epoch: 78\n",
      "[2023-03-21 15:25:05] - training...\n"
     ]
    },
    {
     "name": "stderr",
     "output_type": "stream",
     "text": [
      "\n",
      "100%|██████████████████████████████████████████| 6/6 [00:00<00:00, 12.94it/s]"
     ]
    },
    {
     "name": "stdout",
     "output_type": "stream",
     "text": [
      "[2023-03-21 15:25:06] - evaluating...\n"
     ]
    },
    {
     "name": "stderr",
     "output_type": "stream",
     "text": [
      "\n",
      "Valid: 100%|██████████████████████████████████| 2/2 [00:00<00:00, 331.36it/s]"
     ]
    },
    {
     "name": "stdout",
     "output_type": "stream",
     "text": [
      "[2023-03-21 15:25:06] - train 0.029685, valid MSE Loss 0.736842, valid L1 Loss 0.858127\n",
      "[2023-03-21 15:25:06] - Epoch: 79\n",
      "[2023-03-21 15:25:06] - training...\n"
     ]
    },
    {
     "name": "stderr",
     "output_type": "stream",
     "text": [
      "\n",
      "100%|██████████████████████████████████████████| 6/6 [00:00<00:00, 13.85it/s]"
     ]
    },
    {
     "name": "stdout",
     "output_type": "stream",
     "text": [
      "[2023-03-21 15:25:06] - evaluating...\n"
     ]
    },
    {
     "name": "stderr",
     "output_type": "stream",
     "text": [
      "\n",
      "Valid: 100%|██████████████████████████████████| 2/2 [00:00<00:00, 418.47it/s]"
     ]
    },
    {
     "name": "stdout",
     "output_type": "stream",
     "text": [
      "[2023-03-21 15:25:06] - train 0.026147, valid MSE Loss 1.020955, valid L1 Loss 1.010154\n",
      "[2023-03-21 15:25:06] - Epoch: 80\n",
      "[2023-03-21 15:25:06] - training...\n"
     ]
    },
    {
     "name": "stderr",
     "output_type": "stream",
     "text": [
      "\n",
      "100%|██████████████████████████████████████████| 6/6 [00:00<00:00, 13.81it/s]"
     ]
    },
    {
     "name": "stdout",
     "output_type": "stream",
     "text": [
      "[2023-03-21 15:25:07] - evaluating...\n"
     ]
    },
    {
     "name": "stderr",
     "output_type": "stream",
     "text": [
      "\n",
      "Valid: 100%|██████████████████████████████████| 2/2 [00:00<00:00, 407.13it/s]"
     ]
    },
    {
     "name": "stdout",
     "output_type": "stream",
     "text": [
      "[2023-03-21 15:25:07] - train 0.028142, valid MSE Loss 1.904612, valid L1 Loss 1.379972\n",
      "[2023-03-21 15:25:07] - Epoch: 81\n",
      "[2023-03-21 15:25:07] - training...\n"
     ]
    },
    {
     "name": "stderr",
     "output_type": "stream",
     "text": [
      "\n",
      "100%|██████████████████████████████████████████| 6/6 [00:00<00:00, 13.48it/s]"
     ]
    },
    {
     "name": "stdout",
     "output_type": "stream",
     "text": [
      "[2023-03-21 15:25:07] - evaluating...\n"
     ]
    },
    {
     "name": "stderr",
     "output_type": "stream",
     "text": [
      "\n",
      "Valid: 100%|██████████████████████████████████| 2/2 [00:00<00:00, 482.46it/s]"
     ]
    },
    {
     "name": "stdout",
     "output_type": "stream",
     "text": [
      "[2023-03-21 15:25:07] - train 0.025615, valid MSE Loss 1.579318, valid L1 Loss 1.256496\n",
      "[2023-03-21 15:25:07] - early stop\n",
      "[2023-03-21 15:25:07] - best val mse loss score: 0.0006846452306490391 @ 41\n",
      "[2023-03-21 15:25:07] - Finished.\n"
     ]
    },
    {
     "name": "stderr",
     "output_type": "stream",
     "text": [
      "\n"
     ]
    }
   ],
   "source": [
    "## test loader 제거 작업 시작\n",
    "adarnn.train(train_loader_list, valid_loader, args)"
   ]
  },
  {
   "cell_type": "code",
   "execution_count": null,
   "id": "8d4b6c04",
   "metadata": {},
   "outputs": [],
   "source": []
  },
  {
   "cell_type": "code",
   "execution_count": null,
   "id": "8f62fbc5",
   "metadata": {},
   "outputs": [],
   "source": []
  },
  {
   "cell_type": "code",
   "execution_count": null,
   "id": "fd3fc801",
   "metadata": {},
   "outputs": [],
   "source": []
  },
  {
   "cell_type": "code",
   "execution_count": null,
   "id": "8d7cf270",
   "metadata": {},
   "outputs": [],
   "source": []
  },
  {
   "cell_type": "code",
   "execution_count": null,
   "id": "5c695472",
   "metadata": {},
   "outputs": [],
   "source": []
  },
  {
   "cell_type": "code",
   "execution_count": null,
   "id": "41a651db",
   "metadata": {},
   "outputs": [],
   "source": []
  },
  {
   "cell_type": "code",
   "execution_count": null,
   "id": "8c6c01da",
   "metadata": {},
   "outputs": [],
   "source": []
  },
  {
   "cell_type": "code",
   "execution_count": null,
   "id": "c5a31e1c",
   "metadata": {},
   "outputs": [],
   "source": []
  },
  {
   "cell_type": "code",
   "execution_count": null,
   "id": "8c8fe40a",
   "metadata": {},
   "outputs": [],
   "source": []
  }
 ],
 "metadata": {
  "kernelspec": {
   "display_name": "Python 3 (ipykernel)",
   "language": "python",
   "name": "python3"
  },
  "language_info": {
   "codemirror_mode": {
    "name": "ipython",
    "version": 3
   },
   "file_extension": ".py",
   "mimetype": "text/x-python",
   "name": "python",
   "nbconvert_exporter": "python",
   "pygments_lexer": "ipython3",
   "version": "3.8.16"
  }
 },
 "nbformat": 4,
 "nbformat_minor": 5
}
