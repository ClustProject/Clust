{
 "cells": [
  {
   "cell_type": "code",
   "execution_count": 1,
   "id": "ece5149a",
   "metadata": {},
   "outputs": [],
   "source": [
    "import os\n",
    "import sys\n",
    "sys.path.append(\"../\")\n",
    "sys.path.append(\"../../\")\n",
    "sys.path.append(\"../../../\")\n",
    "sys.path.append(\"../../../../\")\n",
    "\n",
    "import pandas as pd\n",
    "import numpy as np\n",
    "import datetime\n",
    "import torch\n",
    "import math\n",
    "\n",
    "from Clust.clust.ML.regression_JS import ada_rnn\n",
    "from Clust.clust.preprocessing.imputation.basicMethod import BasicImputation\n",
    "from Clust.clust.ML.common.common import p3_training as p3\n",
    "from Clust.clust.transformation.purpose.machineLearning import LSTMData"
   ]
  },
  {
   "cell_type": "markdown",
   "id": "35ce251c",
   "metadata": {},
   "source": [
    "# Set Param"
   ]
  },
  {
   "cell_type": "code",
   "execution_count": 2,
   "id": "541f6a1f",
   "metadata": {},
   "outputs": [],
   "source": [
    "param = {\n",
    "    \"d_feat\" : 6, \n",
    "    \"class_num\" : 1, \n",
    "    \"dropout\" : 0.0, \n",
    "    \"len_seq\" : 24, \n",
    "    \"loss_type\" : \"adv\",\n",
    "    \"hidden_size\" : 64,\n",
    "    \"num_layers\" : 2\n",
    "}\n",
    "\n",
    "args = {\n",
    "    \"output_folder_name\" : \"./ada_rnn_model\",\n",
    "    \"save_model_name\" : \"test_adarnn_model_by_origin_data\",\n",
    "    \"lr\" : 5e-4,\n",
    "    \"n_epochs\" : 200,\n",
    "    \"num_layers\" : 2, \n",
    "    \"len_seq\" : 24,\n",
    "    \"pre_epoch\" : 40,\n",
    "    \"len_win\" : 0,\n",
    "    \"dw\" : 0.5,\n",
    "    \"early_stop\" :40\n",
    "}\n",
    "k = 2"
   ]
  },
  {
   "cell_type": "code",
   "execution_count": null,
   "id": "928c0109",
   "metadata": {},
   "outputs": [],
   "source": []
  },
  {
   "cell_type": "markdown",
   "id": "ab8e4ff8",
   "metadata": {},
   "source": [
    "# get Data"
   ]
  },
  {
   "cell_type": "code",
   "execution_count": 3,
   "id": "e2cc2646",
   "metadata": {},
   "outputs": [],
   "source": [
    "# read original data\n",
    "data_pickle = pd.read_pickle(\"original_data.pkl\")\n",
    "original_data = data_pickle[\"Dongsi\"]"
   ]
  },
  {
   "cell_type": "code",
   "execution_count": 4,
   "id": "a46420b7",
   "metadata": {},
   "outputs": [
    {
     "data": {
      "text/plain": [
       "(3, (1460, 24, 6), (1460,))"
      ]
     },
     "execution_count": 4,
     "metadata": {},
     "output_type": "execute_result"
    }
   ],
   "source": [
    "len(original_data), original_data[0].shape, original_data[2].shape"
   ]
  },
  {
   "cell_type": "code",
   "execution_count": 5,
   "id": "011d3f0e",
   "metadata": {},
   "outputs": [],
   "source": [
    "# original data 에서 data_x, data_y 나누기\n",
    "data_x = original_data[0]\n",
    "data_y = original_data[2]"
   ]
  },
  {
   "cell_type": "code",
   "execution_count": 6,
   "id": "e9969a10",
   "metadata": {},
   "outputs": [],
   "source": [
    "# set time\n",
    "original_data_start_time = datetime.datetime(2013, 3, 1, 0, 0)\n",
    "\n",
    "## train data time\n",
    "train_start_time = '2013-03-01 00:00:00'\n",
    "train_end_time = '2016-06-30 23:00:00'\n",
    "\n",
    "## valid data time\n",
    "valid_start_time='2016-7-2 00:00:00'\n",
    "valid_end_time='2016-10-30 23:00:00'"
   ]
  },
  {
   "cell_type": "code",
   "execution_count": 7,
   "id": "d265755e",
   "metadata": {},
   "outputs": [],
   "source": [
    "# split train & validation data -> get train_x, train_y, valid_x, valid_y\n",
    "index_start=(pd.to_datetime(train_start_time) - original_data_start_time).days\n",
    "index_end=(pd.to_datetime(train_end_time) - original_data_start_time).days\n",
    "\n",
    "train_x=data_x[index_start: index_end + 1]\n",
    "train_y=data_y[index_start: index_end + 1]\n",
    "\n",
    "index_start=(pd.to_datetime(valid_start_time) - original_data_start_time).days\n",
    "index_end=(pd.to_datetime(valid_end_time) - original_data_start_time).days\n",
    "\n",
    "valid_x=data_x[index_start: index_end + 1]\n",
    "valid_y=data_y[index_start: index_end + 1]"
   ]
  },
  {
   "cell_type": "code",
   "execution_count": 8,
   "id": "79055c8e",
   "metadata": {},
   "outputs": [
    {
     "data": {
      "text/plain": [
       "((1218, 24, 6), (1218,), (121, 24, 6), (121,))"
      ]
     },
     "execution_count": 8,
     "metadata": {},
     "output_type": "execute_result"
    }
   ],
   "source": [
    "train_x.shape, train_y.shape, valid_x.shape, valid_y.shape"
   ]
  },
  {
   "cell_type": "code",
   "execution_count": 12,
   "id": "53b780dd",
   "metadata": {},
   "outputs": [
    {
     "data": {
      "text/plain": [
       "array([0.0013624 , 0.15258856, 0.08855586, ..., 0.14986376, 0.14032698,\n",
       "       0.        ])"
      ]
     },
     "execution_count": 12,
     "metadata": {},
     "output_type": "execute_result"
    }
   ],
   "source": [
    "train_y"
   ]
  },
  {
   "cell_type": "markdown",
   "id": "af8ea6d3",
   "metadata": {},
   "source": [
    "# Data Loader"
   ]
  },
  {
   "cell_type": "code",
   "execution_count": 9,
   "id": "b17e183c",
   "metadata": {},
   "outputs": [
    {
     "name": "stdout",
     "output_type": "stream",
     "text": [
      "{'d_feat': 6, 'class_num': 1, 'dropout': 0.0, 'len_seq': 24, 'loss_type': 'adv', 'hidden_size': 64, 'num_layers': 2}\n"
     ]
    }
   ],
   "source": [
    "adarnn = ada_rnn.ClustAdaRnn(param)"
   ]
  },
  {
   "cell_type": "code",
   "execution_count": 10,
   "id": "8208ccce",
   "metadata": {},
   "outputs": [],
   "source": [
    "train_loader_list, valid_loader = adarnn.create_trainloader(train_x, train_y, valid_x, valid_y, k, train_start_time, train_end_time)"
   ]
  },
  {
   "cell_type": "markdown",
   "id": "61198958",
   "metadata": {},
   "source": [
    "# Training"
   ]
  },
  {
   "cell_type": "code",
   "execution_count": 11,
   "id": "c2db14dd",
   "metadata": {
    "scrolled": true
   },
   "outputs": [
    {
     "name": "stdout",
     "output_type": "stream",
     "text": [
      "[2023-03-16 14:25:12] - create model...\n",
      "[2023-03-16 14:25:12] - Epoch: 0\n",
      "[2023-03-16 14:25:12] - training...\n"
     ]
    },
    {
     "name": "stderr",
     "output_type": "stream",
     "text": [
      "\r",
      "  0%|                                                     | 0/6 [00:00<?, ?it/s]"
     ]
    },
    {
     "name": "stdout",
     "output_type": "stream",
     "text": [
      "torch.Size([128, 24, 6])\n",
      "Sequential(\n",
      "  (0): GRU(6, 64, batch_first=True)\n",
      "  (1): GRU(64, 64, batch_first=True)\n",
      ")\n"
     ]
    },
    {
     "name": "stderr",
     "output_type": "stream",
     "text": [
      " 33%|███████████████                              | 2/6 [00:00<00:01,  3.84it/s]"
     ]
    },
    {
     "name": "stdout",
     "output_type": "stream",
     "text": [
      "torch.Size([128, 24, 6])\n",
      "Sequential(\n",
      "  (0): GRU(6, 64, batch_first=True)\n",
      "  (1): GRU(64, 64, batch_first=True)\n",
      ")\n",
      "torch.Size([128, 24, 6])\n",
      "Sequential(\n",
      "  (0): GRU(6, 64, batch_first=True)\n",
      "  (1): GRU(64, 64, batch_first=True)\n",
      ")\n"
     ]
    },
    {
     "name": "stderr",
     "output_type": "stream",
     "text": [
      " 83%|█████████████████████████████████████▌       | 5/6 [00:00<00:00,  7.26it/s]"
     ]
    },
    {
     "name": "stdout",
     "output_type": "stream",
     "text": [
      "torch.Size([128, 24, 6])\n",
      "Sequential(\n",
      "  (0): GRU(6, 64, batch_first=True)\n",
      "  (1): GRU(64, 64, batch_first=True)\n",
      ")\n",
      "torch.Size([128, 24, 6])\n",
      "Sequential(\n",
      "  (0): GRU(6, 64, batch_first=True)\n",
      "  (1): GRU(64, 64, batch_first=True)\n",
      ")\n"
     ]
    },
    {
     "name": "stderr",
     "output_type": "stream",
     "text": [
      "\r",
      "100%|█████████████████████████████████████████████| 6/6 [00:00<00:00,  6.58it/s]"
     ]
    },
    {
     "name": "stdout",
     "output_type": "stream",
     "text": [
      "[2023-03-16 14:25:12] - evaluating...\n"
     ]
    },
    {
     "name": "stderr",
     "output_type": "stream",
     "text": [
      "\n",
      "Valid: 100%|█████████████████████████████████████| 2/2 [00:00<00:00, 188.48it/s]"
     ]
    },
    {
     "name": "stdout",
     "output_type": "stream",
     "text": [
      "torch.Size([64, 24, 6])\n",
      "Sequential(\n",
      "  (0): GRU(6, 64, batch_first=True)\n",
      "  (1): GRU(64, 64, batch_first=True)\n",
      ")\n",
      "torch.Size([57, 24, 6])\n",
      "Sequential(\n",
      "  (0): GRU(6, 64, batch_first=True)\n",
      "  (1): GRU(64, 64, batch_first=True)\n",
      ")\n",
      "[2023-03-16 14:25:12] - train 0.109903, valid MSE Loss 0.028312, valid L1 Loss 0.146555\n",
      "[2023-03-16 14:25:12] - Epoch: 1\n",
      "[2023-03-16 14:25:12] - training...\n"
     ]
    },
    {
     "name": "stderr",
     "output_type": "stream",
     "text": [
      "\n",
      " 17%|███████▌                                     | 1/6 [00:00<00:00,  9.84it/s]"
     ]
    },
    {
     "name": "stdout",
     "output_type": "stream",
     "text": [
      "torch.Size([128, 24, 6])\n",
      "Sequential(\n",
      "  (0): GRU(6, 64, batch_first=True)\n",
      "  (1): GRU(64, 64, batch_first=True)\n",
      ")\n",
      "torch.Size([128, 24, 6])\n",
      "Sequential(\n",
      "  (0): GRU(6, 64, batch_first=True)\n",
      "  (1): GRU(64, 64, batch_first=True)\n",
      ")\n"
     ]
    },
    {
     "name": "stderr",
     "output_type": "stream",
     "text": [
      " 50%|██████████████████████▌                      | 3/6 [00:00<00:00,  9.28it/s]"
     ]
    },
    {
     "name": "stdout",
     "output_type": "stream",
     "text": [
      "torch.Size([128, 24, 6])\n",
      "Sequential(\n",
      "  (0): GRU(6, 64, batch_first=True)\n",
      "  (1): GRU(64, 64, batch_first=True)\n",
      ")\n",
      "torch.Size([128, 24, 6])\n",
      "Sequential(\n",
      "  (0): GRU(6, 64, batch_first=True)\n",
      "  (1): GRU(64, 64, batch_first=True)\n",
      ")\n"
     ]
    },
    {
     "name": "stderr",
     "output_type": "stream",
     "text": [
      "100%|█████████████████████████████████████████████| 6/6 [00:00<00:00, 10.87it/s]"
     ]
    },
    {
     "name": "stdout",
     "output_type": "stream",
     "text": [
      "torch.Size([128, 24, 6])\n",
      "Sequential(\n",
      "  (0): GRU(6, 64, batch_first=True)\n",
      "  (1): GRU(64, 64, batch_first=True)\n",
      ")\n",
      "[2023-03-16 14:25:13] - evaluating...\n"
     ]
    },
    {
     "name": "stderr",
     "output_type": "stream",
     "text": [
      "\n",
      "Valid: 100%|█████████████████████████████████████| 2/2 [00:00<00:00, 210.61it/s]"
     ]
    },
    {
     "name": "stdout",
     "output_type": "stream",
     "text": [
      "torch.Size([64, 24, 6])\n",
      "Sequential(\n",
      "  (0): GRU(6, 64, batch_first=True)\n",
      "  (1): GRU(64, 64, batch_first=True)\n",
      ")\n",
      "torch.Size([57, 24, 6])\n",
      "Sequential(\n",
      "  (0): GRU(6, 64, batch_first=True)\n",
      "  (1): GRU(64, 64, batch_first=True)\n",
      ")\n",
      "[2023-03-16 14:25:13] - train 0.073822, valid MSE Loss 0.019177, valid L1 Loss 0.111635\n",
      "[2023-03-16 14:25:13] - Epoch: 2\n",
      "[2023-03-16 14:25:13] - training...\n"
     ]
    },
    {
     "name": "stderr",
     "output_type": "stream",
     "text": [
      "\n",
      "  0%|                                                     | 0/6 [00:00<?, ?it/s]"
     ]
    },
    {
     "name": "stdout",
     "output_type": "stream",
     "text": [
      "torch.Size([128, 24, 6])\n",
      "Sequential(\n",
      "  (0): GRU(6, 64, batch_first=True)\n",
      "  (1): GRU(64, 64, batch_first=True)\n",
      ")\n"
     ]
    },
    {
     "name": "stderr",
     "output_type": "stream",
     "text": [
      "\r",
      " 17%|███████▌                                     | 1/6 [00:00<00:00,  8.71it/s]"
     ]
    },
    {
     "name": "stdout",
     "output_type": "stream",
     "text": [
      "torch.Size([128, 24, 6])\n",
      "Sequential(\n",
      "  (0): GRU(6, 64, batch_first=True)\n",
      "  (1): GRU(64, 64, batch_first=True)\n",
      ")\n"
     ]
    },
    {
     "name": "stderr",
     "output_type": "stream",
     "text": [
      "\r",
      " 33%|███████████████                              | 2/6 [00:00<00:00,  8.78it/s]"
     ]
    },
    {
     "name": "stdout",
     "output_type": "stream",
     "text": [
      "torch.Size([128, 24, 6])\n",
      "Sequential(\n",
      "  (0): GRU(6, 64, batch_first=True)\n",
      "  (1): GRU(64, 64, batch_first=True)\n",
      ")\n"
     ]
    },
    {
     "name": "stderr",
     "output_type": "stream",
     "text": [
      "\r",
      " 50%|██████████████████████▌                      | 3/6 [00:00<00:00,  8.80it/s]"
     ]
    },
    {
     "name": "stdout",
     "output_type": "stream",
     "text": [
      "torch.Size([128, 24, 6])\n",
      "Sequential(\n",
      "  (0): GRU(6, 64, batch_first=True)\n",
      "  (1): GRU(64, 64, batch_first=True)\n",
      ")\n",
      "torch.Size([128, 24, 6])\n",
      "Sequential(\n",
      "  (0): GRU(6, 64, batch_first=True)\n",
      "  (1): GRU(64, 64, batch_first=True)\n",
      ")\n"
     ]
    },
    {
     "name": "stderr",
     "output_type": "stream",
     "text": [
      "100%|█████████████████████████████████████████████| 6/6 [00:00<00:00, 10.71it/s]"
     ]
    },
    {
     "name": "stdout",
     "output_type": "stream",
     "text": [
      "[2023-03-16 14:25:14] - evaluating...\n"
     ]
    },
    {
     "name": "stderr",
     "output_type": "stream",
     "text": [
      "\n",
      "Valid: 100%|█████████████████████████████████████| 2/2 [00:00<00:00, 193.93it/s]"
     ]
    },
    {
     "name": "stdout",
     "output_type": "stream",
     "text": [
      "torch.Size([64, 24, 6])\n",
      "Sequential(\n",
      "  (0): GRU(6, 64, batch_first=True)\n",
      "  (1): GRU(64, 64, batch_first=True)\n",
      ")\n",
      "torch.Size([57, 24, 6])\n",
      "Sequential(\n",
      "  (0): GRU(6, 64, batch_first=True)\n",
      "  (1): GRU(64, 64, batch_first=True)\n",
      ")\n",
      "[2023-03-16 14:25:14] - train 0.064330, valid MSE Loss 0.013275, valid L1 Loss 0.083319\n",
      "[2023-03-16 14:25:14] - Epoch: 3\n",
      "[2023-03-16 14:25:14] - training...\n"
     ]
    },
    {
     "name": "stderr",
     "output_type": "stream",
     "text": [
      "\n",
      "  0%|                                                     | 0/6 [00:00<?, ?it/s]"
     ]
    },
    {
     "name": "stdout",
     "output_type": "stream",
     "text": [
      "torch.Size([128, 24, 6])\n",
      "Sequential(\n",
      "  (0): GRU(6, 64, batch_first=True)\n",
      "  (1): GRU(64, 64, batch_first=True)\n",
      ")\n"
     ]
    },
    {
     "name": "stderr",
     "output_type": "stream",
     "text": [
      "\r",
      " 17%|███████▌                                     | 1/6 [00:00<00:00,  8.24it/s]"
     ]
    },
    {
     "name": "stdout",
     "output_type": "stream",
     "text": [
      "torch.Size([128, 24, 6])\n",
      "Sequential(\n",
      "  (0): GRU(6, 64, batch_first=True)\n",
      "  (1): GRU(64, 64, batch_first=True)\n",
      ")\n"
     ]
    },
    {
     "name": "stderr",
     "output_type": "stream",
     "text": [
      "\r",
      " 33%|███████████████                              | 2/6 [00:00<00:00,  8.77it/s]"
     ]
    },
    {
     "name": "stdout",
     "output_type": "stream",
     "text": [
      "torch.Size([128, 24, 6])\n",
      "Sequential(\n",
      "  (0): GRU(6, 64, batch_first=True)\n",
      "  (1): GRU(64, 64, batch_first=True)\n",
      ")\n"
     ]
    },
    {
     "name": "stderr",
     "output_type": "stream",
     "text": [
      "\r",
      " 50%|██████████████████████▌                      | 3/6 [00:00<00:00,  9.24it/s]"
     ]
    },
    {
     "name": "stdout",
     "output_type": "stream",
     "text": [
      "torch.Size([128, 24, 6])\n",
      "Sequential(\n",
      "  (0): GRU(6, 64, batch_first=True)\n",
      "  (1): GRU(64, 64, batch_first=True)\n",
      ")\n"
     ]
    },
    {
     "name": "stderr",
     "output_type": "stream",
     "text": [
      "\r",
      " 67%|██████████████████████████████               | 4/6 [00:00<00:00,  9.31it/s]"
     ]
    },
    {
     "name": "stdout",
     "output_type": "stream",
     "text": [
      "torch.Size([128, 24, 6])\n",
      "Sequential(\n",
      "  (0): GRU(6, 64, batch_first=True)\n",
      "  (1): GRU(64, 64, batch_first=True)\n",
      ")\n"
     ]
    },
    {
     "name": "stderr",
     "output_type": "stream",
     "text": [
      "100%|█████████████████████████████████████████████| 6/6 [00:00<00:00, 10.90it/s]"
     ]
    },
    {
     "name": "stdout",
     "output_type": "stream",
     "text": [
      "[2023-03-16 14:25:14] - evaluating...\n"
     ]
    },
    {
     "name": "stderr",
     "output_type": "stream",
     "text": [
      "\n",
      "Valid: 100%|█████████████████████████████████████| 2/2 [00:00<00:00, 246.73it/s]"
     ]
    },
    {
     "name": "stdout",
     "output_type": "stream",
     "text": [
      "torch.Size([64, 24, 6])\n",
      "Sequential(\n",
      "  (0): GRU(6, 64, batch_first=True)\n",
      "  (1): GRU(64, 64, batch_first=True)\n",
      ")\n",
      "torch.Size([57, 24, 6])\n",
      "Sequential(\n",
      "  (0): GRU(6, 64, batch_first=True)\n",
      "  (1): GRU(64, 64, batch_first=True)\n",
      ")\n",
      "[2023-03-16 14:25:14] - train 0.057619, valid MSE Loss 0.009738, valid L1 Loss 0.067533\n",
      "[2023-03-16 14:25:14] - Epoch: 4\n",
      "[2023-03-16 14:25:14] - training...\n"
     ]
    },
    {
     "name": "stderr",
     "output_type": "stream",
     "text": [
      "\n",
      "  0%|                                                     | 0/6 [00:00<?, ?it/s]"
     ]
    },
    {
     "name": "stdout",
     "output_type": "stream",
     "text": [
      "torch.Size([128, 24, 6])\n",
      "Sequential(\n",
      "  (0): GRU(6, 64, batch_first=True)\n",
      "  (1): GRU(64, 64, batch_first=True)\n",
      ")\n"
     ]
    },
    {
     "name": "stderr",
     "output_type": "stream",
     "text": [
      "\r",
      " 17%|███████▌                                     | 1/6 [00:00<00:00,  8.26it/s]"
     ]
    },
    {
     "name": "stdout",
     "output_type": "stream",
     "text": [
      "torch.Size([128, 24, 6])\n",
      "Sequential(\n",
      "  (0): GRU(6, 64, batch_first=True)\n",
      "  (1): GRU(64, 64, batch_first=True)\n",
      ")\n"
     ]
    },
    {
     "name": "stderr",
     "output_type": "stream",
     "text": [
      "\r",
      " 33%|███████████████                              | 2/6 [00:00<00:00,  8.54it/s]"
     ]
    },
    {
     "name": "stdout",
     "output_type": "stream",
     "text": [
      "torch.Size([128, 24, 6])\n",
      "Sequential(\n",
      "  (0): GRU(6, 64, batch_first=True)\n",
      "  (1): GRU(64, 64, batch_first=True)\n",
      ")\n"
     ]
    },
    {
     "name": "stderr",
     "output_type": "stream",
     "text": [
      "\r",
      " 50%|██████████████████████▌                      | 3/6 [00:00<00:00,  9.11it/s]"
     ]
    },
    {
     "name": "stdout",
     "output_type": "stream",
     "text": [
      "torch.Size([128, 24, 6])\n",
      "Sequential(\n",
      "  (0): GRU(6, 64, batch_first=True)\n",
      "  (1): GRU(64, 64, batch_first=True)\n",
      ")\n",
      "torch.Size([128, 24, 6])\n",
      "Sequential(\n",
      "  (0): GRU(6, 64, batch_first=True)\n",
      "  (1): GRU(64, 64, batch_first=True)\n",
      ")\n"
     ]
    },
    {
     "name": "stderr",
     "output_type": "stream",
     "text": [
      "100%|█████████████████████████████████████████████| 6/6 [00:00<00:00, 11.03it/s]"
     ]
    },
    {
     "name": "stdout",
     "output_type": "stream",
     "text": [
      "[2023-03-16 14:25:15] - evaluating...\n"
     ]
    },
    {
     "name": "stderr",
     "output_type": "stream",
     "text": [
      "\n",
      "Valid: 100%|█████████████████████████████████████| 2/2 [00:00<00:00, 251.65it/s]"
     ]
    },
    {
     "name": "stdout",
     "output_type": "stream",
     "text": [
      "torch.Size([64, 24, 6])\n",
      "Sequential(\n",
      "  (0): GRU(6, 64, batch_first=True)\n",
      "  (1): GRU(64, 64, batch_first=True)\n",
      ")\n",
      "torch.Size([57, 24, 6])\n",
      "Sequential(\n",
      "  (0): GRU(6, 64, batch_first=True)\n",
      "  (1): GRU(64, 64, batch_first=True)\n",
      ")\n",
      "[2023-03-16 14:25:15] - train 0.055058, valid MSE Loss 0.007686, valid L1 Loss 0.061369\n",
      "[2023-03-16 14:25:15] - Epoch: 5\n",
      "[2023-03-16 14:25:15] - training...\n"
     ]
    },
    {
     "name": "stderr",
     "output_type": "stream",
     "text": [
      "\n",
      " 17%|███████▌                                     | 1/6 [00:00<00:00,  9.00it/s]"
     ]
    },
    {
     "name": "stdout",
     "output_type": "stream",
     "text": [
      "torch.Size([128, 24, 6])\n",
      "Sequential(\n",
      "  (0): GRU(6, 64, batch_first=True)\n",
      "  (1): GRU(64, 64, batch_first=True)\n",
      ")\n",
      "torch.Size([128, 24, 6])\n",
      "Sequential(\n",
      "  (0): GRU(6, 64, batch_first=True)\n",
      "  (1): GRU(64, 64, batch_first=True)\n",
      ")\n"
     ]
    },
    {
     "name": "stderr",
     "output_type": "stream",
     "text": [
      " 67%|██████████████████████████████               | 4/6 [00:00<00:00,  9.71it/s]"
     ]
    },
    {
     "name": "stdout",
     "output_type": "stream",
     "text": [
      "torch.Size([128, 24, 6])\n",
      "Sequential(\n",
      "  (0): GRU(6, 64, batch_first=True)\n",
      "  (1): GRU(64, 64, batch_first=True)\n",
      ")\n",
      "torch.Size([128, 24, 6])\n",
      "Sequential(\n",
      "  (0): GRU(6, 64, batch_first=True)\n",
      "  (1): GRU(64, 64, batch_first=True)\n",
      ")\n",
      "torch.Size([128, 24, 6])\n",
      "Sequential(\n",
      "  (0): GRU(6, 64, batch_first=True)\n",
      "  (1): GRU(64, 64, batch_first=True)\n",
      ")\n"
     ]
    },
    {
     "name": "stderr",
     "output_type": "stream",
     "text": [
      "100%|█████████████████████████████████████████████| 6/6 [00:00<00:00, 11.43it/s]"
     ]
    },
    {
     "name": "stdout",
     "output_type": "stream",
     "text": [
      "[2023-03-16 14:25:15] - evaluating...\n"
     ]
    },
    {
     "name": "stderr",
     "output_type": "stream",
     "text": [
      "\n",
      "Valid: 100%|█████████████████████████████████████| 2/2 [00:00<00:00, 223.86it/s]"
     ]
    },
    {
     "name": "stdout",
     "output_type": "stream",
     "text": [
      "torch.Size([64, 24, 6])\n",
      "Sequential(\n",
      "  (0): GRU(6, 64, batch_first=True)\n",
      "  (1): GRU(64, 64, batch_first=True)\n",
      ")\n",
      "torch.Size([57, 24, 6])\n",
      "Sequential(\n",
      "  (0): GRU(6, 64, batch_first=True)\n",
      "  (1): GRU(64, 64, batch_first=True)\n",
      ")\n",
      "[2023-03-16 14:25:15] - train 0.045700, valid MSE Loss 0.006611, valid L1 Loss 0.062226\n",
      "[2023-03-16 14:25:15] - Epoch: 6\n",
      "[2023-03-16 14:25:15] - training...\n"
     ]
    },
    {
     "name": "stderr",
     "output_type": "stream",
     "text": [
      "\n",
      "  0%|                                                     | 0/6 [00:00<?, ?it/s]"
     ]
    },
    {
     "name": "stdout",
     "output_type": "stream",
     "text": [
      "torch.Size([128, 24, 6])\n",
      "Sequential(\n",
      "  (0): GRU(6, 64, batch_first=True)\n",
      "  (1): GRU(64, 64, batch_first=True)\n",
      ")\n",
      "torch.Size([128, 24, 6])\n",
      "Sequential(\n",
      "  (0): GRU(6, 64, batch_first=True)\n",
      "  (1): GRU(64, 64, batch_first=True)\n",
      ")\n"
     ]
    },
    {
     "name": "stderr",
     "output_type": "stream",
     "text": [
      " 50%|██████████████████████▌                      | 3/6 [00:00<00:00,  9.49it/s]"
     ]
    },
    {
     "name": "stdout",
     "output_type": "stream",
     "text": [
      "torch.Size([128, 24, 6])\n",
      "Sequential(\n",
      "  (0): GRU(6, 64, batch_first=True)\n",
      "  (1): GRU(64, 64, batch_first=True)\n",
      ")\n",
      "torch.Size([128, 24, 6])\n",
      "Sequential(\n",
      "  (0): GRU(6, 64, batch_first=True)\n",
      "  (1): GRU(64, 64, batch_first=True)\n",
      ")\n",
      "torch.Size([128, 24, 6])\n",
      "Sequential(\n",
      "  (0): GRU(6, 64, batch_first=True)\n",
      "  (1): GRU(64, 64, batch_first=True)\n",
      ")\n"
     ]
    },
    {
     "name": "stderr",
     "output_type": "stream",
     "text": [
      "100%|█████████████████████████████████████████████| 6/6 [00:00<00:00, 11.81it/s]\n"
     ]
    },
    {
     "name": "stdout",
     "output_type": "stream",
     "text": [
      "[2023-03-16 14:25:16] - evaluating...\n"
     ]
    },
    {
     "name": "stderr",
     "output_type": "stream",
     "text": [
      "Valid: 100%|█████████████████████████████████████| 2/2 [00:00<00:00, 220.94it/s]"
     ]
    },
    {
     "name": "stdout",
     "output_type": "stream",
     "text": [
      "torch.Size([64, 24, 6])\n",
      "Sequential(\n",
      "  (0): GRU(6, 64, batch_first=True)\n",
      "  (1): GRU(64, 64, batch_first=True)\n",
      ")\n",
      "torch.Size([57, 24, 6])\n",
      "Sequential(\n",
      "  (0): GRU(6, 64, batch_first=True)\n",
      "  (1): GRU(64, 64, batch_first=True)\n",
      ")\n",
      "[2023-03-16 14:25:16] - train 0.043104, valid MSE Loss 0.006530, valid L1 Loss 0.065700\n",
      "[2023-03-16 14:25:16] - Epoch: 7\n",
      "[2023-03-16 14:25:16] - training...\n"
     ]
    },
    {
     "name": "stderr",
     "output_type": "stream",
     "text": [
      "\n",
      " 17%|███████▌                                     | 1/6 [00:00<00:00,  9.87it/s]"
     ]
    },
    {
     "name": "stdout",
     "output_type": "stream",
     "text": [
      "torch.Size([128, 24, 6])\n",
      "Sequential(\n",
      "  (0): GRU(6, 64, batch_first=True)\n",
      "  (1): GRU(64, 64, batch_first=True)\n",
      ")\n",
      "torch.Size([128, 24, 6])\n",
      "Sequential(\n",
      "  (0): GRU(6, 64, batch_first=True)\n",
      "  (1): GRU(64, 64, batch_first=True)\n",
      ")\n"
     ]
    },
    {
     "name": "stderr",
     "output_type": "stream",
     "text": [
      " 67%|██████████████████████████████               | 4/6 [00:00<00:00,  9.57it/s]"
     ]
    },
    {
     "name": "stdout",
     "output_type": "stream",
     "text": [
      "torch.Size([128, 24, 6])\n",
      "Sequential(\n",
      "  (0): GRU(6, 64, batch_first=True)\n",
      "  (1): GRU(64, 64, batch_first=True)\n",
      ")\n",
      "torch.Size([128, 24, 6])\n",
      "Sequential(\n",
      "  (0): GRU(6, 64, batch_first=True)\n",
      "  (1): GRU(64, 64, batch_first=True)\n",
      ")\n"
     ]
    },
    {
     "name": "stderr",
     "output_type": "stream",
     "text": [
      "100%|█████████████████████████████████████████████| 6/6 [00:00<00:00, 11.39it/s]"
     ]
    },
    {
     "name": "stdout",
     "output_type": "stream",
     "text": [
      "torch.Size([128, 24, 6])\n",
      "Sequential(\n",
      "  (0): GRU(6, 64, batch_first=True)\n",
      "  (1): GRU(64, 64, batch_first=True)\n",
      ")\n",
      "[2023-03-16 14:25:16] - evaluating...\n"
     ]
    },
    {
     "name": "stderr",
     "output_type": "stream",
     "text": [
      "\n",
      "Valid: 100%|█████████████████████████████████████| 2/2 [00:00<00:00, 276.60it/s]"
     ]
    },
    {
     "name": "stdout",
     "output_type": "stream",
     "text": [
      "torch.Size([64, 24, 6])\n",
      "Sequential(\n",
      "  (0): GRU(6, 64, batch_first=True)\n",
      "  (1): GRU(64, 64, batch_first=True)\n",
      ")\n",
      "torch.Size([57, 24, 6])\n",
      "Sequential(\n",
      "  (0): GRU(6, 64, batch_first=True)\n",
      "  (1): GRU(64, 64, batch_first=True)\n",
      ")\n",
      "[2023-03-16 14:25:17] - train 0.038573, valid MSE Loss 0.006869, valid L1 Loss 0.068727\n",
      "[2023-03-16 14:25:17] - Epoch: 8\n",
      "[2023-03-16 14:25:17] - training...\n"
     ]
    },
    {
     "name": "stderr",
     "output_type": "stream",
     "text": [
      "\n",
      "  0%|                                                     | 0/6 [00:00<?, ?it/s]"
     ]
    },
    {
     "name": "stdout",
     "output_type": "stream",
     "text": [
      "torch.Size([128, 24, 6])\n",
      "Sequential(\n",
      "  (0): GRU(6, 64, batch_first=True)\n",
      "  (1): GRU(64, 64, batch_first=True)\n",
      ")\n"
     ]
    },
    {
     "name": "stderr",
     "output_type": "stream",
     "text": [
      "\r",
      " 17%|███████▌                                     | 1/6 [00:00<00:00,  9.17it/s]"
     ]
    },
    {
     "name": "stdout",
     "output_type": "stream",
     "text": [
      "torch.Size([128, 24, 6])\n",
      "Sequential(\n",
      "  (0): GRU(6, 64, batch_first=True)\n",
      "  (1): GRU(64, 64, batch_first=True)\n",
      ")\n"
     ]
    },
    {
     "name": "stderr",
     "output_type": "stream",
     "text": [
      "\r",
      " 33%|███████████████                              | 2/6 [00:00<00:00,  9.38it/s]"
     ]
    },
    {
     "name": "stdout",
     "output_type": "stream",
     "text": [
      "torch.Size([128, 24, 6])\n",
      "Sequential(\n",
      "  (0): GRU(6, 64, batch_first=True)\n",
      "  (1): GRU(64, 64, batch_first=True)\n",
      ")\n"
     ]
    },
    {
     "name": "stderr",
     "output_type": "stream",
     "text": [
      "\r",
      " 50%|██████████████████████▌                      | 3/6 [00:00<00:00,  9.25it/s]"
     ]
    },
    {
     "name": "stdout",
     "output_type": "stream",
     "text": [
      "torch.Size([128, 24, 6])\n",
      "Sequential(\n",
      "  (0): GRU(6, 64, batch_first=True)\n",
      "  (1): GRU(64, 64, batch_first=True)\n",
      ")\n"
     ]
    },
    {
     "name": "stderr",
     "output_type": "stream",
     "text": [
      "100%|█████████████████████████████████████████████| 6/6 [00:00<00:00, 11.42it/s]"
     ]
    },
    {
     "name": "stdout",
     "output_type": "stream",
     "text": [
      "torch.Size([128, 24, 6])\n",
      "Sequential(\n",
      "  (0): GRU(6, 64, batch_first=True)\n",
      "  (1): GRU(64, 64, batch_first=True)\n",
      ")\n",
      "[2023-03-16 14:25:17] - evaluating...\n"
     ]
    },
    {
     "name": "stderr",
     "output_type": "stream",
     "text": [
      "\n",
      "Valid: 100%|█████████████████████████████████████| 2/2 [00:00<00:00, 366.97it/s]"
     ]
    },
    {
     "name": "stdout",
     "output_type": "stream",
     "text": [
      "torch.Size([64, 24, 6])\n",
      "Sequential(\n",
      "  (0): GRU(6, 64, batch_first=True)\n",
      "  (1): GRU(64, 64, batch_first=True)\n",
      ")\n",
      "torch.Size([57, 24, 6])\n",
      "Sequential(\n",
      "  (0): GRU(6, 64, batch_first=True)\n",
      "  (1): GRU(64, 64, batch_first=True)\n",
      ")\n",
      "[2023-03-16 14:25:17] - train 0.038010, valid MSE Loss 0.006947, valid L1 Loss 0.069777\n",
      "[2023-03-16 14:25:17] - Epoch: 9\n",
      "[2023-03-16 14:25:17] - training...\n"
     ]
    },
    {
     "name": "stderr",
     "output_type": "stream",
     "text": [
      "\n",
      "  0%|                                                     | 0/6 [00:00<?, ?it/s]"
     ]
    },
    {
     "name": "stdout",
     "output_type": "stream",
     "text": [
      "torch.Size([128, 24, 6])\n",
      "Sequential(\n",
      "  (0): GRU(6, 64, batch_first=True)\n",
      "  (1): GRU(64, 64, batch_first=True)\n",
      ")\n"
     ]
    },
    {
     "name": "stderr",
     "output_type": "stream",
     "text": [
      "\r",
      " 17%|███████▌                                     | 1/6 [00:00<00:00,  9.84it/s]"
     ]
    },
    {
     "name": "stdout",
     "output_type": "stream",
     "text": [
      "torch.Size([128, 24, 6])\n",
      "Sequential(\n",
      "  (0): GRU(6, 64, batch_first=True)\n",
      "  (1): GRU(64, 64, batch_first=True)\n",
      ")\n"
     ]
    },
    {
     "name": "stderr",
     "output_type": "stream",
     "text": [
      " 50%|██████████████████████▌                      | 3/6 [00:00<00:00,  9.91it/s]"
     ]
    },
    {
     "name": "stdout",
     "output_type": "stream",
     "text": [
      "torch.Size([128, 24, 6])\n",
      "Sequential(\n",
      "  (0): GRU(6, 64, batch_first=True)\n",
      "  (1): GRU(64, 64, batch_first=True)\n",
      ")\n",
      "torch.Size([128, 24, 6])\n",
      "Sequential(\n",
      "  (0): GRU(6, 64, batch_first=True)\n",
      "  (1): GRU(64, 64, batch_first=True)\n",
      ")\n"
     ]
    },
    {
     "name": "stderr",
     "output_type": "stream",
     "text": [
      "\r",
      " 67%|██████████████████████████████               | 4/6 [00:00<00:00,  9.57it/s]"
     ]
    },
    {
     "name": "stdout",
     "output_type": "stream",
     "text": [
      "torch.Size([128, 24, 6])\n",
      "Sequential(\n",
      "  (0): GRU(6, 64, batch_first=True)\n",
      "  (1): GRU(64, 64, batch_first=True)\n",
      ")\n"
     ]
    },
    {
     "name": "stderr",
     "output_type": "stream",
     "text": [
      "100%|█████████████████████████████████████████████| 6/6 [00:00<00:00, 11.26it/s]"
     ]
    },
    {
     "name": "stdout",
     "output_type": "stream",
     "text": [
      "[2023-03-16 14:25:18] - evaluating...\n"
     ]
    },
    {
     "name": "stderr",
     "output_type": "stream",
     "text": [
      "\n",
      "Valid: 100%|█████████████████████████████████████| 2/2 [00:00<00:00, 304.44it/s]"
     ]
    },
    {
     "name": "stdout",
     "output_type": "stream",
     "text": [
      "torch.Size([64, 24, 6])\n",
      "Sequential(\n",
      "  (0): GRU(6, 64, batch_first=True)\n",
      "  (1): GRU(64, 64, batch_first=True)\n",
      ")\n",
      "torch.Size([57, 24, 6])\n",
      "Sequential(\n",
      "  (0): GRU(6, 64, batch_first=True)\n",
      "  (1): GRU(64, 64, batch_first=True)\n",
      ")\n",
      "[2023-03-16 14:25:18] - train 0.035892, valid MSE Loss 0.006935, valid L1 Loss 0.070012\n",
      "[2023-03-16 14:25:18] - Epoch: 10\n",
      "[2023-03-16 14:25:18] - training...\n"
     ]
    },
    {
     "name": "stderr",
     "output_type": "stream",
     "text": [
      "\n",
      "  0%|                                                     | 0/6 [00:00<?, ?it/s]"
     ]
    },
    {
     "name": "stdout",
     "output_type": "stream",
     "text": [
      "torch.Size([128, 24, 6])\n",
      "Sequential(\n",
      "  (0): GRU(6, 64, batch_first=True)\n",
      "  (1): GRU(64, 64, batch_first=True)\n",
      ")\n"
     ]
    },
    {
     "name": "stderr",
     "output_type": "stream",
     "text": [
      "\r",
      " 17%|███████▌                                     | 1/6 [00:00<00:00,  9.64it/s]"
     ]
    },
    {
     "name": "stdout",
     "output_type": "stream",
     "text": [
      "torch.Size([128, 24, 6])\n",
      "Sequential(\n",
      "  (0): GRU(6, 64, batch_first=True)\n",
      "  (1): GRU(64, 64, batch_first=True)\n",
      ")\n"
     ]
    },
    {
     "name": "stderr",
     "output_type": "stream",
     "text": [
      "\r",
      " 33%|███████████████                              | 2/6 [00:00<00:00,  9.15it/s]"
     ]
    },
    {
     "name": "stdout",
     "output_type": "stream",
     "text": [
      "torch.Size([128, 24, 6])\n",
      "Sequential(\n",
      "  (0): GRU(6, 64, batch_first=True)\n",
      "  (1): GRU(64, 64, batch_first=True)\n",
      ")\n"
     ]
    },
    {
     "name": "stderr",
     "output_type": "stream",
     "text": [
      "\r",
      " 50%|██████████████████████▌                      | 3/6 [00:00<00:00,  9.02it/s]"
     ]
    },
    {
     "name": "stdout",
     "output_type": "stream",
     "text": [
      "torch.Size([128, 24, 6])\n",
      "Sequential(\n",
      "  (0): GRU(6, 64, batch_first=True)\n",
      "  (1): GRU(64, 64, batch_first=True)\n",
      ")\n"
     ]
    },
    {
     "name": "stderr",
     "output_type": "stream",
     "text": [
      "\r",
      " 67%|██████████████████████████████               | 4/6 [00:00<00:00,  9.12it/s]"
     ]
    },
    {
     "name": "stdout",
     "output_type": "stream",
     "text": [
      "torch.Size([128, 24, 6])\n",
      "Sequential(\n",
      "  (0): GRU(6, 64, batch_first=True)\n",
      "  (1): GRU(64, 64, batch_first=True)\n",
      ")\n"
     ]
    },
    {
     "name": "stderr",
     "output_type": "stream",
     "text": [
      "100%|█████████████████████████████████████████████| 6/6 [00:00<00:00, 10.98it/s]"
     ]
    },
    {
     "name": "stdout",
     "output_type": "stream",
     "text": [
      "[2023-03-16 14:25:18] - evaluating...\n"
     ]
    },
    {
     "name": "stderr",
     "output_type": "stream",
     "text": [
      "\n",
      "Valid: 100%|█████████████████████████████████████| 2/2 [00:00<00:00, 312.74it/s]"
     ]
    },
    {
     "name": "stdout",
     "output_type": "stream",
     "text": [
      "torch.Size([64, 24, 6])\n",
      "Sequential(\n",
      "  (0): GRU(6, 64, batch_first=True)\n",
      "  (1): GRU(64, 64, batch_first=True)\n",
      ")\n",
      "torch.Size([57, 24, 6])\n",
      "Sequential(\n",
      "  (0): GRU(6, 64, batch_first=True)\n",
      "  (1): GRU(64, 64, batch_first=True)\n",
      ")\n",
      "[2023-03-16 14:25:18] - train 0.040872, valid MSE Loss 0.006958, valid L1 Loss 0.070221\n",
      "[2023-03-16 14:25:18] - Epoch: 11\n",
      "[2023-03-16 14:25:18] - training...\n"
     ]
    },
    {
     "name": "stderr",
     "output_type": "stream",
     "text": [
      "\n",
      "  0%|                                                     | 0/6 [00:00<?, ?it/s]"
     ]
    },
    {
     "name": "stdout",
     "output_type": "stream",
     "text": [
      "torch.Size([128, 24, 6])\n",
      "Sequential(\n",
      "  (0): GRU(6, 64, batch_first=True)\n",
      "  (1): GRU(64, 64, batch_first=True)\n",
      ")\n"
     ]
    },
    {
     "name": "stderr",
     "output_type": "stream",
     "text": [
      "\r",
      " 17%|███████▌                                     | 1/6 [00:00<00:00,  9.76it/s]"
     ]
    },
    {
     "name": "stdout",
     "output_type": "stream",
     "text": [
      "torch.Size([128, 24, 6])\n",
      "Sequential(\n",
      "  (0): GRU(6, 64, batch_first=True)\n",
      "  (1): GRU(64, 64, batch_first=True)\n",
      ")\n",
      "torch.Size([128, 24, 6])\n",
      "Sequential(\n",
      "  (0): GRU(6, 64, batch_first=True)\n",
      "  (1): GRU(64, 64, batch_first=True)\n",
      ")\n"
     ]
    },
    {
     "name": "stderr",
     "output_type": "stream",
     "text": [
      "\r",
      " 50%|██████████████████████▌                      | 3/6 [00:00<00:00, 10.21it/s]"
     ]
    },
    {
     "name": "stdout",
     "output_type": "stream",
     "text": [
      "torch.Size([128, 24, 6])\n",
      "Sequential(\n",
      "  (0): GRU(6, 64, batch_first=True)\n",
      "  (1): GRU(64, 64, batch_first=True)\n",
      ")\n",
      "torch.Size([128, 24, 6])\n",
      "Sequential(\n",
      "  (0): GRU(6, 64, batch_first=True)\n",
      "  (1): GRU(64, 64, batch_first=True)\n",
      ")\n"
     ]
    },
    {
     "name": "stderr",
     "output_type": "stream",
     "text": [
      "100%|█████████████████████████████████████████████| 6/6 [00:00<00:00, 11.72it/s]"
     ]
    },
    {
     "name": "stdout",
     "output_type": "stream",
     "text": [
      "[2023-03-16 14:25:19] - evaluating...\n"
     ]
    },
    {
     "name": "stderr",
     "output_type": "stream",
     "text": [
      "\n",
      "Valid: 100%|█████████████████████████████████████| 2/2 [00:00<00:00, 367.66it/s]"
     ]
    },
    {
     "name": "stdout",
     "output_type": "stream",
     "text": [
      "torch.Size([64, 24, 6])\n",
      "Sequential(\n",
      "  (0): GRU(6, 64, batch_first=True)\n",
      "  (1): GRU(64, 64, batch_first=True)\n",
      ")\n",
      "torch.Size([57, 24, 6])\n",
      "Sequential(\n",
      "  (0): GRU(6, 64, batch_first=True)\n",
      "  (1): GRU(64, 64, batch_first=True)\n",
      ")\n",
      "[2023-03-16 14:25:19] - train 0.031593, valid MSE Loss 0.007137, valid L1 Loss 0.071430\n",
      "[2023-03-16 14:25:19] - Epoch: 12\n",
      "[2023-03-16 14:25:19] - training...\n"
     ]
    },
    {
     "name": "stderr",
     "output_type": "stream",
     "text": [
      "\n",
      "  0%|                                                     | 0/6 [00:00<?, ?it/s]"
     ]
    },
    {
     "name": "stdout",
     "output_type": "stream",
     "text": [
      "torch.Size([128, 24, 6])\n",
      "Sequential(\n",
      "  (0): GRU(6, 64, batch_first=True)\n",
      "  (1): GRU(64, 64, batch_first=True)\n",
      ")\n"
     ]
    },
    {
     "name": "stderr",
     "output_type": "stream",
     "text": [
      "\r",
      " 17%|███████▌                                     | 1/6 [00:00<00:00,  9.59it/s]"
     ]
    },
    {
     "name": "stdout",
     "output_type": "stream",
     "text": [
      "torch.Size([128, 24, 6])\n",
      "Sequential(\n",
      "  (0): GRU(6, 64, batch_first=True)\n",
      "  (1): GRU(64, 64, batch_first=True)\n",
      ")\n"
     ]
    },
    {
     "name": "stderr",
     "output_type": "stream",
     "text": [
      "\r",
      " 33%|███████████████                              | 2/6 [00:00<00:00,  9.48it/s]"
     ]
    },
    {
     "name": "stdout",
     "output_type": "stream",
     "text": [
      "torch.Size([128, 24, 6])\n",
      "Sequential(\n",
      "  (0): GRU(6, 64, batch_first=True)\n",
      "  (1): GRU(64, 64, batch_first=True)\n",
      ")\n"
     ]
    },
    {
     "name": "stderr",
     "output_type": "stream",
     "text": [
      "\r",
      " 50%|██████████████████████▌                      | 3/6 [00:00<00:00,  9.14it/s]"
     ]
    },
    {
     "name": "stdout",
     "output_type": "stream",
     "text": [
      "torch.Size([128, 24, 6])\n",
      "Sequential(\n",
      "  (0): GRU(6, 64, batch_first=True)\n",
      "  (1): GRU(64, 64, batch_first=True)\n",
      ")\n"
     ]
    },
    {
     "name": "stderr",
     "output_type": "stream",
     "text": [
      "100%|█████████████████████████████████████████████| 6/6 [00:00<00:00, 13.01it/s]"
     ]
    },
    {
     "name": "stdout",
     "output_type": "stream",
     "text": [
      "torch.Size([128, 24, 6])\n",
      "Sequential(\n",
      "  (0): GRU(6, 64, batch_first=True)\n",
      "  (1): GRU(64, 64, batch_first=True)\n",
      ")\n"
     ]
    },
    {
     "name": "stderr",
     "output_type": "stream",
     "text": [
      "\r",
      "100%|█████████████████████████████████████████████| 6/6 [00:00<00:00, 11.28it/s]"
     ]
    },
    {
     "name": "stdout",
     "output_type": "stream",
     "text": [
      "[2023-03-16 14:25:19] - evaluating...\n"
     ]
    },
    {
     "name": "stderr",
     "output_type": "stream",
     "text": [
      "\n",
      "Valid: 100%|█████████████████████████████████████| 2/2 [00:00<00:00, 346.36it/s]"
     ]
    },
    {
     "name": "stdout",
     "output_type": "stream",
     "text": [
      "torch.Size([64, 24, 6])\n",
      "Sequential(\n",
      "  (0): GRU(6, 64, batch_first=True)\n",
      "  (1): GRU(64, 64, batch_first=True)\n",
      ")\n",
      "torch.Size([57, 24, 6])\n",
      "Sequential(\n",
      "  (0): GRU(6, 64, batch_first=True)\n",
      "  (1): GRU(64, 64, batch_first=True)\n",
      ")\n",
      "[2023-03-16 14:25:19] - train 0.034900, valid MSE Loss 0.006381, valid L1 Loss 0.066560\n",
      "[2023-03-16 14:25:19] - Epoch: 13\n",
      "[2023-03-16 14:25:19] - training...\n"
     ]
    },
    {
     "name": "stderr",
     "output_type": "stream",
     "text": [
      "\n",
      "  0%|                                                     | 0/6 [00:00<?, ?it/s]"
     ]
    },
    {
     "name": "stdout",
     "output_type": "stream",
     "text": [
      "torch.Size([128, 24, 6])\n",
      "Sequential(\n",
      "  (0): GRU(6, 64, batch_first=True)\n",
      "  (1): GRU(64, 64, batch_first=True)\n",
      ")\n"
     ]
    },
    {
     "name": "stderr",
     "output_type": "stream",
     "text": [
      "\r",
      " 17%|███████▌                                     | 1/6 [00:00<00:00,  9.66it/s]"
     ]
    },
    {
     "name": "stdout",
     "output_type": "stream",
     "text": [
      "torch.Size([128, 24, 6])\n",
      "Sequential(\n",
      "  (0): GRU(6, 64, batch_first=True)\n",
      "  (1): GRU(64, 64, batch_first=True)\n",
      ")\n"
     ]
    },
    {
     "name": "stderr",
     "output_type": "stream",
     "text": [
      "\r",
      " 33%|███████████████                              | 2/6 [00:00<00:00,  9.67it/s]"
     ]
    },
    {
     "name": "stdout",
     "output_type": "stream",
     "text": [
      "torch.Size([128, 24, 6])\n",
      "Sequential(\n",
      "  (0): GRU(6, 64, batch_first=True)\n",
      "  (1): GRU(64, 64, batch_first=True)\n",
      ")\n"
     ]
    },
    {
     "name": "stderr",
     "output_type": "stream",
     "text": [
      "\r",
      " 50%|██████████████████████▌                      | 3/6 [00:00<00:00,  9.63it/s]"
     ]
    },
    {
     "name": "stdout",
     "output_type": "stream",
     "text": [
      "torch.Size([128, 24, 6])\n",
      "Sequential(\n",
      "  (0): GRU(6, 64, batch_first=True)\n",
      "  (1): GRU(64, 64, batch_first=True)\n",
      ")\n"
     ]
    },
    {
     "name": "stderr",
     "output_type": "stream",
     "text": [
      "\r",
      " 67%|██████████████████████████████               | 4/6 [00:00<00:00,  9.63it/s]"
     ]
    },
    {
     "name": "stdout",
     "output_type": "stream",
     "text": [
      "torch.Size([128, 24, 6])\n",
      "Sequential(\n",
      "  (0): GRU(6, 64, batch_first=True)\n",
      "  (1): GRU(64, 64, batch_first=True)\n",
      ")\n"
     ]
    },
    {
     "name": "stderr",
     "output_type": "stream",
     "text": [
      "100%|█████████████████████████████████████████████| 6/6 [00:00<00:00, 11.43it/s]"
     ]
    },
    {
     "name": "stdout",
     "output_type": "stream",
     "text": [
      "[2023-03-16 14:25:20] - evaluating...\n"
     ]
    },
    {
     "name": "stderr",
     "output_type": "stream",
     "text": [
      "\n",
      "Valid: 100%|█████████████████████████████████████| 2/2 [00:00<00:00, 301.43it/s]"
     ]
    },
    {
     "name": "stdout",
     "output_type": "stream",
     "text": [
      "torch.Size([64, 24, 6])\n",
      "Sequential(\n",
      "  (0): GRU(6, 64, batch_first=True)\n",
      "  (1): GRU(64, 64, batch_first=True)\n",
      ")\n",
      "torch.Size([57, 24, 6])\n",
      "Sequential(\n",
      "  (0): GRU(6, 64, batch_first=True)\n",
      "  (1): GRU(64, 64, batch_first=True)\n",
      ")\n",
      "[2023-03-16 14:25:20] - train 0.034503, valid MSE Loss 0.008053, valid L1 Loss 0.077473\n",
      "[2023-03-16 14:25:20] - Epoch: 14\n",
      "[2023-03-16 14:25:20] - training...\n"
     ]
    },
    {
     "name": "stderr",
     "output_type": "stream",
     "text": [
      "\n",
      "  0%|                                                     | 0/6 [00:00<?, ?it/s]"
     ]
    },
    {
     "name": "stdout",
     "output_type": "stream",
     "text": [
      "torch.Size([128, 24, 6])\n",
      "Sequential(\n",
      "  (0): GRU(6, 64, batch_first=True)\n",
      "  (1): GRU(64, 64, batch_first=True)\n",
      ")\n"
     ]
    },
    {
     "name": "stderr",
     "output_type": "stream",
     "text": [
      "\r",
      " 17%|███████▌                                     | 1/6 [00:00<00:00,  9.58it/s]"
     ]
    },
    {
     "name": "stdout",
     "output_type": "stream",
     "text": [
      "torch.Size([128, 24, 6])\n",
      "Sequential(\n",
      "  (0): GRU(6, 64, batch_first=True)\n",
      "  (1): GRU(64, 64, batch_first=True)\n",
      ")\n"
     ]
    },
    {
     "name": "stderr",
     "output_type": "stream",
     "text": [
      "\r",
      " 33%|███████████████                              | 2/6 [00:00<00:00,  9.58it/s]"
     ]
    },
    {
     "name": "stdout",
     "output_type": "stream",
     "text": [
      "torch.Size([128, 24, 6])\n",
      "Sequential(\n",
      "  (0): GRU(6, 64, batch_first=True)\n",
      "  (1): GRU(64, 64, batch_first=True)\n",
      ")\n",
      "torch.Size([128, 24, 6])\n",
      "Sequential(\n",
      "  (0): GRU(6, 64, batch_first=True)\n",
      "  (1): GRU(64, 64, batch_first=True)\n",
      ")\n"
     ]
    },
    {
     "name": "stderr",
     "output_type": "stream",
     "text": [
      "\r",
      " 67%|██████████████████████████████               | 4/6 [00:00<00:00,  9.86it/s]"
     ]
    },
    {
     "name": "stdout",
     "output_type": "stream",
     "text": [
      "torch.Size([128, 24, 6])\n",
      "Sequential(\n",
      "  (0): GRU(6, 64, batch_first=True)\n",
      "  (1): GRU(64, 64, batch_first=True)\n",
      ")\n"
     ]
    },
    {
     "name": "stderr",
     "output_type": "stream",
     "text": [
      "100%|█████████████████████████████████████████████| 6/6 [00:00<00:00, 11.66it/s]"
     ]
    },
    {
     "name": "stdout",
     "output_type": "stream",
     "text": [
      "[2023-03-16 14:25:20] - evaluating...\n"
     ]
    },
    {
     "name": "stderr",
     "output_type": "stream",
     "text": [
      "\n",
      "Valid: 100%|█████████████████████████████████████| 2/2 [00:00<00:00, 370.39it/s]"
     ]
    },
    {
     "name": "stdout",
     "output_type": "stream",
     "text": [
      "torch.Size([64, 24, 6])\n",
      "Sequential(\n",
      "  (0): GRU(6, 64, batch_first=True)\n",
      "  (1): GRU(64, 64, batch_first=True)\n",
      ")\n",
      "torch.Size([57, 24, 6])\n",
      "Sequential(\n",
      "  (0): GRU(6, 64, batch_first=True)\n",
      "  (1): GRU(64, 64, batch_first=True)\n",
      ")\n",
      "[2023-03-16 14:25:20] - train 0.034600, valid MSE Loss 0.012373, valid L1 Loss 0.099128\n",
      "[2023-03-16 14:25:20] - Epoch: 15\n",
      "[2023-03-16 14:25:20] - training...\n"
     ]
    },
    {
     "name": "stderr",
     "output_type": "stream",
     "text": [
      "\n",
      "  0%|                                                     | 0/6 [00:00<?, ?it/s]"
     ]
    },
    {
     "name": "stdout",
     "output_type": "stream",
     "text": [
      "torch.Size([128, 24, 6])\n",
      "Sequential(\n",
      "  (0): GRU(6, 64, batch_first=True)\n",
      "  (1): GRU(64, 64, batch_first=True)\n",
      ")\n"
     ]
    },
    {
     "name": "stderr",
     "output_type": "stream",
     "text": [
      "\r",
      " 17%|███████▌                                     | 1/6 [00:00<00:00,  9.44it/s]"
     ]
    },
    {
     "name": "stdout",
     "output_type": "stream",
     "text": [
      "torch.Size([128, 24, 6])\n",
      "Sequential(\n",
      "  (0): GRU(6, 64, batch_first=True)\n",
      "  (1): GRU(64, 64, batch_first=True)\n",
      ")\n"
     ]
    },
    {
     "name": "stderr",
     "output_type": "stream",
     "text": [
      "\r",
      " 50%|██████████████████████▌                      | 3/6 [00:00<00:00,  9.99it/s]"
     ]
    },
    {
     "name": "stdout",
     "output_type": "stream",
     "text": [
      "torch.Size([128, 24, 6])\n",
      "Sequential(\n",
      "  (0): GRU(6, 64, batch_first=True)\n",
      "  (1): GRU(64, 64, batch_first=True)\n",
      ")\n",
      "torch.Size([128, 24, 6])\n",
      "Sequential(\n",
      "  (0): GRU(6, 64, batch_first=True)\n",
      "  (1): GRU(64, 64, batch_first=True)\n",
      ")\n"
     ]
    },
    {
     "name": "stderr",
     "output_type": "stream",
     "text": [
      "\r",
      " 67%|██████████████████████████████               | 4/6 [00:00<00:00,  9.97it/s]"
     ]
    },
    {
     "name": "stdout",
     "output_type": "stream",
     "text": [
      "torch.Size([128, 24, 6])\n",
      "Sequential(\n",
      "  (0): GRU(6, 64, batch_first=True)\n",
      "  (1): GRU(64, 64, batch_first=True)\n",
      ")\n"
     ]
    },
    {
     "name": "stderr",
     "output_type": "stream",
     "text": [
      "100%|█████████████████████████████████████████████| 6/6 [00:00<00:00, 11.80it/s]"
     ]
    },
    {
     "name": "stdout",
     "output_type": "stream",
     "text": [
      "[2023-03-16 14:25:21] - evaluating...\n"
     ]
    },
    {
     "name": "stderr",
     "output_type": "stream",
     "text": [
      "\n",
      "Valid: 100%|█████████████████████████████████████| 2/2 [00:00<00:00, 370.23it/s]"
     ]
    },
    {
     "name": "stdout",
     "output_type": "stream",
     "text": [
      "torch.Size([64, 24, 6])\n",
      "Sequential(\n",
      "  (0): GRU(6, 64, batch_first=True)\n",
      "  (1): GRU(64, 64, batch_first=True)\n",
      ")\n",
      "torch.Size([57, 24, 6])\n",
      "Sequential(\n",
      "  (0): GRU(6, 64, batch_first=True)\n",
      "  (1): GRU(64, 64, batch_first=True)\n",
      ")\n",
      "[2023-03-16 14:25:21] - train 0.033057, valid MSE Loss 0.014073, valid L1 Loss 0.106959\n",
      "[2023-03-16 14:25:21] - Epoch: 16\n",
      "[2023-03-16 14:25:21] - training...\n"
     ]
    },
    {
     "name": "stderr",
     "output_type": "stream",
     "text": [
      "\n",
      "  0%|                                                     | 0/6 [00:00<?, ?it/s]"
     ]
    },
    {
     "name": "stdout",
     "output_type": "stream",
     "text": [
      "torch.Size([128, 24, 6])\n",
      "Sequential(\n",
      "  (0): GRU(6, 64, batch_first=True)\n",
      "  (1): GRU(64, 64, batch_first=True)\n",
      ")\n"
     ]
    },
    {
     "name": "stderr",
     "output_type": "stream",
     "text": [
      "\r",
      " 17%|███████▌                                     | 1/6 [00:00<00:00,  9.70it/s]"
     ]
    },
    {
     "name": "stdout",
     "output_type": "stream",
     "text": [
      "torch.Size([128, 24, 6])\n",
      "Sequential(\n",
      "  (0): GRU(6, 64, batch_first=True)\n",
      "  (1): GRU(64, 64, batch_first=True)\n",
      ")\n"
     ]
    },
    {
     "name": "stderr",
     "output_type": "stream",
     "text": [
      "\r",
      " 33%|███████████████                              | 2/6 [00:00<00:00,  9.80it/s]"
     ]
    },
    {
     "name": "stdout",
     "output_type": "stream",
     "text": [
      "torch.Size([128, 24, 6])\n",
      "Sequential(\n",
      "  (0): GRU(6, 64, batch_first=True)\n",
      "  (1): GRU(64, 64, batch_first=True)\n",
      ")\n",
      "torch.Size([128, 24, 6])\n",
      "Sequential(\n",
      "  (0): GRU(6, 64, batch_first=True)\n",
      "  (1): GRU(64, 64, batch_first=True)\n",
      ")\n"
     ]
    },
    {
     "name": "stderr",
     "output_type": "stream",
     "text": [
      "\r",
      " 67%|██████████████████████████████               | 4/6 [00:00<00:00, 10.04it/s]"
     ]
    },
    {
     "name": "stdout",
     "output_type": "stream",
     "text": [
      "torch.Size([128, 24, 6])\n",
      "Sequential(\n",
      "  (0): GRU(6, 64, batch_first=True)\n",
      "  (1): GRU(64, 64, batch_first=True)\n",
      ")\n"
     ]
    },
    {
     "name": "stderr",
     "output_type": "stream",
     "text": [
      "100%|█████████████████████████████████████████████| 6/6 [00:00<00:00, 11.65it/s]"
     ]
    },
    {
     "name": "stdout",
     "output_type": "stream",
     "text": [
      "[2023-03-16 14:25:21] - evaluating...\n"
     ]
    },
    {
     "name": "stderr",
     "output_type": "stream",
     "text": [
      "\n",
      "Valid: 100%|█████████████████████████████████████| 2/2 [00:00<00:00, 336.54it/s]"
     ]
    },
    {
     "name": "stdout",
     "output_type": "stream",
     "text": [
      "torch.Size([64, 24, 6])\n",
      "Sequential(\n",
      "  (0): GRU(6, 64, batch_first=True)\n",
      "  (1): GRU(64, 64, batch_first=True)\n",
      ")\n",
      "torch.Size([57, 24, 6])\n",
      "Sequential(\n",
      "  (0): GRU(6, 64, batch_first=True)\n",
      "  (1): GRU(64, 64, batch_first=True)\n",
      ")\n",
      "[2023-03-16 14:25:21] - train 0.034552, valid MSE Loss 0.013547, valid L1 Loss 0.105358\n",
      "[2023-03-16 14:25:21] - Epoch: 17\n",
      "[2023-03-16 14:25:21] - training...\n"
     ]
    },
    {
     "name": "stderr",
     "output_type": "stream",
     "text": [
      "\n",
      "  0%|                                                     | 0/6 [00:00<?, ?it/s]"
     ]
    },
    {
     "name": "stdout",
     "output_type": "stream",
     "text": [
      "torch.Size([128, 24, 6])\n",
      "Sequential(\n",
      "  (0): GRU(6, 64, batch_first=True)\n",
      "  (1): GRU(64, 64, batch_first=True)\n",
      ")\n"
     ]
    },
    {
     "name": "stderr",
     "output_type": "stream",
     "text": [
      "\r",
      " 17%|███████▌                                     | 1/6 [00:00<00:00,  9.61it/s]"
     ]
    },
    {
     "name": "stdout",
     "output_type": "stream",
     "text": [
      "torch.Size([128, 24, 6])\n",
      "Sequential(\n",
      "  (0): GRU(6, 64, batch_first=True)\n",
      "  (1): GRU(64, 64, batch_first=True)\n",
      ")\n",
      "torch.Size([128, 24, 6])\n",
      "Sequential(\n",
      "  (0): GRU(6, 64, batch_first=True)\n",
      "  (1): GRU(64, 64, batch_first=True)\n",
      ")\n"
     ]
    },
    {
     "name": "stderr",
     "output_type": "stream",
     "text": [
      "\r",
      " 50%|██████████████████████▌                      | 3/6 [00:00<00:00, 10.12it/s]"
     ]
    },
    {
     "name": "stdout",
     "output_type": "stream",
     "text": [
      "torch.Size([128, 24, 6])\n",
      "Sequential(\n",
      "  (0): GRU(6, 64, batch_first=True)\n",
      "  (1): GRU(64, 64, batch_first=True)\n",
      ")\n",
      "torch.Size([128, 24, 6])\n",
      "Sequential(\n",
      "  (0): GRU(6, 64, batch_first=True)\n",
      "  (1): GRU(64, 64, batch_first=True)\n",
      ")\n"
     ]
    },
    {
     "name": "stderr",
     "output_type": "stream",
     "text": [
      "100%|█████████████████████████████████████████████| 6/6 [00:00<00:00, 11.95it/s]"
     ]
    },
    {
     "name": "stdout",
     "output_type": "stream",
     "text": [
      "[2023-03-16 14:25:22] - evaluating...\n"
     ]
    },
    {
     "name": "stderr",
     "output_type": "stream",
     "text": [
      "\n",
      "Valid: 100%|█████████████████████████████████████| 2/2 [00:00<00:00, 367.60it/s]"
     ]
    },
    {
     "name": "stdout",
     "output_type": "stream",
     "text": [
      "torch.Size([64, 24, 6])\n",
      "Sequential(\n",
      "  (0): GRU(6, 64, batch_first=True)\n",
      "  (1): GRU(64, 64, batch_first=True)\n",
      ")\n",
      "torch.Size([57, 24, 6])\n",
      "Sequential(\n",
      "  (0): GRU(6, 64, batch_first=True)\n",
      "  (1): GRU(64, 64, batch_first=True)\n",
      ")\n",
      "[2023-03-16 14:25:22] - train 0.034977, valid MSE Loss 0.013090, valid L1 Loss 0.103690\n",
      "[2023-03-16 14:25:22] - Epoch: 18\n",
      "[2023-03-16 14:25:22] - training...\n"
     ]
    },
    {
     "name": "stderr",
     "output_type": "stream",
     "text": [
      "\n",
      "  0%|                                                     | 0/6 [00:00<?, ?it/s]"
     ]
    },
    {
     "name": "stdout",
     "output_type": "stream",
     "text": [
      "torch.Size([128, 24, 6])\n",
      "Sequential(\n",
      "  (0): GRU(6, 64, batch_first=True)\n",
      "  (1): GRU(64, 64, batch_first=True)\n",
      ")\n"
     ]
    },
    {
     "name": "stderr",
     "output_type": "stream",
     "text": [
      "\r",
      " 17%|███████▌                                     | 1/6 [00:00<00:00,  9.68it/s]"
     ]
    },
    {
     "name": "stdout",
     "output_type": "stream",
     "text": [
      "torch.Size([128, 24, 6])\n",
      "Sequential(\n",
      "  (0): GRU(6, 64, batch_first=True)\n",
      "  (1): GRU(64, 64, batch_first=True)\n",
      ")\n"
     ]
    },
    {
     "name": "stderr",
     "output_type": "stream",
     "text": [
      "\r",
      " 50%|██████████████████████▌                      | 3/6 [00:00<00:00,  9.99it/s]"
     ]
    },
    {
     "name": "stdout",
     "output_type": "stream",
     "text": [
      "torch.Size([128, 24, 6])\n",
      "Sequential(\n",
      "  (0): GRU(6, 64, batch_first=True)\n",
      "  (1): GRU(64, 64, batch_first=True)\n",
      ")\n",
      "torch.Size([128, 24, 6])\n",
      "Sequential(\n",
      "  (0): GRU(6, 64, batch_first=True)\n",
      "  (1): GRU(64, 64, batch_first=True)\n",
      ")\n"
     ]
    },
    {
     "name": "stderr",
     "output_type": "stream",
     "text": [
      "\r",
      " 67%|██████████████████████████████               | 4/6 [00:00<00:00,  9.99it/s]"
     ]
    },
    {
     "name": "stdout",
     "output_type": "stream",
     "text": [
      "torch.Size([128, 24, 6])\n",
      "Sequential(\n",
      "  (0): GRU(6, 64, batch_first=True)\n",
      "  (1): GRU(64, 64, batch_first=True)\n",
      ")\n"
     ]
    },
    {
     "name": "stderr",
     "output_type": "stream",
     "text": [
      "100%|█████████████████████████████████████████████| 6/6 [00:00<00:00, 11.78it/s]"
     ]
    },
    {
     "name": "stdout",
     "output_type": "stream",
     "text": [
      "[2023-03-16 14:25:23] - evaluating...\n"
     ]
    },
    {
     "name": "stderr",
     "output_type": "stream",
     "text": [
      "\n",
      "Valid: 100%|█████████████████████████████████████| 2/2 [00:00<00:00, 370.51it/s]"
     ]
    },
    {
     "name": "stdout",
     "output_type": "stream",
     "text": [
      "torch.Size([64, 24, 6])\n",
      "Sequential(\n",
      "  (0): GRU(6, 64, batch_first=True)\n",
      "  (1): GRU(64, 64, batch_first=True)\n",
      ")\n",
      "torch.Size([57, 24, 6])\n",
      "Sequential(\n",
      "  (0): GRU(6, 64, batch_first=True)\n",
      "  (1): GRU(64, 64, batch_first=True)\n",
      ")\n",
      "[2023-03-16 14:25:23] - train 0.030221, valid MSE Loss 0.008440, valid L1 Loss 0.082137\n",
      "[2023-03-16 14:25:23] - Epoch: 19\n",
      "[2023-03-16 14:25:23] - training...\n"
     ]
    },
    {
     "name": "stderr",
     "output_type": "stream",
     "text": [
      "\n",
      "  0%|                                                     | 0/6 [00:00<?, ?it/s]"
     ]
    },
    {
     "name": "stdout",
     "output_type": "stream",
     "text": [
      "torch.Size([128, 24, 6])\n",
      "Sequential(\n",
      "  (0): GRU(6, 64, batch_first=True)\n",
      "  (1): GRU(64, 64, batch_first=True)\n",
      ")\n",
      "torch.Size([128, 24, 6])\n",
      "Sequential(\n",
      "  (0): GRU(6, 64, batch_first=True)\n",
      "  (1): GRU(64, 64, batch_first=True)\n",
      ")\n"
     ]
    },
    {
     "name": "stderr",
     "output_type": "stream",
     "text": [
      "\r",
      " 33%|███████████████                              | 2/6 [00:00<00:00, 10.24it/s]"
     ]
    },
    {
     "name": "stdout",
     "output_type": "stream",
     "text": [
      "torch.Size([128, 24, 6])\n",
      "Sequential(\n",
      "  (0): GRU(6, 64, batch_first=True)\n",
      "  (1): GRU(64, 64, batch_first=True)\n",
      ")\n"
     ]
    },
    {
     "name": "stderr",
     "output_type": "stream",
     "text": [
      "\r",
      " 67%|██████████████████████████████               | 4/6 [00:00<00:00,  9.95it/s]"
     ]
    },
    {
     "name": "stdout",
     "output_type": "stream",
     "text": [
      "torch.Size([128, 24, 6])\n",
      "Sequential(\n",
      "  (0): GRU(6, 64, batch_first=True)\n",
      "  (1): GRU(64, 64, batch_first=True)\n",
      ")\n"
     ]
    },
    {
     "name": "stderr",
     "output_type": "stream",
     "text": [
      "\r",
      " 83%|█████████████████████████████████████▌       | 5/6 [00:00<00:00,  9.96it/s]"
     ]
    },
    {
     "name": "stdout",
     "output_type": "stream",
     "text": [
      "torch.Size([128, 24, 6])\n",
      "Sequential(\n",
      "  (0): GRU(6, 64, batch_first=True)\n",
      "  (1): GRU(64, 64, batch_first=True)\n",
      ")\n"
     ]
    },
    {
     "name": "stderr",
     "output_type": "stream",
     "text": [
      "\r",
      "100%|█████████████████████████████████████████████| 6/6 [00:00<00:00, 11.81it/s]"
     ]
    },
    {
     "name": "stdout",
     "output_type": "stream",
     "text": [
      "[2023-03-16 14:25:23] - evaluating...\n"
     ]
    },
    {
     "name": "stderr",
     "output_type": "stream",
     "text": [
      "\n",
      "Valid: 100%|█████████████████████████████████████| 2/2 [00:00<00:00, 316.42it/s]"
     ]
    },
    {
     "name": "stdout",
     "output_type": "stream",
     "text": [
      "torch.Size([64, 24, 6])\n",
      "Sequential(\n",
      "  (0): GRU(6, 64, batch_first=True)\n",
      "  (1): GRU(64, 64, batch_first=True)\n",
      ")\n",
      "torch.Size([57, 24, 6])\n",
      "Sequential(\n",
      "  (0): GRU(6, 64, batch_first=True)\n",
      "  (1): GRU(64, 64, batch_first=True)\n",
      ")\n",
      "[2023-03-16 14:25:23] - train 0.029851, valid MSE Loss 0.004239, valid L1 Loss 0.055253\n",
      "[2023-03-16 14:25:23] - Epoch: 20\n",
      "[2023-03-16 14:25:23] - training...\n"
     ]
    },
    {
     "name": "stderr",
     "output_type": "stream",
     "text": [
      "\n",
      "  0%|                                                     | 0/6 [00:00<?, ?it/s]"
     ]
    },
    {
     "name": "stdout",
     "output_type": "stream",
     "text": [
      "torch.Size([128, 24, 6])\n",
      "Sequential(\n",
      "  (0): GRU(6, 64, batch_first=True)\n",
      "  (1): GRU(64, 64, batch_first=True)\n",
      ")\n"
     ]
    },
    {
     "name": "stderr",
     "output_type": "stream",
     "text": [
      "\r",
      " 17%|███████▌                                     | 1/6 [00:00<00:00,  9.91it/s]"
     ]
    },
    {
     "name": "stdout",
     "output_type": "stream",
     "text": [
      "torch.Size([128, 24, 6])\n",
      "Sequential(\n",
      "  (0): GRU(6, 64, batch_first=True)\n",
      "  (1): GRU(64, 64, batch_first=True)\n",
      ")\n"
     ]
    },
    {
     "name": "stderr",
     "output_type": "stream",
     "text": [
      "\r",
      " 33%|███████████████                              | 2/6 [00:00<00:00,  9.64it/s]"
     ]
    },
    {
     "name": "stdout",
     "output_type": "stream",
     "text": [
      "torch.Size([128, 24, 6])\n",
      "Sequential(\n",
      "  (0): GRU(6, 64, batch_first=True)\n",
      "  (1): GRU(64, 64, batch_first=True)\n",
      ")\n"
     ]
    },
    {
     "name": "stderr",
     "output_type": "stream",
     "text": [
      "\r",
      " 50%|██████████████████████▌                      | 3/6 [00:00<00:00,  9.39it/s]"
     ]
    },
    {
     "name": "stdout",
     "output_type": "stream",
     "text": [
      "torch.Size([128, 24, 6])\n",
      "Sequential(\n",
      "  (0): GRU(6, 64, batch_first=True)\n",
      "  (1): GRU(64, 64, batch_first=True)\n",
      ")\n"
     ]
    },
    {
     "name": "stderr",
     "output_type": "stream",
     "text": [
      " 83%|█████████████████████████████████████▌       | 5/6 [00:00<00:00,  9.70it/s]"
     ]
    },
    {
     "name": "stdout",
     "output_type": "stream",
     "text": [
      "torch.Size([128, 24, 6])\n",
      "Sequential(\n",
      "  (0): GRU(6, 64, batch_first=True)\n",
      "  (1): GRU(64, 64, batch_first=True)\n",
      ")\n"
     ]
    },
    {
     "name": "stderr",
     "output_type": "stream",
     "text": [
      "\r",
      "100%|█████████████████████████████████████████████| 6/6 [00:00<00:00, 11.44it/s]"
     ]
    },
    {
     "name": "stdout",
     "output_type": "stream",
     "text": [
      "[2023-03-16 14:25:24] - evaluating...\n"
     ]
    },
    {
     "name": "stderr",
     "output_type": "stream",
     "text": [
      "\n",
      "Valid: 100%|█████████████████████████████████████| 2/2 [00:00<00:00, 258.37it/s]"
     ]
    },
    {
     "name": "stdout",
     "output_type": "stream",
     "text": [
      "torch.Size([64, 24, 6])\n",
      "Sequential(\n",
      "  (0): GRU(6, 64, batch_first=True)\n",
      "  (1): GRU(64, 64, batch_first=True)\n",
      ")\n",
      "torch.Size([57, 24, 6])\n",
      "Sequential(\n",
      "  (0): GRU(6, 64, batch_first=True)\n",
      "  (1): GRU(64, 64, batch_first=True)\n",
      ")\n",
      "[2023-03-16 14:25:24] - train 0.029866, valid MSE Loss 0.008365, valid L1 Loss 0.081981\n",
      "[2023-03-16 14:25:24] - Epoch: 21\n",
      "[2023-03-16 14:25:24] - training...\n"
     ]
    },
    {
     "name": "stderr",
     "output_type": "stream",
     "text": [
      "\n",
      "  0%|                                                     | 0/6 [00:00<?, ?it/s]"
     ]
    },
    {
     "name": "stdout",
     "output_type": "stream",
     "text": [
      "torch.Size([128, 24, 6])\n",
      "Sequential(\n",
      "  (0): GRU(6, 64, batch_first=True)\n",
      "  (1): GRU(64, 64, batch_first=True)\n",
      ")\n"
     ]
    },
    {
     "name": "stderr",
     "output_type": "stream",
     "text": [
      "\r",
      " 17%|███████▌                                     | 1/6 [00:00<00:00,  8.96it/s]"
     ]
    },
    {
     "name": "stdout",
     "output_type": "stream",
     "text": [
      "torch.Size([128, 24, 6])\n",
      "Sequential(\n",
      "  (0): GRU(6, 64, batch_first=True)\n",
      "  (1): GRU(64, 64, batch_first=True)\n",
      ")\n"
     ]
    },
    {
     "name": "stderr",
     "output_type": "stream",
     "text": [
      "\r",
      " 33%|███████████████                              | 2/6 [00:00<00:00,  8.71it/s]"
     ]
    },
    {
     "name": "stdout",
     "output_type": "stream",
     "text": [
      "torch.Size([128, 24, 6])\n",
      "Sequential(\n",
      "  (0): GRU(6, 64, batch_first=True)\n",
      "  (1): GRU(64, 64, batch_first=True)\n",
      ")\n"
     ]
    },
    {
     "name": "stderr",
     "output_type": "stream",
     "text": [
      "\r",
      " 50%|██████████████████████▌                      | 3/6 [00:00<00:00,  8.95it/s]"
     ]
    },
    {
     "name": "stdout",
     "output_type": "stream",
     "text": [
      "torch.Size([128, 24, 6])\n",
      "Sequential(\n",
      "  (0): GRU(6, 64, batch_first=True)\n",
      "  (1): GRU(64, 64, batch_first=True)\n",
      ")\n"
     ]
    },
    {
     "name": "stderr",
     "output_type": "stream",
     "text": [
      "100%|█████████████████████████████████████████████| 6/6 [00:00<00:00, 11.06it/s]"
     ]
    },
    {
     "name": "stdout",
     "output_type": "stream",
     "text": [
      "torch.Size([128, 24, 6])\n",
      "Sequential(\n",
      "  (0): GRU(6, 64, batch_first=True)\n",
      "  (1): GRU(64, 64, batch_first=True)\n",
      ")\n",
      "[2023-03-16 14:25:24] - evaluating...\n"
     ]
    },
    {
     "name": "stderr",
     "output_type": "stream",
     "text": [
      "\n",
      "Valid: 100%|█████████████████████████████████████| 2/2 [00:00<00:00, 364.20it/s]"
     ]
    },
    {
     "name": "stdout",
     "output_type": "stream",
     "text": [
      "torch.Size([64, 24, 6])\n",
      "Sequential(\n",
      "  (0): GRU(6, 64, batch_first=True)\n",
      "  (1): GRU(64, 64, batch_first=True)\n",
      ")\n",
      "torch.Size([57, 24, 6])\n",
      "Sequential(\n",
      "  (0): GRU(6, 64, batch_first=True)\n",
      "  (1): GRU(64, 64, batch_first=True)\n",
      ")\n",
      "[2023-03-16 14:25:24] - train 0.030511, valid MSE Loss 0.016510, valid L1 Loss 0.119917\n",
      "[2023-03-16 14:25:24] - Epoch: 22\n",
      "[2023-03-16 14:25:24] - training...\n"
     ]
    },
    {
     "name": "stderr",
     "output_type": "stream",
     "text": [
      "\n",
      "  0%|                                                     | 0/6 [00:00<?, ?it/s]"
     ]
    },
    {
     "name": "stdout",
     "output_type": "stream",
     "text": [
      "torch.Size([128, 24, 6])\n",
      "Sequential(\n",
      "  (0): GRU(6, 64, batch_first=True)\n",
      "  (1): GRU(64, 64, batch_first=True)\n",
      ")\n",
      "torch.Size([128, 24, 6])\n",
      "Sequential(\n",
      "  (0): GRU(6, 64, batch_first=True)\n",
      "  (1): GRU(64, 64, batch_first=True)\n",
      ")\n"
     ]
    },
    {
     "name": "stderr",
     "output_type": "stream",
     "text": [
      "\r",
      " 33%|███████████████                              | 2/6 [00:00<00:00, 10.27it/s]"
     ]
    },
    {
     "name": "stdout",
     "output_type": "stream",
     "text": [
      "torch.Size([128, 24, 6])\n",
      "Sequential(\n",
      "  (0): GRU(6, 64, batch_first=True)\n",
      "  (1): GRU(64, 64, batch_first=True)\n",
      ")\n",
      "torch.Size([128, 24, 6])\n",
      "Sequential(\n",
      "  (0): GRU(6, 64, batch_first=True)\n",
      "  (1): GRU(64, 64, batch_first=True)\n",
      ")\n"
     ]
    },
    {
     "name": "stderr",
     "output_type": "stream",
     "text": [
      "\r",
      " 67%|██████████████████████████████               | 4/6 [00:00<00:00, 10.05it/s]"
     ]
    },
    {
     "name": "stdout",
     "output_type": "stream",
     "text": [
      "torch.Size([128, 24, 6])\n",
      "Sequential(\n",
      "  (0): GRU(6, 64, batch_first=True)\n",
      "  (1): GRU(64, 64, batch_first=True)\n",
      ")\n"
     ]
    },
    {
     "name": "stderr",
     "output_type": "stream",
     "text": [
      "100%|█████████████████████████████████████████████| 6/6 [00:00<00:00, 11.76it/s]"
     ]
    },
    {
     "name": "stdout",
     "output_type": "stream",
     "text": [
      "[2023-03-16 14:25:25] - evaluating...\n"
     ]
    },
    {
     "name": "stderr",
     "output_type": "stream",
     "text": [
      "\n",
      "Valid: 100%|█████████████████████████████████████| 2/2 [00:00<00:00, 283.44it/s]"
     ]
    },
    {
     "name": "stdout",
     "output_type": "stream",
     "text": [
      "torch.Size([64, 24, 6])\n",
      "Sequential(\n",
      "  (0): GRU(6, 64, batch_first=True)\n",
      "  (1): GRU(64, 64, batch_first=True)\n",
      ")\n",
      "torch.Size([57, 24, 6])\n",
      "Sequential(\n",
      "  (0): GRU(6, 64, batch_first=True)\n",
      "  (1): GRU(64, 64, batch_first=True)\n",
      ")\n",
      "[2023-03-16 14:25:25] - train 0.033223, valid MSE Loss 0.054788, valid L1 Loss 0.230682\n",
      "[2023-03-16 14:25:25] - Epoch: 23\n",
      "[2023-03-16 14:25:25] - training...\n"
     ]
    },
    {
     "name": "stderr",
     "output_type": "stream",
     "text": [
      "\n",
      "  0%|                                                     | 0/6 [00:00<?, ?it/s]"
     ]
    },
    {
     "name": "stdout",
     "output_type": "stream",
     "text": [
      "torch.Size([128, 24, 6])\n",
      "Sequential(\n",
      "  (0): GRU(6, 64, batch_first=True)\n",
      "  (1): GRU(64, 64, batch_first=True)\n",
      ")\n"
     ]
    },
    {
     "name": "stderr",
     "output_type": "stream",
     "text": [
      "\r",
      " 17%|███████▌                                     | 1/6 [00:00<00:00,  9.58it/s]"
     ]
    },
    {
     "name": "stdout",
     "output_type": "stream",
     "text": [
      "torch.Size([128, 24, 6])\n",
      "Sequential(\n",
      "  (0): GRU(6, 64, batch_first=True)\n",
      "  (1): GRU(64, 64, batch_first=True)\n",
      ")\n"
     ]
    },
    {
     "name": "stderr",
     "output_type": "stream",
     "text": [
      " 50%|██████████████████████▌                      | 3/6 [00:00<00:00,  9.78it/s]"
     ]
    },
    {
     "name": "stdout",
     "output_type": "stream",
     "text": [
      "torch.Size([128, 24, 6])\n",
      "Sequential(\n",
      "  (0): GRU(6, 64, batch_first=True)\n",
      "  (1): GRU(64, 64, batch_first=True)\n",
      ")\n",
      "torch.Size([128, 24, 6])\n",
      "Sequential(\n",
      "  (0): GRU(6, 64, batch_first=True)\n",
      "  (1): GRU(64, 64, batch_first=True)\n",
      ")\n",
      "torch.Size([128, 24, 6])\n",
      "Sequential(\n",
      "  (0): GRU(6, 64, batch_first=True)\n",
      "  (1): GRU(64, 64, batch_first=True)\n",
      ")\n"
     ]
    },
    {
     "name": "stderr",
     "output_type": "stream",
     "text": [
      "100%|█████████████████████████████████████████████| 6/6 [00:00<00:00, 11.76it/s]"
     ]
    },
    {
     "name": "stdout",
     "output_type": "stream",
     "text": [
      "[2023-03-16 14:25:25] - evaluating...\n"
     ]
    },
    {
     "name": "stderr",
     "output_type": "stream",
     "text": [
      "\n",
      "Valid: 100%|█████████████████████████████████████| 2/2 [00:00<00:00, 367.07it/s]"
     ]
    },
    {
     "name": "stdout",
     "output_type": "stream",
     "text": [
      "torch.Size([64, 24, 6])\n",
      "Sequential(\n",
      "  (0): GRU(6, 64, batch_first=True)\n",
      "  (1): GRU(64, 64, batch_first=True)\n",
      ")\n",
      "torch.Size([57, 24, 6])\n",
      "Sequential(\n",
      "  (0): GRU(6, 64, batch_first=True)\n",
      "  (1): GRU(64, 64, batch_first=True)\n",
      ")\n",
      "[2023-03-16 14:25:25] - train 0.034873, valid MSE Loss 0.058680, valid L1 Loss 0.239322\n",
      "[2023-03-16 14:25:25] - Epoch: 24\n",
      "[2023-03-16 14:25:25] - training...\n"
     ]
    },
    {
     "name": "stderr",
     "output_type": "stream",
     "text": [
      "\n",
      " 17%|███████▌                                     | 1/6 [00:00<00:00,  9.56it/s]"
     ]
    },
    {
     "name": "stdout",
     "output_type": "stream",
     "text": [
      "torch.Size([128, 24, 6])\n",
      "Sequential(\n",
      "  (0): GRU(6, 64, batch_first=True)\n",
      "  (1): GRU(64, 64, batch_first=True)\n",
      ")\n",
      "torch.Size([128, 24, 6])\n",
      "Sequential(\n",
      "  (0): GRU(6, 64, batch_first=True)\n",
      "  (1): GRU(64, 64, batch_first=True)\n",
      ")\n"
     ]
    },
    {
     "name": "stderr",
     "output_type": "stream",
     "text": [
      " 50%|██████████████████████▌                      | 3/6 [00:00<00:00,  9.54it/s]"
     ]
    },
    {
     "name": "stdout",
     "output_type": "stream",
     "text": [
      "torch.Size([128, 24, 6])\n",
      "Sequential(\n",
      "  (0): GRU(6, 64, batch_first=True)\n",
      "  (1): GRU(64, 64, batch_first=True)\n",
      ")\n",
      "torch.Size([128, 24, 6])\n",
      "Sequential(\n",
      "  (0): GRU(6, 64, batch_first=True)\n",
      "  (1): GRU(64, 64, batch_first=True)\n",
      ")\n",
      "torch.Size([128, 24, 6])\n",
      "Sequential(\n",
      "  (0): GRU(6, 64, batch_first=True)\n",
      "  (1): GRU(64, 64, batch_first=True)\n",
      ")\n"
     ]
    },
    {
     "name": "stderr",
     "output_type": "stream",
     "text": [
      "100%|█████████████████████████████████████████████| 6/6 [00:00<00:00, 11.63it/s]"
     ]
    },
    {
     "name": "stdout",
     "output_type": "stream",
     "text": [
      "[2023-03-16 14:25:26] - evaluating...\n"
     ]
    },
    {
     "name": "stderr",
     "output_type": "stream",
     "text": [
      "\n",
      "Valid: 100%|█████████████████████████████████████| 2/2 [00:00<00:00, 318.66it/s]"
     ]
    },
    {
     "name": "stdout",
     "output_type": "stream",
     "text": [
      "torch.Size([64, 24, 6])\n",
      "Sequential(\n",
      "  (0): GRU(6, 64, batch_first=True)\n",
      "  (1): GRU(64, 64, batch_first=True)\n",
      ")\n",
      "torch.Size([57, 24, 6])\n",
      "Sequential(\n",
      "  (0): GRU(6, 64, batch_first=True)\n",
      "  (1): GRU(64, 64, batch_first=True)\n",
      ")\n",
      "[2023-03-16 14:25:26] - train 0.031423, valid MSE Loss 0.022155, valid L1 Loss 0.145402\n",
      "[2023-03-16 14:25:26] - Epoch: 25\n",
      "[2023-03-16 14:25:26] - training...\n"
     ]
    },
    {
     "name": "stderr",
     "output_type": "stream",
     "text": [
      "\n",
      " 17%|███████▌                                     | 1/6 [00:00<00:00,  8.69it/s]"
     ]
    },
    {
     "name": "stdout",
     "output_type": "stream",
     "text": [
      "torch.Size([128, 24, 6])\n",
      "Sequential(\n",
      "  (0): GRU(6, 64, batch_first=True)\n",
      "  (1): GRU(64, 64, batch_first=True)\n",
      ")\n",
      "torch.Size([128, 24, 6])\n",
      "Sequential(\n",
      "  (0): GRU(6, 64, batch_first=True)\n",
      "  (1): GRU(64, 64, batch_first=True)\n",
      ")\n"
     ]
    },
    {
     "name": "stderr",
     "output_type": "stream",
     "text": [
      " 67%|██████████████████████████████               | 4/6 [00:00<00:00,  9.78it/s]"
     ]
    },
    {
     "name": "stdout",
     "output_type": "stream",
     "text": [
      "torch.Size([128, 24, 6])\n",
      "Sequential(\n",
      "  (0): GRU(6, 64, batch_first=True)\n",
      "  (1): GRU(64, 64, batch_first=True)\n",
      ")\n",
      "torch.Size([128, 24, 6])\n",
      "Sequential(\n",
      "  (0): GRU(6, 64, batch_first=True)\n",
      "  (1): GRU(64, 64, batch_first=True)\n",
      ")\n",
      "torch.Size([128, 24, 6])\n",
      "Sequential(\n",
      "  (0): GRU(6, 64, batch_first=True)\n",
      "  (1): GRU(64, 64, batch_first=True)\n",
      ")\n"
     ]
    },
    {
     "name": "stderr",
     "output_type": "stream",
     "text": [
      "100%|█████████████████████████████████████████████| 6/6 [00:00<00:00, 11.42it/s]"
     ]
    },
    {
     "name": "stdout",
     "output_type": "stream",
     "text": [
      "[2023-03-16 14:25:26] - evaluating...\n"
     ]
    },
    {
     "name": "stderr",
     "output_type": "stream",
     "text": [
      "\n",
      "Valid: 100%|█████████████████████████████████████| 2/2 [00:00<00:00, 358.90it/s]"
     ]
    },
    {
     "name": "stdout",
     "output_type": "stream",
     "text": [
      "torch.Size([64, 24, 6])\n",
      "Sequential(\n",
      "  (0): GRU(6, 64, batch_first=True)\n",
      "  (1): GRU(64, 64, batch_first=True)\n",
      ")\n",
      "torch.Size([57, 24, 6])\n",
      "Sequential(\n",
      "  (0): GRU(6, 64, batch_first=True)\n",
      "  (1): GRU(64, 64, batch_first=True)\n",
      ")\n",
      "[2023-03-16 14:25:26] - train 0.030270, valid MSE Loss 0.012221, valid L1 Loss 0.105415\n",
      "[2023-03-16 14:25:26] - Epoch: 26\n",
      "[2023-03-16 14:25:26] - training...\n"
     ]
    },
    {
     "name": "stderr",
     "output_type": "stream",
     "text": [
      "\n",
      " 17%|███████▌                                     | 1/6 [00:00<00:00,  9.87it/s]"
     ]
    },
    {
     "name": "stdout",
     "output_type": "stream",
     "text": [
      "torch.Size([128, 24, 6])\n",
      "Sequential(\n",
      "  (0): GRU(6, 64, batch_first=True)\n",
      "  (1): GRU(64, 64, batch_first=True)\n",
      ")\n",
      "torch.Size([128, 24, 6])\n",
      "Sequential(\n",
      "  (0): GRU(6, 64, batch_first=True)\n",
      "  (1): GRU(64, 64, batch_first=True)\n",
      ")\n"
     ]
    },
    {
     "name": "stderr",
     "output_type": "stream",
     "text": [
      " 67%|██████████████████████████████               | 4/6 [00:00<00:00,  9.82it/s]"
     ]
    },
    {
     "name": "stdout",
     "output_type": "stream",
     "text": [
      "torch.Size([128, 24, 6])\n",
      "Sequential(\n",
      "  (0): GRU(6, 64, batch_first=True)\n",
      "  (1): GRU(64, 64, batch_first=True)\n",
      ")\n",
      "torch.Size([128, 24, 6])\n",
      "Sequential(\n",
      "  (0): GRU(6, 64, batch_first=True)\n",
      "  (1): GRU(64, 64, batch_first=True)\n",
      ")\n"
     ]
    },
    {
     "name": "stderr",
     "output_type": "stream",
     "text": [
      "100%|█████████████████████████████████████████████| 6/6 [00:00<00:00, 11.43it/s]"
     ]
    },
    {
     "name": "stdout",
     "output_type": "stream",
     "text": [
      "torch.Size([128, 24, 6])\n",
      "Sequential(\n",
      "  (0): GRU(6, 64, batch_first=True)\n",
      "  (1): GRU(64, 64, batch_first=True)\n",
      ")\n",
      "[2023-03-16 14:25:27] - evaluating...\n"
     ]
    },
    {
     "name": "stderr",
     "output_type": "stream",
     "text": [
      "\n",
      "Valid: 100%|█████████████████████████████████████| 2/2 [00:00<00:00, 367.44it/s]"
     ]
    },
    {
     "name": "stdout",
     "output_type": "stream",
     "text": [
      "torch.Size([64, 24, 6])\n",
      "Sequential(\n",
      "  (0): GRU(6, 64, batch_first=True)\n",
      "  (1): GRU(64, 64, batch_first=True)\n",
      ")\n",
      "torch.Size([57, 24, 6])\n",
      "Sequential(\n",
      "  (0): GRU(6, 64, batch_first=True)\n",
      "  (1): GRU(64, 64, batch_first=True)\n",
      ")\n",
      "[2023-03-16 14:25:27] - train 0.027813, valid MSE Loss 0.010623, valid L1 Loss 0.096900\n",
      "[2023-03-16 14:25:27] - Epoch: 27\n",
      "[2023-03-16 14:25:27] - training...\n"
     ]
    },
    {
     "name": "stderr",
     "output_type": "stream",
     "text": [
      "\n",
      "  0%|                                                     | 0/6 [00:00<?, ?it/s]"
     ]
    },
    {
     "name": "stdout",
     "output_type": "stream",
     "text": [
      "torch.Size([128, 24, 6])\n",
      "Sequential(\n",
      "  (0): GRU(6, 64, batch_first=True)\n",
      "  (1): GRU(64, 64, batch_first=True)\n",
      ")\n"
     ]
    },
    {
     "name": "stderr",
     "output_type": "stream",
     "text": [
      "\r",
      " 17%|███████▌                                     | 1/6 [00:00<00:00,  8.73it/s]"
     ]
    },
    {
     "name": "stdout",
     "output_type": "stream",
     "text": [
      "torch.Size([128, 24, 6])\n",
      "Sequential(\n",
      "  (0): GRU(6, 64, batch_first=True)\n",
      "  (1): GRU(64, 64, batch_first=True)\n",
      ")\n"
     ]
    },
    {
     "name": "stderr",
     "output_type": "stream",
     "text": [
      " 50%|██████████████████████▌                      | 3/6 [00:00<00:00,  9.55it/s]"
     ]
    },
    {
     "name": "stdout",
     "output_type": "stream",
     "text": [
      "torch.Size([128, 24, 6])\n",
      "Sequential(\n",
      "  (0): GRU(6, 64, batch_first=True)\n",
      "  (1): GRU(64, 64, batch_first=True)\n",
      ")\n",
      "torch.Size([128, 24, 6])\n",
      "Sequential(\n",
      "  (0): GRU(6, 64, batch_first=True)\n",
      "  (1): GRU(64, 64, batch_first=True)\n",
      ")\n",
      "torch.Size([128, 24, 6])\n",
      "Sequential(\n",
      "  (0): GRU(6, 64, batch_first=True)\n",
      "  (1): GRU(64, 64, batch_first=True)\n",
      ")\n"
     ]
    },
    {
     "name": "stderr",
     "output_type": "stream",
     "text": [
      "100%|█████████████████████████████████████████████| 6/6 [00:00<00:00, 11.73it/s]"
     ]
    },
    {
     "name": "stdout",
     "output_type": "stream",
     "text": [
      "[2023-03-16 14:25:27] - evaluating...\n"
     ]
    },
    {
     "name": "stderr",
     "output_type": "stream",
     "text": [
      "\n",
      "Valid:   0%|                                              | 0/2 [00:00<?, ?it/s]"
     ]
    },
    {
     "name": "stdout",
     "output_type": "stream",
     "text": [
      "torch.Size([64, 24, 6])\n",
      "Sequential(\n",
      "  (0): GRU(6, 64, batch_first=True)\n",
      "  (1): GRU(64, 64, batch_first=True)\n",
      ")\n"
     ]
    },
    {
     "name": "stderr",
     "output_type": "stream",
     "text": [
      "\r",
      "Valid: 100%|█████████████████████████████████████| 2/2 [00:00<00:00, 327.25it/s]"
     ]
    },
    {
     "name": "stdout",
     "output_type": "stream",
     "text": [
      "torch.Size([57, 24, 6])\n",
      "Sequential(\n",
      "  (0): GRU(6, 64, batch_first=True)\n",
      "  (1): GRU(64, 64, batch_first=True)\n",
      ")\n",
      "[2023-03-16 14:25:27] - train 0.028907, valid MSE Loss 0.025290, valid L1 Loss 0.155628\n",
      "[2023-03-16 14:25:27] - Epoch: 28\n",
      "[2023-03-16 14:25:27] - training...\n"
     ]
    },
    {
     "name": "stderr",
     "output_type": "stream",
     "text": [
      "\n",
      "  0%|                                                     | 0/6 [00:00<?, ?it/s]"
     ]
    },
    {
     "name": "stdout",
     "output_type": "stream",
     "text": [
      "torch.Size([128, 24, 6])\n",
      "Sequential(\n",
      "  (0): GRU(6, 64, batch_first=True)\n",
      "  (1): GRU(64, 64, batch_first=True)\n",
      ")\n",
      "torch.Size([128, 24, 6])\n",
      "Sequential(\n",
      "  (0): GRU(6, 64, batch_first=True)\n",
      "  (1): GRU(64, 64, batch_first=True)\n",
      ")\n"
     ]
    },
    {
     "name": "stderr",
     "output_type": "stream",
     "text": [
      " 50%|██████████████████████▌                      | 3/6 [00:00<00:00,  8.86it/s]"
     ]
    },
    {
     "name": "stdout",
     "output_type": "stream",
     "text": [
      "torch.Size([128, 24, 6])\n",
      "Sequential(\n",
      "  (0): GRU(6, 64, batch_first=True)\n",
      "  (1): GRU(64, 64, batch_first=True)\n",
      ")\n",
      "torch.Size([128, 24, 6])\n",
      "Sequential(\n",
      "  (0): GRU(6, 64, batch_first=True)\n",
      "  (1): GRU(64, 64, batch_first=True)\n",
      ")\n"
     ]
    },
    {
     "name": "stderr",
     "output_type": "stream",
     "text": [
      "100%|█████████████████████████████████████████████| 6/6 [00:00<00:00, 10.63it/s]"
     ]
    },
    {
     "name": "stdout",
     "output_type": "stream",
     "text": [
      "torch.Size([128, 24, 6])\n",
      "Sequential(\n",
      "  (0): GRU(6, 64, batch_first=True)\n",
      "  (1): GRU(64, 64, batch_first=True)\n",
      ")\n",
      "[2023-03-16 14:25:28] - evaluating...\n"
     ]
    },
    {
     "name": "stderr",
     "output_type": "stream",
     "text": [
      "\n",
      "Valid: 100%|█████████████████████████████████████| 2/2 [00:00<00:00, 352.27it/s]"
     ]
    },
    {
     "name": "stdout",
     "output_type": "stream",
     "text": [
      "torch.Size([64, 24, 6])\n",
      "Sequential(\n",
      "  (0): GRU(6, 64, batch_first=True)\n",
      "  (1): GRU(64, 64, batch_first=True)\n",
      ")\n",
      "torch.Size([57, 24, 6])\n",
      "Sequential(\n",
      "  (0): GRU(6, 64, batch_first=True)\n",
      "  (1): GRU(64, 64, batch_first=True)\n",
      ")\n",
      "[2023-03-16 14:25:28] - train 0.030185, valid MSE Loss 0.052035, valid L1 Loss 0.226735\n",
      "[2023-03-16 14:25:28] - Epoch: 29\n",
      "[2023-03-16 14:25:28] - training...\n"
     ]
    },
    {
     "name": "stderr",
     "output_type": "stream",
     "text": [
      "\n",
      "  0%|                                                     | 0/6 [00:00<?, ?it/s]"
     ]
    },
    {
     "name": "stdout",
     "output_type": "stream",
     "text": [
      "torch.Size([128, 24, 6])\n",
      "Sequential(\n",
      "  (0): GRU(6, 64, batch_first=True)\n",
      "  (1): GRU(64, 64, batch_first=True)\n",
      ")\n"
     ]
    },
    {
     "name": "stderr",
     "output_type": "stream",
     "text": [
      "\r",
      " 17%|███████▌                                     | 1/6 [00:00<00:00,  8.39it/s]"
     ]
    },
    {
     "name": "stdout",
     "output_type": "stream",
     "text": [
      "torch.Size([128, 24, 6])\n",
      "Sequential(\n",
      "  (0): GRU(6, 64, batch_first=True)\n",
      "  (1): GRU(64, 64, batch_first=True)\n",
      ")\n"
     ]
    },
    {
     "name": "stderr",
     "output_type": "stream",
     "text": [
      "\r",
      " 33%|███████████████                              | 2/6 [00:00<00:00,  8.32it/s]"
     ]
    },
    {
     "name": "stdout",
     "output_type": "stream",
     "text": [
      "torch.Size([128, 24, 6])\n",
      "Sequential(\n",
      "  (0): GRU(6, 64, batch_first=True)\n",
      "  (1): GRU(64, 64, batch_first=True)\n",
      ")\n"
     ]
    },
    {
     "name": "stderr",
     "output_type": "stream",
     "text": [
      "\r",
      " 50%|██████████████████████▌                      | 3/6 [00:00<00:00,  8.40it/s]"
     ]
    },
    {
     "name": "stdout",
     "output_type": "stream",
     "text": [
      "torch.Size([128, 24, 6])\n",
      "Sequential(\n",
      "  (0): GRU(6, 64, batch_first=True)\n",
      "  (1): GRU(64, 64, batch_first=True)\n",
      ")\n"
     ]
    },
    {
     "name": "stderr",
     "output_type": "stream",
     "text": [
      "\r",
      " 67%|██████████████████████████████               | 4/6 [00:00<00:00,  8.64it/s]"
     ]
    },
    {
     "name": "stdout",
     "output_type": "stream",
     "text": [
      "torch.Size([128, 24, 6])\n",
      "Sequential(\n",
      "  (0): GRU(6, 64, batch_first=True)\n",
      "  (1): GRU(64, 64, batch_first=True)\n",
      ")\n"
     ]
    },
    {
     "name": "stderr",
     "output_type": "stream",
     "text": [
      "100%|█████████████████████████████████████████████| 6/6 [00:00<00:00, 10.20it/s]"
     ]
    },
    {
     "name": "stdout",
     "output_type": "stream",
     "text": [
      "[2023-03-16 14:25:29] - evaluating...\n"
     ]
    },
    {
     "name": "stderr",
     "output_type": "stream",
     "text": [
      "\n",
      "Valid: 100%|█████████████████████████████████████| 2/2 [00:00<00:00, 366.62it/s]"
     ]
    },
    {
     "name": "stdout",
     "output_type": "stream",
     "text": [
      "torch.Size([64, 24, 6])\n",
      "Sequential(\n",
      "  (0): GRU(6, 64, batch_first=True)\n",
      "  (1): GRU(64, 64, batch_first=True)\n",
      ")\n",
      "torch.Size([57, 24, 6])\n",
      "Sequential(\n",
      "  (0): GRU(6, 64, batch_first=True)\n",
      "  (1): GRU(64, 64, batch_first=True)\n",
      ")\n",
      "[2023-03-16 14:25:29] - train 0.026145, valid MSE Loss 0.078741, valid L1 Loss 0.279808\n",
      "[2023-03-16 14:25:29] - Epoch: 30\n",
      "[2023-03-16 14:25:29] - training...\n"
     ]
    },
    {
     "name": "stderr",
     "output_type": "stream",
     "text": [
      "\n",
      "  0%|                                                     | 0/6 [00:00<?, ?it/s]"
     ]
    },
    {
     "name": "stdout",
     "output_type": "stream",
     "text": [
      "torch.Size([128, 24, 6])\n",
      "Sequential(\n",
      "  (0): GRU(6, 64, batch_first=True)\n",
      "  (1): GRU(64, 64, batch_first=True)\n",
      ")\n",
      "torch.Size([128, 24, 6])\n",
      "Sequential(\n",
      "  (0): GRU(6, 64, batch_first=True)\n",
      "  (1): GRU(64, 64, batch_first=True)\n",
      ")\n"
     ]
    },
    {
     "name": "stderr",
     "output_type": "stream",
     "text": [
      "\r",
      " 33%|███████████████                              | 2/6 [00:00<00:00,  9.86it/s]"
     ]
    },
    {
     "name": "stdout",
     "output_type": "stream",
     "text": [
      "torch.Size([128, 24, 6])\n",
      "Sequential(\n",
      "  (0): GRU(6, 64, batch_first=True)\n",
      "  (1): GRU(64, 64, batch_first=True)\n",
      ")\n"
     ]
    },
    {
     "name": "stderr",
     "output_type": "stream",
     "text": [
      "\r",
      " 50%|██████████████████████▌                      | 3/6 [00:00<00:00,  9.44it/s]"
     ]
    },
    {
     "name": "stdout",
     "output_type": "stream",
     "text": [
      "torch.Size([128, 24, 6])\n",
      "Sequential(\n",
      "  (0): GRU(6, 64, batch_first=True)\n",
      "  (1): GRU(64, 64, batch_first=True)\n",
      ")\n"
     ]
    },
    {
     "name": "stderr",
     "output_type": "stream",
     "text": [
      "\r",
      " 67%|██████████████████████████████               | 4/6 [00:00<00:00,  9.19it/s]"
     ]
    },
    {
     "name": "stdout",
     "output_type": "stream",
     "text": [
      "torch.Size([128, 24, 6])\n",
      "Sequential(\n",
      "  (0): GRU(6, 64, batch_first=True)\n",
      "  (1): GRU(64, 64, batch_first=True)\n",
      ")\n"
     ]
    },
    {
     "name": "stderr",
     "output_type": "stream",
     "text": [
      "100%|█████████████████████████████████████████████| 6/6 [00:00<00:00, 11.06it/s]"
     ]
    },
    {
     "name": "stdout",
     "output_type": "stream",
     "text": [
      "[2023-03-16 14:25:29] - evaluating...\n"
     ]
    },
    {
     "name": "stderr",
     "output_type": "stream",
     "text": [
      "\n",
      "Valid: 100%|█████████████████████████████████████| 2/2 [00:00<00:00, 338.32it/s]"
     ]
    },
    {
     "name": "stdout",
     "output_type": "stream",
     "text": [
      "torch.Size([64, 24, 6])\n",
      "Sequential(\n",
      "  (0): GRU(6, 64, batch_first=True)\n",
      "  (1): GRU(64, 64, batch_first=True)\n",
      ")\n",
      "torch.Size([57, 24, 6])\n",
      "Sequential(\n",
      "  (0): GRU(6, 64, batch_first=True)\n",
      "  (1): GRU(64, 64, batch_first=True)\n",
      ")\n",
      "[2023-03-16 14:25:29] - train 0.025813, valid MSE Loss 0.050900, valid L1 Loss 0.222861\n",
      "[2023-03-16 14:25:29] - Epoch: 31\n",
      "[2023-03-16 14:25:29] - training...\n"
     ]
    },
    {
     "name": "stderr",
     "output_type": "stream",
     "text": [
      "\n",
      "  0%|                                                     | 0/6 [00:00<?, ?it/s]"
     ]
    },
    {
     "name": "stdout",
     "output_type": "stream",
     "text": [
      "torch.Size([128, 24, 6])\n",
      "Sequential(\n",
      "  (0): GRU(6, 64, batch_first=True)\n",
      "  (1): GRU(64, 64, batch_first=True)\n",
      ")\n"
     ]
    },
    {
     "name": "stderr",
     "output_type": "stream",
     "text": [
      "\r",
      " 17%|███████▌                                     | 1/6 [00:00<00:00,  8.54it/s]"
     ]
    },
    {
     "name": "stdout",
     "output_type": "stream",
     "text": [
      "torch.Size([128, 24, 6])\n",
      "Sequential(\n",
      "  (0): GRU(6, 64, batch_first=True)\n",
      "  (1): GRU(64, 64, batch_first=True)\n",
      ")\n"
     ]
    },
    {
     "name": "stderr",
     "output_type": "stream",
     "text": [
      "\r",
      " 33%|███████████████                              | 2/6 [00:00<00:00,  8.52it/s]"
     ]
    },
    {
     "name": "stdout",
     "output_type": "stream",
     "text": [
      "torch.Size([128, 24, 6])\n",
      "Sequential(\n",
      "  (0): GRU(6, 64, batch_first=True)\n",
      "  (1): GRU(64, 64, batch_first=True)\n",
      ")\n"
     ]
    },
    {
     "name": "stderr",
     "output_type": "stream",
     "text": [
      "\r",
      " 50%|██████████████████████▌                      | 3/6 [00:00<00:00,  8.68it/s]"
     ]
    },
    {
     "name": "stdout",
     "output_type": "stream",
     "text": [
      "torch.Size([128, 24, 6])\n",
      "Sequential(\n",
      "  (0): GRU(6, 64, batch_first=True)\n",
      "  (1): GRU(64, 64, batch_first=True)\n",
      ")\n"
     ]
    },
    {
     "name": "stderr",
     "output_type": "stream",
     "text": [
      "\r",
      " 67%|██████████████████████████████               | 4/6 [00:00<00:00,  8.54it/s]"
     ]
    },
    {
     "name": "stdout",
     "output_type": "stream",
     "text": [
      "torch.Size([128, 24, 6])\n",
      "Sequential(\n",
      "  (0): GRU(6, 64, batch_first=True)\n",
      "  (1): GRU(64, 64, batch_first=True)\n",
      ")\n"
     ]
    },
    {
     "name": "stderr",
     "output_type": "stream",
     "text": [
      "100%|█████████████████████████████████████████████| 6/6 [00:00<00:00, 10.40it/s]"
     ]
    },
    {
     "name": "stdout",
     "output_type": "stream",
     "text": [
      "[2023-03-16 14:25:30] - evaluating...\n"
     ]
    },
    {
     "name": "stderr",
     "output_type": "stream",
     "text": [
      "\n",
      "Valid: 100%|█████████████████████████████████████| 2/2 [00:00<00:00, 315.88it/s]"
     ]
    },
    {
     "name": "stdout",
     "output_type": "stream",
     "text": [
      "torch.Size([64, 24, 6])\n",
      "Sequential(\n",
      "  (0): GRU(6, 64, batch_first=True)\n",
      "  (1): GRU(64, 64, batch_first=True)\n",
      ")\n",
      "torch.Size([57, 24, 6])\n",
      "Sequential(\n",
      "  (0): GRU(6, 64, batch_first=True)\n",
      "  (1): GRU(64, 64, batch_first=True)\n",
      ")\n",
      "[2023-03-16 14:25:30] - train 0.030380, valid MSE Loss 0.056431, valid L1 Loss 0.236588\n",
      "[2023-03-16 14:25:30] - Epoch: 32\n",
      "[2023-03-16 14:25:30] - training...\n"
     ]
    },
    {
     "name": "stderr",
     "output_type": "stream",
     "text": [
      "\n",
      "  0%|                                                     | 0/6 [00:00<?, ?it/s]"
     ]
    },
    {
     "name": "stdout",
     "output_type": "stream",
     "text": [
      "torch.Size([128, 24, 6])\n",
      "Sequential(\n",
      "  (0): GRU(6, 64, batch_first=True)\n",
      "  (1): GRU(64, 64, batch_first=True)\n",
      ")\n"
     ]
    },
    {
     "name": "stderr",
     "output_type": "stream",
     "text": [
      "\r",
      " 17%|███████▌                                     | 1/6 [00:00<00:00,  9.88it/s]"
     ]
    },
    {
     "name": "stdout",
     "output_type": "stream",
     "text": [
      "torch.Size([128, 24, 6])\n",
      "Sequential(\n",
      "  (0): GRU(6, 64, batch_first=True)\n",
      "  (1): GRU(64, 64, batch_first=True)\n",
      ")\n"
     ]
    },
    {
     "name": "stderr",
     "output_type": "stream",
     "text": [
      " 50%|██████████████████████▌                      | 3/6 [00:00<00:00,  9.85it/s]"
     ]
    },
    {
     "name": "stdout",
     "output_type": "stream",
     "text": [
      "torch.Size([128, 24, 6])\n",
      "Sequential(\n",
      "  (0): GRU(6, 64, batch_first=True)\n",
      "  (1): GRU(64, 64, batch_first=True)\n",
      ")\n",
      "torch.Size([128, 24, 6])\n",
      "Sequential(\n",
      "  (0): GRU(6, 64, batch_first=True)\n",
      "  (1): GRU(64, 64, batch_first=True)\n",
      ")\n"
     ]
    },
    {
     "name": "stderr",
     "output_type": "stream",
     "text": [
      "\r",
      " 67%|██████████████████████████████               | 4/6 [00:00<00:00,  9.70it/s]"
     ]
    },
    {
     "name": "stdout",
     "output_type": "stream",
     "text": [
      "torch.Size([128, 24, 6])\n",
      "Sequential(\n",
      "  (0): GRU(6, 64, batch_first=True)\n",
      "  (1): GRU(64, 64, batch_first=True)\n",
      ")\n"
     ]
    },
    {
     "name": "stderr",
     "output_type": "stream",
     "text": [
      "100%|█████████████████████████████████████████████| 6/6 [00:00<00:00, 11.58it/s]"
     ]
    },
    {
     "name": "stdout",
     "output_type": "stream",
     "text": [
      "[2023-03-16 14:25:30] - evaluating...\n"
     ]
    },
    {
     "name": "stderr",
     "output_type": "stream",
     "text": [
      "\n",
      "Valid: 100%|█████████████████████████████████████| 2/2 [00:00<00:00, 314.65it/s]"
     ]
    },
    {
     "name": "stdout",
     "output_type": "stream",
     "text": [
      "torch.Size([64, 24, 6])\n",
      "Sequential(\n",
      "  (0): GRU(6, 64, batch_first=True)\n",
      "  (1): GRU(64, 64, batch_first=True)\n",
      ")\n",
      "torch.Size([57, 24, 6])\n",
      "Sequential(\n",
      "  (0): GRU(6, 64, batch_first=True)\n",
      "  (1): GRU(64, 64, batch_first=True)\n",
      ")\n",
      "[2023-03-16 14:25:30] - train 0.032711, valid MSE Loss 0.022334, valid L1 Loss 0.146559\n",
      "[2023-03-16 14:25:30] - Epoch: 33\n",
      "[2023-03-16 14:25:30] - training...\n"
     ]
    },
    {
     "name": "stderr",
     "output_type": "stream",
     "text": [
      "\n",
      "  0%|                                                     | 0/6 [00:00<?, ?it/s]"
     ]
    },
    {
     "name": "stdout",
     "output_type": "stream",
     "text": [
      "torch.Size([128, 24, 6])\n",
      "Sequential(\n",
      "  (0): GRU(6, 64, batch_first=True)\n",
      "  (1): GRU(64, 64, batch_first=True)\n",
      ")\n"
     ]
    },
    {
     "name": "stderr",
     "output_type": "stream",
     "text": [
      "\r",
      " 17%|███████▌                                     | 1/6 [00:00<00:00,  9.68it/s]"
     ]
    },
    {
     "name": "stdout",
     "output_type": "stream",
     "text": [
      "torch.Size([128, 24, 6])\n",
      "Sequential(\n",
      "  (0): GRU(6, 64, batch_first=True)\n",
      "  (1): GRU(64, 64, batch_first=True)\n",
      ")\n"
     ]
    },
    {
     "name": "stderr",
     "output_type": "stream",
     "text": [
      " 50%|██████████████████████▌                      | 3/6 [00:00<00:00,  9.83it/s]"
     ]
    },
    {
     "name": "stdout",
     "output_type": "stream",
     "text": [
      "torch.Size([128, 24, 6])\n",
      "Sequential(\n",
      "  (0): GRU(6, 64, batch_first=True)\n",
      "  (1): GRU(64, 64, batch_first=True)\n",
      ")\n"
     ]
    },
    {
     "name": "stderr",
     "output_type": "stream",
     "text": [
      "\r",
      " 67%|██████████████████████████████               | 4/6 [00:00<00:00,  9.83it/s]"
     ]
    },
    {
     "name": "stdout",
     "output_type": "stream",
     "text": [
      "torch.Size([128, 24, 6])\n",
      "Sequential(\n",
      "  (0): GRU(6, 64, batch_first=True)\n",
      "  (1): GRU(64, 64, batch_first=True)\n",
      ")\n"
     ]
    },
    {
     "name": "stderr",
     "output_type": "stream",
     "text": [
      "\r",
      " 83%|█████████████████████████████████████▌       | 5/6 [00:00<00:00,  9.84it/s]"
     ]
    },
    {
     "name": "stdout",
     "output_type": "stream",
     "text": [
      "torch.Size([128, 24, 6])\n",
      "Sequential(\n",
      "  (0): GRU(6, 64, batch_first=True)\n",
      "  (1): GRU(64, 64, batch_first=True)\n",
      ")\n"
     ]
    },
    {
     "name": "stderr",
     "output_type": "stream",
     "text": [
      "\r",
      "100%|█████████████████████████████████████████████| 6/6 [00:00<00:00, 11.66it/s]"
     ]
    },
    {
     "name": "stdout",
     "output_type": "stream",
     "text": [
      "[2023-03-16 14:25:31] - evaluating...\n"
     ]
    },
    {
     "name": "stderr",
     "output_type": "stream",
     "text": [
      "\n",
      "Valid: 100%|█████████████████████████████████████| 2/2 [00:00<00:00, 379.21it/s]"
     ]
    },
    {
     "name": "stdout",
     "output_type": "stream",
     "text": [
      "torch.Size([64, 24, 6])\n",
      "Sequential(\n",
      "  (0): GRU(6, 64, batch_first=True)\n",
      "  (1): GRU(64, 64, batch_first=True)\n",
      ")\n",
      "torch.Size([57, 24, 6])\n",
      "Sequential(\n",
      "  (0): GRU(6, 64, batch_first=True)\n",
      "  (1): GRU(64, 64, batch_first=True)\n",
      ")\n",
      "[2023-03-16 14:25:31] - train 0.029570, valid MSE Loss 0.048079, valid L1 Loss 0.217651\n",
      "[2023-03-16 14:25:31] - Epoch: 34\n",
      "[2023-03-16 14:25:31] - training...\n"
     ]
    },
    {
     "name": "stderr",
     "output_type": "stream",
     "text": [
      "\n",
      "  0%|                                                     | 0/6 [00:00<?, ?it/s]"
     ]
    },
    {
     "name": "stdout",
     "output_type": "stream",
     "text": [
      "torch.Size([128, 24, 6])\n",
      "Sequential(\n",
      "  (0): GRU(6, 64, batch_first=True)\n",
      "  (1): GRU(64, 64, batch_first=True)\n",
      ")\n"
     ]
    },
    {
     "name": "stderr",
     "output_type": "stream",
     "text": [
      "\r",
      " 17%|███████▌                                     | 1/6 [00:00<00:00,  9.80it/s]"
     ]
    },
    {
     "name": "stdout",
     "output_type": "stream",
     "text": [
      "torch.Size([128, 24, 6])\n",
      "Sequential(\n",
      "  (0): GRU(6, 64, batch_first=True)\n",
      "  (1): GRU(64, 64, batch_first=True)\n",
      ")\n"
     ]
    },
    {
     "name": "stderr",
     "output_type": "stream",
     "text": [
      "\r",
      " 33%|███████████████                              | 2/6 [00:00<00:00,  9.67it/s]"
     ]
    },
    {
     "name": "stdout",
     "output_type": "stream",
     "text": [
      "torch.Size([128, 24, 6])\n",
      "Sequential(\n",
      "  (0): GRU(6, 64, batch_first=True)\n",
      "  (1): GRU(64, 64, batch_first=True)\n",
      ")\n"
     ]
    },
    {
     "name": "stderr",
     "output_type": "stream",
     "text": [
      "\r",
      " 50%|██████████████████████▌                      | 3/6 [00:00<00:00,  9.46it/s]"
     ]
    },
    {
     "name": "stdout",
     "output_type": "stream",
     "text": [
      "torch.Size([128, 24, 6])\n",
      "Sequential(\n",
      "  (0): GRU(6, 64, batch_first=True)\n",
      "  (1): GRU(64, 64, batch_first=True)\n",
      ")\n"
     ]
    },
    {
     "name": "stderr",
     "output_type": "stream",
     "text": [
      "100%|█████████████████████████████████████████████| 6/6 [00:00<00:00, 11.56it/s]"
     ]
    },
    {
     "name": "stdout",
     "output_type": "stream",
     "text": [
      "torch.Size([128, 24, 6])\n",
      "Sequential(\n",
      "  (0): GRU(6, 64, batch_first=True)\n",
      "  (1): GRU(64, 64, batch_first=True)\n",
      ")\n",
      "[2023-03-16 14:25:31] - evaluating...\n"
     ]
    },
    {
     "name": "stderr",
     "output_type": "stream",
     "text": [
      "\n",
      "Valid: 100%|█████████████████████████████████████| 2/2 [00:00<00:00, 356.51it/s]"
     ]
    },
    {
     "name": "stdout",
     "output_type": "stream",
     "text": [
      "torch.Size([64, 24, 6])\n",
      "Sequential(\n",
      "  (0): GRU(6, 64, batch_first=True)\n",
      "  (1): GRU(64, 64, batch_first=True)\n",
      ")\n",
      "torch.Size([57, 24, 6])\n",
      "Sequential(\n",
      "  (0): GRU(6, 64, batch_first=True)\n",
      "  (1): GRU(64, 64, batch_first=True)\n",
      ")\n",
      "[2023-03-16 14:25:31] - train 0.030835, valid MSE Loss 0.059583, valid L1 Loss 0.242947\n",
      "[2023-03-16 14:25:31] - Epoch: 35\n",
      "[2023-03-16 14:25:31] - training...\n"
     ]
    },
    {
     "name": "stderr",
     "output_type": "stream",
     "text": [
      "\n",
      "  0%|                                                     | 0/6 [00:00<?, ?it/s]"
     ]
    },
    {
     "name": "stdout",
     "output_type": "stream",
     "text": [
      "torch.Size([128, 24, 6])\n",
      "Sequential(\n",
      "  (0): GRU(6, 64, batch_first=True)\n",
      "  (1): GRU(64, 64, batch_first=True)\n",
      ")\n"
     ]
    },
    {
     "name": "stderr",
     "output_type": "stream",
     "text": [
      "\r",
      " 17%|███████▌                                     | 1/6 [00:00<00:00,  9.74it/s]"
     ]
    },
    {
     "name": "stdout",
     "output_type": "stream",
     "text": [
      "torch.Size([128, 24, 6])\n",
      "Sequential(\n",
      "  (0): GRU(6, 64, batch_first=True)\n",
      "  (1): GRU(64, 64, batch_first=True)\n",
      ")\n"
     ]
    },
    {
     "name": "stderr",
     "output_type": "stream",
     "text": [
      "\r",
      " 33%|███████████████                              | 2/6 [00:00<00:00,  9.38it/s]"
     ]
    },
    {
     "name": "stdout",
     "output_type": "stream",
     "text": [
      "torch.Size([128, 24, 6])\n",
      "Sequential(\n",
      "  (0): GRU(6, 64, batch_first=True)\n",
      "  (1): GRU(64, 64, batch_first=True)\n",
      ")\n"
     ]
    },
    {
     "name": "stderr",
     "output_type": "stream",
     "text": [
      "\r",
      " 50%|██████████████████████▌                      | 3/6 [00:00<00:00,  9.15it/s]"
     ]
    },
    {
     "name": "stdout",
     "output_type": "stream",
     "text": [
      "torch.Size([128, 24, 6])\n",
      "Sequential(\n",
      "  (0): GRU(6, 64, batch_first=True)\n",
      "  (1): GRU(64, 64, batch_first=True)\n",
      ")\n"
     ]
    },
    {
     "name": "stderr",
     "output_type": "stream",
     "text": [
      "100%|█████████████████████████████████████████████| 6/6 [00:00<00:00, 11.43it/s]\n"
     ]
    },
    {
     "name": "stdout",
     "output_type": "stream",
     "text": [
      "torch.Size([128, 24, 6])\n",
      "Sequential(\n",
      "  (0): GRU(6, 64, batch_first=True)\n",
      "  (1): GRU(64, 64, batch_first=True)\n",
      ")\n",
      "[2023-03-16 14:25:32] - evaluating...\n"
     ]
    },
    {
     "name": "stderr",
     "output_type": "stream",
     "text": [
      "Valid: 100%|█████████████████████████████████████| 2/2 [00:00<00:00, 385.90it/s]"
     ]
    },
    {
     "name": "stdout",
     "output_type": "stream",
     "text": [
      "torch.Size([64, 24, 6])\n",
      "Sequential(\n",
      "  (0): GRU(6, 64, batch_first=True)\n",
      "  (1): GRU(64, 64, batch_first=True)\n",
      ")\n",
      "torch.Size([57, 24, 6])\n",
      "Sequential(\n",
      "  (0): GRU(6, 64, batch_first=True)\n",
      "  (1): GRU(64, 64, batch_first=True)\n",
      ")\n",
      "[2023-03-16 14:25:32] - train 0.027649, valid MSE Loss 0.070853, valid L1 Loss 0.264545\n",
      "[2023-03-16 14:25:32] - Epoch: 36\n",
      "[2023-03-16 14:25:32] - training...\n"
     ]
    },
    {
     "name": "stderr",
     "output_type": "stream",
     "text": [
      "\n",
      "  0%|                                                     | 0/6 [00:00<?, ?it/s]"
     ]
    },
    {
     "name": "stdout",
     "output_type": "stream",
     "text": [
      "torch.Size([128, 24, 6])\n",
      "Sequential(\n",
      "  (0): GRU(6, 64, batch_first=True)\n",
      "  (1): GRU(64, 64, batch_first=True)\n",
      ")\n",
      "torch.Size([128, 24, 6])\n",
      "Sequential(\n",
      "  (0): GRU(6, 64, batch_first=True)\n",
      "  (1): GRU(64, 64, batch_first=True)\n",
      ")\n"
     ]
    },
    {
     "name": "stderr",
     "output_type": "stream",
     "text": [
      "\r",
      " 33%|███████████████                              | 2/6 [00:00<00:00, 10.15it/s]"
     ]
    },
    {
     "name": "stdout",
     "output_type": "stream",
     "text": [
      "torch.Size([128, 24, 6])\n",
      "Sequential(\n",
      "  (0): GRU(6, 64, batch_first=True)\n",
      "  (1): GRU(64, 64, batch_first=True)\n",
      ")\n",
      "torch.Size([128, 24, 6])\n",
      "Sequential(\n",
      "  (0): GRU(6, 64, batch_first=True)\n",
      "  (1): GRU(64, 64, batch_first=True)\n",
      ")\n"
     ]
    },
    {
     "name": "stderr",
     "output_type": "stream",
     "text": [
      "100%|█████████████████████████████████████████████| 6/6 [00:00<00:00, 11.77it/s]"
     ]
    },
    {
     "name": "stdout",
     "output_type": "stream",
     "text": [
      "torch.Size([128, 24, 6])\n",
      "Sequential(\n",
      "  (0): GRU(6, 64, batch_first=True)\n",
      "  (1): GRU(64, 64, batch_first=True)\n",
      ")\n",
      "[2023-03-16 14:25:33] - evaluating...\n"
     ]
    },
    {
     "name": "stderr",
     "output_type": "stream",
     "text": [
      "\n",
      "Valid: 100%|█████████████████████████████████████| 2/2 [00:00<00:00, 360.06it/s]"
     ]
    },
    {
     "name": "stdout",
     "output_type": "stream",
     "text": [
      "torch.Size([64, 24, 6])\n",
      "Sequential(\n",
      "  (0): GRU(6, 64, batch_first=True)\n",
      "  (1): GRU(64, 64, batch_first=True)\n",
      ")\n",
      "torch.Size([57, 24, 6])\n",
      "Sequential(\n",
      "  (0): GRU(6, 64, batch_first=True)\n",
      "  (1): GRU(64, 64, batch_first=True)\n",
      ")\n",
      "[2023-03-16 14:25:33] - train 0.027606, valid MSE Loss 0.118498, valid L1 Loss 0.343004\n",
      "[2023-03-16 14:25:33] - Epoch: 37\n",
      "[2023-03-16 14:25:33] - training...\n"
     ]
    },
    {
     "name": "stderr",
     "output_type": "stream",
     "text": [
      "\n",
      "  0%|                                                     | 0/6 [00:00<?, ?it/s]"
     ]
    },
    {
     "name": "stdout",
     "output_type": "stream",
     "text": [
      "torch.Size([128, 24, 6])\n",
      "Sequential(\n",
      "  (0): GRU(6, 64, batch_first=True)\n",
      "  (1): GRU(64, 64, batch_first=True)\n",
      ")\n",
      "torch.Size([128, 24, 6])\n",
      "Sequential(\n",
      "  (0): GRU(6, 64, batch_first=True)\n",
      "  (1): GRU(64, 64, batch_first=True)\n",
      ")\n"
     ]
    },
    {
     "name": "stderr",
     "output_type": "stream",
     "text": [
      "\r",
      " 33%|███████████████                              | 2/6 [00:00<00:00,  9.63it/s]"
     ]
    },
    {
     "name": "stdout",
     "output_type": "stream",
     "text": [
      "torch.Size([128, 24, 6])\n",
      "Sequential(\n",
      "  (0): GRU(6, 64, batch_first=True)\n",
      "  (1): GRU(64, 64, batch_first=True)\n",
      ")\n"
     ]
    },
    {
     "name": "stderr",
     "output_type": "stream",
     "text": [
      " 67%|██████████████████████████████               | 4/6 [00:00<00:00,  9.74it/s]"
     ]
    },
    {
     "name": "stdout",
     "output_type": "stream",
     "text": [
      "torch.Size([128, 24, 6])\n",
      "Sequential(\n",
      "  (0): GRU(6, 64, batch_first=True)\n",
      "  (1): GRU(64, 64, batch_first=True)\n",
      ")\n",
      "torch.Size([128, 24, 6])\n",
      "Sequential(\n",
      "  (0): GRU(6, 64, batch_first=True)\n",
      "  (1): GRU(64, 64, batch_first=True)\n",
      ")\n"
     ]
    },
    {
     "name": "stderr",
     "output_type": "stream",
     "text": [
      "100%|█████████████████████████████████████████████| 6/6 [00:00<00:00, 11.41it/s]"
     ]
    },
    {
     "name": "stdout",
     "output_type": "stream",
     "text": [
      "[2023-03-16 14:25:33] - evaluating...\n"
     ]
    },
    {
     "name": "stderr",
     "output_type": "stream",
     "text": [
      "\n",
      "Valid: 100%|█████████████████████████████████████| 2/2 [00:00<00:00, 333.48it/s]"
     ]
    },
    {
     "name": "stdout",
     "output_type": "stream",
     "text": [
      "torch.Size([64, 24, 6])\n",
      "Sequential(\n",
      "  (0): GRU(6, 64, batch_first=True)\n",
      "  (1): GRU(64, 64, batch_first=True)\n",
      ")\n",
      "torch.Size([57, 24, 6])\n",
      "Sequential(\n",
      "  (0): GRU(6, 64, batch_first=True)\n",
      "  (1): GRU(64, 64, batch_first=True)\n",
      ")\n",
      "[2023-03-16 14:25:33] - train 0.026924, valid MSE Loss 0.079175, valid L1 Loss 0.278002\n",
      "[2023-03-16 14:25:33] - Epoch: 38\n",
      "[2023-03-16 14:25:33] - training...\n"
     ]
    },
    {
     "name": "stderr",
     "output_type": "stream",
     "text": [
      "\n",
      "  0%|                                                     | 0/6 [00:00<?, ?it/s]"
     ]
    },
    {
     "name": "stdout",
     "output_type": "stream",
     "text": [
      "torch.Size([128, 24, 6])\n",
      "Sequential(\n",
      "  (0): GRU(6, 64, batch_first=True)\n",
      "  (1): GRU(64, 64, batch_first=True)\n",
      ")\n"
     ]
    },
    {
     "name": "stderr",
     "output_type": "stream",
     "text": [
      "\r",
      " 17%|███████▌                                     | 1/6 [00:00<00:00,  9.94it/s]"
     ]
    },
    {
     "name": "stdout",
     "output_type": "stream",
     "text": [
      "torch.Size([128, 24, 6])\n",
      "Sequential(\n",
      "  (0): GRU(6, 64, batch_first=True)\n",
      "  (1): GRU(64, 64, batch_first=True)\n",
      ")\n"
     ]
    },
    {
     "name": "stderr",
     "output_type": "stream",
     "text": [
      "\r",
      " 33%|███████████████                              | 2/6 [00:00<00:00,  9.29it/s]"
     ]
    },
    {
     "name": "stdout",
     "output_type": "stream",
     "text": [
      "torch.Size([128, 24, 6])\n",
      "Sequential(\n",
      "  (0): GRU(6, 64, batch_first=True)\n",
      "  (1): GRU(64, 64, batch_first=True)\n",
      ")\n"
     ]
    },
    {
     "name": "stderr",
     "output_type": "stream",
     "text": [
      "\r",
      " 50%|██████████████████████▌                      | 3/6 [00:00<00:00,  9.30it/s]"
     ]
    },
    {
     "name": "stdout",
     "output_type": "stream",
     "text": [
      "torch.Size([128, 24, 6])\n",
      "Sequential(\n",
      "  (0): GRU(6, 64, batch_first=True)\n",
      "  (1): GRU(64, 64, batch_first=True)\n",
      ")\n"
     ]
    },
    {
     "name": "stderr",
     "output_type": "stream",
     "text": [
      " 83%|█████████████████████████████████████▌       | 5/6 [00:00<00:00,  9.65it/s]"
     ]
    },
    {
     "name": "stdout",
     "output_type": "stream",
     "text": [
      "torch.Size([128, 24, 6])\n",
      "Sequential(\n",
      "  (0): GRU(6, 64, batch_first=True)\n",
      "  (1): GRU(64, 64, batch_first=True)\n",
      ")\n"
     ]
    },
    {
     "name": "stderr",
     "output_type": "stream",
     "text": [
      "\r",
      "100%|█████████████████████████████████████████████| 6/6 [00:00<00:00, 11.34it/s]"
     ]
    },
    {
     "name": "stdout",
     "output_type": "stream",
     "text": [
      "[2023-03-16 14:25:34] - evaluating...\n"
     ]
    },
    {
     "name": "stderr",
     "output_type": "stream",
     "text": [
      "\n",
      "Valid: 100%|█████████████████████████████████████| 2/2 [00:00<00:00, 315.28it/s]"
     ]
    },
    {
     "name": "stdout",
     "output_type": "stream",
     "text": [
      "torch.Size([64, 24, 6])\n",
      "Sequential(\n",
      "  (0): GRU(6, 64, batch_first=True)\n",
      "  (1): GRU(64, 64, batch_first=True)\n",
      ")\n",
      "torch.Size([57, 24, 6])\n",
      "Sequential(\n",
      "  (0): GRU(6, 64, batch_first=True)\n",
      "  (1): GRU(64, 64, batch_first=True)\n",
      ")\n",
      "[2023-03-16 14:25:34] - train 0.030304, valid MSE Loss 0.043337, valid L1 Loss 0.204421\n",
      "[2023-03-16 14:25:34] - Epoch: 39\n",
      "[2023-03-16 14:25:34] - training...\n"
     ]
    },
    {
     "name": "stderr",
     "output_type": "stream",
     "text": [
      "\n",
      "  0%|                                                     | 0/6 [00:00<?, ?it/s]"
     ]
    },
    {
     "name": "stdout",
     "output_type": "stream",
     "text": [
      "torch.Size([128, 24, 6])\n",
      "Sequential(\n",
      "  (0): GRU(6, 64, batch_first=True)\n",
      "  (1): GRU(64, 64, batch_first=True)\n",
      ")\n"
     ]
    },
    {
     "name": "stderr",
     "output_type": "stream",
     "text": [
      "\r",
      " 17%|███████▌                                     | 1/6 [00:00<00:00,  9.41it/s]"
     ]
    },
    {
     "name": "stdout",
     "output_type": "stream",
     "text": [
      "torch.Size([128, 24, 6])\n",
      "Sequential(\n",
      "  (0): GRU(6, 64, batch_first=True)\n",
      "  (1): GRU(64, 64, batch_first=True)\n",
      ")\n"
     ]
    },
    {
     "name": "stderr",
     "output_type": "stream",
     "text": [
      "\r",
      " 33%|███████████████                              | 2/6 [00:00<00:00,  9.45it/s]"
     ]
    },
    {
     "name": "stdout",
     "output_type": "stream",
     "text": [
      "torch.Size([128, 24, 6])\n",
      "Sequential(\n",
      "  (0): GRU(6, 64, batch_first=True)\n",
      "  (1): GRU(64, 64, batch_first=True)\n",
      ")\n"
     ]
    },
    {
     "name": "stderr",
     "output_type": "stream",
     "text": [
      "\r",
      " 67%|██████████████████████████████               | 4/6 [00:00<00:00,  9.82it/s]"
     ]
    },
    {
     "name": "stdout",
     "output_type": "stream",
     "text": [
      "torch.Size([128, 24, 6])\n",
      "Sequential(\n",
      "  (0): GRU(6, 64, batch_first=True)\n",
      "  (1): GRU(64, 64, batch_first=True)\n",
      ")\n",
      "torch.Size([128, 24, 6])\n",
      "Sequential(\n",
      "  (0): GRU(6, 64, batch_first=True)\n",
      "  (1): GRU(64, 64, batch_first=True)\n",
      ")\n"
     ]
    },
    {
     "name": "stderr",
     "output_type": "stream",
     "text": [
      "100%|█████████████████████████████████████████████| 6/6 [00:00<00:00, 11.64it/s]"
     ]
    },
    {
     "name": "stdout",
     "output_type": "stream",
     "text": [
      "[2023-03-16 14:25:34] - evaluating...\n"
     ]
    },
    {
     "name": "stderr",
     "output_type": "stream",
     "text": [
      "\n",
      "Valid: 100%|█████████████████████████████████████| 2/2 [00:00<00:00, 350.34it/s]"
     ]
    },
    {
     "name": "stdout",
     "output_type": "stream",
     "text": [
      "torch.Size([64, 24, 6])\n",
      "Sequential(\n",
      "  (0): GRU(6, 64, batch_first=True)\n",
      "  (1): GRU(64, 64, batch_first=True)\n",
      ")\n",
      "torch.Size([57, 24, 6])\n",
      "Sequential(\n",
      "  (0): GRU(6, 64, batch_first=True)\n",
      "  (1): GRU(64, 64, batch_first=True)\n",
      ")\n",
      "[2023-03-16 14:25:34] - train 0.028177, valid MSE Loss 0.051107, valid L1 Loss 0.224047\n",
      "[2023-03-16 14:25:34] - Epoch: 40\n",
      "[2023-03-16 14:25:34] - training...\n"
     ]
    },
    {
     "name": "stderr",
     "output_type": "stream",
     "text": [
      "\n",
      " 17%|███████▌                                     | 1/6 [00:00<00:00,  8.88it/s]"
     ]
    },
    {
     "name": "stdout",
     "output_type": "stream",
     "text": [
      "torch.Size([128, 24, 6])\n",
      "Sequential(\n",
      "  (0): GRU(6, 64, batch_first=True)\n",
      "  (1): GRU(64, 64, batch_first=True)\n",
      ")\n",
      "torch.Size([128, 24, 6])\n",
      "Sequential(\n",
      "  (0): GRU(6, 64, batch_first=True)\n",
      "  (1): GRU(64, 64, batch_first=True)\n",
      ")\n"
     ]
    },
    {
     "name": "stderr",
     "output_type": "stream",
     "text": [
      " 67%|██████████████████████████████               | 4/6 [00:00<00:00,  9.88it/s]"
     ]
    },
    {
     "name": "stdout",
     "output_type": "stream",
     "text": [
      "torch.Size([128, 24, 6])\n",
      "Sequential(\n",
      "  (0): GRU(6, 64, batch_first=True)\n",
      "  (1): GRU(64, 64, batch_first=True)\n",
      ")\n",
      "torch.Size([128, 24, 6])\n",
      "Sequential(\n",
      "  (0): GRU(6, 64, batch_first=True)\n",
      "  (1): GRU(64, 64, batch_first=True)\n",
      ")\n",
      "torch.Size([128, 24, 6])\n",
      "Sequential(\n",
      "  (0): GRU(6, 64, batch_first=True)\n",
      "  (1): GRU(64, 64, batch_first=True)\n",
      ")\n"
     ]
    },
    {
     "name": "stderr",
     "output_type": "stream",
     "text": [
      "100%|█████████████████████████████████████████████| 6/6 [00:00<00:00, 11.51it/s]"
     ]
    },
    {
     "name": "stdout",
     "output_type": "stream",
     "text": [
      "[2023-03-16 14:25:35] - evaluating...\n"
     ]
    },
    {
     "name": "stderr",
     "output_type": "stream",
     "text": [
      "\n",
      "Valid: 100%|█████████████████████████████████████| 2/2 [00:00<00:00, 303.96it/s]"
     ]
    },
    {
     "name": "stdout",
     "output_type": "stream",
     "text": [
      "torch.Size([64, 24, 6])\n",
      "Sequential(\n",
      "  (0): GRU(6, 64, batch_first=True)\n",
      "  (1): GRU(64, 64, batch_first=True)\n",
      ")\n",
      "torch.Size([57, 24, 6])\n",
      "Sequential(\n",
      "  (0): GRU(6, 64, batch_first=True)\n",
      "  (1): GRU(64, 64, batch_first=True)\n",
      ")\n",
      "[2023-03-16 14:25:35] - train 0.028467, valid MSE Loss 0.053431, valid L1 Loss 0.230309\n",
      "[2023-03-16 14:25:35] - Epoch: 41\n",
      "[2023-03-16 14:25:35] - training...\n"
     ]
    },
    {
     "name": "stderr",
     "output_type": "stream",
     "text": [
      "\n",
      " 17%|███████▌                                     | 1/6 [00:00<00:00,  9.13it/s]"
     ]
    },
    {
     "name": "stdout",
     "output_type": "stream",
     "text": [
      "torch.Size([128, 24, 6])\n",
      "Sequential(\n",
      "  (0): GRU(6, 64, batch_first=True)\n",
      "  (1): GRU(64, 64, batch_first=True)\n",
      ")\n",
      "torch.Size([128, 24, 6])\n",
      "Sequential(\n",
      "  (0): GRU(6, 64, batch_first=True)\n",
      "  (1): GRU(64, 64, batch_first=True)\n",
      ")\n"
     ]
    },
    {
     "name": "stderr",
     "output_type": "stream",
     "text": [
      " 67%|██████████████████████████████               | 4/6 [00:00<00:00, 10.02it/s]"
     ]
    },
    {
     "name": "stdout",
     "output_type": "stream",
     "text": [
      "torch.Size([128, 24, 6])\n",
      "Sequential(\n",
      "  (0): GRU(6, 64, batch_first=True)\n",
      "  (1): GRU(64, 64, batch_first=True)\n",
      ")\n",
      "torch.Size([128, 24, 6])\n",
      "Sequential(\n",
      "  (0): GRU(6, 64, batch_first=True)\n",
      "  (1): GRU(64, 64, batch_first=True)\n",
      ")\n",
      "torch.Size([128, 24, 6])\n",
      "Sequential(\n",
      "  (0): GRU(6, 64, batch_first=True)\n",
      "  (1): GRU(64, 64, batch_first=True)\n",
      ")\n"
     ]
    },
    {
     "name": "stderr",
     "output_type": "stream",
     "text": [
      "\r",
      "100%|█████████████████████████████████████████████| 6/6 [00:00<00:00, 11.80it/s]"
     ]
    },
    {
     "name": "stdout",
     "output_type": "stream",
     "text": [
      "[2023-03-16 14:25:35] - evaluating...\n"
     ]
    },
    {
     "name": "stderr",
     "output_type": "stream",
     "text": [
      "\n",
      "Valid: 100%|█████████████████████████████████████| 2/2 [00:00<00:00, 399.31it/s]"
     ]
    },
    {
     "name": "stdout",
     "output_type": "stream",
     "text": [
      "torch.Size([64, 24, 6])\n",
      "Sequential(\n",
      "  (0): GRU(6, 64, batch_first=True)\n",
      "  (1): GRU(64, 64, batch_first=True)\n",
      ")\n",
      "torch.Size([57, 24, 6])\n",
      "Sequential(\n",
      "  (0): GRU(6, 64, batch_first=True)\n",
      "  (1): GRU(64, 64, batch_first=True)\n",
      ")\n",
      "[2023-03-16 14:25:35] - train 0.026336, valid MSE Loss 0.021316, valid L1 Loss 0.144278\n",
      "[2023-03-16 14:25:35] - Epoch: 42\n",
      "[2023-03-16 14:25:35] - training...\n"
     ]
    },
    {
     "name": "stderr",
     "output_type": "stream",
     "text": [
      "\n",
      "  0%|                                                     | 0/6 [00:00<?, ?it/s]"
     ]
    },
    {
     "name": "stdout",
     "output_type": "stream",
     "text": [
      "torch.Size([128, 24, 6])\n",
      "Sequential(\n",
      "  (0): GRU(6, 64, batch_first=True)\n",
      "  (1): GRU(64, 64, batch_first=True)\n",
      ")\n",
      "torch.Size([128, 24, 6])\n",
      "Sequential(\n",
      "  (0): GRU(6, 64, batch_first=True)\n",
      "  (1): GRU(64, 64, batch_first=True)\n",
      ")\n"
     ]
    },
    {
     "name": "stderr",
     "output_type": "stream",
     "text": [
      "\r",
      " 33%|███████████████                              | 2/6 [00:00<00:00, 10.81it/s]"
     ]
    },
    {
     "name": "stdout",
     "output_type": "stream",
     "text": [
      "torch.Size([128, 24, 6])\n",
      "Sequential(\n",
      "  (0): GRU(6, 64, batch_first=True)\n",
      "  (1): GRU(64, 64, batch_first=True)\n",
      ")\n"
     ]
    },
    {
     "name": "stderr",
     "output_type": "stream",
     "text": [
      "\r",
      " 67%|██████████████████████████████               | 4/6 [00:00<00:00, 10.62it/s]"
     ]
    },
    {
     "name": "stdout",
     "output_type": "stream",
     "text": [
      "torch.Size([128, 24, 6])\n",
      "Sequential(\n",
      "  (0): GRU(6, 64, batch_first=True)\n",
      "  (1): GRU(64, 64, batch_first=True)\n",
      ")\n",
      "torch.Size([128, 24, 6])\n",
      "Sequential(\n",
      "  (0): GRU(6, 64, batch_first=True)\n",
      "  (1): GRU(64, 64, batch_first=True)\n",
      ")\n"
     ]
    },
    {
     "name": "stderr",
     "output_type": "stream",
     "text": [
      "\r",
      "100%|█████████████████████████████████████████████| 6/6 [00:00<00:00, 12.68it/s]"
     ]
    },
    {
     "name": "stdout",
     "output_type": "stream",
     "text": [
      "[2023-03-16 14:25:36] - evaluating...\n"
     ]
    },
    {
     "name": "stderr",
     "output_type": "stream",
     "text": [
      "\n",
      "Valid: 100%|█████████████████████████████████████| 2/2 [00:00<00:00, 389.03it/s]"
     ]
    },
    {
     "name": "stdout",
     "output_type": "stream",
     "text": [
      "torch.Size([64, 24, 6])\n",
      "Sequential(\n",
      "  (0): GRU(6, 64, batch_first=True)\n",
      "  (1): GRU(64, 64, batch_first=True)\n",
      ")\n",
      "torch.Size([57, 24, 6])\n",
      "Sequential(\n",
      "  (0): GRU(6, 64, batch_first=True)\n",
      "  (1): GRU(64, 64, batch_first=True)\n",
      ")\n",
      "[2023-03-16 14:25:36] - train 0.027625, valid MSE Loss 0.058688, valid L1 Loss 0.241556\n",
      "[2023-03-16 14:25:36] - Epoch: 43\n",
      "[2023-03-16 14:25:36] - training...\n"
     ]
    },
    {
     "name": "stderr",
     "output_type": "stream",
     "text": [
      "\n",
      " 17%|███████▌                                     | 1/6 [00:00<00:00,  9.85it/s]"
     ]
    },
    {
     "name": "stdout",
     "output_type": "stream",
     "text": [
      "torch.Size([128, 24, 6])\n",
      "Sequential(\n",
      "  (0): GRU(6, 64, batch_first=True)\n",
      "  (1): GRU(64, 64, batch_first=True)\n",
      ")\n",
      "torch.Size([128, 24, 6])\n",
      "Sequential(\n",
      "  (0): GRU(6, 64, batch_first=True)\n",
      "  (1): GRU(64, 64, batch_first=True)\n",
      ")\n",
      "torch.Size([128, 24, 6])\n",
      "Sequential(\n",
      "  (0): GRU(6, 64, batch_first=True)\n",
      "  (1): GRU(64, 64, batch_first=True)\n",
      ")\n"
     ]
    },
    {
     "name": "stderr",
     "output_type": "stream",
     "text": [
      "\r",
      " 50%|██████████████████████▌                      | 3/6 [00:00<00:00, 10.17it/s]"
     ]
    },
    {
     "name": "stdout",
     "output_type": "stream",
     "text": [
      "torch.Size([128, 24, 6])\n",
      "Sequential(\n",
      "  (0): GRU(6, 64, batch_first=True)\n",
      "  (1): GRU(64, 64, batch_first=True)\n",
      ")\n",
      "torch.Size([128, 24, 6])\n",
      "Sequential(\n",
      "  (0): GRU(6, 64, batch_first=True)\n",
      "  (1): GRU(64, 64, batch_first=True)\n",
      ")\n"
     ]
    },
    {
     "name": "stderr",
     "output_type": "stream",
     "text": [
      "100%|█████████████████████████████████████████████| 6/6 [00:00<00:00, 12.30it/s]\n"
     ]
    },
    {
     "name": "stdout",
     "output_type": "stream",
     "text": [
      "[2023-03-16 14:25:36] - evaluating...\n"
     ]
    },
    {
     "name": "stderr",
     "output_type": "stream",
     "text": [
      "Valid: 100%|█████████████████████████████████████| 2/2 [00:00<00:00, 367.15it/s]"
     ]
    },
    {
     "name": "stdout",
     "output_type": "stream",
     "text": [
      "torch.Size([64, 24, 6])\n",
      "Sequential(\n",
      "  (0): GRU(6, 64, batch_first=True)\n",
      "  (1): GRU(64, 64, batch_first=True)\n",
      ")\n",
      "torch.Size([57, 24, 6])\n",
      "Sequential(\n",
      "  (0): GRU(6, 64, batch_first=True)\n",
      "  (1): GRU(64, 64, batch_first=True)\n",
      ")\n",
      "[2023-03-16 14:25:36] - train 0.028812, valid MSE Loss 0.277746, valid L1 Loss 0.526683\n",
      "[2023-03-16 14:25:36] - Epoch: 44\n",
      "[2023-03-16 14:25:36] - training...\n"
     ]
    },
    {
     "name": "stderr",
     "output_type": "stream",
     "text": [
      "\n",
      " 17%|███████▌                                     | 1/6 [00:00<00:00,  9.60it/s]"
     ]
    },
    {
     "name": "stdout",
     "output_type": "stream",
     "text": [
      "torch.Size([128, 24, 6])\n",
      "Sequential(\n",
      "  (0): GRU(6, 64, batch_first=True)\n",
      "  (1): GRU(64, 64, batch_first=True)\n",
      ")\n",
      "torch.Size([128, 24, 6])\n",
      "Sequential(\n",
      "  (0): GRU(6, 64, batch_first=True)\n",
      "  (1): GRU(64, 64, batch_first=True)\n",
      ")\n"
     ]
    },
    {
     "name": "stderr",
     "output_type": "stream",
     "text": [
      " 50%|██████████████████████▌                      | 3/6 [00:00<00:00,  9.66it/s]"
     ]
    },
    {
     "name": "stdout",
     "output_type": "stream",
     "text": [
      "torch.Size([128, 24, 6])\n",
      "Sequential(\n",
      "  (0): GRU(6, 64, batch_first=True)\n",
      "  (1): GRU(64, 64, batch_first=True)\n",
      ")\n",
      "torch.Size([128, 24, 6])\n",
      "Sequential(\n",
      "  (0): GRU(6, 64, batch_first=True)\n",
      "  (1): GRU(64, 64, batch_first=True)\n",
      ")\n",
      "torch.Size([128, 24, 6])\n",
      "Sequential(\n",
      "  (0): GRU(6, 64, batch_first=True)\n",
      "  (1): GRU(64, 64, batch_first=True)\n",
      ")\n"
     ]
    },
    {
     "name": "stderr",
     "output_type": "stream",
     "text": [
      "100%|█████████████████████████████████████████████| 6/6 [00:00<00:00, 11.82it/s]\n"
     ]
    },
    {
     "name": "stdout",
     "output_type": "stream",
     "text": [
      "[2023-03-16 14:25:37] - evaluating...\n"
     ]
    },
    {
     "name": "stderr",
     "output_type": "stream",
     "text": [
      "Valid: 100%|█████████████████████████████████████| 2/2 [00:00<00:00, 352.03it/s]"
     ]
    },
    {
     "name": "stdout",
     "output_type": "stream",
     "text": [
      "torch.Size([64, 24, 6])\n",
      "Sequential(\n",
      "  (0): GRU(6, 64, batch_first=True)\n",
      "  (1): GRU(64, 64, batch_first=True)\n",
      ")\n",
      "torch.Size([57, 24, 6])\n",
      "Sequential(\n",
      "  (0): GRU(6, 64, batch_first=True)\n",
      "  (1): GRU(64, 64, batch_first=True)\n",
      ")\n",
      "[2023-03-16 14:25:37] - train 0.025704, valid MSE Loss 0.266778, valid L1 Loss 0.515981\n",
      "[2023-03-16 14:25:37] - Epoch: 45\n",
      "[2023-03-16 14:25:37] - training...\n"
     ]
    },
    {
     "name": "stderr",
     "output_type": "stream",
     "text": [
      "\n",
      "  0%|                                                     | 0/6 [00:00<?, ?it/s]"
     ]
    },
    {
     "name": "stdout",
     "output_type": "stream",
     "text": [
      "torch.Size([128, 24, 6])\n",
      "Sequential(\n",
      "  (0): GRU(6, 64, batch_first=True)\n",
      "  (1): GRU(64, 64, batch_first=True)\n",
      ")\n",
      "torch.Size([128, 24, 6])\n",
      "Sequential(\n",
      "  (0): GRU(6, 64, batch_first=True)\n",
      "  (1): GRU(64, 64, batch_first=True)\n",
      ")\n"
     ]
    },
    {
     "name": "stderr",
     "output_type": "stream",
     "text": [
      "\r",
      " 33%|███████████████                              | 2/6 [00:00<00:00, 10.26it/s]"
     ]
    },
    {
     "name": "stdout",
     "output_type": "stream",
     "text": [
      "torch.Size([128, 24, 6])\n",
      "Sequential(\n",
      "  (0): GRU(6, 64, batch_first=True)\n",
      "  (1): GRU(64, 64, batch_first=True)\n",
      ")\n"
     ]
    },
    {
     "name": "stderr",
     "output_type": "stream",
     "text": [
      "\r",
      " 67%|██████████████████████████████               | 4/6 [00:00<00:00, 10.15it/s]"
     ]
    },
    {
     "name": "stdout",
     "output_type": "stream",
     "text": [
      "torch.Size([128, 24, 6])\n",
      "Sequential(\n",
      "  (0): GRU(6, 64, batch_first=True)\n",
      "  (1): GRU(64, 64, batch_first=True)\n",
      ")\n",
      "torch.Size([128, 24, 6])\n",
      "Sequential(\n",
      "  (0): GRU(6, 64, batch_first=True)\n",
      "  (1): GRU(64, 64, batch_first=True)\n",
      ")\n"
     ]
    },
    {
     "name": "stderr",
     "output_type": "stream",
     "text": [
      "100%|█████████████████████████████████████████████| 6/6 [00:00<00:00, 12.05it/s]"
     ]
    },
    {
     "name": "stdout",
     "output_type": "stream",
     "text": [
      "[2023-03-16 14:25:37] - evaluating...\n"
     ]
    },
    {
     "name": "stderr",
     "output_type": "stream",
     "text": [
      "\n",
      "Valid: 100%|█████████████████████████████████████| 2/2 [00:00<00:00, 350.26it/s]"
     ]
    },
    {
     "name": "stdout",
     "output_type": "stream",
     "text": [
      "torch.Size([64, 24, 6])\n",
      "Sequential(\n",
      "  (0): GRU(6, 64, batch_first=True)\n",
      "  (1): GRU(64, 64, batch_first=True)\n",
      ")\n",
      "torch.Size([57, 24, 6])\n",
      "Sequential(\n",
      "  (0): GRU(6, 64, batch_first=True)\n",
      "  (1): GRU(64, 64, batch_first=True)\n",
      ")\n",
      "[2023-03-16 14:25:37] - train 0.025335, valid MSE Loss 0.066862, valid L1 Loss 0.257859\n",
      "[2023-03-16 14:25:37] - Epoch: 46\n",
      "[2023-03-16 14:25:37] - training...\n"
     ]
    },
    {
     "name": "stderr",
     "output_type": "stream",
     "text": [
      "\n",
      " 17%|███████▌                                     | 1/6 [00:00<00:00,  9.79it/s]"
     ]
    },
    {
     "name": "stdout",
     "output_type": "stream",
     "text": [
      "torch.Size([128, 24, 6])\n",
      "Sequential(\n",
      "  (0): GRU(6, 64, batch_first=True)\n",
      "  (1): GRU(64, 64, batch_first=True)\n",
      ")\n",
      "torch.Size([128, 24, 6])\n",
      "Sequential(\n",
      "  (0): GRU(6, 64, batch_first=True)\n",
      "  (1): GRU(64, 64, batch_first=True)\n",
      ")\n",
      "torch.Size([128, 24, 6])\n",
      "Sequential(\n",
      "  (0): GRU(6, 64, batch_first=True)\n",
      "  (1): GRU(64, 64, batch_first=True)\n",
      ")\n"
     ]
    },
    {
     "name": "stderr",
     "output_type": "stream",
     "text": [
      "\r",
      " 50%|██████████████████████▌                      | 3/6 [00:00<00:00, 10.22it/s]"
     ]
    },
    {
     "name": "stdout",
     "output_type": "stream",
     "text": [
      "torch.Size([128, 24, 6])\n",
      "Sequential(\n",
      "  (0): GRU(6, 64, batch_first=True)\n",
      "  (1): GRU(64, 64, batch_first=True)\n",
      ")\n",
      "torch.Size([128, 24, 6])\n",
      "Sequential(\n",
      "  (0): GRU(6, 64, batch_first=True)\n",
      "  (1): GRU(64, 64, batch_first=True)\n",
      ")\n"
     ]
    },
    {
     "name": "stderr",
     "output_type": "stream",
     "text": [
      "100%|█████████████████████████████████████████████| 6/6 [00:00<00:00, 11.83it/s]"
     ]
    },
    {
     "name": "stdout",
     "output_type": "stream",
     "text": [
      "[2023-03-16 14:25:38] - evaluating...\n"
     ]
    },
    {
     "name": "stderr",
     "output_type": "stream",
     "text": [
      "\n",
      "Valid: 100%|█████████████████████████████████████| 2/2 [00:00<00:00, 342.73it/s]"
     ]
    },
    {
     "name": "stdout",
     "output_type": "stream",
     "text": [
      "torch.Size([64, 24, 6])\n",
      "Sequential(\n",
      "  (0): GRU(6, 64, batch_first=True)\n",
      "  (1): GRU(64, 64, batch_first=True)\n",
      ")\n",
      "torch.Size([57, 24, 6])\n",
      "Sequential(\n",
      "  (0): GRU(6, 64, batch_first=True)\n",
      "  (1): GRU(64, 64, batch_first=True)\n",
      ")\n",
      "[2023-03-16 14:25:38] - train 0.024378, valid MSE Loss 0.000835, valid L1 Loss 0.024361\n",
      "[2023-03-16 14:25:38] - Epoch: 47\n",
      "[2023-03-16 14:25:38] - training...\n"
     ]
    },
    {
     "name": "stderr",
     "output_type": "stream",
     "text": [
      "\n",
      " 17%|███████▌                                     | 1/6 [00:00<00:00,  8.95it/s]"
     ]
    },
    {
     "name": "stdout",
     "output_type": "stream",
     "text": [
      "torch.Size([128, 24, 6])\n",
      "Sequential(\n",
      "  (0): GRU(6, 64, batch_first=True)\n",
      "  (1): GRU(64, 64, batch_first=True)\n",
      ")\n",
      "torch.Size([128, 24, 6])\n",
      "Sequential(\n",
      "  (0): GRU(6, 64, batch_first=True)\n",
      "  (1): GRU(64, 64, batch_first=True)\n",
      ")\n"
     ]
    },
    {
     "name": "stderr",
     "output_type": "stream",
     "text": [
      " 50%|██████████████████████▌                      | 3/6 [00:00<00:00,  8.60it/s]"
     ]
    },
    {
     "name": "stdout",
     "output_type": "stream",
     "text": [
      "torch.Size([128, 24, 6])\n",
      "Sequential(\n",
      "  (0): GRU(6, 64, batch_first=True)\n",
      "  (1): GRU(64, 64, batch_first=True)\n",
      ")\n",
      "torch.Size([128, 24, 6])\n",
      "Sequential(\n",
      "  (0): GRU(6, 64, batch_first=True)\n",
      "  (1): GRU(64, 64, batch_first=True)\n",
      ")\n"
     ]
    },
    {
     "name": "stderr",
     "output_type": "stream",
     "text": [
      "100%|█████████████████████████████████████████████| 6/6 [00:00<00:00, 10.45it/s]"
     ]
    },
    {
     "name": "stdout",
     "output_type": "stream",
     "text": [
      "torch.Size([128, 24, 6])\n",
      "Sequential(\n",
      "  (0): GRU(6, 64, batch_first=True)\n",
      "  (1): GRU(64, 64, batch_first=True)\n",
      ")\n",
      "[2023-03-16 14:25:38] - evaluating...\n"
     ]
    },
    {
     "name": "stderr",
     "output_type": "stream",
     "text": [
      "\n",
      "Valid: 100%|█████████████████████████████████████| 2/2 [00:00<00:00, 361.55it/s]"
     ]
    },
    {
     "name": "stdout",
     "output_type": "stream",
     "text": [
      "torch.Size([64, 24, 6])\n",
      "Sequential(\n",
      "  (0): GRU(6, 64, batch_first=True)\n",
      "  (1): GRU(64, 64, batch_first=True)\n",
      ")\n",
      "torch.Size([57, 24, 6])\n",
      "Sequential(\n",
      "  (0): GRU(6, 64, batch_first=True)\n",
      "  (1): GRU(64, 64, batch_first=True)\n",
      ")\n",
      "[2023-03-16 14:25:39] - train 0.027424, valid MSE Loss 0.012575, valid L1 Loss 0.109295\n",
      "[2023-03-16 14:25:39] - Epoch: 48\n",
      "[2023-03-16 14:25:39] - training...\n"
     ]
    },
    {
     "name": "stderr",
     "output_type": "stream",
     "text": [
      "\n",
      "  0%|                                                     | 0/6 [00:00<?, ?it/s]"
     ]
    },
    {
     "name": "stdout",
     "output_type": "stream",
     "text": [
      "torch.Size([128, 24, 6])\n",
      "Sequential(\n",
      "  (0): GRU(6, 64, batch_first=True)\n",
      "  (1): GRU(64, 64, batch_first=True)\n",
      ")\n"
     ]
    },
    {
     "name": "stderr",
     "output_type": "stream",
     "text": [
      "\r",
      " 17%|███████▌                                     | 1/6 [00:00<00:00,  8.87it/s]"
     ]
    },
    {
     "name": "stdout",
     "output_type": "stream",
     "text": [
      "torch.Size([128, 24, 6])\n",
      "Sequential(\n",
      "  (0): GRU(6, 64, batch_first=True)\n",
      "  (1): GRU(64, 64, batch_first=True)\n",
      ")\n"
     ]
    },
    {
     "name": "stderr",
     "output_type": "stream",
     "text": [
      "\r",
      " 33%|███████████████                              | 2/6 [00:00<00:00,  8.90it/s]"
     ]
    },
    {
     "name": "stdout",
     "output_type": "stream",
     "text": [
      "torch.Size([128, 24, 6])\n",
      "Sequential(\n",
      "  (0): GRU(6, 64, batch_first=True)\n",
      "  (1): GRU(64, 64, batch_first=True)\n",
      ")\n"
     ]
    },
    {
     "name": "stderr",
     "output_type": "stream",
     "text": [
      "\r",
      " 50%|██████████████████████▌                      | 3/6 [00:00<00:00,  8.91it/s]"
     ]
    },
    {
     "name": "stdout",
     "output_type": "stream",
     "text": [
      "torch.Size([128, 24, 6])\n",
      "Sequential(\n",
      "  (0): GRU(6, 64, batch_first=True)\n",
      "  (1): GRU(64, 64, batch_first=True)\n",
      ")\n"
     ]
    },
    {
     "name": "stderr",
     "output_type": "stream",
     "text": [
      "\r",
      " 67%|██████████████████████████████               | 4/6 [00:00<00:00,  8.79it/s]"
     ]
    },
    {
     "name": "stdout",
     "output_type": "stream",
     "text": [
      "torch.Size([128, 24, 6])\n",
      "Sequential(\n",
      "  (0): GRU(6, 64, batch_first=True)\n",
      "  (1): GRU(64, 64, batch_first=True)\n",
      ")\n"
     ]
    },
    {
     "name": "stderr",
     "output_type": "stream",
     "text": [
      "100%|█████████████████████████████████████████████| 6/6 [00:00<00:00, 10.51it/s]"
     ]
    },
    {
     "name": "stdout",
     "output_type": "stream",
     "text": [
      "[2023-03-16 14:25:39] - evaluating...\n"
     ]
    },
    {
     "name": "stderr",
     "output_type": "stream",
     "text": [
      "\n",
      "Valid: 100%|█████████████████████████████████████| 2/2 [00:00<00:00, 290.40it/s]"
     ]
    },
    {
     "name": "stdout",
     "output_type": "stream",
     "text": [
      "torch.Size([64, 24, 6])\n",
      "Sequential(\n",
      "  (0): GRU(6, 64, batch_first=True)\n",
      "  (1): GRU(64, 64, batch_first=True)\n",
      ")\n",
      "torch.Size([57, 24, 6])\n",
      "Sequential(\n",
      "  (0): GRU(6, 64, batch_first=True)\n",
      "  (1): GRU(64, 64, batch_first=True)\n",
      ")\n",
      "[2023-03-16 14:25:39] - train 0.028481, valid MSE Loss 0.001757, valid L1 Loss 0.030220\n",
      "[2023-03-16 14:25:39] - Epoch: 49\n",
      "[2023-03-16 14:25:39] - training...\n"
     ]
    },
    {
     "name": "stderr",
     "output_type": "stream",
     "text": [
      "\n",
      "  0%|                                                     | 0/6 [00:00<?, ?it/s]"
     ]
    },
    {
     "name": "stdout",
     "output_type": "stream",
     "text": [
      "torch.Size([128, 24, 6])\n",
      "Sequential(\n",
      "  (0): GRU(6, 64, batch_first=True)\n",
      "  (1): GRU(64, 64, batch_first=True)\n",
      ")\n"
     ]
    },
    {
     "name": "stderr",
     "output_type": "stream",
     "text": [
      "\r",
      " 17%|███████▌                                     | 1/6 [00:00<00:00,  9.72it/s]"
     ]
    },
    {
     "name": "stdout",
     "output_type": "stream",
     "text": [
      "torch.Size([128, 24, 6])\n",
      "Sequential(\n",
      "  (0): GRU(6, 64, batch_first=True)\n",
      "  (1): GRU(64, 64, batch_first=True)\n",
      ")\n"
     ]
    },
    {
     "name": "stderr",
     "output_type": "stream",
     "text": [
      "\r",
      " 33%|███████████████                              | 2/6 [00:00<00:00,  9.68it/s]"
     ]
    },
    {
     "name": "stdout",
     "output_type": "stream",
     "text": [
      "torch.Size([128, 24, 6])\n",
      "Sequential(\n",
      "  (0): GRU(6, 64, batch_first=True)\n",
      "  (1): GRU(64, 64, batch_first=True)\n",
      ")\n"
     ]
    },
    {
     "name": "stderr",
     "output_type": "stream",
     "text": [
      "\r",
      " 50%|██████████████████████▌                      | 3/6 [00:00<00:00,  9.64it/s]"
     ]
    },
    {
     "name": "stdout",
     "output_type": "stream",
     "text": [
      "torch.Size([128, 24, 6])\n",
      "Sequential(\n",
      "  (0): GRU(6, 64, batch_first=True)\n",
      "  (1): GRU(64, 64, batch_first=True)\n",
      ")\n"
     ]
    },
    {
     "name": "stderr",
     "output_type": "stream",
     "text": [
      "\r",
      " 67%|██████████████████████████████               | 4/6 [00:00<00:00,  9.15it/s]"
     ]
    },
    {
     "name": "stdout",
     "output_type": "stream",
     "text": [
      "torch.Size([128, 24, 6])\n",
      "Sequential(\n",
      "  (0): GRU(6, 64, batch_first=True)\n",
      "  (1): GRU(64, 64, batch_first=True)\n",
      ")\n"
     ]
    },
    {
     "name": "stderr",
     "output_type": "stream",
     "text": [
      "100%|█████████████████████████████████████████████| 6/6 [00:00<00:00, 10.80it/s]"
     ]
    },
    {
     "name": "stdout",
     "output_type": "stream",
     "text": [
      "[2023-03-16 14:25:40] - evaluating...\n"
     ]
    },
    {
     "name": "stderr",
     "output_type": "stream",
     "text": [
      "\n",
      "Valid: 100%|█████████████████████████████████████| 2/2 [00:00<00:00, 355.72it/s]"
     ]
    },
    {
     "name": "stdout",
     "output_type": "stream",
     "text": [
      "torch.Size([64, 24, 6])\n",
      "Sequential(\n",
      "  (0): GRU(6, 64, batch_first=True)\n",
      "  (1): GRU(64, 64, batch_first=True)\n",
      ")\n",
      "torch.Size([57, 24, 6])\n",
      "Sequential(\n",
      "  (0): GRU(6, 64, batch_first=True)\n",
      "  (1): GRU(64, 64, batch_first=True)\n",
      ")\n",
      "[2023-03-16 14:25:40] - train 0.031141, valid MSE Loss 0.086864, valid L1 Loss 0.294177\n",
      "[2023-03-16 14:25:40] - Epoch: 50\n",
      "[2023-03-16 14:25:40] - training...\n"
     ]
    },
    {
     "name": "stderr",
     "output_type": "stream",
     "text": [
      "\n",
      "  0%|                                                     | 0/6 [00:00<?, ?it/s]"
     ]
    },
    {
     "name": "stdout",
     "output_type": "stream",
     "text": [
      "torch.Size([128, 24, 6])\n",
      "Sequential(\n",
      "  (0): GRU(6, 64, batch_first=True)\n",
      "  (1): GRU(64, 64, batch_first=True)\n",
      ")\n"
     ]
    },
    {
     "name": "stderr",
     "output_type": "stream",
     "text": [
      "\r",
      " 17%|███████▌                                     | 1/6 [00:00<00:00,  9.01it/s]"
     ]
    },
    {
     "name": "stdout",
     "output_type": "stream",
     "text": [
      "torch.Size([128, 24, 6])\n",
      "Sequential(\n",
      "  (0): GRU(6, 64, batch_first=True)\n",
      "  (1): GRU(64, 64, batch_first=True)\n",
      ")\n"
     ]
    },
    {
     "name": "stderr",
     "output_type": "stream",
     "text": [
      "\r",
      " 33%|███████████████                              | 2/6 [00:00<00:00,  9.53it/s]"
     ]
    },
    {
     "name": "stdout",
     "output_type": "stream",
     "text": [
      "torch.Size([128, 24, 6])\n",
      "Sequential(\n",
      "  (0): GRU(6, 64, batch_first=True)\n",
      "  (1): GRU(64, 64, batch_first=True)\n",
      ")\n",
      "torch.Size([128, 24, 6])\n",
      "Sequential(\n",
      "  (0): GRU(6, 64, batch_first=True)\n",
      "  (1): GRU(64, 64, batch_first=True)\n",
      ")\n"
     ]
    },
    {
     "name": "stderr",
     "output_type": "stream",
     "text": [
      "\r",
      " 67%|██████████████████████████████               | 4/6 [00:00<00:00,  9.87it/s]"
     ]
    },
    {
     "name": "stdout",
     "output_type": "stream",
     "text": [
      "torch.Size([128, 24, 6])\n",
      "Sequential(\n",
      "  (0): GRU(6, 64, batch_first=True)\n",
      "  (1): GRU(64, 64, batch_first=True)\n",
      ")\n"
     ]
    },
    {
     "name": "stderr",
     "output_type": "stream",
     "text": [
      "100%|█████████████████████████████████████████████| 6/6 [00:00<00:00, 11.56it/s]"
     ]
    },
    {
     "name": "stdout",
     "output_type": "stream",
     "text": [
      "[2023-03-16 14:25:40] - evaluating...\n"
     ]
    },
    {
     "name": "stderr",
     "output_type": "stream",
     "text": [
      "\n",
      "Valid: 100%|█████████████████████████████████████| 2/2 [00:00<00:00, 347.25it/s]"
     ]
    },
    {
     "name": "stdout",
     "output_type": "stream",
     "text": [
      "torch.Size([64, 24, 6])\n",
      "Sequential(\n",
      "  (0): GRU(6, 64, batch_first=True)\n",
      "  (1): GRU(64, 64, batch_first=True)\n",
      ")\n",
      "torch.Size([57, 24, 6])\n",
      "Sequential(\n",
      "  (0): GRU(6, 64, batch_first=True)\n",
      "  (1): GRU(64, 64, batch_first=True)\n",
      ")\n",
      "[2023-03-16 14:25:40] - train 0.024407, valid MSE Loss 0.015710, valid L1 Loss 0.121061\n",
      "[2023-03-16 14:25:40] - Epoch: 51\n",
      "[2023-03-16 14:25:40] - training...\n"
     ]
    },
    {
     "name": "stderr",
     "output_type": "stream",
     "text": [
      "\n",
      "  0%|                                                     | 0/6 [00:00<?, ?it/s]"
     ]
    },
    {
     "name": "stdout",
     "output_type": "stream",
     "text": [
      "torch.Size([128, 24, 6])\n",
      "Sequential(\n",
      "  (0): GRU(6, 64, batch_first=True)\n",
      "  (1): GRU(64, 64, batch_first=True)\n",
      ")\n",
      "torch.Size([128, 24, 6])\n",
      "Sequential(\n",
      "  (0): GRU(6, 64, batch_first=True)\n",
      "  (1): GRU(64, 64, batch_first=True)\n",
      ")\n"
     ]
    },
    {
     "name": "stderr",
     "output_type": "stream",
     "text": [
      "\r",
      " 33%|███████████████                              | 2/6 [00:00<00:00, 10.23it/s]"
     ]
    },
    {
     "name": "stdout",
     "output_type": "stream",
     "text": [
      "torch.Size([128, 24, 6])\n",
      "Sequential(\n",
      "  (0): GRU(6, 64, batch_first=True)\n",
      "  (1): GRU(64, 64, batch_first=True)\n",
      ")\n",
      "torch.Size([128, 24, 6])\n",
      "Sequential(\n",
      "  (0): GRU(6, 64, batch_first=True)\n",
      "  (1): GRU(64, 64, batch_first=True)\n",
      ")\n"
     ]
    },
    {
     "name": "stderr",
     "output_type": "stream",
     "text": [
      "\r",
      " 67%|██████████████████████████████               | 4/6 [00:00<00:00, 10.10it/s]"
     ]
    },
    {
     "name": "stdout",
     "output_type": "stream",
     "text": [
      "torch.Size([128, 24, 6])\n",
      "Sequential(\n",
      "  (0): GRU(6, 64, batch_first=True)\n",
      "  (1): GRU(64, 64, batch_first=True)\n",
      ")\n"
     ]
    },
    {
     "name": "stderr",
     "output_type": "stream",
     "text": [
      "100%|█████████████████████████████████████████████| 6/6 [00:00<00:00, 11.80it/s]"
     ]
    },
    {
     "name": "stdout",
     "output_type": "stream",
     "text": [
      "[2023-03-16 14:25:41] - evaluating...\n"
     ]
    },
    {
     "name": "stderr",
     "output_type": "stream",
     "text": [
      "\n",
      "Valid: 100%|█████████████████████████████████████| 2/2 [00:00<00:00, 361.97it/s]"
     ]
    },
    {
     "name": "stdout",
     "output_type": "stream",
     "text": [
      "torch.Size([64, 24, 6])\n",
      "Sequential(\n",
      "  (0): GRU(6, 64, batch_first=True)\n",
      "  (1): GRU(64, 64, batch_first=True)\n",
      ")\n",
      "torch.Size([57, 24, 6])\n",
      "Sequential(\n",
      "  (0): GRU(6, 64, batch_first=True)\n",
      "  (1): GRU(64, 64, batch_first=True)\n",
      ")\n",
      "[2023-03-16 14:25:41] - train 0.030032, valid MSE Loss 0.095317, valid L1 Loss 0.307742\n",
      "[2023-03-16 14:25:41] - Epoch: 52\n",
      "[2023-03-16 14:25:41] - training...\n"
     ]
    },
    {
     "name": "stderr",
     "output_type": "stream",
     "text": [
      "\n",
      "  0%|                                                     | 0/6 [00:00<?, ?it/s]"
     ]
    },
    {
     "name": "stdout",
     "output_type": "stream",
     "text": [
      "torch.Size([128, 24, 6])\n",
      "Sequential(\n",
      "  (0): GRU(6, 64, batch_first=True)\n",
      "  (1): GRU(64, 64, batch_first=True)\n",
      ")\n"
     ]
    },
    {
     "name": "stderr",
     "output_type": "stream",
     "text": [
      "\r",
      " 17%|███████▌                                     | 1/6 [00:00<00:00,  8.91it/s]"
     ]
    },
    {
     "name": "stdout",
     "output_type": "stream",
     "text": [
      "torch.Size([128, 24, 6])\n",
      "Sequential(\n",
      "  (0): GRU(6, 64, batch_first=True)\n",
      "  (1): GRU(64, 64, batch_first=True)\n",
      ")\n"
     ]
    },
    {
     "name": "stderr",
     "output_type": "stream",
     "text": [
      "\r",
      " 33%|███████████████                              | 2/6 [00:00<00:00,  8.81it/s]"
     ]
    },
    {
     "name": "stdout",
     "output_type": "stream",
     "text": [
      "torch.Size([128, 24, 6])\n",
      "Sequential(\n",
      "  (0): GRU(6, 64, batch_first=True)\n",
      "  (1): GRU(64, 64, batch_first=True)\n",
      ")\n"
     ]
    },
    {
     "name": "stderr",
     "output_type": "stream",
     "text": [
      "\r",
      " 50%|██████████████████████▌                      | 3/6 [00:00<00:00,  8.62it/s]"
     ]
    },
    {
     "name": "stdout",
     "output_type": "stream",
     "text": [
      "torch.Size([128, 24, 6])\n",
      "Sequential(\n",
      "  (0): GRU(6, 64, batch_first=True)\n",
      "  (1): GRU(64, 64, batch_first=True)\n",
      ")\n"
     ]
    },
    {
     "name": "stderr",
     "output_type": "stream",
     "text": [
      "\r",
      " 67%|██████████████████████████████               | 4/6 [00:00<00:00,  8.53it/s]"
     ]
    },
    {
     "name": "stdout",
     "output_type": "stream",
     "text": [
      "torch.Size([128, 24, 6])\n",
      "Sequential(\n",
      "  (0): GRU(6, 64, batch_first=True)\n",
      "  (1): GRU(64, 64, batch_first=True)\n",
      ")\n"
     ]
    },
    {
     "name": "stderr",
     "output_type": "stream",
     "text": [
      "100%|█████████████████████████████████████████████| 6/6 [00:00<00:00, 10.28it/s]"
     ]
    },
    {
     "name": "stdout",
     "output_type": "stream",
     "text": [
      "[2023-03-16 14:25:41] - evaluating...\n"
     ]
    },
    {
     "name": "stderr",
     "output_type": "stream",
     "text": [
      "\n",
      "Valid: 100%|█████████████████████████████████████| 2/2 [00:00<00:00, 354.16it/s]"
     ]
    },
    {
     "name": "stdout",
     "output_type": "stream",
     "text": [
      "torch.Size([64, 24, 6])\n",
      "Sequential(\n",
      "  (0): GRU(6, 64, batch_first=True)\n",
      "  (1): GRU(64, 64, batch_first=True)\n",
      ")\n",
      "torch.Size([57, 24, 6])\n",
      "Sequential(\n",
      "  (0): GRU(6, 64, batch_first=True)\n",
      "  (1): GRU(64, 64, batch_first=True)\n",
      ")\n",
      "[2023-03-16 14:25:41] - train 0.029923, valid MSE Loss 0.345362, valid L1 Loss 0.587443\n",
      "[2023-03-16 14:25:41] - Epoch: 53\n",
      "[2023-03-16 14:25:41] - training...\n"
     ]
    },
    {
     "name": "stderr",
     "output_type": "stream",
     "text": [
      "\n",
      "  0%|                                                     | 0/6 [00:00<?, ?it/s]"
     ]
    },
    {
     "name": "stdout",
     "output_type": "stream",
     "text": [
      "torch.Size([128, 24, 6])\n",
      "Sequential(\n",
      "  (0): GRU(6, 64, batch_first=True)\n",
      "  (1): GRU(64, 64, batch_first=True)\n",
      ")\n"
     ]
    },
    {
     "name": "stderr",
     "output_type": "stream",
     "text": [
      "\r",
      " 17%|███████▌                                     | 1/6 [00:00<00:00,  8.85it/s]"
     ]
    },
    {
     "name": "stdout",
     "output_type": "stream",
     "text": [
      "torch.Size([128, 24, 6])\n",
      "Sequential(\n",
      "  (0): GRU(6, 64, batch_first=True)\n",
      "  (1): GRU(64, 64, batch_first=True)\n",
      ")\n"
     ]
    },
    {
     "name": "stderr",
     "output_type": "stream",
     "text": [
      "\r",
      " 33%|███████████████                              | 2/6 [00:00<00:00,  8.74it/s]"
     ]
    },
    {
     "name": "stdout",
     "output_type": "stream",
     "text": [
      "torch.Size([128, 24, 6])\n",
      "Sequential(\n",
      "  (0): GRU(6, 64, batch_first=True)\n",
      "  (1): GRU(64, 64, batch_first=True)\n",
      ")\n"
     ]
    },
    {
     "name": "stderr",
     "output_type": "stream",
     "text": [
      "\r",
      " 50%|██████████████████████▌                      | 3/6 [00:00<00:00,  8.74it/s]"
     ]
    },
    {
     "name": "stdout",
     "output_type": "stream",
     "text": [
      "torch.Size([128, 24, 6])\n",
      "Sequential(\n",
      "  (0): GRU(6, 64, batch_first=True)\n",
      "  (1): GRU(64, 64, batch_first=True)\n",
      ")\n"
     ]
    },
    {
     "name": "stderr",
     "output_type": "stream",
     "text": [
      "\r",
      " 67%|██████████████████████████████               | 4/6 [00:00<00:00,  8.84it/s]"
     ]
    },
    {
     "name": "stdout",
     "output_type": "stream",
     "text": [
      "torch.Size([128, 24, 6])\n",
      "Sequential(\n",
      "  (0): GRU(6, 64, batch_first=True)\n",
      "  (1): GRU(64, 64, batch_first=True)\n",
      ")\n"
     ]
    },
    {
     "name": "stderr",
     "output_type": "stream",
     "text": [
      "100%|█████████████████████████████████████████████| 6/6 [00:00<00:00, 10.53it/s]"
     ]
    },
    {
     "name": "stdout",
     "output_type": "stream",
     "text": [
      "[2023-03-16 14:25:42] - evaluating...\n"
     ]
    },
    {
     "name": "stderr",
     "output_type": "stream",
     "text": [
      "\n",
      "Valid: 100%|█████████████████████████████████████| 2/2 [00:00<00:00, 356.63it/s]"
     ]
    },
    {
     "name": "stdout",
     "output_type": "stream",
     "text": [
      "torch.Size([64, 24, 6])\n",
      "Sequential(\n",
      "  (0): GRU(6, 64, batch_first=True)\n",
      "  (1): GRU(64, 64, batch_first=True)\n",
      ")\n",
      "torch.Size([57, 24, 6])\n",
      "Sequential(\n",
      "  (0): GRU(6, 64, batch_first=True)\n",
      "  (1): GRU(64, 64, batch_first=True)\n",
      ")\n",
      "[2023-03-16 14:25:42] - train 0.024026, valid MSE Loss 0.010872, valid L1 Loss 0.097486\n",
      "[2023-03-16 14:25:42] - Epoch: 54\n",
      "[2023-03-16 14:25:42] - training...\n"
     ]
    },
    {
     "name": "stderr",
     "output_type": "stream",
     "text": [
      "\n",
      "  0%|                                                     | 0/6 [00:00<?, ?it/s]"
     ]
    },
    {
     "name": "stdout",
     "output_type": "stream",
     "text": [
      "torch.Size([128, 24, 6])\n",
      "Sequential(\n",
      "  (0): GRU(6, 64, batch_first=True)\n",
      "  (1): GRU(64, 64, batch_first=True)\n",
      ")\n"
     ]
    },
    {
     "name": "stderr",
     "output_type": "stream",
     "text": [
      "\r",
      " 17%|███████▌                                     | 1/6 [00:00<00:00,  8.61it/s]"
     ]
    },
    {
     "name": "stdout",
     "output_type": "stream",
     "text": [
      "torch.Size([128, 24, 6])\n",
      "Sequential(\n",
      "  (0): GRU(6, 64, batch_first=True)\n",
      "  (1): GRU(64, 64, batch_first=True)\n",
      ")\n"
     ]
    },
    {
     "name": "stderr",
     "output_type": "stream",
     "text": [
      "\r",
      " 33%|███████████████                              | 2/6 [00:00<00:00,  8.66it/s]"
     ]
    },
    {
     "name": "stdout",
     "output_type": "stream",
     "text": [
      "torch.Size([128, 24, 6])\n",
      "Sequential(\n",
      "  (0): GRU(6, 64, batch_first=True)\n",
      "  (1): GRU(64, 64, batch_first=True)\n",
      ")\n"
     ]
    },
    {
     "name": "stderr",
     "output_type": "stream",
     "text": [
      "\r",
      " 50%|██████████████████████▌                      | 3/6 [00:00<00:00,  8.64it/s]"
     ]
    },
    {
     "name": "stdout",
     "output_type": "stream",
     "text": [
      "torch.Size([128, 24, 6])\n",
      "Sequential(\n",
      "  (0): GRU(6, 64, batch_first=True)\n",
      "  (1): GRU(64, 64, batch_first=True)\n",
      ")\n"
     ]
    },
    {
     "name": "stderr",
     "output_type": "stream",
     "text": [
      "\r",
      " 67%|██████████████████████████████               | 4/6 [00:00<00:00,  8.74it/s]"
     ]
    },
    {
     "name": "stdout",
     "output_type": "stream",
     "text": [
      "torch.Size([128, 24, 6])\n",
      "Sequential(\n",
      "  (0): GRU(6, 64, batch_first=True)\n",
      "  (1): GRU(64, 64, batch_first=True)\n",
      ")\n"
     ]
    },
    {
     "name": "stderr",
     "output_type": "stream",
     "text": [
      "100%|█████████████████████████████████████████████| 6/6 [00:00<00:00, 10.32it/s]"
     ]
    },
    {
     "name": "stdout",
     "output_type": "stream",
     "text": [
      "[2023-03-16 14:25:43] - evaluating...\n"
     ]
    },
    {
     "name": "stderr",
     "output_type": "stream",
     "text": [
      "\n",
      "Valid: 100%|█████████████████████████████████████| 2/2 [00:00<00:00, 289.95it/s]"
     ]
    },
    {
     "name": "stdout",
     "output_type": "stream",
     "text": [
      "torch.Size([64, 24, 6])\n",
      "Sequential(\n",
      "  (0): GRU(6, 64, batch_first=True)\n",
      "  (1): GRU(64, 64, batch_first=True)\n",
      ")\n",
      "torch.Size([57, 24, 6])\n",
      "Sequential(\n",
      "  (0): GRU(6, 64, batch_first=True)\n",
      "  (1): GRU(64, 64, batch_first=True)\n",
      ")\n",
      "[2023-03-16 14:25:43] - train 0.024835, valid MSE Loss 0.043461, valid L1 Loss 0.206599\n",
      "[2023-03-16 14:25:43] - Epoch: 55\n",
      "[2023-03-16 14:25:43] - training...\n"
     ]
    },
    {
     "name": "stderr",
     "output_type": "stream",
     "text": [
      "\n",
      "  0%|                                                     | 0/6 [00:00<?, ?it/s]"
     ]
    },
    {
     "name": "stdout",
     "output_type": "stream",
     "text": [
      "torch.Size([128, 24, 6])\n",
      "Sequential(\n",
      "  (0): GRU(6, 64, batch_first=True)\n",
      "  (1): GRU(64, 64, batch_first=True)\n",
      ")\n"
     ]
    },
    {
     "name": "stderr",
     "output_type": "stream",
     "text": [
      "\r",
      " 17%|███████▌                                     | 1/6 [00:00<00:00,  9.74it/s]"
     ]
    },
    {
     "name": "stdout",
     "output_type": "stream",
     "text": [
      "torch.Size([128, 24, 6])\n",
      "Sequential(\n",
      "  (0): GRU(6, 64, batch_first=True)\n",
      "  (1): GRU(64, 64, batch_first=True)\n",
      ")\n"
     ]
    },
    {
     "name": "stderr",
     "output_type": "stream",
     "text": [
      " 50%|██████████████████████▌                      | 3/6 [00:00<00:00,  9.86it/s]"
     ]
    },
    {
     "name": "stdout",
     "output_type": "stream",
     "text": [
      "torch.Size([128, 24, 6])\n",
      "Sequential(\n",
      "  (0): GRU(6, 64, batch_first=True)\n",
      "  (1): GRU(64, 64, batch_first=True)\n",
      ")\n",
      "torch.Size([128, 24, 6])\n",
      "Sequential(\n",
      "  (0): GRU(6, 64, batch_first=True)\n",
      "  (1): GRU(64, 64, batch_first=True)\n",
      ")\n",
      "torch.Size([128, 24, 6])\n",
      "Sequential(\n",
      "  (0): GRU(6, 64, batch_first=True)\n",
      "  (1): GRU(64, 64, batch_first=True)\n",
      ")\n"
     ]
    },
    {
     "name": "stderr",
     "output_type": "stream",
     "text": [
      "100%|█████████████████████████████████████████████| 6/6 [00:00<00:00, 12.34it/s]"
     ]
    },
    {
     "name": "stdout",
     "output_type": "stream",
     "text": [
      "[2023-03-16 14:25:43] - evaluating...\n"
     ]
    },
    {
     "name": "stderr",
     "output_type": "stream",
     "text": [
      "\n",
      "Valid: 100%|█████████████████████████████████████| 2/2 [00:00<00:00, 448.21it/s]"
     ]
    },
    {
     "name": "stdout",
     "output_type": "stream",
     "text": [
      "torch.Size([64, 24, 6])\n",
      "Sequential(\n",
      "  (0): GRU(6, 64, batch_first=True)\n",
      "  (1): GRU(64, 64, batch_first=True)\n",
      ")\n",
      "torch.Size([57, 24, 6])\n",
      "Sequential(\n",
      "  (0): GRU(6, 64, batch_first=True)\n",
      "  (1): GRU(64, 64, batch_first=True)\n",
      ")\n",
      "[2023-03-16 14:25:43] - train 0.024011, valid MSE Loss 0.100410, valid L1 Loss 0.316371\n"
     ]
    },
    {
     "name": "stderr",
     "output_type": "stream",
     "text": [
      "\n"
     ]
    },
    {
     "name": "stdout",
     "output_type": "stream",
     "text": [
      "[2023-03-16 14:25:43] - Epoch: 56\n",
      "[2023-03-16 14:25:43] - training...\n"
     ]
    },
    {
     "name": "stderr",
     "output_type": "stream",
     "text": [
      " 33%|███████████████                              | 2/6 [00:00<00:00, 12.23it/s]"
     ]
    },
    {
     "name": "stdout",
     "output_type": "stream",
     "text": [
      "torch.Size([128, 24, 6])\n",
      "Sequential(\n",
      "  (0): GRU(6, 64, batch_first=True)\n",
      "  (1): GRU(64, 64, batch_first=True)\n",
      ")\n",
      "torch.Size([128, 24, 6])\n",
      "Sequential(\n",
      "  (0): GRU(6, 64, batch_first=True)\n",
      "  (1): GRU(64, 64, batch_first=True)\n",
      ")\n",
      "torch.Size([128, 24, 6])\n",
      "Sequential(\n",
      "  (0): GRU(6, 64, batch_first=True)\n",
      "  (1): GRU(64, 64, batch_first=True)\n",
      ")\n"
     ]
    },
    {
     "name": "stderr",
     "output_type": "stream",
     "text": [
      "100%|█████████████████████████████████████████████| 6/6 [00:00<00:00, 14.37it/s]"
     ]
    },
    {
     "name": "stdout",
     "output_type": "stream",
     "text": [
      "torch.Size([128, 24, 6])\n",
      "Sequential(\n",
      "  (0): GRU(6, 64, batch_first=True)\n",
      "  (1): GRU(64, 64, batch_first=True)\n",
      ")\n",
      "torch.Size([128, 24, 6])\n",
      "Sequential(\n",
      "  (0): GRU(6, 64, batch_first=True)\n",
      "  (1): GRU(64, 64, batch_first=True)\n",
      ")\n",
      "[2023-03-16 14:25:44] - evaluating...\n"
     ]
    },
    {
     "name": "stderr",
     "output_type": "stream",
     "text": [
      "\n",
      "Valid: 100%|█████████████████████████████████████| 2/2 [00:00<00:00, 414.07it/s]"
     ]
    },
    {
     "name": "stdout",
     "output_type": "stream",
     "text": [
      "torch.Size([64, 24, 6])\n",
      "Sequential(\n",
      "  (0): GRU(6, 64, batch_first=True)\n",
      "  (1): GRU(64, 64, batch_first=True)\n",
      ")\n",
      "torch.Size([57, 24, 6])\n",
      "Sequential(\n",
      "  (0): GRU(6, 64, batch_first=True)\n",
      "  (1): GRU(64, 64, batch_first=True)\n",
      ")\n",
      "[2023-03-16 14:25:44] - train 0.024978, valid MSE Loss 0.206213, valid L1 Loss 0.453651\n",
      "[2023-03-16 14:25:44] - Epoch: 57\n",
      "[2023-03-16 14:25:44] - training...\n"
     ]
    },
    {
     "name": "stderr",
     "output_type": "stream",
     "text": [
      "\n",
      "  0%|                                                     | 0/6 [00:00<?, ?it/s]"
     ]
    },
    {
     "name": "stdout",
     "output_type": "stream",
     "text": [
      "torch.Size([128, 24, 6])\n",
      "Sequential(\n",
      "  (0): GRU(6, 64, batch_first=True)\n",
      "  (1): GRU(64, 64, batch_first=True)\n",
      ")\n"
     ]
    },
    {
     "name": "stderr",
     "output_type": "stream",
     "text": [
      "\r",
      " 33%|███████████████                              | 2/6 [00:00<00:00, 11.71it/s]"
     ]
    },
    {
     "name": "stdout",
     "output_type": "stream",
     "text": [
      "torch.Size([128, 24, 6])\n",
      "Sequential(\n",
      "  (0): GRU(6, 64, batch_first=True)\n",
      "  (1): GRU(64, 64, batch_first=True)\n",
      ")\n",
      "torch.Size([128, 24, 6])\n",
      "Sequential(\n",
      "  (0): GRU(6, 64, batch_first=True)\n",
      "  (1): GRU(64, 64, batch_first=True)\n",
      ")\n",
      "torch.Size([128, 24, 6])\n",
      "Sequential(\n",
      "  (0): GRU(6, 64, batch_first=True)\n",
      "  (1): GRU(64, 64, batch_first=True)\n",
      ")\n"
     ]
    },
    {
     "name": "stderr",
     "output_type": "stream",
     "text": [
      "100%|█████████████████████████████████████████████| 6/6 [00:00<00:00, 13.27it/s]"
     ]
    },
    {
     "name": "stdout",
     "output_type": "stream",
     "text": [
      "torch.Size([128, 24, 6])\n",
      "Sequential(\n",
      "  (0): GRU(6, 64, batch_first=True)\n",
      "  (1): GRU(64, 64, batch_first=True)\n",
      ")\n",
      "[2023-03-16 14:25:44] - evaluating...\n"
     ]
    },
    {
     "name": "stderr",
     "output_type": "stream",
     "text": [
      "\n",
      "Valid: 100%|█████████████████████████████████████| 2/2 [00:00<00:00, 405.33it/s]"
     ]
    },
    {
     "name": "stdout",
     "output_type": "stream",
     "text": [
      "torch.Size([64, 24, 6])\n",
      "Sequential(\n",
      "  (0): GRU(6, 64, batch_first=True)\n",
      "  (1): GRU(64, 64, batch_first=True)\n",
      ")\n",
      "torch.Size([57, 24, 6])\n",
      "Sequential(\n",
      "  (0): GRU(6, 64, batch_first=True)\n",
      "  (1): GRU(64, 64, batch_first=True)\n",
      ")\n",
      "[2023-03-16 14:25:44] - train 0.028480, valid MSE Loss 0.267135, valid L1 Loss 0.516474\n",
      "[2023-03-16 14:25:44] - Epoch: 58\n",
      "[2023-03-16 14:25:44] - training...\n"
     ]
    },
    {
     "name": "stderr",
     "output_type": "stream",
     "text": [
      "\n",
      "  0%|                                                     | 0/6 [00:00<?, ?it/s]"
     ]
    },
    {
     "name": "stdout",
     "output_type": "stream",
     "text": [
      "torch.Size([128, 24, 6])\n",
      "Sequential(\n",
      "  (0): GRU(6, 64, batch_first=True)\n",
      "  (1): GRU(64, 64, batch_first=True)\n",
      ")\n"
     ]
    },
    {
     "name": "stderr",
     "output_type": "stream",
     "text": [
      "\r",
      " 33%|███████████████                              | 2/6 [00:00<00:00, 10.79it/s]"
     ]
    },
    {
     "name": "stdout",
     "output_type": "stream",
     "text": [
      "torch.Size([128, 24, 6])\n",
      "Sequential(\n",
      "  (0): GRU(6, 64, batch_first=True)\n",
      "  (1): GRU(64, 64, batch_first=True)\n",
      ")\n",
      "torch.Size([128, 24, 6])\n",
      "Sequential(\n",
      "  (0): GRU(6, 64, batch_first=True)\n",
      "  (1): GRU(64, 64, batch_first=True)\n",
      ")\n",
      "torch.Size([128, 24, 6])\n",
      "Sequential(\n",
      "  (0): GRU(6, 64, batch_first=True)\n",
      "  (1): GRU(64, 64, batch_first=True)\n",
      ")\n"
     ]
    },
    {
     "name": "stderr",
     "output_type": "stream",
     "text": [
      "100%|█████████████████████████████████████████████| 6/6 [00:00<00:00, 12.34it/s]"
     ]
    },
    {
     "name": "stdout",
     "output_type": "stream",
     "text": [
      "torch.Size([128, 24, 6])\n",
      "Sequential(\n",
      "  (0): GRU(6, 64, batch_first=True)\n",
      "  (1): GRU(64, 64, batch_first=True)\n",
      ")\n",
      "[2023-03-16 14:25:45] - evaluating...\n"
     ]
    },
    {
     "name": "stderr",
     "output_type": "stream",
     "text": [
      "\n",
      "Valid: 100%|█████████████████████████████████████| 2/2 [00:00<00:00, 406.27it/s]"
     ]
    },
    {
     "name": "stdout",
     "output_type": "stream",
     "text": [
      "torch.Size([64, 24, 6])\n",
      "Sequential(\n",
      "  (0): GRU(6, 64, batch_first=True)\n",
      "  (1): GRU(64, 64, batch_first=True)\n",
      ")\n",
      "torch.Size([57, 24, 6])\n",
      "Sequential(\n",
      "  (0): GRU(6, 64, batch_first=True)\n",
      "  (1): GRU(64, 64, batch_first=True)\n",
      ")\n",
      "[2023-03-16 14:25:45] - train 0.024961, valid MSE Loss 0.126540, valid L1 Loss 0.353839\n",
      "[2023-03-16 14:25:45] - Epoch: 59\n",
      "[2023-03-16 14:25:45] - training...\n"
     ]
    },
    {
     "name": "stderr",
     "output_type": "stream",
     "text": [
      "\n",
      "  0%|                                                     | 0/6 [00:00<?, ?it/s]"
     ]
    },
    {
     "name": "stdout",
     "output_type": "stream",
     "text": [
      "torch.Size([128, 24, 6])\n",
      "Sequential(\n",
      "  (0): GRU(6, 64, batch_first=True)\n",
      "  (1): GRU(64, 64, batch_first=True)\n",
      ")\n"
     ]
    },
    {
     "name": "stderr",
     "output_type": "stream",
     "text": [
      "\r",
      " 17%|███████▌                                     | 1/6 [00:00<00:00,  9.33it/s]"
     ]
    },
    {
     "name": "stdout",
     "output_type": "stream",
     "text": [
      "torch.Size([128, 24, 6])\n",
      "Sequential(\n",
      "  (0): GRU(6, 64, batch_first=True)\n",
      "  (1): GRU(64, 64, batch_first=True)\n",
      ")\n"
     ]
    },
    {
     "name": "stderr",
     "output_type": "stream",
     "text": [
      "\r",
      " 33%|███████████████                              | 2/6 [00:00<00:00,  9.31it/s]"
     ]
    },
    {
     "name": "stdout",
     "output_type": "stream",
     "text": [
      "torch.Size([128, 24, 6])\n",
      "Sequential(\n",
      "  (0): GRU(6, 64, batch_first=True)\n",
      "  (1): GRU(64, 64, batch_first=True)\n",
      ")\n"
     ]
    },
    {
     "name": "stderr",
     "output_type": "stream",
     "text": [
      "\r",
      " 50%|██████████████████████▌                      | 3/6 [00:00<00:00,  9.34it/s]"
     ]
    },
    {
     "name": "stdout",
     "output_type": "stream",
     "text": [
      "torch.Size([128, 24, 6])\n",
      "Sequential(\n",
      "  (0): GRU(6, 64, batch_first=True)\n",
      "  (1): GRU(64, 64, batch_first=True)\n",
      ")\n",
      "torch.Size([128, 24, 6])\n",
      "Sequential(\n",
      "  (0): GRU(6, 64, batch_first=True)\n",
      "  (1): GRU(64, 64, batch_first=True)\n",
      ")\n"
     ]
    },
    {
     "name": "stderr",
     "output_type": "stream",
     "text": [
      "100%|█████████████████████████████████████████████| 6/6 [00:00<00:00, 11.65it/s]\n"
     ]
    },
    {
     "name": "stdout",
     "output_type": "stream",
     "text": [
      "[2023-03-16 14:25:45] - evaluating...\n"
     ]
    },
    {
     "name": "stderr",
     "output_type": "stream",
     "text": [
      "Valid: 100%|█████████████████████████████████████| 2/2 [00:00<00:00, 417.88it/s]"
     ]
    },
    {
     "name": "stdout",
     "output_type": "stream",
     "text": [
      "torch.Size([64, 24, 6])\n",
      "Sequential(\n",
      "  (0): GRU(6, 64, batch_first=True)\n",
      "  (1): GRU(64, 64, batch_first=True)\n",
      ")\n",
      "torch.Size([57, 24, 6])\n",
      "Sequential(\n",
      "  (0): GRU(6, 64, batch_first=True)\n",
      "  (1): GRU(64, 64, batch_first=True)\n",
      ")\n",
      "[2023-03-16 14:25:45] - train 0.029576, valid MSE Loss 0.276554, valid L1 Loss 0.525274\n",
      "[2023-03-16 14:25:45] - Epoch: 60\n",
      "[2023-03-16 14:25:45] - training...\n"
     ]
    },
    {
     "name": "stderr",
     "output_type": "stream",
     "text": [
      "\n",
      " 33%|███████████████                              | 2/6 [00:00<00:00, 11.34it/s]"
     ]
    },
    {
     "name": "stdout",
     "output_type": "stream",
     "text": [
      "torch.Size([128, 24, 6])\n",
      "Sequential(\n",
      "  (0): GRU(6, 64, batch_first=True)\n",
      "  (1): GRU(64, 64, batch_first=True)\n",
      ")\n",
      "torch.Size([128, 24, 6])\n",
      "Sequential(\n",
      "  (0): GRU(6, 64, batch_first=True)\n",
      "  (1): GRU(64, 64, batch_first=True)\n",
      ")\n",
      "torch.Size([128, 24, 6])\n",
      "Sequential(\n",
      "  (0): GRU(6, 64, batch_first=True)\n",
      "  (1): GRU(64, 64, batch_first=True)\n",
      ")\n"
     ]
    },
    {
     "name": "stderr",
     "output_type": "stream",
     "text": [
      "100%|█████████████████████████████████████████████| 6/6 [00:00<00:00, 13.54it/s]"
     ]
    },
    {
     "name": "stdout",
     "output_type": "stream",
     "text": [
      "torch.Size([128, 24, 6])\n",
      "Sequential(\n",
      "  (0): GRU(6, 64, batch_first=True)\n",
      "  (1): GRU(64, 64, batch_first=True)\n",
      ")\n",
      "torch.Size([128, 24, 6])\n",
      "Sequential(\n",
      "  (0): GRU(6, 64, batch_first=True)\n",
      "  (1): GRU(64, 64, batch_first=True)\n",
      ")\n",
      "[2023-03-16 14:25:46] - evaluating...\n"
     ]
    },
    {
     "name": "stderr",
     "output_type": "stream",
     "text": [
      "\n",
      "Valid: 100%|█████████████████████████████████████| 2/2 [00:00<00:00, 424.52it/s]"
     ]
    },
    {
     "name": "stdout",
     "output_type": "stream",
     "text": [
      "torch.Size([64, 24, 6])\n",
      "Sequential(\n",
      "  (0): GRU(6, 64, batch_first=True)\n",
      "  (1): GRU(64, 64, batch_first=True)\n",
      ")\n",
      "torch.Size([57, 24, 6])\n",
      "Sequential(\n",
      "  (0): GRU(6, 64, batch_first=True)\n",
      "  (1): GRU(64, 64, batch_first=True)\n",
      ")\n",
      "[2023-03-16 14:25:46] - train 0.025917, valid MSE Loss 0.167092, valid L1 Loss 0.407327\n",
      "[2023-03-16 14:25:46] - Epoch: 61\n",
      "[2023-03-16 14:25:46] - training...\n"
     ]
    },
    {
     "name": "stderr",
     "output_type": "stream",
     "text": [
      "\n",
      " 17%|███████▌                                     | 1/6 [00:00<00:00,  9.82it/s]"
     ]
    },
    {
     "name": "stdout",
     "output_type": "stream",
     "text": [
      "torch.Size([128, 24, 6])\n",
      "Sequential(\n",
      "  (0): GRU(6, 64, batch_first=True)\n",
      "  (1): GRU(64, 64, batch_first=True)\n",
      ")\n",
      "torch.Size([128, 24, 6])\n",
      "Sequential(\n",
      "  (0): GRU(6, 64, batch_first=True)\n",
      "  (1): GRU(64, 64, batch_first=True)\n",
      ")\n"
     ]
    },
    {
     "name": "stderr",
     "output_type": "stream",
     "text": [
      " 67%|██████████████████████████████               | 4/6 [00:00<00:00, 10.10it/s]"
     ]
    },
    {
     "name": "stdout",
     "output_type": "stream",
     "text": [
      "torch.Size([128, 24, 6])\n",
      "Sequential(\n",
      "  (0): GRU(6, 64, batch_first=True)\n",
      "  (1): GRU(64, 64, batch_first=True)\n",
      ")\n",
      "torch.Size([128, 24, 6])\n",
      "Sequential(\n",
      "  (0): GRU(6, 64, batch_first=True)\n",
      "  (1): GRU(64, 64, batch_first=True)\n",
      ")\n",
      "torch.Size([128, 24, 6])\n",
      "Sequential(\n",
      "  (0): GRU(6, 64, batch_first=True)\n",
      "  (1): GRU(64, 64, batch_first=True)\n",
      ")\n"
     ]
    },
    {
     "name": "stderr",
     "output_type": "stream",
     "text": [
      "100%|█████████████████████████████████████████████| 6/6 [00:00<00:00, 11.84it/s]"
     ]
    },
    {
     "name": "stdout",
     "output_type": "stream",
     "text": [
      "[2023-03-16 14:25:46] - evaluating...\n"
     ]
    },
    {
     "name": "stderr",
     "output_type": "stream",
     "text": [
      "\n",
      "Valid: 100%|█████████████████████████████████████| 2/2 [00:00<00:00, 377.07it/s]"
     ]
    },
    {
     "name": "stdout",
     "output_type": "stream",
     "text": [
      "torch.Size([64, 24, 6])\n",
      "Sequential(\n",
      "  (0): GRU(6, 64, batch_first=True)\n",
      "  (1): GRU(64, 64, batch_first=True)\n",
      ")\n",
      "torch.Size([57, 24, 6])\n",
      "Sequential(\n",
      "  (0): GRU(6, 64, batch_first=True)\n",
      "  (1): GRU(64, 64, batch_first=True)\n",
      ")\n",
      "[2023-03-16 14:25:46] - train 0.025559, valid MSE Loss 0.129478, valid L1 Loss 0.357879\n",
      "[2023-03-16 14:25:46] - Epoch: 62\n",
      "[2023-03-16 14:25:46] - training...\n"
     ]
    },
    {
     "name": "stderr",
     "output_type": "stream",
     "text": [
      "\n",
      " 17%|███████▌                                     | 1/6 [00:00<00:00,  9.39it/s]"
     ]
    },
    {
     "name": "stdout",
     "output_type": "stream",
     "text": [
      "torch.Size([128, 24, 6])\n",
      "Sequential(\n",
      "  (0): GRU(6, 64, batch_first=True)\n",
      "  (1): GRU(64, 64, batch_first=True)\n",
      ")\n",
      "torch.Size([128, 24, 6])\n",
      "Sequential(\n",
      "  (0): GRU(6, 64, batch_first=True)\n",
      "  (1): GRU(64, 64, batch_first=True)\n",
      ")\n"
     ]
    },
    {
     "name": "stderr",
     "output_type": "stream",
     "text": [
      " 50%|██████████████████████▌                      | 3/6 [00:00<00:00,  9.39it/s]"
     ]
    },
    {
     "name": "stdout",
     "output_type": "stream",
     "text": [
      "torch.Size([128, 24, 6])\n",
      "Sequential(\n",
      "  (0): GRU(6, 64, batch_first=True)\n",
      "  (1): GRU(64, 64, batch_first=True)\n",
      ")\n",
      "torch.Size([128, 24, 6])\n",
      "Sequential(\n",
      "  (0): GRU(6, 64, batch_first=True)\n",
      "  (1): GRU(64, 64, batch_first=True)\n",
      ")\n"
     ]
    },
    {
     "name": "stderr",
     "output_type": "stream",
     "text": [
      "100%|█████████████████████████████████████████████| 6/6 [00:00<00:00, 11.93it/s]"
     ]
    },
    {
     "name": "stdout",
     "output_type": "stream",
     "text": [
      "torch.Size([128, 24, 6])\n",
      "Sequential(\n",
      "  (0): GRU(6, 64, batch_first=True)\n",
      "  (1): GRU(64, 64, batch_first=True)\n",
      ")\n",
      "[2023-03-16 14:25:47] - evaluating...\n"
     ]
    },
    {
     "name": "stderr",
     "output_type": "stream",
     "text": [
      "\n",
      "Valid: 100%|█████████████████████████████████████| 2/2 [00:00<00:00, 415.83it/s]"
     ]
    },
    {
     "name": "stdout",
     "output_type": "stream",
     "text": [
      "torch.Size([64, 24, 6])\n",
      "Sequential(\n",
      "  (0): GRU(6, 64, batch_first=True)\n",
      "  (1): GRU(64, 64, batch_first=True)\n",
      ")\n",
      "torch.Size([57, 24, 6])\n",
      "Sequential(\n",
      "  (0): GRU(6, 64, batch_first=True)\n",
      "  (1): GRU(64, 64, batch_first=True)\n",
      ")\n",
      "[2023-03-16 14:25:47] - train 0.029590, valid MSE Loss 0.204507, valid L1 Loss 0.451520\n",
      "[2023-03-16 14:25:47] - Epoch: 63\n",
      "[2023-03-16 14:25:47] - training...\n"
     ]
    },
    {
     "name": "stderr",
     "output_type": "stream",
     "text": [
      "\n",
      "  0%|                                                     | 0/6 [00:00<?, ?it/s]"
     ]
    },
    {
     "name": "stdout",
     "output_type": "stream",
     "text": [
      "torch.Size([128, 24, 6])\n",
      "Sequential(\n",
      "  (0): GRU(6, 64, batch_first=True)\n",
      "  (1): GRU(64, 64, batch_first=True)\n",
      ")\n"
     ]
    },
    {
     "name": "stderr",
     "output_type": "stream",
     "text": [
      "\r",
      " 33%|███████████████                              | 2/6 [00:00<00:00, 11.32it/s]"
     ]
    },
    {
     "name": "stdout",
     "output_type": "stream",
     "text": [
      "torch.Size([128, 24, 6])\n",
      "Sequential(\n",
      "  (0): GRU(6, 64, batch_first=True)\n",
      "  (1): GRU(64, 64, batch_first=True)\n",
      ")\n",
      "torch.Size([128, 24, 6])\n",
      "Sequential(\n",
      "  (0): GRU(6, 64, batch_first=True)\n",
      "  (1): GRU(64, 64, batch_first=True)\n",
      ")\n",
      "torch.Size([128, 24, 6])\n",
      "Sequential(\n",
      "  (0): GRU(6, 64, batch_first=True)\n",
      "  (1): GRU(64, 64, batch_first=True)\n",
      ")\n"
     ]
    },
    {
     "name": "stderr",
     "output_type": "stream",
     "text": [
      "\r",
      " 67%|██████████████████████████████               | 4/6 [00:00<00:00, 10.66it/s]"
     ]
    },
    {
     "name": "stdout",
     "output_type": "stream",
     "text": [
      "torch.Size([128, 24, 6])\n",
      "Sequential(\n",
      "  (0): GRU(6, 64, batch_first=True)\n",
      "  (1): GRU(64, 64, batch_first=True)\n",
      ")\n"
     ]
    },
    {
     "name": "stderr",
     "output_type": "stream",
     "text": [
      "100%|█████████████████████████████████████████████| 6/6 [00:00<00:00, 12.39it/s]"
     ]
    },
    {
     "name": "stdout",
     "output_type": "stream",
     "text": [
      "[2023-03-16 14:25:47] - evaluating...\n"
     ]
    },
    {
     "name": "stderr",
     "output_type": "stream",
     "text": [
      "\n",
      "Valid: 100%|█████████████████████████████████████| 2/2 [00:00<00:00, 429.77it/s]"
     ]
    },
    {
     "name": "stdout",
     "output_type": "stream",
     "text": [
      "torch.Size([64, 24, 6])\n",
      "Sequential(\n",
      "  (0): GRU(6, 64, batch_first=True)\n",
      "  (1): GRU(64, 64, batch_first=True)\n",
      ")\n",
      "torch.Size([57, 24, 6])\n",
      "Sequential(\n",
      "  (0): GRU(6, 64, batch_first=True)\n",
      "  (1): GRU(64, 64, batch_first=True)\n",
      ")\n",
      "[2023-03-16 14:25:47] - train 0.022003, valid MSE Loss 0.291601, valid L1 Loss 0.539256\n",
      "[2023-03-16 14:25:47] - Epoch: 64\n",
      "[2023-03-16 14:25:47] - training...\n"
     ]
    },
    {
     "name": "stderr",
     "output_type": "stream",
     "text": [
      "\n",
      "  0%|                                                     | 0/6 [00:00<?, ?it/s]"
     ]
    },
    {
     "name": "stdout",
     "output_type": "stream",
     "text": [
      "torch.Size([128, 24, 6])\n",
      "Sequential(\n",
      "  (0): GRU(6, 64, batch_first=True)\n",
      "  (1): GRU(64, 64, batch_first=True)\n",
      ")\n"
     ]
    },
    {
     "name": "stderr",
     "output_type": "stream",
     "text": [
      "\r",
      " 17%|███████▌                                     | 1/6 [00:00<00:00,  9.79it/s]"
     ]
    },
    {
     "name": "stdout",
     "output_type": "stream",
     "text": [
      "torch.Size([128, 24, 6])\n",
      "Sequential(\n",
      "  (0): GRU(6, 64, batch_first=True)\n",
      "  (1): GRU(64, 64, batch_first=True)\n",
      ")\n",
      "torch.Size([128, 24, 6])\n",
      "Sequential(\n",
      "  (0): GRU(6, 64, batch_first=True)\n",
      "  (1): GRU(64, 64, batch_first=True)\n",
      ")\n"
     ]
    },
    {
     "name": "stderr",
     "output_type": "stream",
     "text": [
      "\r",
      " 50%|██████████████████████▌                      | 3/6 [00:00<00:00, 10.34it/s]"
     ]
    },
    {
     "name": "stdout",
     "output_type": "stream",
     "text": [
      "torch.Size([128, 24, 6])\n",
      "Sequential(\n",
      "  (0): GRU(6, 64, batch_first=True)\n",
      "  (1): GRU(64, 64, batch_first=True)\n",
      ")\n",
      "torch.Size([128, 24, 6])\n",
      "Sequential(\n",
      "  (0): GRU(6, 64, batch_first=True)\n",
      "  (1): GRU(64, 64, batch_first=True)\n",
      ")\n"
     ]
    },
    {
     "name": "stderr",
     "output_type": "stream",
     "text": [
      "100%|█████████████████████████████████████████████| 6/6 [00:00<00:00, 12.14it/s]"
     ]
    },
    {
     "name": "stdout",
     "output_type": "stream",
     "text": [
      "[2023-03-16 14:25:48] - evaluating...\n"
     ]
    },
    {
     "name": "stderr",
     "output_type": "stream",
     "text": [
      "\n",
      "Valid: 100%|█████████████████████████████████████| 2/2 [00:00<00:00, 480.89it/s]"
     ]
    },
    {
     "name": "stdout",
     "output_type": "stream",
     "text": [
      "torch.Size([64, 24, 6])\n",
      "Sequential(\n",
      "  (0): GRU(6, 64, batch_first=True)\n",
      "  (1): GRU(64, 64, batch_first=True)\n",
      ")\n",
      "torch.Size([57, 24, 6])\n",
      "Sequential(\n",
      "  (0): GRU(6, 64, batch_first=True)\n",
      "  (1): GRU(64, 64, batch_first=True)\n",
      ")\n",
      "[2023-03-16 14:25:48] - train 0.023806, valid MSE Loss 0.141943, valid L1 Loss 0.375984\n",
      "[2023-03-16 14:25:48] - Epoch: 65\n",
      "[2023-03-16 14:25:48] - training...\n"
     ]
    },
    {
     "name": "stderr",
     "output_type": "stream",
     "text": [
      "\n",
      "  0%|                                                     | 0/6 [00:00<?, ?it/s]"
     ]
    },
    {
     "name": "stdout",
     "output_type": "stream",
     "text": [
      "torch.Size([128, 24, 6])\n",
      "Sequential(\n",
      "  (0): GRU(6, 64, batch_first=True)\n",
      "  (1): GRU(64, 64, batch_first=True)\n",
      ")\n",
      "torch.Size([128, 24, 6])\n",
      "Sequential(\n",
      "  (0): GRU(6, 64, batch_first=True)\n",
      "  (1): GRU(64, 64, batch_first=True)\n",
      ")\n"
     ]
    },
    {
     "name": "stderr",
     "output_type": "stream",
     "text": [
      "\r",
      " 33%|███████████████                              | 2/6 [00:00<00:00, 10.18it/s]"
     ]
    },
    {
     "name": "stdout",
     "output_type": "stream",
     "text": [
      "torch.Size([128, 24, 6])\n",
      "Sequential(\n",
      "  (0): GRU(6, 64, batch_first=True)\n",
      "  (1): GRU(64, 64, batch_first=True)\n",
      ")\n",
      "torch.Size([128, 24, 6])\n",
      "Sequential(\n",
      "  (0): GRU(6, 64, batch_first=True)\n",
      "  (1): GRU(64, 64, batch_first=True)\n",
      ")\n"
     ]
    },
    {
     "name": "stderr",
     "output_type": "stream",
     "text": [
      "\r",
      " 67%|██████████████████████████████               | 4/6 [00:00<00:00, 10.11it/s]"
     ]
    },
    {
     "name": "stdout",
     "output_type": "stream",
     "text": [
      "torch.Size([128, 24, 6])\n",
      "Sequential(\n",
      "  (0): GRU(6, 64, batch_first=True)\n",
      "  (1): GRU(64, 64, batch_first=True)\n",
      ")\n"
     ]
    },
    {
     "name": "stderr",
     "output_type": "stream",
     "text": [
      "100%|█████████████████████████████████████████████| 6/6 [00:00<00:00, 11.57it/s]"
     ]
    },
    {
     "name": "stdout",
     "output_type": "stream",
     "text": [
      "[2023-03-16 14:25:48] - evaluating...\n"
     ]
    },
    {
     "name": "stderr",
     "output_type": "stream",
     "text": [
      "\n",
      "Valid: 100%|█████████████████████████████████████| 2/2 [00:00<00:00, 334.65it/s]"
     ]
    },
    {
     "name": "stdout",
     "output_type": "stream",
     "text": [
      "torch.Size([64, 24, 6])\n",
      "Sequential(\n",
      "  (0): GRU(6, 64, batch_first=True)\n",
      "  (1): GRU(64, 64, batch_first=True)\n",
      ")\n",
      "torch.Size([57, 24, 6])\n",
      "Sequential(\n",
      "  (0): GRU(6, 64, batch_first=True)\n",
      "  (1): GRU(64, 64, batch_first=True)\n",
      ")\n",
      "[2023-03-16 14:25:48] - train 0.025760, valid MSE Loss 0.232140, valid L1 Loss 0.481158\n",
      "[2023-03-16 14:25:48] - Epoch: 66\n",
      "[2023-03-16 14:25:48] - training...\n"
     ]
    },
    {
     "name": "stderr",
     "output_type": "stream",
     "text": [
      "\n",
      "  0%|                                                     | 0/6 [00:00<?, ?it/s]"
     ]
    },
    {
     "name": "stdout",
     "output_type": "stream",
     "text": [
      "torch.Size([128, 24, 6])\n",
      "Sequential(\n",
      "  (0): GRU(6, 64, batch_first=True)\n",
      "  (1): GRU(64, 64, batch_first=True)\n",
      ")\n"
     ]
    },
    {
     "name": "stderr",
     "output_type": "stream",
     "text": [
      "\r",
      " 17%|███████▌                                     | 1/6 [00:00<00:00,  9.23it/s]"
     ]
    },
    {
     "name": "stdout",
     "output_type": "stream",
     "text": [
      "torch.Size([128, 24, 6])\n",
      "Sequential(\n",
      "  (0): GRU(6, 64, batch_first=True)\n",
      "  (1): GRU(64, 64, batch_first=True)\n",
      ")\n"
     ]
    },
    {
     "name": "stderr",
     "output_type": "stream",
     "text": [
      "\r",
      " 33%|███████████████                              | 2/6 [00:00<00:00,  9.56it/s]"
     ]
    },
    {
     "name": "stdout",
     "output_type": "stream",
     "text": [
      "torch.Size([128, 24, 6])\n",
      "Sequential(\n",
      "  (0): GRU(6, 64, batch_first=True)\n",
      "  (1): GRU(64, 64, batch_first=True)\n",
      ")\n"
     ]
    },
    {
     "name": "stderr",
     "output_type": "stream",
     "text": [
      "\r",
      " 50%|██████████████████████▌                      | 3/6 [00:00<00:00,  9.49it/s]"
     ]
    },
    {
     "name": "stdout",
     "output_type": "stream",
     "text": [
      "torch.Size([128, 24, 6])\n",
      "Sequential(\n",
      "  (0): GRU(6, 64, batch_first=True)\n",
      "  (1): GRU(64, 64, batch_first=True)\n",
      ")\n"
     ]
    },
    {
     "name": "stderr",
     "output_type": "stream",
     "text": [
      "\r",
      " 67%|██████████████████████████████               | 4/6 [00:00<00:00,  9.33it/s]"
     ]
    },
    {
     "name": "stdout",
     "output_type": "stream",
     "text": [
      "torch.Size([128, 24, 6])\n",
      "Sequential(\n",
      "  (0): GRU(6, 64, batch_first=True)\n",
      "  (1): GRU(64, 64, batch_first=True)\n",
      ")\n"
     ]
    },
    {
     "name": "stderr",
     "output_type": "stream",
     "text": [
      "100%|█████████████████████████████████████████████| 6/6 [00:00<00:00, 11.06it/s]"
     ]
    },
    {
     "name": "stdout",
     "output_type": "stream",
     "text": [
      "[2023-03-16 14:25:49] - evaluating...\n"
     ]
    },
    {
     "name": "stderr",
     "output_type": "stream",
     "text": [
      "\n",
      "Valid: 100%|█████████████████████████████████████| 2/2 [00:00<00:00, 362.53it/s]"
     ]
    },
    {
     "name": "stdout",
     "output_type": "stream",
     "text": [
      "torch.Size([64, 24, 6])\n",
      "Sequential(\n",
      "  (0): GRU(6, 64, batch_first=True)\n",
      "  (1): GRU(64, 64, batch_first=True)\n",
      ")\n",
      "torch.Size([57, 24, 6])\n",
      "Sequential(\n",
      "  (0): GRU(6, 64, batch_first=True)\n",
      "  (1): GRU(64, 64, batch_first=True)\n",
      ")\n",
      "[2023-03-16 14:25:49] - train 0.023831, valid MSE Loss 0.295912, valid L1 Loss 0.543358\n",
      "[2023-03-16 14:25:49] - Epoch: 67\n",
      "[2023-03-16 14:25:49] - training...\n"
     ]
    },
    {
     "name": "stderr",
     "output_type": "stream",
     "text": [
      "\n",
      "  0%|                                                     | 0/6 [00:00<?, ?it/s]"
     ]
    },
    {
     "name": "stdout",
     "output_type": "stream",
     "text": [
      "torch.Size([128, 24, 6])\n",
      "Sequential(\n",
      "  (0): GRU(6, 64, batch_first=True)\n",
      "  (1): GRU(64, 64, batch_first=True)\n",
      ")\n"
     ]
    },
    {
     "name": "stderr",
     "output_type": "stream",
     "text": [
      "\r",
      " 17%|███████▌                                     | 1/6 [00:00<00:00,  9.25it/s]"
     ]
    },
    {
     "name": "stdout",
     "output_type": "stream",
     "text": [
      "torch.Size([128, 24, 6])\n",
      "Sequential(\n",
      "  (0): GRU(6, 64, batch_first=True)\n",
      "  (1): GRU(64, 64, batch_first=True)\n",
      ")\n"
     ]
    },
    {
     "name": "stderr",
     "output_type": "stream",
     "text": [
      "\r",
      " 33%|███████████████                              | 2/6 [00:00<00:00,  8.78it/s]"
     ]
    },
    {
     "name": "stdout",
     "output_type": "stream",
     "text": [
      "torch.Size([128, 24, 6])\n",
      "Sequential(\n",
      "  (0): GRU(6, 64, batch_first=True)\n",
      "  (1): GRU(64, 64, batch_first=True)\n",
      ")\n"
     ]
    },
    {
     "name": "stderr",
     "output_type": "stream",
     "text": [
      " 67%|██████████████████████████████               | 4/6 [00:00<00:00,  9.52it/s]"
     ]
    },
    {
     "name": "stdout",
     "output_type": "stream",
     "text": [
      "torch.Size([128, 24, 6])\n",
      "Sequential(\n",
      "  (0): GRU(6, 64, batch_first=True)\n",
      "  (1): GRU(64, 64, batch_first=True)\n",
      ")\n",
      "torch.Size([128, 24, 6])\n",
      "Sequential(\n",
      "  (0): GRU(6, 64, batch_first=True)\n",
      "  (1): GRU(64, 64, batch_first=True)\n",
      ")\n"
     ]
    },
    {
     "name": "stderr",
     "output_type": "stream",
     "text": [
      "100%|█████████████████████████████████████████████| 6/6 [00:00<00:00, 10.92it/s]"
     ]
    },
    {
     "name": "stdout",
     "output_type": "stream",
     "text": [
      "[2023-03-16 14:25:49] - evaluating...\n"
     ]
    },
    {
     "name": "stderr",
     "output_type": "stream",
     "text": [
      "\n",
      "Valid: 100%|█████████████████████████████████████| 2/2 [00:00<00:00, 326.02it/s]"
     ]
    },
    {
     "name": "stdout",
     "output_type": "stream",
     "text": [
      "torch.Size([64, 24, 6])\n",
      "Sequential(\n",
      "  (0): GRU(6, 64, batch_first=True)\n",
      "  (1): GRU(64, 64, batch_first=True)\n",
      ")\n",
      "torch.Size([57, 24, 6])\n",
      "Sequential(\n",
      "  (0): GRU(6, 64, batch_first=True)\n",
      "  (1): GRU(64, 64, batch_first=True)\n",
      ")\n",
      "[2023-03-16 14:25:49] - train 0.029297, valid MSE Loss 0.182678, valid L1 Loss 0.426989\n",
      "[2023-03-16 14:25:49] - Epoch: 68\n",
      "[2023-03-16 14:25:49] - training...\n"
     ]
    },
    {
     "name": "stderr",
     "output_type": "stream",
     "text": [
      "\n",
      "  0%|                                                     | 0/6 [00:00<?, ?it/s]"
     ]
    },
    {
     "name": "stdout",
     "output_type": "stream",
     "text": [
      "torch.Size([128, 24, 6])\n",
      "Sequential(\n",
      "  (0): GRU(6, 64, batch_first=True)\n",
      "  (1): GRU(64, 64, batch_first=True)\n",
      ")\n"
     ]
    },
    {
     "name": "stderr",
     "output_type": "stream",
     "text": [
      "\r",
      " 17%|███████▌                                     | 1/6 [00:00<00:00,  9.64it/s]"
     ]
    },
    {
     "name": "stdout",
     "output_type": "stream",
     "text": [
      "torch.Size([128, 24, 6])\n",
      "Sequential(\n",
      "  (0): GRU(6, 64, batch_first=True)\n",
      "  (1): GRU(64, 64, batch_first=True)\n",
      ")\n",
      "torch.Size([128, 24, 6])\n",
      "Sequential(\n",
      "  (0): GRU(6, 64, batch_first=True)\n",
      "  (1): GRU(64, 64, batch_first=True)\n",
      ")\n"
     ]
    },
    {
     "name": "stderr",
     "output_type": "stream",
     "text": [
      "\r",
      " 50%|██████████████████████▌                      | 3/6 [00:00<00:00, 10.15it/s]"
     ]
    },
    {
     "name": "stdout",
     "output_type": "stream",
     "text": [
      "torch.Size([128, 24, 6])\n",
      "Sequential(\n",
      "  (0): GRU(6, 64, batch_first=True)\n",
      "  (1): GRU(64, 64, batch_first=True)\n",
      ")\n",
      "torch.Size([128, 24, 6])\n",
      "Sequential(\n",
      "  (0): GRU(6, 64, batch_first=True)\n",
      "  (1): GRU(64, 64, batch_first=True)\n",
      ")\n"
     ]
    },
    {
     "name": "stderr",
     "output_type": "stream",
     "text": [
      "100%|█████████████████████████████████████████████| 6/6 [00:00<00:00, 11.73it/s]"
     ]
    },
    {
     "name": "stdout",
     "output_type": "stream",
     "text": [
      "[2023-03-16 14:25:50] - evaluating...\n"
     ]
    },
    {
     "name": "stderr",
     "output_type": "stream",
     "text": [
      "\n",
      "Valid: 100%|█████████████████████████████████████| 2/2 [00:00<00:00, 398.51it/s]"
     ]
    },
    {
     "name": "stdout",
     "output_type": "stream",
     "text": [
      "torch.Size([64, 24, 6])\n",
      "Sequential(\n",
      "  (0): GRU(6, 64, batch_first=True)\n",
      "  (1): GRU(64, 64, batch_first=True)\n",
      ")\n",
      "torch.Size([57, 24, 6])\n",
      "Sequential(\n",
      "  (0): GRU(6, 64, batch_first=True)\n",
      "  (1): GRU(64, 64, batch_first=True)\n",
      ")\n",
      "[2023-03-16 14:25:50] - train 0.025232, valid MSE Loss 0.158856, valid L1 Loss 0.397757\n",
      "[2023-03-16 14:25:50] - Epoch: 69\n",
      "[2023-03-16 14:25:50] - training...\n"
     ]
    },
    {
     "name": "stderr",
     "output_type": "stream",
     "text": [
      "\n",
      "  0%|                                                     | 0/6 [00:00<?, ?it/s]"
     ]
    },
    {
     "name": "stdout",
     "output_type": "stream",
     "text": [
      "torch.Size([128, 24, 6])\n",
      "Sequential(\n",
      "  (0): GRU(6, 64, batch_first=True)\n",
      "  (1): GRU(64, 64, batch_first=True)\n",
      ")\n"
     ]
    },
    {
     "name": "stderr",
     "output_type": "stream",
     "text": [
      "\r",
      " 17%|███████▌                                     | 1/6 [00:00<00:00,  9.38it/s]"
     ]
    },
    {
     "name": "stdout",
     "output_type": "stream",
     "text": [
      "torch.Size([128, 24, 6])\n",
      "Sequential(\n",
      "  (0): GRU(6, 64, batch_first=True)\n",
      "  (1): GRU(64, 64, batch_first=True)\n",
      ")\n"
     ]
    },
    {
     "name": "stderr",
     "output_type": "stream",
     "text": [
      "\r",
      " 33%|███████████████                              | 2/6 [00:00<00:00,  9.45it/s]"
     ]
    },
    {
     "name": "stdout",
     "output_type": "stream",
     "text": [
      "torch.Size([128, 24, 6])\n",
      "Sequential(\n",
      "  (0): GRU(6, 64, batch_first=True)\n",
      "  (1): GRU(64, 64, batch_first=True)\n",
      ")\n"
     ]
    },
    {
     "name": "stderr",
     "output_type": "stream",
     "text": [
      "\r",
      " 50%|██████████████████████▌                      | 3/6 [00:00<00:00,  9.47it/s]"
     ]
    },
    {
     "name": "stdout",
     "output_type": "stream",
     "text": [
      "torch.Size([128, 24, 6])\n",
      "Sequential(\n",
      "  (0): GRU(6, 64, batch_first=True)\n",
      "  (1): GRU(64, 64, batch_first=True)\n",
      ")\n"
     ]
    },
    {
     "name": "stderr",
     "output_type": "stream",
     "text": [
      "100%|█████████████████████████████████████████████| 6/6 [00:00<00:00, 11.55it/s]"
     ]
    },
    {
     "name": "stdout",
     "output_type": "stream",
     "text": [
      "torch.Size([128, 24, 6])\n",
      "Sequential(\n",
      "  (0): GRU(6, 64, batch_first=True)\n",
      "  (1): GRU(64, 64, batch_first=True)\n",
      ")\n",
      "[2023-03-16 14:25:50] - evaluating...\n"
     ]
    },
    {
     "name": "stderr",
     "output_type": "stream",
     "text": [
      "\n",
      "Valid: 100%|█████████████████████████████████████| 2/2 [00:00<00:00, 412.36it/s]"
     ]
    },
    {
     "name": "stdout",
     "output_type": "stream",
     "text": [
      "torch.Size([64, 24, 6])\n",
      "Sequential(\n",
      "  (0): GRU(6, 64, batch_first=True)\n",
      "  (1): GRU(64, 64, batch_first=True)\n",
      ")\n",
      "torch.Size([57, 24, 6])\n",
      "Sequential(\n",
      "  (0): GRU(6, 64, batch_first=True)\n",
      "  (1): GRU(64, 64, batch_first=True)\n",
      ")\n",
      "[2023-03-16 14:25:50] - train 0.026483, valid MSE Loss 0.143616, valid L1 Loss 0.378213\n",
      "[2023-03-16 14:25:50] - Epoch: 70\n",
      "[2023-03-16 14:25:51] - training...\n"
     ]
    },
    {
     "name": "stderr",
     "output_type": "stream",
     "text": [
      "\n",
      "  0%|                                                     | 0/6 [00:00<?, ?it/s]"
     ]
    },
    {
     "name": "stdout",
     "output_type": "stream",
     "text": [
      "torch.Size([128, 24, 6])\n",
      "Sequential(\n",
      "  (0): GRU(6, 64, batch_first=True)\n",
      "  (1): GRU(64, 64, batch_first=True)\n",
      ")\n"
     ]
    },
    {
     "name": "stderr",
     "output_type": "stream",
     "text": [
      "\r",
      " 17%|███████▌                                     | 1/6 [00:00<00:00,  9.88it/s]"
     ]
    },
    {
     "name": "stdout",
     "output_type": "stream",
     "text": [
      "torch.Size([128, 24, 6])\n",
      "Sequential(\n",
      "  (0): GRU(6, 64, batch_first=True)\n",
      "  (1): GRU(64, 64, batch_first=True)\n",
      ")\n"
     ]
    },
    {
     "name": "stderr",
     "output_type": "stream",
     "text": [
      "\r",
      " 33%|███████████████                              | 2/6 [00:00<00:00,  9.63it/s]"
     ]
    },
    {
     "name": "stdout",
     "output_type": "stream",
     "text": [
      "torch.Size([128, 24, 6])\n",
      "Sequential(\n",
      "  (0): GRU(6, 64, batch_first=True)\n",
      "  (1): GRU(64, 64, batch_first=True)\n",
      ")\n",
      "torch.Size([128, 24, 6])\n",
      "Sequential(\n",
      "  (0): GRU(6, 64, batch_first=True)\n",
      "  (1): GRU(64, 64, batch_first=True)\n",
      ")\n"
     ]
    },
    {
     "name": "stderr",
     "output_type": "stream",
     "text": [
      "\r",
      " 67%|██████████████████████████████               | 4/6 [00:00<00:00,  9.91it/s]"
     ]
    },
    {
     "name": "stdout",
     "output_type": "stream",
     "text": [
      "torch.Size([128, 24, 6])\n",
      "Sequential(\n",
      "  (0): GRU(6, 64, batch_first=True)\n",
      "  (1): GRU(64, 64, batch_first=True)\n",
      ")\n"
     ]
    },
    {
     "name": "stderr",
     "output_type": "stream",
     "text": [
      "100%|█████████████████████████████████████████████| 6/6 [00:00<00:00, 11.45it/s]"
     ]
    },
    {
     "name": "stdout",
     "output_type": "stream",
     "text": [
      "[2023-03-16 14:25:51] - evaluating...\n"
     ]
    },
    {
     "name": "stderr",
     "output_type": "stream",
     "text": [
      "\n",
      "Valid: 100%|█████████████████████████████████████| 2/2 [00:00<00:00, 315.35it/s]"
     ]
    },
    {
     "name": "stdout",
     "output_type": "stream",
     "text": [
      "torch.Size([64, 24, 6])\n",
      "Sequential(\n",
      "  (0): GRU(6, 64, batch_first=True)\n",
      "  (1): GRU(64, 64, batch_first=True)\n",
      ")\n",
      "torch.Size([57, 24, 6])\n",
      "Sequential(\n",
      "  (0): GRU(6, 64, batch_first=True)\n",
      "  (1): GRU(64, 64, batch_first=True)\n",
      ")\n",
      "[2023-03-16 14:25:51] - train 0.025359, valid MSE Loss 0.202355, valid L1 Loss 0.448856\n",
      "[2023-03-16 14:25:51] - Epoch: 71\n",
      "[2023-03-16 14:25:51] - training...\n"
     ]
    },
    {
     "name": "stderr",
     "output_type": "stream",
     "text": [
      "\n",
      "  0%|                                                     | 0/6 [00:00<?, ?it/s]"
     ]
    },
    {
     "name": "stdout",
     "output_type": "stream",
     "text": [
      "torch.Size([128, 24, 6])\n",
      "Sequential(\n",
      "  (0): GRU(6, 64, batch_first=True)\n",
      "  (1): GRU(64, 64, batch_first=True)\n",
      ")\n"
     ]
    },
    {
     "name": "stderr",
     "output_type": "stream",
     "text": [
      "\r",
      " 17%|███████▌                                     | 1/6 [00:00<00:00,  9.31it/s]"
     ]
    },
    {
     "name": "stdout",
     "output_type": "stream",
     "text": [
      "torch.Size([128, 24, 6])\n",
      "Sequential(\n",
      "  (0): GRU(6, 64, batch_first=True)\n",
      "  (1): GRU(64, 64, batch_first=True)\n",
      ")\n"
     ]
    },
    {
     "name": "stderr",
     "output_type": "stream",
     "text": [
      "\r",
      " 50%|██████████████████████▌                      | 3/6 [00:00<00:00, 10.04it/s]"
     ]
    },
    {
     "name": "stdout",
     "output_type": "stream",
     "text": [
      "torch.Size([128, 24, 6])\n",
      "Sequential(\n",
      "  (0): GRU(6, 64, batch_first=True)\n",
      "  (1): GRU(64, 64, batch_first=True)\n",
      ")\n",
      "torch.Size([128, 24, 6])\n",
      "Sequential(\n",
      "  (0): GRU(6, 64, batch_first=True)\n",
      "  (1): GRU(64, 64, batch_first=True)\n",
      ")\n",
      "torch.Size([128, 24, 6])\n",
      "Sequential(\n",
      "  (0): GRU(6, 64, batch_first=True)\n",
      "  (1): GRU(64, 64, batch_first=True)\n",
      ")\n"
     ]
    },
    {
     "name": "stderr",
     "output_type": "stream",
     "text": [
      "100%|█████████████████████████████████████████████| 6/6 [00:00<00:00, 11.88it/s]"
     ]
    },
    {
     "name": "stdout",
     "output_type": "stream",
     "text": [
      "[2023-03-16 14:25:52] - evaluating...\n"
     ]
    },
    {
     "name": "stderr",
     "output_type": "stream",
     "text": [
      "\n",
      "Valid: 100%|█████████████████████████████████████| 2/2 [00:00<00:00, 343.64it/s]"
     ]
    },
    {
     "name": "stdout",
     "output_type": "stream",
     "text": [
      "torch.Size([64, 24, 6])\n",
      "Sequential(\n",
      "  (0): GRU(6, 64, batch_first=True)\n",
      "  (1): GRU(64, 64, batch_first=True)\n",
      ")\n",
      "torch.Size([57, 24, 6])\n",
      "Sequential(\n",
      "  (0): GRU(6, 64, batch_first=True)\n",
      "  (1): GRU(64, 64, batch_first=True)\n",
      ")\n",
      "[2023-03-16 14:25:52] - train 0.028908, valid MSE Loss 0.270420, valid L1 Loss 0.519760\n",
      "[2023-03-16 14:25:52] - Epoch: 72\n",
      "[2023-03-16 14:25:52] - training...\n"
     ]
    },
    {
     "name": "stderr",
     "output_type": "stream",
     "text": [
      "\n",
      "  0%|                                                     | 0/6 [00:00<?, ?it/s]"
     ]
    },
    {
     "name": "stdout",
     "output_type": "stream",
     "text": [
      "torch.Size([128, 24, 6])\n",
      "Sequential(\n",
      "  (0): GRU(6, 64, batch_first=True)\n",
      "  (1): GRU(64, 64, batch_first=True)\n",
      ")\n"
     ]
    },
    {
     "name": "stderr",
     "output_type": "stream",
     "text": [
      "\r",
      " 17%|███████▌                                     | 1/6 [00:00<00:00,  9.58it/s]"
     ]
    },
    {
     "name": "stdout",
     "output_type": "stream",
     "text": [
      "torch.Size([128, 24, 6])\n",
      "Sequential(\n",
      "  (0): GRU(6, 64, batch_first=True)\n",
      "  (1): GRU(64, 64, batch_first=True)\n",
      ")\n"
     ]
    },
    {
     "name": "stderr",
     "output_type": "stream",
     "text": [
      "\r",
      " 33%|███████████████                              | 2/6 [00:00<00:00,  9.33it/s]"
     ]
    },
    {
     "name": "stdout",
     "output_type": "stream",
     "text": [
      "torch.Size([128, 24, 6])\n",
      "Sequential(\n",
      "  (0): GRU(6, 64, batch_first=True)\n",
      "  (1): GRU(64, 64, batch_first=True)\n",
      ")\n"
     ]
    },
    {
     "name": "stderr",
     "output_type": "stream",
     "text": [
      "\r",
      " 50%|██████████████████████▌                      | 3/6 [00:00<00:00,  9.62it/s]"
     ]
    },
    {
     "name": "stdout",
     "output_type": "stream",
     "text": [
      "torch.Size([128, 24, 6])\n",
      "Sequential(\n",
      "  (0): GRU(6, 64, batch_first=True)\n",
      "  (1): GRU(64, 64, batch_first=True)\n",
      ")\n"
     ]
    },
    {
     "name": "stderr",
     "output_type": "stream",
     "text": [
      "100%|█████████████████████████████████████████████| 6/6 [00:00<00:00,  9.38it/s]"
     ]
    },
    {
     "name": "stdout",
     "output_type": "stream",
     "text": [
      "torch.Size([128, 24, 6])\n",
      "Sequential(\n",
      "  (0): GRU(6, 64, batch_first=True)\n",
      "  (1): GRU(64, 64, batch_first=True)\n",
      ")\n",
      "[2023-03-16 14:25:52] - evaluating...\n"
     ]
    },
    {
     "name": "stderr",
     "output_type": "stream",
     "text": [
      "\n",
      "Valid: 100%|█████████████████████████████████████| 2/2 [00:00<00:00, 416.62it/s]"
     ]
    },
    {
     "name": "stdout",
     "output_type": "stream",
     "text": [
      "torch.Size([64, 24, 6])\n",
      "Sequential(\n",
      "  (0): GRU(6, 64, batch_first=True)\n",
      "  (1): GRU(64, 64, batch_first=True)\n",
      ")\n",
      "torch.Size([57, 24, 6])\n",
      "Sequential(\n",
      "  (0): GRU(6, 64, batch_first=True)\n",
      "  (1): GRU(64, 64, batch_first=True)\n",
      ")\n",
      "[2023-03-16 14:25:52] - train 0.025038, valid MSE Loss 0.194835, valid L1 Loss 0.441045\n",
      "[2023-03-16 14:25:52] - Epoch: 73\n",
      "[2023-03-16 14:25:52] - training...\n"
     ]
    },
    {
     "name": "stderr",
     "output_type": "stream",
     "text": [
      "\n",
      "  0%|                                                     | 0/6 [00:00<?, ?it/s]"
     ]
    },
    {
     "name": "stdout",
     "output_type": "stream",
     "text": [
      "torch.Size([128, 24, 6])\n",
      "Sequential(\n",
      "  (0): GRU(6, 64, batch_first=True)\n",
      "  (1): GRU(64, 64, batch_first=True)\n",
      ")\n"
     ]
    },
    {
     "name": "stderr",
     "output_type": "stream",
     "text": [
      "\r",
      " 17%|███████▌                                     | 1/6 [00:00<00:00,  9.59it/s]"
     ]
    },
    {
     "name": "stdout",
     "output_type": "stream",
     "text": [
      "torch.Size([128, 24, 6])\n",
      "Sequential(\n",
      "  (0): GRU(6, 64, batch_first=True)\n",
      "  (1): GRU(64, 64, batch_first=True)\n",
      ")\n"
     ]
    },
    {
     "name": "stderr",
     "output_type": "stream",
     "text": [
      "\r",
      " 33%|███████████████                              | 2/6 [00:00<00:00,  9.57it/s]"
     ]
    },
    {
     "name": "stdout",
     "output_type": "stream",
     "text": [
      "torch.Size([128, 24, 6])\n",
      "Sequential(\n",
      "  (0): GRU(6, 64, batch_first=True)\n",
      "  (1): GRU(64, 64, batch_first=True)\n",
      ")\n"
     ]
    },
    {
     "name": "stderr",
     "output_type": "stream",
     "text": [
      " 67%|██████████████████████████████               | 4/6 [00:00<00:00,  9.81it/s]"
     ]
    },
    {
     "name": "stdout",
     "output_type": "stream",
     "text": [
      "torch.Size([128, 24, 6])\n",
      "Sequential(\n",
      "  (0): GRU(6, 64, batch_first=True)\n",
      "  (1): GRU(64, 64, batch_first=True)\n",
      ")\n",
      "torch.Size([128, 24, 6])\n",
      "Sequential(\n",
      "  (0): GRU(6, 64, batch_first=True)\n",
      "  (1): GRU(64, 64, batch_first=True)\n",
      ")\n"
     ]
    },
    {
     "name": "stderr",
     "output_type": "stream",
     "text": [
      "100%|█████████████████████████████████████████████| 6/6 [00:00<00:00, 11.47it/s]"
     ]
    },
    {
     "name": "stdout",
     "output_type": "stream",
     "text": [
      "[2023-03-16 14:25:53] - evaluating...\n"
     ]
    },
    {
     "name": "stderr",
     "output_type": "stream",
     "text": [
      "\n",
      "Valid: 100%|█████████████████████████████████████| 2/2 [00:00<00:00, 414.27it/s]"
     ]
    },
    {
     "name": "stdout",
     "output_type": "stream",
     "text": [
      "torch.Size([64, 24, 6])\n",
      "Sequential(\n",
      "  (0): GRU(6, 64, batch_first=True)\n",
      "  (1): GRU(64, 64, batch_first=True)\n",
      ")\n",
      "torch.Size([57, 24, 6])\n",
      "Sequential(\n",
      "  (0): GRU(6, 64, batch_first=True)\n",
      "  (1): GRU(64, 64, batch_first=True)\n",
      ")\n",
      "[2023-03-16 14:25:53] - train 0.027742, valid MSE Loss 0.126238, valid L1 Loss 0.354889\n",
      "[2023-03-16 14:25:53] - Epoch: 74\n",
      "[2023-03-16 14:25:53] - training...\n"
     ]
    },
    {
     "name": "stderr",
     "output_type": "stream",
     "text": [
      "\n",
      "  0%|                                                     | 0/6 [00:00<?, ?it/s]"
     ]
    },
    {
     "name": "stdout",
     "output_type": "stream",
     "text": [
      "torch.Size([128, 24, 6])\n",
      "Sequential(\n",
      "  (0): GRU(6, 64, batch_first=True)\n",
      "  (1): GRU(64, 64, batch_first=True)\n",
      ")\n"
     ]
    },
    {
     "name": "stderr",
     "output_type": "stream",
     "text": [
      "\r",
      " 17%|███████▌                                     | 1/6 [00:00<00:00,  9.88it/s]"
     ]
    },
    {
     "name": "stdout",
     "output_type": "stream",
     "text": [
      "torch.Size([128, 24, 6])\n",
      "Sequential(\n",
      "  (0): GRU(6, 64, batch_first=True)\n",
      "  (1): GRU(64, 64, batch_first=True)\n",
      ")\n"
     ]
    },
    {
     "name": "stderr",
     "output_type": "stream",
     "text": [
      "\r",
      " 33%|███████████████                              | 2/6 [00:00<00:00,  9.61it/s]"
     ]
    },
    {
     "name": "stdout",
     "output_type": "stream",
     "text": [
      "torch.Size([128, 24, 6])\n",
      "Sequential(\n",
      "  (0): GRU(6, 64, batch_first=True)\n",
      "  (1): GRU(64, 64, batch_first=True)\n",
      ")\n"
     ]
    },
    {
     "name": "stderr",
     "output_type": "stream",
     "text": [
      "\r",
      " 50%|██████████████████████▌                      | 3/6 [00:00<00:00,  9.68it/s]"
     ]
    },
    {
     "name": "stdout",
     "output_type": "stream",
     "text": [
      "torch.Size([128, 24, 6])\n",
      "Sequential(\n",
      "  (0): GRU(6, 64, batch_first=True)\n",
      "  (1): GRU(64, 64, batch_first=True)\n",
      ")\n",
      "torch.Size([128, 24, 6])\n",
      "Sequential(\n",
      "  (0): GRU(6, 64, batch_first=True)\n",
      "  (1): GRU(64, 64, batch_first=True)\n",
      ")\n"
     ]
    },
    {
     "name": "stderr",
     "output_type": "stream",
     "text": [
      "100%|█████████████████████████████████████████████| 6/6 [00:00<00:00, 11.92it/s]\n"
     ]
    },
    {
     "name": "stdout",
     "output_type": "stream",
     "text": [
      "[2023-03-16 14:25:53] - evaluating...\n"
     ]
    },
    {
     "name": "stderr",
     "output_type": "stream",
     "text": [
      "Valid: 100%|█████████████████████████████████████| 2/2 [00:00<00:00, 410.86it/s]"
     ]
    },
    {
     "name": "stdout",
     "output_type": "stream",
     "text": [
      "torch.Size([64, 24, 6])\n",
      "Sequential(\n",
      "  (0): GRU(6, 64, batch_first=True)\n",
      "  (1): GRU(64, 64, batch_first=True)\n",
      ")\n",
      "torch.Size([57, 24, 6])\n",
      "Sequential(\n",
      "  (0): GRU(6, 64, batch_first=True)\n",
      "  (1): GRU(64, 64, batch_first=True)\n",
      ")\n",
      "[2023-03-16 14:25:53] - train 0.023705, valid MSE Loss 0.073550, valid L1 Loss 0.270423\n",
      "[2023-03-16 14:25:53] - Epoch: 75\n",
      "[2023-03-16 14:25:53] - training...\n"
     ]
    },
    {
     "name": "stderr",
     "output_type": "stream",
     "text": [
      "\n",
      " 17%|███████▌                                     | 1/6 [00:00<00:00,  9.97it/s]"
     ]
    },
    {
     "name": "stdout",
     "output_type": "stream",
     "text": [
      "torch.Size([128, 24, 6])\n",
      "Sequential(\n",
      "  (0): GRU(6, 64, batch_first=True)\n",
      "  (1): GRU(64, 64, batch_first=True)\n",
      ")\n",
      "torch.Size([128, 24, 6])\n",
      "Sequential(\n",
      "  (0): GRU(6, 64, batch_first=True)\n",
      "  (1): GRU(64, 64, batch_first=True)\n",
      ")\n"
     ]
    },
    {
     "name": "stderr",
     "output_type": "stream",
     "text": [
      " 67%|██████████████████████████████               | 4/6 [00:00<00:00, 10.65it/s]"
     ]
    },
    {
     "name": "stdout",
     "output_type": "stream",
     "text": [
      "torch.Size([128, 24, 6])\n",
      "Sequential(\n",
      "  (0): GRU(6, 64, batch_first=True)\n",
      "  (1): GRU(64, 64, batch_first=True)\n",
      ")\n",
      "torch.Size([128, 24, 6])\n",
      "Sequential(\n",
      "  (0): GRU(6, 64, batch_first=True)\n",
      "  (1): GRU(64, 64, batch_first=True)\n",
      ")\n",
      "torch.Size([128, 24, 6])\n",
      "Sequential(\n",
      "  (0): GRU(6, 64, batch_first=True)\n",
      "  (1): GRU(64, 64, batch_first=True)\n",
      ")\n"
     ]
    },
    {
     "name": "stderr",
     "output_type": "stream",
     "text": [
      "100%|█████████████████████████████████████████████| 6/6 [00:00<00:00, 12.29it/s]"
     ]
    },
    {
     "name": "stdout",
     "output_type": "stream",
     "text": [
      "[2023-03-16 14:25:54] - evaluating...\n"
     ]
    },
    {
     "name": "stderr",
     "output_type": "stream",
     "text": [
      "\n",
      "Valid: 100%|█████████████████████████████████████| 2/2 [00:00<00:00, 406.68it/s]"
     ]
    },
    {
     "name": "stdout",
     "output_type": "stream",
     "text": [
      "torch.Size([64, 24, 6])\n",
      "Sequential(\n",
      "  (0): GRU(6, 64, batch_first=True)\n",
      "  (1): GRU(64, 64, batch_first=True)\n",
      ")\n",
      "torch.Size([57, 24, 6])\n",
      "Sequential(\n",
      "  (0): GRU(6, 64, batch_first=True)\n",
      "  (1): GRU(64, 64, batch_first=True)\n",
      ")\n",
      "[2023-03-16 14:25:54] - train 0.024579, valid MSE Loss 0.024524, valid L1 Loss 0.155500\n",
      "[2023-03-16 14:25:54] - Epoch: 76\n",
      "[2023-03-16 14:25:54] - training...\n"
     ]
    },
    {
     "name": "stderr",
     "output_type": "stream",
     "text": [
      "\n",
      " 33%|███████████████                              | 2/6 [00:00<00:00, 11.09it/s]"
     ]
    },
    {
     "name": "stdout",
     "output_type": "stream",
     "text": [
      "torch.Size([128, 24, 6])\n",
      "Sequential(\n",
      "  (0): GRU(6, 64, batch_first=True)\n",
      "  (1): GRU(64, 64, batch_first=True)\n",
      ")\n",
      "torch.Size([128, 24, 6])\n",
      "Sequential(\n",
      "  (0): GRU(6, 64, batch_first=True)\n",
      "  (1): GRU(64, 64, batch_first=True)\n",
      ")\n",
      "torch.Size([128, 24, 6])\n",
      "Sequential(\n",
      "  (0): GRU(6, 64, batch_first=True)\n",
      "  (1): GRU(64, 64, batch_first=True)\n",
      ")\n"
     ]
    },
    {
     "name": "stderr",
     "output_type": "stream",
     "text": [
      "\r",
      " 67%|██████████████████████████████               | 4/6 [00:00<00:00, 11.50it/s]"
     ]
    },
    {
     "name": "stdout",
     "output_type": "stream",
     "text": [
      "torch.Size([128, 24, 6])\n",
      "Sequential(\n",
      "  (0): GRU(6, 64, batch_first=True)\n",
      "  (1): GRU(64, 64, batch_first=True)\n",
      ")\n",
      "torch.Size([128, 24, 6])\n",
      "Sequential(\n",
      "  (0): GRU(6, 64, batch_first=True)\n",
      "  (1): GRU(64, 64, batch_first=True)\n",
      ")\n"
     ]
    },
    {
     "name": "stderr",
     "output_type": "stream",
     "text": [
      "\r",
      "100%|█████████████████████████████████████████████| 6/6 [00:00<00:00, 13.58it/s]"
     ]
    },
    {
     "name": "stdout",
     "output_type": "stream",
     "text": [
      "[2023-03-16 14:25:54] - evaluating...\n"
     ]
    },
    {
     "name": "stderr",
     "output_type": "stream",
     "text": [
      "\n",
      "Valid: 100%|█████████████████████████████████████| 2/2 [00:00<00:00, 232.82it/s]"
     ]
    },
    {
     "name": "stdout",
     "output_type": "stream",
     "text": [
      "torch.Size([64, 24, 6])\n",
      "Sequential(\n",
      "  (0): GRU(6, 64, batch_first=True)\n",
      "  (1): GRU(64, 64, batch_first=True)\n",
      ")\n",
      "torch.Size([57, 24, 6])\n",
      "Sequential(\n",
      "  (0): GRU(6, 64, batch_first=True)\n",
      "  (1): GRU(64, 64, batch_first=True)\n",
      ")\n",
      "[2023-03-16 14:25:54] - train 0.024367, valid MSE Loss 0.003124, valid L1 Loss 0.050849\n",
      "[2023-03-16 14:25:54] - Epoch: 77\n",
      "[2023-03-16 14:25:54] - training...\n"
     ]
    },
    {
     "name": "stderr",
     "output_type": "stream",
     "text": [
      "\n",
      "  0%|                                                     | 0/6 [00:00<?, ?it/s]"
     ]
    },
    {
     "name": "stdout",
     "output_type": "stream",
     "text": [
      "torch.Size([128, 24, 6])\n",
      "Sequential(\n",
      "  (0): GRU(6, 64, batch_first=True)\n",
      "  (1): GRU(64, 64, batch_first=True)\n",
      ")\n",
      "torch.Size([128, 24, 6])\n",
      "Sequential(\n",
      "  (0): GRU(6, 64, batch_first=True)\n",
      "  (1): GRU(64, 64, batch_first=True)\n",
      ")\n"
     ]
    },
    {
     "name": "stderr",
     "output_type": "stream",
     "text": [
      "\r",
      " 33%|███████████████                              | 2/6 [00:00<00:00, 10.05it/s]"
     ]
    },
    {
     "name": "stdout",
     "output_type": "stream",
     "text": [
      "torch.Size([128, 24, 6])\n",
      "Sequential(\n",
      "  (0): GRU(6, 64, batch_first=True)\n",
      "  (1): GRU(64, 64, batch_first=True)\n",
      ")\n",
      "torch.Size([128, 24, 6])\n",
      "Sequential(\n",
      "  (0): GRU(6, 64, batch_first=True)\n",
      "  (1): GRU(64, 64, batch_first=True)\n",
      ")\n"
     ]
    },
    {
     "name": "stderr",
     "output_type": "stream",
     "text": [
      "\r",
      " 67%|██████████████████████████████               | 4/6 [00:00<00:00,  9.83it/s]"
     ]
    },
    {
     "name": "stdout",
     "output_type": "stream",
     "text": [
      "torch.Size([128, 24, 6])\n",
      "Sequential(\n",
      "  (0): GRU(6, 64, batch_first=True)\n",
      "  (1): GRU(64, 64, batch_first=True)\n",
      ")\n"
     ]
    },
    {
     "name": "stderr",
     "output_type": "stream",
     "text": [
      "100%|█████████████████████████████████████████████| 6/6 [00:00<00:00, 11.65it/s]"
     ]
    },
    {
     "name": "stdout",
     "output_type": "stream",
     "text": [
      "[2023-03-16 14:25:55] - evaluating...\n"
     ]
    },
    {
     "name": "stderr",
     "output_type": "stream",
     "text": [
      "\n",
      "Valid: 100%|█████████████████████████████████████| 2/2 [00:00<00:00, 431.89it/s]"
     ]
    },
    {
     "name": "stdout",
     "output_type": "stream",
     "text": [
      "torch.Size([64, 24, 6])\n",
      "Sequential(\n",
      "  (0): GRU(6, 64, batch_first=True)\n",
      "  (1): GRU(64, 64, batch_first=True)\n",
      ")\n",
      "torch.Size([57, 24, 6])\n",
      "Sequential(\n",
      "  (0): GRU(6, 64, batch_first=True)\n",
      "  (1): GRU(64, 64, batch_first=True)\n",
      ")\n",
      "[2023-03-16 14:25:55] - train 0.025187, valid MSE Loss 0.027113, valid L1 Loss 0.163703\n",
      "[2023-03-16 14:25:55] - Epoch: 78\n",
      "[2023-03-16 14:25:55] - training...\n"
     ]
    },
    {
     "name": "stderr",
     "output_type": "stream",
     "text": [
      "\n",
      "  0%|                                                     | 0/6 [00:00<?, ?it/s]"
     ]
    },
    {
     "name": "stdout",
     "output_type": "stream",
     "text": [
      "torch.Size([128, 24, 6])\n",
      "Sequential(\n",
      "  (0): GRU(6, 64, batch_first=True)\n",
      "  (1): GRU(64, 64, batch_first=True)\n",
      ")\n"
     ]
    },
    {
     "name": "stderr",
     "output_type": "stream",
     "text": [
      "\r",
      " 17%|███████▌                                     | 1/6 [00:00<00:00,  9.53it/s]"
     ]
    },
    {
     "name": "stdout",
     "output_type": "stream",
     "text": [
      "torch.Size([128, 24, 6])\n",
      "Sequential(\n",
      "  (0): GRU(6, 64, batch_first=True)\n",
      "  (1): GRU(64, 64, batch_first=True)\n",
      ")\n"
     ]
    },
    {
     "name": "stderr",
     "output_type": "stream",
     "text": [
      "\r",
      " 33%|███████████████                              | 2/6 [00:00<00:00,  9.45it/s]"
     ]
    },
    {
     "name": "stdout",
     "output_type": "stream",
     "text": [
      "torch.Size([128, 24, 6])\n",
      "Sequential(\n",
      "  (0): GRU(6, 64, batch_first=True)\n",
      "  (1): GRU(64, 64, batch_first=True)\n",
      ")\n"
     ]
    },
    {
     "name": "stderr",
     "output_type": "stream",
     "text": [
      "\r",
      " 67%|██████████████████████████████               | 4/6 [00:00<00:00,  9.83it/s]"
     ]
    },
    {
     "name": "stdout",
     "output_type": "stream",
     "text": [
      "torch.Size([128, 24, 6])\n",
      "Sequential(\n",
      "  (0): GRU(6, 64, batch_first=True)\n",
      "  (1): GRU(64, 64, batch_first=True)\n",
      ")\n",
      "torch.Size([128, 24, 6])\n",
      "Sequential(\n",
      "  (0): GRU(6, 64, batch_first=True)\n",
      "  (1): GRU(64, 64, batch_first=True)\n",
      ")\n"
     ]
    },
    {
     "name": "stderr",
     "output_type": "stream",
     "text": [
      "100%|█████████████████████████████████████████████| 6/6 [00:00<00:00, 11.66it/s]"
     ]
    },
    {
     "name": "stdout",
     "output_type": "stream",
     "text": [
      "[2023-03-16 14:25:55] - evaluating...\n"
     ]
    },
    {
     "name": "stderr",
     "output_type": "stream",
     "text": [
      "\n",
      "Valid: 100%|█████████████████████████████████████| 2/2 [00:00<00:00, 445.33it/s]"
     ]
    },
    {
     "name": "stdout",
     "output_type": "stream",
     "text": [
      "torch.Size([64, 24, 6])\n",
      "Sequential(\n",
      "  (0): GRU(6, 64, batch_first=True)\n",
      "  (1): GRU(64, 64, batch_first=True)\n",
      ")\n",
      "torch.Size([57, 24, 6])\n",
      "Sequential(\n",
      "  (0): GRU(6, 64, batch_first=True)\n",
      "  (1): GRU(64, 64, batch_first=True)\n",
      ")\n",
      "[2023-03-16 14:25:55] - train 0.024251, valid MSE Loss 0.067339, valid L1 Loss 0.258723\n",
      "[2023-03-16 14:25:55] - Epoch: 79\n",
      "[2023-03-16 14:25:55] - training...\n"
     ]
    },
    {
     "name": "stderr",
     "output_type": "stream",
     "text": [
      "\n",
      " 33%|███████████████                              | 2/6 [00:00<00:00, 11.14it/s]"
     ]
    },
    {
     "name": "stdout",
     "output_type": "stream",
     "text": [
      "torch.Size([128, 24, 6])\n",
      "Sequential(\n",
      "  (0): GRU(6, 64, batch_first=True)\n",
      "  (1): GRU(64, 64, batch_first=True)\n",
      ")\n",
      "torch.Size([128, 24, 6])\n",
      "Sequential(\n",
      "  (0): GRU(6, 64, batch_first=True)\n",
      "  (1): GRU(64, 64, batch_first=True)\n",
      ")\n",
      "torch.Size([128, 24, 6])\n",
      "Sequential(\n",
      "  (0): GRU(6, 64, batch_first=True)\n",
      "  (1): GRU(64, 64, batch_first=True)\n",
      ")\n"
     ]
    },
    {
     "name": "stderr",
     "output_type": "stream",
     "text": [
      "100%|█████████████████████████████████████████████| 6/6 [00:00<00:00, 12.88it/s]"
     ]
    },
    {
     "name": "stdout",
     "output_type": "stream",
     "text": [
      "torch.Size([128, 24, 6])\n",
      "Sequential(\n",
      "  (0): GRU(6, 64, batch_first=True)\n",
      "  (1): GRU(64, 64, batch_first=True)\n",
      ")\n",
      "torch.Size([128, 24, 6])\n",
      "Sequential(\n",
      "  (0): GRU(6, 64, batch_first=True)\n",
      "  (1): GRU(64, 64, batch_first=True)\n",
      ")\n",
      "[2023-03-16 14:25:56] - evaluating...\n"
     ]
    },
    {
     "name": "stderr",
     "output_type": "stream",
     "text": [
      "\n",
      "Valid: 100%|█████████████████████████████████████| 2/2 [00:00<00:00, 408.54it/s]"
     ]
    },
    {
     "name": "stdout",
     "output_type": "stream",
     "text": [
      "torch.Size([64, 24, 6])\n",
      "Sequential(\n",
      "  (0): GRU(6, 64, batch_first=True)\n",
      "  (1): GRU(64, 64, batch_first=True)\n",
      ")\n",
      "torch.Size([57, 24, 6])\n",
      "Sequential(\n",
      "  (0): GRU(6, 64, batch_first=True)\n",
      "  (1): GRU(64, 64, batch_first=True)\n",
      ")\n",
      "[2023-03-16 14:25:56] - train 0.023667, valid MSE Loss 0.167805, valid L1 Loss 0.409257\n",
      "[2023-03-16 14:25:56] - Epoch: 80\n",
      "[2023-03-16 14:25:56] - training...\n"
     ]
    },
    {
     "name": "stderr",
     "output_type": "stream",
     "text": [
      "\n",
      "  0%|                                                     | 0/6 [00:00<?, ?it/s]"
     ]
    },
    {
     "name": "stdout",
     "output_type": "stream",
     "text": [
      "torch.Size([128, 24, 6])\n",
      "Sequential(\n",
      "  (0): GRU(6, 64, batch_first=True)\n",
      "  (1): GRU(64, 64, batch_first=True)\n",
      ")\n",
      "torch.Size([128, 24, 6])\n",
      "Sequential(\n",
      "  (0): GRU(6, 64, batch_first=True)\n",
      "  (1): GRU(64, 64, batch_first=True)\n",
      ")\n"
     ]
    },
    {
     "name": "stderr",
     "output_type": "stream",
     "text": [
      "\r",
      " 33%|███████████████                              | 2/6 [00:00<00:00, 10.08it/s]"
     ]
    },
    {
     "name": "stdout",
     "output_type": "stream",
     "text": [
      "torch.Size([128, 24, 6])\n",
      "Sequential(\n",
      "  (0): GRU(6, 64, batch_first=True)\n",
      "  (1): GRU(64, 64, batch_first=True)\n",
      ")\n"
     ]
    },
    {
     "name": "stderr",
     "output_type": "stream",
     "text": [
      "\r",
      " 67%|██████████████████████████████               | 4/6 [00:00<00:00,  9.98it/s]"
     ]
    },
    {
     "name": "stdout",
     "output_type": "stream",
     "text": [
      "torch.Size([128, 24, 6])\n",
      "Sequential(\n",
      "  (0): GRU(6, 64, batch_first=True)\n",
      "  (1): GRU(64, 64, batch_first=True)\n",
      ")\n"
     ]
    },
    {
     "name": "stderr",
     "output_type": "stream",
     "text": [
      "\r",
      " 83%|█████████████████████████████████████▌       | 5/6 [00:00<00:00,  9.98it/s]"
     ]
    },
    {
     "name": "stdout",
     "output_type": "stream",
     "text": [
      "torch.Size([128, 24, 6])\n",
      "Sequential(\n",
      "  (0): GRU(6, 64, batch_first=True)\n",
      "  (1): GRU(64, 64, batch_first=True)\n",
      ")\n"
     ]
    },
    {
     "name": "stderr",
     "output_type": "stream",
     "text": [
      "\r",
      "100%|█████████████████████████████████████████████| 6/6 [00:00<00:00, 11.89it/s]"
     ]
    },
    {
     "name": "stdout",
     "output_type": "stream",
     "text": [
      "[2023-03-16 14:25:56] - evaluating...\n"
     ]
    },
    {
     "name": "stderr",
     "output_type": "stream",
     "text": [
      "\n",
      "Valid: 100%|█████████████████████████████████████| 2/2 [00:00<00:00, 372.07it/s]"
     ]
    },
    {
     "name": "stdout",
     "output_type": "stream",
     "text": [
      "torch.Size([64, 24, 6])\n",
      "Sequential(\n",
      "  (0): GRU(6, 64, batch_first=True)\n",
      "  (1): GRU(64, 64, batch_first=True)\n",
      ")\n",
      "torch.Size([57, 24, 6])\n",
      "Sequential(\n",
      "  (0): GRU(6, 64, batch_first=True)\n",
      "  (1): GRU(64, 64, batch_first=True)\n",
      ")\n",
      "[2023-03-16 14:25:56] - train 0.025144, valid MSE Loss 0.250646, valid L1 Loss 0.500361\n",
      "[2023-03-16 14:25:56] - Epoch: 81\n",
      "[2023-03-16 14:25:56] - training...\n"
     ]
    },
    {
     "name": "stderr",
     "output_type": "stream",
     "text": [
      "\n",
      "  0%|                                                     | 0/6 [00:00<?, ?it/s]"
     ]
    },
    {
     "name": "stdout",
     "output_type": "stream",
     "text": [
      "torch.Size([128, 24, 6])\n",
      "Sequential(\n",
      "  (0): GRU(6, 64, batch_first=True)\n",
      "  (1): GRU(64, 64, batch_first=True)\n",
      ")\n",
      "torch.Size([128, 24, 6])\n",
      "Sequential(\n",
      "  (0): GRU(6, 64, batch_first=True)\n",
      "  (1): GRU(64, 64, batch_first=True)\n",
      ")\n"
     ]
    },
    {
     "name": "stderr",
     "output_type": "stream",
     "text": [
      "\r",
      " 33%|███████████████                              | 2/6 [00:00<00:00, 10.08it/s]"
     ]
    },
    {
     "name": "stdout",
     "output_type": "stream",
     "text": [
      "torch.Size([128, 24, 6])\n",
      "Sequential(\n",
      "  (0): GRU(6, 64, batch_first=True)\n",
      "  (1): GRU(64, 64, batch_first=True)\n",
      ")\n",
      "torch.Size([128, 24, 6])\n",
      "Sequential(\n",
      "  (0): GRU(6, 64, batch_first=True)\n",
      "  (1): GRU(64, 64, batch_first=True)\n",
      ")\n"
     ]
    },
    {
     "name": "stderr",
     "output_type": "stream",
     "text": [
      "\r",
      " 67%|██████████████████████████████               | 4/6 [00:00<00:00, 10.65it/s]"
     ]
    },
    {
     "name": "stdout",
     "output_type": "stream",
     "text": [
      "torch.Size([128, 24, 6])\n",
      "Sequential(\n",
      "  (0): GRU(6, 64, batch_first=True)\n",
      "  (1): GRU(64, 64, batch_first=True)\n",
      ")\n"
     ]
    },
    {
     "name": "stderr",
     "output_type": "stream",
     "text": [
      "100%|█████████████████████████████████████████████| 6/6 [00:00<00:00, 12.39it/s]"
     ]
    },
    {
     "name": "stdout",
     "output_type": "stream",
     "text": [
      "[2023-03-16 14:25:57] - evaluating...\n"
     ]
    },
    {
     "name": "stderr",
     "output_type": "stream",
     "text": [
      "\n",
      "Valid: 100%|█████████████████████████████████████| 2/2 [00:00<00:00, 408.62it/s]"
     ]
    },
    {
     "name": "stdout",
     "output_type": "stream",
     "text": [
      "torch.Size([64, 24, 6])\n",
      "Sequential(\n",
      "  (0): GRU(6, 64, batch_first=True)\n",
      "  (1): GRU(64, 64, batch_first=True)\n",
      ")\n",
      "torch.Size([57, 24, 6])\n",
      "Sequential(\n",
      "  (0): GRU(6, 64, batch_first=True)\n",
      "  (1): GRU(64, 64, batch_first=True)\n",
      ")\n",
      "[2023-03-16 14:25:57] - train 0.027700, valid MSE Loss 0.229132, valid L1 Loss 0.478295\n",
      "[2023-03-16 14:25:57] - Epoch: 82\n",
      "[2023-03-16 14:25:57] - training...\n"
     ]
    },
    {
     "name": "stderr",
     "output_type": "stream",
     "text": [
      "\n",
      "  0%|                                                     | 0/6 [00:00<?, ?it/s]"
     ]
    },
    {
     "name": "stdout",
     "output_type": "stream",
     "text": [
      "torch.Size([128, 24, 6])\n",
      "Sequential(\n",
      "  (0): GRU(6, 64, batch_first=True)\n",
      "  (1): GRU(64, 64, batch_first=True)\n",
      ")\n"
     ]
    },
    {
     "name": "stderr",
     "output_type": "stream",
     "text": [
      "\r",
      " 17%|███████▌                                     | 1/6 [00:00<00:00,  9.90it/s]"
     ]
    },
    {
     "name": "stdout",
     "output_type": "stream",
     "text": [
      "torch.Size([128, 24, 6])\n",
      "Sequential(\n",
      "  (0): GRU(6, 64, batch_first=True)\n",
      "  (1): GRU(64, 64, batch_first=True)\n",
      ")\n"
     ]
    },
    {
     "name": "stderr",
     "output_type": "stream",
     "text": [
      " 50%|██████████████████████▌                      | 3/6 [00:00<00:00,  9.95it/s]"
     ]
    },
    {
     "name": "stdout",
     "output_type": "stream",
     "text": [
      "torch.Size([128, 24, 6])\n",
      "Sequential(\n",
      "  (0): GRU(6, 64, batch_first=True)\n",
      "  (1): GRU(64, 64, batch_first=True)\n",
      ")\n",
      "torch.Size([128, 24, 6])\n",
      "Sequential(\n",
      "  (0): GRU(6, 64, batch_first=True)\n",
      "  (1): GRU(64, 64, batch_first=True)\n",
      ")\n",
      "torch.Size([128, 24, 6])\n",
      "Sequential(\n",
      "  (0): GRU(6, 64, batch_first=True)\n",
      "  (1): GRU(64, 64, batch_first=True)\n",
      ")\n"
     ]
    },
    {
     "name": "stderr",
     "output_type": "stream",
     "text": [
      "100%|█████████████████████████████████████████████| 6/6 [00:00<00:00, 12.22it/s]"
     ]
    },
    {
     "name": "stdout",
     "output_type": "stream",
     "text": [
      "[2023-03-16 14:25:57] - evaluating...\n"
     ]
    },
    {
     "name": "stderr",
     "output_type": "stream",
     "text": [
      "\n",
      "Valid: 100%|█████████████████████████████████████| 2/2 [00:00<00:00, 351.65it/s]"
     ]
    },
    {
     "name": "stdout",
     "output_type": "stream",
     "text": [
      "torch.Size([64, 24, 6])\n",
      "Sequential(\n",
      "  (0): GRU(6, 64, batch_first=True)\n",
      "  (1): GRU(64, 64, batch_first=True)\n",
      ")\n",
      "torch.Size([57, 24, 6])\n",
      "Sequential(\n",
      "  (0): GRU(6, 64, batch_first=True)\n",
      "  (1): GRU(64, 64, batch_first=True)\n",
      ")\n",
      "[2023-03-16 14:25:57] - train 0.029393, valid MSE Loss 0.356143, valid L1 Loss 0.596546\n",
      "[2023-03-16 14:25:57] - Epoch: 83\n",
      "[2023-03-16 14:25:57] - training...\n"
     ]
    },
    {
     "name": "stderr",
     "output_type": "stream",
     "text": [
      "\n",
      "  0%|                                                     | 0/6 [00:00<?, ?it/s]"
     ]
    },
    {
     "name": "stdout",
     "output_type": "stream",
     "text": [
      "torch.Size([128, 24, 6])\n",
      "Sequential(\n",
      "  (0): GRU(6, 64, batch_first=True)\n",
      "  (1): GRU(64, 64, batch_first=True)\n",
      ")\n",
      "torch.Size([128, 24, 6])\n",
      "Sequential(\n",
      "  (0): GRU(6, 64, batch_first=True)\n",
      "  (1): GRU(64, 64, batch_first=True)\n",
      ")\n"
     ]
    },
    {
     "name": "stderr",
     "output_type": "stream",
     "text": [
      "\r",
      " 33%|███████████████                              | 2/6 [00:00<00:00, 10.71it/s]"
     ]
    },
    {
     "name": "stdout",
     "output_type": "stream",
     "text": [
      "torch.Size([128, 24, 6])\n",
      "Sequential(\n",
      "  (0): GRU(6, 64, batch_first=True)\n",
      "  (1): GRU(64, 64, batch_first=True)\n",
      ")\n",
      "torch.Size([128, 24, 6])\n",
      "Sequential(\n",
      "  (0): GRU(6, 64, batch_first=True)\n",
      "  (1): GRU(64, 64, batch_first=True)\n",
      ")\n"
     ]
    },
    {
     "name": "stderr",
     "output_type": "stream",
     "text": [
      "\r",
      " 67%|██████████████████████████████               | 4/6 [00:00<00:00, 11.09it/s]"
     ]
    },
    {
     "name": "stdout",
     "output_type": "stream",
     "text": [
      "torch.Size([128, 24, 6])\n",
      "Sequential(\n",
      "  (0): GRU(6, 64, batch_first=True)\n",
      "  (1): GRU(64, 64, batch_first=True)\n",
      ")\n"
     ]
    },
    {
     "name": "stderr",
     "output_type": "stream",
     "text": [
      "\r",
      "100%|█████████████████████████████████████████████| 6/6 [00:00<00:00, 13.27it/s]"
     ]
    },
    {
     "name": "stdout",
     "output_type": "stream",
     "text": [
      "[2023-03-16 14:25:58] - evaluating...\n"
     ]
    },
    {
     "name": "stderr",
     "output_type": "stream",
     "text": [
      "\n",
      "Valid: 100%|█████████████████████████████████████| 2/2 [00:00<00:00, 452.90it/s]"
     ]
    },
    {
     "name": "stdout",
     "output_type": "stream",
     "text": [
      "torch.Size([64, 24, 6])\n",
      "Sequential(\n",
      "  (0): GRU(6, 64, batch_first=True)\n",
      "  (1): GRU(64, 64, batch_first=True)\n",
      ")\n",
      "torch.Size([57, 24, 6])\n",
      "Sequential(\n",
      "  (0): GRU(6, 64, batch_first=True)\n",
      "  (1): GRU(64, 64, batch_first=True)\n",
      ")\n",
      "[2023-03-16 14:25:58] - train 0.026452, valid MSE Loss 0.796032, valid L1 Loss 0.892045\n",
      "[2023-03-16 14:25:58] - Epoch: 84\n",
      "[2023-03-16 14:25:58] - training...\n"
     ]
    },
    {
     "name": "stderr",
     "output_type": "stream",
     "text": [
      "\n",
      "  0%|                                                     | 0/6 [00:00<?, ?it/s]"
     ]
    },
    {
     "name": "stdout",
     "output_type": "stream",
     "text": [
      "torch.Size([128, 24, 6])\n",
      "Sequential(\n",
      "  (0): GRU(6, 64, batch_first=True)\n",
      "  (1): GRU(64, 64, batch_first=True)\n",
      ")\n",
      "torch.Size([128, 24, 6])\n",
      "Sequential(\n",
      "  (0): GRU(6, 64, batch_first=True)\n",
      "  (1): GRU(64, 64, batch_first=True)\n",
      ")\n"
     ]
    },
    {
     "name": "stderr",
     "output_type": "stream",
     "text": [
      "\r",
      " 33%|███████████████                              | 2/6 [00:00<00:00, 10.73it/s]"
     ]
    },
    {
     "name": "stdout",
     "output_type": "stream",
     "text": [
      "torch.Size([128, 24, 6])\n",
      "Sequential(\n",
      "  (0): GRU(6, 64, batch_first=True)\n",
      "  (1): GRU(64, 64, batch_first=True)\n",
      ")\n",
      "torch.Size([128, 24, 6])\n",
      "Sequential(\n",
      "  (0): GRU(6, 64, batch_first=True)\n",
      "  (1): GRU(64, 64, batch_first=True)\n",
      ")\n"
     ]
    },
    {
     "name": "stderr",
     "output_type": "stream",
     "text": [
      "\r",
      " 67%|██████████████████████████████               | 4/6 [00:00<00:00, 10.89it/s]"
     ]
    },
    {
     "name": "stdout",
     "output_type": "stream",
     "text": [
      "torch.Size([128, 24, 6])\n",
      "Sequential(\n",
      "  (0): GRU(6, 64, batch_first=True)\n",
      "  (1): GRU(64, 64, batch_first=True)\n",
      ")\n"
     ]
    },
    {
     "name": "stderr",
     "output_type": "stream",
     "text": [
      "100%|█████████████████████████████████████████████| 6/6 [00:00<00:00, 12.31it/s]"
     ]
    },
    {
     "name": "stdout",
     "output_type": "stream",
     "text": [
      "[2023-03-16 14:25:58] - evaluating...\n"
     ]
    },
    {
     "name": "stderr",
     "output_type": "stream",
     "text": [
      "\n",
      "Valid: 100%|█████████████████████████████████████| 2/2 [00:00<00:00, 328.81it/s]"
     ]
    },
    {
     "name": "stdout",
     "output_type": "stream",
     "text": [
      "torch.Size([64, 24, 6])\n",
      "Sequential(\n",
      "  (0): GRU(6, 64, batch_first=True)\n",
      "  (1): GRU(64, 64, batch_first=True)\n",
      ")\n",
      "torch.Size([57, 24, 6])\n",
      "Sequential(\n",
      "  (0): GRU(6, 64, batch_first=True)\n",
      "  (1): GRU(64, 64, batch_first=True)\n",
      ")\n",
      "[2023-03-16 14:25:58] - train 0.025429, valid MSE Loss 0.881563, valid L1 Loss 0.938729\n",
      "[2023-03-16 14:25:59] - Epoch: 85\n",
      "[2023-03-16 14:25:59] - training...\n"
     ]
    },
    {
     "name": "stderr",
     "output_type": "stream",
     "text": [
      "\n",
      "  0%|                                                     | 0/6 [00:00<?, ?it/s]"
     ]
    },
    {
     "name": "stdout",
     "output_type": "stream",
     "text": [
      "torch.Size([128, 24, 6])\n",
      "Sequential(\n",
      "  (0): GRU(6, 64, batch_first=True)\n",
      "  (1): GRU(64, 64, batch_first=True)\n",
      ")\n",
      "torch.Size([128, 24, 6])\n",
      "Sequential(\n",
      "  (0): GRU(6, 64, batch_first=True)\n",
      "  (1): GRU(64, 64, batch_first=True)\n",
      ")\n"
     ]
    },
    {
     "name": "stderr",
     "output_type": "stream",
     "text": [
      "\r",
      " 33%|███████████████                              | 2/6 [00:00<00:00, 10.53it/s]"
     ]
    },
    {
     "name": "stdout",
     "output_type": "stream",
     "text": [
      "torch.Size([128, 24, 6])\n",
      "Sequential(\n",
      "  (0): GRU(6, 64, batch_first=True)\n",
      "  (1): GRU(64, 64, batch_first=True)\n",
      ")\n",
      "torch.Size([128, 24, 6])\n",
      "Sequential(\n",
      "  (0): GRU(6, 64, batch_first=True)\n",
      "  (1): GRU(64, 64, batch_first=True)\n",
      ")\n"
     ]
    },
    {
     "name": "stderr",
     "output_type": "stream",
     "text": [
      "\r",
      " 67%|██████████████████████████████               | 4/6 [00:00<00:00, 10.70it/s]"
     ]
    },
    {
     "name": "stdout",
     "output_type": "stream",
     "text": [
      "torch.Size([128, 24, 6])\n",
      "Sequential(\n",
      "  (0): GRU(6, 64, batch_first=True)\n",
      "  (1): GRU(64, 64, batch_first=True)\n",
      ")\n"
     ]
    },
    {
     "name": "stderr",
     "output_type": "stream",
     "text": [
      "\r",
      "100%|█████████████████████████████████████████████| 6/6 [00:00<00:00, 12.76it/s]"
     ]
    },
    {
     "name": "stdout",
     "output_type": "stream",
     "text": [
      "[2023-03-16 14:25:59] - evaluating...\n"
     ]
    },
    {
     "name": "stderr",
     "output_type": "stream",
     "text": [
      "\n",
      "Valid: 100%|█████████████████████████████████████| 2/2 [00:00<00:00, 362.42it/s]"
     ]
    },
    {
     "name": "stdout",
     "output_type": "stream",
     "text": [
      "torch.Size([64, 24, 6])\n",
      "Sequential(\n",
      "  (0): GRU(6, 64, batch_first=True)\n",
      "  (1): GRU(64, 64, batch_first=True)\n",
      ")\n",
      "torch.Size([57, 24, 6])\n",
      "Sequential(\n",
      "  (0): GRU(6, 64, batch_first=True)\n",
      "  (1): GRU(64, 64, batch_first=True)\n",
      ")\n",
      "[2023-03-16 14:25:59] - train 0.027745, valid MSE Loss 0.672303, valid L1 Loss 0.819760\n",
      "[2023-03-16 14:25:59] - Epoch: 86\n",
      "[2023-03-16 14:25:59] - training...\n"
     ]
    },
    {
     "name": "stderr",
     "output_type": "stream",
     "text": [
      "\n",
      "  0%|                                                     | 0/6 [00:00<?, ?it/s]"
     ]
    },
    {
     "name": "stdout",
     "output_type": "stream",
     "text": [
      "torch.Size([128, 24, 6])\n",
      "Sequential(\n",
      "  (0): GRU(6, 64, batch_first=True)\n",
      "  (1): GRU(64, 64, batch_first=True)\n",
      ")\n",
      "torch.Size([128, 24, 6])\n",
      "Sequential(\n",
      "  (0): GRU(6, 64, batch_first=True)\n",
      "  (1): GRU(64, 64, batch_first=True)\n",
      ")\n"
     ]
    },
    {
     "name": "stderr",
     "output_type": "stream",
     "text": [
      "\r",
      " 33%|███████████████                              | 2/6 [00:00<00:00, 10.64it/s]"
     ]
    },
    {
     "name": "stdout",
     "output_type": "stream",
     "text": [
      "torch.Size([128, 24, 6])\n",
      "Sequential(\n",
      "  (0): GRU(6, 64, batch_first=True)\n",
      "  (1): GRU(64, 64, batch_first=True)\n",
      ")\n",
      "torch.Size([128, 24, 6])\n",
      "Sequential(\n",
      "  (0): GRU(6, 64, batch_first=True)\n",
      "  (1): GRU(64, 64, batch_first=True)\n",
      ")\n"
     ]
    },
    {
     "name": "stderr",
     "output_type": "stream",
     "text": [
      "100%|█████████████████████████████████████████████| 6/6 [00:00<00:00, 12.22it/s]"
     ]
    },
    {
     "name": "stdout",
     "output_type": "stream",
     "text": [
      "torch.Size([128, 24, 6])\n",
      "Sequential(\n",
      "  (0): GRU(6, 64, batch_first=True)\n",
      "  (1): GRU(64, 64, batch_first=True)\n",
      ")\n",
      "[2023-03-16 14:26:00] - evaluating...\n"
     ]
    },
    {
     "name": "stderr",
     "output_type": "stream",
     "text": [
      "\n",
      "Valid: 100%|█████████████████████████████████████| 2/2 [00:00<00:00, 356.08it/s]"
     ]
    },
    {
     "name": "stdout",
     "output_type": "stream",
     "text": [
      "torch.Size([64, 24, 6])\n",
      "Sequential(\n",
      "  (0): GRU(6, 64, batch_first=True)\n",
      "  (1): GRU(64, 64, batch_first=True)\n",
      ")\n",
      "torch.Size([57, 24, 6])\n",
      "Sequential(\n",
      "  (0): GRU(6, 64, batch_first=True)\n",
      "  (1): GRU(64, 64, batch_first=True)\n",
      ")\n",
      "[2023-03-16 14:26:00] - train 0.027859, valid MSE Loss 0.358169, valid L1 Loss 0.598230\n",
      "[2023-03-16 14:26:00] - early stop\n",
      "[2023-03-16 14:26:00] - best val mse loss score: 0.0008350459393113852 @ 46\n",
      "[2023-03-16 14:26:00] - Finished.\n"
     ]
    },
    {
     "name": "stderr",
     "output_type": "stream",
     "text": [
      "\n"
     ]
    }
   ],
   "source": [
    "## test loader 제거 작업 시작\n",
    "adarnn.train(train_loader_list, valid_loader, args)"
   ]
  },
  {
   "cell_type": "code",
   "execution_count": null,
   "id": "8d4b6c04",
   "metadata": {},
   "outputs": [],
   "source": []
  },
  {
   "cell_type": "code",
   "execution_count": null,
   "id": "8f62fbc5",
   "metadata": {},
   "outputs": [],
   "source": []
  },
  {
   "cell_type": "code",
   "execution_count": null,
   "id": "fd3fc801",
   "metadata": {},
   "outputs": [],
   "source": []
  },
  {
   "cell_type": "code",
   "execution_count": null,
   "id": "8d7cf270",
   "metadata": {},
   "outputs": [],
   "source": []
  },
  {
   "cell_type": "code",
   "execution_count": null,
   "id": "5c695472",
   "metadata": {},
   "outputs": [],
   "source": []
  },
  {
   "cell_type": "code",
   "execution_count": null,
   "id": "41a651db",
   "metadata": {},
   "outputs": [],
   "source": []
  },
  {
   "cell_type": "code",
   "execution_count": null,
   "id": "8c6c01da",
   "metadata": {},
   "outputs": [],
   "source": []
  },
  {
   "cell_type": "code",
   "execution_count": null,
   "id": "c5a31e1c",
   "metadata": {},
   "outputs": [],
   "source": []
  },
  {
   "cell_type": "code",
   "execution_count": null,
   "id": "8c8fe40a",
   "metadata": {},
   "outputs": [],
   "source": []
  }
 ],
 "metadata": {
  "kernelspec": {
   "display_name": "Python 3 (ipykernel)",
   "language": "python",
   "name": "python3"
  },
  "language_info": {
   "codemirror_mode": {
    "name": "ipython",
    "version": 3
   },
   "file_extension": ".py",
   "mimetype": "text/x-python",
   "name": "python",
   "nbconvert_exporter": "python",
   "pygments_lexer": "ipython3",
   "version": "3.8.16"
  }
 },
 "nbformat": 4,
 "nbformat_minor": 5
}
