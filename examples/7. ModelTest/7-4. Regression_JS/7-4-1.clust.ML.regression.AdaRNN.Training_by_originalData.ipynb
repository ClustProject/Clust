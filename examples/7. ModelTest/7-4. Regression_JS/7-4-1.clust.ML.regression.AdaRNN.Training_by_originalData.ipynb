{
 "cells": [
  {
   "cell_type": "code",
   "execution_count": 1,
   "id": "ece5149a",
   "metadata": {},
   "outputs": [],
   "source": [
    "import os\n",
    "import sys\n",
    "sys.path.append(\"../\")\n",
    "sys.path.append(\"../../\")\n",
    "sys.path.append(\"../../../\")\n",
    "sys.path.append(\"../../../../\")\n",
    "\n",
    "import pandas as pd\n",
    "import numpy as np\n",
    "import datetime\n",
    "import torch\n",
    "import math\n",
    "\n",
    "from Clust.clust.ML.regression_JS import ada_rnn\n",
    "from Clust.clust.preprocessing.imputation.basicMethod import BasicImputation\n",
    "from Clust.clust.ML.common.common import p3_training as p3\n",
    "from Clust.clust.transformation.purpose.machineLearning import LSTMData"
   ]
  },
  {
   "cell_type": "markdown",
   "id": "35ce251c",
   "metadata": {},
   "source": [
    "# Set Param"
   ]
  },
  {
   "cell_type": "code",
   "execution_count": 2,
   "id": "541f6a1f",
   "metadata": {},
   "outputs": [],
   "source": [
    "param = {\n",
    "    \"d_feat\" : 6, \n",
    "    \"class_num\" : 1, \n",
    "    \"dropout\" : 0.0, \n",
    "    \"len_seq\" : 24, \n",
    "    \"loss_type\" : \"adv\",\n",
    "    \"hidden_size\" : 64,\n",
    "    \"num_layers\" : 2\n",
    "}\n",
    "\n",
    "args = {\n",
    "    \"output_folder_name\" : \"./ada_rnn_model\",\n",
    "    \"save_model_name\" : \"test_adarnn_model_by_origin_data\",\n",
    "    \"lr\" : 5e-4,\n",
    "    \"n_epochs\" : 200,\n",
    "    \"num_layers\" : 2, \n",
    "    \"len_seq\" : 24,\n",
    "    \"pre_epoch\" : 40,\n",
    "    \"len_win\" : 0,\n",
    "    \"dw\" : 0.5,\n",
    "    \"early_stop\" :40\n",
    "}\n",
    "k = 2"
   ]
  },
  {
   "cell_type": "code",
   "execution_count": null,
   "id": "928c0109",
   "metadata": {},
   "outputs": [],
   "source": []
  },
  {
   "cell_type": "markdown",
   "id": "ab8e4ff8",
   "metadata": {},
   "source": [
    "# get Data"
   ]
  },
  {
   "cell_type": "code",
   "execution_count": 3,
   "id": "e2cc2646",
   "metadata": {},
   "outputs": [],
   "source": [
    "# read original data\n",
    "data_pickle = pd.read_pickle(\"original_data.pkl\")\n",
    "original_data = data_pickle[\"Dongsi\"]"
   ]
  },
  {
   "cell_type": "code",
   "execution_count": 4,
   "id": "a46420b7",
   "metadata": {},
   "outputs": [
    {
     "data": {
      "text/plain": [
       "(3, (1460, 24, 6), (1460,))"
      ]
     },
     "execution_count": 4,
     "metadata": {},
     "output_type": "execute_result"
    }
   ],
   "source": [
    "len(original_data), original_data[0].shape, original_data[2].shape"
   ]
  },
  {
   "cell_type": "code",
   "execution_count": 5,
   "id": "011d3f0e",
   "metadata": {},
   "outputs": [],
   "source": [
    "# original data 에서 data_x, data_y 나누기\n",
    "data_x = original_data[0]\n",
    "data_y = original_data[2]"
   ]
  },
  {
   "cell_type": "code",
   "execution_count": 6,
   "id": "e9969a10",
   "metadata": {},
   "outputs": [],
   "source": [
    "# set time\n",
    "original_data_start_time = datetime.datetime(2013, 3, 1, 0, 0)\n",
    "\n",
    "## train data time\n",
    "train_start_time = '2013-03-01 00:00:00'\n",
    "train_end_time = '2016-06-30 23:00:00'\n",
    "\n",
    "## valid data time\n",
    "valid_start_time='2016-7-2 00:00:00'\n",
    "valid_end_time='2016-10-30 23:00:00'"
   ]
  },
  {
   "cell_type": "code",
   "execution_count": 7,
   "id": "d265755e",
   "metadata": {},
   "outputs": [],
   "source": [
    "# split train & validation data -> get train_x, train_y, valid_x, valid_y\n",
    "index_start=(pd.to_datetime(train_start_time) - original_data_start_time).days\n",
    "index_end=(pd.to_datetime(train_end_time) - original_data_start_time).days\n",
    "\n",
    "train_x=data_x[index_start: index_end + 1]\n",
    "train_y=data_y[index_start: index_end + 1]\n",
    "\n",
    "index_start=(pd.to_datetime(valid_start_time) - original_data_start_time).days\n",
    "index_end=(pd.to_datetime(valid_end_time) - original_data_start_time).days\n",
    "\n",
    "valid_x=data_x[index_start: index_end + 1]\n",
    "valid_y=data_y[index_start: index_end + 1]"
   ]
  },
  {
   "cell_type": "code",
   "execution_count": 8,
   "id": "79055c8e",
   "metadata": {},
   "outputs": [
    {
     "data": {
      "text/plain": [
       "((1218, 24, 6), (1218,), (121, 24, 6), (121,))"
      ]
     },
     "execution_count": 8,
     "metadata": {},
     "output_type": "execute_result"
    }
   ],
   "source": [
    "train_x.shape, train_y.shape, valid_x.shape, valid_y.shape"
   ]
  },
  {
   "cell_type": "markdown",
   "id": "af8ea6d3",
   "metadata": {},
   "source": [
    "# Data Loader"
   ]
  },
  {
   "cell_type": "code",
   "execution_count": 9,
   "id": "b17e183c",
   "metadata": {},
   "outputs": [
    {
     "name": "stdout",
     "output_type": "stream",
     "text": [
      "{'d_feat': 6, 'class_num': 1, 'dropout': 0.0, 'len_seq': 24, 'loss_type': 'adv', 'hidden_size': 64, 'num_layers': 2}\n"
     ]
    }
   ],
   "source": [
    "adarnn = ada_rnn.ClustAdaRnn(param)"
   ]
  },
  {
   "cell_type": "code",
   "execution_count": 10,
   "id": "8208ccce",
   "metadata": {},
   "outputs": [],
   "source": [
    "train_loader_list, valid_loader = adarnn.create_trainloader(train_x, train_y, valid_x, valid_y, k, train_start_time, train_end_time)"
   ]
  },
  {
   "cell_type": "markdown",
   "id": "61198958",
   "metadata": {},
   "source": [
    "# Training"
   ]
  },
  {
   "cell_type": "code",
   "execution_count": 11,
   "id": "c2db14dd",
   "metadata": {
    "scrolled": true
   },
   "outputs": [
    {
     "name": "stdout",
     "output_type": "stream",
     "text": [
      "[2023-03-16 09:42:23] - create model...\n",
      "[2023-03-16 09:42:23] - Epoch: 0\n",
      "[2023-03-16 09:42:23] - training...\n"
     ]
    },
    {
     "name": "stderr",
     "output_type": "stream",
     "text": [
      "100%|███████████████████████████████████████████| 10/10 [00:01<00:00,  7.81it/s]"
     ]
    },
    {
     "name": "stdout",
     "output_type": "stream",
     "text": [
      "[2023-03-16 09:42:25] - evaluating...\n"
     ]
    },
    {
     "name": "stderr",
     "output_type": "stream",
     "text": [
      "\n",
      "Valid: 100%|█████████████████████████████████████| 2/2 [00:00<00:00, 453.12it/s]"
     ]
    },
    {
     "name": "stdout",
     "output_type": "stream",
     "text": [
      "[2023-03-16 09:42:25] - train 0.062172, valid MSE Loss 0.014208, valid L1 Loss 0.105304\n",
      "[2023-03-16 09:42:25] - Epoch: 1\n",
      "[2023-03-16 09:42:25] - training...\n"
     ]
    },
    {
     "name": "stderr",
     "output_type": "stream",
     "text": [
      "\n",
      "100%|███████████████████████████████████████████| 10/10 [00:00<00:00, 11.46it/s]"
     ]
    },
    {
     "name": "stdout",
     "output_type": "stream",
     "text": [
      "[2023-03-16 09:42:26] - evaluating...\n"
     ]
    },
    {
     "name": "stderr",
     "output_type": "stream",
     "text": [
      "\n",
      "Valid: 100%|█████████████████████████████████████| 2/2 [00:00<00:00, 526.62it/s]"
     ]
    },
    {
     "name": "stdout",
     "output_type": "stream",
     "text": [
      "[2023-03-16 09:42:26] - train 0.042999, valid MSE Loss 0.012224, valid L1 Loss 0.096794\n",
      "[2023-03-16 09:42:26] - Epoch: 2\n",
      "[2023-03-16 09:42:26] - training...\n"
     ]
    },
    {
     "name": "stderr",
     "output_type": "stream",
     "text": [
      "\n",
      "100%|███████████████████████████████████████████| 10/10 [00:00<00:00, 11.40it/s]"
     ]
    },
    {
     "name": "stdout",
     "output_type": "stream",
     "text": [
      "[2023-03-16 09:42:27] - evaluating...\n"
     ]
    },
    {
     "name": "stderr",
     "output_type": "stream",
     "text": [
      "\n",
      "Valid: 100%|█████████████████████████████████████| 2/2 [00:00<00:00, 480.72it/s]"
     ]
    },
    {
     "name": "stdout",
     "output_type": "stream",
     "text": [
      "[2023-03-16 09:42:27] - train 0.040481, valid MSE Loss 0.012450, valid L1 Loss 0.097845\n",
      "[2023-03-16 09:42:27] - Epoch: 3\n",
      "[2023-03-16 09:42:27] - training...\n"
     ]
    },
    {
     "name": "stderr",
     "output_type": "stream",
     "text": [
      "\n",
      "100%|███████████████████████████████████████████| 10/10 [00:00<00:00, 11.85it/s]"
     ]
    },
    {
     "name": "stdout",
     "output_type": "stream",
     "text": [
      "[2023-03-16 09:42:27] - evaluating...\n"
     ]
    },
    {
     "name": "stderr",
     "output_type": "stream",
     "text": [
      "\n",
      "Valid: 100%|█████████████████████████████████████| 2/2 [00:00<00:00, 468.38it/s]"
     ]
    },
    {
     "name": "stdout",
     "output_type": "stream",
     "text": [
      "[2023-03-16 09:42:27] - train 0.036709, valid MSE Loss 0.009178, valid L1 Loss 0.082698\n",
      "[2023-03-16 09:42:27] - Epoch: 4\n",
      "[2023-03-16 09:42:27] - training...\n"
     ]
    },
    {
     "name": "stderr",
     "output_type": "stream",
     "text": [
      "\n",
      "100%|███████████████████████████████████████████| 10/10 [00:00<00:00, 11.68it/s]"
     ]
    },
    {
     "name": "stdout",
     "output_type": "stream",
     "text": [
      "[2023-03-16 09:42:28] - evaluating...\n"
     ]
    },
    {
     "name": "stderr",
     "output_type": "stream",
     "text": [
      "\n",
      "Valid: 100%|█████████████████████████████████████| 2/2 [00:00<00:00, 514.23it/s]"
     ]
    },
    {
     "name": "stdout",
     "output_type": "stream",
     "text": [
      "[2023-03-16 09:42:28] - train 0.035421, valid MSE Loss 0.006835, valid L1 Loss 0.069116\n",
      "[2023-03-16 09:42:28] - Epoch: 5\n",
      "[2023-03-16 09:42:28] - training...\n"
     ]
    },
    {
     "name": "stderr",
     "output_type": "stream",
     "text": [
      "\n",
      "100%|███████████████████████████████████████████| 10/10 [00:00<00:00, 11.48it/s]"
     ]
    },
    {
     "name": "stdout",
     "output_type": "stream",
     "text": [
      "[2023-03-16 09:42:29] - evaluating...\n"
     ]
    },
    {
     "name": "stderr",
     "output_type": "stream",
     "text": [
      "\n",
      "Valid: 100%|█████████████████████████████████████| 2/2 [00:00<00:00, 290.47it/s]"
     ]
    },
    {
     "name": "stdout",
     "output_type": "stream",
     "text": [
      "[2023-03-16 09:42:29] - train 0.032918, valid MSE Loss 0.006042, valid L1 Loss 0.063385\n",
      "[2023-03-16 09:42:29] - Epoch: 6\n",
      "[2023-03-16 09:42:29] - training...\n"
     ]
    },
    {
     "name": "stderr",
     "output_type": "stream",
     "text": [
      "\n",
      "100%|███████████████████████████████████████████| 10/10 [00:00<00:00, 11.25it/s]"
     ]
    },
    {
     "name": "stdout",
     "output_type": "stream",
     "text": [
      "[2023-03-16 09:42:30] - evaluating...\n"
     ]
    },
    {
     "name": "stderr",
     "output_type": "stream",
     "text": [
      "\n",
      "Valid: 100%|█████████████████████████████████████| 2/2 [00:00<00:00, 260.98it/s]"
     ]
    },
    {
     "name": "stdout",
     "output_type": "stream",
     "text": [
      "[2023-03-16 09:42:30] - train 0.031409, valid MSE Loss 0.006184, valid L1 Loss 0.065131\n",
      "[2023-03-16 09:42:30] - Epoch: 7\n",
      "[2023-03-16 09:42:30] - training...\n"
     ]
    },
    {
     "name": "stderr",
     "output_type": "stream",
     "text": [
      "\n",
      "100%|███████████████████████████████████████████| 10/10 [00:00<00:00, 11.69it/s]"
     ]
    },
    {
     "name": "stdout",
     "output_type": "stream",
     "text": [
      "[2023-03-16 09:42:31] - evaluating...\n"
     ]
    },
    {
     "name": "stderr",
     "output_type": "stream",
     "text": [
      "\n",
      "Valid: 100%|█████████████████████████████████████| 2/2 [00:00<00:00, 438.07it/s]"
     ]
    },
    {
     "name": "stdout",
     "output_type": "stream",
     "text": [
      "[2023-03-16 09:42:31] - train 0.030004, valid MSE Loss 0.009053, valid L1 Loss 0.082797\n",
      "[2023-03-16 09:42:31] - Epoch: 8\n",
      "[2023-03-16 09:42:31] - training...\n"
     ]
    },
    {
     "name": "stderr",
     "output_type": "stream",
     "text": [
      "\n",
      "100%|███████████████████████████████████████████| 10/10 [00:00<00:00, 11.34it/s]"
     ]
    },
    {
     "name": "stdout",
     "output_type": "stream",
     "text": [
      "[2023-03-16 09:42:32] - evaluating...\n"
     ]
    },
    {
     "name": "stderr",
     "output_type": "stream",
     "text": [
      "\n",
      "Valid: 100%|█████████████████████████████████████| 2/2 [00:00<00:00, 270.26it/s]\n"
     ]
    },
    {
     "name": "stdout",
     "output_type": "stream",
     "text": [
      "[2023-03-16 09:42:32] - train 0.027061, valid MSE Loss 0.026369, valid L1 Loss 0.153360\n",
      "[2023-03-16 09:42:32] - Epoch: 9\n",
      "[2023-03-16 09:42:32] - training...\n"
     ]
    },
    {
     "name": "stderr",
     "output_type": "stream",
     "text": [
      "100%|███████████████████████████████████████████| 10/10 [00:00<00:00, 11.50it/s]"
     ]
    },
    {
     "name": "stdout",
     "output_type": "stream",
     "text": [
      "[2023-03-16 09:42:33] - evaluating...\n"
     ]
    },
    {
     "name": "stderr",
     "output_type": "stream",
     "text": [
      "\n",
      "Valid: 100%|█████████████████████████████████████| 2/2 [00:00<00:00, 219.26it/s]"
     ]
    },
    {
     "name": "stdout",
     "output_type": "stream",
     "text": [
      "[2023-03-16 09:42:33] - train 0.027497, valid MSE Loss 0.004096, valid L1 Loss 0.045044\n"
     ]
    },
    {
     "name": "stderr",
     "output_type": "stream",
     "text": [
      "\n"
     ]
    },
    {
     "name": "stdout",
     "output_type": "stream",
     "text": [
      "[2023-03-16 09:42:33] - Epoch: 10\n",
      "[2023-03-16 09:42:33] - training...\n"
     ]
    },
    {
     "name": "stderr",
     "output_type": "stream",
     "text": [
      "100%|███████████████████████████████████████████| 10/10 [00:01<00:00,  9.48it/s]"
     ]
    },
    {
     "name": "stdout",
     "output_type": "stream",
     "text": [
      "[2023-03-16 09:42:34] - evaluating...\n"
     ]
    },
    {
     "name": "stderr",
     "output_type": "stream",
     "text": [
      "\n",
      "Valid: 100%|█████████████████████████████████████| 2/2 [00:00<00:00, 391.44it/s]"
     ]
    },
    {
     "name": "stdout",
     "output_type": "stream",
     "text": [
      "[2023-03-16 09:42:34] - train 0.025967, valid MSE Loss 0.001512, valid L1 Loss 0.030230\n",
      "[2023-03-16 09:42:34] - Epoch: 11\n",
      "[2023-03-16 09:42:34] - training...\n"
     ]
    },
    {
     "name": "stderr",
     "output_type": "stream",
     "text": [
      "\n",
      "100%|███████████████████████████████████████████| 10/10 [00:01<00:00,  9.82it/s]"
     ]
    },
    {
     "name": "stdout",
     "output_type": "stream",
     "text": [
      "[2023-03-16 09:42:35] - evaluating...\n"
     ]
    },
    {
     "name": "stderr",
     "output_type": "stream",
     "text": [
      "\n",
      "Valid: 100%|█████████████████████████████████████| 2/2 [00:00<00:00, 240.54it/s]"
     ]
    },
    {
     "name": "stdout",
     "output_type": "stream",
     "text": [
      "[2023-03-16 09:42:35] - train 0.027294, valid MSE Loss 0.013495, valid L1 Loss 0.113723\n",
      "[2023-03-16 09:42:35] - Epoch: 12\n",
      "[2023-03-16 09:42:35] - training...\n"
     ]
    },
    {
     "name": "stderr",
     "output_type": "stream",
     "text": [
      "\n",
      "100%|███████████████████████████████████████████| 10/10 [00:00<00:00, 10.43it/s]"
     ]
    },
    {
     "name": "stdout",
     "output_type": "stream",
     "text": [
      "[2023-03-16 09:42:36] - evaluating...\n"
     ]
    },
    {
     "name": "stderr",
     "output_type": "stream",
     "text": [
      "\n",
      "Valid: 100%|█████████████████████████████████████| 2/2 [00:00<00:00, 398.22it/s]"
     ]
    },
    {
     "name": "stdout",
     "output_type": "stream",
     "text": [
      "[2023-03-16 09:42:36] - train 0.025366, valid MSE Loss 0.026945, valid L1 Loss 0.163034\n",
      "[2023-03-16 09:42:36] - Epoch: 13\n",
      "[2023-03-16 09:42:36] - training...\n"
     ]
    },
    {
     "name": "stderr",
     "output_type": "stream",
     "text": [
      "\n",
      "100%|███████████████████████████████████████████| 10/10 [00:00<00:00, 10.78it/s]"
     ]
    },
    {
     "name": "stdout",
     "output_type": "stream",
     "text": [
      "[2023-03-16 09:42:37] - evaluating...\n"
     ]
    },
    {
     "name": "stderr",
     "output_type": "stream",
     "text": [
      "\n",
      "Valid: 100%|█████████████████████████████████████| 2/2 [00:00<00:00, 367.24it/s]\n"
     ]
    },
    {
     "name": "stdout",
     "output_type": "stream",
     "text": [
      "[2023-03-16 09:42:37] - train 0.025578, valid MSE Loss 0.217728, valid L1 Loss 0.466193\n",
      "[2023-03-16 09:42:37] - Epoch: 14\n",
      "[2023-03-16 09:42:37] - training...\n"
     ]
    },
    {
     "name": "stderr",
     "output_type": "stream",
     "text": [
      "100%|███████████████████████████████████████████| 10/10 [00:00<00:00, 10.39it/s]"
     ]
    },
    {
     "name": "stdout",
     "output_type": "stream",
     "text": [
      "[2023-03-16 09:42:38] - evaluating...\n"
     ]
    },
    {
     "name": "stderr",
     "output_type": "stream",
     "text": [
      "\n",
      "Valid: 100%|█████████████████████████████████████| 2/2 [00:00<00:00, 357.10it/s]"
     ]
    },
    {
     "name": "stdout",
     "output_type": "stream",
     "text": [
      "[2023-03-16 09:42:38] - train 0.026031, valid MSE Loss 0.180566, valid L1 Loss 0.423877\n",
      "[2023-03-16 09:42:38] - Epoch: 15\n",
      "[2023-03-16 09:42:38] - training...\n"
     ]
    },
    {
     "name": "stderr",
     "output_type": "stream",
     "text": [
      "\n",
      "100%|███████████████████████████████████████████| 10/10 [00:00<00:00, 10.88it/s]"
     ]
    },
    {
     "name": "stdout",
     "output_type": "stream",
     "text": [
      "[2023-03-16 09:42:39] - evaluating...\n"
     ]
    },
    {
     "name": "stderr",
     "output_type": "stream",
     "text": [
      "\n",
      "Valid: 100%|█████████████████████████████████████| 2/2 [00:00<00:00, 414.21it/s]"
     ]
    },
    {
     "name": "stdout",
     "output_type": "stream",
     "text": [
      "[2023-03-16 09:42:39] - train 0.025310, valid MSE Loss 0.081713, valid L1 Loss 0.283490\n",
      "[2023-03-16 09:42:39] - Epoch: 16\n"
     ]
    },
    {
     "name": "stderr",
     "output_type": "stream",
     "text": [
      "\n"
     ]
    },
    {
     "name": "stdout",
     "output_type": "stream",
     "text": [
      "[2023-03-16 09:42:39] - training...\n"
     ]
    },
    {
     "name": "stderr",
     "output_type": "stream",
     "text": [
      "100%|███████████████████████████████████████████| 10/10 [00:00<00:00, 10.75it/s]"
     ]
    },
    {
     "name": "stdout",
     "output_type": "stream",
     "text": [
      "[2023-03-16 09:42:40] - evaluating...\n"
     ]
    },
    {
     "name": "stderr",
     "output_type": "stream",
     "text": [
      "\n",
      "Valid: 100%|█████████████████████████████████████| 2/2 [00:00<00:00, 601.94it/s]"
     ]
    },
    {
     "name": "stdout",
     "output_type": "stream",
     "text": [
      "[2023-03-16 09:42:40] - train 0.025286, valid MSE Loss 0.221687, valid L1 Loss 0.470199\n",
      "[2023-03-16 09:42:40] - Epoch: 17\n",
      "[2023-03-16 09:42:40] - training...\n"
     ]
    },
    {
     "name": "stderr",
     "output_type": "stream",
     "text": [
      "\n",
      "100%|███████████████████████████████████████████| 10/10 [00:00<00:00, 10.33it/s]"
     ]
    },
    {
     "name": "stdout",
     "output_type": "stream",
     "text": [
      "[2023-03-16 09:42:41] - evaluating...\n"
     ]
    },
    {
     "name": "stderr",
     "output_type": "stream",
     "text": [
      "\n",
      "Valid: 100%|█████████████████████████████████████| 2/2 [00:00<00:00, 509.61it/s]"
     ]
    },
    {
     "name": "stdout",
     "output_type": "stream",
     "text": [
      "[2023-03-16 09:42:41] - train 0.024240, valid MSE Loss 0.160257, valid L1 Loss 0.399891\n",
      "[2023-03-16 09:42:41] - Epoch: 18\n",
      "[2023-03-16 09:42:41] - training...\n"
     ]
    },
    {
     "name": "stderr",
     "output_type": "stream",
     "text": [
      "\n",
      "100%|███████████████████████████████████████████| 10/10 [00:00<00:00, 10.47it/s]\n"
     ]
    },
    {
     "name": "stdout",
     "output_type": "stream",
     "text": [
      "[2023-03-16 09:42:42] - evaluating...\n"
     ]
    },
    {
     "name": "stderr",
     "output_type": "stream",
     "text": [
      "Valid: 100%|█████████████████████████████████████| 2/2 [00:00<00:00, 518.07it/s]"
     ]
    },
    {
     "name": "stdout",
     "output_type": "stream",
     "text": [
      "[2023-03-16 09:42:42] - train 0.023381, valid MSE Loss 0.072078, valid L1 Loss 0.267887\n",
      "[2023-03-16 09:42:42] - Epoch: 19\n",
      "[2023-03-16 09:42:42] - training...\n"
     ]
    },
    {
     "name": "stderr",
     "output_type": "stream",
     "text": [
      "\n",
      "100%|███████████████████████████████████████████| 10/10 [00:00<00:00, 10.46it/s]"
     ]
    },
    {
     "name": "stdout",
     "output_type": "stream",
     "text": [
      "[2023-03-16 09:42:43] - evaluating...\n"
     ]
    },
    {
     "name": "stderr",
     "output_type": "stream",
     "text": [
      "\n",
      "Valid: 100%|█████████████████████████████████████| 2/2 [00:00<00:00, 443.72it/s]"
     ]
    },
    {
     "name": "stdout",
     "output_type": "stream",
     "text": [
      "[2023-03-16 09:42:43] - train 0.022464, valid MSE Loss 0.020365, valid L1 Loss 0.137050\n",
      "[2023-03-16 09:42:43] - Epoch: 20\n",
      "[2023-03-16 09:42:43] - training...\n"
     ]
    },
    {
     "name": "stderr",
     "output_type": "stream",
     "text": [
      "\n",
      "100%|███████████████████████████████████████████| 10/10 [00:00<00:00, 10.61it/s]"
     ]
    },
    {
     "name": "stdout",
     "output_type": "stream",
     "text": [
      "[2023-03-16 09:42:44] - evaluating...\n"
     ]
    },
    {
     "name": "stderr",
     "output_type": "stream",
     "text": [
      "\n",
      "Valid: 100%|█████████████████████████████████████| 2/2 [00:00<00:00, 456.62it/s]"
     ]
    },
    {
     "name": "stdout",
     "output_type": "stream",
     "text": [
      "[2023-03-16 09:42:44] - train 0.023747, valid MSE Loss 0.001001, valid L1 Loss 0.026586\n",
      "[2023-03-16 09:42:44] - Epoch: 21\n",
      "[2023-03-16 09:42:44] - training...\n"
     ]
    },
    {
     "name": "stderr",
     "output_type": "stream",
     "text": [
      "\n",
      "100%|███████████████████████████████████████████| 10/10 [00:00<00:00, 10.60it/s]"
     ]
    },
    {
     "name": "stdout",
     "output_type": "stream",
     "text": [
      "[2023-03-16 09:42:45] - evaluating...\n"
     ]
    },
    {
     "name": "stderr",
     "output_type": "stream",
     "text": [
      "\n",
      "Valid: 100%|█████████████████████████████████████| 2/2 [00:00<00:00, 604.24it/s]"
     ]
    },
    {
     "name": "stdout",
     "output_type": "stream",
     "text": [
      "[2023-03-16 09:42:45] - train 0.025348, valid MSE Loss 0.006683, valid L1 Loss 0.079986\n",
      "[2023-03-16 09:42:45] - Epoch: 22\n",
      "[2023-03-16 09:42:45] - training...\n"
     ]
    },
    {
     "name": "stderr",
     "output_type": "stream",
     "text": [
      "\n",
      "100%|███████████████████████████████████████████| 10/10 [00:00<00:00, 10.48it/s]"
     ]
    },
    {
     "name": "stdout",
     "output_type": "stream",
     "text": [
      "[2023-03-16 09:42:46] - evaluating...\n"
     ]
    },
    {
     "name": "stderr",
     "output_type": "stream",
     "text": [
      "\n",
      "Valid: 100%|█████████████████████████████████████| 2/2 [00:00<00:00, 299.39it/s]"
     ]
    },
    {
     "name": "stdout",
     "output_type": "stream",
     "text": [
      "[2023-03-16 09:42:46] - train 0.023042, valid MSE Loss 0.235610, valid L1 Loss 0.485039\n",
      "[2023-03-16 09:42:46] - Epoch: 23\n",
      "[2023-03-16 09:42:46] - training...\n"
     ]
    },
    {
     "name": "stderr",
     "output_type": "stream",
     "text": [
      "\n",
      "100%|███████████████████████████████████████████| 10/10 [00:00<00:00, 10.87it/s]"
     ]
    },
    {
     "name": "stdout",
     "output_type": "stream",
     "text": [
      "[2023-03-16 09:42:47] - evaluating...\n"
     ]
    },
    {
     "name": "stderr",
     "output_type": "stream",
     "text": [
      "\n",
      "Valid: 100%|█████████████████████████████████████| 2/2 [00:00<00:00, 449.94it/s]"
     ]
    },
    {
     "name": "stdout",
     "output_type": "stream",
     "text": [
      "[2023-03-16 09:42:47] - train 0.024105, valid MSE Loss 0.021565, valid L1 Loss 0.145950\n",
      "[2023-03-16 09:42:47] - Epoch: 24\n",
      "[2023-03-16 09:42:47] - training...\n"
     ]
    },
    {
     "name": "stderr",
     "output_type": "stream",
     "text": [
      "\n",
      "100%|███████████████████████████████████████████| 10/10 [00:00<00:00, 10.66it/s]"
     ]
    },
    {
     "name": "stdout",
     "output_type": "stream",
     "text": [
      "[2023-03-16 09:42:48] - evaluating...\n"
     ]
    },
    {
     "name": "stderr",
     "output_type": "stream",
     "text": [
      "\n",
      "Valid: 100%|█████████████████████████████████████| 2/2 [00:00<00:00, 334.07it/s]"
     ]
    },
    {
     "name": "stdout",
     "output_type": "stream",
     "text": [
      "[2023-03-16 09:42:48] - train 0.023370, valid MSE Loss 0.001434, valid L1 Loss 0.034115\n",
      "[2023-03-16 09:42:48] - Epoch: 25\n",
      "[2023-03-16 09:42:48] - training...\n"
     ]
    },
    {
     "name": "stderr",
     "output_type": "stream",
     "text": [
      "\n",
      "100%|███████████████████████████████████████████| 10/10 [00:00<00:00, 10.78it/s]"
     ]
    },
    {
     "name": "stdout",
     "output_type": "stream",
     "text": [
      "[2023-03-16 09:42:48] - evaluating...\n"
     ]
    },
    {
     "name": "stderr",
     "output_type": "stream",
     "text": [
      "\n",
      "Valid: 100%|█████████████████████████████████████| 2/2 [00:00<00:00, 465.78it/s]"
     ]
    },
    {
     "name": "stdout",
     "output_type": "stream",
     "text": [
      "[2023-03-16 09:42:48] - train 0.023659, valid MSE Loss 0.001039, valid L1 Loss 0.027481\n",
      "[2023-03-16 09:42:48] - Epoch: 26\n",
      "[2023-03-16 09:42:48] - training...\n"
     ]
    },
    {
     "name": "stderr",
     "output_type": "stream",
     "text": [
      "\n",
      "100%|███████████████████████████████████████████| 10/10 [00:00<00:00, 10.67it/s]"
     ]
    },
    {
     "name": "stdout",
     "output_type": "stream",
     "text": [
      "[2023-03-16 09:42:49] - evaluating...\n"
     ]
    },
    {
     "name": "stderr",
     "output_type": "stream",
     "text": [
      "\n",
      "Valid: 100%|█████████████████████████████████████| 2/2 [00:00<00:00, 384.76it/s]"
     ]
    },
    {
     "name": "stdout",
     "output_type": "stream",
     "text": [
      "[2023-03-16 09:42:49] - train 0.024098, valid MSE Loss 0.222024, valid L1 Loss 0.470778\n",
      "[2023-03-16 09:42:49] - Epoch: 27\n",
      "[2023-03-16 09:42:49] - training...\n"
     ]
    },
    {
     "name": "stderr",
     "output_type": "stream",
     "text": [
      "\n",
      "100%|███████████████████████████████████████████| 10/10 [00:00<00:00, 10.73it/s]"
     ]
    },
    {
     "name": "stdout",
     "output_type": "stream",
     "text": [
      "[2023-03-16 09:42:50] - evaluating...\n"
     ]
    },
    {
     "name": "stderr",
     "output_type": "stream",
     "text": [
      "\n",
      "Valid: 100%|█████████████████████████████████████| 2/2 [00:00<00:00, 408.17it/s]"
     ]
    },
    {
     "name": "stdout",
     "output_type": "stream",
     "text": [
      "[2023-03-16 09:42:50] - train 0.026044, valid MSE Loss 0.308153, valid L1 Loss 0.554873\n",
      "[2023-03-16 09:42:50] - Epoch: 28\n",
      "[2023-03-16 09:42:50] - training...\n"
     ]
    },
    {
     "name": "stderr",
     "output_type": "stream",
     "text": [
      "\n",
      "100%|███████████████████████████████████████████| 10/10 [00:00<00:00, 10.70it/s]"
     ]
    },
    {
     "name": "stdout",
     "output_type": "stream",
     "text": [
      "[2023-03-16 09:42:51] - evaluating...\n"
     ]
    },
    {
     "name": "stderr",
     "output_type": "stream",
     "text": [
      "\n",
      "Valid: 100%|█████████████████████████████████████| 2/2 [00:00<00:00, 381.49it/s]"
     ]
    },
    {
     "name": "stdout",
     "output_type": "stream",
     "text": [
      "[2023-03-16 09:42:51] - train 0.022982, valid MSE Loss 0.199587, valid L1 Loss 0.445730\n",
      "[2023-03-16 09:42:51] - Epoch: 29\n",
      "[2023-03-16 09:42:51] - training...\n"
     ]
    },
    {
     "name": "stderr",
     "output_type": "stream",
     "text": [
      "\n",
      "100%|███████████████████████████████████████████| 10/10 [00:00<00:00, 10.34it/s]"
     ]
    },
    {
     "name": "stdout",
     "output_type": "stream",
     "text": [
      "[2023-03-16 09:42:52] - evaluating...\n"
     ]
    },
    {
     "name": "stderr",
     "output_type": "stream",
     "text": [
      "\n",
      "Valid: 100%|█████████████████████████████████████| 2/2 [00:00<00:00, 356.63it/s]"
     ]
    },
    {
     "name": "stdout",
     "output_type": "stream",
     "text": [
      "[2023-03-16 09:42:52] - train 0.023999, valid MSE Loss 0.412875, valid L1 Loss 0.641348\n",
      "[2023-03-16 09:42:52] - Epoch: 30\n",
      "[2023-03-16 09:42:52] - training...\n"
     ]
    },
    {
     "name": "stderr",
     "output_type": "stream",
     "text": [
      "\n",
      "100%|███████████████████████████████████████████| 10/10 [00:00<00:00, 10.63it/s]"
     ]
    },
    {
     "name": "stdout",
     "output_type": "stream",
     "text": [
      "[2023-03-16 09:42:53] - evaluating...\n"
     ]
    },
    {
     "name": "stderr",
     "output_type": "stream",
     "text": [
      "\n",
      "Valid: 100%|█████████████████████████████████████| 2/2 [00:00<00:00, 345.39it/s]"
     ]
    },
    {
     "name": "stdout",
     "output_type": "stream",
     "text": [
      "[2023-03-16 09:42:53] - train 0.023049, valid MSE Loss 0.493198, valid L1 Loss 0.701992\n",
      "[2023-03-16 09:42:53] - Epoch: 31\n",
      "[2023-03-16 09:42:53] - training...\n"
     ]
    },
    {
     "name": "stderr",
     "output_type": "stream",
     "text": [
      "\n",
      "100%|███████████████████████████████████████████| 10/10 [00:00<00:00, 10.73it/s]"
     ]
    },
    {
     "name": "stdout",
     "output_type": "stream",
     "text": [
      "[2023-03-16 09:42:54] - evaluating...\n"
     ]
    },
    {
     "name": "stderr",
     "output_type": "stream",
     "text": [
      "\n",
      "Valid: 100%|█████████████████████████████████████| 2/2 [00:00<00:00, 379.51it/s]"
     ]
    },
    {
     "name": "stdout",
     "output_type": "stream",
     "text": [
      "[2023-03-16 09:42:54] - train 0.022937, valid MSE Loss 1.045289, valid L1 Loss 1.022155\n",
      "[2023-03-16 09:42:54] - Epoch: 32\n",
      "[2023-03-16 09:42:54] - training...\n"
     ]
    },
    {
     "name": "stderr",
     "output_type": "stream",
     "text": [
      "\n",
      "100%|███████████████████████████████████████████| 10/10 [00:00<00:00, 10.44it/s]"
     ]
    },
    {
     "name": "stdout",
     "output_type": "stream",
     "text": [
      "[2023-03-16 09:42:55] - evaluating...\n"
     ]
    },
    {
     "name": "stderr",
     "output_type": "stream",
     "text": [
      "\n",
      "Valid: 100%|█████████████████████████████████████| 2/2 [00:00<00:00, 336.26it/s]"
     ]
    },
    {
     "name": "stdout",
     "output_type": "stream",
     "text": [
      "[2023-03-16 09:42:55] - train 0.023048, valid MSE Loss 1.815246, valid L1 Loss 1.347194\n",
      "[2023-03-16 09:42:55] - Epoch: 33\n",
      "[2023-03-16 09:42:55] - training...\n"
     ]
    },
    {
     "name": "stderr",
     "output_type": "stream",
     "text": [
      "\n",
      "100%|███████████████████████████████████████████| 10/10 [00:00<00:00, 10.05it/s]"
     ]
    },
    {
     "name": "stdout",
     "output_type": "stream",
     "text": [
      "[2023-03-16 09:42:56] - evaluating...\n"
     ]
    },
    {
     "name": "stderr",
     "output_type": "stream",
     "text": [
      "\n",
      "Valid: 100%|█████████████████████████████████████| 2/2 [00:00<00:00, 381.72it/s]"
     ]
    },
    {
     "name": "stdout",
     "output_type": "stream",
     "text": [
      "[2023-03-16 09:42:56] - train 0.023994, valid MSE Loss 0.943481, valid L1 Loss 0.971194\n",
      "[2023-03-16 09:42:56] - Epoch: 34\n",
      "[2023-03-16 09:42:56] - training...\n"
     ]
    },
    {
     "name": "stderr",
     "output_type": "stream",
     "text": [
      "\n",
      "100%|███████████████████████████████████████████| 10/10 [00:00<00:00, 10.63it/s]"
     ]
    },
    {
     "name": "stdout",
     "output_type": "stream",
     "text": [
      "[2023-03-16 09:42:57] - evaluating...\n"
     ]
    },
    {
     "name": "stderr",
     "output_type": "stream",
     "text": [
      "\n",
      "Valid: 100%|█████████████████████████████████████| 2/2 [00:00<00:00, 321.08it/s]"
     ]
    },
    {
     "name": "stdout",
     "output_type": "stream",
     "text": [
      "[2023-03-16 09:42:57] - train 0.023243, valid MSE Loss 0.305361, valid L1 Loss 0.552363\n",
      "[2023-03-16 09:42:57] - Epoch: 35\n",
      "[2023-03-16 09:42:57] - training...\n"
     ]
    },
    {
     "name": "stderr",
     "output_type": "stream",
     "text": [
      "\n",
      "100%|███████████████████████████████████████████| 10/10 [00:00<00:00, 10.40it/s]"
     ]
    },
    {
     "name": "stdout",
     "output_type": "stream",
     "text": [
      "[2023-03-16 09:42:58] - evaluating...\n"
     ]
    },
    {
     "name": "stderr",
     "output_type": "stream",
     "text": [
      "\n",
      "Valid: 100%|█████████████████████████████████████| 2/2 [00:00<00:00, 589.42it/s]"
     ]
    },
    {
     "name": "stdout",
     "output_type": "stream",
     "text": [
      "[2023-03-16 09:42:58] - train 0.026047, valid MSE Loss 0.162515, valid L1 Loss 0.402773\n",
      "[2023-03-16 09:42:58] - Epoch: 36\n",
      "[2023-03-16 09:42:58] - training...\n"
     ]
    },
    {
     "name": "stderr",
     "output_type": "stream",
     "text": [
      "\n",
      "100%|███████████████████████████████████████████| 10/10 [00:00<00:00, 10.56it/s]"
     ]
    },
    {
     "name": "stdout",
     "output_type": "stream",
     "text": [
      "[2023-03-16 09:42:59] - evaluating...\n"
     ]
    },
    {
     "name": "stderr",
     "output_type": "stream",
     "text": [
      "\n",
      "Valid: 100%|█████████████████████████████████████| 2/2 [00:00<00:00, 608.84it/s]"
     ]
    },
    {
     "name": "stdout",
     "output_type": "stream",
     "text": [
      "[2023-03-16 09:42:59] - train 0.023595, valid MSE Loss 0.153496, valid L1 Loss 0.391284\n",
      "[2023-03-16 09:42:59] - Epoch: 37\n",
      "[2023-03-16 09:42:59] - training...\n"
     ]
    },
    {
     "name": "stderr",
     "output_type": "stream",
     "text": [
      "\n",
      "100%|███████████████████████████████████████████| 10/10 [00:00<00:00, 10.51it/s]"
     ]
    },
    {
     "name": "stdout",
     "output_type": "stream",
     "text": [
      "[2023-03-16 09:43:00] - evaluating...\n"
     ]
    },
    {
     "name": "stderr",
     "output_type": "stream",
     "text": [
      "\n",
      "Valid: 100%|█████████████████████████████████████| 2/2 [00:00<00:00, 356.54it/s]"
     ]
    },
    {
     "name": "stdout",
     "output_type": "stream",
     "text": [
      "[2023-03-16 09:43:00] - train 0.025450, valid MSE Loss 0.710798, valid L1 Loss 0.842869\n",
      "[2023-03-16 09:43:00] - Epoch: 38\n",
      "[2023-03-16 09:43:00] - training...\n"
     ]
    },
    {
     "name": "stderr",
     "output_type": "stream",
     "text": [
      "\n",
      "100%|███████████████████████████████████████████| 10/10 [00:00<00:00, 10.88it/s]"
     ]
    },
    {
     "name": "stdout",
     "output_type": "stream",
     "text": [
      "[2023-03-16 09:43:01] - evaluating...\n"
     ]
    },
    {
     "name": "stderr",
     "output_type": "stream",
     "text": [
      "\n",
      "Valid: 100%|█████████████████████████████████████| 2/2 [00:00<00:00, 411.89it/s]"
     ]
    },
    {
     "name": "stdout",
     "output_type": "stream",
     "text": [
      "[2023-03-16 09:43:01] - train 0.024442, valid MSE Loss 0.584087, valid L1 Loss 0.764075\n",
      "[2023-03-16 09:43:01] - Epoch: 39\n",
      "[2023-03-16 09:43:01] - training...\n"
     ]
    },
    {
     "name": "stderr",
     "output_type": "stream",
     "text": [
      "\n",
      "100%|███████████████████████████████████████████| 10/10 [00:00<00:00, 10.58it/s]"
     ]
    },
    {
     "name": "stdout",
     "output_type": "stream",
     "text": [
      "[2023-03-16 09:43:02] - evaluating...\n"
     ]
    },
    {
     "name": "stderr",
     "output_type": "stream",
     "text": [
      "\n",
      "Valid: 100%|█████████████████████████████████████| 2/2 [00:00<00:00, 298.84it/s]"
     ]
    },
    {
     "name": "stdout",
     "output_type": "stream",
     "text": [
      "[2023-03-16 09:43:02] - train 0.023415, valid MSE Loss 0.194848, valid L1 Loss 0.440846\n",
      "[2023-03-16 09:43:02] - Epoch: 40\n",
      "[2023-03-16 09:43:02] - training...\n"
     ]
    },
    {
     "name": "stderr",
     "output_type": "stream",
     "text": [
      "\n",
      "100%|███████████████████████████████████████████| 10/10 [00:00<00:00, 10.86it/s]"
     ]
    },
    {
     "name": "stdout",
     "output_type": "stream",
     "text": [
      "[2023-03-16 09:43:03] - evaluating...\n"
     ]
    },
    {
     "name": "stderr",
     "output_type": "stream",
     "text": [
      "\n",
      "Valid: 100%|█████████████████████████████████████| 2/2 [00:00<00:00, 316.41it/s]"
     ]
    },
    {
     "name": "stdout",
     "output_type": "stream",
     "text": [
      "[2023-03-16 09:43:03] - train 0.023362, valid MSE Loss 0.007742, valid L1 Loss 0.086261\n",
      "[2023-03-16 09:43:03] - Epoch: 41\n",
      "[2023-03-16 09:43:03] - training...\n"
     ]
    },
    {
     "name": "stderr",
     "output_type": "stream",
     "text": [
      "\n",
      "100%|███████████████████████████████████████████| 10/10 [00:00<00:00, 10.85it/s]"
     ]
    },
    {
     "name": "stdout",
     "output_type": "stream",
     "text": [
      "[2023-03-16 09:43:04] - evaluating...\n"
     ]
    },
    {
     "name": "stderr",
     "output_type": "stream",
     "text": [
      "\n",
      "Valid: 100%|█████████████████████████████████████| 2/2 [00:00<00:00, 523.18it/s]"
     ]
    },
    {
     "name": "stdout",
     "output_type": "stream",
     "text": [
      "[2023-03-16 09:43:04] - train 0.023558, valid MSE Loss 0.007481, valid L1 Loss 0.083341\n",
      "[2023-03-16 09:43:04] - Epoch: 42\n",
      "[2023-03-16 09:43:04] - training...\n"
     ]
    },
    {
     "name": "stderr",
     "output_type": "stream",
     "text": [
      "\n",
      "100%|███████████████████████████████████████████| 10/10 [00:00<00:00, 10.76it/s]"
     ]
    },
    {
     "name": "stdout",
     "output_type": "stream",
     "text": [
      "[2023-03-16 09:43:05] - evaluating...\n"
     ]
    },
    {
     "name": "stderr",
     "output_type": "stream",
     "text": [
      "\n",
      "Valid: 100%|█████████████████████████████████████| 2/2 [00:00<00:00, 514.13it/s]"
     ]
    },
    {
     "name": "stdout",
     "output_type": "stream",
     "text": [
      "[2023-03-16 09:43:05] - train 0.024784, valid MSE Loss 0.022062, valid L1 Loss 0.147144\n",
      "[2023-03-16 09:43:05] - Epoch: 43\n",
      "[2023-03-16 09:43:05] - training...\n"
     ]
    },
    {
     "name": "stderr",
     "output_type": "stream",
     "text": [
      "\n",
      "100%|███████████████████████████████████████████| 10/10 [00:00<00:00, 10.18it/s]"
     ]
    },
    {
     "name": "stdout",
     "output_type": "stream",
     "text": [
      "[2023-03-16 09:43:06] - evaluating...\n"
     ]
    },
    {
     "name": "stderr",
     "output_type": "stream",
     "text": [
      "\n",
      "Valid: 100%|█████████████████████████████████████| 2/2 [00:00<00:00, 488.02it/s]"
     ]
    },
    {
     "name": "stdout",
     "output_type": "stream",
     "text": [
      "[2023-03-16 09:43:06] - train 0.025258, valid MSE Loss 0.104328, valid L1 Loss 0.322589\n",
      "[2023-03-16 09:43:06] - Epoch: 44\n",
      "[2023-03-16 09:43:06] - training...\n"
     ]
    },
    {
     "name": "stderr",
     "output_type": "stream",
     "text": [
      "\n",
      "100%|███████████████████████████████████████████| 10/10 [00:00<00:00, 10.63it/s]\n"
     ]
    },
    {
     "name": "stdout",
     "output_type": "stream",
     "text": [
      "[2023-03-16 09:43:07] - evaluating...\n"
     ]
    },
    {
     "name": "stderr",
     "output_type": "stream",
     "text": [
      "Valid: 100%|█████████████████████████████████████| 2/2 [00:00<00:00, 496.78it/s]"
     ]
    },
    {
     "name": "stdout",
     "output_type": "stream",
     "text": [
      "[2023-03-16 09:43:07] - train 0.021984, valid MSE Loss 0.222002, valid L1 Loss 0.470905\n",
      "[2023-03-16 09:43:07] - Epoch: 45\n",
      "[2023-03-16 09:43:07] - training...\n"
     ]
    },
    {
     "name": "stderr",
     "output_type": "stream",
     "text": [
      "\n",
      "100%|███████████████████████████████████████████| 10/10 [00:00<00:00, 11.01it/s]\n"
     ]
    },
    {
     "name": "stdout",
     "output_type": "stream",
     "text": [
      "[2023-03-16 09:43:08] - evaluating...\n"
     ]
    },
    {
     "name": "stderr",
     "output_type": "stream",
     "text": [
      "Valid: 100%|█████████████████████████████████████| 2/2 [00:00<00:00, 482.85it/s]"
     ]
    },
    {
     "name": "stdout",
     "output_type": "stream",
     "text": [
      "[2023-03-16 09:43:08] - train 0.023656, valid MSE Loss 0.791430, valid L1 Loss 0.889480\n",
      "[2023-03-16 09:43:08] - Epoch: 46\n",
      "[2023-03-16 09:43:08] - training...\n"
     ]
    },
    {
     "name": "stderr",
     "output_type": "stream",
     "text": [
      "\n",
      "100%|███████████████████████████████████████████| 10/10 [00:00<00:00, 10.82it/s]\n"
     ]
    },
    {
     "name": "stdout",
     "output_type": "stream",
     "text": [
      "[2023-03-16 09:43:09] - evaluating...\n"
     ]
    },
    {
     "name": "stderr",
     "output_type": "stream",
     "text": [
      "Valid: 100%|█████████████████████████████████████| 2/2 [00:00<00:00, 459.40it/s]"
     ]
    },
    {
     "name": "stdout",
     "output_type": "stream",
     "text": [
      "[2023-03-16 09:43:09] - train 0.024123, valid MSE Loss 0.097500, valid L1 Loss 0.311814\n",
      "[2023-03-16 09:43:09] - Epoch: 47\n",
      "[2023-03-16 09:43:09] - training...\n"
     ]
    },
    {
     "name": "stderr",
     "output_type": "stream",
     "text": [
      "\n",
      "100%|███████████████████████████████████████████| 10/10 [00:01<00:00,  9.58it/s]"
     ]
    },
    {
     "name": "stdout",
     "output_type": "stream",
     "text": [
      "[2023-03-16 09:43:10] - evaluating...\n"
     ]
    },
    {
     "name": "stderr",
     "output_type": "stream",
     "text": [
      "\n",
      "Valid: 100%|█████████████████████████████████████| 2/2 [00:00<00:00, 461.22it/s]"
     ]
    },
    {
     "name": "stdout",
     "output_type": "stream",
     "text": [
      "[2023-03-16 09:43:10] - train 0.024469, valid MSE Loss 0.341450, valid L1 Loss 0.583963\n",
      "[2023-03-16 09:43:10] - Epoch: 48\n",
      "[2023-03-16 09:43:10] - training...\n"
     ]
    },
    {
     "name": "stderr",
     "output_type": "stream",
     "text": [
      "\n",
      "100%|███████████████████████████████████████████| 10/10 [00:00<00:00, 10.77it/s]\n"
     ]
    },
    {
     "name": "stdout",
     "output_type": "stream",
     "text": [
      "[2023-03-16 09:43:11] - evaluating...\n"
     ]
    },
    {
     "name": "stderr",
     "output_type": "stream",
     "text": [
      "Valid: 100%|█████████████████████████████████████| 2/2 [00:00<00:00, 447.13it/s]"
     ]
    },
    {
     "name": "stdout",
     "output_type": "stream",
     "text": [
      "[2023-03-16 09:43:11] - train 0.023112, valid MSE Loss 0.115759, valid L1 Loss 0.339412\n",
      "[2023-03-16 09:43:11] - Epoch: 49\n",
      "[2023-03-16 09:43:11] - training...\n"
     ]
    },
    {
     "name": "stderr",
     "output_type": "stream",
     "text": [
      "\n",
      "100%|███████████████████████████████████████████| 10/10 [00:00<00:00, 10.87it/s]"
     ]
    },
    {
     "name": "stdout",
     "output_type": "stream",
     "text": [
      "[2023-03-16 09:43:12] - evaluating...\n"
     ]
    },
    {
     "name": "stderr",
     "output_type": "stream",
     "text": [
      "\n",
      "Valid: 100%|█████████████████████████████████████| 2/2 [00:00<00:00, 467.33it/s]"
     ]
    },
    {
     "name": "stdout",
     "output_type": "stream",
     "text": [
      "[2023-03-16 09:43:12] - train 0.022219, valid MSE Loss 0.136017, valid L1 Loss 0.367354\n",
      "[2023-03-16 09:43:12] - Epoch: 50\n",
      "[2023-03-16 09:43:12] - training...\n"
     ]
    },
    {
     "name": "stderr",
     "output_type": "stream",
     "text": [
      "\n",
      "100%|███████████████████████████████████████████| 10/10 [00:00<00:00, 11.01it/s]\n"
     ]
    },
    {
     "name": "stdout",
     "output_type": "stream",
     "text": [
      "[2023-03-16 09:43:13] - evaluating...\n"
     ]
    },
    {
     "name": "stderr",
     "output_type": "stream",
     "text": [
      "Valid: 100%|█████████████████████████████████████| 2/2 [00:00<00:00, 548.17it/s]"
     ]
    },
    {
     "name": "stdout",
     "output_type": "stream",
     "text": [
      "[2023-03-16 09:43:13] - train 0.024437, valid MSE Loss 0.012219, valid L1 Loss 0.109068\n",
      "[2023-03-16 09:43:13] - Epoch: 51\n",
      "[2023-03-16 09:43:13] - training...\n"
     ]
    },
    {
     "name": "stderr",
     "output_type": "stream",
     "text": [
      "\n",
      "100%|███████████████████████████████████████████| 10/10 [00:00<00:00, 10.67it/s]"
     ]
    },
    {
     "name": "stdout",
     "output_type": "stream",
     "text": [
      "[2023-03-16 09:43:14] - evaluating...\n"
     ]
    },
    {
     "name": "stderr",
     "output_type": "stream",
     "text": [
      "\n",
      "Valid: 100%|█████████████████████████████████████| 2/2 [00:00<00:00, 443.65it/s]"
     ]
    },
    {
     "name": "stdout",
     "output_type": "stream",
     "text": [
      "[2023-03-16 09:43:14] - train 0.022738, valid MSE Loss 0.159591, valid L1 Loss 0.399144\n",
      "[2023-03-16 09:43:14] - Epoch: 52\n",
      "[2023-03-16 09:43:14] - training...\n"
     ]
    },
    {
     "name": "stderr",
     "output_type": "stream",
     "text": [
      "\n",
      "100%|███████████████████████████████████████████| 10/10 [00:00<00:00, 10.85it/s]"
     ]
    },
    {
     "name": "stdout",
     "output_type": "stream",
     "text": [
      "[2023-03-16 09:43:15] - evaluating...\n"
     ]
    },
    {
     "name": "stderr",
     "output_type": "stream",
     "text": [
      "\n",
      "Valid: 100%|█████████████████████████████████████| 2/2 [00:00<00:00, 455.88it/s]"
     ]
    },
    {
     "name": "stdout",
     "output_type": "stream",
     "text": [
      "[2023-03-16 09:43:15] - train 0.023396, valid MSE Loss 0.851833, valid L1 Loss 0.922761\n",
      "[2023-03-16 09:43:15] - Epoch: 53\n",
      "[2023-03-16 09:43:15] - training...\n"
     ]
    },
    {
     "name": "stderr",
     "output_type": "stream",
     "text": [
      "\n",
      "100%|███████████████████████████████████████████| 10/10 [00:00<00:00, 10.84it/s]\n"
     ]
    },
    {
     "name": "stdout",
     "output_type": "stream",
     "text": [
      "[2023-03-16 09:43:16] - evaluating...\n"
     ]
    },
    {
     "name": "stderr",
     "output_type": "stream",
     "text": [
      "Valid: 100%|█████████████████████████████████████| 2/2 [00:00<00:00, 464.25it/s]"
     ]
    },
    {
     "name": "stdout",
     "output_type": "stream",
     "text": [
      "[2023-03-16 09:43:16] - train 0.023282, valid MSE Loss 1.174265, valid L1 Loss 1.083507\n",
      "[2023-03-16 09:43:16] - Epoch: 54\n",
      "[2023-03-16 09:43:16] - training...\n"
     ]
    },
    {
     "name": "stderr",
     "output_type": "stream",
     "text": [
      "\n",
      "100%|███████████████████████████████████████████| 10/10 [00:00<00:00, 10.80it/s]\n"
     ]
    },
    {
     "name": "stdout",
     "output_type": "stream",
     "text": [
      "[2023-03-16 09:43:17] - evaluating...\n"
     ]
    },
    {
     "name": "stderr",
     "output_type": "stream",
     "text": [
      "Valid: 100%|█████████████████████████████████████| 2/2 [00:00<00:00, 462.77it/s]"
     ]
    },
    {
     "name": "stdout",
     "output_type": "stream",
     "text": [
      "[2023-03-16 09:43:17] - train 0.024131, valid MSE Loss 0.849068, valid L1 Loss 0.921223\n",
      "[2023-03-16 09:43:17] - Epoch: 55\n",
      "[2023-03-16 09:43:17] - training...\n"
     ]
    },
    {
     "name": "stderr",
     "output_type": "stream",
     "text": [
      "\n",
      "100%|███████████████████████████████████████████| 10/10 [00:00<00:00, 10.87it/s]"
     ]
    },
    {
     "name": "stdout",
     "output_type": "stream",
     "text": [
      "[2023-03-16 09:43:18] - evaluating...\n"
     ]
    },
    {
     "name": "stderr",
     "output_type": "stream",
     "text": [
      "\n",
      "Valid: 100%|█████████████████████████████████████| 2/2 [00:00<00:00, 425.08it/s]"
     ]
    },
    {
     "name": "stdout",
     "output_type": "stream",
     "text": [
      "[2023-03-16 09:43:18] - train 0.021884, valid MSE Loss 1.459347, valid L1 Loss 1.207895\n",
      "[2023-03-16 09:43:18] - Epoch: 56\n",
      "[2023-03-16 09:43:18] - training...\n"
     ]
    },
    {
     "name": "stderr",
     "output_type": "stream",
     "text": [
      "\n",
      "100%|███████████████████████████████████████████| 10/10 [00:00<00:00, 10.98it/s]\n"
     ]
    },
    {
     "name": "stdout",
     "output_type": "stream",
     "text": [
      "[2023-03-16 09:43:19] - evaluating...\n"
     ]
    },
    {
     "name": "stderr",
     "output_type": "stream",
     "text": [
      "Valid: 100%|█████████████████████████████████████| 2/2 [00:00<00:00, 416.33it/s]"
     ]
    },
    {
     "name": "stdout",
     "output_type": "stream",
     "text": [
      "[2023-03-16 09:43:19] - train 0.022856, valid MSE Loss 0.390815, valid L1 Loss 0.624728\n",
      "[2023-03-16 09:43:19] - Epoch: 57\n",
      "[2023-03-16 09:43:19] - training...\n"
     ]
    },
    {
     "name": "stderr",
     "output_type": "stream",
     "text": [
      "\n",
      "100%|███████████████████████████████████████████| 10/10 [00:00<00:00, 10.82it/s]\n"
     ]
    },
    {
     "name": "stdout",
     "output_type": "stream",
     "text": [
      "[2023-03-16 09:43:20] - evaluating...\n"
     ]
    },
    {
     "name": "stderr",
     "output_type": "stream",
     "text": [
      "Valid: 100%|█████████████████████████████████████| 2/2 [00:00<00:00, 409.78it/s]"
     ]
    },
    {
     "name": "stdout",
     "output_type": "stream",
     "text": [
      "[2023-03-16 09:43:20] - train 0.023242, valid MSE Loss 0.379515, valid L1 Loss 0.614926\n",
      "[2023-03-16 09:43:20] - Epoch: 58\n",
      "[2023-03-16 09:43:20] - training...\n"
     ]
    },
    {
     "name": "stderr",
     "output_type": "stream",
     "text": [
      "\n",
      "100%|███████████████████████████████████████████| 10/10 [00:00<00:00, 10.80it/s]\n"
     ]
    },
    {
     "name": "stdout",
     "output_type": "stream",
     "text": [
      "[2023-03-16 09:43:20] - evaluating...\n"
     ]
    },
    {
     "name": "stderr",
     "output_type": "stream",
     "text": [
      "Valid: 100%|█████████████████████████████████████| 2/2 [00:00<00:00, 398.15it/s]"
     ]
    },
    {
     "name": "stdout",
     "output_type": "stream",
     "text": [
      "[2023-03-16 09:43:21] - train 0.024887, valid MSE Loss 0.188487, valid L1 Loss 0.432757\n",
      "[2023-03-16 09:43:21] - Epoch: 59\n",
      "[2023-03-16 09:43:21] - training...\n"
     ]
    },
    {
     "name": "stderr",
     "output_type": "stream",
     "text": [
      "\n",
      "100%|███████████████████████████████████████████| 10/10 [00:00<00:00, 10.51it/s]\n"
     ]
    },
    {
     "name": "stdout",
     "output_type": "stream",
     "text": [
      "[2023-03-16 09:43:21] - evaluating...\n"
     ]
    },
    {
     "name": "stderr",
     "output_type": "stream",
     "text": [
      "Valid: 100%|█████████████████████████████████████| 2/2 [00:00<00:00, 402.79it/s]"
     ]
    },
    {
     "name": "stdout",
     "output_type": "stream",
     "text": [
      "[2023-03-16 09:43:21] - train 0.023146, valid MSE Loss 0.022198, valid L1 Loss 0.147070\n",
      "[2023-03-16 09:43:21] - Epoch: 60\n",
      "[2023-03-16 09:43:21] - training...\n"
     ]
    },
    {
     "name": "stderr",
     "output_type": "stream",
     "text": [
      "\n",
      "100%|███████████████████████████████████████████| 10/10 [00:00<00:00, 10.91it/s]\n"
     ]
    },
    {
     "name": "stdout",
     "output_type": "stream",
     "text": [
      "[2023-03-16 09:43:22] - evaluating...\n"
     ]
    },
    {
     "name": "stderr",
     "output_type": "stream",
     "text": [
      "Valid: 100%|█████████████████████████████████████| 2/2 [00:00<00:00, 394.41it/s]"
     ]
    },
    {
     "name": "stdout",
     "output_type": "stream",
     "text": [
      "[2023-03-16 09:43:22] - train 0.025850, valid MSE Loss 0.447230, valid L1 Loss 0.668553\n",
      "[2023-03-16 09:43:22] - early stop\n",
      "[2023-03-16 09:43:22] - best val mse loss score: 0.0010005483636632562 @ 20\n",
      "[2023-03-16 09:43:22] - Finished.\n"
     ]
    },
    {
     "name": "stderr",
     "output_type": "stream",
     "text": [
      "\n"
     ]
    }
   ],
   "source": [
    "## test loader 제거 작업 시작\n",
    "adarnn.train(train_loader_list, valid_loader, args)"
   ]
  },
  {
   "cell_type": "code",
   "execution_count": null,
   "id": "8d4b6c04",
   "metadata": {},
   "outputs": [],
   "source": []
  },
  {
   "cell_type": "code",
   "execution_count": null,
   "id": "8f62fbc5",
   "metadata": {},
   "outputs": [],
   "source": []
  },
  {
   "cell_type": "code",
   "execution_count": null,
   "id": "fd3fc801",
   "metadata": {},
   "outputs": [],
   "source": []
  },
  {
   "cell_type": "code",
   "execution_count": null,
   "id": "8d7cf270",
   "metadata": {},
   "outputs": [],
   "source": []
  },
  {
   "cell_type": "code",
   "execution_count": null,
   "id": "5c695472",
   "metadata": {},
   "outputs": [],
   "source": []
  },
  {
   "cell_type": "code",
   "execution_count": null,
   "id": "41a651db",
   "metadata": {},
   "outputs": [],
   "source": []
  },
  {
   "cell_type": "code",
   "execution_count": null,
   "id": "8c6c01da",
   "metadata": {},
   "outputs": [],
   "source": []
  },
  {
   "cell_type": "code",
   "execution_count": null,
   "id": "c5a31e1c",
   "metadata": {},
   "outputs": [],
   "source": []
  },
  {
   "cell_type": "code",
   "execution_count": null,
   "id": "8c8fe40a",
   "metadata": {},
   "outputs": [],
   "source": []
  }
 ],
 "metadata": {
  "kernelspec": {
   "display_name": "Python 3 (ipykernel)",
   "language": "python",
   "name": "python3"
  },
  "language_info": {
   "codemirror_mode": {
    "name": "ipython",
    "version": 3
   },
   "file_extension": ".py",
   "mimetype": "text/x-python",
   "name": "python",
   "nbconvert_exporter": "python",
   "pygments_lexer": "ipython3",
   "version": "3.8.16"
  }
 },
 "nbformat": 4,
 "nbformat_minor": 5
}
