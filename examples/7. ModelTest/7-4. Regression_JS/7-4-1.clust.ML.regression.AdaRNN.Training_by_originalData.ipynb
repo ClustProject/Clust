{
 "cells": [
  {
   "cell_type": "code",
   "execution_count": 1,
   "id": "ece5149a",
   "metadata": {},
   "outputs": [],
   "source": [
    "import os\n",
    "import sys\n",
    "sys.path.append(\"../\")\n",
    "sys.path.append(\"../../\")\n",
    "sys.path.append(\"../../../\")\n",
    "sys.path.append(\"../../../../\")\n",
    "\n",
    "import pandas as pd\n",
    "import numpy as np\n",
    "import datetime\n",
    "import torch\n",
    "import math\n",
    "\n",
    "from Clust.clust.ML.regression_JS import ada_rnn\n",
    "from Clust.clust.preprocessing.imputation.basicMethod import BasicImputation\n",
    "from Clust.clust.ML.common.common import p3_training as p3\n",
    "from Clust.clust.transformation.purpose.machineLearning import LSTMData"
   ]
  },
  {
   "cell_type": "markdown",
   "id": "35ce251c",
   "metadata": {},
   "source": [
    "# Set Param"
   ]
  },
  {
   "cell_type": "code",
   "execution_count": 2,
   "id": "541f6a1f",
   "metadata": {},
   "outputs": [],
   "source": [
    "param = {\n",
    "    \"d_feat\" : 6, \n",
    "    \"class_num\" : 1, \n",
    "    \"dropout\" : 0.0, \n",
    "    \"len_seq\" : 24, \n",
    "    \"loss_type\" : \"adv\",\n",
    "    \"hidden_size\" : 64,\n",
    "    \"num_layers\" : 2\n",
    "}\n",
    "\n",
    "args = {\n",
    "    \"output_folder_name\" : \"./ada_rnn_model\",\n",
    "    \"save_model_name\" : \"test_adarnn_model_by_origin_data\",\n",
    "    \"lr\" : 5e-4,\n",
    "    \"n_epochs\" : 200,\n",
    "    \"num_layers\" : 2, \n",
    "    \"len_seq\" : 24,\n",
    "    \"pre_epoch\" : 40,\n",
    "    \"len_win\" : 0,\n",
    "    \"dw\" : 0.5,\n",
    "    \"early_stop\" :40\n",
    "}\n",
    "k = 2"
   ]
  },
  {
   "cell_type": "code",
   "execution_count": null,
   "id": "928c0109",
   "metadata": {},
   "outputs": [],
   "source": []
  },
  {
   "cell_type": "markdown",
   "id": "ab8e4ff8",
   "metadata": {},
   "source": [
    "# get Data"
   ]
  },
  {
   "cell_type": "code",
   "execution_count": 3,
   "id": "e2cc2646",
   "metadata": {},
   "outputs": [],
   "source": [
    "# read original data\n",
    "data_pickle = pd.read_pickle(\"original_data.pkl\")\n",
    "original_data = data_pickle[\"Dongsi\"]"
   ]
  },
  {
   "cell_type": "code",
   "execution_count": 4,
   "id": "a46420b7",
   "metadata": {},
   "outputs": [
    {
     "data": {
      "text/plain": [
       "(3, (1460, 24, 6), (1460,))"
      ]
     },
     "execution_count": 4,
     "metadata": {},
     "output_type": "execute_result"
    }
   ],
   "source": [
    "len(original_data), original_data[0].shape, original_data[2].shape"
   ]
  },
  {
   "cell_type": "code",
   "execution_count": 5,
   "id": "011d3f0e",
   "metadata": {},
   "outputs": [],
   "source": [
    "# original data 에서 data_x, data_y 나누기\n",
    "data_x = original_data[0]\n",
    "data_y = original_data[2]"
   ]
  },
  {
   "cell_type": "code",
   "execution_count": 6,
   "id": "e9969a10",
   "metadata": {},
   "outputs": [],
   "source": [
    "# set time\n",
    "original_data_start_time = datetime.datetime(2013, 3, 1, 0, 0)\n",
    "\n",
    "## train data time\n",
    "train_start_time = '2013-03-01 00:00:00'\n",
    "train_end_time = '2016-06-30 23:00:00'\n",
    "\n",
    "## valid data time\n",
    "valid_start_time='2016-7-2 00:00:00'\n",
    "valid_end_time='2016-10-30 23:00:00'"
   ]
  },
  {
   "cell_type": "code",
   "execution_count": 7,
   "id": "d265755e",
   "metadata": {},
   "outputs": [],
   "source": [
    "# split train & validation data -> get train_x, train_y, valid_x, valid_y\n",
    "index_start=(pd.to_datetime(train_start_time) - original_data_start_time).days\n",
    "index_end=(pd.to_datetime(train_end_time) - original_data_start_time).days\n",
    "\n",
    "train_x=data_x[index_start: index_end + 1]\n",
    "train_y=data_y[index_start: index_end + 1]\n",
    "\n",
    "index_start=(pd.to_datetime(valid_start_time) - original_data_start_time).days\n",
    "index_end=(pd.to_datetime(valid_end_time) - original_data_start_time).days\n",
    "\n",
    "valid_x=data_x[index_start: index_end + 1]\n",
    "valid_y=data_y[index_start: index_end + 1]"
   ]
  },
  {
   "cell_type": "code",
   "execution_count": 8,
   "id": "79055c8e",
   "metadata": {},
   "outputs": [
    {
     "data": {
      "text/plain": [
       "((1218, 24, 6), (1218,), (121, 24, 6), (121,))"
      ]
     },
     "execution_count": 8,
     "metadata": {},
     "output_type": "execute_result"
    }
   ],
   "source": [
    "train_x.shape, train_y.shape, valid_x.shape, valid_y.shape"
   ]
  },
  {
   "cell_type": "markdown",
   "id": "af8ea6d3",
   "metadata": {},
   "source": [
    "# Data Loader"
   ]
  },
  {
   "cell_type": "code",
   "execution_count": 9,
   "id": "aed51f42",
   "metadata": {},
   "outputs": [
    {
     "name": "stdout",
     "output_type": "stream",
     "text": [
      "{'d_feat': 6, 'class_num': 1, 'dropout': 0.0, 'len_seq': 24, 'loss_type': 'adv', 'hidden_size': 64, 'num_layers': 2}\n"
     ]
    }
   ],
   "source": [
    "adarnn = ada_rnn.ClustAdaRnn(param)"
   ]
  },
  {
   "cell_type": "code",
   "execution_count": 10,
   "id": "8208ccce",
   "metadata": {},
   "outputs": [],
   "source": [
    "train_loader_list, valid_loader = adarnn.create_trainloader(train_x, train_y, valid_x, valid_y, k, train_start_time, train_end_time)"
   ]
  },
  {
   "cell_type": "markdown",
   "id": "61198958",
   "metadata": {},
   "source": [
    "# Training"
   ]
  },
  {
   "cell_type": "code",
   "execution_count": 11,
   "id": "c2db14dd",
   "metadata": {
    "scrolled": true
   },
   "outputs": [
    {
     "name": "stdout",
     "output_type": "stream",
     "text": [
      "[2023-03-10 16:45:21] - create model...\n",
      "[2023-03-10 16:45:21] - Epoch: 0\n",
      "[2023-03-10 16:45:21] - training...\n"
     ]
    },
    {
     "name": "stderr",
     "output_type": "stream",
     "text": [
      "100%|███████████████████████████████████████████| 10/10 [00:00<00:00, 13.79it/s]"
     ]
    },
    {
     "name": "stdout",
     "output_type": "stream",
     "text": [
      "[2023-03-10 16:45:21] - evaluating...\n"
     ]
    },
    {
     "name": "stderr",
     "output_type": "stream",
     "text": [
      "\n",
      "Valid: 100%|█████████████████████████████████████| 2/2 [00:00<00:00, 696.90it/s]"
     ]
    },
    {
     "name": "stdout",
     "output_type": "stream",
     "text": [
      "[2023-03-10 16:45:21] - train 0.056806, valid 0.135879\n",
      "[2023-03-10 16:45:21] - Epoch: 1\n",
      "[2023-03-10 16:45:21] - training...\n"
     ]
    },
    {
     "name": "stderr",
     "output_type": "stream",
     "text": [
      "\n",
      "100%|███████████████████████████████████████████| 10/10 [00:00<00:00, 22.50it/s]"
     ]
    },
    {
     "name": "stdout",
     "output_type": "stream",
     "text": [
      "[2023-03-10 16:45:22] - evaluating...\n"
     ]
    },
    {
     "name": "stderr",
     "output_type": "stream",
     "text": [
      "\n",
      "Valid: 100%|█████████████████████████████████████| 2/2 [00:00<00:00, 991.09it/s]"
     ]
    },
    {
     "name": "stdout",
     "output_type": "stream",
     "text": [
      "[2023-03-10 16:45:22] - train 0.040345, valid 0.095514\n",
      "[2023-03-10 16:45:22] - Epoch: 2\n",
      "[2023-03-10 16:45:22] - training...\n"
     ]
    },
    {
     "name": "stderr",
     "output_type": "stream",
     "text": [
      "\n",
      "100%|███████████████████████████████████████████| 10/10 [00:00<00:00, 24.44it/s]"
     ]
    },
    {
     "name": "stdout",
     "output_type": "stream",
     "text": [
      "[2023-03-10 16:45:22] - evaluating...\n"
     ]
    },
    {
     "name": "stderr",
     "output_type": "stream",
     "text": [
      "\n",
      "Valid: 100%|█████████████████████████████████████| 2/2 [00:00<00:00, 698.18it/s]"
     ]
    },
    {
     "name": "stdout",
     "output_type": "stream",
     "text": [
      "[2023-03-10 16:45:22] - train 0.033320, valid 0.082742\n",
      "[2023-03-10 16:45:22] - Epoch: 3\n",
      "[2023-03-10 16:45:22] - training...\n"
     ]
    },
    {
     "name": "stderr",
     "output_type": "stream",
     "text": [
      "\n",
      "100%|███████████████████████████████████████████| 10/10 [00:00<00:00, 24.77it/s]"
     ]
    },
    {
     "name": "stdout",
     "output_type": "stream",
     "text": [
      "[2023-03-10 16:45:23] - evaluating...\n"
     ]
    },
    {
     "name": "stderr",
     "output_type": "stream",
     "text": [
      "\n",
      "Valid: 100%|█████████████████████████████████████| 2/2 [00:00<00:00, 876.09it/s]"
     ]
    },
    {
     "name": "stdout",
     "output_type": "stream",
     "text": [
      "[2023-03-10 16:45:23] - train 0.031566, valid 0.082126\n",
      "[2023-03-10 16:45:23] - Epoch: 4\n",
      "[2023-03-10 16:45:23] - training...\n"
     ]
    },
    {
     "name": "stderr",
     "output_type": "stream",
     "text": [
      "\n",
      "100%|███████████████████████████████████████████| 10/10 [00:00<00:00, 22.87it/s]"
     ]
    },
    {
     "name": "stdout",
     "output_type": "stream",
     "text": [
      "[2023-03-10 16:45:23] - evaluating...\n"
     ]
    },
    {
     "name": "stderr",
     "output_type": "stream",
     "text": [
      "\n",
      "Valid: 100%|█████████████████████████████████████| 2/2 [00:00<00:00, 868.12it/s]"
     ]
    },
    {
     "name": "stdout",
     "output_type": "stream",
     "text": [
      "[2023-03-10 16:45:23] - train 0.028419, valid 0.074938\n",
      "[2023-03-10 16:45:23] - Epoch: 5\n",
      "[2023-03-10 16:45:23] - training...\n"
     ]
    },
    {
     "name": "stderr",
     "output_type": "stream",
     "text": [
      "\n",
      "100%|███████████████████████████████████████████| 10/10 [00:00<00:00, 22.82it/s]"
     ]
    },
    {
     "name": "stdout",
     "output_type": "stream",
     "text": [
      "[2023-03-10 16:45:24] - evaluating...\n"
     ]
    },
    {
     "name": "stderr",
     "output_type": "stream",
     "text": [
      "\n",
      "Valid: 100%|█████████████████████████████████████| 2/2 [00:00<00:00, 852.24it/s]"
     ]
    },
    {
     "name": "stdout",
     "output_type": "stream",
     "text": [
      "[2023-03-10 16:45:24] - train 0.033164, valid 0.063547\n",
      "[2023-03-10 16:45:24] - Epoch: 6\n",
      "[2023-03-10 16:45:24] - training...\n"
     ]
    },
    {
     "name": "stderr",
     "output_type": "stream",
     "text": [
      "\n",
      "100%|███████████████████████████████████████████| 10/10 [00:00<00:00, 23.69it/s]"
     ]
    },
    {
     "name": "stdout",
     "output_type": "stream",
     "text": [
      "[2023-03-10 16:45:24] - evaluating...\n"
     ]
    },
    {
     "name": "stderr",
     "output_type": "stream",
     "text": [
      "\n",
      "Valid: 100%|█████████████████████████████████████| 2/2 [00:00<00:00, 873.45it/s]"
     ]
    },
    {
     "name": "stdout",
     "output_type": "stream",
     "text": [
      "[2023-03-10 16:45:24] - train 0.033163, valid 0.060433\n",
      "[2023-03-10 16:45:24] - Epoch: 7\n",
      "[2023-03-10 16:45:24] - training...\n"
     ]
    },
    {
     "name": "stderr",
     "output_type": "stream",
     "text": [
      "\n",
      "100%|███████████████████████████████████████████| 10/10 [00:00<00:00, 23.64it/s]"
     ]
    },
    {
     "name": "stdout",
     "output_type": "stream",
     "text": [
      "[2023-03-10 16:45:24] - evaluating...\n"
     ]
    },
    {
     "name": "stderr",
     "output_type": "stream",
     "text": [
      "\n",
      "Valid: 100%|█████████████████████████████████████| 2/2 [00:00<00:00, 939.06it/s]"
     ]
    },
    {
     "name": "stdout",
     "output_type": "stream",
     "text": [
      "[2023-03-10 16:45:24] - train 0.030671, valid 0.072262\n",
      "[2023-03-10 16:45:24] - Epoch: 8\n",
      "[2023-03-10 16:45:24] - training...\n"
     ]
    },
    {
     "name": "stderr",
     "output_type": "stream",
     "text": [
      "\n",
      "100%|███████████████████████████████████████████| 10/10 [00:00<00:00, 23.73it/s]"
     ]
    },
    {
     "name": "stdout",
     "output_type": "stream",
     "text": [
      "[2023-03-10 16:45:25] - evaluating...\n"
     ]
    },
    {
     "name": "stderr",
     "output_type": "stream",
     "text": [
      "\n",
      "Valid: 100%|█████████████████████████████████████| 2/2 [00:00<00:00, 958.37it/s]"
     ]
    },
    {
     "name": "stdout",
     "output_type": "stream",
     "text": [
      "[2023-03-10 16:45:25] - train 0.027422, valid 0.101387\n",
      "[2023-03-10 16:45:25] - Epoch: 9\n",
      "[2023-03-10 16:45:25] - training...\n"
     ]
    },
    {
     "name": "stderr",
     "output_type": "stream",
     "text": [
      "\n",
      "100%|███████████████████████████████████████████| 10/10 [00:00<00:00, 20.94it/s]"
     ]
    },
    {
     "name": "stdout",
     "output_type": "stream",
     "text": [
      "[2023-03-10 16:45:25] - evaluating...\n"
     ]
    },
    {
     "name": "stderr",
     "output_type": "stream",
     "text": [
      "\n",
      "Valid: 100%|█████████████████████████████████████| 2/2 [00:00<00:00, 816.73it/s]"
     ]
    },
    {
     "name": "stdout",
     "output_type": "stream",
     "text": [
      "[2023-03-10 16:45:25] - train 0.027681, valid 0.122647\n",
      "[2023-03-10 16:45:25] - Epoch: 10\n",
      "[2023-03-10 16:45:25] - training...\n"
     ]
    },
    {
     "name": "stderr",
     "output_type": "stream",
     "text": [
      "\n",
      "100%|███████████████████████████████████████████| 10/10 [00:00<00:00, 23.62it/s]"
     ]
    },
    {
     "name": "stdout",
     "output_type": "stream",
     "text": [
      "[2023-03-10 16:45:26] - evaluating...\n"
     ]
    },
    {
     "name": "stderr",
     "output_type": "stream",
     "text": [
      "\n",
      "Valid: 100%|█████████████████████████████████████| 2/2 [00:00<00:00, 937.59it/s]"
     ]
    },
    {
     "name": "stdout",
     "output_type": "stream",
     "text": [
      "[2023-03-10 16:45:26] - train 0.026263, valid 0.232897\n",
      "[2023-03-10 16:45:26] - Epoch: 11\n",
      "[2023-03-10 16:45:26] - training...\n"
     ]
    },
    {
     "name": "stderr",
     "output_type": "stream",
     "text": [
      "\n",
      "100%|███████████████████████████████████████████| 10/10 [00:00<00:00, 22.11it/s]"
     ]
    },
    {
     "name": "stdout",
     "output_type": "stream",
     "text": [
      "[2023-03-10 16:45:26] - evaluating...\n"
     ]
    },
    {
     "name": "stderr",
     "output_type": "stream",
     "text": [
      "\n",
      "Valid: 100%|█████████████████████████████████████| 2/2 [00:00<00:00, 749.59it/s]"
     ]
    },
    {
     "name": "stdout",
     "output_type": "stream",
     "text": [
      "[2023-03-10 16:45:26] - train 0.026164, valid 0.209570\n",
      "[2023-03-10 16:45:26] - Epoch: 12\n",
      "[2023-03-10 16:45:26] - training...\n"
     ]
    },
    {
     "name": "stderr",
     "output_type": "stream",
     "text": [
      "\n",
      "100%|███████████████████████████████████████████| 10/10 [00:00<00:00, 25.06it/s]"
     ]
    },
    {
     "name": "stdout",
     "output_type": "stream",
     "text": [
      "[2023-03-10 16:45:27] - evaluating...\n"
     ]
    },
    {
     "name": "stderr",
     "output_type": "stream",
     "text": [
      "\n",
      "Valid: 100%|█████████████████████████████████████| 2/2 [00:00<00:00, 868.57it/s]"
     ]
    },
    {
     "name": "stdout",
     "output_type": "stream",
     "text": [
      "[2023-03-10 16:45:27] - train 0.027500, valid 0.053705\n",
      "[2023-03-10 16:45:27] - Epoch: 13\n",
      "[2023-03-10 16:45:27] - training...\n"
     ]
    },
    {
     "name": "stderr",
     "output_type": "stream",
     "text": [
      "\n",
      "100%|███████████████████████████████████████████| 10/10 [00:00<00:00, 24.70it/s]"
     ]
    },
    {
     "name": "stdout",
     "output_type": "stream",
     "text": [
      "[2023-03-10 16:45:27] - evaluating...\n"
     ]
    },
    {
     "name": "stderr",
     "output_type": "stream",
     "text": [
      "\n",
      "Valid: 100%|█████████████████████████████████████| 2/2 [00:00<00:00, 907.37it/s]"
     ]
    },
    {
     "name": "stdout",
     "output_type": "stream",
     "text": [
      "[2023-03-10 16:45:27] - train 0.025724, valid 0.040582\n",
      "[2023-03-10 16:45:27] - Epoch: 14\n",
      "[2023-03-10 16:45:27] - training...\n"
     ]
    },
    {
     "name": "stderr",
     "output_type": "stream",
     "text": [
      "\n",
      "100%|███████████████████████████████████████████| 10/10 [00:00<00:00, 24.68it/s]"
     ]
    },
    {
     "name": "stdout",
     "output_type": "stream",
     "text": [
      "[2023-03-10 16:45:28] - evaluating...\n"
     ]
    },
    {
     "name": "stderr",
     "output_type": "stream",
     "text": [
      "\n",
      "Valid: 100%|█████████████████████████████████████| 2/2 [00:00<00:00, 906.09it/s]"
     ]
    },
    {
     "name": "stdout",
     "output_type": "stream",
     "text": [
      "[2023-03-10 16:45:28] - train 0.025582, valid 0.014747\n",
      "[2023-03-10 16:45:28] - Epoch: 15\n",
      "[2023-03-10 16:45:28] - training...\n"
     ]
    },
    {
     "name": "stderr",
     "output_type": "stream",
     "text": [
      "\n",
      "100%|███████████████████████████████████████████| 10/10 [00:00<00:00, 24.71it/s]"
     ]
    },
    {
     "name": "stdout",
     "output_type": "stream",
     "text": [
      "[2023-03-10 16:45:28] - evaluating...\n"
     ]
    },
    {
     "name": "stderr",
     "output_type": "stream",
     "text": [
      "\n",
      "Valid: 100%|█████████████████████████████████████| 2/2 [00:00<00:00, 953.90it/s]"
     ]
    },
    {
     "name": "stdout",
     "output_type": "stream",
     "text": [
      "[2023-03-10 16:45:28] - train 0.026598, valid 0.245718\n",
      "[2023-03-10 16:45:28] - Epoch: 16\n",
      "[2023-03-10 16:45:28] - training...\n"
     ]
    },
    {
     "name": "stderr",
     "output_type": "stream",
     "text": [
      "\n",
      "100%|███████████████████████████████████████████| 10/10 [00:00<00:00, 24.44it/s]"
     ]
    },
    {
     "name": "stdout",
     "output_type": "stream",
     "text": [
      "[2023-03-10 16:45:28] - evaluating...\n"
     ]
    },
    {
     "name": "stderr",
     "output_type": "stream",
     "text": [
      "\n",
      "Valid: 100%|█████████████████████████████████████| 2/2 [00:00<00:00, 962.44it/s]"
     ]
    },
    {
     "name": "stdout",
     "output_type": "stream",
     "text": [
      "[2023-03-10 16:45:28] - train 0.024906, valid 0.043286\n",
      "[2023-03-10 16:45:28] - Epoch: 17\n",
      "[2023-03-10 16:45:28] - training...\n"
     ]
    },
    {
     "name": "stderr",
     "output_type": "stream",
     "text": [
      "\n",
      "100%|███████████████████████████████████████████| 10/10 [00:00<00:00, 24.43it/s]"
     ]
    },
    {
     "name": "stdout",
     "output_type": "stream",
     "text": [
      "[2023-03-10 16:45:29] - evaluating...\n"
     ]
    },
    {
     "name": "stderr",
     "output_type": "stream",
     "text": [
      "\n",
      "Valid: 100%|█████████████████████████████████████| 2/2 [00:00<00:00, 821.77it/s]"
     ]
    },
    {
     "name": "stdout",
     "output_type": "stream",
     "text": [
      "[2023-03-10 16:45:29] - train 0.026284, valid 0.129208\n",
      "[2023-03-10 16:45:29] - Epoch: 18\n",
      "[2023-03-10 16:45:29] - training...\n"
     ]
    },
    {
     "name": "stderr",
     "output_type": "stream",
     "text": [
      "\n",
      "100%|███████████████████████████████████████████| 10/10 [00:00<00:00, 24.74it/s]"
     ]
    },
    {
     "name": "stdout",
     "output_type": "stream",
     "text": [
      "[2023-03-10 16:45:29] - evaluating...\n"
     ]
    },
    {
     "name": "stderr",
     "output_type": "stream",
     "text": [
      "\n",
      "Valid: 100%|█████████████████████████████████████| 2/2 [00:00<00:00, 954.55it/s]"
     ]
    },
    {
     "name": "stdout",
     "output_type": "stream",
     "text": [
      "[2023-03-10 16:45:29] - train 0.027559, valid 0.017097\n",
      "[2023-03-10 16:45:29] - Epoch: 19\n",
      "[2023-03-10 16:45:29] - training...\n"
     ]
    },
    {
     "name": "stderr",
     "output_type": "stream",
     "text": [
      "\n",
      "100%|███████████████████████████████████████████| 10/10 [00:00<00:00, 24.69it/s]"
     ]
    },
    {
     "name": "stdout",
     "output_type": "stream",
     "text": [
      "[2023-03-10 16:45:30] - evaluating...\n"
     ]
    },
    {
     "name": "stderr",
     "output_type": "stream",
     "text": [
      "\n",
      "Valid: 100%|█████████████████████████████████████| 2/2 [00:00<00:00, 645.08it/s]"
     ]
    },
    {
     "name": "stdout",
     "output_type": "stream",
     "text": [
      "[2023-03-10 16:45:30] - train 0.026136, valid 0.087017\n",
      "[2023-03-10 16:45:30] - Epoch: 20\n",
      "[2023-03-10 16:45:30] - training...\n"
     ]
    },
    {
     "name": "stderr",
     "output_type": "stream",
     "text": [
      "\n",
      "100%|███████████████████████████████████████████| 10/10 [00:00<00:00, 24.78it/s]"
     ]
    },
    {
     "name": "stdout",
     "output_type": "stream",
     "text": [
      "[2023-03-10 16:45:30] - evaluating...\n"
     ]
    },
    {
     "name": "stderr",
     "output_type": "stream",
     "text": [
      "\n",
      "Valid: 100%|█████████████████████████████████████| 2/2 [00:00<00:00, 892.88it/s]"
     ]
    },
    {
     "name": "stdout",
     "output_type": "stream",
     "text": [
      "[2023-03-10 16:45:30] - train 0.025635, valid 0.213636\n",
      "[2023-03-10 16:45:30] - Epoch: 21\n",
      "[2023-03-10 16:45:30] - training...\n"
     ]
    },
    {
     "name": "stderr",
     "output_type": "stream",
     "text": [
      "\n",
      "100%|███████████████████████████████████████████| 10/10 [00:00<00:00, 24.52it/s]"
     ]
    },
    {
     "name": "stdout",
     "output_type": "stream",
     "text": [
      "[2023-03-10 16:45:30] - evaluating...\n"
     ]
    },
    {
     "name": "stderr",
     "output_type": "stream",
     "text": [
      "\n",
      "Valid: 100%|█████████████████████████████████████| 2/2 [00:00<00:00, 637.38it/s]"
     ]
    },
    {
     "name": "stdout",
     "output_type": "stream",
     "text": [
      "[2023-03-10 16:45:30] - train 0.024094, valid 0.376297\n",
      "[2023-03-10 16:45:30] - Epoch: 22\n",
      "[2023-03-10 16:45:30] - training...\n"
     ]
    },
    {
     "name": "stderr",
     "output_type": "stream",
     "text": [
      "\n",
      "100%|███████████████████████████████████████████| 10/10 [00:00<00:00, 24.59it/s]"
     ]
    },
    {
     "name": "stdout",
     "output_type": "stream",
     "text": [
      "[2023-03-10 16:45:31] - evaluating...\n"
     ]
    },
    {
     "name": "stderr",
     "output_type": "stream",
     "text": [
      "\n",
      "Valid: 100%|█████████████████████████████████████| 2/2 [00:00<00:00, 928.66it/s]"
     ]
    },
    {
     "name": "stdout",
     "output_type": "stream",
     "text": [
      "[2023-03-10 16:45:31] - train 0.024021, valid 0.416615\n",
      "[2023-03-10 16:45:31] - Epoch: 23\n",
      "[2023-03-10 16:45:31] - training...\n"
     ]
    },
    {
     "name": "stderr",
     "output_type": "stream",
     "text": [
      "\n",
      "100%|███████████████████████████████████████████| 10/10 [00:00<00:00, 24.81it/s]"
     ]
    },
    {
     "name": "stdout",
     "output_type": "stream",
     "text": [
      "[2023-03-10 16:45:31] - evaluating...\n"
     ]
    },
    {
     "name": "stderr",
     "output_type": "stream",
     "text": [
      "\n",
      "Valid: 100%|█████████████████████████████████████| 2/2 [00:00<00:00, 509.42it/s]"
     ]
    },
    {
     "name": "stdout",
     "output_type": "stream",
     "text": [
      "[2023-03-10 16:45:31] - train 0.022204, valid 0.437163\n",
      "[2023-03-10 16:45:31] - Epoch: 24\n",
      "[2023-03-10 16:45:31] - training...\n"
     ]
    },
    {
     "name": "stderr",
     "output_type": "stream",
     "text": [
      "\n",
      "100%|███████████████████████████████████████████| 10/10 [00:00<00:00, 25.13it/s]"
     ]
    },
    {
     "name": "stdout",
     "output_type": "stream",
     "text": [
      "[2023-03-10 16:45:32] - evaluating...\n"
     ]
    },
    {
     "name": "stderr",
     "output_type": "stream",
     "text": [
      "\n",
      "Valid: 100%|█████████████████████████████████████| 2/2 [00:00<00:00, 903.46it/s]"
     ]
    },
    {
     "name": "stdout",
     "output_type": "stream",
     "text": [
      "[2023-03-10 16:45:32] - train 0.022510, valid 0.222316\n",
      "[2023-03-10 16:45:32] - Epoch: 25\n",
      "[2023-03-10 16:45:32] - training...\n"
     ]
    },
    {
     "name": "stderr",
     "output_type": "stream",
     "text": [
      "\n",
      "100%|███████████████████████████████████████████| 10/10 [00:00<00:00, 24.71it/s]"
     ]
    },
    {
     "name": "stdout",
     "output_type": "stream",
     "text": [
      "[2023-03-10 16:45:32] - evaluating...\n"
     ]
    },
    {
     "name": "stderr",
     "output_type": "stream",
     "text": [
      "\n",
      "Valid: 100%|█████████████████████████████████████| 2/2 [00:00<00:00, 942.22it/s]"
     ]
    },
    {
     "name": "stdout",
     "output_type": "stream",
     "text": [
      "[2023-03-10 16:45:32] - train 0.022308, valid 0.094919\n",
      "[2023-03-10 16:45:32] - Epoch: 26\n",
      "[2023-03-10 16:45:32] - training...\n"
     ]
    },
    {
     "name": "stderr",
     "output_type": "stream",
     "text": [
      "\n",
      "100%|███████████████████████████████████████████| 10/10 [00:00<00:00, 24.66it/s]"
     ]
    },
    {
     "name": "stdout",
     "output_type": "stream",
     "text": [
      "[2023-03-10 16:45:32] - evaluating...\n"
     ]
    },
    {
     "name": "stderr",
     "output_type": "stream",
     "text": [
      "\n",
      "Valid: 100%|█████████████████████████████████████| 2/2 [00:00<00:00, 708.44it/s]"
     ]
    },
    {
     "name": "stdout",
     "output_type": "stream",
     "text": [
      "[2023-03-10 16:45:32] - train 0.023893, valid 0.193790\n",
      "[2023-03-10 16:45:32] - Epoch: 27\n",
      "[2023-03-10 16:45:32] - training...\n"
     ]
    },
    {
     "name": "stderr",
     "output_type": "stream",
     "text": [
      "\n",
      "100%|███████████████████████████████████████████| 10/10 [00:00<00:00, 24.64it/s]"
     ]
    },
    {
     "name": "stdout",
     "output_type": "stream",
     "text": [
      "[2023-03-10 16:45:33] - evaluating...\n"
     ]
    },
    {
     "name": "stderr",
     "output_type": "stream",
     "text": [
      "\n",
      "Valid: 100%|█████████████████████████████████████| 2/2 [00:00<00:00, 590.79it/s]"
     ]
    },
    {
     "name": "stdout",
     "output_type": "stream",
     "text": [
      "[2023-03-10 16:45:33] - train 0.022625, valid 0.307194\n",
      "[2023-03-10 16:45:33] - Epoch: 28\n",
      "[2023-03-10 16:45:33] - training...\n"
     ]
    },
    {
     "name": "stderr",
     "output_type": "stream",
     "text": [
      "\n",
      "100%|███████████████████████████████████████████| 10/10 [00:00<00:00, 24.56it/s]"
     ]
    },
    {
     "name": "stdout",
     "output_type": "stream",
     "text": [
      "[2023-03-10 16:45:33] - evaluating...\n"
     ]
    },
    {
     "name": "stderr",
     "output_type": "stream",
     "text": [
      "\n",
      "Valid: 100%|█████████████████████████████████████| 2/2 [00:00<00:00, 598.72it/s]"
     ]
    },
    {
     "name": "stdout",
     "output_type": "stream",
     "text": [
      "[2023-03-10 16:45:33] - train 0.025451, valid 0.069754\n",
      "[2023-03-10 16:45:33] - Epoch: 29\n",
      "[2023-03-10 16:45:33] - training...\n"
     ]
    },
    {
     "name": "stderr",
     "output_type": "stream",
     "text": [
      "\n",
      "100%|███████████████████████████████████████████| 10/10 [00:00<00:00, 24.86it/s]"
     ]
    },
    {
     "name": "stdout",
     "output_type": "stream",
     "text": [
      "[2023-03-10 16:45:34] - evaluating...\n"
     ]
    },
    {
     "name": "stderr",
     "output_type": "stream",
     "text": [
      "\n",
      "Valid: 100%|█████████████████████████████████████| 2/2 [00:00<00:00, 906.88it/s]"
     ]
    },
    {
     "name": "stdout",
     "output_type": "stream",
     "text": [
      "[2023-03-10 16:45:34] - train 0.024311, valid 0.279645\n",
      "[2023-03-10 16:45:34] - Epoch: 30\n",
      "[2023-03-10 16:45:34] - training...\n"
     ]
    },
    {
     "name": "stderr",
     "output_type": "stream",
     "text": [
      "\n",
      "100%|███████████████████████████████████████████| 10/10 [00:00<00:00, 24.63it/s]"
     ]
    },
    {
     "name": "stdout",
     "output_type": "stream",
     "text": [
      "[2023-03-10 16:45:34] - evaluating...\n"
     ]
    },
    {
     "name": "stderr",
     "output_type": "stream",
     "text": [
      "\n",
      "Valid: 100%|█████████████████████████████████████| 2/2 [00:00<00:00, 785.23it/s]"
     ]
    },
    {
     "name": "stdout",
     "output_type": "stream",
     "text": [
      "[2023-03-10 16:45:34] - train 0.023345, valid 0.174474\n",
      "[2023-03-10 16:45:34] - Epoch: 31\n",
      "[2023-03-10 16:45:34] - training...\n"
     ]
    },
    {
     "name": "stderr",
     "output_type": "stream",
     "text": [
      "\n",
      "100%|███████████████████████████████████████████| 10/10 [00:00<00:00, 24.44it/s]"
     ]
    },
    {
     "name": "stdout",
     "output_type": "stream",
     "text": [
      "[2023-03-10 16:45:35] - evaluating...\n"
     ]
    },
    {
     "name": "stderr",
     "output_type": "stream",
     "text": [
      "\n",
      "Valid: 100%|█████████████████████████████████████| 2/2 [00:00<00:00, 789.89it/s]"
     ]
    },
    {
     "name": "stdout",
     "output_type": "stream",
     "text": [
      "[2023-03-10 16:45:35] - train 0.022624, valid 0.372699\n",
      "[2023-03-10 16:45:35] - Epoch: 32\n",
      "[2023-03-10 16:45:35] - training...\n"
     ]
    },
    {
     "name": "stderr",
     "output_type": "stream",
     "text": [
      "\n",
      "100%|███████████████████████████████████████████| 10/10 [00:00<00:00, 24.52it/s]"
     ]
    },
    {
     "name": "stdout",
     "output_type": "stream",
     "text": [
      "[2023-03-10 16:45:35] - evaluating...\n"
     ]
    },
    {
     "name": "stderr",
     "output_type": "stream",
     "text": [
      "\n",
      "Valid: 100%|█████████████████████████████████████| 2/2 [00:00<00:00, 901.90it/s]"
     ]
    },
    {
     "name": "stdout",
     "output_type": "stream",
     "text": [
      "[2023-03-10 16:45:35] - train 0.024689, valid 0.511351\n",
      "[2023-03-10 16:45:35] - Epoch: 33\n",
      "[2023-03-10 16:45:35] - training...\n"
     ]
    },
    {
     "name": "stderr",
     "output_type": "stream",
     "text": [
      "\n",
      "100%|███████████████████████████████████████████| 10/10 [00:00<00:00, 24.63it/s]"
     ]
    },
    {
     "name": "stdout",
     "output_type": "stream",
     "text": [
      "[2023-03-10 16:45:35] - evaluating...\n"
     ]
    },
    {
     "name": "stderr",
     "output_type": "stream",
     "text": [
      "\n",
      "Valid: 100%|█████████████████████████████████████| 2/2 [00:00<00:00, 905.80it/s]"
     ]
    },
    {
     "name": "stdout",
     "output_type": "stream",
     "text": [
      "[2023-03-10 16:45:35] - train 0.022134, valid 0.207979\n",
      "[2023-03-10 16:45:35] - Epoch: 34\n",
      "[2023-03-10 16:45:35] - training...\n"
     ]
    },
    {
     "name": "stderr",
     "output_type": "stream",
     "text": [
      "\n",
      "100%|███████████████████████████████████████████| 10/10 [00:00<00:00, 24.25it/s]"
     ]
    },
    {
     "name": "stdout",
     "output_type": "stream",
     "text": [
      "[2023-03-10 16:45:36] - evaluating...\n"
     ]
    },
    {
     "name": "stderr",
     "output_type": "stream",
     "text": [
      "\n",
      "Valid: 100%|█████████████████████████████████████| 2/2 [00:00<00:00, 698.58it/s]"
     ]
    },
    {
     "name": "stdout",
     "output_type": "stream",
     "text": [
      "[2023-03-10 16:45:36] - train 0.024051, valid 0.205093\n",
      "[2023-03-10 16:45:36] - Epoch: 35\n",
      "[2023-03-10 16:45:36] - training...\n"
     ]
    },
    {
     "name": "stderr",
     "output_type": "stream",
     "text": [
      "\n",
      "100%|███████████████████████████████████████████| 10/10 [00:00<00:00, 24.60it/s]"
     ]
    },
    {
     "name": "stdout",
     "output_type": "stream",
     "text": [
      "[2023-03-10 16:45:36] - evaluating...\n"
     ]
    },
    {
     "name": "stderr",
     "output_type": "stream",
     "text": [
      "\n",
      "Valid: 100%|█████████████████████████████████████| 2/2 [00:00<00:00, 892.60it/s]"
     ]
    },
    {
     "name": "stdout",
     "output_type": "stream",
     "text": [
      "[2023-03-10 16:45:36] - train 0.022847, valid 0.165030\n",
      "[2023-03-10 16:45:36] - Epoch: 36\n",
      "[2023-03-10 16:45:36] - training...\n"
     ]
    },
    {
     "name": "stderr",
     "output_type": "stream",
     "text": [
      "\n",
      "100%|███████████████████████████████████████████| 10/10 [00:00<00:00, 24.50it/s]"
     ]
    },
    {
     "name": "stdout",
     "output_type": "stream",
     "text": [
      "[2023-03-10 16:45:37] - evaluating...\n"
     ]
    },
    {
     "name": "stderr",
     "output_type": "stream",
     "text": [
      "\n",
      "Valid: 100%|█████████████████████████████████████| 2/2 [00:00<00:00, 941.06it/s]"
     ]
    },
    {
     "name": "stdout",
     "output_type": "stream",
     "text": [
      "[2023-03-10 16:45:37] - train 0.021648, valid 0.565345\n",
      "[2023-03-10 16:45:37] - Epoch: 37\n",
      "[2023-03-10 16:45:37] - training...\n"
     ]
    },
    {
     "name": "stderr",
     "output_type": "stream",
     "text": [
      "\n",
      "100%|███████████████████████████████████████████| 10/10 [00:00<00:00, 24.57it/s]"
     ]
    },
    {
     "name": "stdout",
     "output_type": "stream",
     "text": [
      "[2023-03-10 16:45:37] - evaluating...\n"
     ]
    },
    {
     "name": "stderr",
     "output_type": "stream",
     "text": [
      "\n",
      "Valid: 100%|█████████████████████████████████████| 2/2 [00:00<00:00, 947.97it/s]"
     ]
    },
    {
     "name": "stdout",
     "output_type": "stream",
     "text": [
      "[2023-03-10 16:45:37] - train 0.022558, valid 0.029931\n",
      "[2023-03-10 16:45:37] - Epoch: 38\n",
      "[2023-03-10 16:45:37] - training...\n"
     ]
    },
    {
     "name": "stderr",
     "output_type": "stream",
     "text": [
      "\n",
      "100%|███████████████████████████████████████████| 10/10 [00:00<00:00, 24.51it/s]"
     ]
    },
    {
     "name": "stdout",
     "output_type": "stream",
     "text": [
      "[2023-03-10 16:45:37] - evaluating...\n"
     ]
    },
    {
     "name": "stderr",
     "output_type": "stream",
     "text": [
      "\n",
      "Valid: 100%|█████████████████████████████████████| 2/2 [00:00<00:00, 940.22it/s]"
     ]
    },
    {
     "name": "stdout",
     "output_type": "stream",
     "text": [
      "[2023-03-10 16:45:37] - train 0.022357, valid 0.215947\n",
      "[2023-03-10 16:45:37] - Epoch: 39\n",
      "[2023-03-10 16:45:37] - training...\n"
     ]
    },
    {
     "name": "stderr",
     "output_type": "stream",
     "text": [
      "\n",
      "100%|███████████████████████████████████████████| 10/10 [00:00<00:00, 24.77it/s]"
     ]
    },
    {
     "name": "stdout",
     "output_type": "stream",
     "text": [
      "[2023-03-10 16:45:38] - evaluating...\n"
     ]
    },
    {
     "name": "stderr",
     "output_type": "stream",
     "text": [
      "\n",
      "Valid: 100%|█████████████████████████████████████| 2/2 [00:00<00:00, 612.62it/s]"
     ]
    },
    {
     "name": "stdout",
     "output_type": "stream",
     "text": [
      "[2023-03-10 16:45:38] - train 0.026351, valid 0.194645\n",
      "[2023-03-10 16:45:38] - Epoch: 40\n",
      "[2023-03-10 16:45:38] - training...\n"
     ]
    },
    {
     "name": "stderr",
     "output_type": "stream",
     "text": [
      "\n",
      "100%|███████████████████████████████████████████| 10/10 [00:00<00:00, 25.46it/s]"
     ]
    },
    {
     "name": "stdout",
     "output_type": "stream",
     "text": [
      "[2023-03-10 16:45:38] - evaluating...\n"
     ]
    },
    {
     "name": "stderr",
     "output_type": "stream",
     "text": [
      "\n",
      "Valid: 100%|█████████████████████████████████████| 2/2 [00:00<00:00, 854.67it/s]"
     ]
    },
    {
     "name": "stdout",
     "output_type": "stream",
     "text": [
      "[2023-03-10 16:45:38] - train 0.024252, valid 0.172547\n",
      "[2023-03-10 16:45:38] - Epoch: 41\n",
      "[2023-03-10 16:45:38] - training...\n"
     ]
    },
    {
     "name": "stderr",
     "output_type": "stream",
     "text": [
      "\n",
      "100%|███████████████████████████████████████████| 10/10 [00:00<00:00, 25.07it/s]"
     ]
    },
    {
     "name": "stdout",
     "output_type": "stream",
     "text": [
      "[2023-03-10 16:45:39] - evaluating...\n"
     ]
    },
    {
     "name": "stderr",
     "output_type": "stream",
     "text": [
      "\n",
      "Valid: 100%|█████████████████████████████████████| 2/2 [00:00<00:00, 728.37it/s]"
     ]
    },
    {
     "name": "stdout",
     "output_type": "stream",
     "text": [
      "[2023-03-10 16:45:39] - train 0.022270, valid 0.135377\n",
      "[2023-03-10 16:45:39] - Epoch: 42\n",
      "[2023-03-10 16:45:39] - training...\n"
     ]
    },
    {
     "name": "stderr",
     "output_type": "stream",
     "text": [
      "\n",
      "100%|███████████████████████████████████████████| 10/10 [00:00<00:00, 25.30it/s]"
     ]
    },
    {
     "name": "stdout",
     "output_type": "stream",
     "text": [
      "[2023-03-10 16:45:39] - evaluating...\n"
     ]
    },
    {
     "name": "stderr",
     "output_type": "stream",
     "text": [
      "\n",
      "Valid: 100%|█████████████████████████████████████| 2/2 [00:00<00:00, 613.20it/s]"
     ]
    },
    {
     "name": "stdout",
     "output_type": "stream",
     "text": [
      "[2023-03-10 16:45:39] - train 0.023602, valid 0.261884\n",
      "[2023-03-10 16:45:39] - Epoch: 43\n",
      "[2023-03-10 16:45:39] - training...\n"
     ]
    },
    {
     "name": "stderr",
     "output_type": "stream",
     "text": [
      "\n",
      "100%|███████████████████████████████████████████| 10/10 [00:00<00:00, 25.02it/s]"
     ]
    },
    {
     "name": "stdout",
     "output_type": "stream",
     "text": [
      "[2023-03-10 16:45:40] - evaluating...\n"
     ]
    },
    {
     "name": "stderr",
     "output_type": "stream",
     "text": [
      "\n",
      "Valid: 100%|█████████████████████████████████████| 2/2 [00:00<00:00, 542.07it/s]"
     ]
    },
    {
     "name": "stdout",
     "output_type": "stream",
     "text": [
      "[2023-03-10 16:45:40] - train 0.023605, valid 0.685371\n",
      "[2023-03-10 16:45:40] - Epoch: 44\n",
      "[2023-03-10 16:45:40] - training...\n"
     ]
    },
    {
     "name": "stderr",
     "output_type": "stream",
     "text": [
      "\n",
      "100%|███████████████████████████████████████████| 10/10 [00:00<00:00, 24.83it/s]"
     ]
    },
    {
     "name": "stdout",
     "output_type": "stream",
     "text": [
      "[2023-03-10 16:45:40] - evaluating...\n"
     ]
    },
    {
     "name": "stderr",
     "output_type": "stream",
     "text": [
      "\n",
      "Valid: 100%|█████████████████████████████████████| 2/2 [00:00<00:00, 685.46it/s]"
     ]
    },
    {
     "name": "stdout",
     "output_type": "stream",
     "text": [
      "[2023-03-10 16:45:40] - train 0.022221, valid 0.368108\n",
      "[2023-03-10 16:45:40] - Epoch: 45\n",
      "[2023-03-10 16:45:40] - training...\n"
     ]
    },
    {
     "name": "stderr",
     "output_type": "stream",
     "text": [
      "\n",
      "100%|███████████████████████████████████████████| 10/10 [00:00<00:00, 25.03it/s]"
     ]
    },
    {
     "name": "stdout",
     "output_type": "stream",
     "text": [
      "[2023-03-10 16:45:40] - evaluating...\n"
     ]
    },
    {
     "name": "stderr",
     "output_type": "stream",
     "text": [
      "\n",
      "Valid: 100%|█████████████████████████████████████| 2/2 [00:00<00:00, 467.88it/s]"
     ]
    },
    {
     "name": "stdout",
     "output_type": "stream",
     "text": [
      "[2023-03-10 16:45:40] - train 0.024984, valid 0.560829\n",
      "[2023-03-10 16:45:40] - Epoch: 46\n",
      "[2023-03-10 16:45:40] - training...\n"
     ]
    },
    {
     "name": "stderr",
     "output_type": "stream",
     "text": [
      "\n",
      "100%|███████████████████████████████████████████| 10/10 [00:00<00:00, 24.72it/s]"
     ]
    },
    {
     "name": "stdout",
     "output_type": "stream",
     "text": [
      "[2023-03-10 16:45:41] - evaluating...\n"
     ]
    },
    {
     "name": "stderr",
     "output_type": "stream",
     "text": [
      "\n",
      "Valid: 100%|█████████████████████████████████████| 2/2 [00:00<00:00, 523.57it/s]"
     ]
    },
    {
     "name": "stdout",
     "output_type": "stream",
     "text": [
      "[2023-03-10 16:45:41] - train 0.021886, valid 0.390376\n",
      "[2023-03-10 16:45:41] - Epoch: 47\n",
      "[2023-03-10 16:45:41] - training...\n"
     ]
    },
    {
     "name": "stderr",
     "output_type": "stream",
     "text": [
      "\n",
      "100%|███████████████████████████████████████████| 10/10 [00:00<00:00, 24.95it/s]"
     ]
    },
    {
     "name": "stdout",
     "output_type": "stream",
     "text": [
      "[2023-03-10 16:45:41] - evaluating...\n"
     ]
    },
    {
     "name": "stderr",
     "output_type": "stream",
     "text": [
      "\n",
      "Valid: 100%|█████████████████████████████████████| 2/2 [00:00<00:00, 468.24it/s]"
     ]
    },
    {
     "name": "stdout",
     "output_type": "stream",
     "text": [
      "[2023-03-10 16:45:41] - train 0.024807, valid 0.193345\n",
      "[2023-03-10 16:45:41] - Epoch: 48\n",
      "[2023-03-10 16:45:41] - training...\n"
     ]
    },
    {
     "name": "stderr",
     "output_type": "stream",
     "text": [
      "\n",
      "100%|███████████████████████████████████████████| 10/10 [00:00<00:00, 24.23it/s]"
     ]
    },
    {
     "name": "stdout",
     "output_type": "stream",
     "text": [
      "[2023-03-10 16:45:42] - evaluating...\n"
     ]
    },
    {
     "name": "stderr",
     "output_type": "stream",
     "text": [
      "\n",
      "Valid: 100%|█████████████████████████████████████| 2/2 [00:00<00:00, 630.01it/s]"
     ]
    },
    {
     "name": "stdout",
     "output_type": "stream",
     "text": [
      "[2023-03-10 16:45:42] - train 0.022565, valid 0.026156\n",
      "[2023-03-10 16:45:42] - Epoch: 49\n",
      "[2023-03-10 16:45:42] - training...\n"
     ]
    },
    {
     "name": "stderr",
     "output_type": "stream",
     "text": [
      "\n",
      "100%|███████████████████████████████████████████| 10/10 [00:00<00:00, 24.61it/s]"
     ]
    },
    {
     "name": "stdout",
     "output_type": "stream",
     "text": [
      "[2023-03-10 16:45:42] - evaluating...\n"
     ]
    },
    {
     "name": "stderr",
     "output_type": "stream",
     "text": [
      "\n",
      "Valid: 100%|█████████████████████████████████████| 2/2 [00:00<00:00, 338.87it/s]"
     ]
    },
    {
     "name": "stdout",
     "output_type": "stream",
     "text": [
      "[2023-03-10 16:45:42] - train 0.023057, valid 0.588288\n",
      "[2023-03-10 16:45:42] - Epoch: 50\n",
      "[2023-03-10 16:45:42] - training...\n"
     ]
    },
    {
     "name": "stderr",
     "output_type": "stream",
     "text": [
      "\n",
      "100%|███████████████████████████████████████████| 10/10 [00:00<00:00, 21.46it/s]"
     ]
    },
    {
     "name": "stdout",
     "output_type": "stream",
     "text": [
      "[2023-03-10 16:45:43] - evaluating...\n"
     ]
    },
    {
     "name": "stderr",
     "output_type": "stream",
     "text": [
      "\n",
      "Valid: 100%|█████████████████████████████████████| 2/2 [00:00<00:00, 437.66it/s]"
     ]
    },
    {
     "name": "stdout",
     "output_type": "stream",
     "text": [
      "[2023-03-10 16:45:43] - train 0.024087, valid 0.160380\n",
      "[2023-03-10 16:45:43] - Epoch: 51\n",
      "[2023-03-10 16:45:43] - training...\n"
     ]
    },
    {
     "name": "stderr",
     "output_type": "stream",
     "text": [
      "\n",
      "100%|███████████████████████████████████████████| 10/10 [00:00<00:00, 22.86it/s]"
     ]
    },
    {
     "name": "stdout",
     "output_type": "stream",
     "text": [
      "[2023-03-10 16:45:43] - evaluating...\n"
     ]
    },
    {
     "name": "stderr",
     "output_type": "stream",
     "text": [
      "\n",
      "Valid: 100%|█████████████████████████████████████| 2/2 [00:00<00:00, 400.33it/s]"
     ]
    },
    {
     "name": "stdout",
     "output_type": "stream",
     "text": [
      "[2023-03-10 16:45:43] - train 0.024105, valid 0.592694\n",
      "[2023-03-10 16:45:43] - Epoch: 52\n",
      "[2023-03-10 16:45:43] - training...\n"
     ]
    },
    {
     "name": "stderr",
     "output_type": "stream",
     "text": [
      "\n",
      "100%|███████████████████████████████████████████| 10/10 [00:00<00:00, 24.16it/s]"
     ]
    },
    {
     "name": "stdout",
     "output_type": "stream",
     "text": [
      "[2023-03-10 16:45:43] - evaluating...\n"
     ]
    },
    {
     "name": "stderr",
     "output_type": "stream",
     "text": [
      "\n",
      "Valid: 100%|█████████████████████████████████████| 2/2 [00:00<00:00, 344.69it/s]"
     ]
    },
    {
     "name": "stdout",
     "output_type": "stream",
     "text": [
      "[2023-03-10 16:45:43] - train 0.021184, valid 0.243077\n",
      "[2023-03-10 16:45:43] - Epoch: 53\n",
      "[2023-03-10 16:45:43] - training...\n"
     ]
    },
    {
     "name": "stderr",
     "output_type": "stream",
     "text": [
      "\n",
      "100%|███████████████████████████████████████████| 10/10 [00:00<00:00, 24.62it/s]"
     ]
    },
    {
     "name": "stdout",
     "output_type": "stream",
     "text": [
      "[2023-03-10 16:45:44] - evaluating...\n"
     ]
    },
    {
     "name": "stderr",
     "output_type": "stream",
     "text": [
      "\n",
      "Valid: 100%|█████████████████████████████████████| 2/2 [00:00<00:00, 388.81it/s]"
     ]
    },
    {
     "name": "stdout",
     "output_type": "stream",
     "text": [
      "[2023-03-10 16:45:44] - train 0.022643, valid 0.276574\n",
      "[2023-03-10 16:45:44] - Epoch: 54\n",
      "[2023-03-10 16:45:44] - training...\n"
     ]
    },
    {
     "name": "stderr",
     "output_type": "stream",
     "text": [
      "\n",
      "100%|███████████████████████████████████████████| 10/10 [00:00<00:00, 24.61it/s]"
     ]
    },
    {
     "name": "stdout",
     "output_type": "stream",
     "text": [
      "[2023-03-10 16:45:44] - evaluating...\n"
     ]
    },
    {
     "name": "stderr",
     "output_type": "stream",
     "text": [
      "\n",
      "Valid: 100%|█████████████████████████████████████| 2/2 [00:00<00:00, 424.40it/s]"
     ]
    },
    {
     "name": "stdout",
     "output_type": "stream",
     "text": [
      "[2023-03-10 16:45:44] - train 0.022345, valid 0.919755\n",
      "[2023-03-10 16:45:44] - early stop\n",
      "[2023-03-10 16:45:44] - best val score: 0.00040685906424187124 @ 14\n",
      "[2023-03-10 16:45:44] - Finished.\n"
     ]
    },
    {
     "name": "stderr",
     "output_type": "stream",
     "text": [
      "\n"
     ]
    }
   ],
   "source": [
    "## test loader 제거 작업 시작\n",
    "adarnn.main_transfer(train_loader_list, valid_loader, args)"
   ]
  },
  {
   "cell_type": "code",
   "execution_count": null,
   "id": "8d4b6c04",
   "metadata": {},
   "outputs": [],
   "source": []
  },
  {
   "cell_type": "code",
   "execution_count": null,
   "id": "8f62fbc5",
   "metadata": {},
   "outputs": [],
   "source": []
  },
  {
   "cell_type": "code",
   "execution_count": null,
   "id": "fd3fc801",
   "metadata": {},
   "outputs": [],
   "source": []
  },
  {
   "cell_type": "code",
   "execution_count": null,
   "id": "8d7cf270",
   "metadata": {},
   "outputs": [],
   "source": []
  },
  {
   "cell_type": "code",
   "execution_count": null,
   "id": "5c695472",
   "metadata": {},
   "outputs": [],
   "source": []
  },
  {
   "cell_type": "code",
   "execution_count": null,
   "id": "41a651db",
   "metadata": {},
   "outputs": [],
   "source": []
  },
  {
   "cell_type": "code",
   "execution_count": null,
   "id": "8c6c01da",
   "metadata": {},
   "outputs": [],
   "source": []
  },
  {
   "cell_type": "code",
   "execution_count": null,
   "id": "c5a31e1c",
   "metadata": {},
   "outputs": [],
   "source": []
  },
  {
   "cell_type": "code",
   "execution_count": null,
   "id": "8c8fe40a",
   "metadata": {},
   "outputs": [],
   "source": []
  }
 ],
 "metadata": {
  "kernelspec": {
   "display_name": "Python 3 (ipykernel)",
   "language": "python",
   "name": "python3"
  },
  "language_info": {
   "codemirror_mode": {
    "name": "ipython",
    "version": 3
   },
   "file_extension": ".py",
   "mimetype": "text/x-python",
   "name": "python",
   "nbconvert_exporter": "python",
   "pygments_lexer": "ipython3",
   "version": "3.8.13"
  }
 },
 "nbformat": 4,
 "nbformat_minor": 5
}
