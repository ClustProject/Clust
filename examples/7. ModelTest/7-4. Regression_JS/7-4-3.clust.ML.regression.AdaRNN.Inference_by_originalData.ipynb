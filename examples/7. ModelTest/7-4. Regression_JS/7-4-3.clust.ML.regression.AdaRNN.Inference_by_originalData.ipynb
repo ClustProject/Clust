{
 "cells": [
  {
   "cell_type": "code",
   "execution_count": 1,
   "id": "ece5149a",
   "metadata": {},
   "outputs": [],
   "source": [
    "import os\n",
    "import sys\n",
    "sys.path.append(\"../\")\n",
    "sys.path.append(\"../../\")\n",
    "sys.path.append(\"../../../\")\n",
    "sys.path.append(\"../../../../\")\n",
    "\n",
    "import pandas as pd\n",
    "import numpy as np\n",
    "import datetime\n",
    "import torch\n",
    "import math\n",
    "\n",
    "from Clust.clust.ML.regression_JS import ada_rnn\n",
    "from Clust.clust.preprocessing.imputation.basicMethod import BasicImputation\n",
    "from Clust.clust.transformation.purpose.machineLearning import LSTMData"
   ]
  },
  {
   "cell_type": "markdown",
   "id": "35ce251c",
   "metadata": {},
   "source": [
    "# Set Param"
   ]
  },
  {
   "cell_type": "code",
   "execution_count": 2,
   "id": "541f6a1f",
   "metadata": {},
   "outputs": [],
   "source": [
    "param = {\n",
    "    \"x_features\" : 6, \n",
    "    \"class_num\" : 1, \n",
    "    \"dropout\" : 0.0, \n",
    "    \"len_seq\" : 24, \n",
    "    \"loss_type\" : \"adv\",\n",
    "    \"hidden_size\" : 64,\n",
    "    \"num_layers\" : 2\n",
    "}\n",
    "\n",
    "shuffle = True\n",
    "model_file_path = \"./ada_rnn_model/test_adarnn_model_by_origin_data1\""
   ]
  },
  {
   "cell_type": "code",
   "execution_count": null,
   "id": "928c0109",
   "metadata": {},
   "outputs": [],
   "source": []
  },
  {
   "cell_type": "markdown",
   "id": "ab8e4ff8",
   "metadata": {},
   "source": [
    "# get Data"
   ]
  },
  {
   "cell_type": "code",
   "execution_count": 3,
   "id": "e2cc2646",
   "metadata": {},
   "outputs": [],
   "source": [
    "# read original data\n",
    "data_pickle = pd.read_pickle(\"original_data.pkl\")\n",
    "original_data = data_pickle[\"Dongsi\"]"
   ]
  },
  {
   "cell_type": "code",
   "execution_count": 4,
   "id": "a46420b7",
   "metadata": {},
   "outputs": [
    {
     "data": {
      "text/plain": [
       "(3, (1460, 24, 6), (1460,))"
      ]
     },
     "execution_count": 4,
     "metadata": {},
     "output_type": "execute_result"
    }
   ],
   "source": [
    "len(original_data), original_data[0].shape, original_data[2].shape"
   ]
  },
  {
   "cell_type": "code",
   "execution_count": 5,
   "id": "011d3f0e",
   "metadata": {},
   "outputs": [],
   "source": [
    "# original data 에서 data_x, data_y 나누기\n",
    "data_x = original_data[0]"
   ]
  },
  {
   "cell_type": "code",
   "execution_count": 6,
   "id": "3a21820a",
   "metadata": {},
   "outputs": [
    {
     "data": {
      "text/plain": [
       "(24, 6)"
      ]
     },
     "execution_count": 6,
     "metadata": {},
     "output_type": "execute_result"
    }
   ],
   "source": [
    "inference_x = data_x[-1]\n",
    "inference_x.shape"
   ]
  },
  {
   "cell_type": "code",
   "execution_count": 7,
   "id": "fb4ce72e",
   "metadata": {},
   "outputs": [],
   "source": [
    "inference_x = inference_x.reshape(1,24,6)"
   ]
  },
  {
   "cell_type": "code",
   "execution_count": 8,
   "id": "92d82db5",
   "metadata": {},
   "outputs": [
    {
     "data": {
      "text/plain": [
       "(1, 24, 6)"
      ]
     },
     "execution_count": 8,
     "metadata": {},
     "output_type": "execute_result"
    }
   ],
   "source": [
    "inference_x.shape"
   ]
  },
  {
   "cell_type": "markdown",
   "id": "af8ea6d3",
   "metadata": {},
   "source": [
    "# Data Loader"
   ]
  },
  {
   "cell_type": "code",
   "execution_count": 9,
   "id": "aed51f42",
   "metadata": {},
   "outputs": [
    {
     "name": "stdout",
     "output_type": "stream",
     "text": [
      "{'x_features': 6, 'class_num': 1, 'dropout': 0.0, 'len_seq': 24, 'loss_type': 'adv', 'hidden_size': 64, 'num_layers': 2}\n"
     ]
    }
   ],
   "source": [
    "adarnn = ada_rnn.ClustAdaRnn(param)"
   ]
  },
  {
   "cell_type": "code",
   "execution_count": 10,
   "id": "8208ccce",
   "metadata": {},
   "outputs": [],
   "source": [
    "inference_loader = adarnn.create_inferenceloader(inference_x, shuffle)"
   ]
  },
  {
   "cell_type": "markdown",
   "id": "61198958",
   "metadata": {},
   "source": [
    "# Inference"
   ]
  },
  {
   "cell_type": "code",
   "execution_count": 11,
   "id": "112ea94f",
   "metadata": {},
   "outputs": [],
   "source": [
    "## model load\n",
    "adarnn.load_model(model_file_path)"
   ]
  },
  {
   "cell_type": "code",
   "execution_count": 12,
   "id": "c2db14dd",
   "metadata": {
    "scrolled": false
   },
   "outputs": [
    {
     "name": "stdout",
     "output_type": "stream",
     "text": [
      "[2023-03-17 09:37:08] - inference...\n",
      "i :  tensor([[[0.0668, 0.0808, 0.0524, 0.2344, 0.0808, 0.0181],\n",
      "         [0.0640, 0.0829, 0.0458, 0.2773, 0.0000, 0.0059],\n",
      "         [0.0777, 0.1259, 0.0591, 0.3711, 0.1515, 0.0013],\n",
      "         [0.0995, 0.1417, 0.0825, 0.3789, 0.1818, 0.0013],\n",
      "         [0.1172, 0.1710, 0.0925, 0.3711, 0.2424, 0.0013],\n",
      "         [0.1608, 0.2004, 0.0925, 0.3945, 0.0202, 0.0013],\n",
      "         [0.1580, 0.1815, 0.0791, 0.3711, 0.3333, 0.0013],\n",
      "         [0.1349, 0.1396, 0.0758, 0.3438, 0.2727, 0.0013],\n",
      "         [0.1131, 0.1448, 0.0925, 0.3242, 0.2424, 0.0013],\n",
      "         [0.1104, 0.1417, 0.1058, 0.3281, 0.2222, 0.0013],\n",
      "         [0.1240, 0.1700, 0.1092, 0.3398, 0.2121, 0.0041],\n",
      "         [0.1444, 0.1563, 0.1225, 0.3438, 0.2323, 0.0115],\n",
      "         [0.1335, 0.1375, 0.1158, 0.3320, 0.2121, 0.0228],\n",
      "         [0.1403, 0.1595, 0.1125, 0.3477, 0.2020, 0.0293],\n",
      "         [0.1403, 0.1595, 0.1125, 0.3477, 0.2020, 0.0293],\n",
      "         [0.1403, 0.1595, 0.1125, 0.3477, 0.2020, 0.0293],\n",
      "         [0.1403, 0.1595, 0.1125, 0.3477, 0.2020, 0.0293],\n",
      "         [0.1403, 0.1595, 0.1125, 0.3477, 0.2020, 0.0293],\n",
      "         [0.0599, 0.0892, 0.0224, 0.1484, 0.0606, 0.0685],\n",
      "         [0.0613, 0.0944, 0.0257, 0.2227, 0.0000, 0.0461],\n",
      "         [0.0749, 0.1112, 0.0257, 0.3320, 0.1313, 0.0181],\n",
      "         [0.0722, 0.1133, 0.0357, 0.3750, 0.1111, 0.0059],\n",
      "         [0.0749, 0.1312, 0.0424, 0.3906, 0.1212, 0.0022],\n",
      "         [0.0845, 0.1396, 0.0591, 0.4258, 0.1414, 0.0013]]], device='cuda:0')\n",
      "p :  tensor(0.0940, device='cuda:0')\n",
      "[2023-03-17 09:37:08] - Finished.\n"
     ]
    }
   ],
   "source": [
    "## inference loader\n",
    "pred_list = adarnn.inference(inference_loader)"
   ]
  },
  {
   "cell_type": "code",
   "execution_count": 13,
   "id": "306feabc",
   "metadata": {},
   "outputs": [
    {
     "data": {
      "text/plain": [
       "array(0.09399469, dtype=float32)"
      ]
     },
     "execution_count": 13,
     "metadata": {},
     "output_type": "execute_result"
    }
   ],
   "source": [
    "pred_list"
   ]
  },
  {
   "cell_type": "code",
   "execution_count": null,
   "id": "8d7cf270",
   "metadata": {},
   "outputs": [],
   "source": []
  },
  {
   "cell_type": "code",
   "execution_count": 14,
   "id": "41a651db",
   "metadata": {},
   "outputs": [
    {
     "data": {
      "text/plain": [
       "0.09536784741144415"
      ]
     },
     "execution_count": 14,
     "metadata": {},
     "output_type": "execute_result"
    }
   ],
   "source": [
    "# 정답\n",
    "data_y = original_data[2]\n",
    "data_y[-1]"
   ]
  },
  {
   "cell_type": "code",
   "execution_count": null,
   "id": "7ac916b9",
   "metadata": {},
   "outputs": [],
   "source": []
  },
  {
   "cell_type": "code",
   "execution_count": null,
   "id": "c5a31e1c",
   "metadata": {},
   "outputs": [],
   "source": []
  },
  {
   "cell_type": "code",
   "execution_count": null,
   "id": "8c8fe40a",
   "metadata": {},
   "outputs": [],
   "source": []
  }
 ],
 "metadata": {
  "kernelspec": {
   "display_name": "Python 3 (ipykernel)",
   "language": "python",
   "name": "python3"
  },
  "language_info": {
   "codemirror_mode": {
    "name": "ipython",
    "version": 3
   },
   "file_extension": ".py",
   "mimetype": "text/x-python",
   "name": "python",
   "nbconvert_exporter": "python",
   "pygments_lexer": "ipython3",
   "version": "3.8.16"
  }
 },
 "nbformat": 4,
 "nbformat_minor": 5
}
