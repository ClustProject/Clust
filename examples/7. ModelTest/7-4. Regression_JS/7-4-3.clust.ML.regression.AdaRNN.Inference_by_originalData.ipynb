{
 "cells": [
  {
   "cell_type": "code",
   "execution_count": 1,
   "id": "ece5149a",
   "metadata": {},
   "outputs": [],
   "source": [
    "import os\n",
    "import sys\n",
    "sys.path.append(\"../\")\n",
    "sys.path.append(\"../../\")\n",
    "sys.path.append(\"../../../\")\n",
    "sys.path.append(\"../../../../\")\n",
    "\n",
    "import pandas as pd\n",
    "import numpy as np\n",
    "import datetime\n",
    "import torch\n",
    "import math\n",
    "\n",
    "from Clust.clust.ML.regression_JS import ada_rnn\n",
    "from Clust.clust.preprocessing.imputation.basicMethod import BasicImputation\n",
    "from Clust.clust.ML.common.common import p3_training as p3\n",
    "from Clust.clust.transformation.purpose.machineLearning import LSTMData"
   ]
  },
  {
   "cell_type": "markdown",
   "id": "35ce251c",
   "metadata": {},
   "source": [
    "# Set Param"
   ]
  },
  {
   "cell_type": "code",
   "execution_count": 2,
   "id": "541f6a1f",
   "metadata": {},
   "outputs": [],
   "source": [
    "param = {\n",
    "    \"d_feat\" : 6, \n",
    "    \"class_num\" : 1, \n",
    "    \"dropout\" : 0.0, \n",
    "    \"len_seq\" : 24, \n",
    "    \"loss_type\" : \"adv\",\n",
    "    \"hidden_size\" : 64,\n",
    "    \"num_layers\" : 2\n",
    "}\n",
    "\n",
    "shuffle = True\n",
    "model_file_path = \"./ada_rnn_model/test_adarnn_model_by_origin_data\""
   ]
  },
  {
   "cell_type": "code",
   "execution_count": null,
   "id": "928c0109",
   "metadata": {},
   "outputs": [],
   "source": []
  },
  {
   "cell_type": "markdown",
   "id": "ab8e4ff8",
   "metadata": {},
   "source": [
    "# get Data"
   ]
  },
  {
   "cell_type": "code",
   "execution_count": 3,
   "id": "e2cc2646",
   "metadata": {},
   "outputs": [],
   "source": [
    "# read original data\n",
    "data_pickle = pd.read_pickle(\"original_data.pkl\")\n",
    "original_data = data_pickle[\"Dongsi\"]"
   ]
  },
  {
   "cell_type": "code",
   "execution_count": 4,
   "id": "a46420b7",
   "metadata": {},
   "outputs": [
    {
     "data": {
      "text/plain": [
       "(3, (1460, 24, 6), (1460,))"
      ]
     },
     "execution_count": 4,
     "metadata": {},
     "output_type": "execute_result"
    }
   ],
   "source": [
    "len(original_data), original_data[0].shape, original_data[2].shape"
   ]
  },
  {
   "cell_type": "code",
   "execution_count": 5,
   "id": "011d3f0e",
   "metadata": {},
   "outputs": [],
   "source": [
    "# original data 에서 data_x, data_y 나누기\n",
    "data_x = original_data[0]"
   ]
  },
  {
   "cell_type": "code",
   "execution_count": 6,
   "id": "3a21820a",
   "metadata": {},
   "outputs": [
    {
     "data": {
      "text/plain": [
       "(24, 6)"
      ]
     },
     "execution_count": 6,
     "metadata": {},
     "output_type": "execute_result"
    }
   ],
   "source": [
    "inference_x = data_x[-1]\n",
    "inference_x.shape"
   ]
  },
  {
   "cell_type": "code",
   "execution_count": 7,
   "id": "fb4ce72e",
   "metadata": {},
   "outputs": [],
   "source": [
    "inference_x = inference_x.reshape(1,24,6)"
   ]
  },
  {
   "cell_type": "code",
   "execution_count": 8,
   "id": "92d82db5",
   "metadata": {},
   "outputs": [
    {
     "data": {
      "text/plain": [
       "(1, 24, 6)"
      ]
     },
     "execution_count": 8,
     "metadata": {},
     "output_type": "execute_result"
    }
   ],
   "source": [
    "inference_x.shape"
   ]
  },
  {
   "cell_type": "markdown",
   "id": "af8ea6d3",
   "metadata": {},
   "source": [
    "# Data Loader"
   ]
  },
  {
   "cell_type": "code",
   "execution_count": 9,
   "id": "aed51f42",
   "metadata": {},
   "outputs": [
    {
     "name": "stdout",
     "output_type": "stream",
     "text": [
      "{'d_feat': 6, 'class_num': 1, 'dropout': 0.0, 'len_seq': 24, 'loss_type': 'adv', 'hidden_size': 64, 'num_layers': 2}\n"
     ]
    }
   ],
   "source": [
    "adarnn = ada_rnn.ClustAdaRnn(param)"
   ]
  },
  {
   "cell_type": "code",
   "execution_count": 10,
   "id": "8208ccce",
   "metadata": {},
   "outputs": [],
   "source": [
    "inference_loader = adarnn.create_inferenceloader(inference_x, shuffle)"
   ]
  },
  {
   "cell_type": "markdown",
   "id": "61198958",
   "metadata": {},
   "source": [
    "# Inference"
   ]
  },
  {
   "cell_type": "code",
   "execution_count": 11,
   "id": "112ea94f",
   "metadata": {},
   "outputs": [],
   "source": [
    "## model load\n",
    "adarnn.load_model(model_file_path)"
   ]
  },
  {
   "cell_type": "code",
   "execution_count": 12,
   "id": "2991efec",
   "metadata": {},
   "outputs": [
    {
     "data": {
      "text/plain": [
       "<torch.utils.data.dataloader.DataLoader at 0x7f2b800a1bb0>"
      ]
     },
     "execution_count": 12,
     "metadata": {},
     "output_type": "execute_result"
    }
   ],
   "source": [
    "inference_loader"
   ]
  },
  {
   "cell_type": "code",
   "execution_count": 13,
   "id": "d4533741",
   "metadata": {},
   "outputs": [
    {
     "data": {
      "text/plain": [
       "torch.Size([1, 24, 6])"
      ]
     },
     "execution_count": 13,
     "metadata": {},
     "output_type": "execute_result"
    }
   ],
   "source": [
    "list(inference_loader)[0].shape # 이를 [1, 24, 6] 3차로 만들어야 할 듯"
   ]
  },
  {
   "cell_type": "code",
   "execution_count": null,
   "id": "a2e62b76",
   "metadata": {},
   "outputs": [],
   "source": []
  },
  {
   "cell_type": "code",
   "execution_count": 14,
   "id": "c2db14dd",
   "metadata": {
    "scrolled": false
   },
   "outputs": [
    {
     "name": "stdout",
     "output_type": "stream",
     "text": [
      "[2023-03-16 09:44:58] - inference...\n",
      "[2023-03-16 09:44:58] - Finished.\n"
     ]
    }
   ],
   "source": [
    "## inference loader\n",
    "pred_list = adarnn.inference(inference_loader)"
   ]
  },
  {
   "cell_type": "code",
   "execution_count": 15,
   "id": "306feabc",
   "metadata": {},
   "outputs": [
    {
     "data": {
      "text/plain": [
       "array(0.10760745, dtype=float32)"
      ]
     },
     "execution_count": 15,
     "metadata": {},
     "output_type": "execute_result"
    }
   ],
   "source": [
    "pred_list"
   ]
  },
  {
   "cell_type": "code",
   "execution_count": null,
   "id": "8d7cf270",
   "metadata": {},
   "outputs": [],
   "source": []
  },
  {
   "cell_type": "code",
   "execution_count": 18,
   "id": "41a651db",
   "metadata": {},
   "outputs": [
    {
     "data": {
      "text/plain": [
       "0.09536784741144415"
      ]
     },
     "execution_count": 18,
     "metadata": {},
     "output_type": "execute_result"
    }
   ],
   "source": [
    "# 정답\n",
    "data_y = original_data[2]\n",
    "data_y[-1]"
   ]
  },
  {
   "cell_type": "code",
   "execution_count": null,
   "id": "7ac916b9",
   "metadata": {},
   "outputs": [],
   "source": []
  },
  {
   "cell_type": "code",
   "execution_count": null,
   "id": "f0072fc8",
   "metadata": {},
   "outputs": [],
   "source": []
  },
  {
   "cell_type": "code",
   "execution_count": null,
   "id": "c5a31e1c",
   "metadata": {},
   "outputs": [],
   "source": []
  },
  {
   "cell_type": "code",
   "execution_count": null,
   "id": "8c8fe40a",
   "metadata": {},
   "outputs": [],
   "source": []
  }
 ],
 "metadata": {
  "kernelspec": {
   "display_name": "Python 3 (ipykernel)",
   "language": "python",
   "name": "python3"
  },
  "language_info": {
   "codemirror_mode": {
    "name": "ipython",
    "version": 3
   },
   "file_extension": ".py",
   "mimetype": "text/x-python",
   "name": "python",
   "nbconvert_exporter": "python",
   "pygments_lexer": "ipython3",
   "version": "3.8.16"
  }
 },
 "nbformat": 4,
 "nbformat_minor": 5
}
