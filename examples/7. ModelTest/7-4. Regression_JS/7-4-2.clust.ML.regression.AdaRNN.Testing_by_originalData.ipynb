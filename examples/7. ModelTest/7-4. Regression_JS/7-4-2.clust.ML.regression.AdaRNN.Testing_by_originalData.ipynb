{
 "cells": [
  {
   "cell_type": "code",
   "execution_count": 1,
   "id": "ece5149a",
   "metadata": {},
   "outputs": [],
   "source": [
    "import os\n",
    "import sys\n",
    "sys.path.append(\"../\")\n",
    "sys.path.append(\"../../\")\n",
    "sys.path.append(\"../../../\")\n",
    "sys.path.append(\"../../../../\")\n",
    "\n",
    "import pandas as pd\n",
    "import numpy as np\n",
    "import datetime\n",
    "import torch\n",
    "import math\n",
    "\n",
    "from Clust.clust.ML.regression_JS import ada_rnn\n",
    "from Clust.clust.preprocessing.imputation.basicMethod import BasicImputation\n",
    "from Clust.clust.ML.common.common import p3_training as p3\n",
    "from Clust.clust.transformation.purpose.machineLearning import LSTMData"
   ]
  },
  {
   "cell_type": "markdown",
   "id": "35ce251c",
   "metadata": {},
   "source": [
    "# Set Param"
   ]
  },
  {
   "cell_type": "code",
   "execution_count": 2,
   "id": "541f6a1f",
   "metadata": {},
   "outputs": [],
   "source": [
    "param = {\n",
    "    \"d_feat\" : 6, \n",
    "    \"class_num\" : 1, \n",
    "    \"dropout\" : 0.0, \n",
    "    \"len_seq\" : 24, \n",
    "    \"loss_type\" : \"adv\",\n",
    "    \"hidden_size\" : 64,\n",
    "    \"num_layers\" : 2\n",
    "}\n",
    "\n",
    "shuffle = False\n",
    "model_file_path = \"./ada_rnn_model/test_adarnn_model_by_origin_data\""
   ]
  },
  {
   "cell_type": "code",
   "execution_count": null,
   "id": "928c0109",
   "metadata": {},
   "outputs": [],
   "source": []
  },
  {
   "cell_type": "markdown",
   "id": "ab8e4ff8",
   "metadata": {},
   "source": [
    "# get Data"
   ]
  },
  {
   "cell_type": "code",
   "execution_count": 3,
   "id": "e2cc2646",
   "metadata": {},
   "outputs": [],
   "source": [
    "# read original data\n",
    "data_pickle = pd.read_pickle(\"original_data.pkl\")\n",
    "original_data = data_pickle[\"Dongsi\"]"
   ]
  },
  {
   "cell_type": "code",
   "execution_count": 4,
   "id": "a46420b7",
   "metadata": {},
   "outputs": [
    {
     "data": {
      "text/plain": [
       "(3, (1460, 24, 6), (1460,))"
      ]
     },
     "execution_count": 4,
     "metadata": {},
     "output_type": "execute_result"
    }
   ],
   "source": [
    "len(original_data), original_data[0].shape, original_data[2].shape"
   ]
  },
  {
   "cell_type": "code",
   "execution_count": 5,
   "id": "011d3f0e",
   "metadata": {},
   "outputs": [],
   "source": [
    "# original data 에서 data_x, data_y 나누기\n",
    "data_x = original_data[0]\n",
    "data_y = original_data[2]"
   ]
  },
  {
   "cell_type": "code",
   "execution_count": 6,
   "id": "e9969a10",
   "metadata": {},
   "outputs": [],
   "source": [
    "# set time\n",
    "original_data_start_time = datetime.datetime(2013, 3, 1, 0, 0)\n",
    "\n",
    "## test data time\n",
    "test_start_time = '2016-11-2 00:00:00'\n",
    "test_end_time = '2017-2-28 23:00:00'"
   ]
  },
  {
   "cell_type": "code",
   "execution_count": 7,
   "id": "eb497e07",
   "metadata": {},
   "outputs": [],
   "source": [
    "# split train & validation data -> get train_x, train_y, valid_x, valid_y\n",
    "index_start=(pd.to_datetime(test_start_time) - original_data_start_time).days\n",
    "index_end=(pd.to_datetime(test_end_time) - original_data_start_time).days\n",
    "\n",
    "test_x=data_x[index_start: index_end + 1]\n",
    "test_y=data_y[index_start: index_end + 1]"
   ]
  },
  {
   "cell_type": "code",
   "execution_count": 8,
   "id": "efe6a3b6",
   "metadata": {},
   "outputs": [
    {
     "data": {
      "text/plain": [
       "((118, 24, 6), (118,))"
      ]
     },
     "execution_count": 8,
     "metadata": {},
     "output_type": "execute_result"
    }
   ],
   "source": [
    "test_x.shape, test_y.shape"
   ]
  },
  {
   "cell_type": "markdown",
   "id": "af8ea6d3",
   "metadata": {},
   "source": [
    "# Data Loader"
   ]
  },
  {
   "cell_type": "code",
   "execution_count": 9,
   "id": "aed51f42",
   "metadata": {},
   "outputs": [
    {
     "name": "stdout",
     "output_type": "stream",
     "text": [
      "{'d_feat': 6, 'class_num': 1, 'dropout': 0.0, 'len_seq': 24, 'loss_type': 'adv', 'hidden_size': 64, 'num_layers': 2}\n"
     ]
    }
   ],
   "source": [
    "adarnn = ada_rnn.ClustAdaRnn(param)"
   ]
  },
  {
   "cell_type": "code",
   "execution_count": 10,
   "id": "8208ccce",
   "metadata": {},
   "outputs": [],
   "source": [
    "test_loader = adarnn.create_testloader(test_x, test_y, shuffle)"
   ]
  },
  {
   "cell_type": "code",
   "execution_count": 11,
   "id": "a18a0a96",
   "metadata": {
    "scrolled": true
   },
   "outputs": [
    {
     "data": {
      "text/plain": [
       "torch.Size([64, 24, 6])"
      ]
     },
     "execution_count": 11,
     "metadata": {},
     "output_type": "execute_result"
    }
   ],
   "source": [
    "list(test_loader)[0][0].shape"
   ]
  },
  {
   "cell_type": "code",
   "execution_count": 12,
   "id": "8ea95d46",
   "metadata": {},
   "outputs": [
    {
     "data": {
      "text/plain": [
       "torch.Size([64])"
      ]
     },
     "execution_count": 12,
     "metadata": {},
     "output_type": "execute_result"
    }
   ],
   "source": [
    "list(test_loader)[0][1].shape"
   ]
  },
  {
   "cell_type": "code",
   "execution_count": null,
   "id": "7b467b8f",
   "metadata": {},
   "outputs": [],
   "source": []
  },
  {
   "cell_type": "code",
   "execution_count": 13,
   "id": "700e50e7",
   "metadata": {},
   "outputs": [
    {
     "data": {
      "text/plain": [
       "2"
      ]
     },
     "execution_count": 13,
     "metadata": {},
     "output_type": "execute_result"
    }
   ],
   "source": [
    "len(test_loader)"
   ]
  },
  {
   "cell_type": "markdown",
   "id": "61198958",
   "metadata": {},
   "source": [
    "# Testing"
   ]
  },
  {
   "cell_type": "code",
   "execution_count": 14,
   "id": "f39b7a49",
   "metadata": {},
   "outputs": [],
   "source": [
    "## model load\n",
    "adarnn.load_model(model_file_path)"
   ]
  },
  {
   "cell_type": "code",
   "execution_count": 15,
   "id": "c2db14dd",
   "metadata": {
    "scrolled": true
   },
   "outputs": [
    {
     "name": "stderr",
     "output_type": "stream",
     "text": [
      "Test: 100%|███████████████████████████████████████| 2/2 [00:00<00:00, 10.51it/s]"
     ]
    },
    {
     "name": "stdout",
     "output_type": "stream",
     "text": [
      "[2023-03-16 09:44:25] - Finished.\n"
     ]
    },
    {
     "name": "stderr",
     "output_type": "stream",
     "text": [
      "\n"
     ]
    }
   ],
   "source": [
    "## test loader 제거 작업 시작\n",
    "test_loss, test_loss_l1, test_loss_r = adarnn.test(test_loader)"
   ]
  },
  {
   "cell_type": "code",
   "execution_count": 16,
   "id": "8d4b6c04",
   "metadata": {},
   "outputs": [
    {
     "data": {
      "text/plain": [
       "0.003794912830926478"
      ]
     },
     "execution_count": 16,
     "metadata": {},
     "output_type": "execute_result"
    }
   ],
   "source": [
    "test_loss"
   ]
  },
  {
   "cell_type": "code",
   "execution_count": 17,
   "id": "8f62fbc5",
   "metadata": {},
   "outputs": [
    {
     "data": {
      "text/plain": [
       "0.04521500878036022"
      ]
     },
     "execution_count": 17,
     "metadata": {},
     "output_type": "execute_result"
    }
   ],
   "source": [
    "test_loss_l1"
   ]
  },
  {
   "cell_type": "code",
   "execution_count": 18,
   "id": "fd3fc801",
   "metadata": {},
   "outputs": [
    {
     "data": {
      "text/plain": [
       "tensor(0.0222, device='cuda:0')"
      ]
     },
     "execution_count": 18,
     "metadata": {},
     "output_type": "execute_result"
    }
   ],
   "source": [
    "test_loss_r"
   ]
  },
  {
   "cell_type": "code",
   "execution_count": null,
   "id": "8d7cf270",
   "metadata": {},
   "outputs": [],
   "source": []
  },
  {
   "cell_type": "code",
   "execution_count": null,
   "id": "5c695472",
   "metadata": {},
   "outputs": [],
   "source": []
  },
  {
   "cell_type": "code",
   "execution_count": null,
   "id": "41a651db",
   "metadata": {},
   "outputs": [],
   "source": []
  },
  {
   "cell_type": "code",
   "execution_count": null,
   "id": "8c6c01da",
   "metadata": {},
   "outputs": [],
   "source": []
  },
  {
   "cell_type": "code",
   "execution_count": null,
   "id": "c5a31e1c",
   "metadata": {},
   "outputs": [],
   "source": []
  },
  {
   "cell_type": "code",
   "execution_count": null,
   "id": "8c8fe40a",
   "metadata": {},
   "outputs": [],
   "source": []
  }
 ],
 "metadata": {
  "kernelspec": {
   "display_name": "Python 3 (ipykernel)",
   "language": "python",
   "name": "python3"
  },
  "language_info": {
   "codemirror_mode": {
    "name": "ipython",
    "version": 3
   },
   "file_extension": ".py",
   "mimetype": "text/x-python",
   "name": "python",
   "nbconvert_exporter": "python",
   "pygments_lexer": "ipython3",
   "version": "3.8.16"
  }
 },
 "nbformat": 4,
 "nbformat_minor": 5
}
