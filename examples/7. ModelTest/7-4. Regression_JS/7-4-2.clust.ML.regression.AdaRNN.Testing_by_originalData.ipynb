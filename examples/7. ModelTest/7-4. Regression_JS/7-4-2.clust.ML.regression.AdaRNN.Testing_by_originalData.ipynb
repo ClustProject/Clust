{
 "cells": [
  {
   "cell_type": "code",
   "execution_count": 1,
   "id": "ece5149a",
   "metadata": {},
   "outputs": [],
   "source": [
    "import os\n",
    "import sys\n",
    "sys.path.append(\"../\")\n",
    "sys.path.append(\"../../\")\n",
    "sys.path.append(\"../../../\")\n",
    "sys.path.append(\"../../../../\")\n",
    "\n",
    "import pandas as pd\n",
    "import numpy as np\n",
    "import datetime\n",
    "import torch\n",
    "import math\n",
    "\n",
    "from Clust.clust.ML.regression_JS import ada_rnn\n",
    "from Clust.clust.preprocessing.imputation.basicMethod import BasicImputation\n",
    "from Clust.clust.transformation.purpose.machineLearning import LSTMData"
   ]
  },
  {
   "cell_type": "markdown",
   "id": "35ce251c",
   "metadata": {},
   "source": [
    "# Set Param"
   ]
  },
  {
   "cell_type": "code",
   "execution_count": 2,
   "id": "541f6a1f",
   "metadata": {},
   "outputs": [],
   "source": [
    "param = {\n",
    "    \"x_features\" : 6, \n",
    "    \"class_num\" : 1, \n",
    "    \"dropout\" : 0.0, \n",
    "    \"len_seq\" : 24, \n",
    "    \"loss_type\" : \"adv\",\n",
    "    \"hidden_size\" : 64,\n",
    "    \"num_layers\" : 2\n",
    "}\n",
    "\n",
    "shuffle = False\n",
    "model_file_path = \"./ada_rnn_model/test_adarnn_model_by_origin_data1\""
   ]
  },
  {
   "cell_type": "code",
   "execution_count": null,
   "id": "928c0109",
   "metadata": {},
   "outputs": [],
   "source": []
  },
  {
   "cell_type": "markdown",
   "id": "ab8e4ff8",
   "metadata": {},
   "source": [
    "# get Data"
   ]
  },
  {
   "cell_type": "code",
   "execution_count": 3,
   "id": "e2cc2646",
   "metadata": {},
   "outputs": [],
   "source": [
    "# read original data\n",
    "data_pickle = pd.read_pickle(\"original_data.pkl\")\n",
    "original_data = data_pickle[\"Dongsi\"]"
   ]
  },
  {
   "cell_type": "code",
   "execution_count": 4,
   "id": "a46420b7",
   "metadata": {},
   "outputs": [
    {
     "data": {
      "text/plain": [
       "(3, (1460, 24, 6), (1460,))"
      ]
     },
     "execution_count": 4,
     "metadata": {},
     "output_type": "execute_result"
    }
   ],
   "source": [
    "len(original_data), original_data[0].shape, original_data[2].shape"
   ]
  },
  {
   "cell_type": "code",
   "execution_count": 5,
   "id": "011d3f0e",
   "metadata": {},
   "outputs": [],
   "source": [
    "# original data 에서 data_x, data_y 나누기\n",
    "data_x = original_data[0]\n",
    "data_y = original_data[2]"
   ]
  },
  {
   "cell_type": "code",
   "execution_count": 6,
   "id": "e9969a10",
   "metadata": {},
   "outputs": [],
   "source": [
    "# set time\n",
    "original_data_start_time = datetime.datetime(2013, 3, 1, 0, 0)\n",
    "\n",
    "## test data time\n",
    "test_start_time = '2016-11-2 00:00:00'\n",
    "test_end_time = '2017-2-28 23:00:00'"
   ]
  },
  {
   "cell_type": "code",
   "execution_count": 7,
   "id": "eb497e07",
   "metadata": {},
   "outputs": [],
   "source": [
    "# split train & validation data -> get train_x, train_y, valid_x, valid_y\n",
    "index_start=(pd.to_datetime(test_start_time) - original_data_start_time).days\n",
    "index_end=(pd.to_datetime(test_end_time) - original_data_start_time).days\n",
    "\n",
    "test_x=data_x[index_start: index_end + 1]\n",
    "test_y=data_y[index_start: index_end + 1]"
   ]
  },
  {
   "cell_type": "code",
   "execution_count": 8,
   "id": "efe6a3b6",
   "metadata": {},
   "outputs": [
    {
     "data": {
      "text/plain": [
       "((118, 24, 6), (118,))"
      ]
     },
     "execution_count": 8,
     "metadata": {},
     "output_type": "execute_result"
    }
   ],
   "source": [
    "test_x.shape, test_y.shape"
   ]
  },
  {
   "cell_type": "markdown",
   "id": "af8ea6d3",
   "metadata": {},
   "source": [
    "# Data Loader"
   ]
  },
  {
   "cell_type": "code",
   "execution_count": 9,
   "id": "aed51f42",
   "metadata": {},
   "outputs": [
    {
     "name": "stdout",
     "output_type": "stream",
     "text": [
      "{'x_features': 6, 'class_num': 1, 'dropout': 0.0, 'len_seq': 24, 'loss_type': 'adv', 'hidden_size': 64, 'num_layers': 2}\n"
     ]
    }
   ],
   "source": [
    "adarnn = ada_rnn.ClustAdaRnn(param)"
   ]
  },
  {
   "cell_type": "code",
   "execution_count": 10,
   "id": "8208ccce",
   "metadata": {},
   "outputs": [],
   "source": [
    "test_loader = adarnn.create_testloader(test_x, test_y, shuffle)"
   ]
  },
  {
   "cell_type": "markdown",
   "id": "61198958",
   "metadata": {},
   "source": [
    "# Testing"
   ]
  },
  {
   "cell_type": "code",
   "execution_count": 11,
   "id": "f39b7a49",
   "metadata": {},
   "outputs": [],
   "source": [
    "## model load\n",
    "adarnn.load_model(model_file_path)"
   ]
  },
  {
   "cell_type": "code",
   "execution_count": 12,
   "id": "c2db14dd",
   "metadata": {
    "scrolled": true
   },
   "outputs": [
    {
     "name": "stderr",
     "output_type": "stream",
     "text": [
      "Test: 100%|███████████████████████████████████████| 2/2 [00:00<00:00, 10.68it/s]"
     ]
    },
    {
     "name": "stdout",
     "output_type": "stream",
     "text": [
      "tensor([0.2248, 0.3883, 0.3324, 0.1662, 0.1526, 0.0095, 0.1240, 0.3188, 0.0422,\n",
      "        0.1008, 0.0504, 0.2452, 0.0095, 0.2207, 0.2480, 0.2153, 0.2670, 0.1458,\n",
      "        0.0109, 0.0204, 0.0109, 0.0150, 0.2548, 0.4986, 0.5163, 0.0191, 0.1281,\n",
      "        0.0954, 0.0082, 0.2016, 0.2902, 0.7275, 0.1798, 0.0409, 0.2166, 0.2916,\n",
      "        0.0054, 0.0926, 0.1499, 0.3515, 0.2316, 0.0054, 0.1172, 0.1458, 0.2234,\n",
      "        0.5000, 0.3869, 0.5995, 0.5695, 0.6022, 0.0191, 0.0872, 0.2262, 0.2207,\n",
      "        0.0123, 0.2044, 0.0136, 0.5845, 0.4550, 0.6785, 0.6199, 0.3529, 0.8338,\n",
      "        0.3147], device='cuda:0')\n",
      "tensor([0.2698, 0.3501, 0.2820, 0.0136, 0.1267, 0.1185, 0.0327, 0.0163, 0.0177,\n",
      "        0.0381, 0.1390, 0.1567, 0.2003, 0.0940, 0.0095, 0.0954, 0.0204, 0.0450,\n",
      "        0.1485, 0.1962, 0.3678, 0.0123, 0.4918, 0.3651, 0.0095, 0.1253, 0.0095,\n",
      "        0.2480, 0.2534, 0.4319, 0.0163, 0.0095, 0.0831, 0.1608, 0.0177, 0.0123,\n",
      "        0.0272, 0.4087, 0.2166, 0.1839, 0.3733, 0.3542, 0.0041, 0.0790, 0.1771,\n",
      "        0.0027, 0.0381, 0.0899, 0.0123, 0.0708, 0.0095, 0.0204, 0.0668, 0.0954],\n",
      "       device='cuda:0')\n",
      "i :  2\n",
      "[2023-03-17 09:36:30] - Finished.\n"
     ]
    },
    {
     "name": "stderr",
     "output_type": "stream",
     "text": [
      "\n"
     ]
    }
   ],
   "source": [
    "## test loader 제거 작업 시작\n",
    "test_loss, test_loss_l1, test_loss_r, p = adarnn.test(test_loader)"
   ]
  },
  {
   "cell_type": "code",
   "execution_count": 13,
   "id": "8d4b6c04",
   "metadata": {},
   "outputs": [
    {
     "data": {
      "text/plain": [
       "0.033403921872377396"
      ]
     },
     "execution_count": 13,
     "metadata": {},
     "output_type": "execute_result"
    }
   ],
   "source": [
    "test_loss"
   ]
  },
  {
   "cell_type": "code",
   "execution_count": 14,
   "id": "8f62fbc5",
   "metadata": {},
   "outputs": [
    {
     "data": {
      "text/plain": [
       "0.13177918270230293"
      ]
     },
     "execution_count": 14,
     "metadata": {},
     "output_type": "execute_result"
    }
   ],
   "source": [
    "test_loss_l1"
   ]
  },
  {
   "cell_type": "code",
   "execution_count": 15,
   "id": "fd3fc801",
   "metadata": {},
   "outputs": [
    {
     "data": {
      "text/plain": [
       "tensor(0.0617, device='cuda:0')"
      ]
     },
     "execution_count": 15,
     "metadata": {},
     "output_type": "execute_result"
    }
   ],
   "source": [
    "test_loss_r"
   ]
  },
  {
   "cell_type": "code",
   "execution_count": null,
   "id": "8c6c01da",
   "metadata": {},
   "outputs": [],
   "source": []
  },
  {
   "cell_type": "code",
   "execution_count": null,
   "id": "c5a31e1c",
   "metadata": {},
   "outputs": [],
   "source": []
  },
  {
   "cell_type": "code",
   "execution_count": null,
   "id": "8c8fe40a",
   "metadata": {},
   "outputs": [],
   "source": []
  }
 ],
 "metadata": {
  "kernelspec": {
   "display_name": "Python 3 (ipykernel)",
   "language": "python",
   "name": "python3"
  },
  "language_info": {
   "codemirror_mode": {
    "name": "ipython",
    "version": 3
   },
   "file_extension": ".py",
   "mimetype": "text/x-python",
   "name": "python",
   "nbconvert_exporter": "python",
   "pygments_lexer": "ipython3",
   "version": "3.8.16"
  }
 },
 "nbformat": 4,
 "nbformat_minor": 5
}
