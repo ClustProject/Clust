{
 "cells": [
  {
   "cell_type": "code",
   "execution_count": 1,
   "id": "ece5149a",
   "metadata": {},
   "outputs": [
    {
     "ename": "ImportError",
     "evalue": "cannot import name 'p3_training' from 'Clust.clust.ML.common.common' (unknown location)",
     "output_type": "error",
     "traceback": [
      "\u001b[0;31m---------------------------------------------------------------------------\u001b[0m",
      "\u001b[0;31mImportError\u001b[0m                               Traceback (most recent call last)",
      "Cell \u001b[0;32mIn[1], line 17\u001b[0m\n\u001b[1;32m     15\u001b[0m \u001b[38;5;28;01mfrom\u001b[39;00m \u001b[38;5;21;01mClust\u001b[39;00m\u001b[38;5;21;01m.\u001b[39;00m\u001b[38;5;21;01mclust\u001b[39;00m\u001b[38;5;21;01m.\u001b[39;00m\u001b[38;5;21;01mML\u001b[39;00m\u001b[38;5;21;01m.\u001b[39;00m\u001b[38;5;21;01mregression_JS\u001b[39;00m \u001b[38;5;28;01mimport\u001b[39;00m ada_rnn\n\u001b[1;32m     16\u001b[0m \u001b[38;5;28;01mfrom\u001b[39;00m \u001b[38;5;21;01mClust\u001b[39;00m\u001b[38;5;21;01m.\u001b[39;00m\u001b[38;5;21;01mclust\u001b[39;00m\u001b[38;5;21;01m.\u001b[39;00m\u001b[38;5;21;01mpreprocessing\u001b[39;00m\u001b[38;5;21;01m.\u001b[39;00m\u001b[38;5;21;01mimputation\u001b[39;00m\u001b[38;5;21;01m.\u001b[39;00m\u001b[38;5;21;01mbasicMethod\u001b[39;00m \u001b[38;5;28;01mimport\u001b[39;00m BasicImputation\n\u001b[0;32m---> 17\u001b[0m \u001b[38;5;28;01mfrom\u001b[39;00m \u001b[38;5;21;01mClust\u001b[39;00m\u001b[38;5;21;01m.\u001b[39;00m\u001b[38;5;21;01mclust\u001b[39;00m\u001b[38;5;21;01m.\u001b[39;00m\u001b[38;5;21;01mML\u001b[39;00m\u001b[38;5;21;01m.\u001b[39;00m\u001b[38;5;21;01mcommon\u001b[39;00m\u001b[38;5;21;01m.\u001b[39;00m\u001b[38;5;21;01mcommon\u001b[39;00m \u001b[38;5;28;01mimport\u001b[39;00m p3_training \u001b[38;5;28;01mas\u001b[39;00m p3\n\u001b[1;32m     18\u001b[0m \u001b[38;5;28;01mfrom\u001b[39;00m \u001b[38;5;21;01mClust\u001b[39;00m\u001b[38;5;21;01m.\u001b[39;00m\u001b[38;5;21;01mclust\u001b[39;00m\u001b[38;5;21;01m.\u001b[39;00m\u001b[38;5;21;01mtransformation\u001b[39;00m\u001b[38;5;21;01m.\u001b[39;00m\u001b[38;5;21;01mpurpose\u001b[39;00m\u001b[38;5;21;01m.\u001b[39;00m\u001b[38;5;21;01mmachineLearning\u001b[39;00m \u001b[38;5;28;01mimport\u001b[39;00m LSTMData\n\u001b[1;32m     20\u001b[0m \u001b[38;5;28;01mfrom\u001b[39;00m \u001b[38;5;21;01mClust\u001b[39;00m\u001b[38;5;21;01m.\u001b[39;00m\u001b[38;5;21;01mclust\u001b[39;00m\u001b[38;5;21;01m.\u001b[39;00m\u001b[38;5;21;01mingestion\u001b[39;00m\u001b[38;5;21;01m.\u001b[39;00m\u001b[38;5;21;01minflux\u001b[39;00m \u001b[38;5;28;01mimport\u001b[39;00m influx_client_v2 \u001b[38;5;28;01mas\u001b[39;00m influx_Client\n",
      "\u001b[0;31mImportError\u001b[0m: cannot import name 'p3_training' from 'Clust.clust.ML.common.common' (unknown location)"
     ]
    }
   ],
   "source": [
    "import os\n",
    "import sys\n",
    "sys.path.append(\"../\")\n",
    "sys.path.append(\"../../\")\n",
    "sys.path.append(\"../../../\")\n",
    "sys.path.append(\"../../../../\")\n",
    "\n",
    "import pandas as pd\n",
    "import numpy as np\n",
    "import datetime\n",
    "import torch\n",
    "import math\n",
    "from datetime import timedelta\n",
    "\n",
    "from Clust.clust.ML.regression_JS import ada_rnn\n",
    "from Clust.clust.preprocessing.imputation.basicMethod import BasicImputation\n",
    "from Clust.clust.ML.common.common import p3_training as p3\n",
    "from Clust.clust.transformation.purpose.machineLearning import LSTMData\n",
    "\n",
    "from Clust.clust.ingestion.influx import influx_client_v2 as influx_Client\n",
    "from Clust.clust.data import df_set_data\n",
    "from Clust.clust.data import data_interface\n",
    "\n",
    "from Clust.setting import influx_setting_KETI as ins\n",
    "db_client = influx_Client.InfluxClient(ins.CLUSTDataServer2)\n",
    "\n",
    "from clust.preprocessing.dataPreprocessing import DataPreprocessing\n",
    "from Clust.clust.preprocessing.imputation.basicMethod import BasicImputation\n",
    "from Clust.clust.transformation.purpose.machineLearning import LSTMData\n",
    "\n",
    "from Clust.clust.ML.tool import scaler as ml_scaler"
   ]
  },
  {
   "cell_type": "markdown",
   "id": "35ce251c",
   "metadata": {},
   "source": [
    "# Set Param"
   ]
  },
  {
   "cell_type": "code",
   "execution_count": null,
   "id": "541f6a1f",
   "metadata": {},
   "outputs": [],
   "source": [
    "feature_list = [\"out_blacksphere_temp\", \"out_coai\", \"out_h2s\", 'out_humi', 'out_nh3', 'out_pm10', 'out_temp', 'out_ultraviolet_rays']\n",
    "target_col = \"out_pm10\"\n",
    "\n",
    "get_y_data_transformParameter ={\n",
    "    \"future_step\": 1,# 0~x\n",
    "    \"past_step\":24,# 1~y\n",
    "    \"feature_col\": feature_list,\n",
    "    \"target_col\":target_col \n",
    "}   \n",
    "\n",
    "param = {\n",
    "    \"x_features\" : 8, \n",
    "    \"class_num\" : 1, \n",
    "    \"dropout\" : 0.0, \n",
    "    \"len_seq\" : 24, \n",
    "    \"loss_type\" : \"adv\",\n",
    "    \"hidden_size\" : 64,\n",
    "    \"num_layers\" : 2\n",
    "}\n",
    "\n",
    "bk_name = \"air_outdoor_kweather\"\n",
    "ms_name = \"OC3CL200010\"\n",
    "\n",
    "shuffle = False\n",
    "model_file_path = \"./ada_rnn_model/test_adarnn_model_by_origin_data\"\n",
    "\n",
    "# 22.01.01 ~ 22.01.11 데이터 없음\n",
    "test_start_time = \"2022-01-01 00:00:00\"\n",
    "test_end_time = \"2022-04-29 23:59:00\""
   ]
  },
  {
   "cell_type": "code",
   "execution_count": null,
   "id": "928c0109",
   "metadata": {},
   "outputs": [],
   "source": []
  },
  {
   "cell_type": "markdown",
   "id": "ab8e4ff8",
   "metadata": {},
   "source": [
    "# get Data"
   ]
  },
  {
   "cell_type": "markdown",
   "id": "342dc171",
   "metadata": {},
   "source": [
    "## Data Read"
   ]
  },
  {
   "cell_type": "code",
   "execution_count": null,
   "id": "c54b0bd5",
   "metadata": {},
   "outputs": [],
   "source": [
    "origin_data = db_client.get_data_by_time(test_start_time, test_end_time, bk_name, ms_name)"
   ]
  },
  {
   "cell_type": "code",
   "execution_count": null,
   "id": "014d2542",
   "metadata": {
    "scrolled": true
   },
   "outputs": [],
   "source": [
    "origin_data"
   ]
  },
  {
   "cell_type": "code",
   "execution_count": null,
   "id": "02a2d26b",
   "metadata": {
    "scrolled": true
   },
   "outputs": [],
   "source": [
    "origin_data.info()"
   ]
  },
  {
   "cell_type": "code",
   "execution_count": null,
   "id": "c9c1b757",
   "metadata": {},
   "outputs": [],
   "source": [
    "# Check Frequency\n",
    "freq = db_client.get_freq(bk_name, ms_name)\n",
    "print(freq)"
   ]
  },
  {
   "cell_type": "code",
   "execution_count": null,
   "id": "e72a7ef7",
   "metadata": {},
   "outputs": [],
   "source": [
    "origin_data = origin_data[feature_list]"
   ]
  },
  {
   "cell_type": "markdown",
   "id": "e6c0110b",
   "metadata": {},
   "source": [
    "## Data Refine"
   ]
  },
  {
   "cell_type": "code",
   "execution_count": null,
   "id": "a4d90d05",
   "metadata": {},
   "outputs": [],
   "source": [
    "# fill in the missing time index\n",
    "refine_param = {'removeDuplication': {'flag': True} , 'staticFrequency': {'flag': True, 'frequency': \"1H\"}}\n",
    "data_refine = DataPreprocessing().get_refinedData(origin_data, refine_param)"
   ]
  },
  {
   "cell_type": "code",
   "execution_count": null,
   "id": "358791f5",
   "metadata": {},
   "outputs": [],
   "source": [
    "data_refine.info()"
   ]
  },
  {
   "cell_type": "code",
   "execution_count": null,
   "id": "c5b2a72c",
   "metadata": {},
   "outputs": [],
   "source": [
    "data_refine.head()"
   ]
  },
  {
   "cell_type": "code",
   "execution_count": null,
   "id": "3245303f",
   "metadata": {},
   "outputs": [],
   "source": [
    "day_start = data_refine.index[0] + timedelta(days=1) - timedelta(hours=data_refine.index[0].hour, \n",
    "                                                                 minutes=data_refine.index[0].minute, \n",
    "                                                                 seconds=data_refine.index[0].second)"
   ]
  },
  {
   "cell_type": "code",
   "execution_count": null,
   "id": "5cf2316b",
   "metadata": {},
   "outputs": [],
   "source": [
    "data_refine = data_refine[day_start:]"
   ]
  },
  {
   "cell_type": "code",
   "execution_count": null,
   "id": "c5ee54ca",
   "metadata": {},
   "outputs": [],
   "source": [
    "data_refine"
   ]
  },
  {
   "cell_type": "code",
   "execution_count": null,
   "id": "71a34607",
   "metadata": {},
   "outputs": [],
   "source": []
  },
  {
   "cell_type": "markdown",
   "id": "934702e7",
   "metadata": {},
   "source": [
    "## Data Nan -> Mean"
   ]
  },
  {
   "cell_type": "code",
   "execution_count": null,
   "id": "cd125ac4",
   "metadata": {},
   "outputs": [],
   "source": [
    "method = \"mean\"\n",
    "max_limit = {}\n",
    "parameter = {}\n",
    "\n",
    "data_refine_nan = BasicImputation(data_refine, method, max_limit, parameter).simpleMethod()"
   ]
  },
  {
   "cell_type": "code",
   "execution_count": null,
   "id": "8962eccc",
   "metadata": {},
   "outputs": [],
   "source": [
    "data_refine_nan.info()"
   ]
  },
  {
   "cell_type": "code",
   "execution_count": null,
   "id": "3e2db423",
   "metadata": {},
   "outputs": [],
   "source": []
  },
  {
   "cell_type": "markdown",
   "id": "76ddfc75",
   "metadata": {},
   "source": [
    "## Data Scale"
   ]
  },
  {
   "cell_type": "code",
   "execution_count": null,
   "id": "a4e19ab9",
   "metadata": {},
   "outputs": [],
   "source": [
    "# set parameter\n",
    "scaler_root_dir ='./scaler/'\n",
    "\n",
    "clean_train_data_param = 'NoClean'\n",
    "\n",
    "data_name_x = \"AdaRNN_data_x\"\n",
    "feature_list_x= list(data_refine_nan.columns)\n",
    "x_scaler_file_path = './scaler/AdaRNN_data_x/NoClean/minmax/4457f465de3d0e17dd9f547db5b454b7/scaler.pkl'\n",
    "\n",
    "split_ratio = 0.8\n",
    "scaler_param='scale'\n",
    "scale_method='minmax'"
   ]
  },
  {
   "cell_type": "code",
   "execution_count": null,
   "id": "12083f2c",
   "metadata": {},
   "outputs": [],
   "source": [
    "scaler_root_path_x = os.path.join(scaler_root_dir, data_name_x, clean_train_data_param)\n",
    "test_x, scaler_x = ml_scaler.get_scaled_test_data(data_refine_nan[feature_list_x], x_scaler_file_path, scaler_param)\n",
    "#test_y, scaler_y = ml_scaler.get_scaled_test_data(data_y[target], y_scaler_file_path, scaler_param)# No Scale"
   ]
  },
  {
   "cell_type": "code",
   "execution_count": null,
   "id": "77483e6f",
   "metadata": {},
   "outputs": [],
   "source": [
    "test_x.tail()"
   ]
  },
  {
   "cell_type": "code",
   "execution_count": null,
   "id": "b7683c5b",
   "metadata": {},
   "outputs": [],
   "source": []
  },
  {
   "cell_type": "markdown",
   "id": "a794ff36",
   "metadata": {},
   "source": [
    "## get Data y"
   ]
  },
  {
   "cell_type": "code",
   "execution_count": null,
   "id": "3f4857cb",
   "metadata": {
    "scrolled": true
   },
   "outputs": [],
   "source": [
    "LSTMD = LSTMData()\n",
    "test_x_arr, test_y_arr = LSTMD.transform_Xy_arr(test_x, get_y_data_transformParameter, \"NoClean\")"
   ]
  },
  {
   "cell_type": "code",
   "execution_count": null,
   "id": "039dbb89",
   "metadata": {},
   "outputs": [],
   "source": [
    "test_x_arr.shape, test_y_arr.shape"
   ]
  },
  {
   "cell_type": "code",
   "execution_count": null,
   "id": "bee7a523",
   "metadata": {},
   "outputs": [],
   "source": [
    "test_y_arr = test_y_arr.reshape(test_y_arr.shape[0],)"
   ]
  },
  {
   "cell_type": "code",
   "execution_count": null,
   "id": "fc4cdb81",
   "metadata": {},
   "outputs": [],
   "source": []
  },
  {
   "cell_type": "markdown",
   "id": "af8ea6d3",
   "metadata": {},
   "source": [
    "# Data Loader"
   ]
  },
  {
   "cell_type": "code",
   "execution_count": null,
   "id": "b17e183c",
   "metadata": {},
   "outputs": [],
   "source": [
    "adarnn = ada_rnn.ClustAdaRnn(param)"
   ]
  },
  {
   "cell_type": "code",
   "execution_count": null,
   "id": "8208ccce",
   "metadata": {},
   "outputs": [],
   "source": [
    "test_loader = adarnn.create_testloader(test_x_arr, test_y_arr, shuffle)"
   ]
  },
  {
   "cell_type": "markdown",
   "id": "61198958",
   "metadata": {},
   "source": [
    "# Testing"
   ]
  },
  {
   "cell_type": "code",
   "execution_count": null,
   "id": "27220999",
   "metadata": {},
   "outputs": [],
   "source": [
    "## model load\n",
    "adarnn.load_model(model_file_path)"
   ]
  },
  {
   "cell_type": "code",
   "execution_count": null,
   "id": "c2db14dd",
   "metadata": {
    "scrolled": true
   },
   "outputs": [],
   "source": [
    "## test\n",
    "test_loss, test_loss_l1, test_loss_r = adarnn.test(test_loader)"
   ]
  },
  {
   "cell_type": "code",
   "execution_count": null,
   "id": "8d4b6c04",
   "metadata": {},
   "outputs": [],
   "source": [
    "test_loss, test_loss_l1, test_loss_r"
   ]
  },
  {
   "cell_type": "code",
   "execution_count": null,
   "id": "8f62fbc5",
   "metadata": {},
   "outputs": [],
   "source": []
  },
  {
   "cell_type": "code",
   "execution_count": null,
   "id": "fd3fc801",
   "metadata": {},
   "outputs": [],
   "source": []
  },
  {
   "cell_type": "code",
   "execution_count": null,
   "id": "8d7cf270",
   "metadata": {},
   "outputs": [],
   "source": []
  },
  {
   "cell_type": "code",
   "execution_count": null,
   "id": "5c695472",
   "metadata": {},
   "outputs": [],
   "source": []
  },
  {
   "cell_type": "code",
   "execution_count": null,
   "id": "41a651db",
   "metadata": {},
   "outputs": [],
   "source": []
  },
  {
   "cell_type": "code",
   "execution_count": null,
   "id": "8c6c01da",
   "metadata": {},
   "outputs": [],
   "source": []
  },
  {
   "cell_type": "code",
   "execution_count": null,
   "id": "c5a31e1c",
   "metadata": {},
   "outputs": [],
   "source": []
  },
  {
   "cell_type": "code",
   "execution_count": null,
   "id": "8c8fe40a",
   "metadata": {},
   "outputs": [],
   "source": []
  }
 ],
 "metadata": {
  "kernelspec": {
   "display_name": "Python 3",
   "language": "python",
   "name": "python3"
  },
  "language_info": {
   "codemirror_mode": {
    "name": "ipython",
    "version": 3
   },
   "file_extension": ".py",
   "mimetype": "text/x-python",
   "name": "python",
   "nbconvert_exporter": "python",
   "pygments_lexer": "ipython3",
   "version": "3.8.8"
  }
 },
 "nbformat": 4,
 "nbformat_minor": 5
}
