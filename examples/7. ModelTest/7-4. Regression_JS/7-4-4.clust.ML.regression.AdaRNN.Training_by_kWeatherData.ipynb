{
 "cells": [
  {
   "cell_type": "code",
   "execution_count": 1,
   "id": "ece5149a",
   "metadata": {},
   "outputs": [],
   "source": [
    "import os\n",
    "import sys\n",
    "sys.path.append(\"../\")\n",
    "sys.path.append(\"../../\")\n",
    "sys.path.append(\"../../../\")\n",
    "sys.path.append(\"../../../../\")\n",
    "\n",
    "import pandas as pd\n",
    "import numpy as np\n",
    "import datetime\n",
    "import torch\n",
    "import math\n",
    "\n",
    "from Clust.clust.ML.regression_JS import ada_rnn\n",
    "from Clust.clust.preprocessing.imputation.basicMethod import BasicImputation\n",
    "from Clust.clust.ML.common.common import p3_training as p3\n",
    "from Clust.clust.transformation.purpose.machineLearning import LSTMData\n",
    "\n",
    "from Clust.clust.ingestion.influx import influx_client_v2 as influx_Client\n",
    "from Clust.clust.data import df_set_data\n",
    "from Clust.clust.data import data_interface\n",
    "\n",
    "from Clust.setting import influx_setting_KETI as ins\n",
    "db_client = influx_Client.InfluxClient(ins.CLUSTDataServer2)\n",
    "\n",
    "from clust.preprocessing.dataPreprocessing import DataPreprocessing\n",
    "from Clust.clust.preprocessing.imputation.basicMethod import BasicImputation\n",
    "from Clust.clust.transformation.purpose.machineLearning import LSTMData\n",
    "\n",
    "from Clust.clust.ML.tool import data as ml_data"
   ]
  },
  {
   "cell_type": "markdown",
   "id": "35ce251c",
   "metadata": {},
   "source": [
    "# Set Param"
   ]
  },
  {
   "cell_type": "code",
   "execution_count": 2,
   "id": "541f6a1f",
   "metadata": {},
   "outputs": [],
   "source": [
    "feature_list = [\"out_blacksphere_temp\", \"out_coai\", \"out_h2s\", 'out_humi', 'out_nh3', 'out_pm10', 'out_temp', 'out_ultraviolet_rays']\n",
    "target_col = \"out_pm10\"\n",
    "\n",
    "get_y_data_transformParameter ={\n",
    "    \"future_step\": 1,# 0~x\n",
    "    \"past_step\":24,# 1~y\n",
    "    \"feature_col\": feature_list,\n",
    "    \"target_col\":target_col \n",
    "}   \n",
    "\n",
    "param = {\n",
    "    \"x_features\" : 8, \n",
    "    \"class_num\" : 1, \n",
    "    \"dropout\" : 0.0, \n",
    "    \"len_seq\" : 24, \n",
    "    \"loss_type\" : \"adv\",\n",
    "    \"hidden_size\" : 64,\n",
    "    \"num_layers\" : 2\n",
    "}\n",
    "\n",
    "args = {\n",
    "    \"output_folder_name\" : \"./ada_rnn_model\",\n",
    "    \"save_model_name\" : \"test_adarnn_model_by_origin_data\",\n",
    "    \"lr\" : 5e-4,\n",
    "    \"n_epochs\" : 200,\n",
    "    \"num_layers\" : 2, \n",
    "    \"len_seq\" : 24,\n",
    "    \"pre_epoch\" : 40,\n",
    "    \"len_win\" : 0,\n",
    "    \"dw\" : 0.5,\n",
    "    \"early_stop\" :40\n",
    "}\n",
    "k = 2\n",
    "\n",
    "train_start_time = \"2021-01-01 00:00:00\"\n",
    "train_end_time = \"2021-12-31 00:00:00\"\n",
    "bk_name = \"air_outdoor_kweather\"\n",
    "ms_name = \"OC3CL200010\"\n",
    "\n",
    "#test_start_time = \"2022-01-01 00:00:00\"\n",
    "#test_end_time = \"2022-04-29 00:00:00\""
   ]
  },
  {
   "cell_type": "code",
   "execution_count": null,
   "id": "928c0109",
   "metadata": {},
   "outputs": [],
   "source": []
  },
  {
   "cell_type": "markdown",
   "id": "ab8e4ff8",
   "metadata": {},
   "source": [
    "# get Data"
   ]
  },
  {
   "cell_type": "markdown",
   "id": "5fab6f4c",
   "metadata": {},
   "source": [
    "## Data Read"
   ]
  },
  {
   "cell_type": "code",
   "execution_count": 3,
   "id": "a895c8d8",
   "metadata": {},
   "outputs": [],
   "source": [
    "origin_data = db_client.get_data_by_time(train_start_time, train_end_time, bk_name, ms_name)"
   ]
  },
  {
   "cell_type": "code",
   "execution_count": 4,
   "id": "dbfb17b8",
   "metadata": {
    "scrolled": true
   },
   "outputs": [
    {
     "data": {
      "text/html": [
       "<div>\n",
       "<style scoped>\n",
       "    .dataframe tbody tr th:only-of-type {\n",
       "        vertical-align: middle;\n",
       "    }\n",
       "\n",
       "    .dataframe tbody tr th {\n",
       "        vertical-align: top;\n",
       "    }\n",
       "\n",
       "    .dataframe thead th {\n",
       "        text-align: right;\n",
       "    }\n",
       "</style>\n",
       "<table border=\"1\" class=\"dataframe\">\n",
       "  <thead>\n",
       "    <tr style=\"text-align: right;\">\n",
       "      <th></th>\n",
       "      <th>out_blacksphere_temp</th>\n",
       "      <th>out_co</th>\n",
       "      <th>out_coai</th>\n",
       "      <th>out_coci</th>\n",
       "      <th>out_h2s</th>\n",
       "      <th>out_humi</th>\n",
       "      <th>out_light_intensity</th>\n",
       "      <th>out_nh3</th>\n",
       "      <th>out_no2</th>\n",
       "      <th>out_noise</th>\n",
       "      <th>out_o3</th>\n",
       "      <th>out_pm10</th>\n",
       "      <th>out_pm25</th>\n",
       "      <th>out_so2</th>\n",
       "      <th>out_temp</th>\n",
       "      <th>out_ultraviolet_rays</th>\n",
       "    </tr>\n",
       "    <tr>\n",
       "      <th>time</th>\n",
       "      <th></th>\n",
       "      <th></th>\n",
       "      <th></th>\n",
       "      <th></th>\n",
       "      <th></th>\n",
       "      <th></th>\n",
       "      <th></th>\n",
       "      <th></th>\n",
       "      <th></th>\n",
       "      <th></th>\n",
       "      <th></th>\n",
       "      <th></th>\n",
       "      <th></th>\n",
       "      <th></th>\n",
       "      <th></th>\n",
       "      <th></th>\n",
       "    </tr>\n",
       "  </thead>\n",
       "  <tbody>\n",
       "    <tr>\n",
       "      <th>2021-01-01 00:00:00+00:00</th>\n",
       "      <td>-8.9</td>\n",
       "      <td>-9999.0</td>\n",
       "      <td>96.0</td>\n",
       "      <td>96.0</td>\n",
       "      <td>0.20</td>\n",
       "      <td>66.0</td>\n",
       "      <td>-9999.0</td>\n",
       "      <td>0.0</td>\n",
       "      <td>-9999.0</td>\n",
       "      <td>50.0</td>\n",
       "      <td>-9999.0</td>\n",
       "      <td>10.0</td>\n",
       "      <td>7.0</td>\n",
       "      <td>-9999.0</td>\n",
       "      <td>-9.31</td>\n",
       "      <td>0.0</td>\n",
       "    </tr>\n",
       "    <tr>\n",
       "      <th>2021-01-01 00:02:00+00:00</th>\n",
       "      <td>-8.9</td>\n",
       "      <td>-9999.0</td>\n",
       "      <td>96.0</td>\n",
       "      <td>96.0</td>\n",
       "      <td>0.21</td>\n",
       "      <td>66.0</td>\n",
       "      <td>-9999.0</td>\n",
       "      <td>0.0</td>\n",
       "      <td>-9999.0</td>\n",
       "      <td>50.0</td>\n",
       "      <td>-9999.0</td>\n",
       "      <td>11.0</td>\n",
       "      <td>7.0</td>\n",
       "      <td>-9999.0</td>\n",
       "      <td>-9.31</td>\n",
       "      <td>0.0</td>\n",
       "    </tr>\n",
       "    <tr>\n",
       "      <th>2021-01-01 00:04:00+00:00</th>\n",
       "      <td>-8.9</td>\n",
       "      <td>-9999.0</td>\n",
       "      <td>97.0</td>\n",
       "      <td>97.0</td>\n",
       "      <td>0.24</td>\n",
       "      <td>66.0</td>\n",
       "      <td>-9999.0</td>\n",
       "      <td>0.0</td>\n",
       "      <td>-9999.0</td>\n",
       "      <td>50.0</td>\n",
       "      <td>-9999.0</td>\n",
       "      <td>10.0</td>\n",
       "      <td>6.0</td>\n",
       "      <td>-9999.0</td>\n",
       "      <td>-9.20</td>\n",
       "      <td>0.0</td>\n",
       "    </tr>\n",
       "    <tr>\n",
       "      <th>2021-01-01 00:06:00+00:00</th>\n",
       "      <td>-8.9</td>\n",
       "      <td>-9999.0</td>\n",
       "      <td>96.0</td>\n",
       "      <td>96.0</td>\n",
       "      <td>0.26</td>\n",
       "      <td>66.0</td>\n",
       "      <td>-9999.0</td>\n",
       "      <td>0.0</td>\n",
       "      <td>-9999.0</td>\n",
       "      <td>50.0</td>\n",
       "      <td>-9999.0</td>\n",
       "      <td>10.0</td>\n",
       "      <td>7.0</td>\n",
       "      <td>-9999.0</td>\n",
       "      <td>-9.20</td>\n",
       "      <td>0.0</td>\n",
       "    </tr>\n",
       "    <tr>\n",
       "      <th>2021-01-01 00:08:00+00:00</th>\n",
       "      <td>-8.9</td>\n",
       "      <td>-9999.0</td>\n",
       "      <td>96.0</td>\n",
       "      <td>96.0</td>\n",
       "      <td>0.25</td>\n",
       "      <td>66.0</td>\n",
       "      <td>-9999.0</td>\n",
       "      <td>0.0</td>\n",
       "      <td>-9999.0</td>\n",
       "      <td>50.0</td>\n",
       "      <td>-9999.0</td>\n",
       "      <td>10.0</td>\n",
       "      <td>7.0</td>\n",
       "      <td>-9999.0</td>\n",
       "      <td>-9.20</td>\n",
       "      <td>0.0</td>\n",
       "    </tr>\n",
       "    <tr>\n",
       "      <th>...</th>\n",
       "      <td>...</td>\n",
       "      <td>...</td>\n",
       "      <td>...</td>\n",
       "      <td>...</td>\n",
       "      <td>...</td>\n",
       "      <td>...</td>\n",
       "      <td>...</td>\n",
       "      <td>...</td>\n",
       "      <td>...</td>\n",
       "      <td>...</td>\n",
       "      <td>...</td>\n",
       "      <td>...</td>\n",
       "      <td>...</td>\n",
       "      <td>...</td>\n",
       "      <td>...</td>\n",
       "      <td>...</td>\n",
       "    </tr>\n",
       "    <tr>\n",
       "      <th>2021-08-20 09:06:00+00:00</th>\n",
       "      <td>23.0</td>\n",
       "      <td>-9999.0</td>\n",
       "      <td>97.0</td>\n",
       "      <td>97.0</td>\n",
       "      <td>0.00</td>\n",
       "      <td>79.0</td>\n",
       "      <td>-9999.0</td>\n",
       "      <td>0.0</td>\n",
       "      <td>-9999.0</td>\n",
       "      <td>43.0</td>\n",
       "      <td>-9999.0</td>\n",
       "      <td>9.0</td>\n",
       "      <td>6.0</td>\n",
       "      <td>-9999.0</td>\n",
       "      <td>25.30</td>\n",
       "      <td>1.3</td>\n",
       "    </tr>\n",
       "    <tr>\n",
       "      <th>2021-08-20 09:08:00+00:00</th>\n",
       "      <td>23.1</td>\n",
       "      <td>-9999.0</td>\n",
       "      <td>97.0</td>\n",
       "      <td>97.0</td>\n",
       "      <td>0.00</td>\n",
       "      <td>80.0</td>\n",
       "      <td>-9999.0</td>\n",
       "      <td>0.0</td>\n",
       "      <td>-9999.0</td>\n",
       "      <td>43.0</td>\n",
       "      <td>-9999.0</td>\n",
       "      <td>9.0</td>\n",
       "      <td>6.0</td>\n",
       "      <td>-9999.0</td>\n",
       "      <td>25.30</td>\n",
       "      <td>1.3</td>\n",
       "    </tr>\n",
       "    <tr>\n",
       "      <th>2021-08-20 09:10:00+00:00</th>\n",
       "      <td>23.1</td>\n",
       "      <td>-9999.0</td>\n",
       "      <td>97.0</td>\n",
       "      <td>97.0</td>\n",
       "      <td>0.00</td>\n",
       "      <td>79.0</td>\n",
       "      <td>-9999.0</td>\n",
       "      <td>0.0</td>\n",
       "      <td>-9999.0</td>\n",
       "      <td>48.0</td>\n",
       "      <td>-9999.0</td>\n",
       "      <td>9.0</td>\n",
       "      <td>6.0</td>\n",
       "      <td>-9999.0</td>\n",
       "      <td>25.40</td>\n",
       "      <td>1.3</td>\n",
       "    </tr>\n",
       "    <tr>\n",
       "      <th>2021-08-20 09:12:00+00:00</th>\n",
       "      <td>23.3</td>\n",
       "      <td>-9999.0</td>\n",
       "      <td>97.0</td>\n",
       "      <td>97.0</td>\n",
       "      <td>0.00</td>\n",
       "      <td>79.0</td>\n",
       "      <td>-9999.0</td>\n",
       "      <td>0.0</td>\n",
       "      <td>-9999.0</td>\n",
       "      <td>49.0</td>\n",
       "      <td>-9999.0</td>\n",
       "      <td>9.0</td>\n",
       "      <td>6.0</td>\n",
       "      <td>-9999.0</td>\n",
       "      <td>25.60</td>\n",
       "      <td>1.3</td>\n",
       "    </tr>\n",
       "    <tr>\n",
       "      <th>2021-08-20 09:14:00+00:00</th>\n",
       "      <td>23.4</td>\n",
       "      <td>-9999.0</td>\n",
       "      <td>97.0</td>\n",
       "      <td>97.0</td>\n",
       "      <td>0.00</td>\n",
       "      <td>79.0</td>\n",
       "      <td>-9999.0</td>\n",
       "      <td>0.0</td>\n",
       "      <td>-9999.0</td>\n",
       "      <td>47.0</td>\n",
       "      <td>-9999.0</td>\n",
       "      <td>9.0</td>\n",
       "      <td>6.0</td>\n",
       "      <td>-9999.0</td>\n",
       "      <td>25.70</td>\n",
       "      <td>1.3</td>\n",
       "    </tr>\n",
       "  </tbody>\n",
       "</table>\n",
       "<p>157951 rows × 16 columns</p>\n",
       "</div>"
      ],
      "text/plain": [
       "                           out_blacksphere_temp  out_co  out_coai  out_coci  \\\n",
       "time                                                                          \n",
       "2021-01-01 00:00:00+00:00                  -8.9 -9999.0      96.0      96.0   \n",
       "2021-01-01 00:02:00+00:00                  -8.9 -9999.0      96.0      96.0   \n",
       "2021-01-01 00:04:00+00:00                  -8.9 -9999.0      97.0      97.0   \n",
       "2021-01-01 00:06:00+00:00                  -8.9 -9999.0      96.0      96.0   \n",
       "2021-01-01 00:08:00+00:00                  -8.9 -9999.0      96.0      96.0   \n",
       "...                                         ...     ...       ...       ...   \n",
       "2021-08-20 09:06:00+00:00                  23.0 -9999.0      97.0      97.0   \n",
       "2021-08-20 09:08:00+00:00                  23.1 -9999.0      97.0      97.0   \n",
       "2021-08-20 09:10:00+00:00                  23.1 -9999.0      97.0      97.0   \n",
       "2021-08-20 09:12:00+00:00                  23.3 -9999.0      97.0      97.0   \n",
       "2021-08-20 09:14:00+00:00                  23.4 -9999.0      97.0      97.0   \n",
       "\n",
       "                           out_h2s  out_humi  out_light_intensity  out_nh3  \\\n",
       "time                                                                         \n",
       "2021-01-01 00:00:00+00:00     0.20      66.0              -9999.0      0.0   \n",
       "2021-01-01 00:02:00+00:00     0.21      66.0              -9999.0      0.0   \n",
       "2021-01-01 00:04:00+00:00     0.24      66.0              -9999.0      0.0   \n",
       "2021-01-01 00:06:00+00:00     0.26      66.0              -9999.0      0.0   \n",
       "2021-01-01 00:08:00+00:00     0.25      66.0              -9999.0      0.0   \n",
       "...                            ...       ...                  ...      ...   \n",
       "2021-08-20 09:06:00+00:00     0.00      79.0              -9999.0      0.0   \n",
       "2021-08-20 09:08:00+00:00     0.00      80.0              -9999.0      0.0   \n",
       "2021-08-20 09:10:00+00:00     0.00      79.0              -9999.0      0.0   \n",
       "2021-08-20 09:12:00+00:00     0.00      79.0              -9999.0      0.0   \n",
       "2021-08-20 09:14:00+00:00     0.00      79.0              -9999.0      0.0   \n",
       "\n",
       "                           out_no2  out_noise  out_o3  out_pm10  out_pm25  \\\n",
       "time                                                                        \n",
       "2021-01-01 00:00:00+00:00  -9999.0       50.0 -9999.0      10.0       7.0   \n",
       "2021-01-01 00:02:00+00:00  -9999.0       50.0 -9999.0      11.0       7.0   \n",
       "2021-01-01 00:04:00+00:00  -9999.0       50.0 -9999.0      10.0       6.0   \n",
       "2021-01-01 00:06:00+00:00  -9999.0       50.0 -9999.0      10.0       7.0   \n",
       "2021-01-01 00:08:00+00:00  -9999.0       50.0 -9999.0      10.0       7.0   \n",
       "...                            ...        ...     ...       ...       ...   \n",
       "2021-08-20 09:06:00+00:00  -9999.0       43.0 -9999.0       9.0       6.0   \n",
       "2021-08-20 09:08:00+00:00  -9999.0       43.0 -9999.0       9.0       6.0   \n",
       "2021-08-20 09:10:00+00:00  -9999.0       48.0 -9999.0       9.0       6.0   \n",
       "2021-08-20 09:12:00+00:00  -9999.0       49.0 -9999.0       9.0       6.0   \n",
       "2021-08-20 09:14:00+00:00  -9999.0       47.0 -9999.0       9.0       6.0   \n",
       "\n",
       "                           out_so2  out_temp  out_ultraviolet_rays  \n",
       "time                                                                \n",
       "2021-01-01 00:00:00+00:00  -9999.0     -9.31                   0.0  \n",
       "2021-01-01 00:02:00+00:00  -9999.0     -9.31                   0.0  \n",
       "2021-01-01 00:04:00+00:00  -9999.0     -9.20                   0.0  \n",
       "2021-01-01 00:06:00+00:00  -9999.0     -9.20                   0.0  \n",
       "2021-01-01 00:08:00+00:00  -9999.0     -9.20                   0.0  \n",
       "...                            ...       ...                   ...  \n",
       "2021-08-20 09:06:00+00:00  -9999.0     25.30                   1.3  \n",
       "2021-08-20 09:08:00+00:00  -9999.0     25.30                   1.3  \n",
       "2021-08-20 09:10:00+00:00  -9999.0     25.40                   1.3  \n",
       "2021-08-20 09:12:00+00:00  -9999.0     25.60                   1.3  \n",
       "2021-08-20 09:14:00+00:00  -9999.0     25.70                   1.3  \n",
       "\n",
       "[157951 rows x 16 columns]"
      ]
     },
     "execution_count": 4,
     "metadata": {},
     "output_type": "execute_result"
    }
   ],
   "source": [
    "origin_data"
   ]
  },
  {
   "cell_type": "code",
   "execution_count": 5,
   "id": "f804ed14",
   "metadata": {
    "scrolled": true
   },
   "outputs": [
    {
     "name": "stdout",
     "output_type": "stream",
     "text": [
      "<class 'pandas.core.frame.DataFrame'>\n",
      "DatetimeIndex: 157951 entries, 2021-01-01 00:00:00+00:00 to 2021-08-20 09:14:00+00:00\n",
      "Data columns (total 16 columns):\n",
      " #   Column                Non-Null Count   Dtype  \n",
      "---  ------                --------------   -----  \n",
      " 0   out_blacksphere_temp  157951 non-null  float64\n",
      " 1   out_co                157951 non-null  float64\n",
      " 2   out_coai              157951 non-null  float64\n",
      " 3   out_coci              157951 non-null  float64\n",
      " 4   out_h2s               157951 non-null  float64\n",
      " 5   out_humi              157951 non-null  float64\n",
      " 6   out_light_intensity   157951 non-null  float64\n",
      " 7   out_nh3               157951 non-null  float64\n",
      " 8   out_no2               157951 non-null  float64\n",
      " 9   out_noise             157951 non-null  float64\n",
      " 10  out_o3                157951 non-null  float64\n",
      " 11  out_pm10              157951 non-null  float64\n",
      " 12  out_pm25              157951 non-null  float64\n",
      " 13  out_so2               157951 non-null  float64\n",
      " 14  out_temp              157951 non-null  float64\n",
      " 15  out_ultraviolet_rays  157951 non-null  float64\n",
      "dtypes: float64(16)\n",
      "memory usage: 20.5 MB\n"
     ]
    }
   ],
   "source": [
    "origin_data.info()"
   ]
  },
  {
   "cell_type": "code",
   "execution_count": 6,
   "id": "3cd38484",
   "metadata": {},
   "outputs": [
    {
     "name": "stdout",
     "output_type": "stream",
     "text": [
      "0 days 00:02:00\n"
     ]
    }
   ],
   "source": [
    "# Check Frequency\n",
    "freq = db_client.get_freq(bk_name, ms_name)\n",
    "print(freq)"
   ]
  },
  {
   "cell_type": "code",
   "execution_count": 7,
   "id": "2fa5a395",
   "metadata": {},
   "outputs": [],
   "source": [
    "origin_data = origin_data[feature_list]"
   ]
  },
  {
   "cell_type": "markdown",
   "id": "ece08197",
   "metadata": {},
   "source": [
    "## Data Refine"
   ]
  },
  {
   "cell_type": "code",
   "execution_count": 8,
   "id": "ebfa508b",
   "metadata": {},
   "outputs": [],
   "source": [
    "# fill in the missing time index\n",
    "refine_param = {'removeDuplication': {'flag': True} , 'staticFrequency': {'flag': True, 'frequency': \"1H\"}}\n",
    "data_refine = DataPreprocessing().get_refinedData(origin_data, refine_param)"
   ]
  },
  {
   "cell_type": "code",
   "execution_count": 9,
   "id": "c5ada1cb",
   "metadata": {},
   "outputs": [
    {
     "name": "stdout",
     "output_type": "stream",
     "text": [
      "<class 'pandas.core.frame.DataFrame'>\n",
      "DatetimeIndex: 5554 entries, 2021-01-01 00:00:00+00:00 to 2021-08-20 09:00:00+00:00\n",
      "Freq: H\n",
      "Data columns (total 8 columns):\n",
      " #   Column                Non-Null Count  Dtype  \n",
      "---  ------                --------------  -----  \n",
      " 0   out_blacksphere_temp  5547 non-null   float64\n",
      " 1   out_coai              5547 non-null   float64\n",
      " 2   out_h2s               5547 non-null   float64\n",
      " 3   out_humi              5547 non-null   float64\n",
      " 4   out_nh3               5547 non-null   float64\n",
      " 5   out_pm10              5547 non-null   float64\n",
      " 6   out_temp              5547 non-null   float64\n",
      " 7   out_ultraviolet_rays  5547 non-null   float64\n",
      "dtypes: float64(8)\n",
      "memory usage: 390.5 KB\n"
     ]
    }
   ],
   "source": [
    "data_refine.info()"
   ]
  },
  {
   "cell_type": "code",
   "execution_count": 10,
   "id": "2b72dd5b",
   "metadata": {},
   "outputs": [
    {
     "data": {
      "text/html": [
       "<div>\n",
       "<style scoped>\n",
       "    .dataframe tbody tr th:only-of-type {\n",
       "        vertical-align: middle;\n",
       "    }\n",
       "\n",
       "    .dataframe tbody tr th {\n",
       "        vertical-align: top;\n",
       "    }\n",
       "\n",
       "    .dataframe thead th {\n",
       "        text-align: right;\n",
       "    }\n",
       "</style>\n",
       "<table border=\"1\" class=\"dataframe\">\n",
       "  <thead>\n",
       "    <tr style=\"text-align: right;\">\n",
       "      <th></th>\n",
       "      <th>out_blacksphere_temp</th>\n",
       "      <th>out_coai</th>\n",
       "      <th>out_h2s</th>\n",
       "      <th>out_humi</th>\n",
       "      <th>out_nh3</th>\n",
       "      <th>out_pm10</th>\n",
       "      <th>out_temp</th>\n",
       "      <th>out_ultraviolet_rays</th>\n",
       "    </tr>\n",
       "    <tr>\n",
       "      <th>time</th>\n",
       "      <th></th>\n",
       "      <th></th>\n",
       "      <th></th>\n",
       "      <th></th>\n",
       "      <th></th>\n",
       "      <th></th>\n",
       "      <th></th>\n",
       "      <th></th>\n",
       "    </tr>\n",
       "  </thead>\n",
       "  <tbody>\n",
       "    <tr>\n",
       "      <th>2021-01-01 00:00:00+00:00</th>\n",
       "      <td>-8.976667</td>\n",
       "      <td>96.100000</td>\n",
       "      <td>0.289333</td>\n",
       "      <td>65.933333</td>\n",
       "      <td>0.0</td>\n",
       "      <td>10.433333</td>\n",
       "      <td>-9.322000</td>\n",
       "      <td>0.000000</td>\n",
       "    </tr>\n",
       "    <tr>\n",
       "      <th>2021-01-01 01:00:00+00:00</th>\n",
       "      <td>-9.249259</td>\n",
       "      <td>97.111111</td>\n",
       "      <td>0.290741</td>\n",
       "      <td>66.925926</td>\n",
       "      <td>0.0</td>\n",
       "      <td>8.407407</td>\n",
       "      <td>-9.788889</td>\n",
       "      <td>0.003704</td>\n",
       "    </tr>\n",
       "    <tr>\n",
       "      <th>2021-01-01 02:00:00+00:00</th>\n",
       "      <td>-9.418966</td>\n",
       "      <td>97.896552</td>\n",
       "      <td>0.306897</td>\n",
       "      <td>67.620690</td>\n",
       "      <td>0.0</td>\n",
       "      <td>6.965517</td>\n",
       "      <td>-10.069310</td>\n",
       "      <td>0.003448</td>\n",
       "    </tr>\n",
       "    <tr>\n",
       "      <th>2021-01-01 03:00:00+00:00</th>\n",
       "      <td>-9.534483</td>\n",
       "      <td>98.000000</td>\n",
       "      <td>0.295517</td>\n",
       "      <td>68.344828</td>\n",
       "      <td>0.0</td>\n",
       "      <td>6.172414</td>\n",
       "      <td>-10.310345</td>\n",
       "      <td>0.000000</td>\n",
       "    </tr>\n",
       "    <tr>\n",
       "      <th>2021-01-01 04:00:00+00:00</th>\n",
       "      <td>-9.471786</td>\n",
       "      <td>98.000000</td>\n",
       "      <td>0.272857</td>\n",
       "      <td>67.785714</td>\n",
       "      <td>0.0</td>\n",
       "      <td>6.000000</td>\n",
       "      <td>-10.178929</td>\n",
       "      <td>0.060714</td>\n",
       "    </tr>\n",
       "  </tbody>\n",
       "</table>\n",
       "</div>"
      ],
      "text/plain": [
       "                           out_blacksphere_temp   out_coai   out_h2s  \\\n",
       "time                                                                   \n",
       "2021-01-01 00:00:00+00:00             -8.976667  96.100000  0.289333   \n",
       "2021-01-01 01:00:00+00:00             -9.249259  97.111111  0.290741   \n",
       "2021-01-01 02:00:00+00:00             -9.418966  97.896552  0.306897   \n",
       "2021-01-01 03:00:00+00:00             -9.534483  98.000000  0.295517   \n",
       "2021-01-01 04:00:00+00:00             -9.471786  98.000000  0.272857   \n",
       "\n",
       "                            out_humi  out_nh3   out_pm10   out_temp  \\\n",
       "time                                                                  \n",
       "2021-01-01 00:00:00+00:00  65.933333      0.0  10.433333  -9.322000   \n",
       "2021-01-01 01:00:00+00:00  66.925926      0.0   8.407407  -9.788889   \n",
       "2021-01-01 02:00:00+00:00  67.620690      0.0   6.965517 -10.069310   \n",
       "2021-01-01 03:00:00+00:00  68.344828      0.0   6.172414 -10.310345   \n",
       "2021-01-01 04:00:00+00:00  67.785714      0.0   6.000000 -10.178929   \n",
       "\n",
       "                           out_ultraviolet_rays  \n",
       "time                                             \n",
       "2021-01-01 00:00:00+00:00              0.000000  \n",
       "2021-01-01 01:00:00+00:00              0.003704  \n",
       "2021-01-01 02:00:00+00:00              0.003448  \n",
       "2021-01-01 03:00:00+00:00              0.000000  \n",
       "2021-01-01 04:00:00+00:00              0.060714  "
      ]
     },
     "execution_count": 10,
     "metadata": {},
     "output_type": "execute_result"
    }
   ],
   "source": [
    "data_refine.head()"
   ]
  },
  {
   "cell_type": "markdown",
   "id": "ced6edb8",
   "metadata": {},
   "source": [
    "## Data Nan -> Mean"
   ]
  },
  {
   "cell_type": "code",
   "execution_count": 11,
   "id": "d6ef88ca",
   "metadata": {},
   "outputs": [],
   "source": [
    "method = \"mean\"\n",
    "max_limit = {}\n",
    "parameter = {}\n",
    "\n",
    "data_refine_nan = BasicImputation(data_refine, method, max_limit, parameter).simpleMethod()"
   ]
  },
  {
   "cell_type": "code",
   "execution_count": 12,
   "id": "772f34c9",
   "metadata": {},
   "outputs": [
    {
     "name": "stdout",
     "output_type": "stream",
     "text": [
      "<class 'pandas.core.frame.DataFrame'>\n",
      "DatetimeIndex: 5554 entries, 2021-01-01 00:00:00+00:00 to 2021-08-20 09:00:00+00:00\n",
      "Freq: H\n",
      "Data columns (total 8 columns):\n",
      " #   Column                Non-Null Count  Dtype  \n",
      "---  ------                --------------  -----  \n",
      " 0   out_blacksphere_temp  5554 non-null   float64\n",
      " 1   out_coai              5554 non-null   float64\n",
      " 2   out_h2s               5554 non-null   float64\n",
      " 3   out_humi              5554 non-null   float64\n",
      " 4   out_nh3               5554 non-null   float64\n",
      " 5   out_pm10              5554 non-null   float64\n",
      " 6   out_temp              5554 non-null   float64\n",
      " 7   out_ultraviolet_rays  5554 non-null   float64\n",
      "dtypes: float64(8)\n",
      "memory usage: 390.5 KB\n"
     ]
    }
   ],
   "source": [
    "data_refine_nan.info()"
   ]
  },
  {
   "cell_type": "code",
   "execution_count": null,
   "id": "50de781f",
   "metadata": {},
   "outputs": [],
   "source": []
  },
  {
   "cell_type": "markdown",
   "id": "289be2d7",
   "metadata": {},
   "source": [
    "## Data Scale"
   ]
  },
  {
   "cell_type": "code",
   "execution_count": 13,
   "id": "a20dadff",
   "metadata": {},
   "outputs": [],
   "source": [
    "# set parameter\n",
    "scaler_root_dir ='./scaler/'\n",
    "\n",
    "clean_train_data_param = 'NoClean'\n",
    "\n",
    "data_name_x = \"AdaRNN_data_x\"\n",
    "feature_list_x= list(data_refine_nan.columns)\n",
    "\n",
    "split_ratio = 0.8\n",
    "scaler_param='scale'\n",
    "scale_method='minmax'"
   ]
  },
  {
   "cell_type": "code",
   "execution_count": 14,
   "id": "cce84339",
   "metadata": {},
   "outputs": [
    {
     "name": "stdout",
     "output_type": "stream",
     "text": [
      "['out_blacksphere_temp', 'out_coai', 'out_h2s', 'out_humi', 'out_nh3', 'out_pm10', 'out_temp', 'out_ultraviolet_rays']\n",
      "Make New scaler File\n"
     ]
    }
   ],
   "source": [
    "scaler_root_path_x = os.path.join(scaler_root_dir, data_name_x, clean_train_data_param)\n",
    "train_x, val_x, X_scaler_file_path = ml_data.get_train_val_data(data_refine_nan, feature_list_x, scaler_root_path_x, split_ratio, \n",
    "                                                                scaler_param, scale_method, mode = 'Classification')"
   ]
  },
  {
   "cell_type": "code",
   "execution_count": 15,
   "id": "3752ddd8",
   "metadata": {},
   "outputs": [
    {
     "data": {
      "text/plain": [
       "'./scaler/AdaRNN_data_x/NoClean/minmax/4457f465de3d0e17dd9f547db5b454b7/scaler.pkl'"
      ]
     },
     "execution_count": 15,
     "metadata": {},
     "output_type": "execute_result"
    }
   ],
   "source": [
    "X_scaler_file_path"
   ]
  },
  {
   "cell_type": "code",
   "execution_count": null,
   "id": "2e5e3f0a",
   "metadata": {},
   "outputs": [],
   "source": []
  },
  {
   "cell_type": "markdown",
   "id": "3b21fe15",
   "metadata": {},
   "source": [
    "## get Data y"
   ]
  },
  {
   "cell_type": "code",
   "execution_count": 16,
   "id": "d041fb90",
   "metadata": {
    "scrolled": true
   },
   "outputs": [
    {
     "name": "stdout",
     "output_type": "stream",
     "text": [
      "1. Original Data Lenagh: 4463\n",
      "2. Removed Data Length: 0\n",
      "3. Clean Data Leangth: 4440\n",
      "1. Original Data Lenagh: 1089\n",
      "2. Removed Data Length: 0\n",
      "3. Clean Data Leangth: 1066\n"
     ]
    }
   ],
   "source": [
    "LSTMD = LSTMData()\n",
    "train_x_arr, train_y_arr = LSTMD.transform_Xy_arr(train_x, get_y_data_transformParameter, \"NoClean\")\n",
    "valid_x_arr, valid_y_arr = LSTMD.transform_Xy_arr(val_x, get_y_data_transformParameter, \"NoClean\")"
   ]
  },
  {
   "cell_type": "code",
   "execution_count": 17,
   "id": "55a7d092",
   "metadata": {},
   "outputs": [
    {
     "data": {
      "text/plain": [
       "((4440, 24, 8), (4440, 1), (1066, 24, 8), (1066, 1))"
      ]
     },
     "execution_count": 17,
     "metadata": {},
     "output_type": "execute_result"
    }
   ],
   "source": [
    "train_x_arr.shape, train_y_arr.shape, valid_x_arr.shape, valid_y_arr.shape"
   ]
  },
  {
   "cell_type": "code",
   "execution_count": 18,
   "id": "a542192d",
   "metadata": {},
   "outputs": [],
   "source": [
    "train_y_arr = train_y_arr.reshape(train_y_arr.shape[0],)\n",
    "valid_y_arr = valid_y_arr.reshape(valid_y_arr.shape[0])"
   ]
  },
  {
   "cell_type": "code",
   "execution_count": null,
   "id": "77298a25",
   "metadata": {},
   "outputs": [],
   "source": []
  },
  {
   "cell_type": "markdown",
   "id": "af8ea6d3",
   "metadata": {},
   "source": [
    "# Data Loader"
   ]
  },
  {
   "cell_type": "code",
   "execution_count": 23,
   "id": "b17e183c",
   "metadata": {},
   "outputs": [
    {
     "name": "stdout",
     "output_type": "stream",
     "text": [
      "{'x_features': 8, 'class_num': 1, 'dropout': 0.0, 'len_seq': 24, 'loss_type': 'adv', 'hidden_size': 64, 'num_layers': 2}\n"
     ]
    }
   ],
   "source": [
    "adarnn = ada_rnn.ClustAdaRnn(param)"
   ]
  },
  {
   "cell_type": "code",
   "execution_count": 24,
   "id": "8208ccce",
   "metadata": {},
   "outputs": [],
   "source": [
    "train_loader_list, valid_loader = adarnn.create_trainloader(train_x_arr, train_y_arr, valid_x_arr, valid_y_arr, k, \n",
    "                                                            train_start_time, train_end_time)"
   ]
  },
  {
   "cell_type": "markdown",
   "id": "61198958",
   "metadata": {},
   "source": [
    "# Training"
   ]
  },
  {
   "cell_type": "code",
   "execution_count": 25,
   "id": "c2db14dd",
   "metadata": {
    "scrolled": true
   },
   "outputs": [
    {
     "name": "stdout",
     "output_type": "stream",
     "text": [
      "[2023-03-16 16:23:57] - create model...\n",
      "[2023-03-16 16:23:57] - Epoch: 0\n",
      "[2023-03-16 16:23:57] - training...\n"
     ]
    },
    {
     "name": "stderr",
     "output_type": "stream",
     "text": [
      "100%|█████████████████████████████████████████████| 2/2 [00:00<00:00,  4.49it/s]"
     ]
    },
    {
     "name": "stdout",
     "output_type": "stream",
     "text": [
      "[2023-03-16 16:23:57] - evaluating...\n"
     ]
    },
    {
     "name": "stderr",
     "output_type": "stream",
     "text": [
      "\n",
      "Valid: 100%|███████████████████████████████████| 17/17 [00:00<00:00, 641.60it/s]"
     ]
    },
    {
     "name": "stdout",
     "output_type": "stream",
     "text": [
      "[2023-03-16 16:23:57] - train 0.035244, valid MSE Loss 0.008544, valid L1 Loss 0.091269\n",
      "[2023-03-16 16:23:57] - Epoch: 1\n",
      "[2023-03-16 16:23:57] - training...\n"
     ]
    },
    {
     "name": "stderr",
     "output_type": "stream",
     "text": [
      "\n",
      "100%|█████████████████████████████████████████████| 2/2 [00:00<00:00,  9.05it/s]"
     ]
    },
    {
     "name": "stdout",
     "output_type": "stream",
     "text": [
      "[2023-03-16 16:23:58] - evaluating...\n"
     ]
    },
    {
     "name": "stderr",
     "output_type": "stream",
     "text": [
      "\n",
      "Valid: 100%|███████████████████████████████████| 17/17 [00:00<00:00, 525.47it/s]"
     ]
    },
    {
     "name": "stdout",
     "output_type": "stream",
     "text": [
      "[2023-03-16 16:23:58] - train 0.012329, valid MSE Loss 0.006162, valid L1 Loss 0.077146\n",
      "[2023-03-16 16:23:58] - Epoch: 2\n",
      "[2023-03-16 16:23:58] - training...\n"
     ]
    },
    {
     "name": "stderr",
     "output_type": "stream",
     "text": [
      "\n",
      "100%|█████████████████████████████████████████████| 2/2 [00:00<00:00, 23.45it/s]"
     ]
    },
    {
     "name": "stdout",
     "output_type": "stream",
     "text": [
      "[2023-03-16 16:23:58] - evaluating...\n"
     ]
    },
    {
     "name": "stderr",
     "output_type": "stream",
     "text": [
      "\n",
      "Valid: 100%|███████████████████████████████████| 17/17 [00:00<00:00, 563.08it/s]"
     ]
    },
    {
     "name": "stdout",
     "output_type": "stream",
     "text": [
      "[2023-03-16 16:23:58] - train 0.014677, valid MSE Loss 0.004451, valid L1 Loss 0.065185\n",
      "[2023-03-16 16:23:58] - Epoch: 3\n"
     ]
    },
    {
     "name": "stderr",
     "output_type": "stream",
     "text": [
      "\n"
     ]
    },
    {
     "name": "stdout",
     "output_type": "stream",
     "text": [
      "[2023-03-16 16:23:58] - training...\n"
     ]
    },
    {
     "name": "stderr",
     "output_type": "stream",
     "text": [
      "100%|█████████████████████████████████████████████| 2/2 [00:00<00:00, 17.18it/s]"
     ]
    },
    {
     "name": "stdout",
     "output_type": "stream",
     "text": [
      "[2023-03-16 16:23:58] - evaluating...\n"
     ]
    },
    {
     "name": "stderr",
     "output_type": "stream",
     "text": [
      "\n",
      "Valid: 100%|███████████████████████████████████| 17/17 [00:00<00:00, 618.30it/s]"
     ]
    },
    {
     "name": "stdout",
     "output_type": "stream",
     "text": [
      "[2023-03-16 16:23:58] - train 0.013254, valid MSE Loss 0.003393, valid L1 Loss 0.056588\n",
      "[2023-03-16 16:23:58] - Epoch: 4\n",
      "[2023-03-16 16:23:58] - training...\n"
     ]
    },
    {
     "name": "stderr",
     "output_type": "stream",
     "text": [
      "\n",
      "100%|█████████████████████████████████████████████| 2/2 [00:00<00:00, 18.79it/s]"
     ]
    },
    {
     "name": "stdout",
     "output_type": "stream",
     "text": [
      "[2023-03-16 16:23:58] - evaluating...\n"
     ]
    },
    {
     "name": "stderr",
     "output_type": "stream",
     "text": [
      "\n",
      "Valid: 100%|███████████████████████████████████| 17/17 [00:00<00:00, 645.07it/s]\n"
     ]
    },
    {
     "name": "stdout",
     "output_type": "stream",
     "text": [
      "[2023-03-16 16:23:58] - train 0.013899, valid MSE Loss 0.002767, valid L1 Loss 0.050830\n",
      "[2023-03-16 16:23:58] - Epoch: 5\n",
      "[2023-03-16 16:23:58] - training...\n"
     ]
    },
    {
     "name": "stderr",
     "output_type": "stream",
     "text": [
      "100%|█████████████████████████████████████████████| 2/2 [00:00<00:00, 20.38it/s]"
     ]
    },
    {
     "name": "stdout",
     "output_type": "stream",
     "text": [
      "[2023-03-16 16:23:58] - evaluating...\n"
     ]
    },
    {
     "name": "stderr",
     "output_type": "stream",
     "text": [
      "\n",
      "Valid: 100%|███████████████████████████████████| 17/17 [00:00<00:00, 670.03it/s]"
     ]
    },
    {
     "name": "stdout",
     "output_type": "stream",
     "text": [
      "[2023-03-16 16:23:58] - train 0.011989, valid MSE Loss 0.002247, valid L1 Loss 0.045528\n",
      "[2023-03-16 16:23:58] - Epoch: 6\n",
      "[2023-03-16 16:23:58] - training...\n"
     ]
    },
    {
     "name": "stderr",
     "output_type": "stream",
     "text": [
      "\n",
      "100%|█████████████████████████████████████████████| 2/2 [00:00<00:00, 19.22it/s]"
     ]
    },
    {
     "name": "stdout",
     "output_type": "stream",
     "text": [
      "[2023-03-16 16:23:58] - evaluating...\n"
     ]
    },
    {
     "name": "stderr",
     "output_type": "stream",
     "text": [
      "\n",
      "Valid: 100%|███████████████████████████████████| 17/17 [00:00<00:00, 467.34it/s]"
     ]
    },
    {
     "name": "stdout",
     "output_type": "stream",
     "text": [
      "[2023-03-16 16:23:58] - train 0.009796, valid MSE Loss 0.001686, valid L1 Loss 0.039004\n"
     ]
    },
    {
     "name": "stderr",
     "output_type": "stream",
     "text": [
      "\n"
     ]
    },
    {
     "name": "stdout",
     "output_type": "stream",
     "text": [
      "[2023-03-16 16:23:58] - Epoch: 7\n",
      "[2023-03-16 16:23:58] - training...\n"
     ]
    },
    {
     "name": "stderr",
     "output_type": "stream",
     "text": [
      "100%|█████████████████████████████████████████████| 2/2 [00:00<00:00, 21.35it/s]"
     ]
    },
    {
     "name": "stdout",
     "output_type": "stream",
     "text": [
      "[2023-03-16 16:23:58] - evaluating...\n"
     ]
    },
    {
     "name": "stderr",
     "output_type": "stream",
     "text": [
      "\n",
      "Valid: 100%|███████████████████████████████████| 17/17 [00:00<00:00, 681.28it/s]"
     ]
    },
    {
     "name": "stdout",
     "output_type": "stream",
     "text": [
      "[2023-03-16 16:23:59] - train 0.009576, valid MSE Loss 0.001182, valid L1 Loss 0.032210\n"
     ]
    },
    {
     "name": "stderr",
     "output_type": "stream",
     "text": [
      "\n"
     ]
    },
    {
     "name": "stdout",
     "output_type": "stream",
     "text": [
      "[2023-03-16 16:23:59] - Epoch: 8\n",
      "[2023-03-16 16:23:59] - training...\n"
     ]
    },
    {
     "name": "stderr",
     "output_type": "stream",
     "text": [
      "100%|█████████████████████████████████████████████| 2/2 [00:00<00:00, 21.05it/s]"
     ]
    },
    {
     "name": "stdout",
     "output_type": "stream",
     "text": [
      "[2023-03-16 16:23:59] - evaluating...\n"
     ]
    },
    {
     "name": "stderr",
     "output_type": "stream",
     "text": [
      "\n",
      "Valid: 100%|███████████████████████████████████| 17/17 [00:00<00:00, 653.76it/s]"
     ]
    },
    {
     "name": "stdout",
     "output_type": "stream",
     "text": [
      "[2023-03-16 16:23:59] - train 0.008651, valid MSE Loss 0.000820, valid L1 Loss 0.026460\n",
      "[2023-03-16 16:23:59] - Epoch: 9\n",
      "[2023-03-16 16:23:59] - training...\n"
     ]
    },
    {
     "name": "stderr",
     "output_type": "stream",
     "text": [
      "\n",
      "100%|█████████████████████████████████████████████| 2/2 [00:00<00:00, 18.46it/s]"
     ]
    },
    {
     "name": "stdout",
     "output_type": "stream",
     "text": [
      "[2023-03-16 16:23:59] - evaluating...\n"
     ]
    },
    {
     "name": "stderr",
     "output_type": "stream",
     "text": [
      "\n",
      "Valid: 100%|███████████████████████████████████| 17/17 [00:00<00:00, 481.36it/s]\n"
     ]
    },
    {
     "name": "stdout",
     "output_type": "stream",
     "text": [
      "[2023-03-16 16:23:59] - train 0.008661, valid MSE Loss 0.000546, valid L1 Loss 0.021239\n",
      "[2023-03-16 16:23:59] - Epoch: 10\n",
      "[2023-03-16 16:23:59] - training...\n"
     ]
    },
    {
     "name": "stderr",
     "output_type": "stream",
     "text": [
      "100%|█████████████████████████████████████████████| 2/2 [00:00<00:00, 16.14it/s]"
     ]
    },
    {
     "name": "stdout",
     "output_type": "stream",
     "text": [
      "[2023-03-16 16:23:59] - evaluating...\n"
     ]
    },
    {
     "name": "stderr",
     "output_type": "stream",
     "text": [
      "\n",
      "Valid: 100%|███████████████████████████████████| 17/17 [00:00<00:00, 554.56it/s]"
     ]
    },
    {
     "name": "stdout",
     "output_type": "stream",
     "text": [
      "[2023-03-16 16:23:59] - train 0.008574, valid MSE Loss 0.000391, valid L1 Loss 0.017529\n",
      "[2023-03-16 16:23:59] - Epoch: 11\n",
      "[2023-03-16 16:23:59] - training...\n"
     ]
    },
    {
     "name": "stderr",
     "output_type": "stream",
     "text": [
      "\n",
      "100%|█████████████████████████████████████████████| 2/2 [00:00<00:00, 21.34it/s]"
     ]
    },
    {
     "name": "stdout",
     "output_type": "stream",
     "text": [
      "[2023-03-16 16:23:59] - evaluating...\n"
     ]
    },
    {
     "name": "stderr",
     "output_type": "stream",
     "text": [
      "\n",
      "Valid: 100%|███████████████████████████████████| 17/17 [00:00<00:00, 707.75it/s]"
     ]
    },
    {
     "name": "stdout",
     "output_type": "stream",
     "text": [
      "[2023-03-16 16:23:59] - train 0.008041, valid MSE Loss 0.000301, valid L1 Loss 0.014877\n",
      "[2023-03-16 16:23:59] - Epoch: 12\n",
      "[2023-03-16 16:23:59] - training...\n"
     ]
    },
    {
     "name": "stderr",
     "output_type": "stream",
     "text": [
      "\n",
      "100%|█████████████████████████████████████████████| 2/2 [00:00<00:00, 20.28it/s]"
     ]
    },
    {
     "name": "stdout",
     "output_type": "stream",
     "text": [
      "[2023-03-16 16:23:59] - evaluating...\n"
     ]
    },
    {
     "name": "stderr",
     "output_type": "stream",
     "text": [
      "\n",
      "Valid: 100%|███████████████████████████████████| 17/17 [00:00<00:00, 604.11it/s]"
     ]
    },
    {
     "name": "stdout",
     "output_type": "stream",
     "text": [
      "[2023-03-16 16:23:59] - train 0.006052, valid MSE Loss 0.000251, valid L1 Loss 0.013029\n",
      "[2023-03-16 16:23:59] - Epoch: 13\n",
      "[2023-03-16 16:23:59] - training...\n"
     ]
    },
    {
     "name": "stderr",
     "output_type": "stream",
     "text": [
      "\n",
      "100%|█████████████████████████████████████████████| 2/2 [00:00<00:00, 22.20it/s]"
     ]
    },
    {
     "name": "stdout",
     "output_type": "stream",
     "text": [
      "[2023-03-16 16:23:59] - evaluating...\n"
     ]
    },
    {
     "name": "stderr",
     "output_type": "stream",
     "text": [
      "\n",
      "Valid: 100%|███████████████████████████████████| 17/17 [00:00<00:00, 557.63it/s]"
     ]
    },
    {
     "name": "stdout",
     "output_type": "stream",
     "text": [
      "[2023-03-16 16:23:59] - train 0.008823, valid MSE Loss 0.000222, valid L1 Loss 0.011605\n",
      "[2023-03-16 16:23:59] - Epoch: 14\n",
      "[2023-03-16 16:23:59] - training...\n"
     ]
    },
    {
     "name": "stderr",
     "output_type": "stream",
     "text": [
      "\n",
      "100%|█████████████████████████████████████████████| 2/2 [00:00<00:00, 16.72it/s]"
     ]
    },
    {
     "name": "stdout",
     "output_type": "stream",
     "text": [
      "[2023-03-16 16:24:00] - evaluating...\n"
     ]
    },
    {
     "name": "stderr",
     "output_type": "stream",
     "text": [
      "\n",
      "Valid: 100%|███████████████████████████████████| 17/17 [00:00<00:00, 596.91it/s]"
     ]
    },
    {
     "name": "stdout",
     "output_type": "stream",
     "text": [
      "[2023-03-16 16:24:00] - train 0.007496, valid MSE Loss 0.000209, valid L1 Loss 0.010651\n",
      "[2023-03-16 16:24:00] - Epoch: 15\n",
      "[2023-03-16 16:24:00] - training...\n"
     ]
    },
    {
     "name": "stderr",
     "output_type": "stream",
     "text": [
      "\n",
      "100%|█████████████████████████████████████████████| 2/2 [00:00<00:00, 17.34it/s]"
     ]
    },
    {
     "name": "stdout",
     "output_type": "stream",
     "text": [
      "[2023-03-16 16:24:00] - evaluating...\n"
     ]
    },
    {
     "name": "stderr",
     "output_type": "stream",
     "text": [
      "\n",
      "Valid: 100%|███████████████████████████████████| 17/17 [00:00<00:00, 523.98it/s]"
     ]
    },
    {
     "name": "stdout",
     "output_type": "stream",
     "text": [
      "[2023-03-16 16:24:00] - train 0.006616, valid MSE Loss 0.000222, valid L1 Loss 0.010369\n",
      "[2023-03-16 16:24:00] - Epoch: 16\n",
      "[2023-03-16 16:24:00] - training...\n"
     ]
    },
    {
     "name": "stderr",
     "output_type": "stream",
     "text": [
      "\n",
      "100%|█████████████████████████████████████████████| 2/2 [00:00<00:00, 21.47it/s]"
     ]
    },
    {
     "name": "stdout",
     "output_type": "stream",
     "text": [
      "[2023-03-16 16:24:00] - evaluating...\n"
     ]
    },
    {
     "name": "stderr",
     "output_type": "stream",
     "text": [
      "\n",
      "Valid: 100%|███████████████████████████████████| 17/17 [00:00<00:00, 701.12it/s]"
     ]
    },
    {
     "name": "stdout",
     "output_type": "stream",
     "text": [
      "[2023-03-16 16:24:00] - train 0.005935, valid MSE Loss 0.000241, valid L1 Loss 0.010606\n",
      "[2023-03-16 16:24:00] - Epoch: 17\n",
      "[2023-03-16 16:24:00] - training...\n"
     ]
    },
    {
     "name": "stderr",
     "output_type": "stream",
     "text": [
      "\n",
      "100%|█████████████████████████████████████████████| 2/2 [00:00<00:00, 20.77it/s]"
     ]
    },
    {
     "name": "stdout",
     "output_type": "stream",
     "text": [
      "[2023-03-16 16:24:00] - evaluating...\n"
     ]
    },
    {
     "name": "stderr",
     "output_type": "stream",
     "text": [
      "\n",
      "Valid: 100%|███████████████████████████████████| 17/17 [00:00<00:00, 658.59it/s]"
     ]
    },
    {
     "name": "stdout",
     "output_type": "stream",
     "text": [
      "[2023-03-16 16:24:00] - train 0.006112, valid MSE Loss 0.000256, valid L1 Loss 0.010912\n",
      "[2023-03-16 16:24:00] - Epoch: 18\n",
      "[2023-03-16 16:24:00] - training...\n"
     ]
    },
    {
     "name": "stderr",
     "output_type": "stream",
     "text": [
      "\n",
      "100%|█████████████████████████████████████████████| 2/2 [00:00<00:00, 20.69it/s]"
     ]
    },
    {
     "name": "stdout",
     "output_type": "stream",
     "text": [
      "[2023-03-16 16:24:00] - evaluating...\n"
     ]
    },
    {
     "name": "stderr",
     "output_type": "stream",
     "text": [
      "\n",
      "Valid: 100%|███████████████████████████████████| 17/17 [00:00<00:00, 677.58it/s]"
     ]
    },
    {
     "name": "stdout",
     "output_type": "stream",
     "text": [
      "[2023-03-16 16:24:00] - train 0.006527, valid MSE Loss 0.000258, valid L1 Loss 0.010928\n",
      "[2023-03-16 16:24:00] - Epoch: 19\n",
      "[2023-03-16 16:24:00] - training...\n"
     ]
    },
    {
     "name": "stderr",
     "output_type": "stream",
     "text": [
      "\n",
      "100%|█████████████████████████████████████████████| 2/2 [00:00<00:00, 22.73it/s]"
     ]
    },
    {
     "name": "stdout",
     "output_type": "stream",
     "text": [
      "[2023-03-16 16:24:00] - evaluating...\n"
     ]
    },
    {
     "name": "stderr",
     "output_type": "stream",
     "text": [
      "\n",
      "Valid: 100%|███████████████████████████████████| 17/17 [00:00<00:00, 672.33it/s]"
     ]
    },
    {
     "name": "stdout",
     "output_type": "stream",
     "text": [
      "[2023-03-16 16:24:00] - train 0.006162, valid MSE Loss 0.000260, valid L1 Loss 0.011001\n",
      "[2023-03-16 16:24:00] - Epoch: 20\n",
      "[2023-03-16 16:24:00] - training...\n"
     ]
    },
    {
     "name": "stderr",
     "output_type": "stream",
     "text": [
      "\n",
      "100%|█████████████████████████████████████████████| 2/2 [00:00<00:00, 22.74it/s]"
     ]
    },
    {
     "name": "stdout",
     "output_type": "stream",
     "text": [
      "[2023-03-16 16:24:00] - evaluating...\n"
     ]
    },
    {
     "name": "stderr",
     "output_type": "stream",
     "text": [
      "\n",
      "Valid: 100%|███████████████████████████████████| 17/17 [00:00<00:00, 682.05it/s]"
     ]
    },
    {
     "name": "stdout",
     "output_type": "stream",
     "text": [
      "[2023-03-16 16:24:00] - train 0.006307, valid MSE Loss 0.000292, valid L1 Loss 0.011712\n",
      "[2023-03-16 16:24:00] - Epoch: 21\n",
      "[2023-03-16 16:24:00] - training...\n"
     ]
    },
    {
     "name": "stderr",
     "output_type": "stream",
     "text": [
      "\n",
      "100%|█████████████████████████████████████████████| 2/2 [00:00<00:00, 21.10it/s]"
     ]
    },
    {
     "name": "stdout",
     "output_type": "stream",
     "text": [
      "[2023-03-16 16:24:01] - evaluating...\n"
     ]
    },
    {
     "name": "stderr",
     "output_type": "stream",
     "text": [
      "\n",
      "Valid: 100%|███████████████████████████████████| 17/17 [00:00<00:00, 605.04it/s]"
     ]
    },
    {
     "name": "stdout",
     "output_type": "stream",
     "text": [
      "[2023-03-16 16:24:01] - train 0.006132, valid MSE Loss 0.000322, valid L1 Loss 0.012520\n",
      "[2023-03-16 16:24:01] - Epoch: 22\n",
      "[2023-03-16 16:24:01] - training...\n"
     ]
    },
    {
     "name": "stderr",
     "output_type": "stream",
     "text": [
      "\n",
      "100%|█████████████████████████████████████████████| 2/2 [00:00<00:00, 21.14it/s]"
     ]
    },
    {
     "name": "stdout",
     "output_type": "stream",
     "text": [
      "[2023-03-16 16:24:01] - evaluating...\n"
     ]
    },
    {
     "name": "stderr",
     "output_type": "stream",
     "text": [
      "\n",
      "Valid: 100%|███████████████████████████████████| 17/17 [00:00<00:00, 670.62it/s]"
     ]
    },
    {
     "name": "stdout",
     "output_type": "stream",
     "text": [
      "[2023-03-16 16:24:01] - train 0.006252, valid MSE Loss 0.000340, valid L1 Loss 0.012949\n",
      "[2023-03-16 16:24:01] - Epoch: 23\n",
      "[2023-03-16 16:24:01] - training...\n"
     ]
    },
    {
     "name": "stderr",
     "output_type": "stream",
     "text": [
      "\n",
      "100%|█████████████████████████████████████████████| 2/2 [00:00<00:00, 22.45it/s]"
     ]
    },
    {
     "name": "stdout",
     "output_type": "stream",
     "text": [
      "[2023-03-16 16:24:01] - evaluating...\n"
     ]
    },
    {
     "name": "stderr",
     "output_type": "stream",
     "text": [
      "\n",
      "Valid: 100%|███████████████████████████████████| 17/17 [00:00<00:00, 611.66it/s]"
     ]
    },
    {
     "name": "stdout",
     "output_type": "stream",
     "text": [
      "[2023-03-16 16:24:01] - train 0.005604, valid MSE Loss 0.000344, valid L1 Loss 0.013081\n",
      "[2023-03-16 16:24:01] - Epoch: 24\n",
      "[2023-03-16 16:24:01] - training...\n"
     ]
    },
    {
     "name": "stderr",
     "output_type": "stream",
     "text": [
      "\n",
      "100%|█████████████████████████████████████████████| 2/2 [00:00<00:00, 20.88it/s]"
     ]
    },
    {
     "name": "stdout",
     "output_type": "stream",
     "text": [
      "[2023-03-16 16:24:01] - evaluating...\n"
     ]
    },
    {
     "name": "stderr",
     "output_type": "stream",
     "text": [
      "\n",
      "Valid: 100%|███████████████████████████████████| 17/17 [00:00<00:00, 584.12it/s]"
     ]
    },
    {
     "name": "stdout",
     "output_type": "stream",
     "text": [
      "[2023-03-16 16:24:01] - train 0.006360, valid MSE Loss 0.000344, valid L1 Loss 0.013079\n",
      "[2023-03-16 16:24:01] - Epoch: 25\n",
      "[2023-03-16 16:24:01] - training...\n"
     ]
    },
    {
     "name": "stderr",
     "output_type": "stream",
     "text": [
      "\n",
      "100%|█████████████████████████████████████████████| 2/2 [00:00<00:00, 21.59it/s]"
     ]
    },
    {
     "name": "stdout",
     "output_type": "stream",
     "text": [
      "[2023-03-16 16:24:01] - evaluating...\n"
     ]
    },
    {
     "name": "stderr",
     "output_type": "stream",
     "text": [
      "\n",
      "Valid: 100%|███████████████████████████████████| 17/17 [00:00<00:00, 524.98it/s]"
     ]
    },
    {
     "name": "stdout",
     "output_type": "stream",
     "text": [
      "[2023-03-16 16:24:01] - train 0.005083, valid MSE Loss 0.000328, valid L1 Loss 0.012674\n",
      "[2023-03-16 16:24:01] - Epoch: 26\n",
      "[2023-03-16 16:24:01] - training...\n"
     ]
    },
    {
     "name": "stderr",
     "output_type": "stream",
     "text": [
      "\n",
      "100%|█████████████████████████████████████████████| 2/2 [00:00<00:00, 15.96it/s]"
     ]
    },
    {
     "name": "stdout",
     "output_type": "stream",
     "text": [
      "[2023-03-16 16:24:01] - evaluating...\n"
     ]
    },
    {
     "name": "stderr",
     "output_type": "stream",
     "text": [
      "\n",
      "Valid: 100%|███████████████████████████████████| 17/17 [00:00<00:00, 882.76it/s]"
     ]
    },
    {
     "name": "stdout",
     "output_type": "stream",
     "text": [
      "[2023-03-16 16:24:01] - train 0.006107, valid MSE Loss 0.000327, valid L1 Loss 0.012636\n",
      "[2023-03-16 16:24:01] - Epoch: 27\n",
      "[2023-03-16 16:24:01] - training...\n"
     ]
    },
    {
     "name": "stderr",
     "output_type": "stream",
     "text": [
      "\n",
      "100%|█████████████████████████████████████████████| 2/2 [00:00<00:00, 21.16it/s]"
     ]
    },
    {
     "name": "stdout",
     "output_type": "stream",
     "text": [
      "[2023-03-16 16:24:01] - evaluating...\n"
     ]
    },
    {
     "name": "stderr",
     "output_type": "stream",
     "text": [
      "\n",
      "Valid: 100%|███████████████████████████████████| 17/17 [00:00<00:00, 650.77it/s]"
     ]
    },
    {
     "name": "stdout",
     "output_type": "stream",
     "text": [
      "[2023-03-16 16:24:01] - train 0.005043, valid MSE Loss 0.000322, valid L1 Loss 0.012527\n",
      "[2023-03-16 16:24:01] - Epoch: 28\n",
      "[2023-03-16 16:24:01] - training...\n"
     ]
    },
    {
     "name": "stderr",
     "output_type": "stream",
     "text": [
      "\n",
      "100%|█████████████████████████████████████████████| 2/2 [00:00<00:00, 25.29it/s]"
     ]
    },
    {
     "name": "stdout",
     "output_type": "stream",
     "text": [
      "[2023-03-16 16:24:02] - evaluating...\n"
     ]
    },
    {
     "name": "stderr",
     "output_type": "stream",
     "text": [
      "\n",
      "Valid: 100%|███████████████████████████████████| 17/17 [00:00<00:00, 596.18it/s]"
     ]
    },
    {
     "name": "stdout",
     "output_type": "stream",
     "text": [
      "[2023-03-16 16:24:02] - train 0.006042, valid MSE Loss 0.000328, valid L1 Loss 0.012718\n",
      "[2023-03-16 16:24:02] - Epoch: 29\n",
      "[2023-03-16 16:24:02] - training...\n"
     ]
    },
    {
     "name": "stderr",
     "output_type": "stream",
     "text": [
      "\n",
      "100%|█████████████████████████████████████████████| 2/2 [00:00<00:00, 25.30it/s]"
     ]
    },
    {
     "name": "stdout",
     "output_type": "stream",
     "text": [
      "[2023-03-16 16:24:02] - evaluating...\n"
     ]
    },
    {
     "name": "stderr",
     "output_type": "stream",
     "text": [
      "\n",
      "Valid: 100%|███████████████████████████████████| 17/17 [00:00<00:00, 574.14it/s]"
     ]
    },
    {
     "name": "stdout",
     "output_type": "stream",
     "text": [
      "[2023-03-16 16:24:02] - train 0.004644, valid MSE Loss 0.000353, valid L1 Loss 0.013371\n",
      "[2023-03-16 16:24:02] - Epoch: 30\n",
      "[2023-03-16 16:24:02] - training...\n"
     ]
    },
    {
     "name": "stderr",
     "output_type": "stream",
     "text": [
      "\n",
      "100%|█████████████████████████████████████████████| 2/2 [00:00<00:00, 23.38it/s]"
     ]
    },
    {
     "name": "stdout",
     "output_type": "stream",
     "text": [
      "[2023-03-16 16:24:02] - evaluating...\n"
     ]
    },
    {
     "name": "stderr",
     "output_type": "stream",
     "text": [
      "\n",
      "Valid: 100%|███████████████████████████████████| 17/17 [00:00<00:00, 700.42it/s]"
     ]
    },
    {
     "name": "stdout",
     "output_type": "stream",
     "text": [
      "[2023-03-16 16:24:02] - train 0.004424, valid MSE Loss 0.000387, valid L1 Loss 0.014281\n",
      "[2023-03-16 16:24:02] - Epoch: 31\n",
      "[2023-03-16 16:24:02] - training...\n"
     ]
    },
    {
     "name": "stderr",
     "output_type": "stream",
     "text": [
      "\n",
      "100%|█████████████████████████████████████████████| 2/2 [00:00<00:00, 18.35it/s]"
     ]
    },
    {
     "name": "stdout",
     "output_type": "stream",
     "text": [
      "[2023-03-16 16:24:02] - evaluating...\n"
     ]
    },
    {
     "name": "stderr",
     "output_type": "stream",
     "text": [
      "\n",
      "Valid: 100%|███████████████████████████████████| 17/17 [00:00<00:00, 566.37it/s]"
     ]
    },
    {
     "name": "stdout",
     "output_type": "stream",
     "text": [
      "[2023-03-16 16:24:02] - train 0.006184, valid MSE Loss 0.000428, valid L1 Loss 0.015266\n",
      "[2023-03-16 16:24:02] - Epoch: 32\n",
      "[2023-03-16 16:24:02] - training...\n"
     ]
    },
    {
     "name": "stderr",
     "output_type": "stream",
     "text": [
      "\n",
      "100%|█████████████████████████████████████████████| 2/2 [00:00<00:00, 24.43it/s]"
     ]
    },
    {
     "name": "stdout",
     "output_type": "stream",
     "text": [
      "[2023-03-16 16:24:02] - evaluating...\n"
     ]
    },
    {
     "name": "stderr",
     "output_type": "stream",
     "text": [
      "\n",
      "Valid: 100%|███████████████████████████████████| 17/17 [00:00<00:00, 473.78it/s]"
     ]
    },
    {
     "name": "stdout",
     "output_type": "stream",
     "text": [
      "[2023-03-16 16:24:02] - train 0.005367, valid MSE Loss 0.000457, valid L1 Loss 0.016154\n",
      "[2023-03-16 16:24:02] - Epoch: 33\n",
      "[2023-03-16 16:24:02] - training...\n"
     ]
    },
    {
     "name": "stderr",
     "output_type": "stream",
     "text": [
      "\n",
      "100%|█████████████████████████████████████████████| 2/2 [00:00<00:00, 20.71it/s]"
     ]
    },
    {
     "name": "stdout",
     "output_type": "stream",
     "text": [
      "[2023-03-16 16:24:02] - evaluating...\n"
     ]
    },
    {
     "name": "stderr",
     "output_type": "stream",
     "text": [
      "\n",
      "Valid: 100%|███████████████████████████████████| 17/17 [00:00<00:00, 772.86it/s]"
     ]
    },
    {
     "name": "stdout",
     "output_type": "stream",
     "text": [
      "[2023-03-16 16:24:02] - train 0.005373, valid MSE Loss 0.000505, valid L1 Loss 0.017368\n",
      "[2023-03-16 16:24:02] - Epoch: 34\n",
      "[2023-03-16 16:24:02] - training...\n"
     ]
    },
    {
     "name": "stderr",
     "output_type": "stream",
     "text": [
      "\n",
      "100%|█████████████████████████████████████████████| 2/2 [00:00<00:00, 19.08it/s]"
     ]
    },
    {
     "name": "stdout",
     "output_type": "stream",
     "text": [
      "[2023-03-16 16:24:02] - evaluating...\n"
     ]
    },
    {
     "name": "stderr",
     "output_type": "stream",
     "text": [
      "\n",
      "Valid: 100%|███████████████████████████████████| 17/17 [00:00<00:00, 477.64it/s]"
     ]
    },
    {
     "name": "stdout",
     "output_type": "stream",
     "text": [
      "[2023-03-16 16:24:02] - train 0.004762, valid MSE Loss 0.000517, valid L1 Loss 0.017776\n",
      "[2023-03-16 16:24:02] - Epoch: 35\n",
      "[2023-03-16 16:24:02] - training...\n"
     ]
    },
    {
     "name": "stderr",
     "output_type": "stream",
     "text": [
      "\n",
      "100%|█████████████████████████████████████████████| 2/2 [00:00<00:00, 21.77it/s]"
     ]
    },
    {
     "name": "stdout",
     "output_type": "stream",
     "text": [
      "[2023-03-16 16:24:03] - evaluating...\n"
     ]
    },
    {
     "name": "stderr",
     "output_type": "stream",
     "text": [
      "\n",
      "Valid: 100%|███████████████████████████████████| 17/17 [00:00<00:00, 612.49it/s]"
     ]
    },
    {
     "name": "stdout",
     "output_type": "stream",
     "text": [
      "[2023-03-16 16:24:03] - train 0.004811, valid MSE Loss 0.000513, valid L1 Loss 0.017703\n",
      "[2023-03-16 16:24:03] - Epoch: 36\n",
      "[2023-03-16 16:24:03] - training...\n"
     ]
    },
    {
     "name": "stderr",
     "output_type": "stream",
     "text": [
      "\n",
      "100%|█████████████████████████████████████████████| 2/2 [00:00<00:00, 25.87it/s]"
     ]
    },
    {
     "name": "stdout",
     "output_type": "stream",
     "text": [
      "[2023-03-16 16:24:03] - evaluating...\n"
     ]
    },
    {
     "name": "stderr",
     "output_type": "stream",
     "text": [
      "\n",
      "Valid: 100%|███████████████████████████████████| 17/17 [00:00<00:00, 737.93it/s]"
     ]
    },
    {
     "name": "stdout",
     "output_type": "stream",
     "text": [
      "[2023-03-16 16:24:03] - train 0.004317, valid MSE Loss 0.000478, valid L1 Loss 0.016737\n",
      "[2023-03-16 16:24:03] - Epoch: 37\n",
      "[2023-03-16 16:24:03] - training...\n"
     ]
    },
    {
     "name": "stderr",
     "output_type": "stream",
     "text": [
      "\n",
      "100%|█████████████████████████████████████████████| 2/2 [00:00<00:00, 21.88it/s]"
     ]
    },
    {
     "name": "stdout",
     "output_type": "stream",
     "text": [
      "[2023-03-16 16:24:03] - evaluating...\n"
     ]
    },
    {
     "name": "stderr",
     "output_type": "stream",
     "text": [
      "\n",
      "Valid: 100%|███████████████████████████████████| 17/17 [00:00<00:00, 666.44it/s]"
     ]
    },
    {
     "name": "stdout",
     "output_type": "stream",
     "text": [
      "[2023-03-16 16:24:03] - train 0.004955, valid MSE Loss 0.000449, valid L1 Loss 0.016003\n",
      "[2023-03-16 16:24:03] - Epoch: 38\n",
      "[2023-03-16 16:24:03] - training...\n"
     ]
    },
    {
     "name": "stderr",
     "output_type": "stream",
     "text": [
      "\n",
      "100%|█████████████████████████████████████████████| 2/2 [00:00<00:00, 20.10it/s]"
     ]
    },
    {
     "name": "stdout",
     "output_type": "stream",
     "text": [
      "[2023-03-16 16:24:03] - evaluating...\n"
     ]
    },
    {
     "name": "stderr",
     "output_type": "stream",
     "text": [
      "\n",
      "Valid: 100%|███████████████████████████████████| 17/17 [00:00<00:00, 774.34it/s]"
     ]
    },
    {
     "name": "stdout",
     "output_type": "stream",
     "text": [
      "[2023-03-16 16:24:03] - train 0.004968, valid MSE Loss 0.000421, valid L1 Loss 0.015240\n",
      "[2023-03-16 16:24:03] - Epoch: 39\n",
      "[2023-03-16 16:24:03] - training...\n"
     ]
    },
    {
     "name": "stderr",
     "output_type": "stream",
     "text": [
      "\n",
      "100%|█████████████████████████████████████████████| 2/2 [00:00<00:00, 24.73it/s]"
     ]
    },
    {
     "name": "stdout",
     "output_type": "stream",
     "text": [
      "[2023-03-16 16:24:03] - evaluating...\n"
     ]
    },
    {
     "name": "stderr",
     "output_type": "stream",
     "text": [
      "\n",
      "Valid: 100%|███████████████████████████████████| 17/17 [00:00<00:00, 700.07it/s]"
     ]
    },
    {
     "name": "stdout",
     "output_type": "stream",
     "text": [
      "[2023-03-16 16:24:03] - train 0.005574, valid MSE Loss 0.000399, valid L1 Loss 0.014615\n",
      "[2023-03-16 16:24:03] - Epoch: 40\n",
      "[2023-03-16 16:24:03] - training...\n"
     ]
    },
    {
     "name": "stderr",
     "output_type": "stream",
     "text": [
      "\n",
      "100%|█████████████████████████████████████████████| 2/2 [00:00<00:00, 20.53it/s]"
     ]
    },
    {
     "name": "stdout",
     "output_type": "stream",
     "text": [
      "[2023-03-16 16:24:03] - evaluating...\n"
     ]
    },
    {
     "name": "stderr",
     "output_type": "stream",
     "text": [
      "\n",
      "Valid: 100%|███████████████████████████████████| 17/17 [00:00<00:00, 455.33it/s]"
     ]
    },
    {
     "name": "stdout",
     "output_type": "stream",
     "text": [
      "[2023-03-16 16:24:03] - train 0.004710, valid MSE Loss 0.000409, valid L1 Loss 0.014872\n",
      "[2023-03-16 16:24:03] - Epoch: 41\n",
      "[2023-03-16 16:24:03] - training...\n"
     ]
    },
    {
     "name": "stderr",
     "output_type": "stream",
     "text": [
      "\n",
      "100%|█████████████████████████████████████████████| 2/2 [00:00<00:00, 21.24it/s]"
     ]
    },
    {
     "name": "stdout",
     "output_type": "stream",
     "text": [
      "[2023-03-16 16:24:03] - evaluating...\n"
     ]
    },
    {
     "name": "stderr",
     "output_type": "stream",
     "text": [
      "\n",
      "Valid: 100%|███████████████████████████████████| 17/17 [00:00<00:00, 499.45it/s]"
     ]
    },
    {
     "name": "stdout",
     "output_type": "stream",
     "text": [
      "[2023-03-16 16:24:03] - train 0.005202, valid MSE Loss 0.000404, valid L1 Loss 0.014757\n",
      "[2023-03-16 16:24:03] - Epoch: 42\n",
      "[2023-03-16 16:24:03] - training...\n"
     ]
    },
    {
     "name": "stderr",
     "output_type": "stream",
     "text": [
      "\n",
      "100%|█████████████████████████████████████████████| 2/2 [00:00<00:00, 22.54it/s]"
     ]
    },
    {
     "name": "stdout",
     "output_type": "stream",
     "text": [
      "[2023-03-16 16:24:04] - evaluating...\n"
     ]
    },
    {
     "name": "stderr",
     "output_type": "stream",
     "text": [
      "\n",
      "Valid: 100%|███████████████████████████████████| 17/17 [00:00<00:00, 742.15it/s]"
     ]
    },
    {
     "name": "stdout",
     "output_type": "stream",
     "text": [
      "[2023-03-16 16:24:04] - train 0.004523, valid MSE Loss 0.000400, valid L1 Loss 0.014689\n",
      "[2023-03-16 16:24:04] - Epoch: 43\n",
      "[2023-03-16 16:24:04] - training...\n"
     ]
    },
    {
     "name": "stderr",
     "output_type": "stream",
     "text": [
      "\n",
      "100%|█████████████████████████████████████████████| 2/2 [00:00<00:00, 25.38it/s]"
     ]
    },
    {
     "name": "stdout",
     "output_type": "stream",
     "text": [
      "[2023-03-16 16:24:04] - evaluating...\n"
     ]
    },
    {
     "name": "stderr",
     "output_type": "stream",
     "text": [
      "\n",
      "Valid: 100%|███████████████████████████████████| 17/17 [00:00<00:00, 467.55it/s]"
     ]
    },
    {
     "name": "stdout",
     "output_type": "stream",
     "text": [
      "[2023-03-16 16:24:04] - train 0.004765, valid MSE Loss 0.000426, valid L1 Loss 0.015386\n",
      "[2023-03-16 16:24:04] - Epoch: 44\n",
      "[2023-03-16 16:24:04] - training...\n"
     ]
    },
    {
     "name": "stderr",
     "output_type": "stream",
     "text": [
      "\n",
      "100%|█████████████████████████████████████████████| 2/2 [00:00<00:00, 20.10it/s]"
     ]
    },
    {
     "name": "stdout",
     "output_type": "stream",
     "text": [
      "[2023-03-16 16:24:04] - evaluating...\n"
     ]
    },
    {
     "name": "stderr",
     "output_type": "stream",
     "text": [
      "\n",
      "Valid: 100%|███████████████████████████████████| 17/17 [00:00<00:00, 458.15it/s]"
     ]
    },
    {
     "name": "stdout",
     "output_type": "stream",
     "text": [
      "[2023-03-16 16:24:04] - train 0.005296, valid MSE Loss 0.000405, valid L1 Loss 0.014815\n",
      "[2023-03-16 16:24:04] - Epoch: 45\n",
      "[2023-03-16 16:24:04] - training...\n"
     ]
    },
    {
     "name": "stderr",
     "output_type": "stream",
     "text": [
      "\n",
      "100%|█████████████████████████████████████████████| 2/2 [00:00<00:00, 21.85it/s]"
     ]
    },
    {
     "name": "stdout",
     "output_type": "stream",
     "text": [
      "[2023-03-16 16:24:04] - evaluating...\n"
     ]
    },
    {
     "name": "stderr",
     "output_type": "stream",
     "text": [
      "\n",
      "Valid: 100%|███████████████████████████████████| 17/17 [00:00<00:00, 708.39it/s]"
     ]
    },
    {
     "name": "stdout",
     "output_type": "stream",
     "text": [
      "[2023-03-16 16:24:04] - train 0.004841, valid MSE Loss 0.000377, valid L1 Loss 0.014050\n",
      "[2023-03-16 16:24:04] - Epoch: 46\n",
      "[2023-03-16 16:24:04] - training...\n"
     ]
    },
    {
     "name": "stderr",
     "output_type": "stream",
     "text": [
      "\n",
      "100%|█████████████████████████████████████████████| 2/2 [00:00<00:00, 24.72it/s]"
     ]
    },
    {
     "name": "stdout",
     "output_type": "stream",
     "text": [
      "[2023-03-16 16:24:04] - evaluating...\n"
     ]
    },
    {
     "name": "stderr",
     "output_type": "stream",
     "text": [
      "\n",
      "Valid: 100%|███████████████████████████████████| 17/17 [00:00<00:00, 486.67it/s]"
     ]
    },
    {
     "name": "stdout",
     "output_type": "stream",
     "text": [
      "[2023-03-16 16:24:04] - train 0.004254, valid MSE Loss 0.000346, valid L1 Loss 0.013284\n",
      "[2023-03-16 16:24:04] - Epoch: 47\n",
      "[2023-03-16 16:24:04] - training...\n"
     ]
    },
    {
     "name": "stderr",
     "output_type": "stream",
     "text": [
      "\n",
      "100%|█████████████████████████████████████████████| 2/2 [00:00<00:00, 24.04it/s]"
     ]
    },
    {
     "name": "stdout",
     "output_type": "stream",
     "text": [
      "[2023-03-16 16:24:04] - evaluating...\n"
     ]
    },
    {
     "name": "stderr",
     "output_type": "stream",
     "text": [
      "\n",
      "Valid: 100%|███████████████████████████████████| 17/17 [00:00<00:00, 712.96it/s]"
     ]
    },
    {
     "name": "stdout",
     "output_type": "stream",
     "text": [
      "[2023-03-16 16:24:04] - train 0.004689, valid MSE Loss 0.000373, valid L1 Loss 0.014001\n",
      "[2023-03-16 16:24:04] - Epoch: 48\n",
      "[2023-03-16 16:24:04] - training...\n"
     ]
    },
    {
     "name": "stderr",
     "output_type": "stream",
     "text": [
      "\n",
      "100%|█████████████████████████████████████████████| 2/2 [00:00<00:00, 20.73it/s]"
     ]
    },
    {
     "name": "stdout",
     "output_type": "stream",
     "text": [
      "[2023-03-16 16:24:04] - evaluating...\n"
     ]
    },
    {
     "name": "stderr",
     "output_type": "stream",
     "text": [
      "\n",
      "Valid: 100%|███████████████████████████████████| 17/17 [00:00<00:00, 476.51it/s]"
     ]
    },
    {
     "name": "stdout",
     "output_type": "stream",
     "text": [
      "[2023-03-16 16:24:04] - train 0.004239, valid MSE Loss 0.000433, valid L1 Loss 0.015579\n",
      "[2023-03-16 16:24:04] - Epoch: 49\n",
      "[2023-03-16 16:24:04] - training...\n"
     ]
    },
    {
     "name": "stderr",
     "output_type": "stream",
     "text": [
      "\n",
      "100%|█████████████████████████████████████████████| 2/2 [00:00<00:00, 21.41it/s]"
     ]
    },
    {
     "name": "stdout",
     "output_type": "stream",
     "text": [
      "[2023-03-16 16:24:05] - evaluating...\n"
     ]
    },
    {
     "name": "stderr",
     "output_type": "stream",
     "text": [
      "\n",
      "Valid: 100%|███████████████████████████████████| 17/17 [00:00<00:00, 567.49it/s]"
     ]
    },
    {
     "name": "stdout",
     "output_type": "stream",
     "text": [
      "[2023-03-16 16:24:05] - train 0.004303, valid MSE Loss 0.000456, valid L1 Loss 0.016211\n",
      "[2023-03-16 16:24:05] - Epoch: 50\n",
      "[2023-03-16 16:24:05] - training...\n"
     ]
    },
    {
     "name": "stderr",
     "output_type": "stream",
     "text": [
      "\n",
      "100%|█████████████████████████████████████████████| 2/2 [00:00<00:00, 23.77it/s]"
     ]
    },
    {
     "name": "stdout",
     "output_type": "stream",
     "text": [
      "[2023-03-16 16:24:05] - evaluating...\n"
     ]
    },
    {
     "name": "stderr",
     "output_type": "stream",
     "text": [
      "\n",
      "Valid: 100%|███████████████████████████████████| 17/17 [00:00<00:00, 477.40it/s]"
     ]
    },
    {
     "name": "stdout",
     "output_type": "stream",
     "text": [
      "[2023-03-16 16:24:05] - train 0.003976, valid MSE Loss 0.000388, valid L1 Loss 0.014420\n",
      "[2023-03-16 16:24:05] - Epoch: 51\n",
      "[2023-03-16 16:24:05] - training...\n"
     ]
    },
    {
     "name": "stderr",
     "output_type": "stream",
     "text": [
      "\n",
      "100%|█████████████████████████████████████████████| 2/2 [00:00<00:00, 23.07it/s]"
     ]
    },
    {
     "name": "stdout",
     "output_type": "stream",
     "text": [
      "[2023-03-16 16:24:05] - evaluating...\n"
     ]
    },
    {
     "name": "stderr",
     "output_type": "stream",
     "text": [
      "\n",
      "Valid: 100%|███████████████████████████████████| 17/17 [00:00<00:00, 602.17it/s]"
     ]
    },
    {
     "name": "stdout",
     "output_type": "stream",
     "text": [
      "[2023-03-16 16:24:05] - train 0.004700, valid MSE Loss 0.000322, valid L1 Loss 0.012586\n",
      "[2023-03-16 16:24:05] - Epoch: 52\n",
      "[2023-03-16 16:24:05] - training...\n"
     ]
    },
    {
     "name": "stderr",
     "output_type": "stream",
     "text": [
      "\n",
      "100%|█████████████████████████████████████████████| 2/2 [00:00<00:00, 23.77it/s]"
     ]
    },
    {
     "name": "stdout",
     "output_type": "stream",
     "text": [
      "[2023-03-16 16:24:05] - evaluating...\n"
     ]
    },
    {
     "name": "stderr",
     "output_type": "stream",
     "text": [
      "\n",
      "Valid: 100%|███████████████████████████████████| 17/17 [00:00<00:00, 710.45it/s]"
     ]
    },
    {
     "name": "stdout",
     "output_type": "stream",
     "text": [
      "[2023-03-16 16:24:05] - train 0.003990, valid MSE Loss 0.000221, valid L1 Loss 0.010141\n",
      "[2023-03-16 16:24:05] - Epoch: 53\n",
      "[2023-03-16 16:24:05] - training...\n"
     ]
    },
    {
     "name": "stderr",
     "output_type": "stream",
     "text": [
      "\n",
      "100%|█████████████████████████████████████████████| 2/2 [00:00<00:00, 17.36it/s]"
     ]
    },
    {
     "name": "stdout",
     "output_type": "stream",
     "text": [
      "[2023-03-16 16:24:05] - evaluating...\n"
     ]
    },
    {
     "name": "stderr",
     "output_type": "stream",
     "text": [
      "\n",
      "Valid: 100%|███████████████████████████████████| 17/17 [00:00<00:00, 567.34it/s]"
     ]
    },
    {
     "name": "stdout",
     "output_type": "stream",
     "text": [
      "[2023-03-16 16:24:05] - train 0.004360, valid MSE Loss 0.000195, valid L1 Loss 0.010021\n"
     ]
    },
    {
     "name": "stderr",
     "output_type": "stream",
     "text": [
      "\n"
     ]
    },
    {
     "name": "stdout",
     "output_type": "stream",
     "text": [
      "[2023-03-16 16:24:05] - Epoch: 54\n",
      "[2023-03-16 16:24:05] - training...\n"
     ]
    },
    {
     "name": "stderr",
     "output_type": "stream",
     "text": [
      "100%|█████████████████████████████████████████████| 2/2 [00:00<00:00, 24.29it/s]"
     ]
    },
    {
     "name": "stdout",
     "output_type": "stream",
     "text": [
      "[2023-03-16 16:24:05] - evaluating...\n"
     ]
    },
    {
     "name": "stderr",
     "output_type": "stream",
     "text": [
      "\n",
      "Valid: 100%|███████████████████████████████████| 17/17 [00:00<00:00, 466.74it/s]"
     ]
    },
    {
     "name": "stdout",
     "output_type": "stream",
     "text": [
      "[2023-03-16 16:24:05] - train 0.005820, valid MSE Loss 0.000194, valid L1 Loss 0.010536\n",
      "[2023-03-16 16:24:05] - Epoch: 55\n",
      "[2023-03-16 16:24:05] - training...\n"
     ]
    },
    {
     "name": "stderr",
     "output_type": "stream",
     "text": [
      "\n",
      "100%|█████████████████████████████████████████████| 2/2 [00:00<00:00, 18.06it/s]"
     ]
    },
    {
     "name": "stdout",
     "output_type": "stream",
     "text": [
      "[2023-03-16 16:24:05] - evaluating...\n"
     ]
    },
    {
     "name": "stderr",
     "output_type": "stream",
     "text": [
      "\n",
      "Valid: 100%|███████████████████████████████████| 17/17 [00:00<00:00, 476.35it/s]"
     ]
    },
    {
     "name": "stdout",
     "output_type": "stream",
     "text": [
      "[2023-03-16 16:24:05] - train 0.004543, valid MSE Loss 0.000193, valid L1 Loss 0.010396\n",
      "[2023-03-16 16:24:05] - Epoch: 56\n",
      "[2023-03-16 16:24:05] - training...\n"
     ]
    },
    {
     "name": "stderr",
     "output_type": "stream",
     "text": [
      "\n",
      "100%|█████████████████████████████████████████████| 2/2 [00:00<00:00, 20.48it/s]"
     ]
    },
    {
     "name": "stdout",
     "output_type": "stream",
     "text": [
      "[2023-03-16 16:24:06] - evaluating...\n"
     ]
    },
    {
     "name": "stderr",
     "output_type": "stream",
     "text": [
      "\n",
      "Valid: 100%|███████████████████████████████████| 17/17 [00:00<00:00, 647.87it/s]"
     ]
    },
    {
     "name": "stdout",
     "output_type": "stream",
     "text": [
      "[2023-03-16 16:24:06] - train 0.004220, valid MSE Loss 0.000193, valid L1 Loss 0.010308\n"
     ]
    },
    {
     "name": "stderr",
     "output_type": "stream",
     "text": [
      "\n"
     ]
    },
    {
     "name": "stdout",
     "output_type": "stream",
     "text": [
      "[2023-03-16 16:24:06] - Epoch: 57\n",
      "[2023-03-16 16:24:06] - training...\n"
     ]
    },
    {
     "name": "stderr",
     "output_type": "stream",
     "text": [
      "100%|█████████████████████████████████████████████| 2/2 [00:00<00:00, 19.10it/s]"
     ]
    },
    {
     "name": "stdout",
     "output_type": "stream",
     "text": [
      "[2023-03-16 16:24:06] - evaluating...\n"
     ]
    },
    {
     "name": "stderr",
     "output_type": "stream",
     "text": [
      "\n",
      "Valid: 100%|███████████████████████████████████| 17/17 [00:00<00:00, 506.65it/s]"
     ]
    },
    {
     "name": "stdout",
     "output_type": "stream",
     "text": [
      "[2023-03-16 16:24:06] - train 0.004569, valid MSE Loss 0.000218, valid L1 Loss 0.011843\n",
      "[2023-03-16 16:24:06] - Epoch: 58\n",
      "[2023-03-16 16:24:06] - training...\n"
     ]
    },
    {
     "name": "stderr",
     "output_type": "stream",
     "text": [
      "\n",
      "100%|█████████████████████████████████████████████| 2/2 [00:00<00:00, 20.06it/s]"
     ]
    },
    {
     "name": "stdout",
     "output_type": "stream",
     "text": [
      "[2023-03-16 16:24:06] - evaluating...\n"
     ]
    },
    {
     "name": "stderr",
     "output_type": "stream",
     "text": [
      "\n",
      "Valid: 100%|███████████████████████████████████| 17/17 [00:00<00:00, 660.56it/s]"
     ]
    },
    {
     "name": "stdout",
     "output_type": "stream",
     "text": [
      "[2023-03-16 16:24:06] - train 0.004285, valid MSE Loss 0.000290, valid L1 Loss 0.014688\n",
      "[2023-03-16 16:24:06] - Epoch: 59\n",
      "[2023-03-16 16:24:06] - training...\n"
     ]
    },
    {
     "name": "stderr",
     "output_type": "stream",
     "text": [
      "\n",
      "100%|█████████████████████████████████████████████| 2/2 [00:00<00:00, 20.45it/s]"
     ]
    },
    {
     "name": "stdout",
     "output_type": "stream",
     "text": [
      "[2023-03-16 16:24:06] - evaluating...\n"
     ]
    },
    {
     "name": "stderr",
     "output_type": "stream",
     "text": [
      "\n",
      "Valid: 100%|███████████████████████████████████| 17/17 [00:00<00:00, 464.62it/s]"
     ]
    },
    {
     "name": "stdout",
     "output_type": "stream",
     "text": [
      "[2023-03-16 16:24:06] - train 0.004352, valid MSE Loss 0.000494, valid L1 Loss 0.020134\n",
      "[2023-03-16 16:24:06] - Epoch: 60\n",
      "[2023-03-16 16:24:06] - training...\n"
     ]
    },
    {
     "name": "stderr",
     "output_type": "stream",
     "text": [
      "\n",
      "100%|█████████████████████████████████████████████| 2/2 [00:00<00:00, 24.42it/s]"
     ]
    },
    {
     "name": "stdout",
     "output_type": "stream",
     "text": [
      "[2023-03-16 16:24:06] - evaluating...\n"
     ]
    },
    {
     "name": "stderr",
     "output_type": "stream",
     "text": [
      "\n",
      "Valid: 100%|███████████████████████████████████| 17/17 [00:00<00:00, 613.49it/s]"
     ]
    },
    {
     "name": "stdout",
     "output_type": "stream",
     "text": [
      "[2023-03-16 16:24:06] - train 0.003886, valid MSE Loss 0.000748, valid L1 Loss 0.025252\n",
      "[2023-03-16 16:24:06] - Epoch: 61\n",
      "[2023-03-16 16:24:06] - training...\n"
     ]
    },
    {
     "name": "stderr",
     "output_type": "stream",
     "text": [
      "\n",
      "100%|█████████████████████████████████████████████| 2/2 [00:00<00:00, 21.83it/s]"
     ]
    },
    {
     "name": "stdout",
     "output_type": "stream",
     "text": [
      "[2023-03-16 16:24:06] - evaluating...\n"
     ]
    },
    {
     "name": "stderr",
     "output_type": "stream",
     "text": [
      "\n",
      "Valid: 100%|███████████████████████████████████| 17/17 [00:00<00:00, 682.18it/s]"
     ]
    },
    {
     "name": "stdout",
     "output_type": "stream",
     "text": [
      "[2023-03-16 16:24:06] - train 0.004123, valid MSE Loss 0.000888, valid L1 Loss 0.027700\n",
      "[2023-03-16 16:24:06] - Epoch: 62\n",
      "[2023-03-16 16:24:06] - training...\n"
     ]
    },
    {
     "name": "stderr",
     "output_type": "stream",
     "text": [
      "\n",
      "100%|█████████████████████████████████████████████| 2/2 [00:00<00:00, 20.58it/s]"
     ]
    },
    {
     "name": "stdout",
     "output_type": "stream",
     "text": [
      "[2023-03-16 16:24:06] - evaluating...\n"
     ]
    },
    {
     "name": "stderr",
     "output_type": "stream",
     "text": [
      "\n",
      "Valid: 100%|███████████████████████████████████| 17/17 [00:00<00:00, 699.49it/s]"
     ]
    },
    {
     "name": "stdout",
     "output_type": "stream",
     "text": [
      "[2023-03-16 16:24:06] - train 0.005040, valid MSE Loss 0.000600, valid L1 Loss 0.022418\n",
      "[2023-03-16 16:24:06] - Epoch: 63\n",
      "[2023-03-16 16:24:06] - training...\n"
     ]
    },
    {
     "name": "stderr",
     "output_type": "stream",
     "text": [
      "\n",
      "100%|█████████████████████████████████████████████| 2/2 [00:00<00:00, 25.40it/s]"
     ]
    },
    {
     "name": "stdout",
     "output_type": "stream",
     "text": [
      "[2023-03-16 16:24:07] - evaluating...\n"
     ]
    },
    {
     "name": "stderr",
     "output_type": "stream",
     "text": [
      "\n",
      "Valid: 100%|███████████████████████████████████| 17/17 [00:00<00:00, 719.16it/s]"
     ]
    },
    {
     "name": "stdout",
     "output_type": "stream",
     "text": [
      "[2023-03-16 16:24:07] - train 0.004951, valid MSE Loss 0.000283, valid L1 Loss 0.014454\n",
      "[2023-03-16 16:24:07] - Epoch: 64\n",
      "[2023-03-16 16:24:07] - training...\n"
     ]
    },
    {
     "name": "stderr",
     "output_type": "stream",
     "text": [
      "\n",
      "100%|█████████████████████████████████████████████| 2/2 [00:00<00:00, 25.28it/s]\n"
     ]
    },
    {
     "name": "stdout",
     "output_type": "stream",
     "text": [
      "[2023-03-16 16:24:07] - evaluating...\n"
     ]
    },
    {
     "name": "stderr",
     "output_type": "stream",
     "text": [
      "Valid: 100%|███████████████████████████████████| 17/17 [00:00<00:00, 726.18it/s]"
     ]
    },
    {
     "name": "stdout",
     "output_type": "stream",
     "text": [
      "[2023-03-16 16:24:07] - train 0.003966, valid MSE Loss 0.000193, valid L1 Loss 0.010194\n",
      "[2023-03-16 16:24:07] - Epoch: 65\n",
      "[2023-03-16 16:24:07] - training...\n"
     ]
    },
    {
     "name": "stderr",
     "output_type": "stream",
     "text": [
      "\n",
      "100%|█████████████████████████████████████████████| 2/2 [00:00<00:00, 23.42it/s]"
     ]
    },
    {
     "name": "stdout",
     "output_type": "stream",
     "text": [
      "[2023-03-16 16:24:07] - evaluating...\n"
     ]
    },
    {
     "name": "stderr",
     "output_type": "stream",
     "text": [
      "\n",
      "Valid: 100%|███████████████████████████████████| 17/17 [00:00<00:00, 600.09it/s]"
     ]
    },
    {
     "name": "stdout",
     "output_type": "stream",
     "text": [
      "[2023-03-16 16:24:07] - train 0.004867, valid MSE Loss 0.000232, valid L1 Loss 0.010367\n",
      "[2023-03-16 16:24:07] - Epoch: 66\n",
      "[2023-03-16 16:24:07] - training...\n"
     ]
    },
    {
     "name": "stderr",
     "output_type": "stream",
     "text": [
      "\n",
      "100%|█████████████████████████████████████████████| 2/2 [00:00<00:00, 23.35it/s]"
     ]
    },
    {
     "name": "stdout",
     "output_type": "stream",
     "text": [
      "[2023-03-16 16:24:07] - evaluating...\n"
     ]
    },
    {
     "name": "stderr",
     "output_type": "stream",
     "text": [
      "\n",
      "Valid: 100%|███████████████████████████████████| 17/17 [00:00<00:00, 584.11it/s]"
     ]
    },
    {
     "name": "stdout",
     "output_type": "stream",
     "text": [
      "[2023-03-16 16:24:07] - train 0.004344, valid MSE Loss 0.000261, valid L1 Loss 0.011082\n",
      "[2023-03-16 16:24:07] - Epoch: 67\n",
      "[2023-03-16 16:24:07] - training...\n"
     ]
    },
    {
     "name": "stderr",
     "output_type": "stream",
     "text": [
      "\n",
      "100%|█████████████████████████████████████████████| 2/2 [00:00<00:00, 24.72it/s]"
     ]
    },
    {
     "name": "stdout",
     "output_type": "stream",
     "text": [
      "[2023-03-16 16:24:07] - evaluating...\n"
     ]
    },
    {
     "name": "stderr",
     "output_type": "stream",
     "text": [
      "\n",
      "Valid: 100%|███████████████████████████████████| 17/17 [00:00<00:00, 686.68it/s]"
     ]
    },
    {
     "name": "stdout",
     "output_type": "stream",
     "text": [
      "[2023-03-16 16:24:07] - train 0.004399, valid MSE Loss 0.000208, valid L1 Loss 0.009869\n",
      "[2023-03-16 16:24:07] - Epoch: 68\n",
      "[2023-03-16 16:24:07] - training...\n"
     ]
    },
    {
     "name": "stderr",
     "output_type": "stream",
     "text": [
      "\n",
      "100%|█████████████████████████████████████████████| 2/2 [00:00<00:00, 22.89it/s]"
     ]
    },
    {
     "name": "stdout",
     "output_type": "stream",
     "text": [
      "[2023-03-16 16:24:07] - evaluating...\n"
     ]
    },
    {
     "name": "stderr",
     "output_type": "stream",
     "text": [
      "\n",
      "Valid: 100%|███████████████████████████████████| 17/17 [00:00<00:00, 674.08it/s]"
     ]
    },
    {
     "name": "stdout",
     "output_type": "stream",
     "text": [
      "[2023-03-16 16:24:07] - train 0.004117, valid MSE Loss 0.000183, valid L1 Loss 0.009667\n",
      "[2023-03-16 16:24:07] - Epoch: 69\n",
      "[2023-03-16 16:24:07] - training...\n"
     ]
    },
    {
     "name": "stderr",
     "output_type": "stream",
     "text": [
      "\n",
      "100%|█████████████████████████████████████████████| 2/2 [00:00<00:00, 20.92it/s]"
     ]
    },
    {
     "name": "stdout",
     "output_type": "stream",
     "text": [
      "[2023-03-16 16:24:07] - evaluating...\n"
     ]
    },
    {
     "name": "stderr",
     "output_type": "stream",
     "text": [
      "\n",
      "Valid: 100%|███████████████████████████████████| 17/17 [00:00<00:00, 691.36it/s]"
     ]
    },
    {
     "name": "stdout",
     "output_type": "stream",
     "text": [
      "[2023-03-16 16:24:07] - train 0.004569, valid MSE Loss 0.000185, valid L1 Loss 0.010402\n",
      "[2023-03-16 16:24:07] - Epoch: 70\n",
      "[2023-03-16 16:24:07] - training...\n"
     ]
    },
    {
     "name": "stderr",
     "output_type": "stream",
     "text": [
      "\n",
      "100%|█████████████████████████████████████████████| 2/2 [00:00<00:00, 19.91it/s]"
     ]
    },
    {
     "name": "stdout",
     "output_type": "stream",
     "text": [
      "[2023-03-16 16:24:07] - evaluating...\n"
     ]
    },
    {
     "name": "stderr",
     "output_type": "stream",
     "text": [
      "\n",
      "Valid: 100%|███████████████████████████████████| 17/17 [00:00<00:00, 613.31it/s]"
     ]
    },
    {
     "name": "stdout",
     "output_type": "stream",
     "text": [
      "[2023-03-16 16:24:08] - train 0.004638, valid MSE Loss 0.000181, valid L1 Loss 0.009699\n",
      "[2023-03-16 16:24:08] - Epoch: 71\n",
      "[2023-03-16 16:24:08] - training...\n"
     ]
    },
    {
     "name": "stderr",
     "output_type": "stream",
     "text": [
      "\n",
      "100%|█████████████████████████████████████████████| 2/2 [00:00<00:00, 22.12it/s]"
     ]
    },
    {
     "name": "stdout",
     "output_type": "stream",
     "text": [
      "[2023-03-16 16:24:08] - evaluating...\n"
     ]
    },
    {
     "name": "stderr",
     "output_type": "stream",
     "text": [
      "\n",
      "Valid: 100%|███████████████████████████████████| 17/17 [00:00<00:00, 724.57it/s]"
     ]
    },
    {
     "name": "stdout",
     "output_type": "stream",
     "text": [
      "[2023-03-16 16:24:08] - train 0.004187, valid MSE Loss 0.000182, valid L1 Loss 0.009523\n",
      "[2023-03-16 16:24:08] - Epoch: 72\n",
      "[2023-03-16 16:24:08] - training...\n"
     ]
    },
    {
     "name": "stderr",
     "output_type": "stream",
     "text": [
      "\n",
      "100%|█████████████████████████████████████████████| 2/2 [00:00<00:00, 24.82it/s]"
     ]
    },
    {
     "name": "stdout",
     "output_type": "stream",
     "text": [
      "[2023-03-16 16:24:08] - evaluating...\n"
     ]
    },
    {
     "name": "stderr",
     "output_type": "stream",
     "text": [
      "\n",
      "Valid: 100%|███████████████████████████████████| 17/17 [00:00<00:00, 748.53it/s]"
     ]
    },
    {
     "name": "stdout",
     "output_type": "stream",
     "text": [
      "[2023-03-16 16:24:08] - train 0.004412, valid MSE Loss 0.000182, valid L1 Loss 0.009558\n",
      "[2023-03-16 16:24:08] - Epoch: 73\n",
      "[2023-03-16 16:24:08] - training...\n"
     ]
    },
    {
     "name": "stderr",
     "output_type": "stream",
     "text": [
      "\n",
      "100%|█████████████████████████████████████████████| 2/2 [00:00<00:00, 22.08it/s]"
     ]
    },
    {
     "name": "stdout",
     "output_type": "stream",
     "text": [
      "[2023-03-16 16:24:08] - evaluating...\n"
     ]
    },
    {
     "name": "stderr",
     "output_type": "stream",
     "text": [
      "\n",
      "Valid: 100%|███████████████████████████████████| 17/17 [00:00<00:00, 649.62it/s]"
     ]
    },
    {
     "name": "stdout",
     "output_type": "stream",
     "text": [
      "[2023-03-16 16:24:08] - train 0.005168, valid MSE Loss 0.000183, valid L1 Loss 0.010293\n",
      "[2023-03-16 16:24:08] - Epoch: 74\n",
      "[2023-03-16 16:24:08] - training...\n"
     ]
    },
    {
     "name": "stderr",
     "output_type": "stream",
     "text": [
      "\n",
      "100%|█████████████████████████████████████████████| 2/2 [00:00<00:00, 23.02it/s]"
     ]
    },
    {
     "name": "stdout",
     "output_type": "stream",
     "text": [
      "[2023-03-16 16:24:08] - evaluating...\n"
     ]
    },
    {
     "name": "stderr",
     "output_type": "stream",
     "text": [
      "\n",
      "Valid: 100%|███████████████████████████████████| 17/17 [00:00<00:00, 742.06it/s]"
     ]
    },
    {
     "name": "stdout",
     "output_type": "stream",
     "text": [
      "[2023-03-16 16:24:08] - train 0.003941, valid MSE Loss 0.000267, valid L1 Loss 0.014108\n",
      "[2023-03-16 16:24:08] - Epoch: 75\n",
      "[2023-03-16 16:24:08] - training...\n"
     ]
    },
    {
     "name": "stderr",
     "output_type": "stream",
     "text": [
      "\n",
      "100%|█████████████████████████████████████████████| 2/2 [00:00<00:00, 23.96it/s]"
     ]
    },
    {
     "name": "stdout",
     "output_type": "stream",
     "text": [
      "[2023-03-16 16:24:08] - evaluating...\n"
     ]
    },
    {
     "name": "stderr",
     "output_type": "stream",
     "text": [
      "\n",
      "Valid: 100%|███████████████████████████████████| 17/17 [00:00<00:00, 621.23it/s]"
     ]
    },
    {
     "name": "stdout",
     "output_type": "stream",
     "text": [
      "[2023-03-16 16:24:08] - train 0.004563, valid MSE Loss 0.000444, valid L1 Loss 0.019098\n",
      "[2023-03-16 16:24:08] - Epoch: 76\n",
      "[2023-03-16 16:24:08] - training...\n"
     ]
    },
    {
     "name": "stderr",
     "output_type": "stream",
     "text": [
      "\n",
      "100%|█████████████████████████████████████████████| 2/2 [00:00<00:00, 23.77it/s]"
     ]
    },
    {
     "name": "stdout",
     "output_type": "stream",
     "text": [
      "[2023-03-16 16:24:08] - evaluating...\n"
     ]
    },
    {
     "name": "stderr",
     "output_type": "stream",
     "text": [
      "\n",
      "Valid: 100%|███████████████████████████████████| 17/17 [00:00<00:00, 702.77it/s]"
     ]
    },
    {
     "name": "stdout",
     "output_type": "stream",
     "text": [
      "[2023-03-16 16:24:08] - train 0.004563, valid MSE Loss 0.000559, valid L1 Loss 0.021653\n",
      "[2023-03-16 16:24:08] - Epoch: 77\n",
      "[2023-03-16 16:24:08] - training...\n"
     ]
    },
    {
     "name": "stderr",
     "output_type": "stream",
     "text": [
      "\n",
      "100%|█████████████████████████████████████████████| 2/2 [00:00<00:00, 23.16it/s]"
     ]
    },
    {
     "name": "stdout",
     "output_type": "stream",
     "text": [
      "[2023-03-16 16:24:08] - evaluating...\n"
     ]
    },
    {
     "name": "stderr",
     "output_type": "stream",
     "text": [
      "\n",
      "Valid: 100%|███████████████████████████████████| 17/17 [00:00<00:00, 624.51it/s]"
     ]
    },
    {
     "name": "stdout",
     "output_type": "stream",
     "text": [
      "[2023-03-16 16:24:08] - train 0.003891, valid MSE Loss 0.000251, valid L1 Loss 0.013536\n",
      "[2023-03-16 16:24:08] - Epoch: 78\n",
      "[2023-03-16 16:24:08] - training...\n"
     ]
    },
    {
     "name": "stderr",
     "output_type": "stream",
     "text": [
      "\n",
      "100%|█████████████████████████████████████████████| 2/2 [00:00<00:00, 24.00it/s]"
     ]
    },
    {
     "name": "stdout",
     "output_type": "stream",
     "text": [
      "[2023-03-16 16:24:09] - evaluating...\n"
     ]
    },
    {
     "name": "stderr",
     "output_type": "stream",
     "text": [
      "\n",
      "Valid: 100%|███████████████████████████████████| 17/17 [00:00<00:00, 596.25it/s]"
     ]
    },
    {
     "name": "stdout",
     "output_type": "stream",
     "text": [
      "[2023-03-16 16:24:09] - train 0.004658, valid MSE Loss 0.000193, valid L1 Loss 0.010974\n",
      "[2023-03-16 16:24:09] - Epoch: 79\n",
      "[2023-03-16 16:24:09] - training...\n"
     ]
    },
    {
     "name": "stderr",
     "output_type": "stream",
     "text": [
      "\n",
      "100%|█████████████████████████████████████████████| 2/2 [00:00<00:00, 24.90it/s]"
     ]
    },
    {
     "name": "stdout",
     "output_type": "stream",
     "text": [
      "[2023-03-16 16:24:09] - evaluating...\n"
     ]
    },
    {
     "name": "stderr",
     "output_type": "stream",
     "text": [
      "\n",
      "Valid: 100%|███████████████████████████████████| 17/17 [00:00<00:00, 690.50it/s]"
     ]
    },
    {
     "name": "stdout",
     "output_type": "stream",
     "text": [
      "[2023-03-16 16:24:09] - train 0.003579, valid MSE Loss 0.000188, valid L1 Loss 0.009668\n",
      "[2023-03-16 16:24:09] - Epoch: 80\n",
      "[2023-03-16 16:24:09] - training...\n"
     ]
    },
    {
     "name": "stderr",
     "output_type": "stream",
     "text": [
      "\n",
      "100%|█████████████████████████████████████████████| 2/2 [00:00<00:00, 21.75it/s]"
     ]
    },
    {
     "name": "stdout",
     "output_type": "stream",
     "text": [
      "[2023-03-16 16:24:09] - evaluating...\n"
     ]
    },
    {
     "name": "stderr",
     "output_type": "stream",
     "text": [
      "\n",
      "Valid: 100%|███████████████████████████████████| 17/17 [00:00<00:00, 701.18it/s]"
     ]
    },
    {
     "name": "stdout",
     "output_type": "stream",
     "text": [
      "[2023-03-16 16:24:09] - train 0.004335, valid MSE Loss 0.000189, valid L1 Loss 0.009680\n",
      "[2023-03-16 16:24:09] - Epoch: 81\n",
      "[2023-03-16 16:24:09] - training...\n"
     ]
    },
    {
     "name": "stderr",
     "output_type": "stream",
     "text": [
      "\n",
      "100%|█████████████████████████████████████████████| 2/2 [00:00<00:00, 23.26it/s]"
     ]
    },
    {
     "name": "stdout",
     "output_type": "stream",
     "text": [
      "[2023-03-16 16:24:09] - evaluating...\n"
     ]
    },
    {
     "name": "stderr",
     "output_type": "stream",
     "text": [
      "\n",
      "Valid: 100%|███████████████████████████████████| 17/17 [00:00<00:00, 632.01it/s]"
     ]
    },
    {
     "name": "stdout",
     "output_type": "stream",
     "text": [
      "[2023-03-16 16:24:09] - train 0.004199, valid MSE Loss 0.000197, valid L1 Loss 0.009648\n",
      "[2023-03-16 16:24:09] - Epoch: 82\n",
      "[2023-03-16 16:24:09] - training...\n"
     ]
    },
    {
     "name": "stderr",
     "output_type": "stream",
     "text": [
      "\n",
      "100%|█████████████████████████████████████████████| 2/2 [00:00<00:00, 21.68it/s]"
     ]
    },
    {
     "name": "stdout",
     "output_type": "stream",
     "text": [
      "[2023-03-16 16:24:09] - evaluating...\n"
     ]
    },
    {
     "name": "stderr",
     "output_type": "stream",
     "text": [
      "\n",
      "Valid: 100%|███████████████████████████████████| 17/17 [00:00<00:00, 662.97it/s]"
     ]
    },
    {
     "name": "stdout",
     "output_type": "stream",
     "text": [
      "[2023-03-16 16:24:09] - train 0.004558, valid MSE Loss 0.000209, valid L1 Loss 0.011753\n",
      "[2023-03-16 16:24:09] - Epoch: 83\n",
      "[2023-03-16 16:24:09] - training...\n"
     ]
    },
    {
     "name": "stderr",
     "output_type": "stream",
     "text": [
      "\n",
      "100%|█████████████████████████████████████████████| 2/2 [00:00<00:00, 24.74it/s]"
     ]
    },
    {
     "name": "stdout",
     "output_type": "stream",
     "text": [
      "[2023-03-16 16:24:09] - evaluating...\n"
     ]
    },
    {
     "name": "stderr",
     "output_type": "stream",
     "text": [
      "\n",
      "Valid: 100%|███████████████████████████████████| 17/17 [00:00<00:00, 600.87it/s]"
     ]
    },
    {
     "name": "stdout",
     "output_type": "stream",
     "text": [
      "[2023-03-16 16:24:09] - train 0.004402, valid MSE Loss 0.000267, valid L1 Loss 0.014089\n",
      "[2023-03-16 16:24:09] - Epoch: 84\n",
      "[2023-03-16 16:24:09] - training...\n"
     ]
    },
    {
     "name": "stderr",
     "output_type": "stream",
     "text": [
      "\n",
      "100%|█████████████████████████████████████████████| 2/2 [00:00<00:00, 23.75it/s]"
     ]
    },
    {
     "name": "stdout",
     "output_type": "stream",
     "text": [
      "[2023-03-16 16:24:09] - evaluating...\n"
     ]
    },
    {
     "name": "stderr",
     "output_type": "stream",
     "text": [
      "\n",
      "Valid: 100%|███████████████████████████████████| 17/17 [00:00<00:00, 575.59it/s]"
     ]
    },
    {
     "name": "stdout",
     "output_type": "stream",
     "text": [
      "[2023-03-16 16:24:09] - train 0.003197, valid MSE Loss 0.000382, valid L1 Loss 0.017475\n",
      "[2023-03-16 16:24:09] - Epoch: 85\n",
      "[2023-03-16 16:24:09] - training...\n"
     ]
    },
    {
     "name": "stderr",
     "output_type": "stream",
     "text": [
      "\n",
      "100%|█████████████████████████████████████████████| 2/2 [00:00<00:00, 22.59it/s]"
     ]
    },
    {
     "name": "stdout",
     "output_type": "stream",
     "text": [
      "[2023-03-16 16:24:09] - evaluating...\n"
     ]
    },
    {
     "name": "stderr",
     "output_type": "stream",
     "text": [
      "\n",
      "Valid: 100%|███████████████████████████████████| 17/17 [00:00<00:00, 704.51it/s]"
     ]
    },
    {
     "name": "stdout",
     "output_type": "stream",
     "text": [
      "[2023-03-16 16:24:09] - train 0.003562, valid MSE Loss 0.000521, valid L1 Loss 0.020750\n",
      "[2023-03-16 16:24:09] - Epoch: 86\n",
      "[2023-03-16 16:24:09] - training...\n"
     ]
    },
    {
     "name": "stderr",
     "output_type": "stream",
     "text": [
      "\n",
      "100%|█████████████████████████████████████████████| 2/2 [00:00<00:00, 22.01it/s]"
     ]
    },
    {
     "name": "stdout",
     "output_type": "stream",
     "text": [
      "[2023-03-16 16:24:10] - evaluating...\n"
     ]
    },
    {
     "name": "stderr",
     "output_type": "stream",
     "text": [
      "\n",
      "Valid: 100%|███████████████████████████████████| 17/17 [00:00<00:00, 626.32it/s]"
     ]
    },
    {
     "name": "stdout",
     "output_type": "stream",
     "text": [
      "[2023-03-16 16:24:10] - train 0.003862, valid MSE Loss 0.000521, valid L1 Loss 0.020762\n",
      "[2023-03-16 16:24:10] - Epoch: 87\n",
      "[2023-03-16 16:24:10] - training...\n"
     ]
    },
    {
     "name": "stderr",
     "output_type": "stream",
     "text": [
      "\n",
      "100%|█████████████████████████████████████████████| 2/2 [00:00<00:00, 22.73it/s]"
     ]
    },
    {
     "name": "stdout",
     "output_type": "stream",
     "text": [
      "[2023-03-16 16:24:10] - evaluating...\n"
     ]
    },
    {
     "name": "stderr",
     "output_type": "stream",
     "text": [
      "\n",
      "Valid: 100%|███████████████████████████████████| 17/17 [00:00<00:00, 615.80it/s]"
     ]
    },
    {
     "name": "stdout",
     "output_type": "stream",
     "text": [
      "[2023-03-16 16:24:10] - train 0.004580, valid MSE Loss 0.000462, valid L1 Loss 0.019495\n",
      "[2023-03-16 16:24:10] - Epoch: 88\n",
      "[2023-03-16 16:24:10] - training...\n"
     ]
    },
    {
     "name": "stderr",
     "output_type": "stream",
     "text": [
      "\n",
      "100%|█████████████████████████████████████████████| 2/2 [00:00<00:00, 26.33it/s]"
     ]
    },
    {
     "name": "stdout",
     "output_type": "stream",
     "text": [
      "[2023-03-16 16:24:10] - evaluating...\n"
     ]
    },
    {
     "name": "stderr",
     "output_type": "stream",
     "text": [
      "\n",
      "Valid: 100%|███████████████████████████████████| 17/17 [00:00<00:00, 475.85it/s]"
     ]
    },
    {
     "name": "stdout",
     "output_type": "stream",
     "text": [
      "[2023-03-16 16:24:10] - train 0.005018, valid MSE Loss 0.000228, valid L1 Loss 0.010421\n",
      "[2023-03-16 16:24:10] - Epoch: 89\n",
      "[2023-03-16 16:24:10] - training...\n"
     ]
    },
    {
     "name": "stderr",
     "output_type": "stream",
     "text": [
      "\n",
      "100%|█████████████████████████████████████████████| 2/2 [00:00<00:00, 23.76it/s]"
     ]
    },
    {
     "name": "stdout",
     "output_type": "stream",
     "text": [
      "[2023-03-16 16:24:10] - evaluating...\n"
     ]
    },
    {
     "name": "stderr",
     "output_type": "stream",
     "text": [
      "\n",
      "Valid: 100%|███████████████████████████████████| 17/17 [00:00<00:00, 204.17it/s]"
     ]
    },
    {
     "name": "stdout",
     "output_type": "stream",
     "text": [
      "[2023-03-16 16:24:10] - train 0.004065, valid MSE Loss 0.000228, valid L1 Loss 0.010449\n"
     ]
    },
    {
     "name": "stderr",
     "output_type": "stream",
     "text": [
      "\n"
     ]
    },
    {
     "name": "stdout",
     "output_type": "stream",
     "text": [
      "[2023-03-16 16:24:10] - Epoch: 90\n",
      "[2023-03-16 16:24:10] - training...\n"
     ]
    },
    {
     "name": "stderr",
     "output_type": "stream",
     "text": [
      "100%|█████████████████████████████████████████████| 2/2 [00:00<00:00, 15.51it/s]"
     ]
    },
    {
     "name": "stdout",
     "output_type": "stream",
     "text": [
      "[2023-03-16 16:24:10] - evaluating...\n"
     ]
    },
    {
     "name": "stderr",
     "output_type": "stream",
     "text": [
      "\n",
      "Valid: 100%|███████████████████████████████████| 17/17 [00:00<00:00, 740.34it/s]"
     ]
    },
    {
     "name": "stdout",
     "output_type": "stream",
     "text": [
      "[2023-03-16 16:24:10] - train 0.003449, valid MSE Loss 0.000179, valid L1 Loss 0.010676\n",
      "[2023-03-16 16:24:10] - Epoch: 91\n",
      "[2023-03-16 16:24:10] - training...\n"
     ]
    },
    {
     "name": "stderr",
     "output_type": "stream",
     "text": [
      "\n",
      "100%|█████████████████████████████████████████████| 2/2 [00:00<00:00, 25.31it/s]"
     ]
    },
    {
     "name": "stdout",
     "output_type": "stream",
     "text": [
      "[2023-03-16 16:24:10] - evaluating...\n"
     ]
    },
    {
     "name": "stderr",
     "output_type": "stream",
     "text": [
      "\n",
      "Valid: 100%|███████████████████████████████████| 17/17 [00:00<00:00, 624.69it/s]"
     ]
    },
    {
     "name": "stdout",
     "output_type": "stream",
     "text": [
      "[2023-03-16 16:24:10] - train 0.003523, valid MSE Loss 0.001864, valid L1 Loss 0.041646\n",
      "[2023-03-16 16:24:10] - Epoch: 92\n",
      "[2023-03-16 16:24:10] - training...\n"
     ]
    },
    {
     "name": "stderr",
     "output_type": "stream",
     "text": [
      "\n",
      "100%|█████████████████████████████████████████████| 2/2 [00:00<00:00, 25.52it/s]"
     ]
    },
    {
     "name": "stdout",
     "output_type": "stream",
     "text": [
      "[2023-03-16 16:24:10] - evaluating...\n"
     ]
    },
    {
     "name": "stderr",
     "output_type": "stream",
     "text": [
      "\n",
      "Valid: 100%|███████████████████████████████████| 17/17 [00:00<00:00, 600.93it/s]"
     ]
    },
    {
     "name": "stdout",
     "output_type": "stream",
     "text": [
      "[2023-03-16 16:24:10] - train 0.004050, valid MSE Loss 0.003484, valid L1 Loss 0.057828\n",
      "[2023-03-16 16:24:10] - Epoch: 93\n",
      "[2023-03-16 16:24:10] - training...\n"
     ]
    },
    {
     "name": "stderr",
     "output_type": "stream",
     "text": [
      "\n",
      "100%|█████████████████████████████████████████████| 2/2 [00:00<00:00, 24.81it/s]"
     ]
    },
    {
     "name": "stdout",
     "output_type": "stream",
     "text": [
      "[2023-03-16 16:24:11] - evaluating...\n"
     ]
    },
    {
     "name": "stderr",
     "output_type": "stream",
     "text": [
      "\n",
      "Valid: 100%|███████████████████████████████████| 17/17 [00:00<00:00, 718.43it/s]"
     ]
    },
    {
     "name": "stdout",
     "output_type": "stream",
     "text": [
      "[2023-03-16 16:24:11] - train 0.003909, valid MSE Loss 0.002241, valid L1 Loss 0.045959\n",
      "[2023-03-16 16:24:11] - Epoch: 94\n",
      "[2023-03-16 16:24:11] - training...\n"
     ]
    },
    {
     "name": "stderr",
     "output_type": "stream",
     "text": [
      "\n",
      "100%|█████████████████████████████████████████████| 2/2 [00:00<00:00, 24.79it/s]"
     ]
    },
    {
     "name": "stdout",
     "output_type": "stream",
     "text": [
      "[2023-03-16 16:24:11] - evaluating...\n"
     ]
    },
    {
     "name": "stderr",
     "output_type": "stream",
     "text": [
      "\n",
      "Valid: 100%|███████████████████████████████████| 17/17 [00:00<00:00, 739.16it/s]"
     ]
    },
    {
     "name": "stdout",
     "output_type": "stream",
     "text": [
      "[2023-03-16 16:24:11] - train 0.004990, valid MSE Loss 0.000328, valid L1 Loss 0.016224\n",
      "[2023-03-16 16:24:11] - Epoch: 95\n",
      "[2023-03-16 16:24:11] - training...\n"
     ]
    },
    {
     "name": "stderr",
     "output_type": "stream",
     "text": [
      "\n",
      "100%|█████████████████████████████████████████████| 2/2 [00:00<00:00, 22.73it/s]"
     ]
    },
    {
     "name": "stdout",
     "output_type": "stream",
     "text": [
      "[2023-03-16 16:24:11] - evaluating...\n"
     ]
    },
    {
     "name": "stderr",
     "output_type": "stream",
     "text": [
      "\n",
      "Valid: 100%|███████████████████████████████████| 17/17 [00:00<00:00, 502.99it/s]"
     ]
    },
    {
     "name": "stdout",
     "output_type": "stream",
     "text": [
      "[2023-03-16 16:24:11] - train 0.003435, valid MSE Loss 0.000364, valid L1 Loss 0.015084\n",
      "[2023-03-16 16:24:11] - Epoch: 96\n",
      "[2023-03-16 16:24:11] - training...\n"
     ]
    },
    {
     "name": "stderr",
     "output_type": "stream",
     "text": [
      "\n",
      "100%|█████████████████████████████████████████████| 2/2 [00:00<00:00, 19.92it/s]"
     ]
    },
    {
     "name": "stdout",
     "output_type": "stream",
     "text": [
      "[2023-03-16 16:24:11] - evaluating...\n"
     ]
    },
    {
     "name": "stderr",
     "output_type": "stream",
     "text": [
      "\n",
      "Valid: 100%|███████████████████████████████████| 17/17 [00:00<00:00, 698.72it/s]"
     ]
    },
    {
     "name": "stdout",
     "output_type": "stream",
     "text": [
      "[2023-03-16 16:24:11] - train 0.003789, valid MSE Loss 0.001997, valid L1 Loss 0.043080\n",
      "[2023-03-16 16:24:11] - Epoch: 97\n",
      "[2023-03-16 16:24:11] - training...\n"
     ]
    },
    {
     "name": "stderr",
     "output_type": "stream",
     "text": [
      "\n",
      "100%|█████████████████████████████████████████████| 2/2 [00:00<00:00, 24.82it/s]"
     ]
    },
    {
     "name": "stdout",
     "output_type": "stream",
     "text": [
      "[2023-03-16 16:24:11] - evaluating...\n"
     ]
    },
    {
     "name": "stderr",
     "output_type": "stream",
     "text": [
      "\n",
      "Valid: 100%|███████████████████████████████████| 17/17 [00:00<00:00, 622.42it/s]"
     ]
    },
    {
     "name": "stdout",
     "output_type": "stream",
     "text": [
      "[2023-03-16 16:24:11] - train 0.003725, valid MSE Loss 0.000636, valid L1 Loss 0.022507\n",
      "[2023-03-16 16:24:11] - Epoch: 98\n",
      "[2023-03-16 16:24:11] - training...\n"
     ]
    },
    {
     "name": "stderr",
     "output_type": "stream",
     "text": [
      "\n",
      "100%|█████████████████████████████████████████████| 2/2 [00:00<00:00, 25.55it/s]"
     ]
    },
    {
     "name": "stdout",
     "output_type": "stream",
     "text": [
      "[2023-03-16 16:24:11] - evaluating...\n"
     ]
    },
    {
     "name": "stderr",
     "output_type": "stream",
     "text": [
      "\n",
      "Valid: 100%|███████████████████████████████████| 17/17 [00:00<00:00, 585.29it/s]"
     ]
    },
    {
     "name": "stdout",
     "output_type": "stream",
     "text": [
      "[2023-03-16 16:24:11] - train 0.004342, valid MSE Loss 0.000298, valid L1 Loss 0.015448\n",
      "[2023-03-16 16:24:11] - Epoch: 99\n",
      "[2023-03-16 16:24:11] - training...\n"
     ]
    },
    {
     "name": "stderr",
     "output_type": "stream",
     "text": [
      "\n",
      "100%|█████████████████████████████████████████████| 2/2 [00:00<00:00, 23.16it/s]"
     ]
    },
    {
     "name": "stdout",
     "output_type": "stream",
     "text": [
      "[2023-03-16 16:24:11] - evaluating...\n"
     ]
    },
    {
     "name": "stderr",
     "output_type": "stream",
     "text": [
      "\n",
      "Valid: 100%|███████████████████████████████████| 17/17 [00:00<00:00, 649.92it/s]"
     ]
    },
    {
     "name": "stdout",
     "output_type": "stream",
     "text": [
      "[2023-03-16 16:24:11] - train 0.004100, valid MSE Loss 0.010452, valid L1 Loss 0.101631\n",
      "[2023-03-16 16:24:11] - Epoch: 100\n",
      "[2023-03-16 16:24:11] - training...\n"
     ]
    },
    {
     "name": "stderr",
     "output_type": "stream",
     "text": [
      "\n",
      "100%|█████████████████████████████████████████████| 2/2 [00:00<00:00, 24.00it/s]"
     ]
    },
    {
     "name": "stdout",
     "output_type": "stream",
     "text": [
      "[2023-03-16 16:24:11] - evaluating...\n"
     ]
    },
    {
     "name": "stderr",
     "output_type": "stream",
     "text": [
      "\n",
      "Valid: 100%|███████████████████████████████████| 17/17 [00:00<00:00, 648.81it/s]"
     ]
    },
    {
     "name": "stdout",
     "output_type": "stream",
     "text": [
      "[2023-03-16 16:24:11] - train 0.003740, valid MSE Loss 0.019331, valid L1 Loss 0.138586\n",
      "[2023-03-16 16:24:11] - Epoch: 101\n",
      "[2023-03-16 16:24:11] - training...\n"
     ]
    },
    {
     "name": "stderr",
     "output_type": "stream",
     "text": [
      "\n",
      "100%|█████████████████████████████████████████████| 2/2 [00:00<00:00, 20.84it/s]"
     ]
    },
    {
     "name": "stdout",
     "output_type": "stream",
     "text": [
      "[2023-03-16 16:24:12] - evaluating...\n"
     ]
    },
    {
     "name": "stderr",
     "output_type": "stream",
     "text": [
      "\n",
      "Valid: 100%|███████████████████████████████████| 17/17 [00:00<00:00, 729.74it/s]"
     ]
    },
    {
     "name": "stdout",
     "output_type": "stream",
     "text": [
      "[2023-03-16 16:24:12] - train 0.004123, valid MSE Loss 0.021215, valid L1 Loss 0.145234\n",
      "[2023-03-16 16:24:12] - Epoch: 102\n",
      "[2023-03-16 16:24:12] - training...\n"
     ]
    },
    {
     "name": "stderr",
     "output_type": "stream",
     "text": [
      "\n",
      "100%|█████████████████████████████████████████████| 2/2 [00:00<00:00, 21.69it/s]"
     ]
    },
    {
     "name": "stdout",
     "output_type": "stream",
     "text": [
      "[2023-03-16 16:24:12] - evaluating...\n"
     ]
    },
    {
     "name": "stderr",
     "output_type": "stream",
     "text": [
      "\n",
      "Valid: 100%|███████████████████████████████████| 17/17 [00:00<00:00, 734.33it/s]"
     ]
    },
    {
     "name": "stdout",
     "output_type": "stream",
     "text": [
      "[2023-03-16 16:24:12] - train 0.003480, valid MSE Loss 0.025464, valid L1 Loss 0.159190\n",
      "[2023-03-16 16:24:12] - Epoch: 103\n",
      "[2023-03-16 16:24:12] - training...\n"
     ]
    },
    {
     "name": "stderr",
     "output_type": "stream",
     "text": [
      "\n",
      "100%|█████████████████████████████████████████████| 2/2 [00:00<00:00, 21.81it/s]"
     ]
    },
    {
     "name": "stdout",
     "output_type": "stream",
     "text": [
      "[2023-03-16 16:24:12] - evaluating...\n"
     ]
    },
    {
     "name": "stderr",
     "output_type": "stream",
     "text": [
      "\n",
      "Valid: 100%|███████████████████████████████████| 17/17 [00:00<00:00, 746.72it/s]"
     ]
    },
    {
     "name": "stdout",
     "output_type": "stream",
     "text": [
      "[2023-03-16 16:24:12] - train 0.003749, valid MSE Loss 0.025752, valid L1 Loss 0.160109\n",
      "[2023-03-16 16:24:12] - Epoch: 104\n",
      "[2023-03-16 16:24:12] - training...\n"
     ]
    },
    {
     "name": "stderr",
     "output_type": "stream",
     "text": [
      "\n",
      "100%|█████████████████████████████████████████████| 2/2 [00:00<00:00, 23.62it/s]"
     ]
    },
    {
     "name": "stdout",
     "output_type": "stream",
     "text": [
      "[2023-03-16 16:24:12] - evaluating...\n"
     ]
    },
    {
     "name": "stderr",
     "output_type": "stream",
     "text": [
      "\n",
      "Valid: 100%|███████████████████████████████████| 17/17 [00:00<00:00, 581.81it/s]"
     ]
    },
    {
     "name": "stdout",
     "output_type": "stream",
     "text": [
      "[2023-03-16 16:24:12] - train 0.004323, valid MSE Loss 0.020824, valid L1 Loss 0.143930\n",
      "[2023-03-16 16:24:12] - Epoch: 105\n",
      "[2023-03-16 16:24:12] - training...\n"
     ]
    },
    {
     "name": "stderr",
     "output_type": "stream",
     "text": [
      "\n",
      "100%|█████████████████████████████████████████████| 2/2 [00:00<00:00, 25.23it/s]"
     ]
    },
    {
     "name": "stdout",
     "output_type": "stream",
     "text": [
      "[2023-03-16 16:24:12] - evaluating...\n"
     ]
    },
    {
     "name": "stderr",
     "output_type": "stream",
     "text": [
      "\n",
      "Valid: 100%|███████████████████████████████████| 17/17 [00:00<00:00, 705.68it/s]"
     ]
    },
    {
     "name": "stdout",
     "output_type": "stream",
     "text": [
      "[2023-03-16 16:24:12] - train 0.004356, valid MSE Loss 0.021015, valid L1 Loss 0.144611\n",
      "[2023-03-16 16:24:12] - Epoch: 106\n",
      "[2023-03-16 16:24:12] - training...\n"
     ]
    },
    {
     "name": "stderr",
     "output_type": "stream",
     "text": [
      "\n",
      "100%|█████████████████████████████████████████████| 2/2 [00:00<00:00, 25.65it/s]\n"
     ]
    },
    {
     "name": "stdout",
     "output_type": "stream",
     "text": [
      "[2023-03-16 16:24:12] - evaluating...\n"
     ]
    },
    {
     "name": "stderr",
     "output_type": "stream",
     "text": [
      "Valid: 100%|███████████████████████████████████| 17/17 [00:00<00:00, 589.56it/s]"
     ]
    },
    {
     "name": "stdout",
     "output_type": "stream",
     "text": [
      "[2023-03-16 16:24:12] - train 0.004474, valid MSE Loss 0.027275, valid L1 Loss 0.164862\n",
      "[2023-03-16 16:24:12] - Epoch: 107\n",
      "[2023-03-16 16:24:12] - training...\n"
     ]
    },
    {
     "name": "stderr",
     "output_type": "stream",
     "text": [
      "\n",
      "100%|█████████████████████████████████████████████| 2/2 [00:00<00:00, 21.64it/s]"
     ]
    },
    {
     "name": "stdout",
     "output_type": "stream",
     "text": [
      "[2023-03-16 16:24:12] - evaluating...\n"
     ]
    },
    {
     "name": "stderr",
     "output_type": "stream",
     "text": [
      "\n",
      "Valid: 100%|███████████████████████████████████| 17/17 [00:00<00:00, 581.43it/s]"
     ]
    },
    {
     "name": "stdout",
     "output_type": "stream",
     "text": [
      "[2023-03-16 16:24:12] - train 0.003243, valid MSE Loss 0.038207, valid L1 Loss 0.195234\n",
      "[2023-03-16 16:24:12] - Epoch: 108\n",
      "[2023-03-16 16:24:12] - training...\n"
     ]
    },
    {
     "name": "stderr",
     "output_type": "stream",
     "text": [
      "\n",
      "100%|█████████████████████████████████████████████| 2/2 [00:00<00:00, 23.83it/s]"
     ]
    },
    {
     "name": "stdout",
     "output_type": "stream",
     "text": [
      "[2023-03-16 16:24:13] - evaluating...\n"
     ]
    },
    {
     "name": "stderr",
     "output_type": "stream",
     "text": [
      "\n",
      "Valid: 100%|███████████████████████████████████| 17/17 [00:00<00:00, 616.62it/s]"
     ]
    },
    {
     "name": "stdout",
     "output_type": "stream",
     "text": [
      "[2023-03-16 16:24:13] - train 0.003496, valid MSE Loss 0.055006, valid L1 Loss 0.234357\n",
      "[2023-03-16 16:24:13] - Epoch: 109\n",
      "[2023-03-16 16:24:13] - training...\n"
     ]
    },
    {
     "name": "stderr",
     "output_type": "stream",
     "text": [
      "\n",
      "100%|█████████████████████████████████████████████| 2/2 [00:00<00:00, 24.27it/s]"
     ]
    },
    {
     "name": "stdout",
     "output_type": "stream",
     "text": [
      "[2023-03-16 16:24:13] - evaluating...\n"
     ]
    },
    {
     "name": "stderr",
     "output_type": "stream",
     "text": [
      "\n",
      "Valid: 100%|███████████████████████████████████| 17/17 [00:00<00:00, 758.29it/s]"
     ]
    },
    {
     "name": "stdout",
     "output_type": "stream",
     "text": [
      "[2023-03-16 16:24:13] - train 0.003761, valid MSE Loss 0.081957, valid L1 Loss 0.286143\n",
      "[2023-03-16 16:24:13] - Epoch: 110\n",
      "[2023-03-16 16:24:13] - training...\n"
     ]
    },
    {
     "name": "stderr",
     "output_type": "stream",
     "text": [
      "\n",
      "100%|█████████████████████████████████████████████| 2/2 [00:00<00:00, 25.66it/s]\n"
     ]
    },
    {
     "name": "stdout",
     "output_type": "stream",
     "text": [
      "[2023-03-16 16:24:13] - evaluating...\n"
     ]
    },
    {
     "name": "stderr",
     "output_type": "stream",
     "text": [
      "Valid: 100%|███████████████████████████████████| 17/17 [00:00<00:00, 617.66it/s]"
     ]
    },
    {
     "name": "stdout",
     "output_type": "stream",
     "text": [
      "[2023-03-16 16:24:13] - train 0.003700, valid MSE Loss 0.114176, valid L1 Loss 0.337779\n",
      "[2023-03-16 16:24:13] - Epoch: 111\n",
      "[2023-03-16 16:24:13] - training...\n"
     ]
    },
    {
     "name": "stderr",
     "output_type": "stream",
     "text": [
      "\n",
      "100%|█████████████████████████████████████████████| 2/2 [00:00<00:00, 17.80it/s]"
     ]
    },
    {
     "name": "stdout",
     "output_type": "stream",
     "text": [
      "[2023-03-16 16:24:13] - evaluating...\n"
     ]
    },
    {
     "name": "stderr",
     "output_type": "stream",
     "text": [
      "\n",
      "Valid: 100%|███████████████████████████████████| 17/17 [00:00<00:00, 586.48it/s]\n"
     ]
    },
    {
     "name": "stdout",
     "output_type": "stream",
     "text": [
      "[2023-03-16 16:24:13] - train 0.004127, valid MSE Loss 0.120543, valid L1 Loss 0.347073\n",
      "[2023-03-16 16:24:13] - Epoch: 112\n",
      "[2023-03-16 16:24:13] - training...\n"
     ]
    },
    {
     "name": "stderr",
     "output_type": "stream",
     "text": [
      "100%|█████████████████████████████████████████████| 2/2 [00:00<00:00, 23.98it/s]"
     ]
    },
    {
     "name": "stdout",
     "output_type": "stream",
     "text": [
      "[2023-03-16 16:24:13] - evaluating...\n"
     ]
    },
    {
     "name": "stderr",
     "output_type": "stream",
     "text": [
      "\n",
      "Valid: 100%|███████████████████████████████████| 17/17 [00:00<00:00, 547.66it/s]"
     ]
    },
    {
     "name": "stdout",
     "output_type": "stream",
     "text": [
      "[2023-03-16 16:24:13] - train 0.004089, valid MSE Loss 0.136846, valid L1 Loss 0.369813\n",
      "[2023-03-16 16:24:13] - Epoch: 113\n",
      "[2023-03-16 16:24:13] - training...\n"
     ]
    },
    {
     "name": "stderr",
     "output_type": "stream",
     "text": [
      "\n",
      "100%|█████████████████████████████████████████████| 2/2 [00:00<00:00, 21.47it/s]"
     ]
    },
    {
     "name": "stdout",
     "output_type": "stream",
     "text": [
      "[2023-03-16 16:24:13] - evaluating...\n"
     ]
    },
    {
     "name": "stderr",
     "output_type": "stream",
     "text": [
      "\n",
      "Valid: 100%|███████████████████████████████████| 17/17 [00:00<00:00, 602.30it/s]"
     ]
    },
    {
     "name": "stdout",
     "output_type": "stream",
     "text": [
      "[2023-03-16 16:24:13] - train 0.004522, valid MSE Loss 0.149605, valid L1 Loss 0.386684\n",
      "[2023-03-16 16:24:13] - Epoch: 114\n",
      "[2023-03-16 16:24:13] - training...\n"
     ]
    },
    {
     "name": "stderr",
     "output_type": "stream",
     "text": [
      "\n",
      "100%|█████████████████████████████████████████████| 2/2 [00:00<00:00, 24.78it/s]"
     ]
    },
    {
     "name": "stdout",
     "output_type": "stream",
     "text": [
      "[2023-03-16 16:24:13] - evaluating...\n"
     ]
    },
    {
     "name": "stderr",
     "output_type": "stream",
     "text": [
      "\n",
      "Valid: 100%|███████████████████████████████████| 17/17 [00:00<00:00, 606.00it/s]"
     ]
    },
    {
     "name": "stdout",
     "output_type": "stream",
     "text": [
      "[2023-03-16 16:24:13] - train 0.003730, valid MSE Loss 0.189450, valid L1 Loss 0.435170\n",
      "[2023-03-16 16:24:13] - Epoch: 115\n",
      "[2023-03-16 16:24:13] - training...\n"
     ]
    },
    {
     "name": "stderr",
     "output_type": "stream",
     "text": [
      "\n",
      "100%|█████████████████████████████████████████████| 2/2 [00:00<00:00, 21.50it/s]"
     ]
    },
    {
     "name": "stdout",
     "output_type": "stream",
     "text": [
      "[2023-03-16 16:24:13] - evaluating...\n"
     ]
    },
    {
     "name": "stderr",
     "output_type": "stream",
     "text": [
      "\n",
      "Valid: 100%|███████████████████████████████████| 17/17 [00:00<00:00, 781.21it/s]"
     ]
    },
    {
     "name": "stdout",
     "output_type": "stream",
     "text": [
      "[2023-03-16 16:24:13] - train 0.003907, valid MSE Loss 0.236242, valid L1 Loss 0.485972\n",
      "[2023-03-16 16:24:13] - Epoch: 116\n",
      "[2023-03-16 16:24:13] - training...\n"
     ]
    },
    {
     "name": "stderr",
     "output_type": "stream",
     "text": [
      "\n",
      "100%|█████████████████████████████████████████████| 2/2 [00:00<00:00, 24.81it/s]"
     ]
    },
    {
     "name": "stdout",
     "output_type": "stream",
     "text": [
      "[2023-03-16 16:24:14] - evaluating...\n"
     ]
    },
    {
     "name": "stderr",
     "output_type": "stream",
     "text": [
      "\n",
      "Valid: 100%|███████████████████████████████████| 17/17 [00:00<00:00, 679.27it/s]"
     ]
    },
    {
     "name": "stdout",
     "output_type": "stream",
     "text": [
      "[2023-03-16 16:24:14] - train 0.003625, valid MSE Loss 0.281007, valid L1 Loss 0.530038\n",
      "[2023-03-16 16:24:14] - Epoch: 117\n",
      "[2023-03-16 16:24:14] - training...\n"
     ]
    },
    {
     "name": "stderr",
     "output_type": "stream",
     "text": [
      "\n",
      "100%|█████████████████████████████████████████████| 2/2 [00:00<00:00, 23.98it/s]"
     ]
    },
    {
     "name": "stdout",
     "output_type": "stream",
     "text": [
      "[2023-03-16 16:24:14] - evaluating...\n"
     ]
    },
    {
     "name": "stderr",
     "output_type": "stream",
     "text": [
      "\n",
      "Valid: 100%|███████████████████████████████████| 17/17 [00:00<00:00, 603.38it/s]"
     ]
    },
    {
     "name": "stdout",
     "output_type": "stream",
     "text": [
      "[2023-03-16 16:24:14] - train 0.004128, valid MSE Loss 0.395576, valid L1 Loss 0.628897\n",
      "[2023-03-16 16:24:14] - Epoch: 118\n",
      "[2023-03-16 16:24:14] - training...\n"
     ]
    },
    {
     "name": "stderr",
     "output_type": "stream",
     "text": [
      "\n",
      "100%|█████████████████████████████████████████████| 2/2 [00:00<00:00, 24.57it/s]"
     ]
    },
    {
     "name": "stdout",
     "output_type": "stream",
     "text": [
      "[2023-03-16 16:24:14] - evaluating...\n"
     ]
    },
    {
     "name": "stderr",
     "output_type": "stream",
     "text": [
      "\n",
      "Valid: 100%|███████████████████████████████████| 17/17 [00:00<00:00, 755.62it/s]"
     ]
    },
    {
     "name": "stdout",
     "output_type": "stream",
     "text": [
      "[2023-03-16 16:24:14] - train 0.003666, valid MSE Loss 0.554005, valid L1 Loss 0.744270\n",
      "[2023-03-16 16:24:14] - Epoch: 119\n",
      "[2023-03-16 16:24:14] - training...\n"
     ]
    },
    {
     "name": "stderr",
     "output_type": "stream",
     "text": [
      "\n",
      "100%|█████████████████████████████████████████████| 2/2 [00:00<00:00, 23.81it/s]"
     ]
    },
    {
     "name": "stdout",
     "output_type": "stream",
     "text": [
      "[2023-03-16 16:24:14] - evaluating...\n"
     ]
    },
    {
     "name": "stderr",
     "output_type": "stream",
     "text": [
      "\n",
      "Valid: 100%|███████████████████████████████████| 17/17 [00:00<00:00, 537.30it/s]"
     ]
    },
    {
     "name": "stdout",
     "output_type": "stream",
     "text": [
      "[2023-03-16 16:24:14] - train 0.003536, valid MSE Loss 0.691398, valid L1 Loss 0.831462\n",
      "[2023-03-16 16:24:14] - Epoch: 120\n",
      "[2023-03-16 16:24:14] - training...\n"
     ]
    },
    {
     "name": "stderr",
     "output_type": "stream",
     "text": [
      "\n",
      "100%|█████████████████████████████████████████████| 2/2 [00:00<00:00, 24.01it/s]"
     ]
    },
    {
     "name": "stdout",
     "output_type": "stream",
     "text": [
      "[2023-03-16 16:24:14] - evaluating...\n"
     ]
    },
    {
     "name": "stderr",
     "output_type": "stream",
     "text": [
      "\n",
      "Valid: 100%|███████████████████████████████████| 17/17 [00:00<00:00, 618.24it/s]"
     ]
    },
    {
     "name": "stdout",
     "output_type": "stream",
     "text": [
      "[2023-03-16 16:24:14] - train 0.003554, valid MSE Loss 0.786103, valid L1 Loss 0.886586\n",
      "[2023-03-16 16:24:14] - Epoch: 121\n",
      "[2023-03-16 16:24:14] - training...\n"
     ]
    },
    {
     "name": "stderr",
     "output_type": "stream",
     "text": [
      "\n",
      "100%|█████████████████████████████████████████████| 2/2 [00:00<00:00, 26.18it/s]"
     ]
    },
    {
     "name": "stdout",
     "output_type": "stream",
     "text": [
      "[2023-03-16 16:24:14] - evaluating...\n"
     ]
    },
    {
     "name": "stderr",
     "output_type": "stream",
     "text": [
      "\n",
      "Valid: 100%|███████████████████████████████████| 17/17 [00:00<00:00, 603.64it/s]"
     ]
    },
    {
     "name": "stdout",
     "output_type": "stream",
     "text": [
      "[2023-03-16 16:24:14] - train 0.003550, valid MSE Loss 0.831097, valid L1 Loss 0.911607\n",
      "[2023-03-16 16:24:14] - Epoch: 122\n",
      "[2023-03-16 16:24:14] - training...\n"
     ]
    },
    {
     "name": "stderr",
     "output_type": "stream",
     "text": [
      "\n",
      "100%|█████████████████████████████████████████████| 2/2 [00:00<00:00, 24.97it/s]"
     ]
    },
    {
     "name": "stdout",
     "output_type": "stream",
     "text": [
      "[2023-03-16 16:24:14] - evaluating...\n"
     ]
    },
    {
     "name": "stderr",
     "output_type": "stream",
     "text": [
      "\n",
      "Valid: 100%|███████████████████████████████████| 17/17 [00:00<00:00, 593.83it/s]"
     ]
    },
    {
     "name": "stdout",
     "output_type": "stream",
     "text": [
      "[2023-03-16 16:24:14] - train 0.003423, valid MSE Loss 0.827808, valid L1 Loss 0.909801\n",
      "[2023-03-16 16:24:14] - Epoch: 123\n",
      "[2023-03-16 16:24:14] - training...\n"
     ]
    },
    {
     "name": "stderr",
     "output_type": "stream",
     "text": [
      "\n",
      "100%|█████████████████████████████████████████████| 2/2 [00:00<00:00, 24.18it/s]"
     ]
    },
    {
     "name": "stdout",
     "output_type": "stream",
     "text": [
      "[2023-03-16 16:24:14] - evaluating...\n"
     ]
    },
    {
     "name": "stderr",
     "output_type": "stream",
     "text": [
      "\n",
      "Valid: 100%|███████████████████████████████████| 17/17 [00:00<00:00, 639.54it/s]"
     ]
    },
    {
     "name": "stdout",
     "output_type": "stream",
     "text": [
      "[2023-03-16 16:24:14] - train 0.004322, valid MSE Loss 0.702008, valid L1 Loss 0.837817\n",
      "[2023-03-16 16:24:14] - Epoch: 124\n",
      "[2023-03-16 16:24:14] - training...\n"
     ]
    },
    {
     "name": "stderr",
     "output_type": "stream",
     "text": [
      "\n",
      "100%|█████████████████████████████████████████████| 2/2 [00:00<00:00, 21.45it/s]"
     ]
    },
    {
     "name": "stdout",
     "output_type": "stream",
     "text": [
      "[2023-03-16 16:24:15] - evaluating...\n"
     ]
    },
    {
     "name": "stderr",
     "output_type": "stream",
     "text": [
      "\n",
      "Valid: 100%|███████████████████████████████████| 17/17 [00:00<00:00, 644.60it/s]"
     ]
    },
    {
     "name": "stdout",
     "output_type": "stream",
     "text": [
      "[2023-03-16 16:24:15] - train 0.003557, valid MSE Loss 0.569791, valid L1 Loss 0.754799\n",
      "[2023-03-16 16:24:15] - Epoch: 125\n",
      "[2023-03-16 16:24:15] - training...\n"
     ]
    },
    {
     "name": "stderr",
     "output_type": "stream",
     "text": [
      "\n",
      "100%|█████████████████████████████████████████████| 2/2 [00:00<00:00, 23.26it/s]"
     ]
    },
    {
     "name": "stdout",
     "output_type": "stream",
     "text": [
      "[2023-03-16 16:24:15] - evaluating...\n"
     ]
    },
    {
     "name": "stderr",
     "output_type": "stream",
     "text": [
      "\n",
      "Valid: 100%|███████████████████████████████████| 17/17 [00:00<00:00, 703.42it/s]"
     ]
    },
    {
     "name": "stdout",
     "output_type": "stream",
     "text": [
      "[2023-03-16 16:24:15] - train 0.003953, valid MSE Loss 0.433267, valid L1 Loss 0.658178\n",
      "[2023-03-16 16:24:15] - Epoch: 126\n",
      "[2023-03-16 16:24:15] - training...\n"
     ]
    },
    {
     "name": "stderr",
     "output_type": "stream",
     "text": [
      "\n",
      "100%|█████████████████████████████████████████████| 2/2 [00:00<00:00, 23.33it/s]"
     ]
    },
    {
     "name": "stdout",
     "output_type": "stream",
     "text": [
      "[2023-03-16 16:24:15] - evaluating...\n"
     ]
    },
    {
     "name": "stderr",
     "output_type": "stream",
     "text": [
      "\n",
      "Valid: 100%|███████████████████████████████████| 17/17 [00:00<00:00, 576.40it/s]"
     ]
    },
    {
     "name": "stdout",
     "output_type": "stream",
     "text": [
      "[2023-03-16 16:24:15] - train 0.003518, valid MSE Loss 0.314593, valid L1 Loss 0.560823\n",
      "[2023-03-16 16:24:15] - Epoch: 127\n",
      "[2023-03-16 16:24:15] - training...\n"
     ]
    },
    {
     "name": "stderr",
     "output_type": "stream",
     "text": [
      "\n",
      "100%|█████████████████████████████████████████████| 2/2 [00:00<00:00, 23.51it/s]"
     ]
    },
    {
     "name": "stdout",
     "output_type": "stream",
     "text": [
      "[2023-03-16 16:24:15] - evaluating...\n"
     ]
    },
    {
     "name": "stderr",
     "output_type": "stream",
     "text": [
      "\n",
      "Valid: 100%|███████████████████████████████████| 17/17 [00:00<00:00, 657.33it/s]"
     ]
    },
    {
     "name": "stdout",
     "output_type": "stream",
     "text": [
      "[2023-03-16 16:24:15] - train 0.004120, valid MSE Loss 0.183946, valid L1 Loss 0.428810\n",
      "[2023-03-16 16:24:15] - Epoch: 128\n",
      "[2023-03-16 16:24:15] - training...\n"
     ]
    },
    {
     "name": "stderr",
     "output_type": "stream",
     "text": [
      "\n",
      "100%|█████████████████████████████████████████████| 2/2 [00:00<00:00, 21.93it/s]"
     ]
    },
    {
     "name": "stdout",
     "output_type": "stream",
     "text": [
      "[2023-03-16 16:24:15] - evaluating...\n"
     ]
    },
    {
     "name": "stderr",
     "output_type": "stream",
     "text": [
      "\n",
      "Valid: 100%|███████████████████████████████████| 17/17 [00:00<00:00, 687.80it/s]"
     ]
    },
    {
     "name": "stdout",
     "output_type": "stream",
     "text": [
      "[2023-03-16 16:24:15] - train 0.003515, valid MSE Loss 0.089175, valid L1 Loss 0.298511\n",
      "[2023-03-16 16:24:15] - Epoch: 129\n",
      "[2023-03-16 16:24:15] - training...\n"
     ]
    },
    {
     "name": "stderr",
     "output_type": "stream",
     "text": [
      "\n",
      "100%|█████████████████████████████████████████████| 2/2 [00:00<00:00, 19.94it/s]"
     ]
    },
    {
     "name": "stdout",
     "output_type": "stream",
     "text": [
      "[2023-03-16 16:24:15] - evaluating...\n"
     ]
    },
    {
     "name": "stderr",
     "output_type": "stream",
     "text": [
      "\n",
      "Valid: 100%|███████████████████████████████████| 17/17 [00:00<00:00, 681.64it/s]"
     ]
    },
    {
     "name": "stdout",
     "output_type": "stream",
     "text": [
      "[2023-03-16 16:24:15] - train 0.003588, valid MSE Loss 0.021811, valid L1 Loss 0.147468\n",
      "[2023-03-16 16:24:15] - Epoch: 130\n",
      "[2023-03-16 16:24:15] - training...\n"
     ]
    },
    {
     "name": "stderr",
     "output_type": "stream",
     "text": [
      "\n",
      "100%|█████████████████████████████████████████████| 2/2 [00:00<00:00, 25.21it/s]"
     ]
    },
    {
     "name": "stdout",
     "output_type": "stream",
     "text": [
      "[2023-03-16 16:24:15] - evaluating...\n"
     ]
    },
    {
     "name": "stderr",
     "output_type": "stream",
     "text": [
      "\n",
      "Valid: 100%|███████████████████████████████████| 17/17 [00:00<00:00, 656.97it/s]"
     ]
    },
    {
     "name": "stdout",
     "output_type": "stream",
     "text": [
      "[2023-03-16 16:24:15] - train 0.003231, valid MSE Loss 0.000899, valid L1 Loss 0.029081\n",
      "[2023-03-16 16:24:15] - early stop\n",
      "[2023-03-16 16:24:15] - best val mse loss score: 0.000178526239538127 @ 90\n",
      "[2023-03-16 16:24:15] - Finished.\n"
     ]
    },
    {
     "name": "stderr",
     "output_type": "stream",
     "text": [
      "\n"
     ]
    }
   ],
   "source": [
    "## training\n",
    "adarnn.train(train_loader_list, valid_loader, args)"
   ]
  },
  {
   "cell_type": "code",
   "execution_count": null,
   "id": "8d4b6c04",
   "metadata": {},
   "outputs": [],
   "source": []
  },
  {
   "cell_type": "code",
   "execution_count": null,
   "id": "8f62fbc5",
   "metadata": {},
   "outputs": [],
   "source": []
  },
  {
   "cell_type": "code",
   "execution_count": null,
   "id": "fd3fc801",
   "metadata": {},
   "outputs": [],
   "source": []
  },
  {
   "cell_type": "code",
   "execution_count": null,
   "id": "8d7cf270",
   "metadata": {},
   "outputs": [],
   "source": []
  },
  {
   "cell_type": "code",
   "execution_count": null,
   "id": "5c695472",
   "metadata": {},
   "outputs": [],
   "source": []
  },
  {
   "cell_type": "code",
   "execution_count": null,
   "id": "41a651db",
   "metadata": {},
   "outputs": [],
   "source": []
  },
  {
   "cell_type": "code",
   "execution_count": null,
   "id": "8c6c01da",
   "metadata": {},
   "outputs": [],
   "source": []
  },
  {
   "cell_type": "code",
   "execution_count": null,
   "id": "c5a31e1c",
   "metadata": {},
   "outputs": [],
   "source": []
  },
  {
   "cell_type": "code",
   "execution_count": null,
   "id": "8c8fe40a",
   "metadata": {},
   "outputs": [],
   "source": []
  }
 ],
 "metadata": {
  "kernelspec": {
   "display_name": "Python 3 (ipykernel)",
   "language": "python",
   "name": "python3"
  },
  "language_info": {
   "codemirror_mode": {
    "name": "ipython",
    "version": 3
   },
   "file_extension": ".py",
   "mimetype": "text/x-python",
   "name": "python",
   "nbconvert_exporter": "python",
   "pygments_lexer": "ipython3",
   "version": "3.8.16"
  }
 },
 "nbformat": 4,
 "nbformat_minor": 5
}
