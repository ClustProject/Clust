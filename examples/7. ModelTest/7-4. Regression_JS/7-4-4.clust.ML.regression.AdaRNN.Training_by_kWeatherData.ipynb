{
 "cells": [
  {
   "cell_type": "code",
   "execution_count": 1,
   "id": "ece5149a",
   "metadata": {},
   "outputs": [],
   "source": [
    "import os\n",
    "import sys\n",
    "sys.path.append(\"../\")\n",
    "sys.path.append(\"../../\")\n",
    "sys.path.append(\"../../../\")\n",
    "sys.path.append(\"../../../../\")\n",
    "\n",
    "import pandas as pd\n",
    "import numpy as np\n",
    "import datetime\n",
    "import torch\n",
    "import math\n",
    "\n",
    "from Clust.clust.ML.regression_JS import ada_rnn\n",
    "from Clust.clust.preprocessing.imputation.basicMethod import BasicImputation\n",
    "from Clust.clust.transformation.purpose.machineLearning import LSTMData\n",
    "\n",
    "from Clust.clust.ingestion.influx import influx_client_v2 as influx_Client\n",
    "from Clust.clust.data import df_set_data\n",
    "from Clust.clust.data import data_interface\n",
    "\n",
    "from Clust.setting import influx_setting_KETI as ins\n",
    "db_client = influx_Client.InfluxClient(ins.CLUSTDataServer2)\n",
    "\n",
    "from clust.preprocessing.dataPreprocessing import DataPreprocessing\n",
    "from Clust.clust.preprocessing.imputation.basicMethod import BasicImputation\n",
    "from Clust.clust.transformation.purpose.machineLearning import LSTMData\n",
    "\n",
    "from Clust.clust.ML.tool import data as ml_data"
   ]
  },
  {
   "cell_type": "markdown",
   "id": "35ce251c",
   "metadata": {},
   "source": [
    "# Set Param"
   ]
  },
  {
   "cell_type": "code",
   "execution_count": 2,
   "id": "541f6a1f",
   "metadata": {},
   "outputs": [],
   "source": [
    "feature_list = [\"out_blacksphere_temp\", \"out_coai\", \"out_h2s\", 'out_humi', 'out_nh3', 'out_pm10', 'out_temp', 'out_ultraviolet_rays']\n",
    "target_col = \"out_pm10\"\n",
    "\n",
    "get_y_data_transformParameter ={\n",
    "    \"future_step\": 1,# 0~x\n",
    "    \"past_step\":24,# 1~y\n",
    "    \"feature_col\": feature_list,\n",
    "    \"target_col\":target_col \n",
    "}   \n",
    "\n",
    "param = {\n",
    "    \"x_features\" : 8, \n",
    "    \"class_num\" : 1, \n",
    "    \"dropout\" : 0.0, \n",
    "    \"len_seq\" : 24, \n",
    "    \"loss_type\" : \"adv\",\n",
    "    \"hidden_size\" : 64,\n",
    "    \"num_layers\" : 2\n",
    "}\n",
    "\n",
    "args = {\n",
    "    \"output_folder_name\" : \"./ada_rnn_model\",\n",
    "    \"save_model_name\" : \"test_adarnn_model_by_origin_data\",\n",
    "    \"lr\" : 5e-4,\n",
    "    \"n_epochs\" : 200,\n",
    "    \"num_layers\" : 2, \n",
    "    \"len_seq\" : 24,\n",
    "    \"pre_epoch\" : 40,\n",
    "    \"len_win\" : 0,\n",
    "    \"dw\" : 0.5,\n",
    "    \"early_stop\" :40\n",
    "}\n",
    "k = 2\n",
    "\n",
    "train_start_time = \"2021-01-01 00:00:00\"\n",
    "train_end_time = \"2021-12-31 00:00:00\"\n",
    "bk_name = \"air_outdoor_kweather\"\n",
    "ms_name = \"OC3CL200010\"\n",
    "\n",
    "#test_start_time = \"2022-01-01 00:00:00\"\n",
    "#test_end_time = \"2022-04-29 00:00:00\""
   ]
  },
  {
   "cell_type": "code",
   "execution_count": null,
   "id": "928c0109",
   "metadata": {},
   "outputs": [],
   "source": []
  },
  {
   "cell_type": "markdown",
   "id": "ab8e4ff8",
   "metadata": {},
   "source": [
    "# get Data"
   ]
  },
  {
   "cell_type": "markdown",
   "id": "5fab6f4c",
   "metadata": {},
   "source": [
    "## Data Read"
   ]
  },
  {
   "cell_type": "code",
   "execution_count": 3,
   "id": "a895c8d8",
   "metadata": {},
   "outputs": [],
   "source": [
    "origin_data = db_client.get_data_by_time(train_start_time, train_end_time, bk_name, ms_name)"
   ]
  },
  {
   "cell_type": "code",
   "execution_count": 4,
   "id": "dbfb17b8",
   "metadata": {
    "scrolled": true
   },
   "outputs": [
    {
     "data": {
      "text/html": [
       "<div>\n",
       "<style scoped>\n",
       "    .dataframe tbody tr th:only-of-type {\n",
       "        vertical-align: middle;\n",
       "    }\n",
       "\n",
       "    .dataframe tbody tr th {\n",
       "        vertical-align: top;\n",
       "    }\n",
       "\n",
       "    .dataframe thead th {\n",
       "        text-align: right;\n",
       "    }\n",
       "</style>\n",
       "<table border=\"1\" class=\"dataframe\">\n",
       "  <thead>\n",
       "    <tr style=\"text-align: right;\">\n",
       "      <th></th>\n",
       "      <th>out_blacksphere_temp</th>\n",
       "      <th>out_co</th>\n",
       "      <th>out_coai</th>\n",
       "      <th>out_coci</th>\n",
       "      <th>out_h2s</th>\n",
       "      <th>out_humi</th>\n",
       "      <th>out_light_intensity</th>\n",
       "      <th>out_nh3</th>\n",
       "      <th>out_no2</th>\n",
       "      <th>out_noise</th>\n",
       "      <th>out_o3</th>\n",
       "      <th>out_pm10</th>\n",
       "      <th>out_pm25</th>\n",
       "      <th>out_so2</th>\n",
       "      <th>out_temp</th>\n",
       "      <th>out_ultraviolet_rays</th>\n",
       "    </tr>\n",
       "    <tr>\n",
       "      <th>time</th>\n",
       "      <th></th>\n",
       "      <th></th>\n",
       "      <th></th>\n",
       "      <th></th>\n",
       "      <th></th>\n",
       "      <th></th>\n",
       "      <th></th>\n",
       "      <th></th>\n",
       "      <th></th>\n",
       "      <th></th>\n",
       "      <th></th>\n",
       "      <th></th>\n",
       "      <th></th>\n",
       "      <th></th>\n",
       "      <th></th>\n",
       "      <th></th>\n",
       "    </tr>\n",
       "  </thead>\n",
       "  <tbody>\n",
       "    <tr>\n",
       "      <th>2021-01-01 00:00:00+00:00</th>\n",
       "      <td>-8.9</td>\n",
       "      <td>-9999.0</td>\n",
       "      <td>96.0</td>\n",
       "      <td>96.0</td>\n",
       "      <td>0.20</td>\n",
       "      <td>66.0</td>\n",
       "      <td>-9999.0</td>\n",
       "      <td>0.0</td>\n",
       "      <td>-9999.0</td>\n",
       "      <td>50.0</td>\n",
       "      <td>-9999.0</td>\n",
       "      <td>10.0</td>\n",
       "      <td>7.0</td>\n",
       "      <td>-9999.0</td>\n",
       "      <td>-9.31</td>\n",
       "      <td>0.0</td>\n",
       "    </tr>\n",
       "    <tr>\n",
       "      <th>2021-01-01 00:02:00+00:00</th>\n",
       "      <td>-8.9</td>\n",
       "      <td>-9999.0</td>\n",
       "      <td>96.0</td>\n",
       "      <td>96.0</td>\n",
       "      <td>0.21</td>\n",
       "      <td>66.0</td>\n",
       "      <td>-9999.0</td>\n",
       "      <td>0.0</td>\n",
       "      <td>-9999.0</td>\n",
       "      <td>50.0</td>\n",
       "      <td>-9999.0</td>\n",
       "      <td>11.0</td>\n",
       "      <td>7.0</td>\n",
       "      <td>-9999.0</td>\n",
       "      <td>-9.31</td>\n",
       "      <td>0.0</td>\n",
       "    </tr>\n",
       "    <tr>\n",
       "      <th>2021-01-01 00:04:00+00:00</th>\n",
       "      <td>-8.9</td>\n",
       "      <td>-9999.0</td>\n",
       "      <td>97.0</td>\n",
       "      <td>97.0</td>\n",
       "      <td>0.24</td>\n",
       "      <td>66.0</td>\n",
       "      <td>-9999.0</td>\n",
       "      <td>0.0</td>\n",
       "      <td>-9999.0</td>\n",
       "      <td>50.0</td>\n",
       "      <td>-9999.0</td>\n",
       "      <td>10.0</td>\n",
       "      <td>6.0</td>\n",
       "      <td>-9999.0</td>\n",
       "      <td>-9.20</td>\n",
       "      <td>0.0</td>\n",
       "    </tr>\n",
       "    <tr>\n",
       "      <th>2021-01-01 00:06:00+00:00</th>\n",
       "      <td>-8.9</td>\n",
       "      <td>-9999.0</td>\n",
       "      <td>96.0</td>\n",
       "      <td>96.0</td>\n",
       "      <td>0.26</td>\n",
       "      <td>66.0</td>\n",
       "      <td>-9999.0</td>\n",
       "      <td>0.0</td>\n",
       "      <td>-9999.0</td>\n",
       "      <td>50.0</td>\n",
       "      <td>-9999.0</td>\n",
       "      <td>10.0</td>\n",
       "      <td>7.0</td>\n",
       "      <td>-9999.0</td>\n",
       "      <td>-9.20</td>\n",
       "      <td>0.0</td>\n",
       "    </tr>\n",
       "    <tr>\n",
       "      <th>2021-01-01 00:08:00+00:00</th>\n",
       "      <td>-8.9</td>\n",
       "      <td>-9999.0</td>\n",
       "      <td>96.0</td>\n",
       "      <td>96.0</td>\n",
       "      <td>0.25</td>\n",
       "      <td>66.0</td>\n",
       "      <td>-9999.0</td>\n",
       "      <td>0.0</td>\n",
       "      <td>-9999.0</td>\n",
       "      <td>50.0</td>\n",
       "      <td>-9999.0</td>\n",
       "      <td>10.0</td>\n",
       "      <td>7.0</td>\n",
       "      <td>-9999.0</td>\n",
       "      <td>-9.20</td>\n",
       "      <td>0.0</td>\n",
       "    </tr>\n",
       "    <tr>\n",
       "      <th>...</th>\n",
       "      <td>...</td>\n",
       "      <td>...</td>\n",
       "      <td>...</td>\n",
       "      <td>...</td>\n",
       "      <td>...</td>\n",
       "      <td>...</td>\n",
       "      <td>...</td>\n",
       "      <td>...</td>\n",
       "      <td>...</td>\n",
       "      <td>...</td>\n",
       "      <td>...</td>\n",
       "      <td>...</td>\n",
       "      <td>...</td>\n",
       "      <td>...</td>\n",
       "      <td>...</td>\n",
       "      <td>...</td>\n",
       "    </tr>\n",
       "    <tr>\n",
       "      <th>2021-08-20 09:06:00+00:00</th>\n",
       "      <td>23.0</td>\n",
       "      <td>-9999.0</td>\n",
       "      <td>97.0</td>\n",
       "      <td>97.0</td>\n",
       "      <td>0.00</td>\n",
       "      <td>79.0</td>\n",
       "      <td>-9999.0</td>\n",
       "      <td>0.0</td>\n",
       "      <td>-9999.0</td>\n",
       "      <td>43.0</td>\n",
       "      <td>-9999.0</td>\n",
       "      <td>9.0</td>\n",
       "      <td>6.0</td>\n",
       "      <td>-9999.0</td>\n",
       "      <td>25.30</td>\n",
       "      <td>1.3</td>\n",
       "    </tr>\n",
       "    <tr>\n",
       "      <th>2021-08-20 09:08:00+00:00</th>\n",
       "      <td>23.1</td>\n",
       "      <td>-9999.0</td>\n",
       "      <td>97.0</td>\n",
       "      <td>97.0</td>\n",
       "      <td>0.00</td>\n",
       "      <td>80.0</td>\n",
       "      <td>-9999.0</td>\n",
       "      <td>0.0</td>\n",
       "      <td>-9999.0</td>\n",
       "      <td>43.0</td>\n",
       "      <td>-9999.0</td>\n",
       "      <td>9.0</td>\n",
       "      <td>6.0</td>\n",
       "      <td>-9999.0</td>\n",
       "      <td>25.30</td>\n",
       "      <td>1.3</td>\n",
       "    </tr>\n",
       "    <tr>\n",
       "      <th>2021-08-20 09:10:00+00:00</th>\n",
       "      <td>23.1</td>\n",
       "      <td>-9999.0</td>\n",
       "      <td>97.0</td>\n",
       "      <td>97.0</td>\n",
       "      <td>0.00</td>\n",
       "      <td>79.0</td>\n",
       "      <td>-9999.0</td>\n",
       "      <td>0.0</td>\n",
       "      <td>-9999.0</td>\n",
       "      <td>48.0</td>\n",
       "      <td>-9999.0</td>\n",
       "      <td>9.0</td>\n",
       "      <td>6.0</td>\n",
       "      <td>-9999.0</td>\n",
       "      <td>25.40</td>\n",
       "      <td>1.3</td>\n",
       "    </tr>\n",
       "    <tr>\n",
       "      <th>2021-08-20 09:12:00+00:00</th>\n",
       "      <td>23.3</td>\n",
       "      <td>-9999.0</td>\n",
       "      <td>97.0</td>\n",
       "      <td>97.0</td>\n",
       "      <td>0.00</td>\n",
       "      <td>79.0</td>\n",
       "      <td>-9999.0</td>\n",
       "      <td>0.0</td>\n",
       "      <td>-9999.0</td>\n",
       "      <td>49.0</td>\n",
       "      <td>-9999.0</td>\n",
       "      <td>9.0</td>\n",
       "      <td>6.0</td>\n",
       "      <td>-9999.0</td>\n",
       "      <td>25.60</td>\n",
       "      <td>1.3</td>\n",
       "    </tr>\n",
       "    <tr>\n",
       "      <th>2021-08-20 09:14:00+00:00</th>\n",
       "      <td>23.4</td>\n",
       "      <td>-9999.0</td>\n",
       "      <td>97.0</td>\n",
       "      <td>97.0</td>\n",
       "      <td>0.00</td>\n",
       "      <td>79.0</td>\n",
       "      <td>-9999.0</td>\n",
       "      <td>0.0</td>\n",
       "      <td>-9999.0</td>\n",
       "      <td>47.0</td>\n",
       "      <td>-9999.0</td>\n",
       "      <td>9.0</td>\n",
       "      <td>6.0</td>\n",
       "      <td>-9999.0</td>\n",
       "      <td>25.70</td>\n",
       "      <td>1.3</td>\n",
       "    </tr>\n",
       "  </tbody>\n",
       "</table>\n",
       "<p>157951 rows × 16 columns</p>\n",
       "</div>"
      ],
      "text/plain": [
       "                           out_blacksphere_temp  out_co  out_coai  out_coci  \\\n",
       "time                                                                          \n",
       "2021-01-01 00:00:00+00:00                  -8.9 -9999.0      96.0      96.0   \n",
       "2021-01-01 00:02:00+00:00                  -8.9 -9999.0      96.0      96.0   \n",
       "2021-01-01 00:04:00+00:00                  -8.9 -9999.0      97.0      97.0   \n",
       "2021-01-01 00:06:00+00:00                  -8.9 -9999.0      96.0      96.0   \n",
       "2021-01-01 00:08:00+00:00                  -8.9 -9999.0      96.0      96.0   \n",
       "...                                         ...     ...       ...       ...   \n",
       "2021-08-20 09:06:00+00:00                  23.0 -9999.0      97.0      97.0   \n",
       "2021-08-20 09:08:00+00:00                  23.1 -9999.0      97.0      97.0   \n",
       "2021-08-20 09:10:00+00:00                  23.1 -9999.0      97.0      97.0   \n",
       "2021-08-20 09:12:00+00:00                  23.3 -9999.0      97.0      97.0   \n",
       "2021-08-20 09:14:00+00:00                  23.4 -9999.0      97.0      97.0   \n",
       "\n",
       "                           out_h2s  out_humi  out_light_intensity  out_nh3  \\\n",
       "time                                                                         \n",
       "2021-01-01 00:00:00+00:00     0.20      66.0              -9999.0      0.0   \n",
       "2021-01-01 00:02:00+00:00     0.21      66.0              -9999.0      0.0   \n",
       "2021-01-01 00:04:00+00:00     0.24      66.0              -9999.0      0.0   \n",
       "2021-01-01 00:06:00+00:00     0.26      66.0              -9999.0      0.0   \n",
       "2021-01-01 00:08:00+00:00     0.25      66.0              -9999.0      0.0   \n",
       "...                            ...       ...                  ...      ...   \n",
       "2021-08-20 09:06:00+00:00     0.00      79.0              -9999.0      0.0   \n",
       "2021-08-20 09:08:00+00:00     0.00      80.0              -9999.0      0.0   \n",
       "2021-08-20 09:10:00+00:00     0.00      79.0              -9999.0      0.0   \n",
       "2021-08-20 09:12:00+00:00     0.00      79.0              -9999.0      0.0   \n",
       "2021-08-20 09:14:00+00:00     0.00      79.0              -9999.0      0.0   \n",
       "\n",
       "                           out_no2  out_noise  out_o3  out_pm10  out_pm25  \\\n",
       "time                                                                        \n",
       "2021-01-01 00:00:00+00:00  -9999.0       50.0 -9999.0      10.0       7.0   \n",
       "2021-01-01 00:02:00+00:00  -9999.0       50.0 -9999.0      11.0       7.0   \n",
       "2021-01-01 00:04:00+00:00  -9999.0       50.0 -9999.0      10.0       6.0   \n",
       "2021-01-01 00:06:00+00:00  -9999.0       50.0 -9999.0      10.0       7.0   \n",
       "2021-01-01 00:08:00+00:00  -9999.0       50.0 -9999.0      10.0       7.0   \n",
       "...                            ...        ...     ...       ...       ...   \n",
       "2021-08-20 09:06:00+00:00  -9999.0       43.0 -9999.0       9.0       6.0   \n",
       "2021-08-20 09:08:00+00:00  -9999.0       43.0 -9999.0       9.0       6.0   \n",
       "2021-08-20 09:10:00+00:00  -9999.0       48.0 -9999.0       9.0       6.0   \n",
       "2021-08-20 09:12:00+00:00  -9999.0       49.0 -9999.0       9.0       6.0   \n",
       "2021-08-20 09:14:00+00:00  -9999.0       47.0 -9999.0       9.0       6.0   \n",
       "\n",
       "                           out_so2  out_temp  out_ultraviolet_rays  \n",
       "time                                                                \n",
       "2021-01-01 00:00:00+00:00  -9999.0     -9.31                   0.0  \n",
       "2021-01-01 00:02:00+00:00  -9999.0     -9.31                   0.0  \n",
       "2021-01-01 00:04:00+00:00  -9999.0     -9.20                   0.0  \n",
       "2021-01-01 00:06:00+00:00  -9999.0     -9.20                   0.0  \n",
       "2021-01-01 00:08:00+00:00  -9999.0     -9.20                   0.0  \n",
       "...                            ...       ...                   ...  \n",
       "2021-08-20 09:06:00+00:00  -9999.0     25.30                   1.3  \n",
       "2021-08-20 09:08:00+00:00  -9999.0     25.30                   1.3  \n",
       "2021-08-20 09:10:00+00:00  -9999.0     25.40                   1.3  \n",
       "2021-08-20 09:12:00+00:00  -9999.0     25.60                   1.3  \n",
       "2021-08-20 09:14:00+00:00  -9999.0     25.70                   1.3  \n",
       "\n",
       "[157951 rows x 16 columns]"
      ]
     },
     "execution_count": 4,
     "metadata": {},
     "output_type": "execute_result"
    }
   ],
   "source": [
    "origin_data"
   ]
  },
  {
   "cell_type": "code",
   "execution_count": 5,
   "id": "f804ed14",
   "metadata": {
    "scrolled": true
   },
   "outputs": [
    {
     "name": "stdout",
     "output_type": "stream",
     "text": [
      "<class 'pandas.core.frame.DataFrame'>\n",
      "DatetimeIndex: 157951 entries, 2021-01-01 00:00:00+00:00 to 2021-08-20 09:14:00+00:00\n",
      "Data columns (total 16 columns):\n",
      " #   Column                Non-Null Count   Dtype  \n",
      "---  ------                --------------   -----  \n",
      " 0   out_blacksphere_temp  157951 non-null  float64\n",
      " 1   out_co                157951 non-null  float64\n",
      " 2   out_coai              157951 non-null  float64\n",
      " 3   out_coci              157951 non-null  float64\n",
      " 4   out_h2s               157951 non-null  float64\n",
      " 5   out_humi              157951 non-null  float64\n",
      " 6   out_light_intensity   157951 non-null  float64\n",
      " 7   out_nh3               157951 non-null  float64\n",
      " 8   out_no2               157951 non-null  float64\n",
      " 9   out_noise             157951 non-null  float64\n",
      " 10  out_o3                157951 non-null  float64\n",
      " 11  out_pm10              157951 non-null  float64\n",
      " 12  out_pm25              157951 non-null  float64\n",
      " 13  out_so2               157951 non-null  float64\n",
      " 14  out_temp              157951 non-null  float64\n",
      " 15  out_ultraviolet_rays  157951 non-null  float64\n",
      "dtypes: float64(16)\n",
      "memory usage: 20.5 MB\n"
     ]
    }
   ],
   "source": [
    "origin_data.info()"
   ]
  },
  {
   "cell_type": "code",
   "execution_count": 6,
   "id": "3cd38484",
   "metadata": {},
   "outputs": [
    {
     "name": "stdout",
     "output_type": "stream",
     "text": [
      "0 days 00:02:00\n"
     ]
    }
   ],
   "source": [
    "# Check Frequency\n",
    "freq = db_client.get_freq(bk_name, ms_name)\n",
    "print(freq)"
   ]
  },
  {
   "cell_type": "code",
   "execution_count": 7,
   "id": "2fa5a395",
   "metadata": {},
   "outputs": [],
   "source": [
    "origin_data = origin_data[feature_list]"
   ]
  },
  {
   "cell_type": "markdown",
   "id": "ece08197",
   "metadata": {},
   "source": [
    "## Data Refine"
   ]
  },
  {
   "cell_type": "code",
   "execution_count": 8,
   "id": "ebfa508b",
   "metadata": {},
   "outputs": [],
   "source": [
    "# fill in the missing time index\n",
    "refine_param = {'removeDuplication': {'flag': True} , 'staticFrequency': {'flag': True, 'frequency': \"1H\"}}\n",
    "data_refine = DataPreprocessing().get_refinedData(origin_data, refine_param)"
   ]
  },
  {
   "cell_type": "code",
   "execution_count": 9,
   "id": "c5ada1cb",
   "metadata": {},
   "outputs": [
    {
     "name": "stdout",
     "output_type": "stream",
     "text": [
      "<class 'pandas.core.frame.DataFrame'>\n",
      "DatetimeIndex: 5554 entries, 2021-01-01 00:00:00+00:00 to 2021-08-20 09:00:00+00:00\n",
      "Freq: H\n",
      "Data columns (total 8 columns):\n",
      " #   Column                Non-Null Count  Dtype  \n",
      "---  ------                --------------  -----  \n",
      " 0   out_blacksphere_temp  5547 non-null   float64\n",
      " 1   out_coai              5547 non-null   float64\n",
      " 2   out_h2s               5547 non-null   float64\n",
      " 3   out_humi              5547 non-null   float64\n",
      " 4   out_nh3               5547 non-null   float64\n",
      " 5   out_pm10              5547 non-null   float64\n",
      " 6   out_temp              5547 non-null   float64\n",
      " 7   out_ultraviolet_rays  5547 non-null   float64\n",
      "dtypes: float64(8)\n",
      "memory usage: 390.5 KB\n"
     ]
    }
   ],
   "source": [
    "data_refine.info()"
   ]
  },
  {
   "cell_type": "code",
   "execution_count": 10,
   "id": "2b72dd5b",
   "metadata": {},
   "outputs": [
    {
     "data": {
      "text/html": [
       "<div>\n",
       "<style scoped>\n",
       "    .dataframe tbody tr th:only-of-type {\n",
       "        vertical-align: middle;\n",
       "    }\n",
       "\n",
       "    .dataframe tbody tr th {\n",
       "        vertical-align: top;\n",
       "    }\n",
       "\n",
       "    .dataframe thead th {\n",
       "        text-align: right;\n",
       "    }\n",
       "</style>\n",
       "<table border=\"1\" class=\"dataframe\">\n",
       "  <thead>\n",
       "    <tr style=\"text-align: right;\">\n",
       "      <th></th>\n",
       "      <th>out_blacksphere_temp</th>\n",
       "      <th>out_coai</th>\n",
       "      <th>out_h2s</th>\n",
       "      <th>out_humi</th>\n",
       "      <th>out_nh3</th>\n",
       "      <th>out_pm10</th>\n",
       "      <th>out_temp</th>\n",
       "      <th>out_ultraviolet_rays</th>\n",
       "    </tr>\n",
       "    <tr>\n",
       "      <th>time</th>\n",
       "      <th></th>\n",
       "      <th></th>\n",
       "      <th></th>\n",
       "      <th></th>\n",
       "      <th></th>\n",
       "      <th></th>\n",
       "      <th></th>\n",
       "      <th></th>\n",
       "    </tr>\n",
       "  </thead>\n",
       "  <tbody>\n",
       "    <tr>\n",
       "      <th>2021-01-01 00:00:00+00:00</th>\n",
       "      <td>-8.976667</td>\n",
       "      <td>96.100000</td>\n",
       "      <td>0.289333</td>\n",
       "      <td>65.933333</td>\n",
       "      <td>0.0</td>\n",
       "      <td>10.433333</td>\n",
       "      <td>-9.322000</td>\n",
       "      <td>0.000000</td>\n",
       "    </tr>\n",
       "    <tr>\n",
       "      <th>2021-01-01 01:00:00+00:00</th>\n",
       "      <td>-9.249259</td>\n",
       "      <td>97.111111</td>\n",
       "      <td>0.290741</td>\n",
       "      <td>66.925926</td>\n",
       "      <td>0.0</td>\n",
       "      <td>8.407407</td>\n",
       "      <td>-9.788889</td>\n",
       "      <td>0.003704</td>\n",
       "    </tr>\n",
       "    <tr>\n",
       "      <th>2021-01-01 02:00:00+00:00</th>\n",
       "      <td>-9.418966</td>\n",
       "      <td>97.896552</td>\n",
       "      <td>0.306897</td>\n",
       "      <td>67.620690</td>\n",
       "      <td>0.0</td>\n",
       "      <td>6.965517</td>\n",
       "      <td>-10.069310</td>\n",
       "      <td>0.003448</td>\n",
       "    </tr>\n",
       "    <tr>\n",
       "      <th>2021-01-01 03:00:00+00:00</th>\n",
       "      <td>-9.534483</td>\n",
       "      <td>98.000000</td>\n",
       "      <td>0.295517</td>\n",
       "      <td>68.344828</td>\n",
       "      <td>0.0</td>\n",
       "      <td>6.172414</td>\n",
       "      <td>-10.310345</td>\n",
       "      <td>0.000000</td>\n",
       "    </tr>\n",
       "    <tr>\n",
       "      <th>2021-01-01 04:00:00+00:00</th>\n",
       "      <td>-9.471786</td>\n",
       "      <td>98.000000</td>\n",
       "      <td>0.272857</td>\n",
       "      <td>67.785714</td>\n",
       "      <td>0.0</td>\n",
       "      <td>6.000000</td>\n",
       "      <td>-10.178929</td>\n",
       "      <td>0.060714</td>\n",
       "    </tr>\n",
       "  </tbody>\n",
       "</table>\n",
       "</div>"
      ],
      "text/plain": [
       "                           out_blacksphere_temp   out_coai   out_h2s  \\\n",
       "time                                                                   \n",
       "2021-01-01 00:00:00+00:00             -8.976667  96.100000  0.289333   \n",
       "2021-01-01 01:00:00+00:00             -9.249259  97.111111  0.290741   \n",
       "2021-01-01 02:00:00+00:00             -9.418966  97.896552  0.306897   \n",
       "2021-01-01 03:00:00+00:00             -9.534483  98.000000  0.295517   \n",
       "2021-01-01 04:00:00+00:00             -9.471786  98.000000  0.272857   \n",
       "\n",
       "                            out_humi  out_nh3   out_pm10   out_temp  \\\n",
       "time                                                                  \n",
       "2021-01-01 00:00:00+00:00  65.933333      0.0  10.433333  -9.322000   \n",
       "2021-01-01 01:00:00+00:00  66.925926      0.0   8.407407  -9.788889   \n",
       "2021-01-01 02:00:00+00:00  67.620690      0.0   6.965517 -10.069310   \n",
       "2021-01-01 03:00:00+00:00  68.344828      0.0   6.172414 -10.310345   \n",
       "2021-01-01 04:00:00+00:00  67.785714      0.0   6.000000 -10.178929   \n",
       "\n",
       "                           out_ultraviolet_rays  \n",
       "time                                             \n",
       "2021-01-01 00:00:00+00:00              0.000000  \n",
       "2021-01-01 01:00:00+00:00              0.003704  \n",
       "2021-01-01 02:00:00+00:00              0.003448  \n",
       "2021-01-01 03:00:00+00:00              0.000000  \n",
       "2021-01-01 04:00:00+00:00              0.060714  "
      ]
     },
     "execution_count": 10,
     "metadata": {},
     "output_type": "execute_result"
    }
   ],
   "source": [
    "data_refine.head()"
   ]
  },
  {
   "cell_type": "markdown",
   "id": "ced6edb8",
   "metadata": {},
   "source": [
    "## Data Nan -> Mean"
   ]
  },
  {
   "cell_type": "code",
   "execution_count": 11,
   "id": "d6ef88ca",
   "metadata": {},
   "outputs": [],
   "source": [
    "method = \"mean\"\n",
    "max_limit = {}\n",
    "parameter = {}\n",
    "\n",
    "data_refine_nan = BasicImputation(data_refine, method, max_limit, parameter).simpleMethod()"
   ]
  },
  {
   "cell_type": "code",
   "execution_count": 12,
   "id": "772f34c9",
   "metadata": {},
   "outputs": [
    {
     "name": "stdout",
     "output_type": "stream",
     "text": [
      "<class 'pandas.core.frame.DataFrame'>\n",
      "DatetimeIndex: 5554 entries, 2021-01-01 00:00:00+00:00 to 2021-08-20 09:00:00+00:00\n",
      "Freq: H\n",
      "Data columns (total 8 columns):\n",
      " #   Column                Non-Null Count  Dtype  \n",
      "---  ------                --------------  -----  \n",
      " 0   out_blacksphere_temp  5554 non-null   float64\n",
      " 1   out_coai              5554 non-null   float64\n",
      " 2   out_h2s               5554 non-null   float64\n",
      " 3   out_humi              5554 non-null   float64\n",
      " 4   out_nh3               5554 non-null   float64\n",
      " 5   out_pm10              5554 non-null   float64\n",
      " 6   out_temp              5554 non-null   float64\n",
      " 7   out_ultraviolet_rays  5554 non-null   float64\n",
      "dtypes: float64(8)\n",
      "memory usage: 390.5 KB\n"
     ]
    }
   ],
   "source": [
    "data_refine_nan.info()"
   ]
  },
  {
   "cell_type": "code",
   "execution_count": null,
   "id": "50de781f",
   "metadata": {},
   "outputs": [],
   "source": []
  },
  {
   "cell_type": "markdown",
   "id": "289be2d7",
   "metadata": {},
   "source": [
    "## Data Scale"
   ]
  },
  {
   "cell_type": "code",
   "execution_count": 13,
   "id": "a20dadff",
   "metadata": {},
   "outputs": [],
   "source": [
    "# set parameter\n",
    "scaler_root_dir ='./scaler/'\n",
    "\n",
    "clean_train_data_param = 'NoClean'\n",
    "\n",
    "data_name_x = \"AdaRNN_data_x\"\n",
    "feature_list_x= list(data_refine_nan.columns)\n",
    "\n",
    "split_ratio = 0.8\n",
    "scaler_param='scale'\n",
    "scale_method='minmax'"
   ]
  },
  {
   "cell_type": "code",
   "execution_count": 14,
   "id": "cce84339",
   "metadata": {},
   "outputs": [
    {
     "name": "stdout",
     "output_type": "stream",
     "text": [
      "['out_blacksphere_temp', 'out_coai', 'out_h2s', 'out_humi', 'out_nh3', 'out_pm10', 'out_temp', 'out_ultraviolet_rays']\n",
      "Make New scaler File\n"
     ]
    }
   ],
   "source": [
    "scaler_root_path_x = os.path.join(scaler_root_dir, data_name_x, clean_train_data_param)\n",
    "train_x, val_x, X_scaler_file_path = ml_data.get_train_val_data(data_refine_nan, feature_list_x, scaler_root_path_x, split_ratio, \n",
    "                                                                scaler_param, scale_method, mode = 'Classification')"
   ]
  },
  {
   "cell_type": "code",
   "execution_count": 15,
   "id": "3752ddd8",
   "metadata": {},
   "outputs": [
    {
     "data": {
      "text/plain": [
       "'./scaler/AdaRNN_data_x/NoClean/minmax/4457f465de3d0e17dd9f547db5b454b7/scaler.pkl'"
      ]
     },
     "execution_count": 15,
     "metadata": {},
     "output_type": "execute_result"
    }
   ],
   "source": [
    "X_scaler_file_path"
   ]
  },
  {
   "cell_type": "code",
   "execution_count": null,
   "id": "2e5e3f0a",
   "metadata": {},
   "outputs": [],
   "source": []
  },
  {
   "cell_type": "markdown",
   "id": "3b21fe15",
   "metadata": {},
   "source": [
    "## get Data y"
   ]
  },
  {
   "cell_type": "code",
   "execution_count": 16,
   "id": "d041fb90",
   "metadata": {
    "scrolled": true
   },
   "outputs": [
    {
     "name": "stdout",
     "output_type": "stream",
     "text": [
      "1. Original Data Lenagh: 4463\n",
      "2. Removed Data Length: 0\n",
      "3. Clean Data Leangth: 4440\n",
      "1. Original Data Lenagh: 1089\n",
      "2. Removed Data Length: 0\n",
      "3. Clean Data Leangth: 1066\n"
     ]
    }
   ],
   "source": [
    "LSTMD = LSTMData()\n",
    "train_x_arr, train_y_arr = LSTMD.transform_Xy_arr(train_x, get_y_data_transformParameter, \"NoClean\")\n",
    "valid_x_arr, valid_y_arr = LSTMD.transform_Xy_arr(val_x, get_y_data_transformParameter, \"NoClean\")"
   ]
  },
  {
   "cell_type": "code",
   "execution_count": 17,
   "id": "55a7d092",
   "metadata": {},
   "outputs": [
    {
     "data": {
      "text/plain": [
       "((4440, 24, 8), (4440, 1), (1066, 24, 8), (1066, 1))"
      ]
     },
     "execution_count": 17,
     "metadata": {},
     "output_type": "execute_result"
    }
   ],
   "source": [
    "train_x_arr.shape, train_y_arr.shape, valid_x_arr.shape, valid_y_arr.shape"
   ]
  },
  {
   "cell_type": "code",
   "execution_count": 18,
   "id": "a542192d",
   "metadata": {},
   "outputs": [],
   "source": [
    "train_y_arr = train_y_arr.reshape(train_y_arr.shape[0],)\n",
    "valid_y_arr = valid_y_arr.reshape(valid_y_arr.shape[0])"
   ]
  },
  {
   "cell_type": "code",
   "execution_count": null,
   "id": "77298a25",
   "metadata": {},
   "outputs": [],
   "source": []
  },
  {
   "cell_type": "markdown",
   "id": "af8ea6d3",
   "metadata": {},
   "source": [
    "# Data Loader"
   ]
  },
  {
   "cell_type": "code",
   "execution_count": 19,
   "id": "b17e183c",
   "metadata": {},
   "outputs": [
    {
     "name": "stdout",
     "output_type": "stream",
     "text": [
      "{'x_features': 8, 'class_num': 1, 'dropout': 0.0, 'len_seq': 24, 'loss_type': 'adv', 'hidden_size': 64, 'num_layers': 2}\n"
     ]
    }
   ],
   "source": [
    "adarnn = ada_rnn.ClustAdaRnn(param)"
   ]
  },
  {
   "cell_type": "code",
   "execution_count": 20,
   "id": "8208ccce",
   "metadata": {},
   "outputs": [],
   "source": [
    "train_loader_list, valid_loader = adarnn.create_trainloader(train_x_arr, train_y_arr, valid_x_arr, valid_y_arr, k, \n",
    "                                                            train_start_time, train_end_time)"
   ]
  },
  {
   "cell_type": "markdown",
   "id": "61198958",
   "metadata": {},
   "source": [
    "# Training"
   ]
  },
  {
   "cell_type": "code",
   "execution_count": 21,
   "id": "c2db14dd",
   "metadata": {
    "scrolled": true
   },
   "outputs": [
    {
     "name": "stdout",
     "output_type": "stream",
     "text": [
      "[2023-03-17 09:17:08] - create model...\n",
      "[2023-03-17 09:17:08] - Epoch: 0\n",
      "[2023-03-17 09:17:08] - training...\n"
     ]
    },
    {
     "name": "stderr",
     "output_type": "stream",
     "text": [
      "100%|█████████████████████████████████████████████| 3/3 [00:00<00:00,  4.64it/s]"
     ]
    },
    {
     "name": "stdout",
     "output_type": "stream",
     "text": [
      "[2023-03-17 09:17:09] - evaluating...\n"
     ]
    },
    {
     "name": "stderr",
     "output_type": "stream",
     "text": [
      "\n",
      "Valid: 100%|███████████████████████████████████| 17/17 [00:00<00:00, 448.57it/s]"
     ]
    },
    {
     "name": "stdout",
     "output_type": "stream",
     "text": [
      "[2023-03-17 09:17:09] - train 0.054959, valid MSE Loss 0.000224, valid L1 Loss 0.010389\n",
      "[2023-03-17 09:17:09] - Epoch: 1\n",
      "[2023-03-17 09:17:09] - training...\n"
     ]
    },
    {
     "name": "stderr",
     "output_type": "stream",
     "text": [
      "\n",
      "100%|█████████████████████████████████████████████| 3/3 [00:00<00:00, 14.66it/s]"
     ]
    },
    {
     "name": "stdout",
     "output_type": "stream",
     "text": [
      "[2023-03-17 09:17:09] - evaluating...\n"
     ]
    },
    {
     "name": "stderr",
     "output_type": "stream",
     "text": [
      "\n",
      "Valid: 100%|███████████████████████████████████| 17/17 [00:00<00:00, 456.48it/s]"
     ]
    },
    {
     "name": "stdout",
     "output_type": "stream",
     "text": [
      "[2023-03-17 09:17:09] - train 0.032192, valid MSE Loss 0.000335, valid L1 Loss 0.012781\n",
      "[2023-03-17 09:17:09] - Epoch: 2\n",
      "[2023-03-17 09:17:09] - training...\n"
     ]
    },
    {
     "name": "stderr",
     "output_type": "stream",
     "text": [
      "\n",
      "100%|█████████████████████████████████████████████| 3/3 [00:00<00:00, 16.08it/s]\n"
     ]
    },
    {
     "name": "stdout",
     "output_type": "stream",
     "text": [
      "[2023-03-17 09:17:09] - evaluating...\n"
     ]
    },
    {
     "name": "stderr",
     "output_type": "stream",
     "text": [
      "Valid: 100%|███████████████████████████████████| 17/17 [00:00<00:00, 560.63it/s]"
     ]
    },
    {
     "name": "stdout",
     "output_type": "stream",
     "text": [
      "[2023-03-17 09:17:09] - train 0.026463, valid MSE Loss 0.000425, valid L1 Loss 0.015123\n",
      "[2023-03-17 09:17:09] - Epoch: 3\n",
      "[2023-03-17 09:17:09] - training...\n"
     ]
    },
    {
     "name": "stderr",
     "output_type": "stream",
     "text": [
      "\n",
      "100%|█████████████████████████████████████████████| 3/3 [00:00<00:00, 15.47it/s]"
     ]
    },
    {
     "name": "stdout",
     "output_type": "stream",
     "text": [
      "[2023-03-17 09:17:10] - evaluating...\n"
     ]
    },
    {
     "name": "stderr",
     "output_type": "stream",
     "text": [
      "\n",
      "Valid: 100%|███████████████████████████████████| 17/17 [00:00<00:00, 551.24it/s]"
     ]
    },
    {
     "name": "stdout",
     "output_type": "stream",
     "text": [
      "[2023-03-17 09:17:10] - train 0.026194, valid MSE Loss 0.000434, valid L1 Loss 0.015307\n",
      "[2023-03-17 09:17:10] - Epoch: 4\n",
      "[2023-03-17 09:17:10] - training...\n"
     ]
    },
    {
     "name": "stderr",
     "output_type": "stream",
     "text": [
      "\n",
      "100%|█████████████████████████████████████████████| 3/3 [00:00<00:00, 16.62it/s]"
     ]
    },
    {
     "name": "stdout",
     "output_type": "stream",
     "text": [
      "[2023-03-17 09:17:10] - evaluating...\n"
     ]
    },
    {
     "name": "stderr",
     "output_type": "stream",
     "text": [
      "\n",
      "Valid: 100%|███████████████████████████████████| 17/17 [00:00<00:00, 635.30it/s]"
     ]
    },
    {
     "name": "stdout",
     "output_type": "stream",
     "text": [
      "[2023-03-17 09:17:10] - train 0.023180, valid MSE Loss 0.000443, valid L1 Loss 0.015633\n",
      "[2023-03-17 09:17:10] - Epoch: 5\n",
      "[2023-03-17 09:17:10] - training...\n"
     ]
    },
    {
     "name": "stderr",
     "output_type": "stream",
     "text": [
      "\n",
      "100%|█████████████████████████████████████████████| 3/3 [00:00<00:00, 17.24it/s]"
     ]
    },
    {
     "name": "stdout",
     "output_type": "stream",
     "text": [
      "[2023-03-17 09:17:10] - evaluating...\n"
     ]
    },
    {
     "name": "stderr",
     "output_type": "stream",
     "text": [
      "\n",
      "Valid: 100%|███████████████████████████████████| 17/17 [00:00<00:00, 483.52it/s]"
     ]
    },
    {
     "name": "stdout",
     "output_type": "stream",
     "text": [
      "[2023-03-17 09:17:10] - train 0.024351, valid MSE Loss 0.000527, valid L1 Loss 0.017805\n",
      "[2023-03-17 09:17:10] - Epoch: 6\n",
      "[2023-03-17 09:17:10] - training...\n"
     ]
    },
    {
     "name": "stderr",
     "output_type": "stream",
     "text": [
      "\n",
      "100%|█████████████████████████████████████████████| 3/3 [00:00<00:00, 17.06it/s]"
     ]
    },
    {
     "name": "stdout",
     "output_type": "stream",
     "text": [
      "[2023-03-17 09:17:10] - evaluating...\n"
     ]
    },
    {
     "name": "stderr",
     "output_type": "stream",
     "text": [
      "\n",
      "Valid: 100%|███████████████████████████████████| 17/17 [00:00<00:00, 594.82it/s]"
     ]
    },
    {
     "name": "stdout",
     "output_type": "stream",
     "text": [
      "[2023-03-17 09:17:10] - train 0.018312, valid MSE Loss 0.000649, valid L1 Loss 0.020907\n",
      "[2023-03-17 09:17:10] - Epoch: 7\n",
      "[2023-03-17 09:17:10] - training...\n"
     ]
    },
    {
     "name": "stderr",
     "output_type": "stream",
     "text": [
      "\n",
      "100%|█████████████████████████████████████████████| 3/3 [00:00<00:00, 15.64it/s]\n"
     ]
    },
    {
     "name": "stdout",
     "output_type": "stream",
     "text": [
      "[2023-03-17 09:17:10] - evaluating...\n"
     ]
    },
    {
     "name": "stderr",
     "output_type": "stream",
     "text": [
      "Valid: 100%|███████████████████████████████████| 17/17 [00:00<00:00, 450.58it/s]"
     ]
    },
    {
     "name": "stdout",
     "output_type": "stream",
     "text": [
      "[2023-03-17 09:17:11] - train 0.018268, valid MSE Loss 0.000771, valid L1 Loss 0.023697\n",
      "[2023-03-17 09:17:11] - Epoch: 8\n",
      "[2023-03-17 09:17:11] - training...\n"
     ]
    },
    {
     "name": "stderr",
     "output_type": "stream",
     "text": [
      "\n",
      "100%|█████████████████████████████████████████████| 3/3 [00:00<00:00, 15.80it/s]\n"
     ]
    },
    {
     "name": "stdout",
     "output_type": "stream",
     "text": [
      "[2023-03-17 09:17:11] - evaluating...\n"
     ]
    },
    {
     "name": "stderr",
     "output_type": "stream",
     "text": [
      "Valid: 100%|███████████████████████████████████| 17/17 [00:00<00:00, 563.44it/s]"
     ]
    },
    {
     "name": "stdout",
     "output_type": "stream",
     "text": [
      "[2023-03-17 09:17:11] - train 0.014710, valid MSE Loss 0.000880, valid L1 Loss 0.025896\n",
      "[2023-03-17 09:17:11] - Epoch: 9\n",
      "[2023-03-17 09:17:11] - training...\n"
     ]
    },
    {
     "name": "stderr",
     "output_type": "stream",
     "text": [
      "\n",
      "100%|█████████████████████████████████████████████| 3/3 [00:00<00:00, 15.62it/s]\n"
     ]
    },
    {
     "name": "stdout",
     "output_type": "stream",
     "text": [
      "[2023-03-17 09:17:11] - evaluating...\n"
     ]
    },
    {
     "name": "stderr",
     "output_type": "stream",
     "text": [
      "Valid: 100%|███████████████████████████████████| 17/17 [00:00<00:00, 555.82it/s]"
     ]
    },
    {
     "name": "stdout",
     "output_type": "stream",
     "text": [
      "[2023-03-17 09:17:11] - train 0.014876, valid MSE Loss 0.000961, valid L1 Loss 0.027352\n",
      "[2023-03-17 09:17:11] - Epoch: 10\n",
      "[2023-03-17 09:17:11] - training...\n"
     ]
    },
    {
     "name": "stderr",
     "output_type": "stream",
     "text": [
      "\n",
      "100%|█████████████████████████████████████████████| 3/3 [00:00<00:00, 16.58it/s]"
     ]
    },
    {
     "name": "stdout",
     "output_type": "stream",
     "text": [
      "[2023-03-17 09:17:11] - evaluating...\n"
     ]
    },
    {
     "name": "stderr",
     "output_type": "stream",
     "text": [
      "\n",
      "Valid: 100%|███████████████████████████████████| 17/17 [00:00<00:00, 467.90it/s]"
     ]
    },
    {
     "name": "stdout",
     "output_type": "stream",
     "text": [
      "[2023-03-17 09:17:11] - train 0.014259, valid MSE Loss 0.001048, valid L1 Loss 0.028955\n",
      "[2023-03-17 09:17:11] - Epoch: 11\n",
      "[2023-03-17 09:17:11] - training...\n"
     ]
    },
    {
     "name": "stderr",
     "output_type": "stream",
     "text": [
      "\n",
      "100%|█████████████████████████████████████████████| 3/3 [00:00<00:00, 16.34it/s]\n"
     ]
    },
    {
     "name": "stdout",
     "output_type": "stream",
     "text": [
      "[2023-03-17 09:17:11] - evaluating...\n"
     ]
    },
    {
     "name": "stderr",
     "output_type": "stream",
     "text": [
      "Valid: 100%|███████████████████████████████████| 17/17 [00:00<00:00, 459.28it/s]"
     ]
    },
    {
     "name": "stdout",
     "output_type": "stream",
     "text": [
      "[2023-03-17 09:17:11] - train 0.014829, valid MSE Loss 0.001226, valid L1 Loss 0.031893\n",
      "[2023-03-17 09:17:11] - Epoch: 12\n",
      "[2023-03-17 09:17:11] - training...\n"
     ]
    },
    {
     "name": "stderr",
     "output_type": "stream",
     "text": [
      "\n",
      "100%|█████████████████████████████████████████████| 3/3 [00:00<00:00, 16.37it/s]"
     ]
    },
    {
     "name": "stdout",
     "output_type": "stream",
     "text": [
      "[2023-03-17 09:17:12] - evaluating...\n"
     ]
    },
    {
     "name": "stderr",
     "output_type": "stream",
     "text": [
      "\n",
      "Valid: 100%|███████████████████████████████████| 17/17 [00:00<00:00, 582.09it/s]"
     ]
    },
    {
     "name": "stdout",
     "output_type": "stream",
     "text": [
      "[2023-03-17 09:17:12] - train 0.010951, valid MSE Loss 0.001452, valid L1 Loss 0.035247\n",
      "[2023-03-17 09:17:12] - Epoch: 13\n",
      "[2023-03-17 09:17:12] - training...\n"
     ]
    },
    {
     "name": "stderr",
     "output_type": "stream",
     "text": [
      "\n",
      "100%|█████████████████████████████████████████████| 3/3 [00:00<00:00, 16.91it/s]"
     ]
    },
    {
     "name": "stdout",
     "output_type": "stream",
     "text": [
      "[2023-03-17 09:17:12] - evaluating...\n"
     ]
    },
    {
     "name": "stderr",
     "output_type": "stream",
     "text": [
      "\n",
      "Valid: 100%|███████████████████████████████████| 17/17 [00:00<00:00, 573.43it/s]"
     ]
    },
    {
     "name": "stdout",
     "output_type": "stream",
     "text": [
      "[2023-03-17 09:17:12] - train 0.012941, valid MSE Loss 0.001632, valid L1 Loss 0.037762\n",
      "[2023-03-17 09:17:12] - Epoch: 14\n",
      "[2023-03-17 09:17:12] - training...\n"
     ]
    },
    {
     "name": "stderr",
     "output_type": "stream",
     "text": [
      "\n",
      "100%|█████████████████████████████████████████████| 3/3 [00:00<00:00, 16.43it/s]"
     ]
    },
    {
     "name": "stdout",
     "output_type": "stream",
     "text": [
      "[2023-03-17 09:17:12] - evaluating...\n"
     ]
    },
    {
     "name": "stderr",
     "output_type": "stream",
     "text": [
      "\n",
      "Valid: 100%|███████████████████████████████████| 17/17 [00:00<00:00, 468.02it/s]"
     ]
    },
    {
     "name": "stdout",
     "output_type": "stream",
     "text": [
      "[2023-03-17 09:17:12] - train 0.010729, valid MSE Loss 0.001715, valid L1 Loss 0.038882\n",
      "[2023-03-17 09:17:12] - Epoch: 15\n",
      "[2023-03-17 09:17:12] - training...\n"
     ]
    },
    {
     "name": "stderr",
     "output_type": "stream",
     "text": [
      "\n",
      "100%|█████████████████████████████████████████████| 3/3 [00:00<00:00, 16.31it/s]"
     ]
    },
    {
     "name": "stdout",
     "output_type": "stream",
     "text": [
      "[2023-03-17 09:17:12] - evaluating...\n"
     ]
    },
    {
     "name": "stderr",
     "output_type": "stream",
     "text": [
      "\n",
      "Valid: 100%|███████████████████████████████████| 17/17 [00:00<00:00, 645.42it/s]"
     ]
    },
    {
     "name": "stdout",
     "output_type": "stream",
     "text": [
      "[2023-03-17 09:17:12] - train 0.009587, valid MSE Loss 0.001683, valid L1 Loss 0.038458\n",
      "[2023-03-17 09:17:12] - Epoch: 16\n",
      "[2023-03-17 09:17:12] - training...\n"
     ]
    },
    {
     "name": "stderr",
     "output_type": "stream",
     "text": [
      "\n",
      "100%|█████████████████████████████████████████████| 3/3 [00:00<00:00, 17.35it/s]"
     ]
    },
    {
     "name": "stdout",
     "output_type": "stream",
     "text": [
      "[2023-03-17 09:17:13] - evaluating...\n"
     ]
    },
    {
     "name": "stderr",
     "output_type": "stream",
     "text": [
      "\n",
      "Valid: 100%|███████████████████████████████████| 17/17 [00:00<00:00, 581.39it/s]"
     ]
    },
    {
     "name": "stdout",
     "output_type": "stream",
     "text": [
      "[2023-03-17 09:17:13] - train 0.009331, valid MSE Loss 0.001529, valid L1 Loss 0.036422\n",
      "[2023-03-17 09:17:13] - Epoch: 17\n",
      "[2023-03-17 09:17:13] - training...\n"
     ]
    },
    {
     "name": "stderr",
     "output_type": "stream",
     "text": [
      "\n",
      "100%|█████████████████████████████████████████████| 3/3 [00:00<00:00, 16.93it/s]"
     ]
    },
    {
     "name": "stdout",
     "output_type": "stream",
     "text": [
      "[2023-03-17 09:17:13] - evaluating...\n"
     ]
    },
    {
     "name": "stderr",
     "output_type": "stream",
     "text": [
      "\n",
      "Valid: 100%|███████████████████████████████████| 17/17 [00:00<00:00, 638.09it/s]"
     ]
    },
    {
     "name": "stdout",
     "output_type": "stream",
     "text": [
      "[2023-03-17 09:17:13] - train 0.009932, valid MSE Loss 0.001447, valid L1 Loss 0.035242\n",
      "[2023-03-17 09:17:13] - Epoch: 18\n",
      "[2023-03-17 09:17:13] - training...\n"
     ]
    },
    {
     "name": "stderr",
     "output_type": "stream",
     "text": [
      "\n",
      "100%|█████████████████████████████████████████████| 3/3 [00:00<00:00, 16.78it/s]"
     ]
    },
    {
     "name": "stdout",
     "output_type": "stream",
     "text": [
      "[2023-03-17 09:17:13] - evaluating...\n"
     ]
    },
    {
     "name": "stderr",
     "output_type": "stream",
     "text": [
      "\n",
      "Valid: 100%|███████████████████████████████████| 17/17 [00:00<00:00, 424.00it/s]"
     ]
    },
    {
     "name": "stdout",
     "output_type": "stream",
     "text": [
      "[2023-03-17 09:17:13] - train 0.008878, valid MSE Loss 0.001446, valid L1 Loss 0.035232\n",
      "[2023-03-17 09:17:13] - Epoch: 19\n",
      "[2023-03-17 09:17:13] - training...\n"
     ]
    },
    {
     "name": "stderr",
     "output_type": "stream",
     "text": [
      "\n",
      "100%|█████████████████████████████████████████████| 3/3 [00:00<00:00, 16.78it/s]"
     ]
    },
    {
     "name": "stdout",
     "output_type": "stream",
     "text": [
      "[2023-03-17 09:17:13] - evaluating...\n"
     ]
    },
    {
     "name": "stderr",
     "output_type": "stream",
     "text": [
      "\n",
      "Valid: 100%|███████████████████████████████████| 17/17 [00:00<00:00, 599.96it/s]"
     ]
    },
    {
     "name": "stdout",
     "output_type": "stream",
     "text": [
      "[2023-03-17 09:17:13] - train 0.008407, valid MSE Loss 0.001505, valid L1 Loss 0.036082\n",
      "[2023-03-17 09:17:13] - Epoch: 20\n",
      "[2023-03-17 09:17:13] - training...\n"
     ]
    },
    {
     "name": "stderr",
     "output_type": "stream",
     "text": [
      "\n",
      "100%|█████████████████████████████████████████████| 3/3 [00:00<00:00, 15.49it/s]"
     ]
    },
    {
     "name": "stdout",
     "output_type": "stream",
     "text": [
      "[2023-03-17 09:17:14] - evaluating...\n"
     ]
    },
    {
     "name": "stderr",
     "output_type": "stream",
     "text": [
      "\n",
      "Valid: 100%|███████████████████████████████████| 17/17 [00:00<00:00, 638.34it/s]"
     ]
    },
    {
     "name": "stdout",
     "output_type": "stream",
     "text": [
      "[2023-03-17 09:17:14] - train 0.008621, valid MSE Loss 0.001356, valid L1 Loss 0.033979\n",
      "[2023-03-17 09:17:14] - Epoch: 21\n",
      "[2023-03-17 09:17:14] - training...\n"
     ]
    },
    {
     "name": "stderr",
     "output_type": "stream",
     "text": [
      "\n",
      "100%|█████████████████████████████████████████████| 3/3 [00:00<00:00, 15.94it/s]\n"
     ]
    },
    {
     "name": "stdout",
     "output_type": "stream",
     "text": [
      "[2023-03-17 09:17:14] - evaluating...\n"
     ]
    },
    {
     "name": "stderr",
     "output_type": "stream",
     "text": [
      "Valid: 100%|███████████████████████████████████| 17/17 [00:00<00:00, 588.84it/s]"
     ]
    },
    {
     "name": "stdout",
     "output_type": "stream",
     "text": [
      "[2023-03-17 09:17:14] - train 0.007814, valid MSE Loss 0.001123, valid L1 Loss 0.030313\n",
      "[2023-03-17 09:17:14] - Epoch: 22\n",
      "[2023-03-17 09:17:14] - training...\n"
     ]
    },
    {
     "name": "stderr",
     "output_type": "stream",
     "text": [
      "\n",
      "100%|█████████████████████████████████████████████| 3/3 [00:00<00:00, 16.52it/s]"
     ]
    },
    {
     "name": "stdout",
     "output_type": "stream",
     "text": [
      "[2023-03-17 09:17:14] - evaluating...\n"
     ]
    },
    {
     "name": "stderr",
     "output_type": "stream",
     "text": [
      "\n",
      "Valid: 100%|███████████████████████████████████| 17/17 [00:00<00:00, 562.88it/s]"
     ]
    },
    {
     "name": "stdout",
     "output_type": "stream",
     "text": [
      "[2023-03-17 09:17:14] - train 0.008245, valid MSE Loss 0.000955, valid L1 Loss 0.027406\n",
      "[2023-03-17 09:17:14] - Epoch: 23\n",
      "[2023-03-17 09:17:14] - training...\n"
     ]
    },
    {
     "name": "stderr",
     "output_type": "stream",
     "text": [
      "\n",
      "100%|█████████████████████████████████████████████| 3/3 [00:00<00:00, 15.07it/s]\n"
     ]
    },
    {
     "name": "stdout",
     "output_type": "stream",
     "text": [
      "[2023-03-17 09:17:14] - evaluating...\n"
     ]
    },
    {
     "name": "stderr",
     "output_type": "stream",
     "text": [
      "Valid: 100%|███████████████████████████████████| 17/17 [00:00<00:00, 665.07it/s]"
     ]
    },
    {
     "name": "stdout",
     "output_type": "stream",
     "text": [
      "[2023-03-17 09:17:14] - train 0.008075, valid MSE Loss 0.000918, valid L1 Loss 0.026794\n",
      "[2023-03-17 09:17:14] - Epoch: 24\n",
      "[2023-03-17 09:17:14] - training...\n"
     ]
    },
    {
     "name": "stderr",
     "output_type": "stream",
     "text": [
      "\n",
      "100%|█████████████████████████████████████████████| 3/3 [00:00<00:00, 16.08it/s]\n"
     ]
    },
    {
     "name": "stdout",
     "output_type": "stream",
     "text": [
      "[2023-03-17 09:17:14] - evaluating...\n"
     ]
    },
    {
     "name": "stderr",
     "output_type": "stream",
     "text": [
      "Valid: 100%|███████████████████████████████████| 17/17 [00:00<00:00, 568.91it/s]"
     ]
    },
    {
     "name": "stdout",
     "output_type": "stream",
     "text": [
      "[2023-03-17 09:17:15] - train 0.007815, valid MSE Loss 0.000995, valid L1 Loss 0.028179\n",
      "[2023-03-17 09:17:15] - Epoch: 25\n",
      "[2023-03-17 09:17:15] - training...\n"
     ]
    },
    {
     "name": "stderr",
     "output_type": "stream",
     "text": [
      "\n",
      "100%|█████████████████████████████████████████████| 3/3 [00:00<00:00, 17.11it/s]"
     ]
    },
    {
     "name": "stdout",
     "output_type": "stream",
     "text": [
      "[2023-03-17 09:17:15] - evaluating...\n"
     ]
    },
    {
     "name": "stderr",
     "output_type": "stream",
     "text": [
      "\n",
      "Valid: 100%|███████████████████████████████████| 17/17 [00:00<00:00, 568.71it/s]"
     ]
    },
    {
     "name": "stdout",
     "output_type": "stream",
     "text": [
      "[2023-03-17 09:17:15] - train 0.008254, valid MSE Loss 0.000931, valid L1 Loss 0.027061\n",
      "[2023-03-17 09:17:15] - Epoch: 26\n",
      "[2023-03-17 09:17:15] - training...\n"
     ]
    },
    {
     "name": "stderr",
     "output_type": "stream",
     "text": [
      "\n",
      "100%|█████████████████████████████████████████████| 3/3 [00:00<00:00, 15.02it/s]"
     ]
    },
    {
     "name": "stdout",
     "output_type": "stream",
     "text": [
      "[2023-03-17 09:17:15] - evaluating...\n"
     ]
    },
    {
     "name": "stderr",
     "output_type": "stream",
     "text": [
      "\n",
      "Valid: 100%|███████████████████████████████████| 17/17 [00:00<00:00, 634.24it/s]"
     ]
    },
    {
     "name": "stdout",
     "output_type": "stream",
     "text": [
      "[2023-03-17 09:17:15] - train 0.007666, valid MSE Loss 0.000721, valid L1 Loss 0.022896\n",
      "[2023-03-17 09:17:15] - Epoch: 27\n",
      "[2023-03-17 09:17:15] - training...\n"
     ]
    },
    {
     "name": "stderr",
     "output_type": "stream",
     "text": [
      "\n",
      "100%|█████████████████████████████████████████████| 3/3 [00:00<00:00, 15.95it/s]\n"
     ]
    },
    {
     "name": "stdout",
     "output_type": "stream",
     "text": [
      "[2023-03-17 09:17:15] - evaluating...\n"
     ]
    },
    {
     "name": "stderr",
     "output_type": "stream",
     "text": [
      "Valid: 100%|███████████████████████████████████| 17/17 [00:00<00:00, 618.06it/s]"
     ]
    },
    {
     "name": "stdout",
     "output_type": "stream",
     "text": [
      "[2023-03-17 09:17:15] - train 0.007536, valid MSE Loss 0.000451, valid L1 Loss 0.016106\n",
      "[2023-03-17 09:17:15] - Epoch: 28\n",
      "[2023-03-17 09:17:15] - training...\n"
     ]
    },
    {
     "name": "stderr",
     "output_type": "stream",
     "text": [
      "\n",
      "100%|█████████████████████████████████████████████| 3/3 [00:00<00:00, 17.08it/s]"
     ]
    },
    {
     "name": "stdout",
     "output_type": "stream",
     "text": [
      "[2023-03-17 09:17:15] - evaluating...\n"
     ]
    },
    {
     "name": "stderr",
     "output_type": "stream",
     "text": [
      "\n",
      "Valid: 100%|███████████████████████████████████| 17/17 [00:00<00:00, 622.03it/s]"
     ]
    },
    {
     "name": "stdout",
     "output_type": "stream",
     "text": [
      "[2023-03-17 09:17:15] - train 0.007245, valid MSE Loss 0.000427, valid L1 Loss 0.015520\n",
      "[2023-03-17 09:17:15] - Epoch: 29\n",
      "[2023-03-17 09:17:15] - training...\n"
     ]
    },
    {
     "name": "stderr",
     "output_type": "stream",
     "text": [
      "\n",
      "100%|█████████████████████████████████████████████| 3/3 [00:00<00:00, 15.32it/s]\n"
     ]
    },
    {
     "name": "stdout",
     "output_type": "stream",
     "text": [
      "[2023-03-17 09:17:16] - evaluating...\n"
     ]
    },
    {
     "name": "stderr",
     "output_type": "stream",
     "text": [
      "Valid: 100%|███████████████████████████████████| 17/17 [00:00<00:00, 616.43it/s]"
     ]
    },
    {
     "name": "stdout",
     "output_type": "stream",
     "text": [
      "[2023-03-17 09:17:16] - train 0.007345, valid MSE Loss 0.000603, valid L1 Loss 0.020260\n",
      "[2023-03-17 09:17:16] - Epoch: 30\n",
      "[2023-03-17 09:17:16] - training...\n"
     ]
    },
    {
     "name": "stderr",
     "output_type": "stream",
     "text": [
      "\n",
      "100%|█████████████████████████████████████████████| 3/3 [00:00<00:00, 14.80it/s]"
     ]
    },
    {
     "name": "stdout",
     "output_type": "stream",
     "text": [
      "[2023-03-17 09:17:16] - evaluating...\n"
     ]
    },
    {
     "name": "stderr",
     "output_type": "stream",
     "text": [
      "\n",
      "Valid: 100%|███████████████████████████████████| 17/17 [00:00<00:00, 513.12it/s]"
     ]
    },
    {
     "name": "stdout",
     "output_type": "stream",
     "text": [
      "[2023-03-17 09:17:16] - train 0.007070, valid MSE Loss 0.000825, valid L1 Loss 0.025211\n",
      "[2023-03-17 09:17:16] - Epoch: 31\n",
      "[2023-03-17 09:17:16] - training...\n"
     ]
    },
    {
     "name": "stderr",
     "output_type": "stream",
     "text": [
      "\n",
      "100%|█████████████████████████████████████████████| 3/3 [00:00<00:00, 16.66it/s]"
     ]
    },
    {
     "name": "stdout",
     "output_type": "stream",
     "text": [
      "[2023-03-17 09:17:16] - evaluating...\n"
     ]
    },
    {
     "name": "stderr",
     "output_type": "stream",
     "text": [
      "\n",
      "Valid: 100%|███████████████████████████████████| 17/17 [00:00<00:00, 603.80it/s]"
     ]
    },
    {
     "name": "stdout",
     "output_type": "stream",
     "text": [
      "[2023-03-17 09:17:16] - train 0.007413, valid MSE Loss 0.000538, valid L1 Loss 0.018646\n",
      "[2023-03-17 09:17:16] - Epoch: 32\n",
      "[2023-03-17 09:17:16] - training...\n"
     ]
    },
    {
     "name": "stderr",
     "output_type": "stream",
     "text": [
      "\n",
      "100%|█████████████████████████████████████████████| 3/3 [00:00<00:00, 15.67it/s]\n"
     ]
    },
    {
     "name": "stdout",
     "output_type": "stream",
     "text": [
      "[2023-03-17 09:17:16] - evaluating...\n"
     ]
    },
    {
     "name": "stderr",
     "output_type": "stream",
     "text": [
      "Valid: 100%|███████████████████████████████████| 17/17 [00:00<00:00, 474.78it/s]"
     ]
    },
    {
     "name": "stdout",
     "output_type": "stream",
     "text": [
      "[2023-03-17 09:17:16] - train 0.008217, valid MSE Loss 0.000357, valid L1 Loss 0.013725\n",
      "[2023-03-17 09:17:16] - Epoch: 33\n",
      "[2023-03-17 09:17:16] - training...\n"
     ]
    },
    {
     "name": "stderr",
     "output_type": "stream",
     "text": [
      "\n",
      "100%|█████████████████████████████████████████████| 3/3 [00:00<00:00, 16.14it/s]"
     ]
    },
    {
     "name": "stdout",
     "output_type": "stream",
     "text": [
      "[2023-03-17 09:17:17] - evaluating...\n"
     ]
    },
    {
     "name": "stderr",
     "output_type": "stream",
     "text": [
      "\n",
      "Valid: 100%|███████████████████████████████████| 17/17 [00:00<00:00, 593.45it/s]"
     ]
    },
    {
     "name": "stdout",
     "output_type": "stream",
     "text": [
      "[2023-03-17 09:17:17] - train 0.007330, valid MSE Loss 0.000636, valid L1 Loss 0.021274\n",
      "[2023-03-17 09:17:17] - Epoch: 34\n",
      "[2023-03-17 09:17:17] - training...\n"
     ]
    },
    {
     "name": "stderr",
     "output_type": "stream",
     "text": [
      "\n",
      "100%|█████████████████████████████████████████████| 3/3 [00:00<00:00, 16.00it/s]\n"
     ]
    },
    {
     "name": "stdout",
     "output_type": "stream",
     "text": [
      "[2023-03-17 09:17:17] - evaluating...\n"
     ]
    },
    {
     "name": "stderr",
     "output_type": "stream",
     "text": [
      "Valid: 100%|███████████████████████████████████| 17/17 [00:00<00:00, 483.81it/s]"
     ]
    },
    {
     "name": "stdout",
     "output_type": "stream",
     "text": [
      "[2023-03-17 09:17:17] - train 0.006355, valid MSE Loss 0.001562, valid L1 Loss 0.037174\n",
      "[2023-03-17 09:17:17] - Epoch: 35\n",
      "[2023-03-17 09:17:17] - training...\n"
     ]
    },
    {
     "name": "stderr",
     "output_type": "stream",
     "text": [
      "\n",
      "100%|█████████████████████████████████████████████| 3/3 [00:00<00:00, 16.92it/s]"
     ]
    },
    {
     "name": "stdout",
     "output_type": "stream",
     "text": [
      "[2023-03-17 09:17:17] - evaluating...\n"
     ]
    },
    {
     "name": "stderr",
     "output_type": "stream",
     "text": [
      "\n",
      "Valid: 100%|███████████████████████████████████| 17/17 [00:00<00:00, 704.24it/s]"
     ]
    },
    {
     "name": "stdout",
     "output_type": "stream",
     "text": [
      "[2023-03-17 09:17:17] - train 0.007254, valid MSE Loss 0.001285, valid L1 Loss 0.033302\n",
      "[2023-03-17 09:17:17] - Epoch: 36\n",
      "[2023-03-17 09:17:17] - training...\n"
     ]
    },
    {
     "name": "stderr",
     "output_type": "stream",
     "text": [
      "\n",
      "100%|█████████████████████████████████████████████| 3/3 [00:00<00:00, 20.54it/s]"
     ]
    },
    {
     "name": "stdout",
     "output_type": "stream",
     "text": [
      "[2023-03-17 09:17:17] - evaluating...\n"
     ]
    },
    {
     "name": "stderr",
     "output_type": "stream",
     "text": [
      "\n",
      "Valid: 100%|███████████████████████████████████| 17/17 [00:00<00:00, 745.93it/s]"
     ]
    },
    {
     "name": "stdout",
     "output_type": "stream",
     "text": [
      "[2023-03-17 09:17:17] - train 0.007367, valid MSE Loss 0.000664, valid L1 Loss 0.022084\n",
      "[2023-03-17 09:17:17] - Epoch: 37\n",
      "[2023-03-17 09:17:17] - training...\n"
     ]
    },
    {
     "name": "stderr",
     "output_type": "stream",
     "text": [
      "\n",
      "100%|█████████████████████████████████████████████| 3/3 [00:00<00:00, 20.53it/s]"
     ]
    },
    {
     "name": "stdout",
     "output_type": "stream",
     "text": [
      "[2023-03-17 09:17:17] - evaluating...\n"
     ]
    },
    {
     "name": "stderr",
     "output_type": "stream",
     "text": [
      "\n",
      "Valid: 100%|███████████████████████████████████| 17/17 [00:00<00:00, 521.99it/s]"
     ]
    },
    {
     "name": "stdout",
     "output_type": "stream",
     "text": [
      "[2023-03-17 09:17:18] - train 0.007876, valid MSE Loss 0.000670, valid L1 Loss 0.022295\n"
     ]
    },
    {
     "name": "stderr",
     "output_type": "stream",
     "text": [
      "\n"
     ]
    },
    {
     "name": "stdout",
     "output_type": "stream",
     "text": [
      "[2023-03-17 09:17:18] - Epoch: 38\n",
      "[2023-03-17 09:17:18] - training...\n"
     ]
    },
    {
     "name": "stderr",
     "output_type": "stream",
     "text": [
      "100%|█████████████████████████████████████████████| 3/3 [00:00<00:00, 19.02it/s]"
     ]
    },
    {
     "name": "stdout",
     "output_type": "stream",
     "text": [
      "[2023-03-17 09:17:18] - evaluating...\n"
     ]
    },
    {
     "name": "stderr",
     "output_type": "stream",
     "text": [
      "\n",
      "Valid: 100%|███████████████████████████████████| 17/17 [00:00<00:00, 842.06it/s]"
     ]
    },
    {
     "name": "stdout",
     "output_type": "stream",
     "text": [
      "[2023-03-17 09:17:18] - train 0.006909, valid MSE Loss 0.001387, valid L1 Loss 0.034800\n",
      "[2023-03-17 09:17:18] - Epoch: 39\n",
      "[2023-03-17 09:17:18] - training...\n"
     ]
    },
    {
     "name": "stderr",
     "output_type": "stream",
     "text": [
      "\n",
      "100%|█████████████████████████████████████████████| 3/3 [00:00<00:00, 20.90it/s]"
     ]
    },
    {
     "name": "stdout",
     "output_type": "stream",
     "text": [
      "[2023-03-17 09:17:18] - evaluating...\n"
     ]
    },
    {
     "name": "stderr",
     "output_type": "stream",
     "text": [
      "\n",
      "Valid: 100%|███████████████████████████████████| 17/17 [00:00<00:00, 794.94it/s]"
     ]
    },
    {
     "name": "stdout",
     "output_type": "stream",
     "text": [
      "[2023-03-17 09:17:18] - train 0.006410, valid MSE Loss 0.002196, valid L1 Loss 0.045075\n",
      "[2023-03-17 09:17:18] - Epoch: 40\n",
      "[2023-03-17 09:17:18] - training...\n"
     ]
    },
    {
     "name": "stderr",
     "output_type": "stream",
     "text": [
      "\n",
      "100%|█████████████████████████████████████████████| 3/3 [00:00<00:00, 21.01it/s]"
     ]
    },
    {
     "name": "stdout",
     "output_type": "stream",
     "text": [
      "[2023-03-17 09:17:18] - evaluating...\n"
     ]
    },
    {
     "name": "stderr",
     "output_type": "stream",
     "text": [
      "\n",
      "Valid: 100%|███████████████████████████████████| 17/17 [00:00<00:00, 464.79it/s]"
     ]
    },
    {
     "name": "stdout",
     "output_type": "stream",
     "text": [
      "[2023-03-17 09:17:18] - train 0.006933, valid MSE Loss 0.002250, valid L1 Loss 0.045722\n",
      "[2023-03-17 09:17:18] - early stop\n",
      "[2023-03-17 09:17:18] - best val mse loss score: 0.00022368404504103477 @ 0\n",
      "[2023-03-17 09:17:18] - Finished.\n"
     ]
    },
    {
     "name": "stderr",
     "output_type": "stream",
     "text": [
      "\n"
     ]
    }
   ],
   "source": [
    "## training\n",
    "adarnn.train(train_loader_list, valid_loader, args)"
   ]
  },
  {
   "cell_type": "code",
   "execution_count": null,
   "id": "8d4b6c04",
   "metadata": {},
   "outputs": [],
   "source": []
  },
  {
   "cell_type": "code",
   "execution_count": null,
   "id": "8f62fbc5",
   "metadata": {},
   "outputs": [],
   "source": []
  },
  {
   "cell_type": "code",
   "execution_count": null,
   "id": "fd3fc801",
   "metadata": {},
   "outputs": [],
   "source": []
  },
  {
   "cell_type": "code",
   "execution_count": null,
   "id": "8d7cf270",
   "metadata": {},
   "outputs": [],
   "source": []
  },
  {
   "cell_type": "code",
   "execution_count": null,
   "id": "5c695472",
   "metadata": {},
   "outputs": [],
   "source": []
  },
  {
   "cell_type": "code",
   "execution_count": null,
   "id": "41a651db",
   "metadata": {},
   "outputs": [],
   "source": []
  },
  {
   "cell_type": "code",
   "execution_count": null,
   "id": "8c6c01da",
   "metadata": {},
   "outputs": [],
   "source": []
  },
  {
   "cell_type": "code",
   "execution_count": null,
   "id": "c5a31e1c",
   "metadata": {},
   "outputs": [],
   "source": []
  },
  {
   "cell_type": "code",
   "execution_count": null,
   "id": "8c8fe40a",
   "metadata": {},
   "outputs": [],
   "source": []
  }
 ],
 "metadata": {
  "kernelspec": {
   "display_name": "Python 3 (ipykernel)",
   "language": "python",
   "name": "python3"
  },
  "language_info": {
   "codemirror_mode": {
    "name": "ipython",
    "version": 3
   },
   "file_extension": ".py",
   "mimetype": "text/x-python",
   "name": "python",
   "nbconvert_exporter": "python",
   "pygments_lexer": "ipython3",
   "version": "3.8.16"
  }
 },
 "nbformat": 4,
 "nbformat_minor": 5
}
