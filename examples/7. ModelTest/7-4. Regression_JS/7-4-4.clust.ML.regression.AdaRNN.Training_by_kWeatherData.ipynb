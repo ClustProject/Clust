{
 "cells": [
  {
   "cell_type": "code",
   "execution_count": 1,
   "id": "ece5149a",
   "metadata": {},
   "outputs": [],
   "source": [
    "import os\n",
    "import sys\n",
    "sys.path.append(\"../\")\n",
    "sys.path.append(\"../../\")\n",
    "sys.path.append(\"../../../\")\n",
    "sys.path.append(\"../../../../\")\n",
    "\n",
    "import pandas as pd\n",
    "import numpy as np\n",
    "import datetime\n",
    "import torch\n",
    "import math\n",
    "import json\n",
    "\n",
    "from Clust.clust.ML.regression_JS.ada_rnn import ada_rnn\n",
    "from Clust.clust.preprocessing.imputation.basicMethod import BasicImputation\n",
    "from Clust.clust.transformation.purpose.machineLearning import LSTMData\n",
    "\n",
    "from Clust.clust.ingestion.influx import influx_client_v2 as influx_Client\n",
    "from Clust.clust.data import df_set_data\n",
    "from Clust.clust.data import data_interface\n",
    "\n",
    "from Clust.setting import influx_setting_KETI as ins\n",
    "db_client = influx_Client.InfluxClient(ins.CLUSTDataServer2)\n",
    "\n",
    "from clust.preprocessing.dataPreprocessing import DataPreprocessing\n",
    "from Clust.clust.preprocessing.imputation.basicMethod import BasicImputation\n",
    "from Clust.clust.transformation.purpose.machineLearning import LSTMData\n",
    "\n",
    "from Clust.clust.ML.tool import data as ml_data"
   ]
  },
  {
   "cell_type": "markdown",
   "id": "35ce251c",
   "metadata": {},
   "source": [
    "# Set Param"
   ]
  },
  {
   "cell_type": "code",
   "execution_count": 2,
   "id": "541f6a1f",
   "metadata": {},
   "outputs": [],
   "source": [
    "feature_list = [\"out_blacksphere_temp\", \"out_coai\", \"out_h2s\", 'out_humi', 'out_nh3', 'out_pm10', 'out_temp', 'out_ultraviolet_rays']\n",
    "target_col = \"out_pm10\"\n",
    "\n",
    "get_y_data_transformParameter ={\n",
    "    \"future_step\": 1,# 0~x\n",
    "    \"past_step\":24,# 1~y\n",
    "    \"feature_col\": feature_list,\n",
    "    \"target_col\":target_col \n",
    "}   \n",
    "\n",
    "param = {\n",
    "    \"x_features\" : 8, \n",
    "    \"class_num\" : 1, \n",
    "    \"dropout\" : 0.0, \n",
    "    \"len_seq\" : 24, \n",
    "    \"loss_type\" : \"adv\",\n",
    "    \"hidden_size\" : 64,\n",
    "    \"num_layers\" : 2\n",
    "}\n",
    "\n",
    "args = {\n",
    "    \"output_folder_name\" : \"./ada_rnn_model\",\n",
    "    \"save_model_name\" : \"test_adarnn_model_by_kweather_data\",\n",
    "    \"lr\" : 5e-4,\n",
    "    \"n_epochs\" : 200,\n",
    "    \"num_layers\" : 2, \n",
    "    \"len_seq\" : 24,\n",
    "    \"pre_epoch\" : 40,\n",
    "    \"len_win\" : 0,\n",
    "    \"dw\" : 0.5,\n",
    "    \"early_stop\" :40\n",
    "}\n",
    "k = 2\n",
    "\n",
    "train_start_time = \"2021-01-01 00:00:00\"\n",
    "train_end_time = \"2021-12-31 00:00:00\"\n",
    "bk_name = \"air_outdoor_kweather\"\n",
    "ms_name = \"OC3CL200010\"\n",
    "\n",
    "#test_start_time = \"2022-01-01 00:00:00\"\n",
    "#test_end_time = \"2022-04-29 00:00:00\""
   ]
  },
  {
   "cell_type": "code",
   "execution_count": null,
   "id": "928c0109",
   "metadata": {},
   "outputs": [],
   "source": []
  },
  {
   "cell_type": "markdown",
   "id": "ab8e4ff8",
   "metadata": {},
   "source": [
    "# get Data"
   ]
  },
  {
   "cell_type": "markdown",
   "id": "5fab6f4c",
   "metadata": {},
   "source": [
    "## Data Read"
   ]
  },
  {
   "cell_type": "code",
   "execution_count": 3,
   "id": "a895c8d8",
   "metadata": {},
   "outputs": [],
   "source": [
    "origin_data = db_client.get_data_by_time(train_start_time, train_end_time, bk_name, ms_name)"
   ]
  },
  {
   "cell_type": "code",
   "execution_count": 4,
   "id": "dbfb17b8",
   "metadata": {
    "scrolled": true
   },
   "outputs": [
    {
     "data": {
      "text/html": [
       "<div>\n",
       "<style scoped>\n",
       "    .dataframe tbody tr th:only-of-type {\n",
       "        vertical-align: middle;\n",
       "    }\n",
       "\n",
       "    .dataframe tbody tr th {\n",
       "        vertical-align: top;\n",
       "    }\n",
       "\n",
       "    .dataframe thead th {\n",
       "        text-align: right;\n",
       "    }\n",
       "</style>\n",
       "<table border=\"1\" class=\"dataframe\">\n",
       "  <thead>\n",
       "    <tr style=\"text-align: right;\">\n",
       "      <th></th>\n",
       "      <th>out_blacksphere_temp</th>\n",
       "      <th>out_co</th>\n",
       "      <th>out_coai</th>\n",
       "      <th>out_coci</th>\n",
       "      <th>out_h2s</th>\n",
       "      <th>out_humi</th>\n",
       "      <th>out_light_intensity</th>\n",
       "      <th>out_nh3</th>\n",
       "      <th>out_no2</th>\n",
       "      <th>out_noise</th>\n",
       "      <th>out_o3</th>\n",
       "      <th>out_pm10</th>\n",
       "      <th>out_pm25</th>\n",
       "      <th>out_so2</th>\n",
       "      <th>out_temp</th>\n",
       "      <th>out_ultraviolet_rays</th>\n",
       "    </tr>\n",
       "    <tr>\n",
       "      <th>time</th>\n",
       "      <th></th>\n",
       "      <th></th>\n",
       "      <th></th>\n",
       "      <th></th>\n",
       "      <th></th>\n",
       "      <th></th>\n",
       "      <th></th>\n",
       "      <th></th>\n",
       "      <th></th>\n",
       "      <th></th>\n",
       "      <th></th>\n",
       "      <th></th>\n",
       "      <th></th>\n",
       "      <th></th>\n",
       "      <th></th>\n",
       "      <th></th>\n",
       "    </tr>\n",
       "  </thead>\n",
       "  <tbody>\n",
       "    <tr>\n",
       "      <th>2021-01-01 00:00:00+00:00</th>\n",
       "      <td>-8.9</td>\n",
       "      <td>-9999.0</td>\n",
       "      <td>96.0</td>\n",
       "      <td>96.0</td>\n",
       "      <td>0.20</td>\n",
       "      <td>66.0</td>\n",
       "      <td>-9999.0</td>\n",
       "      <td>0.0</td>\n",
       "      <td>-9999.0</td>\n",
       "      <td>50.0</td>\n",
       "      <td>-9999.0</td>\n",
       "      <td>10.0</td>\n",
       "      <td>7.0</td>\n",
       "      <td>-9999.0</td>\n",
       "      <td>-9.31</td>\n",
       "      <td>0.0</td>\n",
       "    </tr>\n",
       "    <tr>\n",
       "      <th>2021-01-01 00:02:00+00:00</th>\n",
       "      <td>-8.9</td>\n",
       "      <td>-9999.0</td>\n",
       "      <td>96.0</td>\n",
       "      <td>96.0</td>\n",
       "      <td>0.21</td>\n",
       "      <td>66.0</td>\n",
       "      <td>-9999.0</td>\n",
       "      <td>0.0</td>\n",
       "      <td>-9999.0</td>\n",
       "      <td>50.0</td>\n",
       "      <td>-9999.0</td>\n",
       "      <td>11.0</td>\n",
       "      <td>7.0</td>\n",
       "      <td>-9999.0</td>\n",
       "      <td>-9.31</td>\n",
       "      <td>0.0</td>\n",
       "    </tr>\n",
       "    <tr>\n",
       "      <th>2021-01-01 00:04:00+00:00</th>\n",
       "      <td>-8.9</td>\n",
       "      <td>-9999.0</td>\n",
       "      <td>97.0</td>\n",
       "      <td>97.0</td>\n",
       "      <td>0.24</td>\n",
       "      <td>66.0</td>\n",
       "      <td>-9999.0</td>\n",
       "      <td>0.0</td>\n",
       "      <td>-9999.0</td>\n",
       "      <td>50.0</td>\n",
       "      <td>-9999.0</td>\n",
       "      <td>10.0</td>\n",
       "      <td>6.0</td>\n",
       "      <td>-9999.0</td>\n",
       "      <td>-9.20</td>\n",
       "      <td>0.0</td>\n",
       "    </tr>\n",
       "    <tr>\n",
       "      <th>2021-01-01 00:06:00+00:00</th>\n",
       "      <td>-8.9</td>\n",
       "      <td>-9999.0</td>\n",
       "      <td>96.0</td>\n",
       "      <td>96.0</td>\n",
       "      <td>0.26</td>\n",
       "      <td>66.0</td>\n",
       "      <td>-9999.0</td>\n",
       "      <td>0.0</td>\n",
       "      <td>-9999.0</td>\n",
       "      <td>50.0</td>\n",
       "      <td>-9999.0</td>\n",
       "      <td>10.0</td>\n",
       "      <td>7.0</td>\n",
       "      <td>-9999.0</td>\n",
       "      <td>-9.20</td>\n",
       "      <td>0.0</td>\n",
       "    </tr>\n",
       "    <tr>\n",
       "      <th>2021-01-01 00:08:00+00:00</th>\n",
       "      <td>-8.9</td>\n",
       "      <td>-9999.0</td>\n",
       "      <td>96.0</td>\n",
       "      <td>96.0</td>\n",
       "      <td>0.25</td>\n",
       "      <td>66.0</td>\n",
       "      <td>-9999.0</td>\n",
       "      <td>0.0</td>\n",
       "      <td>-9999.0</td>\n",
       "      <td>50.0</td>\n",
       "      <td>-9999.0</td>\n",
       "      <td>10.0</td>\n",
       "      <td>7.0</td>\n",
       "      <td>-9999.0</td>\n",
       "      <td>-9.20</td>\n",
       "      <td>0.0</td>\n",
       "    </tr>\n",
       "    <tr>\n",
       "      <th>...</th>\n",
       "      <td>...</td>\n",
       "      <td>...</td>\n",
       "      <td>...</td>\n",
       "      <td>...</td>\n",
       "      <td>...</td>\n",
       "      <td>...</td>\n",
       "      <td>...</td>\n",
       "      <td>...</td>\n",
       "      <td>...</td>\n",
       "      <td>...</td>\n",
       "      <td>...</td>\n",
       "      <td>...</td>\n",
       "      <td>...</td>\n",
       "      <td>...</td>\n",
       "      <td>...</td>\n",
       "      <td>...</td>\n",
       "    </tr>\n",
       "    <tr>\n",
       "      <th>2021-08-20 09:06:00+00:00</th>\n",
       "      <td>23.0</td>\n",
       "      <td>-9999.0</td>\n",
       "      <td>97.0</td>\n",
       "      <td>97.0</td>\n",
       "      <td>0.00</td>\n",
       "      <td>79.0</td>\n",
       "      <td>-9999.0</td>\n",
       "      <td>0.0</td>\n",
       "      <td>-9999.0</td>\n",
       "      <td>43.0</td>\n",
       "      <td>-9999.0</td>\n",
       "      <td>9.0</td>\n",
       "      <td>6.0</td>\n",
       "      <td>-9999.0</td>\n",
       "      <td>25.30</td>\n",
       "      <td>1.3</td>\n",
       "    </tr>\n",
       "    <tr>\n",
       "      <th>2021-08-20 09:08:00+00:00</th>\n",
       "      <td>23.1</td>\n",
       "      <td>-9999.0</td>\n",
       "      <td>97.0</td>\n",
       "      <td>97.0</td>\n",
       "      <td>0.00</td>\n",
       "      <td>80.0</td>\n",
       "      <td>-9999.0</td>\n",
       "      <td>0.0</td>\n",
       "      <td>-9999.0</td>\n",
       "      <td>43.0</td>\n",
       "      <td>-9999.0</td>\n",
       "      <td>9.0</td>\n",
       "      <td>6.0</td>\n",
       "      <td>-9999.0</td>\n",
       "      <td>25.30</td>\n",
       "      <td>1.3</td>\n",
       "    </tr>\n",
       "    <tr>\n",
       "      <th>2021-08-20 09:10:00+00:00</th>\n",
       "      <td>23.1</td>\n",
       "      <td>-9999.0</td>\n",
       "      <td>97.0</td>\n",
       "      <td>97.0</td>\n",
       "      <td>0.00</td>\n",
       "      <td>79.0</td>\n",
       "      <td>-9999.0</td>\n",
       "      <td>0.0</td>\n",
       "      <td>-9999.0</td>\n",
       "      <td>48.0</td>\n",
       "      <td>-9999.0</td>\n",
       "      <td>9.0</td>\n",
       "      <td>6.0</td>\n",
       "      <td>-9999.0</td>\n",
       "      <td>25.40</td>\n",
       "      <td>1.3</td>\n",
       "    </tr>\n",
       "    <tr>\n",
       "      <th>2021-08-20 09:12:00+00:00</th>\n",
       "      <td>23.3</td>\n",
       "      <td>-9999.0</td>\n",
       "      <td>97.0</td>\n",
       "      <td>97.0</td>\n",
       "      <td>0.00</td>\n",
       "      <td>79.0</td>\n",
       "      <td>-9999.0</td>\n",
       "      <td>0.0</td>\n",
       "      <td>-9999.0</td>\n",
       "      <td>49.0</td>\n",
       "      <td>-9999.0</td>\n",
       "      <td>9.0</td>\n",
       "      <td>6.0</td>\n",
       "      <td>-9999.0</td>\n",
       "      <td>25.60</td>\n",
       "      <td>1.3</td>\n",
       "    </tr>\n",
       "    <tr>\n",
       "      <th>2021-08-20 09:14:00+00:00</th>\n",
       "      <td>23.4</td>\n",
       "      <td>-9999.0</td>\n",
       "      <td>97.0</td>\n",
       "      <td>97.0</td>\n",
       "      <td>0.00</td>\n",
       "      <td>79.0</td>\n",
       "      <td>-9999.0</td>\n",
       "      <td>0.0</td>\n",
       "      <td>-9999.0</td>\n",
       "      <td>47.0</td>\n",
       "      <td>-9999.0</td>\n",
       "      <td>9.0</td>\n",
       "      <td>6.0</td>\n",
       "      <td>-9999.0</td>\n",
       "      <td>25.70</td>\n",
       "      <td>1.3</td>\n",
       "    </tr>\n",
       "  </tbody>\n",
       "</table>\n",
       "<p>157951 rows × 16 columns</p>\n",
       "</div>"
      ],
      "text/plain": [
       "                           out_blacksphere_temp  out_co  out_coai  out_coci  \\\n",
       "time                                                                          \n",
       "2021-01-01 00:00:00+00:00                  -8.9 -9999.0      96.0      96.0   \n",
       "2021-01-01 00:02:00+00:00                  -8.9 -9999.0      96.0      96.0   \n",
       "2021-01-01 00:04:00+00:00                  -8.9 -9999.0      97.0      97.0   \n",
       "2021-01-01 00:06:00+00:00                  -8.9 -9999.0      96.0      96.0   \n",
       "2021-01-01 00:08:00+00:00                  -8.9 -9999.0      96.0      96.0   \n",
       "...                                         ...     ...       ...       ...   \n",
       "2021-08-20 09:06:00+00:00                  23.0 -9999.0      97.0      97.0   \n",
       "2021-08-20 09:08:00+00:00                  23.1 -9999.0      97.0      97.0   \n",
       "2021-08-20 09:10:00+00:00                  23.1 -9999.0      97.0      97.0   \n",
       "2021-08-20 09:12:00+00:00                  23.3 -9999.0      97.0      97.0   \n",
       "2021-08-20 09:14:00+00:00                  23.4 -9999.0      97.0      97.0   \n",
       "\n",
       "                           out_h2s  out_humi  out_light_intensity  out_nh3  \\\n",
       "time                                                                         \n",
       "2021-01-01 00:00:00+00:00     0.20      66.0              -9999.0      0.0   \n",
       "2021-01-01 00:02:00+00:00     0.21      66.0              -9999.0      0.0   \n",
       "2021-01-01 00:04:00+00:00     0.24      66.0              -9999.0      0.0   \n",
       "2021-01-01 00:06:00+00:00     0.26      66.0              -9999.0      0.0   \n",
       "2021-01-01 00:08:00+00:00     0.25      66.0              -9999.0      0.0   \n",
       "...                            ...       ...                  ...      ...   \n",
       "2021-08-20 09:06:00+00:00     0.00      79.0              -9999.0      0.0   \n",
       "2021-08-20 09:08:00+00:00     0.00      80.0              -9999.0      0.0   \n",
       "2021-08-20 09:10:00+00:00     0.00      79.0              -9999.0      0.0   \n",
       "2021-08-20 09:12:00+00:00     0.00      79.0              -9999.0      0.0   \n",
       "2021-08-20 09:14:00+00:00     0.00      79.0              -9999.0      0.0   \n",
       "\n",
       "                           out_no2  out_noise  out_o3  out_pm10  out_pm25  \\\n",
       "time                                                                        \n",
       "2021-01-01 00:00:00+00:00  -9999.0       50.0 -9999.0      10.0       7.0   \n",
       "2021-01-01 00:02:00+00:00  -9999.0       50.0 -9999.0      11.0       7.0   \n",
       "2021-01-01 00:04:00+00:00  -9999.0       50.0 -9999.0      10.0       6.0   \n",
       "2021-01-01 00:06:00+00:00  -9999.0       50.0 -9999.0      10.0       7.0   \n",
       "2021-01-01 00:08:00+00:00  -9999.0       50.0 -9999.0      10.0       7.0   \n",
       "...                            ...        ...     ...       ...       ...   \n",
       "2021-08-20 09:06:00+00:00  -9999.0       43.0 -9999.0       9.0       6.0   \n",
       "2021-08-20 09:08:00+00:00  -9999.0       43.0 -9999.0       9.0       6.0   \n",
       "2021-08-20 09:10:00+00:00  -9999.0       48.0 -9999.0       9.0       6.0   \n",
       "2021-08-20 09:12:00+00:00  -9999.0       49.0 -9999.0       9.0       6.0   \n",
       "2021-08-20 09:14:00+00:00  -9999.0       47.0 -9999.0       9.0       6.0   \n",
       "\n",
       "                           out_so2  out_temp  out_ultraviolet_rays  \n",
       "time                                                                \n",
       "2021-01-01 00:00:00+00:00  -9999.0     -9.31                   0.0  \n",
       "2021-01-01 00:02:00+00:00  -9999.0     -9.31                   0.0  \n",
       "2021-01-01 00:04:00+00:00  -9999.0     -9.20                   0.0  \n",
       "2021-01-01 00:06:00+00:00  -9999.0     -9.20                   0.0  \n",
       "2021-01-01 00:08:00+00:00  -9999.0     -9.20                   0.0  \n",
       "...                            ...       ...                   ...  \n",
       "2021-08-20 09:06:00+00:00  -9999.0     25.30                   1.3  \n",
       "2021-08-20 09:08:00+00:00  -9999.0     25.30                   1.3  \n",
       "2021-08-20 09:10:00+00:00  -9999.0     25.40                   1.3  \n",
       "2021-08-20 09:12:00+00:00  -9999.0     25.60                   1.3  \n",
       "2021-08-20 09:14:00+00:00  -9999.0     25.70                   1.3  \n",
       "\n",
       "[157951 rows x 16 columns]"
      ]
     },
     "execution_count": 4,
     "metadata": {},
     "output_type": "execute_result"
    }
   ],
   "source": [
    "origin_data"
   ]
  },
  {
   "cell_type": "code",
   "execution_count": 5,
   "id": "f804ed14",
   "metadata": {
    "scrolled": true
   },
   "outputs": [
    {
     "name": "stdout",
     "output_type": "stream",
     "text": [
      "<class 'pandas.core.frame.DataFrame'>\n",
      "DatetimeIndex: 157951 entries, 2021-01-01 00:00:00+00:00 to 2021-08-20 09:14:00+00:00\n",
      "Data columns (total 16 columns):\n",
      " #   Column                Non-Null Count   Dtype  \n",
      "---  ------                --------------   -----  \n",
      " 0   out_blacksphere_temp  157951 non-null  float64\n",
      " 1   out_co                157951 non-null  float64\n",
      " 2   out_coai              157951 non-null  float64\n",
      " 3   out_coci              157951 non-null  float64\n",
      " 4   out_h2s               157951 non-null  float64\n",
      " 5   out_humi              157951 non-null  float64\n",
      " 6   out_light_intensity   157951 non-null  float64\n",
      " 7   out_nh3               157951 non-null  float64\n",
      " 8   out_no2               157951 non-null  float64\n",
      " 9   out_noise             157951 non-null  float64\n",
      " 10  out_o3                157951 non-null  float64\n",
      " 11  out_pm10              157951 non-null  float64\n",
      " 12  out_pm25              157951 non-null  float64\n",
      " 13  out_so2               157951 non-null  float64\n",
      " 14  out_temp              157951 non-null  float64\n",
      " 15  out_ultraviolet_rays  157951 non-null  float64\n",
      "dtypes: float64(16)\n",
      "memory usage: 20.5 MB\n"
     ]
    }
   ],
   "source": [
    "origin_data.info()"
   ]
  },
  {
   "cell_type": "code",
   "execution_count": 6,
   "id": "3cd38484",
   "metadata": {},
   "outputs": [
    {
     "name": "stdout",
     "output_type": "stream",
     "text": [
      "0 days 00:02:00\n"
     ]
    }
   ],
   "source": [
    "# Check Frequency\n",
    "freq = db_client.get_freq(bk_name, ms_name)\n",
    "print(freq)"
   ]
  },
  {
   "cell_type": "code",
   "execution_count": 7,
   "id": "2fa5a395",
   "metadata": {},
   "outputs": [],
   "source": [
    "origin_data = origin_data[feature_list]"
   ]
  },
  {
   "cell_type": "markdown",
   "id": "ece08197",
   "metadata": {},
   "source": [
    "## Data Refine"
   ]
  },
  {
   "cell_type": "code",
   "execution_count": 8,
   "id": "ebfa508b",
   "metadata": {},
   "outputs": [],
   "source": [
    "# fill in the missing time index\n",
    "refine_param = {'removeDuplication': {'flag': True} , 'staticFrequency': {'flag': True, 'frequency': \"1H\"}}\n",
    "data_refine = DataPreprocessing().get_refinedData(origin_data, refine_param)"
   ]
  },
  {
   "cell_type": "code",
   "execution_count": 9,
   "id": "c5ada1cb",
   "metadata": {},
   "outputs": [
    {
     "name": "stdout",
     "output_type": "stream",
     "text": [
      "<class 'pandas.core.frame.DataFrame'>\n",
      "DatetimeIndex: 5554 entries, 2021-01-01 00:00:00+00:00 to 2021-08-20 09:00:00+00:00\n",
      "Freq: H\n",
      "Data columns (total 8 columns):\n",
      " #   Column                Non-Null Count  Dtype  \n",
      "---  ------                --------------  -----  \n",
      " 0   out_blacksphere_temp  5547 non-null   float64\n",
      " 1   out_coai              5547 non-null   float64\n",
      " 2   out_h2s               5547 non-null   float64\n",
      " 3   out_humi              5547 non-null   float64\n",
      " 4   out_nh3               5547 non-null   float64\n",
      " 5   out_pm10              5547 non-null   float64\n",
      " 6   out_temp              5547 non-null   float64\n",
      " 7   out_ultraviolet_rays  5547 non-null   float64\n",
      "dtypes: float64(8)\n",
      "memory usage: 390.5 KB\n"
     ]
    }
   ],
   "source": [
    "data_refine.info()"
   ]
  },
  {
   "cell_type": "code",
   "execution_count": 10,
   "id": "2b72dd5b",
   "metadata": {},
   "outputs": [
    {
     "data": {
      "text/html": [
       "<div>\n",
       "<style scoped>\n",
       "    .dataframe tbody tr th:only-of-type {\n",
       "        vertical-align: middle;\n",
       "    }\n",
       "\n",
       "    .dataframe tbody tr th {\n",
       "        vertical-align: top;\n",
       "    }\n",
       "\n",
       "    .dataframe thead th {\n",
       "        text-align: right;\n",
       "    }\n",
       "</style>\n",
       "<table border=\"1\" class=\"dataframe\">\n",
       "  <thead>\n",
       "    <tr style=\"text-align: right;\">\n",
       "      <th></th>\n",
       "      <th>out_blacksphere_temp</th>\n",
       "      <th>out_coai</th>\n",
       "      <th>out_h2s</th>\n",
       "      <th>out_humi</th>\n",
       "      <th>out_nh3</th>\n",
       "      <th>out_pm10</th>\n",
       "      <th>out_temp</th>\n",
       "      <th>out_ultraviolet_rays</th>\n",
       "    </tr>\n",
       "    <tr>\n",
       "      <th>time</th>\n",
       "      <th></th>\n",
       "      <th></th>\n",
       "      <th></th>\n",
       "      <th></th>\n",
       "      <th></th>\n",
       "      <th></th>\n",
       "      <th></th>\n",
       "      <th></th>\n",
       "    </tr>\n",
       "  </thead>\n",
       "  <tbody>\n",
       "    <tr>\n",
       "      <th>2021-01-01 00:00:00+00:00</th>\n",
       "      <td>-8.976667</td>\n",
       "      <td>96.100000</td>\n",
       "      <td>0.289333</td>\n",
       "      <td>65.933333</td>\n",
       "      <td>0.0</td>\n",
       "      <td>10.433333</td>\n",
       "      <td>-9.322000</td>\n",
       "      <td>0.000000</td>\n",
       "    </tr>\n",
       "    <tr>\n",
       "      <th>2021-01-01 01:00:00+00:00</th>\n",
       "      <td>-9.249259</td>\n",
       "      <td>97.111111</td>\n",
       "      <td>0.290741</td>\n",
       "      <td>66.925926</td>\n",
       "      <td>0.0</td>\n",
       "      <td>8.407407</td>\n",
       "      <td>-9.788889</td>\n",
       "      <td>0.003704</td>\n",
       "    </tr>\n",
       "    <tr>\n",
       "      <th>2021-01-01 02:00:00+00:00</th>\n",
       "      <td>-9.418966</td>\n",
       "      <td>97.896552</td>\n",
       "      <td>0.306897</td>\n",
       "      <td>67.620690</td>\n",
       "      <td>0.0</td>\n",
       "      <td>6.965517</td>\n",
       "      <td>-10.069310</td>\n",
       "      <td>0.003448</td>\n",
       "    </tr>\n",
       "    <tr>\n",
       "      <th>2021-01-01 03:00:00+00:00</th>\n",
       "      <td>-9.534483</td>\n",
       "      <td>98.000000</td>\n",
       "      <td>0.295517</td>\n",
       "      <td>68.344828</td>\n",
       "      <td>0.0</td>\n",
       "      <td>6.172414</td>\n",
       "      <td>-10.310345</td>\n",
       "      <td>0.000000</td>\n",
       "    </tr>\n",
       "    <tr>\n",
       "      <th>2021-01-01 04:00:00+00:00</th>\n",
       "      <td>-9.471786</td>\n",
       "      <td>98.000000</td>\n",
       "      <td>0.272857</td>\n",
       "      <td>67.785714</td>\n",
       "      <td>0.0</td>\n",
       "      <td>6.000000</td>\n",
       "      <td>-10.178929</td>\n",
       "      <td>0.060714</td>\n",
       "    </tr>\n",
       "  </tbody>\n",
       "</table>\n",
       "</div>"
      ],
      "text/plain": [
       "                           out_blacksphere_temp   out_coai   out_h2s  \\\n",
       "time                                                                   \n",
       "2021-01-01 00:00:00+00:00             -8.976667  96.100000  0.289333   \n",
       "2021-01-01 01:00:00+00:00             -9.249259  97.111111  0.290741   \n",
       "2021-01-01 02:00:00+00:00             -9.418966  97.896552  0.306897   \n",
       "2021-01-01 03:00:00+00:00             -9.534483  98.000000  0.295517   \n",
       "2021-01-01 04:00:00+00:00             -9.471786  98.000000  0.272857   \n",
       "\n",
       "                            out_humi  out_nh3   out_pm10   out_temp  \\\n",
       "time                                                                  \n",
       "2021-01-01 00:00:00+00:00  65.933333      0.0  10.433333  -9.322000   \n",
       "2021-01-01 01:00:00+00:00  66.925926      0.0   8.407407  -9.788889   \n",
       "2021-01-01 02:00:00+00:00  67.620690      0.0   6.965517 -10.069310   \n",
       "2021-01-01 03:00:00+00:00  68.344828      0.0   6.172414 -10.310345   \n",
       "2021-01-01 04:00:00+00:00  67.785714      0.0   6.000000 -10.178929   \n",
       "\n",
       "                           out_ultraviolet_rays  \n",
       "time                                             \n",
       "2021-01-01 00:00:00+00:00              0.000000  \n",
       "2021-01-01 01:00:00+00:00              0.003704  \n",
       "2021-01-01 02:00:00+00:00              0.003448  \n",
       "2021-01-01 03:00:00+00:00              0.000000  \n",
       "2021-01-01 04:00:00+00:00              0.060714  "
      ]
     },
     "execution_count": 10,
     "metadata": {},
     "output_type": "execute_result"
    }
   ],
   "source": [
    "data_refine.head()"
   ]
  },
  {
   "cell_type": "markdown",
   "id": "ced6edb8",
   "metadata": {},
   "source": [
    "## Data Nan -> Mean"
   ]
  },
  {
   "cell_type": "code",
   "execution_count": 11,
   "id": "d6ef88ca",
   "metadata": {},
   "outputs": [],
   "source": [
    "method = \"mean\"\n",
    "max_limit = {}\n",
    "parameter = {}\n",
    "\n",
    "data_refine_nan = BasicImputation(data_refine, method, max_limit, parameter).simpleMethod()"
   ]
  },
  {
   "cell_type": "code",
   "execution_count": 12,
   "id": "772f34c9",
   "metadata": {},
   "outputs": [
    {
     "name": "stdout",
     "output_type": "stream",
     "text": [
      "<class 'pandas.core.frame.DataFrame'>\n",
      "DatetimeIndex: 5554 entries, 2021-01-01 00:00:00+00:00 to 2021-08-20 09:00:00+00:00\n",
      "Freq: H\n",
      "Data columns (total 8 columns):\n",
      " #   Column                Non-Null Count  Dtype  \n",
      "---  ------                --------------  -----  \n",
      " 0   out_blacksphere_temp  5554 non-null   float64\n",
      " 1   out_coai              5554 non-null   float64\n",
      " 2   out_h2s               5554 non-null   float64\n",
      " 3   out_humi              5554 non-null   float64\n",
      " 4   out_nh3               5554 non-null   float64\n",
      " 5   out_pm10              5554 non-null   float64\n",
      " 6   out_temp              5554 non-null   float64\n",
      " 7   out_ultraviolet_rays  5554 non-null   float64\n",
      "dtypes: float64(8)\n",
      "memory usage: 390.5 KB\n"
     ]
    }
   ],
   "source": [
    "data_refine_nan.info()"
   ]
  },
  {
   "cell_type": "code",
   "execution_count": null,
   "id": "50de781f",
   "metadata": {},
   "outputs": [],
   "source": []
  },
  {
   "cell_type": "markdown",
   "id": "289be2d7",
   "metadata": {},
   "source": [
    "## Data Scale"
   ]
  },
  {
   "cell_type": "code",
   "execution_count": 13,
   "id": "a20dadff",
   "metadata": {},
   "outputs": [],
   "source": [
    "# set parameter\n",
    "scaler_root_dir ='./scaler/'\n",
    "\n",
    "clean_train_data_param = 'NoClean'\n",
    "\n",
    "data_name_x = \"AdaRNN_data_x\"\n",
    "feature_list_x= list(data_refine_nan.columns)\n",
    "\n",
    "split_ratio = 0.8\n",
    "scaler_param='scale'\n",
    "scale_method='minmax'"
   ]
  },
  {
   "cell_type": "code",
   "execution_count": 14,
   "id": "cce84339",
   "metadata": {},
   "outputs": [
    {
     "name": "stdout",
     "output_type": "stream",
     "text": [
      "New json file is created from data.json file\n",
      "['out_blacksphere_temp', 'out_coai', 'out_h2s', 'out_humi', 'out_nh3', 'out_pm10', 'out_temp', 'out_ultraviolet_rays']\n",
      "Make New scaler File\n"
     ]
    }
   ],
   "source": [
    "scaler_root_path_x = os.path.join(scaler_root_dir, data_name_x, clean_train_data_param)\n",
    "train_x, val_x, X_scaler_file_path = ml_data.get_train_val_data(data_refine_nan, feature_list_x, scaler_root_path_x, split_ratio, \n",
    "                                                                scaler_param, scale_method, mode = 'Classification')"
   ]
  },
  {
   "cell_type": "code",
   "execution_count": 15,
   "id": "3752ddd8",
   "metadata": {},
   "outputs": [
    {
     "data": {
      "text/plain": [
       "'./scaler/AdaRNN_data_x/NoClean/minmax/4457f465de3d0e17dd9f547db5b454b7/scaler.pkl'"
      ]
     },
     "execution_count": 15,
     "metadata": {},
     "output_type": "execute_result"
    }
   ],
   "source": [
    "X_scaler_file_path"
   ]
  },
  {
   "cell_type": "code",
   "execution_count": 16,
   "id": "81408b45",
   "metadata": {},
   "outputs": [],
   "source": [
    "import json\n",
    "scale_path_dict = {\"scale_path\" : X_scaler_file_path}\n",
    "with open('./scale_path_dict.json','w') as f:\n",
    "    json.dump(scale_path_dict, f, ensure_ascii=False, indent=4)"
   ]
  },
  {
   "cell_type": "code",
   "execution_count": null,
   "id": "2e5e3f0a",
   "metadata": {},
   "outputs": [],
   "source": []
  },
  {
   "cell_type": "markdown",
   "id": "3b21fe15",
   "metadata": {},
   "source": [
    "## get Data y"
   ]
  },
  {
   "cell_type": "code",
   "execution_count": 17,
   "id": "d041fb90",
   "metadata": {
    "scrolled": true
   },
   "outputs": [
    {
     "name": "stdout",
     "output_type": "stream",
     "text": [
      "1. Original Data Lenagh: 4463\n",
      "2. Removed Data Length: 0\n",
      "3. Clean Data Leangth: 4440\n",
      "1. Original Data Lenagh: 1089\n",
      "2. Removed Data Length: 0\n",
      "3. Clean Data Leangth: 1066\n"
     ]
    }
   ],
   "source": [
    "LSTMD = LSTMData()\n",
    "train_x_arr, train_y_arr = LSTMD.transform_Xy_arr(train_x, get_y_data_transformParameter, \"NoClean\")\n",
    "valid_x_arr, valid_y_arr = LSTMD.transform_Xy_arr(val_x, get_y_data_transformParameter, \"NoClean\")"
   ]
  },
  {
   "cell_type": "code",
   "execution_count": 18,
   "id": "55a7d092",
   "metadata": {},
   "outputs": [
    {
     "data": {
      "text/plain": [
       "((4440, 24, 8), (4440, 1), (1066, 24, 8), (1066, 1))"
      ]
     },
     "execution_count": 18,
     "metadata": {},
     "output_type": "execute_result"
    }
   ],
   "source": [
    "train_x_arr.shape, train_y_arr.shape, valid_x_arr.shape, valid_y_arr.shape"
   ]
  },
  {
   "cell_type": "code",
   "execution_count": 19,
   "id": "a542192d",
   "metadata": {},
   "outputs": [],
   "source": [
    "train_y_arr = train_y_arr.reshape(train_y_arr.shape[0],)\n",
    "valid_y_arr = valid_y_arr.reshape(valid_y_arr.shape[0])"
   ]
  },
  {
   "cell_type": "code",
   "execution_count": null,
   "id": "77298a25",
   "metadata": {},
   "outputs": [],
   "source": []
  },
  {
   "cell_type": "markdown",
   "id": "af8ea6d3",
   "metadata": {},
   "source": [
    "# Data Loader"
   ]
  },
  {
   "cell_type": "code",
   "execution_count": 20,
   "id": "b17e183c",
   "metadata": {},
   "outputs": [
    {
     "name": "stdout",
     "output_type": "stream",
     "text": [
      "{'x_features': 8, 'class_num': 1, 'dropout': 0.0, 'len_seq': 24, 'loss_type': 'adv', 'hidden_size': 64, 'num_layers': 2}\n"
     ]
    }
   ],
   "source": [
    "adarnn = ada_rnn.ClustAdaRnn(param)"
   ]
  },
  {
   "cell_type": "code",
   "execution_count": 21,
   "id": "8208ccce",
   "metadata": {},
   "outputs": [],
   "source": [
    "train_loader_list, valid_loader = adarnn.create_trainloader(train_x_arr, train_y_arr, valid_x_arr, valid_y_arr, k, \n",
    "                                                            train_start_time, train_end_time)"
   ]
  },
  {
   "cell_type": "markdown",
   "id": "61198958",
   "metadata": {},
   "source": [
    "# Training"
   ]
  },
  {
   "cell_type": "code",
   "execution_count": 22,
   "id": "c2db14dd",
   "metadata": {
    "scrolled": true
   },
   "outputs": [
    {
     "name": "stdout",
     "output_type": "stream",
     "text": [
      "[2023-03-21 15:32:30] - create model...\n",
      "[2023-03-21 15:32:30] - Epoch: 0\n",
      "[2023-03-21 15:32:30] - training...\n"
     ]
    },
    {
     "name": "stderr",
     "output_type": "stream",
     "text": [
      "100%|██████████████████████████████████████████| 3/3 [00:00<00:00,  4.41it/s]"
     ]
    },
    {
     "name": "stdout",
     "output_type": "stream",
     "text": [
      "[2023-03-21 15:32:31] - evaluating...\n"
     ]
    },
    {
     "name": "stderr",
     "output_type": "stream",
     "text": [
      "\n",
      "Valid: 100%|████████████████████████████████| 17/17 [00:00<00:00, 581.89it/s]"
     ]
    },
    {
     "name": "stdout",
     "output_type": "stream",
     "text": [
      "[2023-03-21 15:32:31] - train 0.125825, valid MSE Loss 0.006824, valid L1 Loss 0.081323\n",
      "[2023-03-21 15:32:31] - Epoch: 1\n",
      "[2023-03-21 15:32:31] - training...\n"
     ]
    },
    {
     "name": "stderr",
     "output_type": "stream",
     "text": [
      "\n",
      "100%|██████████████████████████████████████████| 3/3 [00:00<00:00, 16.68it/s]"
     ]
    },
    {
     "name": "stdout",
     "output_type": "stream",
     "text": [
      "[2023-03-21 15:32:31] - evaluating...\n"
     ]
    },
    {
     "name": "stderr",
     "output_type": "stream",
     "text": [
      "\n",
      "Valid: 100%|████████████████████████████████| 17/17 [00:00<00:00, 609.35it/s]"
     ]
    },
    {
     "name": "stdout",
     "output_type": "stream",
     "text": [
      "[2023-03-21 15:32:31] - train 0.107612, valid MSE Loss 0.004886, valid L1 Loss 0.068365\n",
      "[2023-03-21 15:32:31] - Epoch: 2\n",
      "[2023-03-21 15:32:31] - training...\n"
     ]
    },
    {
     "name": "stderr",
     "output_type": "stream",
     "text": [
      "\n",
      "100%|██████████████████████████████████████████| 3/3 [00:00<00:00, 14.21it/s]"
     ]
    },
    {
     "name": "stdout",
     "output_type": "stream",
     "text": [
      "[2023-03-21 15:32:32] - evaluating...\n"
     ]
    },
    {
     "name": "stderr",
     "output_type": "stream",
     "text": [
      "\n",
      "Valid: 100%|████████████████████████████████| 17/17 [00:00<00:00, 411.75it/s]"
     ]
    },
    {
     "name": "stdout",
     "output_type": "stream",
     "text": [
      "[2023-03-21 15:32:32] - train 0.079059, valid MSE Loss 0.004213, valid L1 Loss 0.063253\n",
      "[2023-03-21 15:32:32] - Epoch: 3\n",
      "[2023-03-21 15:32:32] - training...\n"
     ]
    },
    {
     "name": "stderr",
     "output_type": "stream",
     "text": [
      "\n",
      "100%|██████████████████████████████████████████| 3/3 [00:00<00:00, 16.30it/s]\n"
     ]
    },
    {
     "name": "stdout",
     "output_type": "stream",
     "text": [
      "[2023-03-21 15:32:32] - evaluating...\n"
     ]
    },
    {
     "name": "stderr",
     "output_type": "stream",
     "text": [
      "Valid: 100%|████████████████████████████████| 17/17 [00:00<00:00, 432.16it/s]"
     ]
    },
    {
     "name": "stdout",
     "output_type": "stream",
     "text": [
      "[2023-03-21 15:32:32] - train 0.069888, valid MSE Loss 0.003735, valid L1 Loss 0.059344\n",
      "[2023-03-21 15:32:32] - Epoch: 4\n",
      "[2023-03-21 15:32:32] - training...\n"
     ]
    },
    {
     "name": "stderr",
     "output_type": "stream",
     "text": [
      "\n",
      "100%|██████████████████████████████████████████| 3/3 [00:00<00:00, 15.46it/s]\n"
     ]
    },
    {
     "name": "stdout",
     "output_type": "stream",
     "text": [
      "[2023-03-21 15:32:32] - evaluating...\n"
     ]
    },
    {
     "name": "stderr",
     "output_type": "stream",
     "text": [
      "Valid: 100%|████████████████████████████████| 17/17 [00:00<00:00, 586.82it/s]"
     ]
    },
    {
     "name": "stdout",
     "output_type": "stream",
     "text": [
      "[2023-03-21 15:32:32] - train 0.065596, valid MSE Loss 0.003117, valid L1 Loss 0.053881\n",
      "[2023-03-21 15:32:32] - Epoch: 5\n",
      "[2023-03-21 15:32:32] - training...\n"
     ]
    },
    {
     "name": "stderr",
     "output_type": "stream",
     "text": [
      "\n",
      "100%|██████████████████████████████████████████| 3/3 [00:00<00:00, 16.47it/s]\n"
     ]
    },
    {
     "name": "stdout",
     "output_type": "stream",
     "text": [
      "[2023-03-21 15:32:32] - evaluating...\n"
     ]
    },
    {
     "name": "stderr",
     "output_type": "stream",
     "text": [
      "Valid: 100%|████████████████████████████████| 17/17 [00:00<00:00, 573.97it/s]"
     ]
    },
    {
     "name": "stdout",
     "output_type": "stream",
     "text": [
      "[2023-03-21 15:32:32] - train 0.060925, valid MSE Loss 0.002662, valid L1 Loss 0.049477\n",
      "[2023-03-21 15:32:32] - Epoch: 6\n",
      "[2023-03-21 15:32:32] - training...\n"
     ]
    },
    {
     "name": "stderr",
     "output_type": "stream",
     "text": [
      "\n",
      "100%|██████████████████████████████████████████| 3/3 [00:00<00:00, 14.43it/s]"
     ]
    },
    {
     "name": "stdout",
     "output_type": "stream",
     "text": [
      "[2023-03-21 15:32:33] - evaluating...\n"
     ]
    },
    {
     "name": "stderr",
     "output_type": "stream",
     "text": [
      "\n",
      "Valid: 100%|████████████████████████████████| 17/17 [00:00<00:00, 464.70it/s]"
     ]
    },
    {
     "name": "stdout",
     "output_type": "stream",
     "text": [
      "[2023-03-21 15:32:33] - train 0.053887, valid MSE Loss 0.002476, valid L1 Loss 0.047512\n",
      "[2023-03-21 15:32:33] - Epoch: 7\n",
      "[2023-03-21 15:32:33] - training...\n"
     ]
    },
    {
     "name": "stderr",
     "output_type": "stream",
     "text": [
      "\n",
      "100%|██████████████████████████████████████████| 3/3 [00:00<00:00, 16.92it/s]"
     ]
    },
    {
     "name": "stdout",
     "output_type": "stream",
     "text": [
      "[2023-03-21 15:32:33] - evaluating...\n"
     ]
    },
    {
     "name": "stderr",
     "output_type": "stream",
     "text": [
      "\n",
      "Valid: 100%|████████████████████████████████| 17/17 [00:00<00:00, 606.62it/s]"
     ]
    },
    {
     "name": "stdout",
     "output_type": "stream",
     "text": [
      "[2023-03-21 15:32:33] - train 0.051122, valid MSE Loss 0.002345, valid L1 Loss 0.046115\n",
      "[2023-03-21 15:32:33] - Epoch: 8\n",
      "[2023-03-21 15:32:33] - training...\n"
     ]
    },
    {
     "name": "stderr",
     "output_type": "stream",
     "text": [
      "\n",
      "100%|██████████████████████████████████████████| 3/3 [00:00<00:00, 15.79it/s]"
     ]
    },
    {
     "name": "stdout",
     "output_type": "stream",
     "text": [
      "[2023-03-21 15:32:33] - evaluating...\n"
     ]
    },
    {
     "name": "stderr",
     "output_type": "stream",
     "text": [
      "\n",
      "Valid: 100%|████████████████████████████████| 17/17 [00:00<00:00, 501.23it/s]"
     ]
    },
    {
     "name": "stdout",
     "output_type": "stream",
     "text": [
      "[2023-03-21 15:32:33] - train 0.049568, valid MSE Loss 0.002150, valid L1 Loss 0.044032\n",
      "[2023-03-21 15:32:33] - Epoch: 9\n",
      "[2023-03-21 15:32:33] - training...\n"
     ]
    },
    {
     "name": "stderr",
     "output_type": "stream",
     "text": [
      "\n",
      "100%|██████████████████████████████████████████| 3/3 [00:00<00:00, 15.62it/s]"
     ]
    },
    {
     "name": "stdout",
     "output_type": "stream",
     "text": [
      "[2023-03-21 15:32:33] - evaluating...\n"
     ]
    },
    {
     "name": "stderr",
     "output_type": "stream",
     "text": [
      "\n",
      "Valid: 100%|████████████████████████████████| 17/17 [00:00<00:00, 481.45it/s]"
     ]
    },
    {
     "name": "stdout",
     "output_type": "stream",
     "text": [
      "[2023-03-21 15:32:33] - train 0.046967, valid MSE Loss 0.001901, valid L1 Loss 0.041086\n",
      "[2023-03-21 15:32:33] - Epoch: 10\n",
      "[2023-03-21 15:32:33] - training...\n"
     ]
    },
    {
     "name": "stderr",
     "output_type": "stream",
     "text": [
      "\n",
      "100%|██████████████████████████████████████████| 3/3 [00:00<00:00, 14.18it/s]"
     ]
    },
    {
     "name": "stdout",
     "output_type": "stream",
     "text": [
      "[2023-03-21 15:32:34] - evaluating...\n"
     ]
    },
    {
     "name": "stderr",
     "output_type": "stream",
     "text": [
      "\n",
      "Valid: 100%|████████████████████████████████| 17/17 [00:00<00:00, 442.37it/s]"
     ]
    },
    {
     "name": "stdout",
     "output_type": "stream",
     "text": [
      "[2023-03-21 15:32:34] - train 0.046925, valid MSE Loss 0.001699, valid L1 Loss 0.038553\n",
      "[2023-03-21 15:32:34] - Epoch: 11\n",
      "[2023-03-21 15:32:34] - training...\n"
     ]
    },
    {
     "name": "stderr",
     "output_type": "stream",
     "text": [
      "\n",
      "100%|██████████████████████████████████████████| 3/3 [00:00<00:00, 15.78it/s]"
     ]
    },
    {
     "name": "stdout",
     "output_type": "stream",
     "text": [
      "[2023-03-21 15:32:34] - evaluating...\n"
     ]
    },
    {
     "name": "stderr",
     "output_type": "stream",
     "text": [
      "\n",
      "Valid: 100%|████████████████████████████████| 17/17 [00:00<00:00, 433.78it/s]"
     ]
    },
    {
     "name": "stdout",
     "output_type": "stream",
     "text": [
      "[2023-03-21 15:32:34] - train 0.040664, valid MSE Loss 0.001588, valid L1 Loss 0.037125\n",
      "[2023-03-21 15:32:34] - Epoch: 12\n",
      "[2023-03-21 15:32:34] - training...\n"
     ]
    },
    {
     "name": "stderr",
     "output_type": "stream",
     "text": [
      "\n",
      "100%|██████████████████████████████████████████| 3/3 [00:00<00:00, 13.73it/s]"
     ]
    },
    {
     "name": "stdout",
     "output_type": "stream",
     "text": [
      "[2023-03-21 15:32:34] - evaluating...\n"
     ]
    },
    {
     "name": "stderr",
     "output_type": "stream",
     "text": [
      "\n",
      "Valid: 100%|████████████████████████████████| 17/17 [00:00<00:00, 560.43it/s]"
     ]
    },
    {
     "name": "stdout",
     "output_type": "stream",
     "text": [
      "[2023-03-21 15:32:34] - train 0.039877, valid MSE Loss 0.001512, valid L1 Loss 0.036069\n",
      "[2023-03-21 15:32:34] - Epoch: 13\n",
      "[2023-03-21 15:32:34] - training...\n"
     ]
    },
    {
     "name": "stderr",
     "output_type": "stream",
     "text": [
      "\n",
      "100%|██████████████████████████████████████████| 3/3 [00:00<00:00, 14.27it/s]"
     ]
    },
    {
     "name": "stdout",
     "output_type": "stream",
     "text": [
      "[2023-03-21 15:32:34] - evaluating...\n"
     ]
    },
    {
     "name": "stderr",
     "output_type": "stream",
     "text": [
      "\n",
      "Valid: 100%|████████████████████████████████| 17/17 [00:00<00:00, 416.50it/s]"
     ]
    },
    {
     "name": "stdout",
     "output_type": "stream",
     "text": [
      "[2023-03-21 15:32:34] - train 0.041575, valid MSE Loss 0.001443, valid L1 Loss 0.035110\n",
      "[2023-03-21 15:32:34] - Epoch: 14\n",
      "[2023-03-21 15:32:34] - training...\n"
     ]
    },
    {
     "name": "stderr",
     "output_type": "stream",
     "text": [
      "\n",
      "100%|██████████████████████████████████████████| 3/3 [00:00<00:00, 16.30it/s]\n"
     ]
    },
    {
     "name": "stdout",
     "output_type": "stream",
     "text": [
      "[2023-03-21 15:32:35] - evaluating...\n"
     ]
    },
    {
     "name": "stderr",
     "output_type": "stream",
     "text": [
      "Valid: 100%|████████████████████████████████| 17/17 [00:00<00:00, 442.34it/s]"
     ]
    },
    {
     "name": "stdout",
     "output_type": "stream",
     "text": [
      "[2023-03-21 15:32:35] - train 0.044880, valid MSE Loss 0.001362, valid L1 Loss 0.033932\n",
      "[2023-03-21 15:32:35] - Epoch: 15\n",
      "[2023-03-21 15:32:35] - training...\n"
     ]
    },
    {
     "name": "stderr",
     "output_type": "stream",
     "text": [
      "\n",
      "100%|██████████████████████████████████████████| 3/3 [00:00<00:00, 13.43it/s]"
     ]
    },
    {
     "name": "stdout",
     "output_type": "stream",
     "text": [
      "[2023-03-21 15:32:35] - evaluating...\n"
     ]
    },
    {
     "name": "stderr",
     "output_type": "stream",
     "text": [
      "\n",
      "Valid: 100%|████████████████████████████████| 17/17 [00:00<00:00, 634.53it/s]"
     ]
    },
    {
     "name": "stdout",
     "output_type": "stream",
     "text": [
      "[2023-03-21 15:32:35] - train 0.039332, valid MSE Loss 0.001334, valid L1 Loss 0.033510\n",
      "[2023-03-21 15:32:35] - Epoch: 16\n",
      "[2023-03-21 15:32:35] - training...\n"
     ]
    },
    {
     "name": "stderr",
     "output_type": "stream",
     "text": [
      "\n",
      "100%|██████████████████████████████████████████| 3/3 [00:00<00:00, 14.11it/s]"
     ]
    },
    {
     "name": "stdout",
     "output_type": "stream",
     "text": [
      "[2023-03-21 15:32:35] - evaluating...\n"
     ]
    },
    {
     "name": "stderr",
     "output_type": "stream",
     "text": [
      "\n",
      "Valid: 100%|████████████████████████████████| 17/17 [00:00<00:00, 416.07it/s]"
     ]
    },
    {
     "name": "stdout",
     "output_type": "stream",
     "text": [
      "[2023-03-21 15:32:35] - train 0.040920, valid MSE Loss 0.001375, valid L1 Loss 0.033997\n",
      "[2023-03-21 15:32:35] - Epoch: 17\n",
      "[2023-03-21 15:32:35] - training...\n"
     ]
    },
    {
     "name": "stderr",
     "output_type": "stream",
     "text": [
      "\n",
      "100%|██████████████████████████████████████████| 3/3 [00:00<00:00, 13.66it/s]"
     ]
    },
    {
     "name": "stdout",
     "output_type": "stream",
     "text": [
      "[2023-03-21 15:32:35] - evaluating...\n"
     ]
    },
    {
     "name": "stderr",
     "output_type": "stream",
     "text": [
      "\n",
      "Valid: 100%|████████████████████████████████| 17/17 [00:00<00:00, 407.48it/s]"
     ]
    },
    {
     "name": "stdout",
     "output_type": "stream",
     "text": [
      "[2023-03-21 15:32:36] - train 0.036817, valid MSE Loss 0.001376, valid L1 Loss 0.034074\n",
      "[2023-03-21 15:32:36] - Epoch: 18\n",
      "[2023-03-21 15:32:36] - training...\n"
     ]
    },
    {
     "name": "stderr",
     "output_type": "stream",
     "text": [
      "\n",
      "100%|██████████████████████████████████████████| 3/3 [00:00<00:00, 14.58it/s]"
     ]
    },
    {
     "name": "stdout",
     "output_type": "stream",
     "text": [
      "[2023-03-21 15:32:36] - evaluating...\n"
     ]
    },
    {
     "name": "stderr",
     "output_type": "stream",
     "text": [
      "\n",
      "Valid: 100%|████████████████████████████████| 17/17 [00:00<00:00, 412.47it/s]"
     ]
    },
    {
     "name": "stdout",
     "output_type": "stream",
     "text": [
      "[2023-03-21 15:32:36] - train 0.031687, valid MSE Loss 0.001386, valid L1 Loss 0.034176\n",
      "[2023-03-21 15:32:36] - Epoch: 19\n",
      "[2023-03-21 15:32:36] - training...\n"
     ]
    },
    {
     "name": "stderr",
     "output_type": "stream",
     "text": [
      "\n",
      "100%|██████████████████████████████████████████| 3/3 [00:00<00:00, 16.03it/s]\n"
     ]
    },
    {
     "name": "stdout",
     "output_type": "stream",
     "text": [
      "[2023-03-21 15:32:36] - evaluating...\n"
     ]
    },
    {
     "name": "stderr",
     "output_type": "stream",
     "text": [
      "Valid: 100%|████████████████████████████████| 17/17 [00:00<00:00, 506.03it/s]"
     ]
    },
    {
     "name": "stdout",
     "output_type": "stream",
     "text": [
      "[2023-03-21 15:32:36] - train 0.032994, valid MSE Loss 0.001344, valid L1 Loss 0.033600\n",
      "[2023-03-21 15:32:36] - Epoch: 20\n",
      "[2023-03-21 15:32:36] - training...\n"
     ]
    },
    {
     "name": "stderr",
     "output_type": "stream",
     "text": [
      "\n",
      "100%|██████████████████████████████████████████| 3/3 [00:00<00:00, 15.10it/s]\n"
     ]
    },
    {
     "name": "stdout",
     "output_type": "stream",
     "text": [
      "[2023-03-21 15:32:36] - evaluating...\n"
     ]
    },
    {
     "name": "stderr",
     "output_type": "stream",
     "text": [
      "Valid: 100%|████████████████████████████████| 17/17 [00:00<00:00, 465.81it/s]"
     ]
    },
    {
     "name": "stdout",
     "output_type": "stream",
     "text": [
      "[2023-03-21 15:32:36] - train 0.030300, valid MSE Loss 0.001206, valid L1 Loss 0.031473\n",
      "[2023-03-21 15:32:36] - Epoch: 21\n",
      "[2023-03-21 15:32:36] - training...\n"
     ]
    },
    {
     "name": "stderr",
     "output_type": "stream",
     "text": [
      "\n",
      "100%|██████████████████████████████████████████| 3/3 [00:00<00:00, 15.51it/s]"
     ]
    },
    {
     "name": "stdout",
     "output_type": "stream",
     "text": [
      "[2023-03-21 15:32:37] - evaluating...\n"
     ]
    },
    {
     "name": "stderr",
     "output_type": "stream",
     "text": [
      "\n",
      "Valid: 100%|████████████████████████████████| 17/17 [00:00<00:00, 574.47it/s]"
     ]
    },
    {
     "name": "stdout",
     "output_type": "stream",
     "text": [
      "[2023-03-21 15:32:37] - train 0.032172, valid MSE Loss 0.000952, valid L1 Loss 0.027108\n",
      "[2023-03-21 15:32:37] - Epoch: 22\n",
      "[2023-03-21 15:32:37] - training...\n"
     ]
    },
    {
     "name": "stderr",
     "output_type": "stream",
     "text": [
      "\n",
      "100%|██████████████████████████████████████████| 3/3 [00:00<00:00, 16.11it/s]\n"
     ]
    },
    {
     "name": "stdout",
     "output_type": "stream",
     "text": [
      "[2023-03-21 15:32:37] - evaluating...\n"
     ]
    },
    {
     "name": "stderr",
     "output_type": "stream",
     "text": [
      "Valid: 100%|████████████████████████████████| 17/17 [00:00<00:00, 436.20it/s]"
     ]
    },
    {
     "name": "stdout",
     "output_type": "stream",
     "text": [
      "[2023-03-21 15:32:37] - train 0.029964, valid MSE Loss 0.000751, valid L1 Loss 0.023178\n",
      "[2023-03-21 15:32:37] - Epoch: 23\n",
      "[2023-03-21 15:32:37] - training...\n"
     ]
    },
    {
     "name": "stderr",
     "output_type": "stream",
     "text": [
      "\n",
      "100%|██████████████████████████████████████████| 3/3 [00:00<00:00, 14.28it/s]"
     ]
    },
    {
     "name": "stdout",
     "output_type": "stream",
     "text": [
      "[2023-03-21 15:32:37] - evaluating...\n"
     ]
    },
    {
     "name": "stderr",
     "output_type": "stream",
     "text": [
      "\n",
      "Valid: 100%|████████████████████████████████| 17/17 [00:00<00:00, 418.34it/s]"
     ]
    },
    {
     "name": "stdout",
     "output_type": "stream",
     "text": [
      "[2023-03-21 15:32:37] - train 0.028804, valid MSE Loss 0.000561, valid L1 Loss 0.018663\n",
      "[2023-03-21 15:32:37] - Epoch: 24\n",
      "[2023-03-21 15:32:37] - training...\n"
     ]
    },
    {
     "name": "stderr",
     "output_type": "stream",
     "text": [
      "\n",
      "100%|██████████████████████████████████████████| 3/3 [00:00<00:00, 13.45it/s]"
     ]
    },
    {
     "name": "stdout",
     "output_type": "stream",
     "text": [
      "[2023-03-21 15:32:37] - evaluating...\n"
     ]
    },
    {
     "name": "stderr",
     "output_type": "stream",
     "text": [
      "\n",
      "Valid: 100%|████████████████████████████████| 17/17 [00:00<00:00, 594.26it/s]"
     ]
    },
    {
     "name": "stdout",
     "output_type": "stream",
     "text": [
      "[2023-03-21 15:32:37] - train 0.027429, valid MSE Loss 0.000424, valid L1 Loss 0.015084\n",
      "[2023-03-21 15:32:37] - Epoch: 25\n",
      "[2023-03-21 15:32:37] - training...\n"
     ]
    },
    {
     "name": "stderr",
     "output_type": "stream",
     "text": [
      "\n",
      "100%|██████████████████████████████████████████| 3/3 [00:00<00:00, 15.35it/s]\n"
     ]
    },
    {
     "name": "stdout",
     "output_type": "stream",
     "text": [
      "[2023-03-21 15:32:38] - evaluating...\n"
     ]
    },
    {
     "name": "stderr",
     "output_type": "stream",
     "text": [
      "Valid: 100%|████████████████████████████████| 17/17 [00:00<00:00, 433.83it/s]"
     ]
    },
    {
     "name": "stdout",
     "output_type": "stream",
     "text": [
      "[2023-03-21 15:32:38] - train 0.027542, valid MSE Loss 0.000378, valid L1 Loss 0.013885\n",
      "[2023-03-21 15:32:38] - Epoch: 26\n",
      "[2023-03-21 15:32:38] - training...\n"
     ]
    },
    {
     "name": "stderr",
     "output_type": "stream",
     "text": [
      "\n",
      "100%|██████████████████████████████████████████| 3/3 [00:00<00:00, 15.59it/s]"
     ]
    },
    {
     "name": "stdout",
     "output_type": "stream",
     "text": [
      "[2023-03-21 15:32:38] - evaluating...\n"
     ]
    },
    {
     "name": "stderr",
     "output_type": "stream",
     "text": [
      "\n",
      "Valid: 100%|████████████████████████████████| 17/17 [00:00<00:00, 506.53it/s]"
     ]
    },
    {
     "name": "stdout",
     "output_type": "stream",
     "text": [
      "[2023-03-21 15:32:38] - train 0.026149, valid MSE Loss 0.000397, valid L1 Loss 0.014441\n",
      "[2023-03-21 15:32:38] - Epoch: 27\n",
      "[2023-03-21 15:32:38] - training...\n"
     ]
    },
    {
     "name": "stderr",
     "output_type": "stream",
     "text": [
      "\n",
      "100%|██████████████████████████████████████████| 3/3 [00:00<00:00, 15.80it/s]\n"
     ]
    },
    {
     "name": "stdout",
     "output_type": "stream",
     "text": [
      "[2023-03-21 15:32:38] - evaluating...\n"
     ]
    },
    {
     "name": "stderr",
     "output_type": "stream",
     "text": [
      "Valid: 100%|████████████████████████████████| 17/17 [00:00<00:00, 466.42it/s]"
     ]
    },
    {
     "name": "stdout",
     "output_type": "stream",
     "text": [
      "[2023-03-21 15:32:38] - train 0.023935, valid MSE Loss 0.000521, valid L1 Loss 0.017586\n",
      "[2023-03-21 15:32:38] - Epoch: 28\n",
      "[2023-03-21 15:32:38] - training...\n"
     ]
    },
    {
     "name": "stderr",
     "output_type": "stream",
     "text": [
      "\n",
      "100%|██████████████████████████████████████████| 3/3 [00:00<00:00, 16.47it/s]\n"
     ]
    },
    {
     "name": "stdout",
     "output_type": "stream",
     "text": [
      "[2023-03-21 15:32:38] - evaluating...\n"
     ]
    },
    {
     "name": "stderr",
     "output_type": "stream",
     "text": [
      "Valid: 100%|████████████████████████████████| 17/17 [00:00<00:00, 472.13it/s]"
     ]
    },
    {
     "name": "stdout",
     "output_type": "stream",
     "text": [
      "[2023-03-21 15:32:38] - train 0.023899, valid MSE Loss 0.000719, valid L1 Loss 0.022431\n",
      "[2023-03-21 15:32:38] - Epoch: 29\n",
      "[2023-03-21 15:32:38] - training...\n"
     ]
    },
    {
     "name": "stderr",
     "output_type": "stream",
     "text": [
      "\n",
      "100%|██████████████████████████████████████████| 3/3 [00:00<00:00, 16.15it/s]\n"
     ]
    },
    {
     "name": "stdout",
     "output_type": "stream",
     "text": [
      "[2023-03-21 15:32:39] - evaluating...\n"
     ]
    },
    {
     "name": "stderr",
     "output_type": "stream",
     "text": [
      "Valid: 100%|████████████████████████████████| 17/17 [00:00<00:00, 467.78it/s]"
     ]
    },
    {
     "name": "stdout",
     "output_type": "stream",
     "text": [
      "[2023-03-21 15:32:39] - train 0.019550, valid MSE Loss 0.000997, valid L1 Loss 0.027903\n",
      "[2023-03-21 15:32:39] - Epoch: 30\n",
      "[2023-03-21 15:32:39] - training...\n"
     ]
    },
    {
     "name": "stderr",
     "output_type": "stream",
     "text": [
      "\n",
      "100%|██████████████████████████████████████████| 3/3 [00:00<00:00, 12.32it/s]"
     ]
    },
    {
     "name": "stdout",
     "output_type": "stream",
     "text": [
      "[2023-03-21 15:32:39] - evaluating...\n"
     ]
    },
    {
     "name": "stderr",
     "output_type": "stream",
     "text": [
      "\n",
      "Valid: 100%|████████████████████████████████| 17/17 [00:00<00:00, 587.20it/s]"
     ]
    },
    {
     "name": "stdout",
     "output_type": "stream",
     "text": [
      "[2023-03-21 15:32:39] - train 0.023400, valid MSE Loss 0.001391, valid L1 Loss 0.034123\n",
      "[2023-03-21 15:32:39] - Epoch: 31\n",
      "[2023-03-21 15:32:39] - training...\n"
     ]
    },
    {
     "name": "stderr",
     "output_type": "stream",
     "text": [
      "\n",
      "100%|██████████████████████████████████████████| 3/3 [00:00<00:00, 15.97it/s]\n"
     ]
    },
    {
     "name": "stdout",
     "output_type": "stream",
     "text": [
      "[2023-03-21 15:32:39] - evaluating...\n"
     ]
    },
    {
     "name": "stderr",
     "output_type": "stream",
     "text": [
      "Valid: 100%|████████████████████████████████| 17/17 [00:00<00:00, 578.07it/s]"
     ]
    },
    {
     "name": "stdout",
     "output_type": "stream",
     "text": [
      "[2023-03-21 15:32:39] - train 0.020691, valid MSE Loss 0.001598, valid L1 Loss 0.036946\n",
      "[2023-03-21 15:32:39] - Epoch: 32\n",
      "[2023-03-21 15:32:39] - training...\n"
     ]
    },
    {
     "name": "stderr",
     "output_type": "stream",
     "text": [
      "\n",
      "100%|██████████████████████████████████████████| 3/3 [00:00<00:00, 14.48it/s]"
     ]
    },
    {
     "name": "stdout",
     "output_type": "stream",
     "text": [
      "[2023-03-21 15:32:39] - evaluating...\n"
     ]
    },
    {
     "name": "stderr",
     "output_type": "stream",
     "text": [
      "\n",
      "Valid: 100%|████████████████████████████████| 17/17 [00:00<00:00, 422.83it/s]"
     ]
    },
    {
     "name": "stdout",
     "output_type": "stream",
     "text": [
      "[2023-03-21 15:32:39] - train 0.017535, valid MSE Loss 0.001521, valid L1 Loss 0.035910\n",
      "[2023-03-21 15:32:39] - Epoch: 33\n",
      "[2023-03-21 15:32:39] - training...\n"
     ]
    },
    {
     "name": "stderr",
     "output_type": "stream",
     "text": [
      "\n",
      "100%|██████████████████████████████████████████| 3/3 [00:00<00:00, 16.06it/s]\n"
     ]
    },
    {
     "name": "stdout",
     "output_type": "stream",
     "text": [
      "[2023-03-21 15:32:40] - evaluating...\n"
     ]
    },
    {
     "name": "stderr",
     "output_type": "stream",
     "text": [
      "Valid: 100%|████████████████████████████████| 17/17 [00:00<00:00, 417.57it/s]"
     ]
    },
    {
     "name": "stdout",
     "output_type": "stream",
     "text": [
      "[2023-03-21 15:32:40] - train 0.019839, valid MSE Loss 0.001324, valid L1 Loss 0.032999\n",
      "[2023-03-21 15:32:40] - Epoch: 34\n",
      "[2023-03-21 15:32:40] - training...\n"
     ]
    },
    {
     "name": "stderr",
     "output_type": "stream",
     "text": [
      "\n",
      "100%|██████████████████████████████████████████| 3/3 [00:00<00:00, 14.07it/s]"
     ]
    },
    {
     "name": "stdout",
     "output_type": "stream",
     "text": [
      "[2023-03-21 15:32:40] - evaluating...\n"
     ]
    },
    {
     "name": "stderr",
     "output_type": "stream",
     "text": [
      "\n",
      "Valid: 100%|████████████████████████████████| 17/17 [00:00<00:00, 590.63it/s]"
     ]
    },
    {
     "name": "stdout",
     "output_type": "stream",
     "text": [
      "[2023-03-21 15:32:40] - train 0.019858, valid MSE Loss 0.001017, valid L1 Loss 0.027978\n",
      "[2023-03-21 15:32:40] - Epoch: 35\n",
      "[2023-03-21 15:32:40] - training...\n"
     ]
    },
    {
     "name": "stderr",
     "output_type": "stream",
     "text": [
      "\n",
      "100%|██████████████████████████████████████████| 3/3 [00:00<00:00, 17.58it/s]"
     ]
    },
    {
     "name": "stdout",
     "output_type": "stream",
     "text": [
      "[2023-03-21 15:32:40] - evaluating...\n"
     ]
    },
    {
     "name": "stderr",
     "output_type": "stream",
     "text": [
      "\n",
      "Valid: 100%|████████████████████████████████| 17/17 [00:00<00:00, 541.74it/s]"
     ]
    },
    {
     "name": "stdout",
     "output_type": "stream",
     "text": [
      "[2023-03-21 15:32:40] - train 0.019848, valid MSE Loss 0.000718, valid L1 Loss 0.022184\n",
      "[2023-03-21 15:32:40] - Epoch: 36\n",
      "[2023-03-21 15:32:40] - training...\n"
     ]
    },
    {
     "name": "stderr",
     "output_type": "stream",
     "text": [
      "\n",
      "100%|██████████████████████████████████████████| 3/3 [00:00<00:00, 18.59it/s]"
     ]
    },
    {
     "name": "stdout",
     "output_type": "stream",
     "text": [
      "[2023-03-21 15:32:40] - evaluating...\n"
     ]
    },
    {
     "name": "stderr",
     "output_type": "stream",
     "text": [
      "\n",
      "Valid: 100%|████████████████████████████████| 17/17 [00:00<00:00, 546.27it/s]"
     ]
    },
    {
     "name": "stdout",
     "output_type": "stream",
     "text": [
      "[2023-03-21 15:32:40] - train 0.018236, valid MSE Loss 0.000496, valid L1 Loss 0.016973\n",
      "[2023-03-21 15:32:40] - Epoch: 37\n",
      "[2023-03-21 15:32:40] - training...\n"
     ]
    },
    {
     "name": "stderr",
     "output_type": "stream",
     "text": [
      "\n",
      "100%|██████████████████████████████████████████| 3/3 [00:00<00:00, 18.03it/s]"
     ]
    },
    {
     "name": "stdout",
     "output_type": "stream",
     "text": [
      "[2023-03-21 15:32:41] - evaluating...\n"
     ]
    },
    {
     "name": "stderr",
     "output_type": "stream",
     "text": [
      "\n",
      "Valid: 100%|████████████████████████████████| 17/17 [00:00<00:00, 652.63it/s]"
     ]
    },
    {
     "name": "stdout",
     "output_type": "stream",
     "text": [
      "[2023-03-21 15:32:41] - train 0.019904, valid MSE Loss 0.000278, valid L1 Loss 0.011491\n",
      "[2023-03-21 15:32:41] - Epoch: 38\n",
      "[2023-03-21 15:32:41] - training...\n"
     ]
    },
    {
     "name": "stderr",
     "output_type": "stream",
     "text": [
      "\n",
      "100%|██████████████████████████████████████████| 3/3 [00:00<00:00, 18.13it/s]"
     ]
    },
    {
     "name": "stdout",
     "output_type": "stream",
     "text": [
      "[2023-03-21 15:32:41] - evaluating...\n"
     ]
    },
    {
     "name": "stderr",
     "output_type": "stream",
     "text": [
      "\n",
      "Valid: 100%|████████████████████████████████| 17/17 [00:00<00:00, 563.23it/s]"
     ]
    },
    {
     "name": "stdout",
     "output_type": "stream",
     "text": [
      "[2023-03-21 15:32:41] - train 0.018555, valid MSE Loss 0.000224, valid L1 Loss 0.010248\n",
      "[2023-03-21 15:32:41] - Epoch: 39\n",
      "[2023-03-21 15:32:41] - training...\n"
     ]
    },
    {
     "name": "stderr",
     "output_type": "stream",
     "text": [
      "\n",
      "100%|██████████████████████████████████████████| 3/3 [00:00<00:00, 18.25it/s]"
     ]
    },
    {
     "name": "stdout",
     "output_type": "stream",
     "text": [
      "[2023-03-21 15:32:41] - evaluating...\n"
     ]
    },
    {
     "name": "stderr",
     "output_type": "stream",
     "text": [
      "\n",
      "Valid: 100%|████████████████████████████████| 17/17 [00:00<00:00, 574.87it/s]"
     ]
    },
    {
     "name": "stdout",
     "output_type": "stream",
     "text": [
      "[2023-03-21 15:32:41] - train 0.018185, valid MSE Loss 0.000191, valid L1 Loss 0.009660\n",
      "[2023-03-21 15:32:41] - Epoch: 40\n",
      "[2023-03-21 15:32:41] - training...\n"
     ]
    },
    {
     "name": "stderr",
     "output_type": "stream",
     "text": [
      "\n",
      "100%|██████████████████████████████████████████| 3/3 [00:00<00:00, 19.23it/s]"
     ]
    },
    {
     "name": "stdout",
     "output_type": "stream",
     "text": [
      "[2023-03-21 15:32:41] - evaluating...\n"
     ]
    },
    {
     "name": "stderr",
     "output_type": "stream",
     "text": [
      "\n",
      "Valid: 100%|████████████████████████████████| 17/17 [00:00<00:00, 586.90it/s]"
     ]
    },
    {
     "name": "stdout",
     "output_type": "stream",
     "text": [
      "[2023-03-21 15:32:41] - train 0.018829, valid MSE Loss 0.000179, valid L1 Loss 0.009914\n",
      "[2023-03-21 15:32:41] - Epoch: 41\n",
      "[2023-03-21 15:32:41] - training...\n"
     ]
    },
    {
     "name": "stderr",
     "output_type": "stream",
     "text": [
      "\n",
      "100%|██████████████████████████████████████████| 3/3 [00:00<00:00, 17.17it/s]"
     ]
    },
    {
     "name": "stdout",
     "output_type": "stream",
     "text": [
      "[2023-03-21 15:32:41] - evaluating...\n"
     ]
    },
    {
     "name": "stderr",
     "output_type": "stream",
     "text": [
      "\n",
      "Valid: 100%|████████████████████████████████| 17/17 [00:00<00:00, 569.03it/s]"
     ]
    },
    {
     "name": "stdout",
     "output_type": "stream",
     "text": [
      "[2023-03-21 15:32:41] - train 0.017099, valid MSE Loss 0.000771, valid L1 Loss 0.025827\n",
      "[2023-03-21 15:32:41] - Epoch: 42\n",
      "[2023-03-21 15:32:41] - training...\n"
     ]
    },
    {
     "name": "stderr",
     "output_type": "stream",
     "text": [
      "\n",
      "100%|██████████████████████████████████████████| 3/3 [00:00<00:00, 18.84it/s]\n"
     ]
    },
    {
     "name": "stdout",
     "output_type": "stream",
     "text": [
      "[2023-03-21 15:32:42] - evaluating...\n"
     ]
    },
    {
     "name": "stderr",
     "output_type": "stream",
     "text": [
      "Valid: 100%|████████████████████████████████| 17/17 [00:00<00:00, 634.75it/s]"
     ]
    },
    {
     "name": "stdout",
     "output_type": "stream",
     "text": [
      "[2023-03-21 15:32:42] - train 0.017137, valid MSE Loss 0.002213, valid L1 Loss 0.045728\n",
      "[2023-03-21 15:32:42] - Epoch: 43\n"
     ]
    },
    {
     "name": "stderr",
     "output_type": "stream",
     "text": [
      "\n"
     ]
    },
    {
     "name": "stdout",
     "output_type": "stream",
     "text": [
      "[2023-03-21 15:32:42] - training...\n"
     ]
    },
    {
     "name": "stderr",
     "output_type": "stream",
     "text": [
      "100%|██████████████████████████████████████████| 3/3 [00:00<00:00, 17.77it/s]"
     ]
    },
    {
     "name": "stdout",
     "output_type": "stream",
     "text": [
      "[2023-03-21 15:32:42] - evaluating...\n"
     ]
    },
    {
     "name": "stderr",
     "output_type": "stream",
     "text": [
      "\n",
      "Valid: 100%|████████████████████████████████| 17/17 [00:00<00:00, 599.71it/s]"
     ]
    },
    {
     "name": "stdout",
     "output_type": "stream",
     "text": [
      "[2023-03-21 15:32:42] - train 0.018001, valid MSE Loss 0.003903, valid L1 Loss 0.061398\n",
      "[2023-03-21 15:32:42] - Epoch: 44\n",
      "[2023-03-21 15:32:42] - training...\n"
     ]
    },
    {
     "name": "stderr",
     "output_type": "stream",
     "text": [
      "\n",
      "100%|██████████████████████████████████████████| 3/3 [00:00<00:00, 17.45it/s]"
     ]
    },
    {
     "name": "stdout",
     "output_type": "stream",
     "text": [
      "[2023-03-21 15:32:42] - evaluating...\n"
     ]
    },
    {
     "name": "stderr",
     "output_type": "stream",
     "text": [
      "\n",
      "Valid: 100%|████████████████████████████████| 17/17 [00:00<00:00, 602.28it/s]"
     ]
    },
    {
     "name": "stdout",
     "output_type": "stream",
     "text": [
      "[2023-03-21 15:32:42] - train 0.017767, valid MSE Loss 0.004161, valid L1 Loss 0.063439\n",
      "[2023-03-21 15:32:42] - Epoch: 45\n",
      "[2023-03-21 15:32:42] - training...\n"
     ]
    },
    {
     "name": "stderr",
     "output_type": "stream",
     "text": [
      "\n",
      "100%|██████████████████████████████████████████| 3/3 [00:00<00:00, 18.28it/s]"
     ]
    },
    {
     "name": "stdout",
     "output_type": "stream",
     "text": [
      "[2023-03-21 15:32:42] - evaluating...\n"
     ]
    },
    {
     "name": "stderr",
     "output_type": "stream",
     "text": [
      "\n",
      "Valid: 100%|████████████████████████████████| 17/17 [00:00<00:00, 716.08it/s]"
     ]
    },
    {
     "name": "stdout",
     "output_type": "stream",
     "text": [
      "[2023-03-21 15:32:42] - train 0.017042, valid MSE Loss 0.004533, valid L1 Loss 0.066249\n",
      "[2023-03-21 15:32:42] - Epoch: 46\n",
      "[2023-03-21 15:32:42] - training...\n"
     ]
    },
    {
     "name": "stderr",
     "output_type": "stream",
     "text": [
      "\n",
      "100%|██████████████████████████████████████████| 3/3 [00:00<00:00, 18.97it/s]\n"
     ]
    },
    {
     "name": "stdout",
     "output_type": "stream",
     "text": [
      "[2023-03-21 15:32:42] - evaluating...\n"
     ]
    },
    {
     "name": "stderr",
     "output_type": "stream",
     "text": [
      "Valid: 100%|████████████████████████████████| 17/17 [00:00<00:00, 600.13it/s]"
     ]
    },
    {
     "name": "stdout",
     "output_type": "stream",
     "text": [
      "[2023-03-21 15:32:43] - train 0.016112, valid MSE Loss 0.007050, valid L1 Loss 0.082968\n",
      "[2023-03-21 15:32:43] - Epoch: 47\n",
      "[2023-03-21 15:32:43] - training...\n"
     ]
    },
    {
     "name": "stderr",
     "output_type": "stream",
     "text": [
      "\n",
      "100%|██████████████████████████████████████████| 3/3 [00:00<00:00, 18.65it/s]\n"
     ]
    },
    {
     "name": "stdout",
     "output_type": "stream",
     "text": [
      "[2023-03-21 15:32:43] - evaluating...\n"
     ]
    },
    {
     "name": "stderr",
     "output_type": "stream",
     "text": [
      "Valid: 100%|████████████████████████████████| 17/17 [00:00<00:00, 598.43it/s]"
     ]
    },
    {
     "name": "stdout",
     "output_type": "stream",
     "text": [
      "[2023-03-21 15:32:43] - train 0.015620, valid MSE Loss 0.011577, valid L1 Loss 0.106850\n",
      "[2023-03-21 15:32:43] - Epoch: 48\n",
      "[2023-03-21 15:32:43] - training...\n"
     ]
    },
    {
     "name": "stderr",
     "output_type": "stream",
     "text": [
      "\n",
      "100%|██████████████████████████████████████████| 3/3 [00:00<00:00, 18.74it/s]\n"
     ]
    },
    {
     "name": "stdout",
     "output_type": "stream",
     "text": [
      "[2023-03-21 15:32:43] - evaluating...\n"
     ]
    },
    {
     "name": "stderr",
     "output_type": "stream",
     "text": [
      "Valid: 100%|████████████████████████████████| 17/17 [00:00<00:00, 612.35it/s]"
     ]
    },
    {
     "name": "stdout",
     "output_type": "stream",
     "text": [
      "[2023-03-21 15:32:43] - train 0.016591, valid MSE Loss 0.016051, valid L1 Loss 0.126164\n"
     ]
    },
    {
     "name": "stderr",
     "output_type": "stream",
     "text": [
      "\n"
     ]
    },
    {
     "name": "stdout",
     "output_type": "stream",
     "text": [
      "[2023-03-21 15:32:43] - Epoch: 49\n",
      "[2023-03-21 15:32:43] - training...\n"
     ]
    },
    {
     "name": "stderr",
     "output_type": "stream",
     "text": [
      "100%|██████████████████████████████████████████| 3/3 [00:00<00:00, 17.72it/s]"
     ]
    },
    {
     "name": "stdout",
     "output_type": "stream",
     "text": [
      "[2023-03-21 15:32:43] - evaluating...\n"
     ]
    },
    {
     "name": "stderr",
     "output_type": "stream",
     "text": [
      "\n",
      "Valid: 100%|████████████████████████████████| 17/17 [00:00<00:00, 545.76it/s]"
     ]
    },
    {
     "name": "stdout",
     "output_type": "stream",
     "text": [
      "[2023-03-21 15:32:43] - train 0.014546, valid MSE Loss 0.022745, valid L1 Loss 0.150414\n",
      "[2023-03-21 15:32:43] - Epoch: 50\n",
      "[2023-03-21 15:32:43] - training...\n"
     ]
    },
    {
     "name": "stderr",
     "output_type": "stream",
     "text": [
      "\n",
      "100%|██████████████████████████████████████████| 3/3 [00:00<00:00, 18.42it/s]"
     ]
    },
    {
     "name": "stdout",
     "output_type": "stream",
     "text": [
      "[2023-03-21 15:32:43] - evaluating...\n"
     ]
    },
    {
     "name": "stderr",
     "output_type": "stream",
     "text": [
      "\n",
      "Valid: 100%|████████████████████████████████| 17/17 [00:00<00:00, 559.96it/s]"
     ]
    },
    {
     "name": "stdout",
     "output_type": "stream",
     "text": [
      "[2023-03-21 15:32:43] - train 0.016228, valid MSE Loss 0.025903, valid L1 Loss 0.160620\n",
      "[2023-03-21 15:32:43] - Epoch: 51\n",
      "[2023-03-21 15:32:43] - training...\n"
     ]
    },
    {
     "name": "stderr",
     "output_type": "stream",
     "text": [
      "\n",
      "100%|██████████████████████████████████████████| 3/3 [00:00<00:00, 16.12it/s]"
     ]
    },
    {
     "name": "stdout",
     "output_type": "stream",
     "text": [
      "[2023-03-21 15:32:44] - evaluating...\n"
     ]
    },
    {
     "name": "stderr",
     "output_type": "stream",
     "text": [
      "\n",
      "Valid: 100%|████████████████████████████████| 17/17 [00:00<00:00, 595.34it/s]"
     ]
    },
    {
     "name": "stdout",
     "output_type": "stream",
     "text": [
      "[2023-03-21 15:32:44] - train 0.015878, valid MSE Loss 0.017974, valid L1 Loss 0.133672\n",
      "[2023-03-21 15:32:44] - Epoch: 52\n",
      "[2023-03-21 15:32:44] - training...\n"
     ]
    },
    {
     "name": "stderr",
     "output_type": "stream",
     "text": [
      "\n",
      "100%|██████████████████████████████████████████| 3/3 [00:00<00:00, 18.41it/s]"
     ]
    },
    {
     "name": "stdout",
     "output_type": "stream",
     "text": [
      "[2023-03-21 15:32:44] - evaluating...\n"
     ]
    },
    {
     "name": "stderr",
     "output_type": "stream",
     "text": [
      "\n",
      "Valid: 100%|████████████████████████████████| 17/17 [00:00<00:00, 524.07it/s]"
     ]
    },
    {
     "name": "stdout",
     "output_type": "stream",
     "text": [
      "[2023-03-21 15:32:44] - train 0.017511, valid MSE Loss 0.010493, valid L1 Loss 0.101851\n",
      "[2023-03-21 15:32:44] - Epoch: 53\n",
      "[2023-03-21 15:32:44] - training...\n"
     ]
    },
    {
     "name": "stderr",
     "output_type": "stream",
     "text": [
      "\n",
      "100%|██████████████████████████████████████████| 3/3 [00:00<00:00, 17.02it/s]"
     ]
    },
    {
     "name": "stdout",
     "output_type": "stream",
     "text": [
      "[2023-03-21 15:32:44] - evaluating...\n"
     ]
    },
    {
     "name": "stderr",
     "output_type": "stream",
     "text": [
      "\n",
      "Valid: 100%|████████████████████████████████| 17/17 [00:00<00:00, 557.21it/s]"
     ]
    },
    {
     "name": "stdout",
     "output_type": "stream",
     "text": [
      "[2023-03-21 15:32:44] - train 0.016135, valid MSE Loss 0.009333, valid L1 Loss 0.095936\n",
      "[2023-03-21 15:32:44] - Epoch: 54\n",
      "[2023-03-21 15:32:44] - training...\n"
     ]
    },
    {
     "name": "stderr",
     "output_type": "stream",
     "text": [
      "\n",
      "100%|██████████████████████████████████████████| 3/3 [00:00<00:00, 18.62it/s]"
     ]
    },
    {
     "name": "stdout",
     "output_type": "stream",
     "text": [
      "[2023-03-21 15:32:44] - evaluating...\n"
     ]
    },
    {
     "name": "stderr",
     "output_type": "stream",
     "text": [
      "\n",
      "Valid: 100%|████████████████████████████████| 17/17 [00:00<00:00, 623.33it/s]\n"
     ]
    },
    {
     "name": "stdout",
     "output_type": "stream",
     "text": [
      "[2023-03-21 15:32:44] - train 0.015091, valid MSE Loss 0.014043, valid L1 Loss 0.118086\n",
      "[2023-03-21 15:32:44] - Epoch: 55\n",
      "[2023-03-21 15:32:44] - training...\n"
     ]
    },
    {
     "name": "stderr",
     "output_type": "stream",
     "text": [
      "100%|██████████████████████████████████████████| 3/3 [00:00<00:00, 18.13it/s]"
     ]
    },
    {
     "name": "stdout",
     "output_type": "stream",
     "text": [
      "[2023-03-21 15:32:44] - evaluating...\n"
     ]
    },
    {
     "name": "stderr",
     "output_type": "stream",
     "text": [
      "\n",
      "Valid: 100%|████████████████████████████████| 17/17 [00:00<00:00, 625.91it/s]"
     ]
    },
    {
     "name": "stdout",
     "output_type": "stream",
     "text": [
      "[2023-03-21 15:32:44] - train 0.016019, valid MSE Loss 0.022709, valid L1 Loss 0.150420\n",
      "[2023-03-21 15:32:44] - Epoch: 56\n",
      "[2023-03-21 15:32:44] - training...\n"
     ]
    },
    {
     "name": "stderr",
     "output_type": "stream",
     "text": [
      "\n",
      "100%|██████████████████████████████████████████| 3/3 [00:00<00:00, 17.61it/s]"
     ]
    },
    {
     "name": "stdout",
     "output_type": "stream",
     "text": [
      "[2023-03-21 15:32:45] - evaluating...\n"
     ]
    },
    {
     "name": "stderr",
     "output_type": "stream",
     "text": [
      "\n",
      "Valid: 100%|████████████████████████████████| 17/17 [00:00<00:00, 621.18it/s]"
     ]
    },
    {
     "name": "stdout",
     "output_type": "stream",
     "text": [
      "[2023-03-21 15:32:45] - train 0.015059, valid MSE Loss 0.025522, valid L1 Loss 0.159465\n",
      "[2023-03-21 15:32:45] - Epoch: 57\n",
      "[2023-03-21 15:32:45] - training...\n"
     ]
    },
    {
     "name": "stderr",
     "output_type": "stream",
     "text": [
      "\n",
      "100%|██████████████████████████████████████████| 3/3 [00:00<00:00, 18.46it/s]\n"
     ]
    },
    {
     "name": "stdout",
     "output_type": "stream",
     "text": [
      "[2023-03-21 15:32:45] - evaluating...\n"
     ]
    },
    {
     "name": "stderr",
     "output_type": "stream",
     "text": [
      "Valid: 100%|████████████████████████████████| 17/17 [00:00<00:00, 621.86it/s]"
     ]
    },
    {
     "name": "stdout",
     "output_type": "stream",
     "text": [
      "[2023-03-21 15:32:45] - train 0.015729, valid MSE Loss 0.035070, valid L1 Loss 0.187013\n",
      "[2023-03-21 15:32:45] - Epoch: 58\n",
      "[2023-03-21 15:32:45] - training...\n"
     ]
    },
    {
     "name": "stderr",
     "output_type": "stream",
     "text": [
      "\n",
      "100%|██████████████████████████████████████████| 3/3 [00:00<00:00, 18.10it/s]"
     ]
    },
    {
     "name": "stdout",
     "output_type": "stream",
     "text": [
      "[2023-03-21 15:32:45] - evaluating...\n"
     ]
    },
    {
     "name": "stderr",
     "output_type": "stream",
     "text": [
      "\n",
      "Valid: 100%|████████████████████████████████| 17/17 [00:00<00:00, 584.97it/s]"
     ]
    },
    {
     "name": "stdout",
     "output_type": "stream",
     "text": [
      "[2023-03-21 15:32:45] - train 0.014095, valid MSE Loss 0.042685, valid L1 Loss 0.206345\n",
      "[2023-03-21 15:32:45] - Epoch: 59\n",
      "[2023-03-21 15:32:45] - training...\n"
     ]
    },
    {
     "name": "stderr",
     "output_type": "stream",
     "text": [
      "\n",
      "100%|██████████████████████████████████████████| 3/3 [00:00<00:00, 18.07it/s]"
     ]
    },
    {
     "name": "stdout",
     "output_type": "stream",
     "text": [
      "[2023-03-21 15:32:45] - evaluating...\n"
     ]
    },
    {
     "name": "stderr",
     "output_type": "stream",
     "text": [
      "\n",
      "Valid: 100%|████████████████████████████████| 17/17 [00:00<00:00, 610.33it/s]"
     ]
    },
    {
     "name": "stdout",
     "output_type": "stream",
     "text": [
      "[2023-03-21 15:32:45] - train 0.015818, valid MSE Loss 0.036994, valid L1 Loss 0.192064\n",
      "[2023-03-21 15:32:45] - Epoch: 60\n",
      "[2023-03-21 15:32:45] - training...\n"
     ]
    },
    {
     "name": "stderr",
     "output_type": "stream",
     "text": [
      "\n",
      "100%|██████████████████████████████████████████| 3/3 [00:00<00:00, 18.16it/s]"
     ]
    },
    {
     "name": "stdout",
     "output_type": "stream",
     "text": [
      "[2023-03-21 15:32:45] - evaluating...\n"
     ]
    },
    {
     "name": "stderr",
     "output_type": "stream",
     "text": [
      "\n",
      "Valid: 100%|████████████████████████████████| 17/17 [00:00<00:00, 674.29it/s]"
     ]
    },
    {
     "name": "stdout",
     "output_type": "stream",
     "text": [
      "[2023-03-21 15:32:46] - train 0.016538, valid MSE Loss 0.022031, valid L1 Loss 0.148012\n",
      "[2023-03-21 15:32:46] - Epoch: 61\n",
      "[2023-03-21 15:32:46] - training...\n"
     ]
    },
    {
     "name": "stderr",
     "output_type": "stream",
     "text": [
      "\n",
      "100%|██████████████████████████████████████████| 3/3 [00:00<00:00, 19.68it/s]\n"
     ]
    },
    {
     "name": "stdout",
     "output_type": "stream",
     "text": [
      "[2023-03-21 15:32:46] - evaluating...\n"
     ]
    },
    {
     "name": "stderr",
     "output_type": "stream",
     "text": [
      "Valid: 100%|████████████████████████████████| 17/17 [00:00<00:00, 615.90it/s]"
     ]
    },
    {
     "name": "stdout",
     "output_type": "stream",
     "text": [
      "[2023-03-21 15:32:46] - train 0.014873, valid MSE Loss 0.017803, valid L1 Loss 0.132993\n",
      "[2023-03-21 15:32:46] - Epoch: 62\n"
     ]
    },
    {
     "name": "stderr",
     "output_type": "stream",
     "text": [
      "\n"
     ]
    },
    {
     "name": "stdout",
     "output_type": "stream",
     "text": [
      "[2023-03-21 15:32:46] - training...\n"
     ]
    },
    {
     "name": "stderr",
     "output_type": "stream",
     "text": [
      "100%|██████████████████████████████████████████| 3/3 [00:00<00:00, 18.82it/s]\n"
     ]
    },
    {
     "name": "stdout",
     "output_type": "stream",
     "text": [
      "[2023-03-21 15:32:46] - evaluating...\n"
     ]
    },
    {
     "name": "stderr",
     "output_type": "stream",
     "text": [
      "Valid: 100%|████████████████████████████████| 17/17 [00:00<00:00, 617.13it/s]"
     ]
    },
    {
     "name": "stdout",
     "output_type": "stream",
     "text": [
      "[2023-03-21 15:32:46] - train 0.015028, valid MSE Loss 0.014836, valid L1 Loss 0.121310\n",
      "[2023-03-21 15:32:46] - Epoch: 63\n"
     ]
    },
    {
     "name": "stderr",
     "output_type": "stream",
     "text": [
      "\n"
     ]
    },
    {
     "name": "stdout",
     "output_type": "stream",
     "text": [
      "[2023-03-21 15:32:46] - training...\n"
     ]
    },
    {
     "name": "stderr",
     "output_type": "stream",
     "text": [
      "100%|██████████████████████████████████████████| 3/3 [00:00<00:00, 18.18it/s]"
     ]
    },
    {
     "name": "stdout",
     "output_type": "stream",
     "text": [
      "[2023-03-21 15:32:46] - evaluating...\n"
     ]
    },
    {
     "name": "stderr",
     "output_type": "stream",
     "text": [
      "\n",
      "Valid: 100%|████████████████████████████████| 17/17 [00:00<00:00, 618.99it/s]"
     ]
    },
    {
     "name": "stdout",
     "output_type": "stream",
     "text": [
      "[2023-03-21 15:32:46] - train 0.014766, valid MSE Loss 0.011546, valid L1 Loss 0.106694\n",
      "[2023-03-21 15:32:46] - Epoch: 64\n",
      "[2023-03-21 15:32:46] - training...\n"
     ]
    },
    {
     "name": "stderr",
     "output_type": "stream",
     "text": [
      "\n",
      "100%|██████████████████████████████████████████| 3/3 [00:00<00:00, 19.14it/s]"
     ]
    },
    {
     "name": "stdout",
     "output_type": "stream",
     "text": [
      "[2023-03-21 15:32:46] - evaluating...\n"
     ]
    },
    {
     "name": "stderr",
     "output_type": "stream",
     "text": [
      "\n",
      "Valid: 100%|████████████████████████████████| 17/17 [00:00<00:00, 615.56it/s]"
     ]
    },
    {
     "name": "stdout",
     "output_type": "stream",
     "text": [
      "[2023-03-21 15:32:46] - train 0.015399, valid MSE Loss 0.010551, valid L1 Loss 0.101869\n",
      "[2023-03-21 15:32:46] - Epoch: 65\n",
      "[2023-03-21 15:32:46] - training...\n"
     ]
    },
    {
     "name": "stderr",
     "output_type": "stream",
     "text": [
      "\n",
      "100%|██████████████████████████████████████████| 3/3 [00:00<00:00, 19.04it/s]"
     ]
    },
    {
     "name": "stdout",
     "output_type": "stream",
     "text": [
      "[2023-03-21 15:32:47] - evaluating...\n"
     ]
    },
    {
     "name": "stderr",
     "output_type": "stream",
     "text": [
      "\n",
      "Valid: 100%|████████████████████████████████| 17/17 [00:00<00:00, 640.25it/s]"
     ]
    },
    {
     "name": "stdout",
     "output_type": "stream",
     "text": [
      "[2023-03-21 15:32:47] - train 0.014531, valid MSE Loss 0.011690, valid L1 Loss 0.107360\n",
      "[2023-03-21 15:32:47] - Epoch: 66\n",
      "[2023-03-21 15:32:47] - training...\n"
     ]
    },
    {
     "name": "stderr",
     "output_type": "stream",
     "text": [
      "\n",
      "100%|██████████████████████████████████████████| 3/3 [00:00<00:00, 18.46it/s]\n"
     ]
    },
    {
     "name": "stdout",
     "output_type": "stream",
     "text": [
      "[2023-03-21 15:32:47] - evaluating...\n"
     ]
    },
    {
     "name": "stderr",
     "output_type": "stream",
     "text": [
      "Valid: 100%|████████████████████████████████| 17/17 [00:00<00:00, 629.08it/s]"
     ]
    },
    {
     "name": "stdout",
     "output_type": "stream",
     "text": [
      "[2023-03-21 15:32:47] - train 0.014521, valid MSE Loss 0.012384, valid L1 Loss 0.110594\n",
      "[2023-03-21 15:32:47] - Epoch: 67\n",
      "[2023-03-21 15:32:47] - training...\n"
     ]
    },
    {
     "name": "stderr",
     "output_type": "stream",
     "text": [
      "\n",
      "100%|██████████████████████████████████████████| 3/3 [00:00<00:00, 18.10it/s]"
     ]
    },
    {
     "name": "stdout",
     "output_type": "stream",
     "text": [
      "[2023-03-21 15:32:47] - evaluating...\n"
     ]
    },
    {
     "name": "stderr",
     "output_type": "stream",
     "text": [
      "\n",
      "Valid: 100%|████████████████████████████████| 17/17 [00:00<00:00, 607.50it/s]"
     ]
    },
    {
     "name": "stdout",
     "output_type": "stream",
     "text": [
      "[2023-03-21 15:32:47] - train 0.016053, valid MSE Loss 0.013981, valid L1 Loss 0.117650\n",
      "[2023-03-21 15:32:47] - Epoch: 68\n",
      "[2023-03-21 15:32:47] - training...\n"
     ]
    },
    {
     "name": "stderr",
     "output_type": "stream",
     "text": [
      "\n",
      "100%|██████████████████████████████████████████| 3/3 [00:00<00:00, 16.82it/s]"
     ]
    },
    {
     "name": "stdout",
     "output_type": "stream",
     "text": [
      "[2023-03-21 15:32:47] - evaluating...\n"
     ]
    },
    {
     "name": "stderr",
     "output_type": "stream",
     "text": [
      "\n",
      "Valid: 100%|████████████████████████████████| 17/17 [00:00<00:00, 586.29it/s]"
     ]
    },
    {
     "name": "stdout",
     "output_type": "stream",
     "text": [
      "[2023-03-21 15:32:47] - train 0.015729, valid MSE Loss 0.013366, valid L1 Loss 0.115030\n",
      "[2023-03-21 15:32:47] - Epoch: 69\n",
      "[2023-03-21 15:32:47] - training...\n"
     ]
    },
    {
     "name": "stderr",
     "output_type": "stream",
     "text": [
      "\n",
      "100%|██████████████████████████████████████████| 3/3 [00:00<00:00, 18.48it/s]"
     ]
    },
    {
     "name": "stdout",
     "output_type": "stream",
     "text": [
      "[2023-03-21 15:32:47] - evaluating...\n"
     ]
    },
    {
     "name": "stderr",
     "output_type": "stream",
     "text": [
      "\n",
      "Valid: 100%|████████████████████████████████| 17/17 [00:00<00:00, 618.32it/s]"
     ]
    },
    {
     "name": "stdout",
     "output_type": "stream",
     "text": [
      "[2023-03-21 15:32:47] - train 0.015524, valid MSE Loss 0.010683, valid L1 Loss 0.102676\n",
      "[2023-03-21 15:32:47] - Epoch: 70\n",
      "[2023-03-21 15:32:47] - training...\n"
     ]
    },
    {
     "name": "stderr",
     "output_type": "stream",
     "text": [
      "\n",
      "100%|██████████████████████████████████████████| 3/3 [00:00<00:00, 18.80it/s]"
     ]
    },
    {
     "name": "stdout",
     "output_type": "stream",
     "text": [
      "[2023-03-21 15:32:48] - evaluating...\n"
     ]
    },
    {
     "name": "stderr",
     "output_type": "stream",
     "text": [
      "\n",
      "Valid: 100%|████████████████████████████████| 17/17 [00:00<00:00, 654.42it/s]"
     ]
    },
    {
     "name": "stdout",
     "output_type": "stream",
     "text": [
      "[2023-03-21 15:32:48] - train 0.013460, valid MSE Loss 0.007823, valid L1 Loss 0.087634\n",
      "[2023-03-21 15:32:48] - Epoch: 71\n",
      "[2023-03-21 15:32:48] - training...\n"
     ]
    },
    {
     "name": "stderr",
     "output_type": "stream",
     "text": [
      "\n",
      "100%|██████████████████████████████████████████| 3/3 [00:00<00:00, 17.93it/s]"
     ]
    },
    {
     "name": "stdout",
     "output_type": "stream",
     "text": [
      "[2023-03-21 15:32:48] - evaluating...\n"
     ]
    },
    {
     "name": "stderr",
     "output_type": "stream",
     "text": [
      "\n",
      "Valid: 100%|████████████████████████████████| 17/17 [00:00<00:00, 717.08it/s]"
     ]
    },
    {
     "name": "stdout",
     "output_type": "stream",
     "text": [
      "[2023-03-21 15:32:48] - train 0.015014, valid MSE Loss 0.006818, valid L1 Loss 0.081797\n",
      "[2023-03-21 15:32:48] - Epoch: 72\n",
      "[2023-03-21 15:32:48] - training...\n"
     ]
    },
    {
     "name": "stderr",
     "output_type": "stream",
     "text": [
      "\n",
      "100%|██████████████████████████████████████████| 3/3 [00:00<00:00, 18.33it/s]\n"
     ]
    },
    {
     "name": "stdout",
     "output_type": "stream",
     "text": [
      "[2023-03-21 15:32:48] - evaluating...\n"
     ]
    },
    {
     "name": "stderr",
     "output_type": "stream",
     "text": [
      "Valid: 100%|████████████████████████████████| 17/17 [00:00<00:00, 575.43it/s]"
     ]
    },
    {
     "name": "stdout",
     "output_type": "stream",
     "text": [
      "[2023-03-21 15:32:48] - train 0.012768, valid MSE Loss 0.009430, valid L1 Loss 0.096461\n",
      "[2023-03-21 15:32:48] - Epoch: 73\n",
      "[2023-03-21 15:32:48] - training...\n"
     ]
    },
    {
     "name": "stderr",
     "output_type": "stream",
     "text": [
      "\n",
      "100%|██████████████████████████████████████████| 3/3 [00:00<00:00, 17.99it/s]"
     ]
    },
    {
     "name": "stdout",
     "output_type": "stream",
     "text": [
      "[2023-03-21 15:32:48] - evaluating...\n"
     ]
    },
    {
     "name": "stderr",
     "output_type": "stream",
     "text": [
      "\n",
      "Valid: 100%|████████████████████████████████| 17/17 [00:00<00:00, 584.20it/s]"
     ]
    },
    {
     "name": "stdout",
     "output_type": "stream",
     "text": [
      "[2023-03-21 15:32:48] - train 0.014253, valid MSE Loss 0.011155, valid L1 Loss 0.104992\n",
      "[2023-03-21 15:32:48] - Epoch: 74\n",
      "[2023-03-21 15:32:48] - training...\n"
     ]
    },
    {
     "name": "stderr",
     "output_type": "stream",
     "text": [
      "\n",
      "100%|██████████████████████████████████████████| 3/3 [00:00<00:00, 18.45it/s]"
     ]
    },
    {
     "name": "stdout",
     "output_type": "stream",
     "text": [
      "[2023-03-21 15:32:48] - evaluating...\n"
     ]
    },
    {
     "name": "stderr",
     "output_type": "stream",
     "text": [
      "\n",
      "Valid: 100%|████████████████████████████████| 17/17 [00:00<00:00, 601.57it/s]"
     ]
    },
    {
     "name": "stdout",
     "output_type": "stream",
     "text": [
      "[2023-03-21 15:32:48] - train 0.015147, valid MSE Loss 0.016260, valid L1 Loss 0.127013\n",
      "[2023-03-21 15:32:48] - Epoch: 75\n",
      "[2023-03-21 15:32:48] - training...\n"
     ]
    },
    {
     "name": "stderr",
     "output_type": "stream",
     "text": [
      "\n",
      "100%|██████████████████████████████████████████| 3/3 [00:00<00:00, 18.50it/s]"
     ]
    },
    {
     "name": "stdout",
     "output_type": "stream",
     "text": [
      "[2023-03-21 15:32:49] - evaluating...\n"
     ]
    },
    {
     "name": "stderr",
     "output_type": "stream",
     "text": [
      "\n",
      "Valid: 100%|████████████████████████████████| 17/17 [00:00<00:00, 622.79it/s]"
     ]
    },
    {
     "name": "stdout",
     "output_type": "stream",
     "text": [
      "[2023-03-21 15:32:49] - train 0.016406, valid MSE Loss 0.024514, valid L1 Loss 0.156186\n",
      "[2023-03-21 15:32:49] - Epoch: 76\n",
      "[2023-03-21 15:32:49] - training...\n"
     ]
    },
    {
     "name": "stderr",
     "output_type": "stream",
     "text": [
      "\n",
      "100%|██████████████████████████████████████████| 3/3 [00:00<00:00, 15.95it/s]\n"
     ]
    },
    {
     "name": "stdout",
     "output_type": "stream",
     "text": [
      "[2023-03-21 15:32:49] - evaluating...\n"
     ]
    },
    {
     "name": "stderr",
     "output_type": "stream",
     "text": [
      "Valid: 100%|████████████████████████████████| 17/17 [00:00<00:00, 539.11it/s]"
     ]
    },
    {
     "name": "stdout",
     "output_type": "stream",
     "text": [
      "[2023-03-21 15:32:49] - train 0.015454, valid MSE Loss 0.025388, valid L1 Loss 0.158944\n",
      "[2023-03-21 15:32:49] - Epoch: 77\n",
      "[2023-03-21 15:32:49] - training...\n"
     ]
    },
    {
     "name": "stderr",
     "output_type": "stream",
     "text": [
      "\n",
      "100%|██████████████████████████████████████████| 3/3 [00:00<00:00, 17.16it/s]"
     ]
    },
    {
     "name": "stdout",
     "output_type": "stream",
     "text": [
      "[2023-03-21 15:32:49] - evaluating...\n"
     ]
    },
    {
     "name": "stderr",
     "output_type": "stream",
     "text": [
      "\n",
      "Valid: 100%|████████████████████████████████| 17/17 [00:00<00:00, 618.54it/s]"
     ]
    },
    {
     "name": "stdout",
     "output_type": "stream",
     "text": [
      "[2023-03-21 15:32:49] - train 0.013208, valid MSE Loss 0.039293, valid L1 Loss 0.197897\n",
      "[2023-03-21 15:32:49] - Epoch: 78\n",
      "[2023-03-21 15:32:49] - training...\n"
     ]
    },
    {
     "name": "stderr",
     "output_type": "stream",
     "text": [
      "\n",
      "100%|██████████████████████████████████████████| 3/3 [00:00<00:00, 15.97it/s]\n"
     ]
    },
    {
     "name": "stdout",
     "output_type": "stream",
     "text": [
      "[2023-03-21 15:32:49] - evaluating...\n"
     ]
    },
    {
     "name": "stderr",
     "output_type": "stream",
     "text": [
      "Valid: 100%|████████████████████████████████| 17/17 [00:00<00:00, 624.08it/s]"
     ]
    },
    {
     "name": "stdout",
     "output_type": "stream",
     "text": [
      "[2023-03-21 15:32:49] - train 0.014473, valid MSE Loss 0.058914, valid L1 Loss 0.242464\n",
      "[2023-03-21 15:32:49] - Epoch: 79\n",
      "[2023-03-21 15:32:49] - training...\n"
     ]
    },
    {
     "name": "stderr",
     "output_type": "stream",
     "text": [
      "\n",
      "100%|██████████████████████████████████████████| 3/3 [00:00<00:00, 16.70it/s]"
     ]
    },
    {
     "name": "stdout",
     "output_type": "stream",
     "text": [
      "[2023-03-21 15:32:50] - evaluating...\n"
     ]
    },
    {
     "name": "stderr",
     "output_type": "stream",
     "text": [
      "\n",
      "Valid: 100%|████████████████████████████████| 17/17 [00:00<00:00, 580.29it/s]"
     ]
    },
    {
     "name": "stdout",
     "output_type": "stream",
     "text": [
      "[2023-03-21 15:32:50] - train 0.013136, valid MSE Loss 0.076973, valid L1 Loss 0.277232\n",
      "[2023-03-21 15:32:50] - Epoch: 80\n",
      "[2023-03-21 15:32:50] - training...\n"
     ]
    },
    {
     "name": "stderr",
     "output_type": "stream",
     "text": [
      "\n",
      "100%|██████████████████████████████████████████| 3/3 [00:00<00:00, 17.14it/s]"
     ]
    },
    {
     "name": "stdout",
     "output_type": "stream",
     "text": [
      "[2023-03-21 15:32:50] - evaluating...\n"
     ]
    },
    {
     "name": "stderr",
     "output_type": "stream",
     "text": [
      "\n",
      "Valid: 100%|████████████████████████████████| 17/17 [00:00<00:00, 640.18it/s]"
     ]
    },
    {
     "name": "stdout",
     "output_type": "stream",
     "text": [
      "[2023-03-21 15:32:50] - train 0.014266, valid MSE Loss 0.095658, valid L1 Loss 0.309098\n",
      "[2023-03-21 15:32:50] - early stop\n",
      "[2023-03-21 15:32:50] - best val mse loss score: 0.00017861976555329473 @ 40\n",
      "[2023-03-21 15:32:50] - Finished.\n"
     ]
    },
    {
     "name": "stderr",
     "output_type": "stream",
     "text": [
      "\n"
     ]
    }
   ],
   "source": [
    "## training\n",
    "adarnn.train(train_loader_list, valid_loader, args)"
   ]
  },
  {
   "cell_type": "code",
   "execution_count": null,
   "id": "8d4b6c04",
   "metadata": {},
   "outputs": [],
   "source": []
  },
  {
   "cell_type": "code",
   "execution_count": null,
   "id": "8f62fbc5",
   "metadata": {},
   "outputs": [],
   "source": []
  },
  {
   "cell_type": "code",
   "execution_count": null,
   "id": "fd3fc801",
   "metadata": {},
   "outputs": [],
   "source": []
  },
  {
   "cell_type": "code",
   "execution_count": null,
   "id": "8d7cf270",
   "metadata": {},
   "outputs": [],
   "source": []
  },
  {
   "cell_type": "code",
   "execution_count": null,
   "id": "5c695472",
   "metadata": {},
   "outputs": [],
   "source": []
  },
  {
   "cell_type": "code",
   "execution_count": null,
   "id": "41a651db",
   "metadata": {},
   "outputs": [],
   "source": []
  },
  {
   "cell_type": "code",
   "execution_count": null,
   "id": "8c6c01da",
   "metadata": {},
   "outputs": [],
   "source": []
  },
  {
   "cell_type": "code",
   "execution_count": null,
   "id": "c5a31e1c",
   "metadata": {},
   "outputs": [],
   "source": []
  },
  {
   "cell_type": "code",
   "execution_count": null,
   "id": "8c8fe40a",
   "metadata": {},
   "outputs": [],
   "source": []
  }
 ],
 "metadata": {
  "kernelspec": {
   "display_name": "Python 3 (ipykernel)",
   "language": "python",
   "name": "python3"
  },
  "language_info": {
   "codemirror_mode": {
    "name": "ipython",
    "version": 3
   },
   "file_extension": ".py",
   "mimetype": "text/x-python",
   "name": "python",
   "nbconvert_exporter": "python",
   "pygments_lexer": "ipython3",
   "version": "3.8.16"
  }
 },
 "nbformat": 4,
 "nbformat_minor": 5
}
