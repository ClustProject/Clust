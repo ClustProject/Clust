{
 "cells": [
  {
   "cell_type": "markdown",
   "id": "fd79d0c3",
   "metadata": {},
   "source": [
    "# 4. Inference"
   ]
  },
  {
   "cell_type": "code",
   "execution_count": 1,
   "id": "1611f6b2",
   "metadata": {},
   "outputs": [
    {
     "name": "stderr",
     "output_type": "stream",
     "text": [
      "/Users/kim-youngkee/Documents/CLUSTER/.clust/lib/python3.9/site-packages/tqdm/auto.py:22: TqdmWarning: IProgress not found. Please update jupyter and ipywidgets. See https://ipywidgets.readthedocs.io/en/stable/user_install.html\n",
      "  from .autonotebook import tqdm as notebook_tqdm\n"
     ]
    },
    {
     "name": "stdout",
     "output_type": "stream",
     "text": [
      "cpu is available.\n"
     ]
    }
   ],
   "source": [
    "import sys, os\n",
    "sys.path.append(\"../../..\")\n",
    "\n",
    "import pathSetting\n",
    "import pandas as pd\n",
    "\n",
    "from Clust.clust.ML.common.common import p1_integratedDataSaving as p1\n",
    "from Clust.clust.ML.common.common import p2_dataSelection as p2\n",
    "from Clust.clust.ML.common.common import p4_testing as p4\n",
    "from Clust.clust.ML.forecasting import app\n",
    "\n",
    "import torch\n",
    "#import main_regression as mr\n",
    "device = \"cuda\" if torch.cuda.is_available() else \"cpu\"\n",
    "print(f\"{device}\" \" is available.\")"
   ]
  },
  {
   "cell_type": "markdown",
   "id": "4b4915be",
   "metadata": {},
   "source": [
    "## 4-1. (just for test) Data Preparation "
   ]
  },
  {
   "cell_type": "code",
   "execution_count": 2,
   "id": "c14c2a08",
   "metadata": {},
   "outputs": [
    {
     "name": "stdout",
     "output_type": "stream",
     "text": [
      "\n",
      "testNoClean_Hs1SwineFarmWithWeatherTime\n"
     ]
    }
   ],
   "source": [
    "LearningMode = \"test\"\n",
    "cleanParamList =[\"Clean\", \"NoClean\"]\n",
    "datasetNameList=['Hs1SwineFarmWithWeatherTime', 'gunwiStrawberryWithWeatherTime', 'strawberryOpenTime']\n",
    "\n",
    "DataMeta = p1.read_json_data(pathSetting.DataMetaPath)\n",
    "print()\n",
    "### 1-1. Change Variable##########################\n",
    "datasetName = datasetNameList[0]\n",
    "cleanMode =cleanParamList[1]\n",
    "##################################################\n",
    "dataName =\"test\"+cleanMode+'_'+datasetName\n",
    "dataSaveMode = DataMeta[dataName][\"integrationInfo\"][\"DataSaveMode\"]\n",
    "print(dataName)\n",
    "\n",
    "# 2\n",
    "ModelMeta =p1.read_json_data(pathSetting.trainModelMetaFilePath)\n",
    "model_method =\"gru\"\n",
    "modelName = \"train\"+cleanMode+'_'+datasetName+'_'+model_method\n",
    "\n",
    "data = p2.get_saved_integrated_data(dataSaveMode, dataName, pathSetting.dataFolderPath, db_client = pathSetting.db_client)"
   ]
  },
  {
   "cell_type": "code",
   "execution_count": 3,
   "id": "9d2c13df",
   "metadata": {},
   "outputs": [],
   "source": [
    "from Clust.clust.ingestion.mongo.mongo_client import MongoClient\n",
    "from Clust.setting import influx_setting_KETI as ins\n",
    "\n",
    "mongo_client = MongoClient(ins.CLUSTMetaInfo2)\n",
    "\n",
    "db_name = 'model'\n",
    "collection_name = 'meta'\n",
    "\n",
    "all_model_meta = mongo_client.get_all_document(db_name, collection_name)"
   ]
  },
  {
   "cell_type": "code",
   "execution_count": 4,
   "id": "31b2b8ac",
   "metadata": {},
   "outputs": [],
   "source": [
    "search = {'modelName': 'trainNoClean_Hs1SwineFarmWithWeatherTime_gru'}\n",
    "model_meta= mongo_client.get_document_by_json(db_name, collection_name, search)\n",
    "model_meta = model_meta[0]"
   ]
  },
  {
   "cell_type": "code",
   "execution_count": 5,
   "id": "2d16245f",
   "metadata": {},
   "outputs": [
    {
     "data": {
      "text/plain": [
       "{'trainDataInfo': {'startTime': '2021-02-01 00:00:00',\n",
       "  'endTime': '2021-03-10 00:00:00',\n",
       "  'dataInfo': [['farm_swine_air', 'HS2'],\n",
       "   ['weather_outdoor_keti_clean', 'sangju'],\n",
       "   ['life_additional_Info', 'trigonometicInfoByHours']],\n",
       "  'processParam': {'refine_param': {'removeDuplication': {'flag': False},\n",
       "    'staticFrequency': {'flag': False, 'frequency': None}},\n",
       "   'outlier_param': {'certainErrorToNaN': {'flag': False},\n",
       "    'unCertainErrorToNaN': {'flag': False, 'param': {}}},\n",
       "   'imputation_param': {'flag': False,\n",
       "    'imputation_method': [],\n",
       "    'totalNonNanRatio': 80}},\n",
       "  'integration_freq_sec': 300,\n",
       "  'cleanParam': 'NoClean',\n",
       "  'DataSaveMode': 'CSV'},\n",
       " 'modelName': 'trainNoClean_Hs1SwineFarmWithWeatherTime_gru',\n",
       " 'featureList': ['Temperature', 'out_temp', 'sin_hour'],\n",
       " 'trainDataType': 'timeseries',\n",
       " 'modelPurpose': 'forecasting',\n",
       " 'model_method': 'gru',\n",
       " 'modelTags': ['farm', 'HS2', 'prediction'],\n",
       " 'cleanTrainDataParam': 'NoClean',\n",
       " 'NaNProcessingParam': {'feature_cycle': 'Day',\n",
       "  'feature_cycle_times': 1,\n",
       "  'NanInfoForCleanData': {'type': 'num',\n",
       "   'ConsecutiveNanLimit': 3,\n",
       "   'totalNaNLimit': 30000}},\n",
       " 'trainDataName': 'Hs1SwineFarmWithWeatherTime',\n",
       " 'transformParameter': {'future_step': 2,\n",
       "  'past_step': 24,\n",
       "  'feature_col': ['Temperature', 'out_temp', 'sin_hour'],\n",
       "  'target_col': 'Temperature'},\n",
       " 'scalerParam': 'scale',\n",
       " 'files': {'modelFile': {'fileName': 'model.pth',\n",
       "   'filePath': './Models/gru/trainNoClean_Hs1SwineFarmWithWeatherTime/825a1196dda25f71929140240c251257/model_state_dict.pkl'},\n",
       "  'scalerFile': {'fileName': 'scaler.pkl',\n",
       "   'filePath': './scaler/trainNoClean_Hs1SwineFarmWithWeatherTime/NoClean/robust/c1b524a5c854f6e561c4764b1dfb4e6f/scaler.pkl'}},\n",
       " 'trainParameter': {'input_size': 3,\n",
       "  'hidden_size': 256,\n",
       "  'num_layers': 3,\n",
       "  'output_dim': 1,\n",
       "  'dropout_prob': 0.2}}"
      ]
     },
     "execution_count": 5,
     "metadata": {},
     "output_type": "execute_result"
    }
   ],
   "source": [
    "model_meta"
   ]
  },
  {
   "cell_type": "code",
   "execution_count": 6,
   "id": "adcfd5b5",
   "metadata": {},
   "outputs": [],
   "source": [
    "scaler_file_path = model_meta['files']['scalerFile'][\"filePath\"]\n",
    "model_file_path = model_meta['files']['modelFile'][\"filePath\"]\n",
    "\n",
    "feature_list = model_meta[\"featureList\"]\n",
    "target_col = model_meta['transformParameter'][\"target_col\"]\n",
    "scaler_param = model_meta[\"scalerParam\"]\n",
    "past_step = model_meta['transformParameter']['past_step']\n",
    "\n",
    "feature_data = data[feature_list]\n",
    "step_data = feature_data[-past_step:][feature_list].values\n",
    "df_data = pd.DataFrame(step_data, columns = feature_list)\n",
    "\n",
    "input_data, scaler = p4.get_scaled_test_data(df_data[feature_list], scaler_file_path, scaler_param)"
   ]
  },
  {
   "cell_type": "code",
   "execution_count": 7,
   "id": "0d27283d",
   "metadata": {},
   "outputs": [
    {
     "name": "stdout",
     "output_type": "stream",
     "text": [
      "\n",
      "Start inference\n",
      "\n",
      "** Dimension of result for inference dataset = (1,)\n"
     ]
    }
   ],
   "source": [
    "from Clust.clust.ML.regression_YK.inference_forecast import ForecastInference as FI\n",
    "\n",
    "fi = FI()\n",
    "fi.set_param(model_meta)\n",
    "fi.set_model(model_method, model_file_path)\n",
    "fi.set_data(input_data)\n",
    "preds = fi.inference()"
   ]
  },
  {
   "cell_type": "code",
   "execution_count": 5,
   "id": "d8703f29",
   "metadata": {},
   "outputs": [
    {
     "name": "stdout",
     "output_type": "stream",
     "text": [
      "\n",
      "Start testing data\n",
      "\n",
      "======================1111111111111111111111111111111111=================================\n",
      "[0.24773747]\n"
     ]
    }
   ],
   "source": [
    "# prediction_result = app.get_inference_result(data, model_meta)"
   ]
  },
  {
   "cell_type": "code",
   "execution_count": 10,
   "id": "179b71c7",
   "metadata": {},
   "outputs": [],
   "source": [
    "if scaler_param =='scale':\n",
    "    base_df_for_inverse= pd.DataFrame(columns=feature_list, index=range(len(preds)))\n",
    "    base_df_for_inverse[target_col] = preds\n",
    "    inverse_result = pd.DataFrame(scaler.inverse_transform(base_df_for_inverse), columns=feature_list, index=base_df_for_inverse.index)\n",
    "    target_data = inverse_result[target_col]\n",
    "    prediction_result = pd.DataFrame(data={target_col: target_data}, index=range(len(preds)))\n",
    "        \n",
    "else:\n",
    "    prediction_result = pd.DataFrame(data={target_col: preds}, index=range(len(preds)))"
   ]
  },
  {
   "cell_type": "code",
   "execution_count": 12,
   "id": "2677a853",
   "metadata": {},
   "outputs": [
    {
     "data": {
      "text/html": [
       "<div>\n",
       "<style scoped>\n",
       "    .dataframe tbody tr th:only-of-type {\n",
       "        vertical-align: middle;\n",
       "    }\n",
       "\n",
       "    .dataframe tbody tr th {\n",
       "        vertical-align: top;\n",
       "    }\n",
       "\n",
       "    .dataframe thead th {\n",
       "        text-align: right;\n",
       "    }\n",
       "</style>\n",
       "<table border=\"1\" class=\"dataframe\">\n",
       "  <thead>\n",
       "    <tr style=\"text-align: right;\">\n",
       "      <th></th>\n",
       "      <th>Temperature</th>\n",
       "    </tr>\n",
       "  </thead>\n",
       "  <tbody>\n",
       "    <tr>\n",
       "      <th>0</th>\n",
       "      <td>22.430008</td>\n",
       "    </tr>\n",
       "  </tbody>\n",
       "</table>\n",
       "</div>"
      ],
      "text/plain": [
       "   Temperature\n",
       "0    22.430008"
      ]
     },
     "execution_count": 12,
     "metadata": {},
     "output_type": "execute_result"
    }
   ],
   "source": [
    "prediction_result"
   ]
  },
  {
   "cell_type": "code",
   "execution_count": null,
   "id": "c54928da",
   "metadata": {},
   "outputs": [],
   "source": []
  }
 ],
 "metadata": {
  "kernelspec": {
   "display_name": "Python 3 (ipykernel)",
   "language": "python",
   "name": "python3"
  },
  "language_info": {
   "codemirror_mode": {
    "name": "ipython",
    "version": 3
   },
   "file_extension": ".py",
   "mimetype": "text/x-python",
   "name": "python",
   "nbconvert_exporter": "python",
   "pygments_lexer": "ipython3",
   "version": "3.9.6"
  },
  "vscode": {
   "interpreter": {
    "hash": "f1ef7e1f828dbb4e75f421045d2c565197efaf8469a0be4a314c6ea8378b5cb2"
   }
  }
 },
 "nbformat": 4,
 "nbformat_minor": 5
}
