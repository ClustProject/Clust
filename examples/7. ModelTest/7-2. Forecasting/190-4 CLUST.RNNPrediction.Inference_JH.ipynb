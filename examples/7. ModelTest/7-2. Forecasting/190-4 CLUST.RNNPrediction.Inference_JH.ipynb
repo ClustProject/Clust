{
 "cells": [
  {
   "cell_type": "markdown",
   "id": "fd79d0c3",
   "metadata": {},
   "source": [
    "# 4. Inference"
   ]
  },
  {
   "cell_type": "code",
   "execution_count": 1,
   "id": "1611f6b2",
   "metadata": {},
   "outputs": [],
   "source": [
    "import sys, os\n",
    "sys.path.append(\"../../\")\n",
    "\n",
    "import pathSetting\n",
    "import pandas as pd\n",
    "from KETIToolDL.CLUSTTool.common import p1_integratedDataSaving as p1\n",
    "from KETIToolDL.CLUSTTool.common import p2_dataSelection as p2\n",
    "\n",
    "from KETIToolDL.CLUSTTool.RNNPrediction import p5_inference as p5"
   ]
  },
  {
   "cell_type": "markdown",
   "id": "4b4915be",
   "metadata": {},
   "source": [
    "## 4-1. (just for test) Data Preparation "
   ]
  },
  {
   "cell_type": "code",
   "execution_count": 4,
   "id": "bb72fb20",
   "metadata": {
    "scrolled": false
   },
   "outputs": [
    {
     "name": "stdout",
     "output_type": "stream",
     "text": [
      "\n",
      "testNoClean_Hs1SwineFarmWithWeatherTime\n",
      "[[-0.43548003]]\n",
      "43.24203923344612\n"
     ]
    }
   ],
   "source": [
    "LearningMode = \"test\"\n",
    "cleanParamList =[\"Clean\", \"NoClean\"]\n",
    "datasetNameList=['Hs1SwineFarmWithWeatherTime', 'gunwiStrawberryWithWeatherTime', 'strawberryOpenTime']\n",
    "\n",
    "DataMeta = p1.readJsonData(pathSetting.DataMetaPath)\n",
    "print()\n",
    "### 1-1. Change Variable##########################\n",
    "datasetName = datasetNameList[0]\n",
    "cleanMode =cleanParamList[1]\n",
    "##################################################\n",
    "dataName =\"test\"+cleanMode+'_'+datasetName\n",
    "dataSaveMode = DataMeta[dataName][\"integrationInfo\"][\"DataSaveMode\"]\n",
    "print(dataName)\n",
    "\n",
    "# 2\n",
    "ModelMeta =p1.readJsonData(pathSetting.trainModelMetaFilePath)\n",
    "model_method =\"gru\"\n",
    "modelName = \"train\"+cleanMode+'_'+datasetName+'_'+model_method\n",
    "\n",
    "data = p2.getSavedIntegratedData(dataSaveMode, dataName, pathSetting.dataFolderPath, db_client = pathSetting.db_client)\n",
    "\n",
    "\n",
    "# 2. read ModelMeta\n",
    "past_step = ModelMeta[modelName]['transformParameter']['past_step']\n",
    "featureList = ModelMeta[modelName]['featureList']\n",
    "target_col = ModelMeta[modelName]['transformParameter']['target_col']\n",
    "scalerParam = ModelMeta[modelName]['scalerParam']\n",
    "scalerFilePath = ModelMeta[modelName]['files']['scalerFile'][\"filePath\"]\n",
    "modelFilePath = ModelMeta[modelName]['files']['modelFile'][\"filePath\"]\n",
    "trainParameter = ModelMeta[modelName]['trainParameter']\n",
    "model_method = ModelMeta[modelName]['model_method']\n",
    "\n",
    "# 3. Test Value\n",
    "data = data[featureList]\n",
    "inputData = data[-past_step:][featureList].values\n",
    "\n",
    "# 4.Inference\n",
    "result = p5.inference(inputData, trainParameter, model_method, modelFilePath, scalerParam, scalerFilePath, featureList, target_col)\n",
    "print(result)\n"
   ]
  },
  {
   "cell_type": "code",
   "execution_count": 5,
   "id": "290a6573",
   "metadata": {},
   "outputs": [
    {
     "data": {
      "text/html": [
       "<div>\n",
       "<style scoped>\n",
       "    .dataframe tbody tr th:only-of-type {\n",
       "        vertical-align: middle;\n",
       "    }\n",
       "\n",
       "    .dataframe tbody tr th {\n",
       "        vertical-align: top;\n",
       "    }\n",
       "\n",
       "    .dataframe thead th {\n",
       "        text-align: right;\n",
       "    }\n",
       "</style>\n",
       "<table border=\"1\" class=\"dataframe\">\n",
       "  <thead>\n",
       "    <tr style=\"text-align: right;\">\n",
       "      <th></th>\n",
       "      <th>out_temp</th>\n",
       "      <th>Temperature</th>\n",
       "      <th>sin_hour</th>\n",
       "    </tr>\n",
       "    <tr>\n",
       "      <th>datetime</th>\n",
       "      <th></th>\n",
       "      <th></th>\n",
       "      <th></th>\n",
       "    </tr>\n",
       "  </thead>\n",
       "  <tbody>\n",
       "    <tr>\n",
       "      <th>2021-01-01 00:00:00+00:00</th>\n",
       "      <td>-5.400000</td>\n",
       "      <td>68.000000</td>\n",
       "      <td>0.000000</td>\n",
       "    </tr>\n",
       "    <tr>\n",
       "      <th>2021-01-01 00:05:00+00:00</th>\n",
       "      <td>-5.408333</td>\n",
       "      <td>67.500000</td>\n",
       "      <td>0.021568</td>\n",
       "    </tr>\n",
       "    <tr>\n",
       "      <th>2021-01-01 00:10:00+00:00</th>\n",
       "      <td>-5.416667</td>\n",
       "      <td>67.666667</td>\n",
       "      <td>0.043137</td>\n",
       "    </tr>\n",
       "    <tr>\n",
       "      <th>2021-01-01 00:15:00+00:00</th>\n",
       "      <td>-5.425000</td>\n",
       "      <td>68.000000</td>\n",
       "      <td>0.064705</td>\n",
       "    </tr>\n",
       "    <tr>\n",
       "      <th>2021-01-01 00:20:00+00:00</th>\n",
       "      <td>-5.433333</td>\n",
       "      <td>66.666667</td>\n",
       "      <td>0.086273</td>\n",
       "    </tr>\n",
       "    <tr>\n",
       "      <th>...</th>\n",
       "      <td>...</td>\n",
       "      <td>...</td>\n",
       "      <td>...</td>\n",
       "    </tr>\n",
       "    <tr>\n",
       "      <th>2021-01-07 22:40:00+00:00</th>\n",
       "      <td>-4.133333</td>\n",
       "      <td>46.000000</td>\n",
       "      <td>-0.339213</td>\n",
       "    </tr>\n",
       "    <tr>\n",
       "      <th>2021-01-07 22:45:00+00:00</th>\n",
       "      <td>-4.150000</td>\n",
       "      <td>46.500000</td>\n",
       "      <td>-0.319114</td>\n",
       "    </tr>\n",
       "    <tr>\n",
       "      <th>2021-01-07 22:50:00+00:00</th>\n",
       "      <td>-4.166667</td>\n",
       "      <td>45.666667</td>\n",
       "      <td>-0.299016</td>\n",
       "    </tr>\n",
       "    <tr>\n",
       "      <th>2021-01-07 22:55:00+00:00</th>\n",
       "      <td>-4.183333</td>\n",
       "      <td>42.000000</td>\n",
       "      <td>-0.278917</td>\n",
       "    </tr>\n",
       "    <tr>\n",
       "      <th>2021-01-07 23:00:00+00:00</th>\n",
       "      <td>-4.200000</td>\n",
       "      <td>40.000000</td>\n",
       "      <td>-0.258819</td>\n",
       "    </tr>\n",
       "  </tbody>\n",
       "</table>\n",
       "<p>2005 rows × 3 columns</p>\n",
       "</div>"
      ],
      "text/plain": [
       "                           out_temp  Temperature  sin_hour\n",
       "datetime                                                  \n",
       "2021-01-01 00:00:00+00:00 -5.400000    68.000000  0.000000\n",
       "2021-01-01 00:05:00+00:00 -5.408333    67.500000  0.021568\n",
       "2021-01-01 00:10:00+00:00 -5.416667    67.666667  0.043137\n",
       "2021-01-01 00:15:00+00:00 -5.425000    68.000000  0.064705\n",
       "2021-01-01 00:20:00+00:00 -5.433333    66.666667  0.086273\n",
       "...                             ...          ...       ...\n",
       "2021-01-07 22:40:00+00:00 -4.133333    46.000000 -0.339213\n",
       "2021-01-07 22:45:00+00:00 -4.150000    46.500000 -0.319114\n",
       "2021-01-07 22:50:00+00:00 -4.166667    45.666667 -0.299016\n",
       "2021-01-07 22:55:00+00:00 -4.183333    42.000000 -0.278917\n",
       "2021-01-07 23:00:00+00:00 -4.200000    40.000000 -0.258819\n",
       "\n",
       "[2005 rows x 3 columns]"
      ]
     },
     "execution_count": 5,
     "metadata": {},
     "output_type": "execute_result"
    }
   ],
   "source": [
    "data"
   ]
  }
 ],
 "metadata": {
  "kernelspec": {
   "display_name": "Python 3 (ipykernel)",
   "language": "python",
   "name": "python3"
  },
  "language_info": {
   "codemirror_mode": {
    "name": "ipython",
    "version": 3
   },
   "file_extension": ".py",
   "mimetype": "text/x-python",
   "name": "python",
   "nbconvert_exporter": "python",
   "pygments_lexer": "ipython3",
   "version": "3.8.8"
  },
  "vscode": {
   "interpreter": {
    "hash": "f1ef7e1f828dbb4e75f421045d2c565197efaf8469a0be4a314c6ea8378b5cb2"
   }
  }
 },
 "nbformat": 4,
 "nbformat_minor": 5
}
