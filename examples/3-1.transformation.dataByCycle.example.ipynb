{
 "cells": [
  {
   "cell_type": "code",
   "execution_count": 8,
   "id": "c0ef1f05",
   "metadata": {},
   "outputs": [],
   "source": [
    "import pandas as pd\n",
    "import sys\n",
    "import os\n",
    "sys.path.append(\"../\")\n",
    "sys.path.append(\"../..\")\n",
    "sys.path.append(\"../../..\")\n",
    "from clust.ingestion.KETI_setting import influx_setting_KETI as ins\n",
    "from clust.transformation.dataByCycle.cycleData import CycleData\n",
    "from clust.preprocessing.DataProcessing import DataPreprocessing\n",
    "\n",
    "#from KETIPreDataIngestion.data_influx.influx_Client_v2 import influxClient\n",
    "from KETIPreDataIngestion.data_influx.influx_Client import influxClient\n",
    "DBClient = influxClient(ins.CLUSTDataServer)"
   ]
  },
  {
   "cell_type": "code",
   "execution_count": 15,
   "id": "f11fe340",
   "metadata": {},
   "outputs": [],
   "source": [
    "# DB Setting\n",
    "\n",
    "db_name ='air_indoor_경로당'\n",
    "ms_name ='ICL1L2000234'\n",
    "\"\"\"\n",
    "db_name ='farm_outdoor_weather_clean'\n",
    "ms_name ='gunwi'\n",
    "\"\"\"\n",
    "days = 50000\n",
    "############\n",
    "last_time = DBClient.get_last_time(db_name, ms_name)\n",
    "rawData = DBClient.get_data_by_days(last_time, str(days)+\"d\", db_name, ms_name)"
   ]
  },
  {
   "cell_type": "code",
   "execution_count": 16,
   "id": "77d3b786",
   "metadata": {},
   "outputs": [
    {
     "name": "stdout",
     "output_type": "stream",
     "text": [
      "2021-02-04 10:33:00+00:00 2021-02-04 10:34:00+00:00\n"
     ]
    }
   ],
   "source": [
    "rawData\n",
    "print(rawData.index[0], rawData.index[1])"
   ]
  },
  {
   "cell_type": "code",
   "execution_count": 17,
   "id": "e0af847c",
   "metadata": {},
   "outputs": [],
   "source": [
    "refine_param = {'removeDuplication': {'flag': True} , 'staticFrequency': {'flag': True, 'frequency': None}}\n",
    "output = DataPreprocessing().get_refinedData(rawData, refine_param)"
   ]
  },
  {
   "cell_type": "markdown",
   "id": "4ee5e7cf",
   "metadata": {},
   "source": [
    "# Function"
   ]
  },
  {
   "cell_type": "markdown",
   "id": "8cd89ac8",
   "metadata": {},
   "source": [
    "True = Entire Cycle Data\n",
    "\n",
    "False = Prefect Cycle Data"
   ]
  },
  {
   "cell_type": "markdown",
   "id": "af4f602b",
   "metadata": {},
   "source": [
    "## Hour Cycle"
   ]
  },
  {
   "cell_type": "code",
   "execution_count": 19,
   "id": "ff24a7ad",
   "metadata": {},
   "outputs": [],
   "source": [
    "hourCycle = CycleData().getHourCycleSet(output,3, False)"
   ]
  },
  {
   "cell_type": "markdown",
   "id": "e129cb76",
   "metadata": {},
   "source": [
    "## Day Cycle"
   ]
  },
  {
   "cell_type": "code",
   "execution_count": null,
   "id": "82666a9d",
   "metadata": {},
   "outputs": [],
   "source": [
    "dayCycle = CycleData().getDayCycleSet(output,3,False)"
   ]
  },
  {
   "cell_type": "code",
   "execution_count": null,
   "id": "151dc1a3",
   "metadata": {},
   "outputs": [],
   "source": [
    "print(dayCycle)"
   ]
  },
  {
   "cell_type": "markdown",
   "id": "ea3bce39",
   "metadata": {},
   "source": [
    "## Week Cycle"
   ]
  },
  {
   "cell_type": "code",
   "execution_count": null,
   "id": "106eaa2a",
   "metadata": {},
   "outputs": [],
   "source": [
    "weekCycle = CycleData().getWeekCycleSet(output, 3, False)"
   ]
  },
  {
   "cell_type": "code",
   "execution_count": null,
   "id": "0dea1202",
   "metadata": {},
   "outputs": [],
   "source": [
    "print(weekCycle)"
   ]
  },
  {
   "cell_type": "markdown",
   "id": "f5e27ea2",
   "metadata": {},
   "source": [
    "## Month Cycle"
   ]
  },
  {
   "cell_type": "code",
   "execution_count": null,
   "id": "0dcf94fc",
   "metadata": {},
   "outputs": [],
   "source": [
    "monthCycle = CycleData().getMonthCycleSet(output, 3, False)"
   ]
  },
  {
   "cell_type": "code",
   "execution_count": null,
   "id": "4e151c09",
   "metadata": {},
   "outputs": [],
   "source": [
    "print(monthCycle)"
   ]
  },
  {
   "cell_type": "code",
   "execution_count": null,
   "id": "15582def",
   "metadata": {},
   "outputs": [],
   "source": []
  },
  {
   "cell_type": "markdown",
   "id": "95500027",
   "metadata": {},
   "source": [
    "## Year Cycle"
   ]
  },
  {
   "cell_type": "code",
   "execution_count": 3,
   "id": "aebfef01",
   "metadata": {},
   "outputs": [],
   "source": [
    "# 아직 작업중"
   ]
  },
  {
   "cell_type": "code",
   "execution_count": 4,
   "id": "a5587162",
   "metadata": {},
   "outputs": [
    {
     "ename": "NameError",
     "evalue": "name 'data_get' is not defined",
     "output_type": "error",
     "traceback": [
      "\u001b[0;31m---------------------------------------------------------------------------\u001b[0m",
      "\u001b[0;31mNameError\u001b[0m                                 Traceback (most recent call last)",
      "Input \u001b[0;32mIn [4]\u001b[0m, in \u001b[0;36m<cell line: 1>\u001b[0;34m()\u001b[0m\n\u001b[0;32m----> 1\u001b[0m yearCycle \u001b[38;5;241m=\u001b[39m CycleData()\u001b[38;5;241m.\u001b[39mgetYearCycleSet(\u001b[43mdata_get\u001b[49m, \u001b[38;5;241m2\u001b[39m, \u001b[38;5;28;01mTrue\u001b[39;00m)\n",
      "\u001b[0;31mNameError\u001b[0m: name 'data_get' is not defined"
     ]
    }
   ],
   "source": [
    "yearCycle = CycleData().getYearCycleSet(output, 2, True)"
   ]
  },
  {
   "cell_type": "code",
   "execution_count": 5,
   "id": "cb1848a2",
   "metadata": {},
   "outputs": [
    {
     "ename": "NameError",
     "evalue": "name 'yearCycle' is not defined",
     "output_type": "error",
     "traceback": [
      "\u001b[0;31m---------------------------------------------------------------------------\u001b[0m",
      "\u001b[0;31mNameError\u001b[0m                                 Traceback (most recent call last)",
      "Input \u001b[0;32mIn [5]\u001b[0m, in \u001b[0;36m<cell line: 1>\u001b[0;34m()\u001b[0m\n\u001b[0;32m----> 1\u001b[0m \u001b[38;5;28mprint\u001b[39m(\u001b[43myearCycle\u001b[49m)\n",
      "\u001b[0;31mNameError\u001b[0m: name 'yearCycle' is not defined"
     ]
    }
   ],
   "source": [
    "print(yearCycle)"
   ]
  },
  {
   "cell_type": "code",
   "execution_count": null,
   "id": "564e1c42",
   "metadata": {},
   "outputs": [],
   "source": []
  }
 ],
 "metadata": {
  "kernelspec": {
   "display_name": "Python 3 (ipykernel)",
   "language": "python",
   "name": "python3"
  },
  "language_info": {
   "codemirror_mode": {
    "name": "ipython",
    "version": 3
   },
   "file_extension": ".py",
   "mimetype": "text/x-python",
   "name": "python",
   "nbconvert_exporter": "python",
   "pygments_lexer": "ipython3",
   "version": "3.8.13"
  },
  "vscode": {
   "interpreter": {
    "hash": "f1ef7e1f828dbb4e75f421045d2c565197efaf8469a0be4a314c6ea8378b5cb2"
   }
  }
 },
 "nbformat": 4,
 "nbformat_minor": 5
}
