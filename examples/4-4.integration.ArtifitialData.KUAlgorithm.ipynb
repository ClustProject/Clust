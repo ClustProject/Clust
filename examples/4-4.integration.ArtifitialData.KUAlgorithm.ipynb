{
 "cells": [
  {
   "cell_type": "markdown",
   "metadata": {},
   "source": [
    "JW Test Code"
   ]
  },
  {
   "cell_type": "code",
   "execution_count": 1,
   "metadata": {
    "ExecuteTime": {
     "end_time": "2022-05-03T05:34:47.582292Z",
     "start_time": "2022-05-03T05:34:46.140438Z"
    }
   },
   "outputs": [],
   "source": [
    "import sys\n",
    "import pandas as pd\n",
    "import numpy as np\n",
    "import matplotlib.pyplot as plt\n",
    "sys.path.append(\"../\")\n",
    "sys.path.append(\"../..\")"
   ]
  },
  {
   "cell_type": "markdown",
   "metadata": {},
   "source": [
    "# Data Integration1 - Input : DataSet"
   ]
  },
  {
   "cell_type": "markdown",
   "metadata": {},
   "source": [
    "## 1. Data Preparation"
   ]
  },
  {
   "cell_type": "markdown",
   "metadata": {},
   "source": [
    "### Make 3 Numeric Test Data with different frequencies"
   ]
  },
  {
   "cell_type": "code",
   "execution_count": 2,
   "metadata": {
    "ExecuteTime": {
     "end_time": "2022-05-03T05:34:47.598515Z",
     "start_time": "2022-05-03T05:34:47.583523Z"
    }
   },
   "outputs": [],
   "source": [
    "r_0 = pd.date_range(start='1/3/2018', end= '1/05/2018', freq='10T')\n",
    "r_1 = pd.date_range(start='1/2/2018', end= '1/09/2018', freq='7T')\n",
    "r_2 = pd.date_range(start='1/1/2018', end= '1/07/2018', freq='3T')\n",
    "data_0 = {'datetime': r_0,\n",
    "          'data0':np.random.randint(0, 100, size=(len(r_0)))}\n",
    "data_1 = {'datetime': r_1,\n",
    "          'data1':np.random.randint(0, 100, size=(len(r_1)))}\n",
    "data_2 = {'datetime': r_2,\n",
    "          'data2':np.random.randint(0, 100, size=(len(r_2)))}\n",
    "\n",
    "df0 = pd.DataFrame (data = data_0).set_index('datetime')\n",
    "df1 = pd.DataFrame (data = data_1).set_index('datetime')\n",
    "df2 = pd.DataFrame (data = data_2).set_index('datetime')\n",
    "data_partial_numeric = {0:df0, 1:df1, 2:df2}"
   ]
  },
  {
   "cell_type": "code",
   "execution_count": 3,
   "metadata": {
    "ExecuteTime": {
     "end_time": "2022-05-03T05:34:47.633280Z",
     "start_time": "2022-05-03T05:34:47.602007Z"
    },
    "scrolled": true
   },
   "outputs": [
    {
     "data": {
      "text/plain": [
       "{0:                      data0\n",
       " datetime                  \n",
       " 2018-01-03 00:00:00     77\n",
       " 2018-01-03 00:10:00     59\n",
       " 2018-01-03 00:20:00     70\n",
       " 2018-01-03 00:30:00     79\n",
       " 2018-01-03 00:40:00      8\n",
       " ...                    ...\n",
       " 2018-01-04 23:20:00     14\n",
       " 2018-01-04 23:30:00     76\n",
       " 2018-01-04 23:40:00     40\n",
       " 2018-01-04 23:50:00     47\n",
       " 2018-01-05 00:00:00     67\n",
       " \n",
       " [289 rows x 1 columns],\n",
       " 1:                      data1\n",
       " datetime                  \n",
       " 2018-01-02 00:00:00     67\n",
       " 2018-01-02 00:07:00     32\n",
       " 2018-01-02 00:14:00     52\n",
       " 2018-01-02 00:21:00     35\n",
       " 2018-01-02 00:28:00     77\n",
       " ...                    ...\n",
       " 2018-01-08 23:32:00     77\n",
       " 2018-01-08 23:39:00     38\n",
       " 2018-01-08 23:46:00     92\n",
       " 2018-01-08 23:53:00     37\n",
       " 2018-01-09 00:00:00     94\n",
       " \n",
       " [1441 rows x 1 columns],\n",
       " 2:                      data2\n",
       " datetime                  \n",
       " 2018-01-01 00:00:00     25\n",
       " 2018-01-01 00:03:00     37\n",
       " 2018-01-01 00:06:00     36\n",
       " 2018-01-01 00:09:00     99\n",
       " 2018-01-01 00:12:00     43\n",
       " ...                    ...\n",
       " 2018-01-06 23:48:00     93\n",
       " 2018-01-06 23:51:00     40\n",
       " 2018-01-06 23:54:00     78\n",
       " 2018-01-06 23:57:00     59\n",
       " 2018-01-07 00:00:00     79\n",
       " \n",
       " [2881 rows x 1 columns]}"
      ]
     },
     "execution_count": 3,
     "metadata": {},
     "output_type": "execute_result"
    }
   ],
   "source": [
    "data_partial_numeric"
   ]
  },
  {
   "cell_type": "markdown",
   "metadata": {},
   "source": [
    "## 2. Integration Meta"
   ]
  },
  {
   "cell_type": "code",
   "execution_count": 4,
   "metadata": {
    "ExecuteTime": {
     "end_time": "2022-05-03T05:34:47.681912Z",
     "start_time": "2022-05-03T05:34:47.637073Z"
    }
   },
   "outputs": [
    {
     "name": "stdout",
     "output_type": "stream",
     "text": [
      "IntType\n",
      "IntType\n",
      "IntType\n",
      "[600, 420, 180]\n",
      "overlap: {'start_time': Timestamp('2018-01-03 00:00:00'), 'end_time': Timestamp('2018-01-05 00:00:00')}\n",
      "GCD: 60\n",
      "GCDs: 60S\n"
     ]
    },
    {
     "data": {
      "text/plain": [
       "{'frequency_list': [600, 420, 180],\n",
       " 'min_frequency': 180,\n",
       " 'max_frequency': 600,\n",
       " 'frequency_is_same': False,\n",
       " 'average_frequency': 400.0,\n",
       " 'median_frequency': 420.0,\n",
       " 'GCD': 60,\n",
       " 'GCDs': '60S'}"
      ]
     },
     "execution_count": 4,
     "metadata": {},
     "output_type": "execute_result"
    }
   ],
   "source": [
    "from KETIPreDataIntegration.meta import partialDataInfo\n",
    "partial_data_info = partialDataInfo.PartialData(data_partial_numeric)\n",
    "overlap_duration = partial_data_info.column_meta['overlap_duration']\n",
    "GCD = partial_data_info.partial_frequency_info['GCD']\n",
    "GCDs = partial_data_info.partial_frequency_info['GCDs']\n",
    "\n",
    "print(\"overlap:\", overlap_duration)\n",
    "print(\"GCD:\", GCD)\n",
    "print(\"GCDs:\", GCDs)\n",
    "partial_data_info.partial_frequency_info"
   ]
  },
  {
   "cell_type": "code",
   "execution_count": 14,
   "metadata": {},
   "outputs": [
    {
     "data": {
      "text/plain": [
       "{'overlap_duration': {'start_time': Timestamp('2018-01-03 00:00:00'),\n",
       "  'end_time': Timestamp('2018-01-05 00:00:00')},\n",
       " 'column_characteristics': {'data0': {'column_name': 'data0',\n",
       "   'column_frequency': Timedelta('0 days 00:10:00'),\n",
       "   'column_type': dtype('int64'),\n",
       "   'occurence_time': 'Continuous',\n",
       "   'pointDependency': 'Yes',\n",
       "   'upsampling_method': 'mean',\n",
       "   'downsampling_method': 'mean'},\n",
       "  'data1': {'column_name': 'data1',\n",
       "   'column_frequency': Timedelta('0 days 00:07:00'),\n",
       "   'column_type': dtype('int64'),\n",
       "   'occurence_time': 'Continuous',\n",
       "   'pointDependency': 'Yes',\n",
       "   'upsampling_method': 'mean',\n",
       "   'downsampling_method': 'mean'},\n",
       "  'data2': {'column_name': 'data2',\n",
       "   'column_frequency': Timedelta('0 days 00:03:00'),\n",
       "   'column_type': dtype('int64'),\n",
       "   'occurence_time': 'Continuous',\n",
       "   'pointDependency': 'Yes',\n",
       "   'upsampling_method': 'mean',\n",
       "   'downsampling_method': 'mean'}}}"
      ]
     },
     "execution_count": 14,
     "metadata": {},
     "output_type": "execute_result"
    }
   ],
   "source": [
    "partial_data_info.column_meta"
   ]
  },
  {
   "cell_type": "code",
   "execution_count": 5,
   "metadata": {
    "ExecuteTime": {
     "end_time": "2022-05-03T05:34:47.692640Z",
     "start_time": "2022-05-03T05:34:47.685255Z"
    }
   },
   "outputs": [
    {
     "data": {
      "text/plain": [
       "{'frequency_list': [600, 420, 180],\n",
       " 'min_frequency': 180,\n",
       " 'max_frequency': 600,\n",
       " 'frequency_is_same': False,\n",
       " 'average_frequency': 400.0,\n",
       " 'median_frequency': 420.0,\n",
       " 'GCD': 60,\n",
       " 'GCDs': '60S'}"
      ]
     },
     "execution_count": 5,
     "metadata": {},
     "output_type": "execute_result"
    }
   ],
   "source": [
    "partial_data_info.partial_frequency_info"
   ]
  },
  {
   "cell_type": "markdown",
   "metadata": {},
   "source": [
    "## 3. GCD에 의해서 변환한 후 합친 버젼"
   ]
  },
  {
   "cell_type": "code",
   "execution_count": 6,
   "metadata": {
    "ExecuteTime": {
     "end_time": "2022-05-03T05:34:47.792588Z",
     "start_time": "2022-05-03T05:34:47.694750Z"
    }
   },
   "outputs": [
    {
     "data": {
      "text/html": [
       "<div>\n",
       "<style scoped>\n",
       "    .dataframe tbody tr th:only-of-type {\n",
       "        vertical-align: middle;\n",
       "    }\n",
       "\n",
       "    .dataframe tbody tr th {\n",
       "        vertical-align: top;\n",
       "    }\n",
       "\n",
       "    .dataframe thead th {\n",
       "        text-align: right;\n",
       "    }\n",
       "</style>\n",
       "<table border=\"1\" class=\"dataframe\">\n",
       "  <thead>\n",
       "    <tr style=\"text-align: right;\">\n",
       "      <th></th>\n",
       "      <th>data0</th>\n",
       "      <th>data1</th>\n",
       "      <th>data2</th>\n",
       "    </tr>\n",
       "    <tr>\n",
       "      <th>datetime</th>\n",
       "      <th></th>\n",
       "      <th></th>\n",
       "      <th></th>\n",
       "    </tr>\n",
       "  </thead>\n",
       "  <tbody>\n",
       "    <tr>\n",
       "      <th>2018-01-03 00:00:00</th>\n",
       "      <td>93.0</td>\n",
       "      <td>NaN</td>\n",
       "      <td>91.0</td>\n",
       "    </tr>\n",
       "    <tr>\n",
       "      <th>2018-01-03 00:01:00</th>\n",
       "      <td>NaN</td>\n",
       "      <td>NaN</td>\n",
       "      <td>NaN</td>\n",
       "    </tr>\n",
       "    <tr>\n",
       "      <th>2018-01-03 00:02:00</th>\n",
       "      <td>NaN</td>\n",
       "      <td>25.0</td>\n",
       "      <td>NaN</td>\n",
       "    </tr>\n",
       "    <tr>\n",
       "      <th>2018-01-03 00:03:00</th>\n",
       "      <td>NaN</td>\n",
       "      <td>NaN</td>\n",
       "      <td>1.0</td>\n",
       "    </tr>\n",
       "    <tr>\n",
       "      <th>2018-01-03 00:04:00</th>\n",
       "      <td>NaN</td>\n",
       "      <td>NaN</td>\n",
       "      <td>NaN</td>\n",
       "    </tr>\n",
       "    <tr>\n",
       "      <th>...</th>\n",
       "      <td>...</td>\n",
       "      <td>...</td>\n",
       "      <td>...</td>\n",
       "    </tr>\n",
       "    <tr>\n",
       "      <th>2018-01-04 23:56:00</th>\n",
       "      <td>NaN</td>\n",
       "      <td>NaN</td>\n",
       "      <td>NaN</td>\n",
       "    </tr>\n",
       "    <tr>\n",
       "      <th>2018-01-04 23:57:00</th>\n",
       "      <td>NaN</td>\n",
       "      <td>NaN</td>\n",
       "      <td>38.0</td>\n",
       "    </tr>\n",
       "    <tr>\n",
       "      <th>2018-01-04 23:58:00</th>\n",
       "      <td>NaN</td>\n",
       "      <td>NaN</td>\n",
       "      <td>NaN</td>\n",
       "    </tr>\n",
       "    <tr>\n",
       "      <th>2018-01-04 23:59:00</th>\n",
       "      <td>NaN</td>\n",
       "      <td>74.0</td>\n",
       "      <td>NaN</td>\n",
       "    </tr>\n",
       "    <tr>\n",
       "      <th>2018-01-05 00:00:00</th>\n",
       "      <td>38.0</td>\n",
       "      <td>NaN</td>\n",
       "      <td>13.0</td>\n",
       "    </tr>\n",
       "  </tbody>\n",
       "</table>\n",
       "<p>2881 rows × 3 columns</p>\n",
       "</div>"
      ],
      "text/plain": [
       "                     data0  data1  data2\n",
       "datetime                                \n",
       "2018-01-03 00:00:00   93.0    NaN   91.0\n",
       "2018-01-03 00:01:00    NaN    NaN    NaN\n",
       "2018-01-03 00:02:00    NaN   25.0    NaN\n",
       "2018-01-03 00:03:00    NaN    NaN    1.0\n",
       "2018-01-03 00:04:00    NaN    NaN    NaN\n",
       "...                    ...    ...    ...\n",
       "2018-01-04 23:56:00    NaN    NaN    NaN\n",
       "2018-01-04 23:57:00    NaN    NaN   38.0\n",
       "2018-01-04 23:58:00    NaN    NaN    NaN\n",
       "2018-01-04 23:59:00    NaN   74.0    NaN\n",
       "2018-01-05 00:00:00   38.0    NaN   13.0\n",
       "\n",
       "[2881 rows x 3 columns]"
      ]
     },
     "execution_count": 6,
     "metadata": {},
     "output_type": "execute_result"
    }
   ],
   "source": [
    "from KETIPrePartialDataPreprocessing.refinement.frequency import RefineFrequency\n",
    "sameFDataSet = RefineFrequency().get_RefinedDataSetwithStaticFreq(data_partial_numeric, GCDs)\n",
    "from KETIPreDataIntegration.meta import data_integration\n",
    "data_int = data_integration.DataIntegration(sameFDataSet)\n",
    "dintegrated_data = data_int.simple_integration(overlap_duration)\n",
    "dintegrated_data"
   ]
  },
  {
   "cell_type": "markdown",
   "metadata": {},
   "source": [
    "## 4. 이렇게 안해도 될 것 같지만 여튼 integer로 변환한 버젼"
   ]
  },
  {
   "cell_type": "code",
   "execution_count": 7,
   "metadata": {
    "ExecuteTime": {
     "end_time": "2022-05-03T05:34:47.839981Z",
     "start_time": "2022-05-03T05:34:47.798499Z"
    }
   },
   "outputs": [
    {
     "data": {
      "text/html": [
       "<div>\n",
       "<style scoped>\n",
       "    .dataframe tbody tr th:only-of-type {\n",
       "        vertical-align: middle;\n",
       "    }\n",
       "\n",
       "    .dataframe tbody tr th {\n",
       "        vertical-align: top;\n",
       "    }\n",
       "\n",
       "    .dataframe thead th {\n",
       "        text-align: right;\n",
       "    }\n",
       "</style>\n",
       "<table border=\"1\" class=\"dataframe\">\n",
       "  <thead>\n",
       "    <tr style=\"text-align: right;\">\n",
       "      <th></th>\n",
       "      <th>data0</th>\n",
       "      <th>data1</th>\n",
       "      <th>data2</th>\n",
       "    </tr>\n",
       "    <tr>\n",
       "      <th>datetime</th>\n",
       "      <th></th>\n",
       "      <th></th>\n",
       "      <th></th>\n",
       "    </tr>\n",
       "  </thead>\n",
       "  <tbody>\n",
       "    <tr>\n",
       "      <th>0</th>\n",
       "      <td>93.0</td>\n",
       "      <td>NaN</td>\n",
       "      <td>91.0</td>\n",
       "    </tr>\n",
       "    <tr>\n",
       "      <th>1</th>\n",
       "      <td>NaN</td>\n",
       "      <td>NaN</td>\n",
       "      <td>NaN</td>\n",
       "    </tr>\n",
       "    <tr>\n",
       "      <th>2</th>\n",
       "      <td>NaN</td>\n",
       "      <td>25.0</td>\n",
       "      <td>NaN</td>\n",
       "    </tr>\n",
       "    <tr>\n",
       "      <th>3</th>\n",
       "      <td>NaN</td>\n",
       "      <td>NaN</td>\n",
       "      <td>1.0</td>\n",
       "    </tr>\n",
       "    <tr>\n",
       "      <th>4</th>\n",
       "      <td>NaN</td>\n",
       "      <td>NaN</td>\n",
       "      <td>NaN</td>\n",
       "    </tr>\n",
       "    <tr>\n",
       "      <th>...</th>\n",
       "      <td>...</td>\n",
       "      <td>...</td>\n",
       "      <td>...</td>\n",
       "    </tr>\n",
       "    <tr>\n",
       "      <th>2876</th>\n",
       "      <td>NaN</td>\n",
       "      <td>NaN</td>\n",
       "      <td>NaN</td>\n",
       "    </tr>\n",
       "    <tr>\n",
       "      <th>2877</th>\n",
       "      <td>NaN</td>\n",
       "      <td>NaN</td>\n",
       "      <td>38.0</td>\n",
       "    </tr>\n",
       "    <tr>\n",
       "      <th>2878</th>\n",
       "      <td>NaN</td>\n",
       "      <td>NaN</td>\n",
       "      <td>NaN</td>\n",
       "    </tr>\n",
       "    <tr>\n",
       "      <th>2879</th>\n",
       "      <td>NaN</td>\n",
       "      <td>74.0</td>\n",
       "      <td>NaN</td>\n",
       "    </tr>\n",
       "    <tr>\n",
       "      <th>2880</th>\n",
       "      <td>38.0</td>\n",
       "      <td>NaN</td>\n",
       "      <td>13.0</td>\n",
       "    </tr>\n",
       "  </tbody>\n",
       "</table>\n",
       "<p>2881 rows × 3 columns</p>\n",
       "</div>"
      ],
      "text/plain": [
       "          data0  data1  data2\n",
       "datetime                     \n",
       "0          93.0    NaN   91.0\n",
       "1           NaN    NaN    NaN\n",
       "2           NaN   25.0    NaN\n",
       "3           NaN    NaN    1.0\n",
       "4           NaN    NaN    NaN\n",
       "...         ...    ...    ...\n",
       "2876        NaN    NaN    NaN\n",
       "2877        NaN    NaN   38.0\n",
       "2878        NaN    NaN    NaN\n",
       "2879        NaN   74.0    NaN\n",
       "2880       38.0    NaN   13.0\n",
       "\n",
       "[2881 rows x 3 columns]"
      ]
     },
     "execution_count": 7,
     "metadata": {},
     "output_type": "execute_result"
    }
   ],
   "source": [
    "new_dintegrated_data = dintegrated_data.copy()\n",
    "new_index = (pd.to_numeric(dintegrated_data.index)/1000000000/60).astype(int)\n",
    "new_index = new_index-new_index[0]\n",
    "new_dintegrated_data.index = new_index\n",
    "new_dintegrated_data"
   ]
  },
  {
   "cell_type": "markdown",
   "metadata": {},
   "source": [
    "## 5. 고려대 Alignment Test 1"
   ]
  },
  {
   "cell_type": "markdown",
   "metadata": {
    "ExecuteTime": {
     "end_time": "2022-04-29T01:48:56.469801Z",
     "start_time": "2022-04-29T01:48:56.466842Z"
    }
   },
   "source": [
    "### Parameter"
   ]
  },
  {
   "cell_type": "code",
   "execution_count": 8,
   "metadata": {
    "ExecuteTime": {
     "end_time": "2022-05-03T05:34:47.856489Z",
     "start_time": "2022-05-03T05:34:47.845827Z"
    }
   },
   "outputs": [],
   "source": [
    "integrationParam = {\n",
    "    \"model\": 'RNN_AE',\n",
    "    \"model_parameter\": {\n",
    "        \"window_size\": 10, # 모델의 input sequence 길이, int(default: 10, 범위: 0 이상 & 원래 데이터의 sequence 길이 이하)\n",
    "        \"emb_dim\": 2, # 변환할 데이터의 차원, int(범위: 16~256)\n",
    "        \"num_epochs\": 50, # 학습 epoch 횟수, int(범위: 1 이상, 수렴 여부 확인 후 적합하게 설정)\n",
    "        \"batch_size\": 128, # batch 크기, int(범위: 1 이상, 컴퓨터 사양에 적합하게 설정)\n",
    "        \"learning_rate\": 0.0001, # learning rate, float(default: 0.0001, 범위: 0.1 이하)\n",
    "        \"device\": 'cpu' # 학습 환경, [\"cuda\", \"cpu\"] 중 선택\n",
    "    }\n",
    "}"
   ]
  },
  {
   "cell_type": "markdown",
   "metadata": {},
   "source": [
    "### Test - getIntegratedDataSetByML 활용"
   ]
  },
  {
   "cell_type": "code",
   "execution_count": 9,
   "metadata": {
    "ExecuteTime": {
     "end_time": "2022-05-03T05:35:02.406504Z",
     "start_time": "2022-05-03T05:34:47.862728Z"
    }
   },
   "outputs": [
    {
     "name": "stderr",
     "output_type": "stream",
     "text": [
      "/home/hwangjisoo/바탕화면/Clust/KETIAppTestCode/../KETIPreDataIntegration/ML/RNN_AE/train_model.py:83: VisibleDeprecationWarning: Creating an ndarray from ragged nested sequences (which is a list-or-tuple of lists-or-tuples-or ndarrays with different lengths or shapes) is deprecated. If you meant to do this, you must specify 'dtype=object' when creating the ndarray.\n",
      "  result = np.concatenate(np.array(result), 0)\n"
     ]
    }
   ],
   "source": [
    "## 현재 \n",
    "from KETIPreDataIntegration.clustDataIntegration import ClustIntegration\n",
    "\n",
    "alignment_result = ClustIntegration().getIntegratedDataSetByML(sameFDataSet, integrationParam, overlap_duration)"
   ]
  },
  {
   "cell_type": "code",
   "execution_count": 10,
   "metadata": {
    "ExecuteTime": {
     "end_time": "2022-05-03T05:35:02.447088Z",
     "start_time": "2022-05-03T05:35:02.410686Z"
    }
   },
   "outputs": [
    {
     "data": {
      "text/html": [
       "<div>\n",
       "<style scoped>\n",
       "    .dataframe tbody tr th:only-of-type {\n",
       "        vertical-align: middle;\n",
       "    }\n",
       "\n",
       "    .dataframe tbody tr th {\n",
       "        vertical-align: top;\n",
       "    }\n",
       "\n",
       "    .dataframe thead th {\n",
       "        text-align: right;\n",
       "    }\n",
       "</style>\n",
       "<table border=\"1\" class=\"dataframe\">\n",
       "  <thead>\n",
       "    <tr style=\"text-align: right;\">\n",
       "      <th></th>\n",
       "      <th>concat_emb1</th>\n",
       "      <th>concat_emb2</th>\n",
       "    </tr>\n",
       "    <tr>\n",
       "      <th>datetime</th>\n",
       "      <th></th>\n",
       "      <th></th>\n",
       "    </tr>\n",
       "  </thead>\n",
       "  <tbody>\n",
       "    <tr>\n",
       "      <th>2018-01-03 00:10:00</th>\n",
       "      <td>0.113345</td>\n",
       "      <td>-0.091891</td>\n",
       "    </tr>\n",
       "    <tr>\n",
       "      <th>2018-01-03 00:11:00</th>\n",
       "      <td>0.150554</td>\n",
       "      <td>-0.136802</td>\n",
       "    </tr>\n",
       "    <tr>\n",
       "      <th>2018-01-03 00:12:00</th>\n",
       "      <td>0.149808</td>\n",
       "      <td>-0.129795</td>\n",
       "    </tr>\n",
       "    <tr>\n",
       "      <th>2018-01-03 00:13:00</th>\n",
       "      <td>0.189076</td>\n",
       "      <td>-0.110467</td>\n",
       "    </tr>\n",
       "    <tr>\n",
       "      <th>2018-01-03 00:14:00</th>\n",
       "      <td>0.182635</td>\n",
       "      <td>-0.130883</td>\n",
       "    </tr>\n",
       "    <tr>\n",
       "      <th>...</th>\n",
       "      <td>...</td>\n",
       "      <td>...</td>\n",
       "    </tr>\n",
       "    <tr>\n",
       "      <th>2018-01-04 23:56:00</th>\n",
       "      <td>0.147126</td>\n",
       "      <td>-0.119795</td>\n",
       "    </tr>\n",
       "    <tr>\n",
       "      <th>2018-01-04 23:57:00</th>\n",
       "      <td>0.146736</td>\n",
       "      <td>-0.120386</td>\n",
       "    </tr>\n",
       "    <tr>\n",
       "      <th>2018-01-04 23:58:00</th>\n",
       "      <td>0.192933</td>\n",
       "      <td>-0.100897</td>\n",
       "    </tr>\n",
       "    <tr>\n",
       "      <th>2018-01-04 23:59:00</th>\n",
       "      <td>0.178660</td>\n",
       "      <td>-0.127442</td>\n",
       "    </tr>\n",
       "    <tr>\n",
       "      <th>2018-01-05 00:00:00</th>\n",
       "      <td>0.090084</td>\n",
       "      <td>-0.104881</td>\n",
       "    </tr>\n",
       "  </tbody>\n",
       "</table>\n",
       "<p>2871 rows × 2 columns</p>\n",
       "</div>"
      ],
      "text/plain": [
       "                     concat_emb1  concat_emb2\n",
       "datetime                                     \n",
       "2018-01-03 00:10:00     0.113345    -0.091891\n",
       "2018-01-03 00:11:00     0.150554    -0.136802\n",
       "2018-01-03 00:12:00     0.149808    -0.129795\n",
       "2018-01-03 00:13:00     0.189076    -0.110467\n",
       "2018-01-03 00:14:00     0.182635    -0.130883\n",
       "...                          ...          ...\n",
       "2018-01-04 23:56:00     0.147126    -0.119795\n",
       "2018-01-04 23:57:00     0.146736    -0.120386\n",
       "2018-01-04 23:58:00     0.192933    -0.100897\n",
       "2018-01-04 23:59:00     0.178660    -0.127442\n",
       "2018-01-05 00:00:00     0.090084    -0.104881\n",
       "\n",
       "[2871 rows x 2 columns]"
      ]
     },
     "execution_count": 10,
     "metadata": {},
     "output_type": "execute_result"
    }
   ],
   "source": [
    "alignment_result"
   ]
  },
  {
   "cell_type": "code",
   "execution_count": 11,
   "metadata": {
    "ExecuteTime": {
     "end_time": "2022-05-03T05:35:03.663778Z",
     "start_time": "2022-05-03T05:35:02.450783Z"
    },
    "scrolled": true
   },
   "outputs": [
    {
     "data": {
      "text/plain": [
       "<AxesSubplot:xlabel='datetime'>"
      ]
     },
     "execution_count": 11,
     "metadata": {},
     "output_type": "execute_result"
    },
    {
     "data": {
      "image/png": "[encoded data removed]",
      "text/plain": [
       "<Figure size 432x288 with 1 Axes>"
      ]
     },
     "metadata": {
      "needs_background": "light"
     },
     "output_type": "display_data"
    }
   ],
   "source": [
    "alignment_result.concat_emb2.plot()"
   ]
  },
  {
   "cell_type": "markdown",
   "metadata": {},
   "source": [
    "# Data Integration2 - Input : DataInfo"
   ]
  },
  {
   "cell_type": "markdown",
   "metadata": {
    "ExecuteTime": {
     "end_time": "2022-04-25T05:49:20.328463Z",
     "start_time": "2022-04-25T05:49:20.325396Z"
    }
   },
   "source": [
    "## 고려대 Alignment Test 2"
   ]
  },
  {
   "cell_type": "markdown",
   "metadata": {},
   "source": [
    "### parameter"
   ]
  },
  {
   "cell_type": "code",
   "execution_count": 12,
   "metadata": {
    "ExecuteTime": {
     "end_time": "2022-05-03T05:35:03.678739Z",
     "start_time": "2022-05-03T05:35:03.669234Z"
    }
   },
   "outputs": [],
   "source": [
    "start_time = \"2021-03-10 00:00:00\"\n",
    "end_time = \"2021-04-01 00:00:00\"\n",
    "\n",
    "intDataInfo = { \"db_info\":[ { \"db_name\":\"air_indoor_어린이집\", \"measurement\":\"ICW0W2100043\", \"start\":start_time, \"end\":end_time },\n",
    "{ \"db_name\":\"air_indoor_체육시설\", \"measurement\":\"ICL1L2000064\", \"start\":start_time, \"end\":end_time}, \n",
    "{ \"db_name\":\"air_indoor_도서관\", \"measurement\":\"ICW0W2000087\", \"start\":start_time, \"end\":end_time }\n",
    "] }\n"
   ]
  },
  {
   "cell_type": "code",
   "execution_count": 13,
   "metadata": {
    "ExecuteTime": {
     "end_time": "2022-05-03T05:35:03.696178Z",
     "start_time": "2022-05-03T05:35:03.682060Z"
    }
   },
   "outputs": [],
   "source": [
    "refine_param = {\n",
    "    \"removeDuplication\":{\"flag\":False},\n",
    "    \"staticFrequency\":{\"flag\":True, \"frequency\":\"\"}\n",
    "}\n",
    "outlier_param  = {\n",
    "    \"certainErrorToNaN\":{\"flag\":False},\n",
    "    \"unCertainErrorToNaN\":{\n",
    "        \"flag\":False\n",
    "    }\n",
    "}\n",
    "imputation_param = {\n",
    "    \"serialImputation\":{\n",
    "        \"flag\":False\n",
    "    }\n",
    "}\n",
    "\n",
    "process_param = {'refine_param':refine_param, 'outlier_param':outlier_param, 'imputation_param':imputation_param}\n",
    "\n",
    "transformParam = {\n",
    "    \"model\": 'RNN_AE',\n",
    "    \"model_parameter\": {\n",
    "        \"window_size\": 10, # 모델의 input sequence 길이, int(default: 10, 범위: 0 이상 & 원래 데이터의 sequence 길이 이하)\n",
    "        \"emb_dim\": 5, # 변환할 데이터의 차원, int(범위: 16~256)\n",
    "        \"num_epochs\": 50, # 학습 epoch 횟수, int(범위: 1 이상, 수렴 여부 확인 후 적합하게 설정)\n",
    "        \"batch_size\": 128, # batch 크기, int(범위: 1 이상, 컴퓨터 사양에 적합하게 설정)\n",
    "        \"learning_rate\": 0.0001, # learning rate, float(default: 0.0001, 범위: 0.1 이하)\n",
    "        \"device\": 'cpu' # 학습 환경, [\"cuda\", \"cpu\"] 중 선택\n",
    "    }\n",
    "}\n",
    "\n",
    "integration_param = {\n",
    "    \"granularity_sec\":\"\",\n",
    "    \"transformParam\":transformParam,\n",
    "    \"method\":\"ML\"\n",
    "}"
   ]
  },
  {
   "cell_type": "code",
   "execution_count": 14,
   "metadata": {
    "ExecuteTime": {
     "end_time": "2022-05-03T05:35:03.713960Z",
     "start_time": "2022-05-03T05:35:03.701223Z"
    }
   },
   "outputs": [
    {
     "data": {
      "text/plain": [
       "{'granularity_sec': '',\n",
       " 'transformParam': {'model': 'RNN_AE',\n",
       "  'model_parameter': {'window_size': 10,\n",
       "   'emb_dim': 5,\n",
       "   'num_epochs': 50,\n",
       "   'batch_size': 128,\n",
       "   'learning_rate': 0.0001,\n",
       "   'device': 'cpu'}},\n",
       " 'method': 'ML'}"
      ]
     },
     "execution_count": 14,
     "metadata": {},
     "output_type": "execute_result"
    }
   ],
   "source": [
    "integration_param"
   ]
  },
  {
   "cell_type": "markdown",
   "metadata": {},
   "source": [
    "### Test - clustIntegrationFromInfluxSource 활용"
   ]
  },
  {
   "cell_type": "code",
   "execution_count": 15,
   "metadata": {
    "ExecuteTime": {
     "end_time": "2022-05-03T05:35:42.198917Z",
     "start_time": "2022-05-03T05:35:03.719107Z"
    },
    "scrolled": true
   },
   "outputs": [
    {
     "name": "stdout",
     "output_type": "stream",
     "text": [
      "IntType\n",
      "IntType\n",
      "IntType\n",
      "IntType\n",
      "IntType\n",
      "IntType\n",
      "IntType\n",
      "IntType\n",
      "IntType\n",
      "IntType\n",
      "IntType\n",
      "IntType\n",
      "IntType\n",
      "IntType\n",
      "IntType\n",
      "IntType\n",
      "IntType\n",
      "IntType\n",
      "IntType\n",
      "IntType\n",
      "IntType\n",
      "IntType\n",
      "IntType\n",
      "IntType\n",
      "IntType\n",
      "IntType\n",
      "IntType\n",
      "IntType\n",
      "IntType\n",
      "IntType\n",
      "IntType\n",
      "IntType\n",
      "IntType\n",
      "IntType\n",
      "IntType\n",
      "IntType\n",
      "IntType\n",
      "IntType\n",
      "IntType\n",
      "IntType\n",
      "IntType\n",
      "IntType\n",
      "IntType\n",
      "IntType\n",
      "IntType\n",
      "IntType\n",
      "IntType\n",
      "IntType\n",
      "IntType\n",
      "IntType\n",
      "IntType\n",
      "IntType\n",
      "IntType\n",
      "IntType\n",
      "IntType\n",
      "IntType\n",
      "IntType\n",
      "IntType\n",
      "IntType\n",
      "IntType\n",
      "[60, 60, 60]\n",
      "self.refine_param ::  {'removeDuplication': {'flag': False}, 'staticFrequency': {'flag': True, 'frequency': '60S'}}\n",
      "Refining-----End\n",
      "OutlierProcessing-----End\n",
      "Imputation-----End\n",
      "Refining-----End\n",
      "OutlierProcessing-----End\n",
      "Imputation-----End\n",
      "Refining-----End\n",
      "OutlierProcessing-----End\n",
      "Imputation-----End\n"
     ]
    },
    {
     "name": "stderr",
     "output_type": "stream",
     "text": [
      "/home/hwangjisoo/바탕화면/Clust/KETIAppTestCode/../KETIPreDataIntegration/ML/RNN_AE/train_model.py:83: VisibleDeprecationWarning: Creating an ndarray from ragged nested sequences (which is a list-or-tuple of lists-or-tuples-or ndarrays with different lengths or shapes) is deprecated. If you meant to do this, you must specify 'dtype=object' when creating the ndarray.\n",
      "  result = np.concatenate(np.array(result), 0)\n"
     ]
    }
   ],
   "source": [
    "from KETIPreDataIntegration.clustDataIntegration import ClustIntegration\n",
    "\n",
    "dataSet = ClustIntegration().clustIntegrationFromInfluxSource(db_client, intDataInfo, process_param, integration_param )"
   ]
  },
  {
   "cell_type": "code",
   "execution_count": 16,
   "metadata": {
    "ExecuteTime": {
     "end_time": "2022-05-03T05:35:42.212059Z",
     "start_time": "2022-05-03T05:35:42.200280Z"
    }
   },
   "outputs": [
    {
     "data": {
      "text/html": [
       "<div>\n",
       "<style scoped>\n",
       "    .dataframe tbody tr th:only-of-type {\n",
       "        vertical-align: middle;\n",
       "    }\n",
       "\n",
       "    .dataframe tbody tr th {\n",
       "        vertical-align: top;\n",
       "    }\n",
       "\n",
       "    .dataframe thead th {\n",
       "        text-align: right;\n",
       "    }\n",
       "</style>\n",
       "<table border=\"1\" class=\"dataframe\">\n",
       "  <thead>\n",
       "    <tr style=\"text-align: right;\">\n",
       "      <th></th>\n",
       "      <th>concat_emb1</th>\n",
       "      <th>concat_emb2</th>\n",
       "      <th>concat_emb3</th>\n",
       "      <th>concat_emb4</th>\n",
       "      <th>concat_emb5</th>\n",
       "    </tr>\n",
       "    <tr>\n",
       "      <th>datetime</th>\n",
       "      <th></th>\n",
       "      <th></th>\n",
       "      <th></th>\n",
       "      <th></th>\n",
       "      <th></th>\n",
       "    </tr>\n",
       "  </thead>\n",
       "  <tbody>\n",
       "    <tr>\n",
       "      <th>2021-03-26 09:08:00+00:00</th>\n",
       "      <td>-0.333563</td>\n",
       "      <td>0.083309</td>\n",
       "      <td>0.051008</td>\n",
       "      <td>0.158942</td>\n",
       "      <td>-0.262348</td>\n",
       "    </tr>\n",
       "    <tr>\n",
       "      <th>2021-03-26 09:09:00+00:00</th>\n",
       "      <td>-0.337051</td>\n",
       "      <td>0.083893</td>\n",
       "      <td>0.051302</td>\n",
       "      <td>0.159747</td>\n",
       "      <td>-0.262985</td>\n",
       "    </tr>\n",
       "    <tr>\n",
       "      <th>2021-03-26 09:10:00+00:00</th>\n",
       "      <td>-0.338872</td>\n",
       "      <td>0.084156</td>\n",
       "      <td>0.051389</td>\n",
       "      <td>0.160297</td>\n",
       "      <td>-0.262898</td>\n",
       "    </tr>\n",
       "    <tr>\n",
       "      <th>2021-03-26 09:11:00+00:00</th>\n",
       "      <td>-0.339871</td>\n",
       "      <td>0.084248</td>\n",
       "      <td>0.051410</td>\n",
       "      <td>0.160542</td>\n",
       "      <td>-0.262696</td>\n",
       "    </tr>\n",
       "    <tr>\n",
       "      <th>2021-03-26 09:12:00+00:00</th>\n",
       "      <td>-0.341310</td>\n",
       "      <td>0.084208</td>\n",
       "      <td>0.051304</td>\n",
       "      <td>0.159232</td>\n",
       "      <td>-0.263412</td>\n",
       "    </tr>\n",
       "    <tr>\n",
       "      <th>...</th>\n",
       "      <td>...</td>\n",
       "      <td>...</td>\n",
       "      <td>...</td>\n",
       "      <td>...</td>\n",
       "      <td>...</td>\n",
       "    </tr>\n",
       "    <tr>\n",
       "      <th>2021-03-31 18:22:00+00:00</th>\n",
       "      <td>-0.055302</td>\n",
       "      <td>0.182773</td>\n",
       "      <td>-0.097824</td>\n",
       "      <td>0.110691</td>\n",
       "      <td>-0.209693</td>\n",
       "    </tr>\n",
       "    <tr>\n",
       "      <th>2021-03-31 18:23:00+00:00</th>\n",
       "      <td>-0.054519</td>\n",
       "      <td>0.182695</td>\n",
       "      <td>-0.098444</td>\n",
       "      <td>0.110697</td>\n",
       "      <td>-0.211661</td>\n",
       "    </tr>\n",
       "    <tr>\n",
       "      <th>2021-03-31 18:24:00+00:00</th>\n",
       "      <td>-0.054112</td>\n",
       "      <td>0.182652</td>\n",
       "      <td>-0.098754</td>\n",
       "      <td>0.110718</td>\n",
       "      <td>-0.212927</td>\n",
       "    </tr>\n",
       "    <tr>\n",
       "      <th>2021-03-31 18:25:00+00:00</th>\n",
       "      <td>-0.053881</td>\n",
       "      <td>0.182632</td>\n",
       "      <td>-0.098907</td>\n",
       "      <td>0.110736</td>\n",
       "      <td>-0.213778</td>\n",
       "    </tr>\n",
       "    <tr>\n",
       "      <th>2021-03-31 18:26:00+00:00</th>\n",
       "      <td>-0.053673</td>\n",
       "      <td>0.182619</td>\n",
       "      <td>-0.099039</td>\n",
       "      <td>0.110757</td>\n",
       "      <td>-0.214603</td>\n",
       "    </tr>\n",
       "  </tbody>\n",
       "</table>\n",
       "<p>7759 rows × 5 columns</p>\n",
       "</div>"
      ],
      "text/plain": [
       "                           concat_emb1  concat_emb2  concat_emb3  concat_emb4  \\\n",
       "datetime                                                                        \n",
       "2021-03-26 09:08:00+00:00    -0.333563     0.083309     0.051008     0.158942   \n",
       "2021-03-26 09:09:00+00:00    -0.337051     0.083893     0.051302     0.159747   \n",
       "2021-03-26 09:10:00+00:00    -0.338872     0.084156     0.051389     0.160297   \n",
       "2021-03-26 09:11:00+00:00    -0.339871     0.084248     0.051410     0.160542   \n",
       "2021-03-26 09:12:00+00:00    -0.341310     0.084208     0.051304     0.159232   \n",
       "...                                ...          ...          ...          ...   \n",
       "2021-03-31 18:22:00+00:00    -0.055302     0.182773    -0.097824     0.110691   \n",
       "2021-03-31 18:23:00+00:00    -0.054519     0.182695    -0.098444     0.110697   \n",
       "2021-03-31 18:24:00+00:00    -0.054112     0.182652    -0.098754     0.110718   \n",
       "2021-03-31 18:25:00+00:00    -0.053881     0.182632    -0.098907     0.110736   \n",
       "2021-03-31 18:26:00+00:00    -0.053673     0.182619    -0.099039     0.110757   \n",
       "\n",
       "                           concat_emb5  \n",
       "datetime                                \n",
       "2021-03-26 09:08:00+00:00    -0.262348  \n",
       "2021-03-26 09:09:00+00:00    -0.262985  \n",
       "2021-03-26 09:10:00+00:00    -0.262898  \n",
       "2021-03-26 09:11:00+00:00    -0.262696  \n",
       "2021-03-26 09:12:00+00:00    -0.263412  \n",
       "...                                ...  \n",
       "2021-03-31 18:22:00+00:00    -0.209693  \n",
       "2021-03-31 18:23:00+00:00    -0.211661  \n",
       "2021-03-31 18:24:00+00:00    -0.212927  \n",
       "2021-03-31 18:25:00+00:00    -0.213778  \n",
       "2021-03-31 18:26:00+00:00    -0.214603  \n",
       "\n",
       "[7759 rows x 5 columns]"
      ]
     },
     "execution_count": 16,
     "metadata": {},
     "output_type": "execute_result"
    }
   ],
   "source": [
    "dataSet"
   ]
  },
  {
   "cell_type": "code",
   "execution_count": null,
   "metadata": {},
   "outputs": [],
   "source": []
  },
  {
   "cell_type": "code",
   "execution_count": null,
   "metadata": {},
   "outputs": [],
   "source": []
  },
  {
   "cell_type": "code",
   "execution_count": null,
   "metadata": {},
   "outputs": [],
   "source": []
  },
  {
   "cell_type": "code",
   "execution_count": null,
   "metadata": {},
   "outputs": [],
   "source": []
  },
  {
   "cell_type": "code",
   "execution_count": null,
   "metadata": {},
   "outputs": [],
   "source": []
  },
  {
   "cell_type": "code",
   "execution_count": null,
   "metadata": {},
   "outputs": [],
   "source": []
  },
  {
   "cell_type": "code",
   "execution_count": null,
   "metadata": {},
   "outputs": [],
   "source": []
  },
  {
   "cell_type": "code",
   "execution_count": null,
   "metadata": {},
   "outputs": [],
   "source": []
  }
 ],
 "metadata": {
  "hide_input": false,
  "kernelspec": {
   "display_name": "Python 3.8.13 ('torch')",
   "language": "python",
   "name": "python3"
  },
  "language_info": {
   "codemirror_mode": {
    "name": "ipython",
    "version": 3
   },
   "file_extension": ".py",
   "mimetype": "text/x-python",
   "name": "python",
   "nbconvert_exporter": "python",
   "pygments_lexer": "ipython3",
   "version": "3.8.13"
  },
  "toc": {
   "base_numbering": 1,
   "nav_menu": {},
   "number_sections": true,
   "sideBar": true,
   "skip_h1_title": false,
   "title_cell": "Table of Contents",
   "title_sidebar": "Contents",
   "toc_cell": false,
   "toc_position": {
    "height": "calc(100% - 180px)",
    "left": "10px",
    "top": "150px",
    "width": "295.825px"
   },
   "toc_section_display": true,
   "toc_window_display": true
  },
  "varInspector": {
   "cols": {
    "lenName": 16,
    "lenType": 16,
    "lenVar": 40
   },
   "kernels_config": {
    "python": {
     "delete_cmd_postfix": "",
     "delete_cmd_prefix": "del ",
     "library": "var_list.py",
     "varRefreshCmd": "print(var_dic_list())"
    },
    "r": {
     "delete_cmd_postfix": ") ",
     "delete_cmd_prefix": "rm(",
     "library": "var_list.r",
     "varRefreshCmd": "cat(var_dic_list()) "
    }
   },
   "position": {
    "height": "296.484px",
    "left": "1145px",
    "right": "20px",
    "top": "120px",
    "width": "302.5px"
   },
   "types_to_exclude": [
    "module",
    "function",
    "builtin_function_or_method",
    "instance",
    "_Feature"
   ],
   "window_display": false
  },
  "vscode": {
   "interpreter": {
    "hash": "f1ef7e1f828dbb4e75f421045d2c565197efaf8469a0be4a314c6ea8378b5cb2"
   }
  }
 },
 "nbformat": 4,
 "nbformat_minor": 4
}
