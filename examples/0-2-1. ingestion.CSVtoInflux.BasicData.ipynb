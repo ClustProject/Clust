{
 "cells": [
  {
   "cell_type": "markdown",
   "id": "f24c40c8",
   "metadata": {
    "toc": true
   },
   "source": [
    "<h1>Table of Contents<span class=\"tocSkip\"></span></h1>\n",
    "<div class=\"toc\"><ul class=\"toc-item\"><li><span><a href=\"#Import\" data-toc-modified-id=\"Import-1\"><span class=\"toc-item-num\">1&nbsp;&nbsp;</span>Import</a></span></li><li><span><a href=\"#1.-Setting-Parameter\" data-toc-modified-id=\"1.-Setting-Parameter-2\"><span class=\"toc-item-num\">2&nbsp;&nbsp;</span>1. Setting Parameter</a></span></li><li><span><a href=\"#2.-Data-Collect\" data-toc-modified-id=\"2.-Data-Collect-3\"><span class=\"toc-item-num\">3&nbsp;&nbsp;</span>2. Data Collect</a></span></li><li><span><a href=\"#3.-Example-Input-Data\" data-toc-modified-id=\"3.-Example-Input-Data-4\"><span class=\"toc-item-num\">4&nbsp;&nbsp;</span>3. Example Input Data</a></span></li><li><span><a href=\"#4.-Example-Save-Data\" data-toc-modified-id=\"4.-Example-Save-Data-5\"><span class=\"toc-item-num\">5&nbsp;&nbsp;</span>4. Example Save Data</a></span></li></ul></div>"
   ]
  },
  {
   "cell_type": "markdown",
   "id": "439b0069",
   "metadata": {},
   "source": [
    "##### CSV 타입의 BasicData를 업로드하는 Test Code\n",
    "\n",
    "----------\n",
    "- CSV 형태의 데이터파일 업로드 Test Code\n",
    "- CSV Data Upload 방식에는 4가지 타입이 존재\n",
    "    1. **Basic : 원 데이터를 변형 없이 그대로 업로드하거나 컬럼을 삭제 및 이름 변경 후 업로드하는 방법**\n",
    "    2. Selected Data : 원 데이터에서 특정 컬럼이 특정 조건을 만족하는 데이터만을 선택하여 업로드하는 방식 (1번 타입의 방법 기능을 포함)\n",
    "        - 특정 조건 종류\n",
    "            - Equal/Above/Below/Exceeded/Less than/Exception\n",
    "    3. TimeDuplication Data : 시간정보가 중복되어 정보가 수집된 데이터로 중복된 시간을 처리하여 업로드하는 방법 (1,2번 타입의 방법 기능을 포함)\n",
    "        - 중복 처리 방법\n",
    "            -Remove/Sum/Average/Max/Min\n",
    "    4. Folder Data (highCapacity) : 하나의 폴더안에 여러개의 데이터가 저장되어 있으며 폴더로 데이터를 업로드하는 방법 (대용량 업로드/1,2번 타입의 기능을 포함)"
   ]
  },
  {
   "cell_type": "markdown",
   "id": "649bdd80",
   "metadata": {},
   "source": [
    "# Import"
   ]
  },
  {
   "cell_type": "code",
   "execution_count": 1,
   "id": "6de0fbef",
   "metadata": {
    "ExecuteTime": {
     "end_time": "2022-07-06T02:39:56.401957Z",
     "start_time": "2022-07-06T02:39:55.919851Z"
    }
   },
   "outputs": [],
   "source": [
    "import pandas as pd\n",
    "import os\n",
    "import sys\n",
    "\n",
    "sys.path.append(\"../\")\n",
    "sys.path.append(\"../..\")\n",
    "\n",
    "from Clust.setting.influx_setting_KETI import CLUSTDataServer2 as ins\n",
    "from clust.ingestion.influx import influx_Client_v2 as iC\n",
    "\n",
    "import clust.ingestion.CSVtoInflux.csvCollector as cC"
   ]
  },
  {
   "cell_type": "markdown",
   "id": "39f7eb71",
   "metadata": {},
   "source": [
    "# 1. Setting Parameter"
   ]
  },
  {
   "cell_type": "markdown",
   "id": "5612cfa8",
   "metadata": {},
   "source": [
    "\n",
    "- parameter 는 KETIPreDataCollection.collectorParameter 의 parameter 로 호출 가능\n",
    "```\n",
    "###예시###\n",
    "import KETIPreDataCollection.collectorParameter as cP\n",
    "cP.parameter\n",
    "```"
   ]
  },
  {
   "cell_type": "code",
   "execution_count": 2,
   "id": "2ab862dd",
   "metadata": {
    "ExecuteTime": {
     "end_time": "2022-07-06T02:39:56.405638Z",
     "start_time": "2022-07-06T02:39:56.403454Z"
    }
   },
   "outputs": [],
   "source": [
    "####### db connection parameter\n",
    "db_client = iC.influxClient(ins)"
   ]
  },
  {
   "cell_type": "code",
   "execution_count": 3,
   "id": "f811da62",
   "metadata": {
    "ExecuteTime": {
     "end_time": "2022-07-06T02:39:56.408696Z",
     "start_time": "2022-07-06T02:39:56.406782Z"
    }
   },
   "outputs": [],
   "source": [
    "####### Folder / File 업로드 방식 고르시\n",
    "upload_type_list = [\"File\", \"Folder\"]\n",
    "upload_type = upload_type_list[0]"
   ]
  },
  {
   "cell_type": "code",
   "execution_count": 4,
   "id": "ec769037",
   "metadata": {
    "ExecuteTime": {
     "end_time": "2022-07-06T02:39:56.414477Z",
     "start_time": "2022-07-06T02:39:56.410269Z"
    }
   },
   "outputs": [],
   "source": [
    "####### read&clean type 고르기 parameter\n",
    "data_read_type_list = [\"basic\", \"selectedData\", \"highCapacity\"]\n",
    "data_read_type = data_read_type_list[0]"
   ]
  },
  {
   "cell_type": "code",
   "execution_count": 5,
   "id": "fa06aa58",
   "metadata": {
    "ExecuteTime": {
     "end_time": "2022-07-06T02:39:56.419254Z",
     "start_time": "2022-07-06T02:39:56.417080Z"
    }
   },
   "outputs": [],
   "source": [
    "####### 기본 Data 관련 저장에 필요한 정보 기입\n",
    "db_name = \"test_data_type1\"\n",
    "ms_name = \"test1\"\n",
    "path = \"./exampleData/Type1_BasicData.csv\"\n",
    "encoding = \"utf-8\""
   ]
  },
  {
   "cell_type": "code",
   "execution_count": 6,
   "id": "b349feb5",
   "metadata": {
    "ExecuteTime": {
     "end_time": "2022-07-06T02:39:56.422613Z",
     "start_time": "2022-07-06T02:39:56.420769Z"
    }
   },
   "outputs": [],
   "source": [
    "####### 저장될 데이터의 시간 스템프로 지정될 column 을 기입하는 parameter\n",
    "time_column = \"자치구 기준일\""
   ]
  },
  {
   "cell_type": "code",
   "execution_count": 7,
   "id": "7beba234",
   "metadata": {
    "ExecuteTime": {
     "end_time": "2022-07-06T02:39:56.425245Z",
     "start_time": "2022-07-06T02:39:56.423560Z"
    }
   },
   "outputs": [],
   "source": [
    "####### clean type 에 따라 data read type의 parameter 가 달라짐\n",
    "selected_datas = None"
   ]
  },
  {
   "cell_type": "code",
   "execution_count": 8,
   "id": "5f53fbb1",
   "metadata": {
    "ExecuteTime": {
     "end_time": "2022-07-06T02:39:56.429846Z",
     "start_time": "2022-07-06T02:39:56.426703Z"
    }
   },
   "outputs": [],
   "source": [
    "####### 저장하는 column 선택하는 parameter\n",
    "selected_columns = [{\"Selected_columns\":['종로구 전체', '종로구 추가']},\n",
    "                    {\"Rename_columns\":['jongno1', 'jongno2']}]"
   ]
  },
  {
   "cell_type": "code",
   "execution_count": 9,
   "id": "90e2de61",
   "metadata": {
    "ExecuteTime": {
     "end_time": "2022-07-06T02:39:56.433332Z",
     "start_time": "2022-07-06T02:39:56.430972Z"
    }
   },
   "outputs": [],
   "source": [
    "####### duplicated time column processing method 정하는 parameter\n",
    "dtcpm = None"
   ]
  },
  {
   "cell_type": "code",
   "execution_count": null,
   "id": "10ee56e2",
   "metadata": {},
   "outputs": [],
   "source": [
    "####### 저장 데이터의 field type 지정하는 parameter\n",
    "field_type = \"float\""
   ]
  },
  {
   "cell_type": "code",
   "execution_count": 10,
   "id": "72a52696",
   "metadata": {
    "ExecuteTime": {
     "end_time": "2022-07-06T02:39:56.439352Z",
     "start_time": "2022-07-06T02:39:56.435648Z"
    }
   },
   "outputs": [
    {
     "name": "stdout",
     "output_type": "stream",
     "text": [
      "parameter success\n"
     ]
    }
   ],
   "source": [
    "####### 최종 Parameter\n",
    "parameter = {\n",
    "    \"uploadType\" : upload_type,\n",
    "    \"dataReadType\" : data_read_type,\n",
    "    \"dbName\" : db_name,\n",
    "    \"msName\" : ms_name,\n",
    "    \"filePath\" : path,\n",
    "    \"selectedDatas\" : selected_datas, # data read type 이 selectedData 인 경우 필요한 param\n",
    "    \"timeColumnName\" : time_column,\n",
    "    \"selectedColumns\" : selected_columns,\n",
    "    \"duplicatedTimeColumnProcessingMethod\" : dtcpm,\n",
    "    \"encoding\" : encoding,\n",
    "    \"fieldType\" : field_type # int / string\n",
    "}\n",
    "print(\"parameter success\")"
   ]
  },
  {
   "cell_type": "markdown",
   "id": "1d367021",
   "metadata": {},
   "source": [
    "# 2. Data Collect"
   ]
  },
  {
   "cell_type": "code",
   "execution_count": 12,
   "id": "c453016c",
   "metadata": {
    "ExecuteTime": {
     "end_time": "2022-07-06T02:39:56.585292Z",
     "start_time": "2022-07-06T02:39:56.440382Z"
    }
   },
   "outputs": [
    {
     "name": "stdout",
     "output_type": "stream",
     "text": [
      "===========data clean success===========\n",
      "Writing Data ...\n",
      "=========== ms name : test1 ===========\n",
      "                     jongno1  jongno2\n",
      "time                                 \n",
      "2020-02-29 10:00:00     11.0      0.0\n",
      "2020-02-28 10:00:00     11.0      0.0\n",
      "========== create bucket ==========\n",
      "========== write success ==========\n"
     ]
    }
   ],
   "source": [
    "csv_collector = cC.Collector(parameter, db_client)\n",
    "csv_collector.collect()"
   ]
  },
  {
   "cell_type": "markdown",
   "id": "a3eb778c",
   "metadata": {},
   "source": [
    "# 3. Example Input Data"
   ]
  },
  {
   "cell_type": "code",
   "execution_count": 17,
   "id": "24e85dd8",
   "metadata": {
    "ExecuteTime": {
     "end_time": "2022-07-06T02:39:56.600633Z",
     "start_time": "2022-07-06T02:39:56.587640Z"
    }
   },
   "outputs": [],
   "source": [
    "ex_data = pd.read_csv(path)"
   ]
  },
  {
   "cell_type": "code",
   "execution_count": 18,
   "id": "d7370638",
   "metadata": {
    "ExecuteTime": {
     "end_time": "2022-07-06T02:39:56.651578Z",
     "start_time": "2022-07-06T02:39:56.601914Z"
    }
   },
   "outputs": [
    {
     "data": {
      "text/html": [
       "<div>\n",
       "<style scoped>\n",
       "    .dataframe tbody tr th:only-of-type {\n",
       "        vertical-align: middle;\n",
       "    }\n",
       "\n",
       "    .dataframe tbody tr th {\n",
       "        vertical-align: top;\n",
       "    }\n",
       "\n",
       "    .dataframe thead th {\n",
       "        text-align: right;\n",
       "    }\n",
       "</style>\n",
       "<table border=\"1\" class=\"dataframe\">\n",
       "  <thead>\n",
       "    <tr style=\"text-align: right;\">\n",
       "      <th></th>\n",
       "      <th>자치구 기준일</th>\n",
       "      <th>종로구 전체</th>\n",
       "      <th>종로구 추가</th>\n",
       "      <th>중구 전체</th>\n",
       "      <th>중구 추가</th>\n",
       "      <th>용산구 전체</th>\n",
       "      <th>용산구 추가</th>\n",
       "      <th>성동구 전체</th>\n",
       "      <th>성동구 추가</th>\n",
       "      <th>광진구 전체</th>\n",
       "      <th>...</th>\n",
       "      <th>서추구 추가</th>\n",
       "      <th>강남구 전체</th>\n",
       "      <th>강남구 추가</th>\n",
       "      <th>송파구 전체</th>\n",
       "      <th>송파구 추가</th>\n",
       "      <th>강동구 전체</th>\n",
       "      <th>강동구 추가</th>\n",
       "      <th>기타 전체</th>\n",
       "      <th>기타 추가</th>\n",
       "      <th>수집일</th>\n",
       "    </tr>\n",
       "  </thead>\n",
       "  <tbody>\n",
       "    <tr>\n",
       "      <th>0</th>\n",
       "      <td>2021.05.21.00</td>\n",
       "      <td>737.0</td>\n",
       "      <td>0.0</td>\n",
       "      <td>646.0</td>\n",
       "      <td>1.0</td>\n",
       "      <td>1092.0</td>\n",
       "      <td>5.0</td>\n",
       "      <td>1142.0</td>\n",
       "      <td>4.0</td>\n",
       "      <td>1363.0</td>\n",
       "      <td>...</td>\n",
       "      <td>3.0</td>\n",
       "      <td>2320.0</td>\n",
       "      <td>12.0</td>\n",
       "      <td>2405.0</td>\n",
       "      <td>20.0</td>\n",
       "      <td>1624.0</td>\n",
       "      <td>10.0</td>\n",
       "      <td>4057.0</td>\n",
       "      <td>8.0</td>\n",
       "      <td>11:39.0</td>\n",
       "    </tr>\n",
       "    <tr>\n",
       "      <th>1</th>\n",
       "      <td>2021.05.20.00</td>\n",
       "      <td>737.0</td>\n",
       "      <td>3.0</td>\n",
       "      <td>645.0</td>\n",
       "      <td>4.0</td>\n",
       "      <td>1087.0</td>\n",
       "      <td>3.0</td>\n",
       "      <td>1138.0</td>\n",
       "      <td>5.0</td>\n",
       "      <td>1354.0</td>\n",
       "      <td>...</td>\n",
       "      <td>6.0</td>\n",
       "      <td>2308.0</td>\n",
       "      <td>25.0</td>\n",
       "      <td>2384.0</td>\n",
       "      <td>24.0</td>\n",
       "      <td>1614.0</td>\n",
       "      <td>13.0</td>\n",
       "      <td>4049.0</td>\n",
       "      <td>5.0</td>\n",
       "      <td>11:40.0</td>\n",
       "    </tr>\n",
       "    <tr>\n",
       "      <th>2</th>\n",
       "      <td>2021.05.19.00</td>\n",
       "      <td>734.0</td>\n",
       "      <td>6.0</td>\n",
       "      <td>641.0</td>\n",
       "      <td>5.0</td>\n",
       "      <td>1084.0</td>\n",
       "      <td>3.0</td>\n",
       "      <td>1133.0</td>\n",
       "      <td>5.0</td>\n",
       "      <td>1347.0</td>\n",
       "      <td>...</td>\n",
       "      <td>9.0</td>\n",
       "      <td>2283.0</td>\n",
       "      <td>32.0</td>\n",
       "      <td>2360.0</td>\n",
       "      <td>17.0</td>\n",
       "      <td>1601.0</td>\n",
       "      <td>13.0</td>\n",
       "      <td>4044.0</td>\n",
       "      <td>12.0</td>\n",
       "      <td>11:39.0</td>\n",
       "    </tr>\n",
       "    <tr>\n",
       "      <th>3</th>\n",
       "      <td>2021.05.18.00</td>\n",
       "      <td>728.0</td>\n",
       "      <td>4.0</td>\n",
       "      <td>637.0</td>\n",
       "      <td>2.0</td>\n",
       "      <td>1081.0</td>\n",
       "      <td>4.0</td>\n",
       "      <td>1128.0</td>\n",
       "      <td>2.0</td>\n",
       "      <td>1342.0</td>\n",
       "      <td>...</td>\n",
       "      <td>6.0</td>\n",
       "      <td>2251.0</td>\n",
       "      <td>15.0</td>\n",
       "      <td>2343.0</td>\n",
       "      <td>12.0</td>\n",
       "      <td>1588.0</td>\n",
       "      <td>12.0</td>\n",
       "      <td>4030.0</td>\n",
       "      <td>9.0</td>\n",
       "      <td>11:39.0</td>\n",
       "    </tr>\n",
       "    <tr>\n",
       "      <th>4</th>\n",
       "      <td>2021.05.17.00</td>\n",
       "      <td>724.0</td>\n",
       "      <td>2.0</td>\n",
       "      <td>635.0</td>\n",
       "      <td>1.0</td>\n",
       "      <td>1077.0</td>\n",
       "      <td>2.0</td>\n",
       "      <td>1126.0</td>\n",
       "      <td>6.0</td>\n",
       "      <td>1333.0</td>\n",
       "      <td>...</td>\n",
       "      <td>3.0</td>\n",
       "      <td>2235.0</td>\n",
       "      <td>13.0</td>\n",
       "      <td>2332.0</td>\n",
       "      <td>12.0</td>\n",
       "      <td>1576.0</td>\n",
       "      <td>17.0</td>\n",
       "      <td>4021.0</td>\n",
       "      <td>2.0</td>\n",
       "      <td>11:39.0</td>\n",
       "    </tr>\n",
       "  </tbody>\n",
       "</table>\n",
       "<p>5 rows × 54 columns</p>\n",
       "</div>"
      ],
      "text/plain": [
       "         자치구 기준일  종로구 전체  종로구 추가  중구 전체  중구 추가  용산구 전체  용산구 추가  성동구 전체  \\\n",
       "0  2021.05.21.00   737.0     0.0  646.0    1.0  1092.0     5.0  1142.0   \n",
       "1  2021.05.20.00   737.0     3.0  645.0    4.0  1087.0     3.0  1138.0   \n",
       "2  2021.05.19.00   734.0     6.0  641.0    5.0  1084.0     3.0  1133.0   \n",
       "3  2021.05.18.00   728.0     4.0  637.0    2.0  1081.0     4.0  1128.0   \n",
       "4  2021.05.17.00   724.0     2.0  635.0    1.0  1077.0     2.0  1126.0   \n",
       "\n",
       "   성동구 추가  광진구 전체  ...  서추구 추가  강남구 전체  강남구 추가  송파구 전체  송파구 추가  강동구 전체  \\\n",
       "0     4.0  1363.0  ...     3.0  2320.0    12.0  2405.0    20.0  1624.0   \n",
       "1     5.0  1354.0  ...     6.0  2308.0    25.0  2384.0    24.0  1614.0   \n",
       "2     5.0  1347.0  ...     9.0  2283.0    32.0  2360.0    17.0  1601.0   \n",
       "3     2.0  1342.0  ...     6.0  2251.0    15.0  2343.0    12.0  1588.0   \n",
       "4     6.0  1333.0  ...     3.0  2235.0    13.0  2332.0    12.0  1576.0   \n",
       "\n",
       "   강동구 추가   기타 전체  기타 추가      수집일  \n",
       "0    10.0  4057.0    8.0  11:39.0  \n",
       "1    13.0  4049.0    5.0  11:40.0  \n",
       "2    13.0  4044.0   12.0  11:39.0  \n",
       "3    12.0  4030.0    9.0  11:39.0  \n",
       "4    17.0  4021.0    2.0  11:39.0  \n",
       "\n",
       "[5 rows x 54 columns]"
      ]
     },
     "execution_count": 18,
     "metadata": {},
     "output_type": "execute_result"
    }
   ],
   "source": [
    "ex_data.head()"
   ]
  },
  {
   "cell_type": "markdown",
   "id": "00d5a5dc",
   "metadata": {},
   "source": [
    "# 4. Example Save Data "
   ]
  },
  {
   "cell_type": "code",
   "execution_count": 15,
   "id": "c28c17ff",
   "metadata": {
    "ExecuteTime": {
     "end_time": "2022-07-06T02:39:56.789059Z",
     "start_time": "2022-07-06T02:39:56.654717Z"
    }
   },
   "outputs": [],
   "source": [
    "db_client = iC.influxClient(ins)\n",
    "save_data = db_client.get_data(db_name, ms_name)"
   ]
  },
  {
   "cell_type": "code",
   "execution_count": 16,
   "id": "a636ae76",
   "metadata": {
    "ExecuteTime": {
     "end_time": "2022-07-06T02:39:56.810571Z",
     "start_time": "2022-07-06T02:39:56.791732Z"
    }
   },
   "outputs": [
    {
     "data": {
      "text/html": [
       "<div>\n",
       "<style scoped>\n",
       "    .dataframe tbody tr th:only-of-type {\n",
       "        vertical-align: middle;\n",
       "    }\n",
       "\n",
       "    .dataframe tbody tr th {\n",
       "        vertical-align: top;\n",
       "    }\n",
       "\n",
       "    .dataframe thead th {\n",
       "        text-align: right;\n",
       "    }\n",
       "</style>\n",
       "<table border=\"1\" class=\"dataframe\">\n",
       "  <thead>\n",
       "    <tr style=\"text-align: right;\">\n",
       "      <th></th>\n",
       "      <th>jongno1</th>\n",
       "      <th>jongno2</th>\n",
       "    </tr>\n",
       "    <tr>\n",
       "      <th>time</th>\n",
       "      <th></th>\n",
       "      <th></th>\n",
       "    </tr>\n",
       "  </thead>\n",
       "  <tbody>\n",
       "    <tr>\n",
       "      <th>2020-02-28 10:00:00+00:00</th>\n",
       "      <td>11.0</td>\n",
       "      <td>0.0</td>\n",
       "    </tr>\n",
       "    <tr>\n",
       "      <th>2020-02-29 10:00:00+00:00</th>\n",
       "      <td>11.0</td>\n",
       "      <td>0.0</td>\n",
       "    </tr>\n",
       "    <tr>\n",
       "      <th>2020-03-01 10:00:00+00:00</th>\n",
       "      <td>11.0</td>\n",
       "      <td>0.0</td>\n",
       "    </tr>\n",
       "    <tr>\n",
       "      <th>2020-03-02 10:00:00+00:00</th>\n",
       "      <td>11.0</td>\n",
       "      <td>0.0</td>\n",
       "    </tr>\n",
       "    <tr>\n",
       "      <th>2020-03-03 10:00:00+00:00</th>\n",
       "      <td>11.0</td>\n",
       "      <td>0.0</td>\n",
       "    </tr>\n",
       "  </tbody>\n",
       "</table>\n",
       "</div>"
      ],
      "text/plain": [
       "                           jongno1  jongno2\n",
       "time                                       \n",
       "2020-02-28 10:00:00+00:00     11.0      0.0\n",
       "2020-02-29 10:00:00+00:00     11.0      0.0\n",
       "2020-03-01 10:00:00+00:00     11.0      0.0\n",
       "2020-03-02 10:00:00+00:00     11.0      0.0\n",
       "2020-03-03 10:00:00+00:00     11.0      0.0"
      ]
     },
     "execution_count": 16,
     "metadata": {},
     "output_type": "execute_result"
    }
   ],
   "source": [
    "save_data.head()"
   ]
  },
  {
   "cell_type": "code",
   "execution_count": null,
   "id": "25fe284a",
   "metadata": {},
   "outputs": [],
   "source": []
  },
  {
   "cell_type": "code",
   "execution_count": null,
   "id": "01dcec05",
   "metadata": {},
   "outputs": [],
   "source": []
  },
  {
   "cell_type": "code",
   "execution_count": null,
   "id": "508d507f",
   "metadata": {},
   "outputs": [],
   "source": []
  }
 ],
 "metadata": {
  "hide_input": false,
  "kernelspec": {
   "display_name": "Python 3 (ipykernel)",
   "language": "python",
   "name": "python3"
  },
  "language_info": {
   "codemirror_mode": {
    "name": "ipython",
    "version": 3
   },
   "file_extension": ".py",
   "mimetype": "text/x-python",
   "name": "python",
   "nbconvert_exporter": "python",
   "pygments_lexer": "ipython3",
   "version": "3.8.12"
  },
  "toc": {
   "base_numbering": 1,
   "nav_menu": {},
   "number_sections": true,
   "sideBar": true,
   "skip_h1_title": false,
   "title_cell": "Table of Contents",
   "title_sidebar": "Contents",
   "toc_cell": true,
   "toc_position": {
    "height": "calc(100% - 180px)",
    "left": "10px",
    "top": "150px",
    "width": "203.203px"
   },
   "toc_section_display": true,
   "toc_window_display": true
  },
  "vscode": {
   "interpreter": {
    "hash": "f1ef7e1f828dbb4e75f421045d2c565197efaf8469a0be4a314c6ea8378b5cb2"
   }
  }
 },
 "nbformat": 4,
 "nbformat_minor": 5
}
