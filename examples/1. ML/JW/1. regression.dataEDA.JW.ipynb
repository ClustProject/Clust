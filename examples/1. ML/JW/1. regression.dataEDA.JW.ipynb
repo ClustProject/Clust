{
 "cells": [
  {
   "cell_type": "markdown",
   "id": "ffc796a8",
   "metadata": {},
   "source": [
    "## 1. Air quality data preparation\n",
    "### 1-1. Data extraction"
   ]
  },
  {
   "cell_type": "code",
   "execution_count": 63,
   "id": "ab272b0e",
   "metadata": {
    "scrolled": true
   },
   "outputs": [],
   "source": [
    "import sys, os\n",
    "import pandas as pd\n",
    "sys.path.append(\"../../../../\")"
   ]
  },
  {
   "cell_type": "code",
   "execution_count": 64,
   "id": "734c6abd",
   "metadata": {},
   "outputs": [],
   "source": [
    "from Clust.setting import influx_setting_KETI as ins\n",
    "from Clust.clust.ingestion.influx import influx_client_v2 as influx_Client\n",
    "db_client = influx_Client.InfluxClient(ins.CLUSTDataServer2)\n",
    "import missingno as msno"
   ]
  },
  {
   "cell_type": "code",
   "execution_count": 67,
   "id": "f637e6fa",
   "metadata": {},
   "outputs": [],
   "source": [
    "\"\"\"\n",
    "bucket_name =\"air_indoor_초등학교\"\n",
    "ms_name =\"ICW0W2000022\" #ICW0W2000022, ICW0W2000033\n",
    "ingestion_param['start_time'] = \"2021-03-01 00:00:00\"\n",
    "ingestion_param['end_time']  =\"2021-12-31 00:00:00\"\n",
    "\"\"\"\n",
    "\n",
    "bucket_name =\"air_indoor_요양원\"\n",
    "ms_name =\"ICW0W2000727\"\n",
    "\n",
    "clean_level_list =[0, 1, 2, 3, 4]\n",
    "# ingestion\n",
    "ingestion_type = \"ms_all\"\n",
    "ingestion_param = {\n",
    "    \"bucket_name\" : bucket_name,\n",
    "    'ms_name' : ms_name                       \n",
    "}\n",
    "from Clust.clust.data import data_interface\n",
    "#data = data_interface.get_data_result(ingestion_type, db_client, ingestion_param)[:100000]"
   ]
  },
  {
   "cell_type": "code",
   "execution_count": 68,
   "id": "03ecab33",
   "metadata": {},
   "outputs": [],
   "source": [
    "ingestion_type = \"ms_by_time\"\n",
    "ingestion_param['start_time'] = \"2021-04-01 00:00:00\"\n",
    "ingestion_param['end_time']  =\"2021-08-31 00:00:00\"\n",
    "\n",
    "from Clust.clust.data import data_interface\n",
    "data = data_interface.get_data_result(ingestion_type, db_client, ingestion_param)\n",
    "feature_list = data.columns"
   ]
  },
  {
   "cell_type": "markdown",
   "id": "1c961816",
   "metadata": {},
   "source": [
    "# 3. Application"
   ]
  },
  {
   "cell_type": "code",
   "execution_count": null,
   "id": "049023c1",
   "metadata": {},
   "outputs": [],
   "source": [
    "from Clust.clust.ingestion.mongo.mongo_client import MongoClient\n",
    "from Clust.app import data_manipulation\n",
    "from Clust.app import  data_preprocessing\n",
    "\n",
    "mongo_client = MongoClient(ins.CLUSTMetaInfo2)"
   ]
  },
  {
   "cell_type": "code",
   "execution_count": null,
   "id": "6ec50533",
   "metadata": {},
   "outputs": [],
   "source": [
    "ingestion_param={}\n",
    "ingestion_param['start_time'] = \"2021-02-01 00:00:00\"\n",
    "ingestion_param['end_time']  =\"2021-03-10 00:00:00\"\n",
    "ingestion_param['ms_list_info'] = ingestion_param['ms_list_info'] = [['farm_swine_air', 'HS2'], ['weather_outdoor_keti_clean', 'sangju'], ['life_additional_Info', 'trigonometicInfoByHours']]  \n",
    "###########################################\n",
    "data_mode = 'trainX'\n",
    "for clean_level in clean_level_list:\n",
    "    # data name\n",
    "    collection_name = data_purpose+ \"_\"+data_name\n",
    "    ms_name = collection_name + '_cleanLevel' + str(clean_level)+'_' + data_mode\n",
    "    process_param = data_manipulation.get_process_param_by_level(clean_level)\n",
    "    # meta info\n",
    "    meta_info={\"bucket_name\":bucket_name, \"collection_name\":collection_name, \"ms_name\": ms_name, \n",
    "               \"ingestion_type\": ingestion_type, \"ingestion_param\": ingestion_param, \n",
    "               \"processing_type\":processing_type, \"process_param\":process_param,\n",
    "               \"integration_param\":integration_param, \"clean_level\":clean_level}\n",
    "    data_manipulation.save_processed_integrated_data_meta(db_client, mongo_client, meta_info)\n",
    "\n",
    "###########################################\n",
    "ingestion_param['start_time']  =\"2021-03-10 00:00:00\"\n",
    "ingestion_param['end_time']  =\"2021-03-17 00:00:00\"  \n",
    "data_mode = 'testX'\n",
    "\n",
    "for clean_level in clean_level_list:\n",
    "    # data name\n",
    "    collection_name = data_purpose+ \"_\"+data_name\n",
    "    ms_name = collection_name + '_cleanLevel' + str(clean_level)+'_' + data_mode\n",
    "    process_param = data_manipulation.get_process_param_by_level(clean_level)\n",
    "    # meta info\n",
    "    meta_info={\"bucket_name\":bucket_name, \"collection_name\":collection_name, \"ms_name\": ms_name,\n",
    "               \"ingestion_type\": ingestion_type, \"ingestion_param\": ingestion_param, \n",
    "               \"processing_type\":processing_type, \"process_param\":process_param,\n",
    "               \"integration_param\":integration_param, \"clean_level\":clean_level}\n",
    "    data_manipulation.save_processed_integrated_data_meta(db_client, mongo_client, meta_info)"
   ]
  }
 ],
 "metadata": {
  "kernelspec": {
   "display_name": "Python 3 (ipykernel)",
   "language": "python",
   "name": "python3"
  },
  "language_info": {
   "codemirror_mode": {
    "name": "ipython",
    "version": 3
   },
   "file_extension": ".py",
   "mimetype": "text/x-python",
   "name": "python",
   "nbconvert_exporter": "python",
   "pygments_lexer": "ipython3",
   "version": "3.8.8"
  }
 },
 "nbformat": 4,
 "nbformat_minor": 5
}
