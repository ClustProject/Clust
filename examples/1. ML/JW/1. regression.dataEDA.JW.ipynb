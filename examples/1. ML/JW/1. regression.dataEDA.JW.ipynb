{
 "cells": [
  {
   "cell_type": "markdown",
   "id": "ffc796a8",
   "metadata": {},
   "source": [
    "## 1. Air quality data preparation\n",
    "### 1-1. Data extraction\n",
    "### 해당 블락에서는 CSV나 자체 데이터에 대해서 불러오는 코드로 대체 하면 됩니다."
   ]
  },
  {
   "cell_type": "code",
   "execution_count": 1,
   "id": "ab272b0e",
   "metadata": {
    "scrolled": true
   },
   "outputs": [],
   "source": [
    "import sys, os\n",
    "import pandas as pd\n",
    "sys.path.append(\"../../../../\")"
   ]
  },
  {
   "cell_type": "code",
   "execution_count": 2,
   "id": "734c6abd",
   "metadata": {},
   "outputs": [
    {
     "name": "stderr",
     "output_type": "stream",
     "text": [
      "<frozen importlib._bootstrap>:219: RuntimeWarning: scipy._lib.messagestream.MessageStream size changed, may indicate binary incompatibility. Expected 56 from C header, got 64 from PyObject\n"
     ]
    }
   ],
   "source": [
    "from Clust.setting import influx_setting_KETI as ins\n",
    "from Clust.clust.ingestion.influx import influx_client_v2 as influx_Client\n",
    "db_client = influx_Client.InfluxClient(ins.CLUSTDataServer2)\n",
    "import missingno as msno"
   ]
  },
  {
   "cell_type": "code",
   "execution_count": 3,
   "id": "f637e6fa",
   "metadata": {},
   "outputs": [],
   "source": [
    "bucket_name =\"air_indoor_초등학교\"\n",
    "ms_name =\"ICW0W2000022\" #ICW0W2000022, ICW0W2000033\n",
    "clean_level_list =[0, 1, 2, 3, 4]\n",
    "# ingestion\n",
    "ingestion_type = \"ms_all\"\n",
    "ingestion_param = {\n",
    "    \"bucket_name\" : bucket_name,\n",
    "    'ms_name' : ms_name                       \n",
    "}\n",
    "from Clust.clust.data import data_interface\n",
    "data = data_interface.get_data_result(ingestion_type, db_client, ingestion_param)[:100000]"
   ]
  },
  {
   "cell_type": "code",
   "execution_count": null,
   "id": "03ecab33",
   "metadata": {},
   "outputs": [],
   "source": [
    "ingestion_type = \"ms_by_time\"\n",
    "ingestion_param['start_time'] = \"2021-03-01 00:00:00\"\n",
    "ingestion_param['end_time']  =\"2021-12-31 00:00:00\"\n",
    "\n",
    "from Clust.clust.data import data_interface\n",
    "data = data_interface.get_data_result(ingestion_type, db_client, ingestion_param)\n",
    "feature_list = data.columns"
   ]
  },
  {
   "cell_type": "markdown",
   "id": "31adf815",
   "metadata": {},
   "source": [
    "### 1-2. Original Data EDA"
   ]
  },
  {
   "cell_type": "code",
   "execution_count": null,
   "id": "8953ef38",
   "metadata": {},
   "outputs": [],
   "source": [
    "data.plot()\n",
    "print(data.isna().sum())"
   ]
  },
  {
   "cell_type": "markdown",
   "id": "16ddcf93",
   "metadata": {},
   "source": [
    "## 2. Data Preprocessing\n",
    "### 2-1. REFINEMENT\n",
    "### "
   ]
  },
  {
   "cell_type": "code",
   "execution_count": null,
   "id": "d5fb40fd",
   "metadata": {},
   "outputs": [],
   "source": [
    "# 1) 기본 REFINEMENT PARAMETER\n",
    "refine_param = {\n",
    "   \"removeDuplication\":{\n",
    "      \"flag\":False\n",
    "   },\n",
    "   \"staticFrequency\":{\n",
    "      \"flag\":False\n",
    "   }\n",
    "}\n",
    "refine_param"
   ]
  },
  {
   "cell_type": "code",
   "execution_count": null,
   "id": "76ef8a91",
   "metadata": {},
   "outputs": [],
   "source": [
    "# 2) refinement중 Duplication에 대해 제거하고 싶을 경우\n",
    "refine_param[\"removeDuplication\"][\"flag\"]=True\n",
    "# 3) refinement중 static frequency로 설정하고 싶을 경우\n",
    "refine_param[\"staticFrequency\"][\"flag\"]=True\n",
    "refine_param"
   ]
  },
  {
   "cell_type": "code",
   "execution_count": null,
   "id": "07840cc4",
   "metadata": {},
   "outputs": [],
   "source": [
    "# 3-1) Refinement에 대해 특정 frequency를 설정하고 싶을 경우\n",
    "import datetime \n",
    "freq_min = 3\n",
    "timedelta_frequency_min = datetime.timedelta(minutes= freq_min)\n",
    "refine_param[\"staticFrequency\"][\"frequency\"]=timedelta_frequency_min\n",
    "refine_param"
   ]
  },
  {
   "cell_type": "code",
   "execution_count": null,
   "id": "7f77eed6",
   "metadata": {},
   "outputs": [],
   "source": [
    "# 3-2) Refinement에 대해 Default로 frequency를 설정하고 싶을 경우\n",
    "refine_param[\"staticFrequency\"][\"frequency\"]=None\n",
    "refine_param"
   ]
  },
  {
   "cell_type": "code",
   "execution_count": null,
   "id": "bdfedb6b",
   "metadata": {},
   "outputs": [],
   "source": [
    "# 3-3) Parameter에 따른 최종 데이터 처리\n",
    "from Clust.clust.preprocessing import processing_interface\n",
    "refine_data = processing_interface.get_data_result('refine', data , refine_param)"
   ]
  },
  {
   "cell_type": "code",
   "execution_count": null,
   "id": "7153b515",
   "metadata": {},
   "outputs": [],
   "source": [
    "print(refinementData.isna().sum())\n",
    "refine_data.plot()"
   ]
  },
  {
   "cell_type": "markdown",
   "id": "ec3a369c",
   "metadata": {},
   "source": [
    "### 2-2. Outlier Detection\n",
    "#### 2-2-1. Certain Outlier Detection"
   ]
  },
  {
   "cell_type": "code",
   "execution_count": null,
   "id": "80007049",
   "metadata": {},
   "outputs": [],
   "source": [
    "# 1) Outlier detection을 하기위한 parameter 정의 (min_max={} 가 default)\n",
    "# 아래 코드는 CLUST 플랫폼 상에서 자동으로 min_max를 가져오는 코드로, 참고만 하세요.\n",
    "from Clust.clust.meta.metaDataManager import bucketMeta\n",
    "from Clust.clust.ingestion.mongo import mongo_client\n",
    "mongo_client_ = mongo_client.MongoClient(ins.CLUSTMetaInfo2)\n",
    "min_max = bucketMeta.get_min_max_info_from_bucketMeta(mongo_client_, bucket_name)\n",
    "\"\"\"\n",
    "#min_max 예제\n",
    "min_max = {'max_num': {'in_pm01_raw': 1000},  'min_num': {'in_pm01_raw': 0}}\n",
    "\"\"\"\n",
    "min_max"
   ]
  },
  {
   "cell_type": "code",
   "execution_count": null,
   "id": "8afbda83",
   "metadata": {},
   "outputs": [],
   "source": [
    "# 2) abnormal_value_list가 필요할 경우 \n",
    "abnormal_value_list =[99.9, 199.9, 299.9, 9999, -99.9, -199.9, -299.9, -9999, -9999.0] "
   ]
  },
  {
   "cell_type": "code",
   "execution_count": null,
   "id": "3aee4977",
   "metadata": {},
   "outputs": [],
   "source": [
    "# 3) Parameter, flag가 False일 경우 처리되지 않으며, 각각의 값이 없을 경우 시스템의 디폴트 값을 가져올 수 있음\n",
    "certain_param= {'flag': True, \"anomal_value_list\":abnormal_value_list, \"data_min_max_limit\":min_max}\n",
    "certain_param"
   ]
  },
  {
   "cell_type": "code",
   "execution_count": null,
   "id": "b24441c7",
   "metadata": {},
   "outputs": [],
   "source": [
    "# 4) 명확하게 이상 데이터에 대해서 NaN으로 처리함\n",
    "more_certain_NaN = processing_interface.get_data_result('certain_error_to_NaN', refine_data, certain_param)"
   ]
  },
  {
   "cell_type": "markdown",
   "id": "e665fe2c",
   "metadata": {},
   "source": [
    "#### 2-2-2. UnCertain Outlier Detection"
   ]
  },
  {
   "cell_type": "code",
   "execution_count": null,
   "id": "04ec018e",
   "metadata": {},
   "outputs": [],
   "source": [
    "# 1) UnCertain Param # uncertain parameter 설정은 다소 복잡함. 추가 예제로 테스트할 수 있으며, 이 테스트 파일에서는 기본 값에 대해 진행\n",
    "Un_certain_param= {'flag': True, \"anomal_value_list\":abnormal_value_list, \"data_min_max_limit\":min_max}\n",
    "Un_certain_param"
   ]
  },
  {
   "cell_type": "code",
   "execution_count": null,
   "id": "a0349348",
   "metadata": {},
   "outputs": [],
   "source": [
    "more_uncertain_nan = processing_interface.get_data_result('uncertain_error_to_NaN', more_certain_NaN, Un_certain_param)"
   ]
  },
  {
   "cell_type": "code",
   "execution_count": null,
   "id": "10b72517",
   "metadata": {},
   "outputs": [],
   "source": [
    "print(datawithMoreCertainNaN.isna().sum())\n",
    "datawithMoreCertainNaN.plot()"
   ]
  },
  {
   "cell_type": "code",
   "execution_count": null,
   "id": "049023c1",
   "metadata": {},
   "outputs": [],
   "source": [
    "from Clust.clust.ingestion.mongo.mongo_client import MongoClient\n",
    "from Clust.app import data_manipulation\n",
    "from Clust.app import  data_preprocessing\n",
    "\n",
    "mongo_client = MongoClient(ins.CLUSTMetaInfo2)"
   ]
  },
  {
   "cell_type": "code",
   "execution_count": null,
   "id": "6ec50533",
   "metadata": {},
   "outputs": [],
   "source": [
    "ingestion_param={}\n",
    "ingestion_param['start_time'] = \"2021-02-01 00:00:00\"\n",
    "ingestion_param['end_time']  =\"2021-03-10 00:00:00\"\n",
    "ingestion_param['ms_list_info'] = ingestion_param['ms_list_info'] = [['farm_swine_air', 'HS2'], ['weather_outdoor_keti_clean', 'sangju'], ['life_additional_Info', 'trigonometicInfoByHours']]  \n",
    "###########################################\n",
    "data_mode = 'trainX'\n",
    "for clean_level in clean_level_list:\n",
    "    # data name\n",
    "    collection_name = data_purpose+ \"_\"+data_name\n",
    "    ms_name = collection_name + '_cleanLevel' + str(clean_level)+'_' + data_mode\n",
    "    process_param = data_manipulation.get_process_param_by_level(clean_level)\n",
    "    # meta info\n",
    "    meta_info={\"bucket_name\":bucket_name, \"collection_name\":collection_name, \"ms_name\": ms_name, \n",
    "               \"ingestion_type\": ingestion_type, \"ingestion_param\": ingestion_param, \n",
    "               \"processing_type\":processing_type, \"process_param\":process_param,\n",
    "               \"integration_param\":integration_param, \"clean_level\":clean_level}\n",
    "    data_manipulation.save_processed_integrated_data_meta(db_client, mongo_client, meta_info)\n",
    "\n",
    "###########################################\n",
    "ingestion_param['start_time']  =\"2021-03-10 00:00:00\"\n",
    "ingestion_param['end_time']  =\"2021-03-17 00:00:00\"  \n",
    "data_mode = 'testX'\n",
    "\n",
    "for clean_level in clean_level_list:\n",
    "    # data name\n",
    "    collection_name = data_purpose+ \"_\"+data_name\n",
    "    ms_name = collection_name + '_cleanLevel' + str(clean_level)+'_' + data_mode\n",
    "    process_param = data_manipulation.get_process_param_by_level(clean_level)\n",
    "    # meta info\n",
    "    meta_info={\"bucket_name\":bucket_name, \"collection_name\":collection_name, \"ms_name\": ms_name,\n",
    "               \"ingestion_type\": ingestion_type, \"ingestion_param\": ingestion_param, \n",
    "               \"processing_type\":processing_type, \"process_param\":process_param,\n",
    "               \"integration_param\":integration_param, \"clean_level\":clean_level}\n",
    "    data_manipulation.save_processed_integrated_data_meta(db_client, mongo_client, meta_info)"
   ]
  }
 ],
 "metadata": {
  "kernelspec": {
   "display_name": "Python 3 (ipykernel)",
   "language": "python",
   "name": "python3"
  },
  "language_info": {
   "codemirror_mode": {
    "name": "ipython",
    "version": 3
   },
   "file_extension": ".py",
   "mimetype": "text/x-python",
   "name": "python",
   "nbconvert_exporter": "python",
   "pygments_lexer": "ipython3",
   "version": "3.8.8"
  }
 },
 "nbformat": 4,
 "nbformat_minor": 5
}
