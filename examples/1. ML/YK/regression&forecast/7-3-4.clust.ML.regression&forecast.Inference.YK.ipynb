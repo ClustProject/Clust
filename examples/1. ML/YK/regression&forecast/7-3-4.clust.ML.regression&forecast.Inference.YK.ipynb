{
 "cells": [
  {
   "cell_type": "markdown",
   "id": "fd79d0c3",
   "metadata": {},
   "source": [
    "# 4. Inference"
   ]
  },
  {
   "cell_type": "code",
   "execution_count": 1,
   "id": "1611f6b2",
   "metadata": {},
   "outputs": [
    {
     "name": "stderr",
     "output_type": "stream",
     "text": [
      "/Users/kim-youngkee/Documents/CLUSTER/.clust/lib/python3.9/site-packages/tqdm/auto.py:22: TqdmWarning: IProgress not found. Please update jupyter and ipywidgets. See https://ipywidgets.readthedocs.io/en/stable/user_install.html\n",
      "  from .autonotebook import tqdm as notebook_tqdm\n"
     ]
    },
    {
     "name": "stdout",
     "output_type": "stream",
     "text": [
      "cpu is available.\n"
     ]
    }
   ],
   "source": [
    "import sys, os\n",
    "import torch\n",
    "import pandas as pd\n",
    "import numpy as np\n",
    "sys.path.append(\"../../\")\n",
    "sys.path.append(\"../../../\")\n",
    "sys.path.append(\"../../../../\")\n",
    "import setting\n",
    "\n",
    "from Clust.clust.ML.common.common import p1_integratedDataSaving as p1\n",
    "from Clust.clust.ML.tool import data as ml_data\n",
    "from Clust.clust.ML.tool import scaler as ml_scaler\n",
    "from Clust.clust.ML.tool import clean as ml_clean\n",
    "import pathSetting\n",
    "\n",
    "device = \"cuda\" if torch.cuda.is_available() else \"cpu\"\n",
    "print(f\"{device}\" \" is available.\")"
   ]
  },
  {
   "cell_type": "code",
   "execution_count": 2,
   "id": "1788c0cb",
   "metadata": {},
   "outputs": [],
   "source": [
    "# Set regression mode i.e., 'regression','forecast' \n",
    "mode_selection = \"forecast\""
   ]
  },
  {
   "cell_type": "markdown",
   "id": "b8d30ae7",
   "metadata": {},
   "source": [
    "### 4-1. Get model meta by mongodb"
   ]
  },
  {
   "cell_type": "code",
   "execution_count": 3,
   "id": "a47d9e9d",
   "metadata": {},
   "outputs": [],
   "source": [
    "from Clust.clust.ingestion.mongo.mongo_client import MongoClient\n",
    "from Clust.setting import influx_setting_KETI as ins\n",
    "\n",
    "mongo_client = MongoClient(ins.CLUSTMetaInfo2)\n",
    "\n",
    "db_name = 'model'\n",
    "collection_name = 'meta'\n",
    "\n",
    "all_model_meta = mongo_client.get_all_document(db_name, collection_name)"
   ]
  },
  {
   "cell_type": "code",
   "execution_count": 4,
   "id": "9ae5b364",
   "metadata": {},
   "outputs": [],
   "source": [
    "search = {'modelName': 'TestLSTM_rg'}\n",
    "model_meta= mongo_client.get_document_by_json(db_name, collection_name, search)\n",
    "model_meta = model_meta[-1]"
   ]
  },
  {
   "cell_type": "code",
   "execution_count": 5,
   "id": "8d1f6bf0",
   "metadata": {},
   "outputs": [
    {
     "data": {
      "text/plain": [
       "{'trainDataInfo': {'startTime': '2021-02-01 00:00:00',\n",
       "  'endTime': '2021-03-10 00:00:00',\n",
       "  'dataInfo': [['farm_swine_air', 'HS2'],\n",
       "   ['weather_outdoor_keti_clean', 'sangju'],\n",
       "   ['life_additional_Info', 'trigonometicInfoByHours']],\n",
       "  'processParam': {'refine_param': {"remove_duplication": {'flag': False},\n",
       "    "static_frequency": {'flag': False, 'frequency': None}},\n",
       "   'outlier_param': {'certainErrorToNaN': {'flag': False},\n",
       "    'unCertainErrorToNaN': {'flag': False, 'param': {}}},\n",
       "   'imputation_param': {'flag': False,\n",
       "    'imputation_method': [],\n",
       "    'totalNonNanRatio': 80}},\n",
       "  'integration_freq_sec': 300,\n",
       "  'cleanParam': 'NoClean',\n",
       "  'DataSaveMode': 'CSV'},\n",
       " 'modelName': 'TestLSTM_rg',\n",
       " 'featureList': ['Temperature', 'out_temp', 'sin_hour'],\n",
       " 'target': 'Temperature',\n",
       " 'trainDataType': 'timeseries',\n",
       " 'modelPurpose': 'regression',\n",
       " 'model_method': 'LSTM_rg',\n",
       " 'modelTags': ['aaaaa'],\n",
       " 'cleanTrainDataParam': 'NoClean',\n",
       " 'NaNProcessingParam': {'feature_cycle': 'Day',\n",
       "  'feature_cycle_times': 1,\n",
       "  'NanInfoForCleanData': {'type': 'num',\n",
       "   'ConsecutiveNanLimit': 3,\n",
       "   'totalNaNLimit': 30000}},\n",
       " 'trainDataName': ['trainNoClean_Hs1SwineFarmWithWeatherTime'],\n",
       " 'trainParameter': {'lr': 0.0001,\n",
       "  'weight_decay': 1e-06,\n",
       "  'device': 'cpu',\n",
       "  'n_epochs': 10,\n",
       "  'batch_size': 16},\n",
       " 'modelParameter': {'rnn_type': 'lstm',\n",
       "  'input_size': 3,\n",
       "  'hidden_size': 64,\n",
       "  'num_layers': 2,\n",
       "  'output_dim': 1,\n",
       "  'dropout': 0.1,\n",
       "  'bidirectional': True},\n",
       " 'transformParameter': {'future_step': 2,\n",
       "  'past_step': 24,\n",
       "  'feature_col': ['Temperature', 'out_temp', 'sin_hour'],\n",
       "  'target_col': 'Temperature',\n",
       "  'clean_param': 'NoClean'},\n",
       " 'scalerParam': 'scale',\n",
       " 'files': {'modelFile': {'fileName': 'model.pth',\n",
       "   'filePath': './Models/LSTM_rg/TestLSTM_rg/trainNoClean_Hs1SwineFarmWithWeatherTime/d531eec11664669cff1f6a3ad9639012/model.pkl'},\n",
       "  'XScalerFile': {'fileName': 'scaler.pkl',\n",
       "   'filePath': './scaler/trainNoClean_Hs1SwineFarmWithWeatherTime/NoClean/robust/c1b524a5c854f6e561c4764b1dfb4e6f/scaler.pkl'}}}"
      ]
     },
     "execution_count": 5,
     "metadata": {},
     "output_type": "execute_result"
    }
   ],
   "source": [
    "model_meta"
   ]
  },
  {
   "cell_type": "markdown",
   "id": "3b9185d9",
   "metadata": {},
   "source": [
    "### 4-2. Inference data selection"
   ]
  },
  {
   "cell_type": "code",
   "execution_count": 6,
   "id": "2579d539",
   "metadata": {
    "scrolled": true
   },
   "outputs": [],
   "source": [
    "# 0. pick only one data\n",
    "DataMeta = p1.read_json_data(pathSetting.DataMetaPath)\n",
    "dataList =  list(DataMeta.keys())"
   ]
  },
  {
   "cell_type": "code",
   "execution_count": 7,
   "id": "18ade136",
   "metadata": {},
   "outputs": [
    {
     "data": {
      "text/plain": [
       "['IntegraionTrainX',\n",
       " 'IntegraionTrainy',\n",
       " 'IntegraionTestX',\n",
       " 'IntegraionTesty',\n",
       " 'trainClean_Hs1SwineFarmWithWeatherTime',\n",
       " 'trainNoClean_Hs1SwineFarmWithWeatherTime',\n",
       " 'testClean_Hs1SwineFarmWithWeatherTime',\n",
       " 'testNoClean_Hs1SwineFarmWithWeatherTime']"
      ]
     },
     "execution_count": 7,
     "metadata": {},
     "output_type": "execute_result"
    }
   ],
   "source": [
    "dataList"
   ]
  },
  {
   "cell_type": "code",
   "execution_count": 8,
   "id": "5e11196d",
   "metadata": {},
   "outputs": [],
   "source": [
    "if mode_selection == 'regression':\n",
    "    # dataX\n",
    "    dataName_X = dataList[2]\n",
    "    dataSaveMode_X = DataMeta[dataName_X]['integrationInfo']['DataSaveMode']\n",
    "\n",
    "    dataFolderName = \"data_integrated_result\"\n",
    "    current = os.getcwd()\n",
    "    dataFolderPath = os.path.join(current, dataFolderName)\n",
    "\n",
    "    # dataX = ml_data.get_saved_integrated_data(dataSaveMode_X, dataName_X, dataFolderPath)[:window_num]\n",
    "    dataX = ml_data.get_saved_integrated_data('CSV', dataName_X, dataFolderPath)\n",
    "\n",
    "elif mode_selection == 'forecast':\n",
    "    LearningModeList = ['train', 'test']\n",
    "    LearningMode = LearningModeList[1]\n",
    "\n",
    "    cleanParamList = ['Clean', 'NoClean']\n",
    "    cleanMode = cleanParamList[1]\n",
    "\n",
    "    datasetNameList = ['Hs1SwineFarmWithWeatherTime', 'gunwiStrawberryWithWeatherTime', 'strawberryOpenTime']\n",
    "    datasetName = datasetNameList[0]\n",
    "\n",
    "    dataName_X = LearningMode + cleanMode + '_' + datasetName\n",
    "    dataSaveMode_X = DataMeta[dataName_X]['integrationInfo']['DataSaveMode']\n",
    "\n",
    "    dataX = ml_data.get_saved_integrated_data(dataSaveMode_X, dataName_X, pathSetting.dataFolderPath)\n",
    "    integration_freq_sec = DataMeta[dataName_X]['integrationInfo']['integration_freq_sec']"
   ]
  },
  {
   "cell_type": "markdown",
   "id": "90644dc4",
   "metadata": {},
   "source": [
    "### 4-3. Inference data preparation"
   ]
  },
  {
   "cell_type": "code",
   "execution_count": 10,
   "id": "ba005fb0",
   "metadata": {},
   "outputs": [],
   "source": [
    "feature_list = model_meta['featureList']\n",
    "target = model_meta['target']\n",
    "scaler_param = model_meta['scalerParam']\n",
    "model_file_path = model_meta['files']['modelFile']['filePath']\n",
    "model_method = model_meta['model_method']\n",
    "# train_parameter = model_meta[\"trainParameter\"]\n",
    "\n",
    "if mode_selection == 'regression':\n",
    "    # Scaling Inference Input\n",
    "    X_scaler_file_path = model_meta['files']['XScalerFile']['filePath']\n",
    "    y_scaler_file_path = model_meta['files']['yScalerFile']['filePath']\n",
    "\n",
    "    infer_X, scaler_X = ml_scaler.get_scaled_test_data(dataX[feature_list], X_scaler_file_path, scaler_param)\n",
    "    scaler_y = ml_scaler.get_scaler_file(y_scaler_file_path)\n",
    "\n",
    "elif mode_selection == 'forecast':\n",
    "    clean_param = model_meta['cleanTrainDataParam']\n",
    "    nan_processing_param = model_meta['NaNProcessingParam']\n",
    "\n",
    "    # Scaling Inference Input\n",
    "    X_scaler_file_path = model_meta['files']['XScalerFile']['filePath']\n",
    "    \n",
    "    infer_X, scaler_X = ml_scaler.get_scaled_test_data(dataX[feature_list], X_scaler_file_path, scaler_param)\n",
    "    clean_infer_X = ml_clean.get_cleand_data(infer_X, clean_param, integration_freq_sec, nan_processing_param)"
   ]
  },
  {
   "cell_type": "code",
   "execution_count": 11,
   "id": "beb5966a",
   "metadata": {},
   "outputs": [],
   "source": [
    "transformParameter = model_meta['transformParameter']\n",
    "# # transform\n",
    "if mode_selection == 'regression':\n",
    "    window_num = transformParameter['window_num']\n",
    "    inferX = []\n",
    "    inferX.append(infer_X[-window_num:].values)\n",
    "    inferX = np.array(inferX)\n",
    "\n",
    "# forecast\n",
    "elif mode_selection == 'forecast':\n",
    "    past_step = transformParameter['past_step']\n",
    "    inferX = []\n",
    "    inferX.append(clean_infer_X[-past_step:].values)\n",
    "    inferX = np.array(inferX)\n",
    "    "
   ]
  },
  {
   "cell_type": "code",
   "execution_count": 13,
   "id": "eb22200e",
   "metadata": {},
   "outputs": [],
   "source": [
    "modelParameter = model_meta[\"modelParameter\"]\n",
    "\n",
    "inferParameter = {\n",
    "    'device': 'cpu',\n",
    "    'batch_size': 1\n",
    "}"
   ]
  },
  {
   "cell_type": "code",
   "execution_count": 14,
   "id": "bb72fb20",
   "metadata": {
    "scrolled": false
   },
   "outputs": [
    {
     "name": "stdout",
     "output_type": "stream",
     "text": [
      "inference data shape: torch.Size([1, 24, 3])\n",
      "\n",
      "Start inference\n",
      "\n",
      "** Dimension of result for inference dataset = (1,)\n",
      "[0.27711922]\n"
     ]
    }
   ],
   "source": [
    "# 4. Inference\n",
    "from Clust.clust.ML.regression_YK.inference import RegressionInference as RI\n",
    "\n",
    "ri = RI()\n",
    "ri.set_param(inferParameter)\n",
    "ri.set_model(model_method, model_file_path, modelParameter)\n",
    "ri.set_data(inferX)\n",
    "preds = ri.inference()\n",
    "print(preds)"
   ]
  },
  {
   "cell_type": "code",
   "execution_count": 16,
   "id": "290a6573",
   "metadata": {},
   "outputs": [],
   "source": [
    "# for regression\n",
    "if mode_selection == 'regression':\n",
    "    if scaler_param =='scale':\n",
    "        base_df_for_inverse = pd.DataFrame(columns=target, index=range(len(preds)))\n",
    "        base_df_for_inverse[target] = preds\n",
    "        prediction_result = pd.DataFrame(scaler_y.inverse_transform(base_df_for_inverse), columns=target, index=base_df_for_inverse.index)\n",
    "    else:\n",
    "        prediction_result = pd.DataFrame(data={\"value\": preds}, index=range(len(preds)))\n",
    "\n",
    "# for forecast\n",
    "elif mode_selection == 'forecast':\n",
    "    if scaler_param =='scale':\n",
    "        base_df_for_inverse = pd.DataFrame(columns=feature_list, index=range(len(preds)))\n",
    "        base_df_for_inverse[target] = preds\n",
    "        inverse_result = pd.DataFrame(scaler_X.inverse_transform(base_df_for_inverse), columns=feature_list, index=base_df_for_inverse.index)\n",
    "        target_data = inverse_result[target]\n",
    "        prediction_result = pd.DataFrame(data={target: target_data}, index=range(len(preds)))\n",
    "    else:\n",
    "        prediction_result = pd.DataFrame(data={target: preds}, index=range(len(preds)))"
   ]
  },
  {
   "cell_type": "code",
   "execution_count": 17,
   "id": "6c7e4125",
   "metadata": {},
   "outputs": [
    {
     "data": {
      "text/html": [
       "<div>\n",
       "<style scoped>\n",
       "    .dataframe tbody tr th:only-of-type {\n",
       "        vertical-align: middle;\n",
       "    }\n",
       "\n",
       "    .dataframe tbody tr th {\n",
       "        vertical-align: top;\n",
       "    }\n",
       "\n",
       "    .dataframe thead th {\n",
       "        text-align: right;\n",
       "    }\n",
       "</style>\n",
       "<table border=\"1\" class=\"dataframe\">\n",
       "  <thead>\n",
       "    <tr style=\"text-align: right;\">\n",
       "      <th></th>\n",
       "      <th>Temperature</th>\n",
       "    </tr>\n",
       "  </thead>\n",
       "  <tbody>\n",
       "    <tr>\n",
       "      <th>0</th>\n",
       "      <td>22.518959</td>\n",
       "    </tr>\n",
       "  </tbody>\n",
       "</table>\n",
       "</div>"
      ],
      "text/plain": [
       "   Temperature\n",
       "0    22.518959"
      ]
     },
     "execution_count": 17,
     "metadata": {},
     "output_type": "execute_result"
    }
   ],
   "source": [
    "prediction_result"
   ]
  },
  {
   "cell_type": "code",
   "execution_count": null,
   "id": "e9cc660c",
   "metadata": {},
   "outputs": [],
   "source": []
  }
 ],
 "metadata": {
  "kernelspec": {
   "display_name": "Python 3 (ipykernel)",
   "language": "python",
   "name": "python3"
  },
  "language_info": {
   "codemirror_mode": {
    "name": "ipython",
    "version": 3
   },
   "file_extension": ".py",
   "mimetype": "text/x-python",
   "name": "python",
   "nbconvert_exporter": "python",
   "pygments_lexer": "ipython3",
   "version": "3.8.10"
  },
  "vscode": {
   "interpreter": {
    "hash": "e92cea83a25a22cd774ff9f8132db57ccb94d86fd97b7fe80ee00c35daecdd05"
   }
  }
 },
 "nbformat": 4,
 "nbformat_minor": 5
}
