{
 "cells": [
  {
   "cell_type": "markdown",
   "id": "8ff64dfe",
   "metadata": {
    "toc": true
   },
   "source": [
    "<h1>Table of Contents<span class=\"tocSkip\"></span></h1>\n",
    "<div class=\"toc\"><ul class=\"toc-item\"><li><span><a href=\"#4.-Inference\" data-toc-modified-id=\"4.-Inference-1\"><span class=\"toc-item-num\">1&nbsp;&nbsp;</span>4. Inference</a></span><ul class=\"toc-item\"><li><span><a href=\"#4-1.-(just-for-test)-Data-Preparation\" data-toc-modified-id=\"4-1.-(just-for-test)-Data-Preparation-1.1\"><span class=\"toc-item-num\">1.1&nbsp;&nbsp;</span>4-1. (just for test) Data Preparation</a></span></li></ul></li></ul></div>"
   ]
  },
  {
   "cell_type": "markdown",
   "id": "fd79d0c3",
   "metadata": {},
   "source": [
    "# 4. Inference"
   ]
  },
  {
   "cell_type": "code",
   "execution_count": 1,
   "id": "1611f6b2",
   "metadata": {
    "ExecuteTime": {
     "end_time": "2022-08-09T03:10:39.855210Z",
     "start_time": "2022-08-09T03:10:38.830148Z"
    }
   },
   "outputs": [
    {
     "name": "stdout",
     "output_type": "stream",
     "text": [
      "cpu is available.\n"
     ]
    }
   ],
   "source": [
    "import sys, os\n",
    "sys.path.append(\"../../\")\n",
    "sys.path.append(\"../../../\")\n",
    "sys.path.append(\"../../../../\")\n",
    "import pandas as pd\n",
    "import numpy as np\n",
    "import torch\n",
    "\n",
    "from Clust.clust.transformation.type.DFToNPArray import transDFtoNP, trans_df_to_np, trans_df_to_np_inf\n",
    "from Clust.clust.ML.tool import data as ml_data\n",
    "from Clust.clust.ML.tool import scaler as ml_scaler\n",
    "from Clust.clust.ML.tool import clean as ml_clean\n",
    "\n",
    "from Clust.setting import influx_setting_KETI as ins\n",
    "from Clust.clust.ingestion.influx import influx_client_v2 as influx_Client\n",
    "from Clust.clust.ingestion.mongo.mongo_client import MongoClient\n",
    "\n",
    "db_client = influx_Client.InfluxClient(ins.CLUSTDataServer2)\n",
    "mongo_client = MongoClient(ins.CLUSTMetaInfo2)\n",
    "\n",
    "#import main_regression as mr\n",
    "device = \"cuda\" if torch.cuda.is_available() else \"cpu\"\n",
    "print(f\"{device}\" \" is available.\")"
   ]
  },
  {
   "cell_type": "markdown",
   "id": "4b4915be",
   "metadata": {},
   "source": [
    "## 4-1. (just for test) Data Preparation "
   ]
  },
  {
   "cell_type": "code",
   "execution_count": 2,
   "id": "b7c47595",
   "metadata": {},
   "outputs": [],
   "source": [
    "# get integrated data name\n",
    "bucket_name = 'integration'\n",
    "\n",
    "# scaler path\n",
    "scalerPath = './scaler/'"
   ]
  },
  {
   "cell_type": "code",
   "execution_count": null,
   "id": "320ad4aa",
   "metadata": {},
   "outputs": [],
   "source": [
    "app_name= \"energy\" # \"Hs2SwineFarmWithWeatherTime\", \"energy\"\n",
    "model_method = 'GRU_rg'\n",
    "model_clean = True\n",
    "step = 'test'\n",
    "bucket_name = 'integration'\n",
    "# data_clean_level=0"
   ]
  },
  {
   "cell_type": "code",
   "execution_count": 3,
   "id": "89e9d6a2",
   "metadata": {},
   "outputs": [
    {
     "ename": "IndexError",
     "evalue": "list index out of range",
     "output_type": "error",
     "traceback": [
      "\u001b[0;31m---------------------------------------------------------------------------\u001b[0m",
      "\u001b[0;31mIndexError\u001b[0m                                Traceback (most recent call last)",
      "Cell \u001b[0;32mIn[3], line 6\u001b[0m\n\u001b[1;32m      2\u001b[0m collection_name \u001b[38;5;241m=\u001b[39m \u001b[38;5;124m'\u001b[39m\u001b[38;5;124mmeta\u001b[39m\u001b[38;5;124m'\u001b[39m\n\u001b[1;32m      4\u001b[0m search \u001b[38;5;241m=\u001b[39m {\u001b[38;5;124m'\u001b[39m\u001b[38;5;124mmodelName\u001b[39m\u001b[38;5;124m'\u001b[39m: \u001b[38;5;124m'\u001b[39m\u001b[38;5;124mclassification_actionPattern_LSTM_cf_cleanLevel0\u001b[39m\u001b[38;5;124m'\u001b[39m}\n\u001b[0;32m----> 6\u001b[0m model_meta\u001b[38;5;241m=\u001b[39m \u001b[43mmongo_client\u001b[49m\u001b[38;5;241;43m.\u001b[39;49m\u001b[43mget_document_by_json\u001b[49m\u001b[43m(\u001b[49m\u001b[43mdb_name\u001b[49m\u001b[43m,\u001b[49m\u001b[43m \u001b[49m\u001b[43mcollection_name\u001b[49m\u001b[43m,\u001b[49m\u001b[43m \u001b[49m\u001b[43msearch\u001b[49m\u001b[43m)\u001b[49m\u001b[43m[\u001b[49m\u001b[38;5;241;43m0\u001b[39;49m\u001b[43m]\u001b[49m\n\u001b[1;32m      7\u001b[0m model_meta\n",
      "\u001b[0;31mIndexError\u001b[0m: list index out of range"
     ]
    }
   ],
   "source": [
    "db_name = 'model'\n",
    "collection_name = 'meta'\n",
    "\n",
    "search = {'modelName': 'classification_actionPattern_LSTM_cf_cleanLevel0'}\n",
    "\n",
    "model_meta= mongo_client.get_document_by_json(db_name, collection_name, search)[0]\n",
    "model_meta"
   ]
  },
  {
   "cell_type": "code",
   "execution_count": null,
   "id": "07719685",
   "metadata": {},
   "outputs": [],
   "source": [
    "model_name = 'energy_GRU_rg_False'\n",
    "\n",
    "collection_name = 'meta'\n",
    "db_name = 'model'\n",
    "model_meta_list= mongo_client.get_document_by_json(db_name, collection_name, {'modelName': model_name})\n",
    "model_meta = model_meta_list[0] ## ??"
   ]
  },
  {
   "cell_type": "code",
   "execution_count": null,
   "id": "a5967de6",
   "metadata": {},
   "outputs": [],
   "source": [
    "collection_list = mongo_client.get_collection_list(bucket_name)\n",
    "collection_list"
   ]
  },
  {
   "cell_type": "code",
   "execution_count": null,
   "id": "f1f46c22",
   "metadata": {},
   "outputs": [],
   "source": [
    "# 1. Select Test Data\n",
    "window_num = 128\n",
    "\n",
    "data_name_X = 'classification_actionPattern_testX_cleanLevel0'\n",
    "dataX = db_client.get_data(bucket_name, data_name_X)[:window_num]\n",
    "\n",
    "clean_level = model_meta[\"trainDataInfo\"][\"clean_level\"]\n",
    "integration_freq_sec = model_meta[\"trainDataInfo\"][\"integration_param\"][\"integration_frequency\"]"
   ]
  },
  {
   "cell_type": "code",
   "execution_count": null,
   "id": "64d8e022",
   "metadata": {},
   "outputs": [],
   "source": [
    "feature_list = model_meta[\"featureList\"]\n",
    "target = model_meta[\"target\"]\n",
    "model_method = model_meta[\"model_method\"]\n",
    "scaler_param = model_meta[\"scalerParam\"]\n",
    "model_file_path = model_meta['files']['modelFile'][\"filePath\"]\n",
    "\n",
    "X_scaler_file_path = model_meta['files']['XScalerFile'][\"filePath\"]\n",
    "y_scaler_file_path = model_meta['files']['yScalerFile'][\"filePath\"]\n",
    "\n",
    "infer_X, scaler_X = ml_scaler.get_scaled_test_data(dataX[feature_list], X_scaler_file_path, scaler_param)\n",
    "if scaler_param == 'scale':\n",
    "    scaler_y = ml_scaler.get_scaler_file(y_scaler_file_path)\n",
    "\n",
    "\n",
    "dim = None\n",
    "\n",
    "if model_method == \"FC_cf\":\n",
    "    dim = 2"
   ]
  },
  {
   "cell_type": "code",
   "execution_count": null,
   "id": "ca1b0f08",
   "metadata": {},
   "outputs": [],
   "source": [
    "# transformParameter = model_meta['transformParameter']\n",
    "# window_num = transformParameter['window_num']\n",
    "inferX = trans_df_to_np_inf(dataX, window_num, dim)\n",
    "# inferX = np.array(inferX)"
   ]
  },
  {
   "cell_type": "code",
   "execution_count": null,
   "id": "83743525",
   "metadata": {},
   "outputs": [],
   "source": [
    "modelParameter = model_meta[\"modelParameter\"]\n",
    "\n",
    "inferParameter = {\n",
    "    'device': device,\n",
    "    'batch_size': 1,\n",
    "    'scaler_param': \"noScale\"\n",
    "}"
   ]
  },
  {
   "cell_type": "code",
   "execution_count": null,
   "id": "4ebc838e",
   "metadata": {},
   "outputs": [],
   "source": [
    "device"
   ]
  },
  {
   "cell_type": "code",
   "execution_count": null,
   "id": "39a5dee7",
   "metadata": {
    "scrolled": true
   },
   "outputs": [],
   "source": [
    "# 4. Inference\n",
    "from Clust.clust.ML.classification.inference import ClassificationInference as CI\n",
    "\n",
    "ci = CI()\n",
    "ci.set_param(inferParameter)\n",
    "ci.set_model(model_method, model_file_path, modelParameter)\n",
    "ci.set_data(inferX)\n",
    "preds = ci.inference()\n",
    "print(preds)"
   ]
  },
  {
   "cell_type": "code",
   "execution_count": null,
   "id": "028a57c5",
   "metadata": {},
   "outputs": [],
   "source": [
    "if scaler_param =='scale':\n",
    "    base_df_for_inverse = pd.DataFrame(columns=target, index=range(len(preds)))\n",
    "    base_df_for_inverse[target] = preds\n",
    "    prediction_result = pd.DataFrame(scaler_X.inverse_transform(base_df_for_inverse), columns=target, index=base_df_for_inverse.index)\n",
    "else:\n",
    "    prediction_result = pd.DataFrame(data={'value':preds}, index=range(len(preds)))"
   ]
  },
  {
   "cell_type": "code",
   "execution_count": null,
   "id": "056ae137",
   "metadata": {},
   "outputs": [],
   "source": [
    "prediction_result"
   ]
  },
  {
   "cell_type": "code",
   "execution_count": null,
   "id": "1f52999b",
   "metadata": {},
   "outputs": [],
   "source": []
  },
  {
   "cell_type": "code",
   "execution_count": null,
   "id": "c5ea1d85",
   "metadata": {},
   "outputs": [],
   "source": []
  },
  {
   "cell_type": "code",
   "execution_count": null,
   "id": "aeb8e7d9",
   "metadata": {},
   "outputs": [],
   "source": []
  },
  {
   "cell_type": "code",
   "execution_count": null,
   "id": "22b19dd9",
   "metadata": {},
   "outputs": [],
   "source": []
  },
  {
   "cell_type": "code",
   "execution_count": null,
   "id": "7e7493fd",
   "metadata": {},
   "outputs": [],
   "source": []
  },
  {
   "cell_type": "code",
   "execution_count": null,
   "id": "40866d36",
   "metadata": {},
   "outputs": [],
   "source": []
  },
  {
   "cell_type": "code",
   "execution_count": null,
   "id": "e340deef",
   "metadata": {},
   "outputs": [],
   "source": []
  },
  {
   "cell_type": "code",
   "execution_count": null,
   "id": "30577c53",
   "metadata": {},
   "outputs": [],
   "source": []
  }
 ],
 "metadata": {
  "hide_input": false,
  "kernelspec": {
   "display_name": "Python 3 (ipykernel)",
   "language": "python",
   "name": "python3"
  },
  "language_info": {
   "codemirror_mode": {
    "name": "ipython",
    "version": 3
   },
   "file_extension": ".py",
   "mimetype": "text/x-python",
   "name": "python",
   "nbconvert_exporter": "python",
   "pygments_lexer": "ipython3",
   "version": "3.8.8"
  },
  "toc": {
   "base_numbering": 1,
   "nav_menu": {},
   "number_sections": true,
   "sideBar": true,
   "skip_h1_title": false,
   "title_cell": "Table of Contents",
   "title_sidebar": "Contents",
   "toc_cell": true,
   "toc_position": {},
   "toc_section_display": true,
   "toc_window_display": true
  },
  "vscode": {
   "interpreter": {
    "hash": "f1ef7e1f828dbb4e75f421045d2c565197efaf8469a0be4a314c6ea8378b5cb2"
   }
  }
 },
 "nbformat": 4,
 "nbformat_minor": 5
}
