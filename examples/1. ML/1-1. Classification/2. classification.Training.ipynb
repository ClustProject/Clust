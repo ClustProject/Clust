{
 "cells": [
  {
   "cell_type": "markdown",
   "id": "43276846",
   "metadata": {
    "toc": true
   },
   "source": [
    "# Training"
   ]
  },
  {
   "cell_type": "code",
   "execution_count": 1,
   "id": "95790ab5",
   "metadata": {
    "ExecuteTime": {
     "end_time": "2022-08-23T03:21:52.373651Z",
     "start_time": "2022-08-23T03:21:48.164603Z"
    }
   },
   "outputs": [
    {
     "name": "stdout",
     "output_type": "stream",
     "text": [
      "cpu is available.\n"
     ]
    }
   ],
   "source": [
    "import sys, os\n",
    "import pandas as pd\n",
    "import numpy as np\n",
    "import torch\n",
    "sys.path.append(\"../../\")\n",
    "sys.path.append(\"../../../\")\n",
    "sys.path.append(\"../../../../\")\n",
    "sys.path.append(\"../../../../../\")\n",
    "from Clust.clust.transformation.type.DFToNPArray import transDFtoNP, trans_df_to_np, trans_df_to_np_inf, trans_DF_to_NP_by_windowNum\n",
    "from Clust.clust.ML.common import ML_pipeline, tool\n",
    "from Clust.setting import influx_setting_KETI as ins\n",
    "from Clust.clust.ingestion.influx import influx_client_v2 as influx_Client\n",
    "from Clust.clust.ingestion.mongo.mongo_client import MongoClient\n",
    "\n",
    "\n",
    "\n",
    "db_client = influx_Client.InfluxClient(ins.CLUSTDataServer2)\n",
    "mongo_client = MongoClient(ins.CLUSTMetaInfo2)\n",
    "\n",
    "device = \"cuda\" if torch.cuda.is_available() else \"cpu\"\n",
    "print(f\"{device}\" \" is available.\")"
   ]
  },
  {
   "cell_type": "markdown",
   "id": "1e8601bc",
   "metadata": {},
   "source": [
    "## 1. Data Preparation"
   ]
  },
  {
   "cell_type": "markdown",
   "id": "098dca5a",
   "metadata": {},
   "source": [
    "### 1-1. Parameter Setting"
   ]
  },
  {
   "cell_type": "code",
   "execution_count": 2,
   "id": "ebd0ec6d",
   "metadata": {},
   "outputs": [],
   "source": [
    "# 현재 Classification의 경우 window_split만 검증 완료 하였음\n",
    "\n",
    "app_name='actionPattern'\n",
    "model_purpose = 'classification'\n",
    "\n",
    "feature_X_list = ['col_0', 'col_1', 'col_2', 'col_3', 'col_4', 'col_5', 'col_6', 'col_7', 'col_8']\n",
    "feature_y_list = ['value']\n",
    "\n",
    "split_mode = \"windows_split\"\n",
    "data_y_flag = True\n",
    "\n",
    "step = 'train'\n",
    "bucket_name = 'integration' \n",
    "data_clean_level = 0"
   ]
  },
  {
   "cell_type": "code",
   "execution_count": 3,
   "id": "17f37e4e",
   "metadata": {},
   "outputs": [
    {
     "name": "stdout",
     "output_type": "stream",
     "text": [
      "['classification_actionPattern_cleanLevel0_testX', 'classification_actionPattern_cleanLevel0_testy', 'classification_actionPattern_cleanLevel0_trainX', 'classification_actionPattern_cleanLevel0_trainy', 'forecasting_Hs2SwineFarmWithWeatherTime_cleanLevel0_testX', 'forecasting_Hs2SwineFarmWithWeatherTime_cleanLevel0_trainX', 'forecasting_Hs2SwineFarmWithWeatherTime_cleanLevel4_testX', 'forecasting_Hs2SwineFarmWithWeatherTime_cleanLevel4_trainX', 'forecasting_strawberryOpen_cleanLevel0_testX', 'forecasting_strawberryOpen_cleanLevel0_trainX', 'forecasting_strawberryOpen_cleanLevel4_testX', 'forecasting_strawberryOpen_cleanLevel4_trainX', 'regression_energy_cleanLevel0_testX', 'regression_energy_cleanLevel0_testy', 'regression_energy_cleanLevel0_trainX', 'regression_energy_cleanLevel0_trainy', 'regression_energy_cleanLevel4_testX', 'regression_energy_cleanLevel4_testy', 'regression_energy_cleanLevel4_trainX', 'regression_energy_cleanLevel4_trainy']\n",
      "==========================================================\n",
      "['forecasting_Hs2SwineFarmWithWeatherTime', 'regression_energy', 'classification_actionPattern', 'forecasting_strawberryOpen']\n"
     ]
    }
   ],
   "source": [
    "all_integrated_ms_list = db_client.measurement_list(bucket_name)\n",
    "print(all_integrated_ms_list)\n",
    "print(\"==========================================================\")\n",
    "collection_list = mongo_client.get_collection_list(bucket_name)\n",
    "print(collection_list)"
   ]
  },
  {
   "cell_type": "markdown",
   "id": "ea5ed7b1",
   "metadata": {},
   "source": [
    "### 1-2. Data Ingestion\n",
    "#### 1-2-1. Select data name "
   ]
  },
  {
   "cell_type": "code",
   "execution_count": 4,
   "id": "a390cb41",
   "metadata": {},
   "outputs": [],
   "source": [
    "dataset_name = model_purpose + '_' + app_name  \n",
    "data_name_X = dataset_name + '_cleanLevel' + str(data_clean_level)+'_'+step+'X'\n",
    "data_name_y = dataset_name+'_cleanLevel' + str(data_clean_level)+'_'+ step+'y'\n",
    "data_meta = mongo_client.get_document_by_json('integration', dataset_name, {'ms_name':data_name_X})[0]"
   ]
  },
  {
   "cell_type": "code",
   "execution_count": 5,
   "id": "01f5a7be",
   "metadata": {},
   "outputs": [
    {
     "data": {
      "text/plain": [
       "('classification_actionPattern_cleanLevel0_trainX',\n",
       " 'classification_actionPattern_cleanLevel0_trainy')"
      ]
     },
     "execution_count": 5,
     "metadata": {},
     "output_type": "execute_result"
    }
   ],
   "source": [
    "data_name_X, data_name_y"
   ]
  },
  {
   "cell_type": "code",
   "execution_count": 6,
   "id": "98223f79",
   "metadata": {},
   "outputs": [
    {
     "data": {
      "text/plain": [
       "{'bucket_name': 'integration',\n",
       " 'collection_name': 'classification_actionPattern',\n",
       " 'ms_name': 'classification_actionPattern_cleanLevel0_trainX',\n",
       " 'ingestion_type': 'multiple_ms_by_time',\n",
       " 'ingestion_param': {'ms_list_info': [['bio_action_sensors',\n",
       "    'accelerationTrain']],\n",
       "  'start_time': '1992-01-11',\n",
       "  'end_time': '2012-02-27'},\n",
       " 'processing_type': 'step_3',\n",
       " 'process_param': {'refine_param': {'removeDuplication': {'flag': False},\n",
       "   'staticFrequency': {'flag': False, 'frequency': None}},\n",
       "  'outlier_param': {'certainErrorToNaN': {'flag': False},\n",
       "   'unCertainErrorToNaN': {'flag': False}},\n",
       "  'imputation_param': {'flag': False}},\n",
       " 'integration_param': {'integration_frequency': 675,\n",
       "  'param': {},\n",
       "  'method': 'meta',\n",
       "  'integration_duration': 'common'},\n",
       " 'clean_level': 0}"
      ]
     },
     "execution_count": 6,
     "metadata": {},
     "output_type": "execute_result"
    }
   ],
   "source": [
    "data_meta"
   ]
  },
  {
   "cell_type": "markdown",
   "id": "61bd1d3e",
   "metadata": {},
   "source": [
    "#### 1-2-2. X-y Data Ingestion pipeline"
   ]
  },
  {
   "cell_type": "code",
   "execution_count": 7,
   "id": "5de3c987",
   "metadata": {},
   "outputs": [],
   "source": [
    "# Data Ingestion\n",
    "ingestion_method = 'ms_all'\n",
    "ingestion_param_X = {\n",
    "    \"bucket_name\" : bucket_name,\n",
    "    'ms_name' : data_name_X,\n",
    "    'feature_list' : feature_X_list                              \n",
    "}\n",
    "ingestion_param_y = {\n",
    "    \"bucket_name\" : bucket_name,\n",
    "    'ms_name' : data_name_y,\n",
    "    'feature_list' : feature_y_list                              \n",
    "}"
   ]
  },
  {
   "cell_type": "code",
   "execution_count": 8,
   "id": "20c14470",
   "metadata": {},
   "outputs": [],
   "source": [
    "data_X, data_y = ML_pipeline.Xy_data_preparation(ingestion_param_X, data_y_flag, ingestion_param_y, ingestion_method, db_client)"
   ]
  },
  {
   "cell_type": "code",
   "execution_count": 9,
   "id": "6ac47289",
   "metadata": {},
   "outputs": [
    {
     "name": "stdout",
     "output_type": "stream",
     "text": [
      "941056\n",
      "7352\n",
      "(941056, 9)\n",
      "(7352, 1)\n"
     ]
    }
   ],
   "source": [
    "print(len(data_X))\n",
    "print(len(data_y))\n",
    "print(data_X.shape)\n",
    "print(data_y.shape)"
   ]
  },
  {
   "cell_type": "code",
   "execution_count": 10,
   "id": "dfe087d4",
   "metadata": {},
   "outputs": [
    {
     "data": {
      "text/html": [
       "<div>\n",
       "<style scoped>\n",
       "    .dataframe tbody tr th:only-of-type {\n",
       "        vertical-align: middle;\n",
       "    }\n",
       "\n",
       "    .dataframe tbody tr th {\n",
       "        vertical-align: top;\n",
       "    }\n",
       "\n",
       "    .dataframe thead th {\n",
       "        text-align: right;\n",
       "    }\n",
       "</style>\n",
       "<table border=\"1\" class=\"dataframe\">\n",
       "  <thead>\n",
       "    <tr style=\"text-align: right;\">\n",
       "      <th></th>\n",
       "      <th>col_0</th>\n",
       "      <th>col_1</th>\n",
       "      <th>col_2</th>\n",
       "      <th>col_3</th>\n",
       "      <th>col_4</th>\n",
       "      <th>col_5</th>\n",
       "      <th>col_6</th>\n",
       "      <th>col_7</th>\n",
       "      <th>col_8</th>\n",
       "    </tr>\n",
       "    <tr>\n",
       "      <th>time</th>\n",
       "      <th></th>\n",
       "      <th></th>\n",
       "      <th></th>\n",
       "      <th></th>\n",
       "      <th></th>\n",
       "      <th></th>\n",
       "      <th></th>\n",
       "      <th></th>\n",
       "      <th></th>\n",
       "    </tr>\n",
       "  </thead>\n",
       "  <tbody>\n",
       "    <tr>\n",
       "      <th>1992-01-11 00:00:00+00:00</th>\n",
       "      <td>0.000181</td>\n",
       "      <td>0.010767</td>\n",
       "      <td>0.055561</td>\n",
       "      <td>0.030191</td>\n",
       "      <td>0.066014</td>\n",
       "      <td>0.022859</td>\n",
       "      <td>1.012817</td>\n",
       "      <td>-0.123217</td>\n",
       "      <td>0.102934</td>\n",
       "    </tr>\n",
       "    <tr>\n",
       "      <th>1992-01-11 00:11:15+00:00</th>\n",
       "      <td>0.010139</td>\n",
       "      <td>0.006579</td>\n",
       "      <td>0.055125</td>\n",
       "      <td>0.043711</td>\n",
       "      <td>0.042699</td>\n",
       "      <td>0.010316</td>\n",
       "      <td>1.022833</td>\n",
       "      <td>-0.126876</td>\n",
       "      <td>0.105687</td>\n",
       "    </tr>\n",
       "    <tr>\n",
       "      <th>1992-01-11 00:22:30+00:00</th>\n",
       "      <td>0.009276</td>\n",
       "      <td>0.008929</td>\n",
       "      <td>0.048405</td>\n",
       "      <td>0.035688</td>\n",
       "      <td>0.074850</td>\n",
       "      <td>0.013250</td>\n",
       "      <td>1.022028</td>\n",
       "      <td>-0.124004</td>\n",
       "      <td>0.102102</td>\n",
       "    </tr>\n",
       "    <tr>\n",
       "      <th>1992-01-11 00:33:45+00:00</th>\n",
       "      <td>0.005066</td>\n",
       "      <td>0.007489</td>\n",
       "      <td>0.049775</td>\n",
       "      <td>0.040402</td>\n",
       "      <td>0.057320</td>\n",
       "      <td>0.017751</td>\n",
       "      <td>1.017877</td>\n",
       "      <td>-0.124928</td>\n",
       "      <td>0.106553</td>\n",
       "    </tr>\n",
       "    <tr>\n",
       "      <th>1992-01-11 00:45:00+00:00</th>\n",
       "      <td>0.010810</td>\n",
       "      <td>0.006141</td>\n",
       "      <td>0.043013</td>\n",
       "      <td>0.047097</td>\n",
       "      <td>0.052343</td>\n",
       "      <td>0.002553</td>\n",
       "      <td>1.023680</td>\n",
       "      <td>-0.125767</td>\n",
       "      <td>0.102814</td>\n",
       "    </tr>\n",
       "    <tr>\n",
       "      <th>...</th>\n",
       "      <td>...</td>\n",
       "      <td>...</td>\n",
       "      <td>...</td>\n",
       "      <td>...</td>\n",
       "      <td>...</td>\n",
       "      <td>...</td>\n",
       "      <td>...</td>\n",
       "      <td>...</td>\n",
       "      <td>...</td>\n",
       "    </tr>\n",
       "    <tr>\n",
       "      <th>2012-02-26 23:03:45+00:00</th>\n",
       "      <td>0.022358</td>\n",
       "      <td>-0.280075</td>\n",
       "      <td>-0.180578</td>\n",
       "      <td>0.973228</td>\n",
       "      <td>1.083094</td>\n",
       "      <td>-0.226884</td>\n",
       "      <td>0.991497</td>\n",
       "      <td>-0.486260</td>\n",
       "      <td>-0.205803</td>\n",
       "    </tr>\n",
       "    <tr>\n",
       "      <th>2012-02-26 23:15:00+00:00</th>\n",
       "      <td>-0.024451</td>\n",
       "      <td>-0.248612</td>\n",
       "      <td>-0.153920</td>\n",
       "      <td>1.004266</td>\n",
       "      <td>1.187832</td>\n",
       "      <td>-0.313591</td>\n",
       "      <td>0.945067</td>\n",
       "      <td>-0.453405</td>\n",
       "      <td>-0.180733</td>\n",
       "    </tr>\n",
       "    <tr>\n",
       "      <th>2012-02-26 23:26:15+00:00</th>\n",
       "      <td>-0.071907</td>\n",
       "      <td>-0.194322</td>\n",
       "      <td>-0.127555</td>\n",
       "      <td>1.004855</td>\n",
       "      <td>1.156645</td>\n",
       "      <td>-0.362512</td>\n",
       "      <td>0.898095</td>\n",
       "      <td>-0.397775</td>\n",
       "      <td>-0.156105</td>\n",
       "    </tr>\n",
       "    <tr>\n",
       "      <th>2012-02-26 23:37:30+00:00</th>\n",
       "      <td>-0.142209</td>\n",
       "      <td>-0.147070</td>\n",
       "      <td>-0.092367</td>\n",
       "      <td>1.015589</td>\n",
       "      <td>1.100750</td>\n",
       "      <td>-0.383989</td>\n",
       "      <td>0.828372</td>\n",
       "      <td>-0.349247</td>\n",
       "      <td>-0.122798</td>\n",
       "    </tr>\n",
       "    <tr>\n",
       "      <th>2012-02-26 23:48:45+00:00</th>\n",
       "      <td>-0.170999</td>\n",
       "      <td>-0.131399</td>\n",
       "      <td>-0.051127</td>\n",
       "      <td>1.047599</td>\n",
       "      <td>1.011324</td>\n",
       "      <td>-0.335884</td>\n",
       "      <td>0.800243</td>\n",
       "      <td>-0.332372</td>\n",
       "      <td>-0.083572</td>\n",
       "    </tr>\n",
       "  </tbody>\n",
       "</table>\n",
       "<p>941056 rows × 9 columns</p>\n",
       "</div>"
      ],
      "text/plain": [
       "                              col_0     col_1     col_2     col_3     col_4  \\\n",
       "time                                                                          \n",
       "1992-01-11 00:00:00+00:00  0.000181  0.010767  0.055561  0.030191  0.066014   \n",
       "1992-01-11 00:11:15+00:00  0.010139  0.006579  0.055125  0.043711  0.042699   \n",
       "1992-01-11 00:22:30+00:00  0.009276  0.008929  0.048405  0.035688  0.074850   \n",
       "1992-01-11 00:33:45+00:00  0.005066  0.007489  0.049775  0.040402  0.057320   \n",
       "1992-01-11 00:45:00+00:00  0.010810  0.006141  0.043013  0.047097  0.052343   \n",
       "...                             ...       ...       ...       ...       ...   \n",
       "2012-02-26 23:03:45+00:00  0.022358 -0.280075 -0.180578  0.973228  1.083094   \n",
       "2012-02-26 23:15:00+00:00 -0.024451 -0.248612 -0.153920  1.004266  1.187832   \n",
       "2012-02-26 23:26:15+00:00 -0.071907 -0.194322 -0.127555  1.004855  1.156645   \n",
       "2012-02-26 23:37:30+00:00 -0.142209 -0.147070 -0.092367  1.015589  1.100750   \n",
       "2012-02-26 23:48:45+00:00 -0.170999 -0.131399 -0.051127  1.047599  1.011324   \n",
       "\n",
       "                              col_5     col_6     col_7     col_8  \n",
       "time                                                               \n",
       "1992-01-11 00:00:00+00:00  0.022859  1.012817 -0.123217  0.102934  \n",
       "1992-01-11 00:11:15+00:00  0.010316  1.022833 -0.126876  0.105687  \n",
       "1992-01-11 00:22:30+00:00  0.013250  1.022028 -0.124004  0.102102  \n",
       "1992-01-11 00:33:45+00:00  0.017751  1.017877 -0.124928  0.106553  \n",
       "1992-01-11 00:45:00+00:00  0.002553  1.023680 -0.125767  0.102814  \n",
       "...                             ...       ...       ...       ...  \n",
       "2012-02-26 23:03:45+00:00 -0.226884  0.991497 -0.486260 -0.205803  \n",
       "2012-02-26 23:15:00+00:00 -0.313591  0.945067 -0.453405 -0.180733  \n",
       "2012-02-26 23:26:15+00:00 -0.362512  0.898095 -0.397775 -0.156105  \n",
       "2012-02-26 23:37:30+00:00 -0.383989  0.828372 -0.349247 -0.122798  \n",
       "2012-02-26 23:48:45+00:00 -0.335884  0.800243 -0.332372 -0.083572  \n",
       "\n",
       "[941056 rows x 9 columns]"
      ]
     },
     "execution_count": 10,
     "metadata": {},
     "output_type": "execute_result"
    }
   ],
   "source": [
    "data_X"
   ]
  },
  {
   "cell_type": "code",
   "execution_count": 11,
   "id": "00f2692e",
   "metadata": {},
   "outputs": [
    {
     "data": {
      "text/html": [
       "<div>\n",
       "<style scoped>\n",
       "    .dataframe tbody tr th:only-of-type {\n",
       "        vertical-align: middle;\n",
       "    }\n",
       "\n",
       "    .dataframe tbody tr th {\n",
       "        vertical-align: top;\n",
       "    }\n",
       "\n",
       "    .dataframe thead th {\n",
       "        text-align: right;\n",
       "    }\n",
       "</style>\n",
       "<table border=\"1\" class=\"dataframe\">\n",
       "  <thead>\n",
       "    <tr style=\"text-align: right;\">\n",
       "      <th></th>\n",
       "      <th>value</th>\n",
       "    </tr>\n",
       "    <tr>\n",
       "      <th>time</th>\n",
       "      <th></th>\n",
       "    </tr>\n",
       "  </thead>\n",
       "  <tbody>\n",
       "    <tr>\n",
       "      <th>1992-01-11 00:00:00+00:00</th>\n",
       "      <td>4.0</td>\n",
       "    </tr>\n",
       "    <tr>\n",
       "      <th>1992-01-12 00:00:00+00:00</th>\n",
       "      <td>4.0</td>\n",
       "    </tr>\n",
       "    <tr>\n",
       "      <th>1992-01-13 00:00:00+00:00</th>\n",
       "      <td>4.0</td>\n",
       "    </tr>\n",
       "    <tr>\n",
       "      <th>1992-01-14 00:00:00+00:00</th>\n",
       "      <td>4.0</td>\n",
       "    </tr>\n",
       "    <tr>\n",
       "      <th>1992-01-15 00:00:00+00:00</th>\n",
       "      <td>4.0</td>\n",
       "    </tr>\n",
       "    <tr>\n",
       "      <th>...</th>\n",
       "      <td>...</td>\n",
       "    </tr>\n",
       "    <tr>\n",
       "      <th>2012-02-22 00:00:00+00:00</th>\n",
       "      <td>1.0</td>\n",
       "    </tr>\n",
       "    <tr>\n",
       "      <th>2012-02-23 00:00:00+00:00</th>\n",
       "      <td>1.0</td>\n",
       "    </tr>\n",
       "    <tr>\n",
       "      <th>2012-02-24 00:00:00+00:00</th>\n",
       "      <td>1.0</td>\n",
       "    </tr>\n",
       "    <tr>\n",
       "      <th>2012-02-25 00:00:00+00:00</th>\n",
       "      <td>1.0</td>\n",
       "    </tr>\n",
       "    <tr>\n",
       "      <th>2012-02-26 00:00:00+00:00</th>\n",
       "      <td>1.0</td>\n",
       "    </tr>\n",
       "  </tbody>\n",
       "</table>\n",
       "<p>7352 rows × 1 columns</p>\n",
       "</div>"
      ],
      "text/plain": [
       "                           value\n",
       "time                            \n",
       "1992-01-11 00:00:00+00:00    4.0\n",
       "1992-01-12 00:00:00+00:00    4.0\n",
       "1992-01-13 00:00:00+00:00    4.0\n",
       "1992-01-14 00:00:00+00:00    4.0\n",
       "1992-01-15 00:00:00+00:00    4.0\n",
       "...                          ...\n",
       "2012-02-22 00:00:00+00:00    1.0\n",
       "2012-02-23 00:00:00+00:00    1.0\n",
       "2012-02-24 00:00:00+00:00    1.0\n",
       "2012-02-25 00:00:00+00:00    1.0\n",
       "2012-02-26 00:00:00+00:00    1.0\n",
       "\n",
       "[7352 rows x 1 columns]"
      ]
     },
     "execution_count": 11,
     "metadata": {},
     "output_type": "execute_result"
    }
   ],
   "source": [
    "data_y"
   ]
  },
  {
   "cell_type": "markdown",
   "id": "85ab11f1",
   "metadata": {},
   "source": [
    "### 1-2-2. Random Nan Insert (Test)"
   ]
  },
  {
   "cell_type": "code",
   "execution_count": 12,
   "id": "3ca253f1",
   "metadata": {},
   "outputs": [],
   "source": [
    "nan_ratio = 0.00"
   ]
  },
  {
   "cell_type": "code",
   "execution_count": 13,
   "id": "5a924d10",
   "metadata": {},
   "outputs": [
    {
     "name": "stderr",
     "output_type": "stream",
     "text": [
      "../../../../Clust/clust/ML/common/tool.py:17: FutureWarning: The pandas.np module is deprecated and will be removed from pandas in a future version. Import numpy directly instead.\n",
      "  df.loc[df.sample(frac=nan_ratio). index, col] = pd.np.nan\n"
     ]
    }
   ],
   "source": [
    "data_X = tool.random_nan_df(data_X, nan_ratio)\n",
    "data_y = tool.random_nan_df(data_y, nan_ratio)"
   ]
  },
  {
   "cell_type": "markdown",
   "id": "3e0ed176",
   "metadata": {},
   "source": [
    "#### 1-2-3. Data scaling"
   ]
  },
  {
   "cell_type": "code",
   "execution_count": 14,
   "id": "5023759c",
   "metadata": {},
   "outputs": [],
   "source": [
    "scaler_param='scale'\n",
    "scale_method='minmax'\n",
    "scaler_path = './scaler/'"
   ]
  },
  {
   "cell_type": "code",
   "execution_count": 15,
   "id": "9be0248a",
   "metadata": {},
   "outputs": [
    {
     "name": "stdout",
     "output_type": "stream",
     "text": [
      "['col_0', 'col_1', 'col_2', 'col_3', 'col_4', 'col_5', 'col_6', 'col_7', 'col_8']\n",
      "Make New scaler File\n",
      "['value']\n",
      "Make New scaler File\n"
     ]
    }
   ],
   "source": [
    "dataX_scaled, X_scalerFilePath, datay_scaled, y_scalerFilePath= ML_pipeline.Xy_data_scaling_train(data_name_X, data_X, data_name_y, data_y, scaler_path, scaler_param, scale_method)"
   ]
  },
  {
   "cell_type": "markdown",
   "id": "1eb8f468",
   "metadata": {},
   "source": [
    "## 2. Cleaning and split\n",
    "### 2.1 pipeline - clean low quality column"
   ]
  },
  {
   "cell_type": "code",
   "execution_count": 16,
   "id": "d8731a71",
   "metadata": {},
   "outputs": [],
   "source": [
    "model_clean = False\n",
    "nan_process_info = {'type':'num', 'ConsecutiveNanLimit':10000, 'totalNaNLimit':100000}"
   ]
  },
  {
   "cell_type": "code",
   "execution_count": 17,
   "id": "a06b2b35",
   "metadata": {},
   "outputs": [],
   "source": [
    "dataX_scaled = ML_pipeline.clean_low_quality_column(model_clean, nan_process_info, dataX_scaled)\n",
    "feature_X_list= list(dataX_scaled.columns)"
   ]
  },
  {
   "cell_type": "markdown",
   "id": "4b1ca2e8",
   "metadata": {},
   "source": [
    "### 2.2 Train/Val Split pipeline"
   ]
  },
  {
   "cell_type": "code",
   "execution_count": 18,
   "id": "51ba9bde",
   "metadata": {},
   "outputs": [],
   "source": [
    "split_ratio = 0.8"
   ]
  },
  {
   "cell_type": "code",
   "execution_count": 19,
   "id": "6673e257",
   "metadata": {},
   "outputs": [],
   "source": [
    "# TODO 데이터 나뉘는 부분 추가로 작성된 것 지수님에게 물어봐야 함\n",
    "day_window_size = tool.get_default_day_window_size(dataX_scaled)\n",
    "train_x, val_x, train_y, val_y = ML_pipeline.split_data_by_mode(split_mode, split_ratio, dataX_scaled, datay_scaled, day_window_size)"
   ]
  },
  {
   "cell_type": "code",
   "execution_count": 20,
   "id": "292b4742",
   "metadata": {},
   "outputs": [
    {
     "data": {
      "text/plain": [
       "128"
      ]
     },
     "execution_count": 20,
     "metadata": {},
     "output_type": "execute_result"
    }
   ],
   "source": [
    "day_window_size"
   ]
  },
  {
   "cell_type": "code",
   "execution_count": 21,
   "id": "7c3c3bd6",
   "metadata": {},
   "outputs": [
    {
     "data": {
      "text/html": [
       "<div>\n",
       "<style scoped>\n",
       "    .dataframe tbody tr th:only-of-type {\n",
       "        vertical-align: middle;\n",
       "    }\n",
       "\n",
       "    .dataframe tbody tr th {\n",
       "        vertical-align: top;\n",
       "    }\n",
       "\n",
       "    .dataframe thead th {\n",
       "        text-align: right;\n",
       "    }\n",
       "</style>\n",
       "<table border=\"1\" class=\"dataframe\">\n",
       "  <thead>\n",
       "    <tr style=\"text-align: right;\">\n",
       "      <th></th>\n",
       "      <th>col_0</th>\n",
       "      <th>col_1</th>\n",
       "      <th>col_2</th>\n",
       "      <th>col_3</th>\n",
       "      <th>col_4</th>\n",
       "      <th>col_5</th>\n",
       "      <th>col_6</th>\n",
       "      <th>col_7</th>\n",
       "      <th>col_8</th>\n",
       "    </tr>\n",
       "    <tr>\n",
       "      <th>time</th>\n",
       "      <th></th>\n",
       "      <th></th>\n",
       "      <th></th>\n",
       "      <th></th>\n",
       "      <th></th>\n",
       "      <th></th>\n",
       "      <th></th>\n",
       "      <th></th>\n",
       "      <th></th>\n",
       "    </tr>\n",
       "  </thead>\n",
       "  <tbody>\n",
       "    <tr>\n",
       "      <th>1992-01-11 00:00:00+00:00</th>\n",
       "      <td>0.486708</td>\n",
       "      <td>0.584184</td>\n",
       "      <td>0.584082</td>\n",
       "      <td>0.535918</td>\n",
       "      <td>0.515370</td>\n",
       "      <td>0.543161</td>\n",
       "      <td>0.555284</td>\n",
       "      <td>0.521129</td>\n",
       "      <td>0.596563</td>\n",
       "    </tr>\n",
       "    <tr>\n",
       "      <th>1992-01-11 00:11:15+00:00</th>\n",
       "      <td>0.490641</td>\n",
       "      <td>0.582380</td>\n",
       "      <td>0.583903</td>\n",
       "      <td>0.537439</td>\n",
       "      <td>0.513381</td>\n",
       "      <td>0.540716</td>\n",
       "      <td>0.559043</td>\n",
       "      <td>0.519822</td>\n",
       "      <td>0.597505</td>\n",
       "    </tr>\n",
       "    <tr>\n",
       "      <th>1992-01-11 00:22:30+00:00</th>\n",
       "      <td>0.490300</td>\n",
       "      <td>0.583392</td>\n",
       "      <td>0.581139</td>\n",
       "      <td>0.536537</td>\n",
       "      <td>0.516124</td>\n",
       "      <td>0.541288</td>\n",
       "      <td>0.558741</td>\n",
       "      <td>0.520847</td>\n",
       "      <td>0.596278</td>\n",
       "    </tr>\n",
       "    <tr>\n",
       "      <th>1992-01-11 00:33:45+00:00</th>\n",
       "      <td>0.488638</td>\n",
       "      <td>0.582772</td>\n",
       "      <td>0.581703</td>\n",
       "      <td>0.537067</td>\n",
       "      <td>0.514629</td>\n",
       "      <td>0.542166</td>\n",
       "      <td>0.557183</td>\n",
       "      <td>0.520517</td>\n",
       "      <td>0.597802</td>\n",
       "    </tr>\n",
       "    <tr>\n",
       "      <th>1992-01-11 00:45:00+00:00</th>\n",
       "      <td>0.490906</td>\n",
       "      <td>0.582191</td>\n",
       "      <td>0.578922</td>\n",
       "      <td>0.537820</td>\n",
       "      <td>0.514204</td>\n",
       "      <td>0.539202</td>\n",
       "      <td>0.559361</td>\n",
       "      <td>0.520218</td>\n",
       "      <td>0.596521</td>\n",
       "    </tr>\n",
       "    <tr>\n",
       "      <th>...</th>\n",
       "      <td>...</td>\n",
       "      <td>...</td>\n",
       "      <td>...</td>\n",
       "      <td>...</td>\n",
       "      <td>...</td>\n",
       "      <td>...</td>\n",
       "      <td>...</td>\n",
       "      <td>...</td>\n",
       "      <td>...</td>\n",
       "    </tr>\n",
       "    <tr>\n",
       "      <th>2008-02-16 23:03:45+00:00</th>\n",
       "      <td>0.487328</td>\n",
       "      <td>0.582224</td>\n",
       "      <td>0.561860</td>\n",
       "      <td>0.531996</td>\n",
       "      <td>0.508964</td>\n",
       "      <td>0.542586</td>\n",
       "      <td>0.557988</td>\n",
       "      <td>0.504818</td>\n",
       "      <td>0.568865</td>\n",
       "    </tr>\n",
       "    <tr>\n",
       "      <th>2008-02-16 23:15:00+00:00</th>\n",
       "      <td>0.486507</td>\n",
       "      <td>0.581658</td>\n",
       "      <td>0.561933</td>\n",
       "      <td>0.532397</td>\n",
       "      <td>0.508276</td>\n",
       "      <td>0.541986</td>\n",
       "      <td>0.557211</td>\n",
       "      <td>0.504345</td>\n",
       "      <td>0.568898</td>\n",
       "    </tr>\n",
       "    <tr>\n",
       "      <th>2008-02-16 23:26:15+00:00</th>\n",
       "      <td>0.487463</td>\n",
       "      <td>0.581152</td>\n",
       "      <td>0.563547</td>\n",
       "      <td>0.533299</td>\n",
       "      <td>0.508082</td>\n",
       "      <td>0.541137</td>\n",
       "      <td>0.558124</td>\n",
       "      <td>0.503923</td>\n",
       "      <td>0.570212</td>\n",
       "    </tr>\n",
       "    <tr>\n",
       "      <th>2008-02-16 23:37:30+00:00</th>\n",
       "      <td>0.487195</td>\n",
       "      <td>0.582381</td>\n",
       "      <td>0.563233</td>\n",
       "      <td>0.533476</td>\n",
       "      <td>0.508220</td>\n",
       "      <td>0.539839</td>\n",
       "      <td>0.557874</td>\n",
       "      <td>0.504939</td>\n",
       "      <td>0.569920</td>\n",
       "    </tr>\n",
       "    <tr>\n",
       "      <th>2008-02-16 23:48:45+00:00</th>\n",
       "      <td>0.487670</td>\n",
       "      <td>0.582564</td>\n",
       "      <td>0.560610</td>\n",
       "      <td>0.533026</td>\n",
       "      <td>0.509142</td>\n",
       "      <td>0.537767</td>\n",
       "      <td>0.558330</td>\n",
       "      <td>0.505090</td>\n",
       "      <td>0.567704</td>\n",
       "    </tr>\n",
       "  </tbody>\n",
       "</table>\n",
       "<p>752768 rows × 9 columns</p>\n",
       "</div>"
      ],
      "text/plain": [
       "                              col_0     col_1     col_2     col_3     col_4  \\\n",
       "time                                                                          \n",
       "1992-01-11 00:00:00+00:00  0.486708  0.584184  0.584082  0.535918  0.515370   \n",
       "1992-01-11 00:11:15+00:00  0.490641  0.582380  0.583903  0.537439  0.513381   \n",
       "1992-01-11 00:22:30+00:00  0.490300  0.583392  0.581139  0.536537  0.516124   \n",
       "1992-01-11 00:33:45+00:00  0.488638  0.582772  0.581703  0.537067  0.514629   \n",
       "1992-01-11 00:45:00+00:00  0.490906  0.582191  0.578922  0.537820  0.514204   \n",
       "...                             ...       ...       ...       ...       ...   \n",
       "2008-02-16 23:03:45+00:00  0.487328  0.582224  0.561860  0.531996  0.508964   \n",
       "2008-02-16 23:15:00+00:00  0.486507  0.581658  0.561933  0.532397  0.508276   \n",
       "2008-02-16 23:26:15+00:00  0.487463  0.581152  0.563547  0.533299  0.508082   \n",
       "2008-02-16 23:37:30+00:00  0.487195  0.582381  0.563233  0.533476  0.508220   \n",
       "2008-02-16 23:48:45+00:00  0.487670  0.582564  0.560610  0.533026  0.509142   \n",
       "\n",
       "                              col_5     col_6     col_7     col_8  \n",
       "time                                                               \n",
       "1992-01-11 00:00:00+00:00  0.543161  0.555284  0.521129  0.596563  \n",
       "1992-01-11 00:11:15+00:00  0.540716  0.559043  0.519822  0.597505  \n",
       "1992-01-11 00:22:30+00:00  0.541288  0.558741  0.520847  0.596278  \n",
       "1992-01-11 00:33:45+00:00  0.542166  0.557183  0.520517  0.597802  \n",
       "1992-01-11 00:45:00+00:00  0.539202  0.559361  0.520218  0.596521  \n",
       "...                             ...       ...       ...       ...  \n",
       "2008-02-16 23:03:45+00:00  0.542586  0.557988  0.504818  0.568865  \n",
       "2008-02-16 23:15:00+00:00  0.541986  0.557211  0.504345  0.568898  \n",
       "2008-02-16 23:26:15+00:00  0.541137  0.558124  0.503923  0.570212  \n",
       "2008-02-16 23:37:30+00:00  0.539839  0.557874  0.504939  0.569920  \n",
       "2008-02-16 23:48:45+00:00  0.537767  0.558330  0.505090  0.567704  \n",
       "\n",
       "[752768 rows x 9 columns]"
      ]
     },
     "execution_count": 21,
     "metadata": {},
     "output_type": "execute_result"
    }
   ],
   "source": [
    "train_x"
   ]
  },
  {
   "cell_type": "markdown",
   "id": "567b6226",
   "metadata": {},
   "source": [
    "### 2.3 Data Transformation & Clean2 pipeline"
   ]
  },
  {
   "cell_type": "code",
   "execution_count": 22,
   "id": "37a7d56f",
   "metadata": {},
   "outputs": [],
   "source": [
    "max_nan_limit_ratio = 0.5\n",
    "transformParameter = {\n",
    "        'past_step':day_window_size,\n",
    "        'max_nan_limit_ratio': max_nan_limit_ratio\n",
    "}"
   ]
  },
  {
   "cell_type": "code",
   "execution_count": 23,
   "id": "476384ff",
   "metadata": {},
   "outputs": [],
   "source": [
    "# train_X_array, train_y_array = ML_pipeline.transform_data_by_split_mode(split_mode, transformParameter, train_x, train_y)\n",
    "# val_X_array, val_y_array = ML_pipeline.transform_data_by_split_mode(split_mode, transformParameter, val_x, val_y)"
   ]
  },
  {
   "cell_type": "code",
   "execution_count": 24,
   "id": "dda33f82",
   "metadata": {},
   "outputs": [
    {
     "name": "stdout",
     "output_type": "stream",
     "text": [
      "window_size: 128 nan_limit_num: 64\n",
      "(752768, 9) (5881, 128, 9)\n",
      "(5881, 1) (5881, 1)\n",
      "window_size: 128 nan_limit_num: 64\n",
      "(188288, 9) (1471, 128, 9)\n",
      "(1471, 1) (1471, 1)\n"
     ]
    }
   ],
   "source": [
    "model_method = 'LSTM_cf'\n",
    "dim = 3\n",
    "\n",
    "if model_method == \"FC_cf\":\n",
    "    dim = 2\n",
    "\n",
    "if type(train_x) !=  np.ndarray:\n",
    "    train_X_array, train_y_array = trans_DF_to_NP_by_windowNum(train_x, train_y, transformParameter)\n",
    "    val_X_array, val_y_array = trans_DF_to_NP_by_windowNum(val_x, val_y, transformParameter)\n",
    "    \n",
    "input_size = train_X_array.shape[2]\n",
    "# TBD\n",
    "#if dim != 2:\n",
    "seq_len = train_X_array.shape[1] # seq_length"
   ]
  },
  {
   "cell_type": "code",
   "execution_count": 25,
   "id": "b5aaf071",
   "metadata": {},
   "outputs": [
    {
     "name": "stdout",
     "output_type": "stream",
     "text": [
      "(5881, 128, 9)\n",
      "(5881, 1)\n",
      "(1471, 128, 9)\n",
      "(1471, 1)\n"
     ]
    }
   ],
   "source": [
    "print(train_X_array.shape)\n",
    "print(train_y_array.shape)\n",
    "print(val_X_array.shape)\n",
    "print(val_y_array.shape)"
   ]
  },
  {
   "cell_type": "code",
   "execution_count": 26,
   "id": "1b5d18b7",
   "metadata": {},
   "outputs": [],
   "source": [
    "# model_method = 'LSTM_cf'\n",
    "# dim = 3\n",
    "\n",
    "# if model_method == \"FC_cf\":\n",
    "#     dim = 2\n",
    "\n",
    "# input_size = train_X_array.shape[1]\n",
    "# if dim != 2:\n",
    "#     seq_len = train_X_array.shape[2] # seq_length"
   ]
  },
  {
   "cell_type": "code",
   "execution_count": 27,
   "id": "8f14487a",
   "metadata": {},
   "outputs": [
    {
     "data": {
      "text/plain": [
       "numpy.ndarray"
      ]
     },
     "execution_count": 27,
     "metadata": {},
     "output_type": "execute_result"
    }
   ],
   "source": [
    "type(train_X_array)"
   ]
  },
  {
   "cell_type": "markdown",
   "id": "42a6fb92",
   "metadata": {},
   "source": [
    "### 2.4 Set Model and train parameter"
   ]
  },
  {
   "cell_type": "code",
   "execution_count": 28,
   "id": "d533ada9",
   "metadata": {},
   "outputs": [],
   "source": [
    "# RNN models (RNN, LSTM, GRU) parameters\n",
    "if model_method == 'LSTM_cf' or model_method == 'GRU_cf':\n",
    "    modelParameter = {\n",
    "        'input_size': input_size,\n",
    "        'seq_len': seq_len,\n",
    "        'num_classes': 6,\n",
    "        'num_layers': 2,  # recurrent layers의 수, int(default: 2, 범위: 1 이상)\n",
    "        'hidden_size': 64,  # hidden state의 차원, int(default: 64, 범위: 1 이상)\n",
    "        'dropout': 0.1,  # dropout 확률, float(default: 0.1, 범위: 0 이상 1 이하)\n",
    "        'bidirectional': True  # 모델의 양방향성 여부, bool(default: True)   \n",
    "    }\n",
    "    if model_method == 'LSTM_cf':\n",
    "        modelParameter['rnn_type'] = 'lstm'\n",
    "    else:\n",
    "        modelParameter['rnn_type'] = 'gru'\n",
    "        \n",
    "# CNN_1D model parameters\n",
    "elif model_method == 'CNN_1D_cf':\n",
    "    modelParameter = {\n",
    "    'input_size': input_size,\n",
    "    'seq_len': seq_len,\n",
    "    'num_classes': 6,\n",
    "    'output_channels': 64, # convolution layer의 output channel, int(default: 64, 범위: 1 이상, 2의 지수로 설정 권장)\n",
    "    'kernel_size': 3, # convolutional layer의 filter 크기, int(default: 3, 범위: 3 이상, 홀수로 설정 권장)\n",
    "    'stride': 1, # convolution layer의 stride 크기, int(default: 1, 범위: 1 이상)\n",
    "    'padding': 0, # padding 크기, int(default: 0, 범위: 0 이상)\n",
    "    'drop_out': 0.1 # dropout 확률, float(default: 0.1, 범위: 0 이상 1 이하)\n",
    "    }\n",
    "    \n",
    "# LSTM_FCNs model parameters\n",
    "elif model_method == 'LSTM_FCNs_cf':\n",
    "    modelParameter = {\n",
    "    'input_size': input_size,\n",
    "    'seq_len': seq_len,\n",
    "    'num_classes': 6,\n",
    "    'num_layers': 1,  # recurrent layers의 수, int(default: 1, 범위: 1 이상)\n",
    "    'lstm_drop_out': 0.4, # LSTM dropout 확률, float(default: 0.4, 범위: 0 이상 1 이하)\n",
    "    'fc_drop_out': 0.1 # FC dropout 확률, float(default: 0.1, 범위: 0 이상 1 이하)\n",
    "    }\n",
    "    \n",
    "# FC model parameters\n",
    "elif model_method == 'FC_cf':\n",
    "    input_size = seq_len * input_size\n",
    "    modelParameter = {\n",
    "    'input_size': input_size,\n",
    "    'num_classes': 6,\n",
    "    'drop_out': 0.1, # dropout 확률, float(default: 0.1, 범위: 0 이상 1 이하)\n",
    "    'bias': True# bias 사용 여부, bool(default: True)\n",
    "    }\n",
    "\n",
    "train_parameter = {\n",
    "    'lr': 1e-4,\n",
    "    'weight_decay': 1e-6, \n",
    "    'device': device, \n",
    "    'n_epochs': 5, \n",
    "    'batch_size': 16\n",
    "}"
   ]
  },
  {
   "cell_type": "code",
   "execution_count": 29,
   "id": "fccfa90b",
   "metadata": {},
   "outputs": [],
   "source": [
    "model_name = None\n",
    "model_file_path = None"
   ]
  },
  {
   "cell_type": "markdown",
   "id": "c366ee67",
   "metadata": {},
   "source": [
    "### 2.5 Set Model name and path pipeline"
   ]
  },
  {
   "cell_type": "code",
   "execution_count": 30,
   "id": "104e3bd6",
   "metadata": {},
   "outputs": [
    {
     "name": "stdout",
     "output_type": "stream",
     "text": [
      "./Models/LSTM_cf/actionPattern_LSTM_cf_False/classification_actionPattern_cleanLevel0_trainX/035b06e2d9df4a58aa1dd8622746dd1f/model.pkl\n"
     ]
    }
   ],
   "source": [
    "# model_name and file path check and create\n",
    "model_name = tool.get_default_model_name(model_name, app_name, model_method, model_clean)\n",
    "model_file_path = tool.get_default_model_path(model_name, data_name_X, model_method, train_parameter)"
   ]
  },
  {
   "cell_type": "code",
   "execution_count": 31,
   "id": "c0391e9f",
   "metadata": {},
   "outputs": [
    {
     "data": {
      "text/plain": [
       "'actionPattern_LSTM_cf_False'"
      ]
     },
     "execution_count": 31,
     "metadata": {},
     "output_type": "execute_result"
    }
   ],
   "source": [
    "model_name"
   ]
  },
  {
   "cell_type": "code",
   "execution_count": 32,
   "id": "454abbab",
   "metadata": {},
   "outputs": [],
   "source": [
    "from Clust.clust.ML.classification.train import ClassificationTrain as CML\n",
    "def CLUST_classification_train(train_X_array, train_y_array, val_X_array, val_y_array, train_parameter, model_method, model_file_path, modelParameter):\n",
    "    cml = CML()\n",
    "    cml.set_param(train_parameter)\n",
    "    cml.set_model(model_method, modelParameter)\n",
    "    cml.set_data(train_X_array, train_y_array, val_X_array, val_y_array)\n",
    "    cml.train()\n",
    "    cml.save_best_model(model_file_path)\n"
   ]
  },
  {
   "cell_type": "code",
   "execution_count": 33,
   "id": "e3ac2c52",
   "metadata": {},
   "outputs": [
    {
     "name": "stdout",
     "output_type": "stream",
     "text": [
      "Start training model\n",
      "\n",
      "Epoch 1/5\n",
      "train Loss: 0.8013 Acc: 0.7718\n",
      "val Loss: 0.5130 Acc: 0.8001\n",
      "\n",
      "Training complete in 0m 30s\n",
      "Best val Acc: 0.975962\n"
     ]
    }
   ],
   "source": [
    "CLUST_classification_train(train_X_array, train_y_array, val_X_array, val_y_array, train_parameter, model_method, model_file_path, modelParameter)"
   ]
  },
  {
   "cell_type": "markdown",
   "id": "f834abe4",
   "metadata": {},
   "source": [
    "## 4. save metadata"
   ]
  },
  {
   "cell_type": "code",
   "execution_count": 34,
   "id": "ebbd01d6",
   "metadata": {},
   "outputs": [],
   "source": [
    "# from Clust.clust.transformation.general.dataScaler import encode_hash_style\n",
    "modelTags =[\"model_tag_example\"]\n",
    "trainDataType = \"timeseries\"\n",
    "\n",
    "modelInfoMeta ={\n",
    "    \"trainDataInfo\":data_meta,\n",
    "    \"modelName\":model_name,\n",
    "    \"dataSplitMode\":split_mode,\n",
    "    \"featureXList\":feature_X_list,\n",
    "    \"featureyList\":feature_y_list,\n",
    "    \"data_y_flag\": data_y_flag,\n",
    "    \"trainDataType\":trainDataType,\n",
    "    \"modelPurpose\":model_purpose,\n",
    "    \"modelMethod\":model_method,\n",
    "    \"modelTags\":modelTags,\n",
    "    \"modelCleanLevel\":model_clean,\n",
    "    \"trainParameter\": train_parameter,\n",
    "    \"modelParameter\": modelParameter,\n",
    "    \"transformParameter\":transformParameter,\n",
    "    \"scalerParam\":scaler_param,\n",
    "    \"trainDataName\":[data_name_X, data_name_y], \n",
    "\n",
    "    \"files\":{\n",
    "        \"modelFile\":{\n",
    "            \"fileName\":\"model.pth\",\n",
    "            \"filePath\":model_file_path\n",
    "        },\n",
    "        \"XScalerFile\":{\n",
    "            \"fileName\":\"scaler.pkl\",\n",
    "            \"filePath\":X_scalerFilePath       \n",
    "        },\n",
    "        \"yScalerFile\":{\n",
    "            \"fileName\":\"scaler.pkl\",\n",
    "            \"filePath\":y_scalerFilePath      \n",
    "        }\n",
    "    }\n",
    "}"
   ]
  },
  {
   "cell_type": "code",
   "execution_count": 35,
   "id": "a62ba9e0",
   "metadata": {},
   "outputs": [
    {
     "name": "stdout",
     "output_type": "stream",
     "text": [
      "========== Data Save Success ==========\n",
      "{'trainDataInfo': {'bucket_name': 'integration', 'collection_name': 'classification_actionPattern', 'ms_name': 'classification_actionPattern_cleanLevel0_trainX', 'ingestion_type': 'multiple_ms_by_time', 'ingestion_param': {'ms_list_info': [['bio_action_sensors', 'accelerationTrain']], 'start_time': '1992-01-11', 'end_time': '2012-02-27'}, 'processing_type': 'step_3', 'process_param': {'refine_param': {'removeDuplication': {'flag': False}, 'staticFrequency': {'flag': False, 'frequency': None}}, 'outlier_param': {'certainErrorToNaN': {'flag': False}, 'unCertainErrorToNaN': {'flag': False}}, 'imputation_param': {'flag': False}}, 'integration_param': {'integration_frequency': 675, 'param': {}, 'method': 'meta', 'integration_duration': 'common'}, 'clean_level': 0}, 'modelName': 'actionPattern_LSTM_cf_False', 'dataSplitMode': 'windows_split', 'featureXList': ['col_0', 'col_1', 'col_2', 'col_3', 'col_4', 'col_5', 'col_6', 'col_7', 'col_8'], 'featureyList': ['value'], 'data_y_flag': True, 'trainDataType': 'timeseries', 'modelPurpose': 'classification', 'modelMethod': 'LSTM_cf', 'modelTags': ['model_tag_example'], 'modelCleanLevel': False, 'trainParameter': {'lr': 0.0001, 'weight_decay': 1e-06, 'device': 'cpu', 'n_epochs': 5, 'batch_size': 16}, 'modelParameter': {'input_size': 9, 'seq_len': 128, 'num_classes': 6, 'num_layers': 2, 'hidden_size': 64, 'dropout': 0.1, 'bidirectional': True, 'rnn_type': 'lstm'}, 'transformParameter': {'past_step': 128, 'max_nan_limit_ratio': 0.5}, 'scalerParam': 'scale', 'trainDataName': ['classification_actionPattern_cleanLevel0_trainX', 'classification_actionPattern_cleanLevel0_trainy'], 'files': {'modelFile': {'fileName': 'model.pth', 'filePath': './Models/LSTM_cf/actionPattern_LSTM_cf_False/classification_actionPattern_cleanLevel0_trainX/035b06e2d9df4a58aa1dd8622746dd1f/model.pkl'}, 'XScalerFile': {'fileName': 'scaler.pkl', 'filePath': './scaler/classification_actionPattern_cleanLevel0_trainX/minmax/2b219d77d5b069971addb3d7c728ec0d/scaler.pkl'}, 'yScalerFile': {'fileName': 'scaler.pkl', 'filePath': './scaler/classification_actionPattern_cleanLevel0_trainy/minmax/f69156750a210491ffd4a67b605bc88b/scaler.pkl'}}, '_id': ObjectId('6465cd14c33fef59770fcb62')}\n"
     ]
    }
   ],
   "source": [
    "from Clust.clust.ML.tool import meta as ml_meta\n",
    "modelInfoMeta = ml_meta.save_model_meta_data(mongo_client, modelInfoMeta)"
   ]
  },
  {
   "cell_type": "code",
   "execution_count": 36,
   "id": "39a86637",
   "metadata": {},
   "outputs": [],
   "source": [
    "modelInfoMeta"
   ]
  }
 ],
 "metadata": {
  "hide_input": false,
  "kernelspec": {
   "display_name": "Python 3 (ipykernel)",
   "language": "python",
   "name": "python3"
  },
  "language_info": {
   "codemirror_mode": {
    "name": "ipython",
    "version": 3
   },
   "file_extension": ".py",
   "mimetype": "text/x-python",
   "name": "python",
   "nbconvert_exporter": "python",
   "pygments_lexer": "ipython3",
   "version": "3.8.8"
  },
  "toc": {
   "base_numbering": 1,
   "nav_menu": {},
   "number_sections": true,
   "sideBar": true,
   "skip_h1_title": false,
   "title_cell": "Table of Contents",
   "title_sidebar": "Contents",
   "toc_cell": true,
   "toc_position": {
    "height": "calc(100% - 180px)",
    "left": "10px",
    "top": "150px",
    "width": "307.2px"
   },
   "toc_section_display": true,
   "toc_window_display": true
  }
 },
 "nbformat": 4,
 "nbformat_minor": 5
}
