{
 "cells": [
  {
   "cell_type": "markdown",
   "id": "fd79d0c3",
   "metadata": {},
   "source": [
    "# 3. Test"
   ]
  },
  {
   "cell_type": "code",
   "execution_count": 1,
   "id": "1611f6b2",
   "metadata": {},
   "outputs": [
    {
     "name": "stdout",
     "output_type": "stream",
     "text": [
      "cpu is available.\n"
     ]
    }
   ],
   "source": [
    "import sys, os\n",
    "import pandas as pd\n",
    "sys.path.append(\"../../../../\")\n",
    "\n",
    "from Clust.setting import influx_setting_KETI as ins\n",
    "from Clust.clust.ingestion.influx import influx_client_v2 as influx_Client\n",
    "from Clust.clust.ingestion.mongo.mongo_client import MongoClient\n",
    "db_client = influx_Client.InfluxClient(ins.CLUSTDataServer2)\n",
    "mongo_client = MongoClient(ins.CLUSTMetaInfo2)\n",
    "\n",
    "import torch\n",
    "device = \"cuda\" if torch.cuda.is_available() else \"cpu\"\n",
    "print(f\"{device}\" \" is available.\")"
   ]
  },
  {
   "cell_type": "code",
   "execution_count": 2,
   "id": "1d986cdb",
   "metadata": {},
   "outputs": [],
   "source": [
    "from Clust.clust.ML.common import ML_pipeline, tool"
   ]
  },
  {
   "cell_type": "markdown",
   "id": "19f833ac",
   "metadata": {},
   "source": [
    "## 1. Data Preparation"
   ]
  },
  {
   "cell_type": "code",
   "execution_count": 3,
   "id": "ef141cff",
   "metadata": {},
   "outputs": [],
   "source": [
    "app_name= \"energy\" # \"Hs2SwineFarmWithWeatherTime\", \"energy\"\n",
    "model_method = 'GRU_rg'\n",
    "model_clean = True\n",
    "step = 'test'\n",
    "bucket_name = 'integration'\n",
    "data_clean_level=0"
   ]
  },
  {
   "cell_type": "code",
   "execution_count": 9,
   "id": "5d025680",
   "metadata": {},
   "outputs": [],
   "source": [
    "# model_name = None\n",
    "# model_name = tool.get_default_model_name(model_name, app_name, model_method, model_clean)\n",
    "model_name = 'regression_energy_cleanLevel4_trainX_regression_LSTM_rg_'\n",
    "collection_name = 'meta'\n",
    "db_name = 'model'\n",
    "model_meta_list= mongo_client.get_document_by_json(db_name, collection_name,{'model_info.model_name':model_name} )\n",
    "model_meta = model_meta_list[0] ## ??"
   ]
  },
  {
   "cell_type": "code",
   "execution_count": 10,
   "id": "4cb14391",
   "metadata": {},
   "outputs": [
    {
     "data": {
      "text/plain": [
       "{'ingestion_param_X': {'bucket_name': 'integration',\n",
       "  'ms_name': 'regression_energy_cleanLevel4_trainX',\n",
       "  'feature_list': ['Press_mm_hg',\n",
       "   'RH_1',\n",
       "   'RH_2',\n",
       "   'RH_3',\n",
       "   'RH_4',\n",
       "   'RH_5',\n",
       "   'RH_6',\n",
       "   'RH_7',\n",
       "   'RH_8']},\n",
       " 'ingestion_param_y': {'bucket_name': 'integration',\n",
       "  'ms_name': 'regression_energy_cleanLevel4_trainy',\n",
       "  'feature_list': ['value']},\n",
       " 'data_y_flag': True,\n",
       " 'scaler_param': {'scaler_flag': 'scale',\n",
       "  'scale_method': 'minmax',\n",
       "  'scaler_path': './scaler/',\n",
       "  'scaler_file_path': {'XScalerFile': {'fileName': 'scaler.pkl',\n",
       "    'filePath': './scaler/regression_energy_cleanLevel4_trainX/minmax/00db302f177c805568abc89cd77159bd/scaler.pkl'},\n",
       "   'yScalerFile': {'fileName': 'scaler.pkl',\n",
       "    'filePath': './scaler/regression_energy_cleanLevel4_trainy/minmax/f69156750a210491ffd4a67b605bc88b/scaler.pkl'}}},\n",
       " 'transform_param': {'split_mode': 'window_split',\n",
       "  'data_clean_option': False,\n",
       "  'nan_process_info': {'type': 'num',\n",
       "   'ConsecutiveNanLimit': 10000,\n",
       "   'totalNaNLimit': 100000},\n",
       "  'max_nan_limit_ratio': 0.5,\n",
       "  'future_step': None,\n",
       "  'past_step': 144},\n",
       " 'model_info': {'model_purpose': 'regression',\n",
       "  'model_method': 'LSTM_rg',\n",
       "  'model_name': 'regression_energy_cleanLevel4_trainX_regression_LSTM_rg_',\n",
       "  'model_tags': 'regression',\n",
       "  'train_parameter': {'lr': 0.0001,\n",
       "   'weight_decay': 1e-06,\n",
       "   'n_epochs': 5,\n",
       "   'batch_size': 16,\n",
       "   'device': 'cpu'},\n",
       "  'model_parameter': {'rnn_type': 'lstm',\n",
       "   'input_size': 9,\n",
       "   'hidden_size': 64,\n",
       "   'num_layers': 2,\n",
       "   'output_dim': 1,\n",
       "   'dropout': 0.1,\n",
       "   'bidirectional': True},\n",
       "  'seq_len': 144,\n",
       "  'input_size': 9,\n",
       "  'model_file_path': {'modelFile': {'fileName': 'model.pth',\n",
       "    'filePath': './Models/LSTM_rg/regression_energy_cleanLevel4_trainX_regression_LSTM_rg_/regression_energy_cleanLevel4_trainX/model.pkl'}}},\n",
       " 'train_data_info': {'bucket_name': 'integration',\n",
       "  'collection_name': 'regression_energy',\n",
       "  'ms_name': 'regression_energy_cleanLevel4_trainX',\n",
       "  'ingestion_type': 'multiple_ms_by_time',\n",
       "  'ingestion_param': {'ms_list_info': [['life_indoor_environment',\n",
       "     'humidityTrain_10min'],\n",
       "    ['life_indoor_environment', 'temperatureTrain_10min'],\n",
       "    ['weather_outdoor_environment', 'belgiumChieverseAirportTrain_10min']],\n",
       "   'start_time': '2016-01-11',\n",
       "   'end_time': '2016-04-15'},\n",
       "  'processing_type': 'step_3',\n",
       "  'process_param': {'refine_param': {'remove_duplication': {'flag': True},\n",
       "    'static_frequency': {'flag': True, 'frequency': None}},\n",
       "   'outlier_param': {'certain_error_to_NaN': {'flag': True},\n",
       "    'uncertain_error_to_NaN': {'flag': True,\n",
       "     'param': {'outlierDetectorConfig': [{'algorithm': 'IQR',\n",
       "        'percentile': 99,\n",
       "        'alg_parameter': {'weight': 100}}]}}},\n",
       "   'imputation_param': {'flag': True,\n",
       "    'imputation_method': [{'min': 0,\n",
       "      'max': 2,\n",
       "      'method': 'linear',\n",
       "      'parameter': {}}],\n",
       "    'total_non_NaN_ratio': 90}},\n",
       "  'integration_param': {'integration_frequency': 600.0,\n",
       "   'param': {},\n",
       "   'method': 'meta',\n",
       "   'integration_duration': 'common'},\n",
       "  'clean_level': 4}}"
      ]
     },
     "execution_count": 10,
     "metadata": {},
     "output_type": "execute_result"
    }
   ],
   "source": [
    "model_meta"
   ]
  },
  {
   "cell_type": "markdown",
   "id": "f1c95e64",
   "metadata": {},
   "source": [
    "### 1-2. Data Ingestion\n",
    "#### 1-2-1. X-y Data Ingestion pipeline"
   ]
  },
  {
   "cell_type": "code",
   "execution_count": 14,
   "id": "bcd7db6c",
   "metadata": {},
   "outputs": [],
   "source": [
    "model_purpose = model_meta['model_info']['model_purpose']\n",
    "dataset_name = model_purpose + '_' + app_name  \n",
    "scaler_param= model_meta['scaler_param']['scaler_flag']\n",
    "data_name_X = dataset_name + '_cleanLevel' + str(data_clean_level)+'_'+step+'X'\n",
    "data_name_y = dataset_name+'_cleanLevel' + str(data_clean_level)+'_'+ step+'y'\n",
    "data_y_flag = model_meta['data_y_flag']"
   ]
  },
  {
   "cell_type": "code",
   "execution_count": 15,
   "id": "89b9fee1",
   "metadata": {},
   "outputs": [],
   "source": [
    "feature_X_list = model_meta['ingestion_param_X']['feature_list']\n",
    "feature_y_list = model_meta['ingestion_param_y'][\"feature_list\"]\n",
    "model_file_path = model_meta['model_info']['model_file_path']['modelFile'][\"filePath\"]"
   ]
  },
  {
   "cell_type": "code",
   "execution_count": 17,
   "id": "13054520",
   "metadata": {},
   "outputs": [],
   "source": [
    "# Data Ingestion\n",
    "ingestion_method = 'ms_all'\n",
    "ingestion_param_X = {\n",
    "    \"bucket_name\" : bucket_name,\n",
    "    'ms_name' : data_name_X,\n",
    "    'feature_list' : feature_X_list                              \n",
    "}\n",
    "ingestion_param_y = {\n",
    "    \"bucket_name\" : bucket_name,\n",
    "    'ms_name' : data_name_y,\n",
    "    'feature_list' : feature_y_list                              \n",
    "}"
   ]
  },
  {
   "cell_type": "code",
   "execution_count": 18,
   "id": "3fe2622a",
   "metadata": {},
   "outputs": [],
   "source": [
    "def get_scaled_data(data, scaler, scaler_param):\n",
    "\n",
    "    if scaler_param=='scale':\n",
    "        scaled_data = pd.DataFrame(scaler.transform(data), index = data.index, columns = data.columns)\n",
    "    else:\n",
    "        scaled_data = data.copy()\n",
    "    return scaled_data"
   ]
  },
  {
   "cell_type": "code",
   "execution_count": 19,
   "id": "9236b2b1",
   "metadata": {},
   "outputs": [],
   "source": [
    "def scaler_file_load_to_server(scaler_path):\n",
    "    import paramiko\n",
    "    import pickle\n",
    "\n",
    "    # Scaler 객체를 저장할 파일 경로\n",
    "    remote_scaler_path = '/programdrive/Clust/file_save_test'\n",
    "    scaler_server_path = remote_scaler_path + scaler_path[1:]\n",
    "    scaler_local_path = os.getcwd() + scaler_path[1:]\n",
    "    scaler_folder_path = scaler_server_path[:-10]\n",
    "\n",
    "    # SSH 연결 설정\n",
    "    ssh = paramiko.SSHClient()\n",
    "    ssh.set_missing_host_key_policy(paramiko.AutoAddPolicy())\n",
    "    ssh.connect('10.252.107.59', username='jhlee', password='dlwlgns1')\n",
    "\n",
    "    # Scaler 파일 전송\n",
    "    sftp = ssh.open_sftp()\n",
    "    sftp.get(scaler_local_path ,scaler_path)\n",
    "    sftp.close()\n",
    "\n",
    "    # SSH 연결 종료\n",
    "    ssh.close()"
   ]
  },
  {
   "cell_type": "code",
   "execution_count": 20,
   "id": "bc7e5858",
   "metadata": {},
   "outputs": [],
   "source": [
    "def get_scaler_file(scaler_file_path):\n",
    "\n",
    "    import joblib\n",
    "    scaler_file_load_to_server(scaler_file_path)\n",
    "    scaler = joblib.load(scaler_file_path)\n",
    "    return scaler"
   ]
  },
  {
   "cell_type": "code",
   "execution_count": 21,
   "id": "ea70300c",
   "metadata": {},
   "outputs": [],
   "source": [
    "def get_scaled_test_data(data, scaler_file_path, scaler_param):\n",
    "    scaler =None\n",
    "    result = data\n",
    "    if scaler_param =='scale':\n",
    "        if scaler_file_path:\n",
    "            scaler = get_scaler_file(scaler_file_path)\n",
    "            result = get_scaled_data(data, scaler, scaler_param)\n",
    "    return result, scaler"
   ]
  },
  {
   "cell_type": "code",
   "execution_count": 22,
   "id": "0d8c38ef",
   "metadata": {},
   "outputs": [],
   "source": [
    "def Xy_data_scaling_test(data_X, data_y, X_scaler_file_path, y_scaler_file_path, scaler_param):\n",
    "\n",
    "    test_X, scaler_X = ml_scaler.get_scaled_test_data(data_X, X_scaler_file_path, scaler_param)\n",
    "    test_y, scaler_y = ml_scaler.get_scaled_test_data(data_y, y_scaler_file_path, scaler_param)\n",
    "    return test_X, scaler_X , test_y, scaler_y "
   ]
  },
  {
   "cell_type": "code",
   "execution_count": 23,
   "id": "70afad55",
   "metadata": {},
   "outputs": [
    {
     "name": "stdout",
     "output_type": "stream",
     "text": [
      "{'bucket_name': 'integration', 'ms_name': 'regression_energy_cleanLevel0_testX', 'feature_list': ['Press_mm_hg', 'RH_1', 'RH_2', 'RH_3', 'RH_4', 'RH_5', 'RH_6', 'RH_7', 'RH_8']}\n"
     ]
    }
   ],
   "source": [
    "data_X, data_y = ML_pipeline.Xy_data_preparation(ingestion_param_X, data_y_flag, ingestion_param_y, ingestion_method, db_client)"
   ]
  },
  {
   "cell_type": "markdown",
   "id": "10f39c7d",
   "metadata": {},
   "source": [
    "#### 1-2-2. Random Nan Insert (Test)\n",
    "#### 1-2-3. Data scaling"
   ]
  },
  {
   "cell_type": "code",
   "execution_count": 26,
   "id": "831099f3",
   "metadata": {},
   "outputs": [
    {
     "data": {
      "text/plain": [
       "'./scaler/regression_energy_cleanLevel4_trainy/minmax/f69156750a210491ffd4a67b605bc88b/scaler.pkl'"
      ]
     },
     "execution_count": 26,
     "metadata": {},
     "output_type": "execute_result"
    }
   ],
   "source": [
    "X_scaler_file_path = model_meta['scaler_param']['scaler_file_path']['XScalerFile'][\"filePath\"]\n",
    "y_scaler_file_path = model_meta['scaler_param']['scaler_file_path']['yScalerFile'][\"filePath\"]\n",
    "y_scaler_file_path"
   ]
  },
  {
   "cell_type": "code",
   "execution_count": 28,
   "id": "d50988dd",
   "metadata": {},
   "outputs": [
    {
     "ename": "FileNotFoundError",
     "evalue": "[Errno 2] No such file or directory: './scaler/regression_energy_cleanLevel4_trainX/minmax/00db302f177c805568abc89cd77159bd/scaler.pkl'",
     "output_type": "error",
     "traceback": [
      "\u001b[0;31m---------------------------------------------------------------------------\u001b[0m",
      "\u001b[0;31mFileNotFoundError\u001b[0m                         Traceback (most recent call last)",
      "Cell \u001b[0;32mIn[28], line 2\u001b[0m\n\u001b[1;32m      1\u001b[0m \u001b[38;5;66;03m# scaler_param = model_meta[\"scalerParam\"]\u001b[39;00m\n\u001b[0;32m----> 2\u001b[0m test_X, scaler_X , test_y, scaler_y  \u001b[38;5;241m=\u001b[39m \u001b[43mML_pipeline\u001b[49m\u001b[38;5;241;43m.\u001b[39;49m\u001b[43mXy_data_scaling_test\u001b[49m\u001b[43m(\u001b[49m\u001b[43mdata_X\u001b[49m\u001b[43m,\u001b[49m\u001b[43m \u001b[49m\u001b[43mdata_y\u001b[49m\u001b[43m,\u001b[49m\u001b[43m \u001b[49m\u001b[43mX_scaler_file_path\u001b[49m\u001b[43m,\u001b[49m\u001b[43m \u001b[49m\u001b[43my_scaler_file_path\u001b[49m\u001b[43m,\u001b[49m\u001b[43m \u001b[49m\u001b[43mscaler_param\u001b[49m\u001b[43m)\u001b[49m\n",
      "File \u001b[0;32m~/CLUST_KETI/Clust/clust/ML/common/ML_pipeline.py:86\u001b[0m, in \u001b[0;36mXy_data_scaling_test\u001b[0;34m(data_X, data_y, X_scaler_file_path, y_scaler_file_path, scaler_param)\u001b[0m\n\u001b[1;32m     72\u001b[0m \u001b[38;5;28;01mdef\u001b[39;00m \u001b[38;5;21mXy_data_scaling_test\u001b[39m(data_X, data_y, X_scaler_file_path, y_scaler_file_path, scaler_param):\n\u001b[1;32m     73\u001b[0m     \u001b[38;5;124;03m\"\"\"_summary_\u001b[39;00m\n\u001b[1;32m     74\u001b[0m \n\u001b[1;32m     75\u001b[0m \u001b[38;5;124;03m    Args:\u001b[39;00m\n\u001b[0;32m   (...)\u001b[0m\n\u001b[1;32m     83\u001b[0m \u001b[38;5;124;03m        _type_: _description_\u001b[39;00m\n\u001b[1;32m     84\u001b[0m \u001b[38;5;124;03m    \"\"\"\u001b[39;00m\n\u001b[0;32m---> 86\u001b[0m     test_X, scaler_X \u001b[38;5;241m=\u001b[39m \u001b[43mml_scaler\u001b[49m\u001b[38;5;241;43m.\u001b[39;49m\u001b[43mget_scaled_test_data\u001b[49m\u001b[43m(\u001b[49m\u001b[43mdata_X\u001b[49m\u001b[43m,\u001b[49m\u001b[43m \u001b[49m\u001b[43mX_scaler_file_path\u001b[49m\u001b[43m,\u001b[49m\u001b[43m \u001b[49m\u001b[43mscaler_param\u001b[49m\u001b[43m)\u001b[49m\n\u001b[1;32m     87\u001b[0m     test_y, scaler_y \u001b[38;5;241m=\u001b[39m ml_scaler\u001b[38;5;241m.\u001b[39mget_scaled_test_data(data_y, y_scaler_file_path, scaler_param)\n\u001b[1;32m     88\u001b[0m     \u001b[38;5;28;01mreturn\u001b[39;00m test_X, scaler_X , test_y, scaler_y\n",
      "File \u001b[0;32m~/CLUST_KETI/Clust/clust/ML/tool/scaler.py:28\u001b[0m, in \u001b[0;36mget_scaled_test_data\u001b[0;34m(data, scaler_file_path, scaler_param)\u001b[0m\n\u001b[1;32m     26\u001b[0m \u001b[38;5;28;01mif\u001b[39;00m scaler_param \u001b[38;5;241m==\u001b[39m\u001b[38;5;124m'\u001b[39m\u001b[38;5;124mscale\u001b[39m\u001b[38;5;124m'\u001b[39m:\n\u001b[1;32m     27\u001b[0m     \u001b[38;5;28;01mif\u001b[39;00m scaler_file_path:\n\u001b[0;32m---> 28\u001b[0m         scaler \u001b[38;5;241m=\u001b[39m \u001b[43mget_scaler_file\u001b[49m\u001b[43m(\u001b[49m\u001b[43mscaler_file_path\u001b[49m\u001b[43m)\u001b[49m\n\u001b[1;32m     29\u001b[0m         result \u001b[38;5;241m=\u001b[39m get_scaled_data(data, scaler, scaler_param)\n\u001b[1;32m     30\u001b[0m \u001b[38;5;28;01mreturn\u001b[39;00m result, scaler\n",
      "File \u001b[0;32m~/CLUST_KETI/Clust/clust/ML/tool/scaler.py:45\u001b[0m, in \u001b[0;36mget_scaler_file\u001b[0;34m(scaler_file_path)\u001b[0m\n\u001b[1;32m     34\u001b[0m \u001b[38;5;124;03m\"\"\"\u001b[39;00m\n\u001b[1;32m     35\u001b[0m \u001b[38;5;124;03mget scaler file\u001b[39;00m\n\u001b[1;32m     36\u001b[0m \n\u001b[0;32m   (...)\u001b[0m\n\u001b[1;32m     42\u001b[0m \u001b[38;5;124;03m\u001b[39;00m\n\u001b[1;32m     43\u001b[0m \u001b[38;5;124;03m\"\"\"\u001b[39;00m\n\u001b[1;32m     44\u001b[0m \u001b[38;5;28;01mimport\u001b[39;00m \u001b[38;5;21;01mjoblib\u001b[39;00m\n\u001b[0;32m---> 45\u001b[0m scaler \u001b[38;5;241m=\u001b[39m \u001b[43mjoblib\u001b[49m\u001b[38;5;241;43m.\u001b[39;49m\u001b[43mload\u001b[49m\u001b[43m(\u001b[49m\u001b[43mscaler_file_path\u001b[49m\u001b[43m)\u001b[49m\n\u001b[1;32m     46\u001b[0m \u001b[38;5;28;01mreturn\u001b[39;00m scaler\n",
      "File \u001b[0;32m~/anaconda3/lib/python3.8/site-packages/joblib/numpy_pickle.py:579\u001b[0m, in \u001b[0;36mload\u001b[0;34m(filename, mmap_mode)\u001b[0m\n\u001b[1;32m    577\u001b[0m         obj \u001b[38;5;241m=\u001b[39m _unpickle(fobj)\n\u001b[1;32m    578\u001b[0m \u001b[38;5;28;01melse\u001b[39;00m:\n\u001b[0;32m--> 579\u001b[0m     \u001b[38;5;28;01mwith\u001b[39;00m \u001b[38;5;28;43mopen\u001b[39;49m\u001b[43m(\u001b[49m\u001b[43mfilename\u001b[49m\u001b[43m,\u001b[49m\u001b[43m \u001b[49m\u001b[38;5;124;43m'\u001b[39;49m\u001b[38;5;124;43mrb\u001b[39;49m\u001b[38;5;124;43m'\u001b[39;49m\u001b[43m)\u001b[49m \u001b[38;5;28;01mas\u001b[39;00m f:\n\u001b[1;32m    580\u001b[0m         \u001b[38;5;28;01mwith\u001b[39;00m _read_fileobject(f, filename, mmap_mode) \u001b[38;5;28;01mas\u001b[39;00m fobj:\n\u001b[1;32m    581\u001b[0m             \u001b[38;5;28;01mif\u001b[39;00m \u001b[38;5;28misinstance\u001b[39m(fobj, \u001b[38;5;28mstr\u001b[39m):\n\u001b[1;32m    582\u001b[0m                 \u001b[38;5;66;03m# if the returned file object is a string, this means we\u001b[39;00m\n\u001b[1;32m    583\u001b[0m                 \u001b[38;5;66;03m# try to load a pickle file generated with an version of\u001b[39;00m\n\u001b[1;32m    584\u001b[0m                 \u001b[38;5;66;03m# Joblib so we load it with joblib compatibility function.\u001b[39;00m\n",
      "\u001b[0;31mFileNotFoundError\u001b[0m: [Errno 2] No such file or directory: './scaler/regression_energy_cleanLevel4_trainX/minmax/00db302f177c805568abc89cd77159bd/scaler.pkl'"
     ]
    }
   ],
   "source": [
    "# scaler_param = model_meta[\"scalerParam\"]\n",
    "test_X, scaler_X , test_y, scaler_y  = ML_pipeline.Xy_data_scaling_test(data_X, data_y, X_scaler_file_path, y_scaler_file_path, scaler_param)"
   ]
  },
  {
   "cell_type": "markdown",
   "id": "a81ea4d2",
   "metadata": {},
   "source": [
    "#### 1-2-2. Random Nan Insert (Test X)\n",
    "#### 1-2-3. Data scaling"
   ]
  },
  {
   "cell_type": "code",
   "execution_count": 47,
   "id": "b199de92",
   "metadata": {},
   "outputs": [
    {
     "name": "stdout",
     "output_type": "stream",
     "text": [
      "window_size: 144 nan_limit_num: 72\n",
      "(6048, 24) (42, 144, 24)\n",
      "(42, 1) (42, 1)\n"
     ]
    }
   ],
   "source": [
    "split_mode = model_meta['dataSplitMode']\n",
    "transformParameter = model_meta[\"transformParameter\"]\n",
    "test_X_array, test_y_array = ML_pipeline.transform_data_by_split_mode(split_mode, transformParameter, test_X, test_y)"
   ]
  },
  {
   "cell_type": "code",
   "execution_count": 48,
   "id": "9340987e",
   "metadata": {},
   "outputs": [],
   "source": [
    "modelParameter = model_meta[\"modelParameter\"]\n",
    "\n",
    "testParameter = {\n",
    "    'device': 'cpu',\n",
    "    'batch_size': model_meta[\"trainParameter\"]['batch_size']\n",
    "}"
   ]
  },
  {
   "cell_type": "code",
   "execution_count": 49,
   "id": "5cc69443",
   "metadata": {},
   "outputs": [
    {
     "name": "stdout",
     "output_type": "stream",
     "text": [
      "features shape: torch.Size([42, 144, 24]) targets shape:  torch.Size([42, 1])\n",
      "\n",
      "Start testing data\n",
      "\n"
     ]
    }
   ],
   "source": [
    "#3. Test model\n",
    "preds, trues = ML_pipeline.CLUST_regresstion_test(test_X_array, test_y_array, testParameter, model_method, model_file_path, modelParameter)"
   ]
  },
  {
   "cell_type": "code",
   "execution_count": 50,
   "id": "d73c974f",
   "metadata": {},
   "outputs": [
    {
     "name": "stdout",
     "output_type": "stream",
     "text": [
      "(42, 144, 24) (42, 1)\n",
      "(32,) (32,)\n",
      "scale\n"
     ]
    }
   ],
   "source": [
    "print(test_X_array.shape, test_y_array.shape)\n",
    "print(preds.shape, trues.shape)\n",
    "target = feature_y_list[0]\n",
    "scaler, feature_list = ML_pipeline.get_scaler_information_by_y_flag(data_y_flag, scaler_X, scaler_y, feature_X_list, feature_y_list)\n",
    "df_result, result_metrics = ML_pipeline.get_final_metrics(preds, trues, scaler_param, scaler, feature_list, target)"
   ]
  },
  {
   "cell_type": "code",
   "execution_count": 51,
   "id": "689c2452",
   "metadata": {},
   "outputs": [
    {
     "name": "stdout",
     "output_type": "stream",
     "text": [
      "        value  prediction\n",
      "0   17.370001   13.915736\n",
      "1   20.650000   13.738004\n",
      "2   11.420000   13.792073\n",
      "3   10.680000   14.561427\n",
      "4   12.439999   14.089519\n",
      "5   11.170000   13.869466\n",
      "6   24.120001   15.998723\n",
      "7   10.990000   13.373091\n",
      "8   13.760000   15.189082\n",
      "9   14.560000   15.560471\n",
      "10  14.970000   14.985352\n",
      "11  13.429999   15.059691\n",
      "12  11.570000   14.288507\n",
      "13   9.330000   16.243668\n",
      "14  15.580000   15.514131\n",
      "15  20.929998   14.449985\n",
      "16  11.990000   13.331085\n",
      "17  15.370000   14.386933\n",
      "18  10.470000   14.940999\n",
      "19  14.410000   14.720536\n",
      "20  10.160000   13.422237\n",
      "21  15.120000   14.217023\n",
      "22  12.320000   14.223423\n",
      "23  10.460000   14.422492\n",
      "24  15.060000   12.609772\n",
      "25   9.680000   15.253193\n",
      "26  10.690000   13.681235\n",
      "27  17.799997   16.160351\n",
      "28  10.690000   14.976705\n",
      "29  17.059998   14.148298\n",
      "30  20.879999   17.509621\n",
      "31  10.890000   13.608142\n",
      "{'mae': 2.9626193, 'rmse': 3.5919190096146183, 'r2': 0.07706300579909708, 'mape': 22.65273779630661}\n"
     ]
    },
    {
     "data": {
      "text/plain": [
       "<Axes: >"
      ]
     },
     "execution_count": 51,
     "metadata": {},
     "output_type": "execute_result"
    },
    {
     "data": {
      "image/png": "[encoded data removed]",
      "text/plain": [
       "<Figure size 640x480 with 1 Axes>"
      ]
     },
     "metadata": {},
     "output_type": "display_data"
    }
   ],
   "source": [
    "print(df_result)\n",
    "print(result_metrics)\n",
    "df_result.plot()"
   ]
  },
  {
   "cell_type": "code",
   "execution_count": 30,
   "id": "0957060a",
   "metadata": {},
   "outputs": [],
   "source": [
    "# 5. Only For IPython Notebook\n",
    "#from Clust.clust.tool.plot.plot_two_data import plot_predictions\n",
    "#import plotly.offline as pyo\n",
    "# Set notebook mode to work in offline\n",
    "#pyo.init_notebook_mode()\n",
    "#plot_predictions(df_result)"
   ]
  }
 ],
 "metadata": {
  "kernelspec": {
   "display_name": "Python 3 (ipykernel)",
   "language": "python",
   "name": "python3"
  },
  "language_info": {
   "codemirror_mode": {
    "name": "ipython",
    "version": 3
   },
   "file_extension": ".py",
   "mimetype": "text/x-python",
   "name": "python",
   "nbconvert_exporter": "python",
   "pygments_lexer": "ipython3",
   "version": "3.8.8"
  },
  "toc": {
   "base_numbering": 1,
   "nav_menu": {},
   "number_sections": true,
   "sideBar": true,
   "skip_h1_title": false,
   "title_cell": "Table of Contents",
   "title_sidebar": "Contents",
   "toc_cell": false,
   "toc_position": {},
   "toc_section_display": true,
   "toc_window_display": false
  },
  "vscode": {
   "interpreter": {
    "hash": "e92cea83a25a22cd774ff9f8132db57ccb94d86fd97b7fe80ee00c35daecdd05"
   }
  }
 },
 "nbformat": 4,
 "nbformat_minor": 5
}
