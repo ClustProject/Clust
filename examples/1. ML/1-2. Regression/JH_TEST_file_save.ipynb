{
 "cells": [
  {
   "cell_type": "code",
   "execution_count": 1,
   "id": "95790ab5",
   "metadata": {
    "ExecuteTime": {
     "end_time": "2023-05-26T07:48:25.273474Z",
     "start_time": "2023-05-26T07:48:24.020304Z"
    }
   },
   "outputs": [
    {
     "name": "stdout",
     "output_type": "stream",
     "text": [
      "cpu is available.\n"
     ]
    }
   ],
   "source": [
    "import sys, os\n",
    "import pandas as pd\n",
    "sys.path.append(\"../../../../\")\n",
    "\n",
    "from Clust.setting import influx_setting_KETI as ins\n",
    "from Clust.clust.ingestion.influx import influx_client_v2 as influx_Client\n",
    "from Clust.clust.ingestion.mongo.mongo_client import MongoClient\n",
    "db_client = influx_Client.InfluxClient(ins.CLUSTDataServer2)\n",
    "mongo_client = MongoClient(ins.CLUSTMetaInfo2)\n",
    "\n",
    "import torch\n",
    "device = \"cuda\" if torch.cuda.is_available() else \"cpu\"\n",
    "print(f\"{device}\" \" is available.\")\n",
    "\n",
    "from Clust.clust.ML.common import ML_pipeline, tool\n",
    "app_name= \"energy\" # \"Hs2SwineFarmWithWeatherTime\", \"energy\""
   ]
  },
  {
   "cell_type": "markdown",
   "id": "b14f5edd",
   "metadata": {},
   "source": [
    "## 1. Data Preparation"
   ]
  },
  {
   "cell_type": "markdown",
   "id": "51dc6a75",
   "metadata": {},
   "source": [
    "### 1-1. Parameter Setting"
   ]
  },
  {
   "cell_type": "code",
   "execution_count": 2,
   "id": "64028082",
   "metadata": {
    "ExecuteTime": {
     "end_time": "2023-05-26T07:48:25.281914Z",
     "start_time": "2023-05-26T07:48:25.275651Z"
    }
   },
   "outputs": [],
   "source": [
    "if app_name == \"energy\":\n",
    "    model_purpose = 'regression'\n",
    "    feature_X_list = ['Press_mm_hg', 'RH_1', 'RH_2', 'RH_3', 'RH_4', 'RH_5', 'RH_6', 'RH_7',\n",
    "       'RH_8', 'RH_9', 'RH_out', 'T1', 'T2', 'T3', 'T4', 'T5', 'T6', 'T7',\n",
    "       'T8', 'T9', 'T_out', 'Tdewpoint', 'Visibility', 'Windspeed']\n",
    "    feature_y_list = ['value']\n",
    "    split_mode =\"windows_split\"\n",
    "    data_y_flag = True # 이미 만들어진 Y 데이터를 활용함\n",
    "    \n",
    "    \n",
    "elif app_name == \"Hs2SwineFarmWithWeatherTime\":\n",
    "    model_purpose = 'forecasting' \n",
    "    feature_X_list = ['Temperature', 'out_temp','sin_hour']\n",
    "    feature_y_list = ['Temperature']\n",
    "    split_mode = 'step_split'\n",
    "    data_y_flag = False # Y데이터는 없음, X 에서 Y 데이터를 도출함\n",
    "    \n",
    "step = 'train'\n",
    "bucket_name = 'integration' \n",
    "data_clean_level = 4"
   ]
  },
  {
   "cell_type": "markdown",
   "id": "b3029057",
   "metadata": {},
   "source": [
    "### 1-2. Data Ingestion\n",
    "#### 1-2-1. Select data name "
   ]
  },
  {
   "cell_type": "code",
   "execution_count": 3,
   "id": "ccf9f326",
   "metadata": {
    "ExecuteTime": {
     "end_time": "2023-05-26T07:48:25.403123Z",
     "start_time": "2023-05-26T07:48:25.387933Z"
    }
   },
   "outputs": [
    {
     "name": "stdout",
     "output_type": "stream",
     "text": [
      "regression_energy\n"
     ]
    }
   ],
   "source": [
    "dataset_name = model_purpose + '_' + app_name  \n",
    "print(dataset_name)\n",
    "data_name_X = dataset_name + '_cleanLevel' + str(data_clean_level)+'_'+step+'X'\n",
    "data_name_y = dataset_name+'_cleanLevel' + str(data_clean_level)+'_'+ step+'y'\n",
    "data_meta = mongo_client.get_document_by_json('integration', data_name_X, {'ms_name':data_name_X})[0]"
   ]
  },
  {
   "cell_type": "code",
   "execution_count": 4,
   "id": "8608cb0b",
   "metadata": {
    "ExecuteTime": {
     "end_time": "2023-05-26T07:48:25.410150Z",
     "start_time": "2023-05-26T07:48:25.404528Z"
    }
   },
   "outputs": [
    {
     "data": {
      "text/plain": [
       "{'bucket_name': 'integration',\n",
       " 'collection_name': 'regression_energy',\n",
       " 'ms_name': 'regression_energy_cleanLevel4_trainX',\n",
       " 'ingestion_type': 'multiple_ms_by_time',\n",
       " 'ingestion_param': {'ms_list_info': [['life_indoor_environment',\n",
       "    'humidityTrain_10min'],\n",
       "   ['life_indoor_environment', 'temperatureTrain_10min'],\n",
       "   ['weather_outdoor_environment', 'belgiumChieverseAirportTrain_10min']],\n",
       "  'start_time': '2016-01-11',\n",
       "  'end_time': '2016-04-15'},\n",
       " 'processing_type': 'step_3',\n",
       " 'process_param': {'refine_param': {'remove_duplication': {'flag': True},\n",
       "   'static_frequency': {'flag': True, 'frequency': None}},\n",
       "  'outlier_param': {'certain_error_to_NaN': {'flag': True},\n",
       "   'uncertain_error_to_NaN': {'flag': True,\n",
       "    'param': {'outlierDetectorConfig': [{'algorithm': 'IQR',\n",
       "       'percentile': 99,\n",
       "       'alg_parameter': {'weight': 100}}]}}},\n",
       "  'imputation_param': {'flag': True,\n",
       "   'imputation_method': [{'min': 0,\n",
       "     'max': 2,\n",
       "     'method': 'linear',\n",
       "     'parameter': {}}],\n",
       "   'total_non_NaN_ratio': 90}},\n",
       " 'integration_param': {'integration_frequency': 600.0,\n",
       "  'param': {},\n",
       "  'method': 'meta',\n",
       "  'integration_duration': 'common'},\n",
       " 'clean_level': 4}"
      ]
     },
     "execution_count": 4,
     "metadata": {},
     "output_type": "execute_result"
    }
   ],
   "source": [
    "data_meta"
   ]
  },
  {
   "cell_type": "markdown",
   "id": "1102bcf3",
   "metadata": {},
   "source": [
    "#### 1-2-2. X-y Data Ingestion pipeline"
   ]
  },
  {
   "cell_type": "code",
   "execution_count": 5,
   "id": "98c01141",
   "metadata": {
    "ExecuteTime": {
     "end_time": "2023-05-26T07:48:25.414491Z",
     "start_time": "2023-05-26T07:48:25.411616Z"
    }
   },
   "outputs": [],
   "source": [
    "# Data Ingestion\n",
    "ingestion_method = 'ms_all'\n",
    "ingestion_param_X = {\n",
    "    \"bucket_name\" : bucket_name,\n",
    "    'ms_name' : data_name_X,\n",
    "    'feature_list' : feature_X_list                              \n",
    "}\n",
    "ingestion_param_y = {\n",
    "    \"bucket_name\" : bucket_name,\n",
    "    'ms_name' : data_name_y,\n",
    "    'feature_list' : feature_y_list                              \n",
    "}"
   ]
  },
  {
   "cell_type": "code",
   "execution_count": 6,
   "id": "bcec8e5c",
   "metadata": {
    "ExecuteTime": {
     "end_time": "2023-05-26T07:48:27.416874Z",
     "start_time": "2023-05-26T07:48:25.421416Z"
    },
    "scrolled": true
   },
   "outputs": [
    {
     "name": "stdout",
     "output_type": "stream",
     "text": [
      "{'bucket_name': 'integration', 'ms_name': 'regression_energy_cleanLevel4_trainX', 'feature_list': ['Press_mm_hg', 'RH_1', 'RH_2', 'RH_3', 'RH_4', 'RH_5', 'RH_6', 'RH_7', 'RH_8', 'RH_9', 'RH_out', 'T1', 'T2', 'T3', 'T4', 'T5', 'T6', 'T7', 'T8', 'T9', 'T_out', 'Tdewpoint', 'Visibility', 'Windspeed']}\n"
     ]
    }
   ],
   "source": [
    "data_X, data_y = ML_pipeline.Xy_data_preparation(ingestion_param_X, data_y_flag, ingestion_param_y, ingestion_method, db_client)"
   ]
  },
  {
   "cell_type": "markdown",
   "id": "8d51d355",
   "metadata": {},
   "source": [
    "### 1-2-3. Data scaling"
   ]
  },
  {
   "cell_type": "markdown",
   "id": "15488c5b",
   "metadata": {},
   "source": [
    "### Scaler save to server"
   ]
  },
  {
   "cell_type": "code",
   "execution_count": 7,
   "id": "f75ebbb8",
   "metadata": {},
   "outputs": [],
   "source": [
    "def dirs_setting(sftp, dirs_path):\n",
    "    dirs = dirs_path.split(\"/\")\n",
    "    path = \"\"\n",
    "    \n",
    "    for directory in dirs:\n",
    "        path += \"/\" + directory\n",
    "        try:\n",
    "            sftp.mkdir(path)\n",
    "        except OSError:\n",
    "            pass"
   ]
  },
  {
   "cell_type": "code",
   "execution_count": 8,
   "id": "27e9710e",
   "metadata": {},
   "outputs": [],
   "source": [
    "def scaler_file_save_to_server(scaler_path):\n",
    "    import paramiko\n",
    "    import pickle\n",
    "\n",
    "    # Scaler 객체를 저장할 파일 경로\n",
    "    remote_scaler_path = '/programdrive/Clust/file_save_test'\n",
    "    scaler_server_path = remote_scaler_path + scaler_path[1:]\n",
    "    scaler_local_path = os.getcwd() + scaler_path[1:]\n",
    "    scaler_folder_path = scaler_server_path[:-10]\n",
    "\n",
    "    # SSH 연결 설정\n",
    "    ssh = paramiko.SSHClient()\n",
    "    ssh.set_missing_host_key_policy(paramiko.AutoAddPolicy())\n",
    "    ssh.connect('10.252.107.59', username='jhlee', password='dlwlgns1')\n",
    "\n",
    "    # Scaler 파일 전송\n",
    "    sftp = ssh.open_sftp()\n",
    "    sftp.chdir(remote_scaler_path)\n",
    "\n",
    "    try:\n",
    "        sftp.put(scaler_local_path, scaler_server_path)\n",
    "    except IOError:\n",
    "        dirs_setting(sftp, scaler_folder_path)\n",
    "        sftp.chdir(scaler_folder_path)\n",
    "        sftp.put(scaler_local_path, scaler_server_path)\n",
    "    sftp.close()\n",
    "\n",
    "    # SSH 연결 종료\n",
    "    ssh.close()"
   ]
  },
  {
   "cell_type": "code",
   "execution_count": 9,
   "id": "8a77fa72",
   "metadata": {},
   "outputs": [],
   "source": [
    "scaler_param = {\n",
    "        'scaler_flag':'scale', #scale_param,\n",
    "        'scale_method' :'minmax',\n",
    "        'scaler_path' :'./scaler/'\n",
    "    }"
   ]
  },
  {
   "cell_type": "code",
   "execution_count": 10,
   "id": "1f49df6c",
   "metadata": {},
   "outputs": [],
   "source": [
    "def Xy_data_scaling_train(data_name_X, data_X, data_name_y, data_y, scaler_param):\n",
    "    # X Data Scaling\n",
    "    from Clust.clust.ML.tool import scaler\n",
    "    scalerRootPath_X = os.path.join(scaler_param['scaler_path'], data_name_X)\n",
    "    dataX_scaled, X_scalerFilePath = scaler.get_data_scaler(scaler_param['scaler_flag'], scalerRootPath_X, data_X, scaler_param['scale_method'])\n",
    "    \n",
    "    # y Data Scaling\n",
    "    scalerRootPath_y = os.path.join(scaler_param['scaler_path'], data_name_y)\n",
    "    datay_scaled, y_scalerFilePath = scaler.get_data_scaler(scaler_param['scaler_flag'], scalerRootPath_y, data_y, scaler_param['scale_method'])\n",
    "    scaler_file_save_to_server(y_scalerFilePath)\n",
    "    \n",
    "    scaler_param['scaler_file_path'] = {\n",
    "        \"XScalerFile\":{\n",
    "            \"fileName\":\"scaler.pkl\",\n",
    "            \"filePath\":X_scalerFilePath       \n",
    "        },\n",
    "        \"yScalerFile\":{\n",
    "            \"fileName\":\"scaler.pkl\",\n",
    "            \"filePath\":y_scalerFilePath\n",
    "        }\n",
    "    }\n",
    "\n",
    "    return dataX_scaled, X_scalerFilePath, datay_scaled, y_scalerFilePath"
   ]
  },
  {
   "cell_type": "code",
   "execution_count": 11,
   "id": "768ca14b",
   "metadata": {
    "ExecuteTime": {
     "end_time": "2023-05-26T07:48:27.505263Z",
     "start_time": "2023-05-26T07:48:27.485046Z"
    },
    "scrolled": true
   },
   "outputs": [
    {
     "name": "stdout",
     "output_type": "stream",
     "text": [
      "['Press_mm_hg', 'RH_1', 'RH_2', 'RH_3', 'RH_4', 'RH_5', 'RH_6', 'RH_7', 'RH_8', 'RH_9', 'RH_out', 'T1', 'T2', 'T3', 'T4', 'T5', 'T6', 'T7', 'T8', 'T9', 'T_out', 'Tdewpoint', 'Visibility', 'Windspeed']\n",
      "Make New scaler File\n",
      "['value']\n",
      "Make New scaler File\n"
     ]
    }
   ],
   "source": [
    "dataX_scaled, X_scalerFilePath, datay_scaled, y_scalerFilePath= Xy_data_scaling_train(data_name_X, data_X, data_name_y, data_y, scaler_param)"
   ]
  },
  {
   "cell_type": "markdown",
   "id": "8a54c637",
   "metadata": {},
   "source": [
    "## 2. Cleaning and split\n",
    "### 2.1 pipeline - clean low quality column"
   ]
  },
  {
   "cell_type": "code",
   "execution_count": 12,
   "id": "7a4c7e3e",
   "metadata": {},
   "outputs": [
    {
     "ename": "NameError",
     "evalue": "name 'day_window_size' is not defined",
     "output_type": "error",
     "traceback": [
      "\u001b[0;31m---------------------------------------------------------------------------\u001b[0m",
      "\u001b[0;31mNameError\u001b[0m                                 Traceback (most recent call last)",
      "Cell \u001b[0;32mIn[12], line 3\u001b[0m\n\u001b[1;32m      1\u001b[0m \u001b[38;5;28;01mif\u001b[39;00m split_mode \u001b[38;5;241m==\u001b[39m\u001b[38;5;124m'\u001b[39m\u001b[38;5;124mwindows_split\u001b[39m\u001b[38;5;124m'\u001b[39m:\n\u001b[1;32m      2\u001b[0m     transform_parameter \u001b[38;5;241m=\u001b[39m {\n\u001b[0;32m----> 3\u001b[0m             \u001b[38;5;124m'\u001b[39m\u001b[38;5;124mpast_step\u001b[39m\u001b[38;5;124m'\u001b[39m:\u001b[43mday_window_size\u001b[49m,\n\u001b[1;32m      4\u001b[0m             \u001b[38;5;124m'\u001b[39m\u001b[38;5;124mmax_nan_limit_ratio\u001b[39m\u001b[38;5;124m'\u001b[39m: max_nan_limit_ratio\n\u001b[1;32m      5\u001b[0m     }\n\u001b[1;32m      6\u001b[0m \u001b[38;5;28;01melse\u001b[39;00m:\n\u001b[1;32m      7\u001b[0m     transform_parameter \u001b[38;5;241m=\u001b[39m {\n\u001b[1;32m      8\u001b[0m             \u001b[38;5;124m'\u001b[39m\u001b[38;5;124mfuture_step\u001b[39m\u001b[38;5;124m'\u001b[39m: \u001b[38;5;241m2\u001b[39m,\n\u001b[1;32m      9\u001b[0m             \u001b[38;5;124m'\u001b[39m\u001b[38;5;124mpast_step\u001b[39m\u001b[38;5;124m'\u001b[39m: \u001b[38;5;241m12\u001b[39m, \n\u001b[1;32m     10\u001b[0m             \u001b[38;5;124m'\u001b[39m\u001b[38;5;124mmax_nan_limit_ratio\u001b[39m\u001b[38;5;124m'\u001b[39m: max_nan_limit_ratio\n\u001b[1;32m     11\u001b[0m     }\n",
      "\u001b[0;31mNameError\u001b[0m: name 'day_window_size' is not defined"
     ]
    }
   ],
   "source": [
    "if split_mode =='windows_split':\n",
    "    transform_parameter = {\n",
    "        'split_mode' : 'window_split',\n",
    "        'data_clean_option' : \"false\"\n",
    "    }\n",
    "else:\n",
    "    transform_parameter = {\n",
    "            'future_step': 2,\n",
    "            'past_step': 12,\n",
    "            'data_clean_option' : \"false\"\n",
    "    }"
   ]
  },
  {
   "cell_type": "code",
   "execution_count": null,
   "id": "22975a31",
   "metadata": {
    "ExecuteTime": {
     "end_time": "2023-05-26T07:48:27.509392Z",
     "start_time": "2023-05-26T07:48:27.506731Z"
    }
   },
   "outputs": [],
   "source": [
    "\n",
    "model_data_clean = True # Front End Parameter \n",
    "if model_data_clean:\n",
    "    transform_parameter['nan_process_info'] = {'type':'num', 'ConsecutiveNanLimit':10, 'totalNaNLimit':100}\n",
    "    max_nan_limit_ratio = 0.9\n",
    "else:\n",
    "    nan_process_info = {'type':'num', 'ConsecutiveNanLimit':10000, 'totalNaNLimit':100000}\n",
    "    max_nan_limit_ratio = 0.5\n",
    "\n",
    "nan_process_info = {'type':'num', 'ConsecutiveNanLimit':10000, 'totalNaNLimit':100000}"
   ]
  },
  {
   "cell_type": "code",
   "execution_count": null,
   "id": "28752269",
   "metadata": {
    "ExecuteTime": {
     "end_time": "2023-05-26T07:48:27.514285Z",
     "start_time": "2023-05-26T07:48:27.511118Z"
    }
   },
   "outputs": [],
   "source": [
    "dataX_scaled = ML_pipeline.clean_low_quality_column(dataX_scaled, transform_parameter)\n",
    "feature_X_list= list(dataX_scaled.columns)"
   ]
  },
  {
   "cell_type": "markdown",
   "id": "b60ae2c2",
   "metadata": {},
   "source": [
    "### 2.2 Train/Val Split pipeline"
   ]
  },
  {
   "cell_type": "code",
   "execution_count": null,
   "id": "a2463833",
   "metadata": {
    "ExecuteTime": {
     "end_time": "2023-05-26T07:48:27.518645Z",
     "start_time": "2023-05-26T07:48:27.516054Z"
    }
   },
   "outputs": [],
   "source": [
    "split_ratio = 0.8"
   ]
  },
  {
   "cell_type": "code",
   "execution_count": null,
   "id": "c884e30e",
   "metadata": {
    "ExecuteTime": {
     "end_time": "2023-05-26T07:48:27.536343Z",
     "start_time": "2023-05-26T07:48:27.520098Z"
    }
   },
   "outputs": [],
   "source": [
    "# TODO 데이터 나뉘는 부분 추가로 작성된 것 지수님에게 물어봐야 함\n",
    "# day_window_size = tool.get_default_day_window_size(dataX_scaled)\n",
    "# train_x, val_x, train_y, val_y = ML_pipeline.split_data_by_mode(split_mode, split_ratio, dataX_scaled, datay_scaled, day_window_size)\n",
    "\n",
    "train_x, val_x, train_y, val_y, transform_parameter = split_data_by_mode(dataX_scaled, datay_scaled, split_ratio, transform_parameter)"
   ]
  },
  {
   "cell_type": "markdown",
   "id": "92d0495b",
   "metadata": {},
   "source": [
    "### 2.3 Data Transformation & Clean2 pipeline"
   ]
  },
  {
   "cell_type": "code",
   "execution_count": null,
   "id": "77429916",
   "metadata": {
    "ExecuteTime": {
     "end_time": "2023-05-26T07:48:27.591602Z",
     "start_time": "2023-05-26T07:48:27.543961Z"
    }
   },
   "outputs": [],
   "source": [
    "train_X_array, train_y_array = ML_pipeline.transform_data_by_split_mode(transform_parameter, train_x, train_y)\n",
    "val_X_array, val_y_array = ML_pipeline.transform_data_by_split_mode(transform_parameter, val_x, val_y)"
   ]
  },
  {
   "cell_type": "code",
   "execution_count": null,
   "id": "a3c56598",
   "metadata": {
    "ExecuteTime": {
     "end_time": "2023-05-26T07:48:27.596115Z",
     "start_time": "2023-05-26T07:48:27.593052Z"
    }
   },
   "outputs": [],
   "source": [
    "print(train_X_array.shape)\n",
    "print(train_y_array.shape)\n",
    "print(val_X_array.shape)\n",
    "print(val_y_array.shape)"
   ]
  },
  {
   "cell_type": "markdown",
   "id": "ff6b9d01",
   "metadata": {},
   "source": [
    "### 2.4 Set Model and train parameter"
   ]
  },
  {
   "cell_type": "code",
   "execution_count": null,
   "id": "3adac6a4",
   "metadata": {
    "ExecuteTime": {
     "end_time": "2023-05-26T07:48:27.603534Z",
     "start_time": "2023-05-26T07:48:27.597429Z"
    }
   },
   "outputs": [],
   "source": [
    "# RNN models (RNN, LSTM, GRU) parameters\n",
    "seq_len, input_size = train_X_array.shape[1], train_X_array.shape[2]\n",
    "model_method = 'GRU_rg' # Set model methods i.e., 'LSTM_rg', 'GRU_rg', 'CNN_1D_rg', 'LSTM_FCNs_rg', 'FC_rg' \n",
    "\n",
    "defalut_model_info ={\"LSTM_rg\":{\"hidden_size\":64,\"num_layers\":2,\"output_dim\":1,\"dropout\":0.1,\"bidirectional\":True},\n",
    "                     \"GRU_rg\":{\"hidden_size\":64,\"num_layers\":2,\"output_dim\":1,\"dropout\":0.1,\"bidirectional\":True},\n",
    "                     \"CNN_1D_rg\":{\"output_channels\":64,\"kernel_size\":3,\"stride\":1,\"dropout\":0.1,\"padding\":0},\n",
    "                     \"LSTM_FCNs_rg\":{\"num_layers\":2,\"lstm_dropout\":0.4,\"fc_dropout\":0.1},\n",
    "                     \"FC_rg\":{\"dropout\":2,\"bias\":0.4}}\n",
    "default_train_param_info = {\"lr\":1e-4,\"weight_decay\":1e-6,\"n_epochs\":100,\"batch_size\":16}\n",
    "\n",
    "model_info = defalut_model_info[model_method]\n",
    "\n",
    "from Clust.clust.ML.common import parameter_setting\n",
    "model_parameter = parameter_setting.set_model_parameter(model_method, model_info, seq_len, input_size)\n",
    "train_parameter = parameter_setting.set_train_parameter(default_train_param_info)\n"
   ]
  },
  {
   "cell_type": "code",
   "execution_count": null,
   "id": "a8ea6465",
   "metadata": {
    "ExecuteTime": {
     "end_time": "2023-05-26T07:48:27.609260Z",
     "start_time": "2023-05-26T07:48:27.605270Z"
    }
   },
   "outputs": [],
   "source": [
    "model_parameter"
   ]
  },
  {
   "cell_type": "markdown",
   "id": "a798b4aa",
   "metadata": {},
   "source": [
    "### 2.5 Set Model name and path pipeline"
   ]
  },
  {
   "cell_type": "code",
   "execution_count": null,
   "id": "19dee514",
   "metadata": {
    "ExecuteTime": {
     "end_time": "2023-05-26T07:49:09.621620Z",
     "start_time": "2023-05-26T07:49:09.617858Z"
    }
   },
   "outputs": [],
   "source": [
    "model_name = None\n",
    "model_file_path = None\n",
    "\n",
    "# model name & path\n",
    "if model_name is None:\n",
    "    collection_index = dataset_name.find('_')\n",
    "    app_name = dataset_name[collection_index:]\n",
    "    model_name = tool.get_default_model_name(model_name, app_name, model_method, model_data_clean)\n",
    "        \n",
    "model_file_path = tool.get_default_model_path(model_name, data_name_X, model_method, train_parameter)"
   ]
  },
  {
   "cell_type": "code",
   "execution_count": null,
   "id": "674e3d58",
   "metadata": {
    "ExecuteTime": {
     "end_time": "2023-05-26T07:49:11.763063Z",
     "start_time": "2023-05-26T07:49:11.759410Z"
    }
   },
   "outputs": [],
   "source": [
    "model_name"
   ]
  },
  {
   "cell_type": "code",
   "execution_count": null,
   "id": "757c36a7",
   "metadata": {},
   "outputs": [],
   "source": [
    "model_tags =[\"model_tag_example\"]"
   ]
  },
  {
   "cell_type": "markdown",
   "id": "6a44195f",
   "metadata": {},
   "source": [
    "## 3. Training"
   ]
  },
  {
   "cell_type": "code",
   "execution_count": null,
   "id": "73158e30",
   "metadata": {},
   "outputs": [],
   "source": [
    "model_meta = {\n",
    "    'ingestion_param_X' : ingestion_param_X,\n",
    "    'ingestion_param_y' : ingestion_param_y,\n",
    "    'data_y_flag' : data_y_flag,\n",
    "    'scaler_param':scaler_param,\n",
    "    'transform_param':transform_param,\n",
    "    'model_info':{\n",
    "        'model_purpose' : model_purpose,\n",
    "        'model_method' : model_method,\n",
    "        'model_name' : model_name,\n",
    "        'model_tags' : model_tags',\n",
    "        'train_parameter' : train_parameter,\n",
    "        'model_parameter' :model_parameter\n",
    "    },\n",
    "    'train_data_info' : data_meta\n",
    "}"
   ]
  },
  {
   "cell_type": "code",
   "execution_count": null,
   "id": "f51aab4a",
   "metadata": {
    "ExecuteTime": {
     "end_time": "2023-05-26T07:50:24.126269Z",
     "start_time": "2023-05-26T07:49:12.967668Z"
    },
    "scrolled": true
   },
   "outputs": [],
   "source": [
    "ML_pipeline.CLUST_regresstion_train(train_X_array, train_y_array, val_X_array, val_y_array, model_meta['model_info'])"
   ]
  },
  {
   "cell_type": "markdown",
   "id": "2d36ad30",
   "metadata": {},
   "source": [
    "## 4. save metadata"
   ]
  },
  {
   "cell_type": "code",
   "execution_count": null,
   "id": "4199298b",
   "metadata": {},
   "outputs": [],
   "source": [
    "mongo_client.insert_document('model', 'JH_meta_Test', model_meta)"
   ]
  },
  {
   "cell_type": "code",
   "execution_count": null,
   "id": "775006d3",
   "metadata": {},
   "outputs": [],
   "source": []
  }
 ],
 "metadata": {
  "kernelspec": {
   "display_name": "Python 3 (ipykernel)",
   "language": "python",
   "name": "python3"
  },
  "language_info": {
   "codemirror_mode": {
    "name": "ipython",
    "version": 3
   },
   "file_extension": ".py",
   "mimetype": "text/x-python",
   "name": "python",
   "nbconvert_exporter": "python",
   "pygments_lexer": "ipython3",
   "version": "3.8.8"
  },
  "toc": {
   "base_numbering": 1,
   "nav_menu": {},
   "number_sections": true,
   "sideBar": true,
   "skip_h1_title": false,
   "title_cell": "Table of Contents",
   "title_sidebar": "Contents",
   "toc_cell": false,
   "toc_position": {},
   "toc_section_display": true,
   "toc_window_display": false
  },
  "vscode": {
   "interpreter": {
    "hash": "e92cea83a25a22cd774ff9f8132db57ccb94d86fd97b7fe80ee00c35daecdd05"
   }
  }
 },
 "nbformat": 4,
 "nbformat_minor": 5
}
