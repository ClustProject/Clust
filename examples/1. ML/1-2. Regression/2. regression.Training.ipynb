{
 "cells": [
  {
   "cell_type": "code",
   "execution_count": 1,
   "id": "95790ab5",
   "metadata": {
    "ExecuteTime": {
     "end_time": "2023-05-26T07:48:25.273474Z",
     "start_time": "2023-05-26T07:48:24.020304Z"
    }
   },
   "outputs": [
    {
     "name": "stdout",
     "output_type": "stream",
     "text": [
      "cpu is available.\n"
     ]
    }
   ],
   "source": [
    "import sys, os\n",
    "import pandas as pd\n",
    "sys.path.append(\"../../../../\")\n",
    "\n",
    "from Clust.setting import influx_setting_KETI as ins\n",
    "from Clust.clust.ingestion.influx import influx_client_v2 as influx_Client\n",
    "from Clust.clust.ingestion.mongo.mongo_client import MongoClient\n",
    "db_client = influx_Client.InfluxClient(ins.CLUSTDataServer2)\n",
    "mongo_client = MongoClient(ins.CLUSTMetaInfo2)\n",
    "\n",
    "import torch\n",
    "device = \"cuda\" if torch.cuda.is_available() else \"cpu\"\n",
    "print(f\"{device}\" \" is available.\")\n",
    "\n",
    "from Clust.clust.ML.common import ML_pipeline, tool\n",
    "app_name= \"energy\" # \"Hs2SwineFarmWithWeatherTime\", \"energy\""
   ]
  },
  {
   "cell_type": "markdown",
   "id": "b14f5edd",
   "metadata": {},
   "source": [
    "## 1. Data Preparation"
   ]
  },
  {
   "cell_type": "markdown",
   "id": "51dc6a75",
   "metadata": {},
   "source": [
    "### 1-1. Parameter Setting"
   ]
  },
  {
   "cell_type": "code",
   "execution_count": 2,
   "id": "64028082",
   "metadata": {
    "ExecuteTime": {
     "end_time": "2023-05-26T07:48:25.281914Z",
     "start_time": "2023-05-26T07:48:25.275651Z"
    }
   },
   "outputs": [],
   "source": [
    "if app_name == \"energy\":\n",
    "    model_purpose = 'regression'\n",
    "    feature_X_list = ['Press_mm_hg', 'RH_1', 'RH_2', 'RH_3', 'RH_4', 'RH_5', 'RH_6', 'RH_7',\n",
    "       'RH_8', 'RH_9', 'RH_out', 'T1', 'T2', 'T3', 'T4', 'T5', 'T6', 'T7',\n",
    "       'T8', 'T9', 'T_out', 'Tdewpoint', 'Visibility', 'Windspeed']\n",
    "    feature_y_list = ['value']\n",
    "    split_mode =\"windows_split\"\n",
    "    data_y_flag = True # 이미 만들어진 Y 데이터를 활용함\n",
    "    \n",
    "elif app_name == \"Hs2SwineFarmWithWeatherTime\":\n",
    "    model_purpose = 'forecasting' \n",
    "    feature_X_list = ['Temperature', 'out_temp','sin_hour']\n",
    "    feature_y_list = ['Temperature']\n",
    "    split_mode = 'step_split'\n",
    "    data_y_flag = False # Y데이터는 없음, X 에서 Y 데이터를 도출함\n",
    "    \n",
    "step = 'train'\n",
    "bucket_name = 'integration' \n",
    "data_clean_level = 4"
   ]
  },
  {
   "cell_type": "code",
   "execution_count": 3,
   "id": "6e5aaf36",
   "metadata": {
    "ExecuteTime": {
     "end_time": "2023-05-26T07:48:25.385517Z",
     "start_time": "2023-05-26T07:48:25.283411Z"
    }
   },
   "outputs": [
    {
     "name": "stdout",
     "output_type": "stream",
     "text": [
      "['classification_actionPattern_cleanLevel0_testX', 'classification_actionPattern_cleanLevel0_testy', 'classification_actionPattern_cleanLevel0_trainX', 'classification_actionPattern_cleanLevel0_trainy', 'forecasting_Hs2SwineFarmWithWeatherTime_cleanLevel0_testX', 'forecasting_Hs2SwineFarmWithWeatherTime_cleanLevel0_trainX', 'forecasting_Hs2SwineFarmWithWeatherTime_cleanLevel4_testX', 'forecasting_Hs2SwineFarmWithWeatherTime_cleanLevel4_trainX', 'forecasting_strawberryOpen_cleanLevel0_testX', 'forecasting_strawberryOpen_cleanLevel0_trainX', 'forecasting_strawberryOpen_cleanLevel4_testX', 'forecasting_strawberryOpen_cleanLevel4_trainX', 'regression_energy_cleanLevel0_testX', 'regression_energy_cleanLevel0_testy', 'regression_energy_cleanLevel0_trainX', 'regression_energy_cleanLevel0_trainy', 'regression_energy_cleanLevel4_testX', 'regression_energy_cleanLevel4_testy', 'regression_energy_cleanLevel4_trainX', 'regression_energy_cleanLevel4_trainy']\n",
      "==========================================================\n",
      "['forecasting_Hs2SwineFarmWithWeatherTime', 'regression_energy', 'classification_actionPattern', 'forecasting_strawberryOpen']\n"
     ]
    }
   ],
   "source": [
    "all_integrated_ms_list = db_client.measurement_list(bucket_name)\n",
    "print(all_integrated_ms_list)\n",
    "print(\"==========================================================\")\n",
    "collection_list = mongo_client.get_collection_list(bucket_name)\n",
    "print(collection_list)"
   ]
  },
  {
   "cell_type": "markdown",
   "id": "b3029057",
   "metadata": {},
   "source": [
    "### 1-2. Data Ingestion\n",
    "#### 1-2-1. Select data name "
   ]
  },
  {
   "cell_type": "code",
   "execution_count": 4,
   "id": "ccf9f326",
   "metadata": {
    "ExecuteTime": {
     "end_time": "2023-05-26T07:48:25.403123Z",
     "start_time": "2023-05-26T07:48:25.387933Z"
    }
   },
   "outputs": [
    {
     "name": "stdout",
     "output_type": "stream",
     "text": [
      "regression_energy\n"
     ]
    },
    {
     "data": {
      "text/plain": [
       "'regression_energy'"
      ]
     },
     "execution_count": 4,
     "metadata": {},
     "output_type": "execute_result"
    }
   ],
   "source": [
    "dataset_name = model_purpose + '_' + app_name  \n",
    "print(dataset_name)\n",
    "data_name_X = dataset_name + '_cleanLevel' + str(data_clean_level)+'_'+step+'X'\n",
    "data_name_y = dataset_name+'_cleanLevel' + str(data_clean_level)+'_'+ step+'y'\n",
    "data_meta = mongo_client.get_document_by_json('integration', dataset_name, {'ms_name':data_name_X})[0]"
   ]
  },
  {
   "cell_type": "code",
   "execution_count": 5,
   "id": "8608cb0b",
   "metadata": {
    "ExecuteTime": {
     "end_time": "2023-05-26T07:48:25.410150Z",
     "start_time": "2023-05-26T07:48:25.404528Z"
    }
   },
   "outputs": [
    {
     "data": {
      "text/plain": [
       "{'bucket_name': 'integration',\n",
       " 'collection_name': 'regression_energy',\n",
       " 'ms_name': 'regression_energy_cleanLevel4_trainX',\n",
       " 'ingestion_type': 'multiple_ms_by_time',\n",
       " 'ingestion_param': {'ms_list_info': [['life_indoor_environment',\n",
       "    'humidityTrain_10min'],\n",
       "   ['life_indoor_environment', 'temperatureTrain_10min'],\n",
       "   ['weather_outdoor_environment', 'belgiumChieverseAirportTrain_10min']],\n",
       "  'start_time': '2016-01-11',\n",
       "  'end_time': '2016-04-15'},\n",
       " 'processing_type': 'step_3',\n",
       " 'process_param': {'refine_param': {'removeDuplication': {'flag': True},\n",
       "   'staticFrequency': {'flag': True, 'frequency': None}},\n",
       "  'outlier_param': {'certainErrorToNaN': {'flag': True},\n",
       "   'unCertainErrorToNaN': {'flag': True,\n",
       "    'param': {'outlierDetectorConfig': [{'algorithm': 'IQR',\n",
       "       'percentile': 99,\n",
       "       'alg_parameter': {'weight': 100}}]}}},\n",
       "  'imputation_param': {'flag': True,\n",
       "   'imputation_method': [{'min': 0,\n",
       "     'max': 2,\n",
       "     'method': 'linear',\n",
       "     'parameter': {}}],\n",
       "   'totalNonNanRatio': 90}},\n",
       " 'integration_param': {'integration_frequency': 600,\n",
       "  'param': {},\n",
       "  'method': 'meta',\n",
       "  'integration_duration': 'common'},\n",
       " 'clean_level': 4}"
      ]
     },
     "execution_count": 5,
     "metadata": {},
     "output_type": "execute_result"
    }
   ],
   "source": [
    "data_meta"
   ]
  },
  {
   "cell_type": "markdown",
   "id": "1102bcf3",
   "metadata": {},
   "source": [
    "#### 1-2-2. X-y Data Ingestion pipeline"
   ]
  },
  {
   "cell_type": "code",
   "execution_count": 6,
   "id": "98c01141",
   "metadata": {
    "ExecuteTime": {
     "end_time": "2023-05-26T07:48:25.414491Z",
     "start_time": "2023-05-26T07:48:25.411616Z"
    }
   },
   "outputs": [],
   "source": [
    "# Data Ingestion\n",
    "ingestion_method = 'ms_all'\n",
    "ingestion_param_X = {\n",
    "    \"bucket_name\" : bucket_name,\n",
    "    'ms_name' : data_name_X,\n",
    "    'feature_list' : feature_X_list                              \n",
    "}\n",
    "ingestion_param_y = {\n",
    "    \"bucket_name\" : bucket_name,\n",
    "    'ms_name' : data_name_y,\n",
    "    'feature_list' : feature_y_list                              \n",
    "}"
   ]
  },
  {
   "cell_type": "code",
   "execution_count": 8,
   "id": "bcec8e5c",
   "metadata": {
    "ExecuteTime": {
     "end_time": "2023-05-26T07:48:27.416874Z",
     "start_time": "2023-05-26T07:48:25.421416Z"
    },
    "scrolled": true
   },
   "outputs": [],
   "source": [
    "data_X, data_y = ML_pipeline.Xy_data_preparation(ingestion_param_X, data_y_flag, ingestion_param_y, ingestion_method, db_client)"
   ]
  },
  {
   "cell_type": "markdown",
   "id": "fd5e818e",
   "metadata": {},
   "source": [
    "### 1-2-2. Random Nan Insert (Test)"
   ]
  },
  {
   "cell_type": "code",
   "execution_count": 11,
   "id": "9f9d5a67",
   "metadata": {
    "ExecuteTime": {
     "end_time": "2023-05-26T07:48:27.448915Z",
     "start_time": "2023-05-26T07:48:27.446661Z"
    }
   },
   "outputs": [],
   "source": [
    "nan_ratio = 0.00"
   ]
  },
  {
   "cell_type": "code",
   "execution_count": 12,
   "id": "ff0fe682",
   "metadata": {
    "ExecuteTime": {
     "end_time": "2023-05-26T07:48:27.478299Z",
     "start_time": "2023-05-26T07:48:27.450477Z"
    }
   },
   "outputs": [
    {
     "name": "stderr",
     "output_type": "stream",
     "text": [
      "/home/jianso/문서/Code/CLUST/Clust/examples/1. ML/1-2. Regression/../../../../Clust/clust/ML/common/tool.py:17: FutureWarning: The pandas.np module is deprecated and will be removed from pandas in a future version. Import numpy directly instead\n",
      "  df.loc[df.sample(frac=nan_ratio). index, col] = pd.np.nan\n"
     ]
    }
   ],
   "source": [
    "data_X = tool.random_nan_df(data_X, nan_ratio)\n",
    "data_y = tool.random_nan_df(data_y, nan_ratio)"
   ]
  },
  {
   "cell_type": "markdown",
   "id": "8d51d355",
   "metadata": {},
   "source": [
    "#### 1-2-3. Data scaling"
   ]
  },
  {
   "cell_type": "code",
   "execution_count": 13,
   "id": "7bd78ba0",
   "metadata": {
    "ExecuteTime": {
     "end_time": "2023-05-26T07:48:27.483176Z",
     "start_time": "2023-05-26T07:48:27.480135Z"
    }
   },
   "outputs": [],
   "source": [
    "scaler_param='scale'\n",
    "scale_method='minmax'\n",
    "scaler_path = './scaler/'"
   ]
  },
  {
   "cell_type": "code",
   "execution_count": 14,
   "id": "768ca14b",
   "metadata": {
    "ExecuteTime": {
     "end_time": "2023-05-26T07:48:27.505263Z",
     "start_time": "2023-05-26T07:48:27.485046Z"
    },
    "scrolled": true
   },
   "outputs": [
    {
     "name": "stdout",
     "output_type": "stream",
     "text": [
      "['Press_mm_hg', 'RH_1', 'RH_2', 'RH_3', 'RH_4', 'RH_5', 'RH_6', 'RH_7', 'RH_8', 'RH_9', 'RH_out', 'T1', 'T2', 'T3', 'T4', 'T5', 'T6', 'T7', 'T8', 'T9', 'T_out', 'Tdewpoint', 'Visibility', 'Windspeed']\n",
      "=========validataion============\n",
      "[dtype('float64'), dtype('float64'), dtype('float64'), dtype('float64'), dtype('float64'), dtype('float64'), dtype('float64'), dtype('float64'), dtype('float64'), dtype('float64'), dtype('float64'), dtype('float64'), dtype('float64'), dtype('float64'), dtype('float64'), dtype('float64'), dtype('float64'), dtype('float64'), dtype('float64'), dtype('float64'), dtype('float64'), dtype('float64'), dtype('float64'), dtype('float64')]\n",
      "Make New scaler File\n",
      "=========validataion============\n",
      "[dtype('float64'), dtype('float64'), dtype('float64'), dtype('float64'), dtype('float64'), dtype('float64'), dtype('float64'), dtype('float64'), dtype('float64'), dtype('float64'), dtype('float64'), dtype('float64'), dtype('float64'), dtype('float64'), dtype('float64'), dtype('float64'), dtype('float64'), dtype('float64'), dtype('float64'), dtype('float64'), dtype('float64'), dtype('float64'), dtype('float64'), dtype('float64')]\n",
      "['value']\n",
      "=========validataion============\n",
      "[dtype('float64')]\n",
      "Make New scaler File\n",
      "=========validataion============\n",
      "[dtype('float64')]\n"
     ]
    }
   ],
   "source": [
    "dataX_scaled, X_scalerFilePath, datay_scaled, y_scalerFilePath= ML_pipeline.Xy_data_scaling_train(data_name_X, data_X, data_name_y, data_y, scaler_path, scaler_param, scale_method)"
   ]
  },
  {
   "cell_type": "markdown",
   "id": "8a54c637",
   "metadata": {},
   "source": [
    "## 2. Cleaning and split\n",
    "### 2.1 pipeline - clean low quality column"
   ]
  },
  {
   "cell_type": "code",
   "execution_count": 15,
   "id": "22975a31",
   "metadata": {
    "ExecuteTime": {
     "end_time": "2023-05-26T07:48:27.509392Z",
     "start_time": "2023-05-26T07:48:27.506731Z"
    }
   },
   "outputs": [],
   "source": [
    "model_clean = False\n",
    "nan_process_info = {'type':'num', 'ConsecutiveNanLimit':10000, 'totalNaNLimit':100000}"
   ]
  },
  {
   "cell_type": "code",
   "execution_count": 16,
   "id": "28752269",
   "metadata": {
    "ExecuteTime": {
     "end_time": "2023-05-26T07:48:27.514285Z",
     "start_time": "2023-05-26T07:48:27.511118Z"
    }
   },
   "outputs": [],
   "source": [
    "dataX_scaled = ML_pipeline.clean_low_quality_column(model_clean, nan_process_info, dataX_scaled)\n",
    "feature_X_list= list(dataX_scaled.columns)"
   ]
  },
  {
   "cell_type": "markdown",
   "id": "b60ae2c2",
   "metadata": {},
   "source": [
    "### 2.2 Train/Val Split pipeline"
   ]
  },
  {
   "cell_type": "code",
   "execution_count": 17,
   "id": "a2463833",
   "metadata": {
    "ExecuteTime": {
     "end_time": "2023-05-26T07:48:27.518645Z",
     "start_time": "2023-05-26T07:48:27.516054Z"
    }
   },
   "outputs": [],
   "source": [
    "split_ratio = 0.8"
   ]
  },
  {
   "cell_type": "code",
   "execution_count": 18,
   "id": "c884e30e",
   "metadata": {
    "ExecuteTime": {
     "end_time": "2023-05-26T07:48:27.536343Z",
     "start_time": "2023-05-26T07:48:27.520098Z"
    }
   },
   "outputs": [],
   "source": [
    "# TODO 데이터 나뉘는 부분 추가로 작성된 것 지수님에게 물어봐야 함\n",
    "day_window_size = tool.get_default_day_window_size(dataX_scaled)\n",
    "train_x, val_x, train_y, val_y = ML_pipeline.split_data_by_mode(split_mode, split_ratio, dataX_scaled, datay_scaled, day_window_size)"
   ]
  },
  {
   "cell_type": "markdown",
   "id": "92d0495b",
   "metadata": {},
   "source": [
    "### 2.3 Data Transformation & Clean2 pipeline"
   ]
  },
  {
   "cell_type": "code",
   "execution_count": 19,
   "id": "d2f206d9",
   "metadata": {
    "ExecuteTime": {
     "end_time": "2023-05-26T07:48:27.542034Z",
     "start_time": "2023-05-26T07:48:27.538494Z"
    }
   },
   "outputs": [],
   "source": [
    "max_nan_limit_ratio = 0.5\n",
    "if split_mode =='windows_split':\n",
    "    transform_parameter = {\n",
    "            'past_step':day_window_size,\n",
    "            'max_nan_limit_ratio': max_nan_limit_ratio\n",
    "    }\n",
    "else:\n",
    "    transform_parameter = {\n",
    "            'future_step': 2,\n",
    "            'past_step': 12, \n",
    "            'max_nan_limit_ratio': max_nan_limit_ratio\n",
    "    }"
   ]
  },
  {
   "cell_type": "code",
   "execution_count": 20,
   "id": "77429916",
   "metadata": {
    "ExecuteTime": {
     "end_time": "2023-05-26T07:48:27.591602Z",
     "start_time": "2023-05-26T07:48:27.543961Z"
    }
   },
   "outputs": [
    {
     "name": "stdout",
     "output_type": "stream",
     "text": [
      "window_size: 144 nan_limit_num: 72\n",
      "(10944, 24) (72, 144, 24)\n",
      "(76, 1) (72, 1)\n",
      "window_size: 144 nan_limit_num: 72\n",
      "(2736, 24) (19, 144, 24)\n",
      "(19, 1) (19, 1)\n"
     ]
    }
   ],
   "source": [
    "train_X_array, train_y_array = ML_pipeline.transform_data_by_split_mode(split_mode, transform_parameter, train_x, train_y)\n",
    "val_X_array, val_y_array = ML_pipeline.transform_data_by_split_mode(split_mode, transform_parameter, val_x, val_y)"
   ]
  },
  {
   "cell_type": "code",
   "execution_count": 21,
   "id": "a3c56598",
   "metadata": {
    "ExecuteTime": {
     "end_time": "2023-05-26T07:48:27.596115Z",
     "start_time": "2023-05-26T07:48:27.593052Z"
    }
   },
   "outputs": [
    {
     "name": "stdout",
     "output_type": "stream",
     "text": [
      "(72, 144, 24)\n",
      "(72, 1)\n",
      "(19, 144, 24)\n",
      "(19, 1)\n"
     ]
    }
   ],
   "source": [
    "print(train_X_array.shape)\n",
    "print(train_y_array.shape)\n",
    "print(val_X_array.shape)\n",
    "print(val_y_array.shape)"
   ]
  },
  {
   "cell_type": "markdown",
   "id": "ff6b9d01",
   "metadata": {},
   "source": [
    "### 2.4 Set Model and train parameter"
   ]
  },
  {
   "cell_type": "code",
   "execution_count": 22,
   "id": "3adac6a4",
   "metadata": {
    "ExecuteTime": {
     "end_time": "2023-05-26T07:48:27.603534Z",
     "start_time": "2023-05-26T07:48:27.597429Z"
    }
   },
   "outputs": [
    {
     "name": "stdout",
     "output_type": "stream",
     "text": [
      "cpu is available.\n",
      "{'hidden_size': 64, 'num_layers': 2, 'output_dim': 1, 'dropout': 0.1, 'bidirectional': True}\n"
     ]
    }
   ],
   "source": [
    "# RNN models (RNN, LSTM, GRU) parameters\n",
    "seq_len, input_size = train_X_array.shape[1], train_X_array.shape[2]\n",
    "model_method = 'GRU_rg' # Set model methods i.e., 'LSTM_rg', 'GRU_rg', 'CNN_1D_rg', 'LSTM_FCNs_rg', 'FC_rg' \n",
    "\n",
    "defalut_model_info ={\"LSTM_rg\":{\"hidden_size\":64,\"num_layers\":2,\"output_dim\":1,\"dropout\":0.1,\"bidirectional\":True},\n",
    "                     \"GRU_rg\":{\"hidden_size\":64,\"num_layers\":2,\"output_dim\":1,\"dropout\":0.1,\"bidirectional\":True},\n",
    "                     \"CNN_1D_rg\":{\"output_channels\":64,\"kernel_size\":3,\"stride\":1,\"dropout\":0.1,\"padding\":0},\n",
    "                     \"LSTM_FCNs_rg\":{\"num_layers\":2,\"lstm_dropout\":0.4,\"fc_dropout\":0.1},\n",
    "                     \"FC_rg\":{\"dropout\":2,\"bias\":0.4}}\n",
    "default_train_param_info = {\"lr\":1e-4,\"weight_decay\":1e-6,\"n_epochs\":100,\"batch_size\":16}\n",
    "\n",
    "model_info = defalut_model_info[model_method]\n",
    "\n",
    "from Clust.clust.ML.common import parameter_setting\n",
    "model_parameter = parameter_setting.set_model_parameter(model_method, model_info, seq_len, input_size)\n",
    "train_parameter = parameter_setting.set_train_parameter(default_train_param_info)\n"
   ]
  },
  {
   "cell_type": "code",
   "execution_count": 23,
   "id": "a8ea6465",
   "metadata": {
    "ExecuteTime": {
     "end_time": "2023-05-26T07:48:27.609260Z",
     "start_time": "2023-05-26T07:48:27.605270Z"
    }
   },
   "outputs": [
    {
     "data": {
      "text/plain": [
       "{'rnn_type': 'lstm',\n",
       " 'input_size': 24,\n",
       " 'hidden_size': 64,\n",
       " 'num_layers': 2,\n",
       " 'output_dim': 1,\n",
       " 'dropout': 0.1,\n",
       " 'bidirectional': True}"
      ]
     },
     "execution_count": 23,
     "metadata": {},
     "output_type": "execute_result"
    }
   ],
   "source": [
    "model_parameter"
   ]
  },
  {
   "cell_type": "markdown",
   "id": "a798b4aa",
   "metadata": {},
   "source": [
    "### 2.5 Set Model name and path pipeline"
   ]
  },
  {
   "cell_type": "code",
   "execution_count": 25,
   "id": "19dee514",
   "metadata": {
    "ExecuteTime": {
     "end_time": "2023-05-26T07:49:09.621620Z",
     "start_time": "2023-05-26T07:49:09.617858Z"
    }
   },
   "outputs": [
    {
     "name": "stdout",
     "output_type": "stream",
     "text": [
      "./Models/GRU_rg/_energy_GRU_rg_False/regression_energy_cleanLevel4_trainX/c6f2ca56e27be1937ecf1e173440959e/model.pkl\n"
     ]
    }
   ],
   "source": [
    "model_name = None\n",
    "model_file_path = None\n",
    "\n",
    "# model name & path\n",
    "if model_name is None:\n",
    "    collection_index = dataset_name.find('_')\n",
    "    app_name = dataset_name[collection_index:]\n",
    "    model_name = tool.get_default_model_name(model_name, app_name, model_method, model_clean)\n",
    "        \n",
    "model_file_path = tool.get_default_model_path(model_name, data_name_X, model_method, train_parameter)"
   ]
  },
  {
   "cell_type": "code",
   "execution_count": 26,
   "id": "674e3d58",
   "metadata": {
    "ExecuteTime": {
     "end_time": "2023-05-26T07:49:11.763063Z",
     "start_time": "2023-05-26T07:49:11.759410Z"
    }
   },
   "outputs": [
    {
     "data": {
      "text/plain": [
       "'_energy_GRU_rg_False'"
      ]
     },
     "execution_count": 26,
     "metadata": {},
     "output_type": "execute_result"
    }
   ],
   "source": [
    "model_name"
   ]
  },
  {
   "cell_type": "markdown",
   "id": "6a44195f",
   "metadata": {},
   "source": [
    "## 3. Training"
   ]
  },
  {
   "cell_type": "code",
   "execution_count": 27,
   "id": "f51aab4a",
   "metadata": {
    "ExecuteTime": {
     "end_time": "2023-05-26T07:50:24.126269Z",
     "start_time": "2023-05-26T07:49:12.967668Z"
    },
    "scrolled": true
   },
   "outputs": [
    {
     "name": "stdout",
     "output_type": "stream",
     "text": [
      "Start training model\n",
      "[1/100] Training loss: 0.2152\t Validation loss: 0.1540\n",
      "[2/100] Training loss: 0.1981\t Validation loss: 0.1418\n",
      "[3/100] Training loss: 0.1745\t Validation loss: 0.1300\n",
      "[4/100] Training loss: 0.1777\t Validation loss: 0.1185\n",
      "[5/100] Training loss: 0.1632\t Validation loss: 0.1072\n",
      "[6/100] Training loss: 0.1450\t Validation loss: 0.0962\n",
      "[7/100] Training loss: 0.1329\t Validation loss: 0.0855\n",
      "[8/100] Training loss: 0.1143\t Validation loss: 0.0751\n",
      "[9/100] Training loss: 0.0915\t Validation loss: 0.0653\n",
      "[10/100] Training loss: 0.0948\t Validation loss: 0.0561\n",
      "[50/100] Training loss: 0.0379\t Validation loss: 0.0331\n",
      "[100/100] Training loss: 0.0346\t Validation loss: 0.0332\n",
      "\n",
      "Training complete in 1m 11s\n"
     ]
    }
   ],
   "source": [
    "ML_pipeline.CLUST_regresstion_train(train_parameter, model_method, model_parameter, model_file_path, train_X_array, train_y_array, val_X_array, val_y_array)"
   ]
  },
  {
   "cell_type": "markdown",
   "id": "2d36ad30",
   "metadata": {},
   "source": [
    "## 4. save metadata"
   ]
  },
  {
   "cell_type": "code",
   "execution_count": 28,
   "id": "d204cca2",
   "metadata": {
    "ExecuteTime": {
     "end_time": "2023-05-26T07:50:24.132344Z",
     "start_time": "2023-05-26T07:50:24.128130Z"
    }
   },
   "outputs": [],
   "source": [
    "# from Clust.clust.transformation.general.dataScaler import encode_hash_style\n",
    "model_tags =[\"model_tag_example\"]\n",
    "trainDataType = \"timeseries\"\n",
    "from Clust.clust.ML.tool import meta as ml_meta\n",
    "model_info_meta = ml_meta.model_meta_update(data_meta, model_name, split_mode, feature_X_list, feature_y_list, data_y_flag, model_purpose, model_method, model_tags, model_clean, train_parameter, model_parameter, transform_parameter, scaler_param, data_name_X, data_name_y, model_file_path, X_scalerFilePath, y_scalerFilePath)\n"
   ]
  },
  {
   "cell_type": "code",
   "execution_count": 29,
   "id": "94f5ded7",
   "metadata": {
    "ExecuteTime": {
     "end_time": "2023-05-26T07:50:24.148627Z",
     "start_time": "2023-05-26T07:50:24.134009Z"
    }
   },
   "outputs": [
    {
     "data": {
      "text/plain": [
       "{'trainDataInfo': {'bucket_name': 'integration',\n",
       "  'collection_name': 'regression_energy',\n",
       "  'ms_name': 'regression_energy_cleanLevel4_trainX',\n",
       "  'ingestion_type': 'multiple_ms_by_time',\n",
       "  'ingestion_param': {'ms_list_info': [['life_indoor_environment',\n",
       "     'humidityTrain_10min'],\n",
       "    ['life_indoor_environment', 'temperatureTrain_10min'],\n",
       "    ['weather_outdoor_environment', 'belgiumChieverseAirportTrain_10min']],\n",
       "   'start_time': '2016-01-11',\n",
       "   'end_time': '2016-04-15'},\n",
       "  'processing_type': 'step_3',\n",
       "  'process_param': {'refine_param': {'removeDuplication': {'flag': True},\n",
       "    'staticFrequency': {'flag': True, 'frequency': None}},\n",
       "   'outlier_param': {'certainErrorToNaN': {'flag': True},\n",
       "    'unCertainErrorToNaN': {'flag': True,\n",
       "     'param': {'outlierDetectorConfig': [{'algorithm': 'IQR',\n",
       "        'percentile': 99,\n",
       "        'alg_parameter': {'weight': 100}}]}}},\n",
       "   'imputation_param': {'flag': True,\n",
       "    'imputation_method': [{'min': 0,\n",
       "      'max': 2,\n",
       "      'method': 'linear',\n",
       "      'parameter': {}}],\n",
       "    'totalNonNanRatio': 90}},\n",
       "  'integration_param': {'integration_frequency': 600,\n",
       "   'param': {},\n",
       "   'method': 'meta',\n",
       "   'integration_duration': 'common'},\n",
       "  'clean_level': 4},\n",
       " 'modelName': '_energy_GRU_rg_False',\n",
       " 'dataSplitMode': 'windows_split',\n",
       " 'featureList': ['Press_mm_hg',\n",
       "  'RH_1',\n",
       "  'RH_2',\n",
       "  'RH_3',\n",
       "  'RH_4',\n",
       "  'RH_5',\n",
       "  'RH_6',\n",
       "  'RH_7',\n",
       "  'RH_8',\n",
       "  'RH_9',\n",
       "  'RH_out',\n",
       "  'T1',\n",
       "  'T2',\n",
       "  'T3',\n",
       "  'T4',\n",
       "  'T5',\n",
       "  'T6',\n",
       "  'T7',\n",
       "  'T8',\n",
       "  'T9',\n",
       "  'T_out',\n",
       "  'Tdewpoint',\n",
       "  'Visibility',\n",
       "  'Windspeed'],\n",
       " 'target': ['value'],\n",
       " 'data_y_flag': True,\n",
       " 'trainDataType': 'timeseries',\n",
       " 'modelPurpose': 'regression',\n",
       " 'modelMethod': 'GRU_rg',\n",
       " 'modelTags': ['model_tag_example'],\n",
       " 'modelCleanLevel': False,\n",
       " 'trainParameter': {'lr': 0.0001,\n",
       "  'weight_decay': 1e-06,\n",
       "  'device': 'cpu',\n",
       "  'n_epochs': 100,\n",
       "  'batch_size': 16},\n",
       " 'modelParameter': {'rnn_type': 'lstm',\n",
       "  'input_size': 24,\n",
       "  'hidden_size': 64,\n",
       "  'num_layers': 2,\n",
       "  'output_dim': 1,\n",
       "  'dropout': 0.1,\n",
       "  'bidirectional': True},\n",
       " 'transformParameter': {'past_step': 144, 'max_nan_limit_ratio': 0.5},\n",
       " 'scalerParam': 'scale',\n",
       " 'trainDataName': ['regression_energy_cleanLevel4_trainX',\n",
       "  'regression_energy_cleanLevel4_trainy'],\n",
       " 'files': {'modelFile': {'fileName': 'model.pth',\n",
       "   'filePath': './Models/GRU_rg/_energy_GRU_rg_False/regression_energy_cleanLevel4_trainX/c6f2ca56e27be1937ecf1e173440959e/model.pkl'},\n",
       "  'XScalerFile': {'fileName': 'scaler.pkl',\n",
       "   'filePath': './scaler/regression_energy_cleanLevel4_trainX/minmax/900878d7bba6f2a4017d1c3399909ea7/scaler.pkl'},\n",
       "  'yScalerFile': {'fileName': 'scaler.pkl',\n",
       "   'filePath': './scaler/regression_energy_cleanLevel4_trainy/minmax/f69156750a210491ffd4a67b605bc88b/scaler.pkl'}}}"
      ]
     },
     "execution_count": 29,
     "metadata": {},
     "output_type": "execute_result"
    }
   ],
   "source": [
    "model_info_meta"
   ]
  },
  {
   "cell_type": "code",
   "execution_count": null,
   "id": "3d61bbd0",
   "metadata": {},
   "outputs": [],
   "source": []
  }
 ],
 "metadata": {
  "kernelspec": {
   "display_name": "Python 3 (ipykernel)",
   "language": "python",
   "name": "python3"
  },
  "language_info": {
   "codemirror_mode": {
    "name": "ipython",
    "version": 3
   },
   "file_extension": ".py",
   "mimetype": "text/x-python",
   "name": "python",
   "nbconvert_exporter": "python",
   "pygments_lexer": "ipython3",
   "version": "3.8.8"
  },
  "toc": {
   "base_numbering": 1,
   "nav_menu": {},
   "number_sections": true,
   "sideBar": true,
   "skip_h1_title": false,
   "title_cell": "Table of Contents",
   "title_sidebar": "Contents",
   "toc_cell": false,
   "toc_position": {},
   "toc_section_display": true,
   "toc_window_display": false
  },
  "vscode": {
   "interpreter": {
    "hash": "e92cea83a25a22cd774ff9f8132db57ccb94d86fd97b7fe80ee00c35daecdd05"
   }
  }
 },
 "nbformat": 4,
 "nbformat_minor": 5
}
