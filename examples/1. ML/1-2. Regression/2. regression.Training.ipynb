{
 "cells": [
  {
   "cell_type": "code",
   "execution_count": 1,
   "id": "95790ab5",
   "metadata": {
    "ExecuteTime": {
     "end_time": "2023-05-26T07:48:25.273474Z",
     "start_time": "2023-05-26T07:48:24.020304Z"
    }
   },
   "outputs": [
    {
     "ename": "ModuleNotFoundError",
     "evalue": "No module named 'Clust'",
     "output_type": "error",
     "traceback": [
      "\u001b[0;31m---------------------------------------------------------------------------\u001b[0m",
      "\u001b[0;31mModuleNotFoundError\u001b[0m                       Traceback (most recent call last)",
      "Cell \u001b[0;32mIn[1], line 5\u001b[0m\n\u001b[1;32m      2\u001b[0m \u001b[38;5;28;01mimport\u001b[39;00m \u001b[38;5;21;01mpandas\u001b[39;00m \u001b[38;5;28;01mas\u001b[39;00m \u001b[38;5;21;01mpd\u001b[39;00m\n\u001b[1;32m      3\u001b[0m sys\u001b[38;5;241m.\u001b[39mpath\u001b[38;5;241m.\u001b[39mappend(\u001b[38;5;124m\"\u001b[39m\u001b[38;5;124m../../../../\u001b[39m\u001b[38;5;124m\"\u001b[39m)\n\u001b[0;32m----> 5\u001b[0m \u001b[38;5;28;01mfrom\u001b[39;00m \u001b[38;5;21;01mClust\u001b[39;00m\u001b[38;5;21;01m.\u001b[39;00m\u001b[38;5;21;01msetting\u001b[39;00m \u001b[38;5;28;01mimport\u001b[39;00m influx_setting_KETI \u001b[38;5;28;01mas\u001b[39;00m ins\n\u001b[1;32m      6\u001b[0m \u001b[38;5;28;01mfrom\u001b[39;00m \u001b[38;5;21;01mClust\u001b[39;00m\u001b[38;5;21;01m.\u001b[39;00m\u001b[38;5;21;01mclust\u001b[39;00m\u001b[38;5;21;01m.\u001b[39;00m\u001b[38;5;21;01mingestion\u001b[39;00m\u001b[38;5;21;01m.\u001b[39;00m\u001b[38;5;21;01minflux\u001b[39;00m \u001b[38;5;28;01mimport\u001b[39;00m influx_client_v2 \u001b[38;5;28;01mas\u001b[39;00m influx_Client\n\u001b[1;32m      7\u001b[0m \u001b[38;5;28;01mfrom\u001b[39;00m \u001b[38;5;21;01mClust\u001b[39;00m\u001b[38;5;21;01m.\u001b[39;00m\u001b[38;5;21;01mclust\u001b[39;00m\u001b[38;5;21;01m.\u001b[39;00m\u001b[38;5;21;01mingestion\u001b[39;00m\u001b[38;5;21;01m.\u001b[39;00m\u001b[38;5;21;01mmongo\u001b[39;00m\u001b[38;5;21;01m.\u001b[39;00m\u001b[38;5;21;01mmongo_client\u001b[39;00m \u001b[38;5;28;01mimport\u001b[39;00m MongoClient\n",
      "\u001b[0;31mModuleNotFoundError\u001b[0m: No module named 'Clust'"
     ]
    }
   ],
   "source": [
    "import sys, os\n",
    "import pandas as pd\n",
    "sys.path.append(\"../../../../\")\n",
    "\n",
    "from Clust.setting import influx_setting_KETI as ins\n",
    "from Clust.clust.ingestion.influx import influx_client_v2 as influx_Client\n",
    "from Clust.clust.ingestion.mongo.mongo_client import MongoClient\n",
    "db_client = influx_Client.InfluxClient(ins.CLUSTDataServer2)\n",
    "mongo_client = MongoClient(ins.CLUSTMetaInfo2)\n",
    "\n",
    "import torch\n",
    "device = \"cuda\" if torch.cuda.is_available() else \"cpu\"\n",
    "print(f\"{device}\" \" is available.\")\n",
    "\n",
    "from Clust.clust.ML.common import ML_pipeline, tool\n",
    "app_name= \"energy\" # \"Hs2SwineFarmWithWeatherTime\", \"energy\""
   ]
  },
  {
   "attachments": {},
   "cell_type": "markdown",
   "id": "b14f5edd",
   "metadata": {},
   "source": [
    "## 1. Data Preparation"
   ]
  },
  {
   "attachments": {},
   "cell_type": "markdown",
   "id": "51dc6a75",
   "metadata": {},
   "source": [
    "### 1-1. Parameter Setting"
   ]
  },
  {
   "cell_type": "code",
   "execution_count": null,
   "id": "64028082",
   "metadata": {
    "ExecuteTime": {
     "end_time": "2023-05-26T07:48:25.281914Z",
     "start_time": "2023-05-26T07:48:25.275651Z"
    }
   },
   "outputs": [],
   "source": [
    "if app_name == \"energy\":\n",
    "    model_purpose = 'regression'\n",
    "    feature_X_list = ['Press_mm_hg', 'RH_1', 'RH_2', 'RH_3', 'RH_4', 'RH_5', 'RH_6', 'RH_7',\n",
    "       'RH_8', 'RH_9', 'RH_out', 'T1', 'T2', 'T3', 'T4', 'T5', 'T6', 'T7',\n",
    "       'T8', 'T9', 'T_out', 'Tdewpoint', 'Visibility', 'Windspeed']\n",
    "    feature_y_list = ['value']\n",
    "    split_mode =\"windows_split\"\n",
    "    data_y_flag = True # 이미 만들어진 Y 데이터를 활용함\n",
    "    \n",
    "elif app_name == \"Hs2SwineFarmWithWeatherTime\":\n",
    "    model_purpose = 'forecasting' \n",
    "    feature_X_list = ['Temperature', 'out_temp','sin_hour']\n",
    "    feature_y_list = ['Temperature']\n",
    "    split_mode = 'step_split'\n",
    "    data_y_flag = False # Y데이터는 없음, X 에서 Y 데이터를 도출함\n",
    "    \n",
    "step = 'train'\n",
    "bucket_name = 'integration' \n",
    "data_clean_level = 4"
   ]
  },
  {
   "cell_type": "code",
   "execution_count": null,
   "id": "6e5aaf36",
   "metadata": {
    "ExecuteTime": {
     "end_time": "2023-05-26T07:48:25.385517Z",
     "start_time": "2023-05-26T07:48:25.283411Z"
    }
   },
   "outputs": [],
   "source": [
    "all_integrated_ms_list = db_client.measurement_list(bucket_name)\n",
    "print(all_integrated_ms_list)\n",
    "print(\"==========================================================\")\n",
    "collection_list = mongo_client.get_collection_list(bucket_name)\n",
    "print(collection_list)"
   ]
  },
  {
   "attachments": {},
   "cell_type": "markdown",
   "id": "b3029057",
   "metadata": {},
   "source": [
    "### 1-2. Data Ingestion\n",
    "#### 1-2-1. Select data name "
   ]
  },
  {
   "cell_type": "code",
   "execution_count": null,
   "id": "ccf9f326",
   "metadata": {
    "ExecuteTime": {
     "end_time": "2023-05-26T07:48:25.403123Z",
     "start_time": "2023-05-26T07:48:25.387933Z"
    }
   },
   "outputs": [],
   "source": [
    "dataset_name = model_purpose + '_' + app_name  \n",
    "print(dataset_name)\n",
    "data_name_X = dataset_name + '_cleanLevel' + str(data_clean_level)+'_'+step+'X'\n",
    "data_name_y = dataset_name+'_cleanLevel' + str(data_clean_level)+'_'+ step+'y'\n",
    "data_meta = mongo_client.get_document_by_json('integration', data_name_X, {'ms_name':data_name_X})[0]"
   ]
  },
  {
   "cell_type": "code",
   "execution_count": null,
   "id": "8608cb0b",
   "metadata": {
    "ExecuteTime": {
     "end_time": "2023-05-26T07:48:25.410150Z",
     "start_time": "2023-05-26T07:48:25.404528Z"
    }
   },
   "outputs": [],
   "source": [
    "data_meta"
   ]
  },
  {
   "attachments": {},
   "cell_type": "markdown",
   "id": "1102bcf3",
   "metadata": {},
   "source": [
    "#### 1-2-2. X-y Data Ingestion pipeline"
   ]
  },
  {
   "cell_type": "code",
   "execution_count": null,
   "id": "98c01141",
   "metadata": {
    "ExecuteTime": {
     "end_time": "2023-05-26T07:48:25.414491Z",
     "start_time": "2023-05-26T07:48:25.411616Z"
    }
   },
   "outputs": [],
   "source": [
    "# Data Ingestion\n",
    "ingestion_method = 'ms_all'\n",
    "ingestion_param_X = {\n",
    "    \"bucket_name\" : bucket_name,\n",
    "    'ms_name' : data_name_X,\n",
    "    'feature_list' : feature_X_list                              \n",
    "}\n",
    "ingestion_param_y = {\n",
    "    \"bucket_name\" : bucket_name,\n",
    "    'ms_name' : data_name_y,\n",
    "    'feature_list' : feature_y_list                              \n",
    "}"
   ]
  },
  {
   "cell_type": "code",
   "execution_count": null,
   "id": "bcec8e5c",
   "metadata": {
    "ExecuteTime": {
     "end_time": "2023-05-26T07:48:27.416874Z",
     "start_time": "2023-05-26T07:48:25.421416Z"
    },
    "scrolled": true
   },
   "outputs": [],
   "source": [
    "data_X, data_y = ML_pipeline.Xy_data_preparation(ingestion_param_X, data_y_flag, ingestion_param_y, ingestion_method, db_client)"
   ]
  },
  {
   "attachments": {},
   "cell_type": "markdown",
   "id": "fd5e818e",
   "metadata": {},
   "source": [
    "### 1-2-2. Random Nan Insert (Test)"
   ]
  },
  {
   "cell_type": "code",
   "execution_count": null,
   "id": "9f9d5a67",
   "metadata": {
    "ExecuteTime": {
     "end_time": "2023-05-26T07:48:27.448915Z",
     "start_time": "2023-05-26T07:48:27.446661Z"
    }
   },
   "outputs": [],
   "source": [
    "nan_ratio = 0.00"
   ]
  },
  {
   "cell_type": "code",
   "execution_count": null,
   "id": "ff0fe682",
   "metadata": {
    "ExecuteTime": {
     "end_time": "2023-05-26T07:48:27.478299Z",
     "start_time": "2023-05-26T07:48:27.450477Z"
    }
   },
   "outputs": [],
   "source": [
    "data_X = tool.random_nan_df(data_X, nan_ratio)\n",
    "data_y = tool.random_nan_df(data_y, nan_ratio)"
   ]
  },
  {
   "attachments": {},
   "cell_type": "markdown",
   "id": "8d51d355",
   "metadata": {},
   "source": [
    "#### 1-2-3. Data scaling"
   ]
  },
  {
   "cell_type": "code",
   "execution_count": null,
   "id": "7bd78ba0",
   "metadata": {
    "ExecuteTime": {
     "end_time": "2023-05-26T07:48:27.483176Z",
     "start_time": "2023-05-26T07:48:27.480135Z"
    }
   },
   "outputs": [],
   "source": [
    "scaler_param='scale'\n",
    "scale_method='minmax'\n",
    "scaler_path = './scaler/'"
   ]
  },
  {
   "cell_type": "code",
   "execution_count": null,
   "id": "768ca14b",
   "metadata": {
    "ExecuteTime": {
     "end_time": "2023-05-26T07:48:27.505263Z",
     "start_time": "2023-05-26T07:48:27.485046Z"
    },
    "scrolled": true
   },
   "outputs": [],
   "source": [
    "dataX_scaled, X_scalerFilePath, datay_scaled, y_scalerFilePath= ML_pipeline.Xy_data_scaling_train(data_name_X, data_X, data_name_y, data_y, scaler_path, scaler_param, scale_method)"
   ]
  },
  {
   "attachments": {},
   "cell_type": "markdown",
   "id": "8a54c637",
   "metadata": {},
   "source": [
    "## 2. Cleaning and split\n",
    "### 2.1 pipeline - clean low quality column"
   ]
  },
  {
   "cell_type": "code",
   "execution_count": null,
   "id": "22975a31",
   "metadata": {
    "ExecuteTime": {
     "end_time": "2023-05-26T07:48:27.509392Z",
     "start_time": "2023-05-26T07:48:27.506731Z"
    }
   },
   "outputs": [],
   "source": [
    "\n",
    "model_data_clean = True # Front End Parameter \n",
    "if model_data_clean:\n",
    "    nan_process_info = {'type':'num', 'ConsecutiveNanLimit':10, 'totalNaNLimit':100}\n",
    "    max_nan_limit_ratio = 0.9\n",
    "else:\n",
    "    nan_process_info = {'type':'num', 'ConsecutiveNanLimit':10000, 'totalNaNLimit':100000}\n",
    "    max_nan_limit_ratio = 0.5\n",
    "\n",
    "nan_process_info = {'type':'num', 'ConsecutiveNanLimit':10000, 'totalNaNLimit':100000}"
   ]
  },
  {
   "cell_type": "code",
   "execution_count": null,
   "id": "28752269",
   "metadata": {
    "ExecuteTime": {
     "end_time": "2023-05-26T07:48:27.514285Z",
     "start_time": "2023-05-26T07:48:27.511118Z"
    }
   },
   "outputs": [],
   "source": [
    "dataX_scaled = ML_pipeline.clean_low_quality_column(model_data_clean, nan_process_info, dataX_scaled)\n",
    "feature_X_list= list(dataX_scaled.columns)"
   ]
  },
  {
   "attachments": {},
   "cell_type": "markdown",
   "id": "b60ae2c2",
   "metadata": {},
   "source": [
    "### 2.2 Train/Val Split pipeline"
   ]
  },
  {
   "cell_type": "code",
   "execution_count": null,
   "id": "a2463833",
   "metadata": {
    "ExecuteTime": {
     "end_time": "2023-05-26T07:48:27.518645Z",
     "start_time": "2023-05-26T07:48:27.516054Z"
    }
   },
   "outputs": [],
   "source": [
    "split_ratio = 0.8"
   ]
  },
  {
   "cell_type": "code",
   "execution_count": null,
   "id": "c884e30e",
   "metadata": {
    "ExecuteTime": {
     "end_time": "2023-05-26T07:48:27.536343Z",
     "start_time": "2023-05-26T07:48:27.520098Z"
    }
   },
   "outputs": [],
   "source": [
    "# TODO 데이터 나뉘는 부분 추가로 작성된 것 지수님에게 물어봐야 함\n",
    "day_window_size = tool.get_default_day_window_size(dataX_scaled)\n",
    "train_x, val_x, train_y, val_y = ML_pipeline.split_data_by_mode(split_mode, split_ratio, dataX_scaled, datay_scaled, day_window_size)"
   ]
  },
  {
   "attachments": {},
   "cell_type": "markdown",
   "id": "92d0495b",
   "metadata": {},
   "source": [
    "### 2.3 Data Transformation & Clean2 pipeline"
   ]
  },
  {
   "cell_type": "code",
   "execution_count": null,
   "id": "d2f206d9",
   "metadata": {
    "ExecuteTime": {
     "end_time": "2023-05-26T07:48:27.542034Z",
     "start_time": "2023-05-26T07:48:27.538494Z"
    }
   },
   "outputs": [],
   "source": [
    "if split_mode =='windows_split':\n",
    "    transform_parameter = {\n",
    "            'past_step':day_window_size,\n",
    "            'max_nan_limit_ratio': max_nan_limit_ratio\n",
    "    }\n",
    "else:\n",
    "    transform_parameter = {\n",
    "            'future_step': 2,\n",
    "            'past_step': 12, \n",
    "            'max_nan_limit_ratio': max_nan_limit_ratio\n",
    "    }"
   ]
  },
  {
   "cell_type": "code",
   "execution_count": null,
   "id": "77429916",
   "metadata": {
    "ExecuteTime": {
     "end_time": "2023-05-26T07:48:27.591602Z",
     "start_time": "2023-05-26T07:48:27.543961Z"
    }
   },
   "outputs": [],
   "source": [
    "train_X_array, train_y_array = ML_pipeline.transform_data_by_split_mode(split_mode, transform_parameter, train_x, train_y)\n",
    "val_X_array, val_y_array = ML_pipeline.transform_data_by_split_mode(split_mode, transform_parameter, val_x, val_y)"
   ]
  },
  {
   "cell_type": "code",
   "execution_count": null,
   "id": "a3c56598",
   "metadata": {
    "ExecuteTime": {
     "end_time": "2023-05-26T07:48:27.596115Z",
     "start_time": "2023-05-26T07:48:27.593052Z"
    }
   },
   "outputs": [],
   "source": [
    "print(train_X_array.shape)\n",
    "print(train_y_array.shape)\n",
    "print(val_X_array.shape)\n",
    "print(val_y_array.shape)"
   ]
  },
  {
   "attachments": {},
   "cell_type": "markdown",
   "id": "ff6b9d01",
   "metadata": {},
   "source": [
    "### 2.4 Set Model and train parameter"
   ]
  },
  {
   "cell_type": "code",
   "execution_count": null,
   "id": "3adac6a4",
   "metadata": {
    "ExecuteTime": {
     "end_time": "2023-05-26T07:48:27.603534Z",
     "start_time": "2023-05-26T07:48:27.597429Z"
    }
   },
   "outputs": [],
   "source": [
    "# RNN models (RNN, LSTM, GRU) parameters\n",
    "seq_len, input_size = train_X_array.shape[1], train_X_array.shape[2]\n",
    "model_method = 'GRU_rg' # Set model methods i.e., 'LSTM_rg', 'GRU_rg', 'CNN_1D_rg', 'LSTM_FCNs_rg', 'FC_rg' \n",
    "\n",
    "defalut_model_info ={\"LSTM_rg\":{\"hidden_size\":64,\"num_layers\":2,\"output_dim\":1,\"dropout\":0.1,\"bidirectional\":True},\n",
    "                     \"GRU_rg\":{\"hidden_size\":64,\"num_layers\":2,\"output_dim\":1,\"dropout\":0.1,\"bidirectional\":True},\n",
    "                     \"CNN_1D_rg\":{\"output_channels\":64,\"kernel_size\":3,\"stride\":1,\"dropout\":0.1,\"padding\":0},\n",
    "                     \"LSTM_FCNs_rg\":{\"num_layers\":2,\"lstm_dropout\":0.4,\"fc_dropout\":0.1},\n",
    "                     \"FC_rg\":{\"dropout\":2,\"bias\":0.4}}\n",
    "default_train_param_info = {\"lr\":1e-4,\"weight_decay\":1e-6,\"n_epochs\":100,\"batch_size\":16}\n",
    "\n",
    "model_info = defalut_model_info[model_method]\n",
    "\n",
    "from Clust.clust.ML.common import parameter_setting\n",
    "model_parameter = parameter_setting.set_model_parameter(model_method, model_info, seq_len, input_size)\n",
    "train_parameter = parameter_setting.set_train_parameter(default_train_param_info)\n"
   ]
  },
  {
   "cell_type": "code",
   "execution_count": null,
   "id": "a8ea6465",
   "metadata": {
    "ExecuteTime": {
     "end_time": "2023-05-26T07:48:27.609260Z",
     "start_time": "2023-05-26T07:48:27.605270Z"
    }
   },
   "outputs": [],
   "source": [
    "model_parameter"
   ]
  },
  {
   "attachments": {},
   "cell_type": "markdown",
   "id": "a798b4aa",
   "metadata": {},
   "source": [
    "### 2.5 Set Model name and path pipeline"
   ]
  },
  {
   "cell_type": "code",
   "execution_count": null,
   "id": "19dee514",
   "metadata": {
    "ExecuteTime": {
     "end_time": "2023-05-26T07:49:09.621620Z",
     "start_time": "2023-05-26T07:49:09.617858Z"
    }
   },
   "outputs": [],
   "source": [
    "model_name = None\n",
    "model_file_path = None\n",
    "\n",
    "# model name & path\n",
    "if model_name is None:\n",
    "    collection_index = dataset_name.find('_')\n",
    "    app_name = dataset_name[collection_index:]\n",
    "    model_name = tool.get_default_model_name(model_name, app_name, model_method, model_data_clean)\n",
    "        \n",
    "model_file_path = tool.get_default_model_path(model_name, data_name_X, model_method, train_parameter)"
   ]
  },
  {
   "cell_type": "code",
   "execution_count": null,
   "id": "674e3d58",
   "metadata": {
    "ExecuteTime": {
     "end_time": "2023-05-26T07:49:11.763063Z",
     "start_time": "2023-05-26T07:49:11.759410Z"
    }
   },
   "outputs": [],
   "source": [
    "model_name"
   ]
  },
  {
   "attachments": {},
   "cell_type": "markdown",
   "id": "6a44195f",
   "metadata": {},
   "source": [
    "## 3. Training"
   ]
  },
  {
   "cell_type": "code",
   "execution_count": null,
   "id": "f51aab4a",
   "metadata": {
    "ExecuteTime": {
     "end_time": "2023-05-26T07:50:24.126269Z",
     "start_time": "2023-05-26T07:49:12.967668Z"
    },
    "scrolled": true
   },
   "outputs": [],
   "source": [
    "ML_pipeline.CLUST_regression_train(train_parameter, model_method, model_parameter, model_file_path, train_X_array, train_y_array, val_X_array, val_y_array)"
   ]
  },
  {
   "attachments": {},
   "cell_type": "markdown",
   "id": "2d36ad30",
   "metadata": {},
   "source": [
    "## 4. save metadata"
   ]
  },
  {
   "cell_type": "code",
   "execution_count": null,
   "id": "d204cca2",
   "metadata": {
    "ExecuteTime": {
     "end_time": "2023-05-26T07:50:24.132344Z",
     "start_time": "2023-05-26T07:50:24.128130Z"
    }
   },
   "outputs": [],
   "source": [
    "# from Clust.clust.transformation.general.dataScaler import encode_hash_style\n",
    "model_tags =[\"model_tag_example\"]\n",
    "trainDataType = \"timeseries\"\n",
    "from Clust.clust.ML.tool import meta as ml_meta\n",
    "model_info_meta = ml_meta.model_meta_update(data_meta, model_name, split_mode, feature_X_list, feature_y_list, data_y_flag, model_purpose, model_method, model_tags, model_data_clean, train_parameter, model_parameter, transform_parameter, scaler_param, data_name_X, data_name_y, model_file_path, X_scalerFilePath, y_scalerFilePath)\n"
   ]
  },
  {
   "cell_type": "code",
   "execution_count": null,
   "id": "94f5ded7",
   "metadata": {
    "ExecuteTime": {
     "end_time": "2023-05-26T07:50:24.148627Z",
     "start_time": "2023-05-26T07:50:24.134009Z"
    }
   },
   "outputs": [],
   "source": [
    "model_info_meta"
   ]
  },
  {
   "cell_type": "code",
   "execution_count": null,
   "id": "3d61bbd0",
   "metadata": {},
   "outputs": [],
   "source": []
  }
 ],
 "metadata": {
  "kernelspec": {
   "display_name": "Python 3 (ipykernel)",
   "language": "python",
   "name": "python3"
  },
  "language_info": {
   "codemirror_mode": {
    "name": "ipython",
    "version": 3
   },
   "file_extension": ".py",
   "mimetype": "text/x-python",
   "name": "python",
   "nbconvert_exporter": "python",
   "pygments_lexer": "ipython3",
   "version": "3.8.8"
  },
  "toc": {
   "base_numbering": 1,
   "nav_menu": {},
   "number_sections": true,
   "sideBar": true,
   "skip_h1_title": false,
   "title_cell": "Table of Contents",
   "title_sidebar": "Contents",
   "toc_cell": false,
   "toc_position": {},
   "toc_section_display": true,
   "toc_window_display": false
  },
  "vscode": {
   "interpreter": {
    "hash": "e92cea83a25a22cd774ff9f8132db57ccb94d86fd97b7fe80ee00c35daecdd05"
   }
  }
 },
 "nbformat": 4,
 "nbformat_minor": 5
}
