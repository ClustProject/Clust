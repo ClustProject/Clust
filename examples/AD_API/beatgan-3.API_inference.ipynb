{
 "cells": [
  {
   "attachments": {},
   "cell_type": "markdown",
   "id": "0d942369",
   "metadata": {},
   "source": [
    "# Setting"
   ]
  },
  {
   "cell_type": "code",
   "execution_count": 1,
   "id": "e95d26a8",
   "metadata": {},
   "outputs": [
    {
     "name": "stdout",
     "output_type": "stream",
     "text": [
      "cpu is available.\n"
     ]
    }
   ],
   "source": [
    "import sys, os\n",
    "\n",
    "sys.path.append(\"../\")\n",
    "sys.path.append(\"../../\")\n",
    "sys.path.append(\"../../../\")\n",
    "sys.path.append(\"../../../../\")\n",
    "sys.path.append(\"../../../../../\")\n",
    "\n",
    "from Clust.setting import influx_setting_KETI as ins\n",
    "from Clust.clust.ingestion.influx import influx_client_v2 as iC\n",
    "from Clust.clust.ingestion.mongo import mongo_client\n",
    "from Clust.clust.ML.common import AD_api\n",
    "from Clust.clust.ML.tool import meta\n",
    "\n",
    "db_client = iC.InfluxClient(ins.CLUSTDataServer2)\n",
    "mongodb_client = mongo_client.MongoClient(ins.CLUSTMetaInfo2)"
   ]
  },
  {
   "attachments": {},
   "cell_type": "markdown",
   "id": "65f273c2",
   "metadata": {},
   "source": [
    "# 1. set param from Front End"
   ]
  },
  {
   "cell_type": "code",
   "execution_count": 2,
   "id": "8298e76d",
   "metadata": {},
   "outputs": [],
   "source": [
    "modelName = 'anomaly_detection_SWaT_anomaly_detection_BeatGAN_ad_'\n",
    "# feature list는 model_info에서 받아와야 합니다.\n",
    "param1 = {\n",
    "    'model_name': modelName,\n",
    "    'ingestion_param_y':{\n",
    "        \"feature_list\": \"None\"\n",
    "    }\n",
    "}"
   ]
  },
  {
   "attachments": {},
   "cell_type": "markdown",
   "id": "9dedb19a",
   "metadata": {},
   "source": [
    "# 2. Backend"
   ]
  },
  {
   "cell_type": "code",
   "execution_count": 3,
   "id": "831dd1b3",
   "metadata": {},
   "outputs": [],
   "source": [
    "# 1. Backend Parameter Setting\n",
    "params = param1\n",
    "\n",
    "# chage tpye string to bool -> ex) 'true' -> True\n",
    "params = AD_api.chagne_type_str_to_bool(params)"
   ]
  },
  {
   "cell_type": "code",
   "execution_count": 4,
   "id": "8d2be0b4",
   "metadata": {},
   "outputs": [],
   "source": [
    "# 2. get model meta\n",
    "model_name = params['model_name']\n",
    "meta_file_name = \"./meta.json\"\n",
    "#model_meta_db_style ='document'\n",
    "\n",
    "# for testing mongodb model\n",
    "#model_meta = meta.read_model_meta_from_mongodb(mongodb_client, 'model', 'meta', model_name)\n",
    "# for testing local model\n",
    "model_meta = meta.read_model_meta_from_local(meta_file_name, model_name)\n",
    "# model_meta = meta.read_model_meta_by_db_style(model_meta_db_style, meta_file_name, model_name)\n",
    "\n",
    "# scaler info for inference data preparation\n",
    "params['scaler_param'] = model_meta['scaler_param']\n",
    "\n",
    "# model & target data info for ML inference\n",
    "params['model_info'] = model_meta['model_info']\n",
    "params['ingestion_param_y']['feature_list'] = model_meta['ingestion_param_y']['feature_list']"
   ]
  },
  {
   "cell_type": "code",
   "execution_count": 5,
   "id": "f8e0c80a",
   "metadata": {},
   "outputs": [],
   "source": [
    "params['model_info']['train_parameter']['batch_size'] = 1"
   ]
  },
  {
   "cell_type": "code",
   "execution_count": 6,
   "id": "4d400b61",
   "metadata": {},
   "outputs": [],
   "source": [
    "# for data preparation (temp)\n",
    "def pre_infer_df(infer_df):\n",
    "    infer_x = infer_df.drop(columns=['timestamp','attack'])\n",
    "\n",
    "    return infer_x\n",
    "\n",
    "# 3. Data Preparation\n",
    "# make inference data X, scaler y\n",
    "# infer_X, scaler_y = AD_api.infer_data_preparation(params, infer_np)\n",
    "scaler_y = None\n",
    "\n",
    "# 추후 ML_api 의 데이터 준비 형식으로 대체 가능\n",
    "import pandas as pd\n",
    "\n",
    "# from test.csv\n",
    "# 보통 train set 에서 train/val 나누지 않는지?\n",
    "infer_df = pd.read_csv('./data/inference_ver2.csv')\n",
    "infer_X = pre_infer_df(infer_df)"
   ]
  },
  {
   "cell_type": "code",
   "execution_count": 7,
   "id": "85447fc7",
   "metadata": {},
   "outputs": [
    {
     "name": "stdout",
     "output_type": "stream",
     "text": [
      "<class 'pandas.core.frame.DataFrame'>\n",
      "(500, 51)\n"
     ]
    }
   ],
   "source": [
    "print(type(infer_X))\n",
    "print(infer_X.shape)  # TBD: [seq_len, n_features]"
   ]
  },
  {
   "cell_type": "code",
   "execution_count": 8,
   "id": "e482123d",
   "metadata": {},
   "outputs": [
    {
     "name": "stdout",
     "output_type": "stream",
     "text": [
      "(500, 51)\n",
      "\n",
      "Start inference\n",
      "\n",
      "torch.Size([1, 51, 320])\n",
      "torch.Size([1, 51, 320])\n",
      "torch.Size([1, 51, 320])\n",
      "torch.Size([1, 51, 320])\n",
      "torch.Size([1, 51, 320])\n",
      "torch.Size([1, 51, 320])\n",
      "torch.Size([1, 51, 320])\n",
      "torch.Size([1, 51, 320])\n",
      "torch.Size([1, 51, 320])\n",
      "torch.Size([1, 51, 320])\n",
      "torch.Size([1, 51, 320])\n",
      "torch.Size([1, 51, 320])\n",
      "torch.Size([1, 51, 320])\n",
      "torch.Size([1, 51, 320])\n",
      "torch.Size([1, 51, 320])\n",
      "torch.Size([1, 51, 320])\n",
      "torch.Size([1, 51, 320])\n",
      "torch.Size([1, 51, 320])\n",
      "torch.Size([1, 51, 320])\n",
      "torch.Size([1, 51, 320])\n",
      "torch.Size([1, 51, 320])\n",
      "torch.Size([1, 51, 320])\n",
      "torch.Size([1, 51, 320])\n",
      "torch.Size([1, 51, 320])\n",
      "torch.Size([1, 51, 320])\n"
     ]
    },
    {
     "name": "stderr",
     "output_type": "stream",
     "text": [
      "[W NNPACK.cpp:79] Could not initialize NNPACK! Reason: Unsupported hardware.\n"
     ]
    },
    {
     "name": "stdout",
     "output_type": "stream",
     "text": [
      "torch.Size([1, 51, 320])\n",
      "torch.Size([1, 51, 320])\n",
      "torch.Size([1, 51, 320])\n",
      "torch.Size([1, 51, 320])\n",
      "torch.Size([1, 51, 320])\n",
      "torch.Size([1, 51, 320])\n",
      "torch.Size([1, 51, 320])\n",
      "torch.Size([1, 51, 320])\n",
      "torch.Size([1, 51, 320])\n",
      "torch.Size([1, 51, 320])\n",
      "torch.Size([1, 51, 320])\n",
      "torch.Size([1, 51, 320])\n",
      "torch.Size([1, 51, 320])\n",
      "torch.Size([1, 51, 320])\n",
      "torch.Size([1, 51, 320])\n",
      "torch.Size([1, 51, 320])\n",
      "torch.Size([1, 51, 320])\n",
      "torch.Size([1, 51, 320])\n",
      "torch.Size([1, 51, 320])\n",
      "torch.Size([1, 51, 320])\n",
      "torch.Size([1, 51, 320])\n",
      "torch.Size([1, 51, 320])\n",
      "torch.Size([1, 51, 320])\n",
      "torch.Size([1, 51, 320])\n",
      "torch.Size([1, 51, 320])\n",
      "torch.Size([1, 51, 320])\n",
      "torch.Size([1, 51, 320])\n",
      "torch.Size([1, 51, 320])\n",
      "torch.Size([1, 51, 320])\n",
      "torch.Size([1, 51, 320])\n",
      "torch.Size([1, 51, 320])\n",
      "torch.Size([1, 51, 320])\n",
      "torch.Size([1, 51, 320])\n",
      "torch.Size([1, 51, 320])\n",
      "torch.Size([1, 51, 320])\n",
      "torch.Size([1, 51, 320])\n",
      "torch.Size([1, 51, 320])\n",
      "torch.Size([1, 51, 320])\n",
      "torch.Size([1, 51, 320])\n",
      "torch.Size([1, 51, 320])\n",
      "torch.Size([1, 51, 320])\n",
      "torch.Size([1, 51, 320])\n",
      "torch.Size([1, 51, 320])\n",
      "torch.Size([1, 51, 320])\n",
      "torch.Size([1, 51, 320])\n",
      "torch.Size([1, 51, 320])\n",
      "torch.Size([1, 51, 320])\n",
      "torch.Size([1, 51, 320])\n",
      "torch.Size([1, 51, 320])\n",
      "torch.Size([1, 51, 320])\n",
      "torch.Size([1, 51, 320])\n",
      "torch.Size([1, 51, 320])\n",
      "torch.Size([1, 51, 320])\n",
      "torch.Size([1, 51, 320])\n",
      "torch.Size([1, 51, 320])\n",
      "torch.Size([1, 51, 320])\n",
      "torch.Size([1, 51, 320])\n",
      "torch.Size([1, 51, 320])\n",
      "torch.Size([1, 51, 320])\n",
      "torch.Size([1, 51, 320])\n",
      "torch.Size([1, 51, 320])\n",
      "torch.Size([1, 51, 320])\n",
      "torch.Size([1, 51, 320])\n",
      "torch.Size([1, 51, 320])\n",
      "torch.Size([1, 51, 320])\n",
      "torch.Size([1, 51, 320])\n",
      "torch.Size([1, 51, 320])\n",
      "torch.Size([1, 51, 320])\n",
      "torch.Size([1, 51, 320])\n",
      "torch.Size([1, 51, 320])\n",
      "torch.Size([1, 51, 320])\n",
      "torch.Size([1, 51, 320])\n",
      "torch.Size([1, 51, 320])\n",
      "torch.Size([1, 51, 320])\n",
      "torch.Size([1, 51, 320])\n",
      "torch.Size([1, 51, 320])\n",
      "torch.Size([1, 51, 320])\n",
      "torch.Size([1, 51, 320])\n",
      "torch.Size([1, 51, 320])\n",
      "torch.Size([1, 51, 320])\n",
      "torch.Size([1, 51, 320])\n",
      "torch.Size([1, 51, 320])\n",
      "torch.Size([1, 51, 320])\n",
      "torch.Size([1, 51, 320])\n",
      "torch.Size([1, 51, 320])\n",
      "torch.Size([1, 51, 320])\n",
      "torch.Size([1, 51, 320])\n",
      "torch.Size([1, 51, 320])\n",
      "torch.Size([1, 51, 320])\n",
      "torch.Size([1, 51, 320])\n",
      "torch.Size([1, 51, 320])\n",
      "torch.Size([1, 51, 320])\n",
      "torch.Size([1, 51, 320])\n",
      "torch.Size([1, 51, 320])\n",
      "torch.Size([1, 51, 320])\n",
      "torch.Size([1, 51, 320])\n",
      "torch.Size([1, 51, 320])\n",
      "torch.Size([1, 51, 320])\n",
      "torch.Size([1, 51, 320])\n",
      "torch.Size([1, 51, 320])\n",
      "torch.Size([1, 51, 320])\n",
      "torch.Size([1, 51, 320])\n",
      "torch.Size([1, 51, 320])\n",
      "torch.Size([1, 51, 320])\n",
      "torch.Size([1, 51, 320])\n",
      "torch.Size([1, 51, 320])\n",
      "torch.Size([1, 51, 320])\n",
      "torch.Size([1, 51, 320])\n",
      "torch.Size([1, 51, 320])\n",
      "torch.Size([1, 51, 320])\n",
      "torch.Size([1, 51, 320])\n",
      "torch.Size([1, 51, 320])\n",
      "torch.Size([1, 51, 320])\n",
      "torch.Size([1, 51, 320])\n",
      "torch.Size([1, 51, 320])\n",
      "torch.Size([1, 51, 320])\n",
      "torch.Size([1, 51, 320])\n",
      "torch.Size([1, 51, 320])\n",
      "torch.Size([1, 51, 320])\n",
      "torch.Size([1, 51, 320])\n",
      "torch.Size([1, 51, 320])\n",
      "torch.Size([1, 51, 320])\n",
      "torch.Size([1, 51, 320])\n",
      "torch.Size([1, 51, 320])\n",
      "torch.Size([1, 51, 320])\n",
      "torch.Size([1, 51, 320])\n",
      "torch.Size([1, 51, 320])\n",
      "torch.Size([1, 51, 320])\n",
      "torch.Size([1, 51, 320])\n",
      "torch.Size([1, 51, 320])\n",
      "torch.Size([1, 51, 320])\n",
      "torch.Size([1, 51, 320])\n",
      "torch.Size([1, 51, 320])\n",
      "torch.Size([1, 51, 320])\n",
      "torch.Size([1, 51, 320])\n",
      "torch.Size([1, 51, 320])\n",
      "torch.Size([1, 51, 320])\n",
      "torch.Size([1, 51, 320])\n",
      "torch.Size([1, 51, 320])\n",
      "torch.Size([1, 51, 320])\n",
      "torch.Size([1, 51, 320])\n",
      "torch.Size([1, 51, 320])\n",
      "torch.Size([1, 51, 320])\n",
      "torch.Size([1, 51, 320])\n",
      "torch.Size([1, 51, 320])\n",
      "torch.Size([1, 51, 320])\n",
      "torch.Size([1, 51, 320])\n",
      "torch.Size([1, 51, 320])\n",
      "torch.Size([1, 51, 320])\n",
      "torch.Size([1, 51, 320])\n",
      "torch.Size([1, 51, 320])\n",
      "torch.Size([1, 51, 320])\n",
      "torch.Size([1, 51, 320])\n",
      "torch.Size([1, 51, 320])\n",
      "torch.Size([1, 51, 320])\n",
      "** Dimension of result for inference dataset = (180,)\n"
     ]
    }
   ],
   "source": [
    "# model inference\n",
    "prediction_result = AD_api.AD_inference(params, infer_X, scaler_y)"
   ]
  },
  {
   "cell_type": "code",
   "execution_count": 9,
   "id": "be481e59",
   "metadata": {},
   "outputs": [
    {
     "name": "stdout",
     "output_type": "stream",
     "text": [
      "<class 'pandas.core.frame.DataFrame'>\n",
      "     value\n",
      "0      1.0\n",
      "1      1.0\n",
      "2      1.0\n",
      "3      1.0\n",
      "4      1.0\n",
      "..     ...\n",
      "175    1.0\n",
      "176    1.0\n",
      "177    1.0\n",
      "178    1.0\n",
      "179    1.0\n",
      "\n",
      "[180 rows x 1 columns]\n"
     ]
    }
   ],
   "source": [
    "print(type(prediction_result))\n",
    "print(prediction_result)"
   ]
  },
  {
   "cell_type": "code",
   "execution_count": null,
   "id": "4d4dd3b7",
   "metadata": {},
   "outputs": [],
   "source": []
  }
 ],
 "metadata": {
  "kernelspec": {
   "display_name": "Python 3 (ipykernel)",
   "language": "python",
   "name": "python3"
  },
  "language_info": {
   "codemirror_mode": {
    "name": "ipython",
    "version": 3
   },
   "file_extension": ".py",
   "mimetype": "text/x-python",
   "name": "python",
   "nbconvert_exporter": "python",
   "pygments_lexer": "ipython3",
   "version": "3.9.6"
  }
 },
 "nbformat": 4,
 "nbformat_minor": 5
}
