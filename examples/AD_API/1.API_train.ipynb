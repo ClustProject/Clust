{
 "cells": [
  {
   "cell_type": "markdown",
   "metadata": {},
   "source": [
    "# Setting"
   ]
  },
  {
   "cell_type": "code",
   "execution_count": 1,
   "metadata": {},
   "outputs": [
    {
     "name": "stdout",
     "output_type": "stream",
     "text": [
      "cpu is available.\n",
      "cpu is available.\n"
     ]
    }
   ],
   "source": [
    "import sys\n",
    "\n",
    "sys.path.append(\"../\")\n",
    "sys.path.append(\"../../\")\n",
    "sys.path.append(\"../../../\")\n",
    "sys.path.append(\"../../../../\")\n",
    "\n",
    "from Clust.setting import influx_setting_KETI as ins\n",
    "from Clust.clust.ingestion.influx import influx_client_v2 as iC\n",
    "from Clust.clust.ingestion.mongo import mongo_client\n",
    "from Clust.clust.ML.common import ML_api\n",
    "from Clust.clust.ML.tool import meta\n",
    "\n",
    "influxdb_client = iC.InfluxClient(ins.CLUSTDataServer2)\n",
    "mongodb_client = mongo_client.MongoClient(ins.CLUSTMetaInfo2)\n",
    "\n",
    "import torch\n",
    "device = \"cuda\" if torch.cuda.is_available() else \"cpu\"\n",
    "print(f\"{device}\" \" is available.\")"
   ]
  },
  {
   "attachments": {},
   "cell_type": "markdown",
   "metadata": {},
   "source": [
    "# 1. set param from Front End"
   ]
  },
  {
   "cell_type": "code",
   "execution_count": 2,
   "metadata": {},
   "outputs": [],
   "source": [
    "# model parameter\n",
    "beatgan_ad_model_info = {\n",
    "    'input_c': 51,     # the number of feature\n",
    "    'hidden_c': 32,\n",
    "    'latent_c': 16\n",
    "}\n",
    "# TBD\n",
    "at_ad_model_info = {\n",
    "    'k': 3,\n",
    "    'win_size': 100,\n",
    "    'input_c': 51,\n",
    "    'output_c': 51,\n",
    "    'anomaly_ratio': 0.5\n",
    "}\n",
    "# TBD\n",
    "lstm_vae_ad_info = {\n",
    "    'input_c': 51,\n",
    "    'win_size': 100,\n",
    "    'hidden_size': 30,\n",
    "    'latent_size': 20\n",
    "}\n",
    "\n",
    "# train parameter\n",
    "train_parameter = {\n",
    "    'lr': 0.0001,\n",
    "    'n_epochs': 1,\n",
    "    'input_size': 51,       # train param?\n",
    "    'batch_size': 32,\n",
    "    'device': 'cpu',\n",
    "}\n",
    "\n",
    "\n",
    "params1 = {\n",
    "    'ingestion_param_X': {\n",
    "        'bucket_name': 'local',\n",
    "        'ms_name': 'anomaly_detection_SWaT',\n",
    "        'feature_list': ['FIT101', 'LIT101', 'MV101', 'P101', 'P102', 'AIT201', 'AIT202', 'AIT203', \n",
    "                         'FIT201', 'MV201', 'P201', 'P202', 'P203', 'P204', 'P205', 'P206', \n",
    "                         'DPIT301', 'FIT301', 'LIT301', 'MV301', 'MV302', 'MV303', 'MV304', \n",
    "                         'P301', 'P302', 'AIT401', 'AIT402', 'FIT401', 'LIT401', 'P401', 'P402','P403', 'P404', \n",
    "                         'UV401', 'AIT501', 'AIT502', 'AIT503', 'AIT504',\n",
    "                         'FIT501', 'FIT502', 'FIT503', 'FIT504', 'P501', 'P502', 'PIT501', 'PIT502',\n",
    "                         'PIT503', 'FIT601', 'P601', 'P602', 'P603']\n",
    "    },\n",
    "    'ingestion_param_y': {\n",
    "        'bucket_name': 'local',\n",
    "        'ms_name': 'anomaly_detection_SWaT',\n",
    "        'feature_list': ['attack']\n",
    "    },\n",
    "    'data_y_flag': 'true',\n",
    "    'scaler_param':{\n",
    "        'scaler_flag': 'none',\n",
    "        'scale_method': 'none',\n",
    "        'sclaer_path': 'none'\n",
    "    },\n",
    "    'transform_param': {\n",
    "        'split_mode': 'window_split',\n",
    "        'data_clean_option': 'none'\n",
    "    },\n",
    "    'model_info': {\n",
    "        'model_purpose': 'anomaly_detection',\n",
    "        'model_method': 'BeatGAN_ad',       # 'BeatGAN_ad', 'AT_ad', 'LSTM_VAE_ad'\n",
    "        'model_name': 'None',\n",
    "        'model_tags': 'tagstest',\n",
    "        'train_parameter': train_parameter,\n",
    "        'model_parameter': beatgan_ad_model_info\n",
    "    }\n",
    "}"
   ]
  },
  {
   "attachments": {},
   "cell_type": "markdown",
   "metadata": {},
   "source": [
    "# 2. Backend"
   ]
  },
  {
   "cell_type": "code",
   "execution_count": 3,
   "metadata": {},
   "outputs": [],
   "source": [
    "# 1. Backend Parameter Setting\n",
    "params = params1\n",
    "\n",
    "# parameter tunning\n",
    "params = ML_api.convert_param_for_backend(params)"
   ]
  },
  {
   "cell_type": "code",
   "execution_count": 4,
   "metadata": {},
   "outputs": [],
   "source": [
    "# for data preparation\n",
    "def pre_test_df(test_df):\n",
    "    test_df['attack'] = test_df['attack'].apply(lambda x : 1 if x > 0 else 0)\n",
    "    split_index = int(len(test_df) * 0.5)\n",
    "    \n",
    "    valid_x = test_df.iloc[:split_index,:].drop(columns=['timestamp','attack'])\n",
    "    valid_y = test_df.iloc[:split_index,:]['attack']\n",
    "\n",
    "    test_x = test_df.iloc[split_index:,:].drop(columns=['timestamp','attack'])\n",
    "    test_y = test_df.iloc[split_index:,:]['attack']\n",
    "    \n",
    "    return valid_x, valid_y, test_x, test_y"
   ]
  },
  {
   "cell_type": "code",
   "execution_count": 5,
   "metadata": {},
   "outputs": [],
   "source": [
    "# 2. Data Preparation from local\n",
    "\n",
    "# 추후 DB 연동 시 ML_api 의 데이터 준비 형식으로 대체 가능\n",
    "# train_X_array, train_y_array, val_X_array, val_y_array = AD_api.train_data_preparation(params, influxdb_client)\n",
    "\n",
    "# scaled data from local\n",
    "import pandas as pd\n",
    "\n",
    "# Load data\n",
    "# from train.csv\n",
    "df = pd.read_csv('./data/train_ver2.csv')\n",
    "train_X = df.drop(columns=['timestamp', 'attack'])\n",
    "train_y = df['attack']\n",
    "\n",
    "# from test.csv\n",
    "# val/test set split\n",
    "test_df = pd.read_csv('./data/test_ver2.csv')\n",
    "val_X, val_y, _, _ = pre_test_df(test_df)"
   ]
  },
  {
   "cell_type": "code",
   "execution_count": 6,
   "metadata": {},
   "outputs": [
    {
     "name": "stdout",
     "output_type": "stream",
     "text": [
      "<class 'pandas.core.frame.DataFrame'>\n",
      "(49680, 51)\n"
     ]
    }
   ],
   "source": [
    "print(type(train_X))\n",
    "print(train_X.shape)  # TBD: [seq_len, n_features]"
   ]
  },
  {
   "cell_type": "code",
   "execution_count": 7,
   "metadata": {},
   "outputs": [
    {
     "name": "stdout",
     "output_type": "stream",
     "text": [
      "./Models/Beatgan_ad/anomaly_detection_SWaT_anomaly_detection_BeatGAN_ad_/anomaly_detection_SWaT/model.pkl\n",
      "Start training model\n",
      "\n",
      "Current Epoch : 1\n",
      "Test inference start\n"
     ]
    },
    {
     "name": "stderr",
     "output_type": "stream",
     "text": [
      "100%|█████████████████████████████████████████████████████████████████████████████████████████████████████████████████████████████████████████████████████████████████████████████████████████████████████████████████████████████████████████████████████████████| 692/692 [00:29<00:00, 23.74it/s]\n"
     ]
    },
    {
     "name": "stdout",
     "output_type": "stream",
     "text": [
      "\n",
      "best auroc : 0.3463481623247009\n",
      "[1/1] Train : [loss_d : 0.0599 loss_g : 4.2863] | Valid : [loss_d : 78.5611 loss_g : 2.7762]\n",
      "Valid AUROC : 0.3463481623247009\n",
      "\n",
      "Training complete in 11m 51s\n"
     ]
    }
   ],
   "source": [
    "# 3. Training\n",
    "params = ML_api.ML_train(params, train_X, train_y, val_X, val_y)"
   ]
  },
  {
   "cell_type": "code",
   "execution_count": 8,
   "metadata": {},
   "outputs": [
    {
     "name": "stdout",
     "output_type": "stream",
     "text": [
      "{'ingestion_param_X': {'bucket_name': 'local', 'ms_name': 'anomaly_detection_SWaT', 'feature_list': ['FIT101', 'LIT101', 'MV101', 'P101', 'P102', 'AIT201', 'AIT202', 'AIT203', 'FIT201', 'MV201', 'P201', 'P202', 'P203', 'P204', 'P205', 'P206', 'DPIT301', 'FIT301', 'LIT301', 'MV301', 'MV302', 'MV303', 'MV304', 'P301', 'P302', 'AIT401', 'AIT402', 'FIT401', 'LIT401', 'P401', 'P402', 'P403', 'P404', 'UV401', 'AIT501', 'AIT502', 'AIT503', 'AIT504', 'FIT501', 'FIT502', 'FIT503', 'FIT504', 'P501', 'P502', 'PIT501', 'PIT502', 'PIT503', 'FIT601', 'P601', 'P602', 'P603']}, 'ingestion_param_y': {'bucket_name': 'local', 'ms_name': 'anomaly_detection_SWaT', 'feature_list': ['attack']}, 'data_y_flag': True, 'scaler_param': {'scaler_flag': None, 'scale_method': None, 'sclaer_path': None}, 'transform_param': {'split_mode': 'window_split', 'data_clean_option': None, 'nan_process_info': {'type': 'num', 'ConsecutiveNanLimit': 10000, 'totalNaNLimit': 100000}, 'max_nan_limit_ratio': 0.5}, 'model_info': {'model_purpose': 'anomaly_detection', 'model_method': 'BeatGAN_ad', 'model_name': 'anomaly_detection_SWaT_anomaly_detection_BeatGAN_ad_', 'model_tags': 'tagstest', 'train_parameter': {'lr': 0.0001, 'n_epochs': 1, 'input_size': 51, 'batch_size': 32, 'device': 'cpu'}, 'model_parameter': {'input_size': 51, 'seq_len': 49680, 'hidden_c': 32, 'latent_c': 16}, 'seq_len': 49680, 'input_size': 51, 'model_file_path': {'modelFile': {'fileName': 'model.pth', 'filePath': './Models/Beatgan_ad/anomaly_detection_SWaT_anomaly_detection_BeatGAN_ad_/anomaly_detection_SWaT/model.pkl'}}}}\n"
     ]
    }
   ],
   "source": [
    "print(params)"
   ]
  },
  {
   "cell_type": "code",
   "execution_count": 9,
   "metadata": {},
   "outputs": [
    {
     "name": "stdout",
     "output_type": "stream",
     "text": [
      "======== OK ========\n"
     ]
    },
    {
     "data": {
      "text/plain": [
       "200"
      ]
     },
     "execution_count": 9,
     "metadata": {},
     "output_type": "execute_result"
    }
   ],
   "source": [
    "# save meta\n",
    "from Clust.clust.ML.tool import meta\n",
    "meta_file_name = \"./meta.json\"\n",
    "#ml_meta.save_model_meta_into_mongodb(mongodb_client, param, 'model','meta')\n",
    "meta.save_model_meta_into_local(meta_file_name, params)"
   ]
  }
 ],
 "metadata": {
  "kernelspec": {
   "display_name": "Python 3 (ipykernel)",
   "language": "python",
   "name": "python3"
  },
  "language_info": {
   "codemirror_mode": {
    "name": "ipython",
    "version": 3
   },
   "file_extension": ".py",
   "mimetype": "text/x-python",
   "name": "python",
   "nbconvert_exporter": "python",
   "pygments_lexer": "ipython3",
   "version": "3.9.6"
  },
  "orig_nbformat": 4
 },
 "nbformat": 4,
 "nbformat_minor": 2
}
