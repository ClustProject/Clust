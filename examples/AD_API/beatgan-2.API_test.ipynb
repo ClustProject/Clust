{
 "cells": [
  {
   "cell_type": "markdown",
   "metadata": {},
   "source": [
    "# Setting"
   ]
  },
  {
   "cell_type": "code",
   "execution_count": 1,
   "metadata": {},
   "outputs": [
    {
     "name": "stdout",
     "output_type": "stream",
     "text": [
      "cpu is available.\n"
     ]
    }
   ],
   "source": [
    "import sys, os\n",
    "import pandas as pd\n",
    "\n",
    "sys.path.append(\"../\")\n",
    "sys.path.append(\"../../\")\n",
    "sys.path.append(\"../../../\")\n",
    "sys.path.append(\"../../../../\")\n",
    "\n",
    "from Clust.setting import influx_setting_KETI as ins\n",
    "from Clust.clust.ingestion.influx import influx_client_v2 as iC\n",
    "from Clust.clust.ingestion.mongo import mongo_client\n",
    "from Clust.clust.ML.common import AD_api\n",
    "from Clust.clust.ML.tool import meta\n",
    "\n",
    "influxdb_client = iC.InfluxClient(ins.CLUSTDataServer2)\n",
    "mongodb_client = mongo_client.MongoClient(ins.CLUSTMetaInfo2)"
   ]
  },
  {
   "cell_type": "markdown",
   "metadata": {},
   "source": [
    "# 1. set param from Front End"
   ]
  },
  {
   "cell_type": "code",
   "execution_count": 2,
   "metadata": {},
   "outputs": [],
   "source": [
    "modelName = 'anomaly_detection_SWaT_anomaly_detection_BeatGAN_ad_'\n",
    "params1 = {\n",
    "    'ingestion_param_X': {\n",
    "        'bucket_name': 'local',\n",
    "        'ms_name': 'anomaly_detection_SWaT',\n",
    "        'feature_list': 'None'\n",
    "    },\n",
    "    'ingestion_param_y': {\n",
    "        'bucket_name': 'local',\n",
    "        'ms_name': 'anomaly_detection_SWaT',\n",
    "        'feature_list': 'None'\n",
    "    },\n",
    "    'data_y_flag': 'None',\n",
    "    'model_name': modelName\n",
    "}\n",
    "\n",
    "# params1 = {\n",
    "#     \"ingestion_param_X\" :{\n",
    "#         \"bucket_name\": 'integration',\n",
    "#         \"ms_name\" : 'regression_energy_cleanLevel4_testX',\n",
    "#         \"feature_list\": \"None\"\n",
    "#     },\n",
    "#     \"ingestion_param_y\":{\n",
    "#         \"bucket_name\": 'integration',\n",
    "#         \"ms_name\" : 'regression_energy_cleanLevel4_testy',\n",
    "#         \"feature_list\": \"None\"\n",
    "#     },\n",
    "#     'data_y_flag' : \"None\",\n",
    "#     'model_name':'regression_energy_cleanLevel4_trainX_regression_GRU_rg_'\n",
    "# }\n"
   ]
  },
  {
   "cell_type": "markdown",
   "metadata": {},
   "source": [
    "# 2. Backend"
   ]
  },
  {
   "cell_type": "code",
   "execution_count": 3,
   "metadata": {},
   "outputs": [],
   "source": [
    "# 1. Backend Parameter Setting\n",
    "params = params1\n",
    "\n",
    "# chage tpye string to bool -> ex) 'true' -> True\n",
    "params = AD_api.chagne_type_str_to_bool(params)"
   ]
  },
  {
   "cell_type": "code",
   "execution_count": 4,
   "metadata": {},
   "outputs": [],
   "source": [
    "# 2. get model meta\n",
    "model_name = params['model_name']\n",
    "meta_file_name = \"./meta.json\"\n",
    "# for testing mongodb model\n",
    "# model_meta = meta.read_model_meta_from_mongodb(mongodb_client, 'model', 'meta', model_name)\n",
    "# for testing local model\n",
    "model_meta = meta.read_model_meta_from_local(meta_file_name, model_name)\n",
    "\n",
    "# data parameters from model meta\n",
    "params['ingestion_param_X']['feature_list'] = model_meta['ingestion_param_X']['feature_list']\n",
    "params['ingestion_param_y']['feature_list'] = model_meta['ingestion_param_y']['feature_list']\n",
    "params['data_y_flag'] = model_meta['data_y_flag']\n",
    "\n",
    "# scaler/transform info for test data preparation\n",
    "params['scaler_param'] = model_meta['scaler_param']\n",
    "params['transform_param'] = model_meta['transform_param']\n",
    "\n",
    "# model info for ML test\n",
    "params['model_info'] = model_meta['model_info']"
   ]
  },
  {
   "cell_type": "code",
   "execution_count": 6,
   "metadata": {},
   "outputs": [],
   "source": [
    "# for data preparation (temp)\n",
    "def pre_test_df(test_df):\n",
    "    test_df['attack'] = test_df['attack'].apply(lambda x : 1 if x > 0 else 0)\n",
    "    split_index = int(len(test_df) * 0.5)\n",
    "    \n",
    "    valid_x = test_df.iloc[:split_index,:].drop(columns=['timestamp','attack'])\n",
    "    valid_y = test_df.iloc[:split_index,:]['attack']\n",
    "\n",
    "    test_x = test_df.iloc[split_index:,:].drop(columns=['timestamp','attack'])\n",
    "    test_y = test_df.iloc[split_index:,:]['attack']\n",
    "    \n",
    "    return valid_x, valid_y, test_x, test_y\n",
    "\n",
    "# 3. Data Preparation\n",
    "# test_X_array, test_y_array, scaler_X, scaler_y = AD_api.test_data_preparation(params, influxdb_client)\n",
    "\n",
    "# 추후 ML_api 의 데이터 준비 형식으로 대체 가능\n",
    "import pandas as pd\n",
    "\n",
    "# from test.csv\n",
    "# 보통 train set 에서 train/val 나누지 않는지?\n",
    "test_df = pd.read_csv('./data/test_ver2.csv')\n",
    "_, _, test_X, test_y = pre_test_df(test_df)"
   ]
  },
  {
   "cell_type": "code",
   "execution_count": 7,
   "metadata": {},
   "outputs": [
    {
     "name": "stdout",
     "output_type": "stream",
     "text": [
      "<class 'pandas.core.frame.DataFrame'>\n",
      "(22496, 51)\n"
     ]
    }
   ],
   "source": [
    "print(type(test_X))\n",
    "print(test_X.shape)  # TBD: [seq_len, n_features]"
   ]
  },
  {
   "cell_type": "code",
   "execution_count": 8,
   "metadata": {},
   "outputs": [],
   "source": [
    "# set scaler by data y flag\n",
    "# if params['data_y_flag']:\n",
    "#     scaler = scaler_y\n",
    "# else:\n",
    "#     scaler = scaler_X"
   ]
  },
  {
   "cell_type": "code",
   "execution_count": 9,
   "metadata": {},
   "outputs": [
    {
     "name": "stdout",
     "output_type": "stream",
     "text": [
      "features shape: (22496, 51) targets shape:  (22496,)\n",
      "\n",
      "Start testing data\n",
      "\n",
      "False\n",
      "=========================data\n",
      "       value  prediction\n",
      "0          1    0.646711\n",
      "1          1    0.645795\n",
      "2          1    0.646033\n",
      "3          1    0.645472\n",
      "4          1    0.643886\n",
      "...      ...         ...\n",
      "22171      0    0.796391\n",
      "22172      0    0.804626\n",
      "22173      0    0.801720\n",
      "22174      0    0.807229\n",
      "22175      0    0.806852\n",
      "\n",
      "[22176 rows x 2 columns]\n"
     ]
    }
   ],
   "source": [
    "# model test\n",
    "# value: attack prediction: score?\n",
    "result = AD_api.AD_test(params, test_X, test_y, scaler=None)"
   ]
  },
  {
   "cell_type": "code",
   "execution_count": 10,
   "metadata": {},
   "outputs": [
    {
     "data": {
      "text/plain": [
       "{'AUROc': 0.11006164521596368, 'f1': 0.04716981132075472}"
      ]
     },
     "execution_count": 10,
     "metadata": {},
     "output_type": "execute_result"
    }
   ],
   "source": [
    "result['result_metrics']"
   ]
  }
 ],
 "metadata": {
  "kernelspec": {
   "display_name": ".clust",
   "language": "python",
   "name": "python3"
  },
  "language_info": {
   "codemirror_mode": {
    "name": "ipython",
    "version": 3
   },
   "file_extension": ".py",
   "mimetype": "text/x-python",
   "name": "python",
   "nbconvert_exporter": "python",
   "pygments_lexer": "ipython3",
   "version": "3.9.6"
  },
  "orig_nbformat": 4
 },
 "nbformat": 4,
 "nbformat_minor": 2
}
