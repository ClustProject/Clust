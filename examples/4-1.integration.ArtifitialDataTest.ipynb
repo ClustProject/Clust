{
 "cells": [
  {
   "cell_type": "markdown",
   "metadata": {},
   "source": [
    "JW Test Code"
   ]
  },
  {
   "cell_type": "code",
   "execution_count": 1,
   "metadata": {
    "ExecuteTime": {
     "end_time": "2021-07-02T05:04:53.436962Z",
     "start_time": "2021-07-02T05:04:52.971793Z"
    }
   },
   "outputs": [],
   "source": [
    "import sys\n",
    "import pandas as pd\n",
    "import numpy as np\n",
    "import matplotlib.pyplot as plt\n",
    "sys.path.append(\"../\")\n",
    "sys.path.append(\"../..\")"
   ]
  },
  {
   "cell_type": "markdown",
   "metadata": {},
   "source": [
    "# Data Integration"
   ]
  },
  {
   "cell_type": "markdown",
   "metadata": {},
   "source": [
    "## Data Preparation"
   ]
  },
  {
   "cell_type": "markdown",
   "metadata": {},
   "source": [
    "- 테스트를 위해 data_partial_numeric데이터와 data_partial_mix 데이터를 생성함\n",
    "- Meta Data 를 생성하고 이 데이터의 각 Column 정보에 의거하여 Data 를 integration 함\n",
    "- 향후 Integration 하는 모듈을 고도화 하여 사용자의 파라미터에 의해 각 컬럼, 혹은 테이블 단위로 데이터들이 개선되어 Integration되도록 함\n",
    "- 현재 파이프라인은 \n",
    "integrated_data = data_int.simple_integration(column_meta['overlap_duration'])\n",
    "integrated_data_resample = data_int.restructured_data_with_new_frequency(re_frequency, column_characteristics)\n",
    "integrated_data_resample_fillna = data_int.restructured_data_fillna(integrated_data_resample, column_characteristics,re_frequency )\n",
    "1. 그냥 결합한 후\n",
    "2. 새로운 프리컨시에 맞게 각 컬럼들이 각각의 method로  up, down sampling취한 후\n",
    "3. 각 컬럼당 Nan값이 과도하지 않은 경우 다시 NA를 없앰\n",
    "\n",
    "요러한 파이프라인"
   ]
  },
  {
   "cell_type": "markdown",
   "metadata": {},
   "source": [
    "### Make 3 Numeric Test Data with different frequencies"
   ]
  },
  {
   "cell_type": "code",
   "execution_count": 2,
   "metadata": {
    "ExecuteTime": {
     "end_time": "2021-07-02T05:04:53.452613Z",
     "start_time": "2021-07-02T05:04:53.438471Z"
    }
   },
   "outputs": [
    {
     "data": {
      "text/plain": [
       "{0:                      data0\n",
       " datetime                  \n",
       " 2018-01-01 00:00:00     23\n",
       " 2018-01-01 00:10:00     34\n",
       " 2018-01-01 00:20:00     82\n",
       " 2018-01-01 00:30:00     43\n",
       " 2018-01-01 00:40:00      1\n",
       " ...                    ...\n",
       " 2018-01-01 23:20:00     39\n",
       " 2018-01-01 23:30:00     38\n",
       " 2018-01-01 23:40:00     67\n",
       " 2018-01-01 23:50:00     13\n",
       " 2018-01-02 00:00:00     49\n",
       " \n",
       " [145 rows x 1 columns],\n",
       " 1:                      data1\n",
       " datetime                  \n",
       " 2018-01-01 00:00:00     57\n",
       " 2018-01-01 00:07:00     60\n",
       " 2018-01-01 00:14:00     99\n",
       " 2018-01-01 00:21:00     86\n",
       " 2018-01-01 00:28:00     88\n",
       " ...                    ...\n",
       " 2018-01-01 23:27:00     98\n",
       " 2018-01-01 23:34:00     58\n",
       " 2018-01-01 23:41:00     55\n",
       " 2018-01-01 23:48:00     80\n",
       " 2018-01-01 23:55:00     22\n",
       " \n",
       " [206 rows x 1 columns],\n",
       " 2:                      data2\n",
       " datetime                  \n",
       " 2018-01-01 00:00:00     92\n",
       " 2018-01-01 00:03:00     15\n",
       " 2018-01-01 00:06:00     53\n",
       " 2018-01-01 00:09:00     10\n",
       " 2018-01-01 00:12:00     69\n",
       " ...                    ...\n",
       " 2018-01-01 23:48:00     24\n",
       " 2018-01-01 23:51:00     24\n",
       " 2018-01-01 23:54:00     89\n",
       " 2018-01-01 23:57:00     96\n",
       " 2018-01-02 00:00:00      0\n",
       " \n",
       " [481 rows x 1 columns]}"
      ]
     },
     "execution_count": 2,
     "metadata": {},
     "output_type": "execute_result"
    }
   ],
   "source": [
    "r_0 = pd.date_range(start='1/1/2018', end= '1/02/2018', freq='10T')\n",
    "r_1 = pd.date_range(start='1/1/2018', end= '1/02/2018', freq='7T')\n",
    "r_2 =pd.date_range(start='1/1/2018', end= '1/02/2018', freq='3T')\n",
    "data_0 = {'datetime': r_0,\n",
    "          'data0':np.random.randint(0, 100, size=(len(r_0)))}\n",
    "data_1 = {'datetime': r_1,\n",
    "          'data1':np.random.randint(0, 100, size=(len(r_1)))}\n",
    "data_2 = {'datetime': r_2,\n",
    "          'data2':np.random.randint(0, 100, size=(len(r_2)))}\n",
    "\n",
    "df0 = pd.DataFrame (data = data_0).set_index('datetime')\n",
    "df1 = pd.DataFrame (data = data_1).set_index('datetime')\n",
    "df2 = pd.DataFrame (data = data_2).set_index('datetime')\n",
    "data_partial_numeric = {0:df0, 1:df1, 2:df2}\n",
    "data_partial_numeric"
   ]
  },
  {
   "cell_type": "markdown",
   "metadata": {},
   "source": [
    "### Make +1 Category Test Data with different frequencies"
   ]
  },
  {
   "cell_type": "code",
   "execution_count": 3,
   "metadata": {
    "ExecuteTime": {
     "end_time": "2021-07-02T05:04:53.483615Z",
     "start_time": "2021-07-02T05:04:53.469376Z"
    }
   },
   "outputs": [],
   "source": [
    "import random\n",
    "original_list=['apple','orange','pineapple']\n",
    "r_3 =pd.date_range(start='1/1/2018', end= '1/02/2018', freq='8T')\n",
    "sample_list = random.choices (original_list, k=len(r_3))\n",
    "data_3 = {'datetime':r_3, 'data3':sample_list}\n",
    "df3 = pd.DataFrame (data = data_3).set_index('datetime')\n",
    "data_partial_mix = {0:df0, 1:df1, 2:df2, 3:df3}"
   ]
  },
  {
   "cell_type": "markdown",
   "metadata": {},
   "source": [
    "## Integration Example"
   ]
  },
  {
   "cell_type": "markdown",
   "metadata": {},
   "source": [
    "### 1. All Numeric Data"
   ]
  },
  {
   "cell_type": "markdown",
   "metadata": {},
   "source": [
    "#### 1-1. Get Integration meta"
   ]
  },
  {
   "cell_type": "code",
   "execution_count": 4,
   "metadata": {
    "ExecuteTime": {
     "end_time": "2021-07-02T05:04:53.499655Z",
     "start_time": "2021-07-02T05:04:53.484540Z"
    }
   },
   "outputs": [
    {
     "name": "stdout",
     "output_type": "stream",
     "text": [
      "IntType\n",
      "IntType\n",
      "IntType\n",
      "[600, 420, 180]\n",
      "{'overlap_duration': {'start_time': Timestamp('2018-01-01 00:00:00'), 'end_time': Timestamp('2018-01-01 23:55:00')}, 'column_characteristics': {'data0': {'column_name': 'data0', 'column_frequency': Timedelta('0 days 00:10:00'), 'column_type': dtype('int64'), 'occurence_time': 'Continuous', 'pointDependency': 'Yes', 'upsampling_method': 'mean', 'downsampling_method': 'mean'}, 'data1': {'column_name': 'data1', 'column_frequency': Timedelta('0 days 00:07:00'), 'column_type': dtype('int64'), 'occurence_time': 'Continuous', 'pointDependency': 'Yes', 'upsampling_method': 'mean', 'downsampling_method': 'mean'}, 'data2': {'column_name': 'data2', 'column_frequency': Timedelta('0 days 00:03:00'), 'column_type': dtype('int64'), 'occurence_time': 'Continuous', 'pointDependency': 'Yes', 'upsampling_method': 'mean', 'downsampling_method': 'mean'}}}\n",
      "{'frequency_list': [600, 420, 180], 'min_frequency': 180, 'max_frequency': 600, 'frequency_is_same': False, 'average_frequency': 400.0, 'median_frequency': 420.0, 'GCD': 60, 'GCDs': '60S'}\n",
      "AllNumeric\n"
     ]
    }
   ],
   "source": [
    "#Make Metadata\n",
    "from KETIPreDataIntegration.meta import partialDataInfo\n",
    "partial_data_info = partialDataInfo.PartialData(data_partial_numeric)\n",
    "print(partial_data_info.column_meta)\n",
    "print(partial_data_info.partial_frequency_info)\n",
    "print(partial_data_info.integrated_data_type)"
   ]
  },
  {
   "cell_type": "markdown",
   "metadata": {},
   "source": [
    "#### 1-2. Simple Integration"
   ]
  },
  {
   "cell_type": "code",
   "execution_count": 5,
   "metadata": {
    "ExecuteTime": {
     "end_time": "2021-07-02T05:04:53.546110Z",
     "start_time": "2021-07-02T05:04:53.516566Z"
    }
   },
   "outputs": [
    {
     "name": "stdout",
     "output_type": "stream",
     "text": [
      "{'start_time': Timestamp('2018-01-01 00:00:00'), 'end_time': Timestamp('2018-01-01 23:55:00')}\n"
     ]
    },
    {
     "data": {
      "text/html": [
       "<div>\n",
       "<style scoped>\n",
       "    .dataframe tbody tr th:only-of-type {\n",
       "        vertical-align: middle;\n",
       "    }\n",
       "\n",
       "    .dataframe tbody tr th {\n",
       "        vertical-align: top;\n",
       "    }\n",
       "\n",
       "    .dataframe thead th {\n",
       "        text-align: right;\n",
       "    }\n",
       "</style>\n",
       "<table border=\"1\" class=\"dataframe\">\n",
       "  <thead>\n",
       "    <tr style=\"text-align: right;\">\n",
       "      <th></th>\n",
       "      <th>data0</th>\n",
       "      <th>data1</th>\n",
       "      <th>data2</th>\n",
       "    </tr>\n",
       "    <tr>\n",
       "      <th>datetime</th>\n",
       "      <th></th>\n",
       "      <th></th>\n",
       "      <th></th>\n",
       "    </tr>\n",
       "  </thead>\n",
       "  <tbody>\n",
       "    <tr>\n",
       "      <th>2018-01-01 00:00:00</th>\n",
       "      <td>23.0</td>\n",
       "      <td>57.0</td>\n",
       "      <td>92.0</td>\n",
       "    </tr>\n",
       "    <tr>\n",
       "      <th>2018-01-01 00:03:00</th>\n",
       "      <td>NaN</td>\n",
       "      <td>NaN</td>\n",
       "      <td>15.0</td>\n",
       "    </tr>\n",
       "    <tr>\n",
       "      <th>2018-01-01 00:06:00</th>\n",
       "      <td>NaN</td>\n",
       "      <td>NaN</td>\n",
       "      <td>53.0</td>\n",
       "    </tr>\n",
       "    <tr>\n",
       "      <th>2018-01-01 00:07:00</th>\n",
       "      <td>NaN</td>\n",
       "      <td>60.0</td>\n",
       "      <td>NaN</td>\n",
       "    </tr>\n",
       "    <tr>\n",
       "      <th>2018-01-01 00:09:00</th>\n",
       "      <td>NaN</td>\n",
       "      <td>NaN</td>\n",
       "      <td>10.0</td>\n",
       "    </tr>\n",
       "    <tr>\n",
       "      <th>...</th>\n",
       "      <td>...</td>\n",
       "      <td>...</td>\n",
       "      <td>...</td>\n",
       "    </tr>\n",
       "    <tr>\n",
       "      <th>2018-01-01 23:48:00</th>\n",
       "      <td>NaN</td>\n",
       "      <td>80.0</td>\n",
       "      <td>24.0</td>\n",
       "    </tr>\n",
       "    <tr>\n",
       "      <th>2018-01-01 23:50:00</th>\n",
       "      <td>13.0</td>\n",
       "      <td>NaN</td>\n",
       "      <td>NaN</td>\n",
       "    </tr>\n",
       "    <tr>\n",
       "      <th>2018-01-01 23:51:00</th>\n",
       "      <td>NaN</td>\n",
       "      <td>NaN</td>\n",
       "      <td>24.0</td>\n",
       "    </tr>\n",
       "    <tr>\n",
       "      <th>2018-01-01 23:54:00</th>\n",
       "      <td>NaN</td>\n",
       "      <td>NaN</td>\n",
       "      <td>89.0</td>\n",
       "    </tr>\n",
       "    <tr>\n",
       "      <th>2018-01-01 23:55:00</th>\n",
       "      <td>NaN</td>\n",
       "      <td>22.0</td>\n",
       "      <td>NaN</td>\n",
       "    </tr>\n",
       "  </tbody>\n",
       "</table>\n",
       "<p>698 rows × 3 columns</p>\n",
       "</div>"
      ],
      "text/plain": [
       "                     data0  data1  data2\n",
       "datetime                                \n",
       "2018-01-01 00:00:00   23.0   57.0   92.0\n",
       "2018-01-01 00:03:00    NaN    NaN   15.0\n",
       "2018-01-01 00:06:00    NaN    NaN   53.0\n",
       "2018-01-01 00:07:00    NaN   60.0    NaN\n",
       "2018-01-01 00:09:00    NaN    NaN   10.0\n",
       "...                    ...    ...    ...\n",
       "2018-01-01 23:48:00    NaN   80.0   24.0\n",
       "2018-01-01 23:50:00   13.0    NaN    NaN\n",
       "2018-01-01 23:51:00    NaN    NaN   24.0\n",
       "2018-01-01 23:54:00    NaN    NaN   89.0\n",
       "2018-01-01 23:55:00    NaN   22.0    NaN\n",
       "\n",
       "[698 rows x 3 columns]"
      ]
     },
     "execution_count": 5,
     "metadata": {},
     "output_type": "execute_result"
    }
   ],
   "source": [
    "# Integration\n",
    "from KETIPreDataIntegration.meta import data_integration\n",
    "data_int = data_integration.DataIntegration(data_partial_numeric)\n",
    "print(partial_data_info.column_meta['overlap_duration'])\n",
    "simpleIntegratedData = data_int.simple_integration(partial_data_info.column_meta['overlap_duration'])\n",
    "simpleIntegratedData"
   ]
  },
  {
   "cell_type": "markdown",
   "metadata": {},
   "source": [
    "#### 1-3. data reconstruction with new frequency"
   ]
  },
  {
   "cell_type": "code",
   "execution_count": 6,
   "metadata": {
    "ExecuteTime": {
     "end_time": "2021-07-02T05:04:53.561412Z",
     "start_time": "2021-07-02T05:04:53.548397Z"
    },
    "scrolled": false
   },
   "outputs": [
    {
     "data": {
      "text/html": [
       "<div>\n",
       "<style scoped>\n",
       "    .dataframe tbody tr th:only-of-type {\n",
       "        vertical-align: middle;\n",
       "    }\n",
       "\n",
       "    .dataframe tbody tr th {\n",
       "        vertical-align: top;\n",
       "    }\n",
       "\n",
       "    .dataframe thead th {\n",
       "        text-align: right;\n",
       "    }\n",
       "</style>\n",
       "<table border=\"1\" class=\"dataframe\">\n",
       "  <thead>\n",
       "    <tr style=\"text-align: right;\">\n",
       "      <th></th>\n",
       "      <th>data0</th>\n",
       "      <th>data1</th>\n",
       "      <th>data2</th>\n",
       "    </tr>\n",
       "    <tr>\n",
       "      <th>datetime</th>\n",
       "      <th></th>\n",
       "      <th></th>\n",
       "      <th></th>\n",
       "    </tr>\n",
       "  </thead>\n",
       "  <tbody>\n",
       "    <tr>\n",
       "      <th>2018-01-01 00:00:00</th>\n",
       "      <td>23.0</td>\n",
       "      <td>57.0</td>\n",
       "      <td>92.0</td>\n",
       "    </tr>\n",
       "    <tr>\n",
       "      <th>2018-01-01 00:03:00</th>\n",
       "      <td>NaN</td>\n",
       "      <td>NaN</td>\n",
       "      <td>15.0</td>\n",
       "    </tr>\n",
       "    <tr>\n",
       "      <th>2018-01-01 00:06:00</th>\n",
       "      <td>NaN</td>\n",
       "      <td>60.0</td>\n",
       "      <td>53.0</td>\n",
       "    </tr>\n",
       "    <tr>\n",
       "      <th>2018-01-01 00:09:00</th>\n",
       "      <td>34.0</td>\n",
       "      <td>NaN</td>\n",
       "      <td>10.0</td>\n",
       "    </tr>\n",
       "    <tr>\n",
       "      <th>2018-01-01 00:12:00</th>\n",
       "      <td>NaN</td>\n",
       "      <td>99.0</td>\n",
       "      <td>69.0</td>\n",
       "    </tr>\n",
       "    <tr>\n",
       "      <th>...</th>\n",
       "      <td>...</td>\n",
       "      <td>...</td>\n",
       "      <td>...</td>\n",
       "    </tr>\n",
       "    <tr>\n",
       "      <th>2018-01-01 23:42:00</th>\n",
       "      <td>NaN</td>\n",
       "      <td>NaN</td>\n",
       "      <td>30.0</td>\n",
       "    </tr>\n",
       "    <tr>\n",
       "      <th>2018-01-01 23:45:00</th>\n",
       "      <td>NaN</td>\n",
       "      <td>NaN</td>\n",
       "      <td>87.0</td>\n",
       "    </tr>\n",
       "    <tr>\n",
       "      <th>2018-01-01 23:48:00</th>\n",
       "      <td>13.0</td>\n",
       "      <td>80.0</td>\n",
       "      <td>24.0</td>\n",
       "    </tr>\n",
       "    <tr>\n",
       "      <th>2018-01-01 23:51:00</th>\n",
       "      <td>NaN</td>\n",
       "      <td>NaN</td>\n",
       "      <td>24.0</td>\n",
       "    </tr>\n",
       "    <tr>\n",
       "      <th>2018-01-01 23:54:00</th>\n",
       "      <td>NaN</td>\n",
       "      <td>22.0</td>\n",
       "      <td>89.0</td>\n",
       "    </tr>\n",
       "  </tbody>\n",
       "</table>\n",
       "<p>479 rows × 3 columns</p>\n",
       "</div>"
      ],
      "text/plain": [
       "                     data0  data1  data2\n",
       "datetime                                \n",
       "2018-01-01 00:00:00   23.0   57.0   92.0\n",
       "2018-01-01 00:03:00    NaN    NaN   15.0\n",
       "2018-01-01 00:06:00    NaN   60.0   53.0\n",
       "2018-01-01 00:09:00   34.0    NaN   10.0\n",
       "2018-01-01 00:12:00    NaN   99.0   69.0\n",
       "...                    ...    ...    ...\n",
       "2018-01-01 23:42:00    NaN    NaN   30.0\n",
       "2018-01-01 23:45:00    NaN    NaN   87.0\n",
       "2018-01-01 23:48:00   13.0   80.0   24.0\n",
       "2018-01-01 23:51:00    NaN    NaN   24.0\n",
       "2018-01-01 23:54:00    NaN   22.0   89.0\n",
       "\n",
       "[479 rows x 3 columns]"
      ]
     },
     "execution_count": 6,
     "metadata": {},
     "output_type": "execute_result"
    }
   ],
   "source": [
    "import datetime\n",
    "\n",
    "partial_data_type = partial_data_info.integrated_data_type\n",
    "column_characteristics = partial_data_info.column_meta['column_characteristics']\n",
    "#column_characteristics['data0']['upsampling_method']=np.interp\n",
    "import datetime\n",
    "re_frequency_min = 3\n",
    "re_frequency_sec = re_frequency_min*60\n",
    "re_frequency = datetime.timedelta(seconds= re_frequency_sec)\n",
    "\n",
    "integrated_data_resample = data_int.restructured_data_with_new_frequency(re_frequency, column_characteristics)\n",
    "integrated_data_resample"
   ]
  },
  {
   "cell_type": "code",
   "execution_count": 7,
   "metadata": {},
   "outputs": [
    {
     "data": {
      "text/plain": [
       "{'data0': {'column_name': 'data0',\n",
       "  'column_frequency': Timedelta('0 days 00:10:00'),\n",
       "  'column_type': dtype('int64'),\n",
       "  'occurence_time': 'Continuous',\n",
       "  'pointDependency': 'Yes',\n",
       "  'upsampling_method': 'mean',\n",
       "  'downsampling_method': 'mean'},\n",
       " 'data1': {'column_name': 'data1',\n",
       "  'column_frequency': Timedelta('0 days 00:07:00'),\n",
       "  'column_type': dtype('int64'),\n",
       "  'occurence_time': 'Continuous',\n",
       "  'pointDependency': 'Yes',\n",
       "  'upsampling_method': 'mean',\n",
       "  'downsampling_method': 'mean'},\n",
       " 'data2': {'column_name': 'data2',\n",
       "  'column_frequency': Timedelta('0 days 00:03:00'),\n",
       "  'column_type': dtype('int64'),\n",
       "  'occurence_time': 'Continuous',\n",
       "  'pointDependency': 'Yes',\n",
       "  'upsampling_method': 'mean',\n",
       "  'downsampling_method': 'mean'}}"
      ]
     },
     "execution_count": 7,
     "metadata": {},
     "output_type": "execute_result"
    }
   ],
   "source": [
    "partial_data_info.column_meta['column_characteristics']"
   ]
  },
  {
   "cell_type": "markdown",
   "metadata": {},
   "source": [
    "#### 1-4 FillNA based on upsampling condition"
   ]
  },
  {
   "cell_type": "code",
   "execution_count": 8,
   "metadata": {},
   "outputs": [],
   "source": [
    " integrated_data_resample_fillna = data_int.restructured_data_fillna(integrated_data_resample, column_characteristics,re_frequency )"
   ]
  },
  {
   "cell_type": "code",
   "execution_count": 9,
   "metadata": {},
   "outputs": [
    {
     "data": {
      "text/html": [
       "<div>\n",
       "<style scoped>\n",
       "    .dataframe tbody tr th:only-of-type {\n",
       "        vertical-align: middle;\n",
       "    }\n",
       "\n",
       "    .dataframe tbody tr th {\n",
       "        vertical-align: top;\n",
       "    }\n",
       "\n",
       "    .dataframe thead th {\n",
       "        text-align: right;\n",
       "    }\n",
       "</style>\n",
       "<table border=\"1\" class=\"dataframe\">\n",
       "  <thead>\n",
       "    <tr style=\"text-align: right;\">\n",
       "      <th></th>\n",
       "      <th>data0</th>\n",
       "      <th>data1</th>\n",
       "      <th>data2</th>\n",
       "    </tr>\n",
       "    <tr>\n",
       "      <th>datetime</th>\n",
       "      <th></th>\n",
       "      <th></th>\n",
       "      <th></th>\n",
       "    </tr>\n",
       "  </thead>\n",
       "  <tbody>\n",
       "    <tr>\n",
       "      <th>2018-01-01 00:00:00</th>\n",
       "      <td>23.000000</td>\n",
       "      <td>57.000000</td>\n",
       "      <td>92.0</td>\n",
       "    </tr>\n",
       "    <tr>\n",
       "      <th>2018-01-01 00:03:00</th>\n",
       "      <td>26.666667</td>\n",
       "      <td>58.500000</td>\n",
       "      <td>15.0</td>\n",
       "    </tr>\n",
       "    <tr>\n",
       "      <th>2018-01-01 00:06:00</th>\n",
       "      <td>30.333333</td>\n",
       "      <td>60.000000</td>\n",
       "      <td>53.0</td>\n",
       "    </tr>\n",
       "    <tr>\n",
       "      <th>2018-01-01 00:09:00</th>\n",
       "      <td>34.000000</td>\n",
       "      <td>79.500000</td>\n",
       "      <td>10.0</td>\n",
       "    </tr>\n",
       "    <tr>\n",
       "      <th>2018-01-01 00:12:00</th>\n",
       "      <td>50.000000</td>\n",
       "      <td>99.000000</td>\n",
       "      <td>69.0</td>\n",
       "    </tr>\n",
       "    <tr>\n",
       "      <th>...</th>\n",
       "      <td>...</td>\n",
       "      <td>...</td>\n",
       "      <td>...</td>\n",
       "    </tr>\n",
       "    <tr>\n",
       "      <th>2018-01-01 23:42:00</th>\n",
       "      <td>49.000000</td>\n",
       "      <td>63.333333</td>\n",
       "      <td>30.0</td>\n",
       "    </tr>\n",
       "    <tr>\n",
       "      <th>2018-01-01 23:45:00</th>\n",
       "      <td>31.000000</td>\n",
       "      <td>71.666667</td>\n",
       "      <td>87.0</td>\n",
       "    </tr>\n",
       "    <tr>\n",
       "      <th>2018-01-01 23:48:00</th>\n",
       "      <td>13.000000</td>\n",
       "      <td>80.000000</td>\n",
       "      <td>24.0</td>\n",
       "    </tr>\n",
       "    <tr>\n",
       "      <th>2018-01-01 23:51:00</th>\n",
       "      <td>13.000000</td>\n",
       "      <td>51.000000</td>\n",
       "      <td>24.0</td>\n",
       "    </tr>\n",
       "    <tr>\n",
       "      <th>2018-01-01 23:54:00</th>\n",
       "      <td>13.000000</td>\n",
       "      <td>22.000000</td>\n",
       "      <td>89.0</td>\n",
       "    </tr>\n",
       "  </tbody>\n",
       "</table>\n",
       "<p>479 rows × 3 columns</p>\n",
       "</div>"
      ],
      "text/plain": [
       "                         data0      data1  data2\n",
       "datetime                                        \n",
       "2018-01-01 00:00:00  23.000000  57.000000   92.0\n",
       "2018-01-01 00:03:00  26.666667  58.500000   15.0\n",
       "2018-01-01 00:06:00  30.333333  60.000000   53.0\n",
       "2018-01-01 00:09:00  34.000000  79.500000   10.0\n",
       "2018-01-01 00:12:00  50.000000  99.000000   69.0\n",
       "...                        ...        ...    ...\n",
       "2018-01-01 23:42:00  49.000000  63.333333   30.0\n",
       "2018-01-01 23:45:00  31.000000  71.666667   87.0\n",
       "2018-01-01 23:48:00  13.000000  80.000000   24.0\n",
       "2018-01-01 23:51:00  13.000000  51.000000   24.0\n",
       "2018-01-01 23:54:00  13.000000  22.000000   89.0\n",
       "\n",
       "[479 rows x 3 columns]"
      ]
     },
     "execution_count": 9,
     "metadata": {},
     "output_type": "execute_result"
    }
   ],
   "source": [
    " integrated_data_resample_fillna"
   ]
  },
  {
   "cell_type": "markdown",
   "metadata": {},
   "source": [
    "2. ### Mixing Data"
   ]
  },
  {
   "cell_type": "code",
   "execution_count": null,
   "metadata": {
    "ExecuteTime": {
     "end_time": "2021-07-02T05:04:53.623673Z",
     "start_time": "2021-07-02T05:04:53.609569Z"
    },
    "scrolled": true
   },
   "outputs": [],
   "source": [
    "partial_data_info = partialDataInfo.PartialData(data_partial_mix)\n",
    "\n",
    "\n",
    "print(partial_data_info.integrated_data_type)\n",
    "print(partial_data_info.partial_frequency_info)\n",
    "print(partial_data_info.column_meta)"
   ]
  },
  {
   "cell_type": "code",
   "execution_count": null,
   "metadata": {},
   "outputs": [],
   "source": [
    "data_set = data_partial_mix\n",
    "from KETIPreDataIntegration.meta import partialDataInfo\n",
    "partial_data_info = partialDataInfo.PartialData(data_set)"
   ]
  },
  {
   "cell_type": "markdown",
   "metadata": {},
   "source": [
    "#### 2-0. data integration by one method"
   ]
  },
  {
   "cell_type": "code",
   "execution_count": null,
   "metadata": {},
   "outputs": [],
   "source": [
    "# Integration\n",
    "from KETIPreDataIntegration.meta import data_integration\n",
    "data_set = data_partial_numeric\n",
    "partial_data_info = partialDataInfo.PartialData(data_set)\n",
    "data_it = data_integration.DataIntegration(data_set)\n",
    "integrated_data_resample = data_it.dataIntegrationByMeta(re_frequency, partial_data_info.column_meta)"
   ]
  },
  {
   "cell_type": "code",
   "execution_count": null,
   "metadata": {},
   "outputs": [],
   "source": [
    "integrated_data_resample"
   ]
  },
  {
   "cell_type": "markdown",
   "metadata": {},
   "source": [
    "### Easy integration Method"
   ]
  },
  {
   "cell_type": "code",
   "execution_count": null,
   "metadata": {},
   "outputs": [],
   "source": [
    "from KETIPreDataIntegration.clustDataIntegration import ClustIntegration\n",
    "\n",
    "data = ClustIntegration().getIntegratedDataSetByMeta(data_set, re_frequency_min)"
   ]
  },
  {
   "cell_type": "code",
   "execution_count": null,
   "metadata": {},
   "outputs": [],
   "source": []
  }
 ],
 "metadata": {
  "kernelspec": {
   "display_name": "Python 3.8.13 ('torch')",
   "language": "python",
   "name": "python3"
  },
  "language_info": {
   "codemirror_mode": {
    "name": "ipython",
    "version": 3
   },
   "file_extension": ".py",
   "mimetype": "text/x-python",
   "name": "python",
   "nbconvert_exporter": "python",
   "pygments_lexer": "ipython3",
   "version": "3.8.13"
  },
  "toc": {
   "base_numbering": 1,
   "nav_menu": {},
   "number_sections": true,
   "sideBar": true,
   "skip_h1_title": false,
   "title_cell": "Table of Contents",
   "title_sidebar": "Contents",
   "toc_cell": false,
   "toc_position": {
    "height": "calc(100% - 180px)",
    "left": "10px",
    "top": "150px",
    "width": "303.837px"
   },
   "toc_section_display": true,
   "toc_window_display": true
  },
  "varInspector": {
   "cols": {
    "lenName": 16,
    "lenType": 16,
    "lenVar": 40
   },
   "kernels_config": {
    "python": {
     "delete_cmd_postfix": "",
     "delete_cmd_prefix": "del ",
     "library": "var_list.py",
     "varRefreshCmd": "print(var_dic_list())"
    },
    "r": {
     "delete_cmd_postfix": ") ",
     "delete_cmd_prefix": "rm(",
     "library": "var_list.r",
     "varRefreshCmd": "cat(var_dic_list()) "
    }
   },
   "position": {
    "height": "296.484px",
    "left": "1145px",
    "right": "20px",
    "top": "120px",
    "width": "302.5px"
   },
   "types_to_exclude": [
    "module",
    "function",
    "builtin_function_or_method",
    "instance",
    "_Feature"
   ],
   "window_display": false
  },
  "vscode": {
   "interpreter": {
    "hash": "f1ef7e1f828dbb4e75f421045d2c565197efaf8469a0be4a314c6ea8378b5cb2"
   }
  }
 },
 "nbformat": 4,
 "nbformat_minor": 4
}
