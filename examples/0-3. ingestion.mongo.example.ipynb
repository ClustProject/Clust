{
 "cells": [
  {
   "cell_type": "markdown",
   "id": "8bfd738d",
   "metadata": {},
   "source": []
  },
  {
   "cell_type": "markdown",
   "id": "84e09377",
   "metadata": {},
   "source": [
    "## Kernel 전체 실행 하지 말 것\n",
    "## 맨 밑에 Delete문 있음\n",
    "## 메타 데이터 삭제 위험 있음"
   ]
  },
  {
   "cell_type": "code",
   "execution_count": 1,
   "id": "80c3eaa4",
   "metadata": {},
   "outputs": [],
   "source": [
    "import pandas as pd\n",
    "import sys\n",
    "import os\n",
    "\n",
    "sys.path.append(\"../\")\n",
    "sys.path.append(\"../..\")"
   ]
  },
  {
   "cell_type": "markdown",
   "id": "1798159e",
   "metadata": {},
   "source": [
    "# MongoDB client"
   ]
  },
  {
   "cell_type": "code",
   "execution_count": 2,
   "id": "b067183b",
   "metadata": {},
   "outputs": [],
   "source": [
    "# connect to influxdb\n",
    "from clust.ingestion.mongo import mongo_Client\n",
    "from setting import influx_setting_KETI as ins\n",
    "\"\"\"\n",
    "example setting Info: \n",
    "CLUSTMetaInfo2={\n",
    "        \"username\":\"user\",\n",
    "        \"password\":\"password\",\n",
    "        \"host\": xxx.xxx.xxx.xxx,\n",
    "        \"port\": xxxxx\n",
    "}\n",
    "\"\"\"\n",
    "\n",
    "db_client = mongo_Client.mongoClient(ins.CLUSTMetaInfo2)"
   ]
  },
  {
   "cell_type": "code",
   "execution_count": null,
   "id": "fe07a40f",
   "metadata": {},
   "outputs": [],
   "source": []
  },
  {
   "cell_type": "markdown",
   "id": "4b4a8e93",
   "metadata": {},
   "source": [
    "### Get Database List"
   ]
  },
  {
   "cell_type": "code",
   "execution_count": 3,
   "id": "962c029f",
   "metadata": {},
   "outputs": [
    {
     "data": {
      "text/plain": [
       "['air',\n",
       " 'bio',\n",
       " 'bucket',\n",
       " 'city',\n",
       " 'data',\n",
       " 'db',\n",
       " 'economy',\n",
       " 'energy',\n",
       " 'farm',\n",
       " 'life',\n",
       " 'traffic',\n",
       " 'weather']"
      ]
     },
     "execution_count": 3,
     "metadata": {},
     "output_type": "execute_result"
    }
   ],
   "source": [
    "db_list = db_client.get_DBList()\n",
    "db_list"
   ]
  },
  {
   "cell_type": "markdown",
   "id": "5abe071d",
   "metadata": {},
   "source": [
    "### Get Collection List"
   ]
  },
  {
   "cell_type": "code",
   "execution_count": null,
   "id": "d01662d5",
   "metadata": {},
   "outputs": [],
   "source": [
    "db_name = 'data'"
   ]
  },
  {
   "cell_type": "code",
   "execution_count": null,
   "id": "aeaca4d0",
   "metadata": {},
   "outputs": [],
   "source": [
    "collection_list = db_client.get_CollectionList(db_name)\n",
    "collection_list"
   ]
  },
  {
   "cell_type": "markdown",
   "id": "2d624b7f",
   "metadata": {},
   "source": [
    "# Get Data Function"
   ]
  },
  {
   "cell_type": "markdown",
   "id": "38d45f49",
   "metadata": {},
   "source": [
    "### Get All Document"
   ]
  },
  {
   "cell_type": "code",
   "execution_count": null,
   "id": "0e2d3621",
   "metadata": {},
   "outputs": [],
   "source": [
    "collection_name = 'integrated_result'"
   ]
  },
  {
   "cell_type": "code",
   "execution_count": null,
   "id": "1015a34e",
   "metadata": {},
   "outputs": [],
   "source": [
    "all_document = db_client.get_all_document(db_name, collection_name)\n",
    "all_document"
   ]
  },
  {
   "cell_type": "markdown",
   "id": "b8cc210a",
   "metadata": {},
   "source": [
    "### Get specific document use json"
   ]
  },
  {
   "cell_type": "code",
   "execution_count": null,
   "id": "06620b30",
   "metadata": {},
   "outputs": [],
   "source": [
    "search = {'table_name':'france'}"
   ]
  },
  {
   "cell_type": "code",
   "execution_count": null,
   "id": "d359870f",
   "metadata": {},
   "outputs": [],
   "source": [
    "one_document_json = db_client.get_document_by_json(db_name, collection_name, search)\n",
    "one_document_json"
   ]
  },
  {
   "cell_type": "markdown",
   "id": "989027b7",
   "metadata": {},
   "source": [
    "## Get document by table"
   ]
  },
  {
   "cell_type": "code",
   "execution_count": null,
   "id": "82e7e5b4",
   "metadata": {},
   "outputs": [],
   "source": [
    "table_name = 'france'"
   ]
  },
  {
   "cell_type": "code",
   "execution_count": null,
   "id": "83c22c19",
   "metadata": {},
   "outputs": [],
   "source": [
    "document_by_table = db_client.get_document_by_table(db_name, collection_name, table_name)\n",
    "document_by_table"
   ]
  },
  {
   "cell_type": "code",
   "execution_count": null,
   "id": "a3337494",
   "metadata": {},
   "outputs": [],
   "source": []
  },
  {
   "cell_type": "code",
   "execution_count": null,
   "id": "e8f47a7d",
   "metadata": {},
   "outputs": [],
   "source": []
  },
  {
   "cell_type": "code",
   "execution_count": null,
   "id": "c1fe9c04",
   "metadata": {},
   "outputs": [],
   "source": []
  },
  {
   "cell_type": "code",
   "execution_count": null,
   "id": "ed5e2e48",
   "metadata": {},
   "outputs": [],
   "source": []
  },
  {
   "cell_type": "markdown",
   "id": "7562205a",
   "metadata": {},
   "source": [
    "# Create & Insert "
   ]
  },
  {
   "cell_type": "markdown",
   "id": "23be327b",
   "metadata": {},
   "source": [
    "## Data Write"
   ]
  },
  {
   "cell_type": "code",
   "execution_count": 4,
   "id": "5444aa64",
   "metadata": {},
   "outputs": [
    {
     "data": {
      "text/plain": [
       "['air',\n",
       " 'bio',\n",
       " 'bucket',\n",
       " 'city',\n",
       " 'data',\n",
       " 'db',\n",
       " 'economy',\n",
       " 'energy',\n",
       " 'farm',\n",
       " 'life',\n",
       " 'traffic',\n",
       " 'weather']"
      ]
     },
     "execution_count": 4,
     "metadata": {},
     "output_type": "execute_result"
    }
   ],
   "source": [
    "db_client.get_DBList()"
   ]
  },
  {
   "cell_type": "code",
   "execution_count": 5,
   "id": "c526a678",
   "metadata": {},
   "outputs": [],
   "source": [
    "db_name = 'test'\n",
    "collection_name = 'abcdef'"
   ]
  },
  {
   "cell_type": "code",
   "execution_count": 14,
   "id": "51657772",
   "metadata": {},
   "outputs": [],
   "source": [
    "document = {\"name\": \"Kim\", \"age\": \"25\", \"city\": \"incheon\"}"
   ]
  },
  {
   "cell_type": "code",
   "execution_count": 15,
   "id": "17038651",
   "metadata": {},
   "outputs": [
    {
     "name": "stdout",
     "output_type": "stream",
     "text": [
      "Success\n"
     ]
    }
   ],
   "source": [
    "db_client.insert_document(db_name, collection_name, document)"
   ]
  },
  {
   "cell_type": "code",
   "execution_count": 16,
   "id": "e8c9febb",
   "metadata": {},
   "outputs": [
    {
     "data": {
      "text/plain": [
       "['air',\n",
       " 'bio',\n",
       " 'bucket',\n",
       " 'city',\n",
       " 'data',\n",
       " 'db',\n",
       " 'economy',\n",
       " 'energy',\n",
       " 'farm',\n",
       " 'life',\n",
       " 'test',\n",
       " 'traffic',\n",
       " 'weather']"
      ]
     },
     "execution_count": 16,
     "metadata": {},
     "output_type": "execute_result"
    }
   ],
   "source": [
    "db_client.get_DBList()"
   ]
  },
  {
   "cell_type": "code",
   "execution_count": 17,
   "id": "11979417",
   "metadata": {},
   "outputs": [
    {
     "data": {
      "text/plain": [
       "[{'name': 'LEE', 'age': '21', 'city': 'seoul'},\n",
       " {'name': 'LEE', 'age': '21', 'city': 'seoul'},\n",
       " {'name': 'Kim', 'age': '25', 'city': 'incheon'}]"
      ]
     },
     "execution_count": 17,
     "metadata": {},
     "output_type": "execute_result"
    }
   ],
   "source": [
    "db_client.get_all_document(db_name, collection_name)"
   ]
  },
  {
   "cell_type": "code",
   "execution_count": null,
   "id": "a616196f",
   "metadata": {},
   "outputs": [],
   "source": []
  },
  {
   "cell_type": "code",
   "execution_count": null,
   "id": "ccebe9d8",
   "metadata": {},
   "outputs": [],
   "source": []
  },
  {
   "cell_type": "markdown",
   "id": "f656b172",
   "metadata": {},
   "source": [
    "## Delete Database"
   ]
  },
  {
   "cell_type": "code",
   "execution_count": null,
   "id": "0e5cba07",
   "metadata": {},
   "outputs": [],
   "source": [
    "db_client.get_DBList()"
   ]
  },
  {
   "cell_type": "code",
   "execution_count": null,
   "id": "d7116701",
   "metadata": {},
   "outputs": [],
   "source": [
    "db_name = 'test'"
   ]
  },
  {
   "cell_type": "code",
   "execution_count": null,
   "id": "4ad0c006",
   "metadata": {},
   "outputs": [],
   "source": [
    "db_client.delete_database(db_name)"
   ]
  },
  {
   "cell_type": "markdown",
   "id": "55cfc5c2",
   "metadata": {},
   "source": [
    "## Delete Collection"
   ]
  },
  {
   "cell_type": "code",
   "execution_count": null,
   "id": "ce0346f6",
   "metadata": {},
   "outputs": [],
   "source": [
    "db_client.get_CollectionList(db_name)"
   ]
  },
  {
   "cell_type": "code",
   "execution_count": null,
   "id": "39bcb2a8",
   "metadata": {},
   "outputs": [],
   "source": [
    "collection_name = 'seoul_bike'"
   ]
  },
  {
   "cell_type": "code",
   "execution_count": null,
   "id": "8d61c3bc",
   "metadata": {},
   "outputs": [],
   "source": [
    "db_client.delete_collection(db_name, collection_name)"
   ]
  },
  {
   "cell_type": "code",
   "execution_count": null,
   "id": "9b94ec67",
   "metadata": {},
   "outputs": [],
   "source": [
    "db_client.get_CollectionList(db_name)"
   ]
  },
  {
   "cell_type": "code",
   "execution_count": null,
   "id": "9a38911f",
   "metadata": {},
   "outputs": [],
   "source": []
  },
  {
   "cell_type": "code",
   "execution_count": null,
   "id": "8f0ba74b",
   "metadata": {},
   "outputs": [],
   "source": []
  },
  {
   "cell_type": "code",
   "execution_count": null,
   "id": "cb9c37b5",
   "metadata": {},
   "outputs": [],
   "source": []
  },
  {
   "cell_type": "code",
   "execution_count": null,
   "id": "9e5e9d56",
   "metadata": {},
   "outputs": [],
   "source": []
  },
  {
   "cell_type": "code",
   "execution_count": null,
   "id": "be435ee7",
   "metadata": {},
   "outputs": [],
   "source": []
  }
 ],
 "metadata": {
  "kernelspec": {
   "display_name": "Python 3 (ipykernel)",
   "language": "python",
   "name": "python3"
  },
  "language_info": {
   "codemirror_mode": {
    "name": "ipython",
    "version": 3
   },
   "file_extension": ".py",
   "mimetype": "text/x-python",
   "name": "python",
   "nbconvert_exporter": "python",
   "pygments_lexer": "ipython3",
   "version": "3.8.8"
  }
 },
 "nbformat": 4,
 "nbformat_minor": 5
}
