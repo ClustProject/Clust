{
 "cells": [
  {
   "cell_type": "markdown",
   "id": "5bc64493",
   "metadata": {},
   "source": []
  },
  {
   "cell_type": "markdown",
   "id": "cb49c467",
   "metadata": {},
   "source": [
    "## Kernel 전체 실행 하지 말 것\n",
    "## 맨 밑에 Delete문 있음\n",
    "## 메타 데이터 삭제 위험 있음"
   ]
  },
  {
   "cell_type": "code",
   "execution_count": 1,
   "id": "f25dc73c",
   "metadata": {},
   "outputs": [],
   "source": [
    "import pandas as pd\n",
    "import sys\n",
    "import os\n",
    "\n",
    "sys.path.append(\"../\")\n",
    "sys.path.append(\"../..\")"
   ]
  },
  {
   "cell_type": "markdown",
   "id": "e7335f09",
   "metadata": {},
   "source": [
    "# MongoDB client"
   ]
  },
  {
   "cell_type": "code",
   "execution_count": 2,
   "id": "4be4e535",
   "metadata": {},
   "outputs": [],
   "source": [
    "# connect to influxdb\n",
    "from clust.ingestion.mongo import mongo_Client\n",
    "from setting import influx_setting_KETI as ins\n",
    "\"\"\"\n",
    "example setting Info: \n",
    "CLUSTMetaInfo2={\n",
    "        \"username\":\"user\",\n",
    "        \"password\":\"password\",\n",
    "        \"host\": xxx.xxx.xxx.xxx,\n",
    "        \"port\": xxxxx\n",
    "}\n",
    "\"\"\"\n",
    "\n",
    "db_client = mongo_Client.mongoClient(ins.CLUSTMetaInfo2)"
   ]
  },
  {
   "cell_type": "code",
   "execution_count": null,
   "id": "590a6c83",
   "metadata": {},
   "outputs": [],
   "source": []
  },
  {
   "cell_type": "markdown",
   "id": "1f9d918c",
   "metadata": {},
   "source": [
    "### Get Database List"
   ]
  },
  {
   "cell_type": "code",
   "execution_count": 3,
   "id": "05a0d057",
   "metadata": {},
   "outputs": [
    {
     "data": {
      "text/plain": [
       "['air',\n",
       " 'bio',\n",
       " 'bucket',\n",
       " 'city',\n",
       " 'data',\n",
       " 'db',\n",
       " 'economy',\n",
       " 'energy',\n",
       " 'farm',\n",
       " 'life',\n",
       " 'test',\n",
       " 'traffic',\n",
       " 'weather']"
      ]
     },
     "execution_count": 3,
     "metadata": {},
     "output_type": "execute_result"
    }
   ],
   "source": [
    "db_list = db_client.get_DBList()\n",
    "db_list"
   ]
  },
  {
   "cell_type": "markdown",
   "id": "c6c971bc",
   "metadata": {},
   "source": [
    "### Get Collection List"
   ]
  },
  {
   "cell_type": "code",
   "execution_count": null,
   "id": "65287763",
   "metadata": {},
   "outputs": [],
   "source": [
    "db_name = 'data'"
   ]
  },
  {
   "cell_type": "code",
   "execution_count": null,
   "id": "6a8d7fe1",
   "metadata": {},
   "outputs": [],
   "source": [
    "collection_list = db_client.get_CollectionList(db_name)\n",
    "collection_list"
   ]
  },
  {
   "cell_type": "markdown",
   "id": "93faa386",
   "metadata": {},
   "source": [
    "# Get Data Function"
   ]
  },
  {
   "cell_type": "markdown",
   "id": "993691ff",
   "metadata": {},
   "source": [
    "### Get All Document"
   ]
  },
  {
   "cell_type": "code",
   "execution_count": null,
   "id": "d2d4593e",
   "metadata": {},
   "outputs": [],
   "source": [
    "collection_name = 'integrated_result'"
   ]
  },
  {
   "cell_type": "code",
   "execution_count": null,
   "id": "3fc4a578",
   "metadata": {},
   "outputs": [],
   "source": [
    "all_document = db_client.get_all_document(db_name, collection_name)\n",
    "all_document"
   ]
  },
  {
   "cell_type": "markdown",
   "id": "83f1ca39",
   "metadata": {},
   "source": [
    "### Get specific document use json"
   ]
  },
  {
   "cell_type": "code",
   "execution_count": null,
   "id": "103170cc",
   "metadata": {},
   "outputs": [],
   "source": [
    "search = {'table_name':'france'}"
   ]
  },
  {
   "cell_type": "code",
   "execution_count": null,
   "id": "b263f7bd",
   "metadata": {},
   "outputs": [],
   "source": [
    "one_document_json = db_client.get_document_by_json(db_name, collection_name, search)\n",
    "one_document_json"
   ]
  },
  {
   "cell_type": "markdown",
   "id": "3285bae1",
   "metadata": {},
   "source": [
    "## Get document by table"
   ]
  },
  {
   "cell_type": "code",
   "execution_count": null,
   "id": "b5536f79",
   "metadata": {},
   "outputs": [],
   "source": [
    "table_name = 'france'"
   ]
  },
  {
   "cell_type": "code",
   "execution_count": null,
   "id": "a47b77d5",
   "metadata": {},
   "outputs": [],
   "source": [
    "document_by_table = db_client.get_document_by_table(db_name, collection_name, table_name)\n",
    "document_by_table"
   ]
  },
  {
   "cell_type": "code",
   "execution_count": null,
   "id": "2d0dfe26",
   "metadata": {},
   "outputs": [],
   "source": []
  },
  {
   "cell_type": "code",
   "execution_count": null,
   "id": "333289ba",
   "metadata": {},
   "outputs": [],
   "source": []
  },
  {
   "cell_type": "code",
   "execution_count": null,
   "id": "e12e238b",
   "metadata": {},
   "outputs": [],
   "source": []
  },
  {
   "cell_type": "code",
   "execution_count": null,
   "id": "cfc7695f",
   "metadata": {},
   "outputs": [],
   "source": []
  },
  {
   "cell_type": "markdown",
   "id": "752ad542",
   "metadata": {},
   "source": [
    "# Create & Insert "
   ]
  },
  {
   "cell_type": "markdown",
   "id": "93480d21",
   "metadata": {},
   "source": [
    "## Data Write"
   ]
  },
  {
   "cell_type": "code",
   "execution_count": null,
   "id": "9980d082",
   "metadata": {},
   "outputs": [],
   "source": [
    "db_client.get_DBList()"
   ]
  },
  {
   "cell_type": "code",
   "execution_count": 4,
   "id": "4dc63155",
   "metadata": {},
   "outputs": [],
   "source": [
    "db_name = 'test'\n",
    "collection_name = 'abcdef'"
   ]
  },
  {
   "cell_type": "code",
   "execution_count": null,
   "id": "fcb02d14",
   "metadata": {},
   "outputs": [],
   "source": [
    "document = {\"name\": \"LEE\", \"age\": \"21\", \"city\": \"seoul\"}"
   ]
  },
  {
   "cell_type": "code",
   "execution_count": null,
   "id": "814dd47f",
   "metadata": {},
   "outputs": [],
   "source": [
    "db_client.insert_document(db_name, collection_name, document)"
   ]
  },
  {
   "cell_type": "code",
   "execution_count": 5,
   "id": "5c9d882b",
   "metadata": {},
   "outputs": [
    {
     "data": {
      "text/plain": [
       "['air',\n",
       " 'bio',\n",
       " 'bucket',\n",
       " 'city',\n",
       " 'data',\n",
       " 'db',\n",
       " 'economy',\n",
       " 'energy',\n",
       " 'farm',\n",
       " 'life',\n",
       " 'test',\n",
       " 'traffic',\n",
       " 'weather']"
      ]
     },
     "execution_count": 5,
     "metadata": {},
     "output_type": "execute_result"
    }
   ],
   "source": [
    "db_client.get_DBList()"
   ]
  },
  {
   "cell_type": "code",
   "execution_count": null,
   "id": "a39f0f75",
   "metadata": {},
   "outputs": [],
   "source": []
  },
  {
   "cell_type": "code",
   "execution_count": null,
   "id": "232430cd",
   "metadata": {},
   "outputs": [],
   "source": []
  },
  {
   "cell_type": "code",
   "execution_count": null,
   "id": "093e6ea6",
   "metadata": {},
   "outputs": [],
   "source": []
  },
  {
   "cell_type": "markdown",
   "id": "9e3a9ae9",
   "metadata": {},
   "source": [
    "## Delete Database"
   ]
  },
  {
   "cell_type": "code",
   "execution_count": 11,
   "id": "c7d26807",
   "metadata": {},
   "outputs": [
    {
     "data": {
      "text/plain": [
       "['air',\n",
       " 'bio',\n",
       " 'bucket',\n",
       " 'city',\n",
       " 'data',\n",
       " 'db',\n",
       " 'economy',\n",
       " 'energy',\n",
       " 'farm',\n",
       " 'life',\n",
       " 'traffic',\n",
       " 'weather']"
      ]
     },
     "execution_count": 11,
     "metadata": {},
     "output_type": "execute_result"
    }
   ],
   "source": [
    "db_client.get_DBList()"
   ]
  },
  {
   "cell_type": "code",
   "execution_count": 9,
   "id": "d757cc32",
   "metadata": {},
   "outputs": [],
   "source": [
    "db_name = 'test'"
   ]
  },
  {
   "cell_type": "code",
   "execution_count": 10,
   "id": "3b747a02",
   "metadata": {},
   "outputs": [
    {
     "name": "stdout",
     "output_type": "stream",
     "text": [
      "Mongo Database Delete Success\n"
     ]
    }
   ],
   "source": [
    "db_client.delete_database(db_name)"
   ]
  },
  {
   "cell_type": "markdown",
   "id": "7cbd6743",
   "metadata": {},
   "source": [
    "## Delete Collection"
   ]
  },
  {
   "cell_type": "code",
   "execution_count": null,
   "id": "aa138bce",
   "metadata": {},
   "outputs": [],
   "source": [
    "db_client.get_CollectionList(db_name)"
   ]
  },
  {
   "cell_type": "code",
   "execution_count": null,
   "id": "7f3435f7",
   "metadata": {},
   "outputs": [],
   "source": [
    "collection_name = 'seoul_bike'"
   ]
  },
  {
   "cell_type": "code",
   "execution_count": null,
   "id": "7864b018",
   "metadata": {},
   "outputs": [],
   "source": [
    "db_client.delete_collection(db_name, collection_name)"
   ]
  },
  {
   "cell_type": "code",
   "execution_count": null,
   "id": "a26ce06c",
   "metadata": {},
   "outputs": [],
   "source": [
    "db_client.get_CollectionList(db_name)"
   ]
  },
  {
   "cell_type": "code",
   "execution_count": null,
   "id": "033f4c72",
   "metadata": {},
   "outputs": [],
   "source": []
  },
  {
   "cell_type": "code",
   "execution_count": null,
   "id": "6cd9ac00",
   "metadata": {},
   "outputs": [],
   "source": []
  },
  {
   "cell_type": "code",
   "execution_count": null,
   "id": "95377618",
   "metadata": {},
   "outputs": [],
   "source": []
  },
  {
   "cell_type": "code",
   "execution_count": null,
   "id": "d9df13c2",
   "metadata": {},
   "outputs": [],
   "source": []
  },
  {
   "cell_type": "code",
   "execution_count": null,
   "id": "90f7ccb2",
   "metadata": {},
   "outputs": [],
   "source": []
  }
 ],
 "metadata": {
  "kernelspec": {
   "display_name": "Python 3 (ipykernel)",
   "language": "python",
   "name": "python3"
  },
  "language_info": {
   "codemirror_mode": {
    "name": "ipython",
    "version": 3
   },
   "file_extension": ".py",
   "mimetype": "text/x-python",
   "name": "python",
   "nbconvert_exporter": "python",
   "pygments_lexer": "ipython3",
   "version": "3.8.8"
  }
 },
 "nbformat": 4,
 "nbformat_minor": 5
}
