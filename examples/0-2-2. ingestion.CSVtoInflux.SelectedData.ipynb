{
 "cells": [
  {
   "cell_type": "markdown",
   "id": "f24c40c8",
   "metadata": {
    "toc": true
   },
   "source": [
    "<h1>Table of Contents<span class=\"tocSkip\"></span></h1>\n",
    "<div class=\"toc\"><ul class=\"toc-item\"><li><span><a href=\"#Import\" data-toc-modified-id=\"Import-1\"><span class=\"toc-item-num\">1&nbsp;&nbsp;</span>Import</a></span></li><li><span><a href=\"#1.-Setting-Parameter\" data-toc-modified-id=\"1.-Setting-Parameter-2\"><span class=\"toc-item-num\">2&nbsp;&nbsp;</span>1. Setting Parameter</a></span></li><li><span><a href=\"#2.-Data-Collect\" data-toc-modified-id=\"2.-Data-Collect-3\"><span class=\"toc-item-num\">3&nbsp;&nbsp;</span>2. Data Collect</a></span></li><li><span><a href=\"#3.-Example-Input-Data\" data-toc-modified-id=\"3.-Example-Input-Data-4\"><span class=\"toc-item-num\">4&nbsp;&nbsp;</span>3. Example Input Data</a></span></li><li><span><a href=\"#4.-Example-Save-Data\" data-toc-modified-id=\"4.-Example-Save-Data-5\"><span class=\"toc-item-num\">5&nbsp;&nbsp;</span>4. Example Save Data</a></span></li></ul></div>"
   ]
  },
  {
   "cell_type": "markdown",
   "id": "649bdd80",
   "metadata": {},
   "source": [
    "# Import"
   ]
  },
  {
   "cell_type": "code",
   "execution_count": 1,
   "id": "6de0fbef",
   "metadata": {
    "ExecuteTime": {
     "end_time": "2022-07-06T02:40:04.307089Z",
     "start_time": "2022-07-06T02:40:03.822065Z"
    }
   },
   "outputs": [],
   "source": [
    "import pandas as pd\n",
    "import os\n",
    "import sys\n",
    "\n",
    "sys.path.append(\"../\")\n",
    "sys.path.append(\"../..\")\n",
    "\n",
    "from Clust.setting.influx_setting_KETI import CLUSTDataServer2 as ins\n",
    "from Clust.clust.ingestion.influx import influx_Client_v2 as iC\n",
    "\n",
    "import Clust.clust.ingestion.CSVtoInflux.csvCollector as cC"
   ]
  },
  {
   "cell_type": "markdown",
   "id": "39f7eb71",
   "metadata": {},
   "source": [
    "# 1. Setting Parameter"
   ]
  },
  {
   "cell_type": "markdown",
   "id": "5612cfa8",
   "metadata": {},
   "source": [
    "- parameter 는 KETIPreDataCollection.collectorParameter 의 parameter 로 호출 가능\n",
    "```\n",
    "###예시###\n",
    "import KETIPreDataCollection.collectorParameter as cP\n",
    "cP.parameter\n",
    "```"
   ]
  },
  {
   "cell_type": "code",
   "execution_count": 2,
   "id": "105f6d66",
   "metadata": {
    "ExecuteTime": {
     "end_time": "2022-07-06T02:40:04.310841Z",
     "start_time": "2022-07-06T02:40:04.308414Z"
    }
   },
   "outputs": [],
   "source": [
    "####### db connection parameter\n",
    "db_client = iC.influxClient(ins)"
   ]
  },
  {
   "cell_type": "code",
   "execution_count": 3,
   "id": "f811da62",
   "metadata": {
    "ExecuteTime": {
     "end_time": "2022-07-06T02:40:04.314032Z",
     "start_time": "2022-07-06T02:40:04.312080Z"
    }
   },
   "outputs": [],
   "source": [
    "####### Folder / File 업로드 방식 고르시\n",
    "upload_type_list = [\"File\", \"Folder\"]\n",
    "upload_type = upload_type_list[0]"
   ]
  },
  {
   "cell_type": "code",
   "execution_count": 4,
   "id": "ec769037",
   "metadata": {
    "ExecuteTime": {
     "end_time": "2022-07-06T02:40:04.320143Z",
     "start_time": "2022-07-06T02:40:04.315596Z"
    }
   },
   "outputs": [],
   "source": [
    "####### read&clean type 고르기 parameter\n",
    "data_read_type_list = [\"basic\", \"selectedData\", \"highCapacity\"]\n",
    "data_read_type = data_read_type_list[1]"
   ]
  },
  {
   "cell_type": "code",
   "execution_count": 5,
   "id": "fa06aa58",
   "metadata": {
    "ExecuteTime": {
     "end_time": "2022-07-06T02:40:04.326803Z",
     "start_time": "2022-07-06T02:40:04.323201Z"
    }
   },
   "outputs": [],
   "source": [
    "####### 기본 Data 관련 저장에 필요한 정보 기입\n",
    "db_name = \"test_data_type2\"\n",
    "ms_name = \"test2\"\n",
    "path = \"./Data Collection_Test Data Folder/SelectedData_Type2.csv\"\n",
    "encoding = \"utf-8\""
   ]
  },
  {
   "cell_type": "code",
   "execution_count": 6,
   "id": "b349feb5",
   "metadata": {
    "ExecuteTime": {
     "end_time": "2022-07-06T02:40:04.333316Z",
     "start_time": "2022-07-06T02:40:04.329744Z"
    }
   },
   "outputs": [],
   "source": [
    "####### 저장될 데이터의 시간 스템프로 지정될 column 을 기입하는 parameter\n",
    "time_column = \"date\""
   ]
  },
  {
   "cell_type": "code",
   "execution_count": 7,
   "id": "7beba234",
   "metadata": {
    "ExecuteTime": {
     "end_time": "2022-07-06T02:40:04.338054Z",
     "start_time": "2022-07-06T02:40:04.334682Z"
    }
   },
   "outputs": [],
   "source": [
    "####### clean type 에 따라 data read type의 parameter 가 달라짐\n",
    "selected_datas = [\n",
    "    {\"Selected_columns\":[\"nation\"]},\n",
    "    {\"Selected_values\":[\"Taiwan\"]},\n",
    "    {\"Selected_Function\":[\"Equal\"]}\n",
    "]"
   ]
  },
  {
   "cell_type": "code",
   "execution_count": 8,
   "id": "5f53fbb1",
   "metadata": {
    "ExecuteTime": {
     "end_time": "2022-07-06T02:40:04.342113Z",
     "start_time": "2022-07-06T02:40:04.339566Z"
    }
   },
   "outputs": [],
   "source": [
    "####### 저장하는 column 선택하는 parameter\n",
    "selected_columns = ['visitor', 'age0-20', 'age21-30', 'age31-40', 'age41-50']"
   ]
  },
  {
   "cell_type": "code",
   "execution_count": 9,
   "id": "90e2de61",
   "metadata": {
    "ExecuteTime": {
     "end_time": "2022-07-06T02:40:04.348335Z",
     "start_time": "2022-07-06T02:40:04.344600Z"
    }
   },
   "outputs": [],
   "source": [
    "####### duplicated time column processing method 정하는 parameter\n",
    "dtcpm = None"
   ]
  },
  {
   "cell_type": "code",
   "execution_count": 10,
   "id": "72a52696",
   "metadata": {
    "ExecuteTime": {
     "end_time": "2022-07-06T02:40:04.357836Z",
     "start_time": "2022-07-06T02:40:04.352603Z"
    }
   },
   "outputs": [
    {
     "name": "stdout",
     "output_type": "stream",
     "text": [
      "parameter success\n"
     ]
    }
   ],
   "source": [
    "####### 최종 Parameter\n",
    "parameter = {\n",
    "    \"uploadType\" : upload_type,\n",
    "    \"dataReadType\" : data_read_type,\n",
    "    \"dbName\" : db_name,\n",
    "    \"msName\" : ms_name,\n",
    "    \"filePath\" : path,\n",
    "    \"selectedDatas\" : selected_datas, # data read type 이 selectedData 인 경우 필요한 param\n",
    "    \"timeColumnName\" : time_column,\n",
    "    \"selectedColumns\" : selected_columns,\n",
    "    \"duplicatedTimeColumnProcessingMethod\" : dtcpm,\n",
    "    \"encoding\" : encoding\n",
    "}\n",
    "print(\"parameter success\")"
   ]
  },
  {
   "cell_type": "code",
   "execution_count": null,
   "id": "b4f1205c",
   "metadata": {},
   "outputs": [],
   "source": []
  },
  {
   "cell_type": "markdown",
   "id": "1d367021",
   "metadata": {},
   "source": [
    "# 2. Data Collect"
   ]
  },
  {
   "cell_type": "code",
   "execution_count": 11,
   "id": "c453016c",
   "metadata": {
    "ExecuteTime": {
     "end_time": "2022-07-06T02:40:04.449377Z",
     "start_time": "2022-07-06T02:40:04.360979Z"
    }
   },
   "outputs": [
    {
     "name": "stdout",
     "output_type": "stream",
     "text": [
      "===========data clean success===========\n",
      "Writing Data ...\n",
      "=========== ms name : test2 ===========\n",
      "            visitor  age0-20  age21-30  age31-40  age41-50\n",
      "time                                                      \n",
      "2020-03-01      585       14       232       128        60\n",
      "2020-04-01      155        6        38        33        14\n",
      "========== write success ==========\n"
     ]
    }
   ],
   "source": [
    "csv_collector = cC.Collector(parameter, db_client)\n",
    "csv_collector.collect()"
   ]
  },
  {
   "cell_type": "code",
   "execution_count": null,
   "id": "38053595",
   "metadata": {},
   "outputs": [],
   "source": []
  },
  {
   "cell_type": "markdown",
   "id": "04df441e",
   "metadata": {},
   "source": [
    "# 3. Example Input Data"
   ]
  },
  {
   "cell_type": "code",
   "execution_count": 12,
   "id": "c8b35c50",
   "metadata": {
    "ExecuteTime": {
     "end_time": "2022-07-06T02:40:04.467320Z",
     "start_time": "2022-07-06T02:40:04.451996Z"
    }
   },
   "outputs": [],
   "source": [
    "ex_data = pd.read_csv(path)"
   ]
  },
  {
   "cell_type": "code",
   "execution_count": 13,
   "id": "efdac971",
   "metadata": {
    "ExecuteTime": {
     "end_time": "2022-07-06T02:40:04.506267Z",
     "start_time": "2022-07-06T02:40:04.470920Z"
    }
   },
   "outputs": [
    {
     "data": {
      "text/html": [
       "<div>\n",
       "<style scoped>\n",
       "    .dataframe tbody tr th:only-of-type {\n",
       "        vertical-align: middle;\n",
       "    }\n",
       "\n",
       "    .dataframe tbody tr th {\n",
       "        vertical-align: top;\n",
       "    }\n",
       "\n",
       "    .dataframe thead th {\n",
       "        text-align: right;\n",
       "    }\n",
       "</style>\n",
       "<table border=\"1\" class=\"dataframe\">\n",
       "  <thead>\n",
       "    <tr style=\"text-align: right;\">\n",
       "      <th></th>\n",
       "      <th>date</th>\n",
       "      <th>nation</th>\n",
       "      <th>visitor</th>\n",
       "      <th>growth</th>\n",
       "      <th>share</th>\n",
       "      <th>age0-20</th>\n",
       "      <th>age21-30</th>\n",
       "      <th>age31-40</th>\n",
       "      <th>age41-50</th>\n",
       "      <th>age51-60</th>\n",
       "      <th>age61</th>\n",
       "    </tr>\n",
       "  </thead>\n",
       "  <tbody>\n",
       "    <tr>\n",
       "      <th>0</th>\n",
       "      <td>2019-1</td>\n",
       "      <td>China</td>\n",
       "      <td>392814</td>\n",
       "      <td>28.737870</td>\n",
       "      <td>35.555117</td>\n",
       "      <td>36520</td>\n",
       "      <td>108591</td>\n",
       "      <td>103657</td>\n",
       "      <td>48574</td>\n",
       "      <td>40893</td>\n",
       "      <td>40998</td>\n",
       "    </tr>\n",
       "    <tr>\n",
       "      <th>1</th>\n",
       "      <td>2019-1</td>\n",
       "      <td>Japan</td>\n",
       "      <td>206526</td>\n",
       "      <td>23.606830</td>\n",
       "      <td>18.693468</td>\n",
       "      <td>18015</td>\n",
       "      <td>57921</td>\n",
       "      <td>34165</td>\n",
       "      <td>39811</td>\n",
       "      <td>33857</td>\n",
       "      <td>20330</td>\n",
       "    </tr>\n",
       "    <tr>\n",
       "      <th>2</th>\n",
       "      <td>2019-1</td>\n",
       "      <td>Taiwan</td>\n",
       "      <td>87954</td>\n",
       "      <td>16.003693</td>\n",
       "      <td>7.961057</td>\n",
       "      <td>18888</td>\n",
       "      <td>17927</td>\n",
       "      <td>18595</td>\n",
       "      <td>18862</td>\n",
       "      <td>8169</td>\n",
       "      <td>4566</td>\n",
       "    </tr>\n",
       "    <tr>\n",
       "      <th>3</th>\n",
       "      <td>2019-1</td>\n",
       "      <td>Hong Kong</td>\n",
       "      <td>35896</td>\n",
       "      <td>3.533212</td>\n",
       "      <td>3.249086</td>\n",
       "      <td>3890</td>\n",
       "      <td>11384</td>\n",
       "      <td>7400</td>\n",
       "      <td>5461</td>\n",
       "      <td>4629</td>\n",
       "      <td>2137</td>\n",
       "    </tr>\n",
       "    <tr>\n",
       "      <th>4</th>\n",
       "      <td>2019-1</td>\n",
       "      <td>Macao</td>\n",
       "      <td>2570</td>\n",
       "      <td>-12.376406</td>\n",
       "      <td>0.232621</td>\n",
       "      <td>223</td>\n",
       "      <td>1013</td>\n",
       "      <td>762</td>\n",
       "      <td>264</td>\n",
       "      <td>181</td>\n",
       "      <td>92</td>\n",
       "    </tr>\n",
       "  </tbody>\n",
       "</table>\n",
       "</div>"
      ],
      "text/plain": [
       "     date     nation  visitor     growth      share  age0-20  age21-30  \\\n",
       "0  2019-1      China   392814  28.737870  35.555117    36520    108591   \n",
       "1  2019-1      Japan   206526  23.606830  18.693468    18015     57921   \n",
       "2  2019-1     Taiwan    87954  16.003693   7.961057    18888     17927   \n",
       "3  2019-1  Hong Kong    35896   3.533212   3.249086     3890     11384   \n",
       "4  2019-1      Macao     2570 -12.376406   0.232621      223      1013   \n",
       "\n",
       "   age31-40  age41-50  age51-60  age61  \n",
       "0    103657     48574     40893  40998  \n",
       "1     34165     39811     33857  20330  \n",
       "2     18595     18862      8169   4566  \n",
       "3      7400      5461      4629   2137  \n",
       "4       762       264       181     92  "
      ]
     },
     "execution_count": 13,
     "metadata": {},
     "output_type": "execute_result"
    }
   ],
   "source": [
    "ex_data.head()"
   ]
  },
  {
   "cell_type": "markdown",
   "id": "e27f09b5",
   "metadata": {},
   "source": [
    "# 4. Example Save Data "
   ]
  },
  {
   "cell_type": "code",
   "execution_count": 14,
   "id": "63f26e83",
   "metadata": {
    "ExecuteTime": {
     "end_time": "2022-07-06T02:40:04.585517Z",
     "start_time": "2022-07-06T02:40:04.509520Z"
    }
   },
   "outputs": [],
   "source": [
    "db_client = iC.influxClient(ins)\n",
    "save_data = db_client.get_data(db_name, ms_name)"
   ]
  },
  {
   "cell_type": "code",
   "execution_count": 15,
   "id": "2e95be9e",
   "metadata": {
    "ExecuteTime": {
     "end_time": "2022-07-06T02:40:04.611168Z",
     "start_time": "2022-07-06T02:40:04.588213Z"
    }
   },
   "outputs": [
    {
     "data": {
      "text/html": [
       "<div>\n",
       "<style scoped>\n",
       "    .dataframe tbody tr th:only-of-type {\n",
       "        vertical-align: middle;\n",
       "    }\n",
       "\n",
       "    .dataframe tbody tr th {\n",
       "        vertical-align: top;\n",
       "    }\n",
       "\n",
       "    .dataframe thead th {\n",
       "        text-align: right;\n",
       "    }\n",
       "</style>\n",
       "<table border=\"1\" class=\"dataframe\">\n",
       "  <thead>\n",
       "    <tr style=\"text-align: right;\">\n",
       "      <th></th>\n",
       "      <th>age0-20</th>\n",
       "      <th>age21-30</th>\n",
       "      <th>age31-40</th>\n",
       "      <th>age41-50</th>\n",
       "      <th>visitor</th>\n",
       "    </tr>\n",
       "    <tr>\n",
       "      <th>time</th>\n",
       "      <th></th>\n",
       "      <th></th>\n",
       "      <th></th>\n",
       "      <th></th>\n",
       "      <th></th>\n",
       "    </tr>\n",
       "  </thead>\n",
       "  <tbody>\n",
       "    <tr>\n",
       "      <th>2019-01-01 00:00:00+00:00</th>\n",
       "      <td>18888</td>\n",
       "      <td>17927</td>\n",
       "      <td>18595</td>\n",
       "      <td>18862</td>\n",
       "      <td>87954</td>\n",
       "    </tr>\n",
       "    <tr>\n",
       "      <th>2019-02-01 00:00:00+00:00</th>\n",
       "      <td>15862</td>\n",
       "      <td>22177</td>\n",
       "      <td>20705</td>\n",
       "      <td>17971</td>\n",
       "      <td>94559</td>\n",
       "    </tr>\n",
       "    <tr>\n",
       "      <th>2019-03-01 00:00:00+00:00</th>\n",
       "      <td>7613</td>\n",
       "      <td>24934</td>\n",
       "      <td>25101</td>\n",
       "      <td>17349</td>\n",
       "      <td>98510</td>\n",
       "    </tr>\n",
       "    <tr>\n",
       "      <th>2019-04-01 00:00:00+00:00</th>\n",
       "      <td>9518</td>\n",
       "      <td>23691</td>\n",
       "      <td>28047</td>\n",
       "      <td>20239</td>\n",
       "      <td>113072</td>\n",
       "    </tr>\n",
       "    <tr>\n",
       "      <th>2019-05-01 00:00:00+00:00</th>\n",
       "      <td>10262</td>\n",
       "      <td>21375</td>\n",
       "      <td>25044</td>\n",
       "      <td>18819</td>\n",
       "      <td>101779</td>\n",
       "    </tr>\n",
       "  </tbody>\n",
       "</table>\n",
       "</div>"
      ],
      "text/plain": [
       "                           age0-20  age21-30  age31-40  age41-50  visitor\n",
       "time                                                                     \n",
       "2019-01-01 00:00:00+00:00    18888     17927     18595     18862    87954\n",
       "2019-02-01 00:00:00+00:00    15862     22177     20705     17971    94559\n",
       "2019-03-01 00:00:00+00:00     7613     24934     25101     17349    98510\n",
       "2019-04-01 00:00:00+00:00     9518     23691     28047     20239   113072\n",
       "2019-05-01 00:00:00+00:00    10262     21375     25044     18819   101779"
      ]
     },
     "execution_count": 15,
     "metadata": {},
     "output_type": "execute_result"
    }
   ],
   "source": [
    "save_data.head()"
   ]
  },
  {
   "cell_type": "code",
   "execution_count": null,
   "id": "2942f5ea",
   "metadata": {},
   "outputs": [],
   "source": []
  },
  {
   "cell_type": "code",
   "execution_count": null,
   "id": "8c77761b",
   "metadata": {},
   "outputs": [],
   "source": []
  },
  {
   "cell_type": "code",
   "execution_count": null,
   "id": "1180a0b8",
   "metadata": {},
   "outputs": [],
   "source": []
  }
 ],
 "metadata": {
  "hide_input": false,
  "kernelspec": {
   "display_name": "Python 3 (ipykernel)",
   "language": "python",
   "name": "python3"
  },
  "language_info": {
   "codemirror_mode": {
    "name": "ipython",
    "version": 3
   },
   "file_extension": ".py",
   "mimetype": "text/x-python",
   "name": "python",
   "nbconvert_exporter": "python",
   "pygments_lexer": "ipython3",
   "version": "3.8.12"
  },
  "toc": {
   "base_numbering": 1,
   "nav_menu": {},
   "number_sections": true,
   "sideBar": true,
   "skip_h1_title": false,
   "title_cell": "Table of Contents",
   "title_sidebar": "Contents",
   "toc_cell": true,
   "toc_position": {
    "height": "calc(100% - 180px)",
    "left": "10px",
    "top": "150px",
    "width": "166.2px"
   },
   "toc_section_display": true,
   "toc_window_display": true
  }
 },
 "nbformat": 4,
 "nbformat_minor": 5
}
