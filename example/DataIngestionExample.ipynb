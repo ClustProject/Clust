{
 "cells": [
  {
   "cell_type": "markdown",
   "id": "3d53a1c3",
   "metadata": {},
   "source": [
    "# Database Connection"
   ]
  },
  {
   "cell_type": "markdown",
   "id": "a88974e7",
   "metadata": {},
   "source": [
    "### InfluxDB Connection Token"
   ]
  },
  {
   "cell_type": "code",
   "execution_count": 2,
   "id": "4943ddf9",
   "metadata": {},
   "outputs": [],
   "source": [
    "DataServer={\n",
    "        \"url\":'http://192.168.193.246:8086/',\n",
    "        \"token\":\"9nPfYPYfH3CglBSHnEJcmzRIdA7RNJ7oq3SNiufuc-Sze8u5kjf0jpmSNlgNEdCM-9B2kwjHmEgd_59475Rr5w==\",\n",
    "        \"org\":\"clust\"      \n",
    "}"
   ]
  },
  {
   "cell_type": "code",
   "execution_count": null,
   "id": "04341cef",
   "metadata": {},
   "outputs": [],
   "source": []
  },
  {
   "cell_type": "markdown",
   "id": "4dacbb21",
   "metadata": {},
   "source": [
    "## InfluxDB client"
   ]
  },
  {
   "cell_type": "code",
   "execution_count": 8,
   "id": "964d04c0",
   "metadata": {},
   "outputs": [],
   "source": [
    "from data_influx import influx_Client_v2 as influx_Client\n",
    "db_client = influx_Client.influxClient(DataServer)"
   ]
  },
  {
   "cell_type": "markdown",
   "id": "875e0575",
   "metadata": {},
   "source": [
    "### Get Database List"
   ]
  },
  {
   "cell_type": "code",
   "execution_count": 50,
   "id": "1cfd021d",
   "metadata": {},
   "outputs": [
    {
     "data": {
      "text/plain": [
       "['air_outdoor_keti_clean',\n",
       " 'farm_swine_air',\n",
       " 'air_outdoor_keti',\n",
       " 'weather_outdoor_keti',\n",
       " 'weather_outdoor_keti_clean',\n",
       " 'air_outdoor_kweather']"
      ]
     },
     "execution_count": 50,
     "metadata": {},
     "output_type": "execute_result"
    }
   ],
   "source": [
    "db_list = db_client.get_DBList()\n",
    "db_list"
   ]
  },
  {
   "cell_type": "markdown",
   "id": "2e2d6f88",
   "metadata": {},
   "source": [
    "### Get Measurement List"
   ]
  },
  {
   "cell_type": "code",
   "execution_count": 19,
   "id": "8b0128c4",
   "metadata": {},
   "outputs": [],
   "source": [
    "db_name = 'farm_swine_air'"
   ]
  },
  {
   "cell_type": "code",
   "execution_count": 51,
   "id": "4a6edc51",
   "metadata": {},
   "outputs": [
    {
     "data": {
      "text/plain": [
       "['HS1', 'HS2', 'KDS1', 'KDS2', 'Sadle']"
      ]
     },
     "execution_count": 51,
     "metadata": {},
     "output_type": "execute_result"
    }
   ],
   "source": [
    "ms_list = db_client.measurement_list(db_name)\n",
    "ms_list"
   ]
  },
  {
   "cell_type": "markdown",
   "id": "43711fc6",
   "metadata": {},
   "source": [
    "### Get Field List"
   ]
  },
  {
   "cell_type": "code",
   "execution_count": 22,
   "id": "86945474",
   "metadata": {},
   "outputs": [],
   "source": [
    "ms_name = 'HS1'"
   ]
  },
  {
   "cell_type": "code",
   "execution_count": 24,
   "id": "f04406fc",
   "metadata": {},
   "outputs": [
    {
     "data": {
      "text/plain": [
       "['NH3ppm', 'Humidity', 'CO2ppm', 'Temperature', 'H2Sppm']"
      ]
     },
     "execution_count": 24,
     "metadata": {},
     "output_type": "execute_result"
    }
   ],
   "source": [
    "field_list = db_client.get_fieldList(db_name, ms_name)\n",
    "field_list"
   ]
  },
  {
   "cell_type": "code",
   "execution_count": null,
   "id": "0a009d58",
   "metadata": {},
   "outputs": [],
   "source": []
  },
  {
   "cell_type": "markdown",
   "id": "df2afe47",
   "metadata": {},
   "source": [
    "## Get Data Function"
   ]
  },
  {
   "cell_type": "markdown",
   "id": "c411de13",
   "metadata": {},
   "source": [
    "### Get All Data"
   ]
  },
  {
   "cell_type": "code",
   "execution_count": 25,
   "id": "dd89a5f7",
   "metadata": {},
   "outputs": [
    {
     "data": {
      "text/html": [
       "<div>\n",
       "<style scoped>\n",
       "    .dataframe tbody tr th:only-of-type {\n",
       "        vertical-align: middle;\n",
       "    }\n",
       "\n",
       "    .dataframe tbody tr th {\n",
       "        vertical-align: top;\n",
       "    }\n",
       "\n",
       "    .dataframe thead th {\n",
       "        text-align: right;\n",
       "    }\n",
       "</style>\n",
       "<table border=\"1\" class=\"dataframe\">\n",
       "  <thead>\n",
       "    <tr style=\"text-align: right;\">\n",
       "      <th></th>\n",
       "      <th>CO2ppm</th>\n",
       "      <th>H2Sppm</th>\n",
       "      <th>Humidity</th>\n",
       "      <th>NH3ppm</th>\n",
       "      <th>Temperature</th>\n",
       "    </tr>\n",
       "    <tr>\n",
       "      <th>time</th>\n",
       "      <th></th>\n",
       "      <th></th>\n",
       "      <th></th>\n",
       "      <th></th>\n",
       "      <th></th>\n",
       "    </tr>\n",
       "  </thead>\n",
       "  <tbody>\n",
       "    <tr>\n",
       "      <th>2020-09-10 00:36:00+00:00</th>\n",
       "      <td>637.0</td>\n",
       "      <td>5.0</td>\n",
       "      <td>74.0</td>\n",
       "      <td>45.0</td>\n",
       "      <td>24.0</td>\n",
       "    </tr>\n",
       "    <tr>\n",
       "      <th>2020-09-10 00:38:00+00:00</th>\n",
       "      <td>360.0</td>\n",
       "      <td>2.0</td>\n",
       "      <td>74.0</td>\n",
       "      <td>37.0</td>\n",
       "      <td>24.0</td>\n",
       "    </tr>\n",
       "    <tr>\n",
       "      <th>2020-09-10 00:40:00+00:00</th>\n",
       "      <td>465.0</td>\n",
       "      <td>3.0</td>\n",
       "      <td>73.0</td>\n",
       "      <td>31.0</td>\n",
       "      <td>24.0</td>\n",
       "    </tr>\n",
       "    <tr>\n",
       "      <th>2020-09-10 00:42:00+00:00</th>\n",
       "      <td>518.0</td>\n",
       "      <td>2.0</td>\n",
       "      <td>73.0</td>\n",
       "      <td>27.0</td>\n",
       "      <td>24.0</td>\n",
       "    </tr>\n",
       "    <tr>\n",
       "      <th>2020-09-10 00:44:00+00:00</th>\n",
       "      <td>670.0</td>\n",
       "      <td>2.0</td>\n",
       "      <td>73.0</td>\n",
       "      <td>24.0</td>\n",
       "      <td>24.0</td>\n",
       "    </tr>\n",
       "    <tr>\n",
       "      <th>...</th>\n",
       "      <td>...</td>\n",
       "      <td>...</td>\n",
       "      <td>...</td>\n",
       "      <td>...</td>\n",
       "      <td>...</td>\n",
       "    </tr>\n",
       "    <tr>\n",
       "      <th>2021-04-03 19:54:00+00:00</th>\n",
       "      <td>945.0</td>\n",
       "      <td>3.0</td>\n",
       "      <td>NaN</td>\n",
       "      <td>0.0</td>\n",
       "      <td>NaN</td>\n",
       "    </tr>\n",
       "    <tr>\n",
       "      <th>2021-04-03 19:55:00+00:00</th>\n",
       "      <td>NaN</td>\n",
       "      <td>NaN</td>\n",
       "      <td>11.0</td>\n",
       "      <td>NaN</td>\n",
       "      <td>95.0</td>\n",
       "    </tr>\n",
       "    <tr>\n",
       "      <th>2021-04-03 19:56:00+00:00</th>\n",
       "      <td>1111.0</td>\n",
       "      <td>2.0</td>\n",
       "      <td>NaN</td>\n",
       "      <td>0.0</td>\n",
       "      <td>NaN</td>\n",
       "    </tr>\n",
       "    <tr>\n",
       "      <th>2021-04-03 19:57:00+00:00</th>\n",
       "      <td>NaN</td>\n",
       "      <td>NaN</td>\n",
       "      <td>11.0</td>\n",
       "      <td>NaN</td>\n",
       "      <td>95.0</td>\n",
       "    </tr>\n",
       "    <tr>\n",
       "      <th>2021-04-03 19:58:00+00:00</th>\n",
       "      <td>994.0</td>\n",
       "      <td>2.0</td>\n",
       "      <td>NaN</td>\n",
       "      <td>0.0</td>\n",
       "      <td>NaN</td>\n",
       "    </tr>\n",
       "  </tbody>\n",
       "</table>\n",
       "<p>154255 rows × 5 columns</p>\n",
       "</div>"
      ],
      "text/plain": [
       "                           CO2ppm  H2Sppm  Humidity  NH3ppm  Temperature\n",
       "time                                                                    \n",
       "2020-09-10 00:36:00+00:00   637.0     5.0      74.0    45.0         24.0\n",
       "2020-09-10 00:38:00+00:00   360.0     2.0      74.0    37.0         24.0\n",
       "2020-09-10 00:40:00+00:00   465.0     3.0      73.0    31.0         24.0\n",
       "2020-09-10 00:42:00+00:00   518.0     2.0      73.0    27.0         24.0\n",
       "2020-09-10 00:44:00+00:00   670.0     2.0      73.0    24.0         24.0\n",
       "...                           ...     ...       ...     ...          ...\n",
       "2021-04-03 19:54:00+00:00   945.0     3.0       NaN     0.0          NaN\n",
       "2021-04-03 19:55:00+00:00     NaN     NaN      11.0     NaN         95.0\n",
       "2021-04-03 19:56:00+00:00  1111.0     2.0       NaN     0.0          NaN\n",
       "2021-04-03 19:57:00+00:00     NaN     NaN      11.0     NaN         95.0\n",
       "2021-04-03 19:58:00+00:00   994.0     2.0       NaN     0.0          NaN\n",
       "\n",
       "[154255 rows x 5 columns]"
      ]
     },
     "execution_count": 25,
     "metadata": {},
     "output_type": "execute_result"
    }
   ],
   "source": [
    "all_data = db_client.get_data(db_name, ms_name)\n",
    "all_data"
   ]
  },
  {
   "cell_type": "markdown",
   "id": "e1be8386",
   "metadata": {},
   "source": [
    "### Get First Time"
   ]
  },
  {
   "cell_type": "code",
   "execution_count": 26,
   "id": "afbc0d33",
   "metadata": {},
   "outputs": [
    {
     "data": {
      "text/plain": [
       "Timestamp('2020-09-10 00:36:00+0000', tz='tzutc()')"
      ]
     },
     "execution_count": 26,
     "metadata": {},
     "output_type": "execute_result"
    }
   ],
   "source": [
    "first_time = db_client.get_first_time(db_name, ms_name)\n",
    "first_time"
   ]
  },
  {
   "cell_type": "markdown",
   "id": "d6ac2cce",
   "metadata": {},
   "source": [
    "### Get Last Time"
   ]
  },
  {
   "cell_type": "code",
   "execution_count": 29,
   "id": "e026ba90",
   "metadata": {},
   "outputs": [
    {
     "data": {
      "text/plain": [
       "Timestamp('2021-04-03 19:58:00+0000', tz='tzutc()')"
      ]
     },
     "execution_count": 29,
     "metadata": {},
     "output_type": "execute_result"
    }
   ],
   "source": [
    "last_time = db_client.get_last_time(db_name, ms_name)\n",
    "last_time"
   ]
  },
  {
   "cell_type": "markdown",
   "id": "4f8184b8",
   "metadata": {},
   "source": [
    "### Get duration Data"
   ]
  },
  {
   "cell_type": "code",
   "execution_count": 32,
   "id": "87fde25b",
   "metadata": {},
   "outputs": [],
   "source": [
    "start_time = \"2021-01-01 00:00:00\"\n",
    "end_time = \"2021-02-28 23:59:59\""
   ]
  },
  {
   "cell_type": "code",
   "execution_count": 34,
   "id": "3f1d8f2d",
   "metadata": {},
   "outputs": [
    {
     "data": {
      "text/html": [
       "<div>\n",
       "<style scoped>\n",
       "    .dataframe tbody tr th:only-of-type {\n",
       "        vertical-align: middle;\n",
       "    }\n",
       "\n",
       "    .dataframe tbody tr th {\n",
       "        vertical-align: top;\n",
       "    }\n",
       "\n",
       "    .dataframe thead th {\n",
       "        text-align: right;\n",
       "    }\n",
       "</style>\n",
       "<table border=\"1\" class=\"dataframe\">\n",
       "  <thead>\n",
       "    <tr style=\"text-align: right;\">\n",
       "      <th></th>\n",
       "      <th>CO2ppm</th>\n",
       "      <th>H2Sppm</th>\n",
       "      <th>Humidity</th>\n",
       "      <th>NH3ppm</th>\n",
       "      <th>Temperature</th>\n",
       "    </tr>\n",
       "    <tr>\n",
       "      <th>time</th>\n",
       "      <th></th>\n",
       "      <th></th>\n",
       "      <th></th>\n",
       "      <th></th>\n",
       "      <th></th>\n",
       "    </tr>\n",
       "  </thead>\n",
       "  <tbody>\n",
       "    <tr>\n",
       "      <th>2021-01-01 00:00:00+00:00</th>\n",
       "      <td>916.0</td>\n",
       "      <td>9.0</td>\n",
       "      <td>-5.0</td>\n",
       "      <td>0.0</td>\n",
       "      <td>68.0</td>\n",
       "    </tr>\n",
       "    <tr>\n",
       "      <th>2021-01-01 00:02:00+00:00</th>\n",
       "      <td>907.0</td>\n",
       "      <td>5.0</td>\n",
       "      <td>-5.0</td>\n",
       "      <td>0.0</td>\n",
       "      <td>68.0</td>\n",
       "    </tr>\n",
       "    <tr>\n",
       "      <th>2021-01-01 00:04:00+00:00</th>\n",
       "      <td>924.0</td>\n",
       "      <td>4.0</td>\n",
       "      <td>-5.0</td>\n",
       "      <td>0.0</td>\n",
       "      <td>68.0</td>\n",
       "    </tr>\n",
       "    <tr>\n",
       "      <th>2021-01-01 00:06:00+00:00</th>\n",
       "      <td>919.0</td>\n",
       "      <td>6.0</td>\n",
       "      <td>-5.0</td>\n",
       "      <td>0.0</td>\n",
       "      <td>68.0</td>\n",
       "    </tr>\n",
       "    <tr>\n",
       "      <th>2021-01-01 00:08:00+00:00</th>\n",
       "      <td>923.0</td>\n",
       "      <td>5.0</td>\n",
       "      <td>-5.0</td>\n",
       "      <td>0.0</td>\n",
       "      <td>67.0</td>\n",
       "    </tr>\n",
       "    <tr>\n",
       "      <th>...</th>\n",
       "      <td>...</td>\n",
       "      <td>...</td>\n",
       "      <td>...</td>\n",
       "      <td>...</td>\n",
       "      <td>...</td>\n",
       "    </tr>\n",
       "    <tr>\n",
       "      <th>2021-02-28 23:50:00+00:00</th>\n",
       "      <td>1104.0</td>\n",
       "      <td>2.0</td>\n",
       "      <td>6.0</td>\n",
       "      <td>0.0</td>\n",
       "      <td>93.0</td>\n",
       "    </tr>\n",
       "    <tr>\n",
       "      <th>2021-02-28 23:52:00+00:00</th>\n",
       "      <td>1069.0</td>\n",
       "      <td>6.0</td>\n",
       "      <td>6.0</td>\n",
       "      <td>0.0</td>\n",
       "      <td>93.0</td>\n",
       "    </tr>\n",
       "    <tr>\n",
       "      <th>2021-02-28 23:54:00+00:00</th>\n",
       "      <td>898.0</td>\n",
       "      <td>7.0</td>\n",
       "      <td>6.0</td>\n",
       "      <td>0.0</td>\n",
       "      <td>93.0</td>\n",
       "    </tr>\n",
       "    <tr>\n",
       "      <th>2021-02-28 23:56:00+00:00</th>\n",
       "      <td>937.0</td>\n",
       "      <td>3.0</td>\n",
       "      <td>6.0</td>\n",
       "      <td>0.0</td>\n",
       "      <td>92.0</td>\n",
       "    </tr>\n",
       "    <tr>\n",
       "      <th>2021-02-28 23:58:00+00:00</th>\n",
       "      <td>1088.0</td>\n",
       "      <td>2.0</td>\n",
       "      <td>6.0</td>\n",
       "      <td>0.0</td>\n",
       "      <td>92.0</td>\n",
       "    </tr>\n",
       "  </tbody>\n",
       "</table>\n",
       "<p>42480 rows × 5 columns</p>\n",
       "</div>"
      ],
      "text/plain": [
       "                           CO2ppm  H2Sppm  Humidity  NH3ppm  Temperature\n",
       "time                                                                    \n",
       "2021-01-01 00:00:00+00:00   916.0     9.0      -5.0     0.0         68.0\n",
       "2021-01-01 00:02:00+00:00   907.0     5.0      -5.0     0.0         68.0\n",
       "2021-01-01 00:04:00+00:00   924.0     4.0      -5.0     0.0         68.0\n",
       "2021-01-01 00:06:00+00:00   919.0     6.0      -5.0     0.0         68.0\n",
       "2021-01-01 00:08:00+00:00   923.0     5.0      -5.0     0.0         67.0\n",
       "...                           ...     ...       ...     ...          ...\n",
       "2021-02-28 23:50:00+00:00  1104.0     2.0       6.0     0.0         93.0\n",
       "2021-02-28 23:52:00+00:00  1069.0     6.0       6.0     0.0         93.0\n",
       "2021-02-28 23:54:00+00:00   898.0     7.0       6.0     0.0         93.0\n",
       "2021-02-28 23:56:00+00:00   937.0     3.0       6.0     0.0         92.0\n",
       "2021-02-28 23:58:00+00:00  1088.0     2.0       6.0     0.0         92.0\n",
       "\n",
       "[42480 rows x 5 columns]"
      ]
     },
     "execution_count": 34,
     "metadata": {},
     "output_type": "execute_result"
    }
   ],
   "source": [
    "data_by_time = db_client.get_data_by_time(start_time, end_time, db_name, ms_name)\n",
    "data_by_time"
   ]
  },
  {
   "cell_type": "code",
   "execution_count": 37,
   "id": "291eaeda",
   "metadata": {},
   "outputs": [],
   "source": [
    "end_time = \"2021-03-10 00:00:00\"\n",
    "days=7"
   ]
  },
  {
   "cell_type": "code",
   "execution_count": 39,
   "id": "1cc7222d",
   "metadata": {},
   "outputs": [
    {
     "data": {
      "text/html": [
       "<div>\n",
       "<style scoped>\n",
       "    .dataframe tbody tr th:only-of-type {\n",
       "        vertical-align: middle;\n",
       "    }\n",
       "\n",
       "    .dataframe tbody tr th {\n",
       "        vertical-align: top;\n",
       "    }\n",
       "\n",
       "    .dataframe thead th {\n",
       "        text-align: right;\n",
       "    }\n",
       "</style>\n",
       "<table border=\"1\" class=\"dataframe\">\n",
       "  <thead>\n",
       "    <tr style=\"text-align: right;\">\n",
       "      <th></th>\n",
       "      <th>CO2ppm</th>\n",
       "      <th>H2Sppm</th>\n",
       "      <th>Humidity</th>\n",
       "      <th>NH3ppm</th>\n",
       "      <th>Temperature</th>\n",
       "    </tr>\n",
       "    <tr>\n",
       "      <th>time</th>\n",
       "      <th></th>\n",
       "      <th></th>\n",
       "      <th></th>\n",
       "      <th></th>\n",
       "      <th></th>\n",
       "    </tr>\n",
       "  </thead>\n",
       "  <tbody>\n",
       "    <tr>\n",
       "      <th>2021-03-03 00:00:00+00:00</th>\n",
       "      <td>969.0</td>\n",
       "      <td>8.0</td>\n",
       "      <td>0.0</td>\n",
       "      <td>1.0</td>\n",
       "      <td>91.0</td>\n",
       "    </tr>\n",
       "    <tr>\n",
       "      <th>2021-03-03 00:02:00+00:00</th>\n",
       "      <td>954.0</td>\n",
       "      <td>3.0</td>\n",
       "      <td>0.0</td>\n",
       "      <td>1.0</td>\n",
       "      <td>90.0</td>\n",
       "    </tr>\n",
       "    <tr>\n",
       "      <th>2021-03-03 00:04:00+00:00</th>\n",
       "      <td>1011.0</td>\n",
       "      <td>3.0</td>\n",
       "      <td>0.0</td>\n",
       "      <td>NaN</td>\n",
       "      <td>90.0</td>\n",
       "    </tr>\n",
       "    <tr>\n",
       "      <th>2021-03-03 00:06:00+00:00</th>\n",
       "      <td>1071.0</td>\n",
       "      <td>4.0</td>\n",
       "      <td>0.0</td>\n",
       "      <td>1.0</td>\n",
       "      <td>90.0</td>\n",
       "    </tr>\n",
       "    <tr>\n",
       "      <th>2021-03-03 00:08:00+00:00</th>\n",
       "      <td>1070.0</td>\n",
       "      <td>3.0</td>\n",
       "      <td>0.0</td>\n",
       "      <td>NaN</td>\n",
       "      <td>90.0</td>\n",
       "    </tr>\n",
       "    <tr>\n",
       "      <th>...</th>\n",
       "      <td>...</td>\n",
       "      <td>...</td>\n",
       "      <td>...</td>\n",
       "      <td>...</td>\n",
       "      <td>...</td>\n",
       "    </tr>\n",
       "    <tr>\n",
       "      <th>2021-04-03 19:54:00+00:00</th>\n",
       "      <td>945.0</td>\n",
       "      <td>3.0</td>\n",
       "      <td>NaN</td>\n",
       "      <td>0.0</td>\n",
       "      <td>NaN</td>\n",
       "    </tr>\n",
       "    <tr>\n",
       "      <th>2021-04-03 19:55:00+00:00</th>\n",
       "      <td>NaN</td>\n",
       "      <td>NaN</td>\n",
       "      <td>11.0</td>\n",
       "      <td>NaN</td>\n",
       "      <td>95.0</td>\n",
       "    </tr>\n",
       "    <tr>\n",
       "      <th>2021-04-03 19:56:00+00:00</th>\n",
       "      <td>1111.0</td>\n",
       "      <td>2.0</td>\n",
       "      <td>NaN</td>\n",
       "      <td>0.0</td>\n",
       "      <td>NaN</td>\n",
       "    </tr>\n",
       "    <tr>\n",
       "      <th>2021-04-03 19:57:00+00:00</th>\n",
       "      <td>NaN</td>\n",
       "      <td>NaN</td>\n",
       "      <td>11.0</td>\n",
       "      <td>NaN</td>\n",
       "      <td>95.0</td>\n",
       "    </tr>\n",
       "    <tr>\n",
       "      <th>2021-04-03 19:58:00+00:00</th>\n",
       "      <td>994.0</td>\n",
       "      <td>2.0</td>\n",
       "      <td>NaN</td>\n",
       "      <td>0.0</td>\n",
       "      <td>NaN</td>\n",
       "    </tr>\n",
       "  </tbody>\n",
       "</table>\n",
       "<p>28993 rows × 5 columns</p>\n",
       "</div>"
      ],
      "text/plain": [
       "                           CO2ppm  H2Sppm  Humidity  NH3ppm  Temperature\n",
       "time                                                                    \n",
       "2021-03-03 00:00:00+00:00   969.0     8.0       0.0     1.0         91.0\n",
       "2021-03-03 00:02:00+00:00   954.0     3.0       0.0     1.0         90.0\n",
       "2021-03-03 00:04:00+00:00  1011.0     3.0       0.0     NaN         90.0\n",
       "2021-03-03 00:06:00+00:00  1071.0     4.0       0.0     1.0         90.0\n",
       "2021-03-03 00:08:00+00:00  1070.0     3.0       0.0     NaN         90.0\n",
       "...                           ...     ...       ...     ...          ...\n",
       "2021-04-03 19:54:00+00:00   945.0     3.0       NaN     0.0          NaN\n",
       "2021-04-03 19:55:00+00:00     NaN     NaN      11.0     NaN         95.0\n",
       "2021-04-03 19:56:00+00:00  1111.0     2.0       NaN     0.0          NaN\n",
       "2021-04-03 19:57:00+00:00     NaN     NaN      11.0     NaN         95.0\n",
       "2021-04-03 19:58:00+00:00   994.0     2.0       NaN     0.0          NaN\n",
       "\n",
       "[28993 rows x 5 columns]"
      ]
     },
     "execution_count": 39,
     "metadata": {},
     "output_type": "execute_result"
    }
   ],
   "source": [
    "# duration : (end_time - days) ~ last_time\n",
    "data_by_days = db_client.get_data_by_days(end_time, days, db_name, ms_name)\n",
    "data_by_days"
   ]
  },
  {
   "cell_type": "code",
   "execution_count": 40,
   "id": "f7b29eeb",
   "metadata": {},
   "outputs": [],
   "source": [
    "number = 3"
   ]
  },
  {
   "cell_type": "code",
   "execution_count": 52,
   "id": "b8b9e777",
   "metadata": {},
   "outputs": [
    {
     "data": {
      "text/html": [
       "<div>\n",
       "<style scoped>\n",
       "    .dataframe tbody tr th:only-of-type {\n",
       "        vertical-align: middle;\n",
       "    }\n",
       "\n",
       "    .dataframe tbody tr th {\n",
       "        vertical-align: top;\n",
       "    }\n",
       "\n",
       "    .dataframe thead th {\n",
       "        text-align: right;\n",
       "    }\n",
       "</style>\n",
       "<table border=\"1\" class=\"dataframe\">\n",
       "  <thead>\n",
       "    <tr style=\"text-align: right;\">\n",
       "      <th></th>\n",
       "      <th>CO2ppm</th>\n",
       "      <th>H2Sppm</th>\n",
       "      <th>Humidity</th>\n",
       "      <th>NH3ppm</th>\n",
       "      <th>Temperature</th>\n",
       "    </tr>\n",
       "    <tr>\n",
       "      <th>time</th>\n",
       "      <th></th>\n",
       "      <th></th>\n",
       "      <th></th>\n",
       "      <th></th>\n",
       "      <th></th>\n",
       "    </tr>\n",
       "  </thead>\n",
       "  <tbody>\n",
       "    <tr>\n",
       "      <th>2020-09-10 00:36:00+00:00</th>\n",
       "      <td>637.0</td>\n",
       "      <td>5.0</td>\n",
       "      <td>74.0</td>\n",
       "      <td>45.0</td>\n",
       "      <td>24.0</td>\n",
       "    </tr>\n",
       "    <tr>\n",
       "      <th>2020-09-10 00:38:00+00:00</th>\n",
       "      <td>360.0</td>\n",
       "      <td>2.0</td>\n",
       "      <td>74.0</td>\n",
       "      <td>37.0</td>\n",
       "      <td>24.0</td>\n",
       "    </tr>\n",
       "    <tr>\n",
       "      <th>2020-09-10 00:40:00+00:00</th>\n",
       "      <td>465.0</td>\n",
       "      <td>3.0</td>\n",
       "      <td>73.0</td>\n",
       "      <td>31.0</td>\n",
       "      <td>24.0</td>\n",
       "    </tr>\n",
       "    <tr>\n",
       "      <th>2020-09-10 00:42:00+00:00</th>\n",
       "      <td>518.0</td>\n",
       "      <td>2.0</td>\n",
       "      <td>73.0</td>\n",
       "      <td>27.0</td>\n",
       "      <td>24.0</td>\n",
       "    </tr>\n",
       "    <tr>\n",
       "      <th>2020-09-10 00:44:00+00:00</th>\n",
       "      <td>670.0</td>\n",
       "      <td>2.0</td>\n",
       "      <td>73.0</td>\n",
       "      <td>24.0</td>\n",
       "      <td>24.0</td>\n",
       "    </tr>\n",
       "    <tr>\n",
       "      <th>2020-09-10 00:46:00+00:00</th>\n",
       "      <td>-1.0</td>\n",
       "      <td>NaN</td>\n",
       "      <td>NaN</td>\n",
       "      <td>NaN</td>\n",
       "      <td>NaN</td>\n",
       "    </tr>\n",
       "    <tr>\n",
       "      <th>2020-09-10 00:48:00+00:00</th>\n",
       "      <td>-1.0</td>\n",
       "      <td>NaN</td>\n",
       "      <td>NaN</td>\n",
       "      <td>NaN</td>\n",
       "      <td>NaN</td>\n",
       "    </tr>\n",
       "    <tr>\n",
       "      <th>2020-09-10 00:50:00+00:00</th>\n",
       "      <td>-1.0</td>\n",
       "      <td>NaN</td>\n",
       "      <td>NaN</td>\n",
       "      <td>NaN</td>\n",
       "      <td>NaN</td>\n",
       "    </tr>\n",
       "    <tr>\n",
       "      <th>2020-09-10 00:52:00+00:00</th>\n",
       "      <td>-1.0</td>\n",
       "      <td>NaN</td>\n",
       "      <td>NaN</td>\n",
       "      <td>NaN</td>\n",
       "      <td>NaN</td>\n",
       "    </tr>\n",
       "    <tr>\n",
       "      <th>2020-09-10 00:54:00+00:00</th>\n",
       "      <td>-1.0</td>\n",
       "      <td>NaN</td>\n",
       "      <td>NaN</td>\n",
       "      <td>NaN</td>\n",
       "      <td>NaN</td>\n",
       "    </tr>\n",
       "  </tbody>\n",
       "</table>\n",
       "</div>"
      ],
      "text/plain": [
       "                           CO2ppm  H2Sppm  Humidity  NH3ppm  Temperature\n",
       "time                                                                    \n",
       "2020-09-10 00:36:00+00:00   637.0     5.0      74.0    45.0         24.0\n",
       "2020-09-10 00:38:00+00:00   360.0     2.0      74.0    37.0         24.0\n",
       "2020-09-10 00:40:00+00:00   465.0     3.0      73.0    31.0         24.0\n",
       "2020-09-10 00:42:00+00:00   518.0     2.0      73.0    27.0         24.0\n",
       "2020-09-10 00:44:00+00:00   670.0     2.0      73.0    24.0         24.0\n",
       "2020-09-10 00:46:00+00:00    -1.0     NaN       NaN     NaN          NaN\n",
       "2020-09-10 00:48:00+00:00    -1.0     NaN       NaN     NaN          NaN\n",
       "2020-09-10 00:50:00+00:00    -1.0     NaN       NaN     NaN          NaN\n",
       "2020-09-10 00:52:00+00:00    -1.0     NaN       NaN     NaN          NaN\n",
       "2020-09-10 00:54:00+00:00    -1.0     NaN       NaN     NaN          NaN"
      ]
     },
     "execution_count": 52,
     "metadata": {},
     "output_type": "execute_result"
    }
   ],
   "source": [
    "# number 개수만큼 데이터 가져오기\n",
    "front_by_num = db_client.get_datafront_by_num(number, db_name, ms_name)\n",
    "front_by_num"
   ]
  },
  {
   "cell_type": "code",
   "execution_count": 44,
   "id": "6f888a3b",
   "metadata": {},
   "outputs": [
    {
     "data": {
      "text/html": [
       "<div>\n",
       "<style scoped>\n",
       "    .dataframe tbody tr th:only-of-type {\n",
       "        vertical-align: middle;\n",
       "    }\n",
       "\n",
       "    .dataframe tbody tr th {\n",
       "        vertical-align: top;\n",
       "    }\n",
       "\n",
       "    .dataframe thead th {\n",
       "        text-align: right;\n",
       "    }\n",
       "</style>\n",
       "<table border=\"1\" class=\"dataframe\">\n",
       "  <thead>\n",
       "    <tr style=\"text-align: right;\">\n",
       "      <th></th>\n",
       "      <th>CO2ppm</th>\n",
       "      <th>H2Sppm</th>\n",
       "      <th>Humidity</th>\n",
       "      <th>NH3ppm</th>\n",
       "      <th>Temperature</th>\n",
       "    </tr>\n",
       "    <tr>\n",
       "      <th>time</th>\n",
       "      <th></th>\n",
       "      <th></th>\n",
       "      <th></th>\n",
       "      <th></th>\n",
       "      <th></th>\n",
       "    </tr>\n",
       "  </thead>\n",
       "  <tbody>\n",
       "    <tr>\n",
       "      <th>2021-03-24 21:59:00+00:00</th>\n",
       "      <td>None</td>\n",
       "      <td>None</td>\n",
       "      <td>None</td>\n",
       "      <td>None</td>\n",
       "      <td>73.0</td>\n",
       "    </tr>\n",
       "    <tr>\n",
       "      <th>2021-04-03 18:27:00+00:00</th>\n",
       "      <td>None</td>\n",
       "      <td>None</td>\n",
       "      <td>None</td>\n",
       "      <td>None</td>\n",
       "      <td>96.0</td>\n",
       "    </tr>\n",
       "    <tr>\n",
       "      <th>2021-04-03 19:01:00+00:00</th>\n",
       "      <td>None</td>\n",
       "      <td>None</td>\n",
       "      <td>None</td>\n",
       "      <td>None</td>\n",
       "      <td>94.0</td>\n",
       "    </tr>\n",
       "  </tbody>\n",
       "</table>\n",
       "</div>"
      ],
      "text/plain": [
       "                          CO2ppm H2Sppm Humidity NH3ppm  Temperature\n",
       "time                                                                \n",
       "2021-03-24 21:59:00+00:00   None   None     None   None         73.0\n",
       "2021-04-03 18:27:00+00:00   None   None     None   None         96.0\n",
       "2021-04-03 19:01:00+00:00   None   None     None   None         94.0"
      ]
     },
     "execution_count": 44,
     "metadata": {},
     "output_type": "execute_result"
    }
   ],
   "source": [
    "# number 개수만큼 마지막 데이터 가져오기\n",
    "end_by_num = db_client.get_dataend_by_num(number, db_name, ms_name)\n",
    "end_by_num"
   ]
  },
  {
   "cell_type": "code",
   "execution_count": 45,
   "id": "0168f750",
   "metadata": {},
   "outputs": [],
   "source": [
    "start_time = \"2021-01-01 00:00:00\"\n",
    "end_time = \"2021-02-01 00:00:00\"\n",
    "number = 10"
   ]
  },
  {
   "cell_type": "code",
   "execution_count": 46,
   "id": "89291424",
   "metadata": {},
   "outputs": [
    {
     "data": {
      "text/html": [
       "<div>\n",
       "<style scoped>\n",
       "    .dataframe tbody tr th:only-of-type {\n",
       "        vertical-align: middle;\n",
       "    }\n",
       "\n",
       "    .dataframe tbody tr th {\n",
       "        vertical-align: top;\n",
       "    }\n",
       "\n",
       "    .dataframe thead th {\n",
       "        text-align: right;\n",
       "    }\n",
       "</style>\n",
       "<table border=\"1\" class=\"dataframe\">\n",
       "  <thead>\n",
       "    <tr style=\"text-align: right;\">\n",
       "      <th></th>\n",
       "      <th>CO2ppm</th>\n",
       "      <th>H2Sppm</th>\n",
       "      <th>Humidity</th>\n",
       "      <th>NH3ppm</th>\n",
       "      <th>Temperature</th>\n",
       "    </tr>\n",
       "    <tr>\n",
       "      <th>time</th>\n",
       "      <th></th>\n",
       "      <th></th>\n",
       "      <th></th>\n",
       "      <th></th>\n",
       "      <th></th>\n",
       "    </tr>\n",
       "  </thead>\n",
       "  <tbody>\n",
       "    <tr>\n",
       "      <th>2021-01-01 00:00:00+00:00</th>\n",
       "      <td>916.0</td>\n",
       "      <td>9.0</td>\n",
       "      <td>-5.0</td>\n",
       "      <td>0.0</td>\n",
       "      <td>68.0</td>\n",
       "    </tr>\n",
       "    <tr>\n",
       "      <th>2021-01-01 00:02:00+00:00</th>\n",
       "      <td>907.0</td>\n",
       "      <td>5.0</td>\n",
       "      <td>-5.0</td>\n",
       "      <td>0.0</td>\n",
       "      <td>68.0</td>\n",
       "    </tr>\n",
       "    <tr>\n",
       "      <th>2021-01-01 00:04:00+00:00</th>\n",
       "      <td>924.0</td>\n",
       "      <td>4.0</td>\n",
       "      <td>-5.0</td>\n",
       "      <td>0.0</td>\n",
       "      <td>68.0</td>\n",
       "    </tr>\n",
       "    <tr>\n",
       "      <th>2021-01-01 00:06:00+00:00</th>\n",
       "      <td>919.0</td>\n",
       "      <td>6.0</td>\n",
       "      <td>-5.0</td>\n",
       "      <td>0.0</td>\n",
       "      <td>68.0</td>\n",
       "    </tr>\n",
       "    <tr>\n",
       "      <th>2021-01-01 00:08:00+00:00</th>\n",
       "      <td>923.0</td>\n",
       "      <td>5.0</td>\n",
       "      <td>-5.0</td>\n",
       "      <td>0.0</td>\n",
       "      <td>67.0</td>\n",
       "    </tr>\n",
       "    <tr>\n",
       "      <th>2021-01-01 00:10:00+00:00</th>\n",
       "      <td>931.0</td>\n",
       "      <td>9.0</td>\n",
       "      <td>-5.0</td>\n",
       "      <td>0.0</td>\n",
       "      <td>67.0</td>\n",
       "    </tr>\n",
       "    <tr>\n",
       "      <th>2021-01-01 00:12:00+00:00</th>\n",
       "      <td>926.0</td>\n",
       "      <td>5.0</td>\n",
       "      <td>-5.0</td>\n",
       "      <td>0.0</td>\n",
       "      <td>68.0</td>\n",
       "    </tr>\n",
       "    <tr>\n",
       "      <th>2021-01-01 00:14:00+00:00</th>\n",
       "      <td>907.0</td>\n",
       "      <td>4.0</td>\n",
       "      <td>-5.0</td>\n",
       "      <td>0.0</td>\n",
       "      <td>68.0</td>\n",
       "    </tr>\n",
       "    <tr>\n",
       "      <th>2021-01-01 00:16:00+00:00</th>\n",
       "      <td>926.0</td>\n",
       "      <td>5.0</td>\n",
       "      <td>-5.0</td>\n",
       "      <td>0.0</td>\n",
       "      <td>68.0</td>\n",
       "    </tr>\n",
       "    <tr>\n",
       "      <th>2021-01-01 00:18:00+00:00</th>\n",
       "      <td>926.0</td>\n",
       "      <td>6.0</td>\n",
       "      <td>-5.0</td>\n",
       "      <td>0.0</td>\n",
       "      <td>68.0</td>\n",
       "    </tr>\n",
       "  </tbody>\n",
       "</table>\n",
       "</div>"
      ],
      "text/plain": [
       "                           CO2ppm  H2Sppm  Humidity  NH3ppm  Temperature\n",
       "time                                                                    \n",
       "2021-01-01 00:00:00+00:00   916.0     9.0      -5.0     0.0         68.0\n",
       "2021-01-01 00:02:00+00:00   907.0     5.0      -5.0     0.0         68.0\n",
       "2021-01-01 00:04:00+00:00   924.0     4.0      -5.0     0.0         68.0\n",
       "2021-01-01 00:06:00+00:00   919.0     6.0      -5.0     0.0         68.0\n",
       "2021-01-01 00:08:00+00:00   923.0     5.0      -5.0     0.0         67.0\n",
       "2021-01-01 00:10:00+00:00   931.0     9.0      -5.0     0.0         67.0\n",
       "2021-01-01 00:12:00+00:00   926.0     5.0      -5.0     0.0         68.0\n",
       "2021-01-01 00:14:00+00:00   907.0     4.0      -5.0     0.0         68.0\n",
       "2021-01-01 00:16:00+00:00   926.0     5.0      -5.0     0.0         68.0\n",
       "2021-01-01 00:18:00+00:00   926.0     6.0      -5.0     0.0         68.0"
      ]
     },
     "execution_count": 46,
     "metadata": {},
     "output_type": "execute_result"
    }
   ],
   "source": [
    "# 설정한 기간 중, number 개수만큼 데이터 가져오기\n",
    "data_limit_by_time = db_client.get_data_limit_by_time(start_time, end_time, number, db_name, ms_name)\n",
    "data_limit_by_time"
   ]
  },
  {
   "cell_type": "code",
   "execution_count": 48,
   "id": "a2e45f90",
   "metadata": {},
   "outputs": [
    {
     "data": {
      "text/plain": [
       "'0 days 00:02:00'"
      ]
     },
     "execution_count": 48,
     "metadata": {},
     "output_type": "execute_result"
    }
   ],
   "source": [
    "# Data 주기\n",
    "data_freq = db_client.get_freq(db_name, ms_name)\n",
    "data_freq"
   ]
  },
  {
   "cell_type": "code",
   "execution_count": 49,
   "id": "d0f5351a",
   "metadata": {},
   "outputs": [
    {
     "data": {
      "text/plain": [
       "148098"
      ]
     },
     "execution_count": 49,
     "metadata": {},
     "output_type": "execute_result"
    }
   ],
   "source": [
    "# Data 개수\n",
    "data_count = db_client.get_data_count(db_name, ms_name)\n",
    "data_count"
   ]
  },
  {
   "cell_type": "code",
   "execution_count": null,
   "id": "0b7f95a6",
   "metadata": {},
   "outputs": [],
   "source": []
  },
  {
   "cell_type": "code",
   "execution_count": null,
   "id": "669b8396",
   "metadata": {},
   "outputs": [],
   "source": []
  }
 ],
 "metadata": {
  "kernelspec": {
   "display_name": "Python 3",
   "language": "python",
   "name": "python3"
  },
  "language_info": {
   "codemirror_mode": {
    "name": "ipython",
    "version": 3
   },
   "file_extension": ".py",
   "mimetype": "text/x-python",
   "name": "python",
   "nbconvert_exporter": "python",
   "pygments_lexer": "ipython3",
   "version": "3.8.8"
  }
 },
 "nbformat": 4,
 "nbformat_minor": 5
}
